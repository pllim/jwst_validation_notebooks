{
 "cells": [
  {
   "cell_type": "markdown",
   "id": "awful-custom",
   "metadata": {},
   "source": [
    "<a id=\"title_ID\"></a>\n",
    "# JWST Pipeline Validation Notebook: Outlier Detection for MIRI MRS\n",
    "\n",
    "<span style=\"color:red\"> **Instruments Affected**</span>: MIRI\n",
    "\n",
    "\n",
    "Tested on MIRI Simulated data\n",
    "\n"
   ]
  },
  {
   "cell_type": "markdown",
   "id": "imperial-blast",
   "metadata": {},
   "source": [
    "#### Author: Isha Nayak"
   ]
  },
  {
   "cell_type": "markdown",
   "id": "aggressive-porter",
   "metadata": {},
   "source": [
    "This notebook checks the outlier detection step of the pipeline during calwebb_spec3 for Channel 1 long wavelengths.\n",
    "\n",
    "First this notebook checks ten different locations in the detector and confirm these pixels in the detector fall in the range of the Channel 1 long wavelength range (6.42 - 7.51 microns). These outliers range from 3000 to 30000 in value to make sure a range of outlier values can be detected in the pipeline. After the outliers are injected in the detector frame, a file is saved.\n",
    "\n",
    "We then run the cube build step (without outlier detection) and name this file with suffix 'before' to denote the effect before outlier detection step. Then we run outlier detection and cube build steps of calwebb_spec3. The output from the second run ends in suffix 'after' since this is after the outlier detection step has been run.\n",
    "\n",
    "The image and the mask in the detector frame is shown to confirm proper (x,y) coordinates have been chosen. Then the cube slice of the expected outlier is shown with and without the outlier detector step for each of the ten outliers inserted. \n",
    "\n",
    "Outliers at varying flux levels get detected and removed with the pipeline. The flux of the central source different when using outlier detection in comparison to when not using outlier detection. This difference is as high as 35%. We set this as the criteria for passing."
   ]
  },
  {
   "cell_type": "code",
   "execution_count": 1,
   "id": "34d1e48b",
   "metadata": {
    "execution": {
     "iopub.execute_input": "2022-06-21T01:16:10.794401Z",
     "iopub.status.busy": "2022-06-21T01:16:10.794134Z",
     "iopub.status.idle": "2022-06-21T01:16:10.803190Z",
     "shell.execute_reply": "2022-06-21T01:16:10.802522Z"
    }
   },
   "outputs": [
    {
     "name": "stdout",
     "output_type": "stream",
     "text": [
      "CRDS cache location: /grp/crds/cache\n"
     ]
    }
   ],
   "source": [
    "import os\n",
    "if 'CRDS_CACHE_TYPE' in os.environ:\n",
    "    if os.environ['CRDS_CACHE_TYPE'] == 'local':\n",
    "        os.environ['CRDS_PATH'] = os.path.join(os.environ['HOME'], 'crds', 'cache')\n",
    "    elif os.path.isdir(os.environ['CRDS_CACHE_TYPE']):\n",
    "        os.environ['CRDS_PATH'] = os.environ['CRDS_CACHE_TYPE']\n",
    "print('CRDS cache location: {}'.format(os.environ['CRDS_PATH']))"
   ]
  },
  {
   "cell_type": "code",
   "execution_count": 2,
   "id": "rubber-wyoming",
   "metadata": {
    "execution": {
     "iopub.execute_input": "2022-06-21T01:16:10.807173Z",
     "iopub.status.busy": "2022-06-21T01:16:10.806499Z",
     "iopub.status.idle": "2022-06-21T01:16:12.851803Z",
     "shell.execute_reply": "2022-06-21T01:16:12.851055Z"
    },
    "scrolled": false
   },
   "outputs": [],
   "source": [
    "# Basic system utilities for interacting with files\n",
    "import glob, sys, os, time\n",
    "\n",
    "# Astropy utilities for opening FITS and ASCII files\n",
    "from astropy.io import fits\n",
    "from astropy.io import ascii\n",
    "\n",
    "# Astropy utilities for making plots\n",
    "from astropy.visualization import (LinearStretch, LogStretch, ImageNormalize, ZScaleInterval)\n",
    "\n",
    "# Numpy for doing calculations\n",
    "import numpy as np\n",
    "\n",
    "# Matplotlib for making plots\n",
    "import matplotlib.pyplot as plt\n",
    "from matplotlib import rc\n",
    "\n",
    "# JWST pipelines\n",
    "from jwst.pipeline import Detector1Pipeline\n",
    "from jwst.pipeline import Spec2Pipeline\n",
    "from jwst.pipeline import Spec3Pipeline\n",
    "\n",
    "# Individual JWST pipeline steps\n",
    "from jwst.assign_wcs import AssignWcsStep\n",
    "from jwst.background import BackgroundStep\n",
    "from jwst.flatfield import FlatFieldStep\n",
    "from jwst.srctype import SourceTypeStep\n",
    "from jwst.straylight import StraylightStep\n",
    "from jwst.fringe import FringeStep\n",
    "from jwst.photom import PhotomStep\n",
    "from jwst.cube_build import CubeBuildStep\n",
    "from jwst.extract_1d import Extract1dStep\n",
    "from jwst.cube_skymatch import CubeSkyMatchStep\n",
    "from jwst.master_background import MasterBackgroundStep\n",
    "from jwst.outlier_detection import OutlierDetectionStep\n",
    "from jwst.extract_1d import Extract1dStep\n",
    "\n",
    "# JWST pipeline utilities\n",
    "from jwst.datamodels import dqflags\n",
    "from jwst import datamodels\n",
    "from jwst.associations import asn_from_list as afl\n",
    "from jwst.associations.lib.rules_level2_base import DMSLevel2bBase\n",
    "from jwst.associations.lib.rules_level3_base import DMS_Level3_Base\n",
    "import stcal\n",
    "\n",
    "# MIRIcoord for detector to pixel conversion\n",
    "import miricoord\n",
    "import miricoord.mrs.mrs_tools as mt\n",
    "\n",
    "# Box download imports \n",
    "from astropy.utils.data import download_file\n",
    "from pathlib import Path\n",
    "from shutil import move\n",
    "from os.path import splitext"
   ]
  },
  {
   "cell_type": "markdown",
   "id": "aeedb3b2",
   "metadata": {},
   "source": [
    "### Create a temporary location for the data"
   ]
  },
  {
   "cell_type": "code",
   "execution_count": 3,
   "id": "1429cecb",
   "metadata": {
    "execution": {
     "iopub.execute_input": "2022-06-21T01:16:12.856024Z",
     "iopub.status.busy": "2022-06-21T01:16:12.855446Z",
     "iopub.status.idle": "2022-06-21T01:16:12.860984Z",
     "shell.execute_reply": "2022-06-21T01:16:12.860278Z"
    }
   },
   "outputs": [
    {
     "name": "stdout",
     "output_type": "stream",
     "text": [
      "Running in /internal/data1/jenkins/workspace/Notebooks/jwst_validation_notebooks_spacetelescope/tmp/tmppk_07q2o\n"
     ]
    }
   ],
   "source": [
    "# Create a temporary directory to hold notebook output, and change the working directory to that directory.\n",
    "from tempfile import TemporaryDirectory\n",
    "import os\n",
    "data_dir = TemporaryDirectory()\n",
    "os.chdir(data_dir.name)\n",
    "\n",
    "# For info, print out where the script is running\n",
    "print(\"Running in {}\".format(os.getcwd()))"
   ]
  },
  {
   "cell_type": "code",
   "execution_count": 4,
   "id": "62549f04",
   "metadata": {
    "execution": {
     "iopub.execute_input": "2022-06-21T01:16:12.863635Z",
     "iopub.status.busy": "2022-06-21T01:16:12.863114Z",
     "iopub.status.idle": "2022-06-21T01:16:12.867817Z",
     "shell.execute_reply": "2022-06-21T01:16:12.866879Z"
    }
   },
   "outputs": [
    {
     "name": "stdout",
     "output_type": "stream",
     "text": [
      "1.5.3\n"
     ]
    }
   ],
   "source": [
    "# Check JWST version\n",
    "import jwst\n",
    "print(jwst.__version__ )"
   ]
  },
  {
   "cell_type": "code",
   "execution_count": 5,
   "id": "247096ba",
   "metadata": {
    "execution": {
     "iopub.execute_input": "2022-06-21T01:16:12.870556Z",
     "iopub.status.busy": "2022-06-21T01:16:12.869910Z",
     "iopub.status.idle": "2022-06-21T01:16:12.874038Z",
     "shell.execute_reply": "2022-06-21T01:16:12.873345Z"
    }
   },
   "outputs": [
    {
     "name": "stdout",
     "output_type": "stream",
     "text": [
      "0.7.3\n"
     ]
    }
   ],
   "source": [
    "# Check stcal version\n",
    "print(stcal.__version__ )"
   ]
  },
  {
   "cell_type": "markdown",
   "id": "e95cecdb",
   "metadata": {},
   "source": [
    "### Read in data from Box"
   ]
  },
  {
   "cell_type": "code",
   "execution_count": 6,
   "id": "0056b537",
   "metadata": {
    "execution": {
     "iopub.execute_input": "2022-06-21T01:16:12.876799Z",
     "iopub.status.busy": "2022-06-21T01:16:12.876233Z",
     "iopub.status.idle": "2022-06-21T01:16:12.880763Z",
     "shell.execute_reply": "2022-06-21T01:16:12.880070Z"
    }
   },
   "outputs": [],
   "source": [
    "# Function for Box files\n",
    "def get_box_files(file_list):\n",
    "    for box_url,file_name in file_list:\n",
    "        if 'https' not in box_url:\n",
    "            box_url = 'https://stsci.box.com/shared/static/' + box_url\n",
    "        downloaded_file = download_file(box_url)\n",
    "        if Path(file_name).suffix == '':\n",
    "            ext = splitext(box_url)[1]\n",
    "            file_name += ext\n",
    "        move(downloaded_file, file_name)"
   ]
  },
  {
   "cell_type": "code",
   "execution_count": 7,
   "id": "70c3b826",
   "metadata": {
    "execution": {
     "iopub.execute_input": "2022-06-21T01:16:12.884421Z",
     "iopub.status.busy": "2022-06-21T01:16:12.883938Z",
     "iopub.status.idle": "2022-06-21T01:16:26.146854Z",
     "shell.execute_reply": "2022-06-21T01:16:26.145634Z"
    }
   },
   "outputs": [],
   "source": [
    "# Get the files from Box\n",
    "file_urls = ['https://stsci.box.com/shared/static/7va325g09uesfh9wb569sedcefll4cv3.fits', \n",
    "                  'https://stsci.box.com/shared/static/jsyf3k5frn4w3zzw7hrqbbe92iszgye5.fits',   \n",
    "                  'https://stsci.box.com/shared/static/6tlbhwco7qz98qvnew6x0797cugp68re.fits',    \n",
    "                  'https://stsci.box.com/shared/static/w3oj50ei9py7i9e9jmi3d2oyr40127us.fits '] \n",
    "file_names = ['det_image_seq1_MIRIFUSHORT_12LONGexp1_cal.fits',              \n",
    "               'det_image_seq2_MIRIFUSHORT_12LONGexp1_cal.fits',             \n",
    "               'det_image_seq3_MIRIFUSHORT_12LONGexp1_cal.fits',            \n",
    "               'det_image_seq4_MIRIFUSHORT_12LONGexp1_cal.fits']  \n",
    "box_download_list = [(url,name) for url,name in zip(file_urls,file_names)]  \n",
    "get_box_files(box_download_list)"
   ]
  },
  {
   "cell_type": "markdown",
   "id": "dc9a1b20",
   "metadata": {},
   "source": [
    "### Start data processing"
   ]
  },
  {
   "cell_type": "code",
   "execution_count": 8,
   "id": "6496461d",
   "metadata": {
    "execution": {
     "iopub.execute_input": "2022-06-21T01:16:26.153049Z",
     "iopub.status.busy": "2022-06-21T01:16:26.152649Z",
     "iopub.status.idle": "2022-06-21T01:16:26.158940Z",
     "shell.execute_reply": "2022-06-21T01:16:26.158266Z"
    }
   },
   "outputs": [
    {
     "name": "stdout",
     "output_type": "stream",
     "text": [
      "['det_image_seq1_MIRIFUSHORT_12LONGexp1_cal.fits', 'det_image_seq2_MIRIFUSHORT_12LONGexp1_cal.fits', 'det_image_seq3_MIRIFUSHORT_12LONGexp1_cal.fits', 'det_image_seq4_MIRIFUSHORT_12LONGexp1_cal.fits']\n"
     ]
    }
   ],
   "source": [
    "# Look for our _rate.fits files produced by the Detector1 pipeline\n",
    "sstring='det*cal.fits'\n",
    "calfiles=sorted(glob.glob(sstring))\n",
    "print(calfiles)"
   ]
  },
  {
   "cell_type": "code",
   "execution_count": 9,
   "id": "suited-macro",
   "metadata": {
    "execution": {
     "iopub.execute_input": "2022-06-21T01:16:26.162812Z",
     "iopub.status.busy": "2022-06-21T01:16:26.162337Z",
     "iopub.status.idle": "2022-06-21T01:16:26.995616Z",
     "shell.execute_reply": "2022-06-21T01:16:26.994844Z"
    }
   },
   "outputs": [
    {
     "ename": "FileNotFoundError",
     "evalue": "[Errno 2] No such file or directory: '/internal/data1/jenkins/workspace/Notebooks/jwst_validation_notebooks_spacetelescope/miniconda3/envs/jwst_validation_notebooks/data/fits/flt1/MIRI_FM_MIRIFUSHORT_12LONG_DISTORTION_9B.05.00.fits'",
     "output_type": "error",
     "traceback": [
      "\u001b[0;31m---------------------------------------------------------------------------\u001b[0m",
      "\u001b[0;31mFileNotFoundError\u001b[0m                         Traceback (most recent call last)",
      "Input \u001b[0;32mIn [9]\u001b[0m, in \u001b[0;36m<cell line: 5>\u001b[0;34m()\u001b[0m\n\u001b[1;32m      7\u001b[0m \u001b[38;5;28;01mfor\u001b[39;00m i \u001b[38;5;129;01min\u001b[39;00m \u001b[38;5;28mrange\u001b[39m(\u001b[38;5;241m355\u001b[39m, \u001b[38;5;241m358\u001b[39m):\n\u001b[1;32m      8\u001b[0m     \u001b[38;5;28;01mfor\u001b[39;00m j \u001b[38;5;129;01min\u001b[39;00m \u001b[38;5;28mrange\u001b[39m(\u001b[38;5;241m20\u001b[39m\u001b[38;5;241m+\u001b[39m(n\u001b[38;5;241m*\u001b[39mskip), \u001b[38;5;241m23\u001b[39m\u001b[38;5;241m+\u001b[39m(n\u001b[38;5;241m*\u001b[39mskip)):\n\u001b[0;32m----> 9\u001b[0m         values\u001b[38;5;241m=\u001b[39m\u001b[43mmt\u001b[49m\u001b[38;5;241;43m.\u001b[39;49m\u001b[43mxytoabl\u001b[49m\u001b[43m(\u001b[49m\u001b[43m[\u001b[49m\u001b[43mi\u001b[49m\u001b[43m]\u001b[49m\u001b[43m,\u001b[49m\u001b[43m[\u001b[49m\u001b[43mj\u001b[49m\u001b[43m]\u001b[49m\u001b[43m,\u001b[49m\u001b[38;5;124;43m'\u001b[39;49m\u001b[38;5;124;43m1C\u001b[39;49m\u001b[38;5;124;43m'\u001b[39;49m\u001b[43m)\u001b[49m\n\u001b[1;32m     10\u001b[0m         lambda_wav[count]\u001b[38;5;241m=\u001b[39mvalues[\u001b[38;5;124m'\u001b[39m\u001b[38;5;124mlam\u001b[39m\u001b[38;5;124m'\u001b[39m]\n\u001b[1;32m     11\u001b[0m         count\u001b[38;5;241m=\u001b[39mcount\u001b[38;5;241m+\u001b[39m\u001b[38;5;241m1\u001b[39m\n",
      "File \u001b[0;32m~/miniconda3/envs/jwst_validation_notebooks/lib/python3.10/site-packages/miricoord/mrs/mrs_tools.py:389\u001b[0m, in \u001b[0;36mxytoabl\u001b[0;34m(x, y, channel, **kwargs)\u001b[0m\n\u001b[1;32m    386\u001b[0m \u001b[38;5;28;01mexcept\u001b[39;00m:\n\u001b[1;32m    387\u001b[0m     set_toolversion(\u001b[38;5;124m'\u001b[39m\u001b[38;5;124mdefault\u001b[39m\u001b[38;5;124m'\u001b[39m)\n\u001b[0;32m--> 389\u001b[0m values\u001b[38;5;241m=\u001b[39m\u001b[43mtv\u001b[49m\u001b[38;5;241;43m.\u001b[39;49m\u001b[43mxytoabl\u001b[49m\u001b[43m(\u001b[49m\u001b[43mx\u001b[49m\u001b[43m,\u001b[49m\u001b[43my\u001b[49m\u001b[43m,\u001b[49m\u001b[43mchannel\u001b[49m\u001b[43m,\u001b[49m\u001b[38;5;241;43m*\u001b[39;49m\u001b[38;5;241;43m*\u001b[39;49m\u001b[43mkwargs\u001b[49m\u001b[43m)\u001b[49m\n\u001b[1;32m    391\u001b[0m \u001b[38;5;28;01mreturn\u001b[39;00m values\n",
      "File \u001b[0;32m~/miniconda3/envs/jwst_validation_notebooks/lib/python3.10/site-packages/miricoord/mrs/toolversions/mrs_tools_flt1.py:263\u001b[0m, in \u001b[0;36mxytoabl\u001b[0;34m(xin, yin, channel, **kwargs)\u001b[0m\n\u001b[1;32m    260\u001b[0m     y\u001b[38;5;241m=\u001b[39mnp\u001b[38;5;241m.\u001b[39marray([yin])\u001b[38;5;241m*\u001b[39m\u001b[38;5;241m1.0\u001b[39m\n\u001b[1;32m    262\u001b[0m \u001b[38;5;66;03m# Open relevant distortion file\u001b[39;00m\n\u001b[0;32m--> 263\u001b[0m distfile\u001b[38;5;241m=\u001b[39m\u001b[43mfits\u001b[49m\u001b[38;5;241;43m.\u001b[39;49m\u001b[43mopen\u001b[49m\u001b[43m(\u001b[49m\u001b[43mget_fitsreffile\u001b[49m\u001b[43m(\u001b[49m\u001b[43mchannel\u001b[49m\u001b[43m)\u001b[49m\u001b[43m)\u001b[49m\n\u001b[1;32m    265\u001b[0m \u001b[38;5;66;03m# Read global header\u001b[39;00m\n\u001b[1;32m    266\u001b[0m hdr\u001b[38;5;241m=\u001b[39mdistfile[\u001b[38;5;241m0\u001b[39m]\u001b[38;5;241m.\u001b[39mheader\n",
      "File \u001b[0;32m~/miniconda3/envs/jwst_validation_notebooks/lib/python3.10/site-packages/astropy/io/fits/hdu/hdulist.py:175\u001b[0m, in \u001b[0;36mfitsopen\u001b[0;34m(name, mode, memmap, save_backup, cache, lazy_load_hdus, ignore_missing_simple, **kwargs)\u001b[0m\n\u001b[1;32m    172\u001b[0m \u001b[38;5;28;01mif\u001b[39;00m \u001b[38;5;129;01mnot\u001b[39;00m name:\n\u001b[1;32m    173\u001b[0m     \u001b[38;5;28;01mraise\u001b[39;00m \u001b[38;5;167;01mValueError\u001b[39;00m(\u001b[38;5;124mf\u001b[39m\u001b[38;5;124m'\u001b[39m\u001b[38;5;124mEmpty filename: \u001b[39m\u001b[38;5;132;01m{\u001b[39;00mname\u001b[38;5;132;01m!r}\u001b[39;00m\u001b[38;5;124m'\u001b[39m)\n\u001b[0;32m--> 175\u001b[0m \u001b[38;5;28;01mreturn\u001b[39;00m \u001b[43mHDUList\u001b[49m\u001b[38;5;241;43m.\u001b[39;49m\u001b[43mfromfile\u001b[49m\u001b[43m(\u001b[49m\u001b[43mname\u001b[49m\u001b[43m,\u001b[49m\u001b[43m \u001b[49m\u001b[43mmode\u001b[49m\u001b[43m,\u001b[49m\u001b[43m \u001b[49m\u001b[43mmemmap\u001b[49m\u001b[43m,\u001b[49m\u001b[43m \u001b[49m\u001b[43msave_backup\u001b[49m\u001b[43m,\u001b[49m\u001b[43m \u001b[49m\u001b[43mcache\u001b[49m\u001b[43m,\u001b[49m\n\u001b[1;32m    176\u001b[0m \u001b[43m                        \u001b[49m\u001b[43mlazy_load_hdus\u001b[49m\u001b[43m,\u001b[49m\u001b[43m \u001b[49m\u001b[43mignore_missing_simple\u001b[49m\u001b[43m,\u001b[49m\u001b[43m \u001b[49m\u001b[38;5;241;43m*\u001b[39;49m\u001b[38;5;241;43m*\u001b[39;49m\u001b[43mkwargs\u001b[49m\u001b[43m)\u001b[49m\n",
      "File \u001b[0;32m~/miniconda3/envs/jwst_validation_notebooks/lib/python3.10/site-packages/astropy/io/fits/hdu/hdulist.py:410\u001b[0m, in \u001b[0;36mHDUList.fromfile\u001b[0;34m(cls, fileobj, mode, memmap, save_backup, cache, lazy_load_hdus, ignore_missing_simple, **kwargs)\u001b[0m\n\u001b[1;32m    398\u001b[0m \u001b[38;5;129m@classmethod\u001b[39m\n\u001b[1;32m    399\u001b[0m \u001b[38;5;28;01mdef\u001b[39;00m \u001b[38;5;21mfromfile\u001b[39m(\u001b[38;5;28mcls\u001b[39m, fileobj, mode\u001b[38;5;241m=\u001b[39m\u001b[38;5;28;01mNone\u001b[39;00m, memmap\u001b[38;5;241m=\u001b[39m\u001b[38;5;28;01mNone\u001b[39;00m,\n\u001b[1;32m    400\u001b[0m              save_backup\u001b[38;5;241m=\u001b[39m\u001b[38;5;28;01mFalse\u001b[39;00m, cache\u001b[38;5;241m=\u001b[39m\u001b[38;5;28;01mTrue\u001b[39;00m, lazy_load_hdus\u001b[38;5;241m=\u001b[39m\u001b[38;5;28;01mTrue\u001b[39;00m,\n\u001b[1;32m    401\u001b[0m              ignore_missing_simple\u001b[38;5;241m=\u001b[39m\u001b[38;5;28;01mFalse\u001b[39;00m, \u001b[38;5;241m*\u001b[39m\u001b[38;5;241m*\u001b[39mkwargs):\n\u001b[1;32m    402\u001b[0m     \u001b[38;5;124;03m\"\"\"\u001b[39;00m\n\u001b[1;32m    403\u001b[0m \u001b[38;5;124;03m    Creates an `HDUList` instance from a file-like object.\u001b[39;00m\n\u001b[1;32m    404\u001b[0m \n\u001b[0;32m   (...)\u001b[0m\n\u001b[1;32m    407\u001b[0m \u001b[38;5;124;03m    documentation for details of the parameters accepted by this method).\u001b[39;00m\n\u001b[1;32m    408\u001b[0m \u001b[38;5;124;03m    \"\"\"\u001b[39;00m\n\u001b[0;32m--> 410\u001b[0m     \u001b[38;5;28;01mreturn\u001b[39;00m \u001b[38;5;28;43mcls\u001b[39;49m\u001b[38;5;241;43m.\u001b[39;49m\u001b[43m_readfrom\u001b[49m\u001b[43m(\u001b[49m\u001b[43mfileobj\u001b[49m\u001b[38;5;241;43m=\u001b[39;49m\u001b[43mfileobj\u001b[49m\u001b[43m,\u001b[49m\u001b[43m \u001b[49m\u001b[43mmode\u001b[49m\u001b[38;5;241;43m=\u001b[39;49m\u001b[43mmode\u001b[49m\u001b[43m,\u001b[49m\u001b[43m \u001b[49m\u001b[43mmemmap\u001b[49m\u001b[38;5;241;43m=\u001b[39;49m\u001b[43mmemmap\u001b[49m\u001b[43m,\u001b[49m\n\u001b[1;32m    411\u001b[0m \u001b[43m                         \u001b[49m\u001b[43msave_backup\u001b[49m\u001b[38;5;241;43m=\u001b[39;49m\u001b[43msave_backup\u001b[49m\u001b[43m,\u001b[49m\u001b[43m \u001b[49m\u001b[43mcache\u001b[49m\u001b[38;5;241;43m=\u001b[39;49m\u001b[43mcache\u001b[49m\u001b[43m,\u001b[49m\n\u001b[1;32m    412\u001b[0m \u001b[43m                         \u001b[49m\u001b[43mignore_missing_simple\u001b[49m\u001b[38;5;241;43m=\u001b[39;49m\u001b[43mignore_missing_simple\u001b[49m\u001b[43m,\u001b[49m\n\u001b[1;32m    413\u001b[0m \u001b[43m                         \u001b[49m\u001b[43mlazy_load_hdus\u001b[49m\u001b[38;5;241;43m=\u001b[39;49m\u001b[43mlazy_load_hdus\u001b[49m\u001b[43m,\u001b[49m\u001b[43m \u001b[49m\u001b[38;5;241;43m*\u001b[39;49m\u001b[38;5;241;43m*\u001b[39;49m\u001b[43mkwargs\u001b[49m\u001b[43m)\u001b[49m\n",
      "File \u001b[0;32m~/miniconda3/envs/jwst_validation_notebooks/lib/python3.10/site-packages/astropy/io/fits/hdu/hdulist.py:1060\u001b[0m, in \u001b[0;36mHDUList._readfrom\u001b[0;34m(cls, fileobj, data, mode, memmap, cache, lazy_load_hdus, ignore_missing_simple, **kwargs)\u001b[0m\n\u001b[1;32m   1057\u001b[0m \u001b[38;5;28;01mif\u001b[39;00m fileobj \u001b[38;5;129;01mis\u001b[39;00m \u001b[38;5;129;01mnot\u001b[39;00m \u001b[38;5;28;01mNone\u001b[39;00m:\n\u001b[1;32m   1058\u001b[0m     \u001b[38;5;28;01mif\u001b[39;00m \u001b[38;5;129;01mnot\u001b[39;00m \u001b[38;5;28misinstance\u001b[39m(fileobj, _File):\n\u001b[1;32m   1059\u001b[0m         \u001b[38;5;66;03m# instantiate a FITS file object (ffo)\u001b[39;00m\n\u001b[0;32m-> 1060\u001b[0m         fileobj \u001b[38;5;241m=\u001b[39m \u001b[43m_File\u001b[49m\u001b[43m(\u001b[49m\u001b[43mfileobj\u001b[49m\u001b[43m,\u001b[49m\u001b[43m \u001b[49m\u001b[43mmode\u001b[49m\u001b[38;5;241;43m=\u001b[39;49m\u001b[43mmode\u001b[49m\u001b[43m,\u001b[49m\u001b[43m \u001b[49m\u001b[43mmemmap\u001b[49m\u001b[38;5;241;43m=\u001b[39;49m\u001b[43mmemmap\u001b[49m\u001b[43m,\u001b[49m\u001b[43m \u001b[49m\u001b[43mcache\u001b[49m\u001b[38;5;241;43m=\u001b[39;49m\u001b[43mcache\u001b[49m\u001b[43m)\u001b[49m\n\u001b[1;32m   1061\u001b[0m     \u001b[38;5;66;03m# The Astropy mode is determined by the _File initializer if the\u001b[39;00m\n\u001b[1;32m   1062\u001b[0m     \u001b[38;5;66;03m# supplied mode was None\u001b[39;00m\n\u001b[1;32m   1063\u001b[0m     mode \u001b[38;5;241m=\u001b[39m fileobj\u001b[38;5;241m.\u001b[39mmode\n",
      "File \u001b[0;32m~/miniconda3/envs/jwst_validation_notebooks/lib/python3.10/site-packages/astropy/io/fits/file.py:170\u001b[0m, in \u001b[0;36m_File.__init__\u001b[0;34m(self, fileobj, mode, memmap, overwrite, cache)\u001b[0m\n\u001b[1;32m    168\u001b[0m     \u001b[38;5;28mself\u001b[39m\u001b[38;5;241m.\u001b[39m_open_fileobj(fileobj, mode, overwrite)\n\u001b[1;32m    169\u001b[0m \u001b[38;5;28;01melif\u001b[39;00m \u001b[38;5;28misinstance\u001b[39m(fileobj, (\u001b[38;5;28mstr\u001b[39m, \u001b[38;5;28mbytes\u001b[39m)):\n\u001b[0;32m--> 170\u001b[0m     \u001b[38;5;28;43mself\u001b[39;49m\u001b[38;5;241;43m.\u001b[39;49m\u001b[43m_open_filename\u001b[49m\u001b[43m(\u001b[49m\u001b[43mfileobj\u001b[49m\u001b[43m,\u001b[49m\u001b[43m \u001b[49m\u001b[43mmode\u001b[49m\u001b[43m,\u001b[49m\u001b[43m \u001b[49m\u001b[43moverwrite\u001b[49m\u001b[43m)\u001b[49m\n\u001b[1;32m    171\u001b[0m \u001b[38;5;28;01melse\u001b[39;00m:\n\u001b[1;32m    172\u001b[0m     \u001b[38;5;28mself\u001b[39m\u001b[38;5;241m.\u001b[39m_open_filelike(fileobj, mode, overwrite)\n",
      "File \u001b[0;32m~/miniconda3/envs/jwst_validation_notebooks/lib/python3.10/site-packages/astropy/io/fits/file.py:562\u001b[0m, in \u001b[0;36m_File._open_filename\u001b[0;34m(self, filename, mode, overwrite)\u001b[0m\n\u001b[1;32m    559\u001b[0m ext \u001b[38;5;241m=\u001b[39m os\u001b[38;5;241m.\u001b[39mpath\u001b[38;5;241m.\u001b[39msplitext(\u001b[38;5;28mself\u001b[39m\u001b[38;5;241m.\u001b[39mname)[\u001b[38;5;241m1\u001b[39m]\n\u001b[1;32m    561\u001b[0m \u001b[38;5;28;01mif\u001b[39;00m \u001b[38;5;129;01mnot\u001b[39;00m \u001b[38;5;28mself\u001b[39m\u001b[38;5;241m.\u001b[39m_try_read_compressed(\u001b[38;5;28mself\u001b[39m\u001b[38;5;241m.\u001b[39mname, magic, mode, ext\u001b[38;5;241m=\u001b[39mext):\n\u001b[0;32m--> 562\u001b[0m     \u001b[38;5;28mself\u001b[39m\u001b[38;5;241m.\u001b[39m_file \u001b[38;5;241m=\u001b[39m \u001b[38;5;28;43mopen\u001b[39;49m\u001b[43m(\u001b[49m\u001b[38;5;28;43mself\u001b[39;49m\u001b[38;5;241;43m.\u001b[39;49m\u001b[43mname\u001b[49m\u001b[43m,\u001b[49m\u001b[43m \u001b[49m\u001b[43mIO_FITS_MODES\u001b[49m\u001b[43m[\u001b[49m\u001b[43mmode\u001b[49m\u001b[43m]\u001b[49m\u001b[43m)\u001b[49m\n\u001b[1;32m    563\u001b[0m     \u001b[38;5;28mself\u001b[39m\u001b[38;5;241m.\u001b[39mclose_on_error \u001b[38;5;241m=\u001b[39m \u001b[38;5;28;01mTrue\u001b[39;00m\n\u001b[1;32m    565\u001b[0m \u001b[38;5;66;03m# Make certain we're back at the beginning of the file\u001b[39;00m\n\u001b[1;32m    566\u001b[0m \u001b[38;5;66;03m# BZ2File does not support seek when the file is open for writing, but\u001b[39;00m\n\u001b[1;32m    567\u001b[0m \u001b[38;5;66;03m# when opening a file for write, bz2.BZ2File always truncates anyway.\u001b[39;00m\n",
      "\u001b[0;31mFileNotFoundError\u001b[0m: [Errno 2] No such file or directory: '/internal/data1/jenkins/workspace/Notebooks/jwst_validation_notebooks_spacetelescope/miniconda3/envs/jwst_validation_notebooks/data/fits/flt1/MIRI_FM_MIRIFUSHORT_12LONG_DISTORTION_9B.05.00.fits'"
     ]
    }
   ],
   "source": [
    "# Check detector array to pixel array values for ten inserted outliers and check the exepected wavelength\n",
    "lambda_wav=[0.0]*9\n",
    "n=0\n",
    "skip=100\n",
    "for x in range(0, 10):\n",
    "    count=0\n",
    "    for i in range(355, 358):\n",
    "        for j in range(20+(n*skip), 23+(n*skip)):\n",
    "            values=mt.xytoabl([i],[j],'1C')\n",
    "            lambda_wav[count]=values['lam']\n",
    "            count=count+1\n",
    "    print(n+1)\n",
    "    print(min(lambda_wav))    \n",
    "    print(max(lambda_wav))\n",
    "    n=n+1"
   ]
  },
  {
   "cell_type": "code",
   "execution_count": null,
   "id": "sporting-bumper",
   "metadata": {},
   "outputs": [],
   "source": [
    "# Hack the file\n",
    "hdu=fits.open(calfiles[0])\n",
    "data=hdu['SCI'].data\n",
    "\n",
    "# Insert the ten outliers varying from 3000 to 30000\n",
    "n=0\n",
    "skip=100\n",
    "for x in range(0, 10):\n",
    "    for i in range(355,358):\n",
    "        for j in range(20+(n*skip), 23+(n*skip)):\n",
    "            data[j,i]=3000*(n+1)\n",
    "    n=n+1\n",
    "hdu['SCI'].data=data\n",
    "\n",
    "# Overwrite the file\n",
    "hdu.writeto(str.replace(calfiles[0],'cal','od_test'),overwrite=True)\n",
    "hdu.close()"
   ]
  },
  {
   "cell_type": "code",
   "execution_count": null,
   "id": "agreed-hampton",
   "metadata": {},
   "outputs": [],
   "source": [
    "# Define a useful function to write out a Lvl3 association file from an input list\n",
    "def writel3asn(files,asnfile,prodname,**kwargs):\n",
    "    asn = afl.asn_from_list(files,rule=DMS_Level3_Base,product_name=prodname)\n",
    "    if ('bg' in kwargs):\n",
    "        for bgfile in kwargs['bg']:\n",
    "            asn['products'][0]['members'].append({'expname': bgfile, 'exptype':'background'})\n",
    "    _, serialized = asn.dump()\n",
    "    with open(asnfile, 'w') as outfile:\n",
    "        outfile.write(serialized)"
   ]
  },
  {
   "cell_type": "code",
   "execution_count": null,
   "id": "improving-drinking",
   "metadata": {},
   "outputs": [],
   "source": [
    "# Create an association file\n",
    "testfiles=calfiles.copy()\n",
    "testfiles[0]=str.replace(calfiles[0],'cal','od_test')\n",
    "writel3asn(testfiles,'od.json','od')"
   ]
  },
  {
   "cell_type": "code",
   "execution_count": null,
   "id": "e28827fe",
   "metadata": {},
   "outputs": [],
   "source": [
    "# Run it through cube building calling the result 'od_before'\n",
    "cb=CubeBuildStep()\n",
    "cb.call('od.json',channel='1',save_results=True,output_file='od_before')"
   ]
  },
  {
   "cell_type": "code",
   "execution_count": null,
   "id": "respected-portfolio",
   "metadata": {},
   "outputs": [],
   "source": [
    "# Run this association through the Spec3 pipeline with just outlier detection and cube build\n",
    "spec3=Spec3Pipeline()\n",
    "spec3.save_results = True\n",
    "spec3.master_background.skip = True\n",
    "spec3.mrs_imatch.skip = True\n",
    "spec3.outlier_detection.save_intermediate_results = True\n",
    "spec3.outlier_detection.scale = '2.0 2.0'\n",
    "spec3.cube_build.channel='1'\n",
    "spec3.cube_build.output_file='od_after'\n",
    "spec3('od.json')"
   ]
  },
  {
   "cell_type": "code",
   "execution_count": null,
   "id": "caring-monroe",
   "metadata": {},
   "outputs": [],
   "source": [
    "# Show the image and mask\n",
    "hdu=fits.open('det_image_seq1_MIRIFUSHORT_12LONGexp1_od_test_a3001_crf.fits')\n",
    "flux=hdu['SCI'].data\n",
    "dq=hdu['DQ'].data\n",
    "\n",
    "# Use a classic ZScale normalization\n",
    "norm = ImageNormalize(flux, interval=ZScaleInterval(),stretch=LinearStretch())\n",
    "\n",
    "rc('axes', linewidth=2)            \n",
    "fig, (ax1,ax2) = plt.subplots(1,2, figsize=(7,7),dpi=100)\n",
    "\n",
    "# Plot the data to visually check outliers were inserted correctly\n",
    "ax1.imshow(flux, cmap='gray',norm=norm,origin='lower')\n",
    "ax1.set_title('2d SCI array')\n",
    "ax1.set_xlabel('X pixel')\n",
    "ax1.set_ylabel('Y pixel')\n",
    "ax1.set_xlim(340,370)\n",
    "ax1.set_ylim(0, 300)\n",
    "\n",
    "ax2.imshow(dq, cmap='gray',vmin=0,vmax=1,origin='lower')\n",
    "ax2.set_title('2d DQ array')\n",
    "ax2.set_xlabel('X pixel')\n",
    "ax2.set_xlim(340,370)\n",
    "ax2.set_ylim(0, 300)"
   ]
  },
  {
   "cell_type": "code",
   "execution_count": null,
   "id": "4c7af0da",
   "metadata": {},
   "outputs": [],
   "source": [
    "# Check DQ flags due to the the above plots being messy\n",
    "print('flux:', flux[21,355], 'DQ Flag:', dq[21,355], 'DQ Name:', dqflags.dqflags_to_mnemonics(dq[21,355],mnemonic_map=datamodels.dqflags.pixel))\n",
    "\n",
    "print('flux:',flux[121,355], 'DQ Flag:', dq[121,355], 'DQ Name:', dqflags.dqflags_to_mnemonics(dq[121,355],mnemonic_map=datamodels.dqflags.pixel))\n",
    "\n",
    "print('flux:',flux[221,355], 'DQ Flag:', dq[221,355], 'DQ Name:', dqflags.dqflags_to_mnemonics(dq[221,355],mnemonic_map=datamodels.dqflags.pixel))\n",
    "\n",
    "print('flux:',flux[321,355], 'DQ Flag:', dq[321,355], 'DQ Name:', dqflags.dqflags_to_mnemonics(dq[321,355],mnemonic_map=datamodels.dqflags.pixel))\n",
    "\n",
    "print('flux:',flux[421,355], 'DQ Flag:', dq[421,355], 'DQ Name:', dqflags.dqflags_to_mnemonics(dq[421,355],mnemonic_map=datamodels.dqflags.pixel))\n",
    "\n",
    "print('flux:',flux[521,355], 'DQ Flag:', dq[521,355], 'DQ Name:', dqflags.dqflags_to_mnemonics(dq[521,355],mnemonic_map=datamodels.dqflags.pixel))\n",
    "\n",
    "print('flux:',flux[621,355], 'DQ Flag:', dq[621,355], 'DQ Name:', dqflags.dqflags_to_mnemonics(dq[621,355],mnemonic_map=datamodels.dqflags.pixel))\n",
    "\n",
    "print('flux:',flux[721,355], 'DQ Flag:', dq[721,355], 'DQ Name:', dqflags.dqflags_to_mnemonics(dq[721,355],mnemonic_map=datamodels.dqflags.pixel))\n",
    "\n",
    "print('flux:',flux[821,355], 'DQ Flag:', dq[821,355], 'DQ Name:', dqflags.dqflags_to_mnemonics(dq[821,355],mnemonic_map=datamodels.dqflags.pixel))\n",
    "\n",
    "print('flux:',flux[921,355], 'DQ Flag:', dq[921,355], 'DQ Name:', dqflags.dqflags_to_mnemonics(dq[921,355],mnemonic_map=datamodels.dqflags.pixel))"
   ]
  },
  {
   "cell_type": "code",
   "execution_count": null,
   "id": "entitled-surfing",
   "metadata": {},
   "outputs": [],
   "source": [
    "# Close files\n",
    "hdu.close()"
   ]
  },
  {
   "cell_type": "code",
   "execution_count": null,
   "id": "spread-contrary",
   "metadata": {},
   "outputs": [],
   "source": [
    "# Cube without outlier rejection\n",
    "hdu1=fits.open('od_before_ch1-long_s3d.fits')\n",
    "flux1=hdu1['SCI'].data\n",
    "\n",
    "# Cube with outlier rejection\n",
    "hdu2=fits.open('od_after_ch1-long_s3d.fits')\n",
    "flux2=hdu2['SCI'].data\n",
    "\n",
    "# Use a classic ZScale normalization\n",
    "norm = ImageNormalize(flux1, interval=ZScaleInterval(),stretch=LinearStretch())"
   ]
  },
  {
   "cell_type": "code",
   "execution_count": null,
   "id": "supported-church",
   "metadata": {},
   "outputs": [],
   "source": [
    "rc('axes', linewidth=2)            \n",
    "fig, (ax1,ax2) = plt.subplots(1, 2, figsize=(7,7),dpi=100)\n",
    "\n",
    "# Plot data\n",
    "ax1.imshow(flux1[1,:,:], cmap='gray',norm=norm,origin='lower')\n",
    "ax1.set_title('No Outlier Det., Input 3000')\n",
    "\n",
    "ax2.imshow(flux2[1,:,:], cmap='gray',norm=norm,origin='lower')\n",
    "ax2.set_title('With Outlier Det., Input 3000')"
   ]
  },
  {
   "cell_type": "code",
   "execution_count": null,
   "id": "quiet-portrait",
   "metadata": {},
   "outputs": [],
   "source": [
    "rc('axes', linewidth=2)            \n",
    "fig, (ax1,ax2) = plt.subplots(1, 2, figsize=(7,7),dpi=100)\n",
    "\n",
    "# Plot data\n",
    "ax1.imshow(flux1[126,:,:], cmap='gray',norm=norm,origin='lower')\n",
    "ax1.set_title('No Outlier Det., Input 6000')\n",
    "\n",
    "ax2.imshow(flux2[126,:,:], cmap='gray',norm=norm,origin='lower')\n",
    "ax2.set_title('With Outlier Det., Input 6000')"
   ]
  },
  {
   "cell_type": "code",
   "execution_count": null,
   "id": "enabling-irrigation",
   "metadata": {},
   "outputs": [],
   "source": [
    "rc('axes', linewidth=2)            \n",
    "fig, (ax1,ax2) = plt.subplots(1, 2, figsize=(7,7),dpi=100)\n",
    "\n",
    "# Plot data\n",
    "ax1.imshow(flux1[249,:,:], cmap='gray',norm=norm,origin='lower')\n",
    "ax1.set_title('No Outlier Det., Input 9000')\n",
    "\n",
    "ax2.imshow(flux2[249,:,:], cmap='gray',norm=norm,origin='lower')\n",
    "ax2.set_title('With Outlier Det., Input 9000')"
   ]
  },
  {
   "cell_type": "code",
   "execution_count": null,
   "id": "dried-fancy",
   "metadata": {},
   "outputs": [],
   "source": [
    "rc('axes', linewidth=2)            \n",
    "fig, (ax1,ax2) = plt.subplots(1, 2, figsize=(7,7),dpi=100)\n",
    "\n",
    "# Plot data\n",
    "ax1.imshow(flux1[369,:,:], cmap='gray',norm=norm,origin='lower')\n",
    "ax1.set_title('No Outlier Det., Input 12000')\n",
    "\n",
    "ax2.imshow(flux2[369,:,:], cmap='gray',norm=norm,origin='lower')\n",
    "ax2.set_title('With Outlier Det., Input 12000')"
   ]
  },
  {
   "cell_type": "code",
   "execution_count": null,
   "id": "operational-travel",
   "metadata": {},
   "outputs": [],
   "source": [
    "rc('axes', linewidth=2)            \n",
    "fig, (ax1,ax2) = plt.subplots(1, 2, figsize=(7,7),dpi=100)\n",
    "\n",
    "# Plot data\n",
    "ax1.imshow(flux1[486,:,:], cmap='gray',norm=norm,origin='lower')\n",
    "ax1.set_title('No Outlier Det., Input 15000')\n",
    "\n",
    "ax2.imshow(flux2[486,:,:], cmap='gray',norm=norm,origin='lower')\n",
    "ax2.set_title('With Outlier Det., Input 15000')"
   ]
  },
  {
   "cell_type": "code",
   "execution_count": null,
   "id": "vulnerable-basics",
   "metadata": {},
   "outputs": [],
   "source": [
    "rc('axes', linewidth=2)            \n",
    "fig, (ax1,ax2) = plt.subplots(1, 2, figsize=(7,7),dpi=100)\n",
    "\n",
    "# Plot data\n",
    "ax1.imshow(flux1[600,:,:], cmap='gray',norm=norm,origin='lower')\n",
    "ax1.set_title('No Outlier Det., Input 18000')\n",
    "\n",
    "ax2.imshow(flux2[600,:,:], cmap='gray',norm=norm,origin='lower')\n",
    "ax2.set_title('With Outlier Det., Input 18000')"
   ]
  },
  {
   "cell_type": "code",
   "execution_count": null,
   "id": "played-small",
   "metadata": {},
   "outputs": [],
   "source": [
    "rc('axes', linewidth=2)            \n",
    "fig, (ax1,ax2) = plt.subplots(1, 2, figsize=(7,7),dpi=100)\n",
    "\n",
    "# Plot data\n",
    "ax1.imshow(flux1[712,:,:], cmap='gray',norm=norm,origin='lower')\n",
    "ax1.set_title('No Outlier Det., Input 21000')\n",
    "\n",
    "ax2.imshow(flux2[712,:,:], cmap='gray',norm=norm,origin='lower')\n",
    "ax2.set_title('With Outlier Det., Input 21000')"
   ]
  },
  {
   "cell_type": "code",
   "execution_count": null,
   "id": "altered-threshold",
   "metadata": {},
   "outputs": [],
   "source": [
    "rc('axes', linewidth=2)            \n",
    "fig, (ax1,ax2) = plt.subplots(1, 2, figsize=(7,7),dpi=100)\n",
    "\n",
    "# Plot data\n",
    "ax1.imshow(flux1[821,:,:], cmap='gray',norm=norm,origin='lower')\n",
    "ax1.set_title('No Outlier Det., Input 24000')\n",
    "\n",
    "ax2.imshow(flux2[821,:,:], cmap='gray',norm=norm,origin='lower')\n",
    "ax2.set_title('With Outlier Det., Input 24000')"
   ]
  },
  {
   "cell_type": "code",
   "execution_count": null,
   "id": "middle-client",
   "metadata": {},
   "outputs": [],
   "source": [
    "rc('axes', linewidth=2)            \n",
    "fig, (ax1,ax2) = plt.subplots(1, 2, figsize=(7,7),dpi=100)\n",
    "\n",
    "# Plot data\n",
    "ax1.imshow(flux1[927,:,:], cmap='gray',norm=norm,origin='lower')\n",
    "ax1.set_title('No Outlier Det., Input 27000')\n",
    "\n",
    "ax2.imshow(flux2[927,:,:], cmap='gray',norm=norm,origin='lower')\n",
    "ax2.set_title('With Outlier Det., Input 27000')"
   ]
  },
  {
   "cell_type": "code",
   "execution_count": null,
   "id": "crazy-canadian",
   "metadata": {},
   "outputs": [],
   "source": [
    "rc('axes', linewidth=2)            \n",
    "fig, (ax1,ax2) = plt.subplots(1, 2, figsize=(7,7),dpi=100)\n",
    "\n",
    "# Plot data\n",
    "ax1.imshow(flux1[1030,:,:], cmap='gray',norm=norm,origin='lower')\n",
    "ax1.set_title('No Outlier Det., Input 30000')\n",
    "\n",
    "ax2.imshow(flux2[1030,:,:], cmap='gray',norm=norm,origin='lower')\n",
    "ax2.set_title('With Outlier Det., Input 30000')\n"
   ]
  },
  {
   "cell_type": "code",
   "execution_count": null,
   "id": "d6bd4219",
   "metadata": {},
   "outputs": [],
   "source": [
    "# Plot spectrum of point source before outlier detection\n",
    "image1,header1=fits.getdata('od_before_ch1-long_s3d.fits',header=True)\n",
    "num_x1=header1[\"NAXIS2\"]\n",
    "num_y1=header1[\"NAXIS1\"]\n",
    "num_chan1=header1[\"NAXIS3\"]\n",
    "start_wavelength1=header1[\"CRVAL3\"]\n",
    "step_wavelength1=header1[\"CDELT3\"]\n",
    "pix_size1=header1[\"PIXAR_SR\"]\n",
    "\n",
    "# Get wavelength\n",
    "d1=[0.0]*num_chan1\n",
    "d1[0]=start_wavelength1\n",
    "for i in range(1,num_chan1):\n",
    "    d1[i]=d1[i-1]+step_wavelength1\n",
    "\n",
    "# Get flux\n",
    "a1=[0.0]*num_chan1\n",
    "for i in range(0,num_chan1):\n",
    "    for m in range(10,30):\n",
    "        for n in range(10,30):\n",
    "            a1[i]=image1[i,m,n]+a1[i] \n",
    "for i in range(0,num_chan1):\n",
    "    a1[i]=a1[i]*(10**6)*(pix_size1)\n",
    "\n",
    "# Plot spectrum of point source before outlier detection\n",
    "plt.plot(d1,a1,'-', color='blue', lw=1, label='without outlier detection')\n",
    "\n",
    "# Plot spectrum of point source after outlier detection\n",
    "image2,header2=fits.getdata('od_after_ch1-long_s3d.fits',header=True)\n",
    "num_x2=header2[\"NAXIS2\"]\n",
    "num_y2=header2[\"NAXIS1\"]\n",
    "num_chan2=header2[\"NAXIS3\"]\n",
    "start_wavelength2=header2[\"CRVAL3\"]\n",
    "step_wavelength2=header2[\"CDELT3\"]\n",
    "pix_size2=header2[\"PIXAR_SR\"]\n",
    "\n",
    "#Get wavelength\n",
    "d2=[0.0]*num_chan1\n",
    "d2[0]=start_wavelength2\n",
    "for i in range(1,num_chan2):\n",
    "    d2[i]=d2[i-1]+step_wavelength2\n",
    "\n",
    "#Get flux\n",
    "a2=[0.0]*num_chan2\n",
    "for i in range(0,num_chan2):\n",
    "    for m in range(10,30):\n",
    "        for n in range(10,30):\n",
    "            a2[i]=image2[i,m,n]+a2[i] \n",
    "for i in range(0,num_chan2):\n",
    "    a2[i]=a2[i]*(10**6)*(pix_size2)\n",
    "\n",
    "#Plot spectrum\n",
    "plt.plot(d2,a2,'-', color='black', lw=1, label='with outlier detection')\n",
    "\n",
    "#Edit plot settings\n",
    "plt.ylim(0.007, 0.020)\n",
    "plt.legend()"
   ]
  },
  {
   "cell_type": "code",
   "execution_count": null,
   "id": "8d948b6a",
   "metadata": {},
   "outputs": [],
   "source": [
    "# Pass/Fail criteria that determines flux of central source before and after outlier detection\n",
    "before_flux=[0.0]*10\n",
    "after_flux=[0.0]*10\n",
    "\n",
    "sum_before1=0.0\n",
    "sum_after1=0.0\n",
    "sum_before2=0.0\n",
    "sum_after2=0.0\n",
    "sum_before3=0.0\n",
    "sum_after3=0.0\n",
    "sum_before4=0.0\n",
    "sum_after4=0.0\n",
    "sum_before5=0.0\n",
    "sum_after5=0.0\n",
    "sum_before6=0.0\n",
    "sum_after6=0.0\n",
    "sum_before7=0.0\n",
    "sum_after7=0.0\n",
    "sum_before8=0.0\n",
    "sum_after8=0.0\n",
    "sum_before9=0.0\n",
    "sum_after9=0.0\n",
    "sum_before10=0.0\n",
    "sum_after10=0.0\n",
    "\n",
    "for i in range(15,30):\n",
    "    for j in range(15, 30):\n",
    "        sum_before1=sum_before1+flux1[1,j,i]\n",
    "\n",
    "for i in range(15,30):\n",
    "    for j in range(15,30):\n",
    "        sum_after1=sum_after1+flux2[1,j,i]\n",
    "\n",
    "for i in range(15,30):\n",
    "    for j in range(15, 30):\n",
    "        sum_before2=sum_before2+flux1[126,j,i]\n",
    "\n",
    "for i in range(15,30):\n",
    "    for j in range(15,30):\n",
    "        sum_after2=sum_after2+flux2[126,j,i]\n",
    "\n",
    "for i in range(15,30):\n",
    "    for j in range(15,30):\n",
    "        sum_before3=sum_before3+flux1[249,j,i]\n",
    "\n",
    "for i in range(15,30):\n",
    "    for j in range(15,30):\n",
    "        sum_after3=sum_after3+flux2[249,j,i]\n",
    "\n",
    "for i in range(15,30):\n",
    "    for j in range(15,30):\n",
    "        sum_before4=sum_before4+flux1[369,j,i]\n",
    "\n",
    "for i in range(15,30):\n",
    "    for j in range(15,30):\n",
    "        sum_after4=sum_after4+flux2[369,j,i]\n",
    "        \n",
    "for i in range(15,30):\n",
    "    for j in range(15,30):\n",
    "        sum_before5=sum_before5+flux1[486,j,i]\n",
    "\n",
    "for i in range(15,30):\n",
    "    for j in range(15,30):\n",
    "        sum_after5=sum_after5+flux2[486,j,i]\n",
    "        \n",
    "for i in range(15,30):\n",
    "    for j in range(15,30):\n",
    "        sum_before6=sum_before6+flux1[600,j,i]\n",
    "\n",
    "for i in range(15,30):\n",
    "    for j in range(15,30):\n",
    "        sum_after6=sum_after6+flux2[600,j,i]\n",
    "        \n",
    "for i in range(15,30):\n",
    "    for j in range(15,30):\n",
    "        sum_before7=sum_before7+flux1[712,j,i]\n",
    "\n",
    "for i in range(15,30):\n",
    "    for j in range(15,30):\n",
    "        sum_after7=sum_after7+flux2[712,j,i]\n",
    "        \n",
    "for i in range(15,30):\n",
    "    for j in range(15,30):\n",
    "        sum_before8=sum_before8+flux1[821,j,i]\n",
    "\n",
    "for i in range(15,30):\n",
    "    for j in range(15,30):\n",
    "        sum_after8=sum_after8+flux2[821,j,i]\n",
    "        \n",
    "for i in range(15,30):\n",
    "    for j in range(15,30):\n",
    "        sum_before9=sum_before9+flux1[927,j,i]\n",
    "\n",
    "for i in range(15,30):\n",
    "    for j in range(15,30):\n",
    "        sum_after9=sum_after9+flux2[927,j,i]\n",
    "        \n",
    "for i in range(15,30):\n",
    "    for j in range(15,30):\n",
    "        sum_before10=sum_before10+flux1[1030,j,i]\n",
    "\n",
    "for i in range(15,30):\n",
    "    for j in range(15,30):\n",
    "        sum_after10=sum_after10+flux2[1030,j,i]\n",
    "\n",
    "for a in range(0,10):\n",
    "    before_flux[0]=sum_before1\n",
    "    before_flux[1]=sum_before2\n",
    "    before_flux[2]=sum_before3\n",
    "    before_flux[3]=sum_before4\n",
    "    before_flux[4]=sum_before5\n",
    "    before_flux[5]=sum_before6\n",
    "    before_flux[6]=sum_before7\n",
    "    before_flux[7]=sum_before8\n",
    "    before_flux[8]=sum_before9\n",
    "    before_flux[9]=sum_before10\n",
    "\n",
    "for a in range(0,10):\n",
    "    after_flux[0]=sum_after1\n",
    "    after_flux[1]=sum_after2\n",
    "    after_flux[2]=sum_after3\n",
    "    after_flux[3]=sum_after4\n",
    "    after_flux[4]=sum_after5\n",
    "    after_flux[5]=sum_after6\n",
    "    after_flux[6]=sum_after7\n",
    "    after_flux[7]=sum_after8\n",
    "    after_flux[8]=sum_after9\n",
    "    after_flux[9]=sum_after10\n",
    "\n",
    "print(before_flux[0],',',after_flux[0],',',100*(before_flux[0]-after_flux[0])/(before_flux[0]))\n",
    "print(before_flux[1],',',after_flux[1],',',100*(before_flux[1]-after_flux[1])/(before_flux[1]))\n",
    "print(before_flux[2],',',after_flux[2],',',100*(before_flux[2]-after_flux[2])/(before_flux[2]))\n",
    "print(before_flux[3],',',after_flux[3],',',100*(before_flux[3]-after_flux[3])/(before_flux[3]))\n",
    "print(before_flux[4],',',after_flux[4],',',100*(before_flux[4]-after_flux[4])/(before_flux[4]))\n",
    "print(before_flux[5],',',after_flux[5],',',100*(before_flux[5]-after_flux[5])/(before_flux[5]))\n",
    "print(before_flux[6],',',after_flux[6],',',100*(before_flux[6]-after_flux[6])/(before_flux[6]))\n",
    "print(before_flux[7],',',after_flux[7],',',100*(before_flux[7]-after_flux[7])/(before_flux[7]))\n",
    "print(before_flux[8],',',after_flux[8],',',100*(before_flux[8]-after_flux[8])/(before_flux[8]))\n",
    "print(before_flux[9],',',after_flux[9],',',100*(before_flux[9]-after_flux[9])/(before_flux[9]))"
   ]
  },
  {
   "cell_type": "code",
   "execution_count": null,
   "id": "da21534a",
   "metadata": {},
   "outputs": [],
   "source": [
    "# Determine if the notebook passes or fails\n",
    "count=0\n",
    "for i in range(0,10):\n",
    "    if 100*(before_flux[i]-after_flux[i])/(before_flux[i]) > 35:\n",
    "        count=count+1\n",
    "\n",
    "if count>1:\n",
    "    print('This notebook does not pass.')\n",
    "else:\n",
    "    print('This notebook passes.')"
   ]
  },
  {
   "cell_type": "code",
   "execution_count": null,
   "id": "interstate-threshold",
   "metadata": {},
   "outputs": [],
   "source": [
    "# Close files\n",
    "hdu1.close()\n",
    "hdu2.close()"
   ]
  },
  {
   "cell_type": "code",
   "execution_count": null,
   "id": "31a429a0",
   "metadata": {},
   "outputs": [],
   "source": []
  }
 ],
 "metadata": {
  "kernelspec": {
   "display_name": "Python 3 (ipykernel)",
   "language": "python",
   "name": "python3"
  },
  "language_info": {
   "codemirror_mode": {
    "name": "ipython",
    "version": 3
   },
   "file_extension": ".py",
   "mimetype": "text/x-python",
   "name": "python",
   "nbconvert_exporter": "python",
   "pygments_lexer": "ipython3",
   "version": "3.10.5"
  }
 },
 "nbformat": 4,
 "nbformat_minor": 5
}
