{
 "cells": [
  {
   "cell_type": "markdown",
   "id": "awful-custom",
   "metadata": {},
   "source": [
    "<a id=\"title_ID\"></a>\n",
    "# JWST Pipeline Validation Notebook: Outlier Detection for MIRI MRS\n",
    "\n",
    "<span style=\"color:red\"> **Instruments Affected**</span>: MIRI\n",
    "\n",
    "\n",
    "Tested on MIRI Simulated data\n",
    "\n"
   ]
  },
  {
   "cell_type": "markdown",
   "id": "imperial-blast",
   "metadata": {},
   "source": [
    "#### Author: Isha Nayak"
   ]
  },
  {
   "cell_type": "markdown",
   "id": "aggressive-porter",
   "metadata": {},
   "source": [
    "This notebook checks the outlier detection step of the pipeline during calwebb_spec3 for Channel 1 long wavelengths.\n",
    "\n",
    "First this notebook checks ten different locations in the detector and confirm these pixels in the detector fall in the range of the Channel 1 long wavelength range (6.42 - 7.51 microns). These outliers range from 3000 to 30000 in value to make sure a range of outlier values can be detected in the pipeline. After the outliers are injected in the detector frame, a file is saved.\n",
    "\n",
    "We then run the cube build step (without outlier detection) and name this file with suffix 'before' to denote the effect before outlier detection step. Then we run outlier detection and cube build steps of calwebb_spec3. The output from the second run ends in suffix 'after' since this is after the outlier detection step has been run.\n",
    "\n",
    "The image and the mask in the detector frame is shown to confirm proper (x,y) coordinates have been chosen. Then the cube slice of the expected outlier is shown with and without the outlier detector step for each of the ten outliers inserted. \n",
    "\n",
    "Outliers at varying flux levels get detected and removed with the pipeline. The flux of the central source different when using outlier detection in comparison to when not using outlier detection. This difference is as high as 35%. We set this as the criteria for passing."
   ]
  },
  {
   "cell_type": "code",
   "execution_count": 1,
   "id": "318d438b",
   "metadata": {
    "execution": {
     "iopub.execute_input": "2022-07-07T10:18:55.922610Z",
     "iopub.status.busy": "2022-07-07T10:18:55.922012Z",
     "iopub.status.idle": "2022-07-07T10:18:55.941620Z",
     "shell.execute_reply": "2022-07-07T10:18:55.940295Z"
    }
   },
   "outputs": [
    {
     "name": "stdout",
     "output_type": "stream",
     "text": [
      "CRDS cache location: /grp/crds/cache\n"
     ]
    }
   ],
   "source": [
    "import os\n",
    "if 'CRDS_CACHE_TYPE' in os.environ:\n",
    "    if os.environ['CRDS_CACHE_TYPE'] == 'local':\n",
    "        os.environ['CRDS_PATH'] = os.path.join(os.environ['HOME'], 'crds', 'cache')\n",
    "    elif os.path.isdir(os.environ['CRDS_CACHE_TYPE']):\n",
    "        os.environ['CRDS_PATH'] = os.environ['CRDS_CACHE_TYPE']\n",
    "print('CRDS cache location: {}'.format(os.environ['CRDS_PATH']))"
   ]
  },
  {
   "cell_type": "code",
   "execution_count": 2,
   "id": "rubber-wyoming",
   "metadata": {
    "execution": {
     "iopub.execute_input": "2022-07-07T10:18:55.946546Z",
     "iopub.status.busy": "2022-07-07T10:18:55.946242Z",
     "iopub.status.idle": "2022-07-07T10:18:57.777345Z",
     "shell.execute_reply": "2022-07-07T10:18:57.775627Z"
    },
    "scrolled": false
   },
   "outputs": [],
   "source": [
    "# Basic system utilities for interacting with files\n",
    "import glob, sys, os, time\n",
    "\n",
    "# Astropy utilities for opening FITS and ASCII files\n",
    "from astropy.io import fits\n",
    "from astropy.io import ascii\n",
    "\n",
    "# Astropy utilities for making plots\n",
    "from astropy.visualization import (LinearStretch, LogStretch, ImageNormalize, ZScaleInterval)\n",
    "\n",
    "# Numpy for doing calculations\n",
    "import numpy as np\n",
    "\n",
    "# Matplotlib for making plots\n",
    "import matplotlib.pyplot as plt\n",
    "from matplotlib import rc\n",
    "\n",
    "# JWST pipelines\n",
    "from jwst.pipeline import Detector1Pipeline\n",
    "from jwst.pipeline import Spec2Pipeline\n",
    "from jwst.pipeline import Spec3Pipeline\n",
    "\n",
    "# Individual JWST pipeline steps\n",
    "from jwst.assign_wcs import AssignWcsStep\n",
    "from jwst.background import BackgroundStep\n",
    "from jwst.flatfield import FlatFieldStep\n",
    "from jwst.srctype import SourceTypeStep\n",
    "from jwst.straylight import StraylightStep\n",
    "from jwst.fringe import FringeStep\n",
    "from jwst.photom import PhotomStep\n",
    "from jwst.cube_build import CubeBuildStep\n",
    "from jwst.extract_1d import Extract1dStep\n",
    "from jwst.cube_skymatch import CubeSkyMatchStep\n",
    "from jwst.master_background import MasterBackgroundStep\n",
    "from jwst.outlier_detection import OutlierDetectionStep\n",
    "from jwst.extract_1d import Extract1dStep\n",
    "\n",
    "# JWST pipeline utilities\n",
    "from jwst.datamodels import dqflags\n",
    "from jwst import datamodels\n",
    "from jwst.associations import asn_from_list as afl\n",
    "from jwst.associations.lib.rules_level2_base import DMSLevel2bBase\n",
    "from jwst.associations.lib.rules_level3_base import DMS_Level3_Base\n",
    "import stcal\n",
    "\n",
    "# MIRIcoord for detector to pixel conversion\n",
    "import miricoord\n",
    "import miricoord.mrs.mrs_tools as mt\n",
    "\n",
    "# Box download imports \n",
    "from astropy.utils.data import download_file\n",
    "from pathlib import Path\n",
    "from shutil import move\n",
    "from os.path import splitext"
   ]
  },
  {
   "cell_type": "markdown",
   "id": "aeedb3b2",
   "metadata": {},
   "source": [
    "### Create a temporary location for the data"
   ]
  },
  {
   "cell_type": "code",
   "execution_count": 3,
   "id": "1429cecb",
   "metadata": {
    "execution": {
     "iopub.execute_input": "2022-07-07T10:18:57.783800Z",
     "iopub.status.busy": "2022-07-07T10:18:57.783466Z",
     "iopub.status.idle": "2022-07-07T10:18:57.790718Z",
     "shell.execute_reply": "2022-07-07T10:18:57.790035Z"
    }
   },
   "outputs": [
    {
     "name": "stdout",
     "output_type": "stream",
     "text": [
      "Running in /internal/data1/jenkins/workspace/Notebooks/jwst_validation_notebooks_spacetelescope/tmp/tmpv0j93nlt\n"
     ]
    }
   ],
   "source": [
    "# Create a temporary directory to hold notebook output, and change the working directory to that directory.\n",
    "from tempfile import TemporaryDirectory\n",
    "import os\n",
    "data_dir = TemporaryDirectory()\n",
    "os.chdir(data_dir.name)\n",
    "\n",
    "# For info, print out where the script is running\n",
    "print(\"Running in {}\".format(os.getcwd()))"
   ]
  },
  {
   "cell_type": "code",
   "execution_count": 4,
   "id": "62549f04",
   "metadata": {
    "execution": {
     "iopub.execute_input": "2022-07-07T10:18:57.793414Z",
     "iopub.status.busy": "2022-07-07T10:18:57.793029Z",
     "iopub.status.idle": "2022-07-07T10:18:57.797185Z",
     "shell.execute_reply": "2022-07-07T10:18:57.796549Z"
    }
   },
   "outputs": [
    {
     "name": "stdout",
     "output_type": "stream",
     "text": [
      "1.5.3\n"
     ]
    }
   ],
   "source": [
    "# Check JWST version\n",
    "import jwst\n",
    "print(jwst.__version__ )"
   ]
  },
  {
   "cell_type": "code",
   "execution_count": 5,
   "id": "247096ba",
   "metadata": {
    "execution": {
     "iopub.execute_input": "2022-07-07T10:18:57.800240Z",
     "iopub.status.busy": "2022-07-07T10:18:57.799845Z",
     "iopub.status.idle": "2022-07-07T10:18:57.804535Z",
     "shell.execute_reply": "2022-07-07T10:18:57.803529Z"
    }
   },
   "outputs": [
    {
     "name": "stdout",
     "output_type": "stream",
     "text": [
      "0.7.3\n"
     ]
    }
   ],
   "source": [
    "# Check stcal version\n",
    "print(stcal.__version__ )"
   ]
  },
  {
   "cell_type": "markdown",
   "id": "e95cecdb",
   "metadata": {},
   "source": [
    "### Read in data from Box"
   ]
  },
  {
   "cell_type": "code",
   "execution_count": 6,
   "id": "0056b537",
   "metadata": {
    "execution": {
     "iopub.execute_input": "2022-07-07T10:18:57.806901Z",
     "iopub.status.busy": "2022-07-07T10:18:57.806694Z",
     "iopub.status.idle": "2022-07-07T10:18:57.810917Z",
     "shell.execute_reply": "2022-07-07T10:18:57.810343Z"
    }
   },
   "outputs": [],
   "source": [
    "# Function for Box files\n",
    "def get_box_files(file_list):\n",
    "    for box_url,file_name in file_list:\n",
    "        if 'https' not in box_url:\n",
    "            box_url = 'https://stsci.box.com/shared/static/' + box_url\n",
    "        downloaded_file = download_file(box_url, timeout=600)\n",
    "        if Path(file_name).suffix == '':\n",
    "            ext = splitext(box_url)[1]\n",
    "            file_name += ext\n",
    "        move(downloaded_file, file_name)"
   ]
  },
  {
   "cell_type": "code",
   "execution_count": 7,
   "id": "70c3b826",
   "metadata": {
    "execution": {
     "iopub.execute_input": "2022-07-07T10:18:57.813440Z",
     "iopub.status.busy": "2022-07-07T10:18:57.813246Z",
     "iopub.status.idle": "2022-07-07T10:19:10.967870Z",
     "shell.execute_reply": "2022-07-07T10:19:10.966142Z"
    }
   },
   "outputs": [],
   "source": [
    "# Get the files from Box\n",
    "file_urls = ['https://stsci.box.com/shared/static/7va325g09uesfh9wb569sedcefll4cv3.fits', \n",
    "                  'https://stsci.box.com/shared/static/jsyf3k5frn4w3zzw7hrqbbe92iszgye5.fits',   \n",
    "                  'https://stsci.box.com/shared/static/6tlbhwco7qz98qvnew6x0797cugp68re.fits',    \n",
    "                  'https://stsci.box.com/shared/static/w3oj50ei9py7i9e9jmi3d2oyr40127us.fits '] \n",
    "file_names = ['det_image_seq1_MIRIFUSHORT_12LONGexp1_cal.fits',              \n",
    "               'det_image_seq2_MIRIFUSHORT_12LONGexp1_cal.fits',             \n",
    "               'det_image_seq3_MIRIFUSHORT_12LONGexp1_cal.fits',            \n",
    "               'det_image_seq4_MIRIFUSHORT_12LONGexp1_cal.fits']  \n",
    "box_download_list = [(url,name) for url,name in zip(file_urls,file_names)]  \n",
    "get_box_files(box_download_list)"
   ]
  },
  {
   "cell_type": "markdown",
   "id": "dc9a1b20",
   "metadata": {},
   "source": [
    "### Start data processing"
   ]
  },
  {
   "cell_type": "code",
   "execution_count": 8,
   "id": "6496461d",
   "metadata": {
    "execution": {
     "iopub.execute_input": "2022-07-07T10:19:10.973758Z",
     "iopub.status.busy": "2022-07-07T10:19:10.973276Z",
     "iopub.status.idle": "2022-07-07T10:19:10.979377Z",
     "shell.execute_reply": "2022-07-07T10:19:10.978587Z"
    }
   },
   "outputs": [
    {
     "name": "stdout",
     "output_type": "stream",
     "text": [
      "['det_image_seq1_MIRIFUSHORT_12LONGexp1_cal.fits', 'det_image_seq2_MIRIFUSHORT_12LONGexp1_cal.fits', 'det_image_seq3_MIRIFUSHORT_12LONGexp1_cal.fits', 'det_image_seq4_MIRIFUSHORT_12LONGexp1_cal.fits']\n"
     ]
    }
   ],
   "source": [
    "# Look for our _rate.fits files produced by the Detector1 pipeline\n",
    "sstring='det*cal.fits'\n",
    "calfiles=sorted(glob.glob(sstring))\n",
    "print(calfiles)"
   ]
  },
  {
   "cell_type": "code",
   "execution_count": 9,
   "id": "suited-macro",
   "metadata": {
    "execution": {
     "iopub.execute_input": "2022-07-07T10:19:10.983833Z",
     "iopub.status.busy": "2022-07-07T10:19:10.983549Z",
     "iopub.status.idle": "2022-07-07T10:19:13.503777Z",
     "shell.execute_reply": "2022-07-07T10:19:13.501989Z"
    }
   },
   "outputs": [
    {
     "name": "stdout",
     "output_type": "stream",
     "text": [
      "1\n",
      "[6.52596422]\n",
      "[6.52877947]\n"
     ]
    },
    {
     "name": "stdout",
     "output_type": "stream",
     "text": [
      "2\n",
      "[6.65583131]\n",
      "[6.65858593]\n"
     ]
    },
    {
     "name": "stdout",
     "output_type": "stream",
     "text": [
      "3\n",
      "[6.78285142]\n",
      "[6.78554381]\n",
      "4\n",
      "[6.90702455]\n",
      "[6.9096531]\n"
     ]
    },
    {
     "name": "stdout",
     "output_type": "stream",
     "text": [
      "5\n",
      "[7.0283507]\n",
      "[7.03091382]\n"
     ]
    },
    {
     "name": "stdout",
     "output_type": "stream",
     "text": [
      "6\n",
      "[7.14682987]\n",
      "[7.14932596]\n"
     ]
    },
    {
     "name": "stdout",
     "output_type": "stream",
     "text": [
      "7\n",
      "[7.26246207]\n",
      "[7.26488952]\n"
     ]
    },
    {
     "name": "stdout",
     "output_type": "stream",
     "text": [
      "8\n",
      "[7.37524728]\n",
      "[7.3776045]\n"
     ]
    },
    {
     "name": "stdout",
     "output_type": "stream",
     "text": [
      "9\n",
      "[7.48518552]\n",
      "[7.4874709]\n"
     ]
    },
    {
     "name": "stdout",
     "output_type": "stream",
     "text": [
      "10\n",
      "[7.59227677]\n",
      "[7.59448872]\n"
     ]
    }
   ],
   "source": [
    "# Check detector array to pixel array values for ten inserted outliers and check the exepected wavelength\n",
    "lambda_wav=[0.0]*9\n",
    "n=0\n",
    "skip=100\n",
    "for x in range(0, 10):\n",
    "    count=0\n",
    "    for i in range(355, 358):\n",
    "        for j in range(20+(n*skip), 23+(n*skip)):\n",
    "            values=mt.xytoabl([i],[j],'1C')\n",
    "            lambda_wav[count]=values['lam']\n",
    "            count=count+1\n",
    "    print(n+1)\n",
    "    print(min(lambda_wav))    \n",
    "    print(max(lambda_wav))\n",
    "    n=n+1"
   ]
  },
  {
   "cell_type": "code",
   "execution_count": 10,
   "id": "sporting-bumper",
   "metadata": {
    "execution": {
     "iopub.execute_input": "2022-07-07T10:19:13.510065Z",
     "iopub.status.busy": "2022-07-07T10:19:13.509530Z",
     "iopub.status.idle": "2022-07-07T10:19:13.576614Z",
     "shell.execute_reply": "2022-07-07T10:19:13.575142Z"
    }
   },
   "outputs": [],
   "source": [
    "# Hack the file\n",
    "hdu=fits.open(calfiles[0])\n",
    "data=hdu['SCI'].data\n",
    "\n",
    "# Insert the ten outliers varying from 3000 to 30000\n",
    "n=0\n",
    "skip=100\n",
    "for x in range(0, 10):\n",
    "    for i in range(355,358):\n",
    "        for j in range(20+(n*skip), 23+(n*skip)):\n",
    "            data[j,i]=3000*(n+1)\n",
    "    n=n+1\n",
    "hdu['SCI'].data=data\n",
    "\n",
    "# Overwrite the file\n",
    "hdu.writeto(str.replace(calfiles[0],'cal','od_test'),overwrite=True)\n",
    "hdu.close()"
   ]
  },
  {
   "cell_type": "code",
   "execution_count": 11,
   "id": "agreed-hampton",
   "metadata": {
    "execution": {
     "iopub.execute_input": "2022-07-07T10:19:13.581696Z",
     "iopub.status.busy": "2022-07-07T10:19:13.581467Z",
     "iopub.status.idle": "2022-07-07T10:19:13.587142Z",
     "shell.execute_reply": "2022-07-07T10:19:13.586273Z"
    }
   },
   "outputs": [],
   "source": [
    "# Define a useful function to write out a Lvl3 association file from an input list\n",
    "def writel3asn(files,asnfile,prodname,**kwargs):\n",
    "    asn = afl.asn_from_list(files,rule=DMS_Level3_Base,product_name=prodname)\n",
    "    if ('bg' in kwargs):\n",
    "        for bgfile in kwargs['bg']:\n",
    "            asn['products'][0]['members'].append({'expname': bgfile, 'exptype':'background'})\n",
    "    _, serialized = asn.dump()\n",
    "    with open(asnfile, 'w') as outfile:\n",
    "        outfile.write(serialized)"
   ]
  },
  {
   "cell_type": "code",
   "execution_count": 12,
   "id": "improving-drinking",
   "metadata": {
    "execution": {
     "iopub.execute_input": "2022-07-07T10:19:13.590982Z",
     "iopub.status.busy": "2022-07-07T10:19:13.590695Z",
     "iopub.status.idle": "2022-07-07T10:19:13.598231Z",
     "shell.execute_reply": "2022-07-07T10:19:13.596962Z"
    }
   },
   "outputs": [],
   "source": [
    "# Create an association file\n",
    "testfiles=calfiles.copy()\n",
    "testfiles[0]=str.replace(calfiles[0],'cal','od_test')\n",
    "writel3asn(testfiles,'od.json','od')"
   ]
  },
  {
   "cell_type": "code",
   "execution_count": 13,
   "id": "e28827fe",
   "metadata": {
    "execution": {
     "iopub.execute_input": "2022-07-07T10:19:13.601383Z",
     "iopub.status.busy": "2022-07-07T10:19:13.601048Z",
     "iopub.status.idle": "2022-07-07T10:19:55.538169Z",
     "shell.execute_reply": "2022-07-07T10:19:55.537538Z"
    }
   },
   "outputs": [
    {
     "name": "stderr",
     "output_type": "stream",
     "text": [
      "2022-07-07 06:19:13,604 - stpipe.CubeBuildStep - INFO - CubeBuildStep instance created.\n"
     ]
    },
    {
     "name": "stderr",
     "output_type": "stream",
     "text": [
      "2022-07-07 06:19:21,602 - stpipe.CubeBuildStep - INFO - CubeBuildStep instance created.\n"
     ]
    },
    {
     "name": "stderr",
     "output_type": "stream",
     "text": [
      "2022-07-07 06:19:22,094 - stpipe.CubeBuildStep - INFO - Step CubeBuildStep running with args ('od.json',).\n"
     ]
    },
    {
     "name": "stderr",
     "output_type": "stream",
     "text": [
      "2022-07-07 06:19:22,097 - stpipe.CubeBuildStep - INFO - Step CubeBuildStep parameters are: {'pre_hooks': [], 'post_hooks': [], 'output_file': '/internal/data1/jenkins/workspace/Notebooks/jwst_validation_notebooks_spacetelescope/tmp/tmpv0j93nlt/od_before', 'output_dir': None, 'output_ext': '.fits', 'output_use_model': True, 'output_use_index': True, 'save_results': True, 'skip': False, 'suffix': None, 'search_output_file': False, 'input_dir': '', 'channel': '1', 'band': 'all', 'grating': 'all', 'filter': 'all', 'output_type': 'band', 'scale1': 0.0, 'scale2': 0.0, 'scalew': 0.0, 'weighting': 'drizzle', 'coord_system': 'skyalign', 'rois': 0.0, 'roiw': 0.0, 'weight_power': 2.0, 'wavemin': None, 'wavemax': None, 'single': False, 'skip_dqflagging': False}\n"
     ]
    },
    {
     "name": "stderr",
     "output_type": "stream",
     "text": [
      "2022-07-07 06:19:22,098 - stpipe.CubeBuildStep - INFO - Starting IFU Cube Building Step\n"
     ]
    },
    {
     "name": "stderr",
     "output_type": "stream",
     "text": [
      "2022-07-07 06:19:22,099 - stpipe.CubeBuildStep - INFO - Input interpolation: drizzle\n"
     ]
    },
    {
     "name": "stderr",
     "output_type": "stream",
     "text": [
      "2022-07-07 06:19:22,099 - stpipe.CubeBuildStep - INFO - Coordinate system to use: skyalign\n"
     ]
    },
    {
     "name": "stderr",
     "output_type": "stream",
     "text": [
      "2022-07-07 06:19:26,910 - stpipe.CubeBuildStep - INFO - The desired cubes cover the MIRI Channels: ['1']\n"
     ]
    },
    {
     "name": "stderr",
     "output_type": "stream",
     "text": [
      "2022-07-07 06:19:26,913 - stpipe.CubeBuildStep - INFO - The desired cubes cover the MIRI subchannels: ['long']\n"
     ]
    },
    {
     "name": "stderr",
     "output_type": "stream",
     "text": [
      "2022-07-07 06:19:26,914 - stpipe.CubeBuildStep - INFO - Reading cube parameter file /grp/crds/cache/references/jwst/jwst_miri_cubepar_0006.fits\n"
     ]
    },
    {
     "name": "stderr",
     "output_type": "stream",
     "text": [
      "2022-07-07 06:19:27,908 - stpipe.CubeBuildStep - INFO - The user has selected the type of IFU cube to make\n"
     ]
    },
    {
     "name": "stderr",
     "output_type": "stream",
     "text": [
      "2022-07-07 06:19:27,910 - stpipe.CubeBuildStep - INFO - Number of IFU cubes produced by this run = 1\n"
     ]
    },
    {
     "name": "stderr",
     "output_type": "stream",
     "text": [
      "2022-07-07 06:19:27,916 - stpipe.CubeBuildStep - INFO - Mapping all pixels to output to determine IFU foot print\n"
     ]
    },
    {
     "name": "stderr",
     "output_type": "stream",
     "text": [
      "2022-07-07 06:19:28,303 - stpipe.CubeBuildStep - INFO - Mapping all pixels to output to determine IFU foot print\n"
     ]
    },
    {
     "name": "stderr",
     "output_type": "stream",
     "text": [
      "2022-07-07 06:19:28,659 - stpipe.CubeBuildStep - INFO - Mapping all pixels to output to determine IFU foot print\n"
     ]
    },
    {
     "name": "stderr",
     "output_type": "stream",
     "text": [
      "2022-07-07 06:19:29,007 - stpipe.CubeBuildStep - INFO - Mapping all pixels to output to determine IFU foot print\n"
     ]
    },
    {
     "name": "stderr",
     "output_type": "stream",
     "text": [
      "2022-07-07 06:19:29,359 - stpipe.CubeBuildStep - INFO - Cube Geometry:\n"
     ]
    },
    {
     "name": "stderr",
     "output_type": "stream",
     "text": [
      "2022-07-07 06:19:29,360 - stpipe.CubeBuildStep - INFO - axis#  Naxis  CRPIX    CRVAL      CDELT(arcsec)  Min & Max (xi, eta arcsec)\n"
     ]
    },
    {
     "name": "stderr",
     "output_type": "stream",
     "text": [
      "2022-07-07 06:19:29,361 - stpipe.CubeBuildStep - INFO - Axis 1    35  18.00   0.00002193   0.13000000  -2.27499992   2.27499992\n"
     ]
    },
    {
     "name": "stderr",
     "output_type": "stream",
     "text": [
      "2022-07-07 06:19:29,361 - stpipe.CubeBuildStep - INFO - Axis 2    35  18.00   0.00003324   0.13000000  -2.27499992   2.27499992\n"
     ]
    },
    {
     "name": "stderr",
     "output_type": "stream",
     "text": [
      "2022-07-07 06:19:29,361 - stpipe.CubeBuildStep - INFO - axis#  Naxis  CRPIX    CRVAL      CDELT(microns)  Min & Max (microns)\n"
     ]
    },
    {
     "name": "stderr",
     "output_type": "stream",
     "text": [
      "2022-07-07 06:19:29,362 - stpipe.CubeBuildStep - INFO - Axis 3  1091   1.00   6.42050008   0.00100000   6.42000008   7.51100013\n"
     ]
    },
    {
     "name": "stderr",
     "output_type": "stream",
     "text": [
      "2022-07-07 06:19:29,362 - stpipe.CubeBuildStep - INFO - Cube covers channel, subchannel: 1, long\n"
     ]
    },
    {
     "name": "stderr",
     "output_type": "stream",
     "text": [
      "2022-07-07 06:19:29,362 - stpipe.CubeBuildStep - INFO - Output Name: od_before_ch1-long_s3d.fits\n"
     ]
    },
    {
     "name": "stderr",
     "output_type": "stream",
     "text": [
      "2022-07-07 06:19:30,990 - stpipe.CubeBuildStep - INFO - # of detector pixels not mapped to output plane: 7328 with wavelength below 6.418208224695982\n"
     ]
    },
    {
     "name": "stderr",
     "output_type": "stream",
     "text": [
      "2022-07-07 06:19:30,993 - stpipe.CubeBuildStep - INFO - # of detector pixels not mapped to output plane: 10658 with wavelength above 7.512791979711628\n"
     ]
    },
    {
     "name": "stderr",
     "output_type": "stream",
     "text": [
      "2022-07-07 06:19:36,929 - stpipe.CubeBuildStep - INFO - # of detector pixels not mapped to output plane: 7328 with wavelength below 6.418208224695982\n"
     ]
    },
    {
     "name": "stderr",
     "output_type": "stream",
     "text": [
      "2022-07-07 06:19:36,931 - stpipe.CubeBuildStep - INFO - # of detector pixels not mapped to output plane: 10658 with wavelength above 7.512791979711628\n"
     ]
    },
    {
     "name": "stderr",
     "output_type": "stream",
     "text": [
      "2022-07-07 06:19:42,734 - stpipe.CubeBuildStep - INFO - # of detector pixels not mapped to output plane: 7328 with wavelength below 6.418208224695982\n"
     ]
    },
    {
     "name": "stderr",
     "output_type": "stream",
     "text": [
      "2022-07-07 06:19:42,735 - stpipe.CubeBuildStep - INFO - # of detector pixels not mapped to output plane: 10658 with wavelength above 7.512791979711628\n"
     ]
    },
    {
     "name": "stderr",
     "output_type": "stream",
     "text": [
      "2022-07-07 06:19:48,526 - stpipe.CubeBuildStep - INFO - # of detector pixels not mapped to output plane: 7328 with wavelength below 6.418208224695982\n"
     ]
    },
    {
     "name": "stderr",
     "output_type": "stream",
     "text": [
      "2022-07-07 06:19:48,527 - stpipe.CubeBuildStep - INFO - # of detector pixels not mapped to output plane: 10658 with wavelength above 7.512791979711628\n"
     ]
    },
    {
     "name": "stderr",
     "output_type": "stream",
     "text": [
      "2022-07-07 06:19:52,948 - stpipe.CubeBuildStep - INFO - Average # of holes/wavelength plane is < 1\n"
     ]
    },
    {
     "name": "stderr",
     "output_type": "stream",
     "text": [
      "2022-07-07 06:19:52,949 - stpipe.CubeBuildStep - INFO - Total # of holes for IFU cube is : 0\n"
     ]
    },
    {
     "name": "stderr",
     "output_type": "stream",
     "text": [
      "2022-07-07 06:19:52,958 - stpipe.CubeBuildStep - INFO - Number of spectral tear planes adjusted: 0\n"
     ]
    },
    {
     "name": "stderr",
     "output_type": "stream",
     "text": [
      "2022-07-07 06:19:54,678 - stpipe.CubeBuildStep - INFO - Update S_REGION to POLYGON ICRS  0.000635814 -0.000580646 0.000635814 0.000647132 359.999408037 0.000647132 359.999408037 -0.000580646\n"
     ]
    },
    {
     "name": "stderr",
     "output_type": "stream",
     "text": [
      "2022-07-07 06:19:54,692 - stpipe.CubeBuildStep - INFO - Results used CRDS context: jwst_0914.pmap\n"
     ]
    },
    {
     "name": "stderr",
     "output_type": "stream",
     "text": [
      "2022-07-07 06:19:55,528 - stpipe.CubeBuildStep - INFO - Saved model in od_before_ch1-long_s3d.fits\n"
     ]
    },
    {
     "name": "stderr",
     "output_type": "stream",
     "text": [
      "2022-07-07 06:19:55,529 - stpipe.CubeBuildStep - INFO - Step CubeBuildStep done\n"
     ]
    },
    {
     "data": {
      "text/plain": [
       "<ModelContainer>"
      ]
     },
     "execution_count": 13,
     "metadata": {},
     "output_type": "execute_result"
    }
   ],
   "source": [
    "# Run it through cube building calling the result 'od_before'\n",
    "cb=CubeBuildStep()\n",
    "cb.call('od.json',channel='1',save_results=True,output_file='od_before')"
   ]
  },
  {
   "cell_type": "code",
   "execution_count": 14,
   "id": "respected-portfolio",
   "metadata": {
    "execution": {
     "iopub.execute_input": "2022-07-07T10:19:55.544711Z",
     "iopub.status.busy": "2022-07-07T10:19:55.544512Z",
     "iopub.status.idle": "2022-07-07T10:22:06.538603Z",
     "shell.execute_reply": "2022-07-07T10:22:06.537840Z"
    }
   },
   "outputs": [
    {
     "name": "stderr",
     "output_type": "stream",
     "text": [
      "2022-07-07 06:19:55,553 - stpipe.Spec3Pipeline - INFO - Spec3Pipeline instance created.\n"
     ]
    },
    {
     "name": "stderr",
     "output_type": "stream",
     "text": [
      "2022-07-07 06:19:55,555 - stpipe.Spec3Pipeline.assign_mtwcs - INFO - AssignMTWcsStep instance created.\n"
     ]
    },
    {
     "name": "stderr",
     "output_type": "stream",
     "text": [
      "2022-07-07 06:19:55,557 - stpipe.Spec3Pipeline.master_background - INFO - MasterBackgroundStep instance created.\n"
     ]
    },
    {
     "name": "stderr",
     "output_type": "stream",
     "text": [
      "2022-07-07 06:19:55,559 - stpipe.Spec3Pipeline.mrs_imatch - INFO - MRSIMatchStep instance created.\n"
     ]
    },
    {
     "name": "stderr",
     "output_type": "stream",
     "text": [
      "2022-07-07 06:19:55,562 - stpipe.Spec3Pipeline.outlier_detection - INFO - OutlierDetectionStep instance created.\n"
     ]
    },
    {
     "name": "stderr",
     "output_type": "stream",
     "text": [
      "2022-07-07 06:19:55,564 - stpipe.Spec3Pipeline.resample_spec - INFO - ResampleSpecStep instance created.\n"
     ]
    },
    {
     "name": "stderr",
     "output_type": "stream",
     "text": [
      "2022-07-07 06:19:55,566 - stpipe.Spec3Pipeline.cube_build - INFO - CubeBuildStep instance created.\n"
     ]
    },
    {
     "name": "stderr",
     "output_type": "stream",
     "text": [
      "2022-07-07 06:19:55,568 - stpipe.Spec3Pipeline.extract_1d - INFO - Extract1dStep instance created.\n"
     ]
    },
    {
     "name": "stderr",
     "output_type": "stream",
     "text": [
      "2022-07-07 06:19:55,569 - stpipe.Spec3Pipeline.photom - INFO - PhotomStep instance created.\n"
     ]
    },
    {
     "name": "stderr",
     "output_type": "stream",
     "text": [
      "2022-07-07 06:19:55,570 - stpipe.Spec3Pipeline.combine_1d - INFO - Combine1dStep instance created.\n"
     ]
    },
    {
     "name": "stderr",
     "output_type": "stream",
     "text": [
      "2022-07-07 06:19:55,871 - stpipe.Spec3Pipeline - INFO - Step Spec3Pipeline running with args ('od.json',).\n"
     ]
    },
    {
     "name": "stderr",
     "output_type": "stream",
     "text": [
      "2022-07-07 06:19:55,879 - stpipe.Spec3Pipeline - INFO - Step Spec3Pipeline parameters are: {'pre_hooks': [], 'post_hooks': [], 'output_file': None, 'output_dir': None, 'output_ext': '.fits', 'output_use_model': False, 'output_use_index': True, 'save_results': True, 'skip': False, 'suffix': None, 'search_output_file': True, 'input_dir': '', 'steps': {'assign_mtwcs': {'pre_hooks': [], 'post_hooks': [], 'output_file': None, 'output_dir': None, 'output_ext': '.fits', 'output_use_model': True, 'output_use_index': True, 'save_results': False, 'skip': False, 'suffix': 'assign_mtwcs', 'search_output_file': True, 'input_dir': ''}, 'master_background': {'pre_hooks': [], 'post_hooks': [], 'output_file': None, 'output_dir': None, 'output_ext': '.fits', 'output_use_model': True, 'output_use_index': True, 'save_results': False, 'skip': True, 'suffix': None, 'search_output_file': True, 'input_dir': '', 'user_background': None, 'save_background': False, 'force_subtract': False}, 'mrs_imatch': {'pre_hooks': [], 'post_hooks': [], 'output_file': None, 'output_dir': None, 'output_ext': '.fits', 'output_use_model': False, 'output_use_index': True, 'save_results': False, 'skip': True, 'suffix': None, 'search_output_file': True, 'input_dir': '', 'bkg_degree': 1, 'subtract': False}, 'outlier_detection': {'pre_hooks': [], 'post_hooks': [], 'output_file': None, 'output_dir': None, 'output_ext': '.fits', 'output_use_model': False, 'output_use_index': True, 'save_results': False, 'skip': False, 'suffix': None, 'search_output_file': False, 'input_dir': '', 'weight_type': 'ivm', 'pixfrac': 1.0, 'kernel': 'square', 'fillval': 'INDEF', 'nlow': 0, 'nhigh': 0, 'maskpt': 0.7, 'grow': 1, 'snr': '5.0 4.0', 'scale': '2.0 2.0', 'backg': 0.0, 'save_intermediate_results': True, 'resample_data': True, 'good_bits': '~DO_NOT_USE', 'scale_detection': False, 'allowed_memory': None}, 'resample_spec': {'pre_hooks': [], 'post_hooks': [], 'output_file': None, 'output_dir': None, 'output_ext': '.fits', 'output_use_model': False, 'output_use_index': True, 'save_results': False, 'skip': False, 'suffix': None, 'search_output_file': True, 'input_dir': '', 'pixfrac': 1.0, 'kernel': 'square', 'fillval': 'INDEF', 'weight_type': 'ivm', 'output_shape': None, 'crpix': None, 'crval': None, 'rotation': None, 'pixel_scale_ratio': 1.0, 'pixel_scale': None, 'single': False, 'blendheaders': True, 'allowed_memory': None}, 'cube_build': {'pre_hooks': [], 'post_hooks': [], 'output_file': '/internal/data1/jenkins/workspace/Notebooks/jwst_validation_notebooks_spacetelescope/tmp/tmpv0j93nlt/od_after', 'output_dir': None, 'output_ext': '.fits', 'output_use_model': True, 'output_use_index': True, 'save_results': False, 'skip': False, 'suffix': None, 'search_output_file': False, 'input_dir': '', 'channel': '1', 'band': 'all', 'grating': 'all', 'filter': 'all', 'output_type': 'band', 'scale1': 0.0, 'scale2': 0.0, 'scalew': 0.0, 'weighting': 'drizzle', 'coord_system': 'skyalign', 'rois': 0.0, 'roiw': 0.0, 'weight_power': 2.0, 'wavemin': None, 'wavemax': None, 'single': False, 'skip_dqflagging': False}, 'extract_1d': {'pre_hooks': [], 'post_hooks': [], 'output_file': None, 'output_dir': None, 'output_ext': '.fits', 'output_use_model': False, 'output_use_index': True, 'save_results': False, 'skip': False, 'suffix': None, 'search_output_file': True, 'input_dir': '', 'smoothing_length': None, 'bkg_fit': None, 'bkg_order': None, 'bkg_sigma_clip': 3.0, 'log_increment': 50, 'subtract_background': None, 'use_source_posn': None, 'center_xy': None, 'apply_apcorr': True, 'soss_threshold': 0.01, 'soss_n_os': 2, 'soss_transform': None, 'soss_tikfac': None, 'soss_width': 40.0, 'soss_bad_pix': 'model', 'soss_modelname': None}, 'photom': {'pre_hooks': [], 'post_hooks': [], 'output_file': None, 'output_dir': None, 'output_ext': '.fits', 'output_use_model': False, 'output_use_index': True, 'save_results': False, 'skip': False, 'suffix': None, 'search_output_file': True, 'input_dir': '', 'inverse': False, 'source_type': None}, 'combine_1d': {'pre_hooks': [], 'post_hooks': [], 'output_file': None, 'output_dir': None, 'output_ext': '.fits', 'output_use_model': False, 'output_use_index': True, 'save_results': False, 'skip': False, 'suffix': None, 'search_output_file': True, 'input_dir': '', 'exptime_key': 'exposure_time'}}}\n"
     ]
    },
    {
     "name": "stderr",
     "output_type": "stream",
     "text": [
      "2022-07-07 06:19:56,775 - stpipe.Spec3Pipeline - INFO - Prefetching reference files for dataset: 'det_image_seq1_MIRIFUSHORT_12LONGexp1_od_test.fits' reftypes = ['apcorr', 'area', 'cubepar', 'drizpars', 'extract1d', 'photom', 'speckernel', 'specprofile', 'spectrace', 'wavemap']\n"
     ]
    },
    {
     "name": "stderr",
     "output_type": "stream",
     "text": [
      "2022-07-07 06:19:56,784 - stpipe.Spec3Pipeline - INFO - Prefetch for APCORR reference file is '/grp/crds/cache/references/jwst/jwst_miri_apcorr_0002.asdf'.\n"
     ]
    },
    {
     "name": "stderr",
     "output_type": "stream",
     "text": [
      "2022-07-07 06:19:56,787 - stpipe.Spec3Pipeline - INFO - Prefetch for AREA reference file is 'N/A'.\n"
     ]
    },
    {
     "name": "stderr",
     "output_type": "stream",
     "text": [
      "2022-07-07 06:19:56,787 - stpipe.Spec3Pipeline - INFO - Prefetch for CUBEPAR reference file is '/grp/crds/cache/references/jwst/jwst_miri_cubepar_0006.fits'.\n"
     ]
    },
    {
     "name": "stderr",
     "output_type": "stream",
     "text": [
      "2022-07-07 06:19:56,789 - stpipe.Spec3Pipeline - INFO - Prefetch for DRIZPARS reference file is '/grp/crds/cache/references/jwst/jwst_miri_drizpars_0001.fits'.\n"
     ]
    },
    {
     "name": "stderr",
     "output_type": "stream",
     "text": [
      "2022-07-07 06:19:56,792 - stpipe.Spec3Pipeline - INFO - Prefetch for EXTRACT1D reference file is '/grp/crds/cache/references/jwst/jwst_miri_extract1d_0003.asdf'.\n"
     ]
    },
    {
     "name": "stderr",
     "output_type": "stream",
     "text": [
      "2022-07-07 06:19:56,794 - stpipe.Spec3Pipeline - INFO - Prefetch for PHOTOM reference file is '/grp/crds/cache/references/jwst/jwst_miri_photom_0060.fits'.\n"
     ]
    },
    {
     "name": "stderr",
     "output_type": "stream",
     "text": [
      "2022-07-07 06:19:56,795 - stpipe.Spec3Pipeline - INFO - Prefetch for SPECKERNEL reference file is 'N/A'.\n"
     ]
    },
    {
     "name": "stderr",
     "output_type": "stream",
     "text": [
      "2022-07-07 06:19:56,796 - stpipe.Spec3Pipeline - INFO - Prefetch for SPECPROFILE reference file is 'N/A'.\n"
     ]
    },
    {
     "name": "stderr",
     "output_type": "stream",
     "text": [
      "2022-07-07 06:19:56,796 - stpipe.Spec3Pipeline - INFO - Prefetch for SPECTRACE reference file is 'N/A'.\n"
     ]
    },
    {
     "name": "stderr",
     "output_type": "stream",
     "text": [
      "2022-07-07 06:19:56,797 - stpipe.Spec3Pipeline - INFO - Prefetch for WAVEMAP reference file is 'N/A'.\n"
     ]
    },
    {
     "name": "stderr",
     "output_type": "stream",
     "text": [
      "2022-07-07 06:19:56,798 - stpipe.Spec3Pipeline - INFO - Starting calwebb_spec3 ...\n"
     ]
    },
    {
     "name": "stderr",
     "output_type": "stream",
     "text": [
      "2022-07-07 06:20:02,004 - stpipe.Spec3Pipeline.mrs_imatch - INFO - Step mrs_imatch running with args (<ModelContainer>,).\n"
     ]
    },
    {
     "name": "stderr",
     "output_type": "stream",
     "text": [
      "2022-07-07 06:20:02,008 - stpipe.Spec3Pipeline.mrs_imatch - INFO - Step mrs_imatch parameters are: {'pre_hooks': [], 'post_hooks': [], 'output_file': None, 'output_dir': None, 'output_ext': '.fits', 'output_use_model': False, 'output_use_index': True, 'save_results': False, 'skip': True, 'suffix': 'mrs_imatch', 'search_output_file': True, 'input_dir': '', 'bkg_degree': 1, 'subtract': False}\n"
     ]
    },
    {
     "name": "stderr",
     "output_type": "stream",
     "text": [
      "2022-07-07 06:20:02,009 - stpipe.Spec3Pipeline.mrs_imatch - INFO - Step skipped.\n"
     ]
    },
    {
     "name": "stderr",
     "output_type": "stream",
     "text": [
      "2022-07-07 06:20:02,022 - stpipe.Spec3Pipeline.mrs_imatch - INFO - Step mrs_imatch done\n"
     ]
    },
    {
     "name": "stderr",
     "output_type": "stream",
     "text": [
      "2022-07-07 06:20:02,310 - stpipe.Spec3Pipeline.outlier_detection - INFO - Step outlier_detection running with args (<ModelContainer>,).\n"
     ]
    },
    {
     "name": "stderr",
     "output_type": "stream",
     "text": [
      "2022-07-07 06:20:02,312 - stpipe.Spec3Pipeline.outlier_detection - INFO - Step outlier_detection parameters are: {'pre_hooks': [], 'post_hooks': [], 'output_file': None, 'output_dir': None, 'output_ext': '.fits', 'output_use_model': False, 'output_use_index': True, 'save_results': True, 'skip': False, 'suffix': 'crf', 'search_output_file': False, 'input_dir': '', 'weight_type': 'ivm', 'pixfrac': 1.0, 'kernel': 'square', 'fillval': 'INDEF', 'nlow': 0, 'nhigh': 0, 'maskpt': 0.7, 'grow': 1, 'snr': '5.0 4.0', 'scale': '2.0 2.0', 'backg': 0.0, 'save_intermediate_results': True, 'resample_data': True, 'good_bits': '~DO_NOT_USE', 'scale_detection': False, 'allowed_memory': None}\n"
     ]
    },
    {
     "name": "stderr",
     "output_type": "stream",
     "text": [
      "2022-07-07 06:20:02,321 - stpipe.Spec3Pipeline.outlier_detection - INFO - Performing outlier detection on 4 inputs\n"
     ]
    },
    {
     "name": "stderr",
     "output_type": "stream",
     "text": [
      "2022-07-07 06:20:07,113 - stpipe.Spec3Pipeline.outlier_detection - INFO - Performing IFU outlier_detection for exptype MIR_MRS\n"
     ]
    },
    {
     "name": "stderr",
     "output_type": "stream",
     "text": [
      "2022-07-07 06:20:07,116 - stpipe.CubeBuildStep - INFO - CubeBuildStep instance created.\n"
     ]
    },
    {
     "name": "stderr",
     "output_type": "stream",
     "text": [
      "2022-07-07 06:20:07,117 - stpipe.CubeBuildStep - INFO - Starting IFU Cube Building Step\n"
     ]
    },
    {
     "name": "stderr",
     "output_type": "stream",
     "text": [
      "2022-07-07 06:20:07,118 - stpipe.CubeBuildStep - INFO - Input interpolation: pointcloud\n"
     ]
    },
    {
     "name": "stderr",
     "output_type": "stream",
     "text": [
      "2022-07-07 06:20:07,119 - stpipe.CubeBuildStep - INFO - Coordinate system to use: skyalign\n"
     ]
    },
    {
     "name": "stderr",
     "output_type": "stream",
     "text": [
      "2022-07-07 06:20:07,119 - stpipe.CubeBuildStep - INFO - Weighting method for point cloud: emsm\n"
     ]
    },
    {
     "name": "stderr",
     "output_type": "stream",
     "text": [
      "2022-07-07 06:20:07,120 - stpipe.CubeBuildStep - INFO - Power weighting distance: 2.0\n"
     ]
    },
    {
     "name": "stderr",
     "output_type": "stream",
     "text": [
      "2022-07-07 06:20:07,121 - stpipe.CubeBuildStep - INFO - Cube Type: Single cubes\n"
     ]
    },
    {
     "name": "stderr",
     "output_type": "stream",
     "text": [
      "2022-07-07 06:20:07,172 - stpipe.Spec3Pipeline.outlier_detection - INFO - The desired cubes cover the MIRI Channels: ['1']\n"
     ]
    },
    {
     "name": "stderr",
     "output_type": "stream",
     "text": [
      "2022-07-07 06:20:07,173 - stpipe.Spec3Pipeline.outlier_detection - INFO - The desired cubes cover the MIRI subchannels: ['long']\n"
     ]
    },
    {
     "name": "stderr",
     "output_type": "stream",
     "text": [
      "2022-07-07 06:20:07,174 - stpipe.Spec3Pipeline.outlier_detection - INFO - Reading cube parameter file /grp/crds/cache/references/jwst/jwst_miri_cubepar_0006.fits\n"
     ]
    },
    {
     "name": "stderr",
     "output_type": "stream",
     "text": [
      "2022-07-07 06:20:08,033 - stpipe.Spec3Pipeline.outlier_detection - INFO - Single = true, creating a set of single exposures mapped to output IFUCube coordinate system\n"
     ]
    },
    {
     "name": "stderr",
     "output_type": "stream",
     "text": [
      "2022-07-07 06:20:08,039 - stpipe.Spec3Pipeline.outlier_detection - INFO - Mapping all pixels to output to determine IFU foot print\n"
     ]
    },
    {
     "name": "stderr",
     "output_type": "stream",
     "text": [
      "2022-07-07 06:20:08,358 - stpipe.Spec3Pipeline.outlier_detection - INFO - Mapping all pixels to output to determine IFU foot print\n"
     ]
    },
    {
     "name": "stderr",
     "output_type": "stream",
     "text": [
      "2022-07-07 06:20:08,665 - stpipe.Spec3Pipeline.outlier_detection - INFO - Mapping all pixels to output to determine IFU foot print\n"
     ]
    },
    {
     "name": "stderr",
     "output_type": "stream",
     "text": [
      "2022-07-07 06:20:08,976 - stpipe.Spec3Pipeline.outlier_detection - INFO - Mapping all pixels to output to determine IFU foot print\n"
     ]
    },
    {
     "name": "stderr",
     "output_type": "stream",
     "text": [
      "2022-07-07 06:20:09,285 - stpipe.Spec3Pipeline.outlier_detection - INFO - Cube Geometry:\n"
     ]
    },
    {
     "name": "stderr",
     "output_type": "stream",
     "text": [
      "2022-07-07 06:20:09,286 - stpipe.Spec3Pipeline.outlier_detection - INFO - axis#  Naxis  CRPIX    CRVAL      CDELT(arcsec)  Min & Max (xi, eta arcsec)\n"
     ]
    },
    {
     "name": "stderr",
     "output_type": "stream",
     "text": [
      "2022-07-07 06:20:09,286 - stpipe.Spec3Pipeline.outlier_detection - INFO - Axis 1    35  18.00   0.00002193   0.13000000  -2.27499992   2.27499992\n"
     ]
    },
    {
     "name": "stderr",
     "output_type": "stream",
     "text": [
      "2022-07-07 06:20:09,286 - stpipe.Spec3Pipeline.outlier_detection - INFO - Axis 2    35  18.00   0.00003324   0.13000000  -2.27499992   2.27499992\n"
     ]
    },
    {
     "name": "stderr",
     "output_type": "stream",
     "text": [
      "2022-07-07 06:20:09,287 - stpipe.Spec3Pipeline.outlier_detection - INFO - axis#  Naxis  CRPIX    CRVAL      CDELT(microns)  Min & Max (microns)\n"
     ]
    },
    {
     "name": "stderr",
     "output_type": "stream",
     "text": [
      "2022-07-07 06:20:09,287 - stpipe.Spec3Pipeline.outlier_detection - INFO - Axis 3  1091   1.00   6.42050008   0.00100000   6.42000008   7.51100013\n"
     ]
    },
    {
     "name": "stderr",
     "output_type": "stream",
     "text": [
      "2022-07-07 06:20:09,287 - stpipe.Spec3Pipeline.outlier_detection - INFO - Cube covers channel, subchannel: 1, long\n"
     ]
    },
    {
     "name": "stderr",
     "output_type": "stream",
     "text": [
      "2022-07-07 06:20:09,662 - stpipe.Spec3Pipeline.outlier_detection - INFO - # of detector pixels not mapped to output plane: 7263 with wavelength below 6.418000076373573\n"
     ]
    },
    {
     "name": "stderr",
     "output_type": "stream",
     "text": [
      "2022-07-07 06:20:09,664 - stpipe.Spec3Pipeline.outlier_detection - INFO - # of detector pixels not mapped to output plane: 10595 with wavelength above 7.513000128034037\n"
     ]
    },
    {
     "name": "stderr",
     "output_type": "stream",
     "text": [
      "2022-07-07 06:20:10,809 - stpipe.Spec3Pipeline.outlier_detection - INFO - Number of spectral tear planes adjusted: 0\n"
     ]
    },
    {
     "name": "stderr",
     "output_type": "stream",
     "text": [
      "2022-07-07 06:20:13,353 - stpipe.Spec3Pipeline.outlier_detection - INFO - # of detector pixels not mapped to output plane: 7263 with wavelength below 6.418000076373573\n"
     ]
    },
    {
     "name": "stderr",
     "output_type": "stream",
     "text": [
      "2022-07-07 06:20:13,355 - stpipe.Spec3Pipeline.outlier_detection - INFO - # of detector pixels not mapped to output plane: 10595 with wavelength above 7.513000128034037\n"
     ]
    },
    {
     "name": "stderr",
     "output_type": "stream",
     "text": [
      "2022-07-07 06:20:14,497 - stpipe.Spec3Pipeline.outlier_detection - INFO - Number of spectral tear planes adjusted: 0\n"
     ]
    },
    {
     "name": "stderr",
     "output_type": "stream",
     "text": [
      "2022-07-07 06:20:16,550 - stpipe.Spec3Pipeline.outlier_detection - INFO - # of detector pixels not mapped to output plane: 7263 with wavelength below 6.418000076373573\n"
     ]
    },
    {
     "name": "stderr",
     "output_type": "stream",
     "text": [
      "2022-07-07 06:20:16,551 - stpipe.Spec3Pipeline.outlier_detection - INFO - # of detector pixels not mapped to output plane: 10595 with wavelength above 7.513000128034037\n"
     ]
    },
    {
     "name": "stderr",
     "output_type": "stream",
     "text": [
      "2022-07-07 06:20:17,683 - stpipe.Spec3Pipeline.outlier_detection - INFO - Number of spectral tear planes adjusted: 0\n"
     ]
    },
    {
     "name": "stderr",
     "output_type": "stream",
     "text": [
      "2022-07-07 06:20:20,210 - stpipe.Spec3Pipeline.outlier_detection - INFO - # of detector pixels not mapped to output plane: 7263 with wavelength below 6.418000076373573\n"
     ]
    },
    {
     "name": "stderr",
     "output_type": "stream",
     "text": [
      "2022-07-07 06:20:20,211 - stpipe.Spec3Pipeline.outlier_detection - INFO - # of detector pixels not mapped to output plane: 10595 with wavelength above 7.513000128034037\n"
     ]
    },
    {
     "name": "stderr",
     "output_type": "stream",
     "text": [
      "2022-07-07 06:20:21,323 - stpipe.Spec3Pipeline.outlier_detection - INFO - Number of spectral tear planes adjusted: 0\n"
     ]
    },
    {
     "name": "stderr",
     "output_type": "stream",
     "text": [
      "2022-07-07 06:20:22,936 - stpipe.CubeBuildStep - INFO - Number of Single IFUCube models returned 4 \n"
     ]
    },
    {
     "name": "stderr",
     "output_type": "stream",
     "text": [
      "2022-07-07 06:20:22,940 - stpipe.Spec3Pipeline.outlier_detection - INFO - Update S_REGION to POLYGON ICRS  0.000635814 -0.000580646 0.000635814 0.000647132 359.999408037 0.000647132 359.999408037 -0.000580646\n"
     ]
    },
    {
     "name": "stderr",
     "output_type": "stream",
     "text": [
      "2022-07-07 06:20:22,943 - stpipe.Spec3Pipeline.outlier_detection - INFO - Update S_REGION to POLYGON ICRS  0.000635814 -0.000580646 0.000635814 0.000647132 359.999408037 0.000647132 359.999408037 -0.000580646\n"
     ]
    },
    {
     "name": "stderr",
     "output_type": "stream",
     "text": [
      "2022-07-07 06:20:22,945 - stpipe.Spec3Pipeline.outlier_detection - INFO - Update S_REGION to POLYGON ICRS  0.000635814 -0.000580646 0.000635814 0.000647132 359.999408037 0.000647132 359.999408037 -0.000580646\n"
     ]
    },
    {
     "name": "stderr",
     "output_type": "stream",
     "text": [
      "2022-07-07 06:20:22,948 - stpipe.Spec3Pipeline.outlier_detection - INFO - Update S_REGION to POLYGON ICRS  0.000635814 -0.000580646 0.000635814 0.000647132 359.999408037 0.000647132 359.999408037 -0.000580646\n"
     ]
    },
    {
     "name": "stderr",
     "output_type": "stream",
     "text": [
      "2022-07-07 06:20:22,951 - stpipe.Spec3Pipeline.outlier_detection - INFO - Writing out (single) IFU cube det_image_seq1_MIRIFUSHORT_12LONGexp1_od_test_ch1-long_single_a3001_outlier_s3d.fits\n"
     ]
    },
    {
     "name": "stderr",
     "output_type": "stream",
     "text": [
      "2022-07-07 06:20:23,367 - stpipe.Spec3Pipeline.outlier_detection - INFO - Writing out (single) IFU cube det_image_seq2_MIRIFUSHORT_12LONGexp1_cal_ch1-long_single_a3001_outlier_s3d.fits\n"
     ]
    },
    {
     "name": "stderr",
     "output_type": "stream",
     "text": [
      "2022-07-07 06:20:23,783 - stpipe.Spec3Pipeline.outlier_detection - INFO - Writing out (single) IFU cube det_image_seq3_MIRIFUSHORT_12LONGexp1_cal_ch1-long_single_a3001_outlier_s3d.fits\n"
     ]
    },
    {
     "name": "stderr",
     "output_type": "stream",
     "text": [
      "2022-07-07 06:20:24,202 - stpipe.Spec3Pipeline.outlier_detection - INFO - Writing out (single) IFU cube det_image_seq4_MIRIFUSHORT_12LONGexp1_cal_ch1-long_single_a3001_outlier_s3d.fits\n"
     ]
    },
    {
     "name": "stderr",
     "output_type": "stream",
     "text": [
      "2022-07-07 06:20:24,842 - stpipe.Spec3Pipeline.outlier_detection - INFO - Writing out MEDIAN image to: od_a3001_ch1_long_median_s3d.fits\n"
     ]
    },
    {
     "name": "stderr",
     "output_type": "stream",
     "text": [
      "2022-07-07 06:20:25,525 - stpipe.Spec3Pipeline.outlier_detection - INFO - Information on Blotting\n"
     ]
    },
    {
     "name": "stderr",
     "output_type": "stream",
     "text": [
      "2022-07-07 06:20:25,526 - stpipe.Spec3Pipeline.outlier_detection - INFO - Working with instrument MIRI\n"
     ]
    },
    {
     "name": "stderr",
     "output_type": "stream",
     "text": [
      "2022-07-07 06:20:25,527 - stpipe.Spec3Pipeline.outlier_detection - INFO - Shape of sky cube 35.000000 35.000000 1091.000000\n"
     ]
    },
    {
     "name": "stderr",
     "output_type": "stream",
     "text": [
      "2022-07-07 06:20:25,527 - stpipe.Spec3Pipeline.outlier_detection - INFO - Channel 1\n"
     ]
    },
    {
     "name": "stderr",
     "output_type": "stream",
     "text": [
      "2022-07-07 06:20:25,528 - stpipe.Spec3Pipeline.outlier_detection - INFO - Sub-channel long\n"
     ]
    },
    {
     "name": "stderr",
     "output_type": "stream",
     "text": [
      "2022-07-07 06:20:27,699 - stpipe.Spec3Pipeline.outlier_detection - WARNING - /internal/data1/jenkins/workspace/Notebooks/jwst_validation_notebooks_spacetelescope/miniconda3/envs/jwst_validation_notebooks/lib/python3.10/site-packages/gwcs/selector.py:592: RuntimeWarning: invalid value encountered in add\n",
      "  result = [np.empty(inputs[0].shape) +\n",
      "\n"
     ]
    },
    {
     "name": "stderr",
     "output_type": "stream",
     "text": [
      "2022-07-07 06:20:27,956 - stpipe.Spec3Pipeline.outlier_detection - INFO - Blotting back to det_image_seq1_MIRIFUSHORT_12LONGexp1_od_test.fits\n"
     ]
    },
    {
     "name": "stderr",
     "output_type": "stream",
     "text": [
      "2022-07-07 06:20:31,790 - stpipe.Spec3Pipeline.outlier_detection - INFO - Blotting back to det_image_seq2_MIRIFUSHORT_12LONGexp1_cal.fits\n"
     ]
    },
    {
     "name": "stderr",
     "output_type": "stream",
     "text": [
      "2022-07-07 06:20:36,081 - stpipe.Spec3Pipeline.outlier_detection - INFO - Blotting back to det_image_seq3_MIRIFUSHORT_12LONGexp1_cal.fits\n"
     ]
    },
    {
     "name": "stderr",
     "output_type": "stream",
     "text": [
      "2022-07-07 06:20:39,863 - stpipe.Spec3Pipeline.outlier_detection - INFO - Blotting back to det_image_seq4_MIRIFUSHORT_12LONGexp1_cal.fits\n"
     ]
    },
    {
     "name": "stderr",
     "output_type": "stream",
     "text": [
      "2022-07-07 06:20:43,161 - stpipe.CubeBuildStep - INFO - CubeBuildStep instance created.\n"
     ]
    },
    {
     "name": "stderr",
     "output_type": "stream",
     "text": [
      "2022-07-07 06:20:43,162 - stpipe.CubeBuildStep - INFO - Starting IFU Cube Building Step\n"
     ]
    },
    {
     "name": "stderr",
     "output_type": "stream",
     "text": [
      "2022-07-07 06:20:43,163 - stpipe.CubeBuildStep - INFO - Input interpolation: pointcloud\n"
     ]
    },
    {
     "name": "stderr",
     "output_type": "stream",
     "text": [
      "2022-07-07 06:20:43,164 - stpipe.CubeBuildStep - INFO - Coordinate system to use: skyalign\n"
     ]
    },
    {
     "name": "stderr",
     "output_type": "stream",
     "text": [
      "2022-07-07 06:20:43,164 - stpipe.CubeBuildStep - INFO - Weighting method for point cloud: emsm\n"
     ]
    },
    {
     "name": "stderr",
     "output_type": "stream",
     "text": [
      "2022-07-07 06:20:43,165 - stpipe.CubeBuildStep - INFO - Power weighting distance: 2.0\n"
     ]
    },
    {
     "name": "stderr",
     "output_type": "stream",
     "text": [
      "2022-07-07 06:20:43,166 - stpipe.CubeBuildStep - INFO - Cube Type: Single cubes\n"
     ]
    },
    {
     "name": "stderr",
     "output_type": "stream",
     "text": [
      "2022-07-07 06:20:43,222 - stpipe.Spec3Pipeline.outlier_detection - INFO - The desired cubes cover the MIRI Channels: ['2']\n"
     ]
    },
    {
     "name": "stderr",
     "output_type": "stream",
     "text": [
      "2022-07-07 06:20:43,223 - stpipe.Spec3Pipeline.outlier_detection - INFO - The desired cubes cover the MIRI subchannels: ['long']\n"
     ]
    },
    {
     "name": "stderr",
     "output_type": "stream",
     "text": [
      "2022-07-07 06:20:43,224 - stpipe.Spec3Pipeline.outlier_detection - INFO - Reading cube parameter file /grp/crds/cache/references/jwst/jwst_miri_cubepar_0006.fits\n"
     ]
    },
    {
     "name": "stderr",
     "output_type": "stream",
     "text": [
      "2022-07-07 06:20:44,091 - stpipe.Spec3Pipeline.outlier_detection - INFO - Single = true, creating a set of single exposures mapped to output IFUCube coordinate system\n"
     ]
    },
    {
     "name": "stderr",
     "output_type": "stream",
     "text": [
      "2022-07-07 06:20:44,098 - stpipe.Spec3Pipeline.outlier_detection - INFO - Cube Geometry:\n"
     ]
    },
    {
     "name": "stderr",
     "output_type": "stream",
     "text": [
      "2022-07-07 06:20:44,099 - stpipe.Spec3Pipeline.outlier_detection - INFO - axis#  Naxis  CRPIX    CRVAL      CDELT(arcsec)  Min & Max (xi, eta arcsec)\n"
     ]
    },
    {
     "name": "stderr",
     "output_type": "stream",
     "text": [
      "2022-07-07 06:20:44,100 - stpipe.Spec3Pipeline.outlier_detection - INFO - Axis 1    33  17.00   0.00001735   0.17000000  -2.80500003   2.80500003\n"
     ]
    },
    {
     "name": "stderr",
     "output_type": "stream",
     "text": [
      "2022-07-07 06:20:44,101 - stpipe.Spec3Pipeline.outlier_detection - INFO - Axis 2    35  18.00  -0.00012632   0.17000000  -2.97500003   2.97500003\n"
     ]
    },
    {
     "name": "stderr",
     "output_type": "stream",
     "text": [
      "2022-07-07 06:20:44,101 - stpipe.Spec3Pipeline.outlier_detection - INFO - axis#  Naxis  CRPIX    CRVAL      CDELT(microns)  Min & Max (microns)\n"
     ]
    },
    {
     "name": "stderr",
     "output_type": "stream",
     "text": [
      "2022-07-07 06:20:44,102 - stpipe.Spec3Pipeline.outlier_detection - INFO - Axis 3   855   1.00  10.03099973   0.00200000  10.02999973  11.73999981\n"
     ]
    },
    {
     "name": "stderr",
     "output_type": "stream",
     "text": [
      "2022-07-07 06:20:44,103 - stpipe.Spec3Pipeline.outlier_detection - INFO - Cube covers channel, subchannel: 2, long\n"
     ]
    },
    {
     "name": "stderr",
     "output_type": "stream",
     "text": [
      "2022-07-07 06:20:44,453 - stpipe.Spec3Pipeline.outlier_detection - INFO - # of detector pixels not mapped to output plane: 7871 with wavelength below 10.025999733130448\n"
     ]
    },
    {
     "name": "stderr",
     "output_type": "stream",
     "text": [
      "2022-07-07 06:20:44,453 - stpipe.Spec3Pipeline.outlier_detection - INFO - # of detector pixels not mapped to output plane: 11714 with wavelength above 11.743999814032577\n"
     ]
    },
    {
     "name": "stderr",
     "output_type": "stream",
     "text": [
      "2022-07-07 06:20:45,565 - stpipe.Spec3Pipeline.outlier_detection - INFO - Number of spectral tear planes adjusted: 0\n"
     ]
    },
    {
     "name": "stderr",
     "output_type": "stream",
     "text": [
      "2022-07-07 06:20:47,529 - stpipe.Spec3Pipeline.outlier_detection - INFO - # of detector pixels not mapped to output plane: 7871 with wavelength below 10.025999733130448\n"
     ]
    },
    {
     "name": "stderr",
     "output_type": "stream",
     "text": [
      "2022-07-07 06:20:47,530 - stpipe.Spec3Pipeline.outlier_detection - INFO - # of detector pixels not mapped to output plane: 11714 with wavelength above 11.743999814032577\n"
     ]
    },
    {
     "name": "stderr",
     "output_type": "stream",
     "text": [
      "2022-07-07 06:20:48,658 - stpipe.Spec3Pipeline.outlier_detection - INFO - Number of spectral tear planes adjusted: 0\n"
     ]
    },
    {
     "name": "stderr",
     "output_type": "stream",
     "text": [
      "2022-07-07 06:20:50,617 - stpipe.Spec3Pipeline.outlier_detection - INFO - # of detector pixels not mapped to output plane: 7871 with wavelength below 10.025999733130448\n"
     ]
    },
    {
     "name": "stderr",
     "output_type": "stream",
     "text": [
      "2022-07-07 06:20:50,618 - stpipe.Spec3Pipeline.outlier_detection - INFO - # of detector pixels not mapped to output plane: 11714 with wavelength above 11.743999814032577\n"
     ]
    },
    {
     "name": "stderr",
     "output_type": "stream",
     "text": [
      "2022-07-07 06:20:51,736 - stpipe.Spec3Pipeline.outlier_detection - INFO - Number of spectral tear planes adjusted: 0\n"
     ]
    },
    {
     "name": "stderr",
     "output_type": "stream",
     "text": [
      "2022-07-07 06:20:54,533 - stpipe.Spec3Pipeline.outlier_detection - INFO - # of detector pixels not mapped to output plane: 7871 with wavelength below 10.025999733130448\n"
     ]
    },
    {
     "name": "stderr",
     "output_type": "stream",
     "text": [
      "2022-07-07 06:20:54,534 - stpipe.Spec3Pipeline.outlier_detection - INFO - # of detector pixels not mapped to output plane: 11714 with wavelength above 11.743999814032577\n"
     ]
    },
    {
     "name": "stderr",
     "output_type": "stream",
     "text": [
      "2022-07-07 06:20:55,652 - stpipe.Spec3Pipeline.outlier_detection - INFO - Number of spectral tear planes adjusted: 0\n"
     ]
    },
    {
     "name": "stderr",
     "output_type": "stream",
     "text": [
      "2022-07-07 06:20:57,291 - stpipe.CubeBuildStep - INFO - Number of Single IFUCube models returned 4 \n"
     ]
    },
    {
     "name": "stderr",
     "output_type": "stream",
     "text": [
      "2022-07-07 06:20:57,295 - stpipe.Spec3Pipeline.outlier_detection - INFO - Update S_REGION to POLYGON ICRS  0.000772903 -0.000929096 0.000772903 0.000676459 359.999261791 0.000676459 359.999261791 -0.000929096\n"
     ]
    },
    {
     "name": "stderr",
     "output_type": "stream",
     "text": [
      "2022-07-07 06:20:57,297 - stpipe.Spec3Pipeline.outlier_detection - INFO - Update S_REGION to POLYGON ICRS  0.000772903 -0.000929096 0.000772903 0.000676459 359.999261791 0.000676459 359.999261791 -0.000929096\n"
     ]
    },
    {
     "name": "stderr",
     "output_type": "stream",
     "text": [
      "2022-07-07 06:20:57,300 - stpipe.Spec3Pipeline.outlier_detection - INFO - Update S_REGION to POLYGON ICRS  0.000772903 -0.000929096 0.000772903 0.000676459 359.999261791 0.000676459 359.999261791 -0.000929096\n"
     ]
    },
    {
     "name": "stderr",
     "output_type": "stream",
     "text": [
      "2022-07-07 06:20:57,303 - stpipe.Spec3Pipeline.outlier_detection - INFO - Update S_REGION to POLYGON ICRS  0.000772903 -0.000929096 0.000772903 0.000676459 359.999261791 0.000676459 359.999261791 -0.000929096\n"
     ]
    },
    {
     "name": "stderr",
     "output_type": "stream",
     "text": [
      "2022-07-07 06:20:57,305 - stpipe.Spec3Pipeline.outlier_detection - INFO - Writing out (single) IFU cube det_image_seq1_MIRIFUSHORT_12LONGexp1_od_test_ch2-long_single_a3001_outlier_s3d.fits\n"
     ]
    },
    {
     "name": "stderr",
     "output_type": "stream",
     "text": [
      "2022-07-07 06:20:57,722 - stpipe.Spec3Pipeline.outlier_detection - INFO - Writing out (single) IFU cube det_image_seq2_MIRIFUSHORT_12LONGexp1_cal_ch2-long_single_a3001_outlier_s3d.fits\n"
     ]
    },
    {
     "name": "stderr",
     "output_type": "stream",
     "text": [
      "2022-07-07 06:20:58,142 - stpipe.Spec3Pipeline.outlier_detection - INFO - Writing out (single) IFU cube det_image_seq3_MIRIFUSHORT_12LONGexp1_cal_ch2-long_single_a3001_outlier_s3d.fits\n"
     ]
    },
    {
     "name": "stderr",
     "output_type": "stream",
     "text": [
      "2022-07-07 06:20:58,547 - stpipe.Spec3Pipeline.outlier_detection - INFO - Writing out (single) IFU cube det_image_seq4_MIRIFUSHORT_12LONGexp1_cal_ch2-long_single_a3001_outlier_s3d.fits\n"
     ]
    },
    {
     "name": "stderr",
     "output_type": "stream",
     "text": [
      "2022-07-07 06:20:59,137 - stpipe.Spec3Pipeline.outlier_detection - INFO - Writing out MEDIAN image to: od_a3001_ch2_long_median_s3d.fits\n"
     ]
    },
    {
     "name": "stderr",
     "output_type": "stream",
     "text": [
      "2022-07-07 06:20:59,628 - stpipe.Spec3Pipeline.outlier_detection - INFO - Information on Blotting\n"
     ]
    },
    {
     "name": "stderr",
     "output_type": "stream",
     "text": [
      "2022-07-07 06:20:59,630 - stpipe.Spec3Pipeline.outlier_detection - INFO - Working with instrument MIRI\n"
     ]
    },
    {
     "name": "stderr",
     "output_type": "stream",
     "text": [
      "2022-07-07 06:20:59,630 - stpipe.Spec3Pipeline.outlier_detection - INFO - Shape of sky cube 33.000000 35.000000 855.000000\n"
     ]
    },
    {
     "name": "stderr",
     "output_type": "stream",
     "text": [
      "2022-07-07 06:20:59,631 - stpipe.Spec3Pipeline.outlier_detection - INFO - Channel 2\n"
     ]
    },
    {
     "name": "stderr",
     "output_type": "stream",
     "text": [
      "2022-07-07 06:20:59,632 - stpipe.Spec3Pipeline.outlier_detection - INFO - Sub-channel long\n"
     ]
    },
    {
     "name": "stderr",
     "output_type": "stream",
     "text": [
      "2022-07-07 06:21:01,995 - stpipe.Spec3Pipeline.outlier_detection - WARNING - /internal/data1/jenkins/workspace/Notebooks/jwst_validation_notebooks_spacetelescope/miniconda3/envs/jwst_validation_notebooks/lib/python3.10/site-packages/gwcs/selector.py:592: RuntimeWarning: invalid value encountered in add\n",
      "  result = [np.empty(inputs[0].shape) +\n",
      "\n"
     ]
    },
    {
     "name": "stderr",
     "output_type": "stream",
     "text": [
      "2022-07-07 06:21:02,172 - stpipe.Spec3Pipeline.outlier_detection - INFO - Blotting back to det_image_seq1_MIRIFUSHORT_12LONGexp1_od_test.fits\n"
     ]
    },
    {
     "name": "stderr",
     "output_type": "stream",
     "text": [
      "2022-07-07 06:21:05,151 - stpipe.Spec3Pipeline.outlier_detection - INFO - Blotting back to det_image_seq2_MIRIFUSHORT_12LONGexp1_cal.fits\n"
     ]
    },
    {
     "name": "stderr",
     "output_type": "stream",
     "text": [
      "2022-07-07 06:21:08,053 - stpipe.Spec3Pipeline.outlier_detection - INFO - Blotting back to det_image_seq3_MIRIFUSHORT_12LONGexp1_cal.fits\n"
     ]
    },
    {
     "name": "stderr",
     "output_type": "stream",
     "text": [
      "2022-07-07 06:21:12,540 - stpipe.Spec3Pipeline.outlier_detection - INFO - Blotting back to det_image_seq4_MIRIFUSHORT_12LONGexp1_cal.fits\n"
     ]
    },
    {
     "name": "stderr",
     "output_type": "stream",
     "text": [
      "2022-07-07 06:21:14,705 - stpipe.Spec3Pipeline.outlier_detection - INFO - Writing out BLOT images...\n"
     ]
    },
    {
     "name": "stderr",
     "output_type": "stream",
     "text": [
      "2022-07-07 06:21:14,710 - stpipe.Spec3Pipeline.outlier_detection - INFO - Blotted files det_image_seq1_MIRIFUSHORT_12LONGexp1_od_test_a3001_blot.fits\n"
     ]
    },
    {
     "name": "stderr",
     "output_type": "stream",
     "text": [
      "2022-07-07 06:21:15,728 - stpipe.Spec3Pipeline.outlier_detection - INFO - Blotted files det_image_seq2_MIRIFUSHORT_12LONGexp1_a3001_blot.fits\n"
     ]
    },
    {
     "name": "stderr",
     "output_type": "stream",
     "text": [
      "2022-07-07 06:21:16,734 - stpipe.Spec3Pipeline.outlier_detection - INFO - Blotted files det_image_seq3_MIRIFUSHORT_12LONGexp1_a3001_blot.fits\n"
     ]
    },
    {
     "name": "stderr",
     "output_type": "stream",
     "text": [
      "2022-07-07 06:21:19,146 - stpipe.Spec3Pipeline.outlier_detection - INFO - Blotted files det_image_seq4_MIRIFUSHORT_12LONGexp1_a3001_blot.fits\n"
     ]
    },
    {
     "name": "stderr",
     "output_type": "stream",
     "text": [
      "2022-07-07 06:21:20,124 - stpipe.Spec3Pipeline.outlier_detection - INFO - Flagging outliers\n"
     ]
    },
    {
     "name": "stderr",
     "output_type": "stream",
     "text": [
      "2022-07-07 06:21:20,214 - stpipe.Spec3Pipeline.outlier_detection - INFO - New pixels flagged as outliers: 12918 (1.22%)\n"
     ]
    },
    {
     "name": "stderr",
     "output_type": "stream",
     "text": [
      "2022-07-07 06:21:20,301 - stpipe.Spec3Pipeline.outlier_detection - INFO - New pixels flagged as outliers: 13437 (1.27%)\n"
     ]
    },
    {
     "name": "stderr",
     "output_type": "stream",
     "text": [
      "2022-07-07 06:21:20,389 - stpipe.Spec3Pipeline.outlier_detection - INFO - New pixels flagged as outliers: 12088 (1.14%)\n"
     ]
    },
    {
     "name": "stderr",
     "output_type": "stream",
     "text": [
      "2022-07-07 06:21:20,475 - stpipe.Spec3Pipeline.outlier_detection - INFO - New pixels flagged as outliers: 14040 (1.33%)\n"
     ]
    },
    {
     "name": "stderr",
     "output_type": "stream",
     "text": [
      "2022-07-07 06:21:21,528 - stpipe.Spec3Pipeline.outlier_detection - INFO - Saved model in det_image_seq1_MIRIFUSHORT_12LONGexp1_od_test_a3001_crf.fits\n"
     ]
    },
    {
     "name": "stderr",
     "output_type": "stream",
     "text": [
      "2022-07-07 06:21:22,561 - stpipe.Spec3Pipeline.outlier_detection - INFO - Saved model in det_image_seq2_MIRIFUSHORT_12LONGexp1_a3001_crf.fits\n"
     ]
    },
    {
     "name": "stderr",
     "output_type": "stream",
     "text": [
      "2022-07-07 06:21:24,747 - stpipe.Spec3Pipeline.outlier_detection - INFO - Saved model in det_image_seq3_MIRIFUSHORT_12LONGexp1_a3001_crf.fits\n"
     ]
    },
    {
     "name": "stderr",
     "output_type": "stream",
     "text": [
      "2022-07-07 06:21:25,774 - stpipe.Spec3Pipeline.outlier_detection - INFO - Saved model in det_image_seq4_MIRIFUSHORT_12LONGexp1_a3001_crf.fits\n"
     ]
    },
    {
     "name": "stderr",
     "output_type": "stream",
     "text": [
      "2022-07-07 06:21:25,775 - stpipe.Spec3Pipeline.outlier_detection - INFO - Step outlier_detection done\n"
     ]
    },
    {
     "name": "stderr",
     "output_type": "stream",
     "text": [
      "2022-07-07 06:21:26,130 - stpipe.Spec3Pipeline.cube_build - INFO - Step cube_build running with args (<ModelContainer>,).\n"
     ]
    },
    {
     "name": "stderr",
     "output_type": "stream",
     "text": [
      "2022-07-07 06:21:26,133 - stpipe.Spec3Pipeline.cube_build - INFO - Step cube_build parameters are: {'pre_hooks': [], 'post_hooks': [], 'output_file': '/internal/data1/jenkins/workspace/Notebooks/jwst_validation_notebooks_spacetelescope/tmp/tmpv0j93nlt/od_after', 'output_dir': None, 'output_ext': '.fits', 'output_use_model': True, 'output_use_index': True, 'save_results': True, 'skip': False, 'suffix': 's3d', 'search_output_file': False, 'input_dir': '', 'channel': '1', 'band': 'all', 'grating': 'all', 'filter': 'all', 'output_type': 'band', 'scale1': 0.0, 'scale2': 0.0, 'scalew': 0.0, 'weighting': 'drizzle', 'coord_system': 'skyalign', 'rois': 0.0, 'roiw': 0.0, 'weight_power': 2.0, 'wavemin': None, 'wavemax': None, 'single': False, 'skip_dqflagging': False}\n"
     ]
    },
    {
     "name": "stderr",
     "output_type": "stream",
     "text": [
      "2022-07-07 06:21:26,134 - stpipe.Spec3Pipeline.cube_build - INFO - Starting IFU Cube Building Step\n"
     ]
    },
    {
     "name": "stderr",
     "output_type": "stream",
     "text": [
      "2022-07-07 06:21:26,134 - stpipe.Spec3Pipeline.cube_build - INFO - Input interpolation: drizzle\n"
     ]
    },
    {
     "name": "stderr",
     "output_type": "stream",
     "text": [
      "2022-07-07 06:21:26,135 - stpipe.Spec3Pipeline.cube_build - INFO - Coordinate system to use: skyalign\n"
     ]
    },
    {
     "name": "stderr",
     "output_type": "stream",
     "text": [
      "2022-07-07 06:21:26,190 - stpipe.Spec3Pipeline.cube_build - INFO - The desired cubes cover the MIRI Channels: ['1']\n"
     ]
    },
    {
     "name": "stderr",
     "output_type": "stream",
     "text": [
      "2022-07-07 06:21:26,191 - stpipe.Spec3Pipeline.cube_build - INFO - The desired cubes cover the MIRI subchannels: ['long']\n"
     ]
    },
    {
     "name": "stderr",
     "output_type": "stream",
     "text": [
      "2022-07-07 06:21:26,192 - stpipe.Spec3Pipeline.cube_build - INFO - Reading cube parameter file /grp/crds/cache/references/jwst/jwst_miri_cubepar_0006.fits\n"
     ]
    },
    {
     "name": "stderr",
     "output_type": "stream",
     "text": [
      "2022-07-07 06:21:26,511 - stpipe.Spec3Pipeline.cube_build - INFO - The user has selected the type of IFU cube to make\n"
     ]
    },
    {
     "name": "stderr",
     "output_type": "stream",
     "text": [
      "2022-07-07 06:21:26,513 - stpipe.Spec3Pipeline.cube_build - INFO - Number of IFU cubes produced by this run = 1\n"
     ]
    },
    {
     "name": "stderr",
     "output_type": "stream",
     "text": [
      "2022-07-07 06:21:26,517 - stpipe.Spec3Pipeline.cube_build - INFO - Mapping all pixels to output to determine IFU foot print\n"
     ]
    },
    {
     "name": "stderr",
     "output_type": "stream",
     "text": [
      "2022-07-07 06:21:26,850 - stpipe.Spec3Pipeline.cube_build - INFO - Mapping all pixels to output to determine IFU foot print\n"
     ]
    },
    {
     "name": "stderr",
     "output_type": "stream",
     "text": [
      "2022-07-07 06:21:27,131 - stpipe.Spec3Pipeline.cube_build - INFO - Mapping all pixels to output to determine IFU foot print\n"
     ]
    },
    {
     "name": "stderr",
     "output_type": "stream",
     "text": [
      "2022-07-07 06:21:27,409 - stpipe.Spec3Pipeline.cube_build - INFO - Mapping all pixels to output to determine IFU foot print\n"
     ]
    },
    {
     "name": "stderr",
     "output_type": "stream",
     "text": [
      "2022-07-07 06:21:27,691 - stpipe.Spec3Pipeline.cube_build - INFO - Cube Geometry:\n"
     ]
    },
    {
     "name": "stderr",
     "output_type": "stream",
     "text": [
      "2022-07-07 06:21:27,692 - stpipe.Spec3Pipeline.cube_build - INFO - axis#  Naxis  CRPIX    CRVAL      CDELT(arcsec)  Min & Max (xi, eta arcsec)\n"
     ]
    },
    {
     "name": "stderr",
     "output_type": "stream",
     "text": [
      "2022-07-07 06:21:27,693 - stpipe.Spec3Pipeline.cube_build - INFO - Axis 1    35  18.00   0.00002193   0.13000000  -2.27499992   2.27499992\n"
     ]
    },
    {
     "name": "stderr",
     "output_type": "stream",
     "text": [
      "2022-07-07 06:21:27,693 - stpipe.Spec3Pipeline.cube_build - INFO - Axis 2    35  18.00   0.00003324   0.13000000  -2.27499992   2.27499992\n"
     ]
    },
    {
     "name": "stderr",
     "output_type": "stream",
     "text": [
      "2022-07-07 06:21:27,693 - stpipe.Spec3Pipeline.cube_build - INFO - axis#  Naxis  CRPIX    CRVAL      CDELT(microns)  Min & Max (microns)\n"
     ]
    },
    {
     "name": "stderr",
     "output_type": "stream",
     "text": [
      "2022-07-07 06:21:27,694 - stpipe.Spec3Pipeline.cube_build - INFO - Axis 3  1091   1.00   6.42050008   0.00100000   6.42000008   7.51100013\n"
     ]
    },
    {
     "name": "stderr",
     "output_type": "stream",
     "text": [
      "2022-07-07 06:21:27,694 - stpipe.Spec3Pipeline.cube_build - INFO - Cube covers channel, subchannel: 1, long\n"
     ]
    },
    {
     "name": "stderr",
     "output_type": "stream",
     "text": [
      "2022-07-07 06:21:27,694 - stpipe.Spec3Pipeline.cube_build - INFO - Output Name: od_after_ch1-long_s3d.fits\n"
     ]
    },
    {
     "name": "stderr",
     "output_type": "stream",
     "text": [
      "2022-07-07 06:21:29,095 - stpipe.Spec3Pipeline.cube_build - INFO - # of detector pixels not mapped to output plane: 7328 with wavelength below 6.418208224695982\n"
     ]
    },
    {
     "name": "stderr",
     "output_type": "stream",
     "text": [
      "2022-07-07 06:21:29,095 - stpipe.Spec3Pipeline.cube_build - INFO - # of detector pixels not mapped to output plane: 10658 with wavelength above 7.512791979711628\n"
     ]
    },
    {
     "name": "stderr",
     "output_type": "stream",
     "text": [
      "2022-07-07 06:21:34,776 - stpipe.Spec3Pipeline.cube_build - INFO - # of detector pixels not mapped to output plane: 7328 with wavelength below 6.418208224695982\n"
     ]
    },
    {
     "name": "stderr",
     "output_type": "stream",
     "text": [
      "2022-07-07 06:21:34,777 - stpipe.Spec3Pipeline.cube_build - INFO - # of detector pixels not mapped to output plane: 10658 with wavelength above 7.512791979711628\n"
     ]
    },
    {
     "name": "stderr",
     "output_type": "stream",
     "text": [
      "2022-07-07 06:21:40,478 - stpipe.Spec3Pipeline.cube_build - INFO - # of detector pixels not mapped to output plane: 7328 with wavelength below 6.418208224695982\n"
     ]
    },
    {
     "name": "stderr",
     "output_type": "stream",
     "text": [
      "2022-07-07 06:21:40,479 - stpipe.Spec3Pipeline.cube_build - INFO - # of detector pixels not mapped to output plane: 10658 with wavelength above 7.512791979711628\n"
     ]
    },
    {
     "name": "stderr",
     "output_type": "stream",
     "text": [
      "2022-07-07 06:21:46,537 - stpipe.Spec3Pipeline.cube_build - INFO - # of detector pixels not mapped to output plane: 7328 with wavelength below 6.418208224695982\n"
     ]
    },
    {
     "name": "stderr",
     "output_type": "stream",
     "text": [
      "2022-07-07 06:21:46,539 - stpipe.Spec3Pipeline.cube_build - INFO - # of detector pixels not mapped to output plane: 10658 with wavelength above 7.512791979711628\n"
     ]
    },
    {
     "name": "stderr",
     "output_type": "stream",
     "text": [
      "2022-07-07 06:21:50,910 - stpipe.Spec3Pipeline.cube_build - INFO - Average # of holes/wavelength plane is < 1\n"
     ]
    },
    {
     "name": "stderr",
     "output_type": "stream",
     "text": [
      "2022-07-07 06:21:50,911 - stpipe.Spec3Pipeline.cube_build - INFO - Total # of holes for IFU cube is : 0\n"
     ]
    },
    {
     "name": "stderr",
     "output_type": "stream",
     "text": [
      "2022-07-07 06:21:50,920 - stpipe.Spec3Pipeline.cube_build - INFO - Number of spectral tear planes adjusted: 0\n"
     ]
    },
    {
     "name": "stderr",
     "output_type": "stream",
     "text": [
      "2022-07-07 06:21:52,795 - stpipe.Spec3Pipeline.cube_build - INFO - Update S_REGION to POLYGON ICRS  0.000635814 -0.000580646 0.000635814 0.000647132 359.999408037 0.000647132 359.999408037 -0.000580646\n"
     ]
    },
    {
     "name": "stderr",
     "output_type": "stream",
     "text": [
      "2022-07-07 06:21:53,258 - stpipe.Spec3Pipeline.cube_build - INFO - Saved model in od_after_ch1-long_s3d.fits\n"
     ]
    },
    {
     "name": "stderr",
     "output_type": "stream",
     "text": [
      "2022-07-07 06:21:53,260 - stpipe.Spec3Pipeline.cube_build - INFO - Step cube_build done\n"
     ]
    },
    {
     "name": "stderr",
     "output_type": "stream",
     "text": [
      "2022-07-07 06:21:54,016 - stpipe.Spec3Pipeline.extract_1d - INFO - Step extract_1d running with args (<ModelContainer>,).\n"
     ]
    },
    {
     "name": "stderr",
     "output_type": "stream",
     "text": [
      "2022-07-07 06:21:54,020 - stpipe.Spec3Pipeline.extract_1d - INFO - Step extract_1d parameters are: {'pre_hooks': [], 'post_hooks': [], 'output_file': None, 'output_dir': None, 'output_ext': '.fits', 'output_use_model': False, 'output_use_index': True, 'save_results': True, 'skip': False, 'suffix': 'x1d', 'search_output_file': False, 'input_dir': '', 'smoothing_length': None, 'bkg_fit': None, 'bkg_order': None, 'bkg_sigma_clip': 3.0, 'log_increment': 50, 'subtract_background': None, 'use_source_posn': None, 'center_xy': None, 'apply_apcorr': True, 'soss_threshold': 0.01, 'soss_n_os': 2, 'soss_transform': None, 'soss_tikfac': None, 'soss_width': 40.0, 'soss_bad_pix': 'model', 'soss_modelname': None}\n"
     ]
    },
    {
     "name": "stderr",
     "output_type": "stream",
     "text": [
      "2022-07-07 06:21:54,047 - stpipe.Spec3Pipeline.extract_1d - INFO - Using EXTRACT1D reference file /grp/crds/cache/references/jwst/jwst_miri_extract1d_0003.asdf\n"
     ]
    },
    {
     "name": "stderr",
     "output_type": "stream",
     "text": [
      "2022-07-07 06:21:54,063 - stpipe.Spec3Pipeline.extract_1d - INFO - Using APCORR file /grp/crds/cache/references/jwst/jwst_miri_apcorr_0002.asdf\n"
     ]
    },
    {
     "name": "stderr",
     "output_type": "stream",
     "text": [
      "2022-07-07 06:21:55,467 - stpipe.Spec3Pipeline.extract_1d - INFO - Turning on source position correction for exp_type = MIR_MRS\n"
     ]
    },
    {
     "name": "stderr",
     "output_type": "stream",
     "text": [
      "2022-07-07 06:21:55,468 - stpipe.Spec3Pipeline.extract_1d - INFO - Source type = EXTENDED\n"
     ]
    },
    {
     "name": "stderr",
     "output_type": "stream",
     "text": [
      "2022-07-07 06:21:55,482 - stpipe.Spec3Pipeline.extract_1d - INFO - Input model does not break out variance information. Passing only generalized errors.\n"
     ]
    },
    {
     "name": "stderr",
     "output_type": "stream",
     "text": [
      "2022-07-07 06:22:06,523 - stpipe.Spec3Pipeline.extract_1d - INFO - Saved model in od_after_ch1-long_x1d.fits\n"
     ]
    },
    {
     "name": "stderr",
     "output_type": "stream",
     "text": [
      "2022-07-07 06:22:06,526 - stpipe.Spec3Pipeline.extract_1d - INFO - Step extract_1d done\n"
     ]
    },
    {
     "name": "stderr",
     "output_type": "stream",
     "text": [
      "2022-07-07 06:22:06,534 - stpipe.Spec3Pipeline - INFO - Ending calwebb_spec3\n"
     ]
    },
    {
     "name": "stderr",
     "output_type": "stream",
     "text": [
      "2022-07-07 06:22:06,535 - stpipe.Spec3Pipeline - INFO - Step Spec3Pipeline done\n"
     ]
    }
   ],
   "source": [
    "# Run this association through the Spec3 pipeline with just outlier detection and cube build\n",
    "spec3=Spec3Pipeline()\n",
    "spec3.save_results = True\n",
    "spec3.master_background.skip = True\n",
    "spec3.mrs_imatch.skip = True\n",
    "spec3.outlier_detection.save_intermediate_results = True\n",
    "spec3.outlier_detection.scale = '2.0 2.0'\n",
    "spec3.cube_build.channel='1'\n",
    "spec3.cube_build.output_file='od_after'\n",
    "spec3('od.json')"
   ]
  },
  {
   "cell_type": "code",
   "execution_count": 15,
   "id": "caring-monroe",
   "metadata": {
    "execution": {
     "iopub.execute_input": "2022-07-07T10:22:06.543358Z",
     "iopub.status.busy": "2022-07-07T10:22:06.543140Z",
     "iopub.status.idle": "2022-07-07T10:22:06.781372Z",
     "shell.execute_reply": "2022-07-07T10:22:06.780294Z"
    }
   },
   "outputs": [
    {
     "data": {
      "text/plain": [
       "(0.0, 300.0)"
      ]
     },
     "execution_count": 15,
     "metadata": {},
     "output_type": "execute_result"
    },
    {
     "data": {
      "image/png": "[encoded data removed]",
      "text/plain": [
       "<Figure size 700x700 with 2 Axes>"
      ]
     },
     "metadata": {
      "needs_background": "light"
     },
     "output_type": "display_data"
    }
   ],
   "source": [
    "# Show the image and mask\n",
    "hdu=fits.open('det_image_seq1_MIRIFUSHORT_12LONGexp1_od_test_a3001_crf.fits')\n",
    "flux=hdu['SCI'].data\n",
    "dq=hdu['DQ'].data\n",
    "\n",
    "# Use a classic ZScale normalization\n",
    "norm = ImageNormalize(flux, interval=ZScaleInterval(),stretch=LinearStretch())\n",
    "\n",
    "rc('axes', linewidth=2)            \n",
    "fig, (ax1,ax2) = plt.subplots(1,2, figsize=(7,7),dpi=100)\n",
    "\n",
    "# Plot the data to visually check outliers were inserted correctly\n",
    "ax1.imshow(flux, cmap='gray',norm=norm,origin='lower')\n",
    "ax1.set_title('2d SCI array')\n",
    "ax1.set_xlabel('X pixel')\n",
    "ax1.set_ylabel('Y pixel')\n",
    "ax1.set_xlim(340,370)\n",
    "ax1.set_ylim(0, 300)\n",
    "\n",
    "ax2.imshow(dq, cmap='gray',vmin=0,vmax=1,origin='lower')\n",
    "ax2.set_title('2d DQ array')\n",
    "ax2.set_xlabel('X pixel')\n",
    "ax2.set_xlim(340,370)\n",
    "ax2.set_ylim(0, 300)"
   ]
  },
  {
   "cell_type": "code",
   "execution_count": 16,
   "id": "4c7af0da",
   "metadata": {
    "execution": {
     "iopub.execute_input": "2022-07-07T10:22:06.789124Z",
     "iopub.status.busy": "2022-07-07T10:22:06.788756Z",
     "iopub.status.idle": "2022-07-07T10:22:06.803294Z",
     "shell.execute_reply": "2022-07-07T10:22:06.802483Z"
    }
   },
   "outputs": [
    {
     "name": "stdout",
     "output_type": "stream",
     "text": [
      "flux: 3000.0 DQ Flag: 21 DQ Name: {'DO_NOT_USE', 'OUTLIER', 'JUMP_DET'}\n",
      "flux: 6000.0 DQ Flag: 21 DQ Name: {'DO_NOT_USE', 'OUTLIER', 'JUMP_DET'}\n",
      "flux: 9000.0 DQ Flag: 17 DQ Name: {'DO_NOT_USE', 'OUTLIER'}\n",
      "flux: 12000.0 DQ Flag: 17 DQ Name: {'DO_NOT_USE', 'OUTLIER'}\n",
      "flux: 15000.0 DQ Flag: 17 DQ Name: {'DO_NOT_USE', 'OUTLIER'}\n",
      "flux: 18000.0 DQ Flag: 17 DQ Name: {'DO_NOT_USE', 'OUTLIER'}\n",
      "flux: 21000.0 DQ Flag: 17 DQ Name: {'DO_NOT_USE', 'OUTLIER'}\n",
      "flux: 24000.0 DQ Flag: 17 DQ Name: {'DO_NOT_USE', 'OUTLIER'}\n",
      "flux: 27000.0 DQ Flag: 21 DQ Name: {'DO_NOT_USE', 'OUTLIER', 'JUMP_DET'}\n",
      "flux: 30000.0 DQ Flag: 17 DQ Name: {'DO_NOT_USE', 'OUTLIER'}\n"
     ]
    }
   ],
   "source": [
    "# Check DQ flags due to the the above plots being messy\n",
    "print('flux:', flux[21,355], 'DQ Flag:', dq[21,355], 'DQ Name:', dqflags.dqflags_to_mnemonics(dq[21,355],mnemonic_map=datamodels.dqflags.pixel))\n",
    "\n",
    "print('flux:',flux[121,355], 'DQ Flag:', dq[121,355], 'DQ Name:', dqflags.dqflags_to_mnemonics(dq[121,355],mnemonic_map=datamodels.dqflags.pixel))\n",
    "\n",
    "print('flux:',flux[221,355], 'DQ Flag:', dq[221,355], 'DQ Name:', dqflags.dqflags_to_mnemonics(dq[221,355],mnemonic_map=datamodels.dqflags.pixel))\n",
    "\n",
    "print('flux:',flux[321,355], 'DQ Flag:', dq[321,355], 'DQ Name:', dqflags.dqflags_to_mnemonics(dq[321,355],mnemonic_map=datamodels.dqflags.pixel))\n",
    "\n",
    "print('flux:',flux[421,355], 'DQ Flag:', dq[421,355], 'DQ Name:', dqflags.dqflags_to_mnemonics(dq[421,355],mnemonic_map=datamodels.dqflags.pixel))\n",
    "\n",
    "print('flux:',flux[521,355], 'DQ Flag:', dq[521,355], 'DQ Name:', dqflags.dqflags_to_mnemonics(dq[521,355],mnemonic_map=datamodels.dqflags.pixel))\n",
    "\n",
    "print('flux:',flux[621,355], 'DQ Flag:', dq[621,355], 'DQ Name:', dqflags.dqflags_to_mnemonics(dq[621,355],mnemonic_map=datamodels.dqflags.pixel))\n",
    "\n",
    "print('flux:',flux[721,355], 'DQ Flag:', dq[721,355], 'DQ Name:', dqflags.dqflags_to_mnemonics(dq[721,355],mnemonic_map=datamodels.dqflags.pixel))\n",
    "\n",
    "print('flux:',flux[821,355], 'DQ Flag:', dq[821,355], 'DQ Name:', dqflags.dqflags_to_mnemonics(dq[821,355],mnemonic_map=datamodels.dqflags.pixel))\n",
    "\n",
    "print('flux:',flux[921,355], 'DQ Flag:', dq[921,355], 'DQ Name:', dqflags.dqflags_to_mnemonics(dq[921,355],mnemonic_map=datamodels.dqflags.pixel))"
   ]
  },
  {
   "cell_type": "code",
   "execution_count": 17,
   "id": "entitled-surfing",
   "metadata": {
    "execution": {
     "iopub.execute_input": "2022-07-07T10:22:06.806589Z",
     "iopub.status.busy": "2022-07-07T10:22:06.806401Z",
     "iopub.status.idle": "2022-07-07T10:22:06.809768Z",
     "shell.execute_reply": "2022-07-07T10:22:06.809228Z"
    }
   },
   "outputs": [],
   "source": [
    "# Close files\n",
    "hdu.close()"
   ]
  },
  {
   "cell_type": "code",
   "execution_count": 18,
   "id": "spread-contrary",
   "metadata": {
    "execution": {
     "iopub.execute_input": "2022-07-07T10:22:06.812608Z",
     "iopub.status.busy": "2022-07-07T10:22:06.812427Z",
     "iopub.status.idle": "2022-07-07T10:22:06.829224Z",
     "shell.execute_reply": "2022-07-07T10:22:06.828654Z"
    }
   },
   "outputs": [],
   "source": [
    "# Cube without outlier rejection\n",
    "hdu1=fits.open('od_before_ch1-long_s3d.fits')\n",
    "flux1=hdu1['SCI'].data\n",
    "\n",
    "# Cube with outlier rejection\n",
    "hdu2=fits.open('od_after_ch1-long_s3d.fits')\n",
    "flux2=hdu2['SCI'].data\n",
    "\n",
    "# Use a classic ZScale normalization\n",
    "norm = ImageNormalize(flux1, interval=ZScaleInterval(),stretch=LinearStretch())"
   ]
  },
  {
   "cell_type": "code",
   "execution_count": 19,
   "id": "supported-church",
   "metadata": {
    "execution": {
     "iopub.execute_input": "2022-07-07T10:22:06.832819Z",
     "iopub.status.busy": "2022-07-07T10:22:06.832525Z",
     "iopub.status.idle": "2022-07-07T10:22:07.630623Z",
     "shell.execute_reply": "2022-07-07T10:22:07.629726Z"
    }
   },
   "outputs": [
    {
     "data": {
      "text/plain": [
       "Text(0.5, 1.0, 'With Outlier Det., Input 3000')"
      ]
     },
     "execution_count": 19,
     "metadata": {},
     "output_type": "execute_result"
    },
    {
     "data": {
      "image/png": "[encoded data removed]",
      "text/plain": [
       "<Figure size 700x700 with 2 Axes>"
      ]
     },
     "metadata": {
      "needs_background": "light"
     },
     "output_type": "display_data"
    }
   ],
   "source": [
    "rc('axes', linewidth=2)            \n",
    "fig, (ax1,ax2) = plt.subplots(1, 2, figsize=(7,7),dpi=100)\n",
    "\n",
    "# Plot data\n",
    "ax1.imshow(flux1[1,:,:], cmap='gray',norm=norm,origin='lower')\n",
    "ax1.set_title('No Outlier Det., Input 3000')\n",
    "\n",
    "ax2.imshow(flux2[1,:,:], cmap='gray',norm=norm,origin='lower')\n",
    "ax2.set_title('With Outlier Det., Input 3000')"
   ]
  },
  {
   "cell_type": "code",
   "execution_count": 20,
   "id": "quiet-portrait",
   "metadata": {
    "execution": {
     "iopub.execute_input": "2022-07-07T10:22:07.635873Z",
     "iopub.status.busy": "2022-07-07T10:22:07.635612Z",
     "iopub.status.idle": "2022-07-07T10:22:07.787852Z",
     "shell.execute_reply": "2022-07-07T10:22:07.787063Z"
    }
   },
   "outputs": [
    {
     "data": {
      "text/plain": [
       "Text(0.5, 1.0, 'With Outlier Det., Input 6000')"
      ]
     },
     "execution_count": 20,
     "metadata": {},
     "output_type": "execute_result"
    },
    {
     "data": {
      "image/png": "[encoded data removed]",
      "text/plain": [
       "<Figure size 700x700 with 2 Axes>"
      ]
     },
     "metadata": {
      "needs_background": "light"
     },
     "output_type": "display_data"
    }
   ],
   "source": [
    "rc('axes', linewidth=2)            \n",
    "fig, (ax1,ax2) = plt.subplots(1, 2, figsize=(7,7),dpi=100)\n",
    "\n",
    "# Plot data\n",
    "ax1.imshow(flux1[126,:,:], cmap='gray',norm=norm,origin='lower')\n",
    "ax1.set_title('No Outlier Det., Input 6000')\n",
    "\n",
    "ax2.imshow(flux2[126,:,:], cmap='gray',norm=norm,origin='lower')\n",
    "ax2.set_title('With Outlier Det., Input 6000')"
   ]
  },
  {
   "cell_type": "code",
   "execution_count": 21,
   "id": "enabling-irrigation",
   "metadata": {
    "execution": {
     "iopub.execute_input": "2022-07-07T10:22:07.792662Z",
     "iopub.status.busy": "2022-07-07T10:22:07.792461Z",
     "iopub.status.idle": "2022-07-07T10:22:07.942984Z",
     "shell.execute_reply": "2022-07-07T10:22:07.942308Z"
    }
   },
   "outputs": [
    {
     "data": {
      "text/plain": [
       "Text(0.5, 1.0, 'With Outlier Det., Input 9000')"
      ]
     },
     "execution_count": 21,
     "metadata": {},
     "output_type": "execute_result"
    },
    {
     "data": {
      "image/png": "[encoded data removed]",
      "text/plain": [
       "<Figure size 700x700 with 2 Axes>"
      ]
     },
     "metadata": {
      "needs_background": "light"
     },
     "output_type": "display_data"
    }
   ],
   "source": [
    "rc('axes', linewidth=2)            \n",
    "fig, (ax1,ax2) = plt.subplots(1, 2, figsize=(7,7),dpi=100)\n",
    "\n",
    "# Plot data\n",
    "ax1.imshow(flux1[249,:,:], cmap='gray',norm=norm,origin='lower')\n",
    "ax1.set_title('No Outlier Det., Input 9000')\n",
    "\n",
    "ax2.imshow(flux2[249,:,:], cmap='gray',norm=norm,origin='lower')\n",
    "ax2.set_title('With Outlier Det., Input 9000')"
   ]
  },
  {
   "cell_type": "code",
   "execution_count": 22,
   "id": "dried-fancy",
   "metadata": {
    "execution": {
     "iopub.execute_input": "2022-07-07T10:22:07.948105Z",
     "iopub.status.busy": "2022-07-07T10:22:07.947901Z",
     "iopub.status.idle": "2022-07-07T10:22:08.108436Z",
     "shell.execute_reply": "2022-07-07T10:22:08.107668Z"
    }
   },
   "outputs": [
    {
     "data": {
      "text/plain": [
       "Text(0.5, 1.0, 'With Outlier Det., Input 12000')"
      ]
     },
     "execution_count": 22,
     "metadata": {},
     "output_type": "execute_result"
    },
    {
     "data": {
      "image/png": "[encoded data removed]",
      "text/plain": [
       "<Figure size 700x700 with 2 Axes>"
      ]
     },
     "metadata": {
      "needs_background": "light"
     },
     "output_type": "display_data"
    }
   ],
   "source": [
    "rc('axes', linewidth=2)            \n",
    "fig, (ax1,ax2) = plt.subplots(1, 2, figsize=(7,7),dpi=100)\n",
    "\n",
    "# Plot data\n",
    "ax1.imshow(flux1[369,:,:], cmap='gray',norm=norm,origin='lower')\n",
    "ax1.set_title('No Outlier Det., Input 12000')\n",
    "\n",
    "ax2.imshow(flux2[369,:,:], cmap='gray',norm=norm,origin='lower')\n",
    "ax2.set_title('With Outlier Det., Input 12000')"
   ]
  },
  {
   "cell_type": "code",
   "execution_count": 23,
   "id": "operational-travel",
   "metadata": {
    "execution": {
     "iopub.execute_input": "2022-07-07T10:22:08.113618Z",
     "iopub.status.busy": "2022-07-07T10:22:08.113412Z",
     "iopub.status.idle": "2022-07-07T10:22:08.258775Z",
     "shell.execute_reply": "2022-07-07T10:22:08.258100Z"
    }
   },
   "outputs": [
    {
     "data": {
      "text/plain": [
       "Text(0.5, 1.0, 'With Outlier Det., Input 15000')"
      ]
     },
     "execution_count": 23,
     "metadata": {},
     "output_type": "execute_result"
    },
    {
     "data": {
      "image/png": "[encoded data removed]",
      "text/plain": [
       "<Figure size 700x700 with 2 Axes>"
      ]
     },
     "metadata": {
      "needs_background": "light"
     },
     "output_type": "display_data"
    }
   ],
   "source": [
    "rc('axes', linewidth=2)            \n",
    "fig, (ax1,ax2) = plt.subplots(1, 2, figsize=(7,7),dpi=100)\n",
    "\n",
    "# Plot data\n",
    "ax1.imshow(flux1[486,:,:], cmap='gray',norm=norm,origin='lower')\n",
    "ax1.set_title('No Outlier Det., Input 15000')\n",
    "\n",
    "ax2.imshow(flux2[486,:,:], cmap='gray',norm=norm,origin='lower')\n",
    "ax2.set_title('With Outlier Det., Input 15000')"
   ]
  },
  {
   "cell_type": "code",
   "execution_count": 24,
   "id": "vulnerable-basics",
   "metadata": {
    "execution": {
     "iopub.execute_input": "2022-07-07T10:22:08.263669Z",
     "iopub.status.busy": "2022-07-07T10:22:08.263468Z",
     "iopub.status.idle": "2022-07-07T10:22:08.410336Z",
     "shell.execute_reply": "2022-07-07T10:22:08.409658Z"
    }
   },
   "outputs": [
    {
     "data": {
      "text/plain": [
       "Text(0.5, 1.0, 'With Outlier Det., Input 18000')"
      ]
     },
     "execution_count": 24,
     "metadata": {},
     "output_type": "execute_result"
    },
    {
     "data": {
      "image/png": "[encoded data removed]",
      "text/plain": [
       "<Figure size 700x700 with 2 Axes>"
      ]
     },
     "metadata": {
      "needs_background": "light"
     },
     "output_type": "display_data"
    }
   ],
   "source": [
    "rc('axes', linewidth=2)            \n",
    "fig, (ax1,ax2) = plt.subplots(1, 2, figsize=(7,7),dpi=100)\n",
    "\n",
    "# Plot data\n",
    "ax1.imshow(flux1[600,:,:], cmap='gray',norm=norm,origin='lower')\n",
    "ax1.set_title('No Outlier Det., Input 18000')\n",
    "\n",
    "ax2.imshow(flux2[600,:,:], cmap='gray',norm=norm,origin='lower')\n",
    "ax2.set_title('With Outlier Det., Input 18000')"
   ]
  },
  {
   "cell_type": "code",
   "execution_count": 25,
   "id": "played-small",
   "metadata": {
    "execution": {
     "iopub.execute_input": "2022-07-07T10:22:08.415414Z",
     "iopub.status.busy": "2022-07-07T10:22:08.415202Z",
     "iopub.status.idle": "2022-07-07T10:22:08.564033Z",
     "shell.execute_reply": "2022-07-07T10:22:08.563297Z"
    }
   },
   "outputs": [
    {
     "data": {
      "text/plain": [
       "Text(0.5, 1.0, 'With Outlier Det., Input 21000')"
      ]
     },
     "execution_count": 25,
     "metadata": {},
     "output_type": "execute_result"
    },
    {
     "data": {
      "image/png": "[encoded data removed]",
      "text/plain": [
       "<Figure size 700x700 with 2 Axes>"
      ]
     },
     "metadata": {
      "needs_background": "light"
     },
     "output_type": "display_data"
    }
   ],
   "source": [
    "rc('axes', linewidth=2)            \n",
    "fig, (ax1,ax2) = plt.subplots(1, 2, figsize=(7,7),dpi=100)\n",
    "\n",
    "# Plot data\n",
    "ax1.imshow(flux1[712,:,:], cmap='gray',norm=norm,origin='lower')\n",
    "ax1.set_title('No Outlier Det., Input 21000')\n",
    "\n",
    "ax2.imshow(flux2[712,:,:], cmap='gray',norm=norm,origin='lower')\n",
    "ax2.set_title('With Outlier Det., Input 21000')"
   ]
  },
  {
   "cell_type": "code",
   "execution_count": 26,
   "id": "altered-threshold",
   "metadata": {
    "execution": {
     "iopub.execute_input": "2022-07-07T10:22:08.568911Z",
     "iopub.status.busy": "2022-07-07T10:22:08.568708Z",
     "iopub.status.idle": "2022-07-07T10:22:08.715167Z",
     "shell.execute_reply": "2022-07-07T10:22:08.714535Z"
    }
   },
   "outputs": [
    {
     "data": {
      "text/plain": [
       "Text(0.5, 1.0, 'With Outlier Det., Input 24000')"
      ]
     },
     "execution_count": 26,
     "metadata": {},
     "output_type": "execute_result"
    },
    {
     "data": {
      "image/png": "[encoded data removed]",
      "text/plain": [
       "<Figure size 700x700 with 2 Axes>"
      ]
     },
     "metadata": {
      "needs_background": "light"
     },
     "output_type": "display_data"
    }
   ],
   "source": [
    "rc('axes', linewidth=2)            \n",
    "fig, (ax1,ax2) = plt.subplots(1, 2, figsize=(7,7),dpi=100)\n",
    "\n",
    "# Plot data\n",
    "ax1.imshow(flux1[821,:,:], cmap='gray',norm=norm,origin='lower')\n",
    "ax1.set_title('No Outlier Det., Input 24000')\n",
    "\n",
    "ax2.imshow(flux2[821,:,:], cmap='gray',norm=norm,origin='lower')\n",
    "ax2.set_title('With Outlier Det., Input 24000')"
   ]
  },
  {
   "cell_type": "code",
   "execution_count": 27,
   "id": "middle-client",
   "metadata": {
    "execution": {
     "iopub.execute_input": "2022-07-07T10:22:08.720010Z",
     "iopub.status.busy": "2022-07-07T10:22:08.719811Z",
     "iopub.status.idle": "2022-07-07T10:22:08.865761Z",
     "shell.execute_reply": "2022-07-07T10:22:08.865111Z"
    }
   },
   "outputs": [
    {
     "data": {
      "text/plain": [
       "Text(0.5, 1.0, 'With Outlier Det., Input 27000')"
      ]
     },
     "execution_count": 27,
     "metadata": {},
     "output_type": "execute_result"
    },
    {
     "data": {
      "image/png": "[encoded data removed]",
      "text/plain": [
       "<Figure size 700x700 with 2 Axes>"
      ]
     },
     "metadata": {
      "needs_background": "light"
     },
     "output_type": "display_data"
    }
   ],
   "source": [
    "rc('axes', linewidth=2)            \n",
    "fig, (ax1,ax2) = plt.subplots(1, 2, figsize=(7,7),dpi=100)\n",
    "\n",
    "# Plot data\n",
    "ax1.imshow(flux1[927,:,:], cmap='gray',norm=norm,origin='lower')\n",
    "ax1.set_title('No Outlier Det., Input 27000')\n",
    "\n",
    "ax2.imshow(flux2[927,:,:], cmap='gray',norm=norm,origin='lower')\n",
    "ax2.set_title('With Outlier Det., Input 27000')"
   ]
  },
  {
   "cell_type": "code",
   "execution_count": 28,
   "id": "crazy-canadian",
   "metadata": {
    "execution": {
     "iopub.execute_input": "2022-07-07T10:22:08.870662Z",
     "iopub.status.busy": "2022-07-07T10:22:08.870459Z",
     "iopub.status.idle": "2022-07-07T10:22:09.016152Z",
     "shell.execute_reply": "2022-07-07T10:22:09.015477Z"
    }
   },
   "outputs": [
    {
     "data": {
      "text/plain": [
       "Text(0.5, 1.0, 'With Outlier Det., Input 30000')"
      ]
     },
     "execution_count": 28,
     "metadata": {},
     "output_type": "execute_result"
    },
    {
     "data": {
      "image/png": "[encoded data removed]",
      "text/plain": [
       "<Figure size 700x700 with 2 Axes>"
      ]
     },
     "metadata": {
      "needs_background": "light"
     },
     "output_type": "display_data"
    }
   ],
   "source": [
    "rc('axes', linewidth=2)            \n",
    "fig, (ax1,ax2) = plt.subplots(1, 2, figsize=(7,7),dpi=100)\n",
    "\n",
    "# Plot data\n",
    "ax1.imshow(flux1[1030,:,:], cmap='gray',norm=norm,origin='lower')\n",
    "ax1.set_title('No Outlier Det., Input 30000')\n",
    "\n",
    "ax2.imshow(flux2[1030,:,:], cmap='gray',norm=norm,origin='lower')\n",
    "ax2.set_title('With Outlier Det., Input 30000')\n"
   ]
  },
  {
   "cell_type": "code",
   "execution_count": 29,
   "id": "d6bd4219",
   "metadata": {
    "execution": {
     "iopub.execute_input": "2022-07-07T10:22:09.021165Z",
     "iopub.status.busy": "2022-07-07T10:22:09.020968Z",
     "iopub.status.idle": "2022-07-07T10:22:09.472251Z",
     "shell.execute_reply": "2022-07-07T10:22:09.471564Z"
    }
   },
   "outputs": [
    {
     "data": {
      "text/plain": [
       "<matplotlib.legend.Legend at 0x7f955fcb23b0>"
      ]
     },
     "execution_count": 29,
     "metadata": {},
     "output_type": "execute_result"
    },
    {
     "data": {
      "image/png": "[encoded data removed]",
      "text/plain": [
       "<Figure size 432x288 with 1 Axes>"
      ]
     },
     "metadata": {
      "needs_background": "light"
     },
     "output_type": "display_data"
    }
   ],
   "source": [
    "# Plot spectrum of point source before outlier detection\n",
    "image1,header1=fits.getdata('od_before_ch1-long_s3d.fits',header=True)\n",
    "num_x1=header1[\"NAXIS2\"]\n",
    "num_y1=header1[\"NAXIS1\"]\n",
    "num_chan1=header1[\"NAXIS3\"]\n",
    "start_wavelength1=header1[\"CRVAL3\"]\n",
    "step_wavelength1=header1[\"CDELT3\"]\n",
    "pix_size1=header1[\"PIXAR_SR\"]\n",
    "\n",
    "# Get wavelength\n",
    "d1=[0.0]*num_chan1\n",
    "d1[0]=start_wavelength1\n",
    "for i in range(1,num_chan1):\n",
    "    d1[i]=d1[i-1]+step_wavelength1\n",
    "\n",
    "# Get flux\n",
    "a1=[0.0]*num_chan1\n",
    "for i in range(0,num_chan1):\n",
    "    for m in range(10,30):\n",
    "        for n in range(10,30):\n",
    "            a1[i]=image1[i,m,n]+a1[i] \n",
    "for i in range(0,num_chan1):\n",
    "    a1[i]=a1[i]*(10**6)*(pix_size1)\n",
    "\n",
    "# Plot spectrum of point source before outlier detection\n",
    "plt.plot(d1,a1,'-', color='blue', lw=1, label='without outlier detection')\n",
    "\n",
    "# Plot spectrum of point source after outlier detection\n",
    "image2,header2=fits.getdata('od_after_ch1-long_s3d.fits',header=True)\n",
    "num_x2=header2[\"NAXIS2\"]\n",
    "num_y2=header2[\"NAXIS1\"]\n",
    "num_chan2=header2[\"NAXIS3\"]\n",
    "start_wavelength2=header2[\"CRVAL3\"]\n",
    "step_wavelength2=header2[\"CDELT3\"]\n",
    "pix_size2=header2[\"PIXAR_SR\"]\n",
    "\n",
    "#Get wavelength\n",
    "d2=[0.0]*num_chan1\n",
    "d2[0]=start_wavelength2\n",
    "for i in range(1,num_chan2):\n",
    "    d2[i]=d2[i-1]+step_wavelength2\n",
    "\n",
    "#Get flux\n",
    "a2=[0.0]*num_chan2\n",
    "for i in range(0,num_chan2):\n",
    "    for m in range(10,30):\n",
    "        for n in range(10,30):\n",
    "            a2[i]=image2[i,m,n]+a2[i] \n",
    "for i in range(0,num_chan2):\n",
    "    a2[i]=a2[i]*(10**6)*(pix_size2)\n",
    "\n",
    "#Plot spectrum\n",
    "plt.plot(d2,a2,'-', color='black', lw=1, label='with outlier detection')\n",
    "\n",
    "#Edit plot settings\n",
    "plt.ylim(0.007, 0.020)\n",
    "plt.legend()"
   ]
  },
  {
   "cell_type": "code",
   "execution_count": 30,
   "id": "8d948b6a",
   "metadata": {
    "execution": {
     "iopub.execute_input": "2022-07-07T10:22:09.477725Z",
     "iopub.status.busy": "2022-07-07T10:22:09.477516Z",
     "iopub.status.idle": "2022-07-07T10:22:09.496380Z",
     "shell.execute_reply": "2022-07-07T10:22:09.495764Z"
    }
   },
   "outputs": [
    {
     "name": "stdout",
     "output_type": "stream",
     "text": [
      "19627.607837904245 , 18971.67971192673 , 3.3418648436148573\n",
      "21399.276641897857 , 18693.398481540382 , 12.644717882938199\n",
      "25417.34061220847 , 18260.295339828357 , 28.158120007812453\n",
      "34947.78160108626 , 18421.119035229087 , 47.28958980716385\n",
      "39734.25636713952 , 18526.348133054562 , 53.3743680468726\n",
      "45497.380921810865 , 18821.58060941659 , 58.631507510811986\n",
      "48022.55285745114 , 17765.299526251853 , 63.00634083534482\n",
      "46350.24041072186 , 17124.33385414537 , 63.05448752282173\n",
      "39031.97420272976 , 18042.911958135664 , 53.77402161514596\n",
      "24637.089681379497 , 16976.503663636744 , 31.093713246222254\n"
     ]
    }
   ],
   "source": [
    "# Pass/Fail criteria that determines flux of central source before and after outlier detection\n",
    "before_flux=[0.0]*10\n",
    "after_flux=[0.0]*10\n",
    "\n",
    "sum_before1=0.0\n",
    "sum_after1=0.0\n",
    "sum_before2=0.0\n",
    "sum_after2=0.0\n",
    "sum_before3=0.0\n",
    "sum_after3=0.0\n",
    "sum_before4=0.0\n",
    "sum_after4=0.0\n",
    "sum_before5=0.0\n",
    "sum_after5=0.0\n",
    "sum_before6=0.0\n",
    "sum_after6=0.0\n",
    "sum_before7=0.0\n",
    "sum_after7=0.0\n",
    "sum_before8=0.0\n",
    "sum_after8=0.0\n",
    "sum_before9=0.0\n",
    "sum_after9=0.0\n",
    "sum_before10=0.0\n",
    "sum_after10=0.0\n",
    "\n",
    "for i in range(15,30):\n",
    "    for j in range(15, 30):\n",
    "        sum_before1=sum_before1+flux1[1,j,i]\n",
    "\n",
    "for i in range(15,30):\n",
    "    for j in range(15,30):\n",
    "        sum_after1=sum_after1+flux2[1,j,i]\n",
    "\n",
    "for i in range(15,30):\n",
    "    for j in range(15, 30):\n",
    "        sum_before2=sum_before2+flux1[126,j,i]\n",
    "\n",
    "for i in range(15,30):\n",
    "    for j in range(15,30):\n",
    "        sum_after2=sum_after2+flux2[126,j,i]\n",
    "\n",
    "for i in range(15,30):\n",
    "    for j in range(15,30):\n",
    "        sum_before3=sum_before3+flux1[249,j,i]\n",
    "\n",
    "for i in range(15,30):\n",
    "    for j in range(15,30):\n",
    "        sum_after3=sum_after3+flux2[249,j,i]\n",
    "\n",
    "for i in range(15,30):\n",
    "    for j in range(15,30):\n",
    "        sum_before4=sum_before4+flux1[369,j,i]\n",
    "\n",
    "for i in range(15,30):\n",
    "    for j in range(15,30):\n",
    "        sum_after4=sum_after4+flux2[369,j,i]\n",
    "        \n",
    "for i in range(15,30):\n",
    "    for j in range(15,30):\n",
    "        sum_before5=sum_before5+flux1[486,j,i]\n",
    "\n",
    "for i in range(15,30):\n",
    "    for j in range(15,30):\n",
    "        sum_after5=sum_after5+flux2[486,j,i]\n",
    "        \n",
    "for i in range(15,30):\n",
    "    for j in range(15,30):\n",
    "        sum_before6=sum_before6+flux1[600,j,i]\n",
    "\n",
    "for i in range(15,30):\n",
    "    for j in range(15,30):\n",
    "        sum_after6=sum_after6+flux2[600,j,i]\n",
    "        \n",
    "for i in range(15,30):\n",
    "    for j in range(15,30):\n",
    "        sum_before7=sum_before7+flux1[712,j,i]\n",
    "\n",
    "for i in range(15,30):\n",
    "    for j in range(15,30):\n",
    "        sum_after7=sum_after7+flux2[712,j,i]\n",
    "        \n",
    "for i in range(15,30):\n",
    "    for j in range(15,30):\n",
    "        sum_before8=sum_before8+flux1[821,j,i]\n",
    "\n",
    "for i in range(15,30):\n",
    "    for j in range(15,30):\n",
    "        sum_after8=sum_after8+flux2[821,j,i]\n",
    "        \n",
    "for i in range(15,30):\n",
    "    for j in range(15,30):\n",
    "        sum_before9=sum_before9+flux1[927,j,i]\n",
    "\n",
    "for i in range(15,30):\n",
    "    for j in range(15,30):\n",
    "        sum_after9=sum_after9+flux2[927,j,i]\n",
    "        \n",
    "for i in range(15,30):\n",
    "    for j in range(15,30):\n",
    "        sum_before10=sum_before10+flux1[1030,j,i]\n",
    "\n",
    "for i in range(15,30):\n",
    "    for j in range(15,30):\n",
    "        sum_after10=sum_after10+flux2[1030,j,i]\n",
    "\n",
    "for a in range(0,10):\n",
    "    before_flux[0]=sum_before1\n",
    "    before_flux[1]=sum_before2\n",
    "    before_flux[2]=sum_before3\n",
    "    before_flux[3]=sum_before4\n",
    "    before_flux[4]=sum_before5\n",
    "    before_flux[5]=sum_before6\n",
    "    before_flux[6]=sum_before7\n",
    "    before_flux[7]=sum_before8\n",
    "    before_flux[8]=sum_before9\n",
    "    before_flux[9]=sum_before10\n",
    "\n",
    "for a in range(0,10):\n",
    "    after_flux[0]=sum_after1\n",
    "    after_flux[1]=sum_after2\n",
    "    after_flux[2]=sum_after3\n",
    "    after_flux[3]=sum_after4\n",
    "    after_flux[4]=sum_after5\n",
    "    after_flux[5]=sum_after6\n",
    "    after_flux[6]=sum_after7\n",
    "    after_flux[7]=sum_after8\n",
    "    after_flux[8]=sum_after9\n",
    "    after_flux[9]=sum_after10\n",
    "\n",
    "print(before_flux[0],',',after_flux[0],',',100*(before_flux[0]-after_flux[0])/(before_flux[0]))\n",
    "print(before_flux[1],',',after_flux[1],',',100*(before_flux[1]-after_flux[1])/(before_flux[1]))\n",
    "print(before_flux[2],',',after_flux[2],',',100*(before_flux[2]-after_flux[2])/(before_flux[2]))\n",
    "print(before_flux[3],',',after_flux[3],',',100*(before_flux[3]-after_flux[3])/(before_flux[3]))\n",
    "print(before_flux[4],',',after_flux[4],',',100*(before_flux[4]-after_flux[4])/(before_flux[4]))\n",
    "print(before_flux[5],',',after_flux[5],',',100*(before_flux[5]-after_flux[5])/(before_flux[5]))\n",
    "print(before_flux[6],',',after_flux[6],',',100*(before_flux[6]-after_flux[6])/(before_flux[6]))\n",
    "print(before_flux[7],',',after_flux[7],',',100*(before_flux[7]-after_flux[7])/(before_flux[7]))\n",
    "print(before_flux[8],',',after_flux[8],',',100*(before_flux[8]-after_flux[8])/(before_flux[8]))\n",
    "print(before_flux[9],',',after_flux[9],',',100*(before_flux[9]-after_flux[9])/(before_flux[9]))"
   ]
  },
  {
   "cell_type": "code",
   "execution_count": 31,
   "id": "da21534a",
   "metadata": {
    "execution": {
     "iopub.execute_input": "2022-07-07T10:22:09.501621Z",
     "iopub.status.busy": "2022-07-07T10:22:09.501313Z",
     "iopub.status.idle": "2022-07-07T10:22:09.505771Z",
     "shell.execute_reply": "2022-07-07T10:22:09.505158Z"
    }
   },
   "outputs": [
    {
     "name": "stdout",
     "output_type": "stream",
     "text": [
      "This notebook does not pass.\n"
     ]
    }
   ],
   "source": [
    "# Determine if the notebook passes or fails\n",
    "count=0\n",
    "for i in range(0,10):\n",
    "    if 100*(before_flux[i]-after_flux[i])/(before_flux[i]) > 35:\n",
    "        count=count+1\n",
    "\n",
    "if count>1:\n",
    "    print('This notebook does not pass.')\n",
    "else:\n",
    "    print('This notebook passes.')"
   ]
  },
  {
   "cell_type": "code",
   "execution_count": 32,
   "id": "interstate-threshold",
   "metadata": {
    "execution": {
     "iopub.execute_input": "2022-07-07T10:22:09.508878Z",
     "iopub.status.busy": "2022-07-07T10:22:09.508686Z",
     "iopub.status.idle": "2022-07-07T10:22:09.512016Z",
     "shell.execute_reply": "2022-07-07T10:22:09.511365Z"
    }
   },
   "outputs": [],
   "source": [
    "# Close files\n",
    "hdu1.close()\n",
    "hdu2.close()"
   ]
  },
  {
   "cell_type": "code",
   "execution_count": null,
   "id": "31a429a0",
   "metadata": {},
   "outputs": [],
   "source": []
  }
 ],
 "metadata": {
  "kernelspec": {
   "display_name": "Python 3 (ipykernel)",
   "language": "python",
   "name": "python3"
  },
  "language_info": {
   "codemirror_mode": {
    "name": "ipython",
    "version": 3
   },
   "file_extension": ".py",
   "mimetype": "text/x-python",
   "name": "python",
   "nbconvert_exporter": "python",
   "pygments_lexer": "ipython3",
   "version": "3.10.5"
  }
 },
 "nbformat": 4,
 "nbformat_minor": 5
}
