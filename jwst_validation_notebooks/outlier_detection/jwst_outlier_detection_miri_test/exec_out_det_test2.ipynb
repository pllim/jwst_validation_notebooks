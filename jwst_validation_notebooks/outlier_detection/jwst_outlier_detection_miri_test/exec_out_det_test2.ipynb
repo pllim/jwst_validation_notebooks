{
 "cells": [
  {
   "cell_type": "markdown",
   "id": "awful-custom",
   "metadata": {},
   "source": [
    "<a id=\"title_ID\"></a>\n",
    "# JWST Pipeline Validation Notebook: Outlier Detection for MIRI MRS\n",
    "\n",
    "<span style=\"color:red\"> **Instruments Affected**</span>: MIRI\n",
    "\n",
    "\n",
    "Tested on MIRI Simulated data\n",
    "\n"
   ]
  },
  {
   "cell_type": "markdown",
   "id": "imperial-blast",
   "metadata": {},
   "source": [
    "#### Author: Isha Nayak"
   ]
  },
  {
   "cell_type": "markdown",
   "id": "aggressive-porter",
   "metadata": {},
   "source": [
    "This notebook checks the outlier detection step of the pipeline during calwebb_spec3 for Channel 1 long wavelengths.\n",
    "\n",
    "First this notebook checks ten different locations in the detector and confirm these pixels in the detector fall in the range of the Channel 1 long wavelength range (6.42 - 7.51 microns). These outliers range from 3000 to 30000 in value to make sure a range of outlier values can be detected in the pipeline. After the outliers are injected in the detector frame, a file is saved.\n",
    "\n",
    "We then run the cube build step (without outlier detection) and name this file with suffix 'before' to denote the effect before outlier detection step. Then we run outlier detection and cube build steps of calwebb_spec3. The output from the second run ends in suffix 'after' since this is after the outlier detection step has been run.\n",
    "\n",
    "The image and the mask in the detector frame is shown to confirm proper (x,y) coordinates have been chosen. Then the cube slice of the expected outlier is shown with and without the outlier detector step for each of the ten outliers inserted. \n",
    "\n",
    "Outliers at varying flux levels get detected and removed with the pipeline. The flux of the central source different when using outlier detection in comparison to when not using outlier detection. This difference is as high as 35%. We set this as the criteria for passing."
   ]
  },
  {
   "cell_type": "code",
   "execution_count": 1,
   "id": "7f75711e",
   "metadata": {
    "execution": {
     "iopub.execute_input": "2022-03-24T16:12:31.016576Z",
     "iopub.status.busy": "2022-03-24T16:12:31.016062Z",
     "iopub.status.idle": "2022-03-24T16:12:31.024923Z",
     "shell.execute_reply": "2022-03-24T16:12:31.024419Z"
    }
   },
   "outputs": [
    {
     "name": "stdout",
     "output_type": "stream",
     "text": [
      "CRDS cache location: /grp/crds/cache\n"
     ]
    }
   ],
   "source": [
    "import os\n",
    "if 'CRDS_CACHE_TYPE' in os.environ:\n",
    "    if os.environ['CRDS_CACHE_TYPE'] == 'local':\n",
    "        os.environ['CRDS_PATH'] = os.path.join(os.environ['HOME'], 'crds', 'cache')\n",
    "    elif os.path.isdir(os.environ['CRDS_CACHE_TYPE']):\n",
    "        os.environ['CRDS_PATH'] = os.environ['CRDS_CACHE_TYPE']\n",
    "print('CRDS cache location: {}'.format(os.environ['CRDS_PATH']))"
   ]
  },
  {
   "cell_type": "code",
   "execution_count": 2,
   "id": "rubber-wyoming",
   "metadata": {
    "execution": {
     "iopub.execute_input": "2022-03-24T16:12:31.026915Z",
     "iopub.status.busy": "2022-03-24T16:12:31.026590Z",
     "iopub.status.idle": "2022-03-24T16:12:32.787795Z",
     "shell.execute_reply": "2022-03-24T16:12:32.787134Z"
    },
    "scrolled": false
   },
   "outputs": [],
   "source": [
    "# Basic system utilities for interacting with files\n",
    "import glob, sys, os, time\n",
    "\n",
    "# Astropy utilities for opening FITS and ASCII files\n",
    "from astropy.io import fits\n",
    "from astropy.io import ascii\n",
    "\n",
    "# Astropy utilities for making plots\n",
    "from astropy.visualization import (LinearStretch, LogStretch, ImageNormalize, ZScaleInterval)\n",
    "\n",
    "# Numpy for doing calculations\n",
    "import numpy as np\n",
    "\n",
    "# Matplotlib for making plots\n",
    "import matplotlib.pyplot as plt\n",
    "from matplotlib import rc\n",
    "\n",
    "# JWST pipelines\n",
    "from jwst.pipeline import Detector1Pipeline\n",
    "from jwst.pipeline import Spec2Pipeline\n",
    "from jwst.pipeline import Spec3Pipeline\n",
    "\n",
    "# Individual JWST pipeline steps\n",
    "from jwst.assign_wcs import AssignWcsStep\n",
    "from jwst.background import BackgroundStep\n",
    "from jwst.flatfield import FlatFieldStep\n",
    "from jwst.srctype import SourceTypeStep\n",
    "from jwst.straylight import StraylightStep\n",
    "from jwst.fringe import FringeStep\n",
    "from jwst.photom import PhotomStep\n",
    "from jwst.cube_build import CubeBuildStep\n",
    "from jwst.extract_1d import Extract1dStep\n",
    "from jwst.cube_skymatch import CubeSkyMatchStep\n",
    "from jwst.master_background import MasterBackgroundStep\n",
    "from jwst.outlier_detection import OutlierDetectionStep\n",
    "from jwst.extract_1d import Extract1dStep\n",
    "\n",
    "# JWST pipeline utilities\n",
    "from jwst.datamodels import dqflags\n",
    "from jwst import datamodels\n",
    "from jwst.associations import asn_from_list as afl\n",
    "from jwst.associations.lib.rules_level2_base import DMSLevel2bBase\n",
    "from jwst.associations.lib.rules_level3_base import DMS_Level3_Base\n",
    "import stcal\n",
    "\n",
    "# MIRIcoord for detector to pixel conversion\n",
    "import miricoord\n",
    "import miricoord.mrs.mrs_tools as mt\n",
    "\n",
    "# Box download imports \n",
    "from astropy.utils.data import download_file\n",
    "from pathlib import Path\n",
    "from shutil import move\n",
    "from os.path import splitext"
   ]
  },
  {
   "cell_type": "markdown",
   "id": "aeedb3b2",
   "metadata": {},
   "source": [
    "### Create a temporary location for the data"
   ]
  },
  {
   "cell_type": "code",
   "execution_count": 3,
   "id": "1429cecb",
   "metadata": {
    "execution": {
     "iopub.execute_input": "2022-03-24T16:12:32.790845Z",
     "iopub.status.busy": "2022-03-24T16:12:32.790574Z",
     "iopub.status.idle": "2022-03-24T16:12:32.794504Z",
     "shell.execute_reply": "2022-03-24T16:12:32.793983Z"
    }
   },
   "outputs": [
    {
     "name": "stdout",
     "output_type": "stream",
     "text": [
      "Running in /internal/data1/jenkins/workspace/Notebooks/jwst_validation_notebooks_spacetelescope/tmp/tmpv8buccnn\n"
     ]
    }
   ],
   "source": [
    "# Create a temporary directory to hold notebook output, and change the working directory to that directory.\n",
    "from tempfile import TemporaryDirectory\n",
    "import os\n",
    "data_dir = TemporaryDirectory()\n",
    "os.chdir(data_dir.name)\n",
    "\n",
    "# For info, print out where the script is running\n",
    "print(\"Running in {}\".format(os.getcwd()))"
   ]
  },
  {
   "cell_type": "code",
   "execution_count": 4,
   "id": "62549f04",
   "metadata": {
    "execution": {
     "iopub.execute_input": "2022-03-24T16:12:32.796429Z",
     "iopub.status.busy": "2022-03-24T16:12:32.796099Z",
     "iopub.status.idle": "2022-03-24T16:12:32.799003Z",
     "shell.execute_reply": "2022-03-24T16:12:32.798499Z"
    }
   },
   "outputs": [
    {
     "name": "stdout",
     "output_type": "stream",
     "text": [
      "1.4.3\n"
     ]
    }
   ],
   "source": [
    "# Check JWST version\n",
    "import jwst\n",
    "print(jwst.__version__ )"
   ]
  },
  {
   "cell_type": "code",
   "execution_count": 5,
   "id": "247096ba",
   "metadata": {
    "execution": {
     "iopub.execute_input": "2022-03-24T16:12:32.800858Z",
     "iopub.status.busy": "2022-03-24T16:12:32.800543Z",
     "iopub.status.idle": "2022-03-24T16:12:32.803106Z",
     "shell.execute_reply": "2022-03-24T16:12:32.802636Z"
    }
   },
   "outputs": [
    {
     "name": "stdout",
     "output_type": "stream",
     "text": [
      "0.6.1\n"
     ]
    }
   ],
   "source": [
    "# Check stcal version\n",
    "print(stcal.__version__ )"
   ]
  },
  {
   "cell_type": "markdown",
   "id": "e95cecdb",
   "metadata": {},
   "source": [
    "### Read in data from Box"
   ]
  },
  {
   "cell_type": "code",
   "execution_count": 6,
   "id": "0056b537",
   "metadata": {
    "execution": {
     "iopub.execute_input": "2022-03-24T16:12:32.805011Z",
     "iopub.status.busy": "2022-03-24T16:12:32.804626Z",
     "iopub.status.idle": "2022-03-24T16:12:32.807849Z",
     "shell.execute_reply": "2022-03-24T16:12:32.807396Z"
    }
   },
   "outputs": [],
   "source": [
    "# Function for Box files\n",
    "def get_box_files(file_list):\n",
    "    for box_url,file_name in file_list:\n",
    "        if 'https' not in box_url:\n",
    "            box_url = 'https://stsci.box.com/shared/static/' + box_url\n",
    "        downloaded_file = download_file(box_url)\n",
    "        if Path(file_name).suffix == '':\n",
    "            ext = splitext(box_url)[1]\n",
    "            file_name += ext\n",
    "        move(downloaded_file, file_name)"
   ]
  },
  {
   "cell_type": "code",
   "execution_count": 7,
   "id": "70c3b826",
   "metadata": {
    "execution": {
     "iopub.execute_input": "2022-03-24T16:12:32.809670Z",
     "iopub.status.busy": "2022-03-24T16:12:32.809355Z",
     "iopub.status.idle": "2022-03-24T16:12:47.311796Z",
     "shell.execute_reply": "2022-03-24T16:12:47.311174Z"
    }
   },
   "outputs": [],
   "source": [
    "# Get the files from Box\n",
    "file_urls = ['https://stsci.box.com/shared/static/7va325g09uesfh9wb569sedcefll4cv3.fits', \n",
    "                  'https://stsci.box.com/shared/static/jsyf3k5frn4w3zzw7hrqbbe92iszgye5.fits',   \n",
    "                  'https://stsci.box.com/shared/static/6tlbhwco7qz98qvnew6x0797cugp68re.fits',    \n",
    "                  'https://stsci.box.com/shared/static/w3oj50ei9py7i9e9jmi3d2oyr40127us.fits '] \n",
    "file_names = ['det_image_seq1_MIRIFUSHORT_12LONGexp1_cal.fits',              \n",
    "               'det_image_seq2_MIRIFUSHORT_12LONGexp1_cal.fits',             \n",
    "               'det_image_seq3_MIRIFUSHORT_12LONGexp1_cal.fits',            \n",
    "               'det_image_seq4_MIRIFUSHORT_12LONGexp1_cal.fits']  \n",
    "box_download_list = [(url,name) for url,name in zip(file_urls,file_names)]  \n",
    "get_box_files(box_download_list)"
   ]
  },
  {
   "cell_type": "markdown",
   "id": "dc9a1b20",
   "metadata": {},
   "source": [
    "### Start data processing"
   ]
  },
  {
   "cell_type": "code",
   "execution_count": 8,
   "id": "6496461d",
   "metadata": {
    "execution": {
     "iopub.execute_input": "2022-03-24T16:12:47.314837Z",
     "iopub.status.busy": "2022-03-24T16:12:47.314427Z",
     "iopub.status.idle": "2022-03-24T16:12:47.318143Z",
     "shell.execute_reply": "2022-03-24T16:12:47.317644Z"
    }
   },
   "outputs": [
    {
     "name": "stdout",
     "output_type": "stream",
     "text": [
      "['det_image_seq1_MIRIFUSHORT_12LONGexp1_cal.fits', 'det_image_seq2_MIRIFUSHORT_12LONGexp1_cal.fits', 'det_image_seq3_MIRIFUSHORT_12LONGexp1_cal.fits', 'det_image_seq4_MIRIFUSHORT_12LONGexp1_cal.fits']\n"
     ]
    }
   ],
   "source": [
    "# Look for our _rate.fits files produced by the Detector1 pipeline\n",
    "sstring='det*cal.fits'\n",
    "calfiles=sorted(glob.glob(sstring))\n",
    "print(calfiles)"
   ]
  },
  {
   "cell_type": "code",
   "execution_count": 9,
   "id": "suited-macro",
   "metadata": {
    "execution": {
     "iopub.execute_input": "2022-03-24T16:12:47.320128Z",
     "iopub.status.busy": "2022-03-24T16:12:47.319787Z",
     "iopub.status.idle": "2022-03-24T16:12:49.498737Z",
     "shell.execute_reply": "2022-03-24T16:12:49.498311Z"
    }
   },
   "outputs": [
    {
     "name": "stdout",
     "output_type": "stream",
     "text": [
      "1\n",
      "[6.42021683]\n",
      "[6.42293412]\n"
     ]
    },
    {
     "name": "stdout",
     "output_type": "stream",
     "text": [
      "2\n",
      "[6.54556429]\n",
      "[6.54822304]\n"
     ]
    },
    {
     "name": "stdout",
     "output_type": "stream",
     "text": [
      "3\n",
      "[6.66816384]\n",
      "[6.67076253]\n"
     ]
    },
    {
     "name": "stdout",
     "output_type": "stream",
     "text": [
      "4\n",
      "[6.78801549]\n",
      "[6.79055257]\n"
     ]
    },
    {
     "name": "stdout",
     "output_type": "stream",
     "text": [
      "5\n",
      "[6.90511925]\n",
      "[6.90759317]\n"
     ]
    },
    {
     "name": "stdout",
     "output_type": "stream",
     "text": [
      "6\n",
      "[7.01947511]\n",
      "[7.02188433]\n"
     ]
    },
    {
     "name": "stdout",
     "output_type": "stream",
     "text": [
      "7\n",
      "[7.13108307]\n",
      "[7.13342604]\n"
     ]
    },
    {
     "name": "stdout",
     "output_type": "stream",
     "text": [
      "8\n",
      "[7.23994313]\n",
      "[7.24221831]\n"
     ]
    },
    {
     "name": "stdout",
     "output_type": "stream",
     "text": [
      "9\n",
      "[7.34605529]\n",
      "[7.34826114]\n"
     ]
    },
    {
     "name": "stdout",
     "output_type": "stream",
     "text": [
      "10\n",
      "[7.44941956]\n",
      "[7.45155452]\n"
     ]
    }
   ],
   "source": [
    "# Check detector array to pixel array values for ten inserted outliers and check the exepected wavelength\n",
    "lambda_wav=[0.0]*9\n",
    "n=0\n",
    "skip=100\n",
    "for x in range(0, 10):\n",
    "    count=0\n",
    "    for i in range(355, 358):\n",
    "        for j in range(20+(n*skip), 23+(n*skip)):\n",
    "            values=mt.xytoabl([i],[j],'1C')\n",
    "            lambda_wav[count]=values['lam']\n",
    "            count=count+1\n",
    "    print(n+1)\n",
    "    print(min(lambda_wav))    \n",
    "    print(max(lambda_wav))\n",
    "    n=n+1"
   ]
  },
  {
   "cell_type": "code",
   "execution_count": 10,
   "id": "sporting-bumper",
   "metadata": {
    "execution": {
     "iopub.execute_input": "2022-03-24T16:12:49.501205Z",
     "iopub.status.busy": "2022-03-24T16:12:49.500648Z",
     "iopub.status.idle": "2022-03-24T16:12:49.545920Z",
     "shell.execute_reply": "2022-03-24T16:12:49.545466Z"
    }
   },
   "outputs": [],
   "source": [
    "# Hack the file\n",
    "hdu=fits.open(calfiles[0])\n",
    "data=hdu['SCI'].data\n",
    "\n",
    "# Insert the ten outliers varying from 3000 to 30000\n",
    "n=0\n",
    "skip=100\n",
    "for x in range(0, 10):\n",
    "    for i in range(355,358):\n",
    "        for j in range(20+(n*skip), 23+(n*skip)):\n",
    "            data[j,i]=3000*(n+1)\n",
    "    n=n+1\n",
    "hdu['SCI'].data=data\n",
    "\n",
    "# Overwrite the file\n",
    "hdu.writeto(str.replace(calfiles[0],'cal','od_test'),overwrite=True)\n",
    "hdu.close()"
   ]
  },
  {
   "cell_type": "code",
   "execution_count": 11,
   "id": "agreed-hampton",
   "metadata": {
    "execution": {
     "iopub.execute_input": "2022-03-24T16:12:49.548240Z",
     "iopub.status.busy": "2022-03-24T16:12:49.547818Z",
     "iopub.status.idle": "2022-03-24T16:12:49.551503Z",
     "shell.execute_reply": "2022-03-24T16:12:49.551124Z"
    }
   },
   "outputs": [],
   "source": [
    "# Define a useful function to write out a Lvl3 association file from an input list\n",
    "def writel3asn(files,asnfile,prodname,**kwargs):\n",
    "    asn = afl.asn_from_list(files,rule=DMS_Level3_Base,product_name=prodname)\n",
    "    if ('bg' in kwargs):\n",
    "        for bgfile in kwargs['bg']:\n",
    "            asn['products'][0]['members'].append({'expname': bgfile, 'exptype':'background'})\n",
    "    _, serialized = asn.dump()\n",
    "    with open(asnfile, 'w') as outfile:\n",
    "        outfile.write(serialized)"
   ]
  },
  {
   "cell_type": "code",
   "execution_count": 12,
   "id": "improving-drinking",
   "metadata": {
    "execution": {
     "iopub.execute_input": "2022-03-24T16:12:49.553275Z",
     "iopub.status.busy": "2022-03-24T16:12:49.553000Z",
     "iopub.status.idle": "2022-03-24T16:12:49.558189Z",
     "shell.execute_reply": "2022-03-24T16:12:49.557829Z"
    }
   },
   "outputs": [],
   "source": [
    "# Create an association file\n",
    "testfiles=calfiles.copy()\n",
    "testfiles[0]=str.replace(calfiles[0],'cal','od_test')\n",
    "writel3asn(testfiles,'od.json','od')"
   ]
  },
  {
   "cell_type": "code",
   "execution_count": 13,
   "id": "e28827fe",
   "metadata": {
    "execution": {
     "iopub.execute_input": "2022-03-24T16:12:49.559877Z",
     "iopub.status.busy": "2022-03-24T16:12:49.559617Z",
     "iopub.status.idle": "2022-03-24T16:13:15.062187Z",
     "shell.execute_reply": "2022-03-24T16:13:15.061714Z"
    }
   },
   "outputs": [
    {
     "name": "stderr",
     "output_type": "stream",
     "text": [
      "2022-03-24 12:12:49,563 - stpipe.CubeBuildStep - INFO - CubeBuildStep instance created.\n"
     ]
    },
    {
     "name": "stderr",
     "output_type": "stream",
     "text": [
      "2022-03-24 12:12:56,129 - stpipe.CubeBuildStep - INFO - CubeBuildStep instance created.\n"
     ]
    },
    {
     "name": "stderr",
     "output_type": "stream",
     "text": [
      "2022-03-24 12:12:56,587 - stpipe.CubeBuildStep - INFO - Step CubeBuildStep running with args ('od.json',).\n"
     ]
    },
    {
     "name": "stderr",
     "output_type": "stream",
     "text": [
      "2022-03-24 12:12:56,590 - stpipe.CubeBuildStep - INFO - Step CubeBuildStep parameters are: {'pre_hooks': [], 'post_hooks': [], 'output_file': '/internal/data1/jenkins/workspace/Notebooks/jwst_validation_notebooks_spacetelescope/tmp/tmpv8buccnn/od_before', 'output_dir': None, 'output_ext': '.fits', 'output_use_model': True, 'output_use_index': True, 'save_results': True, 'skip': False, 'suffix': None, 'search_output_file': False, 'input_dir': '', 'channel': '1', 'band': 'all', 'grating': 'all', 'filter': 'all', 'output_type': 'band', 'scale1': 0.0, 'scale2': 0.0, 'scalew': 0.0, 'weighting': 'emsm', 'coord_system': 'skyalign', 'rois': 0.0, 'roiw': 0.0, 'weight_power': 2.0, 'wavemin': None, 'wavemax': None, 'single': False, 'skip_dqflagging': False}\n"
     ]
    },
    {
     "name": "stderr",
     "output_type": "stream",
     "text": [
      "2022-03-24 12:12:56,590 - stpipe.CubeBuildStep - INFO - Starting IFU Cube Building Step\n"
     ]
    },
    {
     "name": "stderr",
     "output_type": "stream",
     "text": [
      "2022-03-24 12:12:56,591 - stpipe.CubeBuildStep - INFO - Input interpolation: pointcloud\n"
     ]
    },
    {
     "name": "stderr",
     "output_type": "stream",
     "text": [
      "2022-03-24 12:12:56,591 - stpipe.CubeBuildStep - INFO - Coordinate system to use: skyalign\n"
     ]
    },
    {
     "name": "stderr",
     "output_type": "stream",
     "text": [
      "2022-03-24 12:12:56,591 - stpipe.CubeBuildStep - INFO - Weighting method for point cloud: emsm\n"
     ]
    },
    {
     "name": "stderr",
     "output_type": "stream",
     "text": [
      "2022-03-24 12:12:56,592 - stpipe.CubeBuildStep - INFO - Power weighting distance: 2.0\n"
     ]
    },
    {
     "name": "stderr",
     "output_type": "stream",
     "text": [
      "2022-03-24 12:13:02,325 - stpipe.CubeBuildStep - INFO - The desired cubes cover the MIRI Channels: ['1']\n"
     ]
    },
    {
     "name": "stderr",
     "output_type": "stream",
     "text": [
      "2022-03-24 12:13:02,327 - stpipe.CubeBuildStep - INFO - The desired cubes cover the MIRI subchannels: ['long']\n"
     ]
    },
    {
     "name": "stderr",
     "output_type": "stream",
     "text": [
      "2022-03-24 12:13:02,327 - stpipe.CubeBuildStep - INFO - Reading cube parameter file /grp/crds/cache/references/jwst/jwst_miri_cubepar_0006.fits\n"
     ]
    },
    {
     "name": "stderr",
     "output_type": "stream",
     "text": [
      "2022-03-24 12:13:03,220 - stpipe.CubeBuildStep - INFO - The user has selected the type of IFU cube to make\n"
     ]
    },
    {
     "name": "stderr",
     "output_type": "stream",
     "text": [
      "2022-03-24 12:13:03,221 - stpipe.CubeBuildStep - INFO - Number of IFU cubes produced by this run = 1\n"
     ]
    },
    {
     "name": "stderr",
     "output_type": "stream",
     "text": [
      "2022-03-24 12:13:03,227 - stpipe.CubeBuildStep - INFO - Mapping all pixels to output to determine IFU foot print\n"
     ]
    },
    {
     "name": "stderr",
     "output_type": "stream",
     "text": [
      "2022-03-24 12:13:03,585 - stpipe.CubeBuildStep - INFO - Mapping all pixels to output to determine IFU foot print\n"
     ]
    },
    {
     "name": "stderr",
     "output_type": "stream",
     "text": [
      "2022-03-24 12:13:03,904 - stpipe.CubeBuildStep - INFO - Mapping all pixels to output to determine IFU foot print\n"
     ]
    },
    {
     "name": "stderr",
     "output_type": "stream",
     "text": [
      "2022-03-24 12:13:04,215 - stpipe.CubeBuildStep - INFO - Mapping all pixels to output to determine IFU foot print\n"
     ]
    },
    {
     "name": "stderr",
     "output_type": "stream",
     "text": [
      "2022-03-24 12:13:04,529 - stpipe.CubeBuildStep - INFO - Cube Geometry:\n"
     ]
    },
    {
     "name": "stderr",
     "output_type": "stream",
     "text": [
      "2022-03-24 12:13:04,530 - stpipe.CubeBuildStep - INFO - axis#  Naxis  CRPIX    CRVAL      CDELT(arcsec)  Min & Max (xi, eta arcsec)\n"
     ]
    },
    {
     "name": "stderr",
     "output_type": "stream",
     "text": [
      "2022-03-24 12:13:04,530 - stpipe.CubeBuildStep - INFO - Axis 1    35  18.00   0.00002193   0.13000000  -2.27499992   2.27499992\n"
     ]
    },
    {
     "name": "stderr",
     "output_type": "stream",
     "text": [
      "2022-03-24 12:13:04,531 - stpipe.CubeBuildStep - INFO - Axis 2    35  18.00   0.00003324   0.13000000  -2.27499992   2.27499992\n"
     ]
    },
    {
     "name": "stderr",
     "output_type": "stream",
     "text": [
      "2022-03-24 12:13:04,531 - stpipe.CubeBuildStep - INFO - axis#  Naxis  CRPIX    CRVAL      CDELT(microns)  Min & Max (microns)\n"
     ]
    },
    {
     "name": "stderr",
     "output_type": "stream",
     "text": [
      "2022-03-24 12:13:04,531 - stpipe.CubeBuildStep - INFO - Axis 3  1091   1.00   6.42050008   0.00100000   6.42000008   7.51100013\n"
     ]
    },
    {
     "name": "stderr",
     "output_type": "stream",
     "text": [
      "2022-03-24 12:13:04,532 - stpipe.CubeBuildStep - INFO - Cube covers channel, subchannel: 1, long\n"
     ]
    },
    {
     "name": "stderr",
     "output_type": "stream",
     "text": [
      "2022-03-24 12:13:04,532 - stpipe.CubeBuildStep - INFO - Output Name: od_before_ch1-long_s3d.fits\n"
     ]
    },
    {
     "name": "stderr",
     "output_type": "stream",
     "text": [
      "2022-03-24 12:13:04,953 - stpipe.CubeBuildStep - INFO - # of detector pixels not mapped to output plane: 7263 with wavelength below 6.418000076373573\n"
     ]
    },
    {
     "name": "stderr",
     "output_type": "stream",
     "text": [
      "2022-03-24 12:13:04,954 - stpipe.CubeBuildStep - INFO - # of detector pixels not mapped to output plane: 10595 with wavelength above 7.513000128034037\n"
     ]
    },
    {
     "name": "stderr",
     "output_type": "stream",
     "text": [
      "2022-03-24 12:13:06,946 - stpipe.CubeBuildStep - INFO - # of detector pixels not mapped to output plane: 7263 with wavelength below 6.418000076373573\n"
     ]
    },
    {
     "name": "stderr",
     "output_type": "stream",
     "text": [
      "2022-03-24 12:13:06,947 - stpipe.CubeBuildStep - INFO - # of detector pixels not mapped to output plane: 10595 with wavelength above 7.513000128034037\n"
     ]
    },
    {
     "name": "stderr",
     "output_type": "stream",
     "text": [
      "2022-03-24 12:13:08,921 - stpipe.CubeBuildStep - INFO - # of detector pixels not mapped to output plane: 7263 with wavelength below 6.418000076373573\n"
     ]
    },
    {
     "name": "stderr",
     "output_type": "stream",
     "text": [
      "2022-03-24 12:13:08,923 - stpipe.CubeBuildStep - INFO - # of detector pixels not mapped to output plane: 10595 with wavelength above 7.513000128034037\n"
     ]
    },
    {
     "name": "stderr",
     "output_type": "stream",
     "text": [
      "2022-03-24 12:13:10,946 - stpipe.CubeBuildStep - INFO - # of detector pixels not mapped to output plane: 7263 with wavelength below 6.418000076373573\n"
     ]
    },
    {
     "name": "stderr",
     "output_type": "stream",
     "text": [
      "2022-03-24 12:13:10,947 - stpipe.CubeBuildStep - INFO - # of detector pixels not mapped to output plane: 10595 with wavelength above 7.513000128034037\n"
     ]
    },
    {
     "name": "stderr",
     "output_type": "stream",
     "text": [
      "2022-03-24 12:13:12,581 - stpipe.CubeBuildStep - INFO - Average # of holes/wavelength plane is < 1\n"
     ]
    },
    {
     "name": "stderr",
     "output_type": "stream",
     "text": [
      "2022-03-24 12:13:12,582 - stpipe.CubeBuildStep - INFO - Total # of holes for IFU cube is : 0\n"
     ]
    },
    {
     "name": "stderr",
     "output_type": "stream",
     "text": [
      "2022-03-24 12:13:14,618 - stpipe.CubeBuildStep - INFO - Update S_REGION to POLYGON ICRS  0.000635814 -0.000580646 0.000635814 0.000647132 359.999408037 0.000647132 359.999408037 -0.000580646\n"
     ]
    },
    {
     "name": "stderr",
     "output_type": "stream",
     "text": [
      "2022-03-24 12:13:15,054 - stpipe.CubeBuildStep - INFO - Saved model in od_before_ch1-long_s3d.fits\n"
     ]
    },
    {
     "name": "stderr",
     "output_type": "stream",
     "text": [
      "2022-03-24 12:13:15,055 - stpipe.CubeBuildStep - INFO - Step CubeBuildStep done\n"
     ]
    },
    {
     "data": {
      "text/plain": [
       "<ModelContainer>"
      ]
     },
     "execution_count": 13,
     "metadata": {},
     "output_type": "execute_result"
    }
   ],
   "source": [
    "# Run it through cube building calling the result 'od_before'\n",
    "cb=CubeBuildStep()\n",
    "cb.call('od.json',channel='1',save_results=True,output_file='od_before')"
   ]
  },
  {
   "cell_type": "code",
   "execution_count": 14,
   "id": "respected-portfolio",
   "metadata": {
    "execution": {
     "iopub.execute_input": "2022-03-24T16:13:15.064394Z",
     "iopub.status.busy": "2022-03-24T16:13:15.064091Z",
     "iopub.status.idle": "2022-03-24T16:15:08.258653Z",
     "shell.execute_reply": "2022-03-24T16:15:08.258230Z"
    }
   },
   "outputs": [
    {
     "name": "stderr",
     "output_type": "stream",
     "text": [
      "2022-03-24 12:13:15,072 - stpipe.Spec3Pipeline - INFO - Spec3Pipeline instance created.\n"
     ]
    },
    {
     "name": "stderr",
     "output_type": "stream",
     "text": [
      "2022-03-24 12:13:15,073 - stpipe.Spec3Pipeline.assign_mtwcs - INFO - AssignMTWcsStep instance created.\n"
     ]
    },
    {
     "name": "stderr",
     "output_type": "stream",
     "text": [
      "2022-03-24 12:13:15,074 - stpipe.Spec3Pipeline.master_background - INFO - MasterBackgroundStep instance created.\n"
     ]
    },
    {
     "name": "stderr",
     "output_type": "stream",
     "text": [
      "2022-03-24 12:13:15,076 - stpipe.Spec3Pipeline.mrs_imatch - INFO - MRSIMatchStep instance created.\n"
     ]
    },
    {
     "name": "stderr",
     "output_type": "stream",
     "text": [
      "2022-03-24 12:13:15,077 - stpipe.Spec3Pipeline.outlier_detection - INFO - OutlierDetectionStep instance created.\n"
     ]
    },
    {
     "name": "stderr",
     "output_type": "stream",
     "text": [
      "2022-03-24 12:13:15,078 - stpipe.Spec3Pipeline.resample_spec - INFO - ResampleSpecStep instance created.\n"
     ]
    },
    {
     "name": "stderr",
     "output_type": "stream",
     "text": [
      "2022-03-24 12:13:15,080 - stpipe.Spec3Pipeline.cube_build - INFO - CubeBuildStep instance created.\n"
     ]
    },
    {
     "name": "stderr",
     "output_type": "stream",
     "text": [
      "2022-03-24 12:13:15,081 - stpipe.Spec3Pipeline.extract_1d - INFO - Extract1dStep instance created.\n"
     ]
    },
    {
     "name": "stderr",
     "output_type": "stream",
     "text": [
      "2022-03-24 12:13:15,083 - stpipe.Spec3Pipeline.combine_1d - INFO - Combine1dStep instance created.\n"
     ]
    },
    {
     "name": "stderr",
     "output_type": "stream",
     "text": [
      "2022-03-24 12:13:15,456 - stpipe.Spec3Pipeline - INFO - Step Spec3Pipeline running with args ('od.json',).\n"
     ]
    },
    {
     "name": "stderr",
     "output_type": "stream",
     "text": [
      "2022-03-24 12:13:15,464 - stpipe.Spec3Pipeline - INFO - Step Spec3Pipeline parameters are: {'pre_hooks': [], 'post_hooks': [], 'output_file': None, 'output_dir': None, 'output_ext': '.fits', 'output_use_model': False, 'output_use_index': True, 'save_results': True, 'skip': False, 'suffix': None, 'search_output_file': True, 'input_dir': '', 'steps': {'assign_mtwcs': {'pre_hooks': [], 'post_hooks': [], 'output_file': None, 'output_dir': None, 'output_ext': '.fits', 'output_use_model': True, 'output_use_index': True, 'save_results': False, 'skip': False, 'suffix': 'assign_mtwcs', 'search_output_file': True, 'input_dir': ''}, 'master_background': {'pre_hooks': [], 'post_hooks': [], 'output_file': None, 'output_dir': None, 'output_ext': '.fits', 'output_use_model': True, 'output_use_index': True, 'save_results': False, 'skip': True, 'suffix': None, 'search_output_file': True, 'input_dir': '', 'user_background': None, 'save_background': False, 'force_subtract': False}, 'mrs_imatch': {'pre_hooks': [], 'post_hooks': [], 'output_file': None, 'output_dir': None, 'output_ext': '.fits', 'output_use_model': False, 'output_use_index': True, 'save_results': False, 'skip': True, 'suffix': None, 'search_output_file': True, 'input_dir': '', 'bkg_degree': 1, 'subtract': False}, 'outlier_detection': {'pre_hooks': [], 'post_hooks': [], 'output_file': None, 'output_dir': None, 'output_ext': '.fits', 'output_use_model': False, 'output_use_index': True, 'save_results': False, 'skip': False, 'suffix': None, 'search_output_file': False, 'input_dir': '', 'weight_type': 'ivm', 'pixfrac': 1.0, 'kernel': 'square', 'fillval': 'INDEF', 'nlow': 0, 'nhigh': 0, 'maskpt': 0.7, 'grow': 1, 'snr': '5.0 4.0', 'scale': '2.0 2.0', 'backg': 0.0, 'save_intermediate_results': True, 'resample_data': True, 'good_bits': '~DO_NOT_USE', 'scale_detection': False, 'allowed_memory': None}, 'resample_spec': {'pre_hooks': [], 'post_hooks': [], 'output_file': None, 'output_dir': None, 'output_ext': '.fits', 'output_use_model': False, 'output_use_index': True, 'save_results': False, 'skip': False, 'suffix': None, 'search_output_file': True, 'input_dir': '', 'pixfrac': 1.0, 'kernel': 'square', 'fillval': 'INDEF', 'weight_type': 'ivm', 'output_shape': None, 'crpix': None, 'crval': None, 'rotation': None, 'pixel_scale_ratio': 1.0, 'pixel_scale': None, 'single': False, 'blendheaders': True, 'allowed_memory': None}, 'cube_build': {'pre_hooks': [], 'post_hooks': [], 'output_file': '/internal/data1/jenkins/workspace/Notebooks/jwst_validation_notebooks_spacetelescope/tmp/tmpv8buccnn/od_after', 'output_dir': None, 'output_ext': '.fits', 'output_use_model': True, 'output_use_index': True, 'save_results': False, 'skip': False, 'suffix': None, 'search_output_file': False, 'input_dir': '', 'channel': '1', 'band': 'all', 'grating': 'all', 'filter': 'all', 'output_type': 'band', 'scale1': 0.0, 'scale2': 0.0, 'scalew': 0.0, 'weighting': 'emsm', 'coord_system': 'skyalign', 'rois': 0.0, 'roiw': 0.0, 'weight_power': 2.0, 'wavemin': None, 'wavemax': None, 'single': False, 'skip_dqflagging': False}, 'extract_1d': {'pre_hooks': [], 'post_hooks': [], 'output_file': None, 'output_dir': None, 'output_ext': '.fits', 'output_use_model': False, 'output_use_index': True, 'save_results': False, 'skip': False, 'suffix': None, 'search_output_file': True, 'input_dir': '', 'smoothing_length': None, 'bkg_fit': 'poly', 'bkg_order': None, 'bkg_sigma_clip': 3.0, 'log_increment': 50, 'subtract_background': None, 'use_source_posn': None, 'center_xy': None, 'apply_apcorr': True, 'soss_atoca': False, 'soss_threshold': 0.01, 'soss_n_os': 2, 'soss_transform': None, 'soss_tikfac': None, 'soss_width': 40.0, 'soss_bad_pix': 'model', 'soss_modelname': None}, 'combine_1d': {'pre_hooks': [], 'post_hooks': [], 'output_file': None, 'output_dir': None, 'output_ext': '.fits', 'output_use_model': False, 'output_use_index': True, 'save_results': False, 'skip': False, 'suffix': None, 'search_output_file': True, 'input_dir': '', 'exptime_key': 'exposure_time'}}}\n"
     ]
    },
    {
     "name": "stderr",
     "output_type": "stream",
     "text": [
      "2022-03-24 12:13:16,332 - stpipe.Spec3Pipeline - INFO - Prefetching reference files for dataset: 'det_image_seq1_MIRIFUSHORT_12LONGexp1_od_test.fits' reftypes = ['apcorr', 'cubepar', 'drizpars', 'extract1d', 'speckernel', 'specprofile', 'spectrace', 'wavemap']\n"
     ]
    },
    {
     "name": "stderr",
     "output_type": "stream",
     "text": [
      "2022-03-24 12:13:16,337 - stpipe.Spec3Pipeline - INFO - Prefetch for APCORR reference file is '/grp/crds/cache/references/jwst/jwst_miri_apcorr_0001.asdf'.\n"
     ]
    },
    {
     "name": "stderr",
     "output_type": "stream",
     "text": [
      "2022-03-24 12:13:16,338 - stpipe.Spec3Pipeline - INFO - Prefetch for CUBEPAR reference file is '/grp/crds/cache/references/jwst/jwst_miri_cubepar_0006.fits'.\n"
     ]
    },
    {
     "name": "stderr",
     "output_type": "stream",
     "text": [
      "2022-03-24 12:13:16,340 - stpipe.Spec3Pipeline - INFO - Prefetch for DRIZPARS reference file is '/grp/crds/cache/references/jwst/jwst_miri_drizpars_0001.fits'.\n"
     ]
    },
    {
     "name": "stderr",
     "output_type": "stream",
     "text": [
      "2022-03-24 12:13:16,341 - stpipe.Spec3Pipeline - INFO - Prefetch for EXTRACT1D reference file is '/grp/crds/cache/references/jwst/jwst_miri_extract1d_0002.asdf'.\n"
     ]
    },
    {
     "name": "stderr",
     "output_type": "stream",
     "text": [
      "2022-03-24 12:13:16,342 - stpipe.Spec3Pipeline - INFO - Prefetch for SPECKERNEL reference file is 'N/A'.\n"
     ]
    },
    {
     "name": "stderr",
     "output_type": "stream",
     "text": [
      "2022-03-24 12:13:16,343 - stpipe.Spec3Pipeline - INFO - Prefetch for SPECPROFILE reference file is 'N/A'.\n"
     ]
    },
    {
     "name": "stderr",
     "output_type": "stream",
     "text": [
      "2022-03-24 12:13:16,343 - stpipe.Spec3Pipeline - INFO - Prefetch for SPECTRACE reference file is 'N/A'.\n"
     ]
    },
    {
     "name": "stderr",
     "output_type": "stream",
     "text": [
      "2022-03-24 12:13:16,343 - stpipe.Spec3Pipeline - INFO - Prefetch for WAVEMAP reference file is 'N/A'.\n"
     ]
    },
    {
     "name": "stderr",
     "output_type": "stream",
     "text": [
      "2022-03-24 12:13:16,344 - stpipe.Spec3Pipeline - INFO - Starting calwebb_spec3 ...\n"
     ]
    },
    {
     "name": "stderr",
     "output_type": "stream",
     "text": [
      "2022-03-24 12:13:21,377 - stpipe.Spec3Pipeline.mrs_imatch - INFO - Step mrs_imatch running with args (<ModelContainer>,).\n"
     ]
    },
    {
     "name": "stderr",
     "output_type": "stream",
     "text": [
      "2022-03-24 12:13:21,378 - stpipe.Spec3Pipeline.mrs_imatch - INFO - Step mrs_imatch parameters are: {'pre_hooks': [], 'post_hooks': [], 'output_file': None, 'output_dir': None, 'output_ext': '.fits', 'output_use_model': False, 'output_use_index': True, 'save_results': False, 'skip': True, 'suffix': 'mrs_imatch', 'search_output_file': True, 'input_dir': '', 'bkg_degree': 1, 'subtract': False}\n"
     ]
    },
    {
     "name": "stderr",
     "output_type": "stream",
     "text": [
      "2022-03-24 12:13:21,379 - stpipe.Spec3Pipeline.mrs_imatch - INFO - Step skipped.\n"
     ]
    },
    {
     "name": "stderr",
     "output_type": "stream",
     "text": [
      "2022-03-24 12:13:21,385 - stpipe.Spec3Pipeline.mrs_imatch - INFO - Step mrs_imatch done\n"
     ]
    },
    {
     "name": "stderr",
     "output_type": "stream",
     "text": [
      "2022-03-24 12:13:21,641 - stpipe.Spec3Pipeline.outlier_detection - INFO - Step outlier_detection running with args (<ModelContainer>,).\n"
     ]
    },
    {
     "name": "stderr",
     "output_type": "stream",
     "text": [
      "2022-03-24 12:13:21,643 - stpipe.Spec3Pipeline.outlier_detection - INFO - Step outlier_detection parameters are: {'pre_hooks': [], 'post_hooks': [], 'output_file': None, 'output_dir': None, 'output_ext': '.fits', 'output_use_model': False, 'output_use_index': True, 'save_results': True, 'skip': False, 'suffix': 'crf', 'search_output_file': False, 'input_dir': '', 'weight_type': 'ivm', 'pixfrac': 1.0, 'kernel': 'square', 'fillval': 'INDEF', 'nlow': 0, 'nhigh': 0, 'maskpt': 0.7, 'grow': 1, 'snr': '5.0 4.0', 'scale': '2.0 2.0', 'backg': 0.0, 'save_intermediate_results': True, 'resample_data': True, 'good_bits': '~DO_NOT_USE', 'scale_detection': False, 'allowed_memory': None}\n"
     ]
    },
    {
     "name": "stderr",
     "output_type": "stream",
     "text": [
      "2022-03-24 12:13:21,650 - stpipe.Spec3Pipeline.outlier_detection - INFO - Performing outlier detection on 4 inputs\n"
     ]
    },
    {
     "name": "stderr",
     "output_type": "stream",
     "text": [
      "2022-03-24 12:13:26,423 - stpipe.Spec3Pipeline.outlier_detection - INFO - Performing IFU outlier_detection for exptype MIR_MRS\n"
     ]
    },
    {
     "name": "stderr",
     "output_type": "stream",
     "text": [
      "2022-03-24 12:13:26,425 - stpipe.CubeBuildStep - INFO - CubeBuildStep instance created.\n"
     ]
    },
    {
     "name": "stderr",
     "output_type": "stream",
     "text": [
      "2022-03-24 12:13:26,425 - stpipe.CubeBuildStep - INFO - Starting IFU Cube Building Step\n"
     ]
    },
    {
     "name": "stderr",
     "output_type": "stream",
     "text": [
      "2022-03-24 12:13:26,426 - stpipe.CubeBuildStep - INFO - Input interpolation: pointcloud\n"
     ]
    },
    {
     "name": "stderr",
     "output_type": "stream",
     "text": [
      "2022-03-24 12:13:26,426 - stpipe.CubeBuildStep - INFO - Coordinate system to use: skyalign\n"
     ]
    },
    {
     "name": "stderr",
     "output_type": "stream",
     "text": [
      "2022-03-24 12:13:26,426 - stpipe.CubeBuildStep - INFO - Weighting method for point cloud: emsm\n"
     ]
    },
    {
     "name": "stderr",
     "output_type": "stream",
     "text": [
      "2022-03-24 12:13:26,426 - stpipe.CubeBuildStep - INFO - Power weighting distance: 2.0\n"
     ]
    },
    {
     "name": "stderr",
     "output_type": "stream",
     "text": [
      "2022-03-24 12:13:26,427 - stpipe.CubeBuildStep - INFO - Cube Type: Single cubes\n"
     ]
    },
    {
     "name": "stderr",
     "output_type": "stream",
     "text": [
      "2022-03-24 12:13:26,476 - stpipe.Spec3Pipeline.outlier_detection - INFO - The desired cubes cover the MIRI Channels: ['1']\n"
     ]
    },
    {
     "name": "stderr",
     "output_type": "stream",
     "text": [
      "2022-03-24 12:13:26,476 - stpipe.Spec3Pipeline.outlier_detection - INFO - The desired cubes cover the MIRI subchannels: ['long']\n"
     ]
    },
    {
     "name": "stderr",
     "output_type": "stream",
     "text": [
      "2022-03-24 12:13:26,477 - stpipe.Spec3Pipeline.outlier_detection - INFO - Reading cube parameter file /grp/crds/cache/references/jwst/jwst_miri_cubepar_0006.fits\n"
     ]
    },
    {
     "name": "stderr",
     "output_type": "stream",
     "text": [
      "2022-03-24 12:13:27,349 - stpipe.Spec3Pipeline.outlier_detection - INFO - Single = true, creating a set of single exposures mapped to output IFUCube coordinate system\n"
     ]
    },
    {
     "name": "stderr",
     "output_type": "stream",
     "text": [
      "2022-03-24 12:13:27,354 - stpipe.Spec3Pipeline.outlier_detection - INFO - Mapping all pixels to output to determine IFU foot print\n"
     ]
    },
    {
     "name": "stderr",
     "output_type": "stream",
     "text": [
      "2022-03-24 12:13:27,685 - stpipe.Spec3Pipeline.outlier_detection - INFO - Mapping all pixels to output to determine IFU foot print\n"
     ]
    },
    {
     "name": "stderr",
     "output_type": "stream",
     "text": [
      "2022-03-24 12:13:28,015 - stpipe.Spec3Pipeline.outlier_detection - INFO - Mapping all pixels to output to determine IFU foot print\n"
     ]
    },
    {
     "name": "stderr",
     "output_type": "stream",
     "text": [
      "2022-03-24 12:13:28,350 - stpipe.Spec3Pipeline.outlier_detection - INFO - Mapping all pixels to output to determine IFU foot print\n"
     ]
    },
    {
     "name": "stderr",
     "output_type": "stream",
     "text": [
      "2022-03-24 12:13:28,679 - stpipe.Spec3Pipeline.outlier_detection - INFO - Cube Geometry:\n"
     ]
    },
    {
     "name": "stderr",
     "output_type": "stream",
     "text": [
      "2022-03-24 12:13:28,680 - stpipe.Spec3Pipeline.outlier_detection - INFO - axis#  Naxis  CRPIX    CRVAL      CDELT(arcsec)  Min & Max (xi, eta arcsec)\n"
     ]
    },
    {
     "name": "stderr",
     "output_type": "stream",
     "text": [
      "2022-03-24 12:13:28,680 - stpipe.Spec3Pipeline.outlier_detection - INFO - Axis 1    35  18.00   0.00002193   0.13000000  -2.27499992   2.27499992\n"
     ]
    },
    {
     "name": "stderr",
     "output_type": "stream",
     "text": [
      "2022-03-24 12:13:28,680 - stpipe.Spec3Pipeline.outlier_detection - INFO - Axis 2    35  18.00   0.00003324   0.13000000  -2.27499992   2.27499992\n"
     ]
    },
    {
     "name": "stderr",
     "output_type": "stream",
     "text": [
      "2022-03-24 12:13:28,681 - stpipe.Spec3Pipeline.outlier_detection - INFO - axis#  Naxis  CRPIX    CRVAL      CDELT(microns)  Min & Max (microns)\n"
     ]
    },
    {
     "name": "stderr",
     "output_type": "stream",
     "text": [
      "2022-03-24 12:13:28,681 - stpipe.Spec3Pipeline.outlier_detection - INFO - Axis 3  1091   1.00   6.42050008   0.00100000   6.42000008   7.51100013\n"
     ]
    },
    {
     "name": "stderr",
     "output_type": "stream",
     "text": [
      "2022-03-24 12:13:28,682 - stpipe.Spec3Pipeline.outlier_detection - INFO - Cube covers channel, subchannel: 1, long\n"
     ]
    },
    {
     "name": "stderr",
     "output_type": "stream",
     "text": [
      "2022-03-24 12:13:29,085 - stpipe.Spec3Pipeline.outlier_detection - INFO - # of detector pixels not mapped to output plane: 7263 with wavelength below 6.418000076373573\n"
     ]
    },
    {
     "name": "stderr",
     "output_type": "stream",
     "text": [
      "2022-03-24 12:13:29,086 - stpipe.Spec3Pipeline.outlier_detection - INFO - # of detector pixels not mapped to output plane: 10595 with wavelength above 7.513000128034037\n"
     ]
    },
    {
     "name": "stderr",
     "output_type": "stream",
     "text": [
      "2022-03-24 12:13:32,760 - stpipe.Spec3Pipeline.outlier_detection - INFO - # of detector pixels not mapped to output plane: 7263 with wavelength below 6.418000076373573\n"
     ]
    },
    {
     "name": "stderr",
     "output_type": "stream",
     "text": [
      "2022-03-24 12:13:32,761 - stpipe.Spec3Pipeline.outlier_detection - INFO - # of detector pixels not mapped to output plane: 10595 with wavelength above 7.513000128034037\n"
     ]
    },
    {
     "name": "stderr",
     "output_type": "stream",
     "text": [
      "2022-03-24 12:13:35,947 - stpipe.Spec3Pipeline.outlier_detection - INFO - # of detector pixels not mapped to output plane: 7263 with wavelength below 6.418000076373573\n"
     ]
    },
    {
     "name": "stderr",
     "output_type": "stream",
     "text": [
      "2022-03-24 12:13:35,948 - stpipe.Spec3Pipeline.outlier_detection - INFO - # of detector pixels not mapped to output plane: 10595 with wavelength above 7.513000128034037\n"
     ]
    },
    {
     "name": "stderr",
     "output_type": "stream",
     "text": [
      "2022-03-24 12:13:39,648 - stpipe.Spec3Pipeline.outlier_detection - INFO - # of detector pixels not mapped to output plane: 7263 with wavelength below 6.418000076373573\n"
     ]
    },
    {
     "name": "stderr",
     "output_type": "stream",
     "text": [
      "2022-03-24 12:13:39,649 - stpipe.Spec3Pipeline.outlier_detection - INFO - # of detector pixels not mapped to output plane: 10595 with wavelength above 7.513000128034037\n"
     ]
    },
    {
     "name": "stderr",
     "output_type": "stream",
     "text": [
      "2022-03-24 12:13:42,448 - stpipe.CubeBuildStep - INFO - Number of Single IFUCube models returned 4 \n"
     ]
    },
    {
     "name": "stderr",
     "output_type": "stream",
     "text": [
      "2022-03-24 12:13:42,451 - stpipe.Spec3Pipeline.outlier_detection - INFO - Update S_REGION to POLYGON ICRS  0.000635814 -0.000580646 0.000635814 0.000647132 359.999408037 0.000647132 359.999408037 -0.000580646\n"
     ]
    },
    {
     "name": "stderr",
     "output_type": "stream",
     "text": [
      "2022-03-24 12:13:42,454 - stpipe.Spec3Pipeline.outlier_detection - INFO - Update S_REGION to POLYGON ICRS  0.000635814 -0.000580646 0.000635814 0.000647132 359.999408037 0.000647132 359.999408037 -0.000580646\n"
     ]
    },
    {
     "name": "stderr",
     "output_type": "stream",
     "text": [
      "2022-03-24 12:13:42,457 - stpipe.Spec3Pipeline.outlier_detection - INFO - Update S_REGION to POLYGON ICRS  0.000635814 -0.000580646 0.000635814 0.000647132 359.999408037 0.000647132 359.999408037 -0.000580646\n"
     ]
    },
    {
     "name": "stderr",
     "output_type": "stream",
     "text": [
      "2022-03-24 12:13:42,460 - stpipe.Spec3Pipeline.outlier_detection - INFO - Update S_REGION to POLYGON ICRS  0.000635814 -0.000580646 0.000635814 0.000647132 359.999408037 0.000647132 359.999408037 -0.000580646\n"
     ]
    },
    {
     "name": "stderr",
     "output_type": "stream",
     "text": [
      "2022-03-24 12:13:42,463 - stpipe.Spec3Pipeline.outlier_detection - INFO - Writing out (single) IFU cube det_image_seq1_MIRIFUSHORT_12LONGexp1_od_test_ch1-long_single_a3001_outlier_s3d.fits\n"
     ]
    },
    {
     "name": "stderr",
     "output_type": "stream",
     "text": [
      "2022-03-24 12:13:42,890 - stpipe.Spec3Pipeline.outlier_detection - INFO - Writing out (single) IFU cube det_image_seq2_MIRIFUSHORT_12LONGexp1_cal_ch1-long_single_a3001_outlier_s3d.fits\n"
     ]
    },
    {
     "name": "stderr",
     "output_type": "stream",
     "text": [
      "2022-03-24 12:13:43,323 - stpipe.Spec3Pipeline.outlier_detection - INFO - Writing out (single) IFU cube det_image_seq3_MIRIFUSHORT_12LONGexp1_cal_ch1-long_single_a3001_outlier_s3d.fits\n"
     ]
    },
    {
     "name": "stderr",
     "output_type": "stream",
     "text": [
      "2022-03-24 12:13:43,747 - stpipe.Spec3Pipeline.outlier_detection - INFO - Writing out (single) IFU cube det_image_seq4_MIRIFUSHORT_12LONGexp1_cal_ch1-long_single_a3001_outlier_s3d.fits\n"
     ]
    },
    {
     "name": "stderr",
     "output_type": "stream",
     "text": [
      "2022-03-24 12:13:44,926 - stpipe.Spec3Pipeline.outlier_detection - INFO - Writing out MEDIAN image to: od_a3001_ch1_long_median_s3d.fits\n"
     ]
    },
    {
     "name": "stderr",
     "output_type": "stream",
     "text": [
      "2022-03-24 12:13:45,617 - stpipe.Spec3Pipeline.outlier_detection - INFO - Information on Blotting\n"
     ]
    },
    {
     "name": "stderr",
     "output_type": "stream",
     "text": [
      "2022-03-24 12:13:45,618 - stpipe.Spec3Pipeline.outlier_detection - INFO - Working with instrument MIRI\n"
     ]
    },
    {
     "name": "stderr",
     "output_type": "stream",
     "text": [
      "2022-03-24 12:13:45,619 - stpipe.Spec3Pipeline.outlier_detection - INFO - Shape of sky cube 35.000000 35.000000 1091.000000\n"
     ]
    },
    {
     "name": "stderr",
     "output_type": "stream",
     "text": [
      "2022-03-24 12:13:45,619 - stpipe.Spec3Pipeline.outlier_detection - INFO - Channel 1\n"
     ]
    },
    {
     "name": "stderr",
     "output_type": "stream",
     "text": [
      "2022-03-24 12:13:45,620 - stpipe.Spec3Pipeline.outlier_detection - INFO - Sub-channel long\n"
     ]
    },
    {
     "name": "stderr",
     "output_type": "stream",
     "text": [
      "2022-03-24 12:13:47,260 - stpipe.Spec3Pipeline.outlier_detection - WARNING - /internal/data1/jenkins/workspace/Notebooks/jwst_validation_notebooks_spacetelescope/miniconda3/envs/jwst_validation_notebooks/lib/python3.9/site-packages/gwcs/selector.py:592: RuntimeWarning: invalid value encountered in add\n",
      "  result = [np.empty(inputs[0].shape) +\n",
      "\n"
     ]
    },
    {
     "name": "stderr",
     "output_type": "stream",
     "text": [
      "2022-03-24 12:13:47,504 - stpipe.Spec3Pipeline.outlier_detection - INFO - Blotting back to det_image_seq1_MIRIFUSHORT_12LONGexp1_od_test.fits\n"
     ]
    },
    {
     "name": "stderr",
     "output_type": "stream",
     "text": [
      "2022-03-24 12:13:51,593 - stpipe.Spec3Pipeline.outlier_detection - INFO - Blotting back to det_image_seq2_MIRIFUSHORT_12LONGexp1_cal.fits\n"
     ]
    },
    {
     "name": "stderr",
     "output_type": "stream",
     "text": [
      "2022-03-24 12:13:55,208 - stpipe.Spec3Pipeline.outlier_detection - INFO - Blotting back to det_image_seq3_MIRIFUSHORT_12LONGexp1_cal.fits\n"
     ]
    },
    {
     "name": "stderr",
     "output_type": "stream",
     "text": [
      "2022-03-24 12:13:58,785 - stpipe.Spec3Pipeline.outlier_detection - INFO - Blotting back to det_image_seq4_MIRIFUSHORT_12LONGexp1_cal.fits\n"
     ]
    },
    {
     "name": "stderr",
     "output_type": "stream",
     "text": [
      "2022-03-24 12:14:01,899 - stpipe.CubeBuildStep - INFO - CubeBuildStep instance created.\n"
     ]
    },
    {
     "name": "stderr",
     "output_type": "stream",
     "text": [
      "2022-03-24 12:14:01,900 - stpipe.CubeBuildStep - INFO - Starting IFU Cube Building Step\n"
     ]
    },
    {
     "name": "stderr",
     "output_type": "stream",
     "text": [
      "2022-03-24 12:14:01,901 - stpipe.CubeBuildStep - INFO - Input interpolation: pointcloud\n"
     ]
    },
    {
     "name": "stderr",
     "output_type": "stream",
     "text": [
      "2022-03-24 12:14:01,901 - stpipe.CubeBuildStep - INFO - Coordinate system to use: skyalign\n"
     ]
    },
    {
     "name": "stderr",
     "output_type": "stream",
     "text": [
      "2022-03-24 12:14:01,901 - stpipe.CubeBuildStep - INFO - Weighting method for point cloud: emsm\n"
     ]
    },
    {
     "name": "stderr",
     "output_type": "stream",
     "text": [
      "2022-03-24 12:14:01,901 - stpipe.CubeBuildStep - INFO - Power weighting distance: 2.0\n"
     ]
    },
    {
     "name": "stderr",
     "output_type": "stream",
     "text": [
      "2022-03-24 12:14:01,902 - stpipe.CubeBuildStep - INFO - Cube Type: Single cubes\n"
     ]
    },
    {
     "name": "stderr",
     "output_type": "stream",
     "text": [
      "2022-03-24 12:14:01,956 - stpipe.Spec3Pipeline.outlier_detection - INFO - The desired cubes cover the MIRI Channels: ['2']\n"
     ]
    },
    {
     "name": "stderr",
     "output_type": "stream",
     "text": [
      "2022-03-24 12:14:01,956 - stpipe.Spec3Pipeline.outlier_detection - INFO - The desired cubes cover the MIRI subchannels: ['long']\n"
     ]
    },
    {
     "name": "stderr",
     "output_type": "stream",
     "text": [
      "2022-03-24 12:14:01,957 - stpipe.Spec3Pipeline.outlier_detection - INFO - Reading cube parameter file /grp/crds/cache/references/jwst/jwst_miri_cubepar_0006.fits\n"
     ]
    },
    {
     "name": "stderr",
     "output_type": "stream",
     "text": [
      "2022-03-24 12:14:02,835 - stpipe.Spec3Pipeline.outlier_detection - INFO - Single = true, creating a set of single exposures mapped to output IFUCube coordinate system\n"
     ]
    },
    {
     "name": "stderr",
     "output_type": "stream",
     "text": [
      "2022-03-24 12:14:02,843 - stpipe.Spec3Pipeline.outlier_detection - INFO - Cube Geometry:\n"
     ]
    },
    {
     "name": "stderr",
     "output_type": "stream",
     "text": [
      "2022-03-24 12:14:02,843 - stpipe.Spec3Pipeline.outlier_detection - INFO - axis#  Naxis  CRPIX    CRVAL      CDELT(arcsec)  Min & Max (xi, eta arcsec)\n"
     ]
    },
    {
     "name": "stderr",
     "output_type": "stream",
     "text": [
      "2022-03-24 12:14:02,843 - stpipe.Spec3Pipeline.outlier_detection - INFO - Axis 1    33  17.00   0.00001735   0.17000000  -2.80500003   2.80500003\n"
     ]
    },
    {
     "name": "stderr",
     "output_type": "stream",
     "text": [
      "2022-03-24 12:14:02,844 - stpipe.Spec3Pipeline.outlier_detection - INFO - Axis 2    35  18.00  -0.00012632   0.17000000  -2.97500003   2.97500003\n"
     ]
    },
    {
     "name": "stderr",
     "output_type": "stream",
     "text": [
      "2022-03-24 12:14:02,844 - stpipe.Spec3Pipeline.outlier_detection - INFO - axis#  Naxis  CRPIX    CRVAL      CDELT(microns)  Min & Max (microns)\n"
     ]
    },
    {
     "name": "stderr",
     "output_type": "stream",
     "text": [
      "2022-03-24 12:14:02,844 - stpipe.Spec3Pipeline.outlier_detection - INFO - Axis 3   855   1.00  10.03099973   0.00200000  10.02999973  11.73999981\n"
     ]
    },
    {
     "name": "stderr",
     "output_type": "stream",
     "text": [
      "2022-03-24 12:14:02,845 - stpipe.Spec3Pipeline.outlier_detection - INFO - Cube covers channel, subchannel: 2, long\n"
     ]
    },
    {
     "name": "stderr",
     "output_type": "stream",
     "text": [
      "2022-03-24 12:14:03,178 - stpipe.Spec3Pipeline.outlier_detection - INFO - # of detector pixels not mapped to output plane: 7871 with wavelength below 10.025999733130448\n"
     ]
    },
    {
     "name": "stderr",
     "output_type": "stream",
     "text": [
      "2022-03-24 12:14:03,179 - stpipe.Spec3Pipeline.outlier_detection - INFO - # of detector pixels not mapped to output plane: 11714 with wavelength above 11.743999814032577\n"
     ]
    },
    {
     "name": "stderr",
     "output_type": "stream",
     "text": [
      "2022-03-24 12:14:06,261 - stpipe.Spec3Pipeline.outlier_detection - INFO - # of detector pixels not mapped to output plane: 7871 with wavelength below 10.025999733130448\n"
     ]
    },
    {
     "name": "stderr",
     "output_type": "stream",
     "text": [
      "2022-03-24 12:14:06,262 - stpipe.Spec3Pipeline.outlier_detection - INFO - # of detector pixels not mapped to output plane: 11714 with wavelength above 11.743999814032577\n"
     ]
    },
    {
     "name": "stderr",
     "output_type": "stream",
     "text": [
      "2022-03-24 12:14:10,084 - stpipe.Spec3Pipeline.outlier_detection - INFO - # of detector pixels not mapped to output plane: 7871 with wavelength below 10.025999733130448\n"
     ]
    },
    {
     "name": "stderr",
     "output_type": "stream",
     "text": [
      "2022-03-24 12:14:10,085 - stpipe.Spec3Pipeline.outlier_detection - INFO - # of detector pixels not mapped to output plane: 11714 with wavelength above 11.743999814032577\n"
     ]
    },
    {
     "name": "stderr",
     "output_type": "stream",
     "text": [
      "2022-03-24 12:14:13,163 - stpipe.Spec3Pipeline.outlier_detection - INFO - # of detector pixels not mapped to output plane: 7871 with wavelength below 10.025999733130448\n"
     ]
    },
    {
     "name": "stderr",
     "output_type": "stream",
     "text": [
      "2022-03-24 12:14:13,164 - stpipe.Spec3Pipeline.outlier_detection - INFO - # of detector pixels not mapped to output plane: 11714 with wavelength above 11.743999814032577\n"
     ]
    },
    {
     "name": "stderr",
     "output_type": "stream",
     "text": [
      "2022-03-24 12:14:15,976 - stpipe.CubeBuildStep - INFO - Number of Single IFUCube models returned 4 \n"
     ]
    },
    {
     "name": "stderr",
     "output_type": "stream",
     "text": [
      "2022-03-24 12:14:15,979 - stpipe.Spec3Pipeline.outlier_detection - INFO - Update S_REGION to POLYGON ICRS  0.000772903 -0.000929096 0.000772903 0.000676459 359.999261791 0.000676459 359.999261791 -0.000929096\n"
     ]
    },
    {
     "name": "stderr",
     "output_type": "stream",
     "text": [
      "2022-03-24 12:14:15,982 - stpipe.Spec3Pipeline.outlier_detection - INFO - Update S_REGION to POLYGON ICRS  0.000772903 -0.000929096 0.000772903 0.000676459 359.999261791 0.000676459 359.999261791 -0.000929096\n"
     ]
    },
    {
     "name": "stderr",
     "output_type": "stream",
     "text": [
      "2022-03-24 12:14:15,986 - stpipe.Spec3Pipeline.outlier_detection - INFO - Update S_REGION to POLYGON ICRS  0.000772903 -0.000929096 0.000772903 0.000676459 359.999261791 0.000676459 359.999261791 -0.000929096\n"
     ]
    },
    {
     "name": "stderr",
     "output_type": "stream",
     "text": [
      "2022-03-24 12:14:15,988 - stpipe.Spec3Pipeline.outlier_detection - INFO - Update S_REGION to POLYGON ICRS  0.000772903 -0.000929096 0.000772903 0.000676459 359.999261791 0.000676459 359.999261791 -0.000929096\n"
     ]
    },
    {
     "name": "stderr",
     "output_type": "stream",
     "text": [
      "2022-03-24 12:14:15,991 - stpipe.Spec3Pipeline.outlier_detection - INFO - Writing out (single) IFU cube det_image_seq1_MIRIFUSHORT_12LONGexp1_od_test_ch2-long_single_a3001_outlier_s3d.fits\n"
     ]
    },
    {
     "name": "stderr",
     "output_type": "stream",
     "text": [
      "2022-03-24 12:14:16,410 - stpipe.Spec3Pipeline.outlier_detection - INFO - Writing out (single) IFU cube det_image_seq2_MIRIFUSHORT_12LONGexp1_cal_ch2-long_single_a3001_outlier_s3d.fits\n"
     ]
    },
    {
     "name": "stderr",
     "output_type": "stream",
     "text": [
      "2022-03-24 12:14:16,827 - stpipe.Spec3Pipeline.outlier_detection - INFO - Writing out (single) IFU cube det_image_seq3_MIRIFUSHORT_12LONGexp1_cal_ch2-long_single_a3001_outlier_s3d.fits\n"
     ]
    },
    {
     "name": "stderr",
     "output_type": "stream",
     "text": [
      "2022-03-24 12:14:17,243 - stpipe.Spec3Pipeline.outlier_detection - INFO - Writing out (single) IFU cube det_image_seq4_MIRIFUSHORT_12LONGexp1_cal_ch2-long_single_a3001_outlier_s3d.fits\n"
     ]
    },
    {
     "name": "stderr",
     "output_type": "stream",
     "text": [
      "2022-03-24 12:14:17,820 - stpipe.Spec3Pipeline.outlier_detection - INFO - Writing out MEDIAN image to: od_a3001_ch2_long_median_s3d.fits\n"
     ]
    },
    {
     "name": "stderr",
     "output_type": "stream",
     "text": [
      "2022-03-24 12:14:18,316 - stpipe.Spec3Pipeline.outlier_detection - INFO - Information on Blotting\n"
     ]
    },
    {
     "name": "stderr",
     "output_type": "stream",
     "text": [
      "2022-03-24 12:14:18,317 - stpipe.Spec3Pipeline.outlier_detection - INFO - Working with instrument MIRI\n"
     ]
    },
    {
     "name": "stderr",
     "output_type": "stream",
     "text": [
      "2022-03-24 12:14:18,317 - stpipe.Spec3Pipeline.outlier_detection - INFO - Shape of sky cube 33.000000 35.000000 855.000000\n"
     ]
    },
    {
     "name": "stderr",
     "output_type": "stream",
     "text": [
      "2022-03-24 12:14:18,318 - stpipe.Spec3Pipeline.outlier_detection - INFO - Channel 2\n"
     ]
    },
    {
     "name": "stderr",
     "output_type": "stream",
     "text": [
      "2022-03-24 12:14:18,318 - stpipe.Spec3Pipeline.outlier_detection - INFO - Sub-channel long\n"
     ]
    },
    {
     "name": "stderr",
     "output_type": "stream",
     "text": [
      "2022-03-24 12:14:20,501 - stpipe.Spec3Pipeline.outlier_detection - WARNING - /internal/data1/jenkins/workspace/Notebooks/jwst_validation_notebooks_spacetelescope/miniconda3/envs/jwst_validation_notebooks/lib/python3.9/site-packages/gwcs/selector.py:592: RuntimeWarning: invalid value encountered in add\n",
      "  result = [np.empty(inputs[0].shape) +\n",
      "\n"
     ]
    },
    {
     "name": "stderr",
     "output_type": "stream",
     "text": [
      "2022-03-24 12:14:20,673 - stpipe.Spec3Pipeline.outlier_detection - INFO - Blotting back to det_image_seq1_MIRIFUSHORT_12LONGexp1_od_test.fits\n"
     ]
    },
    {
     "name": "stderr",
     "output_type": "stream",
     "text": [
      "2022-03-24 12:14:23,518 - stpipe.Spec3Pipeline.outlier_detection - INFO - Blotting back to det_image_seq2_MIRIFUSHORT_12LONGexp1_cal.fits\n"
     ]
    },
    {
     "name": "stderr",
     "output_type": "stream",
     "text": [
      "2022-03-24 12:14:27,089 - stpipe.Spec3Pipeline.outlier_detection - INFO - Blotting back to det_image_seq3_MIRIFUSHORT_12LONGexp1_cal.fits\n"
     ]
    },
    {
     "name": "stderr",
     "output_type": "stream",
     "text": [
      "2022-03-24 12:14:29,980 - stpipe.Spec3Pipeline.outlier_detection - INFO - Blotting back to det_image_seq4_MIRIFUSHORT_12LONGexp1_cal.fits\n"
     ]
    },
    {
     "name": "stderr",
     "output_type": "stream",
     "text": [
      "2022-03-24 12:14:32,010 - stpipe.Spec3Pipeline.outlier_detection - INFO - Writing out BLOT images...\n"
     ]
    },
    {
     "name": "stderr",
     "output_type": "stream",
     "text": [
      "2022-03-24 12:14:32,012 - stpipe.Spec3Pipeline.outlier_detection - INFO - Blotted files det_image_seq1_MIRIFUSHORT_12LONGexp1_od_test_a3001_blot.fits\n"
     ]
    },
    {
     "name": "stderr",
     "output_type": "stream",
     "text": [
      "2022-03-24 12:14:33,018 - stpipe.Spec3Pipeline.outlier_detection - INFO - Blotted files det_image_seq2_MIRIFUSHORT_12LONGexp1_a3001_blot.fits\n"
     ]
    },
    {
     "name": "stderr",
     "output_type": "stream",
     "text": [
      "2022-03-24 12:14:34,950 - stpipe.Spec3Pipeline.outlier_detection - INFO - Blotted files det_image_seq3_MIRIFUSHORT_12LONGexp1_a3001_blot.fits\n"
     ]
    },
    {
     "name": "stderr",
     "output_type": "stream",
     "text": [
      "2022-03-24 12:14:35,952 - stpipe.Spec3Pipeline.outlier_detection - INFO - Blotted files det_image_seq4_MIRIFUSHORT_12LONGexp1_a3001_blot.fits\n"
     ]
    },
    {
     "name": "stderr",
     "output_type": "stream",
     "text": [
      "2022-03-24 12:14:36,981 - stpipe.Spec3Pipeline.outlier_detection - INFO - Flagging outliers\n"
     ]
    },
    {
     "name": "stderr",
     "output_type": "stream",
     "text": [
      "2022-03-24 12:14:37,077 - stpipe.Spec3Pipeline.outlier_detection - INFO - New pixels flagged as outliers: 12918 (1.22%)\n"
     ]
    },
    {
     "name": "stderr",
     "output_type": "stream",
     "text": [
      "2022-03-24 12:14:37,172 - stpipe.Spec3Pipeline.outlier_detection - INFO - New pixels flagged as outliers: 13437 (1.27%)\n"
     ]
    },
    {
     "name": "stderr",
     "output_type": "stream",
     "text": [
      "2022-03-24 12:14:37,264 - stpipe.Spec3Pipeline.outlier_detection - INFO - New pixels flagged as outliers: 12088 (1.14%)\n"
     ]
    },
    {
     "name": "stderr",
     "output_type": "stream",
     "text": [
      "2022-03-24 12:14:37,356 - stpipe.Spec3Pipeline.outlier_detection - INFO - New pixels flagged as outliers: 14040 (1.33%)\n"
     ]
    },
    {
     "name": "stderr",
     "output_type": "stream",
     "text": [
      "2022-03-24 12:14:38,418 - stpipe.Spec3Pipeline.outlier_detection - INFO - Saved model in det_image_seq1_MIRIFUSHORT_12LONGexp1_od_test_a3001_crf.fits\n"
     ]
    },
    {
     "name": "stderr",
     "output_type": "stream",
     "text": [
      "2022-03-24 12:14:40,438 - stpipe.Spec3Pipeline.outlier_detection - INFO - Saved model in det_image_seq2_MIRIFUSHORT_12LONGexp1_a3001_crf.fits\n"
     ]
    },
    {
     "name": "stderr",
     "output_type": "stream",
     "text": [
      "2022-03-24 12:14:41,497 - stpipe.Spec3Pipeline.outlier_detection - INFO - Saved model in det_image_seq3_MIRIFUSHORT_12LONGexp1_a3001_crf.fits\n"
     ]
    },
    {
     "name": "stderr",
     "output_type": "stream",
     "text": [
      "2022-03-24 12:14:42,874 - stpipe.Spec3Pipeline.outlier_detection - INFO - Saved model in det_image_seq4_MIRIFUSHORT_12LONGexp1_a3001_crf.fits\n"
     ]
    },
    {
     "name": "stderr",
     "output_type": "stream",
     "text": [
      "2022-03-24 12:14:42,875 - stpipe.Spec3Pipeline.outlier_detection - INFO - Step outlier_detection done\n"
     ]
    },
    {
     "name": "stderr",
     "output_type": "stream",
     "text": [
      "2022-03-24 12:14:43,201 - stpipe.Spec3Pipeline.cube_build - INFO - Step cube_build running with args (<ModelContainer>,).\n"
     ]
    },
    {
     "name": "stderr",
     "output_type": "stream",
     "text": [
      "2022-03-24 12:14:43,204 - stpipe.Spec3Pipeline.cube_build - INFO - Step cube_build parameters are: {'pre_hooks': [], 'post_hooks': [], 'output_file': '/internal/data1/jenkins/workspace/Notebooks/jwst_validation_notebooks_spacetelescope/tmp/tmpv8buccnn/od_after', 'output_dir': None, 'output_ext': '.fits', 'output_use_model': True, 'output_use_index': True, 'save_results': True, 'skip': False, 'suffix': 's3d', 'search_output_file': False, 'input_dir': '', 'channel': '1', 'band': 'all', 'grating': 'all', 'filter': 'all', 'output_type': 'band', 'scale1': 0.0, 'scale2': 0.0, 'scalew': 0.0, 'weighting': 'emsm', 'coord_system': 'skyalign', 'rois': 0.0, 'roiw': 0.0, 'weight_power': 2.0, 'wavemin': None, 'wavemax': None, 'single': False, 'skip_dqflagging': False}\n"
     ]
    },
    {
     "name": "stderr",
     "output_type": "stream",
     "text": [
      "2022-03-24 12:14:43,204 - stpipe.Spec3Pipeline.cube_build - INFO - Starting IFU Cube Building Step\n"
     ]
    },
    {
     "name": "stderr",
     "output_type": "stream",
     "text": [
      "2022-03-24 12:14:43,205 - stpipe.Spec3Pipeline.cube_build - INFO - Input interpolation: pointcloud\n"
     ]
    },
    {
     "name": "stderr",
     "output_type": "stream",
     "text": [
      "2022-03-24 12:14:43,205 - stpipe.Spec3Pipeline.cube_build - INFO - Coordinate system to use: skyalign\n"
     ]
    },
    {
     "name": "stderr",
     "output_type": "stream",
     "text": [
      "2022-03-24 12:14:43,205 - stpipe.Spec3Pipeline.cube_build - INFO - Weighting method for point cloud: emsm\n"
     ]
    },
    {
     "name": "stderr",
     "output_type": "stream",
     "text": [
      "2022-03-24 12:14:43,205 - stpipe.Spec3Pipeline.cube_build - INFO - Power weighting distance: 2.0\n"
     ]
    },
    {
     "name": "stderr",
     "output_type": "stream",
     "text": [
      "2022-03-24 12:14:43,258 - stpipe.Spec3Pipeline.cube_build - INFO - The desired cubes cover the MIRI Channels: ['1']\n"
     ]
    },
    {
     "name": "stderr",
     "output_type": "stream",
     "text": [
      "2022-03-24 12:14:43,259 - stpipe.Spec3Pipeline.cube_build - INFO - The desired cubes cover the MIRI subchannels: ['long']\n"
     ]
    },
    {
     "name": "stderr",
     "output_type": "stream",
     "text": [
      "2022-03-24 12:14:43,259 - stpipe.Spec3Pipeline.cube_build - INFO - Reading cube parameter file /grp/crds/cache/references/jwst/jwst_miri_cubepar_0006.fits\n"
     ]
    },
    {
     "name": "stderr",
     "output_type": "stream",
     "text": [
      "2022-03-24 12:14:44,143 - stpipe.Spec3Pipeline.cube_build - INFO - The user has selected the type of IFU cube to make\n"
     ]
    },
    {
     "name": "stderr",
     "output_type": "stream",
     "text": [
      "2022-03-24 12:14:44,144 - stpipe.Spec3Pipeline.cube_build - INFO - Number of IFU cubes produced by this run = 1\n"
     ]
    },
    {
     "name": "stderr",
     "output_type": "stream",
     "text": [
      "2022-03-24 12:14:44,149 - stpipe.Spec3Pipeline.cube_build - INFO - Mapping all pixels to output to determine IFU foot print\n"
     ]
    },
    {
     "name": "stderr",
     "output_type": "stream",
     "text": [
      "2022-03-24 12:14:44,435 - stpipe.Spec3Pipeline.cube_build - INFO - Mapping all pixels to output to determine IFU foot print\n"
     ]
    },
    {
     "name": "stderr",
     "output_type": "stream",
     "text": [
      "2022-03-24 12:14:44,718 - stpipe.Spec3Pipeline.cube_build - INFO - Mapping all pixels to output to determine IFU foot print\n"
     ]
    },
    {
     "name": "stderr",
     "output_type": "stream",
     "text": [
      "2022-03-24 12:14:45,002 - stpipe.Spec3Pipeline.cube_build - INFO - Mapping all pixels to output to determine IFU foot print\n"
     ]
    },
    {
     "name": "stderr",
     "output_type": "stream",
     "text": [
      "2022-03-24 12:14:45,287 - stpipe.Spec3Pipeline.cube_build - INFO - Cube Geometry:\n"
     ]
    },
    {
     "name": "stderr",
     "output_type": "stream",
     "text": [
      "2022-03-24 12:14:45,288 - stpipe.Spec3Pipeline.cube_build - INFO - axis#  Naxis  CRPIX    CRVAL      CDELT(arcsec)  Min & Max (xi, eta arcsec)\n"
     ]
    },
    {
     "name": "stderr",
     "output_type": "stream",
     "text": [
      "2022-03-24 12:14:45,289 - stpipe.Spec3Pipeline.cube_build - INFO - Axis 1    35  18.00   0.00002193   0.13000000  -2.27499992   2.27499992\n"
     ]
    },
    {
     "name": "stderr",
     "output_type": "stream",
     "text": [
      "2022-03-24 12:14:45,289 - stpipe.Spec3Pipeline.cube_build - INFO - Axis 2    35  18.00   0.00003324   0.13000000  -2.27499992   2.27499992\n"
     ]
    },
    {
     "name": "stderr",
     "output_type": "stream",
     "text": [
      "2022-03-24 12:14:45,289 - stpipe.Spec3Pipeline.cube_build - INFO - axis#  Naxis  CRPIX    CRVAL      CDELT(microns)  Min & Max (microns)\n"
     ]
    },
    {
     "name": "stderr",
     "output_type": "stream",
     "text": [
      "2022-03-24 12:14:45,289 - stpipe.Spec3Pipeline.cube_build - INFO - Axis 3  1091   1.00   6.42050008   0.00100000   6.42000008   7.51100013\n"
     ]
    },
    {
     "name": "stderr",
     "output_type": "stream",
     "text": [
      "2022-03-24 12:14:45,290 - stpipe.Spec3Pipeline.cube_build - INFO - Cube covers channel, subchannel: 1, long\n"
     ]
    },
    {
     "name": "stderr",
     "output_type": "stream",
     "text": [
      "2022-03-24 12:14:45,290 - stpipe.Spec3Pipeline.cube_build - INFO - Output Name: od_after_ch1-long_s3d.fits\n"
     ]
    },
    {
     "name": "stderr",
     "output_type": "stream",
     "text": [
      "2022-03-24 12:14:45,666 - stpipe.Spec3Pipeline.cube_build - INFO - # of detector pixels not mapped to output plane: 7263 with wavelength below 6.418000076373573\n"
     ]
    },
    {
     "name": "stderr",
     "output_type": "stream",
     "text": [
      "2022-03-24 12:14:45,667 - stpipe.Spec3Pipeline.cube_build - INFO - # of detector pixels not mapped to output plane: 10595 with wavelength above 7.513000128034037\n"
     ]
    },
    {
     "name": "stderr",
     "output_type": "stream",
     "text": [
      "2022-03-24 12:14:47,563 - stpipe.Spec3Pipeline.cube_build - INFO - # of detector pixels not mapped to output plane: 7263 with wavelength below 6.418000076373573\n"
     ]
    },
    {
     "name": "stderr",
     "output_type": "stream",
     "text": [
      "2022-03-24 12:14:47,564 - stpipe.Spec3Pipeline.cube_build - INFO - # of detector pixels not mapped to output plane: 10595 with wavelength above 7.513000128034037\n"
     ]
    },
    {
     "name": "stderr",
     "output_type": "stream",
     "text": [
      "2022-03-24 12:14:49,476 - stpipe.Spec3Pipeline.cube_build - INFO - # of detector pixels not mapped to output plane: 7263 with wavelength below 6.418000076373573\n"
     ]
    },
    {
     "name": "stderr",
     "output_type": "stream",
     "text": [
      "2022-03-24 12:14:49,477 - stpipe.Spec3Pipeline.cube_build - INFO - # of detector pixels not mapped to output plane: 10595 with wavelength above 7.513000128034037\n"
     ]
    },
    {
     "name": "stderr",
     "output_type": "stream",
     "text": [
      "2022-03-24 12:14:51,379 - stpipe.Spec3Pipeline.cube_build - INFO - # of detector pixels not mapped to output plane: 7263 with wavelength below 6.418000076373573\n"
     ]
    },
    {
     "name": "stderr",
     "output_type": "stream",
     "text": [
      "2022-03-24 12:14:51,380 - stpipe.Spec3Pipeline.cube_build - INFO - # of detector pixels not mapped to output plane: 10595 with wavelength above 7.513000128034037\n"
     ]
    },
    {
     "name": "stderr",
     "output_type": "stream",
     "text": [
      "2022-03-24 12:14:52,983 - stpipe.Spec3Pipeline.cube_build - INFO - Average # of holes/wavelength plane is < 1\n"
     ]
    },
    {
     "name": "stderr",
     "output_type": "stream",
     "text": [
      "2022-03-24 12:14:52,984 - stpipe.Spec3Pipeline.cube_build - INFO - Total # of holes for IFU cube is : 0\n"
     ]
    },
    {
     "name": "stderr",
     "output_type": "stream",
     "text": [
      "2022-03-24 12:14:54,666 - stpipe.Spec3Pipeline.cube_build - INFO - Update S_REGION to POLYGON ICRS  0.000635814 -0.000580646 0.000635814 0.000647132 359.999408037 0.000647132 359.999408037 -0.000580646\n"
     ]
    },
    {
     "name": "stderr",
     "output_type": "stream",
     "text": [
      "2022-03-24 12:14:55,111 - stpipe.Spec3Pipeline.cube_build - INFO - Saved model in od_after_ch1-long_s3d.fits\n"
     ]
    },
    {
     "name": "stderr",
     "output_type": "stream",
     "text": [
      "2022-03-24 12:14:55,112 - stpipe.Spec3Pipeline.cube_build - INFO - Step cube_build done\n"
     ]
    },
    {
     "name": "stderr",
     "output_type": "stream",
     "text": [
      "2022-03-24 12:14:55,498 - stpipe.Spec3Pipeline.extract_1d - INFO - Step extract_1d running with args (<ModelContainer>,).\n"
     ]
    },
    {
     "name": "stderr",
     "output_type": "stream",
     "text": [
      "2022-03-24 12:14:55,501 - stpipe.Spec3Pipeline.extract_1d - INFO - Step extract_1d parameters are: {'pre_hooks': [], 'post_hooks': [], 'output_file': None, 'output_dir': None, 'output_ext': '.fits', 'output_use_model': False, 'output_use_index': True, 'save_results': True, 'skip': False, 'suffix': 'x1d', 'search_output_file': False, 'input_dir': '', 'smoothing_length': None, 'bkg_fit': 'poly', 'bkg_order': None, 'bkg_sigma_clip': 3.0, 'log_increment': 50, 'subtract_background': None, 'use_source_posn': None, 'center_xy': None, 'apply_apcorr': True, 'soss_atoca': False, 'soss_threshold': 0.01, 'soss_n_os': 2, 'soss_transform': None, 'soss_tikfac': None, 'soss_width': 40.0, 'soss_bad_pix': 'model', 'soss_modelname': None}\n"
     ]
    },
    {
     "name": "stderr",
     "output_type": "stream",
     "text": [
      "2022-03-24 12:14:55,519 - stpipe.Spec3Pipeline.extract_1d - INFO - Using EXTRACT1D reference file /grp/crds/cache/references/jwst/jwst_miri_extract1d_0002.asdf\n"
     ]
    },
    {
     "name": "stderr",
     "output_type": "stream",
     "text": [
      "2022-03-24 12:14:55,531 - stpipe.Spec3Pipeline.extract_1d - INFO - Using APCORR file /grp/crds/cache/references/jwst/jwst_miri_apcorr_0001.asdf\n"
     ]
    },
    {
     "name": "stderr",
     "output_type": "stream",
     "text": [
      "2022-03-24 12:14:56,837 - stpipe.Spec3Pipeline.extract_1d - INFO - Turning on source position correction for exp_type = MIR_MRS\n"
     ]
    },
    {
     "name": "stderr",
     "output_type": "stream",
     "text": [
      "2022-03-24 12:14:56,838 - stpipe.Spec3Pipeline.extract_1d - INFO - Source type = EXTENDED\n"
     ]
    },
    {
     "name": "stderr",
     "output_type": "stream",
     "text": [
      "2022-03-24 12:14:56,852 - stpipe.Spec3Pipeline.extract_1d - INFO - Input model has no variance information. Creating zero-filled arrays.\n"
     ]
    },
    {
     "name": "stderr",
     "output_type": "stream",
     "text": [
      "2022-03-24 12:15:08,253 - stpipe.Spec3Pipeline.extract_1d - INFO - Saved model in od_after_ch1-long_x1d.fits\n"
     ]
    },
    {
     "name": "stderr",
     "output_type": "stream",
     "text": [
      "2022-03-24 12:15:08,254 - stpipe.Spec3Pipeline.extract_1d - INFO - Step extract_1d done\n"
     ]
    },
    {
     "name": "stderr",
     "output_type": "stream",
     "text": [
      "2022-03-24 12:15:08,256 - stpipe.Spec3Pipeline - INFO - Ending calwebb_spec3\n"
     ]
    },
    {
     "name": "stderr",
     "output_type": "stream",
     "text": [
      "2022-03-24 12:15:08,256 - stpipe.Spec3Pipeline - INFO - Step Spec3Pipeline done\n"
     ]
    }
   ],
   "source": [
    "# Run this association through the Spec3 pipeline with just outlier detection and cube build\n",
    "spec3=Spec3Pipeline()\n",
    "spec3.save_results = True\n",
    "spec3.master_background.skip = True\n",
    "spec3.mrs_imatch.skip = True\n",
    "spec3.outlier_detection.save_intermediate_results = True\n",
    "spec3.outlier_detection.scale = '2.0 2.0'\n",
    "spec3.cube_build.channel='1'\n",
    "spec3.cube_build.output_file='od_after'\n",
    "spec3('od.json')"
   ]
  },
  {
   "cell_type": "code",
   "execution_count": 15,
   "id": "caring-monroe",
   "metadata": {
    "execution": {
     "iopub.execute_input": "2022-03-24T16:15:08.260788Z",
     "iopub.status.busy": "2022-03-24T16:15:08.260505Z",
     "iopub.status.idle": "2022-03-24T16:15:08.482924Z",
     "shell.execute_reply": "2022-03-24T16:15:08.482514Z"
    }
   },
   "outputs": [
    {
     "data": {
      "text/plain": [
       "(0.0, 300.0)"
      ]
     },
     "execution_count": 15,
     "metadata": {},
     "output_type": "execute_result"
    },
    {
     "data": {
      "image/png": "[encoded data removed]",
      "text/plain": [
       "<Figure size 700x700 with 2 Axes>"
      ]
     },
     "metadata": {
      "needs_background": "light"
     },
     "output_type": "display_data"
    }
   ],
   "source": [
    "# Show the image and mask\n",
    "hdu=fits.open('det_image_seq1_MIRIFUSHORT_12LONGexp1_od_test_a3001_crf.fits')\n",
    "flux=hdu['SCI'].data\n",
    "dq=hdu['DQ'].data\n",
    "\n",
    "# Use a classic ZScale normalization\n",
    "norm = ImageNormalize(flux, interval=ZScaleInterval(),stretch=LinearStretch())\n",
    "\n",
    "rc('axes', linewidth=2)            \n",
    "fig, (ax1,ax2) = plt.subplots(1,2, figsize=(7,7),dpi=100)\n",
    "\n",
    "# Plot the data to visually check outliers were inserted correctly\n",
    "ax1.imshow(flux, cmap='gray',norm=norm,origin='lower')\n",
    "ax1.set_title('2d SCI array')\n",
    "ax1.set_xlabel('X pixel')\n",
    "ax1.set_ylabel('Y pixel')\n",
    "ax1.set_xlim(340,370)\n",
    "ax1.set_ylim(0, 300)\n",
    "\n",
    "ax2.imshow(dq, cmap='gray',vmin=0,vmax=1,origin='lower')\n",
    "ax2.set_title('2d DQ array')\n",
    "ax2.set_xlabel('X pixel')\n",
    "ax2.set_xlim(340,370)\n",
    "ax2.set_ylim(0, 300)"
   ]
  },
  {
   "cell_type": "code",
   "execution_count": 16,
   "id": "4c7af0da",
   "metadata": {
    "execution": {
     "iopub.execute_input": "2022-03-24T16:15:08.485426Z",
     "iopub.status.busy": "2022-03-24T16:15:08.484998Z",
     "iopub.status.idle": "2022-03-24T16:15:08.497962Z",
     "shell.execute_reply": "2022-03-24T16:15:08.497594Z"
    }
   },
   "outputs": [
    {
     "name": "stdout",
     "output_type": "stream",
     "text": [
      "flux: 3000.0 DQ Flag: 21 DQ Name: {'OUTLIER', 'DO_NOT_USE', 'JUMP_DET'}\n",
      "flux: 6000.0 DQ Flag: 21 DQ Name: {'OUTLIER', 'DO_NOT_USE', 'JUMP_DET'}\n",
      "flux: 9000.0 DQ Flag: 17 DQ Name: {'OUTLIER', 'DO_NOT_USE'}\n",
      "flux: 12000.0 DQ Flag: 17 DQ Name: {'OUTLIER', 'DO_NOT_USE'}\n",
      "flux: 15000.0 DQ Flag: 17 DQ Name: {'OUTLIER', 'DO_NOT_USE'}\n",
      "flux: 18000.0 DQ Flag: 17 DQ Name: {'OUTLIER', 'DO_NOT_USE'}\n",
      "flux: 21000.0 DQ Flag: 17 DQ Name: {'OUTLIER', 'DO_NOT_USE'}\n",
      "flux: 24000.0 DQ Flag: 17 DQ Name: {'OUTLIER', 'DO_NOT_USE'}\n",
      "flux: 27000.0 DQ Flag: 21 DQ Name: {'OUTLIER', 'DO_NOT_USE', 'JUMP_DET'}\n",
      "flux: 30000.0 DQ Flag: 17 DQ Name: {'OUTLIER', 'DO_NOT_USE'}\n"
     ]
    }
   ],
   "source": [
    "# Check DQ flags due to the the above plots being messy\n",
    "print('flux:', flux[21,355], 'DQ Flag:', dq[21,355], 'DQ Name:', dqflags.dqflags_to_mnemonics(dq[21,355],mnemonic_map=datamodels.dqflags.pixel))\n",
    "\n",
    "print('flux:',flux[121,355], 'DQ Flag:', dq[121,355], 'DQ Name:', dqflags.dqflags_to_mnemonics(dq[121,355],mnemonic_map=datamodels.dqflags.pixel))\n",
    "\n",
    "print('flux:',flux[221,355], 'DQ Flag:', dq[221,355], 'DQ Name:', dqflags.dqflags_to_mnemonics(dq[221,355],mnemonic_map=datamodels.dqflags.pixel))\n",
    "\n",
    "print('flux:',flux[321,355], 'DQ Flag:', dq[321,355], 'DQ Name:', dqflags.dqflags_to_mnemonics(dq[321,355],mnemonic_map=datamodels.dqflags.pixel))\n",
    "\n",
    "print('flux:',flux[421,355], 'DQ Flag:', dq[421,355], 'DQ Name:', dqflags.dqflags_to_mnemonics(dq[421,355],mnemonic_map=datamodels.dqflags.pixel))\n",
    "\n",
    "print('flux:',flux[521,355], 'DQ Flag:', dq[521,355], 'DQ Name:', dqflags.dqflags_to_mnemonics(dq[521,355],mnemonic_map=datamodels.dqflags.pixel))\n",
    "\n",
    "print('flux:',flux[621,355], 'DQ Flag:', dq[621,355], 'DQ Name:', dqflags.dqflags_to_mnemonics(dq[621,355],mnemonic_map=datamodels.dqflags.pixel))\n",
    "\n",
    "print('flux:',flux[721,355], 'DQ Flag:', dq[721,355], 'DQ Name:', dqflags.dqflags_to_mnemonics(dq[721,355],mnemonic_map=datamodels.dqflags.pixel))\n",
    "\n",
    "print('flux:',flux[821,355], 'DQ Flag:', dq[821,355], 'DQ Name:', dqflags.dqflags_to_mnemonics(dq[821,355],mnemonic_map=datamodels.dqflags.pixel))\n",
    "\n",
    "print('flux:',flux[921,355], 'DQ Flag:', dq[921,355], 'DQ Name:', dqflags.dqflags_to_mnemonics(dq[921,355],mnemonic_map=datamodels.dqflags.pixel))"
   ]
  },
  {
   "cell_type": "code",
   "execution_count": 17,
   "id": "entitled-surfing",
   "metadata": {
    "execution": {
     "iopub.execute_input": "2022-03-24T16:15:08.499920Z",
     "iopub.status.busy": "2022-03-24T16:15:08.499511Z",
     "iopub.status.idle": "2022-03-24T16:15:08.501887Z",
     "shell.execute_reply": "2022-03-24T16:15:08.501482Z"
    }
   },
   "outputs": [],
   "source": [
    "# Close files\n",
    "hdu.close()"
   ]
  },
  {
   "cell_type": "code",
   "execution_count": 18,
   "id": "spread-contrary",
   "metadata": {
    "execution": {
     "iopub.execute_input": "2022-03-24T16:15:08.503579Z",
     "iopub.status.busy": "2022-03-24T16:15:08.503276Z",
     "iopub.status.idle": "2022-03-24T16:15:08.518378Z",
     "shell.execute_reply": "2022-03-24T16:15:08.518018Z"
    }
   },
   "outputs": [],
   "source": [
    "# Cube without outlier rejection\n",
    "hdu1=fits.open('od_before_ch1-long_s3d.fits')\n",
    "flux1=hdu1['SCI'].data\n",
    "\n",
    "# Cube with outlier rejection\n",
    "hdu2=fits.open('od_after_ch1-long_s3d.fits')\n",
    "flux2=hdu2['SCI'].data\n",
    "\n",
    "# Use a classic ZScale normalization\n",
    "norm = ImageNormalize(flux1, interval=ZScaleInterval(),stretch=LinearStretch())"
   ]
  },
  {
   "cell_type": "code",
   "execution_count": 19,
   "id": "supported-church",
   "metadata": {
    "execution": {
     "iopub.execute_input": "2022-03-24T16:15:08.520241Z",
     "iopub.status.busy": "2022-03-24T16:15:08.519821Z",
     "iopub.status.idle": "2022-03-24T16:15:08.665715Z",
     "shell.execute_reply": "2022-03-24T16:15:08.665329Z"
    }
   },
   "outputs": [
    {
     "data": {
      "text/plain": [
       "Text(0.5, 1.0, 'With Outlier Det., Input 3000')"
      ]
     },
     "execution_count": 19,
     "metadata": {},
     "output_type": "execute_result"
    },
    {
     "data": {
      "image/png": "[encoded data removed]",
      "text/plain": [
       "<Figure size 700x700 with 2 Axes>"
      ]
     },
     "metadata": {
      "needs_background": "light"
     },
     "output_type": "display_data"
    }
   ],
   "source": [
    "rc('axes', linewidth=2)            \n",
    "fig, (ax1,ax2) = plt.subplots(1, 2, figsize=(7,7),dpi=100)\n",
    "\n",
    "# Plot data\n",
    "ax1.imshow(flux1[1,:,:], cmap='gray',norm=norm,origin='lower')\n",
    "ax1.set_title('No Outlier Det., Input 3000')\n",
    "\n",
    "ax2.imshow(flux2[1,:,:], cmap='gray',norm=norm,origin='lower')\n",
    "ax2.set_title('With Outlier Det., Input 3000')"
   ]
  },
  {
   "cell_type": "code",
   "execution_count": 20,
   "id": "quiet-portrait",
   "metadata": {
    "execution": {
     "iopub.execute_input": "2022-03-24T16:15:08.667786Z",
     "iopub.status.busy": "2022-03-24T16:15:08.667401Z",
     "iopub.status.idle": "2022-03-24T16:15:08.816239Z",
     "shell.execute_reply": "2022-03-24T16:15:08.815826Z"
    }
   },
   "outputs": [
    {
     "data": {
      "text/plain": [
       "Text(0.5, 1.0, 'With Outlier Det., Input 6000')"
      ]
     },
     "execution_count": 20,
     "metadata": {},
     "output_type": "execute_result"
    },
    {
     "data": {
      "image/png": "[encoded data removed]",
      "text/plain": [
       "<Figure size 700x700 with 2 Axes>"
      ]
     },
     "metadata": {
      "needs_background": "light"
     },
     "output_type": "display_data"
    }
   ],
   "source": [
    "rc('axes', linewidth=2)            \n",
    "fig, (ax1,ax2) = plt.subplots(1, 2, figsize=(7,7),dpi=100)\n",
    "\n",
    "# Plot data\n",
    "ax1.imshow(flux1[126,:,:], cmap='gray',norm=norm,origin='lower')\n",
    "ax1.set_title('No Outlier Det., Input 6000')\n",
    "\n",
    "ax2.imshow(flux2[126,:,:], cmap='gray',norm=norm,origin='lower')\n",
    "ax2.set_title('With Outlier Det., Input 6000')"
   ]
  },
  {
   "cell_type": "code",
   "execution_count": 21,
   "id": "enabling-irrigation",
   "metadata": {
    "execution": {
     "iopub.execute_input": "2022-03-24T16:15:08.818337Z",
     "iopub.status.busy": "2022-03-24T16:15:08.817933Z",
     "iopub.status.idle": "2022-03-24T16:15:08.964385Z",
     "shell.execute_reply": "2022-03-24T16:15:08.963992Z"
    }
   },
   "outputs": [
    {
     "data": {
      "text/plain": [
       "Text(0.5, 1.0, 'With Outlier Det., Input 9000')"
      ]
     },
     "execution_count": 21,
     "metadata": {},
     "output_type": "execute_result"
    },
    {
     "data": {
      "image/png": "[encoded data removed]",
      "text/plain": [
       "<Figure size 700x700 with 2 Axes>"
      ]
     },
     "metadata": {
      "needs_background": "light"
     },
     "output_type": "display_data"
    }
   ],
   "source": [
    "rc('axes', linewidth=2)            \n",
    "fig, (ax1,ax2) = plt.subplots(1, 2, figsize=(7,7),dpi=100)\n",
    "\n",
    "# Plot data\n",
    "ax1.imshow(flux1[249,:,:], cmap='gray',norm=norm,origin='lower')\n",
    "ax1.set_title('No Outlier Det., Input 9000')\n",
    "\n",
    "ax2.imshow(flux2[249,:,:], cmap='gray',norm=norm,origin='lower')\n",
    "ax2.set_title('With Outlier Det., Input 9000')"
   ]
  },
  {
   "cell_type": "code",
   "execution_count": 22,
   "id": "dried-fancy",
   "metadata": {
    "execution": {
     "iopub.execute_input": "2022-03-24T16:15:08.966422Z",
     "iopub.status.busy": "2022-03-24T16:15:08.966002Z",
     "iopub.status.idle": "2022-03-24T16:15:09.111093Z",
     "shell.execute_reply": "2022-03-24T16:15:09.110707Z"
    }
   },
   "outputs": [
    {
     "data": {
      "text/plain": [
       "Text(0.5, 1.0, 'With Outlier Det., Input 12000')"
      ]
     },
     "execution_count": 22,
     "metadata": {},
     "output_type": "execute_result"
    },
    {
     "data": {
      "image/png": "[encoded data removed]",
      "text/plain": [
       "<Figure size 700x700 with 2 Axes>"
      ]
     },
     "metadata": {
      "needs_background": "light"
     },
     "output_type": "display_data"
    }
   ],
   "source": [
    "rc('axes', linewidth=2)            \n",
    "fig, (ax1,ax2) = plt.subplots(1, 2, figsize=(7,7),dpi=100)\n",
    "\n",
    "# Plot data\n",
    "ax1.imshow(flux1[369,:,:], cmap='gray',norm=norm,origin='lower')\n",
    "ax1.set_title('No Outlier Det., Input 12000')\n",
    "\n",
    "ax2.imshow(flux2[369,:,:], cmap='gray',norm=norm,origin='lower')\n",
    "ax2.set_title('With Outlier Det., Input 12000')"
   ]
  },
  {
   "cell_type": "code",
   "execution_count": 23,
   "id": "operational-travel",
   "metadata": {
    "execution": {
     "iopub.execute_input": "2022-03-24T16:15:09.113393Z",
     "iopub.status.busy": "2022-03-24T16:15:09.112925Z",
     "iopub.status.idle": "2022-03-24T16:15:09.257469Z",
     "shell.execute_reply": "2022-03-24T16:15:09.257066Z"
    }
   },
   "outputs": [
    {
     "data": {
      "text/plain": [
       "Text(0.5, 1.0, 'With Outlier Det., Input 15000')"
      ]
     },
     "execution_count": 23,
     "metadata": {},
     "output_type": "execute_result"
    },
    {
     "data": {
      "image/png": "[encoded data removed]",
      "text/plain": [
       "<Figure size 700x700 with 2 Axes>"
      ]
     },
     "metadata": {
      "needs_background": "light"
     },
     "output_type": "display_data"
    }
   ],
   "source": [
    "rc('axes', linewidth=2)            \n",
    "fig, (ax1,ax2) = plt.subplots(1, 2, figsize=(7,7),dpi=100)\n",
    "\n",
    "# Plot data\n",
    "ax1.imshow(flux1[486,:,:], cmap='gray',norm=norm,origin='lower')\n",
    "ax1.set_title('No Outlier Det., Input 15000')\n",
    "\n",
    "ax2.imshow(flux2[486,:,:], cmap='gray',norm=norm,origin='lower')\n",
    "ax2.set_title('With Outlier Det., Input 15000')"
   ]
  },
  {
   "cell_type": "code",
   "execution_count": 24,
   "id": "vulnerable-basics",
   "metadata": {
    "execution": {
     "iopub.execute_input": "2022-03-24T16:15:09.259647Z",
     "iopub.status.busy": "2022-03-24T16:15:09.259149Z",
     "iopub.status.idle": "2022-03-24T16:15:09.804791Z",
     "shell.execute_reply": "2022-03-24T16:15:09.804395Z"
    }
   },
   "outputs": [
    {
     "data": {
      "text/plain": [
       "Text(0.5, 1.0, 'With Outlier Det., Input 18000')"
      ]
     },
     "execution_count": 24,
     "metadata": {},
     "output_type": "execute_result"
    },
    {
     "data": {
      "image/png": "[encoded data removed]",
      "text/plain": [
       "<Figure size 700x700 with 2 Axes>"
      ]
     },
     "metadata": {
      "needs_background": "light"
     },
     "output_type": "display_data"
    }
   ],
   "source": [
    "rc('axes', linewidth=2)            \n",
    "fig, (ax1,ax2) = plt.subplots(1, 2, figsize=(7,7),dpi=100)\n",
    "\n",
    "# Plot data\n",
    "ax1.imshow(flux1[600,:,:], cmap='gray',norm=norm,origin='lower')\n",
    "ax1.set_title('No Outlier Det., Input 18000')\n",
    "\n",
    "ax2.imshow(flux2[600,:,:], cmap='gray',norm=norm,origin='lower')\n",
    "ax2.set_title('With Outlier Det., Input 18000')"
   ]
  },
  {
   "cell_type": "code",
   "execution_count": 25,
   "id": "played-small",
   "metadata": {
    "execution": {
     "iopub.execute_input": "2022-03-24T16:15:09.807084Z",
     "iopub.status.busy": "2022-03-24T16:15:09.806542Z",
     "iopub.status.idle": "2022-03-24T16:15:09.951838Z",
     "shell.execute_reply": "2022-03-24T16:15:09.951448Z"
    }
   },
   "outputs": [
    {
     "data": {
      "text/plain": [
       "Text(0.5, 1.0, 'With Outlier Det., Input 21000')"
      ]
     },
     "execution_count": 25,
     "metadata": {},
     "output_type": "execute_result"
    },
    {
     "data": {
      "image/png": "[encoded data removed]",
      "text/plain": [
       "<Figure size 700x700 with 2 Axes>"
      ]
     },
     "metadata": {
      "needs_background": "light"
     },
     "output_type": "display_data"
    }
   ],
   "source": [
    "rc('axes', linewidth=2)            \n",
    "fig, (ax1,ax2) = plt.subplots(1, 2, figsize=(7,7),dpi=100)\n",
    "\n",
    "# Plot data\n",
    "ax1.imshow(flux1[712,:,:], cmap='gray',norm=norm,origin='lower')\n",
    "ax1.set_title('No Outlier Det., Input 21000')\n",
    "\n",
    "ax2.imshow(flux2[712,:,:], cmap='gray',norm=norm,origin='lower')\n",
    "ax2.set_title('With Outlier Det., Input 21000')"
   ]
  },
  {
   "cell_type": "code",
   "execution_count": 26,
   "id": "altered-threshold",
   "metadata": {
    "execution": {
     "iopub.execute_input": "2022-03-24T16:15:09.953846Z",
     "iopub.status.busy": "2022-03-24T16:15:09.953453Z",
     "iopub.status.idle": "2022-03-24T16:15:10.099517Z",
     "shell.execute_reply": "2022-03-24T16:15:10.099071Z"
    }
   },
   "outputs": [
    {
     "data": {
      "text/plain": [
       "Text(0.5, 1.0, 'With Outlier Det., Input 24000')"
      ]
     },
     "execution_count": 26,
     "metadata": {},
     "output_type": "execute_result"
    },
    {
     "data": {
      "image/png": "[encoded data removed]",
      "text/plain": [
       "<Figure size 700x700 with 2 Axes>"
      ]
     },
     "metadata": {
      "needs_background": "light"
     },
     "output_type": "display_data"
    }
   ],
   "source": [
    "rc('axes', linewidth=2)            \n",
    "fig, (ax1,ax2) = plt.subplots(1, 2, figsize=(7,7),dpi=100)\n",
    "\n",
    "# Plot data\n",
    "ax1.imshow(flux1[821,:,:], cmap='gray',norm=norm,origin='lower')\n",
    "ax1.set_title('No Outlier Det., Input 24000')\n",
    "\n",
    "ax2.imshow(flux2[821,:,:], cmap='gray',norm=norm,origin='lower')\n",
    "ax2.set_title('With Outlier Det., Input 24000')"
   ]
  },
  {
   "cell_type": "code",
   "execution_count": 27,
   "id": "middle-client",
   "metadata": {
    "execution": {
     "iopub.execute_input": "2022-03-24T16:15:10.101499Z",
     "iopub.status.busy": "2022-03-24T16:15:10.101148Z",
     "iopub.status.idle": "2022-03-24T16:15:10.246606Z",
     "shell.execute_reply": "2022-03-24T16:15:10.246182Z"
    }
   },
   "outputs": [
    {
     "data": {
      "text/plain": [
       "Text(0.5, 1.0, 'With Outlier Det., Input 27000')"
      ]
     },
     "execution_count": 27,
     "metadata": {},
     "output_type": "execute_result"
    },
    {
     "data": {
      "image/png": "[encoded data removed]",
      "text/plain": [
       "<Figure size 700x700 with 2 Axes>"
      ]
     },
     "metadata": {
      "needs_background": "light"
     },
     "output_type": "display_data"
    }
   ],
   "source": [
    "rc('axes', linewidth=2)            \n",
    "fig, (ax1,ax2) = plt.subplots(1, 2, figsize=(7,7),dpi=100)\n",
    "\n",
    "# Plot data\n",
    "ax1.imshow(flux1[927,:,:], cmap='gray',norm=norm,origin='lower')\n",
    "ax1.set_title('No Outlier Det., Input 27000')\n",
    "\n",
    "ax2.imshow(flux2[927,:,:], cmap='gray',norm=norm,origin='lower')\n",
    "ax2.set_title('With Outlier Det., Input 27000')"
   ]
  },
  {
   "cell_type": "code",
   "execution_count": 28,
   "id": "crazy-canadian",
   "metadata": {
    "execution": {
     "iopub.execute_input": "2022-03-24T16:15:10.248660Z",
     "iopub.status.busy": "2022-03-24T16:15:10.248195Z",
     "iopub.status.idle": "2022-03-24T16:15:10.391286Z",
     "shell.execute_reply": "2022-03-24T16:15:10.390889Z"
    }
   },
   "outputs": [
    {
     "data": {
      "text/plain": [
       "Text(0.5, 1.0, 'With Outlier Det., Input 30000')"
      ]
     },
     "execution_count": 28,
     "metadata": {},
     "output_type": "execute_result"
    },
    {
     "data": {
      "image/png": "[encoded data removed]",
      "text/plain": [
       "<Figure size 700x700 with 2 Axes>"
      ]
     },
     "metadata": {
      "needs_background": "light"
     },
     "output_type": "display_data"
    }
   ],
   "source": [
    "rc('axes', linewidth=2)            \n",
    "fig, (ax1,ax2) = plt.subplots(1, 2, figsize=(7,7),dpi=100)\n",
    "\n",
    "# Plot data\n",
    "ax1.imshow(flux1[1030,:,:], cmap='gray',norm=norm,origin='lower')\n",
    "ax1.set_title('No Outlier Det., Input 30000')\n",
    "\n",
    "ax2.imshow(flux2[1030,:,:], cmap='gray',norm=norm,origin='lower')\n",
    "ax2.set_title('With Outlier Det., Input 30000')\n"
   ]
  },
  {
   "cell_type": "code",
   "execution_count": 29,
   "id": "d6bd4219",
   "metadata": {
    "execution": {
     "iopub.execute_input": "2022-03-24T16:15:10.393621Z",
     "iopub.status.busy": "2022-03-24T16:15:10.393127Z",
     "iopub.status.idle": "2022-03-24T16:15:12.165362Z",
     "shell.execute_reply": "2022-03-24T16:15:12.164941Z"
    }
   },
   "outputs": [
    {
     "data": {
      "text/plain": [
       "<matplotlib.legend.Legend at 0x7f6e789d1b20>"
      ]
     },
     "execution_count": 29,
     "metadata": {},
     "output_type": "execute_result"
    },
    {
     "data": {
      "image/png": "[encoded data removed]",
      "text/plain": [
       "<Figure size 432x288 with 1 Axes>"
      ]
     },
     "metadata": {
      "needs_background": "light"
     },
     "output_type": "display_data"
    }
   ],
   "source": [
    "# Plot spectrum of point source before outlier detection\n",
    "image1,header1=fits.getdata('od_before_ch1-long_s3d.fits',header=True)\n",
    "num_x1=header1[\"NAXIS2\"]\n",
    "num_y1=header1[\"NAXIS1\"]\n",
    "num_chan1=header1[\"NAXIS3\"]\n",
    "start_wavelength1=header1[\"CRVAL3\"]\n",
    "step_wavelength1=header1[\"CDELT3\"]\n",
    "pix_size1=header1[\"PIXAR_SR\"]\n",
    "\n",
    "# Get wavelength\n",
    "d1=[0.0]*num_chan1\n",
    "d1[0]=start_wavelength1\n",
    "for i in range(1,num_chan1):\n",
    "    d1[i]=d1[i-1]+step_wavelength1\n",
    "\n",
    "# Get flux\n",
    "a1=[0.0]*num_chan1\n",
    "for i in range(0,num_chan1):\n",
    "    for m in range(10,30):\n",
    "        for n in range(10,30):\n",
    "            a1[i]=image1[i,m,n]+a1[i] \n",
    "for i in range(0,num_chan1):\n",
    "    a1[i]=a1[i]*(10**6)*(pix_size1)\n",
    "\n",
    "# Plot spectrum of point source before outlier detection\n",
    "plt.plot(d1,a1,'-', color='blue', lw=1, label='without outlier detection')\n",
    "\n",
    "# Plot spectrum of point source after outlier detection\n",
    "image2,header2=fits.getdata('od_after_ch1-long_s3d.fits',header=True)\n",
    "num_x2=header2[\"NAXIS2\"]\n",
    "num_y2=header2[\"NAXIS1\"]\n",
    "num_chan2=header2[\"NAXIS3\"]\n",
    "start_wavelength2=header2[\"CRVAL3\"]\n",
    "step_wavelength2=header2[\"CDELT3\"]\n",
    "pix_size2=header2[\"PIXAR_SR\"]\n",
    "\n",
    "#Get wavelength\n",
    "d2=[0.0]*num_chan1\n",
    "d2[0]=start_wavelength2\n",
    "for i in range(1,num_chan2):\n",
    "    d2[i]=d2[i-1]+step_wavelength2\n",
    "\n",
    "#Get flux\n",
    "a2=[0.0]*num_chan2\n",
    "for i in range(0,num_chan2):\n",
    "    for m in range(10,30):\n",
    "        for n in range(10,30):\n",
    "            a2[i]=image2[i,m,n]+a2[i] \n",
    "for i in range(0,num_chan2):\n",
    "    a2[i]=a2[i]*(10**6)*(pix_size2)\n",
    "\n",
    "#Plot spectrum\n",
    "plt.plot(d2,a2,'-', color='black', lw=1, label='with outlier detection')\n",
    "\n",
    "#Edit plot settings\n",
    "plt.ylim(0.007, 0.020)\n",
    "plt.legend()"
   ]
  },
  {
   "cell_type": "code",
   "execution_count": 30,
   "id": "8d948b6a",
   "metadata": {
    "execution": {
     "iopub.execute_input": "2022-03-24T16:15:12.168863Z",
     "iopub.status.busy": "2022-03-24T16:15:12.168721Z",
     "iopub.status.idle": "2022-03-24T16:15:12.189540Z",
     "shell.execute_reply": "2022-03-24T16:15:12.189166Z"
    }
   },
   "outputs": [
    {
     "name": "stdout",
     "output_type": "stream",
     "text": [
      "19295.366788432002 , 18830.334127411246 , 2.410074222064299\n",
      "21162.93411268294 , 18838.809448614717 , 10.98205311084617\n",
      "25009.81030934304 , 18168.340026177466 , 27.355146634637897\n",
      "34449.41758560389 , 18415.80912554264 , 46.54246597992285\n",
      "39500.415709748864 , 18846.196913184598 , 52.28861120939221\n",
      "45213.26934795681 , 18758.62971514091 , 58.51078679850297\n",
      "47776.69115463551 , 17734.07387869712 , 62.88132675136821\n",
      "45542.94931918103 , 16969.221405597404 , 62.740178975517985\n",
      "38429.02047620341 , 17970.676567506045 , 53.23670407203297\n",
      "24227.86565429624 , 16722.600878432393 , 30.977820675396416\n"
     ]
    }
   ],
   "source": [
    "# Pass/Fail criteria that determines flux of central source before and after outlier detection\n",
    "before_flux=[0.0]*10\n",
    "after_flux=[0.0]*10\n",
    "\n",
    "sum_before1=0.0\n",
    "sum_after1=0.0\n",
    "sum_before2=0.0\n",
    "sum_after2=0.0\n",
    "sum_before3=0.0\n",
    "sum_after3=0.0\n",
    "sum_before4=0.0\n",
    "sum_after4=0.0\n",
    "sum_before5=0.0\n",
    "sum_after5=0.0\n",
    "sum_before6=0.0\n",
    "sum_after6=0.0\n",
    "sum_before7=0.0\n",
    "sum_after7=0.0\n",
    "sum_before8=0.0\n",
    "sum_after8=0.0\n",
    "sum_before9=0.0\n",
    "sum_after9=0.0\n",
    "sum_before10=0.0\n",
    "sum_after10=0.0\n",
    "\n",
    "for i in range(15,30):\n",
    "    for j in range(15, 30):\n",
    "        sum_before1=sum_before1+flux1[1,j,i]\n",
    "\n",
    "for i in range(15,30):\n",
    "    for j in range(15,30):\n",
    "        sum_after1=sum_after1+flux2[1,j,i]\n",
    "\n",
    "for i in range(15,30):\n",
    "    for j in range(15, 30):\n",
    "        sum_before2=sum_before2+flux1[126,j,i]\n",
    "\n",
    "for i in range(15,30):\n",
    "    for j in range(15,30):\n",
    "        sum_after2=sum_after2+flux2[126,j,i]\n",
    "\n",
    "for i in range(15,30):\n",
    "    for j in range(15,30):\n",
    "        sum_before3=sum_before3+flux1[249,j,i]\n",
    "\n",
    "for i in range(15,30):\n",
    "    for j in range(15,30):\n",
    "        sum_after3=sum_after3+flux2[249,j,i]\n",
    "\n",
    "for i in range(15,30):\n",
    "    for j in range(15,30):\n",
    "        sum_before4=sum_before4+flux1[369,j,i]\n",
    "\n",
    "for i in range(15,30):\n",
    "    for j in range(15,30):\n",
    "        sum_after4=sum_after4+flux2[369,j,i]\n",
    "        \n",
    "for i in range(15,30):\n",
    "    for j in range(15,30):\n",
    "        sum_before5=sum_before5+flux1[486,j,i]\n",
    "\n",
    "for i in range(15,30):\n",
    "    for j in range(15,30):\n",
    "        sum_after5=sum_after5+flux2[486,j,i]\n",
    "        \n",
    "for i in range(15,30):\n",
    "    for j in range(15,30):\n",
    "        sum_before6=sum_before6+flux1[600,j,i]\n",
    "\n",
    "for i in range(15,30):\n",
    "    for j in range(15,30):\n",
    "        sum_after6=sum_after6+flux2[600,j,i]\n",
    "        \n",
    "for i in range(15,30):\n",
    "    for j in range(15,30):\n",
    "        sum_before7=sum_before7+flux1[712,j,i]\n",
    "\n",
    "for i in range(15,30):\n",
    "    for j in range(15,30):\n",
    "        sum_after7=sum_after7+flux2[712,j,i]\n",
    "        \n",
    "for i in range(15,30):\n",
    "    for j in range(15,30):\n",
    "        sum_before8=sum_before8+flux1[821,j,i]\n",
    "\n",
    "for i in range(15,30):\n",
    "    for j in range(15,30):\n",
    "        sum_after8=sum_after8+flux2[821,j,i]\n",
    "        \n",
    "for i in range(15,30):\n",
    "    for j in range(15,30):\n",
    "        sum_before9=sum_before9+flux1[927,j,i]\n",
    "\n",
    "for i in range(15,30):\n",
    "    for j in range(15,30):\n",
    "        sum_after9=sum_after9+flux2[927,j,i]\n",
    "        \n",
    "for i in range(15,30):\n",
    "    for j in range(15,30):\n",
    "        sum_before10=sum_before10+flux1[1030,j,i]\n",
    "\n",
    "for i in range(15,30):\n",
    "    for j in range(15,30):\n",
    "        sum_after10=sum_after10+flux2[1030,j,i]\n",
    "\n",
    "for a in range(0,10):\n",
    "    before_flux[0]=sum_before1\n",
    "    before_flux[1]=sum_before2\n",
    "    before_flux[2]=sum_before3\n",
    "    before_flux[3]=sum_before4\n",
    "    before_flux[4]=sum_before5\n",
    "    before_flux[5]=sum_before6\n",
    "    before_flux[6]=sum_before7\n",
    "    before_flux[7]=sum_before8\n",
    "    before_flux[8]=sum_before9\n",
    "    before_flux[9]=sum_before10\n",
    "\n",
    "for a in range(0,10):\n",
    "    after_flux[0]=sum_after1\n",
    "    after_flux[1]=sum_after2\n",
    "    after_flux[2]=sum_after3\n",
    "    after_flux[3]=sum_after4\n",
    "    after_flux[4]=sum_after5\n",
    "    after_flux[5]=sum_after6\n",
    "    after_flux[6]=sum_after7\n",
    "    after_flux[7]=sum_after8\n",
    "    after_flux[8]=sum_after9\n",
    "    after_flux[9]=sum_after10\n",
    "\n",
    "print(before_flux[0],',',after_flux[0],',',100*(before_flux[0]-after_flux[0])/(before_flux[0]))\n",
    "print(before_flux[1],',',after_flux[1],',',100*(before_flux[1]-after_flux[1])/(before_flux[1]))\n",
    "print(before_flux[2],',',after_flux[2],',',100*(before_flux[2]-after_flux[2])/(before_flux[2]))\n",
    "print(before_flux[3],',',after_flux[3],',',100*(before_flux[3]-after_flux[3])/(before_flux[3]))\n",
    "print(before_flux[4],',',after_flux[4],',',100*(before_flux[4]-after_flux[4])/(before_flux[4]))\n",
    "print(before_flux[5],',',after_flux[5],',',100*(before_flux[5]-after_flux[5])/(before_flux[5]))\n",
    "print(before_flux[6],',',after_flux[6],',',100*(before_flux[6]-after_flux[6])/(before_flux[6]))\n",
    "print(before_flux[7],',',after_flux[7],',',100*(before_flux[7]-after_flux[7])/(before_flux[7]))\n",
    "print(before_flux[8],',',after_flux[8],',',100*(before_flux[8]-after_flux[8])/(before_flux[8]))\n",
    "print(before_flux[9],',',after_flux[9],',',100*(before_flux[9]-after_flux[9])/(before_flux[9]))"
   ]
  },
  {
   "cell_type": "code",
   "execution_count": 31,
   "id": "da21534a",
   "metadata": {
    "execution": {
     "iopub.execute_input": "2022-03-24T16:15:12.191411Z",
     "iopub.status.busy": "2022-03-24T16:15:12.191049Z",
     "iopub.status.idle": "2022-03-24T16:15:12.194207Z",
     "shell.execute_reply": "2022-03-24T16:15:12.193855Z"
    }
   },
   "outputs": [
    {
     "name": "stdout",
     "output_type": "stream",
     "text": [
      "This notebook does not pass.\n"
     ]
    }
   ],
   "source": [
    "# Determine if the notebook passes or fails\n",
    "count=0\n",
    "for i in range(0,10):\n",
    "    if 100*(before_flux[i]-after_flux[i])/(before_flux[i]) > 35:\n",
    "        count=count+1\n",
    "\n",
    "if count>1:\n",
    "    print('This notebook does not pass.')\n",
    "else:\n",
    "    print('This notebook passes.')"
   ]
  },
  {
   "cell_type": "code",
   "execution_count": 32,
   "id": "interstate-threshold",
   "metadata": {
    "execution": {
     "iopub.execute_input": "2022-03-24T16:15:12.195985Z",
     "iopub.status.busy": "2022-03-24T16:15:12.195682Z",
     "iopub.status.idle": "2022-03-24T16:15:12.197922Z",
     "shell.execute_reply": "2022-03-24T16:15:12.197579Z"
    }
   },
   "outputs": [],
   "source": [
    "# Close files\n",
    "hdu1.close()\n",
    "hdu2.close()"
   ]
  },
  {
   "cell_type": "code",
   "execution_count": null,
   "id": "31a429a0",
   "metadata": {},
   "outputs": [],
   "source": []
  }
 ],
 "metadata": {
  "kernelspec": {
   "display_name": "Python 3 (ipykernel)",
   "language": "python",
   "name": "python3"
  },
  "language_info": {
   "codemirror_mode": {
    "name": "ipython",
    "version": 3
   },
   "file_extension": ".py",
   "mimetype": "text/x-python",
   "name": "python",
   "nbconvert_exporter": "python",
   "pygments_lexer": "ipython3",
   "version": "3.9.10"
  }
 },
 "nbformat": 4,
 "nbformat_minor": 5
}
