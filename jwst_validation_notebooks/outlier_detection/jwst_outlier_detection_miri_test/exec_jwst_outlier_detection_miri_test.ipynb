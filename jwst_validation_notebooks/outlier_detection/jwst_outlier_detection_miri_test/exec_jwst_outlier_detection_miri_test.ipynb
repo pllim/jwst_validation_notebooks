{
 "cells": [
  {
   "cell_type": "markdown",
   "metadata": {},
   "source": [
    "<a id=\"title_ID\"></a>\n",
    "# JWST Pipeline Validation Notebook: outlier_detection with MIRI\n",
    "\n",
    "\n",
    "<span style=\"color:red\"> **Instruments Affected**</span>: FGS, MIRI, NIRCam, NIRISS, NIRSpec \n",
    "\n",
    "Tested on MIRI Simulated data\n",
    "\n",
    "### Table of Contents\n",
    "<div style=\"text-align: left\"> \n",
    "\n",
    "<br>  [Introduction](#intro_ID) <br> [Imports](#imports_ID) <br> [Set up association files](#associations_ID) <br> [Insert outliers](#outliers_ID) <br> [Run Pipeline](#pipeline_ID) <br> [Check Results](#output_ID) <br> [About This Notebook](#about_ID) <br>\n",
    "\n",
    "\n",
    "</div>"
   ]
  },
  {
   "cell_type": "markdown",
   "metadata": {},
   "source": [
    "<a id=\"intro_ID\"></a>\n",
    "## Introduction\n",
    "\n",
    "This notebook processes an image through calwebb_image2 and calwebb_image3 (calwebb_detector1 is optional) and examines the output table of the source_catalog step. The steps are as follow:\n",
    "\n",
    "1) Set up data path and image list file.\n",
    "\n",
    "2) Set up association files.\n",
    "\n",
    "3) Create outlier pixels in input images.\n",
    "\n",
    "4) Run outlier_detection step in calwebb_image3. \n",
    "\n",
    "6) Compare before and after DQ values of outlier pixels\n",
    "\n",
    "These steps are set up with simulated MIRI images.\n",
    "\n",
    "The pipeline documentation for this step can be found here: https://jwst-pipeline.readthedocs.io/en/latest/jwst/outlier_detection/main.html\n",
    "\n",
    "The pipeline code is available on GitHub: https://github.com/spacetelescope/jwst\n",
    "\n",
    "Author: T. Temim (some parts adopted from the test_outlier_detection.py code for NIRCam)\n",
    "\n",
    "[Top of Page](#title_ID)"
   ]
  },
  {
   "cell_type": "code",
   "execution_count": 1,
   "metadata": {
    "execution": {
     "iopub.execute_input": "2021-10-30T16:15:21.143390Z",
     "iopub.status.busy": "2021-10-30T16:15:21.142472Z",
     "iopub.status.idle": "2021-10-30T16:15:21.149465Z",
     "shell.execute_reply": "2021-10-30T16:15:21.148321Z"
    }
   },
   "outputs": [],
   "source": [
    "# Create a temporary directory to hold notebook output, and change the working directory to that directory.\n",
    "from tempfile import TemporaryDirectory\n",
    "import os\n",
    "data_dir = TemporaryDirectory()\n",
    "os.chdir(data_dir.name)"
   ]
  },
  {
   "cell_type": "markdown",
   "metadata": {},
   "source": [
    "<a id=\"imports_ID\"></a>\n",
    "### Set up import statements\n",
    "\n",
    "The following packages are needed to enable this notebook to run:\n",
    "* astropy for coordinate handling and calculations\n",
    "* jwst to run the pipeline steps and create associations\n",
    "* matplotlib for plotting\n",
    "* ci_watson for retrieving data from artifactory\n",
    "\n",
    "[Top of Page](#title_ID)"
   ]
  },
  {
   "cell_type": "code",
   "execution_count": 2,
   "metadata": {
    "execution": {
     "iopub.execute_input": "2021-10-30T16:15:21.156640Z",
     "iopub.status.busy": "2021-10-30T16:15:21.155644Z",
     "iopub.status.idle": "2021-10-30T16:15:22.682117Z",
     "shell.execute_reply": "2021-10-30T16:15:22.682930Z"
    }
   },
   "outputs": [],
   "source": [
    "import pytest\n",
    "import numpy as np\n",
    "from glob import glob\n",
    "import json\n",
    "import jwst\n",
    "from astropy.io import fits, ascii\n",
    "from astropy.coordinates import Angle\n",
    "from astropy.table import Table, vstack, unique\n",
    "from astropy.stats import sigma_clip\n",
    "from jwst.pipeline import calwebb_image3\n",
    "from jwst.associations import asn_from_list\n",
    "import matplotlib.pyplot as plt\n",
    "import random\n",
    "from jwst.associations.lib.rules_level3_base import DMS_Level3_Base\n",
    "from jwst.outlier_detection import outlier_detection\n",
    "from ci_watson.artifactory_helpers import get_bigdata"
   ]
  },
  {
   "cell_type": "code",
   "execution_count": 3,
   "metadata": {
    "execution": {
     "iopub.execute_input": "2021-10-30T16:15:22.697106Z",
     "iopub.status.busy": "2021-10-30T16:15:22.696123Z",
     "iopub.status.idle": "2021-10-30T16:15:22.701440Z",
     "shell.execute_reply": "2021-10-30T16:15:22.702189Z"
    }
   },
   "outputs": [],
   "source": [
    "# Set environment variables\n",
    "import os\n",
    "os.environ['CRDS_PATH']='$HOME/crds_cache'\n",
    "os.environ['CRDS_SERVER_URL'] = 'https://jwst-crds.stsci.edu'\n",
    "os.environ['CRDS_CONTEXT']='jwst_0619.pmap'\n",
    "os.environ['TEST_BIGDATA']='https://bytesalad.stsci.edu/artifactory/'"
   ]
  },
  {
   "cell_type": "markdown",
   "metadata": {},
   "source": [
    "### Print pipeline version"
   ]
  },
  {
   "cell_type": "code",
   "execution_count": 4,
   "metadata": {
    "execution": {
     "iopub.execute_input": "2021-10-30T16:15:22.710913Z",
     "iopub.status.busy": "2021-10-30T16:15:22.710105Z",
     "iopub.status.idle": "2021-10-30T16:15:22.713440Z",
     "shell.execute_reply": "2021-10-30T16:15:22.714112Z"
    }
   },
   "outputs": [
    {
     "data": {
      "text/plain": [
       "'1.3.2'"
      ]
     },
     "execution_count": 4,
     "metadata": {},
     "output_type": "execute_result"
    }
   ],
   "source": [
    "jwst.__version__ "
   ]
  },
  {
   "cell_type": "markdown",
   "metadata": {},
   "source": [
    "### Retrieve data from Artifactory"
   ]
  },
  {
   "cell_type": "code",
   "execution_count": 5,
   "metadata": {
    "execution": {
     "iopub.execute_input": "2021-10-30T16:15:22.720729Z",
     "iopub.status.busy": "2021-10-30T16:15:22.720113Z",
     "iopub.status.idle": "2021-10-30T16:15:24.942356Z",
     "shell.execute_reply": "2021-10-30T16:15:24.943107Z"
    }
   },
   "outputs": [],
   "source": [
    "input_file1 = get_bigdata('jwst_validation_notebooks',\n",
    "                     'validation_data',\n",
    "                     'outlier_detection',\n",
    "                     'outlier_detection_miri_test', \n",
    "                     'det_image_seq1_MIRIMAGE_F560Wexp1_cal.fits')\n",
    "input_file2 = get_bigdata('jwst_validation_notebooks',\n",
    "                     'validation_data',\n",
    "                     'outlier_detection',\n",
    "                     'outlier_detection_miri_test', \n",
    "                     'det_image_seq2_MIRIMAGE_F560Wexp1_cal.fits')\n",
    "input_file3 = get_bigdata('jwst_validation_notebooks',\n",
    "                     'validation_data',\n",
    "                     'outlier_detection',\n",
    "                     'outlier_detection_miri_test', \n",
    "                     'det_image_seq3_MIRIMAGE_F560Wexp1_cal.fits')\n",
    "input_file4 = get_bigdata('jwst_validation_notebooks',\n",
    "                     'validation_data',\n",
    "                     'outlier_detection',\n",
    "                     'outlier_detection_miri_test', \n",
    "                     'det_image_seq4_MIRIMAGE_F560Wexp1_cal.fits')"
   ]
  },
  {
   "cell_type": "code",
   "execution_count": 6,
   "metadata": {
    "execution": {
     "iopub.execute_input": "2021-10-30T16:15:24.948940Z",
     "iopub.status.busy": "2021-10-30T16:15:24.947956Z",
     "iopub.status.idle": "2021-10-30T16:15:24.949969Z",
     "shell.execute_reply": "2021-10-30T16:15:24.950765Z"
    }
   },
   "outputs": [],
   "source": [
    "input_file_names=[]\n",
    "input_file_names=[input_file1,input_file2,input_file3,input_file4]\n",
    "\n",
    "imlist1=['det_image_seq1_MIRIMAGE_F560Wexp1_cal.fits','det_image_seq2_MIRIMAGE_F560Wexp1_cal.fits','det_image_seq3_MIRIMAGE_F560Wexp1_cal.fits','det_image_seq4_MIRIMAGE_F560Wexp1_cal.fits']"
   ]
  },
  {
   "cell_type": "code",
   "execution_count": 7,
   "metadata": {
    "execution": {
     "iopub.execute_input": "2021-10-30T16:15:24.955183Z",
     "iopub.status.busy": "2021-10-30T16:15:24.954601Z",
     "iopub.status.idle": "2021-10-30T16:15:24.957044Z",
     "shell.execute_reply": "2021-10-30T16:15:24.956467Z"
    }
   },
   "outputs": [],
   "source": [
    "save_figs=False"
   ]
  },
  {
   "cell_type": "markdown",
   "metadata": {},
   "source": [
    "<a id=\"associations_ID\"></a>\n",
    "### Set up association files\n",
    "The level three pipeline relies on an association file to specify which files are to be combined and provide the output file name.\n",
    "\n",
    "The level two pipeline can take individual images or an association file as input. The cell below sets up association files for both level2 and level3 files.\n",
    "\n",
    "[Top of Page](#title_ID)"
   ]
  },
  {
   "cell_type": "code",
   "execution_count": 8,
   "metadata": {
    "execution": {
     "iopub.execute_input": "2021-10-30T16:15:24.965284Z",
     "iopub.status.busy": "2021-10-30T16:15:24.964776Z",
     "iopub.status.idle": "2021-10-30T16:15:24.969649Z",
     "shell.execute_reply": "2021-10-30T16:15:24.970024Z"
    }
   },
   "outputs": [],
   "source": [
    "# use asn_from_list to create association table\n",
    "cal_list=imlist1\n",
    "asn = asn_from_list.asn_from_list(cal_list, rule=DMS_Level3_Base, product_name='outlier_combined.fits')\n",
    "\n",
    "# use this if you need to add non'science' exposure types\n",
    "#asn['products'][0]['members'][1]['exptype'] = 'background'\n",
    "#asn['products'][0]['members'][2]['exptype'] = 'sourcecat'\n",
    "\n",
    "# dump association table to a .json file for use in image3\n",
    "with open('outlier_asnfile.json', 'w') as fp:\n",
    "    fp.write(asn.dump()[1])\n",
    "\n",
    "outlier_json_file='outlier_asnfile.json'\n",
    "    \n",
    "json_file = outlier_json_file\n",
    "file_list = []\n",
    "file_list2 = []\n",
    "with open(json_file) as json_data:\n",
    "    d = json.load(json_data)\n",
    "    members = d['products'][0]['members']\n",
    "    for item in np.arange(0,len(members)):\n",
    "        file_list.append(members[item]['expname'])\n",
    "        file_list2.append(members[item]['expname'][:-5]+\"_outlier.fits\")\n",
    "\n",
    "    \n",
    "asn2 = asn_from_list.asn_from_list(file_list2, rule=DMS_Level3_Base, product_name='outlier_combined2.fits')\n",
    "\n",
    "# use this if you need to add non'science' exposure types\n",
    "#asn['products'][0]['members'][1]['exptype'] = 'background'\n",
    "#asn['products'][0]['members'][2]['exptype'] = 'sourcecat'\n",
    "\n",
    "# dump association table to a .json file for use in image3\n",
    "with open('outlier_asnfile2.json', 'w') as fp:\n",
    "    fp.write(asn2.dump()[1])\n",
    "    \n",
    "outlier_json_file2='outlier_asnfile2.json'"
   ]
  },
  {
   "cell_type": "markdown",
   "metadata": {},
   "source": [
    "<a id=\"outliers_ID\"></a>\n",
    "## Insert outliers \n",
    "\n",
    "Insert outliers into the data to see if they are detected in the output of the step.\n",
    "\n",
    "### Choose random pixels to produce outliers\n",
    "\n",
    "[Top of Page](#title_ID)"
   ]
  },
  {
   "cell_type": "code",
   "execution_count": 9,
   "metadata": {
    "execution": {
     "iopub.execute_input": "2021-10-30T16:15:24.975478Z",
     "iopub.status.busy": "2021-10-30T16:15:24.974808Z",
     "iopub.status.idle": "2021-10-30T16:15:24.977393Z",
     "shell.execute_reply": "2021-10-30T16:15:24.976714Z"
    }
   },
   "outputs": [],
   "source": [
    "pixloc = []\n",
    "for i in range(len(file_list)):\n",
    "    pixloc.append([random.randint(20,1010),random.randint(430,1010)])\n",
    "    pixloc.append([random.randint(20,1010),random.randint(430,1010)])\n",
    "    pixloc.append([random.randint(20,1010),random.randint(430,1010)])\n",
    "    pixloc.append([random.randint(20,1010),random.randint(430,1010)])\n",
    "pixloc2 = np.array(pixloc)"
   ]
  },
  {
   "cell_type": "markdown",
   "metadata": {},
   "source": [
    "### Assign values to outlier pixels"
   ]
  },
  {
   "cell_type": "code",
   "execution_count": 10,
   "metadata": {
    "execution": {
     "iopub.execute_input": "2021-10-30T16:15:24.988323Z",
     "iopub.status.busy": "2021-10-30T16:15:24.987596Z",
     "iopub.status.idle": "2021-10-30T16:15:25.226114Z",
     "shell.execute_reply": "2021-10-30T16:15:25.225218Z"
    }
   },
   "outputs": [],
   "source": [
    "images = {}\n",
    "for i in range(len(file_list)):\n",
    "     with fits.open(input_file_names[i]) as h:\n",
    "        j = 4*i\n",
    "        med = np.median(h['SCI'].data)\n",
    "        h['SCI'].data[:,:] = 1.0   # this line should eventually be commented out (only used as a test)\n",
    "        h['SCI'].data[pixloc2[j,0],pixloc2[j,1]] = med*3.0\n",
    "        h['SCI'].data[pixloc2[j+1,0],pixloc2[j+1,1]] = med*5.0\n",
    "        h['SCI'].data[pixloc2[j+2,0],pixloc2[j+2,1]] = med*10.0\n",
    "        h['SCI'].data[pixloc2[j+3,0],pixloc2[j+3,1]] = med*20.0\n",
    "        h['DQ'].data[:,:] = 0\n",
    "        h.writeto(file_list2[i],overwrite=True)\n",
    "        images[\"img{0}\".format(i)]=h"
   ]
  },
  {
   "cell_type": "markdown",
   "metadata": {},
   "source": [
    "<a id=\"intro_ID\"></a>\n",
    "### Run outlier_detection step in calwebb_image3\n",
    "The pipeline can be set to skip steps that are not needed or in this case, are not being tested.\n",
    "\n",
    "[Top of Page](#title_ID)"
   ]
  },
  {
   "cell_type": "code",
   "execution_count": 11,
   "metadata": {
    "execution": {
     "iopub.execute_input": "2021-10-30T16:15:25.383848Z",
     "iopub.status.busy": "2021-10-30T16:15:25.382849Z",
     "iopub.status.idle": "2021-10-30T16:15:38.643844Z",
     "shell.execute_reply": "2021-10-30T16:15:38.642843Z"
    }
   },
   "outputs": [
    {
     "name": "stderr",
     "output_type": "stream",
     "text": [
      "2021-10-30 12:15:25,380 - stpipe.Image3Pipeline - INFO - Image3Pipeline instance created.\n"
     ]
    },
    {
     "name": "stderr",
     "output_type": "stream",
     "text": [
      "2021-10-30 12:15:25,382 - stpipe.Image3Pipeline.assign_mtwcs - INFO - AssignMTWcsStep instance created.\n"
     ]
    },
    {
     "name": "stderr",
     "output_type": "stream",
     "text": [
      "2021-10-30 12:15:25,385 - stpipe.Image3Pipeline.tweakreg - INFO - TweakRegStep instance created.\n"
     ]
    },
    {
     "name": "stderr",
     "output_type": "stream",
     "text": [
      "2021-10-30 12:15:25,386 - stpipe.Image3Pipeline.skymatch - INFO - SkyMatchStep instance created.\n"
     ]
    },
    {
     "name": "stderr",
     "output_type": "stream",
     "text": [
      "2021-10-30 12:15:25,388 - stpipe.Image3Pipeline.outlier_detection - INFO - OutlierDetectionStep instance created.\n"
     ]
    },
    {
     "name": "stderr",
     "output_type": "stream",
     "text": [
      "2021-10-30 12:15:25,389 - stpipe.Image3Pipeline.resample - INFO - ResampleStep instance created.\n"
     ]
    },
    {
     "name": "stderr",
     "output_type": "stream",
     "text": [
      "2021-10-30 12:15:25,391 - stpipe.Image3Pipeline.source_catalog - INFO - SourceCatalogStep instance created.\n"
     ]
    },
    {
     "name": "stderr",
     "output_type": "stream",
     "text": [
      "2021-10-30 12:15:25,524 - stpipe.Image3Pipeline - INFO - Step Image3Pipeline running with args ('outlier_asnfile2.json',).\n"
     ]
    },
    {
     "name": "stderr",
     "output_type": "stream",
     "text": [
      "2021-10-30 12:15:25,530 - stpipe.Image3Pipeline - INFO - Step Image3Pipeline parameters are: {'pre_hooks': [], 'post_hooks': [], 'output_file': None, 'output_dir': None, 'output_ext': '.fits', 'output_use_model': False, 'output_use_index': True, 'save_results': True, 'skip': False, 'suffix': None, 'search_output_file': True, 'input_dir': '', 'steps': {'assign_mtwcs': {'pre_hooks': [], 'post_hooks': [], 'output_file': None, 'output_dir': None, 'output_ext': '.fits', 'output_use_model': True, 'output_use_index': True, 'save_results': False, 'skip': False, 'suffix': 'assign_mtwcs', 'search_output_file': True, 'input_dir': ''}, 'tweakreg': {'pre_hooks': [], 'post_hooks': [], 'output_file': None, 'output_dir': None, 'output_ext': '.fits', 'output_use_model': True, 'output_use_index': True, 'save_results': False, 'skip': True, 'suffix': None, 'search_output_file': True, 'input_dir': '', 'save_catalogs': False, 'catalog_format': 'ecsv', 'kernel_fwhm': 2.5, 'snr_threshold': 10.0, 'brightest': 1000, 'peakmax': None, 'enforce_user_order': False, 'expand_refcat': False, 'minobj': 15, 'searchrad': 1.0, 'use2dhist': True, 'separation': 0.5, 'tolerance': 1.0, 'xoffset': 0.0, 'yoffset': 0.0, 'fitgeometry': 'general', 'nclip': 3, 'sigma': 3.0, 'align_to_gaia': False, 'gaia_catalog': 'GAIADR2', 'min_gaia': 5, 'save_gaia_catalog': False}, 'skymatch': {'pre_hooks': [], 'post_hooks': [], 'output_file': None, 'output_dir': None, 'output_ext': '.fits', 'output_use_model': False, 'output_use_index': True, 'save_results': False, 'skip': True, 'suffix': None, 'search_output_file': True, 'input_dir': '', 'skymethod': 'global+match', 'match_down': True, 'subtract': False, 'stepsize': None, 'skystat': 'mode', 'dqbits': '0', 'lower': None, 'upper': None, 'nclip': 5, 'lsigma': 4.0, 'usigma': 4.0, 'binwidth': 0.1}, 'outlier_detection': {'pre_hooks': [], 'post_hooks': [], 'output_file': None, 'output_dir': None, 'output_ext': '.fits', 'output_use_model': False, 'output_use_index': True, 'save_results': False, 'skip': False, 'suffix': None, 'search_output_file': False, 'input_dir': '', 'weight_type': 'ivm', 'pixfrac': 1.0, 'kernel': 'square', 'fillval': 'INDEF', 'nlow': 0, 'nhigh': 0, 'maskpt': 0.7, 'grow': 1, 'snr': '5.0 4.0', 'scale': '1.2 0.7', 'backg': 0.0, 'save_intermediate_results': False, 'resample_data': True, 'good_bits': '~DO_NOT_USE', 'scale_detection': False, 'allowed_memory': None}, 'resample': {'pre_hooks': [], 'post_hooks': [], 'output_file': None, 'output_dir': None, 'output_ext': '.fits', 'output_use_model': False, 'output_use_index': True, 'save_results': False, 'skip': True, 'suffix': None, 'search_output_file': True, 'input_dir': '', 'pixfrac': 1.0, 'kernel': 'square', 'fillval': 'INDEF', 'weight_type': 'ivm', 'pixel_scale_ratio': 1.0, 'single': False, 'blendheaders': True, 'allowed_memory': None}, 'source_catalog': {'pre_hooks': [], 'post_hooks': [], 'output_file': None, 'output_dir': None, 'output_ext': '.fits', 'output_use_model': False, 'output_use_index': True, 'save_results': False, 'skip': True, 'suffix': 'cat', 'search_output_file': True, 'input_dir': '', 'bkg_boxsize': 100, 'kernel_fwhm': 2.0, 'snr_threshold': 3.0, 'npixels': 5, 'deblend': False, 'aperture_ee1': 30, 'aperture_ee2': 50, 'aperture_ee3': 70, 'ci1_star_threshold': 2.0, 'ci2_star_threshold': 1.8}}}\n"
     ]
    },
    {
     "name": "stderr",
     "output_type": "stream",
     "text": [
      "2021-10-30 12:15:25,531 - stpipe.Image3Pipeline - INFO - Starting calwebb_image3 ...\n"
     ]
    },
    {
     "name": "stderr",
     "output_type": "stream",
     "text": [
      "2021-10-30 12:15:26,832 - stpipe.Image3Pipeline.tweakreg - INFO - Step tweakreg running with args (<ModelContainer>,).\n"
     ]
    },
    {
     "name": "stderr",
     "output_type": "stream",
     "text": [
      "2021-10-30 12:15:26,834 - stpipe.Image3Pipeline.tweakreg - INFO - Step tweakreg parameters are: {'pre_hooks': [], 'post_hooks': [], 'output_file': None, 'output_dir': None, 'output_ext': '.fits', 'output_use_model': True, 'output_use_index': True, 'save_results': False, 'skip': True, 'suffix': None, 'search_output_file': True, 'input_dir': '', 'save_catalogs': False, 'catalog_format': 'ecsv', 'kernel_fwhm': 2.5, 'snr_threshold': 10.0, 'brightest': 1000, 'peakmax': None, 'enforce_user_order': False, 'expand_refcat': False, 'minobj': 15, 'searchrad': 1.0, 'use2dhist': True, 'separation': 0.5, 'tolerance': 1.0, 'xoffset': 0.0, 'yoffset': 0.0, 'fitgeometry': 'general', 'nclip': 3, 'sigma': 3.0, 'align_to_gaia': False, 'gaia_catalog': 'GAIADR2', 'min_gaia': 5, 'save_gaia_catalog': False}\n"
     ]
    },
    {
     "name": "stderr",
     "output_type": "stream",
     "text": [
      "2021-10-30 12:15:26,835 - stpipe.Image3Pipeline.tweakreg - INFO - Step skipped.\n"
     ]
    },
    {
     "name": "stderr",
     "output_type": "stream",
     "text": [
      "2021-10-30 12:15:26,838 - stpipe.Image3Pipeline.tweakreg - INFO - Step tweakreg done\n"
     ]
    },
    {
     "name": "stderr",
     "output_type": "stream",
     "text": [
      "2021-10-30 12:15:26,947 - stpipe.Image3Pipeline.skymatch - INFO - Step skymatch running with args (<ModelContainer>,).\n"
     ]
    },
    {
     "name": "stderr",
     "output_type": "stream",
     "text": [
      "2021-10-30 12:15:26,949 - stpipe.Image3Pipeline.skymatch - INFO - Step skymatch parameters are: {'pre_hooks': [], 'post_hooks': [], 'output_file': None, 'output_dir': None, 'output_ext': '.fits', 'output_use_model': False, 'output_use_index': True, 'save_results': False, 'skip': True, 'suffix': None, 'search_output_file': True, 'input_dir': '', 'skymethod': 'global+match', 'match_down': True, 'subtract': False, 'stepsize': None, 'skystat': 'mode', 'dqbits': '0', 'lower': None, 'upper': None, 'nclip': 5, 'lsigma': 4.0, 'usigma': 4.0, 'binwidth': 0.1}\n"
     ]
    },
    {
     "name": "stderr",
     "output_type": "stream",
     "text": [
      "2021-10-30 12:15:26,950 - stpipe.Image3Pipeline.skymatch - INFO - Step skipped.\n"
     ]
    },
    {
     "name": "stderr",
     "output_type": "stream",
     "text": [
      "2021-10-30 12:15:26,953 - stpipe.Image3Pipeline.skymatch - INFO - Step skymatch done\n"
     ]
    },
    {
     "name": "stderr",
     "output_type": "stream",
     "text": [
      "2021-10-30 12:15:27,056 - stpipe.Image3Pipeline.outlier_detection - INFO - Step outlier_detection running with args (<ModelContainer>,).\n"
     ]
    },
    {
     "name": "stderr",
     "output_type": "stream",
     "text": [
      "2021-10-30 12:15:27,058 - stpipe.Image3Pipeline.outlier_detection - INFO - Step outlier_detection parameters are: {'pre_hooks': [], 'post_hooks': [], 'output_file': None, 'output_dir': None, 'output_ext': '.fits', 'output_use_model': False, 'output_use_index': True, 'save_results': True, 'skip': False, 'suffix': 'crf', 'search_output_file': False, 'input_dir': '', 'weight_type': 'ivm', 'pixfrac': 1.0, 'kernel': 'square', 'fillval': 'INDEF', 'nlow': 0, 'nhigh': 0, 'maskpt': 0.7, 'grow': 1, 'snr': '5.0 4.0', 'scale': '1.2 0.7', 'backg': 0.0, 'save_intermediate_results': False, 'resample_data': True, 'good_bits': '~DO_NOT_USE', 'scale_detection': False, 'allowed_memory': None}\n"
     ]
    },
    {
     "name": "stderr",
     "output_type": "stream",
     "text": [
      "2021-10-30 12:15:27,063 - stpipe.Image3Pipeline.outlier_detection - INFO - Performing outlier detection on 4 inputs\n"
     ]
    },
    {
     "name": "stderr",
     "output_type": "stream",
     "text": [
      "2021-10-30 12:15:27,864 - stpipe.Image3Pipeline.outlier_detection - INFO - Drizzling (1024, 1032) --> (1146, 1116)\n"
     ]
    },
    {
     "name": "stderr",
     "output_type": "stream",
     "text": [
      "2021-10-30 12:15:29,221 - stpipe.Image3Pipeline.outlier_detection - INFO - Drizzling (1024, 1032) --> (1146, 1116)\n"
     ]
    },
    {
     "name": "stderr",
     "output_type": "stream",
     "text": [
      "2021-10-30 12:15:30,591 - stpipe.Image3Pipeline.outlier_detection - INFO - Drizzling (1024, 1032) --> (1146, 1116)\n"
     ]
    },
    {
     "name": "stderr",
     "output_type": "stream",
     "text": [
      "2021-10-30 12:15:32,066 - stpipe.Image3Pipeline.outlier_detection - INFO - Drizzling (1024, 1032) --> (1146, 1116)\n"
     ]
    },
    {
     "name": "stderr",
     "output_type": "stream",
     "text": [
      "2021-10-30 12:15:33,277 - stpipe.Image3Pipeline.outlier_detection - INFO - Generating median from 4 images\n"
     ]
    },
    {
     "name": "stderr",
     "output_type": "stream",
     "text": [
      "2021-10-30 12:15:33,631 - stpipe.Image3Pipeline.outlier_detection - INFO - Blotting median...\n"
     ]
    },
    {
     "name": "stderr",
     "output_type": "stream",
     "text": [
      "2021-10-30 12:15:34,363 - stpipe.Image3Pipeline.outlier_detection - INFO - Blotting (1024, 1032) <-- (1146, 1116)\n"
     ]
    },
    {
     "name": "stderr",
     "output_type": "stream",
     "text": [
      "2021-10-30 12:15:35,216 - stpipe.Image3Pipeline.outlier_detection - INFO - Blotting (1024, 1032) <-- (1146, 1116)\n"
     ]
    },
    {
     "name": "stderr",
     "output_type": "stream",
     "text": [
      "2021-10-30 12:15:36,086 - stpipe.Image3Pipeline.outlier_detection - INFO - Blotting (1024, 1032) <-- (1146, 1116)\n"
     ]
    },
    {
     "name": "stderr",
     "output_type": "stream",
     "text": [
      "2021-10-30 12:15:36,987 - stpipe.Image3Pipeline.outlier_detection - INFO - Blotting (1024, 1032) <-- (1146, 1116)\n"
     ]
    },
    {
     "name": "stderr",
     "output_type": "stream",
     "text": [
      "2021-10-30 12:15:37,960 - stpipe.Image3Pipeline.outlier_detection - INFO - Saved model in det_image_seq1_MIRIMAGE_F560Wexp1_cal_outlier_a3001_crf.fits\n"
     ]
    },
    {
     "name": "stderr",
     "output_type": "stream",
     "text": [
      "2021-10-30 12:15:38,080 - stpipe.Image3Pipeline.outlier_detection - INFO - Saved model in det_image_seq2_MIRIMAGE_F560Wexp1_cal_outlier_a3001_crf.fits\n"
     ]
    },
    {
     "name": "stderr",
     "output_type": "stream",
     "text": [
      "2021-10-30 12:15:38,394 - stpipe.Image3Pipeline.outlier_detection - INFO - Saved model in det_image_seq3_MIRIMAGE_F560Wexp1_cal_outlier_a3001_crf.fits\n"
     ]
    },
    {
     "name": "stderr",
     "output_type": "stream",
     "text": [
      "2021-10-30 12:15:38,511 - stpipe.Image3Pipeline.outlier_detection - INFO - Saved model in det_image_seq4_MIRIMAGE_F560Wexp1_cal_outlier_a3001_crf.fits\n"
     ]
    },
    {
     "name": "stderr",
     "output_type": "stream",
     "text": [
      "2021-10-30 12:15:38,513 - stpipe.Image3Pipeline.outlier_detection - INFO - Step outlier_detection done\n"
     ]
    },
    {
     "name": "stderr",
     "output_type": "stream",
     "text": [
      "2021-10-30 12:15:38,632 - stpipe.Image3Pipeline.resample - INFO - Step resample running with args (<ModelContainer>,).\n"
     ]
    },
    {
     "name": "stderr",
     "output_type": "stream",
     "text": [
      "2021-10-30 12:15:38,633 - stpipe.Image3Pipeline.resample - INFO - Step resample parameters are: {'pre_hooks': [], 'post_hooks': [], 'output_file': None, 'output_dir': None, 'output_ext': '.fits', 'output_use_model': False, 'output_use_index': True, 'save_results': True, 'skip': True, 'suffix': 'i2d', 'search_output_file': True, 'input_dir': '', 'pixfrac': 1.0, 'kernel': 'square', 'fillval': 'INDEF', 'weight_type': 'ivm', 'pixel_scale_ratio': 1.0, 'single': False, 'blendheaders': True, 'allowed_memory': None}\n"
     ]
    },
    {
     "name": "stderr",
     "output_type": "stream",
     "text": [
      "2021-10-30 12:15:38,634 - stpipe.Image3Pipeline.resample - INFO - Step skipped.\n"
     ]
    },
    {
     "name": "stderr",
     "output_type": "stream",
     "text": [
      "2021-10-30 12:15:38,637 - stpipe.Image3Pipeline.resample - INFO - Step resample done\n"
     ]
    },
    {
     "name": "stderr",
     "output_type": "stream",
     "text": [
      "2021-10-30 12:15:38,638 - stpipe.Image3Pipeline - INFO - Step Image3Pipeline done\n"
     ]
    }
   ],
   "source": [
    "im3 = calwebb_image3.Image3Pipeline()\n",
    "im3.tweakreg.skip = True\n",
    "im3.source_catalog.skip = True\n",
    "im3.resample.skip = True\n",
    "im3.skymatch.skip = True\n",
    "im3.save_results=True\n",
    "#im3.resample.blendheaders = False\n",
    "#im3.outlier_detection.save_intermediate_results = True\n",
    "im3.run(outlier_json_file2)"
   ]
  },
  {
   "cell_type": "markdown",
   "metadata": {},
   "source": [
    "<a id=\"output_ID\"></a>\n",
    "## Check results\n",
    "\n",
    "### Get filenames and outlier detection outputs"
   ]
  },
  {
   "cell_type": "code",
   "execution_count": 12,
   "metadata": {
    "execution": {
     "iopub.execute_input": "2021-10-30T16:15:38.649941Z",
     "iopub.status.busy": "2021-10-30T16:15:38.649450Z",
     "iopub.status.idle": "2021-10-30T16:15:38.652452Z",
     "shell.execute_reply": "2021-10-30T16:15:38.651924Z"
    }
   },
   "outputs": [],
   "source": [
    "output_files = []\n",
    "input_files = []\n",
    "with open(outlier_json_file) as json_data:\n",
    "    d = json.load(json_data)\n",
    "    members = d['products'][0]['members']\n",
    "for item in np.arange(0,len(members)):\n",
    "    expname = members[item]['expname'][:-5]+\"_outlier.fits\"\n",
    "    expname2 = members[item]['expname'][:-5]+\"_outlier_a3001_crf.fits\"\n",
    "    input_files.append(expname)\n",
    "    output_files.append(expname2)\n",
    "    output_files.sort()\n",
    "\n",
    "all_out_dqs = []\n",
    "dq_before = []\n",
    "dq_after = []    "
   ]
  },
  {
   "cell_type": "markdown",
   "metadata": {},
   "source": [
    "### Get the before DQ pixel values (should be 0.0)"
   ]
  },
  {
   "cell_type": "code",
   "execution_count": 13,
   "metadata": {
    "execution": {
     "iopub.execute_input": "2021-10-30T16:15:38.663373Z",
     "iopub.status.busy": "2021-10-30T16:15:38.662798Z",
     "iopub.status.idle": "2021-10-30T16:15:38.688454Z",
     "shell.execute_reply": "2021-10-30T16:15:38.689239Z"
    }
   },
   "outputs": [],
   "source": [
    "for i in range(len(file_list)):\n",
    "    with fits.open(input_files[i]) as h:\n",
    "        j = 4*i\n",
    "        dq_before.append([pixloc2[j,:],h['DQ'].data[pixloc2[j,0],pixloc2[j,1]]])\n",
    "        dq_before.append([pixloc2[j+1,:],h['DQ'].data[pixloc2[j+1,0],pixloc2[j+1,1]]])\n",
    "        dq_before.append([pixloc2[j+2,:],h['DQ'].data[pixloc2[j+2,0],pixloc2[j+2,1]]])\n",
    "        dq_before.append([pixloc2[j+3,:],h['DQ'].data[pixloc2[j+3,0],pixloc2[j+3,1]]])\n",
    "            \n",
    "    if save_figs == True:\n",
    "                    \n",
    "        # save figure of input dq vals\n",
    "        fig, ax = plt.subplots(1,1,figsize=(10,10))\n",
    "        plt.ylabel('y pixels',fontsize=15)\n",
    "        plt.xlabel('x pixels',fontsize=15)\n",
    "        plt.imshow((h['DQ'].data == 4.0), vmin=0, vmax=1, cmap=plt.cm.gray, origin='lower')\n",
    "        ax.set_title(\"DQ Input\"+str(i),fontsize=15)\n",
    "        plt.colorbar(orientation='horizontal',pad=0.09)\n",
    "        plt.savefig(outlier_json_file[:5]+str(i)+\"_inputDQ.png\")"
   ]
  },
  {
   "cell_type": "markdown",
   "metadata": {},
   "source": [
    "### Get the after DQ pixel values(should be 17.0)"
   ]
  },
  {
   "cell_type": "code",
   "execution_count": 14,
   "metadata": {
    "execution": {
     "iopub.execute_input": "2021-10-30T16:15:38.706549Z",
     "iopub.status.busy": "2021-10-30T16:15:38.705541Z",
     "iopub.status.idle": "2021-10-30T16:15:38.734987Z",
     "shell.execute_reply": "2021-10-30T16:15:38.734152Z"
    }
   },
   "outputs": [],
   "source": [
    "for i in range(len(file_list)):\n",
    "    with fits.open(output_files[i]) as h:\n",
    "        j = 4*i\n",
    "        dq_after.append([pixloc2[j,:],h['DQ'].data[pixloc2[j,0],pixloc2[j,1]]])\n",
    "        dq_after.append([pixloc2[j+1,:],h['DQ'].data[pixloc2[j+1,0],pixloc2[j+1,1]]])\n",
    "        dq_after.append([pixloc2[j+2,:],h['DQ'].data[pixloc2[j+2,0],pixloc2[j+2,1]]])\n",
    "        dq_after.append([pixloc2[j+3,:],h['DQ'].data[pixloc2[j+3,0],pixloc2[j+3,1]]])\n",
    "        all_out_dqs.append((h['DQ'].data[pixloc2[j,0],pixloc2[j,1]] == 17.0))\n",
    "        all_out_dqs.append((h['DQ'].data[pixloc2[j+1,0],pixloc2[j+1,1]] == 17.0))\n",
    "        all_out_dqs.append((h['DQ'].data[pixloc2[j+2,0],pixloc2[j+2,1]] == 17.0))\n",
    "        all_out_dqs.append((h['DQ'].data[pixloc2[j+3,0],pixloc2[j+3,1]] == 17.0))\n",
    "                \n",
    "    if save_figs == True:\n",
    "                    \n",
    "        # save figure of output dq values\n",
    "        fig, ax = plt.subplots(1,1,figsize=(10,10))\n",
    "        plt.ylabel('y pixels',fontsize=15)\n",
    "        plt.xlabel('x pixels',fontsize=15)\n",
    "        plt.imshow((h['DQ'].data == 4.0), vmin=0, vmax=1, cmap=plt.cm.gray, origin='lower')\n",
    "        ax.set_title(\"DQ Output\"+str(i),fontsize=15)\n",
    "        plt.colorbar(orientation='horizontal',pad=0.09)\n",
    "        plt.savefig(outlier_json_file[:5]+str(i)+\"_outputDQ.png\")"
   ]
  },
  {
   "cell_type": "markdown",
   "metadata": {},
   "source": [
    "### Check if outlier_detection Pytest passed"
   ]
  },
  {
   "cell_type": "code",
   "execution_count": 15,
   "metadata": {
    "execution": {
     "iopub.execute_input": "2021-10-30T16:15:38.744670Z",
     "iopub.status.busy": "2021-10-30T16:15:38.739420Z",
     "iopub.status.idle": "2021-10-30T16:15:38.775652Z",
     "shell.execute_reply": "2021-10-30T16:15:38.774780Z"
    }
   },
   "outputs": [
    {
     "name": "stdout",
     "output_type": "stream",
     "text": [
      "Output DQ values:  [False, True, True, True, False, True, True, True, False, True, True, True, False, True, True, True]\n"
     ]
    },
    {
     "ename": "AssertionError",
     "evalue": "",
     "output_type": "error",
     "traceback": [
      "\u001b[0;31m---------------------------------------------------------------------------\u001b[0m",
      "\u001b[0;31mAssertionError\u001b[0m                            Traceback (most recent call last)",
      "\u001b[0;32m~/tmp/ipykernel_2550340/1633553314.py\u001b[0m in \u001b[0;36m<module>\u001b[0;34m\u001b[0m\n\u001b[1;32m      1\u001b[0m \u001b[0mprint\u001b[0m\u001b[0;34m(\u001b[0m\u001b[0;34m'Output DQ values: '\u001b[0m\u001b[0;34m,\u001b[0m\u001b[0mall_out_dqs\u001b[0m\u001b[0;34m)\u001b[0m\u001b[0;34m\u001b[0m\u001b[0;34m\u001b[0m\u001b[0m\n\u001b[0;32m----> 2\u001b[0;31m \u001b[0;32massert\u001b[0m \u001b[0mnp\u001b[0m\u001b[0;34m.\u001b[0m\u001b[0malltrue\u001b[0m\u001b[0;34m(\u001b[0m\u001b[0mall_out_dqs\u001b[0m\u001b[0;34m)\u001b[0m \u001b[0;34m==\u001b[0m \u001b[0;32mTrue\u001b[0m\u001b[0;34m\u001b[0m\u001b[0;34m\u001b[0m\u001b[0m\n\u001b[0m\u001b[1;32m      3\u001b[0m \u001b[0mprint\u001b[0m\u001b[0;34m(\u001b[0m\u001b[0;34m'MIRI Outlier Detetion Pytest: Passed'\u001b[0m\u001b[0;34m)\u001b[0m\u001b[0;34m\u001b[0m\u001b[0;34m\u001b[0m\u001b[0m\n",
      "\u001b[0;31mAssertionError\u001b[0m: "
     ]
    }
   ],
   "source": [
    "print('Output DQ values: ',all_out_dqs)\n",
    "assert np.alltrue(all_out_dqs) == True\n",
    "print('MIRI Outlier Detetion Pytest: Passed')"
   ]
  },
  {
   "cell_type": "markdown",
   "metadata": {},
   "source": [
    "<a id=\"about_ID\"></a>\n",
    "## About this Notebook\n",
    "**Author:** Tea Temim\n",
    "<br>**Updated On:** 08/06/20 to add in documentation"
   ]
  }
 ],
 "metadata": {
  "kernelspec": {
   "display_name": "Python 3",
   "language": "python",
   "name": "python3"
  },
  "language_info": {
   "codemirror_mode": {
    "name": "ipython",
    "version": 3
   },
   "file_extension": ".py",
   "mimetype": "text/x-python",
   "name": "python",
   "nbconvert_exporter": "python",
   "pygments_lexer": "ipython3",
   "version": "3.9.7"
  }
 },
 "nbformat": 4,
 "nbformat_minor": 4
}
