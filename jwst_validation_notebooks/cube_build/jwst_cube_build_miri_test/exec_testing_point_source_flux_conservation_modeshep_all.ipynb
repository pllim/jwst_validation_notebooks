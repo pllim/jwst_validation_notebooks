{
 "cells": [
  {
   "cell_type": "markdown",
   "metadata": {},
   "source": [
    "<a id=\"title_ID\"></a>\n",
    "# JWST Pipeline Validation Testing Notebook: Point Source Flux Conservation Modeshep\n",
    "\n",
    "<span style=\"color:red\"> **Instruments Affected**</span>: MIRI\n",
    "\n",
    "Tested on MIRI Simulated data\n",
    "\n",
    "### Table of Contents\n",
    "<div style=\"text-align: left\"> \n",
    "\n",
    "<br>  [Introduction](#intro_ID) <br> [Imports](#imports_ID) <br>[Run JWST Pipeline](#pipeline_ID) <br> [Examine Input and Output Data](#examine_data)  <br> [About This Notebook](#about_ID) <br>\n",
    "\n",
    "\n",
    "</div>"
   ]
  },
  {
   "cell_type": "markdown",
   "metadata": {},
   "source": [
    "## Author: Isha Nayak\n",
    "## Last Modified: September 15\n",
    "## The purpose of this notebook is to check if you input either a flat point source or flat extended source, then the output is also flat. We check the flatness of a source by inputting a known flat source, then checking the output three different ways: (1) our own code which sums up the total flux, (2) the cube build algorithm, and (3) extract 1D algorithm. We want to make sure nothing strange is happening during the cube build and extract 1D steps."
   ]
  },
  {
   "cell_type": "code",
   "execution_count": 1,
   "metadata": {
    "execution": {
     "iopub.execute_input": "2022-10-04T22:28:50.390338Z",
     "iopub.status.busy": "2022-10-04T22:28:50.389845Z",
     "iopub.status.idle": "2022-10-04T22:28:50.397000Z",
     "shell.execute_reply": "2022-10-04T22:28:50.396490Z"
    }
   },
   "outputs": [
    {
     "name": "stdout",
     "output_type": "stream",
     "text": [
      "<TemporaryDirectory '/internal/data1/jenkins/workspace/Notebooks/jwst_validation_notebooks_spacetelescope/tmp/tmp9z31j_c7'>\n"
     ]
    }
   ],
   "source": [
    "# Create a temporary directory to hold notebook output, and change the working directory to that directory.\n",
    "from tempfile import TemporaryDirectory\n",
    "import os\n",
    "data_dir = TemporaryDirectory()\n",
    "os.chdir(data_dir.name)\n",
    "print(data_dir)"
   ]
  },
  {
   "cell_type": "code",
   "execution_count": 2,
   "metadata": {
    "execution": {
     "iopub.execute_input": "2022-10-04T22:28:50.399635Z",
     "iopub.status.busy": "2022-10-04T22:28:50.399182Z",
     "iopub.status.idle": "2022-10-04T22:28:50.403045Z",
     "shell.execute_reply": "2022-10-04T22:28:50.402602Z"
    }
   },
   "outputs": [
    {
     "name": "stdout",
     "output_type": "stream",
     "text": [
      "CRDS cache location: /grp/crds/cache\n"
     ]
    }
   ],
   "source": [
    "import os\n",
    "if 'CRDS_CACHE_TYPE' in os.environ:\n",
    "    if os.environ['CRDS_CACHE_TYPE'] == 'local':\n",
    "        os.environ['CRDS_PATH'] = os.path.join(os.environ['HOME'], 'crds', 'cache')\n",
    "    elif os.path.isdir(os.environ['CRDS_CACHE_TYPE']):\n",
    "        os.environ['CRDS_PATH'] = os.environ['CRDS_CACHE_TYPE']\n",
    "print('CRDS cache location: {}'.format(os.environ['CRDS_PATH']))"
   ]
  },
  {
   "cell_type": "code",
   "execution_count": 3,
   "metadata": {
    "execution": {
     "iopub.execute_input": "2022-10-04T22:28:50.405223Z",
     "iopub.status.busy": "2022-10-04T22:28:50.404833Z",
     "iopub.status.idle": "2022-10-04T22:28:50.413113Z",
     "shell.execute_reply": "2022-10-04T22:28:50.412692Z"
    }
   },
   "outputs": [
    {
     "data": {
      "text/plain": [
       "'1.7.2'"
      ]
     },
     "execution_count": 3,
     "metadata": {},
     "output_type": "execute_result"
    }
   ],
   "source": [
    "# Check jwst pipeline version\n",
    "import jwst\n",
    "jwst.__version__"
   ]
  },
  {
   "cell_type": "code",
   "execution_count": 4,
   "metadata": {
    "execution": {
     "iopub.execute_input": "2022-10-04T22:28:50.415233Z",
     "iopub.status.busy": "2022-10-04T22:28:50.414817Z",
     "iopub.status.idle": "2022-10-04T22:28:52.241592Z",
     "shell.execute_reply": "2022-10-04T22:28:52.240673Z"
    }
   },
   "outputs": [],
   "source": [
    "#Import inject psf\n",
    "import miri3d.tools.inject_psf as ip\n",
    "\n",
    "#Import assign wcs\n",
    "from jwst.assign_wcs import AssignWcsStep\n",
    "\n",
    "#Import modshep\n",
    "import miri3d.modshep.modshep as modshep\n",
    "\n",
    "#Import plotting things\n",
    "import matplotlib.pyplot as plt\n",
    "\n",
    "#Import fits file things\n",
    "from astropy.io import fits\n",
    "\n",
    "#Import cube build\n",
    "from jwst.cube_build import CubeBuildStep\n",
    "\n",
    "#Import extract1D\n",
    "from jwst.extract_1d import Extract1dStep\n",
    "\n",
    "#Import table\n",
    "from astropy.table import Table\n",
    "\n",
    "import sys\n",
    "from ci_watson.artifactory_helpers import get_bigdata"
   ]
  },
  {
   "cell_type": "markdown",
   "metadata": {},
   "source": [
    "#### Run the inject_psf code for point source with the following:\n",
    "#### ip.main('12A',[1,2],1,1e-7)\n",
    "#### This would give a standard 2-pt dither in Ch12A with a specified PSF total (total=1) and background/extended value (1e-7).\n",
    "#### Run the inject_psf code for extended source with the following:\n",
    "#### inject_psf.main('12A',[1,2,3,4],0,1)\n",
    "#### This would give a standard 2-pt dither in Ch12A with no specified PSF and an extended source with flat spectrum of 1.\n",
    "#### The output should be two scene files, two mock files, and two mockarea files."
   ]
  },
  {
   "cell_type": "code",
   "execution_count": 5,
   "metadata": {
    "execution": {
     "iopub.execute_input": "2022-10-04T22:28:52.245515Z",
     "iopub.status.busy": "2022-10-04T22:28:52.245204Z",
     "iopub.status.idle": "2022-10-04T22:28:52.337040Z",
     "shell.execute_reply": "2022-10-04T22:28:52.336455Z"
    }
   },
   "outputs": [],
   "source": [
    "# Read association file in from artifactory\n",
    "\n",
    "asnfile = get_bigdata('jwst_validation_notebooks',\n",
    "                      'validation_data',\n",
    "                      'cube_build',\n",
    "                      'cube_build_miri_test',\n",
    "                      'cube_testing.json')"
   ]
  },
  {
   "cell_type": "code",
   "execution_count": 6,
   "metadata": {
    "execution": {
     "iopub.execute_input": "2022-10-04T22:28:52.340227Z",
     "iopub.status.busy": "2022-10-04T22:28:52.339709Z",
     "iopub.status.idle": "2022-10-04T22:28:52.343197Z",
     "shell.execute_reply": "2022-10-04T22:28:52.342738Z"
    }
   },
   "outputs": [],
   "source": [
    "#Define band and channels\n",
    "band_chan=['12A','34A','12B','34B','12C','34C']\n",
    "\n",
    "#Define Channels 1 and 3\n",
    "indiv1=['1A','3A','1B','3B','1C','3C']\n",
    "\n",
    "#Define Channels 2 and 4\n",
    "indiv2=['2A','4A','2B','4B','2C','4C']\n",
    "\n",
    "#Define plot colors for each band\n",
    "plot_color=['black','black','blue','blue','red','red']"
   ]
  },
  {
   "cell_type": "markdown",
   "metadata": {},
   "source": [
    "#### Using D. Law's injest_psf code to first define a flat point source or flat extended source in a particular band/channel which does not depend on JWST pipeline for distortion transforms. Then this uses D. Law's modshep code as a standalone implementation of modified Sheperd's cube building algorithm. We need to correct units and plot the output from the modshep algorithm.\n",
    "\n"
   ]
  },
  {
   "cell_type": "code",
   "execution_count": 7,
   "metadata": {
    "execution": {
     "iopub.execute_input": "2022-10-04T22:28:52.345637Z",
     "iopub.status.busy": "2022-10-04T22:28:52.345214Z",
     "iopub.status.idle": "2022-10-05T02:38:02.154883Z",
     "shell.execute_reply": "2022-10-05T02:38:02.154176Z"
    }
   },
   "outputs": [
    {
     "name": "stdout",
     "output_type": "stream",
     "text": [
      "Setting up the dithers\n",
      "Ndither =  2\n",
      "Working on left half of detector\n",
      "Setting up the coordinates\n"
     ]
    },
    {
     "name": "stdout",
     "output_type": "stream",
     "text": [
      "Setting up the scene\n"
     ]
    },
    {
     "name": "stdout",
     "output_type": "stream",
     "text": [
      "Projecting scene\n",
      "Working on exposure 0\n",
      "Doing coordinate projection\n"
     ]
    },
    {
     "name": "stdout",
     "output_type": "stream",
     "text": [
      "Projecting slices\n"
     ]
    },
    {
     "name": "stdout",
     "output_type": "stream",
     "text": [
      "Doing pixel value computation\n"
     ]
    },
    {
     "name": "stdout",
     "output_type": "stream",
     "text": [
      "Working on exposure 1\n",
      "Doing coordinate projection\n"
     ]
    },
    {
     "name": "stdout",
     "output_type": "stream",
     "text": [
      "Projecting slices\n"
     ]
    },
    {
     "name": "stdout",
     "output_type": "stream",
     "text": [
      "Doing pixel value computation\n"
     ]
    },
    {
     "name": "stdout",
     "output_type": "stream",
     "text": [
      "Working on right half of detector\n",
      "Setting up the coordinates\n"
     ]
    },
    {
     "name": "stdout",
     "output_type": "stream",
     "text": [
      "Setting up the scene\n"
     ]
    },
    {
     "name": "stdout",
     "output_type": "stream",
     "text": [
      "Projecting scene\n",
      "Working on exposure 0\n",
      "Doing coordinate projection\n"
     ]
    },
    {
     "name": "stdout",
     "output_type": "stream",
     "text": [
      "Projecting slices\n"
     ]
    },
    {
     "name": "stdout",
     "output_type": "stream",
     "text": [
      "Doing pixel value computation\n"
     ]
    },
    {
     "name": "stdout",
     "output_type": "stream",
     "text": [
      "Working on exposure 1\n",
      "Doing coordinate projection\n"
     ]
    },
    {
     "name": "stdout",
     "output_type": "stream",
     "text": [
      "Projecting slices\n"
     ]
    },
    {
     "name": "stdout",
     "output_type": "stream",
     "text": [
      "Doing pixel value computation\n"
     ]
    },
    {
     "name": "stdout",
     "output_type": "stream",
     "text": [
      "Writing files\n"
     ]
    },
    {
     "name": "stdout",
     "output_type": "stream",
     "text": [
      "Done!\n"
     ]
    },
    {
     "name": "stderr",
     "output_type": "stream",
     "text": [
      "2022-10-04 18:37:34,815 - stpipe.AssignWcsStep - INFO - AssignWcsStep instance created.\n"
     ]
    },
    {
     "name": "stderr",
     "output_type": "stream",
     "text": [
      "2022-10-04 18:37:34,930 - stpipe.AssignWcsStep - INFO - Step AssignWcsStep running with args ('mock12A-00.fits',).\n"
     ]
    },
    {
     "name": "stderr",
     "output_type": "stream",
     "text": [
      "2022-10-04 18:37:34,932 - stpipe.AssignWcsStep - INFO - Step AssignWcsStep parameters are: {'pre_hooks': [], 'post_hooks': [], 'output_file': None, 'output_dir': None, 'output_ext': '.fits', 'output_use_model': False, 'output_use_index': True, 'save_results': True, 'skip': False, 'suffix': None, 'search_output_file': True, 'input_dir': '', 'sip_approx': True, 'sip_max_pix_error': 0.25, 'sip_degree': None, 'sip_max_inv_pix_error': 0.25, 'sip_inv_degree': None, 'sip_npoints': 32, 'slit_y_low': -0.55, 'slit_y_high': 0.55}\n"
     ]
    },
    {
     "name": "stderr",
     "output_type": "stream",
     "text": [
      "2022-10-04 18:37:38,556 - stpipe.AssignWcsStep - INFO - Created a MIRI mir_mrs pipeline with references {'distortion': '/grp/crds/cache/references/jwst/jwst_miri_distortion_0031.asdf', 'filteroffset': None, 'specwcs': '/grp/crds/cache/references/jwst/jwst_miri_specwcs_0024.asdf', 'regions': '/grp/crds/cache/references/jwst/jwst_miri_regions_0027.asdf', 'wavelengthrange': '/grp/crds/cache/references/jwst/jwst_miri_wavelengthrange_0005.asdf', 'camera': None, 'collimator': None, 'disperser': None, 'fore': None, 'fpa': None, 'msa': None, 'ote': None, 'ifupost': None, 'ifufore': None, 'ifuslicer': None}\n"
     ]
    },
    {
     "name": "stderr",
     "output_type": "stream",
     "text": [
      "2022-10-04 18:37:41,086 - stpipe.AssignWcsStep - INFO - Update S_REGION to POLYGON ICRS  44.999701301 -0.000573586 45.000903166 -0.000573586 45.000903166 0.000677844 44.999701301 0.000677844\n"
     ]
    },
    {
     "name": "stderr",
     "output_type": "stream",
     "text": [
      "2022-10-04 18:37:41,088 - stpipe.AssignWcsStep - INFO - COMPLETED assign_wcs\n"
     ]
    },
    {
     "name": "stderr",
     "output_type": "stream",
     "text": [
      "2022-10-04 18:37:41,102 - stpipe.AssignWcsStep - INFO - Results used CRDS context: jwst_0988.pmap\n"
     ]
    },
    {
     "name": "stderr",
     "output_type": "stream",
     "text": [
      "2022-10-04 18:37:42,270 - stpipe.AssignWcsStep - INFO - Saved model in mock12A-00_assignwcsstep.fits\n"
     ]
    },
    {
     "name": "stderr",
     "output_type": "stream",
     "text": [
      "2022-10-04 18:37:42,271 - stpipe.AssignWcsStep - INFO - Step AssignWcsStep done\n"
     ]
    },
    {
     "name": "stderr",
     "output_type": "stream",
     "text": [
      "2022-10-04 18:37:43,374 - stpipe.AssignWcsStep - INFO - AssignWcsStep instance created.\n"
     ]
    },
    {
     "name": "stderr",
     "output_type": "stream",
     "text": [
      "2022-10-04 18:37:43,590 - stpipe.AssignWcsStep - INFO - Step AssignWcsStep running with args ('mock12A-01.fits',).\n"
     ]
    },
    {
     "name": "stderr",
     "output_type": "stream",
     "text": [
      "2022-10-04 18:37:43,591 - stpipe.AssignWcsStep - INFO - Step AssignWcsStep parameters are: {'pre_hooks': [], 'post_hooks': [], 'output_file': None, 'output_dir': None, 'output_ext': '.fits', 'output_use_model': False, 'output_use_index': True, 'save_results': True, 'skip': False, 'suffix': None, 'search_output_file': True, 'input_dir': '', 'sip_approx': True, 'sip_max_pix_error': 0.25, 'sip_degree': None, 'sip_max_inv_pix_error': 0.25, 'sip_inv_degree': None, 'sip_npoints': 32, 'slit_y_low': -0.55, 'slit_y_high': 0.55}\n"
     ]
    },
    {
     "name": "stderr",
     "output_type": "stream",
     "text": [
      "2022-10-04 18:37:46,945 - stpipe.AssignWcsStep - INFO - Created a MIRI mir_mrs pipeline with references {'distortion': '/grp/crds/cache/references/jwst/jwst_miri_distortion_0031.asdf', 'filteroffset': None, 'specwcs': '/grp/crds/cache/references/jwst/jwst_miri_specwcs_0024.asdf', 'regions': '/grp/crds/cache/references/jwst/jwst_miri_regions_0027.asdf', 'wavelengthrange': '/grp/crds/cache/references/jwst/jwst_miri_wavelengthrange_0005.asdf', 'camera': None, 'collimator': None, 'disperser': None, 'fore': None, 'fpa': None, 'msa': None, 'ote': None, 'ifupost': None, 'ifufore': None, 'ifuslicer': None}\n"
     ]
    },
    {
     "name": "stderr",
     "output_type": "stream",
     "text": [
      "2022-10-04 18:37:49,244 - stpipe.AssignWcsStep - INFO - Update S_REGION to POLYGON ICRS  44.999150321 -0.000846948 45.000352187 -0.000846948 45.000352187 0.000404482 44.999150321 0.000404482\n"
     ]
    },
    {
     "name": "stderr",
     "output_type": "stream",
     "text": [
      "2022-10-04 18:37:49,246 - stpipe.AssignWcsStep - INFO - COMPLETED assign_wcs\n"
     ]
    },
    {
     "name": "stderr",
     "output_type": "stream",
     "text": [
      "2022-10-04 18:37:49,260 - stpipe.AssignWcsStep - INFO - Results used CRDS context: jwst_0988.pmap\n"
     ]
    },
    {
     "name": "stderr",
     "output_type": "stream",
     "text": [
      "2022-10-04 18:37:50,465 - stpipe.AssignWcsStep - INFO - Saved model in mock12A-01_assignwcsstep.fits\n"
     ]
    },
    {
     "name": "stderr",
     "output_type": "stream",
     "text": [
      "2022-10-04 18:37:50,466 - stpipe.AssignWcsStep - INFO - Step AssignWcsStep done\n"
     ]
    },
    {
     "name": "stdout",
     "output_type": "stream",
     "text": [
      "Defining base reference coordinates\n"
     ]
    },
    {
     "name": "stdout",
     "output_type": "stream",
     "text": [
      "Reading 2 inputs\n"
     ]
    },
    {
     "name": "stdout",
     "output_type": "stream",
     "text": [
      "Wavelength limits: 4.89 - 5.74 micron\n",
      "RA limits: 44.9992 - 45.0008 deg\n",
      "DEC limits: -0.0006 - 0.0006 deg\n",
      "XI limits: -2.925 - 2.925 deg\n",
      "ETA limits: -2.405 - 2.405 deg\n",
      "Cube X-Y-Z dimensions: [44, 36, 851] spaxels\n",
      "Radius of influence in X-Y-Z direction: [3.076923076923077, 3.076923076923077, 2.5] pixels\n",
      "Exponential weighting sigma: 0.7692307692307693 pixels\n",
      "Using exponential weighting\n",
      "Constructing cube:  0 % complete\n"
     ]
    },
    {
     "name": "stdout",
     "output_type": "stream",
     "text": [
      "Constructing cube:  5 % complete\n"
     ]
    },
    {
     "name": "stdout",
     "output_type": "stream",
     "text": [
      "Constructing cube:  10 % complete\n"
     ]
    },
    {
     "name": "stdout",
     "output_type": "stream",
     "text": [
      "Constructing cube:  15 % complete\n"
     ]
    },
    {
     "name": "stdout",
     "output_type": "stream",
     "text": [
      "Constructing cube:  20 % complete\n"
     ]
    },
    {
     "name": "stdout",
     "output_type": "stream",
     "text": [
      "Constructing cube:  25 % complete\n"
     ]
    },
    {
     "name": "stdout",
     "output_type": "stream",
     "text": [
      "Constructing cube:  30 % complete\n"
     ]
    },
    {
     "name": "stdout",
     "output_type": "stream",
     "text": [
      "Constructing cube:  35 % complete\n"
     ]
    },
    {
     "name": "stdout",
     "output_type": "stream",
     "text": [
      "Constructing cube:  40 % complete\n"
     ]
    },
    {
     "name": "stdout",
     "output_type": "stream",
     "text": [
      "Constructing cube:  45 % complete\n"
     ]
    },
    {
     "name": "stdout",
     "output_type": "stream",
     "text": [
      "Constructing cube:  50 % complete\n"
     ]
    },
    {
     "name": "stdout",
     "output_type": "stream",
     "text": [
      "Constructing cube:  55 % complete\n"
     ]
    },
    {
     "name": "stdout",
     "output_type": "stream",
     "text": [
      "Constructing cube:  60 % complete\n"
     ]
    },
    {
     "name": "stdout",
     "output_type": "stream",
     "text": [
      "Constructing cube:  65 % complete\n"
     ]
    },
    {
     "name": "stdout",
     "output_type": "stream",
     "text": [
      "Constructing cube:  70 % complete\n"
     ]
    },
    {
     "name": "stdout",
     "output_type": "stream",
     "text": [
      "Constructing cube:  75 % complete\n"
     ]
    },
    {
     "name": "stdout",
     "output_type": "stream",
     "text": [
      "Constructing cube:  80 % complete\n"
     ]
    },
    {
     "name": "stdout",
     "output_type": "stream",
     "text": [
      "Constructing cube:  85 % complete\n"
     ]
    },
    {
     "name": "stdout",
     "output_type": "stream",
     "text": [
      "Constructing cube:  90 % complete\n"
     ]
    },
    {
     "name": "stdout",
     "output_type": "stream",
     "text": [
      "Constructing cube:  96 % complete\n"
     ]
    },
    {
     "name": "stdout",
     "output_type": "stream",
     "text": [
      "Defining base reference coordinates\n"
     ]
    },
    {
     "name": "stdout",
     "output_type": "stream",
     "text": [
      "Reading 2 inputs\n"
     ]
    },
    {
     "name": "stdout",
     "output_type": "stream",
     "text": [
      "Wavelength limits: 7.49 - 8.75 micron\n",
      "RA limits: 44.9992 - 45.0009 deg\n",
      "DEC limits: -0.0008 - 0.0007 deg\n",
      "XI limits: -3.315 - 3.315 deg\n",
      "ETA limits: -2.975 - 2.975 deg\n",
      "Cube X-Y-Z dimensions: [38, 34, 630] spaxels\n",
      "Radius of influence in X-Y-Z direction: [3.529411764705882, 3.529411764705882, 2.5] pixels\n",
      "Exponential weighting sigma: 0.8823529411764705 pixels\n",
      "Using exponential weighting\n",
      "Constructing cube:  0 % complete\n"
     ]
    },
    {
     "name": "stdout",
     "output_type": "stream",
     "text": [
      "Constructing cube:  5 % complete\n"
     ]
    },
    {
     "name": "stdout",
     "output_type": "stream",
     "text": [
      "Constructing cube:  10 % complete\n"
     ]
    },
    {
     "name": "stdout",
     "output_type": "stream",
     "text": [
      "Constructing cube:  15 % complete\n"
     ]
    },
    {
     "name": "stdout",
     "output_type": "stream",
     "text": [
      "Constructing cube:  20 % complete\n"
     ]
    },
    {
     "name": "stdout",
     "output_type": "stream",
     "text": [
      "Constructing cube:  25 % complete\n"
     ]
    },
    {
     "name": "stdout",
     "output_type": "stream",
     "text": [
      "Constructing cube:  30 % complete\n"
     ]
    },
    {
     "name": "stdout",
     "output_type": "stream",
     "text": [
      "Constructing cube:  35 % complete\n"
     ]
    },
    {
     "name": "stdout",
     "output_type": "stream",
     "text": [
      "Constructing cube:  40 % complete\n"
     ]
    },
    {
     "name": "stdout",
     "output_type": "stream",
     "text": [
      "Constructing cube:  45 % complete\n"
     ]
    },
    {
     "name": "stdout",
     "output_type": "stream",
     "text": [
      "Constructing cube:  50 % complete\n"
     ]
    },
    {
     "name": "stdout",
     "output_type": "stream",
     "text": [
      "Constructing cube:  55 % complete\n"
     ]
    },
    {
     "name": "stdout",
     "output_type": "stream",
     "text": [
      "Constructing cube:  60 % complete\n"
     ]
    },
    {
     "name": "stdout",
     "output_type": "stream",
     "text": [
      "Constructing cube:  66 % complete\n"
     ]
    },
    {
     "name": "stdout",
     "output_type": "stream",
     "text": [
      "Constructing cube:  71 % complete\n"
     ]
    },
    {
     "name": "stdout",
     "output_type": "stream",
     "text": [
      "Constructing cube:  76 % complete\n"
     ]
    },
    {
     "name": "stdout",
     "output_type": "stream",
     "text": [
      "Constructing cube:  81 % complete\n"
     ]
    },
    {
     "name": "stdout",
     "output_type": "stream",
     "text": [
      "Constructing cube:  86 % complete\n"
     ]
    },
    {
     "name": "stdout",
     "output_type": "stream",
     "text": [
      "Constructing cube:  91 % complete\n"
     ]
    },
    {
     "name": "stdout",
     "output_type": "stream",
     "text": [
      "Constructing cube:  96 % complete\n"
     ]
    },
    {
     "name": "stdout",
     "output_type": "stream",
     "text": [
      "Setting up the dithers\n",
      "Ndither =  2\n",
      "Working on left half of detector\n",
      "Setting up the coordinates\n"
     ]
    },
    {
     "name": "stdout",
     "output_type": "stream",
     "text": [
      "Setting up the scene\n"
     ]
    },
    {
     "name": "stdout",
     "output_type": "stream",
     "text": [
      "Projecting scene\n",
      "Working on exposure 0\n",
      "Doing coordinate projection\n"
     ]
    },
    {
     "name": "stdout",
     "output_type": "stream",
     "text": [
      "Projecting slices\n"
     ]
    },
    {
     "name": "stdout",
     "output_type": "stream",
     "text": [
      "Doing pixel value computation\n"
     ]
    },
    {
     "name": "stdout",
     "output_type": "stream",
     "text": [
      "Working on exposure 1\n",
      "Doing coordinate projection\n"
     ]
    },
    {
     "name": "stdout",
     "output_type": "stream",
     "text": [
      "Projecting slices\n"
     ]
    },
    {
     "name": "stdout",
     "output_type": "stream",
     "text": [
      "Doing pixel value computation\n"
     ]
    },
    {
     "name": "stdout",
     "output_type": "stream",
     "text": [
      "Working on right half of detector\n",
      "Setting up the coordinates\n"
     ]
    },
    {
     "name": "stdout",
     "output_type": "stream",
     "text": [
      "Setting up the scene\n"
     ]
    },
    {
     "name": "stdout",
     "output_type": "stream",
     "text": [
      "Projecting scene\n"
     ]
    },
    {
     "name": "stdout",
     "output_type": "stream",
     "text": [
      "Working on exposure 0\n",
      "Doing coordinate projection\n"
     ]
    },
    {
     "name": "stdout",
     "output_type": "stream",
     "text": [
      "Projecting slices\n"
     ]
    },
    {
     "name": "stdout",
     "output_type": "stream",
     "text": [
      "Doing pixel value computation\n"
     ]
    },
    {
     "name": "stdout",
     "output_type": "stream",
     "text": [
      "Working on exposure 1\n",
      "Doing coordinate projection\n"
     ]
    },
    {
     "name": "stdout",
     "output_type": "stream",
     "text": [
      "Projecting slices\n"
     ]
    },
    {
     "name": "stdout",
     "output_type": "stream",
     "text": [
      "Doing pixel value computation\n"
     ]
    },
    {
     "name": "stdout",
     "output_type": "stream",
     "text": [
      "Writing files\n"
     ]
    },
    {
     "name": "stdout",
     "output_type": "stream",
     "text": [
      "Done!\n"
     ]
    },
    {
     "name": "stderr",
     "output_type": "stream",
     "text": [
      "2022-10-04 19:19:01,692 - stpipe.AssignWcsStep - INFO - AssignWcsStep instance created.\n"
     ]
    },
    {
     "name": "stderr",
     "output_type": "stream",
     "text": [
      "2022-10-04 19:19:01,892 - stpipe.AssignWcsStep - INFO - Step AssignWcsStep running with args ('mock34A-00.fits',).\n"
     ]
    },
    {
     "name": "stderr",
     "output_type": "stream",
     "text": [
      "2022-10-04 19:19:01,894 - stpipe.AssignWcsStep - INFO - Step AssignWcsStep parameters are: {'pre_hooks': [], 'post_hooks': [], 'output_file': None, 'output_dir': None, 'output_ext': '.fits', 'output_use_model': False, 'output_use_index': True, 'save_results': True, 'skip': False, 'suffix': None, 'search_output_file': True, 'input_dir': '', 'sip_approx': True, 'sip_max_pix_error': 0.25, 'sip_degree': None, 'sip_max_inv_pix_error': 0.25, 'sip_inv_degree': None, 'sip_npoints': 32, 'slit_y_low': -0.55, 'slit_y_high': 0.55}\n"
     ]
    },
    {
     "name": "stderr",
     "output_type": "stream",
     "text": [
      "2022-10-04 19:19:05,608 - stpipe.AssignWcsStep - INFO - Created a MIRI mir_mrs pipeline with references {'distortion': '/grp/crds/cache/references/jwst/jwst_miri_distortion_0034.asdf', 'filteroffset': None, 'specwcs': '/grp/crds/cache/references/jwst/jwst_miri_specwcs_0020.asdf', 'regions': '/grp/crds/cache/references/jwst/jwst_miri_regions_0029.asdf', 'wavelengthrange': '/grp/crds/cache/references/jwst/jwst_miri_wavelengthrange_0005.asdf', 'camera': None, 'collimator': None, 'disperser': None, 'fore': None, 'fpa': None, 'msa': None, 'ote': None, 'ifupost': None, 'ifufore': None, 'ifuslicer': None}\n"
     ]
    },
    {
     "name": "stderr",
     "output_type": "stream",
     "text": [
      "2022-10-04 19:19:08,287 - stpipe.AssignWcsStep - INFO - Update S_REGION to POLYGON ICRS  44.999232122 -0.001058168 45.001454621 -0.001058168 45.001454621 0.000986969 44.999232122 0.000986969\n"
     ]
    },
    {
     "name": "stderr",
     "output_type": "stream",
     "text": [
      "2022-10-04 19:19:08,289 - stpipe.AssignWcsStep - INFO - COMPLETED assign_wcs\n"
     ]
    },
    {
     "name": "stderr",
     "output_type": "stream",
     "text": [
      "2022-10-04 19:19:08,306 - stpipe.AssignWcsStep - INFO - Results used CRDS context: jwst_0988.pmap\n"
     ]
    },
    {
     "name": "stderr",
     "output_type": "stream",
     "text": [
      "2022-10-04 19:19:09,176 - stpipe.AssignWcsStep - INFO - Saved model in mock34A-00_assignwcsstep.fits\n"
     ]
    },
    {
     "name": "stderr",
     "output_type": "stream",
     "text": [
      "2022-10-04 19:19:09,178 - stpipe.AssignWcsStep - INFO - Step AssignWcsStep done\n"
     ]
    },
    {
     "name": "stderr",
     "output_type": "stream",
     "text": [
      "2022-10-04 19:19:10,903 - stpipe.AssignWcsStep - INFO - AssignWcsStep instance created.\n"
     ]
    },
    {
     "name": "stderr",
     "output_type": "stream",
     "text": [
      "2022-10-04 19:19:11,345 - stpipe.AssignWcsStep - INFO - Step AssignWcsStep running with args ('mock34A-01.fits',).\n"
     ]
    },
    {
     "name": "stderr",
     "output_type": "stream",
     "text": [
      "2022-10-04 19:19:11,348 - stpipe.AssignWcsStep - INFO - Step AssignWcsStep parameters are: {'pre_hooks': [], 'post_hooks': [], 'output_file': None, 'output_dir': None, 'output_ext': '.fits', 'output_use_model': False, 'output_use_index': True, 'save_results': True, 'skip': False, 'suffix': None, 'search_output_file': True, 'input_dir': '', 'sip_approx': True, 'sip_max_pix_error': 0.25, 'sip_degree': None, 'sip_max_inv_pix_error': 0.25, 'sip_inv_degree': None, 'sip_npoints': 32, 'slit_y_low': -0.55, 'slit_y_high': 0.55}\n"
     ]
    },
    {
     "name": "stderr",
     "output_type": "stream",
     "text": [
      "2022-10-04 19:19:15,089 - stpipe.AssignWcsStep - INFO - Created a MIRI mir_mrs pipeline with references {'distortion': '/grp/crds/cache/references/jwst/jwst_miri_distortion_0034.asdf', 'filteroffset': None, 'specwcs': '/grp/crds/cache/references/jwst/jwst_miri_specwcs_0020.asdf', 'regions': '/grp/crds/cache/references/jwst/jwst_miri_regions_0029.asdf', 'wavelengthrange': '/grp/crds/cache/references/jwst/jwst_miri_wavelengthrange_0005.asdf', 'camera': None, 'collimator': None, 'disperser': None, 'fore': None, 'fpa': None, 'msa': None, 'ote': None, 'ifupost': None, 'ifufore': None, 'ifuslicer': None}\n"
     ]
    },
    {
     "name": "stderr",
     "output_type": "stream",
     "text": [
      "2022-10-04 19:19:17,871 - stpipe.AssignWcsStep - INFO - Update S_REGION to POLYGON ICRS  44.998681142 -0.001331530 45.000903642 -0.001331530 45.000903642 0.000713608 44.998681142 0.000713608\n"
     ]
    },
    {
     "name": "stderr",
     "output_type": "stream",
     "text": [
      "2022-10-04 19:19:17,874 - stpipe.AssignWcsStep - INFO - COMPLETED assign_wcs\n"
     ]
    },
    {
     "name": "stderr",
     "output_type": "stream",
     "text": [
      "2022-10-04 19:19:17,890 - stpipe.AssignWcsStep - INFO - Results used CRDS context: jwst_0988.pmap\n"
     ]
    },
    {
     "name": "stderr",
     "output_type": "stream",
     "text": [
      "2022-10-04 19:19:18,766 - stpipe.AssignWcsStep - INFO - Saved model in mock34A-01_assignwcsstep.fits\n"
     ]
    },
    {
     "name": "stderr",
     "output_type": "stream",
     "text": [
      "2022-10-04 19:19:18,767 - stpipe.AssignWcsStep - INFO - Step AssignWcsStep done\n"
     ]
    },
    {
     "name": "stdout",
     "output_type": "stream",
     "text": [
      "Defining base reference coordinates\n"
     ]
    },
    {
     "name": "stdout",
     "output_type": "stream",
     "text": [
      "Reading 2 inputs\n"
     ]
    },
    {
     "name": "stdout",
     "output_type": "stream",
     "text": [
      "Wavelength limits: 11.53 - 13.48 micron\n",
      "RA limits: 44.9987 - 45.001 deg\n",
      "DEC limits: -0.001 - 0.0009 deg\n",
      "XI limits: -4.5 - 4.5 deg\n",
      "ETA limits: -3.7 - 3.7 deg\n",
      "Cube X-Y-Z dimensions: [44, 36, 651] spaxels\n",
      "Radius of influence in X-Y-Z direction: [4.5, 4.5, 2.3333333333333335] pixels\n",
      "Exponential weighting sigma: 1.0 pixels\n",
      "Using exponential weighting\n",
      "Constructing cube:  0 % complete\n"
     ]
    },
    {
     "name": "stdout",
     "output_type": "stream",
     "text": [
      "Constructing cube:  5 % complete\n"
     ]
    },
    {
     "name": "stdout",
     "output_type": "stream",
     "text": [
      "Constructing cube:  10 % complete\n"
     ]
    },
    {
     "name": "stdout",
     "output_type": "stream",
     "text": [
      "Constructing cube:  15 % complete\n"
     ]
    },
    {
     "name": "stdout",
     "output_type": "stream",
     "text": [
      "Constructing cube:  20 % complete\n"
     ]
    },
    {
     "name": "stdout",
     "output_type": "stream",
     "text": [
      "Constructing cube:  25 % complete\n"
     ]
    },
    {
     "name": "stdout",
     "output_type": "stream",
     "text": [
      "Constructing cube:  30 % complete\n"
     ]
    },
    {
     "name": "stdout",
     "output_type": "stream",
     "text": [
      "Constructing cube:  35 % complete\n"
     ]
    },
    {
     "name": "stdout",
     "output_type": "stream",
     "text": [
      "Constructing cube:  40 % complete\n"
     ]
    },
    {
     "name": "stdout",
     "output_type": "stream",
     "text": [
      "Constructing cube:  45 % complete\n"
     ]
    },
    {
     "name": "stdout",
     "output_type": "stream",
     "text": [
      "Constructing cube:  50 % complete\n"
     ]
    },
    {
     "name": "stdout",
     "output_type": "stream",
     "text": [
      "Constructing cube:  55 % complete\n"
     ]
    },
    {
     "name": "stdout",
     "output_type": "stream",
     "text": [
      "Constructing cube:  60 % complete\n"
     ]
    },
    {
     "name": "stdout",
     "output_type": "stream",
     "text": [
      "Constructing cube:  65 % complete\n"
     ]
    },
    {
     "name": "stdout",
     "output_type": "stream",
     "text": [
      "Constructing cube:  70 % complete\n"
     ]
    },
    {
     "name": "stdout",
     "output_type": "stream",
     "text": [
      "Constructing cube:  76 % complete\n"
     ]
    },
    {
     "name": "stdout",
     "output_type": "stream",
     "text": [
      "Constructing cube:  81 % complete\n"
     ]
    },
    {
     "name": "stdout",
     "output_type": "stream",
     "text": [
      "Constructing cube:  86 % complete\n"
     ]
    },
    {
     "name": "stdout",
     "output_type": "stream",
     "text": [
      "Constructing cube:  91 % complete\n"
     ]
    },
    {
     "name": "stdout",
     "output_type": "stream",
     "text": [
      "Constructing cube:  96 % complete\n"
     ]
    },
    {
     "name": "stdout",
     "output_type": "stream",
     "text": [
      "Defining base reference coordinates\n"
     ]
    },
    {
     "name": "stdout",
     "output_type": "stream",
     "text": [
      "Reading 2 inputs\n"
     ]
    },
    {
     "name": "stdout",
     "output_type": "stream",
     "text": [
      "Wavelength limits: 17.66 - 20.93 micron\n",
      "RA limits: 44.9987 - 45.0015 deg\n",
      "DEC limits: -0.0013 - 0.001 deg\n",
      "XI limits: -5.425 - 5.425 deg\n",
      "ETA limits: -4.375 - 4.375 deg\n",
      "Cube X-Y-Z dimensions: [30, 24, 545] spaxels\n",
      "Radius of influence in X-Y-Z direction: [5.142857142857143, 5.142857142857143, 2.0] pixels\n",
      "Exponential weighting sigma: 0.8571428571428572 pixels\n",
      "Using exponential weighting\n",
      "Constructing cube:  0 % complete\n"
     ]
    },
    {
     "name": "stdout",
     "output_type": "stream",
     "text": [
      "Constructing cube:  4 % complete\n"
     ]
    },
    {
     "name": "stdout",
     "output_type": "stream",
     "text": [
      "Constructing cube:  9 % complete\n"
     ]
    },
    {
     "name": "stdout",
     "output_type": "stream",
     "text": [
      "Constructing cube:  14 % complete\n"
     ]
    },
    {
     "name": "stdout",
     "output_type": "stream",
     "text": [
      "Constructing cube:  19 % complete\n"
     ]
    },
    {
     "name": "stdout",
     "output_type": "stream",
     "text": [
      "Constructing cube:  24 % complete\n"
     ]
    },
    {
     "name": "stdout",
     "output_type": "stream",
     "text": [
      "Constructing cube:  29 % complete\n"
     ]
    },
    {
     "name": "stdout",
     "output_type": "stream",
     "text": [
      "Constructing cube:  34 % complete\n"
     ]
    },
    {
     "name": "stdout",
     "output_type": "stream",
     "text": [
      "Constructing cube:  39 % complete\n"
     ]
    },
    {
     "name": "stdout",
     "output_type": "stream",
     "text": [
      "Constructing cube:  44 % complete\n"
     ]
    },
    {
     "name": "stdout",
     "output_type": "stream",
     "text": [
      "Constructing cube:  49 % complete\n"
     ]
    },
    {
     "name": "stdout",
     "output_type": "stream",
     "text": [
      "Constructing cube:  54 % complete\n"
     ]
    },
    {
     "name": "stdout",
     "output_type": "stream",
     "text": [
      "Constructing cube:  59 % complete\n"
     ]
    },
    {
     "name": "stdout",
     "output_type": "stream",
     "text": [
      "Constructing cube:  64 % complete\n"
     ]
    },
    {
     "name": "stdout",
     "output_type": "stream",
     "text": [
      "Constructing cube:  69 % complete\n"
     ]
    },
    {
     "name": "stdout",
     "output_type": "stream",
     "text": [
      "Constructing cube:  74 % complete\n"
     ]
    },
    {
     "name": "stdout",
     "output_type": "stream",
     "text": [
      "Constructing cube:  79 % complete\n"
     ]
    },
    {
     "name": "stdout",
     "output_type": "stream",
     "text": [
      "Constructing cube:  84 % complete\n"
     ]
    },
    {
     "name": "stdout",
     "output_type": "stream",
     "text": [
      "Constructing cube:  89 % complete\n"
     ]
    },
    {
     "name": "stdout",
     "output_type": "stream",
     "text": [
      "Constructing cube:  94 % complete\n"
     ]
    },
    {
     "name": "stdout",
     "output_type": "stream",
     "text": [
      "Constructing cube:  99 % complete\n"
     ]
    },
    {
     "name": "stdout",
     "output_type": "stream",
     "text": [
      "Setting up the dithers\n",
      "Ndither =  2\n",
      "Working on left half of detector\n",
      "Setting up the coordinates\n"
     ]
    },
    {
     "name": "stdout",
     "output_type": "stream",
     "text": [
      "Setting up the scene\n"
     ]
    },
    {
     "name": "stdout",
     "output_type": "stream",
     "text": [
      "Projecting scene\n",
      "Working on exposure 0\n",
      "Doing coordinate projection\n"
     ]
    },
    {
     "name": "stdout",
     "output_type": "stream",
     "text": [
      "Projecting slices\n"
     ]
    },
    {
     "name": "stdout",
     "output_type": "stream",
     "text": [
      "Doing pixel value computation\n"
     ]
    },
    {
     "name": "stdout",
     "output_type": "stream",
     "text": [
      "Working on exposure 1\n",
      "Doing coordinate projection\n"
     ]
    },
    {
     "name": "stdout",
     "output_type": "stream",
     "text": [
      "Projecting slices\n"
     ]
    },
    {
     "name": "stdout",
     "output_type": "stream",
     "text": [
      "Doing pixel value computation\n"
     ]
    },
    {
     "name": "stdout",
     "output_type": "stream",
     "text": [
      "Working on right half of detector\n",
      "Setting up the coordinates\n"
     ]
    },
    {
     "name": "stdout",
     "output_type": "stream",
     "text": [
      "Setting up the scene\n"
     ]
    },
    {
     "name": "stdout",
     "output_type": "stream",
     "text": [
      "Projecting scene\n",
      "Working on exposure 0\n",
      "Doing coordinate projection\n"
     ]
    },
    {
     "name": "stdout",
     "output_type": "stream",
     "text": [
      "Projecting slices\n"
     ]
    },
    {
     "name": "stdout",
     "output_type": "stream",
     "text": [
      "Doing pixel value computation\n"
     ]
    },
    {
     "name": "stdout",
     "output_type": "stream",
     "text": [
      "Working on exposure 1\n",
      "Doing coordinate projection\n"
     ]
    },
    {
     "name": "stdout",
     "output_type": "stream",
     "text": [
      "Projecting slices\n"
     ]
    },
    {
     "name": "stdout",
     "output_type": "stream",
     "text": [
      "Doing pixel value computation\n"
     ]
    },
    {
     "name": "stdout",
     "output_type": "stream",
     "text": [
      "Writing files\n"
     ]
    },
    {
     "name": "stdout",
     "output_type": "stream",
     "text": [
      "Done!\n"
     ]
    },
    {
     "name": "stderr",
     "output_type": "stream",
     "text": [
      "2022-10-04 19:59:21,938 - stpipe.AssignWcsStep - INFO - AssignWcsStep instance created.\n"
     ]
    },
    {
     "name": "stderr",
     "output_type": "stream",
     "text": [
      "2022-10-04 19:59:22,133 - stpipe.AssignWcsStep - INFO - Step AssignWcsStep running with args ('mock12B-00.fits',).\n"
     ]
    },
    {
     "name": "stderr",
     "output_type": "stream",
     "text": [
      "2022-10-04 19:59:22,134 - stpipe.AssignWcsStep - INFO - Step AssignWcsStep parameters are: {'pre_hooks': [], 'post_hooks': [], 'output_file': None, 'output_dir': None, 'output_ext': '.fits', 'output_use_model': False, 'output_use_index': True, 'save_results': True, 'skip': False, 'suffix': None, 'search_output_file': True, 'input_dir': '', 'sip_approx': True, 'sip_max_pix_error': 0.25, 'sip_degree': None, 'sip_max_inv_pix_error': 0.25, 'sip_inv_degree': None, 'sip_npoints': 32, 'slit_y_low': -0.55, 'slit_y_high': 0.55}\n"
     ]
    },
    {
     "name": "stderr",
     "output_type": "stream",
     "text": [
      "2022-10-04 19:59:27,134 - stpipe.AssignWcsStep - INFO - Created a MIRI mir_mrs pipeline with references {'distortion': '/grp/crds/cache/references/jwst/jwst_miri_distortion_0030.asdf', 'filteroffset': None, 'specwcs': '/grp/crds/cache/references/jwst/jwst_miri_specwcs_0021.asdf', 'regions': '/grp/crds/cache/references/jwst/jwst_miri_regions_0026.asdf', 'wavelengthrange': '/grp/crds/cache/references/jwst/jwst_miri_wavelengthrange_0005.asdf', 'camera': None, 'collimator': None, 'disperser': None, 'fore': None, 'fpa': None, 'msa': None, 'ote': None, 'ifupost': None, 'ifufore': None, 'ifuslicer': None}\n"
     ]
    },
    {
     "name": "stderr",
     "output_type": "stream",
     "text": [
      "2022-10-04 19:59:29,442 - stpipe.AssignWcsStep - INFO - Update S_REGION to POLYGON ICRS  44.999671539 -0.000648325 45.000874839 -0.000648325 45.000874839 0.000604299 44.999671539 0.000604299\n"
     ]
    },
    {
     "name": "stderr",
     "output_type": "stream",
     "text": [
      "2022-10-04 19:59:29,444 - stpipe.AssignWcsStep - INFO - COMPLETED assign_wcs\n"
     ]
    },
    {
     "name": "stderr",
     "output_type": "stream",
     "text": [
      "2022-10-04 19:59:29,458 - stpipe.AssignWcsStep - INFO - Results used CRDS context: jwst_0988.pmap\n"
     ]
    },
    {
     "name": "stderr",
     "output_type": "stream",
     "text": [
      "2022-10-04 19:59:30,518 - stpipe.AssignWcsStep - INFO - Saved model in mock12B-00_assignwcsstep.fits\n"
     ]
    },
    {
     "name": "stderr",
     "output_type": "stream",
     "text": [
      "2022-10-04 19:59:30,519 - stpipe.AssignWcsStep - INFO - Step AssignWcsStep done\n"
     ]
    },
    {
     "name": "stderr",
     "output_type": "stream",
     "text": [
      "2022-10-04 19:59:32,403 - stpipe.AssignWcsStep - INFO - AssignWcsStep instance created.\n"
     ]
    },
    {
     "name": "stderr",
     "output_type": "stream",
     "text": [
      "2022-10-04 19:59:32,925 - stpipe.AssignWcsStep - INFO - Step AssignWcsStep running with args ('mock12B-01.fits',).\n"
     ]
    },
    {
     "name": "stderr",
     "output_type": "stream",
     "text": [
      "2022-10-04 19:59:32,928 - stpipe.AssignWcsStep - INFO - Step AssignWcsStep parameters are: {'pre_hooks': [], 'post_hooks': [], 'output_file': None, 'output_dir': None, 'output_ext': '.fits', 'output_use_model': False, 'output_use_index': True, 'save_results': True, 'skip': False, 'suffix': None, 'search_output_file': True, 'input_dir': '', 'sip_approx': True, 'sip_max_pix_error': 0.25, 'sip_degree': None, 'sip_max_inv_pix_error': 0.25, 'sip_inv_degree': None, 'sip_npoints': 32, 'slit_y_low': -0.55, 'slit_y_high': 0.55}\n"
     ]
    },
    {
     "name": "stderr",
     "output_type": "stream",
     "text": [
      "2022-10-04 19:59:36,525 - stpipe.AssignWcsStep - INFO - Created a MIRI mir_mrs pipeline with references {'distortion': '/grp/crds/cache/references/jwst/jwst_miri_distortion_0030.asdf', 'filteroffset': None, 'specwcs': '/grp/crds/cache/references/jwst/jwst_miri_specwcs_0021.asdf', 'regions': '/grp/crds/cache/references/jwst/jwst_miri_regions_0026.asdf', 'wavelengthrange': '/grp/crds/cache/references/jwst/jwst_miri_wavelengthrange_0005.asdf', 'camera': None, 'collimator': None, 'disperser': None, 'fore': None, 'fpa': None, 'msa': None, 'ote': None, 'ifupost': None, 'ifufore': None, 'ifuslicer': None}\n"
     ]
    },
    {
     "name": "stderr",
     "output_type": "stream",
     "text": [
      "2022-10-04 19:59:38,858 - stpipe.AssignWcsStep - INFO - Update S_REGION to POLYGON ICRS  44.999120559 -0.000921687 45.000323860 -0.000921687 45.000323860 0.000330937 44.999120559 0.000330937\n"
     ]
    },
    {
     "name": "stderr",
     "output_type": "stream",
     "text": [
      "2022-10-04 19:59:38,860 - stpipe.AssignWcsStep - INFO - COMPLETED assign_wcs\n"
     ]
    },
    {
     "name": "stderr",
     "output_type": "stream",
     "text": [
      "2022-10-04 19:59:38,874 - stpipe.AssignWcsStep - INFO - Results used CRDS context: jwst_0988.pmap\n"
     ]
    },
    {
     "name": "stderr",
     "output_type": "stream",
     "text": [
      "2022-10-04 19:59:40,162 - stpipe.AssignWcsStep - INFO - Saved model in mock12B-01_assignwcsstep.fits\n"
     ]
    },
    {
     "name": "stderr",
     "output_type": "stream",
     "text": [
      "2022-10-04 19:59:40,163 - stpipe.AssignWcsStep - INFO - Step AssignWcsStep done\n"
     ]
    },
    {
     "name": "stdout",
     "output_type": "stream",
     "text": [
      "Defining base reference coordinates\n"
     ]
    },
    {
     "name": "stdout",
     "output_type": "stream",
     "text": [
      "Reading 2 inputs\n"
     ]
    },
    {
     "name": "stdout",
     "output_type": "stream",
     "text": [
      "Wavelength limits: 5.64 - 6.62 micron\n",
      "RA limits: 44.9993 - 45.0008 deg\n",
      "DEC limits: -0.0007 - 0.0006 deg\n",
      "XI limits: -2.925 - 2.925 deg\n",
      "ETA limits: -2.405 - 2.405 deg\n",
      "Cube X-Y-Z dimensions: [44, 36, 981] spaxels\n",
      "Radius of influence in X-Y-Z direction: [1.5384615384615385, 1.5384615384615385, 2.5] pixels\n",
      "Exponential weighting sigma: 0.7692307692307693 pixels\n",
      "Using exponential weighting\n",
      "Constructing cube:  0 % complete\n"
     ]
    },
    {
     "name": "stdout",
     "output_type": "stream",
     "text": [
      "Constructing cube:  4 % complete\n"
     ]
    },
    {
     "name": "stdout",
     "output_type": "stream",
     "text": [
      "Constructing cube:  9 % complete\n"
     ]
    },
    {
     "name": "stdout",
     "output_type": "stream",
     "text": [
      "Constructing cube:  14 % complete\n"
     ]
    },
    {
     "name": "stdout",
     "output_type": "stream",
     "text": [
      "Constructing cube:  19 % complete\n"
     ]
    },
    {
     "name": "stdout",
     "output_type": "stream",
     "text": [
      "Constructing cube:  24 % complete\n"
     ]
    },
    {
     "name": "stdout",
     "output_type": "stream",
     "text": [
      "Constructing cube:  29 % complete\n"
     ]
    },
    {
     "name": "stdout",
     "output_type": "stream",
     "text": [
      "Constructing cube:  34 % complete\n"
     ]
    },
    {
     "name": "stdout",
     "output_type": "stream",
     "text": [
      "Constructing cube:  39 % complete\n"
     ]
    },
    {
     "name": "stdout",
     "output_type": "stream",
     "text": [
      "Constructing cube:  44 % complete\n"
     ]
    },
    {
     "name": "stdout",
     "output_type": "stream",
     "text": [
      "Constructing cube:  49 % complete\n"
     ]
    },
    {
     "name": "stdout",
     "output_type": "stream",
     "text": [
      "Constructing cube:  54 % complete\n"
     ]
    },
    {
     "name": "stdout",
     "output_type": "stream",
     "text": [
      "Constructing cube:  59 % complete\n"
     ]
    },
    {
     "name": "stdout",
     "output_type": "stream",
     "text": [
      "Constructing cube:  64 % complete\n"
     ]
    },
    {
     "name": "stdout",
     "output_type": "stream",
     "text": [
      "Constructing cube:  69 % complete\n"
     ]
    },
    {
     "name": "stdout",
     "output_type": "stream",
     "text": [
      "Constructing cube:  74 % complete\n"
     ]
    },
    {
     "name": "stdout",
     "output_type": "stream",
     "text": [
      "Constructing cube:  79 % complete\n"
     ]
    },
    {
     "name": "stdout",
     "output_type": "stream",
     "text": [
      "Constructing cube:  84 % complete\n"
     ]
    },
    {
     "name": "stdout",
     "output_type": "stream",
     "text": [
      "Constructing cube:  89 % complete\n"
     ]
    },
    {
     "name": "stdout",
     "output_type": "stream",
     "text": [
      "Constructing cube:  94 % complete\n"
     ]
    },
    {
     "name": "stdout",
     "output_type": "stream",
     "text": [
      "Constructing cube:  99 % complete\n"
     ]
    },
    {
     "name": "stdout",
     "output_type": "stream",
     "text": [
      "Defining base reference coordinates\n"
     ]
    },
    {
     "name": "stdout",
     "output_type": "stream",
     "text": [
      "Reading 2 inputs\n"
     ]
    },
    {
     "name": "stdout",
     "output_type": "stream",
     "text": [
      "Wavelength limits: 8.72 - 10.22 micron\n",
      "RA limits: 44.9991 - 45.0009 deg\n",
      "DEC limits: -0.0009 - 0.0006 deg\n",
      "XI limits: -3.315 - 3.315 deg\n",
      "ETA limits: -2.975 - 2.975 deg\n",
      "Cube X-Y-Z dimensions: [38, 34, 750] spaxels\n",
      "Radius of influence in X-Y-Z direction: [3.529411764705882, 3.529411764705882, 2.5] pixels\n",
      "Exponential weighting sigma: 0.8823529411764705 pixels\n",
      "Using exponential weighting\n",
      "Constructing cube:  0 % complete\n"
     ]
    },
    {
     "name": "stdout",
     "output_type": "stream",
     "text": [
      "Constructing cube:  5 % complete\n"
     ]
    },
    {
     "name": "stdout",
     "output_type": "stream",
     "text": [
      "Constructing cube:  10 % complete\n"
     ]
    },
    {
     "name": "stdout",
     "output_type": "stream",
     "text": [
      "Constructing cube:  15 % complete\n"
     ]
    },
    {
     "name": "stdout",
     "output_type": "stream",
     "text": [
      "Constructing cube:  20 % complete\n"
     ]
    },
    {
     "name": "stdout",
     "output_type": "stream",
     "text": [
      "Constructing cube:  25 % complete\n"
     ]
    },
    {
     "name": "stdout",
     "output_type": "stream",
     "text": [
      "Constructing cube:  30 % complete\n"
     ]
    },
    {
     "name": "stdout",
     "output_type": "stream",
     "text": [
      "Constructing cube:  35 % complete\n"
     ]
    },
    {
     "name": "stdout",
     "output_type": "stream",
     "text": [
      "Constructing cube:  40 % complete\n"
     ]
    },
    {
     "name": "stdout",
     "output_type": "stream",
     "text": [
      "Constructing cube:  45 % complete\n"
     ]
    },
    {
     "name": "stdout",
     "output_type": "stream",
     "text": [
      "Constructing cube:  50 % complete\n"
     ]
    },
    {
     "name": "stdout",
     "output_type": "stream",
     "text": [
      "Constructing cube:  55 % complete\n"
     ]
    },
    {
     "name": "stdout",
     "output_type": "stream",
     "text": [
      "Constructing cube:  60 % complete\n"
     ]
    },
    {
     "name": "stdout",
     "output_type": "stream",
     "text": [
      "Constructing cube:  65 % complete\n"
     ]
    },
    {
     "name": "stdout",
     "output_type": "stream",
     "text": [
      "Constructing cube:  70 % complete\n"
     ]
    },
    {
     "name": "stdout",
     "output_type": "stream",
     "text": [
      "Constructing cube:  76 % complete\n"
     ]
    },
    {
     "name": "stdout",
     "output_type": "stream",
     "text": [
      "Constructing cube:  81 % complete\n"
     ]
    },
    {
     "name": "stdout",
     "output_type": "stream",
     "text": [
      "Constructing cube:  86 % complete\n"
     ]
    },
    {
     "name": "stdout",
     "output_type": "stream",
     "text": [
      "Constructing cube:  91 % complete\n"
     ]
    },
    {
     "name": "stdout",
     "output_type": "stream",
     "text": [
      "Constructing cube:  96 % complete\n"
     ]
    },
    {
     "name": "stdout",
     "output_type": "stream",
     "text": [
      "Setting up the dithers\n",
      "Ndither =  2\n",
      "Working on left half of detector\n",
      "Setting up the coordinates\n"
     ]
    },
    {
     "name": "stdout",
     "output_type": "stream",
     "text": [
      "Setting up the scene\n"
     ]
    },
    {
     "name": "stdout",
     "output_type": "stream",
     "text": [
      "Projecting scene\n",
      "Working on exposure 0\n",
      "Doing coordinate projection\n"
     ]
    },
    {
     "name": "stdout",
     "output_type": "stream",
     "text": [
      "Projecting slices\n"
     ]
    },
    {
     "name": "stdout",
     "output_type": "stream",
     "text": [
      "Doing pixel value computation\n"
     ]
    },
    {
     "name": "stdout",
     "output_type": "stream",
     "text": [
      "Working on exposure 1\n",
      "Doing coordinate projection\n"
     ]
    },
    {
     "name": "stdout",
     "output_type": "stream",
     "text": [
      "Projecting slices\n"
     ]
    },
    {
     "name": "stdout",
     "output_type": "stream",
     "text": [
      "Doing pixel value computation\n"
     ]
    },
    {
     "name": "stdout",
     "output_type": "stream",
     "text": [
      "Working on right half of detector\n",
      "Setting up the coordinates\n"
     ]
    },
    {
     "name": "stdout",
     "output_type": "stream",
     "text": [
      "Setting up the scene\n"
     ]
    },
    {
     "name": "stdout",
     "output_type": "stream",
     "text": [
      "Projecting scene\n",
      "Working on exposure 0\n",
      "Doing coordinate projection\n"
     ]
    },
    {
     "name": "stdout",
     "output_type": "stream",
     "text": [
      "Projecting slices\n"
     ]
    },
    {
     "name": "stdout",
     "output_type": "stream",
     "text": [
      "Doing pixel value computation\n"
     ]
    },
    {
     "name": "stdout",
     "output_type": "stream",
     "text": [
      "Working on exposure 1\n",
      "Doing coordinate projection\n"
     ]
    },
    {
     "name": "stdout",
     "output_type": "stream",
     "text": [
      "Projecting slices\n"
     ]
    },
    {
     "name": "stdout",
     "output_type": "stream",
     "text": [
      "Doing pixel value computation\n"
     ]
    },
    {
     "name": "stdout",
     "output_type": "stream",
     "text": [
      "Writing files\n"
     ]
    },
    {
     "name": "stdout",
     "output_type": "stream",
     "text": [
      "Done!\n"
     ]
    },
    {
     "name": "stderr",
     "output_type": "stream",
     "text": [
      "2022-10-04 20:37:29,988 - stpipe.AssignWcsStep - INFO - AssignWcsStep instance created.\n"
     ]
    },
    {
     "name": "stderr",
     "output_type": "stream",
     "text": [
      "2022-10-04 20:37:30,193 - stpipe.AssignWcsStep - INFO - Step AssignWcsStep running with args ('mock34B-00.fits',).\n"
     ]
    },
    {
     "name": "stderr",
     "output_type": "stream",
     "text": [
      "2022-10-04 20:37:30,195 - stpipe.AssignWcsStep - INFO - Step AssignWcsStep parameters are: {'pre_hooks': [], 'post_hooks': [], 'output_file': None, 'output_dir': None, 'output_ext': '.fits', 'output_use_model': False, 'output_use_index': True, 'save_results': True, 'skip': False, 'suffix': None, 'search_output_file': True, 'input_dir': '', 'sip_approx': True, 'sip_max_pix_error': 0.25, 'sip_degree': None, 'sip_max_inv_pix_error': 0.25, 'sip_inv_degree': None, 'sip_npoints': 32, 'slit_y_low': -0.55, 'slit_y_high': 0.55}\n"
     ]
    },
    {
     "name": "stderr",
     "output_type": "stream",
     "text": [
      "2022-10-04 20:37:33,881 - stpipe.AssignWcsStep - INFO - Created a MIRI mir_mrs pipeline with references {'distortion': '/grp/crds/cache/references/jwst/jwst_miri_distortion_0033.asdf', 'filteroffset': None, 'specwcs': '/grp/crds/cache/references/jwst/jwst_miri_specwcs_0023.asdf', 'regions': '/grp/crds/cache/references/jwst/jwst_miri_regions_0030.asdf', 'wavelengthrange': '/grp/crds/cache/references/jwst/jwst_miri_wavelengthrange_0005.asdf', 'camera': None, 'collimator': None, 'disperser': None, 'fore': None, 'fpa': None, 'msa': None, 'ote': None, 'ifupost': None, 'ifufore': None, 'ifuslicer': None}\n"
     ]
    },
    {
     "name": "stderr",
     "output_type": "stream",
     "text": [
      "2022-10-04 20:37:35,783 - stpipe.AssignWcsStep - INFO - Update S_REGION to POLYGON ICRS  44.999292174 -0.001045109 45.001442012 -0.001045109 45.001442012 0.001002862 44.999292174 0.001002862\n"
     ]
    },
    {
     "name": "stderr",
     "output_type": "stream",
     "text": [
      "2022-10-04 20:37:35,785 - stpipe.AssignWcsStep - INFO - COMPLETED assign_wcs\n"
     ]
    },
    {
     "name": "stderr",
     "output_type": "stream",
     "text": [
      "2022-10-04 20:37:35,799 - stpipe.AssignWcsStep - INFO - Results used CRDS context: jwst_0988.pmap\n"
     ]
    },
    {
     "name": "stderr",
     "output_type": "stream",
     "text": [
      "2022-10-04 20:37:36,520 - stpipe.AssignWcsStep - INFO - Saved model in mock34B-00_assignwcsstep.fits\n"
     ]
    },
    {
     "name": "stderr",
     "output_type": "stream",
     "text": [
      "2022-10-04 20:37:36,521 - stpipe.AssignWcsStep - INFO - Step AssignWcsStep done\n"
     ]
    },
    {
     "name": "stderr",
     "output_type": "stream",
     "text": [
      "2022-10-04 20:37:37,641 - stpipe.AssignWcsStep - INFO - AssignWcsStep instance created.\n"
     ]
    },
    {
     "name": "stderr",
     "output_type": "stream",
     "text": [
      "2022-10-04 20:37:37,835 - stpipe.AssignWcsStep - INFO - Step AssignWcsStep running with args ('mock34B-01.fits',).\n"
     ]
    },
    {
     "name": "stderr",
     "output_type": "stream",
     "text": [
      "2022-10-04 20:37:37,837 - stpipe.AssignWcsStep - INFO - Step AssignWcsStep parameters are: {'pre_hooks': [], 'post_hooks': [], 'output_file': None, 'output_dir': None, 'output_ext': '.fits', 'output_use_model': False, 'output_use_index': True, 'save_results': True, 'skip': False, 'suffix': None, 'search_output_file': True, 'input_dir': '', 'sip_approx': True, 'sip_max_pix_error': 0.25, 'sip_degree': None, 'sip_max_inv_pix_error': 0.25, 'sip_inv_degree': None, 'sip_npoints': 32, 'slit_y_low': -0.55, 'slit_y_high': 0.55}\n"
     ]
    },
    {
     "name": "stderr",
     "output_type": "stream",
     "text": [
      "2022-10-04 20:37:40,627 - stpipe.AssignWcsStep - INFO - Created a MIRI mir_mrs pipeline with references {'distortion': '/grp/crds/cache/references/jwst/jwst_miri_distortion_0033.asdf', 'filteroffset': None, 'specwcs': '/grp/crds/cache/references/jwst/jwst_miri_specwcs_0023.asdf', 'regions': '/grp/crds/cache/references/jwst/jwst_miri_regions_0030.asdf', 'wavelengthrange': '/grp/crds/cache/references/jwst/jwst_miri_wavelengthrange_0005.asdf', 'camera': None, 'collimator': None, 'disperser': None, 'fore': None, 'fpa': None, 'msa': None, 'ote': None, 'ifupost': None, 'ifufore': None, 'ifuslicer': None}\n"
     ]
    },
    {
     "name": "stderr",
     "output_type": "stream",
     "text": [
      "2022-10-04 20:37:42,529 - stpipe.AssignWcsStep - INFO - Update S_REGION to POLYGON ICRS  44.998741194 -0.001318471 45.000891032 -0.001318471 45.000891032 0.000729501 44.998741194 0.000729501\n"
     ]
    },
    {
     "name": "stderr",
     "output_type": "stream",
     "text": [
      "2022-10-04 20:37:42,531 - stpipe.AssignWcsStep - INFO - COMPLETED assign_wcs\n"
     ]
    },
    {
     "name": "stderr",
     "output_type": "stream",
     "text": [
      "2022-10-04 20:37:42,545 - stpipe.AssignWcsStep - INFO - Results used CRDS context: jwst_0988.pmap\n"
     ]
    },
    {
     "name": "stderr",
     "output_type": "stream",
     "text": [
      "2022-10-04 20:37:43,259 - stpipe.AssignWcsStep - INFO - Saved model in mock34B-01_assignwcsstep.fits\n"
     ]
    },
    {
     "name": "stderr",
     "output_type": "stream",
     "text": [
      "2022-10-04 20:37:43,260 - stpipe.AssignWcsStep - INFO - Step AssignWcsStep done\n"
     ]
    },
    {
     "name": "stdout",
     "output_type": "stream",
     "text": [
      "Defining base reference coordinates\n"
     ]
    },
    {
     "name": "stdout",
     "output_type": "stream",
     "text": [
      "Reading 2 inputs\n"
     ]
    },
    {
     "name": "stdout",
     "output_type": "stream",
     "text": [
      "Wavelength limits: 13.37 - 15.64 micron\n",
      "RA limits: 44.9988 - 45.0011 deg\n",
      "DEC limits: -0.001 - 0.0009 deg\n",
      "XI limits: -4.3 - 4.3 deg\n",
      "ETA limits: -3.7 - 3.7 deg\n",
      "Cube X-Y-Z dimensions: [42, 36, 757] spaxels\n",
      "Radius of influence in X-Y-Z direction: [4.5, 4.5, 2.3333333333333335] pixels\n",
      "Exponential weighting sigma: 1.0 pixels\n",
      "Using exponential weighting\n",
      "Constructing cube:  0 % complete\n"
     ]
    },
    {
     "name": "stdout",
     "output_type": "stream",
     "text": [
      "Constructing cube:  5 % complete\n"
     ]
    },
    {
     "name": "stdout",
     "output_type": "stream",
     "text": [
      "Constructing cube:  10 % complete\n"
     ]
    },
    {
     "name": "stdout",
     "output_type": "stream",
     "text": [
      "Constructing cube:  15 % complete\n"
     ]
    },
    {
     "name": "stdout",
     "output_type": "stream",
     "text": [
      "Constructing cube:  20 % complete\n"
     ]
    },
    {
     "name": "stdout",
     "output_type": "stream",
     "text": [
      "Constructing cube:  25 % complete\n"
     ]
    },
    {
     "name": "stdout",
     "output_type": "stream",
     "text": [
      "Constructing cube:  30 % complete\n"
     ]
    },
    {
     "name": "stdout",
     "output_type": "stream",
     "text": [
      "Constructing cube:  35 % complete\n"
     ]
    },
    {
     "name": "stdout",
     "output_type": "stream",
     "text": [
      "Constructing cube:  40 % complete\n"
     ]
    },
    {
     "name": "stdout",
     "output_type": "stream",
     "text": [
      "Constructing cube:  45 % complete\n"
     ]
    },
    {
     "name": "stdout",
     "output_type": "stream",
     "text": [
      "Constructing cube:  50 % complete\n"
     ]
    },
    {
     "name": "stdout",
     "output_type": "stream",
     "text": [
      "Constructing cube:  55 % complete\n"
     ]
    },
    {
     "name": "stdout",
     "output_type": "stream",
     "text": [
      "Constructing cube:  60 % complete\n"
     ]
    },
    {
     "name": "stdout",
     "output_type": "stream",
     "text": [
      "Constructing cube:  65 % complete\n"
     ]
    },
    {
     "name": "stdout",
     "output_type": "stream",
     "text": [
      "Constructing cube:  70 % complete\n"
     ]
    },
    {
     "name": "stdout",
     "output_type": "stream",
     "text": [
      "Constructing cube:  75 % complete\n"
     ]
    },
    {
     "name": "stdout",
     "output_type": "stream",
     "text": [
      "Constructing cube:  80 % complete\n"
     ]
    },
    {
     "name": "stdout",
     "output_type": "stream",
     "text": [
      "Constructing cube:  85 % complete\n"
     ]
    },
    {
     "name": "stdout",
     "output_type": "stream",
     "text": [
      "Constructing cube:  90 % complete\n"
     ]
    },
    {
     "name": "stdout",
     "output_type": "stream",
     "text": [
      "Constructing cube:  95 % complete\n"
     ]
    },
    {
     "name": "stdout",
     "output_type": "stream",
     "text": [
      "Defining base reference coordinates\n"
     ]
    },
    {
     "name": "stdout",
     "output_type": "stream",
     "text": [
      "Reading 2 inputs\n"
     ]
    },
    {
     "name": "stdout",
     "output_type": "stream",
     "text": [
      "Wavelength limits: 20.42 - 24.21 micron\n",
      "RA limits: 44.9987 - 45.0014 deg\n",
      "DEC limits: -0.0013 - 0.001 deg\n",
      "XI limits: -5.075 - 5.075 deg\n",
      "ETA limits: -4.375 - 4.375 deg\n",
      "Cube X-Y-Z dimensions: [28, 24, 632] spaxels\n",
      "Radius of influence in X-Y-Z direction: [5.142857142857143, 5.142857142857143, 2.0] pixels\n",
      "Exponential weighting sigma: 0.8571428571428572 pixels\n",
      "Using exponential weighting\n",
      "Constructing cube:  0 % complete\n"
     ]
    },
    {
     "name": "stdout",
     "output_type": "stream",
     "text": [
      "Constructing cube:  5 % complete\n"
     ]
    },
    {
     "name": "stdout",
     "output_type": "stream",
     "text": [
      "Constructing cube:  10 % complete\n"
     ]
    },
    {
     "name": "stdout",
     "output_type": "stream",
     "text": [
      "Constructing cube:  15 % complete\n"
     ]
    },
    {
     "name": "stdout",
     "output_type": "stream",
     "text": [
      "Constructing cube:  20 % complete\n"
     ]
    },
    {
     "name": "stdout",
     "output_type": "stream",
     "text": [
      "Constructing cube:  25 % complete\n"
     ]
    },
    {
     "name": "stdout",
     "output_type": "stream",
     "text": [
      "Constructing cube:  30 % complete\n"
     ]
    },
    {
     "name": "stdout",
     "output_type": "stream",
     "text": [
      "Constructing cube:  35 % complete\n"
     ]
    },
    {
     "name": "stdout",
     "output_type": "stream",
     "text": [
      "Constructing cube:  40 % complete\n"
     ]
    },
    {
     "name": "stdout",
     "output_type": "stream",
     "text": [
      "Constructing cube:  45 % complete\n"
     ]
    },
    {
     "name": "stdout",
     "output_type": "stream",
     "text": [
      "Constructing cube:  50 % complete\n"
     ]
    },
    {
     "name": "stdout",
     "output_type": "stream",
     "text": [
      "Constructing cube:  55 % complete\n"
     ]
    },
    {
     "name": "stdout",
     "output_type": "stream",
     "text": [
      "Constructing cube:  60 % complete\n"
     ]
    },
    {
     "name": "stdout",
     "output_type": "stream",
     "text": [
      "Constructing cube:  65 % complete\n"
     ]
    },
    {
     "name": "stdout",
     "output_type": "stream",
     "text": [
      "Constructing cube:  70 % complete\n"
     ]
    },
    {
     "name": "stdout",
     "output_type": "stream",
     "text": [
      "Constructing cube:  75 % complete\n"
     ]
    },
    {
     "name": "stdout",
     "output_type": "stream",
     "text": [
      "Constructing cube:  81 % complete\n"
     ]
    },
    {
     "name": "stdout",
     "output_type": "stream",
     "text": [
      "Constructing cube:  86 % complete\n"
     ]
    },
    {
     "name": "stdout",
     "output_type": "stream",
     "text": [
      "Constructing cube:  91 % complete\n"
     ]
    },
    {
     "name": "stdout",
     "output_type": "stream",
     "text": [
      "Constructing cube:  96 % complete\n"
     ]
    },
    {
     "name": "stdout",
     "output_type": "stream",
     "text": [
      "Setting up the dithers\n",
      "Ndither =  2\n",
      "Working on left half of detector\n",
      "Setting up the coordinates\n"
     ]
    },
    {
     "name": "stdout",
     "output_type": "stream",
     "text": [
      "Setting up the scene\n"
     ]
    },
    {
     "name": "stdout",
     "output_type": "stream",
     "text": [
      "Projecting scene\n",
      "Working on exposure 0\n",
      "Doing coordinate projection\n"
     ]
    },
    {
     "name": "stdout",
     "output_type": "stream",
     "text": [
      "Projecting slices\n"
     ]
    },
    {
     "name": "stdout",
     "output_type": "stream",
     "text": [
      "Doing pixel value computation\n"
     ]
    },
    {
     "name": "stdout",
     "output_type": "stream",
     "text": [
      "Working on exposure 1\n",
      "Doing coordinate projection\n"
     ]
    },
    {
     "name": "stdout",
     "output_type": "stream",
     "text": [
      "Projecting slices\n"
     ]
    },
    {
     "name": "stdout",
     "output_type": "stream",
     "text": [
      "Doing pixel value computation\n"
     ]
    },
    {
     "name": "stdout",
     "output_type": "stream",
     "text": [
      "Working on right half of detector\n",
      "Setting up the coordinates\n"
     ]
    },
    {
     "name": "stdout",
     "output_type": "stream",
     "text": [
      "Setting up the scene\n"
     ]
    },
    {
     "name": "stdout",
     "output_type": "stream",
     "text": [
      "Projecting scene\n",
      "Working on exposure 0\n",
      "Doing coordinate projection\n"
     ]
    },
    {
     "name": "stdout",
     "output_type": "stream",
     "text": [
      "Projecting slices\n"
     ]
    },
    {
     "name": "stdout",
     "output_type": "stream",
     "text": [
      "Doing pixel value computation\n"
     ]
    },
    {
     "name": "stdout",
     "output_type": "stream",
     "text": [
      "Working on exposure 1\n",
      "Doing coordinate projection\n"
     ]
    },
    {
     "name": "stdout",
     "output_type": "stream",
     "text": [
      "Projecting slices\n"
     ]
    },
    {
     "name": "stdout",
     "output_type": "stream",
     "text": [
      "Doing pixel value computation\n"
     ]
    },
    {
     "name": "stdout",
     "output_type": "stream",
     "text": [
      "Writing files\n"
     ]
    },
    {
     "name": "stdout",
     "output_type": "stream",
     "text": [
      "Done!\n"
     ]
    },
    {
     "name": "stderr",
     "output_type": "stream",
     "text": [
      "2022-10-04 21:19:23,822 - stpipe.AssignWcsStep - INFO - AssignWcsStep instance created.\n"
     ]
    },
    {
     "name": "stderr",
     "output_type": "stream",
     "text": [
      "2022-10-04 21:19:24,033 - stpipe.AssignWcsStep - INFO - Step AssignWcsStep running with args ('mock12C-00.fits',).\n"
     ]
    },
    {
     "name": "stderr",
     "output_type": "stream",
     "text": [
      "2022-10-04 21:19:24,034 - stpipe.AssignWcsStep - INFO - Step AssignWcsStep parameters are: {'pre_hooks': [], 'post_hooks': [], 'output_file': None, 'output_dir': None, 'output_ext': '.fits', 'output_use_model': False, 'output_use_index': True, 'save_results': True, 'skip': False, 'suffix': None, 'search_output_file': True, 'input_dir': '', 'sip_approx': True, 'sip_max_pix_error': 0.25, 'sip_degree': None, 'sip_max_inv_pix_error': 0.25, 'sip_inv_degree': None, 'sip_npoints': 32, 'slit_y_low': -0.55, 'slit_y_high': 0.55}\n"
     ]
    },
    {
     "name": "stderr",
     "output_type": "stream",
     "text": [
      "2022-10-04 21:19:29,510 - stpipe.AssignWcsStep - INFO - Created a MIRI mir_mrs pipeline with references {'distortion': '/grp/crds/cache/references/jwst/jwst_miri_distortion_0029.asdf', 'filteroffset': None, 'specwcs': '/grp/crds/cache/references/jwst/jwst_miri_specwcs_0022.asdf', 'regions': '/grp/crds/cache/references/jwst/jwst_miri_regions_0028.asdf', 'wavelengthrange': '/grp/crds/cache/references/jwst/jwst_miri_wavelengthrange_0005.asdf', 'camera': None, 'collimator': None, 'disperser': None, 'fore': None, 'fpa': None, 'msa': None, 'ote': None, 'ifupost': None, 'ifufore': None, 'ifuslicer': None}\n"
     ]
    },
    {
     "name": "stderr",
     "output_type": "stream",
     "text": [
      "2022-10-04 21:19:32,815 - stpipe.AssignWcsStep - INFO - Update S_REGION to POLYGON ICRS  44.999734355 -0.000622863 45.000925483 -0.000622863 45.000925483 0.000685861 44.999734355 0.000685861\n"
     ]
    },
    {
     "name": "stderr",
     "output_type": "stream",
     "text": [
      "2022-10-04 21:19:32,817 - stpipe.AssignWcsStep - INFO - COMPLETED assign_wcs\n"
     ]
    },
    {
     "name": "stderr",
     "output_type": "stream",
     "text": [
      "2022-10-04 21:19:32,834 - stpipe.AssignWcsStep - INFO - Results used CRDS context: jwst_0988.pmap\n"
     ]
    },
    {
     "name": "stderr",
     "output_type": "stream",
     "text": [
      "2022-10-04 21:19:33,935 - stpipe.AssignWcsStep - INFO - Saved model in mock12C-00_assignwcsstep.fits\n"
     ]
    },
    {
     "name": "stderr",
     "output_type": "stream",
     "text": [
      "2022-10-04 21:19:33,936 - stpipe.AssignWcsStep - INFO - Step AssignWcsStep done\n"
     ]
    },
    {
     "name": "stderr",
     "output_type": "stream",
     "text": [
      "2022-10-04 21:19:36,037 - stpipe.AssignWcsStep - INFO - AssignWcsStep instance created.\n"
     ]
    },
    {
     "name": "stderr",
     "output_type": "stream",
     "text": [
      "2022-10-04 21:19:36,611 - stpipe.AssignWcsStep - INFO - Step AssignWcsStep running with args ('mock12C-01.fits',).\n"
     ]
    },
    {
     "name": "stderr",
     "output_type": "stream",
     "text": [
      "2022-10-04 21:19:36,614 - stpipe.AssignWcsStep - INFO - Step AssignWcsStep parameters are: {'pre_hooks': [], 'post_hooks': [], 'output_file': None, 'output_dir': None, 'output_ext': '.fits', 'output_use_model': False, 'output_use_index': True, 'save_results': True, 'skip': False, 'suffix': None, 'search_output_file': True, 'input_dir': '', 'sip_approx': True, 'sip_max_pix_error': 0.25, 'sip_degree': None, 'sip_max_inv_pix_error': 0.25, 'sip_inv_degree': None, 'sip_npoints': 32, 'slit_y_low': -0.55, 'slit_y_high': 0.55}\n"
     ]
    },
    {
     "name": "stderr",
     "output_type": "stream",
     "text": [
      "2022-10-04 21:19:40,996 - stpipe.AssignWcsStep - INFO - Created a MIRI mir_mrs pipeline with references {'distortion': '/grp/crds/cache/references/jwst/jwst_miri_distortion_0029.asdf', 'filteroffset': None, 'specwcs': '/grp/crds/cache/references/jwst/jwst_miri_specwcs_0022.asdf', 'regions': '/grp/crds/cache/references/jwst/jwst_miri_regions_0028.asdf', 'wavelengthrange': '/grp/crds/cache/references/jwst/jwst_miri_wavelengthrange_0005.asdf', 'camera': None, 'collimator': None, 'disperser': None, 'fore': None, 'fpa': None, 'msa': None, 'ote': None, 'ifupost': None, 'ifufore': None, 'ifuslicer': None}\n"
     ]
    },
    {
     "name": "stderr",
     "output_type": "stream",
     "text": [
      "2022-10-04 21:19:43,942 - stpipe.AssignWcsStep - INFO - Update S_REGION to POLYGON ICRS  44.999183375 -0.000896225 45.000374503 -0.000896225 45.000374503 0.000412499 44.999183375 0.000412499\n"
     ]
    },
    {
     "name": "stderr",
     "output_type": "stream",
     "text": [
      "2022-10-04 21:19:43,943 - stpipe.AssignWcsStep - INFO - COMPLETED assign_wcs\n"
     ]
    },
    {
     "name": "stderr",
     "output_type": "stream",
     "text": [
      "2022-10-04 21:19:43,958 - stpipe.AssignWcsStep - INFO - Results used CRDS context: jwst_0988.pmap\n"
     ]
    },
    {
     "name": "stderr",
     "output_type": "stream",
     "text": [
      "2022-10-04 21:19:45,261 - stpipe.AssignWcsStep - INFO - Saved model in mock12C-01_assignwcsstep.fits\n"
     ]
    },
    {
     "name": "stderr",
     "output_type": "stream",
     "text": [
      "2022-10-04 21:19:45,262 - stpipe.AssignWcsStep - INFO - Step AssignWcsStep done\n"
     ]
    },
    {
     "name": "stdout",
     "output_type": "stream",
     "text": [
      "Defining base reference coordinates\n"
     ]
    },
    {
     "name": "stdout",
     "output_type": "stream",
     "text": [
      "Reading 2 inputs\n"
     ]
    },
    {
     "name": "stdout",
     "output_type": "stream",
     "text": [
      "Wavelength limits: 6.42 - 7.51 micron\n",
      "RA limits: 44.9993 - 45.0008 deg\n",
      "DEC limits: -0.0006 - 0.0007 deg\n",
      "XI limits: -2.795 - 2.795 deg\n",
      "ETA limits: -2.405 - 2.405 deg\n",
      "Cube X-Y-Z dimensions: [42, 36, 1090] spaxels\n",
      "Radius of influence in X-Y-Z direction: [3.076923076923077, 3.076923076923077, 2.5] pixels\n",
      "Exponential weighting sigma: 0.7692307692307693 pixels\n",
      "Using exponential weighting\n",
      "Constructing cube:  0 % complete\n"
     ]
    },
    {
     "name": "stdout",
     "output_type": "stream",
     "text": [
      "Constructing cube:  4 % complete\n"
     ]
    },
    {
     "name": "stdout",
     "output_type": "stream",
     "text": [
      "Constructing cube:  9 % complete\n"
     ]
    },
    {
     "name": "stdout",
     "output_type": "stream",
     "text": [
      "Constructing cube:  14 % complete\n"
     ]
    },
    {
     "name": "stdout",
     "output_type": "stream",
     "text": [
      "Constructing cube:  19 % complete\n"
     ]
    },
    {
     "name": "stdout",
     "output_type": "stream",
     "text": [
      "Constructing cube:  24 % complete\n"
     ]
    },
    {
     "name": "stdout",
     "output_type": "stream",
     "text": [
      "Constructing cube:  29 % complete\n"
     ]
    },
    {
     "name": "stdout",
     "output_type": "stream",
     "text": [
      "Constructing cube:  34 % complete\n"
     ]
    },
    {
     "name": "stdout",
     "output_type": "stream",
     "text": [
      "Constructing cube:  39 % complete\n"
     ]
    },
    {
     "name": "stdout",
     "output_type": "stream",
     "text": [
      "Constructing cube:  44 % complete\n"
     ]
    },
    {
     "name": "stdout",
     "output_type": "stream",
     "text": [
      "Constructing cube:  49 % complete\n"
     ]
    },
    {
     "name": "stdout",
     "output_type": "stream",
     "text": [
      "Constructing cube:  54 % complete\n"
     ]
    },
    {
     "name": "stdout",
     "output_type": "stream",
     "text": [
      "Constructing cube:  59 % complete\n"
     ]
    },
    {
     "name": "stdout",
     "output_type": "stream",
     "text": [
      "Constructing cube:  64 % complete\n"
     ]
    },
    {
     "name": "stdout",
     "output_type": "stream",
     "text": [
      "Constructing cube:  69 % complete\n"
     ]
    },
    {
     "name": "stdout",
     "output_type": "stream",
     "text": [
      "Constructing cube:  74 % complete\n"
     ]
    },
    {
     "name": "stdout",
     "output_type": "stream",
     "text": [
      "Constructing cube:  79 % complete\n"
     ]
    },
    {
     "name": "stdout",
     "output_type": "stream",
     "text": [
      "Constructing cube:  84 % complete\n"
     ]
    },
    {
     "name": "stdout",
     "output_type": "stream",
     "text": [
      "Constructing cube:  89 % complete\n"
     ]
    },
    {
     "name": "stdout",
     "output_type": "stream",
     "text": [
      "Constructing cube:  94 % complete\n"
     ]
    },
    {
     "name": "stdout",
     "output_type": "stream",
     "text": [
      "Constructing cube:  99 % complete\n"
     ]
    },
    {
     "name": "stdout",
     "output_type": "stream",
     "text": [
      "Defining base reference coordinates\n"
     ]
    },
    {
     "name": "stdout",
     "output_type": "stream",
     "text": [
      "Reading 2 inputs\n"
     ]
    },
    {
     "name": "stdout",
     "output_type": "stream",
     "text": [
      "Wavelength limits: 10.03 - 11.74 micron\n",
      "RA limits: 44.9992 - 45.0009 deg\n",
      "DEC limits: -0.0009 - 0.0006 deg\n",
      "XI limits: -3.315 - 3.315 deg\n",
      "ETA limits: -2.975 - 2.975 deg\n",
      "Cube X-Y-Z dimensions: [38, 34, 856] spaxels\n",
      "Radius of influence in X-Y-Z direction: [3.529411764705882, 3.529411764705882, 2.5] pixels\n",
      "Exponential weighting sigma: 0.8823529411764705 pixels\n",
      "Using exponential weighting\n",
      "Constructing cube:  0 % complete\n"
     ]
    },
    {
     "name": "stdout",
     "output_type": "stream",
     "text": [
      "Constructing cube:  5 % complete\n"
     ]
    },
    {
     "name": "stdout",
     "output_type": "stream",
     "text": [
      "Constructing cube:  10 % complete\n"
     ]
    },
    {
     "name": "stdout",
     "output_type": "stream",
     "text": [
      "Constructing cube:  15 % complete\n"
     ]
    },
    {
     "name": "stdout",
     "output_type": "stream",
     "text": [
      "Constructing cube:  20 % complete\n"
     ]
    },
    {
     "name": "stdout",
     "output_type": "stream",
     "text": [
      "Constructing cube:  25 % complete\n"
     ]
    },
    {
     "name": "stdout",
     "output_type": "stream",
     "text": [
      "Constructing cube:  30 % complete\n"
     ]
    },
    {
     "name": "stdout",
     "output_type": "stream",
     "text": [
      "Constructing cube:  35 % complete\n"
     ]
    },
    {
     "name": "stdout",
     "output_type": "stream",
     "text": [
      "Constructing cube:  40 % complete\n"
     ]
    },
    {
     "name": "stdout",
     "output_type": "stream",
     "text": [
      "Constructing cube:  45 % complete\n"
     ]
    },
    {
     "name": "stdout",
     "output_type": "stream",
     "text": [
      "Constructing cube:  50 % complete\n"
     ]
    },
    {
     "name": "stdout",
     "output_type": "stream",
     "text": [
      "Constructing cube:  55 % complete\n"
     ]
    },
    {
     "name": "stdout",
     "output_type": "stream",
     "text": [
      "Constructing cube:  60 % complete\n"
     ]
    },
    {
     "name": "stdout",
     "output_type": "stream",
     "text": [
      "Constructing cube:  65 % complete\n"
     ]
    },
    {
     "name": "stdout",
     "output_type": "stream",
     "text": [
      "Constructing cube:  70 % complete\n"
     ]
    },
    {
     "name": "stdout",
     "output_type": "stream",
     "text": [
      "Constructing cube:  75 % complete\n"
     ]
    },
    {
     "name": "stdout",
     "output_type": "stream",
     "text": [
      "Constructing cube:  80 % complete\n"
     ]
    },
    {
     "name": "stdout",
     "output_type": "stream",
     "text": [
      "Constructing cube:  85 % complete\n"
     ]
    },
    {
     "name": "stdout",
     "output_type": "stream",
     "text": [
      "Constructing cube:  90 % complete\n"
     ]
    },
    {
     "name": "stdout",
     "output_type": "stream",
     "text": [
      "Constructing cube:  95 % complete\n"
     ]
    },
    {
     "name": "stdout",
     "output_type": "stream",
     "text": [
      "Setting up the dithers\n",
      "Ndither =  2\n",
      "Working on left half of detector\n",
      "Setting up the coordinates\n"
     ]
    },
    {
     "name": "stdout",
     "output_type": "stream",
     "text": [
      "Setting up the scene\n"
     ]
    },
    {
     "name": "stdout",
     "output_type": "stream",
     "text": [
      "Projecting scene\n",
      "Working on exposure 0\n",
      "Doing coordinate projection\n"
     ]
    },
    {
     "name": "stdout",
     "output_type": "stream",
     "text": [
      "Projecting slices\n"
     ]
    },
    {
     "name": "stdout",
     "output_type": "stream",
     "text": [
      "Doing pixel value computation\n"
     ]
    },
    {
     "name": "stdout",
     "output_type": "stream",
     "text": [
      "Working on exposure 1\n",
      "Doing coordinate projection\n"
     ]
    },
    {
     "name": "stdout",
     "output_type": "stream",
     "text": [
      "Projecting slices\n"
     ]
    },
    {
     "name": "stdout",
     "output_type": "stream",
     "text": [
      "Doing pixel value computation\n"
     ]
    },
    {
     "name": "stdout",
     "output_type": "stream",
     "text": [
      "Working on right half of detector\n",
      "Setting up the coordinates\n"
     ]
    },
    {
     "name": "stdout",
     "output_type": "stream",
     "text": [
      "Setting up the scene\n"
     ]
    },
    {
     "name": "stdout",
     "output_type": "stream",
     "text": [
      "Projecting scene\n",
      "Working on exposure 0\n",
      "Doing coordinate projection\n"
     ]
    },
    {
     "name": "stdout",
     "output_type": "stream",
     "text": [
      "Projecting slices\n"
     ]
    },
    {
     "name": "stdout",
     "output_type": "stream",
     "text": [
      "Doing pixel value computation\n"
     ]
    },
    {
     "name": "stdout",
     "output_type": "stream",
     "text": [
      "Working on exposure 1\n",
      "Doing coordinate projection\n"
     ]
    },
    {
     "name": "stdout",
     "output_type": "stream",
     "text": [
      "Projecting slices\n"
     ]
    },
    {
     "name": "stdout",
     "output_type": "stream",
     "text": [
      "Doing pixel value computation\n"
     ]
    },
    {
     "name": "stdout",
     "output_type": "stream",
     "text": [
      "Writing files\n"
     ]
    },
    {
     "name": "stdout",
     "output_type": "stream",
     "text": [
      "Done!\n"
     ]
    },
    {
     "name": "stderr",
     "output_type": "stream",
     "text": [
      "2022-10-04 22:07:20,510 - stpipe.AssignWcsStep - INFO - AssignWcsStep instance created.\n"
     ]
    },
    {
     "name": "stderr",
     "output_type": "stream",
     "text": [
      "2022-10-04 22:07:20,916 - stpipe.AssignWcsStep - INFO - Step AssignWcsStep running with args ('mock34C-00.fits',).\n"
     ]
    },
    {
     "name": "stderr",
     "output_type": "stream",
     "text": [
      "2022-10-04 22:07:20,919 - stpipe.AssignWcsStep - INFO - Step AssignWcsStep parameters are: {'pre_hooks': [], 'post_hooks': [], 'output_file': None, 'output_dir': None, 'output_ext': '.fits', 'output_use_model': False, 'output_use_index': True, 'save_results': True, 'skip': False, 'suffix': None, 'search_output_file': True, 'input_dir': '', 'sip_approx': True, 'sip_max_pix_error': 0.25, 'sip_degree': None, 'sip_max_inv_pix_error': 0.25, 'sip_inv_degree': None, 'sip_npoints': 32, 'slit_y_low': -0.55, 'slit_y_high': 0.55}\n"
     ]
    },
    {
     "name": "stderr",
     "output_type": "stream",
     "text": [
      "2022-10-04 22:07:24,695 - stpipe.AssignWcsStep - INFO - Created a MIRI mir_mrs pipeline with references {'distortion': '/grp/crds/cache/references/jwst/jwst_miri_distortion_0032.asdf', 'filteroffset': None, 'specwcs': '/grp/crds/cache/references/jwst/jwst_miri_specwcs_0019.asdf', 'regions': '/grp/crds/cache/references/jwst/jwst_miri_regions_0025.asdf', 'wavelengthrange': '/grp/crds/cache/references/jwst/jwst_miri_wavelengthrange_0005.asdf', 'camera': None, 'collimator': None, 'disperser': None, 'fore': None, 'fpa': None, 'msa': None, 'ote': None, 'ifupost': None, 'ifufore': None, 'ifuslicer': None}\n"
     ]
    },
    {
     "name": "stderr",
     "output_type": "stream",
     "text": [
      "2022-10-04 22:07:26,672 - stpipe.AssignWcsStep - INFO - Update S_REGION to POLYGON ICRS  44.999291622 -0.001004543 45.001436452 -0.001004543 45.001436452 0.001020958 44.999291622 0.001020958\n"
     ]
    },
    {
     "name": "stderr",
     "output_type": "stream",
     "text": [
      "2022-10-04 22:07:26,673 - stpipe.AssignWcsStep - INFO - COMPLETED assign_wcs\n"
     ]
    },
    {
     "name": "stderr",
     "output_type": "stream",
     "text": [
      "2022-10-04 22:07:26,687 - stpipe.AssignWcsStep - INFO - Results used CRDS context: jwst_0988.pmap\n"
     ]
    },
    {
     "name": "stderr",
     "output_type": "stream",
     "text": [
      "2022-10-04 22:07:27,491 - stpipe.AssignWcsStep - INFO - Saved model in mock34C-00_assignwcsstep.fits\n"
     ]
    },
    {
     "name": "stderr",
     "output_type": "stream",
     "text": [
      "2022-10-04 22:07:27,492 - stpipe.AssignWcsStep - INFO - Step AssignWcsStep done\n"
     ]
    },
    {
     "name": "stderr",
     "output_type": "stream",
     "text": [
      "2022-10-04 22:07:28,637 - stpipe.AssignWcsStep - INFO - AssignWcsStep instance created.\n"
     ]
    },
    {
     "name": "stderr",
     "output_type": "stream",
     "text": [
      "2022-10-04 22:07:28,838 - stpipe.AssignWcsStep - INFO - Step AssignWcsStep running with args ('mock34C-01.fits',).\n"
     ]
    },
    {
     "name": "stderr",
     "output_type": "stream",
     "text": [
      "2022-10-04 22:07:28,840 - stpipe.AssignWcsStep - INFO - Step AssignWcsStep parameters are: {'pre_hooks': [], 'post_hooks': [], 'output_file': None, 'output_dir': None, 'output_ext': '.fits', 'output_use_model': False, 'output_use_index': True, 'save_results': True, 'skip': False, 'suffix': None, 'search_output_file': True, 'input_dir': '', 'sip_approx': True, 'sip_max_pix_error': 0.25, 'sip_degree': None, 'sip_max_inv_pix_error': 0.25, 'sip_inv_degree': None, 'sip_npoints': 32, 'slit_y_low': -0.55, 'slit_y_high': 0.55}\n"
     ]
    },
    {
     "name": "stderr",
     "output_type": "stream",
     "text": [
      "2022-10-04 22:07:31,591 - stpipe.AssignWcsStep - INFO - Created a MIRI mir_mrs pipeline with references {'distortion': '/grp/crds/cache/references/jwst/jwst_miri_distortion_0032.asdf', 'filteroffset': None, 'specwcs': '/grp/crds/cache/references/jwst/jwst_miri_specwcs_0019.asdf', 'regions': '/grp/crds/cache/references/jwst/jwst_miri_regions_0025.asdf', 'wavelengthrange': '/grp/crds/cache/references/jwst/jwst_miri_wavelengthrange_0005.asdf', 'camera': None, 'collimator': None, 'disperser': None, 'fore': None, 'fpa': None, 'msa': None, 'ote': None, 'ifupost': None, 'ifufore': None, 'ifuslicer': None}\n"
     ]
    },
    {
     "name": "stderr",
     "output_type": "stream",
     "text": [
      "2022-10-04 22:07:33,526 - stpipe.AssignWcsStep - INFO - Update S_REGION to POLYGON ICRS  44.998740642 -0.001277905 45.000885472 -0.001277905 45.000885472 0.000747596 44.998740642 0.000747596\n"
     ]
    },
    {
     "name": "stderr",
     "output_type": "stream",
     "text": [
      "2022-10-04 22:07:33,528 - stpipe.AssignWcsStep - INFO - COMPLETED assign_wcs\n"
     ]
    },
    {
     "name": "stderr",
     "output_type": "stream",
     "text": [
      "2022-10-04 22:07:33,542 - stpipe.AssignWcsStep - INFO - Results used CRDS context: jwst_0988.pmap\n"
     ]
    },
    {
     "name": "stderr",
     "output_type": "stream",
     "text": [
      "2022-10-04 22:07:34,268 - stpipe.AssignWcsStep - INFO - Saved model in mock34C-01_assignwcsstep.fits\n"
     ]
    },
    {
     "name": "stderr",
     "output_type": "stream",
     "text": [
      "2022-10-04 22:07:34,269 - stpipe.AssignWcsStep - INFO - Step AssignWcsStep done\n"
     ]
    },
    {
     "name": "stdout",
     "output_type": "stream",
     "text": [
      "Defining base reference coordinates\n"
     ]
    },
    {
     "name": "stdout",
     "output_type": "stream",
     "text": [
      "Reading 2 inputs\n"
     ]
    },
    {
     "name": "stdout",
     "output_type": "stream",
     "text": [
      "Wavelength limits: 15.44 - 18.07 micron\n",
      "RA limits: 44.9988 - 45.001 deg\n",
      "DEC limits: -0.001 - 0.0009 deg\n",
      "XI limits: -4.3 - 4.3 deg\n",
      "ETA limits: -3.7 - 3.7 deg\n",
      "Cube X-Y-Z dimensions: [42, 36, 877] spaxels\n",
      "Radius of influence in X-Y-Z direction: [4.5, 4.5, 2.3333333333333335] pixels\n",
      "Exponential weighting sigma: 1.0 pixels\n",
      "Using exponential weighting\n",
      "Constructing cube:  0 % complete\n"
     ]
    },
    {
     "name": "stdout",
     "output_type": "stream",
     "text": [
      "Constructing cube:  5 % complete\n"
     ]
    },
    {
     "name": "stdout",
     "output_type": "stream",
     "text": [
      "Constructing cube:  10 % complete\n"
     ]
    },
    {
     "name": "stdout",
     "output_type": "stream",
     "text": [
      "Constructing cube:  15 % complete\n"
     ]
    },
    {
     "name": "stdout",
     "output_type": "stream",
     "text": [
      "Constructing cube:  20 % complete\n"
     ]
    },
    {
     "name": "stdout",
     "output_type": "stream",
     "text": [
      "Constructing cube:  25 % complete\n"
     ]
    },
    {
     "name": "stdout",
     "output_type": "stream",
     "text": [
      "Constructing cube:  30 % complete\n"
     ]
    },
    {
     "name": "stdout",
     "output_type": "stream",
     "text": [
      "Constructing cube:  35 % complete\n"
     ]
    },
    {
     "name": "stdout",
     "output_type": "stream",
     "text": [
      "Constructing cube:  40 % complete\n"
     ]
    },
    {
     "name": "stdout",
     "output_type": "stream",
     "text": [
      "Constructing cube:  45 % complete\n"
     ]
    },
    {
     "name": "stdout",
     "output_type": "stream",
     "text": [
      "Constructing cube:  50 % complete\n"
     ]
    },
    {
     "name": "stdout",
     "output_type": "stream",
     "text": [
      "Constructing cube:  55 % complete\n"
     ]
    },
    {
     "name": "stdout",
     "output_type": "stream",
     "text": [
      "Constructing cube:  60 % complete\n"
     ]
    },
    {
     "name": "stdout",
     "output_type": "stream",
     "text": [
      "Constructing cube:  65 % complete\n"
     ]
    },
    {
     "name": "stdout",
     "output_type": "stream",
     "text": [
      "Constructing cube:  70 % complete\n"
     ]
    },
    {
     "name": "stdout",
     "output_type": "stream",
     "text": [
      "Constructing cube:  75 % complete\n"
     ]
    },
    {
     "name": "stdout",
     "output_type": "stream",
     "text": [
      "Constructing cube:  80 % complete\n"
     ]
    },
    {
     "name": "stdout",
     "output_type": "stream",
     "text": [
      "Constructing cube:  85 % complete\n"
     ]
    },
    {
     "name": "stdout",
     "output_type": "stream",
     "text": [
      "Constructing cube:  90 % complete\n"
     ]
    },
    {
     "name": "stdout",
     "output_type": "stream",
     "text": [
      "Constructing cube:  95 % complete\n"
     ]
    },
    {
     "name": "stdout",
     "output_type": "stream",
     "text": [
      "Defining base reference coordinates\n"
     ]
    },
    {
     "name": "stdout",
     "output_type": "stream",
     "text": [
      "Reading 2 inputs\n"
     ]
    },
    {
     "name": "stdout",
     "output_type": "stream",
     "text": [
      "Wavelength limits: 23.89 - 28.33 micron\n",
      "RA limits: 44.9987 - 45.0014 deg\n",
      "DEC limits: -0.0013 - 0.001 deg\n",
      "XI limits: -5.075 - 5.075 deg\n",
      "ETA limits: -4.375 - 4.375 deg\n",
      "Cube X-Y-Z dimensions: [28, 24, 740] spaxels\n",
      "Radius of influence in X-Y-Z direction: [5.142857142857143, 5.142857142857143, 2.0] pixels\n",
      "Exponential weighting sigma: 0.8571428571428572 pixels\n",
      "Using exponential weighting\n",
      "Constructing cube:  0 % complete\n"
     ]
    },
    {
     "name": "stdout",
     "output_type": "stream",
     "text": [
      "Constructing cube:  5 % complete\n"
     ]
    },
    {
     "name": "stdout",
     "output_type": "stream",
     "text": [
      "Constructing cube:  10 % complete\n"
     ]
    },
    {
     "name": "stdout",
     "output_type": "stream",
     "text": [
      "Constructing cube:  15 % complete\n"
     ]
    },
    {
     "name": "stdout",
     "output_type": "stream",
     "text": [
      "Constructing cube:  20 % complete\n"
     ]
    },
    {
     "name": "stdout",
     "output_type": "stream",
     "text": [
      "Constructing cube:  25 % complete\n"
     ]
    },
    {
     "name": "stdout",
     "output_type": "stream",
     "text": [
      "Constructing cube:  30 % complete\n"
     ]
    },
    {
     "name": "stdout",
     "output_type": "stream",
     "text": [
      "Constructing cube:  35 % complete\n"
     ]
    },
    {
     "name": "stdout",
     "output_type": "stream",
     "text": [
      "Constructing cube:  40 % complete\n"
     ]
    },
    {
     "name": "stdout",
     "output_type": "stream",
     "text": [
      "Constructing cube:  45 % complete\n"
     ]
    },
    {
     "name": "stdout",
     "output_type": "stream",
     "text": [
      "Constructing cube:  50 % complete\n"
     ]
    },
    {
     "name": "stdout",
     "output_type": "stream",
     "text": [
      "Constructing cube:  55 % complete\n"
     ]
    },
    {
     "name": "stdout",
     "output_type": "stream",
     "text": [
      "Constructing cube:  60 % complete\n"
     ]
    },
    {
     "name": "stdout",
     "output_type": "stream",
     "text": [
      "Constructing cube:  65 % complete\n"
     ]
    },
    {
     "name": "stdout",
     "output_type": "stream",
     "text": [
      "Constructing cube:  70 % complete\n"
     ]
    },
    {
     "name": "stdout",
     "output_type": "stream",
     "text": [
      "Constructing cube:  75 % complete\n"
     ]
    },
    {
     "name": "stdout",
     "output_type": "stream",
     "text": [
      "Constructing cube:  80 % complete\n"
     ]
    },
    {
     "name": "stdout",
     "output_type": "stream",
     "text": [
      "Constructing cube:  85 % complete\n"
     ]
    },
    {
     "name": "stdout",
     "output_type": "stream",
     "text": [
      "Constructing cube:  90 % complete\n"
     ]
    },
    {
     "name": "stdout",
     "output_type": "stream",
     "text": [
      "Constructing cube:  95 % complete\n"
     ]
    },
    {
     "data": {
      "image/png": "[encoded data removed]",
      "text/plain": [
       "<Figure size 640x480 with 1 Axes>"
      ]
     },
     "metadata": {},
     "output_type": "display_data"
    }
   ],
   "source": [
    "for j in range(0,6):\n",
    "    ip.main(band_chan[j],[1,2],1,1e-7)\n",
    "    \n",
    "    result=AssignWcsStep.call('mock'+band_chan[j]+'-00.fits',save_results=True)\n",
    "    result=AssignWcsStep.call('mock'+band_chan[j]+'-01.fits',save_results=True)\n",
    "    \n",
    "    wtype=3\n",
    "    band=indiv1[j]\n",
    "    filenames='mock'+band_chan[j]+'-00_assignwcsstep.fits','mock'+band_chan[j]+'-01_assignwcsstep.fits'\n",
    "    modshep.setcube(filenames, band, wtype)\n",
    "    \n",
    "    band=indiv2[j]\n",
    "    filenames='mock'+band_chan[j]+'-00_assignwcsstep.fits','mock'+band_chan[j]+'-01_assignwcsstep.fits'\n",
    "    modshep.setcube(filenames, band, wtype)\n",
    "        \n",
    "    image1,header1=fits.getdata('pystack/pycube'+indiv1[j]+'.fits',header=True)\n",
    "    \n",
    "    num_x1=header1[\"NAXIS2\"]\n",
    "    num_y1=header1[\"NAXIS1\"]\n",
    "    num_chan1=header1[\"NAXIS3\"]\n",
    "    start_wavelength1=header1[\"CRVAL3\"]\n",
    "    step_wavelength1=header1[\"CDELT3\"]\n",
    "    pix_size1=header1[\"CD2_2\"]\n",
    "    \n",
    "    a1=[0.0]*num_chan1\n",
    "    for i in range(0,num_chan1):\n",
    "        for m in range(0,num_x1):\n",
    "            for n in range(0,num_y1):\n",
    "                a1[i]=image1[i,m,n]+a1[i]    \n",
    "\n",
    "    d1=[0.0]*num_chan1\n",
    "    d1[0]=start_wavelength1\n",
    "    for i in range(1,num_chan1):\n",
    "        d1[i]=d1[i-1]+step_wavelength1\n",
    "        \n",
    "    for i in range(0,num_chan1):\n",
    "        a1[i]=(a1[i]*(pix_size1*3600)*(pix_size1*3600)*(10**6))/(4.25*10**10)\n",
    "    \n",
    "    image2,header2=fits.getdata('pystack/pycube'+indiv2[j]+'.fits',header=True)\n",
    "    \n",
    "    num_x2=header2[\"NAXIS2\"]\n",
    "    num_y2=header2[\"NAXIS1\"]\n",
    "    num_chan2=header2[\"NAXIS3\"]\n",
    "    start_wavelength2=header2[\"CRVAL3\"]\n",
    "    step_wavelength2=header2[\"CDELT3\"]\n",
    "    pix_size2=header2[\"CD2_2\"]\n",
    "    \n",
    "    a2=[0.0]*num_chan2\n",
    "    for i in range(0,num_chan2):\n",
    "        for m in range(0,num_x2):\n",
    "            for n in range(0,num_y2):\n",
    "                a2[i]=image2[i,m,n]+a2[i]   \n",
    "                \n",
    "    d2=[0.0]*num_chan2\n",
    "    d2[0]=start_wavelength2\n",
    "    for i in range(1,num_chan2):\n",
    "        d2[i]=d2[i-1]+step_wavelength2                \n",
    "                \n",
    "    for i in range(0,num_chan2):\n",
    "        a2[i]=(a2[i]*(pix_size2*3600)*(pix_size2*3600)*(10**6))/(4.25*10**10)\n",
    "        \n",
    "        \n",
    "    plt.plot(d1,a1,'-', color=plot_color[j], lw=1)\n",
    "    plt.plot(d2,a2,'-', color=plot_color[j], lw=1)\n",
    "    plt.xlim(4.5,28)\n",
    "    plt.ylim(0.0009,0.0011) \n",
    "    plt.xlabel('Wavelength [micron]')\n",
    "    plt.ylabel('Flux [mJy]')\n",
    "    \n",
    "plt.savefig('point_source_flux_conservation_modshep_all.pdf')"
   ]
  },
  {
   "cell_type": "markdown",
   "metadata": {},
   "source": [
    "#### Use WCS corrected mock files to test cube build.\n",
    "#### cube_testing.json file looks like the following:\n",
    "\n",
    "#### {\"asn_rule\": \"Asn_MIRIFU_Dither\", \n",
    "#### \"targname\": \"MYTarget\", \n",
    "#### \"asn_pool\": \"jw00024_001_01_pool\", \n",
    "#### \"program\": \"0001\",\n",
    "#### \"asn_type\":\"dither\",\n",
    "#### \"asn_id\": \"a3001\",\n",
    "#### \"target\": \"1\",\n",
    "#### \"products\": [ {\"name\": \"det_image\", \n",
    "#### \"members\": [ {\"exptype\": \"SCIENCE\", \"expname\": \"mock12A-00_assignwcsstep.fits\"}, \n",
    "#### {\"exptype\": \"SCIENCE\", \"expname\": \"mock12A-01_assignwcsstep.fits\"} ] } ] }\n",
    "\n",
    "#### result=CubeBuildStep.call('cube_testing.json',save_results=True) (this will run each channel/band individually)\n",
    "#### result=CubeBuildStep.call('cube_testing.json',save_results=True, --output_type=multi) (this will make one cube as the final output)"
   ]
  },
  {
   "cell_type": "code",
   "execution_count": 8,
   "metadata": {
    "execution": {
     "iopub.execute_input": "2022-10-05T02:38:02.158886Z",
     "iopub.status.busy": "2022-10-05T02:38:02.158608Z",
     "iopub.status.idle": "2022-10-05T02:40:39.339997Z",
     "shell.execute_reply": "2022-10-05T02:40:39.339233Z"
    }
   },
   "outputs": [
    {
     "name": "stderr",
     "output_type": "stream",
     "text": [
      "2022-10-04 22:38:16,468 - stpipe.CubeBuildStep - INFO - CubeBuildStep instance created.\n"
     ]
    },
    {
     "name": "stderr",
     "output_type": "stream",
     "text": [
      "2022-10-04 22:38:17,035 - stpipe.CubeBuildStep - INFO - Step CubeBuildStep running with args ('cube_testing.json',).\n"
     ]
    },
    {
     "name": "stderr",
     "output_type": "stream",
     "text": [
      "2022-10-04 22:38:17,037 - stpipe.CubeBuildStep - INFO - Step CubeBuildStep parameters are: {'pre_hooks': [], 'post_hooks': [], 'output_file': None, 'output_dir': None, 'output_ext': '.fits', 'output_use_model': True, 'output_use_index': True, 'save_results': True, 'skip': False, 'suffix': None, 'search_output_file': False, 'input_dir': '', 'channel': 'all', 'band': 'all', 'grating': 'all', 'filter': 'all', 'output_type': 'band', 'scale1': 0.0, 'scale2': 0.0, 'scalew': 0.0, 'weighting': 'drizzle', 'coord_system': 'skyalign', 'rois': 0.0, 'roiw': 0.0, 'weight_power': 2.0, 'wavemin': None, 'wavemax': None, 'single': False, 'skip_dqflagging': False}\n"
     ]
    },
    {
     "name": "stderr",
     "output_type": "stream",
     "text": [
      "2022-10-04 22:38:17,038 - stpipe.CubeBuildStep - INFO - Starting IFU Cube Building Step\n"
     ]
    },
    {
     "name": "stderr",
     "output_type": "stream",
     "text": [
      "2022-10-04 22:38:17,038 - stpipe.CubeBuildStep - INFO - Input interpolation: drizzle\n"
     ]
    },
    {
     "name": "stderr",
     "output_type": "stream",
     "text": [
      "2022-10-04 22:38:17,039 - stpipe.CubeBuildStep - INFO - Coordinate system to use: skyalign\n"
     ]
    },
    {
     "name": "stderr",
     "output_type": "stream",
     "text": [
      "2022-10-04 22:38:32,075 - stpipe.CubeBuildStep - INFO - The desired cubes cover the MIRI Channels: ['1', '1', '1', '2', '2', '2', '3', '3', '3', '4', '4', '4']\n"
     ]
    },
    {
     "name": "stderr",
     "output_type": "stream",
     "text": [
      "2022-10-04 22:38:32,075 - stpipe.CubeBuildStep - INFO - The desired cubes cover the MIRI subchannels: ['short', 'medium', 'long', 'short', 'medium', 'long', 'short', 'medium', 'long', 'short', 'medium', 'long']\n"
     ]
    },
    {
     "name": "stderr",
     "output_type": "stream",
     "text": [
      "2022-10-04 22:38:32,076 - stpipe.CubeBuildStep - INFO - Reading cube parameter file /grp/crds/cache/references/jwst/jwst_miri_cubepar_0006.fits\n"
     ]
    },
    {
     "name": "stderr",
     "output_type": "stream",
     "text": [
      "2022-10-04 22:38:32,482 - stpipe.CubeBuildStep - INFO - Output Cubes are single channel, single sub-channel IFU Cubes\n"
     ]
    },
    {
     "name": "stderr",
     "output_type": "stream",
     "text": [
      "2022-10-04 22:38:32,483 - stpipe.CubeBuildStep - INFO - Number of IFU cubes produced by this run = 12\n"
     ]
    },
    {
     "name": "stderr",
     "output_type": "stream",
     "text": [
      "2022-10-04 22:38:32,487 - stpipe.CubeBuildStep - INFO - Increasing spatial region of interest default value set for 4 dithers nan\n"
     ]
    },
    {
     "name": "stderr",
     "output_type": "stream",
     "text": [
      "2022-10-04 22:38:32,488 - stpipe.CubeBuildStep - INFO - Mapping all pixels to output to determine IFU foot print\n"
     ]
    },
    {
     "name": "stderr",
     "output_type": "stream",
     "text": [
      "2022-10-04 22:38:32,798 - stpipe.CubeBuildStep - INFO - Mapping all pixels to output to determine IFU foot print\n"
     ]
    },
    {
     "name": "stderr",
     "output_type": "stream",
     "text": [
      "2022-10-04 22:38:33,066 - stpipe.CubeBuildStep - INFO - Cube Geometry:\n"
     ]
    },
    {
     "name": "stderr",
     "output_type": "stream",
     "text": [
      "2022-10-04 22:38:33,067 - stpipe.CubeBuildStep - INFO - axis#  Naxis  CRPIX    CRVAL      CDELT(arcsec)  Min & Max (xi, eta arcsec)\n"
     ]
    },
    {
     "name": "stderr",
     "output_type": "stream",
     "text": [
      "2022-10-04 22:38:33,067 - stpipe.CubeBuildStep - INFO - Axis 1    47  24.00  45.00000863   0.13000000  -3.05499989   3.05499989\n"
     ]
    },
    {
     "name": "stderr",
     "output_type": "stream",
     "text": [
      "2022-10-04 22:38:33,067 - stpipe.CubeBuildStep - INFO - Axis 2    39  20.00   0.00001388   0.13000000  -2.53499991   2.53499991\n"
     ]
    },
    {
     "name": "stderr",
     "output_type": "stream",
     "text": [
      "2022-10-04 22:38:33,068 - stpipe.CubeBuildStep - INFO - axis#  Naxis  CRPIX    CRVAL      CDELT(microns)  Min & Max (microns)\n"
     ]
    },
    {
     "name": "stderr",
     "output_type": "stream",
     "text": [
      "2022-10-04 22:38:33,068 - stpipe.CubeBuildStep - INFO - Axis 3   850   1.00   4.89049987   0.00100000   4.88999987   5.73999991\n"
     ]
    },
    {
     "name": "stderr",
     "output_type": "stream",
     "text": [
      "2022-10-04 22:38:33,068 - stpipe.CubeBuildStep - INFO - Cube covers channel, subchannel: 1, short\n"
     ]
    },
    {
     "name": "stderr",
     "output_type": "stream",
     "text": [
      "2022-10-04 22:38:33,069 - stpipe.CubeBuildStep - INFO - Subchannel listing: ['short']\n"
     ]
    },
    {
     "name": "stderr",
     "output_type": "stream",
     "text": [
      "2022-10-04 22:38:33,069 - stpipe.CubeBuildStep - INFO - Output Name: det_image_ch1-short_s3d.fits\n"
     ]
    },
    {
     "name": "stderr",
     "output_type": "stream",
     "text": [
      "2022-10-04 22:38:34,451 - stpipe.CubeBuildStep - INFO - # of detector pixels not mapped to output plane: 6238 with wavelength below 4.888492257677323\n"
     ]
    },
    {
     "name": "stderr",
     "output_type": "stream",
     "text": [
      "2022-10-04 22:38:34,452 - stpipe.CubeBuildStep - INFO - # of detector pixels not mapped to output plane: 11350 with wavelength above 5.741507515666702\n"
     ]
    },
    {
     "name": "stderr",
     "output_type": "stream",
     "text": [
      "2022-10-04 22:38:38,842 - stpipe.CubeBuildStep - INFO - # of detector pixels not mapped to output plane: 6238 with wavelength below 4.888492257677323\n"
     ]
    },
    {
     "name": "stderr",
     "output_type": "stream",
     "text": [
      "2022-10-04 22:38:38,843 - stpipe.CubeBuildStep - INFO - # of detector pixels not mapped to output plane: 11350 with wavelength above 5.741507515666702\n"
     ]
    },
    {
     "name": "stderr",
     "output_type": "stream",
     "text": [
      "2022-10-04 22:38:41,869 - stpipe.CubeBuildStep - INFO - Average # of holes/wavelength plane is < 1\n"
     ]
    },
    {
     "name": "stderr",
     "output_type": "stream",
     "text": [
      "2022-10-04 22:38:41,870 - stpipe.CubeBuildStep - INFO - Total # of holes for IFU cube is : 0\n"
     ]
    },
    {
     "name": "stderr",
     "output_type": "stream",
     "text": [
      "2022-10-04 22:38:41,875 - stpipe.CubeBuildStep - INFO - Number of spectral tear planes adjusted: 0\n"
     ]
    },
    {
     "name": "stderr",
     "output_type": "stream",
     "text": [
      "2022-10-04 22:38:43,471 - stpipe.CubeBuildStep - INFO - Increasing spatial region of interest default value set for 4 dithers nan\n"
     ]
    },
    {
     "name": "stderr",
     "output_type": "stream",
     "text": [
      "2022-10-04 22:38:43,472 - stpipe.CubeBuildStep - INFO - Mapping all pixels to output to determine IFU foot print\n"
     ]
    },
    {
     "name": "stderr",
     "output_type": "stream",
     "text": [
      "2022-10-04 22:38:43,735 - stpipe.CubeBuildStep - INFO - Mapping all pixels to output to determine IFU foot print\n"
     ]
    },
    {
     "name": "stderr",
     "output_type": "stream",
     "text": [
      "2022-10-04 22:38:44,004 - stpipe.CubeBuildStep - INFO - Cube Geometry:\n"
     ]
    },
    {
     "name": "stderr",
     "output_type": "stream",
     "text": [
      "2022-10-04 22:38:44,004 - stpipe.CubeBuildStep - INFO - axis#  Naxis  CRPIX    CRVAL      CDELT(arcsec)  Min & Max (xi, eta arcsec)\n"
     ]
    },
    {
     "name": "stderr",
     "output_type": "stream",
     "text": [
      "2022-10-04 22:38:44,005 - stpipe.CubeBuildStep - INFO - Axis 1    47  24.00  45.00001730   0.13000000  -3.05499989   3.05499989\n"
     ]
    },
    {
     "name": "stderr",
     "output_type": "stream",
     "text": [
      "2022-10-04 22:38:44,005 - stpipe.CubeBuildStep - INFO - Axis 2    39  20.00  -0.00002977   0.13000000  -2.53499991   2.53499991\n"
     ]
    },
    {
     "name": "stderr",
     "output_type": "stream",
     "text": [
      "2022-10-04 22:38:44,006 - stpipe.CubeBuildStep - INFO - axis#  Naxis  CRPIX    CRVAL      CDELT(microns)  Min & Max (microns)\n"
     ]
    },
    {
     "name": "stderr",
     "output_type": "stream",
     "text": [
      "2022-10-04 22:38:44,006 - stpipe.CubeBuildStep - INFO - Axis 3   980   1.00   5.64049987   0.00100000   5.63999987   6.61999991\n"
     ]
    },
    {
     "name": "stderr",
     "output_type": "stream",
     "text": [
      "2022-10-04 22:38:44,006 - stpipe.CubeBuildStep - INFO - Cube covers channel, subchannel: 1, medium\n"
     ]
    },
    {
     "name": "stderr",
     "output_type": "stream",
     "text": [
      "2022-10-04 22:38:44,007 - stpipe.CubeBuildStep - INFO - Subchannel listing: ['medium']\n"
     ]
    },
    {
     "name": "stderr",
     "output_type": "stream",
     "text": [
      "2022-10-04 22:38:44,007 - stpipe.CubeBuildStep - INFO - Output Name: det_image_ch1-medium_s3d.fits\n"
     ]
    },
    {
     "name": "stderr",
     "output_type": "stream",
     "text": [
      "2022-10-04 22:38:45,355 - stpipe.CubeBuildStep - INFO - # of detector pixels not mapped to output plane: 6009 with wavelength below 5.638347348825932\n"
     ]
    },
    {
     "name": "stderr",
     "output_type": "stream",
     "text": [
      "2022-10-04 22:38:45,356 - stpipe.CubeBuildStep - INFO - # of detector pixels not mapped to output plane: 10863 with wavelength above 6.6216524306927615\n"
     ]
    },
    {
     "name": "stderr",
     "output_type": "stream",
     "text": [
      "2022-10-04 22:38:49,929 - stpipe.CubeBuildStep - INFO - # of detector pixels not mapped to output plane: 6009 with wavelength below 5.638347348825932\n"
     ]
    },
    {
     "name": "stderr",
     "output_type": "stream",
     "text": [
      "2022-10-04 22:38:49,930 - stpipe.CubeBuildStep - INFO - # of detector pixels not mapped to output plane: 10863 with wavelength above 6.6216524306927615\n"
     ]
    },
    {
     "name": "stderr",
     "output_type": "stream",
     "text": [
      "2022-10-04 22:38:53,200 - stpipe.CubeBuildStep - INFO - Average # of holes/wavelength plane is < 1\n"
     ]
    },
    {
     "name": "stderr",
     "output_type": "stream",
     "text": [
      "2022-10-04 22:38:53,201 - stpipe.CubeBuildStep - INFO - Total # of holes for IFU cube is : 0\n"
     ]
    },
    {
     "name": "stderr",
     "output_type": "stream",
     "text": [
      "2022-10-04 22:38:53,207 - stpipe.CubeBuildStep - INFO - Number of spectral tear planes adjusted: 0\n"
     ]
    },
    {
     "name": "stderr",
     "output_type": "stream",
     "text": [
      "2022-10-04 22:38:55,394 - stpipe.CubeBuildStep - INFO - Increasing spatial region of interest default value set for 4 dithers nan\n"
     ]
    },
    {
     "name": "stderr",
     "output_type": "stream",
     "text": [
      "2022-10-04 22:38:55,394 - stpipe.CubeBuildStep - INFO - Mapping all pixels to output to determine IFU foot print\n"
     ]
    },
    {
     "name": "stderr",
     "output_type": "stream",
     "text": [
      "2022-10-04 22:38:55,656 - stpipe.CubeBuildStep - INFO - Mapping all pixels to output to determine IFU foot print\n"
     ]
    },
    {
     "name": "stderr",
     "output_type": "stream",
     "text": [
      "2022-10-04 22:38:55,926 - stpipe.CubeBuildStep - INFO - Cube Geometry:\n"
     ]
    },
    {
     "name": "stderr",
     "output_type": "stream",
     "text": [
      "2022-10-04 22:38:55,927 - stpipe.CubeBuildStep - INFO - axis#  Naxis  CRPIX    CRVAL      CDELT(arcsec)  Min & Max (xi, eta arcsec)\n"
     ]
    },
    {
     "name": "stderr",
     "output_type": "stream",
     "text": [
      "2022-10-04 22:38:55,927 - stpipe.CubeBuildStep - INFO - Axis 1    45  23.00  45.00001614   0.13000000  -2.92499989   2.92499989\n"
     ]
    },
    {
     "name": "stderr",
     "output_type": "stream",
     "text": [
      "2022-10-04 22:38:55,927 - stpipe.CubeBuildStep - INFO - Axis 2    39  20.00   0.00005461   0.13000000  -2.53499991   2.53499991\n"
     ]
    },
    {
     "name": "stderr",
     "output_type": "stream",
     "text": [
      "2022-10-04 22:38:55,928 - stpipe.CubeBuildStep - INFO - axis#  Naxis  CRPIX    CRVAL      CDELT(microns)  Min & Max (microns)\n"
     ]
    },
    {
     "name": "stderr",
     "output_type": "stream",
     "text": [
      "2022-10-04 22:38:55,928 - stpipe.CubeBuildStep - INFO - Axis 3  1091   1.00   6.42050008   0.00100000   6.42000008   7.51100013\n"
     ]
    },
    {
     "name": "stderr",
     "output_type": "stream",
     "text": [
      "2022-10-04 22:38:55,928 - stpipe.CubeBuildStep - INFO - Cube covers channel, subchannel: 1, long\n"
     ]
    },
    {
     "name": "stderr",
     "output_type": "stream",
     "text": [
      "2022-10-04 22:38:55,929 - stpipe.CubeBuildStep - INFO - Subchannel listing: ['long']\n"
     ]
    },
    {
     "name": "stderr",
     "output_type": "stream",
     "text": [
      "2022-10-04 22:38:55,929 - stpipe.CubeBuildStep - INFO - Output Name: det_image_ch1-long_s3d.fits\n"
     ]
    },
    {
     "name": "stderr",
     "output_type": "stream",
     "text": [
      "2022-10-04 22:38:57,232 - stpipe.CubeBuildStep - INFO - # of detector pixels not mapped to output plane: 7328 with wavelength below 6.418208224695982\n"
     ]
    },
    {
     "name": "stderr",
     "output_type": "stream",
     "text": [
      "2022-10-04 22:38:57,233 - stpipe.CubeBuildStep - INFO - # of detector pixels not mapped to output plane: 10658 with wavelength above 7.512791979711628\n"
     ]
    },
    {
     "name": "stderr",
     "output_type": "stream",
     "text": [
      "2022-10-04 22:39:01,983 - stpipe.CubeBuildStep - INFO - # of detector pixels not mapped to output plane: 7328 with wavelength below 6.418208224695982\n"
     ]
    },
    {
     "name": "stderr",
     "output_type": "stream",
     "text": [
      "2022-10-04 22:39:01,984 - stpipe.CubeBuildStep - INFO - # of detector pixels not mapped to output plane: 10658 with wavelength above 7.512791979711628\n"
     ]
    },
    {
     "name": "stderr",
     "output_type": "stream",
     "text": [
      "2022-10-04 22:39:05,456 - stpipe.CubeBuildStep - INFO - Average # of holes/wavelength plane is < 1\n"
     ]
    },
    {
     "name": "stderr",
     "output_type": "stream",
     "text": [
      "2022-10-04 22:39:05,457 - stpipe.CubeBuildStep - INFO - Total # of holes for IFU cube is : 0\n"
     ]
    },
    {
     "name": "stderr",
     "output_type": "stream",
     "text": [
      "2022-10-04 22:39:05,463 - stpipe.CubeBuildStep - INFO - Number of spectral tear planes adjusted: 0\n"
     ]
    },
    {
     "name": "stderr",
     "output_type": "stream",
     "text": [
      "2022-10-04 22:39:07,085 - stpipe.CubeBuildStep - INFO - Increasing spatial region of interest default value set for 4 dithers nan\n"
     ]
    },
    {
     "name": "stderr",
     "output_type": "stream",
     "text": [
      "2022-10-04 22:39:07,087 - stpipe.CubeBuildStep - INFO - Cube Geometry:\n"
     ]
    },
    {
     "name": "stderr",
     "output_type": "stream",
     "text": [
      "2022-10-04 22:39:07,088 - stpipe.CubeBuildStep - INFO - axis#  Naxis  CRPIX    CRVAL      CDELT(arcsec)  Min & Max (xi, eta arcsec)\n"
     ]
    },
    {
     "name": "stderr",
     "output_type": "stream",
     "text": [
      "2022-10-04 22:39:07,088 - stpipe.CubeBuildStep - INFO - Axis 1    41  21.00  45.00002674   0.17000000  -3.48500004   3.48500004\n"
     ]
    },
    {
     "name": "stderr",
     "output_type": "stream",
     "text": [
      "2022-10-04 22:39:07,089 - stpipe.CubeBuildStep - INFO - Axis 2    37  19.00  -0.00008455   0.17000000  -3.14500003   3.14500003\n"
     ]
    },
    {
     "name": "stderr",
     "output_type": "stream",
     "text": [
      "2022-10-04 22:39:07,089 - stpipe.CubeBuildStep - INFO - axis#  Naxis  CRPIX    CRVAL      CDELT(microns)  Min & Max (microns)\n"
     ]
    },
    {
     "name": "stderr",
     "output_type": "stream",
     "text": [
      "2022-10-04 22:39:07,089 - stpipe.CubeBuildStep - INFO - Axis 3   631   1.00   7.49099977   0.00200000   7.48999977   8.75199983\n"
     ]
    },
    {
     "name": "stderr",
     "output_type": "stream",
     "text": [
      "2022-10-04 22:39:07,089 - stpipe.CubeBuildStep - INFO - Cube covers channel, subchannel: 2, short\n"
     ]
    },
    {
     "name": "stderr",
     "output_type": "stream",
     "text": [
      "2022-10-04 22:39:07,090 - stpipe.CubeBuildStep - INFO - Subchannel listing: ['short']\n"
     ]
    },
    {
     "name": "stderr",
     "output_type": "stream",
     "text": [
      "2022-10-04 22:39:07,090 - stpipe.CubeBuildStep - INFO - Output Name: det_image_ch2-short_s3d.fits\n"
     ]
    },
    {
     "name": "stderr",
     "output_type": "stream",
     "text": [
      "2022-10-04 22:39:08,340 - stpipe.CubeBuildStep - INFO - # of detector pixels not mapped to output plane: 8974 with wavelength below 7.487483828407752\n"
     ]
    },
    {
     "name": "stderr",
     "output_type": "stream",
     "text": [
      "2022-10-04 22:39:08,341 - stpipe.CubeBuildStep - INFO - # of detector pixels not mapped to output plane: 13196 with wavelength above 8.75451577377036\n"
     ]
    },
    {
     "name": "stderr",
     "output_type": "stream",
     "text": [
      "2022-10-04 22:39:12,099 - stpipe.CubeBuildStep - INFO - # of detector pixels not mapped to output plane: 8974 with wavelength below 7.487483828407752\n"
     ]
    },
    {
     "name": "stderr",
     "output_type": "stream",
     "text": [
      "2022-10-04 22:39:12,100 - stpipe.CubeBuildStep - INFO - # of detector pixels not mapped to output plane: 13196 with wavelength above 8.75451577377036\n"
     ]
    },
    {
     "name": "stderr",
     "output_type": "stream",
     "text": [
      "2022-10-04 22:39:14,591 - stpipe.CubeBuildStep - INFO - Average # of holes/wavelength plane is < 1\n"
     ]
    },
    {
     "name": "stderr",
     "output_type": "stream",
     "text": [
      "2022-10-04 22:39:14,592 - stpipe.CubeBuildStep - INFO - Total # of holes for IFU cube is : 0\n"
     ]
    },
    {
     "name": "stderr",
     "output_type": "stream",
     "text": [
      "2022-10-04 22:39:14,596 - stpipe.CubeBuildStep - INFO - Number of spectral tear planes adjusted: 0\n"
     ]
    },
    {
     "name": "stderr",
     "output_type": "stream",
     "text": [
      "2022-10-04 22:39:16,865 - stpipe.CubeBuildStep - INFO - Increasing spatial region of interest default value set for 4 dithers nan\n"
     ]
    },
    {
     "name": "stderr",
     "output_type": "stream",
     "text": [
      "2022-10-04 22:39:16,868 - stpipe.CubeBuildStep - INFO - Cube Geometry:\n"
     ]
    },
    {
     "name": "stderr",
     "output_type": "stream",
     "text": [
      "2022-10-04 22:39:16,868 - stpipe.CubeBuildStep - INFO - axis#  Naxis  CRPIX    CRVAL      CDELT(arcsec)  Min & Max (xi, eta arcsec)\n"
     ]
    },
    {
     "name": "stderr",
     "output_type": "stream",
     "text": [
      "2022-10-04 22:39:16,869 - stpipe.CubeBuildStep - INFO - Axis 1    41  21.00  44.99999770   0.17000000  -3.48500004   3.48500004\n"
     ]
    },
    {
     "name": "stderr",
     "output_type": "stream",
     "text": [
      "2022-10-04 22:39:16,869 - stpipe.CubeBuildStep - INFO - Axis 2    37  19.00  -0.00015869   0.17000000  -3.14500003   3.14500003\n"
     ]
    },
    {
     "name": "stderr",
     "output_type": "stream",
     "text": [
      "2022-10-04 22:39:16,869 - stpipe.CubeBuildStep - INFO - axis#  Naxis  CRPIX    CRVAL      CDELT(microns)  Min & Max (microns)\n"
     ]
    },
    {
     "name": "stderr",
     "output_type": "stream",
     "text": [
      "2022-10-04 22:39:16,870 - stpipe.CubeBuildStep - INFO - Axis 3   745   1.00   8.72100027   0.00200000   8.72000027  10.21000034\n"
     ]
    },
    {
     "name": "stderr",
     "output_type": "stream",
     "text": [
      "2022-10-04 22:39:16,870 - stpipe.CubeBuildStep - INFO - Cube covers channel, subchannel: 2, medium\n"
     ]
    },
    {
     "name": "stderr",
     "output_type": "stream",
     "text": [
      "2022-10-04 22:39:16,871 - stpipe.CubeBuildStep - INFO - Subchannel listing: ['medium']\n"
     ]
    },
    {
     "name": "stderr",
     "output_type": "stream",
     "text": [
      "2022-10-04 22:39:16,872 - stpipe.CubeBuildStep - INFO - Output Name: det_image_ch2-medium_s3d.fits\n"
     ]
    },
    {
     "name": "stderr",
     "output_type": "stream",
     "text": [
      "2022-10-04 22:39:18,124 - stpipe.CubeBuildStep - INFO - # of detector pixels not mapped to output plane: 7565 with wavelength below 8.71722180520571\n"
     ]
    },
    {
     "name": "stderr",
     "output_type": "stream",
     "text": [
      "2022-10-04 22:39:18,125 - stpipe.CubeBuildStep - INFO - # of detector pixels not mapped to output plane: 13952 with wavelength above 10.21277879962311\n"
     ]
    },
    {
     "name": "stderr",
     "output_type": "stream",
     "text": [
      "2022-10-04 22:39:22,142 - stpipe.CubeBuildStep - INFO - # of detector pixels not mapped to output plane: 7565 with wavelength below 8.71722180520571\n"
     ]
    },
    {
     "name": "stderr",
     "output_type": "stream",
     "text": [
      "2022-10-04 22:39:22,143 - stpipe.CubeBuildStep - INFO - # of detector pixels not mapped to output plane: 13952 with wavelength above 10.21277879962311\n"
     ]
    },
    {
     "name": "stderr",
     "output_type": "stream",
     "text": [
      "2022-10-04 22:39:24,864 - stpipe.CubeBuildStep - INFO - Average # of holes/wavelength plane is < 1\n"
     ]
    },
    {
     "name": "stderr",
     "output_type": "stream",
     "text": [
      "2022-10-04 22:39:24,865 - stpipe.CubeBuildStep - INFO - Total # of holes for IFU cube is : 0\n"
     ]
    },
    {
     "name": "stderr",
     "output_type": "stream",
     "text": [
      "2022-10-04 22:39:24,870 - stpipe.CubeBuildStep - INFO - Number of spectral tear planes adjusted: 0\n"
     ]
    },
    {
     "name": "stderr",
     "output_type": "stream",
     "text": [
      "2022-10-04 22:39:26,491 - stpipe.CubeBuildStep - INFO - Increasing spatial region of interest default value set for 4 dithers nan\n"
     ]
    },
    {
     "name": "stderr",
     "output_type": "stream",
     "text": [
      "2022-10-04 22:39:26,494 - stpipe.CubeBuildStep - INFO - Cube Geometry:\n"
     ]
    },
    {
     "name": "stderr",
     "output_type": "stream",
     "text": [
      "2022-10-04 22:39:26,494 - stpipe.CubeBuildStep - INFO - axis#  Naxis  CRPIX    CRVAL      CDELT(arcsec)  Min & Max (xi, eta arcsec)\n"
     ]
    },
    {
     "name": "stderr",
     "output_type": "stream",
     "text": [
      "2022-10-04 22:39:26,494 - stpipe.CubeBuildStep - INFO - Axis 1    41  21.00  45.00005443   0.17000000  -3.48500004   3.48500004\n"
     ]
    },
    {
     "name": "stderr",
     "output_type": "stream",
     "text": [
      "2022-10-04 22:39:26,495 - stpipe.CubeBuildStep - INFO - Axis 2    37  19.00  -0.00010518   0.17000000  -3.14500003   3.14500003\n"
     ]
    },
    {
     "name": "stderr",
     "output_type": "stream",
     "text": [
      "2022-10-04 22:39:26,495 - stpipe.CubeBuildStep - INFO - axis#  Naxis  CRPIX    CRVAL      CDELT(microns)  Min & Max (microns)\n"
     ]
    },
    {
     "name": "stderr",
     "output_type": "stream",
     "text": [
      "2022-10-04 22:39:26,495 - stpipe.CubeBuildStep - INFO - Axis 3   855   1.00  10.03099973   0.00200000  10.02999973  11.73999981\n"
     ]
    },
    {
     "name": "stderr",
     "output_type": "stream",
     "text": [
      "2022-10-04 22:39:26,496 - stpipe.CubeBuildStep - INFO - Cube covers channel, subchannel: 2, long\n"
     ]
    },
    {
     "name": "stderr",
     "output_type": "stream",
     "text": [
      "2022-10-04 22:39:26,496 - stpipe.CubeBuildStep - INFO - Subchannel listing: ['long']\n"
     ]
    },
    {
     "name": "stderr",
     "output_type": "stream",
     "text": [
      "2022-10-04 22:39:26,496 - stpipe.CubeBuildStep - INFO - Output Name: det_image_ch2-long_s3d.fits\n"
     ]
    },
    {
     "name": "stderr",
     "output_type": "stream",
     "text": [
      "2022-10-04 22:39:27,784 - stpipe.CubeBuildStep - INFO - # of detector pixels not mapped to output plane: 8038 with wavelength below 10.026963972583347\n"
     ]
    },
    {
     "name": "stderr",
     "output_type": "stream",
     "text": [
      "2022-10-04 22:39:27,785 - stpipe.CubeBuildStep - INFO - # of detector pixels not mapped to output plane: 11926 with wavelength above 11.743035574579677\n"
     ]
    },
    {
     "name": "stderr",
     "output_type": "stream",
     "text": [
      "2022-10-04 22:39:31,901 - stpipe.CubeBuildStep - INFO - # of detector pixels not mapped to output plane: 8038 with wavelength below 10.026963972583347\n"
     ]
    },
    {
     "name": "stderr",
     "output_type": "stream",
     "text": [
      "2022-10-04 22:39:31,902 - stpipe.CubeBuildStep - INFO - # of detector pixels not mapped to output plane: 11926 with wavelength above 11.743035574579677\n"
     ]
    },
    {
     "name": "stderr",
     "output_type": "stream",
     "text": [
      "2022-10-04 22:39:34,825 - stpipe.CubeBuildStep - INFO - Average # of holes/wavelength plane is < 1\n"
     ]
    },
    {
     "name": "stderr",
     "output_type": "stream",
     "text": [
      "2022-10-04 22:39:34,825 - stpipe.CubeBuildStep - INFO - Total # of holes for IFU cube is : 0\n"
     ]
    },
    {
     "name": "stderr",
     "output_type": "stream",
     "text": [
      "2022-10-04 22:39:34,830 - stpipe.CubeBuildStep - INFO - Number of spectral tear planes adjusted: 0\n"
     ]
    },
    {
     "name": "stderr",
     "output_type": "stream",
     "text": [
      "2022-10-04 22:39:36,419 - stpipe.CubeBuildStep - INFO - Increasing spatial region of interest default value set for 4 dithers nan\n"
     ]
    },
    {
     "name": "stderr",
     "output_type": "stream",
     "text": [
      "2022-10-04 22:39:36,420 - stpipe.CubeBuildStep - INFO - Mapping all pixels to output to determine IFU foot print\n"
     ]
    },
    {
     "name": "stderr",
     "output_type": "stream",
     "text": [
      "2022-10-04 22:39:36,683 - stpipe.CubeBuildStep - INFO - Mapping all pixels to output to determine IFU foot print\n"
     ]
    },
    {
     "name": "stderr",
     "output_type": "stream",
     "text": [
      "2022-10-04 22:39:36,944 - stpipe.CubeBuildStep - INFO - Cube Geometry:\n"
     ]
    },
    {
     "name": "stderr",
     "output_type": "stream",
     "text": [
      "2022-10-04 22:39:36,945 - stpipe.CubeBuildStep - INFO - axis#  Naxis  CRPIX    CRVAL      CDELT(arcsec)  Min & Max (xi, eta arcsec)\n"
     ]
    },
    {
     "name": "stderr",
     "output_type": "stream",
     "text": [
      "2022-10-04 22:39:36,945 - stpipe.CubeBuildStep - INFO - Axis 1    47  24.00  44.99984963   0.20000000  -4.70000007   4.70000007\n"
     ]
    },
    {
     "name": "stderr",
     "output_type": "stream",
     "text": [
      "2022-10-04 22:39:36,946 - stpipe.CubeBuildStep - INFO - Axis 2    39  20.00  -0.00002283   0.20000000  -3.90000006   3.90000006\n"
     ]
    },
    {
     "name": "stderr",
     "output_type": "stream",
     "text": [
      "2022-10-04 22:39:36,946 - stpipe.CubeBuildStep - INFO - axis#  Naxis  CRPIX    CRVAL      CDELT(microns)  Min & Max (microns)\n"
     ]
    },
    {
     "name": "stderr",
     "output_type": "stream",
     "text": [
      "2022-10-04 22:39:36,946 - stpipe.CubeBuildStep - INFO - Axis 3   647   1.00  11.53149973   0.00300000  11.52999973  13.47099975\n"
     ]
    },
    {
     "name": "stderr",
     "output_type": "stream",
     "text": [
      "2022-10-04 22:39:36,947 - stpipe.CubeBuildStep - INFO - Cube covers channel, subchannel: 3, short\n"
     ]
    },
    {
     "name": "stderr",
     "output_type": "stream",
     "text": [
      "2022-10-04 22:39:36,947 - stpipe.CubeBuildStep - INFO - Subchannel listing: ['short']\n"
     ]
    },
    {
     "name": "stderr",
     "output_type": "stream",
     "text": [
      "2022-10-04 22:39:36,947 - stpipe.CubeBuildStep - INFO - Output Name: det_image_ch3-short_s3d.fits\n"
     ]
    },
    {
     "name": "stderr",
     "output_type": "stream",
     "text": [
      "2022-10-04 22:39:38,204 - stpipe.CubeBuildStep - INFO - # of detector pixels not mapped to output plane: 7400 with wavelength below 11.526153960059055\n"
     ]
    },
    {
     "name": "stderr",
     "output_type": "stream",
     "text": [
      "2022-10-04 22:39:38,205 - stpipe.CubeBuildStep - INFO - # of detector pixels not mapped to output plane: 13135 with wavelength above 13.474845522755167\n"
     ]
    },
    {
     "name": "stderr",
     "output_type": "stream",
     "text": [
      "2022-10-04 22:39:42,453 - stpipe.CubeBuildStep - INFO - # of detector pixels not mapped to output plane: 7400 with wavelength below 11.526153960059055\n"
     ]
    },
    {
     "name": "stderr",
     "output_type": "stream",
     "text": [
      "2022-10-04 22:39:42,454 - stpipe.CubeBuildStep - INFO - # of detector pixels not mapped to output plane: 13135 with wavelength above 13.474845522755167\n"
     ]
    },
    {
     "name": "stderr",
     "output_type": "stream",
     "text": [
      "2022-10-04 22:39:45,432 - stpipe.CubeBuildStep - INFO - Average # of holes/wavelength plane is < 1\n"
     ]
    },
    {
     "name": "stderr",
     "output_type": "stream",
     "text": [
      "2022-10-04 22:39:45,433 - stpipe.CubeBuildStep - INFO - Total # of holes for IFU cube is : 0\n"
     ]
    },
    {
     "name": "stderr",
     "output_type": "stream",
     "text": [
      "2022-10-04 22:39:45,437 - stpipe.CubeBuildStep - INFO - Number of spectral tear planes adjusted: 0\n"
     ]
    },
    {
     "name": "stderr",
     "output_type": "stream",
     "text": [
      "2022-10-04 22:39:47,549 - stpipe.CubeBuildStep - INFO - Increasing spatial region of interest default value set for 4 dithers nan\n"
     ]
    },
    {
     "name": "stderr",
     "output_type": "stream",
     "text": [
      "2022-10-04 22:39:47,550 - stpipe.CubeBuildStep - INFO - Mapping all pixels to output to determine IFU foot print\n"
     ]
    },
    {
     "name": "stderr",
     "output_type": "stream",
     "text": [
      "2022-10-04 22:39:47,806 - stpipe.CubeBuildStep - INFO - Mapping all pixels to output to determine IFU foot print\n"
     ]
    },
    {
     "name": "stderr",
     "output_type": "stream",
     "text": [
      "2022-10-04 22:39:48,071 - stpipe.CubeBuildStep - INFO - Cube Geometry:\n"
     ]
    },
    {
     "name": "stderr",
     "output_type": "stream",
     "text": [
      "2022-10-04 22:39:48,072 - stpipe.CubeBuildStep - INFO - axis#  Naxis  CRPIX    CRVAL      CDELT(arcsec)  Min & Max (xi, eta arcsec)\n"
     ]
    },
    {
     "name": "stderr",
     "output_type": "stream",
     "text": [
      "2022-10-04 22:39:48,072 - stpipe.CubeBuildStep - INFO - Axis 1    45  23.00  44.99992200   0.20000000  -4.50000007   4.50000007\n"
     ]
    },
    {
     "name": "stderr",
     "output_type": "stream",
     "text": [
      "2022-10-04 22:39:48,072 - stpipe.CubeBuildStep - INFO - Axis 2    39  20.00  -0.00007597   0.20000000  -3.90000006   3.90000006\n"
     ]
    },
    {
     "name": "stderr",
     "output_type": "stream",
     "text": [
      "2022-10-04 22:39:48,073 - stpipe.CubeBuildStep - INFO - axis#  Naxis  CRPIX    CRVAL      CDELT(microns)  Min & Max (microns)\n"
     ]
    },
    {
     "name": "stderr",
     "output_type": "stream",
     "text": [
      "2022-10-04 22:39:48,073 - stpipe.CubeBuildStep - INFO - Axis 3   754   1.00  13.37149989   0.00300000  13.36999989  15.63199991\n"
     ]
    },
    {
     "name": "stderr",
     "output_type": "stream",
     "text": [
      "2022-10-04 22:39:48,074 - stpipe.CubeBuildStep - INFO - Cube covers channel, subchannel: 3, medium\n"
     ]
    },
    {
     "name": "stderr",
     "output_type": "stream",
     "text": [
      "2022-10-04 22:39:48,074 - stpipe.CubeBuildStep - INFO - Subchannel listing: ['medium']\n"
     ]
    },
    {
     "name": "stderr",
     "output_type": "stream",
     "text": [
      "2022-10-04 22:39:48,075 - stpipe.CubeBuildStep - INFO - Output Name: det_image_ch3-medium_s3d.fits\n"
     ]
    },
    {
     "name": "stderr",
     "output_type": "stream",
     "text": [
      "2022-10-04 22:39:49,386 - stpipe.CubeBuildStep - INFO - # of detector pixels not mapped to output plane: 6595 with wavelength below 13.365777551301173\n"
     ]
    },
    {
     "name": "stderr",
     "output_type": "stream",
     "text": [
      "2022-10-04 22:39:49,387 - stpipe.CubeBuildStep - INFO - # of detector pixels not mapped to output plane: 12343 with wavelength above 15.636222239479073\n"
     ]
    },
    {
     "name": "stderr",
     "output_type": "stream",
     "text": [
      "2022-10-04 22:39:53,809 - stpipe.CubeBuildStep - INFO - # of detector pixels not mapped to output plane: 6595 with wavelength below 13.365777551301173\n"
     ]
    },
    {
     "name": "stderr",
     "output_type": "stream",
     "text": [
      "2022-10-04 22:39:53,810 - stpipe.CubeBuildStep - INFO - # of detector pixels not mapped to output plane: 12343 with wavelength above 15.636222239479073\n"
     ]
    },
    {
     "name": "stderr",
     "output_type": "stream",
     "text": [
      "2022-10-04 22:39:56,998 - stpipe.CubeBuildStep - INFO - Average # of holes/wavelength plane is < 1\n"
     ]
    },
    {
     "name": "stderr",
     "output_type": "stream",
     "text": [
      "2022-10-04 22:39:56,999 - stpipe.CubeBuildStep - INFO - Total # of holes for IFU cube is : 0\n"
     ]
    },
    {
     "name": "stderr",
     "output_type": "stream",
     "text": [
      "2022-10-04 22:39:57,004 - stpipe.CubeBuildStep - INFO - Number of spectral tear planes adjusted: 0\n"
     ]
    },
    {
     "name": "stderr",
     "output_type": "stream",
     "text": [
      "2022-10-04 22:39:58,363 - stpipe.CubeBuildStep - INFO - Increasing spatial region of interest default value set for 4 dithers nan\n"
     ]
    },
    {
     "name": "stderr",
     "output_type": "stream",
     "text": [
      "2022-10-04 22:39:58,364 - stpipe.CubeBuildStep - INFO - Mapping all pixels to output to determine IFU foot print\n"
     ]
    },
    {
     "name": "stderr",
     "output_type": "stream",
     "text": [
      "2022-10-04 22:39:58,627 - stpipe.CubeBuildStep - INFO - Mapping all pixels to output to determine IFU foot print\n"
     ]
    },
    {
     "name": "stderr",
     "output_type": "stream",
     "text": [
      "2022-10-04 22:39:58,886 - stpipe.CubeBuildStep - INFO - Cube Geometry:\n"
     ]
    },
    {
     "name": "stderr",
     "output_type": "stream",
     "text": [
      "2022-10-04 22:39:58,887 - stpipe.CubeBuildStep - INFO - axis#  Naxis  CRPIX    CRVAL      CDELT(arcsec)  Min & Max (xi, eta arcsec)\n"
     ]
    },
    {
     "name": "stderr",
     "output_type": "stream",
     "text": [
      "2022-10-04 22:39:58,887 - stpipe.CubeBuildStep - INFO - Axis 1    45  23.00  44.99989612   0.20000000  -4.50000007   4.50000007\n"
     ]
    },
    {
     "name": "stderr",
     "output_type": "stream",
     "text": [
      "2022-10-04 22:39:58,887 - stpipe.CubeBuildStep - INFO - Axis 2    39  20.00  -0.00007309   0.20000000  -3.90000006   3.90000006\n"
     ]
    },
    {
     "name": "stderr",
     "output_type": "stream",
     "text": [
      "2022-10-04 22:39:58,888 - stpipe.CubeBuildStep - INFO - axis#  Naxis  CRPIX    CRVAL      CDELT(microns)  Min & Max (microns)\n"
     ]
    },
    {
     "name": "stderr",
     "output_type": "stream",
     "text": [
      "2022-10-04 22:39:58,888 - stpipe.CubeBuildStep - INFO - Axis 3   870   1.00  15.44149958   0.00300000  15.43999958  18.04999960\n"
     ]
    },
    {
     "name": "stderr",
     "output_type": "stream",
     "text": [
      "2022-10-04 22:39:58,888 - stpipe.CubeBuildStep - INFO - Cube covers channel, subchannel: 3, long\n"
     ]
    },
    {
     "name": "stderr",
     "output_type": "stream",
     "text": [
      "2022-10-04 22:39:58,889 - stpipe.CubeBuildStep - INFO - Subchannel listing: ['long']\n"
     ]
    },
    {
     "name": "stderr",
     "output_type": "stream",
     "text": [
      "2022-10-04 22:39:58,889 - stpipe.CubeBuildStep - INFO - Output Name: det_image_ch3-long_s3d.fits\n"
     ]
    },
    {
     "name": "stderr",
     "output_type": "stream",
     "text": [
      "2022-10-04 22:40:00,164 - stpipe.CubeBuildStep - INFO - # of detector pixels not mapped to output plane: 6658 with wavelength below 15.435356269039774\n"
     ]
    },
    {
     "name": "stderr",
     "output_type": "stream",
     "text": [
      "2022-10-04 22:40:00,165 - stpipe.CubeBuildStep - INFO - # of detector pixels not mapped to output plane: 12425 with wavelength above 18.054642914413847\n"
     ]
    },
    {
     "name": "stderr",
     "output_type": "stream",
     "text": [
      "2022-10-04 22:40:04,782 - stpipe.CubeBuildStep - INFO - # of detector pixels not mapped to output plane: 6658 with wavelength below 15.435356269039774\n"
     ]
    },
    {
     "name": "stderr",
     "output_type": "stream",
     "text": [
      "2022-10-04 22:40:04,783 - stpipe.CubeBuildStep - INFO - # of detector pixels not mapped to output plane: 12425 with wavelength above 18.054642914413847\n"
     ]
    },
    {
     "name": "stderr",
     "output_type": "stream",
     "text": [
      "2022-10-04 22:40:08,180 - stpipe.CubeBuildStep - INFO - Average # of holes/wavelength plane is < 1\n"
     ]
    },
    {
     "name": "stderr",
     "output_type": "stream",
     "text": [
      "2022-10-04 22:40:08,181 - stpipe.CubeBuildStep - INFO - Total # of holes for IFU cube is : 0\n"
     ]
    },
    {
     "name": "stderr",
     "output_type": "stream",
     "text": [
      "2022-10-04 22:40:08,185 - stpipe.CubeBuildStep - INFO - Number of spectral tear planes adjusted: 0\n"
     ]
    },
    {
     "name": "stderr",
     "output_type": "stream",
     "text": [
      "2022-10-04 22:40:09,537 - stpipe.CubeBuildStep - INFO - Increasing spatial region of interest default value set for 4 dithers nan\n"
     ]
    },
    {
     "name": "stderr",
     "output_type": "stream",
     "text": [
      "2022-10-04 22:40:09,540 - stpipe.CubeBuildStep - INFO - Cube Geometry:\n"
     ]
    },
    {
     "name": "stderr",
     "output_type": "stream",
     "text": [
      "2022-10-04 22:40:09,540 - stpipe.CubeBuildStep - INFO - axis#  Naxis  CRPIX    CRVAL      CDELT(arcsec)  Min & Max (xi, eta arcsec)\n"
     ]
    },
    {
     "name": "stderr",
     "output_type": "stream",
     "text": [
      "2022-10-04 22:40:09,540 - stpipe.CubeBuildStep - INFO - Axis 1    33  17.00  45.00006788   0.34999999  -5.77499990   5.77499990\n"
     ]
    },
    {
     "name": "stderr",
     "output_type": "stream",
     "text": [
      "2022-10-04 22:40:09,541 - stpipe.CubeBuildStep - INFO - Axis 2    27  14.00  -0.00017228   0.34999999  -4.72499992   4.72499992\n"
     ]
    },
    {
     "name": "stderr",
     "output_type": "stream",
     "text": [
      "2022-10-04 22:40:09,541 - stpipe.CubeBuildStep - INFO - axis#  Naxis  CRPIX    CRVAL      CDELT(microns)  Min & Max (microns)\n"
     ]
    },
    {
     "name": "stderr",
     "output_type": "stream",
     "text": [
      "2022-10-04 22:40:09,541 - stpipe.CubeBuildStep - INFO - Axis 3   544   1.00  17.66299985   0.00600000  17.65999985  20.92399988\n"
     ]
    },
    {
     "name": "stderr",
     "output_type": "stream",
     "text": [
      "2022-10-04 22:40:09,542 - stpipe.CubeBuildStep - INFO - Cube covers channel, subchannel: 4, short\n"
     ]
    },
    {
     "name": "stderr",
     "output_type": "stream",
     "text": [
      "2022-10-04 22:40:09,542 - stpipe.CubeBuildStep - INFO - Subchannel listing: ['short']\n"
     ]
    },
    {
     "name": "stderr",
     "output_type": "stream",
     "text": [
      "2022-10-04 22:40:09,542 - stpipe.CubeBuildStep - INFO - Output Name: det_image_ch4-short_s3d.fits\n"
     ]
    },
    {
     "name": "stderr",
     "output_type": "stream",
     "text": [
      "2022-10-04 22:40:10,639 - stpipe.CubeBuildStep - INFO - # of detector pixels not mapped to output plane: 5418 with wavelength below 17.653196929000742\n"
     ]
    },
    {
     "name": "stderr",
     "output_type": "stream",
     "text": [
      "2022-10-04 22:40:10,640 - stpipe.CubeBuildStep - INFO - # of detector pixels not mapped to output plane: 6552 with wavelength above 20.930802794195287\n"
     ]
    },
    {
     "name": "stderr",
     "output_type": "stream",
     "text": [
      "2022-10-04 22:40:13,661 - stpipe.CubeBuildStep - INFO - # of detector pixels not mapped to output plane: 5418 with wavelength below 17.653196929000742\n"
     ]
    },
    {
     "name": "stderr",
     "output_type": "stream",
     "text": [
      "2022-10-04 22:40:13,662 - stpipe.CubeBuildStep - INFO - # of detector pixels not mapped to output plane: 6552 with wavelength above 20.930802794195287\n"
     ]
    },
    {
     "name": "stderr",
     "output_type": "stream",
     "text": [
      "2022-10-04 22:40:15,614 - stpipe.CubeBuildStep - INFO - Average # of holes/wavelength plane is < 1\n"
     ]
    },
    {
     "name": "stderr",
     "output_type": "stream",
     "text": [
      "2022-10-04 22:40:15,615 - stpipe.CubeBuildStep - INFO - Total # of holes for IFU cube is : 0\n"
     ]
    },
    {
     "name": "stderr",
     "output_type": "stream",
     "text": [
      "2022-10-04 22:40:15,618 - stpipe.CubeBuildStep - INFO - Number of spectral tear planes adjusted: 0\n"
     ]
    },
    {
     "name": "stderr",
     "output_type": "stream",
     "text": [
      "2022-10-04 22:40:17,678 - stpipe.CubeBuildStep - INFO - Increasing spatial region of interest default value set for 4 dithers nan\n"
     ]
    },
    {
     "name": "stderr",
     "output_type": "stream",
     "text": [
      "2022-10-04 22:40:17,680 - stpipe.CubeBuildStep - INFO - Cube Geometry:\n"
     ]
    },
    {
     "name": "stderr",
     "output_type": "stream",
     "text": [
      "2022-10-04 22:40:17,681 - stpipe.CubeBuildStep - INFO - axis#  Naxis  CRPIX    CRVAL      CDELT(arcsec)  Min & Max (xi, eta arcsec)\n"
     ]
    },
    {
     "name": "stderr",
     "output_type": "stream",
     "text": [
      "2022-10-04 22:40:17,681 - stpipe.CubeBuildStep - INFO - Axis 1    31  16.00  45.00009160   0.34999999  -5.42499991   5.42499991\n"
     ]
    },
    {
     "name": "stderr",
     "output_type": "stream",
     "text": [
      "2022-10-04 22:40:17,682 - stpipe.CubeBuildStep - INFO - Axis 2    27  14.00  -0.00015780   0.34999999  -4.72499992   4.72499992\n"
     ]
    },
    {
     "name": "stderr",
     "output_type": "stream",
     "text": [
      "2022-10-04 22:40:17,682 - stpipe.CubeBuildStep - INFO - axis#  Naxis  CRPIX    CRVAL      CDELT(microns)  Min & Max (microns)\n"
     ]
    },
    {
     "name": "stderr",
     "output_type": "stream",
     "text": [
      "2022-10-04 22:40:17,683 - stpipe.CubeBuildStep - INFO - Axis 3   631   1.00  20.42300008   0.00600000  20.42000008  24.20600011\n"
     ]
    },
    {
     "name": "stderr",
     "output_type": "stream",
     "text": [
      "2022-10-04 22:40:17,683 - stpipe.CubeBuildStep - INFO - Cube covers channel, subchannel: 4, medium\n"
     ]
    },
    {
     "name": "stderr",
     "output_type": "stream",
     "text": [
      "2022-10-04 22:40:17,684 - stpipe.CubeBuildStep - INFO - Subchannel listing: ['medium']\n"
     ]
    },
    {
     "name": "stderr",
     "output_type": "stream",
     "text": [
      "2022-10-04 22:40:17,684 - stpipe.CubeBuildStep - INFO - Output Name: det_image_ch4-medium_s3d.fits\n"
     ]
    },
    {
     "name": "stderr",
     "output_type": "stream",
     "text": [
      "2022-10-04 22:40:18,769 - stpipe.CubeBuildStep - INFO - # of detector pixels not mapped to output plane: 4183 with wavelength below 20.412622087316624\n"
     ]
    },
    {
     "name": "stderr",
     "output_type": "stream",
     "text": [
      "2022-10-04 22:40:18,770 - stpipe.CubeBuildStep - INFO - # of detector pixels not mapped to output plane: 6383 with wavelength above 24.21337809818048\n"
     ]
    },
    {
     "name": "stderr",
     "output_type": "stream",
     "text": [
      "2022-10-04 22:40:21,968 - stpipe.CubeBuildStep - INFO - # of detector pixels not mapped to output plane: 4183 with wavelength below 20.412622087316624\n"
     ]
    },
    {
     "name": "stderr",
     "output_type": "stream",
     "text": [
      "2022-10-04 22:40:21,970 - stpipe.CubeBuildStep - INFO - # of detector pixels not mapped to output plane: 6383 with wavelength above 24.21337809818048\n"
     ]
    },
    {
     "name": "stderr",
     "output_type": "stream",
     "text": [
      "2022-10-04 22:40:24,061 - stpipe.CubeBuildStep - INFO - Average # of holes/wavelength plane is < 1\n"
     ]
    },
    {
     "name": "stderr",
     "output_type": "stream",
     "text": [
      "2022-10-04 22:40:24,063 - stpipe.CubeBuildStep - INFO - Total # of holes for IFU cube is : 0\n"
     ]
    },
    {
     "name": "stderr",
     "output_type": "stream",
     "text": [
      "2022-10-04 22:40:24,066 - stpipe.CubeBuildStep - INFO - Number of spectral tear planes adjusted: 0\n"
     ]
    },
    {
     "name": "stderr",
     "output_type": "stream",
     "text": [
      "2022-10-04 22:40:25,416 - stpipe.CubeBuildStep - INFO - Increasing spatial region of interest default value set for 4 dithers nan\n"
     ]
    },
    {
     "name": "stderr",
     "output_type": "stream",
     "text": [
      "2022-10-04 22:40:25,419 - stpipe.CubeBuildStep - INFO - Cube Geometry:\n"
     ]
    },
    {
     "name": "stderr",
     "output_type": "stream",
     "text": [
      "2022-10-04 22:40:25,419 - stpipe.CubeBuildStep - INFO - axis#  Naxis  CRPIX    CRVAL      CDELT(arcsec)  Min & Max (xi, eta arcsec)\n"
     ]
    },
    {
     "name": "stderr",
     "output_type": "stream",
     "text": [
      "2022-10-04 22:40:25,420 - stpipe.CubeBuildStep - INFO - Axis 1    31  16.00  45.00008855   0.34999999  -5.42499991   5.42499991\n"
     ]
    },
    {
     "name": "stderr",
     "output_type": "stream",
     "text": [
      "2022-10-04 22:40:25,420 - stpipe.CubeBuildStep - INFO - Axis 2    27  14.00  -0.00012847   0.34999999  -4.72499992   4.72499992\n"
     ]
    },
    {
     "name": "stderr",
     "output_type": "stream",
     "text": [
      "2022-10-04 22:40:25,421 - stpipe.CubeBuildStep - INFO - axis#  Naxis  CRPIX    CRVAL      CDELT(microns)  Min & Max (microns)\n"
     ]
    },
    {
     "name": "stderr",
     "output_type": "stream",
     "text": [
      "2022-10-04 22:40:25,421 - stpipe.CubeBuildStep - INFO - Axis 3   737   1.00  23.89299939   0.00600000  23.88999939  28.31199943\n"
     ]
    },
    {
     "name": "stderr",
     "output_type": "stream",
     "text": [
      "2022-10-04 22:40:25,421 - stpipe.CubeBuildStep - INFO - Cube covers channel, subchannel: 4, long\n"
     ]
    },
    {
     "name": "stderr",
     "output_type": "stream",
     "text": [
      "2022-10-04 22:40:25,422 - stpipe.CubeBuildStep - INFO - Subchannel listing: ['long']\n"
     ]
    },
    {
     "name": "stderr",
     "output_type": "stream",
     "text": [
      "2022-10-04 22:40:25,422 - stpipe.CubeBuildStep - INFO - Output Name: det_image_ch4-long_s3d.fits\n"
     ]
    },
    {
     "name": "stderr",
     "output_type": "stream",
     "text": [
      "2022-10-04 22:40:26,475 - stpipe.CubeBuildStep - INFO - # of detector pixels not mapped to output plane: 4703 with wavelength below 23.881867805883093\n"
     ]
    },
    {
     "name": "stderr",
     "output_type": "stream",
     "text": [
      "2022-10-04 22:40:26,477 - stpipe.CubeBuildStep - INFO - # of detector pixels not mapped to output plane: 6683 with wavelength above 28.320131011851327\n"
     ]
    },
    {
     "name": "stderr",
     "output_type": "stream",
     "text": [
      "2022-10-04 22:40:29,765 - stpipe.CubeBuildStep - INFO - # of detector pixels not mapped to output plane: 4703 with wavelength below 23.881867805883093\n"
     ]
    },
    {
     "name": "stderr",
     "output_type": "stream",
     "text": [
      "2022-10-04 22:40:29,767 - stpipe.CubeBuildStep - INFO - # of detector pixels not mapped to output plane: 6683 with wavelength above 28.320131011851327\n"
     ]
    },
    {
     "name": "stderr",
     "output_type": "stream",
     "text": [
      "2022-10-04 22:40:32,015 - stpipe.CubeBuildStep - INFO - Average # of holes/wavelength plane is < 1\n"
     ]
    },
    {
     "name": "stderr",
     "output_type": "stream",
     "text": [
      "2022-10-04 22:40:32,016 - stpipe.CubeBuildStep - INFO - Total # of holes for IFU cube is : 0\n"
     ]
    },
    {
     "name": "stderr",
     "output_type": "stream",
     "text": [
      "2022-10-04 22:40:32,019 - stpipe.CubeBuildStep - INFO - Number of spectral tear planes adjusted: 0\n"
     ]
    },
    {
     "name": "stderr",
     "output_type": "stream",
     "text": [
      "2022-10-04 22:40:33,379 - stpipe.CubeBuildStep - INFO - Update S_REGION to POLYGON ICRS  44.999178072 -0.000672233 44.999178072 0.000699989 45.000839183 0.000699989 45.000839183 -0.000672233\n"
     ]
    },
    {
     "name": "stderr",
     "output_type": "stream",
     "text": [
      "2022-10-04 22:40:33,382 - stpipe.CubeBuildStep - INFO - Update S_REGION to POLYGON ICRS  44.999186747 -0.000715880 44.999186747 0.000656342 45.000847858 0.000656342 45.000847858 -0.000715880\n"
     ]
    },
    {
     "name": "stderr",
     "output_type": "stream",
     "text": [
      "2022-10-04 22:40:33,384 - stpipe.CubeBuildStep - INFO - Update S_REGION to POLYGON ICRS  44.999221692 -0.000631504 44.999221692 0.000740718 45.000810580 0.000740718 45.000810580 -0.000631504\n"
     ]
    },
    {
     "name": "stderr",
     "output_type": "stream",
     "text": [
      "2022-10-04 22:40:33,386 - stpipe.CubeBuildStep - INFO - Update S_REGION to POLYGON ICRS  44.999082299 -0.000934552 44.999082299 0.000765448 45.000971188 0.000765448 45.000971188 -0.000934552\n"
     ]
    },
    {
     "name": "stderr",
     "output_type": "stream",
     "text": [
      "2022-10-04 22:40:33,389 - stpipe.CubeBuildStep - INFO - Update S_REGION to POLYGON ICRS  44.999053255 -0.001008694 44.999053255 0.000691306 45.000942143 0.000691306 45.000942143 -0.001008694\n"
     ]
    },
    {
     "name": "stderr",
     "output_type": "stream",
     "text": [
      "2022-10-04 22:40:33,391 - stpipe.CubeBuildStep - INFO - Update S_REGION to POLYGON ICRS  44.999109985 -0.000955182 44.999109985 0.000744818 45.000998873 0.000744818 45.000998873 -0.000955182\n"
     ]
    },
    {
     "name": "stderr",
     "output_type": "stream",
     "text": [
      "2022-10-04 22:40:33,393 - stpipe.CubeBuildStep - INFO - Update S_REGION to POLYGON ICRS  44.998571849 -0.001078389 44.998571849 0.001032722 45.001127405 0.001032722 45.001127405 -0.001078389\n"
     ]
    },
    {
     "name": "stderr",
     "output_type": "stream",
     "text": [
      "2022-10-04 22:40:33,395 - stpipe.CubeBuildStep - INFO - Update S_REGION to POLYGON ICRS  44.998699774 -0.001131529 44.998699774 0.000979582 45.001144218 0.000979582 45.001144218 -0.001131529\n"
     ]
    },
    {
     "name": "stderr",
     "output_type": "stream",
     "text": [
      "2022-10-04 22:40:33,398 - stpipe.CubeBuildStep - INFO - Update S_REGION to POLYGON ICRS  44.998673902 -0.001128646 44.998673902 0.000982465 45.001118347 0.000982465 45.001118347 -0.001128646\n"
     ]
    },
    {
     "name": "stderr",
     "output_type": "stream",
     "text": [
      "2022-10-04 22:40:33,400 - stpipe.CubeBuildStep - INFO - Update S_REGION to POLYGON ICRS  44.998512326 -0.001436169 44.998512326 0.001091608 45.001623437 0.001091608 45.001623437 -0.001436169\n"
     ]
    },
    {
     "name": "stderr",
     "output_type": "stream",
     "text": [
      "2022-10-04 22:40:33,402 - stpipe.CubeBuildStep - INFO - Update S_REGION to POLYGON ICRS  44.998633270 -0.001421693 44.998633270 0.001106084 45.001549936 0.001106084 45.001549936 -0.001421693\n"
     ]
    },
    {
     "name": "stderr",
     "output_type": "stream",
     "text": [
      "2022-10-04 22:40:33,404 - stpipe.CubeBuildStep - INFO - Update S_REGION to POLYGON ICRS  44.998630214 -0.001392362 44.998630214 0.001135415 45.001546880 0.001135415 45.001546880 -0.001392362\n"
     ]
    },
    {
     "name": "stderr",
     "output_type": "stream",
     "text": [
      "2022-10-04 22:40:33,408 - stpipe.CubeBuildStep - INFO - Results used CRDS context: jwst_0988.pmap\n"
     ]
    },
    {
     "name": "stderr",
     "output_type": "stream",
     "text": [
      "2022-10-04 22:40:33,412 - stpipe.CubeBuildStep - INFO - Results used CRDS context: jwst_0988.pmap\n"
     ]
    },
    {
     "name": "stderr",
     "output_type": "stream",
     "text": [
      "2022-10-04 22:40:33,416 - stpipe.CubeBuildStep - INFO - Results used CRDS context: jwst_0988.pmap\n"
     ]
    },
    {
     "name": "stderr",
     "output_type": "stream",
     "text": [
      "2022-10-04 22:40:33,420 - stpipe.CubeBuildStep - INFO - Results used CRDS context: jwst_0988.pmap\n"
     ]
    },
    {
     "name": "stderr",
     "output_type": "stream",
     "text": [
      "2022-10-04 22:40:33,424 - stpipe.CubeBuildStep - INFO - Results used CRDS context: jwst_0988.pmap\n"
     ]
    },
    {
     "name": "stderr",
     "output_type": "stream",
     "text": [
      "2022-10-04 22:40:33,428 - stpipe.CubeBuildStep - INFO - Results used CRDS context: jwst_0988.pmap\n"
     ]
    },
    {
     "name": "stderr",
     "output_type": "stream",
     "text": [
      "2022-10-04 22:40:33,432 - stpipe.CubeBuildStep - INFO - Results used CRDS context: jwst_0988.pmap\n"
     ]
    },
    {
     "name": "stderr",
     "output_type": "stream",
     "text": [
      "2022-10-04 22:40:33,435 - stpipe.CubeBuildStep - INFO - Results used CRDS context: jwst_0988.pmap\n"
     ]
    },
    {
     "name": "stderr",
     "output_type": "stream",
     "text": [
      "2022-10-04 22:40:33,439 - stpipe.CubeBuildStep - INFO - Results used CRDS context: jwst_0988.pmap\n"
     ]
    },
    {
     "name": "stderr",
     "output_type": "stream",
     "text": [
      "2022-10-04 22:40:33,443 - stpipe.CubeBuildStep - INFO - Results used CRDS context: jwst_0988.pmap\n"
     ]
    },
    {
     "name": "stderr",
     "output_type": "stream",
     "text": [
      "2022-10-04 22:40:33,447 - stpipe.CubeBuildStep - INFO - Results used CRDS context: jwst_0988.pmap\n"
     ]
    },
    {
     "name": "stderr",
     "output_type": "stream",
     "text": [
      "2022-10-04 22:40:33,451 - stpipe.CubeBuildStep - INFO - Results used CRDS context: jwst_0988.pmap\n"
     ]
    },
    {
     "name": "stderr",
     "output_type": "stream",
     "text": [
      "2022-10-04 22:40:33,887 - stpipe.CubeBuildStep - INFO - Saved model in det_image_ch1-short_s3d.fits\n"
     ]
    },
    {
     "name": "stderr",
     "output_type": "stream",
     "text": [
      "2022-10-04 22:40:34,320 - stpipe.CubeBuildStep - INFO - Saved model in det_image_ch1-medium_s3d.fits\n"
     ]
    },
    {
     "name": "stderr",
     "output_type": "stream",
     "text": [
      "2022-10-04 22:40:34,755 - stpipe.CubeBuildStep - INFO - Saved model in det_image_ch1-long_s3d.fits\n"
     ]
    },
    {
     "name": "stderr",
     "output_type": "stream",
     "text": [
      "2022-10-04 22:40:35,177 - stpipe.CubeBuildStep - INFO - Saved model in det_image_ch2-short_s3d.fits\n"
     ]
    },
    {
     "name": "stderr",
     "output_type": "stream",
     "text": [
      "2022-10-04 22:40:35,599 - stpipe.CubeBuildStep - INFO - Saved model in det_image_ch2-medium_s3d.fits\n"
     ]
    },
    {
     "name": "stderr",
     "output_type": "stream",
     "text": [
      "2022-10-04 22:40:36,026 - stpipe.CubeBuildStep - INFO - Saved model in det_image_ch2-long_s3d.fits\n"
     ]
    },
    {
     "name": "stderr",
     "output_type": "stream",
     "text": [
      "2022-10-04 22:40:37,178 - stpipe.CubeBuildStep - INFO - Saved model in det_image_ch3-short_s3d.fits\n"
     ]
    },
    {
     "name": "stderr",
     "output_type": "stream",
     "text": [
      "2022-10-04 22:40:37,610 - stpipe.CubeBuildStep - INFO - Saved model in det_image_ch3-medium_s3d.fits\n"
     ]
    },
    {
     "name": "stderr",
     "output_type": "stream",
     "text": [
      "2022-10-04 22:40:38,041 - stpipe.CubeBuildStep - INFO - Saved model in det_image_ch3-long_s3d.fits\n"
     ]
    },
    {
     "name": "stderr",
     "output_type": "stream",
     "text": [
      "2022-10-04 22:40:38,466 - stpipe.CubeBuildStep - INFO - Saved model in det_image_ch4-short_s3d.fits\n"
     ]
    },
    {
     "name": "stderr",
     "output_type": "stream",
     "text": [
      "2022-10-04 22:40:38,901 - stpipe.CubeBuildStep - INFO - Saved model in det_image_ch4-medium_s3d.fits\n"
     ]
    },
    {
     "name": "stderr",
     "output_type": "stream",
     "text": [
      "2022-10-04 22:40:39,335 - stpipe.CubeBuildStep - INFO - Saved model in det_image_ch4-long_s3d.fits\n"
     ]
    },
    {
     "name": "stderr",
     "output_type": "stream",
     "text": [
      "2022-10-04 22:40:39,336 - stpipe.CubeBuildStep - INFO - Step CubeBuildStep done\n"
     ]
    }
   ],
   "source": [
    "#The output should be 12 files: det_image_ch1-short_s3d.fits, det_image_ch1-medium_s3d.fits, etc.\n",
    "result=CubeBuildStep.call('cube_testing.json',save_results=True)"
   ]
  },
  {
   "cell_type": "code",
   "execution_count": 9,
   "metadata": {
    "execution": {
     "iopub.execute_input": "2022-10-05T02:40:39.343505Z",
     "iopub.status.busy": "2022-10-05T02:40:39.343152Z",
     "iopub.status.idle": "2022-10-05T02:40:44.148401Z",
     "shell.execute_reply": "2022-10-05T02:40:44.147582Z"
    }
   },
   "outputs": [
    {
     "data": {
      "image/png": "[encoded data removed]",
      "text/plain": [
       "<Figure size 640x480 with 1 Axes>"
      ]
     },
     "metadata": {},
     "output_type": "display_data"
    }
   ],
   "source": [
    "#Define band and channels\n",
    "band_chan=['ch1-short','ch2-short','ch3-short','ch4-short']\n",
    "\n",
    "for j in range(0,4):\n",
    "    image3,header3=fits.getdata('det_image_'+band_chan[j]+'_s3d.fits',header=True)\n",
    "\n",
    "    num_x3=header3[\"NAXIS2\"]\n",
    "    num_y3=header3[\"NAXIS1\"]\n",
    "    num_chan3=header3[\"NAXIS3\"]\n",
    "    start_wavelength3=header3[\"CRVAL3\"]\n",
    "    step_wavelength3=header3[\"CDELT3\"]\n",
    "    pix_size3=header3[\"CDELT1\"]\n",
    "\n",
    "    a3=[0.0]*num_chan3\n",
    "    for i in range(0,num_chan3):\n",
    "        for m in range(0,num_x3):\n",
    "            for n in range(0,num_y3):\n",
    "                a3[i]=image3[i,m,n]+a3[i]\n",
    "            \n",
    "    d3=[0.0]*num_chan3\n",
    "    d3[0]=start_wavelength3\n",
    "    for i in range(1,num_chan3):\n",
    "        d3[i]=d3[i-1]+step_wavelength3\n",
    "    \n",
    "    for i in range(0,num_chan3):\n",
    "        a3[i]=(a3[i]*(pix_size3*3600)*(pix_size3*3600)*(10**6))/(4.25*10**10)\n",
    "\n",
    "    plt.plot(d3,a3,'-', color='black', lw=1)\n",
    "    plt.xlim(4.5,28)\n",
    "    plt.ylim(0.0009,0.0011) \n",
    "\n",
    "#Define band and channels\n",
    "band_chan=['ch1-medium','ch2-medium','ch3-medium','ch4-medium']\n",
    "\n",
    "for j in range(0,4):\n",
    "    image3,header3=fits.getdata('det_image_'+band_chan[j]+'_s3d.fits',header=True)\n",
    "\n",
    "    num_x3=header3[\"NAXIS2\"]\n",
    "    num_y3=header3[\"NAXIS1\"]\n",
    "    num_chan3=header3[\"NAXIS3\"]\n",
    "    start_wavelength3=header3[\"CRVAL3\"]\n",
    "    step_wavelength3=header3[\"CDELT3\"]\n",
    "    pix_size3=header3[\"CDELT1\"]\n",
    "\n",
    "    a3=[0.0]*num_chan3\n",
    "    for i in range(0,num_chan3):\n",
    "        for m in range(0,num_x3):\n",
    "            for n in range(0,num_y3):\n",
    "                a3[i]=image3[i,m,n]+a3[i]\n",
    "            \n",
    "    d3=[0.0]*num_chan3\n",
    "    d3[0]=start_wavelength3\n",
    "    for i in range(1,num_chan3):\n",
    "        d3[i]=d3[i-1]+step_wavelength3\n",
    "    \n",
    "    for i in range(0,num_chan3):\n",
    "        a3[i]=(a3[i]*(pix_size3*3600)*(pix_size3*3600)*(10**6))/(4.25*10**10)\n",
    "\n",
    "    plt.plot(d3,a3,'-', color='blue', lw=1)\n",
    "    plt.xlim(4.5,28)\n",
    "    plt.ylim(0.0009,0.0011) \n",
    "    \n",
    "#Define band and channels\n",
    "band_chan=['ch1-long','ch2-long','ch3-long','ch4-long']\n",
    "\n",
    "for j in range(0,4):\n",
    "    image3,header3=fits.getdata('det_image_'+band_chan[j]+'_s3d.fits',header=True)\n",
    "\n",
    "    num_x3=header3[\"NAXIS2\"]\n",
    "    num_y3=header3[\"NAXIS1\"]\n",
    "    num_chan3=header3[\"NAXIS3\"]\n",
    "    start_wavelength3=header3[\"CRVAL3\"]\n",
    "    step_wavelength3=header3[\"CDELT3\"]\n",
    "    pix_size3=header3[\"CDELT1\"]\n",
    "\n",
    "    a3=[0.0]*num_chan3\n",
    "    for i in range(0,num_chan3):\n",
    "        for m in range(0,num_x3):\n",
    "            for n in range(0,num_y3):\n",
    "                a3[i]=image3[i,m,n]+a3[i]\n",
    "            \n",
    "    d3=[0.0]*num_chan3\n",
    "    d3[0]=start_wavelength3\n",
    "    for i in range(1,num_chan3):\n",
    "        d3[i]=d3[i-1]+step_wavelength3\n",
    "    \n",
    "    for i in range(0,num_chan3):\n",
    "        a3[i]=(a3[i]*(pix_size3*3600)*(pix_size3*3600)*(10**6))/(4.25*10**10)\n",
    "\n",
    "    plt.plot(d3,a3,'-', color='red', lw=1)\n",
    "    plt.xlim(4.5,28)\n",
    "    plt.ylim(0.0009,0.0011)     "
   ]
  },
  {
   "cell_type": "markdown",
   "metadata": {},
   "source": [
    "#### Check the output of flat point source using Extract 1D"
   ]
  },
  {
   "cell_type": "code",
   "execution_count": 10,
   "metadata": {
    "execution": {
     "iopub.execute_input": "2022-10-05T02:40:44.151399Z",
     "iopub.status.busy": "2022-10-05T02:40:44.150983Z",
     "iopub.status.idle": "2022-10-05T02:42:47.302792Z",
     "shell.execute_reply": "2022-10-05T02:42:47.302261Z"
    }
   },
   "outputs": [
    {
     "name": "stdout",
     "output_type": "stream",
     "text": [
      "det_image_ch1-short_s3d.fits\n"
     ]
    },
    {
     "name": "stderr",
     "output_type": "stream",
     "text": [
      "2022-10-04 22:40:44,357 - stpipe.Extract1dStep - INFO - Extract1dStep instance created.\n"
     ]
    },
    {
     "name": "stderr",
     "output_type": "stream",
     "text": [
      "2022-10-04 22:40:45,102 - stpipe.Extract1dStep - INFO - Step Extract1dStep running with args ('det_image_ch1-short_s3d.fits',).\n"
     ]
    },
    {
     "name": "stderr",
     "output_type": "stream",
     "text": [
      "2022-10-04 22:40:45,106 - stpipe.Extract1dStep - INFO - Step Extract1dStep parameters are: {'pre_hooks': [], 'post_hooks': [], 'output_file': None, 'output_dir': None, 'output_ext': '.fits', 'output_use_model': False, 'output_use_index': True, 'save_results': False, 'skip': False, 'suffix': None, 'search_output_file': True, 'input_dir': '', 'smoothing_length': None, 'bkg_fit': None, 'bkg_order': None, 'bkg_sigma_clip': 3.0, 'log_increment': 50, 'subtract_background': None, 'use_source_posn': None, 'center_xy': None, 'apply_apcorr': True, 'soss_threshold': 0.01, 'soss_n_os': 2, 'soss_transform': None, 'soss_tikfac': None, 'soss_width': 40.0, 'soss_bad_pix': 'model', 'soss_modelname': None}\n"
     ]
    },
    {
     "name": "stderr",
     "output_type": "stream",
     "text": [
      "2022-10-04 22:40:45,324 - stpipe.Extract1dStep - INFO - Using EXTRACT1D reference file /grp/crds/cache/references/jwst/jwst_miri_extract1d_0003.asdf\n"
     ]
    },
    {
     "name": "stderr",
     "output_type": "stream",
     "text": [
      "2022-10-04 22:40:45,337 - stpipe.Extract1dStep - INFO - Using APCORR file /grp/crds/cache/references/jwst/jwst_miri_apcorr_0002.asdf\n"
     ]
    },
    {
     "name": "stderr",
     "output_type": "stream",
     "text": [
      "2022-10-04 22:40:46,757 - stpipe.Extract1dStep - INFO - Turning on source position correction for exp_type = MIR_MRS\n"
     ]
    },
    {
     "name": "stderr",
     "output_type": "stream",
     "text": [
      "2022-10-04 22:40:46,759 - stpipe.Extract1dStep - INFO - Source type = EXTENDED\n"
     ]
    },
    {
     "name": "stderr",
     "output_type": "stream",
     "text": [
      "2022-10-04 22:40:46,772 - stpipe.Extract1dStep - INFO - Input model does not break out variance information. Passing only generalized errors.\n"
     ]
    },
    {
     "name": "stderr",
     "output_type": "stream",
     "text": [
      "2022-10-04 22:40:55,918 - stpipe.Extract1dStep - INFO - Results used CRDS context: jwst_0988.pmap\n"
     ]
    },
    {
     "name": "stderr",
     "output_type": "stream",
     "text": [
      "2022-10-04 22:40:55,919 - stpipe.Extract1dStep - INFO - Step Extract1dStep done\n"
     ]
    },
    {
     "name": "stdout",
     "output_type": "stream",
     "text": [
      "det_image_ch2-short_s3d.fits\n"
     ]
    },
    {
     "name": "stderr",
     "output_type": "stream",
     "text": [
      "2022-10-04 22:40:56,205 - stpipe.Extract1dStep - INFO - Extract1dStep instance created.\n"
     ]
    },
    {
     "name": "stderr",
     "output_type": "stream",
     "text": [
      "2022-10-04 22:40:57,326 - stpipe.Extract1dStep - INFO - Step Extract1dStep running with args ('det_image_ch2-short_s3d.fits',).\n"
     ]
    },
    {
     "name": "stderr",
     "output_type": "stream",
     "text": [
      "2022-10-04 22:40:57,330 - stpipe.Extract1dStep - INFO - Step Extract1dStep parameters are: {'pre_hooks': [], 'post_hooks': [], 'output_file': None, 'output_dir': None, 'output_ext': '.fits', 'output_use_model': False, 'output_use_index': True, 'save_results': False, 'skip': False, 'suffix': None, 'search_output_file': True, 'input_dir': '', 'smoothing_length': None, 'bkg_fit': None, 'bkg_order': None, 'bkg_sigma_clip': 3.0, 'log_increment': 50, 'subtract_background': None, 'use_source_posn': None, 'center_xy': None, 'apply_apcorr': True, 'soss_threshold': 0.01, 'soss_n_os': 2, 'soss_transform': None, 'soss_tikfac': None, 'soss_width': 40.0, 'soss_bad_pix': 'model', 'soss_modelname': None}\n"
     ]
    },
    {
     "name": "stderr",
     "output_type": "stream",
     "text": [
      "2022-10-04 22:40:57,536 - stpipe.Extract1dStep - INFO - Using EXTRACT1D reference file /grp/crds/cache/references/jwst/jwst_miri_extract1d_0003.asdf\n"
     ]
    },
    {
     "name": "stderr",
     "output_type": "stream",
     "text": [
      "2022-10-04 22:40:57,547 - stpipe.Extract1dStep - INFO - Using APCORR file /grp/crds/cache/references/jwst/jwst_miri_apcorr_0002.asdf\n"
     ]
    },
    {
     "name": "stderr",
     "output_type": "stream",
     "text": [
      "2022-10-04 22:40:59,134 - stpipe.Extract1dStep - INFO - Turning on source position correction for exp_type = MIR_MRS\n"
     ]
    },
    {
     "name": "stderr",
     "output_type": "stream",
     "text": [
      "2022-10-04 22:40:59,135 - stpipe.Extract1dStep - INFO - Source type = EXTENDED\n"
     ]
    },
    {
     "name": "stderr",
     "output_type": "stream",
     "text": [
      "2022-10-04 22:40:59,149 - stpipe.Extract1dStep - INFO - Input model does not break out variance information. Passing only generalized errors.\n"
     ]
    },
    {
     "name": "stderr",
     "output_type": "stream",
     "text": [
      "2022-10-04 22:41:05,524 - stpipe.Extract1dStep - INFO - Results used CRDS context: jwst_0988.pmap\n"
     ]
    },
    {
     "name": "stderr",
     "output_type": "stream",
     "text": [
      "2022-10-04 22:41:05,524 - stpipe.Extract1dStep - INFO - Step Extract1dStep done\n"
     ]
    },
    {
     "name": "stderr",
     "output_type": "stream",
     "text": [
      "2022-10-04 22:41:05,806 - stpipe.Extract1dStep - INFO - Extract1dStep instance created.\n"
     ]
    },
    {
     "name": "stdout",
     "output_type": "stream",
     "text": [
      "det_image_ch3-short_s3d.fits\n"
     ]
    },
    {
     "name": "stderr",
     "output_type": "stream",
     "text": [
      "2022-10-04 22:41:05,992 - stpipe.Extract1dStep - INFO - Step Extract1dStep running with args ('det_image_ch3-short_s3d.fits',).\n"
     ]
    },
    {
     "name": "stderr",
     "output_type": "stream",
     "text": [
      "2022-10-04 22:41:05,994 - stpipe.Extract1dStep - INFO - Step Extract1dStep parameters are: {'pre_hooks': [], 'post_hooks': [], 'output_file': None, 'output_dir': None, 'output_ext': '.fits', 'output_use_model': False, 'output_use_index': True, 'save_results': False, 'skip': False, 'suffix': None, 'search_output_file': True, 'input_dir': '', 'smoothing_length': None, 'bkg_fit': None, 'bkg_order': None, 'bkg_sigma_clip': 3.0, 'log_increment': 50, 'subtract_background': None, 'use_source_posn': None, 'center_xy': None, 'apply_apcorr': True, 'soss_threshold': 0.01, 'soss_n_os': 2, 'soss_transform': None, 'soss_tikfac': None, 'soss_width': 40.0, 'soss_bad_pix': 'model', 'soss_modelname': None}\n"
     ]
    },
    {
     "name": "stderr",
     "output_type": "stream",
     "text": [
      "2022-10-04 22:41:06,202 - stpipe.Extract1dStep - INFO - Using EXTRACT1D reference file /grp/crds/cache/references/jwst/jwst_miri_extract1d_0003.asdf\n"
     ]
    },
    {
     "name": "stderr",
     "output_type": "stream",
     "text": [
      "2022-10-04 22:41:06,213 - stpipe.Extract1dStep - INFO - Using APCORR file /grp/crds/cache/references/jwst/jwst_miri_apcorr_0002.asdf\n"
     ]
    },
    {
     "name": "stderr",
     "output_type": "stream",
     "text": [
      "2022-10-04 22:41:07,794 - stpipe.Extract1dStep - INFO - Turning on source position correction for exp_type = MIR_MRS\n"
     ]
    },
    {
     "name": "stderr",
     "output_type": "stream",
     "text": [
      "2022-10-04 22:41:07,795 - stpipe.Extract1dStep - INFO - Source type = EXTENDED\n"
     ]
    },
    {
     "name": "stderr",
     "output_type": "stream",
     "text": [
      "2022-10-04 22:41:07,808 - stpipe.Extract1dStep - INFO - Input model does not break out variance information. Passing only generalized errors.\n"
     ]
    },
    {
     "name": "stderr",
     "output_type": "stream",
     "text": [
      "2022-10-04 22:41:14,678 - stpipe.Extract1dStep - INFO - Results used CRDS context: jwst_0988.pmap\n"
     ]
    },
    {
     "name": "stderr",
     "output_type": "stream",
     "text": [
      "2022-10-04 22:41:14,679 - stpipe.Extract1dStep - INFO - Step Extract1dStep done\n"
     ]
    },
    {
     "name": "stderr",
     "output_type": "stream",
     "text": [
      "2022-10-04 22:41:14,954 - stpipe.Extract1dStep - INFO - Extract1dStep instance created.\n"
     ]
    },
    {
     "name": "stdout",
     "output_type": "stream",
     "text": [
      "det_image_ch4-short_s3d.fits\n"
     ]
    },
    {
     "name": "stderr",
     "output_type": "stream",
     "text": [
      "2022-10-04 22:41:15,137 - stpipe.Extract1dStep - INFO - Step Extract1dStep running with args ('det_image_ch4-short_s3d.fits',).\n"
     ]
    },
    {
     "name": "stderr",
     "output_type": "stream",
     "text": [
      "2022-10-04 22:41:15,139 - stpipe.Extract1dStep - INFO - Step Extract1dStep parameters are: {'pre_hooks': [], 'post_hooks': [], 'output_file': None, 'output_dir': None, 'output_ext': '.fits', 'output_use_model': False, 'output_use_index': True, 'save_results': False, 'skip': False, 'suffix': None, 'search_output_file': True, 'input_dir': '', 'smoothing_length': None, 'bkg_fit': None, 'bkg_order': None, 'bkg_sigma_clip': 3.0, 'log_increment': 50, 'subtract_background': None, 'use_source_posn': None, 'center_xy': None, 'apply_apcorr': True, 'soss_threshold': 0.01, 'soss_n_os': 2, 'soss_transform': None, 'soss_tikfac': None, 'soss_width': 40.0, 'soss_bad_pix': 'model', 'soss_modelname': None}\n"
     ]
    },
    {
     "name": "stderr",
     "output_type": "stream",
     "text": [
      "2022-10-04 22:41:15,341 - stpipe.Extract1dStep - INFO - Using EXTRACT1D reference file /grp/crds/cache/references/jwst/jwst_miri_extract1d_0003.asdf\n"
     ]
    },
    {
     "name": "stderr",
     "output_type": "stream",
     "text": [
      "2022-10-04 22:41:15,352 - stpipe.Extract1dStep - INFO - Using APCORR file /grp/crds/cache/references/jwst/jwst_miri_apcorr_0002.asdf\n"
     ]
    },
    {
     "name": "stderr",
     "output_type": "stream",
     "text": [
      "2022-10-04 22:41:16,904 - stpipe.Extract1dStep - INFO - Turning on source position correction for exp_type = MIR_MRS\n"
     ]
    },
    {
     "name": "stderr",
     "output_type": "stream",
     "text": [
      "2022-10-04 22:41:16,905 - stpipe.Extract1dStep - INFO - Source type = EXTENDED\n"
     ]
    },
    {
     "name": "stderr",
     "output_type": "stream",
     "text": [
      "2022-10-04 22:41:16,918 - stpipe.Extract1dStep - INFO - Input model does not break out variance information. Passing only generalized errors.\n"
     ]
    },
    {
     "name": "stderr",
     "output_type": "stream",
     "text": [
      "2022-10-04 22:41:21,828 - stpipe.Extract1dStep - INFO - Results used CRDS context: jwst_0988.pmap\n"
     ]
    },
    {
     "name": "stderr",
     "output_type": "stream",
     "text": [
      "2022-10-04 22:41:21,829 - stpipe.Extract1dStep - INFO - Step Extract1dStep done\n"
     ]
    },
    {
     "name": "stderr",
     "output_type": "stream",
     "text": [
      "2022-10-04 22:41:22,126 - stpipe.Extract1dStep - INFO - Extract1dStep instance created.\n"
     ]
    },
    {
     "name": "stderr",
     "output_type": "stream",
     "text": [
      "2022-10-04 22:41:22,315 - stpipe.Extract1dStep - INFO - Step Extract1dStep running with args ('det_image_ch1-medium_s3d.fits',).\n"
     ]
    },
    {
     "name": "stderr",
     "output_type": "stream",
     "text": [
      "2022-10-04 22:41:22,317 - stpipe.Extract1dStep - INFO - Step Extract1dStep parameters are: {'pre_hooks': [], 'post_hooks': [], 'output_file': None, 'output_dir': None, 'output_ext': '.fits', 'output_use_model': False, 'output_use_index': True, 'save_results': False, 'skip': False, 'suffix': None, 'search_output_file': True, 'input_dir': '', 'smoothing_length': None, 'bkg_fit': None, 'bkg_order': None, 'bkg_sigma_clip': 3.0, 'log_increment': 50, 'subtract_background': None, 'use_source_posn': None, 'center_xy': None, 'apply_apcorr': True, 'soss_threshold': 0.01, 'soss_n_os': 2, 'soss_transform': None, 'soss_tikfac': None, 'soss_width': 40.0, 'soss_bad_pix': 'model', 'soss_modelname': None}\n"
     ]
    },
    {
     "name": "stderr",
     "output_type": "stream",
     "text": [
      "2022-10-04 22:41:22,525 - stpipe.Extract1dStep - INFO - Using EXTRACT1D reference file /grp/crds/cache/references/jwst/jwst_miri_extract1d_0003.asdf\n"
     ]
    },
    {
     "name": "stderr",
     "output_type": "stream",
     "text": [
      "2022-10-04 22:41:22,535 - stpipe.Extract1dStep - INFO - Using APCORR file /grp/crds/cache/references/jwst/jwst_miri_apcorr_0002.asdf\n"
     ]
    },
    {
     "name": "stderr",
     "output_type": "stream",
     "text": [
      "2022-10-04 22:41:24,100 - stpipe.Extract1dStep - INFO - Turning on source position correction for exp_type = MIR_MRS\n"
     ]
    },
    {
     "name": "stderr",
     "output_type": "stream",
     "text": [
      "2022-10-04 22:41:24,101 - stpipe.Extract1dStep - INFO - Source type = EXTENDED\n"
     ]
    },
    {
     "name": "stderr",
     "output_type": "stream",
     "text": [
      "2022-10-04 22:41:24,114 - stpipe.Extract1dStep - INFO - Input model does not break out variance information. Passing only generalized errors.\n"
     ]
    },
    {
     "name": "stderr",
     "output_type": "stream",
     "text": [
      "2022-10-04 22:41:34,477 - stpipe.Extract1dStep - INFO - Results used CRDS context: jwst_0988.pmap\n"
     ]
    },
    {
     "name": "stderr",
     "output_type": "stream",
     "text": [
      "2022-10-04 22:41:34,477 - stpipe.Extract1dStep - INFO - Step Extract1dStep done\n"
     ]
    },
    {
     "name": "stderr",
     "output_type": "stream",
     "text": [
      "2022-10-04 22:41:34,759 - stpipe.Extract1dStep - INFO - Extract1dStep instance created.\n"
     ]
    },
    {
     "name": "stderr",
     "output_type": "stream",
     "text": [
      "2022-10-04 22:41:34,948 - stpipe.Extract1dStep - INFO - Step Extract1dStep running with args ('det_image_ch2-medium_s3d.fits',).\n"
     ]
    },
    {
     "name": "stderr",
     "output_type": "stream",
     "text": [
      "2022-10-04 22:41:34,950 - stpipe.Extract1dStep - INFO - Step Extract1dStep parameters are: {'pre_hooks': [], 'post_hooks': [], 'output_file': None, 'output_dir': None, 'output_ext': '.fits', 'output_use_model': False, 'output_use_index': True, 'save_results': False, 'skip': False, 'suffix': None, 'search_output_file': True, 'input_dir': '', 'smoothing_length': None, 'bkg_fit': None, 'bkg_order': None, 'bkg_sigma_clip': 3.0, 'log_increment': 50, 'subtract_background': None, 'use_source_posn': None, 'center_xy': None, 'apply_apcorr': True, 'soss_threshold': 0.01, 'soss_n_os': 2, 'soss_transform': None, 'soss_tikfac': None, 'soss_width': 40.0, 'soss_bad_pix': 'model', 'soss_modelname': None}\n"
     ]
    },
    {
     "name": "stderr",
     "output_type": "stream",
     "text": [
      "2022-10-04 22:41:35,156 - stpipe.Extract1dStep - INFO - Using EXTRACT1D reference file /grp/crds/cache/references/jwst/jwst_miri_extract1d_0003.asdf\n"
     ]
    },
    {
     "name": "stderr",
     "output_type": "stream",
     "text": [
      "2022-10-04 22:41:35,168 - stpipe.Extract1dStep - INFO - Using APCORR file /grp/crds/cache/references/jwst/jwst_miri_apcorr_0002.asdf\n"
     ]
    },
    {
     "name": "stderr",
     "output_type": "stream",
     "text": [
      "2022-10-04 22:41:36,730 - stpipe.Extract1dStep - INFO - Turning on source position correction for exp_type = MIR_MRS\n"
     ]
    },
    {
     "name": "stderr",
     "output_type": "stream",
     "text": [
      "2022-10-04 22:41:36,731 - stpipe.Extract1dStep - INFO - Source type = EXTENDED\n"
     ]
    },
    {
     "name": "stderr",
     "output_type": "stream",
     "text": [
      "2022-10-04 22:41:36,744 - stpipe.Extract1dStep - INFO - Input model does not break out variance information. Passing only generalized errors.\n"
     ]
    },
    {
     "name": "stderr",
     "output_type": "stream",
     "text": [
      "2022-10-04 22:41:44,153 - stpipe.Extract1dStep - INFO - Results used CRDS context: jwst_0988.pmap\n"
     ]
    },
    {
     "name": "stderr",
     "output_type": "stream",
     "text": [
      "2022-10-04 22:41:44,153 - stpipe.Extract1dStep - INFO - Step Extract1dStep done\n"
     ]
    },
    {
     "name": "stderr",
     "output_type": "stream",
     "text": [
      "2022-10-04 22:41:44,435 - stpipe.Extract1dStep - INFO - Extract1dStep instance created.\n"
     ]
    },
    {
     "name": "stderr",
     "output_type": "stream",
     "text": [
      "2022-10-04 22:41:44,624 - stpipe.Extract1dStep - INFO - Step Extract1dStep running with args ('det_image_ch3-medium_s3d.fits',).\n"
     ]
    },
    {
     "name": "stderr",
     "output_type": "stream",
     "text": [
      "2022-10-04 22:41:44,626 - stpipe.Extract1dStep - INFO - Step Extract1dStep parameters are: {'pre_hooks': [], 'post_hooks': [], 'output_file': None, 'output_dir': None, 'output_ext': '.fits', 'output_use_model': False, 'output_use_index': True, 'save_results': False, 'skip': False, 'suffix': None, 'search_output_file': True, 'input_dir': '', 'smoothing_length': None, 'bkg_fit': None, 'bkg_order': None, 'bkg_sigma_clip': 3.0, 'log_increment': 50, 'subtract_background': None, 'use_source_posn': None, 'center_xy': None, 'apply_apcorr': True, 'soss_threshold': 0.01, 'soss_n_os': 2, 'soss_transform': None, 'soss_tikfac': None, 'soss_width': 40.0, 'soss_bad_pix': 'model', 'soss_modelname': None}\n"
     ]
    },
    {
     "name": "stderr",
     "output_type": "stream",
     "text": [
      "2022-10-04 22:41:44,832 - stpipe.Extract1dStep - INFO - Using EXTRACT1D reference file /grp/crds/cache/references/jwst/jwst_miri_extract1d_0003.asdf\n"
     ]
    },
    {
     "name": "stderr",
     "output_type": "stream",
     "text": [
      "2022-10-04 22:41:44,844 - stpipe.Extract1dStep - INFO - Using APCORR file /grp/crds/cache/references/jwst/jwst_miri_apcorr_0002.asdf\n"
     ]
    },
    {
     "name": "stderr",
     "output_type": "stream",
     "text": [
      "2022-10-04 22:41:46,418 - stpipe.Extract1dStep - INFO - Turning on source position correction for exp_type = MIR_MRS\n"
     ]
    },
    {
     "name": "stderr",
     "output_type": "stream",
     "text": [
      "2022-10-04 22:41:46,418 - stpipe.Extract1dStep - INFO - Source type = EXTENDED\n"
     ]
    },
    {
     "name": "stderr",
     "output_type": "stream",
     "text": [
      "2022-10-04 22:41:46,431 - stpipe.Extract1dStep - INFO - Input model does not break out variance information. Passing only generalized errors.\n"
     ]
    },
    {
     "name": "stderr",
     "output_type": "stream",
     "text": [
      "2022-10-04 22:41:54,409 - stpipe.Extract1dStep - INFO - Results used CRDS context: jwst_0988.pmap\n"
     ]
    },
    {
     "name": "stderr",
     "output_type": "stream",
     "text": [
      "2022-10-04 22:41:54,410 - stpipe.Extract1dStep - INFO - Step Extract1dStep done\n"
     ]
    },
    {
     "name": "stderr",
     "output_type": "stream",
     "text": [
      "2022-10-04 22:41:54,684 - stpipe.Extract1dStep - INFO - Extract1dStep instance created.\n"
     ]
    },
    {
     "name": "stderr",
     "output_type": "stream",
     "text": [
      "2022-10-04 22:41:54,874 - stpipe.Extract1dStep - INFO - Step Extract1dStep running with args ('det_image_ch4-medium_s3d.fits',).\n"
     ]
    },
    {
     "name": "stderr",
     "output_type": "stream",
     "text": [
      "2022-10-04 22:41:54,876 - stpipe.Extract1dStep - INFO - Step Extract1dStep parameters are: {'pre_hooks': [], 'post_hooks': [], 'output_file': None, 'output_dir': None, 'output_ext': '.fits', 'output_use_model': False, 'output_use_index': True, 'save_results': False, 'skip': False, 'suffix': None, 'search_output_file': True, 'input_dir': '', 'smoothing_length': None, 'bkg_fit': None, 'bkg_order': None, 'bkg_sigma_clip': 3.0, 'log_increment': 50, 'subtract_background': None, 'use_source_posn': None, 'center_xy': None, 'apply_apcorr': True, 'soss_threshold': 0.01, 'soss_n_os': 2, 'soss_transform': None, 'soss_tikfac': None, 'soss_width': 40.0, 'soss_bad_pix': 'model', 'soss_modelname': None}\n"
     ]
    },
    {
     "name": "stderr",
     "output_type": "stream",
     "text": [
      "2022-10-04 22:41:55,080 - stpipe.Extract1dStep - INFO - Using EXTRACT1D reference file /grp/crds/cache/references/jwst/jwst_miri_extract1d_0003.asdf\n"
     ]
    },
    {
     "name": "stderr",
     "output_type": "stream",
     "text": [
      "2022-10-04 22:41:55,091 - stpipe.Extract1dStep - INFO - Using APCORR file /grp/crds/cache/references/jwst/jwst_miri_apcorr_0002.asdf\n"
     ]
    },
    {
     "name": "stderr",
     "output_type": "stream",
     "text": [
      "2022-10-04 22:41:56,655 - stpipe.Extract1dStep - INFO - Turning on source position correction for exp_type = MIR_MRS\n"
     ]
    },
    {
     "name": "stderr",
     "output_type": "stream",
     "text": [
      "2022-10-04 22:41:56,656 - stpipe.Extract1dStep - INFO - Source type = EXTENDED\n"
     ]
    },
    {
     "name": "stderr",
     "output_type": "stream",
     "text": [
      "2022-10-04 22:41:56,670 - stpipe.Extract1dStep - INFO - Input model does not break out variance information. Passing only generalized errors.\n"
     ]
    },
    {
     "name": "stderr",
     "output_type": "stream",
     "text": [
      "2022-10-04 22:42:02,272 - stpipe.Extract1dStep - INFO - Results used CRDS context: jwst_0988.pmap\n"
     ]
    },
    {
     "name": "stderr",
     "output_type": "stream",
     "text": [
      "2022-10-04 22:42:02,272 - stpipe.Extract1dStep - INFO - Step Extract1dStep done\n"
     ]
    },
    {
     "name": "stderr",
     "output_type": "stream",
     "text": [
      "2022-10-04 22:42:02,561 - stpipe.Extract1dStep - INFO - Extract1dStep instance created.\n"
     ]
    },
    {
     "name": "stderr",
     "output_type": "stream",
     "text": [
      "2022-10-04 22:42:02,745 - stpipe.Extract1dStep - INFO - Step Extract1dStep running with args ('det_image_ch1-long_s3d.fits',).\n"
     ]
    },
    {
     "name": "stderr",
     "output_type": "stream",
     "text": [
      "2022-10-04 22:42:02,747 - stpipe.Extract1dStep - INFO - Step Extract1dStep parameters are: {'pre_hooks': [], 'post_hooks': [], 'output_file': None, 'output_dir': None, 'output_ext': '.fits', 'output_use_model': False, 'output_use_index': True, 'save_results': False, 'skip': False, 'suffix': None, 'search_output_file': True, 'input_dir': '', 'smoothing_length': None, 'bkg_fit': None, 'bkg_order': None, 'bkg_sigma_clip': 3.0, 'log_increment': 50, 'subtract_background': None, 'use_source_posn': None, 'center_xy': None, 'apply_apcorr': True, 'soss_threshold': 0.01, 'soss_n_os': 2, 'soss_transform': None, 'soss_tikfac': None, 'soss_width': 40.0, 'soss_bad_pix': 'model', 'soss_modelname': None}\n"
     ]
    },
    {
     "name": "stderr",
     "output_type": "stream",
     "text": [
      "2022-10-04 22:42:02,961 - stpipe.Extract1dStep - INFO - Using EXTRACT1D reference file /grp/crds/cache/references/jwst/jwst_miri_extract1d_0003.asdf\n"
     ]
    },
    {
     "name": "stderr",
     "output_type": "stream",
     "text": [
      "2022-10-04 22:42:02,971 - stpipe.Extract1dStep - INFO - Using APCORR file /grp/crds/cache/references/jwst/jwst_miri_apcorr_0002.asdf\n"
     ]
    },
    {
     "name": "stderr",
     "output_type": "stream",
     "text": [
      "2022-10-04 22:42:04,569 - stpipe.Extract1dStep - INFO - Turning on source position correction for exp_type = MIR_MRS\n"
     ]
    },
    {
     "name": "stderr",
     "output_type": "stream",
     "text": [
      "2022-10-04 22:42:04,570 - stpipe.Extract1dStep - INFO - Source type = EXTENDED\n"
     ]
    },
    {
     "name": "stderr",
     "output_type": "stream",
     "text": [
      "2022-10-04 22:42:04,583 - stpipe.Extract1dStep - INFO - Input model does not break out variance information. Passing only generalized errors.\n"
     ]
    },
    {
     "name": "stderr",
     "output_type": "stream",
     "text": [
      "2022-10-04 22:42:16,124 - stpipe.Extract1dStep - INFO - Results used CRDS context: jwst_0988.pmap\n"
     ]
    },
    {
     "name": "stderr",
     "output_type": "stream",
     "text": [
      "2022-10-04 22:42:16,124 - stpipe.Extract1dStep - INFO - Step Extract1dStep done\n"
     ]
    },
    {
     "name": "stderr",
     "output_type": "stream",
     "text": [
      "2022-10-04 22:42:16,405 - stpipe.Extract1dStep - INFO - Extract1dStep instance created.\n"
     ]
    },
    {
     "name": "stderr",
     "output_type": "stream",
     "text": [
      "2022-10-04 22:42:16,594 - stpipe.Extract1dStep - INFO - Step Extract1dStep running with args ('det_image_ch2-long_s3d.fits',).\n"
     ]
    },
    {
     "name": "stderr",
     "output_type": "stream",
     "text": [
      "2022-10-04 22:42:16,596 - stpipe.Extract1dStep - INFO - Step Extract1dStep parameters are: {'pre_hooks': [], 'post_hooks': [], 'output_file': None, 'output_dir': None, 'output_ext': '.fits', 'output_use_model': False, 'output_use_index': True, 'save_results': False, 'skip': False, 'suffix': None, 'search_output_file': True, 'input_dir': '', 'smoothing_length': None, 'bkg_fit': None, 'bkg_order': None, 'bkg_sigma_clip': 3.0, 'log_increment': 50, 'subtract_background': None, 'use_source_posn': None, 'center_xy': None, 'apply_apcorr': True, 'soss_threshold': 0.01, 'soss_n_os': 2, 'soss_transform': None, 'soss_tikfac': None, 'soss_width': 40.0, 'soss_bad_pix': 'model', 'soss_modelname': None}\n"
     ]
    },
    {
     "name": "stderr",
     "output_type": "stream",
     "text": [
      "2022-10-04 22:42:16,804 - stpipe.Extract1dStep - INFO - Using EXTRACT1D reference file /grp/crds/cache/references/jwst/jwst_miri_extract1d_0003.asdf\n"
     ]
    },
    {
     "name": "stderr",
     "output_type": "stream",
     "text": [
      "2022-10-04 22:42:16,815 - stpipe.Extract1dStep - INFO - Using APCORR file /grp/crds/cache/references/jwst/jwst_miri_apcorr_0002.asdf\n"
     ]
    },
    {
     "name": "stderr",
     "output_type": "stream",
     "text": [
      "2022-10-04 22:42:18,378 - stpipe.Extract1dStep - INFO - Turning on source position correction for exp_type = MIR_MRS\n"
     ]
    },
    {
     "name": "stderr",
     "output_type": "stream",
     "text": [
      "2022-10-04 22:42:18,379 - stpipe.Extract1dStep - INFO - Source type = EXTENDED\n"
     ]
    },
    {
     "name": "stderr",
     "output_type": "stream",
     "text": [
      "2022-10-04 22:42:18,393 - stpipe.Extract1dStep - INFO - Input model does not break out variance information. Passing only generalized errors.\n"
     ]
    },
    {
     "name": "stderr",
     "output_type": "stream",
     "text": [
      "2022-10-04 22:42:27,022 - stpipe.Extract1dStep - INFO - Results used CRDS context: jwst_0988.pmap\n"
     ]
    },
    {
     "name": "stderr",
     "output_type": "stream",
     "text": [
      "2022-10-04 22:42:27,022 - stpipe.Extract1dStep - INFO - Step Extract1dStep done\n"
     ]
    },
    {
     "name": "stderr",
     "output_type": "stream",
     "text": [
      "2022-10-04 22:42:27,308 - stpipe.Extract1dStep - INFO - Extract1dStep instance created.\n"
     ]
    },
    {
     "name": "stderr",
     "output_type": "stream",
     "text": [
      "2022-10-04 22:42:27,495 - stpipe.Extract1dStep - INFO - Step Extract1dStep running with args ('det_image_ch3-long_s3d.fits',).\n"
     ]
    },
    {
     "name": "stderr",
     "output_type": "stream",
     "text": [
      "2022-10-04 22:42:27,497 - stpipe.Extract1dStep - INFO - Step Extract1dStep parameters are: {'pre_hooks': [], 'post_hooks': [], 'output_file': None, 'output_dir': None, 'output_ext': '.fits', 'output_use_model': False, 'output_use_index': True, 'save_results': False, 'skip': False, 'suffix': None, 'search_output_file': True, 'input_dir': '', 'smoothing_length': None, 'bkg_fit': None, 'bkg_order': None, 'bkg_sigma_clip': 3.0, 'log_increment': 50, 'subtract_background': None, 'use_source_posn': None, 'center_xy': None, 'apply_apcorr': True, 'soss_threshold': 0.01, 'soss_n_os': 2, 'soss_transform': None, 'soss_tikfac': None, 'soss_width': 40.0, 'soss_bad_pix': 'model', 'soss_modelname': None}\n"
     ]
    },
    {
     "name": "stderr",
     "output_type": "stream",
     "text": [
      "2022-10-04 22:42:27,710 - stpipe.Extract1dStep - INFO - Using EXTRACT1D reference file /grp/crds/cache/references/jwst/jwst_miri_extract1d_0003.asdf\n"
     ]
    },
    {
     "name": "stderr",
     "output_type": "stream",
     "text": [
      "2022-10-04 22:42:27,721 - stpipe.Extract1dStep - INFO - Using APCORR file /grp/crds/cache/references/jwst/jwst_miri_apcorr_0002.asdf\n"
     ]
    },
    {
     "name": "stderr",
     "output_type": "stream",
     "text": [
      "2022-10-04 22:42:29,299 - stpipe.Extract1dStep - INFO - Turning on source position correction for exp_type = MIR_MRS\n"
     ]
    },
    {
     "name": "stderr",
     "output_type": "stream",
     "text": [
      "2022-10-04 22:42:29,300 - stpipe.Extract1dStep - INFO - Source type = EXTENDED\n"
     ]
    },
    {
     "name": "stderr",
     "output_type": "stream",
     "text": [
      "2022-10-04 22:42:29,313 - stpipe.Extract1dStep - INFO - Input model does not break out variance information. Passing only generalized errors.\n"
     ]
    },
    {
     "name": "stderr",
     "output_type": "stream",
     "text": [
      "2022-10-04 22:42:38,467 - stpipe.Extract1dStep - INFO - Results used CRDS context: jwst_0988.pmap\n"
     ]
    },
    {
     "name": "stderr",
     "output_type": "stream",
     "text": [
      "2022-10-04 22:42:38,468 - stpipe.Extract1dStep - INFO - Step Extract1dStep done\n"
     ]
    },
    {
     "name": "stderr",
     "output_type": "stream",
     "text": [
      "2022-10-04 22:42:38,746 - stpipe.Extract1dStep - INFO - Extract1dStep instance created.\n"
     ]
    },
    {
     "name": "stderr",
     "output_type": "stream",
     "text": [
      "2022-10-04 22:42:38,934 - stpipe.Extract1dStep - INFO - Step Extract1dStep running with args ('det_image_ch4-long_s3d.fits',).\n"
     ]
    },
    {
     "name": "stderr",
     "output_type": "stream",
     "text": [
      "2022-10-04 22:42:38,936 - stpipe.Extract1dStep - INFO - Step Extract1dStep parameters are: {'pre_hooks': [], 'post_hooks': [], 'output_file': None, 'output_dir': None, 'output_ext': '.fits', 'output_use_model': False, 'output_use_index': True, 'save_results': False, 'skip': False, 'suffix': None, 'search_output_file': True, 'input_dir': '', 'smoothing_length': None, 'bkg_fit': None, 'bkg_order': None, 'bkg_sigma_clip': 3.0, 'log_increment': 50, 'subtract_background': None, 'use_source_posn': None, 'center_xy': None, 'apply_apcorr': True, 'soss_threshold': 0.01, 'soss_n_os': 2, 'soss_transform': None, 'soss_tikfac': None, 'soss_width': 40.0, 'soss_bad_pix': 'model', 'soss_modelname': None}\n"
     ]
    },
    {
     "name": "stderr",
     "output_type": "stream",
     "text": [
      "2022-10-04 22:42:39,143 - stpipe.Extract1dStep - INFO - Using EXTRACT1D reference file /grp/crds/cache/references/jwst/jwst_miri_extract1d_0003.asdf\n"
     ]
    },
    {
     "name": "stderr",
     "output_type": "stream",
     "text": [
      "2022-10-04 22:42:39,154 - stpipe.Extract1dStep - INFO - Using APCORR file /grp/crds/cache/references/jwst/jwst_miri_apcorr_0002.asdf\n"
     ]
    },
    {
     "name": "stderr",
     "output_type": "stream",
     "text": [
      "2022-10-04 22:42:40,714 - stpipe.Extract1dStep - INFO - Turning on source position correction for exp_type = MIR_MRS\n"
     ]
    },
    {
     "name": "stderr",
     "output_type": "stream",
     "text": [
      "2022-10-04 22:42:40,714 - stpipe.Extract1dStep - INFO - Source type = EXTENDED\n"
     ]
    },
    {
     "name": "stderr",
     "output_type": "stream",
     "text": [
      "2022-10-04 22:42:40,728 - stpipe.Extract1dStep - INFO - Input model does not break out variance information. Passing only generalized errors.\n"
     ]
    },
    {
     "name": "stderr",
     "output_type": "stream",
     "text": [
      "2022-10-04 22:42:47,216 - stpipe.Extract1dStep - INFO - Results used CRDS context: jwst_0988.pmap\n"
     ]
    },
    {
     "name": "stderr",
     "output_type": "stream",
     "text": [
      "2022-10-04 22:42:47,217 - stpipe.Extract1dStep - INFO - Step Extract1dStep done\n"
     ]
    }
   ],
   "source": [
    "#Do Band A things\n",
    "band_chan=['ch1-short','ch2-short','ch3-short','ch4-short']\n",
    "for i in range(0,4):\n",
    "    temppath1='det_image_'+band_chan[i]+'_s3d.fits'\n",
    "    print(temppath1)\n",
    "    result=Extract1dStep.call(temppath1) \n",
    "    result.save(band_chan[i]+\"_output_file_from_extract1d.fits\")\n",
    "    \n",
    "#Do Band B things\n",
    "band_chan=['ch1-medium','ch2-medium','ch3-medium','ch4-medium']\n",
    "for i in range(0,4):\n",
    "    temppath1='det_image_'+band_chan[i]+'_s3d.fits'\n",
    "    result=Extract1dStep.call(temppath1) \n",
    "    result.save(band_chan[i]+\"_output_file_from_extract1d.fits\")\n",
    "    \n",
    "#Do Band C things\n",
    "band_chan=['ch1-long','ch2-long','ch3-long','ch4-long']\n",
    "for i in range(0,4):\n",
    "    temppath1='det_image_'+band_chan[i]+'_s3d.fits'\n",
    "    result=Extract1dStep.call(temppath1) \n",
    "    result.save(band_chan[i]+\"_output_file_from_extract1d.fits\")"
   ]
  },
  {
   "cell_type": "code",
   "execution_count": 11,
   "metadata": {
    "execution": {
     "iopub.execute_input": "2022-10-05T02:42:47.305509Z",
     "iopub.status.busy": "2022-10-05T02:42:47.305253Z",
     "iopub.status.idle": "2022-10-05T02:42:47.715369Z",
     "shell.execute_reply": "2022-10-05T02:42:47.714847Z"
    }
   },
   "outputs": [
    {
     "name": "stderr",
     "output_type": "stream",
     "text": [
      "2022-10-04 22:42:47,366 - stpipe - WARNING - /internal/data1/jenkins/workspace/Notebooks/jwst_validation_notebooks_spacetelescope/miniconda3/envs/jwst_validation_notebooks/lib/python3.9/site-packages/astropy/units/core.py:2042: UnitsWarning: '(MJy/sr)^2' did not parse as fits unit: Syntax error parsing unit '(MJy/sr)^2' If this is meant to be a custom unit, define it with 'u.def_unit'. To have it recognized inside a file reader or other code, enable it with 'u.add_enabled_units'. For details, see https://docs.astropy.org/en/latest/units/combining_and_defining.html\n",
      "  warnings.warn(msg, UnitsWarning)\n",
      "\n"
     ]
    },
    {
     "data": {
      "image/png": "[encoded data removed]",
      "text/plain": [
       "<Figure size 640x480 with 1 Axes>"
      ]
     },
     "metadata": {},
     "output_type": "display_data"
    }
   ],
   "source": [
    "#Plot Band A\n",
    "band_chan=['ch1-short','ch2-short','ch3-short','ch4-short']\n",
    "for i in range(0,4):\n",
    "    read_output1=fits.open(band_chan[i]+\"_output_file_from_extract1d.fits\")\n",
    "    data1=Table.read(read_output1, hdu=1)\n",
    "    flux1=data1['FLUX']\n",
    "    wavelength1=data1['WAVELENGTH']\n",
    "    plt.plot(wavelength1,flux1,'-', color='black', lw=1)\n",
    "\n",
    "#Plot Band B\n",
    "band_chan=['ch1-medium','ch2-medium','ch3-medium','ch4-medium']\n",
    "for i in range(0,4):\n",
    "    read_output1=fits.open(band_chan[i]+\"_output_file_from_extract1d.fits\")\n",
    "    data1=Table.read(read_output1, hdu=1)\n",
    "    flux1=data1['FLUX']\n",
    "    wavelength1=data1['WAVELENGTH']\n",
    "    plt.plot(wavelength1,flux1,'-', color='blue', lw=1)\n",
    "    \n",
    "#Plot Band C\n",
    "band_chan=['ch1-long','ch2-long','ch3-long','ch4-long']\n",
    "for i in range(0,4):\n",
    "    read_output1=fits.open(band_chan[i]+\"_output_file_from_extract1d.fits\")\n",
    "    data1=Table.read(read_output1, hdu=1)\n",
    "    flux1=data1['FLUX']\n",
    "    wavelength1=data1['WAVELENGTH']\n",
    "    plt.plot(wavelength1,flux1,'-', color='red', lw=1)\n",
    "    plt.xlim(4.5,28)\n",
    "    plt.ylim(0.0009,0.0011) "
   ]
  },
  {
   "cell_type": "markdown",
   "metadata": {},
   "source": [
    "A successful test shows that the source is flat within 2%."
   ]
  }
 ],
 "metadata": {
  "kernelspec": {
   "display_name": "Python 3",
   "language": "python",
   "name": "python3"
  },
  "language_info": {
   "codemirror_mode": {
    "name": "ipython",
    "version": 3
   },
   "file_extension": ".py",
   "mimetype": "text/x-python",
   "name": "python",
   "nbconvert_exporter": "python",
   "pygments_lexer": "ipython3",
   "version": "3.9.13"
  }
 },
 "nbformat": 4,
 "nbformat_minor": 2
}
