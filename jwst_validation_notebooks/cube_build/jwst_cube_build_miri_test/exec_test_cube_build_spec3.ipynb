{
 "cells": [
  {
   "cell_type": "markdown",
   "metadata": {},
   "source": [
    "<a id=\"title_ID\"></a>\n",
    "# JWST Pipeline Validation Testing Notebook: Cube Build with MIRISIM Data\n",
    "\n",
    "<span style=\"color:red\"> **Instruments Affected**</span>: MIRI\n",
    "\n",
    "Tested with simulated MIRI MRS data."
   ]
  },
  {
   "cell_type": "markdown",
   "metadata": {},
   "source": [
    "#### Author: Isha Nayak"
   ]
  },
  {
   "cell_type": "markdown",
   "metadata": {},
   "source": [
    "This notebook is the second one that tests the cube build step of Spec3 of the JWST pipeline. The first notebook (https://github.com/spacetelescope/jwst_validation_notebooks/blob/master/jwst_validation_notebooks/cube_build/jwst_cube_build_miri_test/testing_point_source_flux_conservation_modeshep_all.ipynb) looks at data that bypasses MIRISim."
   ]
  },
  {
   "cell_type": "markdown",
   "metadata": {},
   "source": [
    "In this notebook we use MIRISim data created with a 4 point dither and SLOW mode to see if a flat source with flux of 0.01 Jy is still flat after being processed by Detector 1, Spec 2, and Spec 3 steps of the pipeline. We skip outlier detection so there are outliers that do not get flagged, resulting in noise spikes in the spectrum. "
   ]
  },
  {
   "cell_type": "markdown",
   "metadata": {},
   "source": [
    "In the Detector 1 step we turn off reference pixels because reference pixels are not accounted for in a consistent manner. In the Spec 2 step we turn off straylight because it can sometimes cause problems, and we skip extract 1D and cube build and rely on Spec 3 for those steps instead. In Spec 3 we turn off master background because it does not work well for point sources and the extract 1D step does background subtraction, we turn off mrs imatch because it takes too much computational time, and we turn off outlier detection since that will be a separate notebook that tests the functionality of noise spikes and cosmic rays getting detected."
   ]
  },
  {
   "cell_type": "markdown",
   "metadata": {},
   "source": [
    "In the first cube build notebook we inject a point source onto the MRS detector. We find that if we input a flat point source of 0.01 Jy, the standalone cube build function in Spec 3 will output a flat point source of 0.01 Jy within 2%. In each channel the spectrum is flat, but there is a mismatch of up to 2% within bands: i.e. the spectra is flat in Channel 1A and is flat is Channel 1B, but there is a small offset between Channel 1A and 1B. "
   ]
  },
  {
   "cell_type": "markdown",
   "metadata": {},
   "source": [
    "In this notebook the critera for passing in Channel/Band 1A through 3C is the median value in those channels has to be within 20% of the input flux of 0.01 Jy. Flux conservations is not perfect with mirisim data and the pipeline adds factors/corrections that cannot actually be tested until we get real data. Therefore the passing criteria in Channel/Band 1A through 3C is that the flux has to be conserved within 20% when using mirisim data and processing it through the pipeline, which is different from the 2% flux conservation criteria when we can bypass mirisim and test cube build."
   ]
  },
  {
   "cell_type": "markdown",
   "metadata": {},
   "source": [
    "The critera for passing in 4A through 4C is the median value has to be within 160%. Channel 4 flux calibration is incorrect in mirisim and channel 4 data processes through the pipeline is also incorrect."
   ]
  },
  {
   "cell_type": "code",
   "execution_count": 1,
   "metadata": {
    "execution": {
     "iopub.execute_input": "2022-09-19T19:58:25.271516Z",
     "iopub.status.busy": "2022-09-19T19:58:25.270683Z",
     "iopub.status.idle": "2022-09-19T19:58:25.279896Z",
     "shell.execute_reply": "2022-09-19T19:58:25.279054Z"
    }
   },
   "outputs": [
    {
     "name": "stdout",
     "output_type": "stream",
     "text": [
      "CRDS cache location: /tmp/crds_cache\n"
     ]
    }
   ],
   "source": [
    "import os\n",
    "if 'CRDS_CACHE_TYPE' in os.environ:\n",
    "    if os.environ['CRDS_CACHE_TYPE'] == 'local':\n",
    "        os.environ['CRDS_PATH'] = os.path.join(os.environ['HOME'], 'crds', 'cache')\n",
    "    elif os.path.isdir(os.environ['CRDS_CACHE_TYPE']):\n",
    "        os.environ['CRDS_PATH'] = os.environ['CRDS_CACHE_TYPE']\n",
    "print('CRDS cache location: {}'.format(os.environ['CRDS_PATH']))"
   ]
  },
  {
   "cell_type": "markdown",
   "metadata": {},
   "source": [
    "#### Update CRDS Context"
   ]
  },
  {
   "cell_type": "code",
   "execution_count": 2,
   "metadata": {
    "execution": {
     "iopub.execute_input": "2022-09-19T19:58:25.283486Z",
     "iopub.status.busy": "2022-09-19T19:58:25.282802Z",
     "iopub.status.idle": "2022-09-19T19:58:25.286226Z",
     "shell.execute_reply": "2022-09-19T19:58:25.285337Z"
    }
   },
   "outputs": [],
   "source": [
    "#Update the context\n",
    "#%env CRDS_CONTEXT=jwst_0719.pmap"
   ]
  },
  {
   "cell_type": "markdown",
   "metadata": {},
   "source": [
    "#### Import necessary packages"
   ]
  },
  {
   "cell_type": "code",
   "execution_count": 3,
   "metadata": {
    "execution": {
     "iopub.execute_input": "2022-09-19T19:58:25.289974Z",
     "iopub.status.busy": "2022-09-19T19:58:25.289255Z",
     "iopub.status.idle": "2022-09-19T19:58:25.493526Z",
     "shell.execute_reply": "2022-09-19T19:58:25.492677Z"
    }
   },
   "outputs": [],
   "source": [
    "# Box download imports\n",
    "from astropy.utils.data import download_file\n",
    "from pathlib import Path\n",
    "from shutil import move\n",
    "from os.path import splitext"
   ]
  },
  {
   "cell_type": "code",
   "execution_count": 4,
   "metadata": {
    "execution": {
     "iopub.execute_input": "2022-09-19T19:58:25.497515Z",
     "iopub.status.busy": "2022-09-19T19:58:25.496882Z",
     "iopub.status.idle": "2022-09-19T19:58:26.868649Z",
     "shell.execute_reply": "2022-09-19T19:58:26.867843Z"
    }
   },
   "outputs": [],
   "source": [
    "#JWST functions\n",
    "import jwst\n",
    "from jwst.pipeline import Detector1Pipeline\n",
    "from jwst.pipeline import Spec2Pipeline\n",
    "from jwst.pipeline import Spec3Pipeline"
   ]
  },
  {
   "cell_type": "code",
   "execution_count": 5,
   "metadata": {
    "execution": {
     "iopub.execute_input": "2022-09-19T19:58:26.872501Z",
     "iopub.status.busy": "2022-09-19T19:58:26.872147Z",
     "iopub.status.idle": "2022-09-19T19:58:27.338164Z",
     "shell.execute_reply": "2022-09-19T19:58:27.337315Z"
    }
   },
   "outputs": [],
   "source": [
    "#Mathematics and plotting functions\n",
    "from astropy.io import fits\n",
    "import matplotlib.pyplot as plt\n",
    "from astropy.utils.data import get_pkg_data_filename\n",
    "import numpy as np"
   ]
  },
  {
   "cell_type": "code",
   "execution_count": 6,
   "metadata": {
    "execution": {
     "iopub.execute_input": "2022-09-19T19:58:27.343572Z",
     "iopub.status.busy": "2022-09-19T19:58:27.342762Z",
     "iopub.status.idle": "2022-09-19T19:58:27.346762Z",
     "shell.execute_reply": "2022-09-19T19:58:27.346203Z"
    }
   },
   "outputs": [
    {
     "name": "stdout",
     "output_type": "stream",
     "text": [
      "1.7.2\n"
     ]
    }
   ],
   "source": [
    "#Check JWST version\n",
    "print(jwst.__version__ )"
   ]
  },
  {
   "cell_type": "markdown",
   "metadata": {},
   "source": [
    "#### Setup Box Files"
   ]
  },
  {
   "cell_type": "code",
   "execution_count": 7,
   "metadata": {
    "execution": {
     "iopub.execute_input": "2022-09-19T19:58:27.350431Z",
     "iopub.status.busy": "2022-09-19T19:58:27.350132Z",
     "iopub.status.idle": "2022-09-19T19:58:27.353826Z",
     "shell.execute_reply": "2022-09-19T19:58:27.353238Z"
    }
   },
   "outputs": [],
   "source": [
    "def get_box_files(file_list):\n",
    "    for box_url,file_name in file_list:\n",
    "        if 'https' not in box_url:\n",
    "            box_url = 'https://stsci.box.com/shared/static/' + box_url\n",
    "        downloaded_file = download_file(box_url, timeout=600)\n",
    "        if Path(file_name).suffix == '':\n",
    "            ext = splitext(box_url)[1]\n",
    "            file_name += ext\n",
    "        move(downloaded_file, file_name)"
   ]
  },
  {
   "cell_type": "code",
   "execution_count": 8,
   "metadata": {
    "execution": {
     "iopub.execute_input": "2022-09-19T19:58:27.357150Z",
     "iopub.status.busy": "2022-09-19T19:58:27.356787Z",
     "iopub.status.idle": "2022-09-19T19:58:27.361049Z",
     "shell.execute_reply": "2022-09-19T19:58:27.360463Z"
    }
   },
   "outputs": [
    {
     "name": "stdout",
     "output_type": "stream",
     "text": [
      "Running in /internal/data1/jenkins/workspace/Notebooks/jwst_validation_notebooks_spacetelescope/tmp/tmpnx270gn4\n"
     ]
    }
   ],
   "source": [
    "#****\n",
    "#\n",
    "# Set this variable to False to not use the temporary directory\n",
    "#\n",
    "#****\n",
    "use_tempdir = True\n",
    "# Create a temporary directory to hold notebook output, and change the working directory to that directory.\n",
    "from tempfile import TemporaryDirectory\n",
    "import os\n",
    "import shutil\n",
    "if use_tempdir:\n",
    "    data_dir = TemporaryDirectory()\n",
    "    # If you have files that are in the notebook's directory, but that the notebook will need to use while\n",
    "    # running, copy them into the temporary directory here.\n",
    "    #\n",
    "    # files = ['name_of_file']\n",
    "    # for file_name in files:\n",
    "    #     shutil.copy(file_name, os.path.join(data_dir.name, file_name))\n",
    "    # Save original directory\n",
    "    orig_dir = os.getcwd()\n",
    "    # Move to new directory\n",
    "    os.chdir(data_dir.name)\n",
    "# For info, print out where the script is running\n",
    "print(\"Running in {}\".format(os.getcwd()))"
   ]
  },
  {
   "cell_type": "markdown",
   "metadata": {},
   "source": [
    "#### Setup Box Urls"
   ]
  },
  {
   "cell_type": "code",
   "execution_count": 9,
   "metadata": {
    "execution": {
     "iopub.execute_input": "2022-09-19T19:58:27.365072Z",
     "iopub.status.busy": "2022-09-19T19:58:27.364715Z",
     "iopub.status.idle": "2022-09-19T19:59:31.952469Z",
     "shell.execute_reply": "2022-09-19T19:59:31.950970Z"
    }
   },
   "outputs": [],
   "source": [
    "seq1_file_urls = ['https://stsci.box.com/shared/static/bfdwxoi5d1bigpcrm8oax4gs7zvrx7jl.fits',\n",
    "                 'https://stsci.box.com/shared/static/prkl3tr4tvi19f069kc0mdzfyrq9zqq9.fits',\n",
    "                 'https://stsci.box.com/shared/static/tt81e5rp4325qn6qjndzr1tygwcd8mi3.fits',\n",
    "                 'https://stsci.box.com/shared/static/oji8v81g5fvqnz2mplz7vrrxzf09j17i.fits',\n",
    "                 'https://stsci.box.com/shared/static/qorfegleqsp47wk0c895xl0zzjlsc9za.fits',\n",
    "                 'https://stsci.box.com/shared/static/55pcsp5867p7a5dg5qx8yazqkuamjwdb.fits']\n",
    "\n",
    "seq1_file_names = ['det_image_seq1_MIRIFULONG_34LONGexp1.fits',\n",
    "                  'det_image_seq1_MIRIFULONG_34MEDIUMexp1.fits',\n",
    "                  'det_image_seq1_MIRIFULONG_34SHORTexp1.fits',\n",
    "                  'det_image_seq1_MIRIFUSHORT_12LONGexp1.fits',\n",
    "                  'det_image_seq1_MIRIFUSHORT_12MEDIUMexp1.fits',\n",
    "                  'det_image_seq1_MIRIFUSHORT_12SHORTexp1.fits']\n",
    "\n",
    "box_download_list_seq1 = [(url,name) for url,name in zip(seq1_file_urls,seq1_file_names)]\n",
    "\n",
    "get_box_files(box_download_list_seq1)"
   ]
  },
  {
   "cell_type": "code",
   "execution_count": 10,
   "metadata": {
    "execution": {
     "iopub.execute_input": "2022-09-19T19:59:31.957682Z",
     "iopub.status.busy": "2022-09-19T19:59:31.956926Z",
     "iopub.status.idle": "2022-09-19T20:00:35.344481Z",
     "shell.execute_reply": "2022-09-19T20:00:35.343070Z"
    }
   },
   "outputs": [],
   "source": [
    "seq2_file_urls = ['https://stsci.box.com/shared/static/l0338f4vx7lbt6nacmu5e3qn0t63f0hg.fits',\n",
    "                 'https://stsci.box.com/shared/static/zbeijqyendw0q3du7ttks4s3a88wulng.fits',\n",
    "                 'https://stsci.box.com/shared/static/426lhx21n77hyaur9zzi8fclqj6brlnq.fits',\n",
    "                 'https://stsci.box.com/shared/static/3h2dbj7xrmz0sqtqurmxqzoys48ccguf.fits',\n",
    "                 'https://stsci.box.com/shared/static/954nenk3p81wes4uo0izvydmuq23pswi.fits',\n",
    "                 'https://stsci.box.com/shared/static/b20bea8ymgk6gp4bj7i307dgwgyp6bj8.fits']\n",
    "\n",
    "seq2_file_names = ['det_image_seq2_MIRIFULONG_34LONGexp1.fits',\n",
    "                  'det_image_seq2_MIRIFULONG_34MEDIUMexp1.fits',\n",
    "                  'det_image_seq2_MIRIFULONG_34SHORTexp1.fits',\n",
    "                  'det_image_seq2_MIRIFUSHORT_12LONGexp1.fits',\n",
    "                  'det_image_seq2_MIRIFUSHORT_12MEDIUMexp1.fits',\n",
    "                  'det_image_seq2_MIRIFUSHORT_12SHORTexp1.fits']\n",
    "\n",
    "box_download_list_seq2 = [(url,name) for url,name in zip(seq2_file_urls,seq2_file_names)]\n",
    "\n",
    "get_box_files(box_download_list_seq2)"
   ]
  },
  {
   "cell_type": "code",
   "execution_count": 11,
   "metadata": {
    "execution": {
     "iopub.execute_input": "2022-09-19T20:00:35.349292Z",
     "iopub.status.busy": "2022-09-19T20:00:35.349002Z",
     "iopub.status.idle": "2022-09-19T20:02:16.341145Z",
     "shell.execute_reply": "2022-09-19T20:02:16.338925Z"
    }
   },
   "outputs": [],
   "source": [
    "seq3_file_urls = ['https://stsci.box.com/shared/static/jtaxk9nka3eiln5s583csvoujvkoim0h.fits',\n",
    "                 'https://stsci.box.com/shared/static/mqvcswxmdermtj2keu979p35u9f4yten.fits',\n",
    "                 'https://stsci.box.com/shared/static/nrxoryzu2vy264w5pr11ejeqktxicl7u.fits',\n",
    "                 'https://stsci.box.com/shared/static/0zdaj8qxj5a2vovtejj15ba12gq4coio.fits',\n",
    "                 'https://stsci.box.com/shared/static/x7rquwb5o9ncxsm550etnpig68bhqlxc.fits',\n",
    "                 'https://stsci.box.com/shared/static/1vr3h1rmy7n7e9jq5rum13g496anqn39.fits']\n",
    "\n",
    "seq3_file_names = ['det_image_seq3_MIRIFULONG_34LONGexp1.fits',\n",
    "                  'det_image_seq3_MIRIFULONG_34MEDIUMexp1.fits',\n",
    "                  'det_image_seq3_MIRIFULONG_34SHORTexp1.fits',\n",
    "                  'det_image_seq3_MIRIFUSHORT_12LONGexp1.fits',\n",
    "                  'det_image_seq3_MIRIFUSHORT_12MEDIUMexp1.fits',\n",
    "                  'det_image_seq3_MIRIFUSHORT_12SHORTexp1.fits']\n",
    "\n",
    "box_download_list_seq3 = [(url,name) for url,name in zip(seq3_file_urls,seq3_file_names)]\n",
    "\n",
    "get_box_files(box_download_list_seq3)"
   ]
  },
  {
   "cell_type": "code",
   "execution_count": 12,
   "metadata": {
    "execution": {
     "iopub.execute_input": "2022-09-19T20:02:16.346515Z",
     "iopub.status.busy": "2022-09-19T20:02:16.346132Z",
     "iopub.status.idle": "2022-09-19T20:03:38.660449Z",
     "shell.execute_reply": "2022-09-19T20:03:38.659308Z"
    }
   },
   "outputs": [],
   "source": [
    "seq4_file_urls = ['https://stsci.box.com/shared/static/mj13u4iqlqp8altu47wief0pa4nie05z.fits',\n",
    "                 'https://stsci.box.com/shared/static/9gca440lueo3yl5qwi4h72w1z4imkw07.fits',\n",
    "                 'https://stsci.box.com/shared/static/4jp6trj5vcu957v7mgrk3x0xswspjsyp.fits',\n",
    "                 'https://stsci.box.com/shared/static/o0sxswa1fcykbll7ynqobc6xj7pinr72.fits',\n",
    "                 'https://stsci.box.com/shared/static/c8udg4depbxoha6m7vbntmq1j2vcqljj.fits',\n",
    "                 'https://stsci.box.com/shared/static/sgp67c1gotmp4kyc4okzjkxpdxcvv2g8.fits',\n",
    "                 'https://stsci.box.com/shared/static/csgnwqoos19wt9tkavpb0ml75p2j6m0q.json']\n",
    "\n",
    "seq4_file_names = ['det_image_seq4_MIRIFULONG_34LONGexp1.fits',\n",
    "                  'det_image_seq4_MIRIFULONG_34MEDIUMexp1.fits',\n",
    "                  'det_image_seq4_MIRIFULONG_34SHORTexp1.fits',\n",
    "                  'det_image_seq4_MIRIFUSHORT_12LONGexp1.fits',\n",
    "                  'det_image_seq4_MIRIFUSHORT_12MEDIUMexp1.fits',\n",
    "                  'det_image_seq4_MIRIFUSHORT_12SHORTexp1.fits',\n",
    "                  'spec3_updated.json']\n",
    "\n",
    "box_download_list_seq4 = [(url,name) for url,name in zip(seq4_file_urls,seq4_file_names)]\n",
    "\n",
    "get_box_files(box_download_list_seq4)"
   ]
  },
  {
   "cell_type": "markdown",
   "metadata": {},
   "source": [
    "#### Setup Loops"
   ]
  },
  {
   "cell_type": "code",
   "execution_count": 13,
   "metadata": {
    "execution": {
     "iopub.execute_input": "2022-09-19T20:03:38.664796Z",
     "iopub.status.busy": "2022-09-19T20:03:38.663994Z",
     "iopub.status.idle": "2022-09-19T20:03:38.669385Z",
     "shell.execute_reply": "2022-09-19T20:03:38.668756Z"
    }
   },
   "outputs": [],
   "source": [
    "#Band Loop 1\n",
    "band_loop1 = ['12SHORT', '12MEDIUM', '12LONG']\n",
    "\n",
    "#Band Loop 1\n",
    "band_loop2 = ['34SHORT', '34MEDIUM', '34LONG']\n",
    "\n",
    "#Dither Loop\n",
    "dit_loop = ['seq1', 'seq2', 'seq3', 'seq4']\n",
    "\n",
    "#Channels\n",
    "chan_type1=['ch1-short', 'ch1-medium', 'ch1-long', 'ch2-short', 'ch2-medium', 'ch2-long', 'ch3-short', 'ch3-medium', 'ch3-long', 'ch4-short', 'ch4-medium', 'ch4-long']\n",
    "chan_type2=['1a', '1b', '1c', '2a', '2b', '2c', '3a', '3b', '3c', '4a', '4b', '4c']\n",
    "\n",
    "#Colors\n",
    "color_list=['black', 'red', 'blue', 'black', 'red', 'blue', 'black', 'red', 'blue', 'black', 'red', 'blue']"
   ]
  },
  {
   "cell_type": "markdown",
   "metadata": {},
   "source": [
    "#### Setup Detector 1 File Names"
   ]
  },
  {
   "cell_type": "code",
   "execution_count": 14,
   "metadata": {
    "execution": {
     "iopub.execute_input": "2022-09-19T20:03:38.672224Z",
     "iopub.status.busy": "2022-09-19T20:03:38.671574Z",
     "iopub.status.idle": "2022-09-19T20:03:38.676616Z",
     "shell.execute_reply": "2022-09-19T20:03:38.676027Z"
    }
   },
   "outputs": [],
   "source": [
    "name1 = [' '] * 12\n",
    "count=0\n",
    "for j in range(0, 3):    \n",
    "    for i in range(0, 4):\n",
    "        name1[count] = 'det_image_' + dit_loop[i] + '_MIRIFUSHORT_' + band_loop1[j] + 'exp1.fits'\n",
    "        count=count+1\n",
    "\n",
    "name2 = [' '] * 12\n",
    "count=0\n",
    "for j in range(0, 3):    \n",
    "    for i in range(0, 4):\n",
    "        name2[count] = 'det_image_' + dit_loop[i] + '_MIRIFULONG_' + band_loop2[j] + 'exp1.fits'\n",
    "        count=count+1\n",
    "        \n",
    "name_det1=np.concatenate((name1,name2))"
   ]
  },
  {
   "cell_type": "markdown",
   "metadata": {},
   "source": [
    "#### Run Detector 1 and Skip Reference Pixel"
   ]
  },
  {
   "cell_type": "code",
   "execution_count": 15,
   "metadata": {
    "execution": {
     "iopub.execute_input": "2022-09-19T20:03:38.679376Z",
     "iopub.status.busy": "2022-09-19T20:03:38.678798Z",
     "iopub.status.idle": "2022-09-19T20:03:42.138276Z",
     "shell.execute_reply": "2022-09-19T20:03:42.137413Z"
    }
   },
   "outputs": [
    {
     "name": "stderr",
     "output_type": "stream",
     "text": [
      "2022-09-19 16:03:40,295 - stpipe - INFO - PARS-DETECTOR1PIPELINE parameters found: /tmp/crds_cache/references/jwst/miri/jwst_miri_pars-detector1pipeline_0001.asdf\n"
     ]
    },
    {
     "name": "stderr",
     "output_type": "stream",
     "text": [
      "2022-09-19 16:03:40,315 - stpipe.Detector1Pipeline - INFO - Detector1Pipeline instance created.\n"
     ]
    },
    {
     "name": "stderr",
     "output_type": "stream",
     "text": [
      "2022-09-19 16:03:40,316 - stpipe.Detector1Pipeline.group_scale - INFO - GroupScaleStep instance created.\n"
     ]
    },
    {
     "name": "stderr",
     "output_type": "stream",
     "text": [
      "2022-09-19 16:03:40,318 - stpipe.Detector1Pipeline.dq_init - INFO - DQInitStep instance created.\n"
     ]
    },
    {
     "name": "stderr",
     "output_type": "stream",
     "text": [
      "2022-09-19 16:03:40,319 - stpipe.Detector1Pipeline.saturation - INFO - SaturationStep instance created.\n"
     ]
    },
    {
     "name": "stderr",
     "output_type": "stream",
     "text": [
      "2022-09-19 16:03:40,320 - stpipe.Detector1Pipeline.ipc - INFO - IPCStep instance created.\n"
     ]
    },
    {
     "name": "stderr",
     "output_type": "stream",
     "text": [
      "2022-09-19 16:03:40,321 - stpipe.Detector1Pipeline.superbias - INFO - SuperBiasStep instance created.\n"
     ]
    },
    {
     "name": "stderr",
     "output_type": "stream",
     "text": [
      "2022-09-19 16:03:40,322 - stpipe.Detector1Pipeline.refpix - INFO - RefPixStep instance created.\n"
     ]
    },
    {
     "name": "stderr",
     "output_type": "stream",
     "text": [
      "2022-09-19 16:03:40,323 - stpipe.Detector1Pipeline.rscd - INFO - RscdStep instance created.\n"
     ]
    },
    {
     "name": "stderr",
     "output_type": "stream",
     "text": [
      "2022-09-19 16:03:40,324 - stpipe.Detector1Pipeline.firstframe - INFO - FirstFrameStep instance created.\n"
     ]
    },
    {
     "name": "stderr",
     "output_type": "stream",
     "text": [
      "2022-09-19 16:03:40,325 - stpipe.Detector1Pipeline.lastframe - INFO - LastFrameStep instance created.\n"
     ]
    },
    {
     "name": "stderr",
     "output_type": "stream",
     "text": [
      "2022-09-19 16:03:40,326 - stpipe.Detector1Pipeline.linearity - INFO - LinearityStep instance created.\n"
     ]
    },
    {
     "name": "stderr",
     "output_type": "stream",
     "text": [
      "2022-09-19 16:03:40,328 - stpipe.Detector1Pipeline.dark_current - INFO - DarkCurrentStep instance created.\n"
     ]
    },
    {
     "name": "stderr",
     "output_type": "stream",
     "text": [
      "2022-09-19 16:03:40,329 - stpipe.Detector1Pipeline.reset - INFO - ResetStep instance created.\n"
     ]
    },
    {
     "name": "stderr",
     "output_type": "stream",
     "text": [
      "2022-09-19 16:03:40,330 - stpipe.Detector1Pipeline.persistence - INFO - PersistenceStep instance created.\n"
     ]
    },
    {
     "name": "stderr",
     "output_type": "stream",
     "text": [
      "2022-09-19 16:03:40,332 - stpipe.Detector1Pipeline.jump - INFO - JumpStep instance created.\n"
     ]
    },
    {
     "name": "stderr",
     "output_type": "stream",
     "text": [
      "2022-09-19 16:03:40,333 - stpipe.Detector1Pipeline.ramp_fit - INFO - RampFitStep instance created.\n"
     ]
    },
    {
     "name": "stderr",
     "output_type": "stream",
     "text": [
      "2022-09-19 16:03:40,334 - stpipe.Detector1Pipeline.gain_scale - INFO - GainScaleStep instance created.\n"
     ]
    },
    {
     "name": "stderr",
     "output_type": "stream",
     "text": [
      "2022-09-19 16:03:40,504 - stpipe.Detector1Pipeline - INFO - Step Detector1Pipeline running with args ('det_image_seq1_MIRIFUSHORT_12SHORTexp1.fits',).\n"
     ]
    },
    {
     "name": "stderr",
     "output_type": "stream",
     "text": [
      "2022-09-19 16:03:40,514 - stpipe.Detector1Pipeline - INFO - Step Detector1Pipeline parameters are: {'pre_hooks': [], 'post_hooks': [], 'output_file': None, 'output_dir': None, 'output_ext': '.fits', 'output_use_model': False, 'output_use_index': True, 'save_results': True, 'skip': False, 'suffix': None, 'search_output_file': True, 'input_dir': '', 'save_calibrated_ramp': False, 'steps': {'group_scale': {'pre_hooks': [], 'post_hooks': [], 'output_file': None, 'output_dir': None, 'output_ext': '.fits', 'output_use_model': False, 'output_use_index': True, 'save_results': False, 'skip': False, 'suffix': None, 'search_output_file': True, 'input_dir': ''}, 'dq_init': {'pre_hooks': [], 'post_hooks': [], 'output_file': None, 'output_dir': None, 'output_ext': '.fits', 'output_use_model': False, 'output_use_index': True, 'save_results': False, 'skip': False, 'suffix': None, 'search_output_file': True, 'input_dir': ''}, 'saturation': {'pre_hooks': [], 'post_hooks': [], 'output_file': None, 'output_dir': None, 'output_ext': '.fits', 'output_use_model': False, 'output_use_index': True, 'save_results': False, 'skip': False, 'suffix': None, 'search_output_file': True, 'input_dir': '', 'n_pix_grow_sat': 1}, 'ipc': {'pre_hooks': [], 'post_hooks': [], 'output_file': None, 'output_dir': None, 'output_ext': '.fits', 'output_use_model': False, 'output_use_index': True, 'save_results': False, 'skip': True, 'suffix': None, 'search_output_file': True, 'input_dir': ''}, 'superbias': {'pre_hooks': [], 'post_hooks': [], 'output_file': None, 'output_dir': None, 'output_ext': '.fits', 'output_use_model': False, 'output_use_index': True, 'save_results': False, 'skip': False, 'suffix': None, 'search_output_file': True, 'input_dir': ''}, 'refpix': {'pre_hooks': [], 'post_hooks': [], 'output_file': None, 'output_dir': None, 'output_ext': '.fits', 'output_use_model': False, 'output_use_index': True, 'save_results': False, 'skip': True, 'suffix': None, 'search_output_file': True, 'input_dir': '', 'odd_even_columns': True, 'use_side_ref_pixels': True, 'side_smoothing_length': 11, 'side_gain': 1.0, 'odd_even_rows': True}, 'rscd': {'pre_hooks': [], 'post_hooks': [], 'output_file': None, 'output_dir': None, 'output_ext': '.fits', 'output_use_model': False, 'output_use_index': True, 'save_results': False, 'skip': False, 'suffix': None, 'search_output_file': True, 'input_dir': '', 'type': 'baseline'}, 'firstframe': {'pre_hooks': [], 'post_hooks': [], 'output_file': None, 'output_dir': None, 'output_ext': '.fits', 'output_use_model': False, 'output_use_index': True, 'save_results': False, 'skip': False, 'suffix': None, 'search_output_file': True, 'input_dir': ''}, 'lastframe': {'pre_hooks': [], 'post_hooks': [], 'output_file': None, 'output_dir': None, 'output_ext': '.fits', 'output_use_model': False, 'output_use_index': True, 'save_results': False, 'skip': False, 'suffix': None, 'search_output_file': True, 'input_dir': ''}, 'linearity': {'pre_hooks': [], 'post_hooks': [], 'output_file': None, 'output_dir': None, 'output_ext': '.fits', 'output_use_model': False, 'output_use_index': True, 'save_results': False, 'skip': False, 'suffix': None, 'search_output_file': True, 'input_dir': ''}, 'dark_current': {'pre_hooks': [], 'post_hooks': [], 'output_file': None, 'output_dir': None, 'output_ext': '.fits', 'output_use_model': False, 'output_use_index': True, 'save_results': False, 'skip': False, 'suffix': None, 'search_output_file': True, 'input_dir': '', 'dark_output': None}, 'reset': {'pre_hooks': [], 'post_hooks': [], 'output_file': None, 'output_dir': None, 'output_ext': '.fits', 'output_use_model': False, 'output_use_index': True, 'save_results': False, 'skip': False, 'suffix': None, 'search_output_file': True, 'input_dir': ''}, 'persistence': {'pre_hooks': [], 'post_hooks': [], 'output_file': None, 'output_dir': None, 'output_ext': '.fits', 'output_use_model': False, 'output_use_index': True, 'save_results': False, 'skip': False, 'suffix': None, 'search_output_file': True, 'input_dir': '', 'input_trapsfilled': '', 'flag_pers_cutoff': 40.0, 'save_persistence': False, 'save_trapsfilled': True}, 'jump': {'pre_hooks': [], 'post_hooks': [], 'output_file': None, 'output_dir': None, 'output_ext': '.fits', 'output_use_model': False, 'output_use_index': True, 'save_results': False, 'skip': False, 'suffix': None, 'search_output_file': True, 'input_dir': '', 'rejection_threshold': 4.0, 'three_group_rejection_threshold': 6.0, 'four_group_rejection_threshold': 5.0, 'maximum_cores': 'none', 'flag_4_neighbors': True, 'max_jump_to_flag_neighbors': 1000.0, 'min_jump_to_flag_neighbors': 10.0, 'after_jump_flag_dn1': 0.0, 'after_jump_flag_time1': 0.0, 'after_jump_flag_dn2': 0.0, 'after_jump_flag_time2': 0.0}, 'ramp_fit': {'pre_hooks': [], 'post_hooks': [], 'output_file': None, 'output_dir': None, 'output_ext': '.fits', 'output_use_model': False, 'output_use_index': True, 'save_results': False, 'skip': False, 'suffix': None, 'search_output_file': True, 'input_dir': '', 'int_name': '', 'save_opt': False, 'opt_name': '', 'suppress_one_group': True, 'maximum_cores': 'none'}, 'gain_scale': {'pre_hooks': [], 'post_hooks': [], 'output_file': None, 'output_dir': None, 'output_ext': '.fits', 'output_use_model': False, 'output_use_index': True, 'save_results': False, 'skip': False, 'suffix': None, 'search_output_file': True, 'input_dir': ''}}}\n"
     ]
    },
    {
     "name": "stderr",
     "output_type": "stream",
     "text": [
      "2022-09-19 16:03:40,714 - stpipe.Detector1Pipeline - INFO - Prefetching reference files for dataset: 'det_image_seq1_MIRIFUSHORT_12SHORTexp1.fits' reftypes = ['dark', 'gain', 'linearity', 'mask', 'persat', 'readnoise', 'reset', 'rscd', 'saturation', 'superbias', 'trapdensity', 'trappars']\n"
     ]
    },
    {
     "name": "stderr",
     "output_type": "stream",
     "text": [
      "2022-09-19 16:03:40,731 - CRDS - INFO -  Fetching  /tmp/crds_cache/references/jwst/miri/jwst_miri_dark_0044.fits  773.6 M bytes  (1 / 7 files) (0 / 842.4 M bytes)\n"
     ]
    },
    {
     "name": "stderr",
     "output_type": "stream",
     "text": [
      "2022-09-19 16:03:40,733 - CRDS - ERROR -  Failure downloading file 'jwst_miri_dark_0044.fits' : Error fetching data for 'jwst_miri_dark_0044.fits' at CRDS server 'https://jwst-crds.stsci.edu' with mode 'http' : [Errno 28] No space left on device: '/tmp/crds_cache/references/jwst/miri/jwst_miri_dark_0044.fits'\n"
     ]
    },
    {
     "name": "stderr",
     "output_type": "stream",
     "text": [
      "2022-09-19 16:03:40,734 - CRDS - INFO -  Fetching  /tmp/crds_cache/references/jwst/miri/jwst_miri_gain_0007.fits    4.2 M bytes  (2 / 7 files) (0 / 842.4 M bytes)\n"
     ]
    },
    {
     "name": "stderr",
     "output_type": "stream",
     "text": [
      "2022-09-19 16:03:40,735 - CRDS - ERROR -  Failure downloading file 'jwst_miri_gain_0007.fits' : Error fetching data for 'jwst_miri_gain_0007.fits' at CRDS server 'https://jwst-crds.stsci.edu' with mode 'http' : [Errno 28] No space left on device: '/tmp/crds_cache/references/jwst/miri/jwst_miri_gain_0007.fits'\n"
     ]
    },
    {
     "name": "stderr",
     "output_type": "stream",
     "text": [
      "2022-09-19 16:03:40,735 - CRDS - INFO -  Fetching  /tmp/crds_cache/references/jwst/miri/jwst_miri_linearity_0023.fits   46.5 M bytes  (3 / 7 files) (0 / 842.4 M bytes)\n"
     ]
    },
    {
     "name": "stderr",
     "output_type": "stream",
     "text": [
      "2022-09-19 16:03:40,736 - CRDS - ERROR -  Failure downloading file 'jwst_miri_linearity_0023.fits' : Error fetching data for 'jwst_miri_linearity_0023.fits' at CRDS server 'https://jwst-crds.stsci.edu' with mode 'http' : [Errno 28] No space left on device: '/tmp/crds_cache/references/jwst/miri/jwst_miri_linearity_0023.fits'\n"
     ]
    },
    {
     "name": "stderr",
     "output_type": "stream",
     "text": [
      "2022-09-19 16:03:40,736 - CRDS - INFO -  Fetching  /tmp/crds_cache/references/jwst/miri/jwst_miri_mask_0027.fits    4.3 M bytes  (4 / 7 files) (0 / 842.4 M bytes)\n"
     ]
    },
    {
     "name": "stderr",
     "output_type": "stream",
     "text": [
      "2022-09-19 16:03:40,737 - CRDS - ERROR -  Failure downloading file 'jwst_miri_mask_0027.fits' : Error fetching data for 'jwst_miri_mask_0027.fits' at CRDS server 'https://jwst-crds.stsci.edu' with mode 'http' : [Errno 28] No space left on device: '/tmp/crds_cache/references/jwst/miri/jwst_miri_mask_0027.fits'\n"
     ]
    },
    {
     "name": "stderr",
     "output_type": "stream",
     "text": [
      "2022-09-19 16:03:40,738 - CRDS - INFO -  Fetching  /tmp/crds_cache/references/jwst/miri/jwst_miri_readnoise_0050.fits    4.2 M bytes  (5 / 7 files) (0 / 842.4 M bytes)\n"
     ]
    },
    {
     "name": "stderr",
     "output_type": "stream",
     "text": [
      "2022-09-19 16:03:40,739 - CRDS - ERROR -  Failure downloading file 'jwst_miri_readnoise_0050.fits' : Error fetching data for 'jwst_miri_readnoise_0050.fits' at CRDS server 'https://jwst-crds.stsci.edu' with mode 'http' : [Errno 28] No space left on device: '/tmp/crds_cache/references/jwst/miri/jwst_miri_readnoise_0050.fits'\n"
     ]
    },
    {
     "name": "stderr",
     "output_type": "stream",
     "text": [
      "2022-09-19 16:03:40,740 - CRDS - INFO -  Fetching  /tmp/crds_cache/references/jwst/miri/jwst_miri_rscd_0013.fits   37.4 K bytes  (6 / 7 files) (0 / 842.4 M bytes)\n"
     ]
    },
    {
     "name": "stderr",
     "output_type": "stream",
     "text": [
      "2022-09-19 16:03:40,740 - CRDS - ERROR -  Failure downloading file 'jwst_miri_rscd_0013.fits' : Error fetching data for 'jwst_miri_rscd_0013.fits' at CRDS server 'https://jwst-crds.stsci.edu' with mode 'http' : [Errno 28] No space left on device: '/tmp/crds_cache/references/jwst/miri/jwst_miri_rscd_0013.fits'\n"
     ]
    },
    {
     "name": "stderr",
     "output_type": "stream",
     "text": [
      "2022-09-19 16:03:40,741 - CRDS - INFO -  Fetching  /tmp/crds_cache/references/jwst/miri/jwst_miri_saturation_0025.fits    9.5 M bytes  (7 / 7 files) (0 / 842.4 M bytes)\n"
     ]
    },
    {
     "name": "stderr",
     "output_type": "stream",
     "text": [
      "2022-09-19 16:03:40,742 - CRDS - ERROR -  Failure downloading file 'jwst_miri_saturation_0025.fits' : Error fetching data for 'jwst_miri_saturation_0025.fits' at CRDS server 'https://jwst-crds.stsci.edu' with mode 'http' : [Errno 28] No space left on device: '/tmp/crds_cache/references/jwst/miri/jwst_miri_saturation_0025.fits'\n"
     ]
    },
    {
     "name": "stderr",
     "output_type": "stream",
     "text": [
      "2022-09-19 16:03:40,742 - stpipe.Detector1Pipeline - INFO - Prefetch for DARK reference file is '/tmp/crds_cache/references/jwst/miri/jwst_miri_dark_0044.fits'.\n"
     ]
    },
    {
     "name": "stderr",
     "output_type": "stream",
     "text": [
      "2022-09-19 16:03:40,743 - stpipe.Detector1Pipeline - INFO - First argument det_image_seq1_MIRIFUSHORT_12SHORTexp1.fits does not appear to be a model\n"
     ]
    },
    {
     "name": "stderr",
     "output_type": "stream",
     "text": [
      "2022-09-19 16:03:40,743 - stpipe.Detector1Pipeline - INFO - Starting calwebb_detector1 ...\n"
     ]
    },
    {
     "name": "stderr",
     "output_type": "stream",
     "text": [
      "2022-09-19 16:03:41,131 - stpipe.Detector1Pipeline.group_scale - INFO - Step group_scale running with args (<RampModel(4, 10, 1024, 1032) from det_image_seq1_MIRIFUSHORT_12SHORTexp1.fits>,).\n"
     ]
    },
    {
     "name": "stderr",
     "output_type": "stream",
     "text": [
      "2022-09-19 16:03:41,132 - stpipe.Detector1Pipeline.group_scale - INFO - Step group_scale parameters are: {'pre_hooks': [], 'post_hooks': [], 'output_file': None, 'output_dir': None, 'output_ext': '.fits', 'output_use_model': False, 'output_use_index': True, 'save_results': False, 'skip': False, 'suffix': None, 'search_output_file': True, 'input_dir': ''}\n"
     ]
    },
    {
     "name": "stderr",
     "output_type": "stream",
     "text": [
      "2022-09-19 16:03:41,343 - stpipe.Detector1Pipeline.group_scale - INFO - NFRAMES=1 is a power of 2; correction not needed\n"
     ]
    },
    {
     "name": "stderr",
     "output_type": "stream",
     "text": [
      "2022-09-19 16:03:41,343 - stpipe.Detector1Pipeline.group_scale - INFO - Step will be skipped\n"
     ]
    },
    {
     "name": "stderr",
     "output_type": "stream",
     "text": [
      "2022-09-19 16:03:41,347 - stpipe.Detector1Pipeline.group_scale - INFO - Step group_scale done\n"
     ]
    },
    {
     "name": "stderr",
     "output_type": "stream",
     "text": [
      "2022-09-19 16:03:41,519 - stpipe.Detector1Pipeline.dq_init - INFO - Step dq_init running with args (<RampModel(4, 10, 1024, 1032) from det_image_seq1_MIRIFUSHORT_12SHORTexp1.fits>,).\n"
     ]
    },
    {
     "name": "stderr",
     "output_type": "stream",
     "text": [
      "2022-09-19 16:03:41,521 - stpipe.Detector1Pipeline.dq_init - INFO - Step dq_init parameters are: {'pre_hooks': [], 'post_hooks': [], 'output_file': None, 'output_dir': None, 'output_ext': '.fits', 'output_use_model': False, 'output_use_index': True, 'save_results': False, 'skip': False, 'suffix': None, 'search_output_file': True, 'input_dir': ''}\n"
     ]
    },
    {
     "name": "stderr",
     "output_type": "stream",
     "text": [
      "2022-09-19 16:03:41,543 - CRDS - INFO -  Fetching  /tmp/crds_cache/references/jwst/miri/jwst_miri_mask_0027.fits    4.3 M bytes  (1 / 1 files) (0 / 4.3 M bytes)\n"
     ]
    },
    {
     "name": "stderr",
     "output_type": "stream",
     "text": [
      "2022-09-19 16:03:41,545 - CRDS - ERROR -  Failure downloading file 'jwst_miri_mask_0027.fits' : Error fetching data for 'jwst_miri_mask_0027.fits' at CRDS server 'https://jwst-crds.stsci.edu' with mode 'http' : [Errno 28] No space left on device: '/tmp/crds_cache/references/jwst/miri/jwst_miri_mask_0027.fits'\n"
     ]
    },
    {
     "ename": "FileNotFoundError",
     "evalue": "[Errno 2] No such file or directory: '/tmp/crds_cache/references/jwst/miri/jwst_miri_mask_0027.fits'",
     "output_type": "error",
     "traceback": [
      "\u001b[0;31m---------------------------------------------------------------------------\u001b[0m",
      "\u001b[0;31mFileNotFoundError\u001b[0m                         Traceback (most recent call last)",
      "Cell \u001b[0;32mIn [15], line 2\u001b[0m\n\u001b[1;32m      1\u001b[0m \u001b[38;5;28;01mfor\u001b[39;00m i \u001b[38;5;129;01min\u001b[39;00m \u001b[38;5;28mrange\u001b[39m(\u001b[38;5;241m0\u001b[39m,\u001b[38;5;241m24\u001b[39m):\n\u001b[0;32m----> 2\u001b[0m     result_det1 \u001b[38;5;241m=\u001b[39m \u001b[43mDetector1Pipeline\u001b[49m\u001b[38;5;241;43m.\u001b[39;49m\u001b[43mcall\u001b[49m\u001b[43m(\u001b[49m\u001b[43mname_det1\u001b[49m\u001b[43m[\u001b[49m\u001b[43mi\u001b[49m\u001b[43m]\u001b[49m\u001b[43m,\u001b[49m\u001b[43m \u001b[49m\u001b[43msave_results\u001b[49m\u001b[43m \u001b[49m\u001b[38;5;241;43m=\u001b[39;49m\u001b[43m \u001b[49m\u001b[38;5;28;43;01mTrue\u001b[39;49;00m\u001b[43m,\u001b[49m\u001b[43m \u001b[49m\u001b[43msteps\u001b[49m\u001b[43m \u001b[49m\u001b[38;5;241;43m=\u001b[39;49m\u001b[43m \u001b[49m\u001b[43m{\u001b[49m\u001b[38;5;124;43m\"\u001b[39;49m\u001b[38;5;124;43mrefpix\u001b[39;49m\u001b[38;5;124;43m\"\u001b[39;49m\u001b[43m \u001b[49m\u001b[43m:\u001b[49m\u001b[43m \u001b[49m\u001b[43m{\u001b[49m\u001b[38;5;124;43m\"\u001b[39;49m\u001b[38;5;124;43mskip\u001b[39;49m\u001b[38;5;124;43m\"\u001b[39;49m\u001b[43m \u001b[49m\u001b[43m:\u001b[49m\u001b[43m \u001b[49m\u001b[38;5;28;43;01mTrue\u001b[39;49;00m\u001b[43m}\u001b[49m\u001b[43m}\u001b[49m\u001b[43m)\u001b[49m\n",
      "File \u001b[0;32m~/miniconda3/envs/jwst_validation_notebooks/lib/python3.9/site-packages/stpipe/step.py:662\u001b[0m, in \u001b[0;36mStep.call\u001b[0;34m(cls, *args, **kwargs)\u001b[0m\n\u001b[1;32m    658\u001b[0m name \u001b[38;5;241m=\u001b[39m config\u001b[38;5;241m.\u001b[39mget(\u001b[38;5;124m'\u001b[39m\u001b[38;5;124mname\u001b[39m\u001b[38;5;124m'\u001b[39m, \u001b[38;5;28;01mNone\u001b[39;00m)\n\u001b[1;32m    659\u001b[0m instance \u001b[38;5;241m=\u001b[39m \u001b[38;5;28mcls\u001b[39m\u001b[38;5;241m.\u001b[39mfrom_config_section(config,\n\u001b[1;32m    660\u001b[0m     name\u001b[38;5;241m=\u001b[39mname, config_file\u001b[38;5;241m=\u001b[39mconfig_file, param_args\u001b[38;5;241m=\u001b[39mkwargs)\n\u001b[0;32m--> 662\u001b[0m \u001b[38;5;28;01mreturn\u001b[39;00m \u001b[43minstance\u001b[49m\u001b[38;5;241;43m.\u001b[39;49m\u001b[43mrun\u001b[49m\u001b[43m(\u001b[49m\u001b[38;5;241;43m*\u001b[39;49m\u001b[43margs\u001b[49m\u001b[43m)\u001b[49m\n",
      "File \u001b[0;32m~/miniconda3/envs/jwst_validation_notebooks/lib/python3.9/site-packages/stpipe/step.py:483\u001b[0m, in \u001b[0;36mStep.run\u001b[0;34m(self, *args)\u001b[0m\n\u001b[1;32m    481\u001b[0m     \u001b[38;5;28mself\u001b[39m\u001b[38;5;241m.\u001b[39mprefetch(\u001b[38;5;241m*\u001b[39margs)\n\u001b[1;32m    482\u001b[0m \u001b[38;5;28;01mtry\u001b[39;00m:\n\u001b[0;32m--> 483\u001b[0m     step_result \u001b[38;5;241m=\u001b[39m \u001b[38;5;28;43mself\u001b[39;49m\u001b[38;5;241;43m.\u001b[39;49m\u001b[43mprocess\u001b[49m\u001b[43m(\u001b[49m\u001b[38;5;241;43m*\u001b[39;49m\u001b[43margs\u001b[49m\u001b[43m)\u001b[49m\n\u001b[1;32m    484\u001b[0m \u001b[38;5;28;01mexcept\u001b[39;00m \u001b[38;5;167;01mTypeError\u001b[39;00m \u001b[38;5;28;01mas\u001b[39;00m e:\n\u001b[1;32m    485\u001b[0m     \u001b[38;5;28;01mif\u001b[39;00m \u001b[38;5;124m\"\u001b[39m\u001b[38;5;124mprocess() takes exactly\u001b[39m\u001b[38;5;124m\"\u001b[39m \u001b[38;5;129;01min\u001b[39;00m \u001b[38;5;28mstr\u001b[39m(e):\n",
      "File \u001b[0;32m~/miniconda3/envs/jwst_validation_notebooks/lib/python3.9/site-packages/jwst/pipeline/calwebb_detector1.py:85\u001b[0m, in \u001b[0;36mDetector1Pipeline.process\u001b[0;34m(self, input)\u001b[0m\n\u001b[1;32m     82\u001b[0m log\u001b[38;5;241m.\u001b[39mdebug(\u001b[38;5;124m'\u001b[39m\u001b[38;5;124mProcessing a MIRI exposure\u001b[39m\u001b[38;5;124m'\u001b[39m)\n\u001b[1;32m     84\u001b[0m \u001b[38;5;28minput\u001b[39m \u001b[38;5;241m=\u001b[39m \u001b[38;5;28mself\u001b[39m\u001b[38;5;241m.\u001b[39mgroup_scale(\u001b[38;5;28minput\u001b[39m)\n\u001b[0;32m---> 85\u001b[0m \u001b[38;5;28minput\u001b[39m \u001b[38;5;241m=\u001b[39m \u001b[38;5;28;43mself\u001b[39;49m\u001b[38;5;241;43m.\u001b[39;49m\u001b[43mdq_init\u001b[49m\u001b[43m(\u001b[49m\u001b[38;5;28;43minput\u001b[39;49m\u001b[43m)\u001b[49m\n\u001b[1;32m     86\u001b[0m \u001b[38;5;28minput\u001b[39m \u001b[38;5;241m=\u001b[39m \u001b[38;5;28mself\u001b[39m\u001b[38;5;241m.\u001b[39msaturation(\u001b[38;5;28minput\u001b[39m)\n\u001b[1;32m     87\u001b[0m \u001b[38;5;28minput\u001b[39m \u001b[38;5;241m=\u001b[39m \u001b[38;5;28mself\u001b[39m\u001b[38;5;241m.\u001b[39mipc(\u001b[38;5;28minput\u001b[39m)\n",
      "File \u001b[0;32m~/miniconda3/envs/jwst_validation_notebooks/lib/python3.9/site-packages/stpipe/step.py:483\u001b[0m, in \u001b[0;36mStep.run\u001b[0;34m(self, *args)\u001b[0m\n\u001b[1;32m    481\u001b[0m     \u001b[38;5;28mself\u001b[39m\u001b[38;5;241m.\u001b[39mprefetch(\u001b[38;5;241m*\u001b[39margs)\n\u001b[1;32m    482\u001b[0m \u001b[38;5;28;01mtry\u001b[39;00m:\n\u001b[0;32m--> 483\u001b[0m     step_result \u001b[38;5;241m=\u001b[39m \u001b[38;5;28;43mself\u001b[39;49m\u001b[38;5;241;43m.\u001b[39;49m\u001b[43mprocess\u001b[49m\u001b[43m(\u001b[49m\u001b[38;5;241;43m*\u001b[39;49m\u001b[43margs\u001b[49m\u001b[43m)\u001b[49m\n\u001b[1;32m    484\u001b[0m \u001b[38;5;28;01mexcept\u001b[39;00m \u001b[38;5;167;01mTypeError\u001b[39;00m \u001b[38;5;28;01mas\u001b[39;00m e:\n\u001b[1;32m    485\u001b[0m     \u001b[38;5;28;01mif\u001b[39;00m \u001b[38;5;124m\"\u001b[39m\u001b[38;5;124mprocess() takes exactly\u001b[39m\u001b[38;5;124m\"\u001b[39m \u001b[38;5;129;01min\u001b[39;00m \u001b[38;5;28mstr\u001b[39m(e):\n",
      "File \u001b[0;32m~/miniconda3/envs/jwst_validation_notebooks/lib/python3.9/site-packages/jwst/dq_init/dq_init_step.py:64\u001b[0m, in \u001b[0;36mDQInitStep.process\u001b[0;34m(self, input)\u001b[0m\n\u001b[1;32m     61\u001b[0m     \u001b[38;5;28;01mraise\u001b[39;00m\n\u001b[1;32m     63\u001b[0m \u001b[38;5;66;03m# Retrieve the mask reference file name\u001b[39;00m\n\u001b[0;32m---> 64\u001b[0m \u001b[38;5;28mself\u001b[39m\u001b[38;5;241m.\u001b[39mmask_filename \u001b[38;5;241m=\u001b[39m \u001b[38;5;28;43mself\u001b[39;49m\u001b[38;5;241;43m.\u001b[39;49m\u001b[43mget_reference_file\u001b[49m\u001b[43m(\u001b[49m\u001b[43minput_model\u001b[49m\u001b[43m,\u001b[49m\u001b[43m \u001b[49m\u001b[38;5;124;43m'\u001b[39;49m\u001b[38;5;124;43mmask\u001b[39;49m\u001b[38;5;124;43m'\u001b[39;49m\u001b[43m)\u001b[49m\n\u001b[1;32m     65\u001b[0m \u001b[38;5;28mself\u001b[39m\u001b[38;5;241m.\u001b[39mlog\u001b[38;5;241m.\u001b[39minfo(\u001b[38;5;124m'\u001b[39m\u001b[38;5;124mUsing MASK reference file \u001b[39m\u001b[38;5;132;01m%s\u001b[39;00m\u001b[38;5;124m'\u001b[39m, \u001b[38;5;28mself\u001b[39m\u001b[38;5;241m.\u001b[39mmask_filename)\n\u001b[1;32m     67\u001b[0m \u001b[38;5;66;03m# Check for a valid reference file\u001b[39;00m\n",
      "File \u001b[0;32m~/miniconda3/envs/jwst_validation_notebooks/lib/python3.9/site-packages/stpipe/step.py:800\u001b[0m, in \u001b[0;36mStep.get_reference_file\u001b[0;34m(self, input_file, reference_file_type)\u001b[0m\n\u001b[1;32m    797\u001b[0m         hdr_name \u001b[38;5;241m=\u001b[39m \u001b[38;5;124m\"\u001b[39m\u001b[38;5;124mN/A\u001b[39m\u001b[38;5;124m\"\u001b[39m\n\u001b[1;32m    798\u001b[0m     \u001b[38;5;28mself\u001b[39m\u001b[38;5;241m.\u001b[39m_reference_files_used\u001b[38;5;241m.\u001b[39mappend(\n\u001b[1;32m    799\u001b[0m         (reference_file_type, hdr_name))\n\u001b[0;32m--> 800\u001b[0m \u001b[38;5;28;01mreturn\u001b[39;00m \u001b[43mcrds_client\u001b[49m\u001b[38;5;241;43m.\u001b[39;49m\u001b[43mcheck_reference_open\u001b[49m\u001b[43m(\u001b[49m\u001b[43mreference_name\u001b[49m\u001b[43m)\u001b[49m\n",
      "File \u001b[0;32m~/miniconda3/envs/jwst_validation_notebooks/lib/python3.9/site-packages/stpipe/crds_client.py:85\u001b[0m, in \u001b[0;36mcheck_reference_open\u001b[0;34m(refpath)\u001b[0m\n\u001b[1;32m     83\u001b[0m             \u001b[38;5;28;01mraise\u001b[39;00m \u001b[38;5;167;01mRuntimeError\u001b[39;00m(\u001b[38;5;124m\"\u001b[39m\u001b[38;5;124mS3 object does not exist: \u001b[39m\u001b[38;5;124m\"\u001b[39m \u001b[38;5;241m+\u001b[39m refpath)\n\u001b[1;32m     84\u001b[0m     \u001b[38;5;28;01melse\u001b[39;00m:\n\u001b[0;32m---> 85\u001b[0m         \u001b[38;5;28;01mwith\u001b[39;00m \u001b[38;5;28;43mopen\u001b[39;49m\u001b[43m(\u001b[49m\u001b[43mrefpath\u001b[49m\u001b[43m,\u001b[49m\u001b[43m \u001b[49m\u001b[38;5;124;43m\"\u001b[39;49m\u001b[38;5;124;43mrb\u001b[39;49m\u001b[38;5;124;43m\"\u001b[39;49m\u001b[43m)\u001b[49m:\n\u001b[1;32m     86\u001b[0m             \u001b[38;5;28;01mpass\u001b[39;00m\n\u001b[1;32m     87\u001b[0m \u001b[38;5;28;01mreturn\u001b[39;00m refpath\n",
      "\u001b[0;31mFileNotFoundError\u001b[0m: [Errno 2] No such file or directory: '/tmp/crds_cache/references/jwst/miri/jwst_miri_mask_0027.fits'"
     ]
    }
   ],
   "source": [
    "for i in range(0,24):\n",
    "    result_det1 = Detector1Pipeline.call(name_det1[i], save_results = True, steps = {\"refpix\" : {\"skip\" : True}})"
   ]
  },
  {
   "cell_type": "markdown",
   "metadata": {},
   "source": [
    "#### Setup Spec 2 File Names"
   ]
  },
  {
   "cell_type": "code",
   "execution_count": null,
   "metadata": {},
   "outputs": [],
   "source": [
    "name3 = [' '] * 12\n",
    "count=0\n",
    "for j in range(0, 3):    \n",
    "    for i in range(0, 4):\n",
    "        name3[count] = 'det_image_' + dit_loop[i] + '_MIRIFUSHORT_' + band_loop1[j] + 'exp1_rate.fits'\n",
    "        count=count+1\n",
    "\n",
    "name4 = [' '] * 12\n",
    "count=0\n",
    "for j in range(0, 3):    \n",
    "    for i in range(0, 4):\n",
    "        name4[count] = 'det_image_' + dit_loop[i] + '_MIRIFULONG_' + band_loop2[j] + 'exp1_rate.fits'\n",
    "        count=count+1\n",
    "        \n",
    "name_spec2=np.concatenate((name3,name4))"
   ]
  },
  {
   "cell_type": "markdown",
   "metadata": {},
   "source": [
    "#### Run Spec 2 and Skip Straylight, Extract1D, and Cube build"
   ]
  },
  {
   "cell_type": "code",
   "execution_count": null,
   "metadata": {},
   "outputs": [],
   "source": [
    "for i in range(0,24):\n",
    "    result_spec2 = Spec2Pipeline.call(name_spec2[i], save_results = True,steps = {\"straylight\" : {\"skip\" : True}, \"extract_1d\" : {\"skip\" : True}, \"cube_build\" : {\"skip\" : True}})"
   ]
  },
  {
   "cell_type": "markdown",
   "metadata": {},
   "source": [
    "#### Setup Spec 3 File Names"
   ]
  },
  {
   "cell_type": "code",
   "execution_count": null,
   "metadata": {},
   "outputs": [],
   "source": [
    "name5 = [' '] * 12\n",
    "count=0\n",
    "for j in range(0, 3):    \n",
    "    for i in range(0, 4):\n",
    "        name5[count] = 'det_image_' + dit_loop[i] + '_MIRIFUSHORT_' + band_loop1[j] + 'exp1_cal.fits'\n",
    "        count=count+1\n",
    "\n",
    "name6 = [' '] * 12\n",
    "count=0\n",
    "for j in range(0, 3):    \n",
    "    for i in range(0, 4):\n",
    "        name6[count] = 'det_image_' + dit_loop[i] + '_MIRIFULONG_' + band_loop2[j] + 'exp1_cal.fits'\n",
    "        count=count+1\n",
    "        \n",
    "name_spec3=np.concatenate((name5,name6))"
   ]
  },
  {
   "cell_type": "markdown",
   "metadata": {},
   "source": [
    "#### Change SRCTYPE from EXTENDED to POINT"
   ]
  },
  {
   "cell_type": "code",
   "execution_count": null,
   "metadata": {},
   "outputs": [],
   "source": [
    "for i in range(0, 24):\n",
    "    hdu=fits.open(name_spec3[i])\n",
    "    hdu['SCI'].header['SRCTYPE']='POINT'\n",
    "    hdu.writeto(name_spec3[i],overwrite=True)\n",
    "    hdu.close()"
   ]
  },
  {
   "cell_type": "markdown",
   "metadata": {},
   "source": [
    "#### Run Spec 3 and Skip Master Background, MRS imatch, and Outlier Detection"
   ]
  },
  {
   "cell_type": "markdown",
   "metadata": {},
   "source": [
    "As an example, this step is called with an alternate method than Detector1 or Spec2. You use the 'run' option instead of the 'call' option to use Spec3."
   ]
  },
  {
   "cell_type": "code",
   "execution_count": null,
   "metadata": {},
   "outputs": [],
   "source": [
    "results_spec3 = Spec3Pipeline()\n",
    "results_spec3.master_background.skip=True\n",
    "results_spec3.mrs_imatch.skip=True\n",
    "results_spec3.outlier_detection.skip=True\n",
    "results_spec3.save_results=True\n",
    "results_spec3.run(\"spec3_updated.json\")"
   ]
  },
  {
   "cell_type": "markdown",
   "metadata": {},
   "source": [
    "#### Make figures from extract 1D output which uses EXTENDED as the default source type."
   ]
  },
  {
   "cell_type": "code",
   "execution_count": null,
   "metadata": {},
   "outputs": [],
   "source": [
    "# Open the FITS file\n",
    "for i in range(0, 12):\n",
    "    globals()['hdul_' + chan_type2[i]] = fits.open('spec3_results_' + chan_type1[i] + '_x1d.fits')"
   ]
  },
  {
   "cell_type": "code",
   "execution_count": null,
   "metadata": {},
   "outputs": [],
   "source": [
    "# Find length of each channel\n",
    "for i in range(0, 12):\n",
    "    test = globals()['hdul_' + chan_type2[i]]\n",
    "    globals()['length_' + chan_type2[i]] = len(test[1].data)"
   ]
  },
  {
   "cell_type": "code",
   "execution_count": null,
   "metadata": {},
   "outputs": [],
   "source": [
    "# Make empty array for wavelength and flux\n",
    "for i in range(0, 12):\n",
    "    globals()['wavelength_' + chan_type2[i]] = [0.0] * globals()['length_' + chan_type2[i]]\n",
    "    globals()['flux_' + chan_type2[i]] = [0.0] * globals()['length_' + chan_type2[i]]"
   ]
  },
  {
   "cell_type": "code",
   "execution_count": null,
   "metadata": {},
   "outputs": [],
   "source": [
    "# Read wavelength and flux\n",
    "for j in range(0, 12):\n",
    "    for i in range(0, globals()['length_' + chan_type2[j]]):\n",
    "        globals()['wavelength_' + chan_type2[j]][i] = globals()['hdul_' + chan_type2[j]][1].data[i][0]\n",
    "        globals()['flux_' + chan_type2[j]][i] = globals()['hdul_' + chan_type2[j]][1].data[i][1]"
   ]
  },
  {
   "cell_type": "code",
   "execution_count": null,
   "metadata": {},
   "outputs": [],
   "source": [
    "# Make plot\n",
    "for i in range(0, 12):\n",
    "    plt.plot(globals()['wavelength_' + chan_type2[i]], globals()['flux_' + chan_type2[i]], '-', color = color_list[i])\n",
    "\n",
    "plt.xlim(4,30)\n",
    "plt.ylim(0,0.15)"
   ]
  },
  {
   "cell_type": "markdown",
   "metadata": {},
   "source": [
    "#### Make figures from summing up the flux in each channel of the 3D cube."
   ]
  },
  {
   "cell_type": "code",
   "execution_count": null,
   "metadata": {},
   "outputs": [],
   "source": [
    "# Make figure and keep track of mediam value in each band\n",
    "median_s3d = [0.0] * 12\n",
    "\n",
    "for j in range(0, 12):\n",
    "    image3, header3 = fits.getdata('spec3_results_' + chan_type1[j] + '_s3d.fits', header = True)\n",
    "    \n",
    "    num_x3 = header3[\"NAXIS2\"]\n",
    "    num_y3 = header3[\"NAXIS1\"]\n",
    "    num_chan3 = header3[\"NAXIS3\"]\n",
    "    start_wavelength3 = header3[\"CRVAL3\"]\n",
    "    step_wavelength3 = header3[\"CDELT3\"]\n",
    "    pix_size3 = header3[\"CDELT1\"]\n",
    "    \n",
    "    a3 = [0.0] * num_chan3\n",
    "    for i in range(0, num_chan3):\n",
    "        for m in range(0, num_x3):\n",
    "            for n in range(0, num_y3):\n",
    "                a3[i] = image3[i, m, n] + a3[i]\n",
    "\n",
    "    d3 = [0.0] * num_chan3\n",
    "    d3[0] = start_wavelength3\n",
    "    for i in range(1, num_chan3):\n",
    "        d3[i] = d3[i-1] + step_wavelength3\n",
    "        \n",
    "    for i in range(0, num_chan3):\n",
    "        a3[i] = (a3[i] * (pix_size3 * 3600) * (pix_size3 * 3600) * (10**6)) / (4.25 * 10**10)\n",
    "    \n",
    "    median_s3d[j]=np.median(a3)\n",
    "    \n",
    "    plt.plot(d3, a3, '-', color = color_list[j], lw = 1) \n",
    "    plt.xlim(4, 30)\n",
    "    plt.ylim(0, 0.15)"
   ]
  },
  {
   "cell_type": "markdown",
   "metadata": {},
   "source": [
    "#### Define Pass/Fail Criteria For S3D"
   ]
  },
  {
   "cell_type": "code",
   "execution_count": null,
   "metadata": {},
   "outputs": [],
   "source": [
    "# Check median is off by less than 20% of expected flux in channel/band 1a though 3c\n",
    "for i in range(0, 8):\n",
    "    if (100 * ((median_s3d[i]) - (0.01)) / (0.01)) < 20:\n",
    "        a = (100 * ((median_s3d[i]) - (0.01)) / (0.01))\n",
    "        print(chan_type2[i] + ': pass' + ',' + np.str(np.round(a)) + '%')\n",
    "    else:\n",
    "        a = (100 * ((median_s3d[i]) - (0.01)) / (0.01))\n",
    "        print(chan_type2[i] + ': fail' + ',' + np.str(np.round(a)) + '%')"
   ]
  },
  {
   "cell_type": "code",
   "execution_count": null,
   "metadata": {},
   "outputs": [],
   "source": [
    "# Check median is off by less than 160% of expected flux in channel/band 4a though 4c\n",
    "for i in range(9, 12):\n",
    "    if (100 * ((median_s3d[i]) - (0.01)) / (0.01)) < 160:\n",
    "        a = (100 * ((median_s3d[i]) - (0.01)) / (0.01))\n",
    "        print(chan_type2[i] + ': pass' + ',' + np.str(np.round(a)) + '%')\n",
    "    else:\n",
    "        a = (100 * ((median_s3d[i]) - (0.01)) / (0.01))\n",
    "        print(chan_type2[i] + ': fail' + ',' + np.str(np.round(a)) + '%')"
   ]
  },
  {
   "cell_type": "markdown",
   "metadata": {},
   "source": [
    "#### Summary"
   ]
  },
  {
   "cell_type": "markdown",
   "metadata": {},
   "source": [
    "We plot below the pass/fail criteria. In Channel/Band 1a through 3c, the criteria is that the expected median output after Spec 3 step of the pipeline is within 20% of the 0.01 Jy flat flux that was input. The output from the pipeline ranges from 9%-16% from the expected flux."
   ]
  },
  {
   "cell_type": "markdown",
   "metadata": {},
   "source": [
    "The flux output from channel 4a through 4c is off by a factor ranging from 36% to 153% off from the input flux. Therefore the set the pass/fail criterial in channel 4 such that the output should be within 160% from the input. Both the data made by mirisim and then processed by the pipeline lead to such a high discrepancy in this particular channel. MIRISim simulations in Channel 4 do not represent the data we expect to get in flight."
   ]
  },
  {
   "cell_type": "code",
   "execution_count": null,
   "metadata": {},
   "outputs": [],
   "source": [
    "# Band 1A through 3C\n",
    "x_limit = [4.89, 18.04]\n",
    "y_limit = [0.01, 0.01]\n",
    "\n",
    "#Set 20% Pass/Fail Criteria\n",
    "y_20_upper = [0.01 + (0.01 * (0.2)), 0.01 + (0.01 * (0.2))]\n",
    "y_20_lower = [0.01 - (0.01 * (0.2)), 0.01 - (0.01 * (0.2))]\n",
    "\n",
    "plt.plot(x_limit, y_limit, '--', color='black', lw=1, label = 'expected')\n",
    "plt.plot(x_limit, y_20_upper, '--', color='cyan', lw=1, label = '20% limit')\n",
    "plt.plot(x_limit, y_20_lower, '--', color='cyan', lw=1,)\n",
    "plt.plot(globals()['wavelength_' + chan_type2[0]][0], (median_s3d[0]), 'o', color = color_list[0], label = '1A, 2A, 3A')\n",
    "plt.plot(globals()['wavelength_' + chan_type2[1]][0], (median_s3d[1]), 'o', color = color_list[1], label = '1B, 2B, 3B')\n",
    "plt.plot(globals()['wavelength_' + chan_type2[2]][0], (median_s3d[2]), 'o', color = color_list[2], label = '1C, 2C, 3C')\n",
    "\n",
    "for i in range(0, 9):\n",
    "    plt.plot(globals()['wavelength_' + chan_type2[i]][0], (median_s3d[i]), 'o', color = color_list[i])\n",
    "\n",
    "plt.xlim(4, 30)\n",
    "plt.legend()"
   ]
  },
  {
   "cell_type": "code",
   "execution_count": null,
   "metadata": {},
   "outputs": [],
   "source": [
    "# Band 4A through 4C\n",
    "x_limit = [17.66, 28.31]\n",
    "y_limit = [0.01, 0.01]\n",
    "\n",
    "#Set 160% Pass/Fail Criteria\n",
    "y_160_upper = [0.01 + (0.01 * (1.6)), 0.01 + (0.01 * (1.6))]\n",
    "y_160_lower = [0.01 - (0.01 * (1.6)), 0.01 - (0.01 * (1.6))]\n",
    "\n",
    "plt.plot(x_limit, y_limit, '--', color='black', lw=1, label = 'expected')\n",
    "plt.plot(x_limit, y_160_upper, '--', color='cyan', lw=1, label = '160% limit')\n",
    "plt.plot(x_limit, y_160_lower, '--', color='cyan', lw=1)\n",
    "plt.plot(globals()['wavelength_' + chan_type2[9]][0], (median_s3d[9]), 'o', color = color_list[9], label = '4A')\n",
    "plt.plot(globals()['wavelength_' + chan_type2[10]][0], (median_s3d[10]), 'o', color = color_list[10], label = '4B')\n",
    "plt.plot(globals()['wavelength_' + chan_type2[11]][0], (median_s3d[11]), 'o', color = color_list[11], label = '4C')\n",
    "\n",
    "for i in range(9, 12):\n",
    "    plt.plot(globals()['wavelength_' + chan_type2[i]][0], (median_s3d[i]), 'o', color = color_list[i])\n",
    "    \n",
    "plt.xlim(4, 30)\n",
    "plt.legend()"
   ]
  },
  {
   "cell_type": "code",
   "execution_count": null,
   "metadata": {},
   "outputs": [],
   "source": []
  }
 ],
 "metadata": {
  "kernelspec": {
   "display_name": "Python 3 (ipykernel)",
   "language": "python",
   "name": "python3"
  },
  "language_info": {
   "codemirror_mode": {
    "name": "ipython",
    "version": 3
   },
   "file_extension": ".py",
   "mimetype": "text/x-python",
   "name": "python",
   "nbconvert_exporter": "python",
   "pygments_lexer": "ipython3",
   "version": "3.9.13"
  }
 },
 "nbformat": 4,
 "nbformat_minor": 4
}
