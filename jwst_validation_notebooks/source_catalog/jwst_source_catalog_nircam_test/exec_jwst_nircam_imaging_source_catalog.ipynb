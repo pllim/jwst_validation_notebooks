{
 "cells": [
  {
   "cell_type": "markdown",
   "metadata": {},
   "source": [
    "<a id=\"title_ID\"></a>\n",
    "# JWST Pipeline Validation Notebook: NIRCam, calwebb_image3, source_catalog\n",
    "\n",
    "<span style=\"color:red\"> **Instruments Affected**</span>: e.g., FGS, MIRI, NIRCam, NIRISS, NIRSpec \n",
    "\n",
    "### Table of Contents\n",
    "\n",
    "<div style=\"text-align: left\"> \n",
    "    \n",
    "<br> [Introduction](#intro)\n",
    "<br> [JWST CalWG Algorithm](#algorithm)\n",
    "<br> [Defining Terms](#terms)\n",
    "<br> [Test Description](#description)\n",
    "<br> [Data Description](#data_descr)\n",
    "<br> [Set up Temporary Directory](#tempdir)\n",
    "<br> [Imports](#imports)\n",
    "<br> [Loading the Data](#data_load)\n",
    "<br> [Run the Image3Pipeline](#pipeline)\n",
    "<br> [Perform Visual Inspection](#visualization) \n",
    "<br> [Manually Find Matches](#manual)\n",
    "<br> [About This Notebook](#about)\n",
    "<br>    \n",
    "\n",
    "</div>"
   ]
  },
  {
   "cell_type": "markdown",
   "metadata": {},
   "source": [
    "<a id=\"intro\"></a>\n",
    "# Introduction\n",
    "\n",
    "This is the NIRCam validation notebook for the Source Catalog step, which generates a catalog based on input exposures.\n",
    "\n",
    "* Step description: https://jwst-pipeline.readthedocs.io/en/latest/jwst/source_catalog/index.html\n",
    "\n",
    "* Pipeline code: https://github.com/spacetelescope/jwst/tree/master/jwst/source_catalog\n",
    "\n",
    "[Top of Page](#title_ID)"
   ]
  },
  {
   "cell_type": "markdown",
   "metadata": {},
   "source": [
    "<a id=\"algorithm\"></a>\n",
    "# JWST CalWG Algorithm\n",
    "\n",
    "This is the NIRCam imaging validation notebook for the Source Catalog step, which uses image combinations or stacks of overlapping images to generate \"browse-quality\" source catalogs.  Having automated source catalogs will help accelerate the science output of JWST. The source catalogs should include both point and \"slightly\" extended sources at a minimum.  The catalog should provide an indication if the source is a point or an extended source. For point sources, the source catalog should include measurements corrected to infinite aperture using aperture corrections provided by a reference file.  \n",
    "\n",
    "See: \n",
    "* https://outerspace.stsci.edu/display/JWSTCC/Vanilla+Point+Source+Catalog\n",
    "\n",
    "\n",
    "[Top of Page](#title_ID)"
   ]
  },
  {
   "cell_type": "markdown",
   "metadata": {},
   "source": [
    "<a id=\"terms\"></a>\n",
    "# Defining Terms\n",
    "\n",
    "* JWST: James Webb Space Telescope\n",
    "\n",
    "* NIRCam: Near-Infrared Camera\n",
    "\n",
    "\n",
    "[Top of Page](#title_ID)"
   ]
  },
  {
   "cell_type": "markdown",
   "metadata": {},
   "source": [
    "<a id=\"description\"></a>\n",
    "# Test Description\n",
    "\n",
    "Here we generate the source catalog and visually inspect a plot of the image with the source catalog overlaid. We also look at some other diagnostic plots and then cross-check the output catalog against Mirage catalog inputs. \n",
    "\n",
    "\n",
    "[Top of Page](#title_ID)"
   ]
  },
  {
   "cell_type": "markdown",
   "metadata": {},
   "source": [
    "<a id=\"data_descr\"></a>\n",
    "# Data Description\n",
    "\n",
    "The set of data used in this test were created with the Mirage simulator. The simulator created a NIRCam imaging mode exposures for the short wave NRCA1 detector. \n",
    "\n",
    "\n",
    "[Top of Page](#title_ID)"
   ]
  },
  {
   "cell_type": "markdown",
   "metadata": {},
   "source": [
    "<a id=\"tempdir\"></a>\n",
    "# Set up Temporary Directory\n",
    "The following cell sets up a temporary directory (using python's `tempfile.TemporaryDirectory()`), and changes the script's active directory into that directory (using python's `os.chdir()`). This is so that, when the notebook is run through, it will download files to (and create output files in) the temporary directory rather than in the notebook's directory. This makes cleanup significantly easier (since all output files are deleted when the notebook is shut down), and also means that different notebooks in the same directory won't interfere with each other when run by the automated webpage generation process.\n",
    "\n",
    "If you want the notebook to generate output in the notebook's directory, simply don't run this cell.\n",
    "\n",
    "If you have a file (or files) that are kept in the notebook's directory, and that the notebook needs to use while running, you can copy that file into the directory (the code to do so is present below, but commented out)."
   ]
  },
  {
   "cell_type": "code",
   "execution_count": 1,
   "metadata": {
    "execution": {
     "iopub.execute_input": "2022-09-20T01:01:03.572722Z",
     "iopub.status.busy": "2022-09-20T01:01:03.572157Z",
     "iopub.status.idle": "2022-09-20T01:01:03.579975Z",
     "shell.execute_reply": "2022-09-20T01:01:03.579367Z"
    }
   },
   "outputs": [
    {
     "name": "stdout",
     "output_type": "stream",
     "text": [
      "Running in /internal/data1/jenkins/workspace/Notebooks/jwst_validation_notebooks_spacetelescope/tmp/tmpaascws6j\n"
     ]
    }
   ],
   "source": [
    "#****\n",
    "#\n",
    "# Set this variable to False to not use the temporary directory\n",
    "#\n",
    "#****\n",
    "use_tempdir = True\n",
    "\n",
    "# Create a temporary directory to hold notebook output, and change the working directory to that directory.\n",
    "from tempfile import TemporaryDirectory\n",
    "import os\n",
    "import shutil\n",
    "\n",
    "if use_tempdir:\n",
    "    data_dir = TemporaryDirectory()\n",
    "\n",
    "    # If you have files that are in the notebook's directory, but that the notebook will need to use while\n",
    "    # running, copy them into the temporary directory here.\n",
    "    #\n",
    "    # files = ['name_of_file']\n",
    "    # for file_name in files:\n",
    "    #     shutil.copy(file_name, os.path.join(data_dir.name, file_name))\n",
    "\n",
    "    # Save original directory\n",
    "    orig_dir = os.getcwd()\n",
    "\n",
    "    # Move to new directory\n",
    "    os.chdir(data_dir.name)\n",
    "\n",
    "# For info, print out where the script is running\n",
    "print(\"Running in {}\".format(os.getcwd()))"
   ]
  },
  {
   "cell_type": "markdown",
   "metadata": {},
   "source": [
    "[Top of Page](#title_ID)"
   ]
  },
  {
   "cell_type": "code",
   "execution_count": 2,
   "metadata": {
    "execution": {
     "iopub.execute_input": "2022-09-20T01:01:03.582931Z",
     "iopub.status.busy": "2022-09-20T01:01:03.582356Z",
     "iopub.status.idle": "2022-09-20T01:01:03.586477Z",
     "shell.execute_reply": "2022-09-20T01:01:03.585881Z"
    }
   },
   "outputs": [
    {
     "name": "stdout",
     "output_type": "stream",
     "text": [
      "CRDS cache location: /tmp/crds_cache\n"
     ]
    }
   ],
   "source": [
    "import os\n",
    "if 'CRDS_CACHE_TYPE' in os.environ:\n",
    "    if os.environ['CRDS_CACHE_TYPE'] == 'local':\n",
    "        os.environ['CRDS_PATH'] = os.path.join(os.environ['HOME'], 'crds', 'cache')\n",
    "    elif os.path.isdir(os.environ['CRDS_CACHE_TYPE']):\n",
    "        os.environ['CRDS_PATH'] = os.environ['CRDS_CACHE_TYPE']\n",
    "print('CRDS cache location: {}'.format(os.environ['CRDS_PATH']))"
   ]
  },
  {
   "cell_type": "markdown",
   "metadata": {},
   "source": [
    "[Top of Page](#title_ID)"
   ]
  },
  {
   "cell_type": "markdown",
   "metadata": {},
   "source": [
    "<a id=\"imports\"></a>\n",
    "# Imports\n",
    "List the package imports and why they are relevant to this notebook.\n",
    "\n",
    "\n",
    "* astropy for various tools and packages\n",
    "* inspect to get the docstring of our objects.\n",
    "* IPython.display for printing markdown output\n",
    "* jwst.datamodels for JWST Pipeline data models\n",
    "* jwst.module.PipelineStep is the pipeline step being tested\n",
    "* matplotlib.pyplot.plt to generate plot"
   ]
  },
  {
   "cell_type": "code",
   "execution_count": 3,
   "metadata": {
    "execution": {
     "iopub.execute_input": "2022-09-20T01:01:03.589037Z",
     "iopub.status.busy": "2022-09-20T01:01:03.588626Z",
     "iopub.status.idle": "2022-09-20T01:01:05.100530Z",
     "shell.execute_reply": "2022-09-20T01:01:05.099815Z"
    }
   },
   "outputs": [],
   "source": [
    "# plotting, the inline must come before the matplotlib import\n",
    "%matplotlib inline\n",
    "# %matplotlib notebook\n",
    "\n",
    "# These gymnastics are needed to make the sizes of the figures\n",
    "# be the same in both the inline and notebook versions\n",
    "%config InlineBackend.print_figure_kwargs = {'bbox_inches': None}\n",
    "import matplotlib.pyplot as plt\n",
    "import matplotlib as mpl\n",
    "mpl.rcParams['savefig.dpi'] = 80\n",
    "mpl.rcParams['figure.dpi'] = 80\n",
    "\n",
    "from matplotlib import pyplot as plt\n",
    "import matplotlib.patches as patches\n",
    "\n",
    "params = {'legend.fontsize': 6,\n",
    "          'figure.figsize': (8, 8),\n",
    "          'figure.dpi': 150,\n",
    "         'axes.labelsize': 6,\n",
    "         'axes.titlesize': 6,\n",
    "         'xtick.labelsize':6,\n",
    "         'ytick.labelsize':6}\n",
    "plt.rcParams.update(params)\n",
    "\n",
    "# Box download imports \n",
    "from astropy.utils.data import download_file\n",
    "from pathlib import Path\n",
    "from shutil import move\n",
    "from os.path import splitext\n",
    "\n",
    "# python general\n",
    "import os\n",
    "import numpy as np\n",
    "\n",
    "# astropy modules\n",
    "import astropy\n",
    "from astropy.io import fits\n",
    "from astropy.table import QTable, Table, vstack, unique\n",
    "from astropy.wcs.utils import skycoord_to_pixel\n",
    "from astropy.coordinates import SkyCoord\n",
    "from astropy.visualization import simple_norm\n",
    "from astropy import units as u\n",
    "import photutils\n",
    "\n",
    "# jwst \n",
    "from jwst.pipeline import calwebb_image3\n",
    "from jwst import datamodels"
   ]
  },
  {
   "cell_type": "code",
   "execution_count": 4,
   "metadata": {
    "execution": {
     "iopub.execute_input": "2022-09-20T01:01:05.106602Z",
     "iopub.status.busy": "2022-09-20T01:01:05.105942Z",
     "iopub.status.idle": "2022-09-20T01:01:05.112407Z",
     "shell.execute_reply": "2022-09-20T01:01:05.111786Z"
    }
   },
   "outputs": [],
   "source": [
    "def create_image(data_2d, xpixel=None, ypixel=None, title=None):\n",
    "    ''' Function to generate a 2D image of the data, \n",
    "    with an option to highlight a specific pixel.\n",
    "    '''\n",
    "    \n",
    "    fig = plt.figure(figsize=(8, 8))\n",
    "    ax = plt.subplot()\n",
    "\n",
    "    norm = simple_norm(data_2d, 'sqrt', percent=99.)\n",
    "    \n",
    "    plt.imshow(data_2d, norm=norm, origin='lower', cmap='gray')\n",
    "    \n",
    "    if xpixel and ypixel:\n",
    "        plt.plot(xpixel, ypixel, marker='o', color='red', label='Selected Pixel')\n",
    "\n",
    "    plt.xlabel('Pixel column')\n",
    "    plt.ylabel('Pixel row')\n",
    "    \n",
    "    if title:\n",
    "        plt.title(title)\n",
    "\n",
    "    plt.subplots_adjust(left=0.15)\n",
    "    plt.colorbar(label='MJy/sr')"
   ]
  },
  {
   "cell_type": "code",
   "execution_count": 5,
   "metadata": {
    "execution": {
     "iopub.execute_input": "2022-09-20T01:01:05.115348Z",
     "iopub.status.busy": "2022-09-20T01:01:05.114774Z",
     "iopub.status.idle": "2022-09-20T01:01:05.120320Z",
     "shell.execute_reply": "2022-09-20T01:01:05.119753Z"
    }
   },
   "outputs": [],
   "source": [
    "def create_image_with_cat(data_2d, catalog, flux_limit=None, title=None):\n",
    "    ''' Function to generate a 2D image of the data, \n",
    "    with sources overlaid.\n",
    "    '''\n",
    "    \n",
    "    fig = plt.figure(figsize=(8, 8))\n",
    "    ax = plt.subplot()\n",
    "\n",
    "    norm = simple_norm(data_2d, 'sqrt', percent=99.)\n",
    "    \n",
    "    plt.imshow(data_2d, norm=norm, origin='lower', cmap='gray')\n",
    "    \n",
    "    for row in catalog:\n",
    "        if flux_limit:\n",
    "            if np.isnan(row['aper_total_flux']):\n",
    "                pass\n",
    "            else:\n",
    "                if row['aper_total_flux'] > flux_limit:\n",
    "                    plt.plot(row['xcentroid'], row['ycentroid'], marker='o', markersize='3', color='red')\n",
    "        else:\n",
    "            plt.plot(row['xcentroid'], row['ycentroid'], marker='o', markersize='1', color='red')\n",
    "\n",
    "    plt.xlabel('Pixel column')\n",
    "    plt.ylabel('Pixel row')\n",
    "    \n",
    "    if title:\n",
    "        plt.title(title)\n",
    "\n",
    "    plt.subplots_adjust(left=0.15)\n",
    "    plt.colorbar(label='MJy/sr')"
   ]
  },
  {
   "cell_type": "code",
   "execution_count": 6,
   "metadata": {
    "execution": {
     "iopub.execute_input": "2022-09-20T01:01:05.122963Z",
     "iopub.status.busy": "2022-09-20T01:01:05.122422Z",
     "iopub.status.idle": "2022-09-20T01:01:05.126063Z",
     "shell.execute_reply": "2022-09-20T01:01:05.125484Z"
    }
   },
   "outputs": [],
   "source": [
    "def create_scatterplot(catalog_colx, catalog_coly, title=None):\n",
    "    ''' Function to generate a generic scatterplot.\n",
    "    '''\n",
    "    \n",
    "    fig = plt.figure(figsize=(8, 8))\n",
    "    ax = plt.subplot()\n",
    "    ax.scatter(catalog_colx,catalog_coly) \n",
    "    plt.xlabel(catalog_colx.name)\n",
    "    plt.ylabel(catalog_coly.name)\n",
    "\n",
    "    \n",
    "    if title:\n",
    "        plt.title(title)"
   ]
  },
  {
   "cell_type": "code",
   "execution_count": 7,
   "metadata": {
    "execution": {
     "iopub.execute_input": "2022-09-20T01:01:05.128583Z",
     "iopub.status.busy": "2022-09-20T01:01:05.128039Z",
     "iopub.status.idle": "2022-09-20T01:01:05.133532Z",
     "shell.execute_reply": "2022-09-20T01:01:05.132957Z"
    }
   },
   "outputs": [],
   "source": [
    "def get_input_table(sourcelist):\n",
    "    '''Function to read in and access the simulator source input files.'''\n",
    "\n",
    "    all_source_table = Table()\n",
    "\n",
    "    # point source and galaxy source tables have different headers\n",
    "    # change column headers to match for filtering later\n",
    "    if \"point\" in sourcelist:\n",
    "        col_names = [\"RA\", \"Dec\", \"RA_degrees\", \"Dec_degrees\",\n",
    "                     \"PixelX\", \"PixelY\", \"Magnitude\",\n",
    "                     \"counts_sec\", \"counts_frame\"]\n",
    "    elif \"galaxy\" in sourcelist:\n",
    "        col_names = [\"PixelX\", \"PixelY\", \"RA\", \"Dec\",\n",
    "                     \"RA_degrees\", \"Dec_degrees\", \"V2\", \"V3\", \"radius\",\n",
    "                     \"ellipticity\", \"pos_angle\", \"sersic_index\",\n",
    "                     \"Magnitude\", \"countrate_e_s\", \"counts_per_frame_e\"]\n",
    "    else:\n",
    "        print('Error! Source list column names need to be defined.')\n",
    "        sys.exit(0)\n",
    "\n",
    "    # read in the tables\n",
    "    input_source_table = Table.read(sourcelist,format='ascii')\n",
    "    orig_colnames = input_source_table.colnames\n",
    "\n",
    "    # only grab values for source catalog analysis\n",
    "    short_source_table = Table({'In_RA': input_source_table['RA_degrees'],\n",
    "                              'In_Dec': input_source_table['Dec_degrees']},\n",
    "                              names=['In_RA', 'In_Dec'])\n",
    "\n",
    "    # combine source lists into one master list\n",
    "    all_source_table = vstack([all_source_table, short_source_table])\n",
    "\n",
    "    # set up columns to track which sources were detected by Photutils\n",
    "    all_source_table['Out_RA'] = np.nan\n",
    "    all_source_table['Out_Dec'] = np.nan\n",
    "    all_source_table['Detected'] = 'N'\n",
    "    all_source_table['RA_Diff'] = np.nan\n",
    "    all_source_table['Dec_Diff'] = np.nan\n",
    "\n",
    "    # filter by RA, Dec (for now)\n",
    "    no_duplicates = unique(all_source_table,keys=['In_RA','In_Dec'])\n",
    "\n",
    "    return no_duplicates"
   ]
  },
  {
   "cell_type": "markdown",
   "metadata": {},
   "source": [
    "[Top of Page](#title_ID)"
   ]
  },
  {
   "cell_type": "markdown",
   "metadata": {},
   "source": [
    "<a id=\"data_load\"></a>\n",
    "# Loading the Data"
   ]
  },
  {
   "cell_type": "markdown",
   "metadata": {},
   "source": [
    "The simulated exposures used for this test are stored in Box. Grab them. "
   ]
  },
  {
   "cell_type": "code",
   "execution_count": 8,
   "metadata": {
    "execution": {
     "iopub.execute_input": "2022-09-20T01:01:05.136562Z",
     "iopub.status.busy": "2022-09-20T01:01:05.136034Z",
     "iopub.status.idle": "2022-09-20T01:01:05.140486Z",
     "shell.execute_reply": "2022-09-20T01:01:05.139907Z"
    }
   },
   "outputs": [],
   "source": [
    "def get_box_files(file_list):\n",
    "    for box_url,file_name in file_list:\n",
    "        if 'https' not in box_url:\n",
    "            box_url = 'https://stsci.box.com/shared/static/' + box_url\n",
    "        downloaded_file = download_file(box_url, timeout=600)\n",
    "        if Path(file_name).suffix == '':\n",
    "            ext = splitext(box_url)[1]\n",
    "            file_name += ext\n",
    "        move(downloaded_file, file_name)\n",
    "\n",
    "file_urls = ['https://stsci.box.com/shared/static/72fds4rfn4ppxv2tuj9qy2vbiao110pc.fits', \n",
    "             'https://stsci.box.com/shared/static/gxwtxoz5abnsx7wriqligyzxacjoz9h3.fits', \n",
    "             'https://stsci.box.com/shared/static/tninaa6a28tsa1z128u3ffzlzxr9p270.fits',\n",
    "             'https://stsci.box.com/shared/static/g4zlkv9qi0vc5brpw2lamekf4ekwcfdn.json',\n",
    "             'https://stsci.box.com/shared/static/kvusxulegx0xfb0uhdecu5dp8jkeluhm.list']\n",
    "\n",
    "file_names = ['jw00042002001_01101_00004_nrca5_cal.fits', \n",
    "             'jw00042002001_01101_00005_nrca5_cal.fits', \n",
    "             'jw00042002001_01101_00006_nrca5_cal.fits',\n",
    "             'level3_lw_imaging_files_asn.json',\n",
    "             'jw00042002001_01101_00004_nrca5_uncal_galaxySources.list']\n",
    "\n",
    "box_download_list = [(url,name) for url,name in zip(file_urls,file_names)]"
   ]
  },
  {
   "cell_type": "code",
   "execution_count": 9,
   "metadata": {
    "execution": {
     "iopub.execute_input": "2022-09-20T01:01:05.142820Z",
     "iopub.status.busy": "2022-09-20T01:01:05.142416Z",
     "iopub.status.idle": "2022-09-20T01:01:49.033952Z",
     "shell.execute_reply": "2022-09-20T01:01:49.033110Z"
    }
   },
   "outputs": [],
   "source": [
    "get_box_files(box_download_list)"
   ]
  },
  {
   "cell_type": "markdown",
   "metadata": {},
   "source": [
    "[Top of Page](#title_ID)"
   ]
  },
  {
   "cell_type": "markdown",
   "metadata": {},
   "source": [
    "<a id=\"pipeline\"></a>\n",
    "# Run the Image3Pipeline\n",
    "\n",
    "Run calwebb_image3 to get the output source catalog and the final 2D image. "
   ]
  },
  {
   "cell_type": "code",
   "execution_count": 10,
   "metadata": {
    "execution": {
     "iopub.execute_input": "2022-09-20T01:01:49.038408Z",
     "iopub.status.busy": "2022-09-20T01:01:49.037790Z",
     "iopub.status.idle": "2022-09-20T01:01:49.236896Z",
     "shell.execute_reply": "2022-09-20T01:01:49.236335Z"
    }
   },
   "outputs": [
    {
     "name": "stderr",
     "output_type": "stream",
     "text": [
      "2022-09-19 21:01:49,224 - stpipe.Image3Pipeline - INFO - Image3Pipeline instance created.\n"
     ]
    },
    {
     "name": "stderr",
     "output_type": "stream",
     "text": [
      "2022-09-19 21:01:49,226 - stpipe.Image3Pipeline.assign_mtwcs - INFO - AssignMTWcsStep instance created.\n"
     ]
    },
    {
     "name": "stderr",
     "output_type": "stream",
     "text": [
      "2022-09-19 21:01:49,228 - stpipe.Image3Pipeline.tweakreg - INFO - TweakRegStep instance created.\n"
     ]
    },
    {
     "name": "stderr",
     "output_type": "stream",
     "text": [
      "2022-09-19 21:01:49,230 - stpipe.Image3Pipeline.skymatch - INFO - SkyMatchStep instance created.\n"
     ]
    },
    {
     "name": "stderr",
     "output_type": "stream",
     "text": [
      "2022-09-19 21:01:49,231 - stpipe.Image3Pipeline.outlier_detection - INFO - OutlierDetectionStep instance created.\n"
     ]
    },
    {
     "name": "stderr",
     "output_type": "stream",
     "text": [
      "2022-09-19 21:01:49,233 - stpipe.Image3Pipeline.resample - INFO - ResampleStep instance created.\n"
     ]
    },
    {
     "name": "stderr",
     "output_type": "stream",
     "text": [
      "2022-09-19 21:01:49,234 - stpipe.Image3Pipeline.source_catalog - INFO - SourceCatalogStep instance created.\n"
     ]
    }
   ],
   "source": [
    "img3 = calwebb_image3.Image3Pipeline()"
   ]
  },
  {
   "cell_type": "code",
   "execution_count": 11,
   "metadata": {
    "execution": {
     "iopub.execute_input": "2022-09-20T01:01:49.239918Z",
     "iopub.status.busy": "2022-09-20T01:01:49.239389Z",
     "iopub.status.idle": "2022-09-20T01:01:49.242763Z",
     "shell.execute_reply": "2022-09-20T01:01:49.242256Z"
    }
   },
   "outputs": [],
   "source": [
    "img3.assign_mtwcs.skip=True\n",
    "img3.save_results=True\n",
    "img3.resample.save_results=True\n",
    "img3.source_catalog.snr_threshold = 5\n",
    "img3.source_catalog.save_results=True"
   ]
  },
  {
   "cell_type": "code",
   "execution_count": 12,
   "metadata": {
    "execution": {
     "iopub.execute_input": "2022-09-20T01:01:49.245259Z",
     "iopub.status.busy": "2022-09-20T01:01:49.244876Z",
     "iopub.status.idle": "2022-09-20T01:02:44.025478Z",
     "shell.execute_reply": "2022-09-20T01:02:44.024345Z"
    },
    "scrolled": false
   },
   "outputs": [
    {
     "name": "stderr",
     "output_type": "stream",
     "text": [
      "2022-09-19 21:01:49,365 - stpipe.Image3Pipeline - INFO - Step Image3Pipeline running with args ('level3_lw_imaging_files_asn.json',).\n"
     ]
    },
    {
     "name": "stderr",
     "output_type": "stream",
     "text": [
      "2022-09-19 21:01:49,372 - stpipe.Image3Pipeline - INFO - Step Image3Pipeline parameters are: {'pre_hooks': [], 'post_hooks': [], 'output_file': None, 'output_dir': None, 'output_ext': '.fits', 'output_use_model': False, 'output_use_index': True, 'save_results': True, 'skip': False, 'suffix': None, 'search_output_file': True, 'input_dir': '', 'steps': {'assign_mtwcs': {'pre_hooks': [], 'post_hooks': [], 'output_file': None, 'output_dir': None, 'output_ext': '.fits', 'output_use_model': True, 'output_use_index': True, 'save_results': False, 'skip': True, 'suffix': 'assign_mtwcs', 'search_output_file': True, 'input_dir': ''}, 'tweakreg': {'pre_hooks': [], 'post_hooks': [], 'output_file': None, 'output_dir': None, 'output_ext': '.fits', 'output_use_model': True, 'output_use_index': True, 'save_results': False, 'skip': False, 'suffix': None, 'search_output_file': True, 'input_dir': '', 'save_catalogs': False, 'catalog_format': 'ecsv', 'kernel_fwhm': 2.5, 'snr_threshold': 10.0, 'sharplo': 0.2, 'sharphi': 1.0, 'roundlo': -1.0, 'roundhi': 1.0, 'brightest': 200, 'peakmax': None, 'bkg_boxsize': 400, 'enforce_user_order': False, 'expand_refcat': False, 'minobj': 15, 'searchrad': 2.0, 'use2dhist': True, 'separation': 1.0, 'tolerance': 0.7, 'xoffset': 0.0, 'yoffset': 0.0, 'fitgeometry': 'rshift', 'nclip': 3, 'sigma': 3.0, 'abs_refcat': '', 'save_abs_catalog': False, 'abs_minobj': 15, 'abs_searchrad': 6.0, 'abs_use2dhist': True, 'abs_separation': 0.1, 'abs_tolerance': 0.7, 'abs_fitgeometry': 'rshift', 'abs_nclip': 3, 'abs_sigma': 3.0}, 'skymatch': {'pre_hooks': [], 'post_hooks': [], 'output_file': None, 'output_dir': None, 'output_ext': '.fits', 'output_use_model': False, 'output_use_index': True, 'save_results': False, 'skip': False, 'suffix': None, 'search_output_file': True, 'input_dir': '', 'skymethod': 'match', 'match_down': True, 'subtract': False, 'stepsize': None, 'skystat': 'mode', 'dqbits': '~DO_NOT_USE+NON_SCIENCE', 'lower': None, 'upper': None, 'nclip': 5, 'lsigma': 4.0, 'usigma': 4.0, 'binwidth': 0.1}, 'outlier_detection': {'pre_hooks': [], 'post_hooks': [], 'output_file': None, 'output_dir': None, 'output_ext': '.fits', 'output_use_model': False, 'output_use_index': True, 'save_results': False, 'skip': False, 'suffix': None, 'search_output_file': False, 'input_dir': '', 'weight_type': 'ivm', 'pixfrac': 1.0, 'kernel': 'square', 'fillval': 'INDEF', 'nlow': 0, 'nhigh': 0, 'maskpt': 0.7, 'grow': 1, 'snr': '5.0 4.0', 'scale': '1.2 0.7', 'backg': 0.0, 'save_intermediate_results': False, 'resample_data': True, 'good_bits': '~DO_NOT_USE', 'scale_detection': False, 'allowed_memory': None, 'in_memory': False}, 'resample': {'pre_hooks': [], 'post_hooks': [], 'output_file': None, 'output_dir': None, 'output_ext': '.fits', 'output_use_model': False, 'output_use_index': True, 'save_results': True, 'skip': False, 'suffix': None, 'search_output_file': True, 'input_dir': '', 'pixfrac': 1.0, 'kernel': 'square', 'fillval': 'INDEF', 'weight_type': 'ivm', 'output_shape': None, 'crpix': None, 'crval': None, 'rotation': None, 'pixel_scale_ratio': 1.0, 'pixel_scale': None, 'single': False, 'blendheaders': True, 'allowed_memory': None, 'in_memory': True}, 'source_catalog': {'pre_hooks': [], 'post_hooks': [], 'output_file': None, 'output_dir': None, 'output_ext': '.fits', 'output_use_model': False, 'output_use_index': True, 'save_results': True, 'skip': False, 'suffix': 'cat', 'search_output_file': True, 'input_dir': '', 'bkg_boxsize': 1000, 'kernel_fwhm': 2.0, 'snr_threshold': 5, 'npixels': 25, 'deblend': False, 'aperture_ee1': 30, 'aperture_ee2': 50, 'aperture_ee3': 70, 'ci1_star_threshold': 2.0, 'ci2_star_threshold': 1.8}}}\n"
     ]
    },
    {
     "name": "stderr",
     "output_type": "stream",
     "text": [
      "2022-09-19 21:01:50,672 - stpipe.Image3Pipeline - INFO - Prefetching reference files for dataset: 'jw00042002001_01101_00004_nrca5_cal.fits' reftypes = ['abvegaoffset', 'apcorr', 'drizpars']\n"
     ]
    },
    {
     "name": "stderr",
     "output_type": "stream",
     "text": [
      "2022-09-19 21:01:50,980 - CRDS - INFO -  Fetching  /tmp/crds_cache/references/jwst/nircam/jwst_nircam_abvegaoffset_0001.asdf    2.6 K bytes  (1 / 3 files) (0 / 31.4 K bytes)\n"
     ]
    },
    {
     "name": "stderr",
     "output_type": "stream",
     "text": [
      "2022-09-19 21:01:50,982 - CRDS - ERROR -  Failure downloading file 'jwst_nircam_abvegaoffset_0001.asdf' : Error fetching data for 'jwst_nircam_abvegaoffset_0001.asdf' at CRDS server 'https://jwst-crds.stsci.edu' with mode 'http' : [Errno 28] No space left on device: '/tmp/crds_cache/references/jwst/nircam/jwst_nircam_abvegaoffset_0001.asdf'\n"
     ]
    },
    {
     "name": "stderr",
     "output_type": "stream",
     "text": [
      "2022-09-19 21:01:50,983 - CRDS - INFO -  Fetching  /tmp/crds_cache/references/jwst/nircam/jwst_nircam_apcorr_0004.fits   20.2 K bytes  (2 / 3 files) (0 / 31.4 K bytes)\n"
     ]
    },
    {
     "name": "stderr",
     "output_type": "stream",
     "text": [
      "2022-09-19 21:01:50,983 - CRDS - ERROR -  Failure downloading file 'jwst_nircam_apcorr_0004.fits' : Error fetching data for 'jwst_nircam_apcorr_0004.fits' at CRDS server 'https://jwst-crds.stsci.edu' with mode 'http' : [Errno 28] No space left on device: '/tmp/crds_cache/references/jwst/nircam/jwst_nircam_apcorr_0004.fits'\n"
     ]
    },
    {
     "name": "stderr",
     "output_type": "stream",
     "text": [
      "2022-09-19 21:01:50,984 - CRDS - INFO -  Fetching  /tmp/crds_cache/references/jwst/nircam/jwst_nircam_drizpars_0001.fits    8.6 K bytes  (3 / 3 files) (0 / 31.4 K bytes)\n"
     ]
    },
    {
     "name": "stderr",
     "output_type": "stream",
     "text": [
      "2022-09-19 21:01:50,985 - CRDS - ERROR -  Failure downloading file 'jwst_nircam_drizpars_0001.fits' : Error fetching data for 'jwst_nircam_drizpars_0001.fits' at CRDS server 'https://jwst-crds.stsci.edu' with mode 'http' : [Errno 28] No space left on device: '/tmp/crds_cache/references/jwst/nircam/jwst_nircam_drizpars_0001.fits'\n"
     ]
    },
    {
     "name": "stderr",
     "output_type": "stream",
     "text": [
      "2022-09-19 21:01:50,985 - stpipe.Image3Pipeline - INFO - Prefetch for ABVEGAOFFSET reference file is '/tmp/crds_cache/references/jwst/nircam/jwst_nircam_abvegaoffset_0001.asdf'.\n"
     ]
    },
    {
     "name": "stderr",
     "output_type": "stream",
     "text": [
      "2022-09-19 21:01:50,986 - stpipe.Image3Pipeline - INFO - First argument level3_lw_imaging_files_asn.json does not appear to be a model\n"
     ]
    },
    {
     "name": "stderr",
     "output_type": "stream",
     "text": [
      "2022-09-19 21:01:50,986 - stpipe.Image3Pipeline - INFO - Starting calwebb_image3 ...\n"
     ]
    },
    {
     "name": "stderr",
     "output_type": "stream",
     "text": [
      "2022-09-19 21:01:51,992 - stpipe.Image3Pipeline.tweakreg - INFO - Step tweakreg running with args (<ModelContainer>,).\n"
     ]
    },
    {
     "name": "stderr",
     "output_type": "stream",
     "text": [
      "2022-09-19 21:01:51,995 - stpipe.Image3Pipeline.tweakreg - INFO - Step tweakreg parameters are: {'pre_hooks': [], 'post_hooks': [], 'output_file': None, 'output_dir': None, 'output_ext': '.fits', 'output_use_model': True, 'output_use_index': True, 'save_results': False, 'skip': False, 'suffix': None, 'search_output_file': True, 'input_dir': '', 'save_catalogs': False, 'catalog_format': 'ecsv', 'kernel_fwhm': 2.5, 'snr_threshold': 10.0, 'sharplo': 0.2, 'sharphi': 1.0, 'roundlo': -1.0, 'roundhi': 1.0, 'brightest': 200, 'peakmax': None, 'bkg_boxsize': 400, 'enforce_user_order': False, 'expand_refcat': False, 'minobj': 15, 'searchrad': 2.0, 'use2dhist': True, 'separation': 1.0, 'tolerance': 0.7, 'xoffset': 0.0, 'yoffset': 0.0, 'fitgeometry': 'rshift', 'nclip': 3, 'sigma': 3.0, 'abs_refcat': '', 'save_abs_catalog': False, 'abs_minobj': 15, 'abs_searchrad': 6.0, 'abs_use2dhist': True, 'abs_separation': 0.1, 'abs_tolerance': 0.7, 'abs_fitgeometry': 'rshift', 'abs_nclip': 3, 'abs_sigma': 3.0}\n"
     ]
    },
    {
     "name": "stderr",
     "output_type": "stream",
     "text": [
      "2022-09-19 21:01:54,036 - stpipe.Image3Pipeline.tweakreg - INFO - Detected 200 sources in jw00042002001_01101_00004_nrca5_cal.fits.\n"
     ]
    },
    {
     "name": "stderr",
     "output_type": "stream",
     "text": [
      "2022-09-19 21:01:56,038 - stpipe.Image3Pipeline.tweakreg - INFO - Detected 200 sources in jw00042002001_01101_00005_nrca5_cal.fits.\n"
     ]
    },
    {
     "name": "stderr",
     "output_type": "stream",
     "text": [
      "2022-09-19 21:01:58,049 - stpipe.Image3Pipeline.tweakreg - INFO - Detected 200 sources in jw00042002001_01101_00006_nrca5_cal.fits.\n"
     ]
    },
    {
     "name": "stderr",
     "output_type": "stream",
     "text": [
      "2022-09-19 21:01:58,064 - stpipe.Image3Pipeline.tweakreg - INFO - \n"
     ]
    },
    {
     "name": "stderr",
     "output_type": "stream",
     "text": [
      "2022-09-19 21:01:58,065 - stpipe.Image3Pipeline.tweakreg - INFO - Number of image groups to be aligned: 3.\n"
     ]
    },
    {
     "name": "stderr",
     "output_type": "stream",
     "text": [
      "2022-09-19 21:01:58,066 - stpipe.Image3Pipeline.tweakreg - INFO - Image groups:\n"
     ]
    },
    {
     "name": "stderr",
     "output_type": "stream",
     "text": [
      "2022-09-19 21:01:58,090 - stpipe.Image3Pipeline.tweakreg - INFO - * Images in GROUP 'jw00042002001_01101_00004_nrca5_cal':\n"
     ]
    },
    {
     "name": "stderr",
     "output_type": "stream",
     "text": [
      "2022-09-19 21:01:58,091 - stpipe.Image3Pipeline.tweakreg - INFO -      jw00042002001_01101_00004_nrca5_cal\n"
     ]
    },
    {
     "name": "stderr",
     "output_type": "stream",
     "text": [
      "2022-09-19 21:01:58,113 - stpipe.Image3Pipeline.tweakreg - INFO - * Images in GROUP 'jw00042002001_01101_00005_nrca5_cal':\n"
     ]
    },
    {
     "name": "stderr",
     "output_type": "stream",
     "text": [
      "2022-09-19 21:01:58,114 - stpipe.Image3Pipeline.tweakreg - INFO -      jw00042002001_01101_00005_nrca5_cal\n"
     ]
    },
    {
     "name": "stderr",
     "output_type": "stream",
     "text": [
      "2022-09-19 21:01:58,138 - stpipe.Image3Pipeline.tweakreg - INFO - * Images in GROUP 'jw00042002001_01101_00006_nrca5_cal':\n"
     ]
    },
    {
     "name": "stderr",
     "output_type": "stream",
     "text": [
      "2022-09-19 21:01:58,139 - stpipe.Image3Pipeline.tweakreg - INFO -      jw00042002001_01101_00006_nrca5_cal\n"
     ]
    },
    {
     "name": "stderr",
     "output_type": "stream",
     "text": [
      "2022-09-19 21:01:58,140 - stpipe.Image3Pipeline.tweakreg - INFO - \n"
     ]
    },
    {
     "name": "stderr",
     "output_type": "stream",
     "text": [
      "2022-09-19 21:01:58,140 - stpipe.Image3Pipeline.tweakreg - INFO -  \n"
     ]
    },
    {
     "name": "stderr",
     "output_type": "stream",
     "text": [
      "2022-09-19 21:01:58,141 - stpipe.Image3Pipeline.tweakreg - INFO - ***** tweakwcs.imalign.align_wcs() started on 2022-09-19 21:01:58.140509\n"
     ]
    },
    {
     "name": "stderr",
     "output_type": "stream",
     "text": [
      "2022-09-19 21:01:58,141 - stpipe.Image3Pipeline.tweakreg - INFO -       Version 0.8.0\n"
     ]
    },
    {
     "name": "stderr",
     "output_type": "stream",
     "text": [
      "2022-09-19 21:01:58,142 - stpipe.Image3Pipeline.tweakreg - INFO -  \n"
     ]
    },
    {
     "name": "stderr",
     "output_type": "stream",
     "text": [
      "2022-09-19 21:01:58,237 - stpipe.Image3Pipeline.tweakreg - INFO - Selected image 'GROUP ID: jw00042002001_01101_00004_nrca5_cal' as reference image\n"
     ]
    },
    {
     "name": "stderr",
     "output_type": "stream",
     "text": [
      "2022-09-19 21:01:58,243 - stpipe.Image3Pipeline.tweakreg - INFO - Aligning image catalog 'GROUP ID: jw00042002001_01101_00005_nrca5_cal' to the reference catalog.\n"
     ]
    },
    {
     "name": "stderr",
     "output_type": "stream",
     "text": [
      "2022-09-19 21:01:58,388 - stpipe.Image3Pipeline.tweakreg - INFO - Matching sources from 'jw00042002001_01101_00005_nrca5_cal' catalog with sources from the reference 'jw00042002001_01101_00004_nrca5_cal' catalog.\n"
     ]
    },
    {
     "name": "stderr",
     "output_type": "stream",
     "text": [
      "2022-09-19 21:01:58,389 - stpipe.Image3Pipeline.tweakreg - INFO - Computing initial guess for X and Y shifts...\n"
     ]
    },
    {
     "name": "stderr",
     "output_type": "stream",
     "text": [
      "2022-09-19 21:01:58,391 - stpipe.Image3Pipeline.tweakreg - INFO - Found initial X and Y shifts of -0.1467, 0.04805 with significance of 79.1 and 200 matches.\n"
     ]
    },
    {
     "name": "stderr",
     "output_type": "stream",
     "text": [
      "2022-09-19 21:01:58,392 - stpipe.Image3Pipeline.tweakreg - INFO - Found 135 matches for 'GROUP ID: jw00042002001_01101_00005_nrca5_cal'...\n"
     ]
    },
    {
     "name": "stderr",
     "output_type": "stream",
     "text": [
      "2022-09-19 21:01:58,393 - stpipe.Image3Pipeline.tweakreg - INFO - Performing 'rshift' fit\n"
     ]
    },
    {
     "name": "stderr",
     "output_type": "stream",
     "text": [
      "2022-09-19 21:01:58,396 - stpipe.Image3Pipeline.tweakreg - INFO - Computed 'rshift' fit for GROUP ID: jw00042002001_01101_00005_nrca5_cal:\n"
     ]
    },
    {
     "name": "stderr",
     "output_type": "stream",
     "text": [
      "2022-09-19 21:01:58,396 - stpipe.Image3Pipeline.tweakreg - INFO - XSH: 0.00557607  YSH: 0.0322529    ROT: -0.00146838    SCALE: 1\n"
     ]
    },
    {
     "name": "stderr",
     "output_type": "stream",
     "text": [
      "2022-09-19 21:01:58,397 - stpipe.Image3Pipeline.tweakreg - INFO - \n"
     ]
    },
    {
     "name": "stderr",
     "output_type": "stream",
     "text": [
      "2022-09-19 21:01:58,397 - stpipe.Image3Pipeline.tweakreg - INFO - FIT RMSE: 0.0209958   FIT MAE: 0.0165782\n"
     ]
    },
    {
     "name": "stderr",
     "output_type": "stream",
     "text": [
      "2022-09-19 21:01:58,398 - stpipe.Image3Pipeline.tweakreg - INFO - Final solution based on 132 objects.\n"
     ]
    },
    {
     "name": "stderr",
     "output_type": "stream",
     "text": [
      "2022-09-19 21:01:58,433 - stpipe.Image3Pipeline.tweakreg - INFO - Aligning image catalog 'GROUP ID: jw00042002001_01101_00006_nrca5_cal' to the reference catalog.\n"
     ]
    },
    {
     "name": "stderr",
     "output_type": "stream",
     "text": [
      "2022-09-19 21:01:58,583 - stpipe.Image3Pipeline.tweakreg - INFO - Matching sources from 'jw00042002001_01101_00006_nrca5_cal' catalog with sources from the reference 'jw00042002001_01101_00004_nrca5_cal' catalog.\n"
     ]
    },
    {
     "name": "stderr",
     "output_type": "stream",
     "text": [
      "2022-09-19 21:01:58,584 - stpipe.Image3Pipeline.tweakreg - INFO - Computing initial guess for X and Y shifts...\n"
     ]
    },
    {
     "name": "stderr",
     "output_type": "stream",
     "text": [
      "2022-09-19 21:01:58,586 - stpipe.Image3Pipeline.tweakreg - INFO - Found initial X and Y shifts of -0.06202, 0.07062 with significance of 92.63 and 232 matches.\n"
     ]
    },
    {
     "name": "stderr",
     "output_type": "stream",
     "text": [
      "2022-09-19 21:01:58,587 - stpipe.Image3Pipeline.tweakreg - INFO - Found 164 matches for 'GROUP ID: jw00042002001_01101_00006_nrca5_cal'...\n"
     ]
    },
    {
     "name": "stderr",
     "output_type": "stream",
     "text": [
      "2022-09-19 21:01:58,588 - stpipe.Image3Pipeline.tweakreg - INFO - Performing 'rshift' fit\n"
     ]
    },
    {
     "name": "stderr",
     "output_type": "stream",
     "text": [
      "2022-09-19 21:01:58,591 - stpipe.Image3Pipeline.tweakreg - INFO - Computed 'rshift' fit for GROUP ID: jw00042002001_01101_00006_nrca5_cal:\n"
     ]
    },
    {
     "name": "stderr",
     "output_type": "stream",
     "text": [
      "2022-09-19 21:01:58,592 - stpipe.Image3Pipeline.tweakreg - INFO - XSH: -0.0260798  YSH: 0.00975507    ROT: -0.00107144    SCALE: 1\n"
     ]
    },
    {
     "name": "stderr",
     "output_type": "stream",
     "text": [
      "2022-09-19 21:01:58,592 - stpipe.Image3Pipeline.tweakreg - INFO - \n"
     ]
    },
    {
     "name": "stderr",
     "output_type": "stream",
     "text": [
      "2022-09-19 21:01:58,593 - stpipe.Image3Pipeline.tweakreg - INFO - FIT RMSE: 0.0124495   FIT MAE: 0.010433\n"
     ]
    },
    {
     "name": "stderr",
     "output_type": "stream",
     "text": [
      "2022-09-19 21:01:58,593 - stpipe.Image3Pipeline.tweakreg - INFO - Final solution based on 161 objects.\n"
     ]
    },
    {
     "name": "stderr",
     "output_type": "stream",
     "text": [
      "2022-09-19 21:01:58,627 - stpipe.Image3Pipeline.tweakreg - INFO -  \n"
     ]
    },
    {
     "name": "stderr",
     "output_type": "stream",
     "text": [
      "2022-09-19 21:01:58,628 - stpipe.Image3Pipeline.tweakreg - INFO - ***** tweakwcs.imalign.align_wcs() ended on 2022-09-19 21:01:58.627413\n"
     ]
    },
    {
     "name": "stderr",
     "output_type": "stream",
     "text": [
      "2022-09-19 21:01:58,629 - stpipe.Image3Pipeline.tweakreg - INFO - ***** tweakwcs.imalign.align_wcs() TOTAL RUN TIME: 0:00:00.486904\n"
     ]
    },
    {
     "name": "stderr",
     "output_type": "stream",
     "text": [
      "2022-09-19 21:01:58,630 - stpipe.Image3Pipeline.tweakreg - INFO -  \n"
     ]
    },
    {
     "name": "stderr",
     "output_type": "stream",
     "text": [
      "2022-09-19 21:01:58,754 - stpipe.Image3Pipeline.tweakreg - WARNING - /internal/data1/jenkins/workspace/Notebooks/jwst_validation_notebooks_spacetelescope/miniconda3/envs/jwst_validation_notebooks/lib/python3.9/site-packages/astropy/modeling/fitting.py:789: AstropyUserWarning: The fit may be poorly conditioned\n",
      "\n",
      "  warnings.warn(\"The fit may be poorly conditioned\\n\",\n",
      "\n"
     ]
    },
    {
     "name": "stderr",
     "output_type": "stream",
     "text": [
      "2022-09-19 21:01:58,759 - stpipe.Image3Pipeline.tweakreg - WARNING - Failed to update 'meta.wcsinfo' with FITS SIP approximation. Reported error is:\n"
     ]
    },
    {
     "name": "stderr",
     "output_type": "stream",
     "text": [
      "2022-09-19 21:01:58,760 - stpipe.Image3Pipeline.tweakreg - WARNING - \"Failed to achieve required error tolerance\"\n"
     ]
    },
    {
     "name": "stderr",
     "output_type": "stream",
     "text": [
      "2022-09-19 21:01:58,864 - stpipe.Image3Pipeline.tweakreg - WARNING - Failed to update 'meta.wcsinfo' with FITS SIP approximation. Reported error is:\n"
     ]
    },
    {
     "name": "stderr",
     "output_type": "stream",
     "text": [
      "2022-09-19 21:01:58,865 - stpipe.Image3Pipeline.tweakreg - WARNING - \"Failed to achieve required error tolerance\"\n"
     ]
    },
    {
     "name": "stderr",
     "output_type": "stream",
     "text": [
      "2022-09-19 21:01:58,870 - stpipe.Image3Pipeline.tweakreg - INFO - Step tweakreg done\n"
     ]
    },
    {
     "name": "stderr",
     "output_type": "stream",
     "text": [
      "2022-09-19 21:01:59,029 - stpipe.Image3Pipeline.skymatch - INFO - Step skymatch running with args (<ModelContainer>,).\n"
     ]
    },
    {
     "name": "stderr",
     "output_type": "stream",
     "text": [
      "2022-09-19 21:01:59,031 - stpipe.Image3Pipeline.skymatch - INFO - Step skymatch parameters are: {'pre_hooks': [], 'post_hooks': [], 'output_file': None, 'output_dir': None, 'output_ext': '.fits', 'output_use_model': False, 'output_use_index': True, 'save_results': False, 'skip': False, 'suffix': None, 'search_output_file': True, 'input_dir': '', 'skymethod': 'match', 'match_down': True, 'subtract': False, 'stepsize': None, 'skystat': 'mode', 'dqbits': '~DO_NOT_USE+NON_SCIENCE', 'lower': None, 'upper': None, 'nclip': 5, 'lsigma': 4.0, 'usigma': 4.0, 'binwidth': 0.1}\n"
     ]
    },
    {
     "name": "stderr",
     "output_type": "stream",
     "text": [
      "2022-09-19 21:01:59,132 - stpipe.Image3Pipeline.skymatch - INFO -  \n"
     ]
    },
    {
     "name": "stderr",
     "output_type": "stream",
     "text": [
      "2022-09-19 21:01:59,133 - stpipe.Image3Pipeline.skymatch - INFO - ***** jwst.skymatch.skymatch.match() started on 2022-09-19 21:01:59.132174\n"
     ]
    },
    {
     "name": "stderr",
     "output_type": "stream",
     "text": [
      "2022-09-19 21:01:59,133 - stpipe.Image3Pipeline.skymatch - INFO -  \n"
     ]
    },
    {
     "name": "stderr",
     "output_type": "stream",
     "text": [
      "2022-09-19 21:01:59,133 - stpipe.Image3Pipeline.skymatch - INFO - Sky computation method: 'match'\n"
     ]
    },
    {
     "name": "stderr",
     "output_type": "stream",
     "text": [
      "2022-09-19 21:01:59,134 - stpipe.Image3Pipeline.skymatch - INFO - Sky matching direction: DOWN\n"
     ]
    },
    {
     "name": "stderr",
     "output_type": "stream",
     "text": [
      "2022-09-19 21:01:59,134 - stpipe.Image3Pipeline.skymatch - INFO - Sky subtraction from image data: OFF\n"
     ]
    },
    {
     "name": "stderr",
     "output_type": "stream",
     "text": [
      "2022-09-19 21:01:59,134 - stpipe.Image3Pipeline.skymatch - INFO -  \n"
     ]
    },
    {
     "name": "stderr",
     "output_type": "stream",
     "text": [
      "2022-09-19 21:01:59,135 - stpipe.Image3Pipeline.skymatch - INFO - ----  Computing differences in sky values in overlapping regions.\n"
     ]
    },
    {
     "name": "stderr",
     "output_type": "stream",
     "text": [
      "2022-09-19 21:02:01,926 - stpipe.Image3Pipeline.skymatch - INFO -    *  Image ID=jw00042002001_01101_00004_nrca5_cal.fits. Sky background: 0.000528526\n"
     ]
    },
    {
     "name": "stderr",
     "output_type": "stream",
     "text": [
      "2022-09-19 21:02:01,928 - stpipe.Image3Pipeline.skymatch - INFO -    *  Image ID=jw00042002001_01101_00005_nrca5_cal.fits. Sky background: 0\n"
     ]
    },
    {
     "name": "stderr",
     "output_type": "stream",
     "text": [
      "2022-09-19 21:02:01,928 - stpipe.Image3Pipeline.skymatch - INFO -    *  Image ID=jw00042002001_01101_00006_nrca5_cal.fits. Sky background: 0.000410363\n"
     ]
    },
    {
     "name": "stderr",
     "output_type": "stream",
     "text": [
      "2022-09-19 21:02:01,929 - stpipe.Image3Pipeline.skymatch - INFO -  \n"
     ]
    },
    {
     "name": "stderr",
     "output_type": "stream",
     "text": [
      "2022-09-19 21:02:01,929 - stpipe.Image3Pipeline.skymatch - INFO - ***** jwst.skymatch.skymatch.match() ended on 2022-09-19 21:02:01.929229\n"
     ]
    },
    {
     "name": "stderr",
     "output_type": "stream",
     "text": [
      "2022-09-19 21:02:01,929 - stpipe.Image3Pipeline.skymatch - INFO - ***** jwst.skymatch.skymatch.match() TOTAL RUN TIME: 0:00:02.797055\n"
     ]
    },
    {
     "name": "stderr",
     "output_type": "stream",
     "text": [
      "2022-09-19 21:02:01,930 - stpipe.Image3Pipeline.skymatch - INFO -  \n"
     ]
    },
    {
     "name": "stderr",
     "output_type": "stream",
     "text": [
      "2022-09-19 21:02:01,942 - stpipe.Image3Pipeline.skymatch - INFO - Step skymatch done\n"
     ]
    },
    {
     "name": "stderr",
     "output_type": "stream",
     "text": [
      "2022-09-19 21:02:02,068 - stpipe.Image3Pipeline.outlier_detection - INFO - Step outlier_detection running with args (<ModelContainer>,).\n"
     ]
    },
    {
     "name": "stderr",
     "output_type": "stream",
     "text": [
      "2022-09-19 21:02:02,070 - stpipe.Image3Pipeline.outlier_detection - INFO - Step outlier_detection parameters are: {'pre_hooks': [], 'post_hooks': [], 'output_file': None, 'output_dir': None, 'output_ext': '.fits', 'output_use_model': False, 'output_use_index': True, 'save_results': True, 'skip': False, 'suffix': 'crf', 'search_output_file': False, 'input_dir': '', 'weight_type': 'ivm', 'pixfrac': 1.0, 'kernel': 'square', 'fillval': 'INDEF', 'nlow': 0, 'nhigh': 0, 'maskpt': 0.7, 'grow': 1, 'snr': '5.0 4.0', 'scale': '1.2 0.7', 'backg': 0.0, 'save_intermediate_results': False, 'resample_data': True, 'good_bits': '~DO_NOT_USE', 'scale_detection': False, 'allowed_memory': None, 'in_memory': False}\n"
     ]
    },
    {
     "name": "stderr",
     "output_type": "stream",
     "text": [
      "2022-09-19 21:02:02,077 - stpipe.Image3Pipeline.outlier_detection - INFO - Performing outlier detection on 3 inputs\n"
     ]
    },
    {
     "name": "stderr",
     "output_type": "stream",
     "text": [
      "2022-09-19 21:02:02,078 - stpipe.Image3Pipeline.outlier_detection - INFO - Driz parameter kernel: square\n"
     ]
    },
    {
     "name": "stderr",
     "output_type": "stream",
     "text": [
      "2022-09-19 21:02:02,078 - stpipe.Image3Pipeline.outlier_detection - INFO - Driz parameter pixfrac: 1.0\n"
     ]
    },
    {
     "name": "stderr",
     "output_type": "stream",
     "text": [
      "2022-09-19 21:02:02,079 - stpipe.Image3Pipeline.outlier_detection - INFO - Driz parameter fillval: INDEF\n"
     ]
    },
    {
     "name": "stderr",
     "output_type": "stream",
     "text": [
      "2022-09-19 21:02:02,079 - stpipe.Image3Pipeline.outlier_detection - INFO - Driz parameter weight_type: ivm\n"
     ]
    },
    {
     "name": "stderr",
     "output_type": "stream",
     "text": [
      "2022-09-19 21:02:02,196 - stpipe.Image3Pipeline.outlier_detection - INFO - 1 exposures to drizzle together\n"
     ]
    },
    {
     "name": "stderr",
     "output_type": "stream",
     "text": [
      "2022-09-19 21:02:05,559 - stpipe.Image3Pipeline.outlier_detection - INFO - Drizzling (2048, 2048) --> (2246, 2456)\n"
     ]
    },
    {
     "name": "stderr",
     "output_type": "stream",
     "text": [
      "2022-09-19 21:02:06,656 - stpipe.Image3Pipeline.outlier_detection - INFO - Exposure jw00042002001_01101_00004_nrca5_outlier_i2d.fits saved to file\n"
     ]
    },
    {
     "name": "stderr",
     "output_type": "stream",
     "text": [
      "2022-09-19 21:02:06,666 - stpipe.Image3Pipeline.outlier_detection - INFO - 1 exposures to drizzle together\n"
     ]
    },
    {
     "name": "stderr",
     "output_type": "stream",
     "text": [
      "2022-09-19 21:02:10,910 - stpipe.Image3Pipeline.outlier_detection - INFO - Drizzling (2048, 2048) --> (2246, 2456)\n"
     ]
    },
    {
     "name": "stderr",
     "output_type": "stream",
     "text": [
      "2022-09-19 21:02:12,101 - stpipe.Image3Pipeline.outlier_detection - INFO - Exposure jw00042002001_01101_00005_nrca5_outlier_i2d.fits saved to file\n"
     ]
    },
    {
     "name": "stderr",
     "output_type": "stream",
     "text": [
      "2022-09-19 21:02:12,116 - stpipe.Image3Pipeline.outlier_detection - INFO - 1 exposures to drizzle together\n"
     ]
    },
    {
     "name": "stderr",
     "output_type": "stream",
     "text": [
      "2022-09-19 21:02:16,437 - stpipe.Image3Pipeline.outlier_detection - INFO - Drizzling (2048, 2048) --> (2246, 2456)\n"
     ]
    },
    {
     "name": "stderr",
     "output_type": "stream",
     "text": [
      "2022-09-19 21:02:17,546 - stpipe.Image3Pipeline.outlier_detection - INFO - Exposure jw00042002001_01101_00006_nrca5_outlier_i2d.fits saved to file\n"
     ]
    },
    {
     "name": "stderr",
     "output_type": "stream",
     "text": [
      "2022-09-19 21:02:27,507 - stpipe.Image3Pipeline.outlier_detection - INFO - Blotting median...\n"
     ]
    },
    {
     "name": "stderr",
     "output_type": "stream",
     "text": [
      "2022-09-19 21:02:31,355 - stpipe.Image3Pipeline.outlier_detection - INFO - Blotting (2048, 2048) <-- (2246, 2456)\n"
     ]
    },
    {
     "name": "stderr",
     "output_type": "stream",
     "text": [
      "2022-09-19 21:02:36,283 - stpipe.Image3Pipeline.outlier_detection - INFO - Blotting (2048, 2048) <-- (2246, 2456)\n"
     ]
    },
    {
     "name": "stderr",
     "output_type": "stream",
     "text": [
      "2022-09-19 21:02:40,562 - stpipe.Image3Pipeline.outlier_detection - INFO - Blotting (2048, 2048) <-- (2246, 2456)\n"
     ]
    },
    {
     "name": "stderr",
     "output_type": "stream",
     "text": [
      "2022-09-19 21:02:40,899 - stpipe.Image3Pipeline.outlier_detection - INFO - Flagging outliers\n"
     ]
    },
    {
     "name": "stderr",
     "output_type": "stream",
     "text": [
      "2022-09-19 21:02:41,475 - stpipe.Image3Pipeline.outlier_detection - INFO - New pixels flagged as outliers: 7260 (0.17%)\n"
     ]
    },
    {
     "name": "stderr",
     "output_type": "stream",
     "text": [
      "2022-09-19 21:02:42,014 - stpipe.Image3Pipeline.outlier_detection - INFO - New pixels flagged as outliers: 6751 (0.16%)\n"
     ]
    },
    {
     "name": "stderr",
     "output_type": "stream",
     "text": [
      "2022-09-19 21:02:42,549 - stpipe.Image3Pipeline.outlier_detection - INFO - New pixels flagged as outliers: 7424 (0.18%)\n"
     ]
    },
    {
     "name": "stderr",
     "output_type": "stream",
     "text": [
      "2022-09-19 21:02:42,772 - stpipe.Image3Pipeline.outlier_detection - INFO - Saved model in jw00042002001_01101_00004_nrca5_a3001_crf.fits\n"
     ]
    },
    {
     "name": "stderr",
     "output_type": "stream",
     "text": [
      "2022-09-19 21:02:43,014 - stpipe.Image3Pipeline.outlier_detection - INFO - Saved model in jw00042002001_01101_00005_nrca5_a3001_crf.fits\n"
     ]
    },
    {
     "name": "stderr",
     "output_type": "stream",
     "text": [
      "2022-09-19 21:02:43,266 - stpipe.Image3Pipeline.outlier_detection - INFO - Saved model in jw00042002001_01101_00006_nrca5_a3001_crf.fits\n"
     ]
    },
    {
     "name": "stderr",
     "output_type": "stream",
     "text": [
      "2022-09-19 21:02:43,267 - stpipe.Image3Pipeline.outlier_detection - INFO - Step outlier_detection done\n"
     ]
    },
    {
     "name": "stderr",
     "output_type": "stream",
     "text": [
      "2022-09-19 21:02:43,426 - stpipe.Image3Pipeline - WARNING - /internal/data1/jenkins/workspace/Notebooks/jwst_validation_notebooks_spacetelescope/miniconda3/envs/jwst_validation_notebooks/lib/python3.9/site-packages/stpipe/step.py:419: ResourceWarning: unclosed file <_io.BufferedReader name='level3_lw_imaging_files_asn_jw00042002001_01101_00006_nrca5_a3001_blot.fits'>\n",
      "  gc.collect()\n",
      "\n"
     ]
    },
    {
     "name": "stderr",
     "output_type": "stream",
     "text": [
      "2022-09-19 21:02:43,440 - stpipe.Image3Pipeline.resample - INFO - Step resample running with args (<ModelContainer>,).\n"
     ]
    },
    {
     "name": "stderr",
     "output_type": "stream",
     "text": [
      "2022-09-19 21:02:43,442 - stpipe.Image3Pipeline.resample - INFO - Step resample parameters are: {'pre_hooks': [], 'post_hooks': [], 'output_file': None, 'output_dir': None, 'output_ext': '.fits', 'output_use_model': False, 'output_use_index': True, 'save_results': True, 'skip': False, 'suffix': 'i2d', 'search_output_file': True, 'input_dir': '', 'pixfrac': 1.0, 'kernel': 'square', 'fillval': 'INDEF', 'weight_type': 'ivm', 'output_shape': None, 'crpix': None, 'crval': None, 'rotation': None, 'pixel_scale_ratio': 1.0, 'pixel_scale': None, 'single': False, 'blendheaders': True, 'allowed_memory': None, 'in_memory': True}\n"
     ]
    },
    {
     "name": "stderr",
     "output_type": "stream",
     "text": [
      "2022-09-19 21:02:43,460 - CRDS - INFO -  Fetching  /tmp/crds_cache/references/jwst/nircam/jwst_nircam_drizpars_0001.fits    8.6 K bytes  (1 / 1 files) (0 / 8.6 K bytes)\n"
     ]
    },
    {
     "name": "stderr",
     "output_type": "stream",
     "text": [
      "2022-09-19 21:02:43,462 - CRDS - ERROR -  Failure downloading file 'jwst_nircam_drizpars_0001.fits' : Error fetching data for 'jwst_nircam_drizpars_0001.fits' at CRDS server 'https://jwst-crds.stsci.edu' with mode 'http' : [Errno 28] No space left on device: '/tmp/crds_cache/references/jwst/nircam/jwst_nircam_drizpars_0001.fits'\n"
     ]
    },
    {
     "ename": "FileNotFoundError",
     "evalue": "[Errno 2] No such file or directory: '/tmp/crds_cache/references/jwst/nircam/jwst_nircam_drizpars_0001.fits'",
     "output_type": "error",
     "traceback": [
      "\u001b[0;31m---------------------------------------------------------------------------\u001b[0m",
      "\u001b[0;31mFileNotFoundError\u001b[0m                         Traceback (most recent call last)",
      "Cell \u001b[0;32mIn [12], line 1\u001b[0m\n\u001b[0;32m----> 1\u001b[0m \u001b[43mimg3\u001b[49m\u001b[38;5;241;43m.\u001b[39;49m\u001b[43mrun\u001b[49m\u001b[43m(\u001b[49m\u001b[43mfile_names\u001b[49m\u001b[43m[\u001b[49m\u001b[38;5;241;43m3\u001b[39;49m\u001b[43m]\u001b[49m\u001b[43m)\u001b[49m\n",
      "File \u001b[0;32m~/miniconda3/envs/jwst_validation_notebooks/lib/python3.9/site-packages/stpipe/step.py:483\u001b[0m, in \u001b[0;36mStep.run\u001b[0;34m(self, *args)\u001b[0m\n\u001b[1;32m    481\u001b[0m     \u001b[38;5;28mself\u001b[39m\u001b[38;5;241m.\u001b[39mprefetch(\u001b[38;5;241m*\u001b[39margs)\n\u001b[1;32m    482\u001b[0m \u001b[38;5;28;01mtry\u001b[39;00m:\n\u001b[0;32m--> 483\u001b[0m     step_result \u001b[38;5;241m=\u001b[39m \u001b[38;5;28;43mself\u001b[39;49m\u001b[38;5;241;43m.\u001b[39;49m\u001b[43mprocess\u001b[49m\u001b[43m(\u001b[49m\u001b[38;5;241;43m*\u001b[39;49m\u001b[43margs\u001b[49m\u001b[43m)\u001b[49m\n\u001b[1;32m    484\u001b[0m \u001b[38;5;28;01mexcept\u001b[39;00m \u001b[38;5;167;01mTypeError\u001b[39;00m \u001b[38;5;28;01mas\u001b[39;00m e:\n\u001b[1;32m    485\u001b[0m     \u001b[38;5;28;01mif\u001b[39;00m \u001b[38;5;124m\"\u001b[39m\u001b[38;5;124mprocess() takes exactly\u001b[39m\u001b[38;5;124m\"\u001b[39m \u001b[38;5;129;01min\u001b[39;00m \u001b[38;5;28mstr\u001b[39m(e):\n",
      "File \u001b[0;32m~/miniconda3/envs/jwst_validation_notebooks/lib/python3.9/site-packages/jwst/pipeline/calwebb_image3.py:98\u001b[0m, in \u001b[0;36mImage3Pipeline.process\u001b[0;34m(self, input_data)\u001b[0m\n\u001b[1;32m     95\u001b[0m \u001b[38;5;28;01melse\u001b[39;00m:\n\u001b[1;32m     96\u001b[0m     input_models \u001b[38;5;241m=\u001b[39m \u001b[38;5;28mself\u001b[39m\u001b[38;5;241m.\u001b[39mskymatch(input_models)\n\u001b[0;32m---> 98\u001b[0m result \u001b[38;5;241m=\u001b[39m \u001b[38;5;28;43mself\u001b[39;49m\u001b[38;5;241;43m.\u001b[39;49m\u001b[43mresample\u001b[49m\u001b[43m(\u001b[49m\u001b[43minput_models\u001b[49m\u001b[43m)\u001b[49m\n\u001b[1;32m     99\u001b[0m \u001b[38;5;28;01mif\u001b[39;00m \u001b[38;5;28misinstance\u001b[39m(result, datamodels\u001b[38;5;241m.\u001b[39mImageModel) \u001b[38;5;129;01mand\u001b[39;00m result\u001b[38;5;241m.\u001b[39mmeta\u001b[38;5;241m.\u001b[39mcal_step\u001b[38;5;241m.\u001b[39mresample \u001b[38;5;241m==\u001b[39m \u001b[38;5;124m'\u001b[39m\u001b[38;5;124mCOMPLETE\u001b[39m\u001b[38;5;124m'\u001b[39m:\n\u001b[1;32m    100\u001b[0m     \u001b[38;5;28mself\u001b[39m\u001b[38;5;241m.\u001b[39msource_catalog(result)\n",
      "File \u001b[0;32m~/miniconda3/envs/jwst_validation_notebooks/lib/python3.9/site-packages/stpipe/step.py:483\u001b[0m, in \u001b[0;36mStep.run\u001b[0;34m(self, *args)\u001b[0m\n\u001b[1;32m    481\u001b[0m     \u001b[38;5;28mself\u001b[39m\u001b[38;5;241m.\u001b[39mprefetch(\u001b[38;5;241m*\u001b[39margs)\n\u001b[1;32m    482\u001b[0m \u001b[38;5;28;01mtry\u001b[39;00m:\n\u001b[0;32m--> 483\u001b[0m     step_result \u001b[38;5;241m=\u001b[39m \u001b[38;5;28;43mself\u001b[39;49m\u001b[38;5;241;43m.\u001b[39;49m\u001b[43mprocess\u001b[49m\u001b[43m(\u001b[49m\u001b[38;5;241;43m*\u001b[39;49m\u001b[43margs\u001b[49m\u001b[43m)\u001b[49m\n\u001b[1;32m    484\u001b[0m \u001b[38;5;28;01mexcept\u001b[39;00m \u001b[38;5;167;01mTypeError\u001b[39;00m \u001b[38;5;28;01mas\u001b[39;00m e:\n\u001b[1;32m    485\u001b[0m     \u001b[38;5;28;01mif\u001b[39;00m \u001b[38;5;124m\"\u001b[39m\u001b[38;5;124mprocess() takes exactly\u001b[39m\u001b[38;5;124m\"\u001b[39m \u001b[38;5;129;01min\u001b[39;00m \u001b[38;5;28mstr\u001b[39m(e):\n",
      "File \u001b[0;32m~/miniconda3/envs/jwst_validation_notebooks/lib/python3.9/site-packages/jwst/resample/resample_step.py:82\u001b[0m, in \u001b[0;36mResampleStep.process\u001b[0;34m(self, input)\u001b[0m\n\u001b[1;32m     80\u001b[0m \u001b[38;5;28mself\u001b[39m\u001b[38;5;241m.\u001b[39mwht_type \u001b[38;5;241m=\u001b[39m \u001b[38;5;28mself\u001b[39m\u001b[38;5;241m.\u001b[39mweight_type\n\u001b[1;32m     81\u001b[0m \u001b[38;5;28;01mfor\u001b[39;00m reftype \u001b[38;5;129;01min\u001b[39;00m \u001b[38;5;28mself\u001b[39m\u001b[38;5;241m.\u001b[39mreference_file_types:\n\u001b[0;32m---> 82\u001b[0m     ref_filename \u001b[38;5;241m=\u001b[39m \u001b[38;5;28;43mself\u001b[39;49m\u001b[38;5;241;43m.\u001b[39;49m\u001b[43mget_reference_file\u001b[49m\u001b[43m(\u001b[49m\u001b[43minput_models\u001b[49m\u001b[43m[\u001b[49m\u001b[38;5;241;43m0\u001b[39;49m\u001b[43m]\u001b[49m\u001b[43m,\u001b[49m\u001b[43m \u001b[49m\u001b[43mreftype\u001b[49m\u001b[43m)\u001b[49m\n\u001b[1;32m     84\u001b[0m \u001b[38;5;28;01mif\u001b[39;00m ref_filename \u001b[38;5;241m!=\u001b[39m \u001b[38;5;124m'\u001b[39m\u001b[38;5;124mN/A\u001b[39m\u001b[38;5;124m'\u001b[39m:\n\u001b[1;32m     85\u001b[0m     \u001b[38;5;28mself\u001b[39m\u001b[38;5;241m.\u001b[39mlog\u001b[38;5;241m.\u001b[39minfo(\u001b[38;5;124m'\u001b[39m\u001b[38;5;124mDrizpars reference file: \u001b[39m\u001b[38;5;132;01m{}\u001b[39;00m\u001b[38;5;124m'\u001b[39m\u001b[38;5;241m.\u001b[39mformat(ref_filename))\n",
      "File \u001b[0;32m~/miniconda3/envs/jwst_validation_notebooks/lib/python3.9/site-packages/stpipe/step.py:800\u001b[0m, in \u001b[0;36mStep.get_reference_file\u001b[0;34m(self, input_file, reference_file_type)\u001b[0m\n\u001b[1;32m    797\u001b[0m         hdr_name \u001b[38;5;241m=\u001b[39m \u001b[38;5;124m\"\u001b[39m\u001b[38;5;124mN/A\u001b[39m\u001b[38;5;124m\"\u001b[39m\n\u001b[1;32m    798\u001b[0m     \u001b[38;5;28mself\u001b[39m\u001b[38;5;241m.\u001b[39m_reference_files_used\u001b[38;5;241m.\u001b[39mappend(\n\u001b[1;32m    799\u001b[0m         (reference_file_type, hdr_name))\n\u001b[0;32m--> 800\u001b[0m \u001b[38;5;28;01mreturn\u001b[39;00m \u001b[43mcrds_client\u001b[49m\u001b[38;5;241;43m.\u001b[39;49m\u001b[43mcheck_reference_open\u001b[49m\u001b[43m(\u001b[49m\u001b[43mreference_name\u001b[49m\u001b[43m)\u001b[49m\n",
      "File \u001b[0;32m~/miniconda3/envs/jwst_validation_notebooks/lib/python3.9/site-packages/stpipe/crds_client.py:85\u001b[0m, in \u001b[0;36mcheck_reference_open\u001b[0;34m(refpath)\u001b[0m\n\u001b[1;32m     83\u001b[0m             \u001b[38;5;28;01mraise\u001b[39;00m \u001b[38;5;167;01mRuntimeError\u001b[39;00m(\u001b[38;5;124m\"\u001b[39m\u001b[38;5;124mS3 object does not exist: \u001b[39m\u001b[38;5;124m\"\u001b[39m \u001b[38;5;241m+\u001b[39m refpath)\n\u001b[1;32m     84\u001b[0m     \u001b[38;5;28;01melse\u001b[39;00m:\n\u001b[0;32m---> 85\u001b[0m         \u001b[38;5;28;01mwith\u001b[39;00m \u001b[38;5;28;43mopen\u001b[39;49m\u001b[43m(\u001b[49m\u001b[43mrefpath\u001b[49m\u001b[43m,\u001b[49m\u001b[43m \u001b[49m\u001b[38;5;124;43m\"\u001b[39;49m\u001b[38;5;124;43mrb\u001b[39;49m\u001b[38;5;124;43m\"\u001b[39;49m\u001b[43m)\u001b[49m:\n\u001b[1;32m     86\u001b[0m             \u001b[38;5;28;01mpass\u001b[39;00m\n\u001b[1;32m     87\u001b[0m \u001b[38;5;28;01mreturn\u001b[39;00m refpath\n",
      "\u001b[0;31mFileNotFoundError\u001b[0m: [Errno 2] No such file or directory: '/tmp/crds_cache/references/jwst/nircam/jwst_nircam_drizpars_0001.fits'"
     ]
    }
   ],
   "source": [
    "img3.run(file_names[3])"
   ]
  },
  {
   "cell_type": "markdown",
   "metadata": {},
   "source": [
    "[Top of Page](#title_ID)"
   ]
  },
  {
   "cell_type": "markdown",
   "metadata": {},
   "source": [
    "<a id=\"visualization\"></a>\n",
    "# Perform Visual Inspection\n",
    "\n",
    "Perform the visual inspection of the catalog and the final image. "
   ]
  },
  {
   "cell_type": "code",
   "execution_count": null,
   "metadata": {},
   "outputs": [],
   "source": [
    "catalog = Table.read(\"lw_imaging_cat.ecsv\")"
   ]
  },
  {
   "cell_type": "code",
   "execution_count": null,
   "metadata": {},
   "outputs": [],
   "source": [
    "combined_image = datamodels.ImageModel(\"lw_imaging_i2d.fits\")"
   ]
  },
  {
   "cell_type": "code",
   "execution_count": null,
   "metadata": {
    "scrolled": false
   },
   "outputs": [],
   "source": [
    "create_image(combined_image.data, title=\"Final combined NIRCam image\")"
   ]
  },
  {
   "cell_type": "code",
   "execution_count": null,
   "metadata": {
    "scrolled": false
   },
   "outputs": [],
   "source": [
    "create_image_with_cat(combined_image.data, catalog, title=\"Final image w/ catalog overlaid\")"
   ]
  },
  {
   "cell_type": "code",
   "execution_count": null,
   "metadata": {},
   "outputs": [],
   "source": [
    "catalog"
   ]
  },
  {
   "cell_type": "code",
   "execution_count": null,
   "metadata": {
    "scrolled": false
   },
   "outputs": [],
   "source": [
    "create_scatterplot(catalog['label'], catalog['aper_total_flux'],title='Total Flux in '+str(catalog['aper_total_flux'].unit))"
   ]
  },
  {
   "cell_type": "code",
   "execution_count": null,
   "metadata": {},
   "outputs": [],
   "source": [
    "create_scatterplot(catalog['label'], catalog['aper_total_abmag'],title='Total AB mag')"
   ]
  },
  {
   "cell_type": "markdown",
   "metadata": {},
   "source": [
    "[Top of Page](#title_ID)"
   ]
  },
  {
   "cell_type": "markdown",
   "metadata": {},
   "source": [
    "<a id=\"manual\"></a>\n",
    "# Manually Find Matches \n",
    "\n",
    "Since this is a simulated data set, we can compare the output catalog information from the pipeline with the input catalog information used to create the simulation. Grab the input catalog RA, Dec values and the output catalog RA, Dec values."
   ]
  },
  {
   "cell_type": "code",
   "execution_count": null,
   "metadata": {},
   "outputs": [],
   "source": [
    "test_outputs = get_input_table(file_names[4])\n",
    "in_ra = test_outputs['In_RA'].data\n",
    "in_dec = test_outputs['In_Dec'].data\n",
    "out_ra = catalog['sky_centroid'].ra.deg\n",
    "out_dec = catalog['sky_centroid'].dec.deg"
   ]
  },
  {
   "cell_type": "markdown",
   "metadata": {},
   "source": [
    "Set the tolerance and initialize our counters. "
   ]
  },
  {
   "cell_type": "code",
   "execution_count": null,
   "metadata": {},
   "outputs": [],
   "source": [
    "tol = 1.e-3\n",
    "found_count=0\n",
    "multiples_count=0\n",
    "missed_count=0"
   ]
  },
  {
   "cell_type": "markdown",
   "metadata": {},
   "source": [
    "Below we loop through the input RA, Dec values and compare them to the RA, Dec values in the output catalog. For cases where there are multiple matches for our tolerance level, count those cases. "
   ]
  },
  {
   "cell_type": "code",
   "execution_count": null,
   "metadata": {},
   "outputs": [],
   "source": [
    "for ra,dec,idx in zip(in_ra, in_dec,range(len(test_outputs))):\n",
    "\n",
    "    match = np.where((np.abs(ra-out_ra) < tol) & (np.abs(dec-out_dec) < tol))\n",
    "    \n",
    "    if np.size(match) == 1: \n",
    "        found_count +=1 \n",
    "        test_outputs['Detected'][idx] = 'Y'\n",
    "        test_outputs['Out_RA'][idx] = out_ra[match]\n",
    "        test_outputs['Out_Dec'][idx] = out_dec[match]\n",
    "        test_outputs['RA_Diff'][idx] = np.abs(ra-out_ra[match])\n",
    "        test_outputs['Dec_Diff'][idx] = np.abs(dec-out_dec[match])  \n",
    "\n",
    "    if np.size(match) > 1:  \n",
    "        multiples_count +=1       \n",
    "        \n",
    "    if np.size(match) < 1:\n",
    "        missed_count +=1"
   ]
  },
  {
   "cell_type": "markdown",
   "metadata": {},
   "source": [
    "Let's see how it did. "
   ]
  },
  {
   "cell_type": "code",
   "execution_count": null,
   "metadata": {},
   "outputs": [],
   "source": [
    "total_percent_found = (found_count/len(test_outputs))*100\n",
    "\n",
    "print('\\n')\n",
    "print('SNR threshold used for pipeline: ',img3.source_catalog.snr_threshold)\n",
    "print('Total found:',found_count)\n",
    "print('Total missed:',missed_count)\n",
    "print('Number of multiples: ',multiples_count)\n",
    "print('Total number of input sources:',len(test_outputs))\n",
    "print('Total number in output catalog:',len(catalog))\n",
    "print('Total percent found:',total_percent_found)\n",
    "print('\\n')"
   ]
  },
  {
   "cell_type": "markdown",
   "metadata": {},
   "source": [
    "### Use photutils to find catalog matches"
   ]
  },
  {
   "cell_type": "markdown",
   "metadata": {},
   "source": [
    "Photutils includes a package to match sources between catalogs by providing a max separation value. Set that value and compare the two catalogs."
   ]
  },
  {
   "cell_type": "code",
   "execution_count": null,
   "metadata": {},
   "outputs": [],
   "source": [
    "catalog_in = SkyCoord(ra=in_ra*u.degree, dec=in_dec*u.degree)\n",
    "catalog_out = SkyCoord(ra=out_ra*u.degree, dec=out_dec*u.degree)"
   ]
  },
  {
   "cell_type": "code",
   "execution_count": null,
   "metadata": {},
   "outputs": [],
   "source": [
    "max_sep = 1.0 * u.arcsec"
   ]
  },
  {
   "cell_type": "code",
   "execution_count": null,
   "metadata": {},
   "outputs": [],
   "source": [
    "# idx, d2d, d3d = cat_in.match_to_catalog_3d(cat_out)\n",
    "idx, d2d, d3d = catalog_in.match_to_catalog_sky(catalog_out)\n",
    "sep_constraint = d2d < max_sep\n",
    "catalog_in_matches = catalog_in[sep_constraint]\n",
    "catalog_out_matches = catalog_out[idx[sep_constraint]]"
   ]
  },
  {
   "cell_type": "markdown",
   "metadata": {},
   "source": [
    "Now, ```catalog_in_matches``` and ```catalog_out_matches``` are the matched sources in ```catalog_in``` and ```catalog_out```, respectively, which are separated less than our ```max_sep``` value."
   ]
  },
  {
   "cell_type": "code",
   "execution_count": null,
   "metadata": {},
   "outputs": [],
   "source": [
    "print('Number of matched sources using max separation of '+str(max_sep)+': ',len(catalog_out_matches))"
   ]
  },
  {
   "cell_type": "markdown",
   "metadata": {},
   "source": [
    "<a id=\"about_ID\"></a>\n",
    "## About this Notebook\n",
    "**Author:** Alicia Canipe, Senior Staff Scientist, NIRCam\n",
    "<br>**Updated On:** 05/26/2021"
   ]
  },
  {
   "cell_type": "markdown",
   "metadata": {},
   "source": [
    "[Top of Page](#title_ID)\n",
    "<img style=\"float: right;\" src=\"./stsci_pri_combo_mark_horizonal_white_bkgd.png\" alt=\"stsci_pri_combo_mark_horizonal_white_bkgd\" width=\"200px\"/> "
   ]
  }
 ],
 "metadata": {
  "kernelspec": {
   "display_name": "Python 3 (ipykernel)",
   "language": "python",
   "name": "python3"
  },
  "language_info": {
   "codemirror_mode": {
    "name": "ipython",
    "version": 3
   },
   "file_extension": ".py",
   "mimetype": "text/x-python",
   "name": "python",
   "nbconvert_exporter": "python",
   "pygments_lexer": "ipython3",
   "version": "3.9.13"
  }
 },
 "nbformat": 4,
 "nbformat_minor": 1
}
