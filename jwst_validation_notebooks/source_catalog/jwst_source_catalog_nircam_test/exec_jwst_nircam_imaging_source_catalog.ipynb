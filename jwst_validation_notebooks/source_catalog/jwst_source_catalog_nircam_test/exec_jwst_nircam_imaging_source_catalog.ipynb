{
 "cells": [
  {
   "cell_type": "markdown",
   "metadata": {},
   "source": [
    "<a id=\"title_ID\"></a>\n",
    "# JWST Pipeline Validation Notebook: NIRCam, calwebb_image3, source_catalog\n",
    "\n",
    "<span style=\"color:red\"> **Instruments Affected**</span>: e.g., FGS, MIRI, NIRCam, NIRISS, NIRSpec \n",
    "\n",
    "### Table of Contents\n",
    "\n",
    "<div style=\"text-align: left\"> \n",
    "    \n",
    "<br> [Introduction](#intro)\n",
    "<br> [JWST CalWG Algorithm](#algorithm)\n",
    "<br> [Defining Terms](#terms)\n",
    "<br> [Test Description](#description)\n",
    "<br> [Data Description](#data_descr)\n",
    "<br> [Set up Temporary Directory](#tempdir)\n",
    "<br> [Imports](#imports)\n",
    "<br> [Loading the Data](#data_load)\n",
    "<br> [Run the Image3Pipeline](#pipeline)\n",
    "<br> [Perform Visual Inspection](#visualization) \n",
    "<br> [Manually Find Matches](#manual)\n",
    "<br> [About This Notebook](#about)\n",
    "<br>    \n",
    "\n",
    "</div>"
   ]
  },
  {
   "cell_type": "markdown",
   "metadata": {},
   "source": [
    "<a id=\"intro\"></a>\n",
    "# Introduction\n",
    "\n",
    "This is the NIRCam validation notebook for the Source Catalog step, which generates a catalog based on input exposures.\n",
    "\n",
    "* Step description: https://jwst-pipeline.readthedocs.io/en/latest/jwst/source_catalog/index.html\n",
    "\n",
    "* Pipeline code: https://github.com/spacetelescope/jwst/tree/master/jwst/source_catalog\n",
    "\n",
    "[Top of Page](#title_ID)"
   ]
  },
  {
   "cell_type": "markdown",
   "metadata": {},
   "source": [
    "<a id=\"algorithm\"></a>\n",
    "# JWST CalWG Algorithm\n",
    "\n",
    "This is the NIRCam imaging validation notebook for the Source Catalog step, which uses image combinations or stacks of overlapping images to generate \"browse-quality\" source catalogs.  Having automated source catalogs will help accelerate the science output of JWST. The source catalogs should include both point and \"slightly\" extended sources at a minimum.  The catalog should provide an indication if the source is a point or an extended source. For point sources, the source catalog should include measurements corrected to infinite aperture using aperture corrections provided by a reference file.  \n",
    "\n",
    "See: \n",
    "* https://outerspace.stsci.edu/display/JWSTCC/Vanilla+Point+Source+Catalog\n",
    "\n",
    "\n",
    "[Top of Page](#title_ID)"
   ]
  },
  {
   "cell_type": "markdown",
   "metadata": {},
   "source": [
    "<a id=\"terms\"></a>\n",
    "# Defining Terms\n",
    "\n",
    "* JWST: James Webb Space Telescope\n",
    "\n",
    "* NIRCam: Near-Infrared Camera\n",
    "\n",
    "\n",
    "[Top of Page](#title_ID)"
   ]
  },
  {
   "cell_type": "markdown",
   "metadata": {},
   "source": [
    "<a id=\"description\"></a>\n",
    "# Test Description\n",
    "\n",
    "Here we generate the source catalog and visually inspect a plot of the image with the source catalog overlaid. We also look at some other diagnostic plots and then cross-check the output catalog against Mirage catalog inputs. \n",
    "\n",
    "\n",
    "[Top of Page](#title_ID)"
   ]
  },
  {
   "cell_type": "markdown",
   "metadata": {},
   "source": [
    "<a id=\"data_descr\"></a>\n",
    "# Data Description\n",
    "\n",
    "The set of data used in this test were created with the Mirage simulator. The simulator created a NIRCam imaging mode exposures for the short wave NRCA1 detector. \n",
    "\n",
    "\n",
    "[Top of Page](#title_ID)"
   ]
  },
  {
   "cell_type": "markdown",
   "metadata": {},
   "source": [
    "<a id=\"tempdir\"></a>\n",
    "# Set up Temporary Directory\n",
    "The following cell sets up a temporary directory (using python's `tempfile.TemporaryDirectory()`), and changes the script's active directory into that directory (using python's `os.chdir()`). This is so that, when the notebook is run through, it will download files to (and create output files in) the temporary directory rather than in the notebook's directory. This makes cleanup significantly easier (since all output files are deleted when the notebook is shut down), and also means that different notebooks in the same directory won't interfere with each other when run by the automated webpage generation process.\n",
    "\n",
    "If you want the notebook to generate output in the notebook's directory, simply don't run this cell.\n",
    "\n",
    "If you have a file (or files) that are kept in the notebook's directory, and that the notebook needs to use while running, you can copy that file into the directory (the code to do so is present below, but commented out)."
   ]
  },
  {
   "cell_type": "code",
   "execution_count": 1,
   "metadata": {
    "execution": {
     "iopub.execute_input": "2021-10-02T16:03:54.819180Z",
     "iopub.status.busy": "2021-10-02T16:03:54.814532Z",
     "iopub.status.idle": "2021-10-02T16:03:54.825163Z",
     "shell.execute_reply": "2021-10-02T16:03:54.824405Z"
    }
   },
   "outputs": [
    {
     "name": "stdout",
     "output_type": "stream",
     "text": [
      "Running in /data1/jenkins/workspace/Notebooks/jwst_validation_notebooks_spacetelescope/tmp/tmpjuyrb665\n"
     ]
    }
   ],
   "source": [
    "#****\n",
    "#\n",
    "# Set this variable to False to not use the temporary directory\n",
    "#\n",
    "#****\n",
    "use_tempdir = True\n",
    "\n",
    "# Create a temporary directory to hold notebook output, and change the working directory to that directory.\n",
    "from tempfile import TemporaryDirectory\n",
    "import os\n",
    "import shutil\n",
    "\n",
    "if use_tempdir:\n",
    "    data_dir = TemporaryDirectory()\n",
    "\n",
    "    # If you have files that are in the notebook's directory, but that the notebook will need to use while\n",
    "    # running, copy them into the temporary directory here.\n",
    "    #\n",
    "    # files = ['name_of_file']\n",
    "    # for file_name in files:\n",
    "    #     shutil.copy(file_name, os.path.join(data_dir.name, file_name))\n",
    "\n",
    "    # Save original directory\n",
    "    orig_dir = os.getcwd()\n",
    "\n",
    "    # Move to new directory\n",
    "    os.chdir(data_dir.name)\n",
    "\n",
    "# For info, print out where the script is running\n",
    "print(\"Running in {}\".format(os.getcwd()))"
   ]
  },
  {
   "cell_type": "markdown",
   "metadata": {},
   "source": [
    "[Top of Page](#title_ID)"
   ]
  },
  {
   "cell_type": "markdown",
   "metadata": {},
   "source": [
    "## If Desired, set up CRDS to use a local cache\n",
    "\n",
    "By default, the notebook template environment sets up its CRDS cache (the \"CRDS_PATH\" environment variable) in /grp/crds/cache. However, if the notebook is running on a local machine without a fast and reliable connection to central storage, it makes more sense to put the CRDS cache locally. Currently, the cell below offers several options, and will check the supplied boolean variables one at a time until one matches.\n",
    "\n",
    "* if `use_local_crds_cache` is False, then the CRDS cache will be kept in /grp/crds/cache\n",
    "* if `use_local_crds_cache` is True, the CRDS cache will be kept locally\n",
    "  * if `crds_cache_tempdir` is True, the CRDS cache will be kept in the temporary directory\n",
    "  * if `crds_cache_notebook_dir` is True, the CRDS cache will be kept in the same directory as the notebook.\n",
    "  * if `crds_cache_home` is True, the CRDS cache will be kept in $HOME/crds/cache\n",
    "  * if `crds_cache_custom_dir` is True, the CRDS cache will be kept in whatever is stored in the \n",
    "    `crds_cache_dir_name` variable.\n",
    "\n",
    "If the above cell (creating a temporary directory) is not run, then setting `crds_cache_tempdir` to True will store the CRDS cache in the notebook's directory (the same as setting `crds_cache_notebook_dir` to True)."
   ]
  },
  {
   "cell_type": "code",
   "execution_count": 2,
   "metadata": {
    "execution": {
     "iopub.execute_input": "2021-10-02T16:03:54.830628Z",
     "iopub.status.busy": "2021-10-02T16:03:54.829966Z",
     "iopub.status.idle": "2021-10-02T16:03:54.832357Z",
     "shell.execute_reply": "2021-10-02T16:03:54.831830Z"
    }
   },
   "outputs": [],
   "source": [
    "import os\n",
    "\n",
    "# Choose CRDS cache location\n",
    "use_local_crds_cache = False\n",
    "crds_cache_tempdir = False\n",
    "crds_cache_notebook_dir = False\n",
    "crds_cache_home = False\n",
    "crds_cache_custom_dir = False\n",
    "crds_cache_dir_name = \"\"\n",
    "\n",
    "if use_local_crds_cache:\n",
    "    if crds_cache_tempdir:\n",
    "        os.environ['CRDS_PATH'] = os.path.join(os.getcwd(), \"crds\")\n",
    "    elif crds_cache_notebook_dir:\n",
    "        try:\n",
    "            os.environ['CRDS_PATH'] = os.path.join(orig_dir, \"crds\")\n",
    "        except Exception as e:\n",
    "            os.environ['CRDS_PATH'] = os.path.join(os.getcwd(), \"crds\")\n",
    "    elif crds_cache_home:\n",
    "        os.environ['CRDS_PATH'] = os.path.join(os.environ['HOME'], 'crds', 'cache')\n",
    "    elif crds_cache_custom_dir:\n",
    "        os.environ['CRDS_PATH'] = crds_cache_dir_name"
   ]
  },
  {
   "cell_type": "markdown",
   "metadata": {},
   "source": [
    "[Top of Page](#title_ID)"
   ]
  },
  {
   "cell_type": "markdown",
   "metadata": {},
   "source": [
    "<a id=\"imports\"></a>\n",
    "# Imports\n",
    "List the package imports and why they are relevant to this notebook.\n",
    "\n",
    "\n",
    "* astropy for various tools and packages\n",
    "* inspect to get the docstring of our objects.\n",
    "* IPython.display for printing markdown output\n",
    "* jwst.datamodels for JWST Pipeline data models\n",
    "* jwst.module.PipelineStep is the pipeline step being tested\n",
    "* matplotlib.pyplot.plt to generate plot"
   ]
  },
  {
   "cell_type": "code",
   "execution_count": 3,
   "metadata": {
    "execution": {
     "iopub.execute_input": "2021-10-02T16:03:54.841945Z",
     "iopub.status.busy": "2021-10-02T16:03:54.841483Z",
     "iopub.status.idle": "2021-10-02T16:03:56.106327Z",
     "shell.execute_reply": "2021-10-02T16:03:56.105273Z"
    }
   },
   "outputs": [],
   "source": [
    "# plotting, the inline must come before the matplotlib import\n",
    "%matplotlib inline\n",
    "# %matplotlib notebook\n",
    "\n",
    "# These gymnastics are needed to make the sizes of the figures\n",
    "# be the same in both the inline and notebook versions\n",
    "%config InlineBackend.print_figure_kwargs = {'bbox_inches': None}\n",
    "import matplotlib.pyplot as plt\n",
    "import matplotlib as mpl\n",
    "mpl.rcParams['savefig.dpi'] = 80\n",
    "mpl.rcParams['figure.dpi'] = 80\n",
    "\n",
    "from matplotlib import pyplot as plt\n",
    "import matplotlib.patches as patches\n",
    "\n",
    "params = {'legend.fontsize': 6,\n",
    "          'figure.figsize': (8, 8),\n",
    "          'figure.dpi': 150,\n",
    "         'axes.labelsize': 6,\n",
    "         'axes.titlesize': 6,\n",
    "         'xtick.labelsize':6,\n",
    "         'ytick.labelsize':6}\n",
    "plt.rcParams.update(params)\n",
    "\n",
    "# Box download imports \n",
    "from astropy.utils.data import download_file\n",
    "from pathlib import Path\n",
    "from shutil import move\n",
    "from os.path import splitext\n",
    "\n",
    "# python general\n",
    "import os\n",
    "import numpy as np\n",
    "\n",
    "# astropy modules\n",
    "import astropy\n",
    "from astropy.io import fits\n",
    "from astropy.table import QTable, Table, vstack, unique\n",
    "from astropy.wcs.utils import skycoord_to_pixel\n",
    "from astropy.coordinates import SkyCoord\n",
    "from astropy.visualization import simple_norm\n",
    "from astropy import units as u\n",
    "import photutils\n",
    "\n",
    "# jwst \n",
    "from jwst.pipeline import calwebb_image3\n",
    "from jwst import datamodels"
   ]
  },
  {
   "cell_type": "code",
   "execution_count": 4,
   "metadata": {
    "execution": {
     "iopub.execute_input": "2021-10-02T16:03:56.113872Z",
     "iopub.status.busy": "2021-10-02T16:03:56.112662Z",
     "iopub.status.idle": "2021-10-02T16:03:56.115850Z",
     "shell.execute_reply": "2021-10-02T16:03:56.114936Z"
    }
   },
   "outputs": [],
   "source": [
    "def create_image(data_2d, xpixel=None, ypixel=None, title=None):\n",
    "    ''' Function to generate a 2D image of the data, \n",
    "    with an option to highlight a specific pixel.\n",
    "    '''\n",
    "    \n",
    "    fig = plt.figure(figsize=(8, 8))\n",
    "    ax = plt.subplot()\n",
    "\n",
    "    norm = simple_norm(data_2d, 'sqrt', percent=99.)\n",
    "    \n",
    "    plt.imshow(data_2d, norm=norm, origin='lower', cmap='gray')\n",
    "    \n",
    "    if xpixel and ypixel:\n",
    "        plt.plot(xpixel, ypixel, marker='o', color='red', label='Selected Pixel')\n",
    "\n",
    "    plt.xlabel('Pixel column')\n",
    "    plt.ylabel('Pixel row')\n",
    "    \n",
    "    if title:\n",
    "        plt.title(title)\n",
    "\n",
    "    plt.subplots_adjust(left=0.15)\n",
    "    plt.colorbar(label='MJy/sr')"
   ]
  },
  {
   "cell_type": "code",
   "execution_count": 5,
   "metadata": {
    "execution": {
     "iopub.execute_input": "2021-10-02T16:03:56.121835Z",
     "iopub.status.busy": "2021-10-02T16:03:56.121113Z",
     "iopub.status.idle": "2021-10-02T16:03:56.122558Z",
     "shell.execute_reply": "2021-10-02T16:03:56.123122Z"
    }
   },
   "outputs": [],
   "source": [
    "def create_image_with_cat(data_2d, catalog, flux_limit=None, title=None):\n",
    "    ''' Function to generate a 2D image of the data, \n",
    "    with sources overlaid.\n",
    "    '''\n",
    "    \n",
    "    fig = plt.figure(figsize=(8, 8))\n",
    "    ax = plt.subplot()\n",
    "\n",
    "    norm = simple_norm(data_2d, 'sqrt', percent=99.)\n",
    "    \n",
    "    plt.imshow(data_2d, norm=norm, origin='lower', cmap='gray')\n",
    "    \n",
    "    for row in catalog:\n",
    "        if flux_limit:\n",
    "            if np.isnan(row['aper_total_flux']):\n",
    "                pass\n",
    "            else:\n",
    "                if row['aper_total_flux'] > flux_limit:\n",
    "                    plt.plot(row['xcentroid'], row['ycentroid'], marker='o', markersize='3', color='red')\n",
    "        else:\n",
    "            plt.plot(row['xcentroid'], row['ycentroid'], marker='o', markersize='1', color='red')\n",
    "\n",
    "    plt.xlabel('Pixel column')\n",
    "    plt.ylabel('Pixel row')\n",
    "    \n",
    "    if title:\n",
    "        plt.title(title)\n",
    "\n",
    "    plt.subplots_adjust(left=0.15)\n",
    "    plt.colorbar(label='MJy/sr')"
   ]
  },
  {
   "cell_type": "code",
   "execution_count": 6,
   "metadata": {
    "execution": {
     "iopub.execute_input": "2021-10-02T16:03:56.127849Z",
     "iopub.status.busy": "2021-10-02T16:03:56.127138Z",
     "iopub.status.idle": "2021-10-02T16:03:56.129200Z",
     "shell.execute_reply": "2021-10-02T16:03:56.128652Z"
    }
   },
   "outputs": [],
   "source": [
    "def create_scatterplot(catalog_colx, catalog_coly, title=None):\n",
    "    ''' Function to generate a generic scatterplot.\n",
    "    '''\n",
    "    \n",
    "    fig = plt.figure(figsize=(8, 8))\n",
    "    ax = plt.subplot()\n",
    "    ax.scatter(catalog_colx,catalog_coly) \n",
    "    plt.xlabel(catalog_colx.name)\n",
    "    plt.ylabel(catalog_coly.name)\n",
    "\n",
    "    \n",
    "    if title:\n",
    "        plt.title(title)"
   ]
  },
  {
   "cell_type": "code",
   "execution_count": 7,
   "metadata": {
    "execution": {
     "iopub.execute_input": "2021-10-02T16:03:56.134693Z",
     "iopub.status.busy": "2021-10-02T16:03:56.134148Z",
     "iopub.status.idle": "2021-10-02T16:03:56.136746Z",
     "shell.execute_reply": "2021-10-02T16:03:56.136203Z"
    }
   },
   "outputs": [],
   "source": [
    "def get_input_table(sourcelist):\n",
    "    '''Function to read in and access the simulator source input files.'''\n",
    "\n",
    "    all_source_table = Table()\n",
    "\n",
    "    # point source and galaxy source tables have different headers\n",
    "    # change column headers to match for filtering later\n",
    "    if \"point\" in sourcelist:\n",
    "        col_names = [\"RA\", \"Dec\", \"RA_degrees\", \"Dec_degrees\",\n",
    "                     \"PixelX\", \"PixelY\", \"Magnitude\",\n",
    "                     \"counts_sec\", \"counts_frame\"]\n",
    "    elif \"galaxy\" in sourcelist:\n",
    "        col_names = [\"PixelX\", \"PixelY\", \"RA\", \"Dec\",\n",
    "                     \"RA_degrees\", \"Dec_degrees\", \"V2\", \"V3\", \"radius\",\n",
    "                     \"ellipticity\", \"pos_angle\", \"sersic_index\",\n",
    "                     \"Magnitude\", \"countrate_e_s\", \"counts_per_frame_e\"]\n",
    "    else:\n",
    "        print('Error! Source list column names need to be defined.')\n",
    "        sys.exit(0)\n",
    "\n",
    "    # read in the tables\n",
    "    input_source_table = Table.read(sourcelist,format='ascii')\n",
    "    orig_colnames = input_source_table.colnames\n",
    "\n",
    "    # only grab values for source catalog analysis\n",
    "    short_source_table = Table({'In_RA': input_source_table['RA_degrees'],\n",
    "                              'In_Dec': input_source_table['Dec_degrees']},\n",
    "                              names=['In_RA', 'In_Dec'])\n",
    "\n",
    "    # combine source lists into one master list\n",
    "    all_source_table = vstack([all_source_table, short_source_table])\n",
    "\n",
    "    # set up columns to track which sources were detected by Photutils\n",
    "    all_source_table['Out_RA'] = np.nan\n",
    "    all_source_table['Out_Dec'] = np.nan\n",
    "    all_source_table['Detected'] = 'N'\n",
    "    all_source_table['RA_Diff'] = np.nan\n",
    "    all_source_table['Dec_Diff'] = np.nan\n",
    "\n",
    "    # filter by RA, Dec (for now)\n",
    "    no_duplicates = unique(all_source_table,keys=['In_RA','In_Dec'])\n",
    "\n",
    "    return no_duplicates"
   ]
  },
  {
   "cell_type": "markdown",
   "metadata": {},
   "source": [
    "[Top of Page](#title_ID)"
   ]
  },
  {
   "cell_type": "markdown",
   "metadata": {},
   "source": [
    "<a id=\"data_load\"></a>\n",
    "# Loading the Data"
   ]
  },
  {
   "cell_type": "markdown",
   "metadata": {},
   "source": [
    "The simulated exposures used for this test are stored in Box. Grab them. "
   ]
  },
  {
   "cell_type": "code",
   "execution_count": 8,
   "metadata": {
    "execution": {
     "iopub.execute_input": "2021-10-02T16:03:56.141485Z",
     "iopub.status.busy": "2021-10-02T16:03:56.141064Z",
     "iopub.status.idle": "2021-10-02T16:03:56.143192Z",
     "shell.execute_reply": "2021-10-02T16:03:56.142757Z"
    }
   },
   "outputs": [],
   "source": [
    "def get_box_files(file_list):\n",
    "    for box_url,file_name in file_list:\n",
    "        if 'https' not in box_url:\n",
    "            box_url = 'https://stsci.box.com/shared/static/' + box_url\n",
    "        downloaded_file = download_file(box_url)\n",
    "        if Path(file_name).suffix == '':\n",
    "            ext = splitext(box_url)[1]\n",
    "            file_name += ext\n",
    "        move(downloaded_file, file_name)\n",
    "\n",
    "file_urls = ['https://stsci.box.com/shared/static/72fds4rfn4ppxv2tuj9qy2vbiao110pc.fits', \n",
    "             'https://stsci.box.com/shared/static/gxwtxoz5abnsx7wriqligyzxacjoz9h3.fits', \n",
    "             'https://stsci.box.com/shared/static/tninaa6a28tsa1z128u3ffzlzxr9p270.fits',\n",
    "             'https://stsci.box.com/shared/static/g4zlkv9qi0vc5brpw2lamekf4ekwcfdn.json',\n",
    "             'https://stsci.box.com/shared/static/kvusxulegx0xfb0uhdecu5dp8jkeluhm.list']\n",
    "\n",
    "file_names = ['jw00042002001_01101_00004_nrca5_cal.fits', \n",
    "             'jw00042002001_01101_00005_nrca5_cal.fits', \n",
    "             'jw00042002001_01101_00006_nrca5_cal.fits',\n",
    "             'level3_lw_imaging_files_asn.json',\n",
    "             'jw00042002001_01101_00004_nrca5_uncal_galaxySources.list']\n",
    "\n",
    "box_download_list = [(url,name) for url,name in zip(file_urls,file_names)]"
   ]
  },
  {
   "cell_type": "code",
   "execution_count": 9,
   "metadata": {
    "execution": {
     "iopub.execute_input": "2021-10-02T16:03:56.146275Z",
     "iopub.status.busy": "2021-10-02T16:03:56.145881Z",
     "iopub.status.idle": "2021-10-02T16:04:31.534583Z",
     "shell.execute_reply": "2021-10-02T16:04:31.533441Z"
    }
   },
   "outputs": [],
   "source": [
    "get_box_files(box_download_list)"
   ]
  },
  {
   "cell_type": "markdown",
   "metadata": {},
   "source": [
    "[Top of Page](#title_ID)"
   ]
  },
  {
   "cell_type": "markdown",
   "metadata": {},
   "source": [
    "<a id=\"pipeline\"></a>\n",
    "# Run the Image3Pipeline\n",
    "\n",
    "Run calwebb_image3 to get the output source catalog and the final 2D image. "
   ]
  },
  {
   "cell_type": "code",
   "execution_count": 10,
   "metadata": {
    "execution": {
     "iopub.execute_input": "2021-10-02T16:04:31.551966Z",
     "iopub.status.busy": "2021-10-02T16:04:31.550970Z",
     "iopub.status.idle": "2021-10-02T16:04:31.564706Z",
     "shell.execute_reply": "2021-10-02T16:04:31.563767Z"
    }
   },
   "outputs": [
    {
     "name": "stderr",
     "output_type": "stream",
     "text": [
      "2021-10-02 12:04:31,549 - stpipe.Image3Pipeline - INFO - Image3Pipeline instance created.\n"
     ]
    },
    {
     "name": "stderr",
     "output_type": "stream",
     "text": [
      "2021-10-02 12:04:31,551 - stpipe.Image3Pipeline.assign_mtwcs - INFO - AssignMTWcsStep instance created.\n"
     ]
    },
    {
     "name": "stderr",
     "output_type": "stream",
     "text": [
      "2021-10-02 12:04:31,553 - stpipe.Image3Pipeline.tweakreg - INFO - TweakRegStep instance created.\n"
     ]
    },
    {
     "name": "stderr",
     "output_type": "stream",
     "text": [
      "2021-10-02 12:04:31,555 - stpipe.Image3Pipeline.skymatch - INFO - SkyMatchStep instance created.\n"
     ]
    },
    {
     "name": "stderr",
     "output_type": "stream",
     "text": [
      "2021-10-02 12:04:31,557 - stpipe.Image3Pipeline.outlier_detection - INFO - OutlierDetectionStep instance created.\n"
     ]
    },
    {
     "name": "stderr",
     "output_type": "stream",
     "text": [
      "2021-10-02 12:04:31,558 - stpipe.Image3Pipeline.resample - INFO - ResampleStep instance created.\n"
     ]
    },
    {
     "name": "stderr",
     "output_type": "stream",
     "text": [
      "2021-10-02 12:04:31,560 - stpipe.Image3Pipeline.source_catalog - INFO - SourceCatalogStep instance created.\n"
     ]
    }
   ],
   "source": [
    "img3 = calwebb_image3.Image3Pipeline()"
   ]
  },
  {
   "cell_type": "code",
   "execution_count": 11,
   "metadata": {
    "execution": {
     "iopub.execute_input": "2021-10-02T16:04:31.568453Z",
     "iopub.status.busy": "2021-10-02T16:04:31.567992Z",
     "iopub.status.idle": "2021-10-02T16:04:31.570430Z",
     "shell.execute_reply": "2021-10-02T16:04:31.569968Z"
    }
   },
   "outputs": [],
   "source": [
    "img3.assign_mtwcs.skip=True\n",
    "img3.save_results=True\n",
    "img3.resample.save_results=True\n",
    "img3.source_catalog.snr_threshold = 5\n",
    "img3.source_catalog.save_results=True"
   ]
  },
  {
   "cell_type": "code",
   "execution_count": 12,
   "metadata": {
    "execution": {
     "iopub.execute_input": "2021-10-02T16:04:31.686288Z",
     "iopub.status.busy": "2021-10-02T16:04:31.685280Z",
     "iopub.status.idle": "2021-10-02T16:06:50.501016Z",
     "shell.execute_reply": "2021-10-02T16:06:50.502173Z"
    },
    "scrolled": false
   },
   "outputs": [
    {
     "name": "stderr",
     "output_type": "stream",
     "text": [
      "2021-10-02 12:04:31,682 - stpipe.Image3Pipeline - INFO - Step Image3Pipeline running with args ('level3_lw_imaging_files_asn.json',).\n"
     ]
    },
    {
     "name": "stderr",
     "output_type": "stream",
     "text": [
      "2021-10-02 12:04:31,689 - stpipe.Image3Pipeline - INFO - Step Image3Pipeline parameters are: {'pre_hooks': [], 'post_hooks': [], 'output_file': None, 'output_dir': None, 'output_ext': '.fits', 'output_use_model': False, 'output_use_index': True, 'save_results': True, 'skip': False, 'suffix': None, 'search_output_file': True, 'input_dir': '', 'steps': {'assign_mtwcs': {'pre_hooks': [], 'post_hooks': [], 'output_file': None, 'output_dir': None, 'output_ext': '.fits', 'output_use_model': True, 'output_use_index': True, 'save_results': False, 'skip': True, 'suffix': 'assign_mtwcs', 'search_output_file': True, 'input_dir': ''}, 'tweakreg': {'pre_hooks': [], 'post_hooks': [], 'output_file': None, 'output_dir': None, 'output_ext': '.fits', 'output_use_model': True, 'output_use_index': True, 'save_results': False, 'skip': False, 'suffix': None, 'search_output_file': True, 'input_dir': '', 'save_catalogs': False, 'catalog_format': 'ecsv', 'kernel_fwhm': 2.5, 'snr_threshold': 10.0, 'brightest': 1000, 'peakmax': None, 'enforce_user_order': False, 'expand_refcat': False, 'minobj': 15, 'searchrad': 1.0, 'use2dhist': True, 'separation': 0.5, 'tolerance': 1.0, 'xoffset': 0.0, 'yoffset': 0.0, 'fitgeometry': 'general', 'nclip': 3, 'sigma': 3.0, 'align_to_gaia': False, 'gaia_catalog': 'GAIADR2', 'min_gaia': 5, 'save_gaia_catalog': False}, 'skymatch': {'pre_hooks': [], 'post_hooks': [], 'output_file': None, 'output_dir': None, 'output_ext': '.fits', 'output_use_model': False, 'output_use_index': True, 'save_results': False, 'skip': False, 'suffix': None, 'search_output_file': True, 'input_dir': '', 'skymethod': 'global+match', 'match_down': True, 'subtract': False, 'stepsize': None, 'skystat': 'mode', 'dqbits': '0', 'lower': None, 'upper': None, 'nclip': 5, 'lsigma': 4.0, 'usigma': 4.0, 'binwidth': 0.1}, 'outlier_detection': {'pre_hooks': [], 'post_hooks': [], 'output_file': None, 'output_dir': None, 'output_ext': '.fits', 'output_use_model': False, 'output_use_index': True, 'save_results': False, 'skip': False, 'suffix': None, 'search_output_file': False, 'input_dir': '', 'weight_type': 'ivm', 'pixfrac': 1.0, 'kernel': 'square', 'fillval': 'INDEF', 'nlow': 0, 'nhigh': 0, 'maskpt': 0.7, 'grow': 1, 'snr': '5.0 4.0', 'scale': '1.2 0.7', 'backg': 0.0, 'save_intermediate_results': False, 'resample_data': True, 'good_bits': '~DO_NOT_USE', 'scale_detection': False, 'allowed_memory': None}, 'resample': {'pre_hooks': [], 'post_hooks': [], 'output_file': None, 'output_dir': None, 'output_ext': '.fits', 'output_use_model': False, 'output_use_index': True, 'save_results': True, 'skip': False, 'suffix': None, 'search_output_file': True, 'input_dir': '', 'pixfrac': 1.0, 'kernel': 'square', 'fillval': 'INDEF', 'weight_type': 'ivm', 'pixel_scale_ratio': 1.0, 'single': False, 'blendheaders': True, 'allowed_memory': None}, 'source_catalog': {'pre_hooks': [], 'post_hooks': [], 'output_file': None, 'output_dir': None, 'output_ext': '.fits', 'output_use_model': False, 'output_use_index': True, 'save_results': True, 'skip': False, 'suffix': 'cat', 'search_output_file': True, 'input_dir': '', 'bkg_boxsize': 100, 'kernel_fwhm': 2.0, 'snr_threshold': 5, 'npixels': 5, 'deblend': False, 'aperture_ee1': 30, 'aperture_ee2': 50, 'aperture_ee3': 70, 'ci1_star_threshold': 2.0, 'ci2_star_threshold': 1.8}}}\n"
     ]
    },
    {
     "name": "stderr",
     "output_type": "stream",
     "text": [
      "2021-10-02 12:04:32,217 - stpipe.Image3Pipeline - INFO - Prefetching reference files for dataset: 'jw00042002001_01101_00004_nrca5_cal.fits' reftypes = ['abvegaoffset', 'apcorr', 'drizpars']\n"
     ]
    },
    {
     "name": "stderr",
     "output_type": "stream",
     "text": [
      "2021-10-02 12:04:32,691 - stpipe.Image3Pipeline - INFO - Prefetch for ABVEGAOFFSET reference file is '/grp/crds/cache/references/jwst/jwst_nircam_abvegaoffset_0001.asdf'.\n"
     ]
    },
    {
     "name": "stderr",
     "output_type": "stream",
     "text": [
      "2021-10-02 12:04:32,695 - stpipe.Image3Pipeline - INFO - Prefetch for APCORR reference file is '/grp/crds/cache/references/jwst/jwst_nircam_apcorr_0004.fits'.\n"
     ]
    },
    {
     "name": "stderr",
     "output_type": "stream",
     "text": [
      "2021-10-02 12:04:32,697 - stpipe.Image3Pipeline - INFO - Prefetch for DRIZPARS reference file is '/grp/crds/cache/references/jwst/jwst_nircam_drizpars_0001.fits'.\n"
     ]
    },
    {
     "name": "stderr",
     "output_type": "stream",
     "text": [
      "2021-10-02 12:04:32,700 - stpipe.Image3Pipeline - INFO - Starting calwebb_image3 ...\n"
     ]
    },
    {
     "name": "stderr",
     "output_type": "stream",
     "text": [
      "2021-10-02 12:04:33,549 - stpipe.Image3Pipeline.tweakreg - INFO - Step tweakreg running with args (<ModelContainer>,).\n"
     ]
    },
    {
     "name": "stderr",
     "output_type": "stream",
     "text": [
      "2021-10-02 12:04:33,553 - stpipe.Image3Pipeline.tweakreg - INFO - Step tweakreg parameters are: {'pre_hooks': [], 'post_hooks': [], 'output_file': None, 'output_dir': None, 'output_ext': '.fits', 'output_use_model': True, 'output_use_index': True, 'save_results': False, 'skip': False, 'suffix': None, 'search_output_file': True, 'input_dir': '', 'save_catalogs': False, 'catalog_format': 'ecsv', 'kernel_fwhm': 2.5, 'snr_threshold': 10.0, 'brightest': 1000, 'peakmax': None, 'enforce_user_order': False, 'expand_refcat': False, 'minobj': 15, 'searchrad': 1.0, 'use2dhist': True, 'separation': 0.5, 'tolerance': 1.0, 'xoffset': 0.0, 'yoffset': 0.0, 'fitgeometry': 'general', 'nclip': 3, 'sigma': 3.0, 'align_to_gaia': False, 'gaia_catalog': 'GAIADR2', 'min_gaia': 5, 'save_gaia_catalog': False}\n"
     ]
    },
    {
     "name": "stderr",
     "output_type": "stream",
     "text": [
      "2021-10-02 12:04:36,077 - stpipe.Image3Pipeline.tweakreg - INFO - Detected 704 sources in jw00042002001_01101_00004_nrca5_cal.fits.\n"
     ]
    },
    {
     "name": "stderr",
     "output_type": "stream",
     "text": [
      "2021-10-02 12:04:38,453 - stpipe.Image3Pipeline.tweakreg - INFO - Detected 716 sources in jw00042002001_01101_00005_nrca5_cal.fits.\n"
     ]
    },
    {
     "name": "stderr",
     "output_type": "stream",
     "text": [
      "2021-10-02 12:04:40,696 - stpipe.Image3Pipeline.tweakreg - INFO - Detected 678 sources in jw00042002001_01101_00006_nrca5_cal.fits.\n"
     ]
    },
    {
     "name": "stderr",
     "output_type": "stream",
     "text": [
      "2021-10-02 12:04:40,711 - stpipe.Image3Pipeline.tweakreg - INFO - \n"
     ]
    },
    {
     "name": "stderr",
     "output_type": "stream",
     "text": [
      "2021-10-02 12:04:40,712 - stpipe.Image3Pipeline.tweakreg - INFO - Number of image groups to be aligned: 3.\n"
     ]
    },
    {
     "name": "stderr",
     "output_type": "stream",
     "text": [
      "2021-10-02 12:04:40,713 - stpipe.Image3Pipeline.tweakreg - INFO - Image groups:\n"
     ]
    },
    {
     "name": "stderr",
     "output_type": "stream",
     "text": [
      "2021-10-02 12:04:40,737 - stpipe.Image3Pipeline.tweakreg - INFO - * Images in GROUP 'jw00042002001_01101_00004_nrca5_cal':\n"
     ]
    },
    {
     "name": "stderr",
     "output_type": "stream",
     "text": [
      "2021-10-02 12:04:40,738 - stpipe.Image3Pipeline.tweakreg - INFO -      jw00042002001_01101_00004_nrca5_cal\n"
     ]
    },
    {
     "name": "stderr",
     "output_type": "stream",
     "text": [
      "2021-10-02 12:04:40,759 - stpipe.Image3Pipeline.tweakreg - INFO - * Images in GROUP 'jw00042002001_01101_00005_nrca5_cal':\n"
     ]
    },
    {
     "name": "stderr",
     "output_type": "stream",
     "text": [
      "2021-10-02 12:04:40,760 - stpipe.Image3Pipeline.tweakreg - INFO -      jw00042002001_01101_00005_nrca5_cal\n"
     ]
    },
    {
     "name": "stderr",
     "output_type": "stream",
     "text": [
      "2021-10-02 12:04:40,781 - stpipe.Image3Pipeline.tweakreg - INFO - * Images in GROUP 'jw00042002001_01101_00006_nrca5_cal':\n"
     ]
    },
    {
     "name": "stderr",
     "output_type": "stream",
     "text": [
      "2021-10-02 12:04:40,782 - stpipe.Image3Pipeline.tweakreg - INFO -      jw00042002001_01101_00006_nrca5_cal\n"
     ]
    },
    {
     "name": "stderr",
     "output_type": "stream",
     "text": [
      "2021-10-02 12:04:40,782 - stpipe.Image3Pipeline.tweakreg - INFO - \n"
     ]
    },
    {
     "name": "stderr",
     "output_type": "stream",
     "text": [
      "2021-10-02 12:04:40,783 - stpipe.Image3Pipeline.tweakreg - INFO -  \n"
     ]
    },
    {
     "name": "stderr",
     "output_type": "stream",
     "text": [
      "2021-10-02 12:04:40,784 - stpipe.Image3Pipeline.tweakreg - INFO - ***** tweakwcs.imalign.align_wcs() started on 2021-10-02 12:04:40.783656\n"
     ]
    },
    {
     "name": "stderr",
     "output_type": "stream",
     "text": [
      "2021-10-02 12:04:40,785 - stpipe.Image3Pipeline.tweakreg - INFO -       Version 0.7.3\n"
     ]
    },
    {
     "name": "stderr",
     "output_type": "stream",
     "text": [
      "2021-10-02 12:04:40,785 - stpipe.Image3Pipeline.tweakreg - INFO -  \n"
     ]
    },
    {
     "name": "stderr",
     "output_type": "stream",
     "text": [
      "2021-10-02 12:04:40,940 - stpipe.Image3Pipeline.tweakreg - INFO - Selected image 'GROUP ID: jw00042002001_01101_00004_nrca5_cal' as reference image\n"
     ]
    },
    {
     "name": "stderr",
     "output_type": "stream",
     "text": [
      "2021-10-02 12:04:40,948 - stpipe.Image3Pipeline.tweakreg - INFO - Aligning image catalog 'GROUP ID: jw00042002001_01101_00005_nrca5_cal' to the reference catalog.\n"
     ]
    },
    {
     "name": "stderr",
     "output_type": "stream",
     "text": [
      "2021-10-02 12:04:41,080 - stpipe.Image3Pipeline.tweakreg - INFO - Matching sources from 'jw00042002001_01101_00005_nrca5_cal' catalog with sources from the reference 'jw00042002001_01101_00004_nrca5_cal' catalog.\n"
     ]
    },
    {
     "name": "stderr",
     "output_type": "stream",
     "text": [
      "2021-10-02 12:04:41,081 - stpipe.Image3Pipeline.tweakreg - INFO - Computing initial guess for X and Y shifts...\n"
     ]
    },
    {
     "name": "stderr",
     "output_type": "stream",
     "text": [
      "2021-10-02 12:04:41,087 - stpipe.Image3Pipeline.tweakreg - INFO - Found initial X and Y shifts of 0.001568, -0.006337 with significance of 110.8 and 663 matches.\n"
     ]
    },
    {
     "name": "stderr",
     "output_type": "stream",
     "text": [
      "2021-10-02 12:04:41,089 - stpipe.Image3Pipeline.tweakreg - INFO - Found 463 matches for 'GROUP ID: jw00042002001_01101_00005_nrca5_cal'...\n"
     ]
    },
    {
     "name": "stderr",
     "output_type": "stream",
     "text": [
      "2021-10-02 12:04:41,090 - stpipe.Image3Pipeline.tweakreg - INFO - Performing 'general' fit\n"
     ]
    },
    {
     "name": "stderr",
     "output_type": "stream",
     "text": [
      "2021-10-02 12:04:41,094 - stpipe.Image3Pipeline.tweakreg - INFO - Computed 'general' fit for GROUP ID: jw00042002001_01101_00005_nrca5_cal:\n"
     ]
    },
    {
     "name": "stderr",
     "output_type": "stream",
     "text": [
      "2021-10-02 12:04:41,095 - stpipe.Image3Pipeline.tweakreg - INFO - XSH: 0.00164527  YSH: 0.0335188    PROPER ROT: -0.000950555    \n"
     ]
    },
    {
     "name": "stderr",
     "output_type": "stream",
     "text": [
      "2021-10-02 12:04:41,096 - stpipe.Image3Pipeline.tweakreg - INFO - <ROT>: -0.000950555  SKEW: -0.022778    ROT_X: 0.0104384  ROT_Y: -0.0123395\n"
     ]
    },
    {
     "name": "stderr",
     "output_type": "stream",
     "text": [
      "2021-10-02 12:04:41,098 - stpipe.Image3Pipeline.tweakreg - INFO - <SCALE>: 1.00031  SCALE_X: 1.00061  SCALE_Y: 1\n"
     ]
    },
    {
     "name": "stderr",
     "output_type": "stream",
     "text": [
      "2021-10-02 12:04:41,099 - stpipe.Image3Pipeline.tweakreg - INFO - \n"
     ]
    },
    {
     "name": "stderr",
     "output_type": "stream",
     "text": [
      "2021-10-02 12:04:41,100 - stpipe.Image3Pipeline.tweakreg - INFO - FIT RMSE: 0.0228544   FIT MAE: 0.0132534\n"
     ]
    },
    {
     "name": "stderr",
     "output_type": "stream",
     "text": [
      "2021-10-02 12:04:41,100 - stpipe.Image3Pipeline.tweakreg - INFO - Final solution based on 454 objects.\n"
     ]
    },
    {
     "name": "stderr",
     "output_type": "stream",
     "text": [
      "2021-10-02 12:04:41,138 - stpipe.Image3Pipeline.tweakreg - INFO - Aligning image catalog 'GROUP ID: jw00042002001_01101_00006_nrca5_cal' to the reference catalog.\n"
     ]
    },
    {
     "name": "stderr",
     "output_type": "stream",
     "text": [
      "2021-10-02 12:04:41,277 - stpipe.Image3Pipeline.tweakreg - INFO - Matching sources from 'jw00042002001_01101_00006_nrca5_cal' catalog with sources from the reference 'jw00042002001_01101_00004_nrca5_cal' catalog.\n"
     ]
    },
    {
     "name": "stderr",
     "output_type": "stream",
     "text": [
      "2021-10-02 12:04:41,278 - stpipe.Image3Pipeline.tweakreg - INFO - Computing initial guess for X and Y shifts...\n"
     ]
    },
    {
     "name": "stderr",
     "output_type": "stream",
     "text": [
      "2021-10-02 12:04:41,284 - stpipe.Image3Pipeline.tweakreg - INFO - Found initial X and Y shifts of 0.007108, -0.002618 with significance of 116 and 809 matches.\n"
     ]
    },
    {
     "name": "stderr",
     "output_type": "stream",
     "text": [
      "2021-10-02 12:04:41,287 - stpipe.Image3Pipeline.tweakreg - INFO - Found 545 matches for 'GROUP ID: jw00042002001_01101_00006_nrca5_cal'...\n"
     ]
    },
    {
     "name": "stderr",
     "output_type": "stream",
     "text": [
      "2021-10-02 12:04:41,288 - stpipe.Image3Pipeline.tweakreg - INFO - Performing 'general' fit\n"
     ]
    },
    {
     "name": "stderr",
     "output_type": "stream",
     "text": [
      "2021-10-02 12:04:41,293 - stpipe.Image3Pipeline.tweakreg - INFO - Computed 'general' fit for GROUP ID: jw00042002001_01101_00006_nrca5_cal:\n"
     ]
    },
    {
     "name": "stderr",
     "output_type": "stream",
     "text": [
      "2021-10-02 12:04:41,294 - stpipe.Image3Pipeline.tweakreg - INFO - XSH: -0.0266754  YSH: 0.0103281    PROPER ROT: -4.94012e-05    \n"
     ]
    },
    {
     "name": "stderr",
     "output_type": "stream",
     "text": [
      "2021-10-02 12:04:41,295 - stpipe.Image3Pipeline.tweakreg - INFO - <ROT>: -4.94012e-05  SKEW: 0.0107724    ROT_X: -0.00543559  ROT_Y: 0.00533678\n"
     ]
    },
    {
     "name": "stderr",
     "output_type": "stream",
     "text": [
      "2021-10-02 12:04:41,296 - stpipe.Image3Pipeline.tweakreg - INFO - <SCALE>: 0.999836  SCALE_X: 0.999861  SCALE_Y: 0.999811\n"
     ]
    },
    {
     "name": "stderr",
     "output_type": "stream",
     "text": [
      "2021-10-02 12:04:41,296 - stpipe.Image3Pipeline.tweakreg - INFO - \n"
     ]
    },
    {
     "name": "stderr",
     "output_type": "stream",
     "text": [
      "2021-10-02 12:04:41,297 - stpipe.Image3Pipeline.tweakreg - INFO - FIT RMSE: 0.0229117   FIT MAE: 0.00967974\n"
     ]
    },
    {
     "name": "stderr",
     "output_type": "stream",
     "text": [
      "2021-10-02 12:04:41,298 - stpipe.Image3Pipeline.tweakreg - INFO - Final solution based on 534 objects.\n"
     ]
    },
    {
     "name": "stderr",
     "output_type": "stream",
     "text": [
      "2021-10-02 12:04:41,333 - stpipe.Image3Pipeline.tweakreg - INFO -  \n"
     ]
    },
    {
     "name": "stderr",
     "output_type": "stream",
     "text": [
      "2021-10-02 12:04:41,334 - stpipe.Image3Pipeline.tweakreg - INFO - ***** tweakwcs.imalign.align_wcs() ended on 2021-10-02 12:04:41.333678\n"
     ]
    },
    {
     "name": "stderr",
     "output_type": "stream",
     "text": [
      "2021-10-02 12:04:41,335 - stpipe.Image3Pipeline.tweakreg - INFO - ***** tweakwcs.imalign.align_wcs() TOTAL RUN TIME: 0:00:00.550022\n"
     ]
    },
    {
     "name": "stderr",
     "output_type": "stream",
     "text": [
      "2021-10-02 12:04:41,336 - stpipe.Image3Pipeline.tweakreg - INFO -  \n"
     ]
    },
    {
     "name": "stderr",
     "output_type": "stream",
     "text": [
      "2021-10-02 12:04:41,419 - stpipe.Image3Pipeline.tweakreg - INFO - Step tweakreg done\n"
     ]
    },
    {
     "name": "stderr",
     "output_type": "stream",
     "text": [
      "2021-10-02 12:04:41,650 - stpipe.Image3Pipeline.skymatch - INFO - Step skymatch running with args (<ModelContainer>,).\n"
     ]
    },
    {
     "name": "stderr",
     "output_type": "stream",
     "text": [
      "2021-10-02 12:04:41,653 - stpipe.Image3Pipeline.skymatch - INFO - Step skymatch parameters are: {'pre_hooks': [], 'post_hooks': [], 'output_file': None, 'output_dir': None, 'output_ext': '.fits', 'output_use_model': False, 'output_use_index': True, 'save_results': False, 'skip': False, 'suffix': None, 'search_output_file': True, 'input_dir': '', 'skymethod': 'global+match', 'match_down': True, 'subtract': False, 'stepsize': None, 'skystat': 'mode', 'dqbits': '0', 'lower': None, 'upper': None, 'nclip': 5, 'lsigma': 4.0, 'usigma': 4.0, 'binwidth': 0.1}\n"
     ]
    },
    {
     "name": "stderr",
     "output_type": "stream",
     "text": [
      "2021-10-02 12:04:41,704 - stpipe.Image3Pipeline.skymatch - INFO -  \n"
     ]
    },
    {
     "name": "stderr",
     "output_type": "stream",
     "text": [
      "2021-10-02 12:04:41,705 - stpipe.Image3Pipeline.skymatch - INFO - ***** jwst.skymatch.skymatch.match() started on 2021-10-02 12:04:41.704035\n"
     ]
    },
    {
     "name": "stderr",
     "output_type": "stream",
     "text": [
      "2021-10-02 12:04:41,706 - stpipe.Image3Pipeline.skymatch - INFO -  \n"
     ]
    },
    {
     "name": "stderr",
     "output_type": "stream",
     "text": [
      "2021-10-02 12:04:41,707 - stpipe.Image3Pipeline.skymatch - INFO - Sky computation method: 'global+match'\n"
     ]
    },
    {
     "name": "stderr",
     "output_type": "stream",
     "text": [
      "2021-10-02 12:04:41,708 - stpipe.Image3Pipeline.skymatch - INFO - Sky matching direction: DOWN\n"
     ]
    },
    {
     "name": "stderr",
     "output_type": "stream",
     "text": [
      "2021-10-02 12:04:41,709 - stpipe.Image3Pipeline.skymatch - INFO - Sky subtraction from image data: OFF\n"
     ]
    },
    {
     "name": "stderr",
     "output_type": "stream",
     "text": [
      "2021-10-02 12:04:41,711 - stpipe.Image3Pipeline.skymatch - INFO -  \n"
     ]
    },
    {
     "name": "stderr",
     "output_type": "stream",
     "text": [
      "2021-10-02 12:04:41,712 - stpipe.Image3Pipeline.skymatch - INFO - ----  Computing differences in sky values in overlapping regions.\n"
     ]
    },
    {
     "name": "stderr",
     "output_type": "stream",
     "text": [
      "2021-10-02 12:04:43,444 - stpipe.Image3Pipeline.skymatch - INFO -    *  Image ID=jw00042002001_01101_00004_nrca5_cal.fits. Sky background: 0.00111583\n"
     ]
    },
    {
     "name": "stderr",
     "output_type": "stream",
     "text": [
      "2021-10-02 12:04:43,446 - stpipe.Image3Pipeline.skymatch - INFO -    *  Image ID=jw00042002001_01101_00005_nrca5_cal.fits. Sky background: 0\n"
     ]
    },
    {
     "name": "stderr",
     "output_type": "stream",
     "text": [
      "2021-10-02 12:04:43,447 - stpipe.Image3Pipeline.skymatch - INFO -    *  Image ID=jw00042002001_01101_00006_nrca5_cal.fits. Sky background: 0.000731449\n"
     ]
    },
    {
     "name": "stderr",
     "output_type": "stream",
     "text": [
      "2021-10-02 12:04:43,448 - stpipe.Image3Pipeline.skymatch - INFO -  \n"
     ]
    },
    {
     "name": "stderr",
     "output_type": "stream",
     "text": [
      "2021-10-02 12:04:43,450 - stpipe.Image3Pipeline.skymatch - INFO - ----  Computing \"global\" sky - smallest sky value across *all* input images.\n"
     ]
    },
    {
     "name": "stderr",
     "output_type": "stream",
     "text": [
      "2021-10-02 12:04:43,788 - stpipe.Image3Pipeline.skymatch - INFO -  \n"
     ]
    },
    {
     "name": "stderr",
     "output_type": "stream",
     "text": [
      "2021-10-02 12:04:43,790 - stpipe.Image3Pipeline.skymatch - INFO -    \"Global\" sky value correction: 0.03651382158824229 [not converted]\n"
     ]
    },
    {
     "name": "stderr",
     "output_type": "stream",
     "text": [
      "2021-10-02 12:04:43,791 - stpipe.Image3Pipeline.skymatch - INFO -  \n"
     ]
    },
    {
     "name": "stderr",
     "output_type": "stream",
     "text": [
      "2021-10-02 12:04:43,792 - stpipe.Image3Pipeline.skymatch - INFO - ----  Final (match+global) sky for:\n"
     ]
    },
    {
     "name": "stderr",
     "output_type": "stream",
     "text": [
      "2021-10-02 12:04:43,793 - stpipe.Image3Pipeline.skymatch - INFO -    *  Image ID=jw00042002001_01101_00004_nrca5_cal.fits. Sky background: 0.0376297 (old=0.00111583, delta=0.0365138)\n"
     ]
    },
    {
     "name": "stderr",
     "output_type": "stream",
     "text": [
      "2021-10-02 12:04:43,794 - stpipe.Image3Pipeline.skymatch - INFO -    *  Image ID=jw00042002001_01101_00005_nrca5_cal.fits. Sky background: 0.0365138 (old=0, delta=0.0365138)\n"
     ]
    },
    {
     "name": "stderr",
     "output_type": "stream",
     "text": [
      "2021-10-02 12:04:43,795 - stpipe.Image3Pipeline.skymatch - INFO -    *  Image ID=jw00042002001_01101_00006_nrca5_cal.fits. Sky background: 0.0372453 (old=0.000731449, delta=0.0365138)\n"
     ]
    },
    {
     "name": "stderr",
     "output_type": "stream",
     "text": [
      "2021-10-02 12:04:43,795 - stpipe.Image3Pipeline.skymatch - INFO -  \n"
     ]
    },
    {
     "name": "stderr",
     "output_type": "stream",
     "text": [
      "2021-10-02 12:04:43,796 - stpipe.Image3Pipeline.skymatch - INFO - ***** jwst.skymatch.skymatch.match() ended on 2021-10-02 12:04:43.795803\n"
     ]
    },
    {
     "name": "stderr",
     "output_type": "stream",
     "text": [
      "2021-10-02 12:04:43,797 - stpipe.Image3Pipeline.skymatch - INFO - ***** jwst.skymatch.skymatch.match() TOTAL RUN TIME: 0:00:02.091768\n"
     ]
    },
    {
     "name": "stderr",
     "output_type": "stream",
     "text": [
      "2021-10-02 12:04:43,798 - stpipe.Image3Pipeline.skymatch - INFO -  \n"
     ]
    },
    {
     "name": "stderr",
     "output_type": "stream",
     "text": [
      "2021-10-02 12:04:43,808 - stpipe.Image3Pipeline.skymatch - INFO - Step skymatch done\n"
     ]
    },
    {
     "name": "stderr",
     "output_type": "stream",
     "text": [
      "2021-10-02 12:04:43,989 - stpipe.Image3Pipeline.outlier_detection - INFO - Step outlier_detection running with args (<ModelContainer>,).\n"
     ]
    },
    {
     "name": "stderr",
     "output_type": "stream",
     "text": [
      "2021-10-02 12:04:43,992 - stpipe.Image3Pipeline.outlier_detection - INFO - Step outlier_detection parameters are: {'pre_hooks': [], 'post_hooks': [], 'output_file': None, 'output_dir': None, 'output_ext': '.fits', 'output_use_model': False, 'output_use_index': True, 'save_results': True, 'skip': False, 'suffix': 'crf', 'search_output_file': False, 'input_dir': '', 'weight_type': 'ivm', 'pixfrac': 1.0, 'kernel': 'square', 'fillval': 'INDEF', 'nlow': 0, 'nhigh': 0, 'maskpt': 0.7, 'grow': 1, 'snr': '5.0 4.0', 'scale': '1.2 0.7', 'backg': 0.0, 'save_intermediate_results': False, 'resample_data': True, 'good_bits': '~DO_NOT_USE', 'scale_detection': False, 'allowed_memory': None}\n"
     ]
    },
    {
     "name": "stderr",
     "output_type": "stream",
     "text": [
      "2021-10-02 12:04:43,997 - stpipe.Image3Pipeline.outlier_detection - INFO - Performing outlier detection on 3 inputs\n"
     ]
    },
    {
     "name": "stderr",
     "output_type": "stream",
     "text": [
      "2021-10-02 12:04:48,464 - stpipe.Image3Pipeline.outlier_detection - INFO - Drizzling (2048, 2048) --> (2246, 2456)\n"
     ]
    },
    {
     "name": "stderr",
     "output_type": "stream",
     "text": [
      "2021-10-02 12:04:57,196 - stpipe.Image3Pipeline.outlier_detection - INFO - Drizzling (2048, 2048) --> (2246, 2456)\n"
     ]
    },
    {
     "name": "stderr",
     "output_type": "stream",
     "text": [
      "2021-10-02 12:05:05,870 - stpipe.Image3Pipeline.outlier_detection - INFO - Drizzling (2048, 2048) --> (2246, 2456)\n"
     ]
    },
    {
     "name": "stderr",
     "output_type": "stream",
     "text": [
      "2021-10-02 12:05:10,194 - stpipe.Image3Pipeline.outlier_detection - INFO - Generating median from 3 images\n"
     ]
    },
    {
     "name": "stderr",
     "output_type": "stream",
     "text": [
      "2021-10-02 12:05:11,890 - stpipe.Image3Pipeline.outlier_detection - INFO - Blotting median...\n"
     ]
    },
    {
     "name": "stderr",
     "output_type": "stream",
     "text": [
      "2021-10-02 12:05:16,686 - stpipe.Image3Pipeline.outlier_detection - INFO - Blotting (2048, 2048) <-- (2246, 2456)\n"
     ]
    },
    {
     "name": "stderr",
     "output_type": "stream",
     "text": [
      "2021-10-02 12:05:23,434 - stpipe.Image3Pipeline.outlier_detection - INFO - Blotting (2048, 2048) <-- (2246, 2456)\n"
     ]
    },
    {
     "name": "stderr",
     "output_type": "stream",
     "text": [
      "2021-10-02 12:05:30,143 - stpipe.Image3Pipeline.outlier_detection - INFO - Blotting (2048, 2048) <-- (2246, 2456)\n"
     ]
    },
    {
     "name": "stderr",
     "output_type": "stream",
     "text": [
      "2021-10-02 12:05:33,300 - stpipe.Image3Pipeline.outlier_detection - INFO - Saved model in jw00042002001_01101_00004_nrca5_a3001_crf.fits\n"
     ]
    },
    {
     "name": "stderr",
     "output_type": "stream",
     "text": [
      "2021-10-02 12:05:33,498 - stpipe.Image3Pipeline.outlier_detection - INFO - Saved model in jw00042002001_01101_00005_nrca5_a3001_crf.fits\n"
     ]
    },
    {
     "name": "stderr",
     "output_type": "stream",
     "text": [
      "2021-10-02 12:05:33,671 - stpipe.Image3Pipeline.outlier_detection - INFO - Saved model in jw00042002001_01101_00006_nrca5_a3001_crf.fits\n"
     ]
    },
    {
     "name": "stderr",
     "output_type": "stream",
     "text": [
      "2021-10-02 12:05:33,673 - stpipe.Image3Pipeline.outlier_detection - INFO - Step outlier_detection done\n"
     ]
    },
    {
     "name": "stderr",
     "output_type": "stream",
     "text": [
      "2021-10-02 12:05:33,910 - stpipe.Image3Pipeline.resample - INFO - Step resample running with args (<ModelContainer>,).\n"
     ]
    },
    {
     "name": "stderr",
     "output_type": "stream",
     "text": [
      "2021-10-02 12:05:33,913 - stpipe.Image3Pipeline.resample - INFO - Step resample parameters are: {'pre_hooks': [], 'post_hooks': [], 'output_file': None, 'output_dir': None, 'output_ext': '.fits', 'output_use_model': False, 'output_use_index': True, 'save_results': True, 'skip': False, 'suffix': 'i2d', 'search_output_file': True, 'input_dir': '', 'pixfrac': 1.0, 'kernel': 'square', 'fillval': 'INDEF', 'weight_type': 'ivm', 'pixel_scale_ratio': 1.0, 'single': False, 'blendheaders': True, 'allowed_memory': None}\n"
     ]
    },
    {
     "name": "stderr",
     "output_type": "stream",
     "text": [
      "2021-10-02 12:05:33,935 - stpipe.Image3Pipeline.resample - INFO - Drizpars reference file: /grp/crds/cache/references/jwst/jwst_nircam_drizpars_0001.fits\n"
     ]
    },
    {
     "name": "stderr",
     "output_type": "stream",
     "text": [
      "2021-10-02 12:05:34,059 - stpipe.Image3Pipeline.resample - INFO - Blending metadata for lw_imaging\n"
     ]
    },
    {
     "name": "stderr",
     "output_type": "stream",
     "text": [
      "2021-10-02 12:05:34,636 - stpipe.Image3Pipeline.resample - INFO - Resampling science data\n"
     ]
    },
    {
     "name": "stderr",
     "output_type": "stream",
     "text": [
      "2021-10-02 12:05:37,496 - stpipe.Image3Pipeline.resample - INFO - Drizzling (2048, 2048) --> (2246, 2456)\n"
     ]
    },
    {
     "name": "stderr",
     "output_type": "stream",
     "text": [
      "2021-10-02 12:05:43,772 - stpipe.Image3Pipeline.resample - INFO - Drizzling (2048, 2048) --> (2246, 2456)\n"
     ]
    },
    {
     "name": "stderr",
     "output_type": "stream",
     "text": [
      "2021-10-02 12:05:50,034 - stpipe.Image3Pipeline.resample - INFO - Drizzling (2048, 2048) --> (2246, 2456)\n"
     ]
    },
    {
     "name": "stderr",
     "output_type": "stream",
     "text": [
      "2021-10-02 12:05:52,871 - stpipe.Image3Pipeline.resample - INFO - Resampling var_rnoise\n"
     ]
    },
    {
     "name": "stderr",
     "output_type": "stream",
     "text": [
      "2021-10-02 12:05:55,667 - stpipe.Image3Pipeline.resample - INFO - Drizzling (2048, 2048) --> (2246, 2456)\n"
     ]
    },
    {
     "name": "stderr",
     "output_type": "stream",
     "text": [
      "2021-10-02 12:06:01,985 - stpipe.Image3Pipeline.resample - INFO - Drizzling (2048, 2048) --> (2246, 2456)\n"
     ]
    },
    {
     "name": "stderr",
     "output_type": "stream",
     "text": [
      "2021-10-02 12:06:08,211 - stpipe.Image3Pipeline.resample - INFO - Drizzling (2048, 2048) --> (2246, 2456)\n"
     ]
    },
    {
     "name": "stderr",
     "output_type": "stream",
     "text": [
      "2021-10-02 12:06:11,034 - stpipe.Image3Pipeline.resample - INFO - Resampling var_poisson\n"
     ]
    },
    {
     "name": "stderr",
     "output_type": "stream",
     "text": [
      "2021-10-02 12:06:13,826 - stpipe.Image3Pipeline.resample - INFO - Drizzling (2048, 2048) --> (2246, 2456)\n"
     ]
    },
    {
     "name": "stderr",
     "output_type": "stream",
     "text": [
      "2021-10-02 12:06:20,124 - stpipe.Image3Pipeline.resample - INFO - Drizzling (2048, 2048) --> (2246, 2456)\n"
     ]
    },
    {
     "name": "stderr",
     "output_type": "stream",
     "text": [
      "2021-10-02 12:06:26,362 - stpipe.Image3Pipeline.resample - INFO - Drizzling (2048, 2048) --> (2246, 2456)\n"
     ]
    },
    {
     "name": "stderr",
     "output_type": "stream",
     "text": [
      "2021-10-02 12:06:29,163 - stpipe.Image3Pipeline.resample - INFO - Resampling var_flat\n"
     ]
    },
    {
     "name": "stderr",
     "output_type": "stream",
     "text": [
      "2021-10-02 12:06:31,945 - stpipe.Image3Pipeline.resample - INFO - Drizzling (2048, 2048) --> (2246, 2456)\n"
     ]
    },
    {
     "name": "stderr",
     "output_type": "stream",
     "text": [
      "2021-10-02 12:06:38,244 - stpipe.Image3Pipeline.resample - INFO - Drizzling (2048, 2048) --> (2246, 2456)\n"
     ]
    },
    {
     "name": "stderr",
     "output_type": "stream",
     "text": [
      "2021-10-02 12:06:44,521 - stpipe.Image3Pipeline.resample - INFO - Drizzling (2048, 2048) --> (2246, 2456)\n"
     ]
    },
    {
     "name": "stderr",
     "output_type": "stream",
     "text": [
      "2021-10-02 12:06:47,366 - stpipe.Image3Pipeline.resample - WARNING - /data1/jenkins/workspace/Notebooks/jwst_validation_notebooks_spacetelescope/miniconda3/envs/jwst_validation_notebooks/lib/python3.9/site-packages/gwcs/utils.py:72: DeprecationWarning: `np.int` is a deprecated alias for the builtin `int`. To silence this warning, use `int` by itself. Doing this will not modify any behavior and is safe. When replacing `np.int`, you may wish to use e.g. `np.int64` or `np.int32` to specify the precision. If you wish to review your current use, check the release note link for additional information.\n",
      "Deprecated in NumPy 1.20; for more details and guidance: https://numpy.org/devdocs/release/1.20.0-notes.html#deprecations\n",
      "  indx = np.asarray(np.floor(np.asarray(value) + 0.5), dtype=np.int)\n",
      "\n"
     ]
    },
    {
     "name": "stderr",
     "output_type": "stream",
     "text": [
      "2021-10-02 12:06:47,369 - stpipe.Image3Pipeline.resample - INFO - Update S_REGION to POLYGON ICRS  215.065916169 52.907411394 215.065900360 52.946671307 214.994682012 52.946639605 214.994762380 52.907379721\n"
     ]
    },
    {
     "name": "stderr",
     "output_type": "stream",
     "text": [
      "2021-10-02 12:06:47,875 - stpipe.Image3Pipeline.resample - INFO - Saved model in lw_imaging_i2d.fits\n"
     ]
    },
    {
     "name": "stderr",
     "output_type": "stream",
     "text": [
      "2021-10-02 12:06:47,877 - stpipe.Image3Pipeline.resample - INFO - Step resample done\n"
     ]
    },
    {
     "name": "stderr",
     "output_type": "stream",
     "text": [
      "2021-10-02 12:06:48,004 - stpipe.Image3Pipeline.source_catalog - INFO - Step source_catalog running with args (<ImageModel(2246, 2456) from lw_imaging_i2d.fits>,).\n"
     ]
    },
    {
     "name": "stderr",
     "output_type": "stream",
     "text": [
      "2021-10-02 12:06:48,006 - stpipe.Image3Pipeline.source_catalog - INFO - Step source_catalog parameters are: {'pre_hooks': [], 'post_hooks': [], 'output_file': None, 'output_dir': None, 'output_ext': '.fits', 'output_use_model': False, 'output_use_index': True, 'save_results': True, 'skip': False, 'suffix': 'cat', 'search_output_file': True, 'input_dir': '', 'bkg_boxsize': 100, 'kernel_fwhm': 2.0, 'snr_threshold': 5, 'npixels': 5, 'deblend': False, 'aperture_ee1': 30, 'aperture_ee2': 50, 'aperture_ee3': 70, 'ci1_star_threshold': 2.0, 'ci2_star_threshold': 1.8}\n"
     ]
    },
    {
     "name": "stderr",
     "output_type": "stream",
     "text": [
      "2021-10-02 12:06:48,028 - stpipe.Image3Pipeline.source_catalog - INFO - Using APCORR reference file /grp/crds/cache/references/jwst/jwst_nircam_apcorr_0004.fits\n"
     ]
    },
    {
     "name": "stderr",
     "output_type": "stream",
     "text": [
      "2021-10-02 12:06:48,038 - stpipe.Image3Pipeline.source_catalog - INFO - Using ABVEGAOFFSET reference file /grp/crds/cache/references/jwst/jwst_nircam_abvegaoffset_0001.asdf\n"
     ]
    },
    {
     "name": "stderr",
     "output_type": "stream",
     "text": [
      "2021-10-02 12:06:48,039 - stpipe.Image3Pipeline.source_catalog - INFO - Instrument: NIRCAM\n"
     ]
    },
    {
     "name": "stderr",
     "output_type": "stream",
     "text": [
      "2021-10-02 12:06:48,040 - stpipe.Image3Pipeline.source_catalog - INFO - Detector: NRCALONG\n"
     ]
    },
    {
     "name": "stderr",
     "output_type": "stream",
     "text": [
      "2021-10-02 12:06:48,040 - stpipe.Image3Pipeline.source_catalog - INFO - Filter: F356W\n"
     ]
    },
    {
     "name": "stderr",
     "output_type": "stream",
     "text": [
      "2021-10-02 12:06:48,041 - stpipe.Image3Pipeline.source_catalog - INFO - Pupil: CLEAR\n"
     ]
    },
    {
     "name": "stderr",
     "output_type": "stream",
     "text": [
      "2021-10-02 12:06:48,041 - stpipe.Image3Pipeline.source_catalog - INFO - Subarray: FULL\n"
     ]
    },
    {
     "name": "stderr",
     "output_type": "stream",
     "text": [
      "2021-10-02 12:06:48,086 - stpipe.Image3Pipeline.source_catalog - INFO - AB to Vega magnitude offset 2.82390\n"
     ]
    },
    {
     "name": "stderr",
     "output_type": "stream",
     "text": [
      "2021-10-02 12:06:49,479 - stpipe.Image3Pipeline.source_catalog - WARNING - /data1/jenkins/workspace/Notebooks/jwst_validation_notebooks_spacetelescope/miniconda3/envs/jwst_validation_notebooks/lib/python3.9/site-packages/jwst/source_catalog/source_catalog.py:422: AstropyDeprecationWarning: \"filter_kernel\" was deprecated in version 1.2 and will be removed in a future version. Use argument \"kernel\" instead.\n",
      "  segm = detect_sources(data, threshold, npixels, filter_kernel=kernel,\n",
      "\n"
     ]
    },
    {
     "name": "stderr",
     "output_type": "stream",
     "text": [
      "2021-10-02 12:06:49,832 - stpipe.Image3Pipeline.source_catalog - INFO - Detected 2370 sources\n"
     ]
    },
    {
     "ename": "ValueError",
     "evalue": "too many values to unpack (expected 2)",
     "output_type": "error",
     "traceback": [
      "\u001b[0;31m---------------------------------------------------------------------------\u001b[0m",
      "\u001b[0;31mAttributeError\u001b[0m                            Traceback (most recent call last)",
      "\u001b[0;32m~/miniconda3/envs/jwst_validation_notebooks/lib/python3.9/site-packages/jwst/source_catalog/source_catalog.py\u001b[0m in \u001b[0;36mset_segment_properties\u001b[0;34m(self)\u001b[0m\n\u001b[1;32m    630\u001b[0m             \u001b[0;32mtry\u001b[0m\u001b[0;34m:\u001b[0m\u001b[0;34m\u001b[0m\u001b[0;34m\u001b[0m\u001b[0m\n\u001b[0;32m--> 631\u001b[0;31m                 \u001b[0mvalue\u001b[0m \u001b[0;34m=\u001b[0m \u001b[0mgetattr\u001b[0m\u001b[0;34m(\u001b[0m\u001b[0msegm_cat\u001b[0m\u001b[0;34m,\u001b[0m \u001b[0mprop_name\u001b[0m\u001b[0;34m)\u001b[0m\u001b[0;34m\u001b[0m\u001b[0;34m\u001b[0m\u001b[0m\n\u001b[0m\u001b[1;32m    632\u001b[0m             \u001b[0;32mexcept\u001b[0m \u001b[0mAttributeError\u001b[0m\u001b[0;34m:\u001b[0m\u001b[0;34m\u001b[0m\u001b[0;34m\u001b[0m\u001b[0m\n",
      "\u001b[0;31mAttributeError\u001b[0m: 'SourceCatalog' object has no attribute 'sky_orientation'",
      "\nDuring handling of the above exception, another exception occurred:\n",
      "\u001b[0;31mValueError\u001b[0m                                Traceback (most recent call last)",
      "\u001b[0;32m~/tmp/ipykernel_2753684/2551878169.py\u001b[0m in \u001b[0;36m<module>\u001b[0;34m\u001b[0m\n\u001b[0;32m----> 1\u001b[0;31m \u001b[0mimg3\u001b[0m\u001b[0;34m.\u001b[0m\u001b[0mrun\u001b[0m\u001b[0;34m(\u001b[0m\u001b[0mfile_names\u001b[0m\u001b[0;34m[\u001b[0m\u001b[0;36m3\u001b[0m\u001b[0;34m]\u001b[0m\u001b[0;34m)\u001b[0m\u001b[0;34m\u001b[0m\u001b[0;34m\u001b[0m\u001b[0m\n\u001b[0m",
      "\u001b[0;32m~/miniconda3/envs/jwst_validation_notebooks/lib/python3.9/site-packages/stpipe/step.py\u001b[0m in \u001b[0;36mrun\u001b[0;34m(self, *args)\u001b[0m\n\u001b[1;32m    405\u001b[0m                     \u001b[0mself\u001b[0m\u001b[0;34m.\u001b[0m\u001b[0mprefetch\u001b[0m\u001b[0;34m(\u001b[0m\u001b[0;34m*\u001b[0m\u001b[0margs\u001b[0m\u001b[0;34m)\u001b[0m\u001b[0;34m\u001b[0m\u001b[0;34m\u001b[0m\u001b[0m\n\u001b[1;32m    406\u001b[0m                 \u001b[0;32mtry\u001b[0m\u001b[0;34m:\u001b[0m\u001b[0;34m\u001b[0m\u001b[0;34m\u001b[0m\u001b[0m\n\u001b[0;32m--> 407\u001b[0;31m                     \u001b[0mstep_result\u001b[0m \u001b[0;34m=\u001b[0m \u001b[0mself\u001b[0m\u001b[0;34m.\u001b[0m\u001b[0mprocess\u001b[0m\u001b[0;34m(\u001b[0m\u001b[0;34m*\u001b[0m\u001b[0margs\u001b[0m\u001b[0;34m)\u001b[0m\u001b[0;34m\u001b[0m\u001b[0;34m\u001b[0m\u001b[0m\n\u001b[0m\u001b[1;32m    408\u001b[0m                 \u001b[0;32mexcept\u001b[0m \u001b[0mTypeError\u001b[0m \u001b[0;32mas\u001b[0m \u001b[0me\u001b[0m\u001b[0;34m:\u001b[0m\u001b[0;34m\u001b[0m\u001b[0;34m\u001b[0m\u001b[0m\n\u001b[1;32m    409\u001b[0m                     \u001b[0;32mif\u001b[0m \u001b[0;34m\"process() takes exactly\"\u001b[0m \u001b[0;32min\u001b[0m \u001b[0mstr\u001b[0m\u001b[0;34m(\u001b[0m\u001b[0me\u001b[0m\u001b[0;34m)\u001b[0m\u001b[0;34m:\u001b[0m\u001b[0;34m\u001b[0m\u001b[0;34m\u001b[0m\u001b[0m\n",
      "\u001b[0;32m~/miniconda3/envs/jwst_validation_notebooks/lib/python3.9/site-packages/jwst/pipeline/calwebb_image3.py\u001b[0m in \u001b[0;36mprocess\u001b[0;34m(self, input_data)\u001b[0m\n\u001b[1;32m     97\u001b[0m             \u001b[0mresult\u001b[0m \u001b[0;34m=\u001b[0m \u001b[0mself\u001b[0m\u001b[0;34m.\u001b[0m\u001b[0mresample\u001b[0m\u001b[0;34m(\u001b[0m\u001b[0minput_models\u001b[0m\u001b[0;34m)\u001b[0m\u001b[0;34m\u001b[0m\u001b[0;34m\u001b[0m\u001b[0m\n\u001b[1;32m     98\u001b[0m             \u001b[0;32mif\u001b[0m \u001b[0misinstance\u001b[0m\u001b[0;34m(\u001b[0m\u001b[0mresult\u001b[0m\u001b[0;34m,\u001b[0m \u001b[0mdatamodels\u001b[0m\u001b[0;34m.\u001b[0m\u001b[0mImageModel\u001b[0m\u001b[0;34m)\u001b[0m \u001b[0;32mand\u001b[0m \u001b[0mresult\u001b[0m\u001b[0;34m.\u001b[0m\u001b[0mmeta\u001b[0m\u001b[0;34m.\u001b[0m\u001b[0mcal_step\u001b[0m\u001b[0;34m.\u001b[0m\u001b[0mresample\u001b[0m \u001b[0;34m==\u001b[0m \u001b[0;34m'COMPLETE'\u001b[0m\u001b[0;34m:\u001b[0m\u001b[0;34m\u001b[0m\u001b[0;34m\u001b[0m\u001b[0m\n\u001b[0;32m---> 99\u001b[0;31m                 \u001b[0mself\u001b[0m\u001b[0;34m.\u001b[0m\u001b[0msource_catalog\u001b[0m\u001b[0;34m(\u001b[0m\u001b[0mresult\u001b[0m\u001b[0;34m)\u001b[0m\u001b[0;34m\u001b[0m\u001b[0;34m\u001b[0m\u001b[0m\n\u001b[0m",
      "\u001b[0;32m~/miniconda3/envs/jwst_validation_notebooks/lib/python3.9/site-packages/stpipe/step.py\u001b[0m in \u001b[0;36mrun\u001b[0;34m(self, *args)\u001b[0m\n\u001b[1;32m    405\u001b[0m                     \u001b[0mself\u001b[0m\u001b[0;34m.\u001b[0m\u001b[0mprefetch\u001b[0m\u001b[0;34m(\u001b[0m\u001b[0;34m*\u001b[0m\u001b[0margs\u001b[0m\u001b[0;34m)\u001b[0m\u001b[0;34m\u001b[0m\u001b[0;34m\u001b[0m\u001b[0m\n\u001b[1;32m    406\u001b[0m                 \u001b[0;32mtry\u001b[0m\u001b[0;34m:\u001b[0m\u001b[0;34m\u001b[0m\u001b[0;34m\u001b[0m\u001b[0m\n\u001b[0;32m--> 407\u001b[0;31m                     \u001b[0mstep_result\u001b[0m \u001b[0;34m=\u001b[0m \u001b[0mself\u001b[0m\u001b[0;34m.\u001b[0m\u001b[0mprocess\u001b[0m\u001b[0;34m(\u001b[0m\u001b[0;34m*\u001b[0m\u001b[0margs\u001b[0m\u001b[0;34m)\u001b[0m\u001b[0;34m\u001b[0m\u001b[0;34m\u001b[0m\u001b[0m\n\u001b[0m\u001b[1;32m    408\u001b[0m                 \u001b[0;32mexcept\u001b[0m \u001b[0mTypeError\u001b[0m \u001b[0;32mas\u001b[0m \u001b[0me\u001b[0m\u001b[0;34m:\u001b[0m\u001b[0;34m\u001b[0m\u001b[0;34m\u001b[0m\u001b[0m\n\u001b[1;32m    409\u001b[0m                     \u001b[0;32mif\u001b[0m \u001b[0;34m\"process() takes exactly\"\u001b[0m \u001b[0;32min\u001b[0m \u001b[0mstr\u001b[0m\u001b[0;34m(\u001b[0m\u001b[0me\u001b[0m\u001b[0;34m)\u001b[0m\u001b[0;34m:\u001b[0m\u001b[0;34m\u001b[0m\u001b[0;34m\u001b[0m\u001b[0m\n",
      "\u001b[0;32m~/miniconda3/envs/jwst_validation_notebooks/lib/python3.9/site-packages/jwst/source_catalog/source_catalog_step.py\u001b[0m in \u001b[0;36mprocess\u001b[0;34m(self, input_model)\u001b[0m\n\u001b[1;32m    107\u001b[0m                                        \u001b[0mabvega_offset\u001b[0m\u001b[0;34m=\u001b[0m\u001b[0mabvega_offset\u001b[0m\u001b[0;34m,\u001b[0m\u001b[0;34m\u001b[0m\u001b[0;34m\u001b[0m\u001b[0m\n\u001b[1;32m    108\u001b[0m                                        ci_star_thresholds=ci_star_thresholds)\n\u001b[0;32m--> 109\u001b[0;31m             \u001b[0mcatalog\u001b[0m \u001b[0;34m=\u001b[0m \u001b[0mcatobj\u001b[0m\u001b[0;34m.\u001b[0m\u001b[0mcatalog\u001b[0m\u001b[0;34m\u001b[0m\u001b[0;34m\u001b[0m\u001b[0m\n\u001b[0m\u001b[1;32m    110\u001b[0m \u001b[0;34m\u001b[0m\u001b[0m\n\u001b[1;32m    111\u001b[0m             \u001b[0;32mif\u001b[0m \u001b[0mself\u001b[0m\u001b[0;34m.\u001b[0m\u001b[0msave_results\u001b[0m\u001b[0;34m:\u001b[0m\u001b[0;34m\u001b[0m\u001b[0;34m\u001b[0m\u001b[0m\n",
      "\u001b[0;32m~/miniconda3/envs/jwst_validation_notebooks/lib/python3.9/site-packages/astropy/utils/decorators.py\u001b[0m in \u001b[0;36m__get__\u001b[0;34m(self, obj, owner)\u001b[0m\n\u001b[1;32m    765\u001b[0m                     \u001b[0mval\u001b[0m \u001b[0;34m=\u001b[0m \u001b[0mobj_dict\u001b[0m\u001b[0;34m.\u001b[0m\u001b[0mget\u001b[0m\u001b[0;34m(\u001b[0m\u001b[0mself\u001b[0m\u001b[0;34m.\u001b[0m\u001b[0m_key\u001b[0m\u001b[0;34m,\u001b[0m \u001b[0m_NotFound\u001b[0m\u001b[0;34m)\u001b[0m\u001b[0;34m\u001b[0m\u001b[0;34m\u001b[0m\u001b[0m\n\u001b[1;32m    766\u001b[0m                     \u001b[0;32mif\u001b[0m \u001b[0mval\u001b[0m \u001b[0;32mis\u001b[0m \u001b[0m_NotFound\u001b[0m\u001b[0;34m:\u001b[0m\u001b[0;34m\u001b[0m\u001b[0;34m\u001b[0m\u001b[0m\n\u001b[0;32m--> 767\u001b[0;31m                         \u001b[0mval\u001b[0m \u001b[0;34m=\u001b[0m \u001b[0mself\u001b[0m\u001b[0;34m.\u001b[0m\u001b[0mfget\u001b[0m\u001b[0;34m(\u001b[0m\u001b[0mobj\u001b[0m\u001b[0;34m)\u001b[0m\u001b[0;34m\u001b[0m\u001b[0;34m\u001b[0m\u001b[0m\n\u001b[0m\u001b[1;32m    768\u001b[0m                         \u001b[0mobj_dict\u001b[0m\u001b[0;34m[\u001b[0m\u001b[0mself\u001b[0m\u001b[0;34m.\u001b[0m\u001b[0m_key\u001b[0m\u001b[0;34m]\u001b[0m \u001b[0;34m=\u001b[0m \u001b[0mval\u001b[0m\u001b[0;34m\u001b[0m\u001b[0;34m\u001b[0m\u001b[0m\n\u001b[1;32m    769\u001b[0m             \u001b[0;32mreturn\u001b[0m \u001b[0mval\u001b[0m\u001b[0;34m\u001b[0m\u001b[0;34m\u001b[0m\u001b[0m\n",
      "\u001b[0;32m~/miniconda3/envs/jwst_validation_notebooks/lib/python3.9/site-packages/jwst/source_catalog/source_catalog.py\u001b[0m in \u001b[0;36mcatalog\u001b[0;34m(self)\u001b[0m\n\u001b[1;32m   1298\u001b[0m         \"\"\"\n\u001b[1;32m   1299\u001b[0m         \u001b[0mself\u001b[0m\u001b[0;34m.\u001b[0m\u001b[0mconvert_to_jy\u001b[0m\u001b[0;34m(\u001b[0m\u001b[0;34m)\u001b[0m\u001b[0;34m\u001b[0m\u001b[0;34m\u001b[0m\u001b[0m\n\u001b[0;32m-> 1300\u001b[0;31m         \u001b[0mself\u001b[0m\u001b[0;34m.\u001b[0m\u001b[0mset_segment_properties\u001b[0m\u001b[0;34m(\u001b[0m\u001b[0;34m)\u001b[0m\u001b[0;34m\u001b[0m\u001b[0;34m\u001b[0m\u001b[0m\n\u001b[0m\u001b[1;32m   1301\u001b[0m         \u001b[0mself\u001b[0m\u001b[0;34m.\u001b[0m\u001b[0mset_aperture_properties\u001b[0m\u001b[0;34m(\u001b[0m\u001b[0;34m)\u001b[0m\u001b[0;34m\u001b[0m\u001b[0;34m\u001b[0m\u001b[0m\n\u001b[1;32m   1302\u001b[0m         \u001b[0mself\u001b[0m\u001b[0;34m.\u001b[0m\u001b[0mset_ci_properties\u001b[0m\u001b[0;34m(\u001b[0m\u001b[0;34m)\u001b[0m\u001b[0;34m\u001b[0m\u001b[0;34m\u001b[0m\u001b[0m\n",
      "\u001b[0;32m~/miniconda3/envs/jwst_validation_notebooks/lib/python3.9/site-packages/jwst/source_catalog/source_catalog.py\u001b[0m in \u001b[0;36mset_segment_properties\u001b[0;34m(self)\u001b[0m\n\u001b[1;32m    631\u001b[0m                 \u001b[0mvalue\u001b[0m \u001b[0;34m=\u001b[0m \u001b[0mgetattr\u001b[0m\u001b[0;34m(\u001b[0m\u001b[0msegm_cat\u001b[0m\u001b[0;34m,\u001b[0m \u001b[0mprop_name\u001b[0m\u001b[0;34m)\u001b[0m\u001b[0;34m\u001b[0m\u001b[0;34m\u001b[0m\u001b[0m\n\u001b[1;32m    632\u001b[0m             \u001b[0;32mexcept\u001b[0m \u001b[0mAttributeError\u001b[0m\u001b[0;34m:\u001b[0m\u001b[0;34m\u001b[0m\u001b[0;34m\u001b[0m\u001b[0m\n\u001b[0;32m--> 633\u001b[0;31m                 \u001b[0mvalue\u001b[0m \u001b[0;34m=\u001b[0m \u001b[0mgetattr\u001b[0m\u001b[0;34m(\u001b[0m\u001b[0mself\u001b[0m\u001b[0;34m,\u001b[0m \u001b[0mprop_name\u001b[0m\u001b[0;34m)\u001b[0m\u001b[0;34m\u001b[0m\u001b[0;34m\u001b[0m\u001b[0m\n\u001b[0m\u001b[1;32m    634\u001b[0m             \u001b[0msetattr\u001b[0m\u001b[0;34m(\u001b[0m\u001b[0mself\u001b[0m\u001b[0;34m,\u001b[0m \u001b[0mcolumn\u001b[0m\u001b[0;34m,\u001b[0m \u001b[0mvalue\u001b[0m\u001b[0;34m)\u001b[0m\u001b[0;34m\u001b[0m\u001b[0;34m\u001b[0m\u001b[0m\n\u001b[1;32m    635\u001b[0m \u001b[0;34m\u001b[0m\u001b[0m\n",
      "\u001b[0;32m~/miniconda3/envs/jwst_validation_notebooks/lib/python3.9/site-packages/astropy/utils/decorators.py\u001b[0m in \u001b[0;36m__get__\u001b[0;34m(self, obj, owner)\u001b[0m\n\u001b[1;32m    765\u001b[0m                     \u001b[0mval\u001b[0m \u001b[0;34m=\u001b[0m \u001b[0mobj_dict\u001b[0m\u001b[0;34m.\u001b[0m\u001b[0mget\u001b[0m\u001b[0;34m(\u001b[0m\u001b[0mself\u001b[0m\u001b[0;34m.\u001b[0m\u001b[0m_key\u001b[0m\u001b[0;34m,\u001b[0m \u001b[0m_NotFound\u001b[0m\u001b[0;34m)\u001b[0m\u001b[0;34m\u001b[0m\u001b[0;34m\u001b[0m\u001b[0m\n\u001b[1;32m    766\u001b[0m                     \u001b[0;32mif\u001b[0m \u001b[0mval\u001b[0m \u001b[0;32mis\u001b[0m \u001b[0m_NotFound\u001b[0m\u001b[0;34m:\u001b[0m\u001b[0;34m\u001b[0m\u001b[0;34m\u001b[0m\u001b[0m\n\u001b[0;32m--> 767\u001b[0;31m                         \u001b[0mval\u001b[0m \u001b[0;34m=\u001b[0m \u001b[0mself\u001b[0m\u001b[0;34m.\u001b[0m\u001b[0mfget\u001b[0m\u001b[0;34m(\u001b[0m\u001b[0mobj\u001b[0m\u001b[0;34m)\u001b[0m\u001b[0;34m\u001b[0m\u001b[0;34m\u001b[0m\u001b[0m\n\u001b[0m\u001b[1;32m    768\u001b[0m                         \u001b[0mobj_dict\u001b[0m\u001b[0;34m[\u001b[0m\u001b[0mself\u001b[0m\u001b[0;34m.\u001b[0m\u001b[0m_key\u001b[0m\u001b[0;34m]\u001b[0m \u001b[0;34m=\u001b[0m \u001b[0mval\u001b[0m\u001b[0;34m\u001b[0m\u001b[0;34m\u001b[0m\u001b[0m\n\u001b[1;32m    769\u001b[0m             \u001b[0;32mreturn\u001b[0m \u001b[0mval\u001b[0m\u001b[0;34m\u001b[0m\u001b[0;34m\u001b[0m\u001b[0m\n",
      "\u001b[0;32m~/miniconda3/envs/jwst_validation_notebooks/lib/python3.9/site-packages/jwst/source_catalog/source_catalog.py\u001b[0m in \u001b[0;36msky_orientation\u001b[0;34m(self)\u001b[0m\n\u001b[1;32m    689\u001b[0m         skycoord = self.wcs.pixel_to_world(self.model.meta.wcsinfo.crpix1 - 1,\n\u001b[1;32m    690\u001b[0m                                            self.model.meta.wcsinfo.crpix2 - 1)\n\u001b[0;32m--> 691\u001b[0;31m         \u001b[0m_\u001b[0m\u001b[0;34m,\u001b[0m \u001b[0mangle\u001b[0m \u001b[0;34m=\u001b[0m \u001b[0m_pixel_scale_angle_at_skycoord\u001b[0m\u001b[0;34m(\u001b[0m\u001b[0mskycoord\u001b[0m\u001b[0;34m,\u001b[0m \u001b[0mself\u001b[0m\u001b[0;34m.\u001b[0m\u001b[0mwcs\u001b[0m\u001b[0;34m)\u001b[0m\u001b[0;34m\u001b[0m\u001b[0;34m\u001b[0m\u001b[0m\n\u001b[0m\u001b[1;32m    692\u001b[0m \u001b[0;34m\u001b[0m\u001b[0m\n\u001b[1;32m    693\u001b[0m         \u001b[0;32mreturn\u001b[0m \u001b[0;34m(\u001b[0m\u001b[0;36m180.0\u001b[0m \u001b[0;34m*\u001b[0m \u001b[0mu\u001b[0m\u001b[0;34m.\u001b[0m\u001b[0mdeg\u001b[0m\u001b[0;34m)\u001b[0m \u001b[0;34m-\u001b[0m \u001b[0mangle\u001b[0m \u001b[0;34m+\u001b[0m \u001b[0mself\u001b[0m\u001b[0;34m.\u001b[0m\u001b[0morientation\u001b[0m\u001b[0;34m\u001b[0m\u001b[0;34m\u001b[0m\u001b[0m\n",
      "\u001b[0;31mValueError\u001b[0m: too many values to unpack (expected 2)"
     ]
    }
   ],
   "source": [
    "img3.run(file_names[3])"
   ]
  },
  {
   "cell_type": "markdown",
   "metadata": {},
   "source": [
    "[Top of Page](#title_ID)"
   ]
  },
  {
   "cell_type": "markdown",
   "metadata": {},
   "source": [
    "<a id=\"visualization\"></a>\n",
    "# Perform Visual Inspection\n",
    "\n",
    "Perform the visual inspection of the catalog and the final image. "
   ]
  },
  {
   "cell_type": "code",
   "execution_count": null,
   "metadata": {},
   "outputs": [],
   "source": [
    "catalog = Table.read(\"lw_imaging_cat.ecsv\")"
   ]
  },
  {
   "cell_type": "code",
   "execution_count": null,
   "metadata": {},
   "outputs": [],
   "source": [
    "combined_image = datamodels.ImageModel(\"lw_imaging_i2d.fits\")"
   ]
  },
  {
   "cell_type": "code",
   "execution_count": null,
   "metadata": {
    "scrolled": false
   },
   "outputs": [],
   "source": [
    "create_image(combined_image.data, title=\"Final combined NIRCam image\")"
   ]
  },
  {
   "cell_type": "code",
   "execution_count": null,
   "metadata": {
    "scrolled": false
   },
   "outputs": [],
   "source": [
    "create_image_with_cat(combined_image.data, catalog, title=\"Final image w/ catalog overlaid\")"
   ]
  },
  {
   "cell_type": "code",
   "execution_count": null,
   "metadata": {},
   "outputs": [],
   "source": [
    "catalog"
   ]
  },
  {
   "cell_type": "code",
   "execution_count": null,
   "metadata": {
    "scrolled": false
   },
   "outputs": [],
   "source": [
    "create_scatterplot(catalog['label'], catalog['aper_total_flux'],title='Total Flux in '+str(catalog['aper_total_flux'].unit))"
   ]
  },
  {
   "cell_type": "code",
   "execution_count": null,
   "metadata": {},
   "outputs": [],
   "source": [
    "create_scatterplot(catalog['label'], catalog['aper_total_abmag'],title='Total AB mag')"
   ]
  },
  {
   "cell_type": "markdown",
   "metadata": {},
   "source": [
    "[Top of Page](#title_ID)"
   ]
  },
  {
   "cell_type": "markdown",
   "metadata": {},
   "source": [
    "<a id=\"manual\"></a>\n",
    "# Manually Find Matches \n",
    "\n",
    "Since this is a simulated data set, we can compare the output catalog information from the pipeline with the input catalog information used to create the simulation. Grab the input catalog RA, Dec values and the output catalog RA, Dec values."
   ]
  },
  {
   "cell_type": "code",
   "execution_count": null,
   "metadata": {},
   "outputs": [],
   "source": [
    "test_outputs = get_input_table(file_names[4])\n",
    "in_ra = test_outputs['In_RA'].data\n",
    "in_dec = test_outputs['In_Dec'].data\n",
    "out_ra = catalog['sky_centroid'].ra.deg\n",
    "out_dec = catalog['sky_centroid'].dec.deg"
   ]
  },
  {
   "cell_type": "markdown",
   "metadata": {},
   "source": [
    "Set the tolerance and initialize our counters. "
   ]
  },
  {
   "cell_type": "code",
   "execution_count": null,
   "metadata": {},
   "outputs": [],
   "source": [
    "tol = 1.e-3\n",
    "found_count=0\n",
    "multiples_count=0\n",
    "missed_count=0"
   ]
  },
  {
   "cell_type": "markdown",
   "metadata": {},
   "source": [
    "Below we loop through the input RA, Dec values and compare them to the RA, Dec values in the output catalog. For cases where there are multiple matches for our tolerance level, count those cases. "
   ]
  },
  {
   "cell_type": "code",
   "execution_count": null,
   "metadata": {},
   "outputs": [],
   "source": [
    "for ra,dec,idx in zip(in_ra, in_dec,range(len(test_outputs))):\n",
    "\n",
    "    match = np.where((np.abs(ra-out_ra) < tol) & (np.abs(dec-out_dec) < tol))\n",
    "    \n",
    "    if np.size(match) == 1: \n",
    "        found_count +=1 \n",
    "        test_outputs['Detected'][idx] = 'Y'\n",
    "        test_outputs['Out_RA'][idx] = out_ra[match]\n",
    "        test_outputs['Out_Dec'][idx] = out_dec[match]\n",
    "        test_outputs['RA_Diff'][idx] = np.abs(ra-out_ra[match])\n",
    "        test_outputs['Dec_Diff'][idx] = np.abs(dec-out_dec[match])  \n",
    "\n",
    "    if np.size(match) > 1:  \n",
    "        multiples_count +=1       \n",
    "        \n",
    "    if np.size(match) < 1:\n",
    "        missed_count +=1"
   ]
  },
  {
   "cell_type": "markdown",
   "metadata": {},
   "source": [
    "Let's see how it did. "
   ]
  },
  {
   "cell_type": "code",
   "execution_count": null,
   "metadata": {},
   "outputs": [],
   "source": [
    "total_percent_found = (found_count/len(test_outputs))*100\n",
    "\n",
    "print('\\n')\n",
    "print('SNR threshold used for pipeline: ',img3.source_catalog.snr_threshold)\n",
    "print('Total found:',found_count)\n",
    "print('Total missed:',missed_count)\n",
    "print('Number of multiples: ',multiples_count)\n",
    "print('Total number of input sources:',len(test_outputs))\n",
    "print('Total number in output catalog:',len(catalog))\n",
    "print('Total percent found:',total_percent_found)\n",
    "print('\\n')"
   ]
  },
  {
   "cell_type": "markdown",
   "metadata": {},
   "source": [
    "### Use photutils to find catalog matches"
   ]
  },
  {
   "cell_type": "markdown",
   "metadata": {},
   "source": [
    "Photutils includes a package to match sources between catalogs by providing a max separation value. Set that value and compare the two catalogs."
   ]
  },
  {
   "cell_type": "code",
   "execution_count": null,
   "metadata": {},
   "outputs": [],
   "source": [
    "catalog_in = SkyCoord(ra=in_ra*u.degree, dec=in_dec*u.degree)\n",
    "catalog_out = SkyCoord(ra=out_ra*u.degree, dec=out_dec*u.degree)"
   ]
  },
  {
   "cell_type": "code",
   "execution_count": null,
   "metadata": {},
   "outputs": [],
   "source": [
    "max_sep = 1.0 * u.arcsec"
   ]
  },
  {
   "cell_type": "code",
   "execution_count": null,
   "metadata": {},
   "outputs": [],
   "source": [
    "# idx, d2d, d3d = cat_in.match_to_catalog_3d(cat_out)\n",
    "idx, d2d, d3d = catalog_in.match_to_catalog_sky(catalog_out)\n",
    "sep_constraint = d2d < max_sep\n",
    "catalog_in_matches = catalog_in[sep_constraint]\n",
    "catalog_out_matches = catalog_out[idx[sep_constraint]]"
   ]
  },
  {
   "cell_type": "markdown",
   "metadata": {},
   "source": [
    "Now, ```catalog_in_matches``` and ```catalog_out_matches``` are the matched sources in ```catalog_in``` and ```catalog_out```, respectively, which are separated less than our ```max_sep``` value."
   ]
  },
  {
   "cell_type": "code",
   "execution_count": null,
   "metadata": {},
   "outputs": [],
   "source": [
    "print('Number of matched sources using max separation of '+str(max_sep)+': ',len(catalog_out_matches))"
   ]
  },
  {
   "cell_type": "markdown",
   "metadata": {},
   "source": [
    "<a id=\"about_ID\"></a>\n",
    "## About this Notebook\n",
    "**Author:** Alicia Canipe, Senior Staff Scientist, NIRCam\n",
    "<br>**Updated On:** 05/26/2021"
   ]
  },
  {
   "cell_type": "markdown",
   "metadata": {},
   "source": [
    "[Top of Page](#title_ID)\n",
    "<img style=\"float: right;\" src=\"./stsci_pri_combo_mark_horizonal_white_bkgd.png\" alt=\"stsci_pri_combo_mark_horizonal_white_bkgd\" width=\"200px\"/> "
   ]
  }
 ],
 "metadata": {
  "kernelspec": {
   "display_name": "Python 3",
   "language": "python",
   "name": "python3"
  },
  "language_info": {
   "codemirror_mode": {
    "name": "ipython",
    "version": 3
   },
   "file_extension": ".py",
   "mimetype": "text/x-python",
   "name": "python",
   "nbconvert_exporter": "python",
   "pygments_lexer": "ipython3",
   "version": "3.9.7"
  }
 },
 "nbformat": 4,
 "nbformat_minor": 1
}
