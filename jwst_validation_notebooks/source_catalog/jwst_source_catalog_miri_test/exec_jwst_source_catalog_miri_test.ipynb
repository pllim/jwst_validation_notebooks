{
 "cells": [
  {
   "cell_type": "markdown",
   "metadata": {},
   "source": [
    "<a id=\"title_ID\"></a>\n",
    "# JWST Pipeline Validation Notebook: calwebb_image3: source_catalog with MIRI\n",
    "\n",
    "<span style=\"color:red\"> **Instruments Affected**</span>: MIRI, NIRCam \n",
    "\n",
    "\n",
    "Tested on MIRI Simulated data\n",
    "\n",
    "### Table of Contents\n",
    "<div style=\"text-align: left\"> \n",
    "\n",
    "<br>  [Introduction](#intro_ID) <br> [Imports](#imports_ID) <br> [Run Pipeline](#pipeline_ID) <br> [Check Results](#output_ID) <br> [About This Notebook](#about_ID) <br>\n",
    "\n",
    "\n",
    "</div>"
   ]
  },
  {
   "cell_type": "markdown",
   "metadata": {},
   "source": [
    "<a id=\"intro_ID\"></a>\n",
    "\n",
    "## Introduction\n",
    "\n",
    "This notebook processes a set of images through calwebb_image2 and calwebb_image3 and examines the output table of the source_catalog step. \n",
    "\n",
    "This test uses simulated MIRI F770W (options for F560W or F770W) data of a crowded star + galaxy field.\n",
    "\n",
    "The pipeline documentation can be found here: https://jwst-pipeline.readthedocs.io/en/latest/jwst/source_catalog/main.html\n",
    "\n",
    "The pipeline code is available on GitHub: https://github.com/spacetelescope/jwst\n",
    "\n"
   ]
  },
  {
   "cell_type": "markdown",
   "metadata": {},
   "source": [
    "### JWST Calibration working group algorithm\n",
    "\n",
    "The algorithm and discussion for this step can be found at the following page:\n",
    "\n",
    "https://outerspace.stsci.edu/display/JWSTCC/Vanilla+Point+Source+Catalog"
   ]
  },
  {
   "cell_type": "markdown",
   "metadata": {},
   "source": [
    "### Test description\n",
    "\n",
    "The steps of this test are as follow:\n",
    "\n",
    "1) Set up data path and directory and image files name.\n",
    "\n",
    "2) Run output of calwebb_detector1 through calwebb_image2.\n",
    "\n",
    "3) Run output of calwebb_image2 through calwebb_image3. \n",
    "\n",
    "4) Read in output table of source_catalog step and print ecsv table \n",
    "\n",
    "5) Display image and overplot detector sources from ecsv table. \n",
    "\n",
    "6) Look at plots of total flux in Jy and AB mag.\n",
    "\n",
    "7) Look for matches between expected source positions (RA and Dec) from simulated catalog to output from source_catalog.\n",
    "\n",
    "8) Compare magnitudes and magnitude differences between input simulated catalog and output found sources."
   ]
  },
  {
   "cell_type": "markdown",
   "metadata": {},
   "source": [
    "### Data description\n",
    "\n",
    "The data used in this test consist of a set of four simulated images in the F770W filter of MIRI, at four different dither positions. The data have 4827 stars of varying flux levels and just over 200 galaxies in the image. The MIRI Image simulator (MIRISim) was used to create the simulations."
   ]
  },
  {
   "cell_type": "markdown",
   "metadata": {},
   "source": [
    "### Create a temporary directory for all of the test data"
   ]
  },
  {
   "cell_type": "code",
   "execution_count": 1,
   "metadata": {
    "execution": {
     "iopub.execute_input": "2022-09-20T17:30:16.366152Z",
     "iopub.status.busy": "2022-09-20T17:30:16.365525Z",
     "iopub.status.idle": "2022-09-20T17:30:16.372541Z",
     "shell.execute_reply": "2022-09-20T17:30:16.372078Z"
    }
   },
   "outputs": [
    {
     "name": "stdout",
     "output_type": "stream",
     "text": [
      "Running in /internal/data1/jenkins/workspace/Notebooks/jwst_validation_notebooks_spacetelescope/tmp/tmpgy_wbhpf\n"
     ]
    }
   ],
   "source": [
    "# Create a temporary directory to hold notebook output, and change the working directory to that directory.\n",
    "from tempfile import TemporaryDirectory\n",
    "import os\n",
    "data_dir = TemporaryDirectory()\n",
    "os.chdir(data_dir.name)\n",
    "\n",
    "# For info, print out where the script is running\n",
    "print(\"Running in {}\".format(os.getcwd()))"
   ]
  },
  {
   "cell_type": "code",
   "execution_count": 2,
   "metadata": {
    "execution": {
     "iopub.execute_input": "2022-09-20T17:30:16.375251Z",
     "iopub.status.busy": "2022-09-20T17:30:16.374645Z",
     "iopub.status.idle": "2022-09-20T17:30:16.378442Z",
     "shell.execute_reply": "2022-09-20T17:30:16.378013Z"
    }
   },
   "outputs": [
    {
     "name": "stdout",
     "output_type": "stream",
     "text": [
      "CRDS cache location: /tmp/crds_cache\n"
     ]
    }
   ],
   "source": [
    "import os\n",
    "if 'CRDS_CACHE_TYPE' in os.environ:\n",
    "    if os.environ['CRDS_CACHE_TYPE'] == 'local':\n",
    "        os.environ['CRDS_PATH'] = os.path.join(os.environ['HOME'], 'crds', 'cache')\n",
    "    elif os.path.isdir(os.environ['CRDS_CACHE_TYPE']):\n",
    "        os.environ['CRDS_PATH'] = os.environ['CRDS_CACHE_TYPE']\n",
    "print('CRDS cache location: {}'.format(os.environ['CRDS_PATH']))"
   ]
  },
  {
   "cell_type": "markdown",
   "metadata": {},
   "source": [
    "<a id=\"imports_ID\"></a>\n",
    "### Set up import statements\n",
    "\n",
    "The following packages are needed to enable this notebook to run:\n",
    "* astropy for coordinate handling and calculations\n",
    "* jwst to run the pipeline steps and create associations\n",
    "* matplotlib for plotting\n",
    "* ci_watson for retrieving data from artifactory\n",
    "* set of tools to retrieve data from Box\n",
    "\n",
    "[Top of Page](#title_ID)"
   ]
  },
  {
   "cell_type": "code",
   "execution_count": 3,
   "metadata": {
    "execution": {
     "iopub.execute_input": "2022-09-20T17:30:16.380813Z",
     "iopub.status.busy": "2022-09-20T17:30:16.380407Z",
     "iopub.status.idle": "2022-09-20T17:30:17.944201Z",
     "shell.execute_reply": "2022-09-20T17:30:17.943601Z"
    }
   },
   "outputs": [],
   "source": [
    "#import pytest\n",
    "import numpy as np\n",
    "from glob import glob\n",
    "import json\n",
    "import matplotlib.pyplot as plt\n",
    "import photutils\n",
    "\n",
    "from astropy.io import fits, ascii\n",
    "from astropy.coordinates import Angle\n",
    "from astropy.table import Table, vstack, unique, join\n",
    "from astropy import table\n",
    "from astropy.coordinates import SkyCoord, match_coordinates_sky\n",
    "from astropy.visualization import simple_norm\n",
    "from astropy import units as u\n",
    "from astropy.modeling import models\n",
    "from astropy.wcs import WCS\n",
    "\n",
    "# Box download imports \n",
    "from astropy.utils.data import download_file\n",
    "from pathlib import Path\n",
    "from shutil import move\n",
    "from os.path import splitext\n",
    "\n",
    "import jwst\n",
    "from jwst import datamodels\n",
    "from jwst.datamodels import RampModel, ImageModel\n",
    "\n",
    "from jwst import associations\n",
    "from jwst.associations import asn_from_list\n",
    "from jwst.associations.lib.rules_level3_base import DMS_Level3_Base\n",
    "\n",
    "from jwst.pipeline import calwebb_image3\n",
    "from jwst.pipeline import calwebb_image2\n",
    "from jwst.pipeline import calwebb_detector1\n",
    "from jwst.pipeline import Detector1Pipeline, Image2Pipeline, Image3Pipeline\n",
    "\n",
    "from ci_watson.artifactory_helpers import get_bigdata\n"
   ]
  },
  {
   "cell_type": "markdown",
   "metadata": {},
   "source": [
    "### Put in some helper scripts\n"
   ]
  },
  {
   "cell_type": "code",
   "execution_count": 4,
   "metadata": {
    "execution": {
     "iopub.execute_input": "2022-09-20T17:30:17.948020Z",
     "iopub.status.busy": "2022-09-20T17:30:17.947586Z",
     "iopub.status.idle": "2022-09-20T17:30:17.951673Z",
     "shell.execute_reply": "2022-09-20T17:30:17.951209Z"
    }
   },
   "outputs": [],
   "source": [
    "def create_scatterplot(catalog_colx, catalog_coly, title=None):\n",
    "    ''' Function to generate a generic scatterplot.\n",
    "    '''\n",
    "    \n",
    "    fig = plt.figure(figsize=(8, 8))\n",
    "    ax = plt.subplot()\n",
    "    ax.scatter(catalog_colx,catalog_coly) \n",
    "    plt.xlabel(catalog_colx.name)\n",
    "    plt.ylabel(catalog_coly.name)\n",
    "\n",
    "    \n",
    "    if title:\n",
    "        plt.title(title)"
   ]
  },
  {
   "cell_type": "code",
   "execution_count": 5,
   "metadata": {
    "execution": {
     "iopub.execute_input": "2022-09-20T17:30:17.954373Z",
     "iopub.status.busy": "2022-09-20T17:30:17.954194Z",
     "iopub.status.idle": "2022-09-20T17:30:17.961928Z",
     "shell.execute_reply": "2022-09-20T17:30:17.961449Z"
    }
   },
   "outputs": [],
   "source": [
    "# Band info from constants in miricap\n",
    "\n",
    "# wref in microns and zeropoint in Jy\n",
    "band_info = {\n",
    "    \"2MASS J\": {'wref': 1.235, 'zeropoint': 1594},\n",
    "    \"2MASS H\": {'wref': 1.662, 'zeropoint': 1024},\n",
    "    \"2MASS Ks\": {'wref': 2.159, 'zeropoint': 666.7},\n",
    "    \"Johnson U\": {'wref': 0.36, 'zeropoint': 1823},\n",
    "    \"Johnson B\": {'wref': 0.44, 'zeropoint': 4130},\n",
    "    \"Johnson V\": {'wref': 0.55, 'zeropoint': 3781},\n",
    "    \"Johnson R\": {'wref': 0.71, 'zeropoint': 2941},\n",
    "    \"Johnson I\": {'wref': 0.97, 'zeropoint': 2635},\n",
    "    \"Johnson J\": {'wref': 1.25, 'zeropoint': 1603},\n",
    "    \"Johnson H\": {'wref': 1.60, 'zeropoint': 1075},\n",
    "    \"Johnson K\": {'wref': 2.22, 'zeropoint': 667},\n",
    "    \"Johnson L\": {'wref': 3.54, 'zeropoint': 288},\n",
    "    \"Johnson M\": {'wref': 4.80, 'zeropoint': 170},\n",
    "    \"Johnson N\": {'wref': 10.6, 'zeropoint': 36},\n",
    "    \"Johnson O\": {'wref': 21.0, 'zeropoint': 9.4},\n",
    "    \"UKIRT V\": {'wref': 0.5556, 'zeropoint': 3540},\n",
    "    \"UKIRT I\": {'wref': 0.9, 'zeropoint': 2250},\n",
    "    \"UKIRT J\": {'wref': 1.25, 'zeropoint': 1600},\n",
    "    \"UKIRT H\": {'wref': 1.65, 'zeropoint': 1020},\n",
    "    \"UKIRT K\": {'wref': 2.20, 'zeropoint': 657},\n",
    "    \"UKIRT L\": {'wref': 3.45, 'zeropoint': 290},\n",
    "    \"UKIRT L'\": {'wref': 3.80, 'zeropoint': 252},\n",
    "    \"UKIRT M\": {'wref': 4.8, 'zeropoint': 163},\n",
    "    \"UKIRT N\": {'wref': 10.1, 'zeropoint': 39.8},\n",
    "    \"UKIRT Q\": {'wref': 20.0, 'zeropoint': 10.4},\n",
    "    \"MIRLIN N\": {'wref': 10.79, 'zeropoint': 33.4},\n",
    "    \"MIRLIN Q-s\": {'wref': 17.90, 'zeropoint': 12.4},\n",
    "    \"MIRLIN N0\": {'wref': 7.91, 'zeropoint': 60.9},\n",
    "    \"MIRLIN N1\": {'wref': 8.81, 'zeropoint': 49.4},\n",
    "    \"MIRLIN N2\": {'wref': 9.69, 'zeropoint': 41.1},\n",
    "    \"MIRLIN N3\": {'wref': 10.27, 'zeropoint': 36.7},\n",
    "    \"MIRLIN N4\": {'wref': 11.70, 'zeropoint': 28.5},\n",
    "    \"MIRLIN N5\": {'wref': 12.49, 'zeropoint': 25.1},\n",
    "    \"MIRLIN Q0\": {'wref': 17.20, 'zeropoint': 13.4},\n",
    "    \"MIRLIN Q1\": {'wref': 17.93, 'zeropoint': 12.3},\n",
    "    \"MIRLIN Q2\": {'wref': 18.64, 'zeropoint': 11.4},\n",
    "    \"MIRLIN Q3\": {'wref': 20.81, 'zeropoint': 9.2},\n",
    "    \"MIRLIN Q4\": {'wref': 22.81, 'zeropoint': 7.7},\n",
    "    \"MIRLIN Q5\": {'wref': 24.48, 'zeropoint': 6.7},\n",
    "    \"MIRLIN K\": {'wref': 2.2, 'zeropoint': 650.0},\n",
    "    \"MIRLIN M\": {'wref': 4.68, 'zeropoint': 165.0},\n",
    "    \"WISE W1\": {'wref': 3.4, 'zeropoint':309.54},\n",
    "    \"WISE W2\": {'wref': 4.6, 'zeropoint':171.787},\n",
    "    \"WISE W3\": {'wref': 12., 'zeropoint':31.674},\n",
    "    \"WISE W4\": {'wref': 22., 'zeropoint':8.363},\n",
    "}"
   ]
  },
  {
   "cell_type": "code",
   "execution_count": 6,
   "metadata": {
    "execution": {
     "iopub.execute_input": "2022-09-20T17:30:17.964706Z",
     "iopub.status.busy": "2022-09-20T17:30:17.964514Z",
     "iopub.status.idle": "2022-09-20T17:30:17.970955Z",
     "shell.execute_reply": "2022-09-20T17:30:17.970497Z"
    }
   },
   "outputs": [],
   "source": [
    "# code from miricap.imager section written by Christophe Cossou of the MIRI EC team.\n",
    "\n",
    "def get_band_info(band, system):\n",
    "    \"\"\"\n",
    "    Retrieve information on a given band in a dictionnary 'band_info' that need to be\n",
    "    available in global variable of the script at this level.\n",
    "    :param str band: Band name (e.g. V for Johnson)\n",
    "    :param str system: possible values: Johnson, 2MASS, UKIRT, MARLIN)\n",
    "    :return: wref in microns and zeropoint in Jy\n",
    "    :rtype: tuple(Quantity, Quantity)\n",
    "    \"\"\"\n",
    "\n",
    "    system_list = [\"Johnson\", \"2MASS\", \"UKIRT\", \"MARLIN\"]\n",
    "\n",
    "    if system not in system_list:\n",
    "        LOG.info(f\"Unknown system '{system}'. Possible values: {system_list}\")\n",
    "        return None, None\n",
    "\n",
    "    key = f\"{system} {band}\"\n",
    "\n",
    "    try:\n",
    "        band_dict = band_info[key]\n",
    "        zeropoint = band_dict[\"zeropoint\"]\n",
    "        wref = band_dict[\"wref\"]\n",
    "    except KeyError:\n",
    "        bands = [k.split()[1] for k in band_info.keys() if system in k]\n",
    "        LOG.info(f\"Unknown band '{band}' for '{system}'. Available bands are: {', '.join(bands)}\")\n",
    "        return None, None\n",
    "\n",
    "    return wref * u.micron, zeropoint * u.Jy\n",
    "\n",
    "\n",
    "\n",
    "def mag2flux(magnitude, band, system=\"Johnson\"):\n",
    "    \"\"\"\n",
    "    Convert magnitude in a given band/system into flux in mJy (and return the corresponding wavelength reference\n",
    "    :param float magnitude: magnitude in a given bandpass\n",
    "    :param str band: band name (e.g 'V' or Johnson system)\n",
    "    :param str system: (By default Johnson, possible values: Johnson, 2MASS, UKIRT, MARLIN)\n",
    "    :return: flux in mJy and wref in microns\n",
    "    :rtype: tuple(float, float)\n",
    "    \"\"\"\n",
    "\n",
    "    wref, zero_point = get_band_info(band, system)\n",
    "\n",
    "    flux = zero_point * 10.0 ** (-0.4 * magnitude)\n",
    "\n",
    "    print(f\"Magnitude {magnitude} in {system} band {band} -> Flux: {flux} at {wref} microns\")\n",
    "\n",
    "    return flux.to(u.mJy).value, wref.value\n",
    "\n",
    "\n",
    "def extrapolate_flux(flux, wref, waves, temperature_star):\n",
    "    \"\"\"\n",
    "    From a flux and reference wavelength, will return the flux for other wavelength\n",
    "    (using the star effective temperature for the spectrum shape)\n",
    "    To convert magnitude flux in a band, use one of the following website for instance:\n",
    "    - http://ssc.spitzer.caltech.edu/warmmission/propkit/pet/magtojy/\n",
    "    - https://www.gemini.edu/sciops/instruments/midir-resources/imaging-calibrations/fluxmagnitude-conversion\n",
    "    :param float flux: Star flux in mJy\n",
    "    :param float wref: reference wavelength (microns) corresponding to the flux given in parameter\n",
    "    :param waves: list of wavelengths you want to extrapolate the star flux on.\n",
    "    :type waves: float or list(float) or np.array(float)\n",
    "    :param float temperature_star: star effective temperature in K\n",
    "    :return: flux values for all required wavelengths. Unit will be the unit of the input flux\n",
    "    :rtype: quantity or np.array(quantity)\n",
    "    \"\"\"\n",
    "    flux = flux * u.mJy\n",
    "    wref = wref * u.micron\n",
    "    waves = waves * u.micron\n",
    "\n",
    "    bb_star = models.BlackBody(temperature_star * u.K)\n",
    "\n",
    "    extrapolated_flux = flux * bb_star(waves) / bb_star(wref)\n",
    "\n",
    "    print(f\"Assuming T={temperature_star} K, Flux: {flux} at {wref} -> Flux: {extrapolated_flux} at {waves}\")\n",
    "\n",
    "    return extrapolated_flux"
   ]
  },
  {
   "cell_type": "markdown",
   "metadata": {},
   "source": [
    "### Print pipeline version number"
   ]
  },
  {
   "cell_type": "code",
   "execution_count": 7,
   "metadata": {
    "execution": {
     "iopub.execute_input": "2022-09-20T17:30:17.973796Z",
     "iopub.status.busy": "2022-09-20T17:30:17.973185Z",
     "iopub.status.idle": "2022-09-20T17:30:17.976375Z",
     "shell.execute_reply": "2022-09-20T17:30:17.975914Z"
    }
   },
   "outputs": [
    {
     "name": "stdout",
     "output_type": "stream",
     "text": [
      "1.7.2\n",
      "<TemporaryDirectory '/internal/data1/jenkins/workspace/Notebooks/jwst_validation_notebooks_spacetelescope/tmp/tmpgy_wbhpf'>\n"
     ]
    }
   ],
   "source": [
    "print(jwst.__version__) \n",
    "print(data_dir)"
   ]
  },
  {
   "cell_type": "markdown",
   "metadata": {},
   "source": [
    "### Read in data "
   ]
  },
  {
   "cell_type": "code",
   "execution_count": 8,
   "metadata": {
    "execution": {
     "iopub.execute_input": "2022-09-20T17:30:17.978965Z",
     "iopub.status.busy": "2022-09-20T17:30:17.978421Z",
     "iopub.status.idle": "2022-09-20T17:30:41.725412Z",
     "shell.execute_reply": "2022-09-20T17:30:41.724822Z"
    }
   },
   "outputs": [],
   "source": [
    "# Read in new dataset from Box\n",
    "\n",
    "def get_box_files(file_list):\n",
    "    for box_url,file_name in file_list:\n",
    "        if 'https' not in box_url:\n",
    "            box_url = 'https://stsci.box.com/shared/static/' + box_url\n",
    "        downloaded_file = download_file(box_url, timeout=600)\n",
    "        if Path(file_name).suffix == '':\n",
    "            ext = splitext(box_url)[1]\n",
    "            file_name += ext\n",
    "        move(downloaded_file, file_name)\n",
    "\n",
    "# Use F560W data set\n",
    "        \n",
    "#file_urls = ['https://stsci.box.com/shared/static/g8ozd2wkdo9klrtkafpe9qegpzhpd66a.fits', \n",
    "#             'https://stsci.box.com/shared/static/ym75nbqdi32t9wnbanm6s57itqixniyc.fits', \n",
    "#             'https://stsci.box.com/shared/static/0bqh6ijsc6kd7cyv6gtnj9kvly9t885f.fits',\n",
    "#             'https://stsci.box.com/shared/static/tywadpqcjhp9yxyv0sy91hc79red92xm.fits',\n",
    "#             'https://stsci.box.com/shared/static/lpcgp7jkq6lmjj2lxpk63jz9u05qgk3a.cat',\n",
    "#             'https://stsci.box.com/shared/static/15j6hkjc28zow4rjepob2t75dl887zs3.cat']\n",
    "\n",
    "#file_names = ['det_image_seq1_MIRIMAGE_F560Wexp1_rate.fits', \n",
    "#             'det_image_seq2_MIRIMAGE_F560Wexp1_rate.fits', \n",
    "#             'det_image_seq3_MIRIMAGE_F560Wexp1_rate.fits',\n",
    "#             'det_image_seq4_MIRIMAGE_F560Wexp1_rate.fits',\n",
    "#             'input_sim_stars.cat',\n",
    "#             'input_sim_galaxies.cat']\n",
    "\n",
    "# Test with F770W data set\n",
    "\n",
    "file_urls = ['https://stsci.box.com/shared/static/8573htf1p8mhk4e49z9b483dp975y3lz.fits',\n",
    "             'https://stsci.box.com/shared/static/p69h7uzlmqwlzf6kqqbf4lu9ibz28tc6.fits',\n",
    "             'https://stsci.box.com/shared/static/js8k6j20rek1oago057wxn08dhuticij.fits',\n",
    "             'https://stsci.box.com/shared/static/es253mc3m1sptusj9c9ctl1blidr1qdl.fits',\n",
    "             'https://stsci.box.com/shared/static/lpcgp7jkq6lmjj2lxpk63jz9u05qgk3a.cat',\n",
    "             'https://stsci.box.com/shared/static/15j6hkjc28zow4rjepob2t75dl887zs3.cat']\n",
    "\n",
    "\n",
    "file_names = ['det_image_seq1_MIRIMAGE_F770Wexp1_rate.fits', \n",
    "             'det_image_seq2_MIRIMAGE_F770Wexp1_rate.fits', \n",
    "             'det_image_seq3_MIRIMAGE_F770Wexp1_rate.fits',\n",
    "             'det_image_seq4_MIRIMAGE_F770Wexp1_rate.fits',\n",
    "             'input_sim_stars.cat',\n",
    "             'input_sim_galaxies.cat']\n",
    "\n",
    "\n",
    "box_download_list = [(url,name) for url,name in zip(file_urls,file_names)]\n",
    "\n",
    "\n",
    "get_box_files(box_download_list)\n"
   ]
  },
  {
   "cell_type": "markdown",
   "metadata": {},
   "source": [
    "<a id=\"pipeline_ID\"></a>\n",
    "## Run Pipelines\n",
    "\n",
    "Read in the data and run the JWST calibration pipelines.\n"
   ]
  },
  {
   "cell_type": "markdown",
   "metadata": {},
   "source": [
    "### Run output of calwebb_detector1 through calwebb_image2"
   ]
  },
  {
   "cell_type": "code",
   "execution_count": 9,
   "metadata": {
    "execution": {
     "iopub.execute_input": "2022-09-20T17:30:41.729377Z",
     "iopub.status.busy": "2022-09-20T17:30:41.728995Z",
     "iopub.status.idle": "2022-09-20T17:30:46.058395Z",
     "shell.execute_reply": "2022-09-20T17:30:46.057340Z"
    }
   },
   "outputs": [
    {
     "name": "stderr",
     "output_type": "stream",
     "text": [
      "2022-09-20 13:30:41,736 - stpipe.Image2Pipeline - INFO - Image2Pipeline instance created.\n"
     ]
    },
    {
     "name": "stderr",
     "output_type": "stream",
     "text": [
      "2022-09-20 13:30:41,739 - stpipe.Image2Pipeline.bkg_subtract - INFO - BackgroundStep instance created.\n"
     ]
    },
    {
     "name": "stderr",
     "output_type": "stream",
     "text": [
      "2022-09-20 13:30:41,740 - stpipe.Image2Pipeline.assign_wcs - INFO - AssignWcsStep instance created.\n"
     ]
    },
    {
     "name": "stderr",
     "output_type": "stream",
     "text": [
      "2022-09-20 13:30:41,741 - stpipe.Image2Pipeline.flat_field - INFO - FlatFieldStep instance created.\n"
     ]
    },
    {
     "name": "stderr",
     "output_type": "stream",
     "text": [
      "2022-09-20 13:30:41,742 - stpipe.Image2Pipeline.photom - INFO - PhotomStep instance created.\n"
     ]
    },
    {
     "name": "stderr",
     "output_type": "stream",
     "text": [
      "2022-09-20 13:30:41,743 - stpipe.Image2Pipeline.resample - INFO - ResampleStep instance created.\n"
     ]
    },
    {
     "name": "stdout",
     "output_type": "stream",
     "text": [
      "There are  4  images.\n"
     ]
    },
    {
     "name": "stderr",
     "output_type": "stream",
     "text": [
      "2022-09-20 13:30:42,915 - stpipe.Image2Pipeline - INFO - Step Image2Pipeline running with args (<ImageModel(1024, 1032) from det_image_seq1_MIRIMAGE_F770Wexp1_rate.fits>,).\n"
     ]
    },
    {
     "name": "stderr",
     "output_type": "stream",
     "text": [
      "2022-09-20 13:30:42,921 - stpipe.Image2Pipeline - INFO - Step Image2Pipeline parameters are: {'pre_hooks': [], 'post_hooks': [], 'output_file': '/internal/data1/jenkins/workspace/Notebooks/jwst_validation_notebooks_spacetelescope/tmp/tmpgy_wbhpf/det_image_seq1_MIRIMAGE_F770Wexp1_rate.fits_cal.fits', 'output_dir': None, 'output_ext': '.fits', 'output_use_model': False, 'output_use_index': True, 'save_results': True, 'skip': False, 'suffix': None, 'search_output_file': True, 'input_dir': '', 'save_bsub': False, 'steps': {'bkg_subtract': {'pre_hooks': [], 'post_hooks': [], 'output_file': None, 'output_dir': None, 'output_ext': '.fits', 'output_use_model': False, 'output_use_index': True, 'save_results': False, 'skip': False, 'suffix': None, 'search_output_file': True, 'input_dir': '', 'save_combined_background': False, 'sigma': 3.0, 'maxiters': None, 'wfss_mmag_extract': None}, 'assign_wcs': {'pre_hooks': [], 'post_hooks': [], 'output_file': None, 'output_dir': None, 'output_ext': '.fits', 'output_use_model': False, 'output_use_index': True, 'save_results': False, 'skip': False, 'suffix': None, 'search_output_file': True, 'input_dir': '', 'sip_approx': True, 'sip_max_pix_error': 0.25, 'sip_degree': None, 'sip_max_inv_pix_error': 0.25, 'sip_inv_degree': None, 'sip_npoints': 32, 'slit_y_low': -0.55, 'slit_y_high': 0.55}, 'flat_field': {'pre_hooks': [], 'post_hooks': [], 'output_file': None, 'output_dir': None, 'output_ext': '.fits', 'output_use_model': False, 'output_use_index': True, 'save_results': False, 'skip': False, 'suffix': None, 'search_output_file': True, 'input_dir': '', 'save_interpolated_flat': False, 'user_supplied_flat': None, 'inverse': False}, 'photom': {'pre_hooks': [], 'post_hooks': [], 'output_file': None, 'output_dir': None, 'output_ext': '.fits', 'output_use_model': False, 'output_use_index': True, 'save_results': False, 'skip': False, 'suffix': None, 'search_output_file': True, 'input_dir': '', 'inverse': False, 'source_type': None}, 'resample': {'pre_hooks': [], 'post_hooks': [], 'output_file': None, 'output_dir': None, 'output_ext': '.fits', 'output_use_model': False, 'output_use_index': True, 'save_results': True, 'skip': False, 'suffix': None, 'search_output_file': True, 'input_dir': '', 'pixfrac': 1.0, 'kernel': 'square', 'fillval': 'INDEF', 'weight_type': 'ivm', 'output_shape': None, 'crpix': None, 'crval': None, 'rotation': None, 'pixel_scale_ratio': 1.0, 'pixel_scale': None, 'single': False, 'blendheaders': True, 'allowed_memory': None, 'in_memory': True}}}\n"
     ]
    },
    {
     "name": "stderr",
     "output_type": "stream",
     "text": [
      "2022-09-20 13:30:42,929 - stpipe.Image2Pipeline - INFO - Prefetching reference files for dataset: 'det_image_seq1_MIRIMAGE_F770Wexp1_rate.fits' reftypes = ['area', 'camera', 'collimator', 'dflat', 'disperser', 'distortion', 'drizpars', 'fflat', 'filteroffset', 'flat', 'fore', 'fpa', 'ifufore', 'ifupost', 'ifuslicer', 'msa', 'ote', 'photom', 'regions', 'sflat', 'specwcs', 'wavelengthrange', 'wfssbkg']\n"
     ]
    },
    {
     "name": "stderr",
     "output_type": "stream",
     "text": [
      "2022-09-20 13:30:44,536 - CRDS - INFO -  Fetching  /tmp/crds_cache/mappings/jwst/jwst_nirspec_superbias_0051.rmap   26.4 K bytes  (1 / 13 files) (0 / 124.3 K bytes)\n"
     ]
    },
    {
     "name": "stderr",
     "output_type": "stream",
     "text": [
      "Traceback (most recent call last):\n",
      "  File \"/internal/data1/jenkins/workspace/Notebooks/jwst_validation_notebooks_spacetelescope/miniconda3/envs/jwst_validation_notebooks/lib/python3.9/site-packages/crds/core/heavy_client.py\", line 347, in local_bestrefs\n",
      "    return hv_best_references(context, parameters, reftypes)\n",
      "  File \"/internal/data1/jenkins/workspace/Notebooks/jwst_validation_notebooks_spacetelescope/miniconda3/envs/jwst_validation_notebooks/lib/python3.9/site-packages/crds/core/heavy_client.py\", line 367, in hv_best_references\n",
      "    ctx = get_symbolic_mapping(context_file, cached=True)\n",
      "  File \"/internal/data1/jenkins/workspace/Notebooks/jwst_validation_notebooks_spacetelescope/miniconda3/envs/jwst_validation_notebooks/lib/python3.9/site-packages/crds/core/heavy_client.py\", line 670, in get_symbolic_mapping\n",
      "    return get_pickled_mapping(   # reviewed\n",
      "  File \"/internal/data1/jenkins/workspace/Notebooks/jwst_validation_notebooks_spacetelescope/miniconda3/envs/jwst_validation_notebooks/lib/python3.9/site-packages/crds/core/utils.py\", line 306, in __call__\n",
      "    key, result = self._readonly(*args, **keys)\n",
      "  File \"/internal/data1/jenkins/workspace/Notebooks/jwst_validation_notebooks_spacetelescope/miniconda3/envs/jwst_validation_notebooks/lib/python3.9/site-packages/crds/core/utils.py\", line 293, in _readonly\n",
      "    return key, self.uncached(*args, **keys)\n",
      "  File \"/internal/data1/jenkins/workspace/Notebooks/jwst_validation_notebooks_spacetelescope/miniconda3/envs/jwst_validation_notebooks/lib/python3.9/site-packages/crds/core/heavy_client.py\", line 695, in get_pickled_mapping\n",
      "    loaded = rmap.asmapping(mapping, cached=cached, **keys)\n",
      "  File \"/internal/data1/jenkins/workspace/Notebooks/jwst_validation_notebooks_spacetelescope/miniconda3/envs/jwst_validation_notebooks/lib/python3.9/site-packages/crds/core/rmap.py\", line 1665, in asmapping\n",
      "    return get_cached_mapping(filename_or_mapping, **keys)\n",
      "  File \"/internal/data1/jenkins/workspace/Notebooks/jwst_validation_notebooks_spacetelescope/miniconda3/envs/jwst_validation_notebooks/lib/python3.9/site-packages/crds/core/rmap.py\", line 1592, in get_cached_mapping\n",
      "    return _load_mapping(mapping, **keys)\n",
      "  File \"/internal/data1/jenkins/workspace/Notebooks/jwst_validation_notebooks_spacetelescope/miniconda3/envs/jwst_validation_notebooks/lib/python3.9/site-packages/crds/core/utils.py\", line 306, in __call__\n",
      "    key, result = self._readonly(*args, **keys)\n",
      "  File \"/internal/data1/jenkins/workspace/Notebooks/jwst_validation_notebooks_spacetelescope/miniconda3/envs/jwst_validation_notebooks/lib/python3.9/site-packages/crds/core/utils.py\", line 293, in _readonly\n",
      "    return key, self.uncached(*args, **keys)\n",
      "  File \"/internal/data1/jenkins/workspace/Notebooks/jwst_validation_notebooks_spacetelescope/miniconda3/envs/jwst_validation_notebooks/lib/python3.9/site-packages/crds/core/rmap.py\", line 1643, in _load_mapping\n",
      "    return cls.from_file(mapping, **keys)\n",
      "  File \"/internal/data1/jenkins/workspace/Notebooks/jwst_validation_notebooks_spacetelescope/miniconda3/envs/jwst_validation_notebooks/lib/python3.9/site-packages/crds/core/rmap.py\", line 266, in from_file\n",
      "    text = utils.get_uri_content(filename)\n",
      "  File \"/internal/data1/jenkins/workspace/Notebooks/jwst_validation_notebooks_spacetelescope/miniconda3/envs/jwst_validation_notebooks/lib/python3.9/site-packages/crds/core/utils.py\", line 737, in get_uri_content\n",
      "    with open(uri, mode) as file:\n",
      "FileNotFoundError: [Errno 2] No such file or directory: '/tmp/crds_cache/mappings/jwst/jwst_0982.pmap'\n",
      "\n",
      "During handling of the above exception, another exception occurred:\n",
      "\n",
      "Traceback (most recent call last):\n",
      "  File \"/internal/data1/jenkins/workspace/Notebooks/jwst_validation_notebooks_spacetelescope/miniconda3/envs/jwst_validation_notebooks/lib/python3.9/site-packages/crds/client/api.py\", line 653, in download\n",
      "    return proxy.apply_with_retries(self.download_core, name, localpath)\n",
      "  File \"/internal/data1/jenkins/workspace/Notebooks/jwst_validation_notebooks_spacetelescope/miniconda3/envs/jwst_validation_notebooks/lib/python3.9/site-packages/crds/client/proxy.py\", line 50, in apply_with_retries\n",
      "    raise exc2\n",
      "  File \"/internal/data1/jenkins/workspace/Notebooks/jwst_validation_notebooks_spacetelescope/miniconda3/envs/jwst_validation_notebooks/lib/python3.9/site-packages/crds/client/proxy.py\", line 44, in apply_with_retries\n",
      "    return func(*pars, **keys)\n",
      "  File \"/internal/data1/jenkins/workspace/Notebooks/jwst_validation_notebooks_spacetelescope/miniconda3/envs/jwst_validation_notebooks/lib/python3.9/site-packages/crds/client/api.py\", line 679, in download_core\n",
      "    self.generator_download(generator, localpath)\n",
      "  File \"/internal/data1/jenkins/workspace/Notebooks/jwst_validation_notebooks_spacetelescope/miniconda3/envs/jwst_validation_notebooks/lib/python3.9/site-packages/crds/client/api.py\", line 684, in generator_download\n",
      "    with open(localpath, \"wb+\") as outfile:\n",
      "OSError: [Errno 28] No space left on device: '/tmp/crds_cache/mappings/jwst/jwst_nirspec_superbias_0051.rmap'\n",
      "\n",
      "The above exception was the direct cause of the following exception:\n",
      "\n",
      "Traceback (most recent call last):\n",
      "  File \"/internal/data1/jenkins/workspace/Notebooks/jwst_validation_notebooks_spacetelescope/miniconda3/envs/jwst_validation_notebooks/lib/python3.9/site-packages/crds/core/heavy_client.py\", line 351, in local_bestrefs\n",
      "    api.dump_mappings(context, ignore_cache=ignore_cache)\n",
      "  File \"/internal/data1/jenkins/workspace/Notebooks/jwst_validation_notebooks_spacetelescope/miniconda3/envs/jwst_validation_notebooks/lib/python3.9/site-packages/crds/client/api.py\", line 778, in dump_mappings\n",
      "    return dump_mappings3(*args, **keys)[0]\n",
      "  File \"/internal/data1/jenkins/workspace/Notebooks/jwst_validation_notebooks_spacetelescope/miniconda3/envs/jwst_validation_notebooks/lib/python3.9/site-packages/crds/client/api.py\", line 771, in dump_mappings3\n",
      "    return FileCacher(pipeline_context, ignore_cache, raise_exceptions).get_local_files(mappings)\n",
      "  File \"/internal/data1/jenkins/workspace/Notebooks/jwst_validation_notebooks_spacetelescope/miniconda3/envs/jwst_validation_notebooks/lib/python3.9/site-packages/crds/client/api.py\", line 594, in get_local_files\n",
      "    n_bytes = self.download_files(downloads, localpaths)\n",
      "  File \"/internal/data1/jenkins/workspace/Notebooks/jwst_validation_notebooks_spacetelescope/miniconda3/envs/jwst_validation_notebooks/lib/python3.9/site-packages/crds/client/api.py\", line 634, in download_files\n",
      "    self.download(name, path)\n",
      "  File \"/internal/data1/jenkins/workspace/Notebooks/jwst_validation_notebooks_spacetelescope/miniconda3/envs/jwst_validation_notebooks/lib/python3.9/site-packages/crds/client/api.py\", line 656, in download\n",
      "    raise CrdsDownloadError(\n",
      "crds.core.exceptions.CrdsDownloadError: Error fetching data for 'jwst_nirspec_superbias_0051.rmap' at CRDS server 'https://jwst-crds.stsci.edu' with mode 'http' : [Errno 28] No space left on device: '/tmp/crds_cache/mappings/jwst/jwst_nirspec_superbias_0051.rmap'\n"
     ]
    },
    {
     "ename": "CrdsDownloadError",
     "evalue": "Failed caching mapping files: Error fetching data for 'jwst_nirspec_superbias_0051.rmap' at CRDS server 'https://jwst-crds.stsci.edu' with mode 'http' : [Errno 28] No space left on device: '/tmp/crds_cache/mappings/jwst/jwst_nirspec_superbias_0051.rmap'",
     "output_type": "error",
     "traceback": [
      "\u001b[0;31m---------------------------------------------------------------------------\u001b[0m",
      "\u001b[0;31mFileNotFoundError\u001b[0m                         Traceback (most recent call last)",
      "File \u001b[0;32m~/miniconda3/envs/jwst_validation_notebooks/lib/python3.9/site-packages/crds/core/heavy_client.py:347\u001b[0m, in \u001b[0;36mlocal_bestrefs\u001b[0;34m(parameters, reftypes, context, ignore_cache)\u001b[0m\n\u001b[1;32m    346\u001b[0m     \u001b[38;5;66;03m# Finally do the best refs computation using pmap methods from local code.\u001b[39;00m\n\u001b[0;32m--> 347\u001b[0m     \u001b[38;5;28;01mreturn\u001b[39;00m \u001b[43mhv_best_references\u001b[49m\u001b[43m(\u001b[49m\u001b[43mcontext\u001b[49m\u001b[43m,\u001b[49m\u001b[43m \u001b[49m\u001b[43mparameters\u001b[49m\u001b[43m,\u001b[49m\u001b[43m \u001b[49m\u001b[43mreftypes\u001b[49m\u001b[43m)\u001b[49m\n\u001b[1;32m    348\u001b[0m \u001b[38;5;28;01mexcept\u001b[39;00m \u001b[38;5;167;01mIOError\u001b[39;00m \u001b[38;5;28;01mas\u001b[39;00m exc:\n",
      "File \u001b[0;32m~/miniconda3/envs/jwst_validation_notebooks/lib/python3.9/site-packages/crds/core/heavy_client.py:367\u001b[0m, in \u001b[0;36mhv_best_references\u001b[0;34m(context_file, header, include, condition)\u001b[0m\n\u001b[1;32m    361\u001b[0m \u001b[38;5;124;03m\"\"\"Compute the best references for `header` for the given CRDS\u001b[39;00m\n\u001b[1;32m    362\u001b[0m \u001b[38;5;124;03m`context_file`.   This is a local computation using local rmaps and\u001b[39;00m\n\u001b[1;32m    363\u001b[0m \u001b[38;5;124;03mCPU resources.   If `include` is None,  return results for all\u001b[39;00m\n\u001b[1;32m    364\u001b[0m \u001b[38;5;124;03mfilekinds appropriate to `header`,  otherwise return only those\u001b[39;00m\n\u001b[1;32m    365\u001b[0m \u001b[38;5;124;03mfilekinds listed in `include`.\u001b[39;00m\n\u001b[1;32m    366\u001b[0m \u001b[38;5;124;03m\"\"\"\u001b[39;00m\n\u001b[0;32m--> 367\u001b[0m ctx \u001b[38;5;241m=\u001b[39m \u001b[43mget_symbolic_mapping\u001b[49m\u001b[43m(\u001b[49m\u001b[43mcontext_file\u001b[49m\u001b[43m,\u001b[49m\u001b[43m \u001b[49m\u001b[43mcached\u001b[49m\u001b[38;5;241;43m=\u001b[39;49m\u001b[38;5;28;43;01mTrue\u001b[39;49;00m\u001b[43m)\u001b[49m\n\u001b[1;32m    368\u001b[0m conditioned \u001b[38;5;241m=\u001b[39m utils\u001b[38;5;241m.\u001b[39mcondition_header(header) \u001b[38;5;28;01mif\u001b[39;00m condition \u001b[38;5;28;01melse\u001b[39;00m header\n",
      "File \u001b[0;32m~/miniconda3/envs/jwst_validation_notebooks/lib/python3.9/site-packages/crds/core/heavy_client.py:670\u001b[0m, in \u001b[0;36mget_symbolic_mapping\u001b[0;34m(mapping, observatory, cached, use_pickles, save_pickles, **keys)\u001b[0m\n\u001b[1;32m    669\u001b[0m abs_mapping \u001b[38;5;241m=\u001b[39m translate_date_based_context(mapping, observatory)\n\u001b[0;32m--> 670\u001b[0m \u001b[38;5;28;01mreturn\u001b[39;00m \u001b[43mget_pickled_mapping\u001b[49m\u001b[43m(\u001b[49m\u001b[43m   \u001b[49m\u001b[38;5;66;43;03m# reviewed\u001b[39;49;00m\n\u001b[1;32m    671\u001b[0m \u001b[43m    \u001b[49m\u001b[43mabs_mapping\u001b[49m\u001b[43m,\u001b[49m\u001b[43m \u001b[49m\u001b[43mcached\u001b[49m\u001b[38;5;241;43m=\u001b[39;49m\u001b[43mcached\u001b[49m\u001b[43m,\u001b[49m\u001b[43m \u001b[49m\u001b[43muse_pickles\u001b[49m\u001b[38;5;241;43m=\u001b[39;49m\u001b[43muse_pickles\u001b[49m\u001b[43m,\u001b[49m\u001b[43m \u001b[49m\u001b[43msave_pickles\u001b[49m\u001b[38;5;241;43m=\u001b[39;49m\u001b[43msave_pickles\u001b[49m\u001b[43m,\u001b[49m\u001b[43m \u001b[49m\u001b[38;5;241;43m*\u001b[39;49m\u001b[38;5;241;43m*\u001b[39;49m\u001b[43mkeys\u001b[49m\u001b[43m)\u001b[49m\n",
      "File \u001b[0;32m~/miniconda3/envs/jwst_validation_notebooks/lib/python3.9/site-packages/crds/core/utils.py:306\u001b[0m, in \u001b[0;36mCachedFunction.__call__\u001b[0;34m(self, *args, **keys)\u001b[0m\n\u001b[1;32m    303\u001b[0m \u001b[38;5;124;03m\"\"\"Compute or fetch func(*args, **keys).  Add the result to the cache.\u001b[39;00m\n\u001b[1;32m    304\u001b[0m \u001b[38;5;124;03mreturn func(*args, **keys)\u001b[39;00m\n\u001b[1;32m    305\u001b[0m \u001b[38;5;124;03m\"\"\"\u001b[39;00m\n\u001b[0;32m--> 306\u001b[0m key, result \u001b[38;5;241m=\u001b[39m \u001b[38;5;28;43mself\u001b[39;49m\u001b[38;5;241;43m.\u001b[39;49m\u001b[43m_readonly\u001b[49m\u001b[43m(\u001b[49m\u001b[38;5;241;43m*\u001b[39;49m\u001b[43margs\u001b[49m\u001b[43m,\u001b[49m\u001b[43m \u001b[49m\u001b[38;5;241;43m*\u001b[39;49m\u001b[38;5;241;43m*\u001b[39;49m\u001b[43mkeys\u001b[49m\u001b[43m)\u001b[49m\n\u001b[1;32m    307\u001b[0m \u001b[38;5;28mself\u001b[39m\u001b[38;5;241m.\u001b[39mcache[key] \u001b[38;5;241m=\u001b[39m result\n",
      "File \u001b[0;32m~/miniconda3/envs/jwst_validation_notebooks/lib/python3.9/site-packages/crds/core/utils.py:293\u001b[0m, in \u001b[0;36mCachedFunction._readonly\u001b[0;34m(self, *args, **keys)\u001b[0m\n\u001b[1;32m    292\u001b[0m log\u001b[38;5;241m.\u001b[39mverbose(\u001b[38;5;124m\"\u001b[39m\u001b[38;5;124mUncached call\u001b[39m\u001b[38;5;124m\"\u001b[39m, \u001b[38;5;28mself\u001b[39m\u001b[38;5;241m.\u001b[39muncached\u001b[38;5;241m.\u001b[39m\u001b[38;5;18m__name__\u001b[39m, \u001b[38;5;28mrepr\u001b[39m(key), verbosity\u001b[38;5;241m=\u001b[39m\u001b[38;5;241m80\u001b[39m)\n\u001b[0;32m--> 293\u001b[0m \u001b[38;5;28;01mreturn\u001b[39;00m key, \u001b[38;5;28;43mself\u001b[39;49m\u001b[38;5;241;43m.\u001b[39;49m\u001b[43muncached\u001b[49m\u001b[43m(\u001b[49m\u001b[38;5;241;43m*\u001b[39;49m\u001b[43margs\u001b[49m\u001b[43m,\u001b[49m\u001b[43m \u001b[49m\u001b[38;5;241;43m*\u001b[39;49m\u001b[38;5;241;43m*\u001b[39;49m\u001b[43mkeys\u001b[49m\u001b[43m)\u001b[49m\n",
      "File \u001b[0;32m~/miniconda3/envs/jwst_validation_notebooks/lib/python3.9/site-packages/crds/core/heavy_client.py:695\u001b[0m, in \u001b[0;36mget_pickled_mapping\u001b[0;34m(mapping, cached, use_pickles, save_pickles, **keys)\u001b[0m\n\u001b[1;32m    694\u001b[0m \u001b[38;5;28;01melse\u001b[39;00m:\n\u001b[0;32m--> 695\u001b[0m     loaded \u001b[38;5;241m=\u001b[39m \u001b[43mrmap\u001b[49m\u001b[38;5;241;43m.\u001b[39;49m\u001b[43masmapping\u001b[49m\u001b[43m(\u001b[49m\u001b[43mmapping\u001b[49m\u001b[43m,\u001b[49m\u001b[43m \u001b[49m\u001b[43mcached\u001b[49m\u001b[38;5;241;43m=\u001b[39;49m\u001b[43mcached\u001b[49m\u001b[43m,\u001b[49m\u001b[43m \u001b[49m\u001b[38;5;241;43m*\u001b[39;49m\u001b[38;5;241;43m*\u001b[39;49m\u001b[43mkeys\u001b[49m\u001b[43m)\u001b[49m\n\u001b[1;32m    696\u001b[0m \u001b[38;5;28;01mreturn\u001b[39;00m loaded\n",
      "File \u001b[0;32m~/miniconda3/envs/jwst_validation_notebooks/lib/python3.9/site-packages/crds/core/rmap.py:1665\u001b[0m, in \u001b[0;36masmapping\u001b[0;34m(filename_or_mapping, cached, **keys)\u001b[0m\n\u001b[1;32m   1664\u001b[0m \u001b[38;5;28;01melif\u001b[39;00m cached \u001b[38;5;129;01min\u001b[39;00m [\u001b[38;5;28;01mTrue\u001b[39;00m, \u001b[38;5;124m\"\u001b[39m\u001b[38;5;124mcached\u001b[39m\u001b[38;5;124m\"\u001b[39m]:\n\u001b[0;32m-> 1665\u001b[0m     \u001b[38;5;28;01mreturn\u001b[39;00m \u001b[43mget_cached_mapping\u001b[49m\u001b[43m(\u001b[49m\u001b[43mfilename_or_mapping\u001b[49m\u001b[43m,\u001b[49m\u001b[43m \u001b[49m\u001b[38;5;241;43m*\u001b[39;49m\u001b[38;5;241;43m*\u001b[39;49m\u001b[43mkeys\u001b[49m\u001b[43m)\u001b[49m\n\u001b[1;32m   1666\u001b[0m \u001b[38;5;28;01melif\u001b[39;00m cached \u001b[38;5;241m==\u001b[39m \u001b[38;5;124m\"\u001b[39m\u001b[38;5;124mreadonly\u001b[39m\u001b[38;5;124m\"\u001b[39m:\n",
      "File \u001b[0;32m~/miniconda3/envs/jwst_validation_notebooks/lib/python3.9/site-packages/crds/core/rmap.py:1592\u001b[0m, in \u001b[0;36mget_cached_mapping\u001b[0;34m(mapping, **keys)\u001b[0m\n\u001b[1;32m   1591\u001b[0m keys[\u001b[38;5;124m\"\u001b[39m\u001b[38;5;124mloader\u001b[39m\u001b[38;5;124m\"\u001b[39m] \u001b[38;5;241m=\u001b[39m get_cached_mapping\n\u001b[0;32m-> 1592\u001b[0m \u001b[38;5;28;01mreturn\u001b[39;00m \u001b[43m_load_mapping\u001b[49m\u001b[43m(\u001b[49m\u001b[43mmapping\u001b[49m\u001b[43m,\u001b[49m\u001b[43m \u001b[49m\u001b[38;5;241;43m*\u001b[39;49m\u001b[38;5;241;43m*\u001b[39;49m\u001b[43mkeys\u001b[49m\u001b[43m)\u001b[49m\n",
      "File \u001b[0;32m~/miniconda3/envs/jwst_validation_notebooks/lib/python3.9/site-packages/crds/core/utils.py:306\u001b[0m, in \u001b[0;36mCachedFunction.__call__\u001b[0;34m(self, *args, **keys)\u001b[0m\n\u001b[1;32m    303\u001b[0m \u001b[38;5;124;03m\"\"\"Compute or fetch func(*args, **keys).  Add the result to the cache.\u001b[39;00m\n\u001b[1;32m    304\u001b[0m \u001b[38;5;124;03mreturn func(*args, **keys)\u001b[39;00m\n\u001b[1;32m    305\u001b[0m \u001b[38;5;124;03m\"\"\"\u001b[39;00m\n\u001b[0;32m--> 306\u001b[0m key, result \u001b[38;5;241m=\u001b[39m \u001b[38;5;28;43mself\u001b[39;49m\u001b[38;5;241;43m.\u001b[39;49m\u001b[43m_readonly\u001b[49m\u001b[43m(\u001b[49m\u001b[38;5;241;43m*\u001b[39;49m\u001b[43margs\u001b[49m\u001b[43m,\u001b[49m\u001b[43m \u001b[49m\u001b[38;5;241;43m*\u001b[39;49m\u001b[38;5;241;43m*\u001b[39;49m\u001b[43mkeys\u001b[49m\u001b[43m)\u001b[49m\n\u001b[1;32m    307\u001b[0m \u001b[38;5;28mself\u001b[39m\u001b[38;5;241m.\u001b[39mcache[key] \u001b[38;5;241m=\u001b[39m result\n",
      "File \u001b[0;32m~/miniconda3/envs/jwst_validation_notebooks/lib/python3.9/site-packages/crds/core/utils.py:293\u001b[0m, in \u001b[0;36mCachedFunction._readonly\u001b[0;34m(self, *args, **keys)\u001b[0m\n\u001b[1;32m    292\u001b[0m log\u001b[38;5;241m.\u001b[39mverbose(\u001b[38;5;124m\"\u001b[39m\u001b[38;5;124mUncached call\u001b[39m\u001b[38;5;124m\"\u001b[39m, \u001b[38;5;28mself\u001b[39m\u001b[38;5;241m.\u001b[39muncached\u001b[38;5;241m.\u001b[39m\u001b[38;5;18m__name__\u001b[39m, \u001b[38;5;28mrepr\u001b[39m(key), verbosity\u001b[38;5;241m=\u001b[39m\u001b[38;5;241m80\u001b[39m)\n\u001b[0;32m--> 293\u001b[0m \u001b[38;5;28;01mreturn\u001b[39;00m key, \u001b[38;5;28;43mself\u001b[39;49m\u001b[38;5;241;43m.\u001b[39;49m\u001b[43muncached\u001b[49m\u001b[43m(\u001b[49m\u001b[38;5;241;43m*\u001b[39;49m\u001b[43margs\u001b[49m\u001b[43m,\u001b[49m\u001b[43m \u001b[49m\u001b[38;5;241;43m*\u001b[39;49m\u001b[38;5;241;43m*\u001b[39;49m\u001b[43mkeys\u001b[49m\u001b[43m)\u001b[49m\n",
      "File \u001b[0;32m~/miniconda3/envs/jwst_validation_notebooks/lib/python3.9/site-packages/crds/core/rmap.py:1643\u001b[0m, in \u001b[0;36m_load_mapping\u001b[0;34m(mapping, **keys)\u001b[0m\n\u001b[1;32m   1642\u001b[0m \u001b[38;5;28;01melse\u001b[39;00m:\n\u001b[0;32m-> 1643\u001b[0m     \u001b[38;5;28;01mreturn\u001b[39;00m \u001b[38;5;28;43mcls\u001b[39;49m\u001b[38;5;241;43m.\u001b[39;49m\u001b[43mfrom_file\u001b[49m\u001b[43m(\u001b[49m\u001b[43mmapping\u001b[49m\u001b[43m,\u001b[49m\u001b[43m \u001b[49m\u001b[38;5;241;43m*\u001b[39;49m\u001b[38;5;241;43m*\u001b[39;49m\u001b[43mkeys\u001b[49m\u001b[43m)\u001b[49m\n",
      "File \u001b[0;32m~/miniconda3/envs/jwst_validation_notebooks/lib/python3.9/site-packages/crds/core/rmap.py:266\u001b[0m, in \u001b[0;36mMapping.from_file\u001b[0;34m(cls, basename, *args, **keys)\u001b[0m\n\u001b[1;32m    265\u001b[0m     filename \u001b[38;5;241m=\u001b[39m config\u001b[38;5;241m.\u001b[39mlocate_mapping(basename)\n\u001b[0;32m--> 266\u001b[0m text \u001b[38;5;241m=\u001b[39m \u001b[43mutils\u001b[49m\u001b[38;5;241;43m.\u001b[39;49m\u001b[43mget_uri_content\u001b[49m\u001b[43m(\u001b[49m\u001b[43mfilename\u001b[49m\u001b[43m)\u001b[49m\n\u001b[1;32m    267\u001b[0m \u001b[38;5;28;01mreturn\u001b[39;00m \u001b[38;5;28mcls\u001b[39m\u001b[38;5;241m.\u001b[39mfrom_string(text, basename, \u001b[38;5;241m*\u001b[39margs, \u001b[38;5;241m*\u001b[39m\u001b[38;5;241m*\u001b[39mkeys)\n",
      "File \u001b[0;32m~/miniconda3/envs/jwst_validation_notebooks/lib/python3.9/site-packages/crds/core/utils.py:737\u001b[0m, in \u001b[0;36mget_uri_content\u001b[0;34m(uri, mode)\u001b[0m\n\u001b[1;32m    736\u001b[0m mode \u001b[38;5;241m=\u001b[39m \u001b[38;5;124m\"\u001b[39m\u001b[38;5;124mr\u001b[39m\u001b[38;5;124m\"\u001b[39m \u001b[38;5;28;01mif\u001b[39;00m (mode\u001b[38;5;241m==\u001b[39m\u001b[38;5;124m\"\u001b[39m\u001b[38;5;124mtext\u001b[39m\u001b[38;5;124m\"\u001b[39m) \u001b[38;5;28;01melse\u001b[39;00m \u001b[38;5;124m\"\u001b[39m\u001b[38;5;124mrb\u001b[39m\u001b[38;5;124m\"\u001b[39m\n\u001b[0;32m--> 737\u001b[0m \u001b[38;5;28;01mwith\u001b[39;00m \u001b[38;5;28;43mopen\u001b[39;49m\u001b[43m(\u001b[49m\u001b[43muri\u001b[49m\u001b[43m,\u001b[49m\u001b[43m \u001b[49m\u001b[43mmode\u001b[49m\u001b[43m)\u001b[49m \u001b[38;5;28;01mas\u001b[39;00m file:\n\u001b[1;32m    738\u001b[0m     \u001b[38;5;28;01mreturn\u001b[39;00m file\u001b[38;5;241m.\u001b[39mread()\n",
      "\u001b[0;31mFileNotFoundError\u001b[0m: [Errno 2] No such file or directory: '/tmp/crds_cache/mappings/jwst/jwst_0982.pmap'",
      "\nDuring handling of the above exception, another exception occurred:\n",
      "\u001b[0;31mOSError\u001b[0m                                   Traceback (most recent call last)",
      "File \u001b[0;32m~/miniconda3/envs/jwst_validation_notebooks/lib/python3.9/site-packages/crds/client/api.py:653\u001b[0m, in \u001b[0;36mFileCacher.download\u001b[0;34m(self, name, localpath)\u001b[0m\n\u001b[1;32m    652\u001b[0m     utils\u001b[38;5;241m.\u001b[39mensure_dir_exists(localpath)\n\u001b[0;32m--> 653\u001b[0m     \u001b[38;5;28;01mreturn\u001b[39;00m \u001b[43mproxy\u001b[49m\u001b[38;5;241;43m.\u001b[39;49m\u001b[43mapply_with_retries\u001b[49m\u001b[43m(\u001b[49m\u001b[38;5;28;43mself\u001b[39;49m\u001b[38;5;241;43m.\u001b[39;49m\u001b[43mdownload_core\u001b[49m\u001b[43m,\u001b[49m\u001b[43m \u001b[49m\u001b[43mname\u001b[49m\u001b[43m,\u001b[49m\u001b[43m \u001b[49m\u001b[43mlocalpath\u001b[49m\u001b[43m)\u001b[49m\n\u001b[1;32m    654\u001b[0m \u001b[38;5;28;01mexcept\u001b[39;00m \u001b[38;5;167;01mException\u001b[39;00m \u001b[38;5;28;01mas\u001b[39;00m exc:\n",
      "File \u001b[0;32m~/miniconda3/envs/jwst_validation_notebooks/lib/python3.9/site-packages/crds/client/proxy.py:50\u001b[0m, in \u001b[0;36mapply_with_retries\u001b[0;34m(func, *pars, **keys)\u001b[0m\n\u001b[1;32m     49\u001b[0m         exc2 \u001b[38;5;241m=\u001b[39m exc\n\u001b[0;32m---> 50\u001b[0m \u001b[38;5;28;01mraise\u001b[39;00m exc2\n",
      "File \u001b[0;32m~/miniconda3/envs/jwst_validation_notebooks/lib/python3.9/site-packages/crds/client/proxy.py:44\u001b[0m, in \u001b[0;36mapply_with_retries\u001b[0;34m(func, *pars, **keys)\u001b[0m\n\u001b[1;32m     43\u001b[0m \u001b[38;5;28;01mtry\u001b[39;00m:\n\u001b[0;32m---> 44\u001b[0m     \u001b[38;5;28;01mreturn\u001b[39;00m \u001b[43mfunc\u001b[49m\u001b[43m(\u001b[49m\u001b[38;5;241;43m*\u001b[39;49m\u001b[43mpars\u001b[49m\u001b[43m,\u001b[49m\u001b[43m \u001b[49m\u001b[38;5;241;43m*\u001b[39;49m\u001b[38;5;241;43m*\u001b[39;49m\u001b[43mkeys\u001b[49m\u001b[43m)\u001b[49m\n\u001b[1;32m     45\u001b[0m \u001b[38;5;28;01mexcept\u001b[39;00m \u001b[38;5;167;01mException\u001b[39;00m \u001b[38;5;28;01mas\u001b[39;00m exc:\n",
      "File \u001b[0;32m~/miniconda3/envs/jwst_validation_notebooks/lib/python3.9/site-packages/crds/client/api.py:679\u001b[0m, in \u001b[0;36mFileCacher.download_core\u001b[0;34m(self, name, localpath)\u001b[0m\n\u001b[1;32m    678\u001b[0m     generator \u001b[38;5;241m=\u001b[39m \u001b[38;5;28mself\u001b[39m\u001b[38;5;241m.\u001b[39mget_data_http(name)\n\u001b[0;32m--> 679\u001b[0m     \u001b[38;5;28;43mself\u001b[39;49m\u001b[38;5;241;43m.\u001b[39;49m\u001b[43mgenerator_download\u001b[49m\u001b[43m(\u001b[49m\u001b[43mgenerator\u001b[49m\u001b[43m,\u001b[49m\u001b[43m \u001b[49m\u001b[43mlocalpath\u001b[49m\u001b[43m)\u001b[49m\n\u001b[1;32m    680\u001b[0m \u001b[38;5;28mself\u001b[39m\u001b[38;5;241m.\u001b[39mverify_file(name, localpath)\n",
      "File \u001b[0;32m~/miniconda3/envs/jwst_validation_notebooks/lib/python3.9/site-packages/crds/client/api.py:684\u001b[0m, in \u001b[0;36mFileCacher.generator_download\u001b[0;34m(self, generator, localpath)\u001b[0m\n\u001b[1;32m    683\u001b[0m \u001b[38;5;124;03m\"\"\"Read all bytes from `generator` until file is downloaded to `localpath.`\"\"\"\u001b[39;00m\n\u001b[0;32m--> 684\u001b[0m \u001b[38;5;28;01mwith\u001b[39;00m \u001b[38;5;28;43mopen\u001b[39;49m\u001b[43m(\u001b[49m\u001b[43mlocalpath\u001b[49m\u001b[43m,\u001b[49m\u001b[43m \u001b[49m\u001b[38;5;124;43m\"\u001b[39;49m\u001b[38;5;124;43mwb+\u001b[39;49m\u001b[38;5;124;43m\"\u001b[39;49m\u001b[43m)\u001b[49m \u001b[38;5;28;01mas\u001b[39;00m outfile:\n\u001b[1;32m    685\u001b[0m     \u001b[38;5;28;01mfor\u001b[39;00m data \u001b[38;5;129;01min\u001b[39;00m generator:\n",
      "\u001b[0;31mOSError\u001b[0m: [Errno 28] No space left on device: '/tmp/crds_cache/mappings/jwst/jwst_nirspec_superbias_0051.rmap'",
      "\nThe above exception was the direct cause of the following exception:\n",
      "\u001b[0;31mCrdsDownloadError\u001b[0m                         Traceback (most recent call last)",
      "File \u001b[0;32m~/miniconda3/envs/jwst_validation_notebooks/lib/python3.9/site-packages/crds/core/heavy_client.py:351\u001b[0m, in \u001b[0;36mlocal_bestrefs\u001b[0;34m(parameters, reftypes, context, ignore_cache)\u001b[0m\n\u001b[1;32m    350\u001b[0m \u001b[38;5;28;01mtry\u001b[39;00m:\n\u001b[0;32m--> 351\u001b[0m     \u001b[43mapi\u001b[49m\u001b[38;5;241;43m.\u001b[39;49m\u001b[43mdump_mappings\u001b[49m\u001b[43m(\u001b[49m\u001b[43mcontext\u001b[49m\u001b[43m,\u001b[49m\u001b[43m \u001b[49m\u001b[43mignore_cache\u001b[49m\u001b[38;5;241;43m=\u001b[39;49m\u001b[43mignore_cache\u001b[49m\u001b[43m)\u001b[49m\n\u001b[1;32m    352\u001b[0m \u001b[38;5;28;01mexcept\u001b[39;00m CrdsError \u001b[38;5;28;01mas\u001b[39;00m exc:\n",
      "File \u001b[0;32m~/miniconda3/envs/jwst_validation_notebooks/lib/python3.9/site-packages/crds/client/api.py:778\u001b[0m, in \u001b[0;36mdump_mappings\u001b[0;34m(*args, **keys)\u001b[0m\n\u001b[1;32m    774\u001b[0m \u001b[38;5;124;03m\"\"\"See dump_mappings3.\u001b[39;00m\n\u001b[1;32m    775\u001b[0m \n\u001b[1;32m    776\u001b[0m \u001b[38;5;124;03mReturns { mapping_basename :   mapping_local_filepath ... }\u001b[39;00m\n\u001b[1;32m    777\u001b[0m \u001b[38;5;124;03m\"\"\"\u001b[39;00m\n\u001b[0;32m--> 778\u001b[0m \u001b[38;5;28;01mreturn\u001b[39;00m \u001b[43mdump_mappings3\u001b[49m\u001b[43m(\u001b[49m\u001b[38;5;241;43m*\u001b[39;49m\u001b[43margs\u001b[49m\u001b[43m,\u001b[49m\u001b[43m \u001b[49m\u001b[38;5;241;43m*\u001b[39;49m\u001b[38;5;241;43m*\u001b[39;49m\u001b[43mkeys\u001b[49m\u001b[43m)\u001b[49m[\u001b[38;5;241m0\u001b[39m]\n",
      "File \u001b[0;32m~/miniconda3/envs/jwst_validation_notebooks/lib/python3.9/site-packages/crds/client/api.py:771\u001b[0m, in \u001b[0;36mdump_mappings3\u001b[0;34m(pipeline_context, ignore_cache, mappings, raise_exceptions)\u001b[0m\n\u001b[1;32m    770\u001b[0m mappings \u001b[38;5;241m=\u001b[39m \u001b[38;5;28mlist\u001b[39m(\u001b[38;5;28mreversed\u001b[39m(\u001b[38;5;28msorted\u001b[39m(\u001b[38;5;28mset\u001b[39m(mappings))))\n\u001b[0;32m--> 771\u001b[0m \u001b[38;5;28;01mreturn\u001b[39;00m \u001b[43mFileCacher\u001b[49m\u001b[43m(\u001b[49m\u001b[43mpipeline_context\u001b[49m\u001b[43m,\u001b[49m\u001b[43m \u001b[49m\u001b[43mignore_cache\u001b[49m\u001b[43m,\u001b[49m\u001b[43m \u001b[49m\u001b[43mraise_exceptions\u001b[49m\u001b[43m)\u001b[49m\u001b[38;5;241;43m.\u001b[39;49m\u001b[43mget_local_files\u001b[49m\u001b[43m(\u001b[49m\u001b[43mmappings\u001b[49m\u001b[43m)\u001b[49m\n",
      "File \u001b[0;32m~/miniconda3/envs/jwst_validation_notebooks/lib/python3.9/site-packages/crds/client/api.py:594\u001b[0m, in \u001b[0;36mFileCacher.get_local_files\u001b[0;34m(self, names)\u001b[0m\n\u001b[1;32m    593\u001b[0m \u001b[38;5;28;01mif\u001b[39;00m downloads:\n\u001b[0;32m--> 594\u001b[0m     n_bytes \u001b[38;5;241m=\u001b[39m \u001b[38;5;28;43mself\u001b[39;49m\u001b[38;5;241;43m.\u001b[39;49m\u001b[43mdownload_files\u001b[49m\u001b[43m(\u001b[49m\u001b[43mdownloads\u001b[49m\u001b[43m,\u001b[49m\u001b[43m \u001b[49m\u001b[43mlocalpaths\u001b[49m\u001b[43m)\u001b[49m\n\u001b[1;32m    595\u001b[0m \u001b[38;5;28;01melse\u001b[39;00m:\n",
      "File \u001b[0;32m~/miniconda3/envs/jwst_validation_notebooks/lib/python3.9/site-packages/crds/client/api.py:634\u001b[0m, in \u001b[0;36mFileCacher.download_files\u001b[0;34m(self, downloads, localpaths)\u001b[0m\n\u001b[1;32m    633\u001b[0m log\u001b[38;5;241m.\u001b[39minfo(file_progress(\u001b[38;5;124m\"\u001b[39m\u001b[38;5;124mFetching\u001b[39m\u001b[38;5;124m\"\u001b[39m, name, path, \u001b[38;5;28mbytes\u001b[39m, bytes_so_far, total_bytes, nth_file, total_files))\n\u001b[0;32m--> 634\u001b[0m \u001b[38;5;28;43mself\u001b[39;49m\u001b[38;5;241;43m.\u001b[39;49m\u001b[43mdownload\u001b[49m\u001b[43m(\u001b[49m\u001b[43mname\u001b[49m\u001b[43m,\u001b[49m\u001b[43m \u001b[49m\u001b[43mpath\u001b[49m\u001b[43m)\u001b[49m\n\u001b[1;32m    635\u001b[0m bytes_so_far \u001b[38;5;241m+\u001b[39m\u001b[38;5;241m=\u001b[39m os\u001b[38;5;241m.\u001b[39mstat(path)\u001b[38;5;241m.\u001b[39mst_size\n",
      "File \u001b[0;32m~/miniconda3/envs/jwst_validation_notebooks/lib/python3.9/site-packages/crds/client/api.py:656\u001b[0m, in \u001b[0;36mFileCacher.download\u001b[0;34m(self, name, localpath)\u001b[0m\n\u001b[1;32m    655\u001b[0m     \u001b[38;5;28mself\u001b[39m\u001b[38;5;241m.\u001b[39mremove_file(localpath)\n\u001b[0;32m--> 656\u001b[0m     \u001b[38;5;28;01mraise\u001b[39;00m CrdsDownloadError(\n\u001b[1;32m    657\u001b[0m         \u001b[38;5;124m\"\u001b[39m\u001b[38;5;124mError fetching data for\u001b[39m\u001b[38;5;124m\"\u001b[39m, srepr(name),\n\u001b[1;32m    658\u001b[0m         \u001b[38;5;124m\"\u001b[39m\u001b[38;5;124mat CRDS server\u001b[39m\u001b[38;5;124m\"\u001b[39m, srepr(get_crds_server()),\n\u001b[1;32m    659\u001b[0m         \u001b[38;5;124m\"\u001b[39m\u001b[38;5;124mwith mode\u001b[39m\u001b[38;5;124m\"\u001b[39m, srepr(config\u001b[38;5;241m.\u001b[39mget_download_mode()),\n\u001b[1;32m    660\u001b[0m         \u001b[38;5;124m\"\u001b[39m\u001b[38;5;124m:\u001b[39m\u001b[38;5;124m\"\u001b[39m, \u001b[38;5;28mstr\u001b[39m(exc)) \u001b[38;5;28;01mfrom\u001b[39;00m \u001b[38;5;21;01mexc\u001b[39;00m\n\u001b[1;32m    661\u001b[0m \u001b[38;5;28;01mexcept\u001b[39;00m:  \u001b[38;5;66;03m#  mainly for control-c,  catch it and throw it.\u001b[39;00m\n",
      "\u001b[0;31mCrdsDownloadError\u001b[0m: Error fetching data for 'jwst_nirspec_superbias_0051.rmap' at CRDS server 'https://jwst-crds.stsci.edu' with mode 'http' : [Errno 28] No space left on device: '/tmp/crds_cache/mappings/jwst/jwst_nirspec_superbias_0051.rmap'",
      "\nThe above exception was the direct cause of the following exception:\n",
      "\u001b[0;31mCrdsDownloadError\u001b[0m                         Traceback (most recent call last)",
      "Cell \u001b[0;32mIn [9], line 21\u001b[0m\n\u001b[1;32m     18\u001b[0m     pipe2\u001b[38;5;241m.\u001b[39mresample\u001b[38;5;241m.\u001b[39msave_results \u001b[38;5;241m=\u001b[39m \u001b[38;5;28;01mTrue\u001b[39;00m\n\u001b[1;32m     19\u001b[0m     pipe2\u001b[38;5;241m.\u001b[39msuffix \u001b[38;5;241m=\u001b[39m \u001b[38;5;28;01mNone\u001b[39;00m\n\u001b[0;32m---> 21\u001b[0m     calfile \u001b[38;5;241m=\u001b[39m \u001b[43mpipe2\u001b[49m\u001b[38;5;241;43m.\u001b[39;49m\u001b[43mrun\u001b[49m\u001b[43m(\u001b[49m\u001b[43mrampfile\u001b[49m\u001b[43m)\u001b[49m\n\u001b[1;32m     23\u001b[0m     callist\u001b[38;5;241m.\u001b[39mappend(calfile)\n\u001b[1;32m     25\u001b[0m \u001b[38;5;28mprint\u001b[39m(callist)\n",
      "File \u001b[0;32m~/miniconda3/envs/jwst_validation_notebooks/lib/python3.9/site-packages/stpipe/step.py:481\u001b[0m, in \u001b[0;36mStep.run\u001b[0;34m(self, *args)\u001b[0m\n\u001b[1;32m    479\u001b[0m \u001b[38;5;28;01melse\u001b[39;00m:\n\u001b[1;32m    480\u001b[0m     \u001b[38;5;28;01mif\u001b[39;00m \u001b[38;5;28mself\u001b[39m\u001b[38;5;241m.\u001b[39mprefetch_references:\n\u001b[0;32m--> 481\u001b[0m         \u001b[38;5;28;43mself\u001b[39;49m\u001b[38;5;241;43m.\u001b[39;49m\u001b[43mprefetch\u001b[49m\u001b[43m(\u001b[49m\u001b[38;5;241;43m*\u001b[39;49m\u001b[43margs\u001b[49m\u001b[43m)\u001b[49m\n\u001b[1;32m    482\u001b[0m     \u001b[38;5;28;01mtry\u001b[39;00m:\n\u001b[1;32m    483\u001b[0m         step_result \u001b[38;5;241m=\u001b[39m \u001b[38;5;28mself\u001b[39m\u001b[38;5;241m.\u001b[39mprocess(\u001b[38;5;241m*\u001b[39margs)\n",
      "File \u001b[0;32m~/miniconda3/envs/jwst_validation_notebooks/lib/python3.9/site-packages/stpipe/step.py:598\u001b[0m, in \u001b[0;36mStep.prefetch\u001b[0;34m(self, *args)\u001b[0m\n\u001b[1;32m    596\u001b[0m \u001b[38;5;66;03m# prefetch truly occurs at the Pipeline (or subclass) level.\u001b[39;00m\n\u001b[1;32m    597\u001b[0m \u001b[38;5;28;01mif\u001b[39;00m \u001b[38;5;28mlen\u001b[39m(args) \u001b[38;5;129;01mand\u001b[39;00m \u001b[38;5;28mlen\u001b[39m(\u001b[38;5;28mself\u001b[39m\u001b[38;5;241m.\u001b[39mreference_file_types) \u001b[38;5;129;01mand\u001b[39;00m \u001b[38;5;129;01mnot\u001b[39;00m \u001b[38;5;28mself\u001b[39m\u001b[38;5;241m.\u001b[39mskip:\n\u001b[0;32m--> 598\u001b[0m     \u001b[38;5;28;43mself\u001b[39;49m\u001b[38;5;241;43m.\u001b[39;49m\u001b[43m_precache_references\u001b[49m\u001b[43m(\u001b[49m\u001b[43margs\u001b[49m\u001b[43m[\u001b[49m\u001b[38;5;241;43m0\u001b[39;49m\u001b[43m]\u001b[49m\u001b[43m)\u001b[49m\n",
      "File \u001b[0;32m~/miniconda3/envs/jwst_validation_notebooks/lib/python3.9/site-packages/stpipe/pipeline.py:313\u001b[0m, in \u001b[0;36mPipeline._precache_references\u001b[0;34m(self, input_file)\u001b[0m\n\u001b[1;32m    310\u001b[0m \u001b[38;5;28;01mtry\u001b[39;00m:\n\u001b[1;32m    311\u001b[0m     \u001b[38;5;28;01mwith\u001b[39;00m \u001b[38;5;28mself\u001b[39m\u001b[38;5;241m.\u001b[39mopen_model(input_file, asn_n_members\u001b[38;5;241m=\u001b[39m\u001b[38;5;241m1\u001b[39m,\n\u001b[1;32m    312\u001b[0m                         asn_exptypes\u001b[38;5;241m=\u001b[39m[\u001b[38;5;124m\"\u001b[39m\u001b[38;5;124mscience\u001b[39m\u001b[38;5;124m\"\u001b[39m]) \u001b[38;5;28;01mas\u001b[39;00m model:\n\u001b[0;32m--> 313\u001b[0m         \u001b[38;5;28;43mself\u001b[39;49m\u001b[38;5;241;43m.\u001b[39;49m\u001b[43m_precache_references_opened\u001b[49m\u001b[43m(\u001b[49m\u001b[43mmodel\u001b[49m\u001b[43m)\u001b[49m\n\u001b[1;32m    314\u001b[0m \u001b[38;5;28;01mexcept\u001b[39;00m (\u001b[38;5;167;01mValueError\u001b[39;00m, \u001b[38;5;167;01mTypeError\u001b[39;00m, \u001b[38;5;167;01mIOError\u001b[39;00m):\n\u001b[1;32m    315\u001b[0m     \u001b[38;5;28mself\u001b[39m\u001b[38;5;241m.\u001b[39mlog\u001b[38;5;241m.\u001b[39minfo(\n\u001b[1;32m    316\u001b[0m         \u001b[38;5;124m'\u001b[39m\u001b[38;5;124mFirst argument \u001b[39m\u001b[38;5;132;01m{0}\u001b[39;00m\u001b[38;5;124m does not appear to be a \u001b[39m\u001b[38;5;124m'\u001b[39m\n\u001b[1;32m    317\u001b[0m         \u001b[38;5;124m'\u001b[39m\u001b[38;5;124mmodel\u001b[39m\u001b[38;5;124m'\u001b[39m\u001b[38;5;241m.\u001b[39mformat(input_file))\n",
      "File \u001b[0;32m~/miniconda3/envs/jwst_validation_notebooks/lib/python3.9/site-packages/stpipe/pipeline.py:336\u001b[0m, in \u001b[0;36mPipeline._precache_references_opened\u001b[0;34m(self, model_or_container)\u001b[0m\n\u001b[1;32m    333\u001b[0m         \u001b[38;5;28mself\u001b[39m\u001b[38;5;241m.\u001b[39m_precache_references_opened(contained_model)\n\u001b[1;32m    334\u001b[0m \u001b[38;5;28;01melse\u001b[39;00m:\n\u001b[1;32m    335\u001b[0m     \u001b[38;5;66;03m# precache a single model object\u001b[39;00m\n\u001b[0;32m--> 336\u001b[0m     \u001b[38;5;28;43mself\u001b[39;49m\u001b[38;5;241;43m.\u001b[39;49m\u001b[43m_precache_references_impl\u001b[49m\u001b[43m(\u001b[49m\u001b[43mmodel_or_container\u001b[49m\u001b[43m)\u001b[49m\n",
      "File \u001b[0;32m~/miniconda3/envs/jwst_validation_notebooks/lib/python3.9/site-packages/stpipe/pipeline.py:360\u001b[0m, in \u001b[0;36mPipeline._precache_references_impl\u001b[0;34m(self, model)\u001b[0m\n\u001b[1;32m    356\u001b[0m fetch_types \u001b[38;5;241m=\u001b[39m \u001b[38;5;28msorted\u001b[39m(\u001b[38;5;28mset\u001b[39m(\u001b[38;5;28mself\u001b[39m\u001b[38;5;241m.\u001b[39mreference_file_types) \u001b[38;5;241m-\u001b[39m \u001b[38;5;28mset\u001b[39m(ovr_refs\u001b[38;5;241m.\u001b[39mkeys()))\n\u001b[1;32m    358\u001b[0m \u001b[38;5;28mself\u001b[39m\u001b[38;5;241m.\u001b[39mlog\u001b[38;5;241m.\u001b[39minfo(\u001b[38;5;124m\"\u001b[39m\u001b[38;5;124mPrefetching reference files for dataset: \u001b[39m\u001b[38;5;124m\"\u001b[39m \u001b[38;5;241m+\u001b[39m \u001b[38;5;28mrepr\u001b[39m(model\u001b[38;5;241m.\u001b[39mmeta\u001b[38;5;241m.\u001b[39mfilename) \u001b[38;5;241m+\u001b[39m\n\u001b[1;32m    359\u001b[0m               \u001b[38;5;124m\"\u001b[39m\u001b[38;5;124m reftypes = \u001b[39m\u001b[38;5;124m\"\u001b[39m \u001b[38;5;241m+\u001b[39m \u001b[38;5;28mrepr\u001b[39m(fetch_types))\n\u001b[0;32m--> 360\u001b[0m crds_refs \u001b[38;5;241m=\u001b[39m \u001b[43mcrds_client\u001b[49m\u001b[38;5;241;43m.\u001b[39;49m\u001b[43mget_multiple_reference_paths\u001b[49m\u001b[43m(\u001b[49m\u001b[43mmodel\u001b[49m\u001b[38;5;241;43m.\u001b[39;49m\u001b[43mget_crds_parameters\u001b[49m\u001b[43m(\u001b[49m\u001b[43m)\u001b[49m\u001b[43m,\u001b[49m\u001b[43m \u001b[49m\u001b[43mfetch_types\u001b[49m\u001b[43m,\u001b[49m\u001b[43m \u001b[49m\u001b[43mmodel\u001b[49m\u001b[38;5;241;43m.\u001b[39;49m\u001b[43mcrds_observatory\u001b[49m\u001b[43m)\u001b[49m\n\u001b[1;32m    362\u001b[0m ref_path_map \u001b[38;5;241m=\u001b[39m \u001b[38;5;28mdict\u001b[39m(\u001b[38;5;28mlist\u001b[39m(crds_refs\u001b[38;5;241m.\u001b[39mitems()) \u001b[38;5;241m+\u001b[39m \u001b[38;5;28mlist\u001b[39m(ovr_refs\u001b[38;5;241m.\u001b[39mitems()))\n\u001b[1;32m    364\u001b[0m \u001b[38;5;28;01mfor\u001b[39;00m (reftype, refpath) \u001b[38;5;129;01min\u001b[39;00m \u001b[38;5;28msorted\u001b[39m(ref_path_map\u001b[38;5;241m.\u001b[39mitems()):\n",
      "File \u001b[0;32m~/miniconda3/envs/jwst_validation_notebooks/lib/python3.9/site-packages/stpipe/crds_client.py:55\u001b[0m, in \u001b[0;36mget_multiple_reference_paths\u001b[0;34m(parameters, reference_file_types, observatory)\u001b[0m\n\u001b[1;32m     52\u001b[0m     \u001b[38;5;28;01mraise\u001b[39;00m \u001b[38;5;167;01mTypeError\u001b[39;00m(\u001b[38;5;124m\"\u001b[39m\u001b[38;5;124mFirst argument must be a dict of parameters\u001b[39m\u001b[38;5;124m\"\u001b[39m)\n\u001b[1;32m     54\u001b[0m log\u001b[38;5;241m.\u001b[39mset_log_time(\u001b[38;5;28;01mTrue\u001b[39;00m)\n\u001b[0;32m---> 55\u001b[0m refpaths \u001b[38;5;241m=\u001b[39m \u001b[43m_get_refpaths\u001b[49m\u001b[43m(\u001b[49m\u001b[43mparameters\u001b[49m\u001b[43m,\u001b[49m\u001b[43m \u001b[49m\u001b[38;5;28;43mtuple\u001b[39;49m\u001b[43m(\u001b[49m\u001b[43mreference_file_types\u001b[49m\u001b[43m)\u001b[49m\u001b[43m,\u001b[49m\u001b[43m \u001b[49m\u001b[43mobservatory\u001b[49m\u001b[43m)\u001b[49m\n\u001b[1;32m     56\u001b[0m \u001b[38;5;28;01mreturn\u001b[39;00m refpaths\n",
      "File \u001b[0;32m~/miniconda3/envs/jwst_validation_notebooks/lib/python3.9/site-packages/stpipe/crds_client.py:68\u001b[0m, in \u001b[0;36m_get_refpaths\u001b[0;34m(data_dict, reference_file_types, observatory)\u001b[0m\n\u001b[1;32m     66\u001b[0m     \u001b[38;5;28;01mreturn\u001b[39;00m {}\n\u001b[1;32m     67\u001b[0m \u001b[38;5;28;01mwith\u001b[39;00m crds_cache_locking\u001b[38;5;241m.\u001b[39mget_cache_lock():\n\u001b[0;32m---> 68\u001b[0m     bestrefs \u001b[38;5;241m=\u001b[39m \u001b[43mcrds\u001b[49m\u001b[38;5;241;43m.\u001b[39;49m\u001b[43mgetreferences\u001b[49m\u001b[43m(\u001b[49m\n\u001b[1;32m     69\u001b[0m \u001b[43m        \u001b[49m\u001b[43mdata_dict\u001b[49m\u001b[43m,\u001b[49m\u001b[43m \u001b[49m\u001b[43mreftypes\u001b[49m\u001b[38;5;241;43m=\u001b[39;49m\u001b[43mreference_file_types\u001b[49m\u001b[43m,\u001b[49m\u001b[43m \u001b[49m\u001b[43mobservatory\u001b[49m\u001b[38;5;241;43m=\u001b[39;49m\u001b[43mobservatory\u001b[49m\u001b[43m)\u001b[49m\n\u001b[1;32m     70\u001b[0m refpaths \u001b[38;5;241m=\u001b[39m {filetype: filepath \u001b[38;5;28;01mif\u001b[39;00m \u001b[38;5;124m\"\u001b[39m\u001b[38;5;124mN/A\u001b[39m\u001b[38;5;124m\"\u001b[39m \u001b[38;5;129;01mnot\u001b[39;00m \u001b[38;5;129;01min\u001b[39;00m filepath\u001b[38;5;241m.\u001b[39mupper() \u001b[38;5;28;01melse\u001b[39;00m \u001b[38;5;124m\"\u001b[39m\u001b[38;5;124mN/A\u001b[39m\u001b[38;5;124m\"\u001b[39m\n\u001b[1;32m     71\u001b[0m             \u001b[38;5;28;01mfor\u001b[39;00m (filetype, filepath) \u001b[38;5;129;01min\u001b[39;00m bestrefs\u001b[38;5;241m.\u001b[39mitems()}\n\u001b[1;32m     72\u001b[0m \u001b[38;5;28;01mreturn\u001b[39;00m refpaths\n",
      "File \u001b[0;32m~/miniconda3/envs/jwst_validation_notebooks/lib/python3.9/site-packages/crds/core/heavy_client.py:122\u001b[0m, in \u001b[0;36mgetreferences\u001b[0;34m(parameters, reftypes, context, ignore_cache, observatory, fast)\u001b[0m\n\u001b[1;32m     81\u001b[0m \u001b[38;5;28;01mdef\u001b[39;00m \u001b[38;5;21mgetreferences\u001b[39m(parameters, reftypes\u001b[38;5;241m=\u001b[39m\u001b[38;5;28;01mNone\u001b[39;00m, context\u001b[38;5;241m=\u001b[39m\u001b[38;5;28;01mNone\u001b[39;00m, ignore_cache\u001b[38;5;241m=\u001b[39m\u001b[38;5;28;01mFalse\u001b[39;00m,\n\u001b[1;32m     82\u001b[0m                   observatory\u001b[38;5;241m=\u001b[39m\u001b[38;5;124m\"\u001b[39m\u001b[38;5;124mjwst\u001b[39m\u001b[38;5;124m\"\u001b[39m, fast\u001b[38;5;241m=\u001b[39m\u001b[38;5;28;01mFalse\u001b[39;00m):\n\u001b[1;32m     83\u001b[0m     \u001b[38;5;124;03m\"\"\"\u001b[39;00m\n\u001b[1;32m     84\u001b[0m \u001b[38;5;124;03m    This is the top-level get reference call for all of CRDS.  Based on\u001b[39;00m\n\u001b[1;32m     85\u001b[0m \u001b[38;5;124;03m    `parameters`, getreferences() will download/cache the corresponding best\u001b[39;00m\n\u001b[0;32m   (...)\u001b[0m\n\u001b[1;32m    120\u001b[0m \u001b[38;5;124;03m      cached reference file.\u001b[39;00m\n\u001b[1;32m    121\u001b[0m \u001b[38;5;124;03m    \"\"\"\u001b[39;00m\n\u001b[0;32m--> 122\u001b[0m     final_context, bestrefs \u001b[38;5;241m=\u001b[39m \u001b[43m_initial_recommendations\u001b[49m\u001b[43m(\u001b[49m\u001b[38;5;124;43m\"\u001b[39;49m\u001b[38;5;124;43mgetreferences\u001b[39;49m\u001b[38;5;124;43m\"\u001b[39;49m\u001b[43m,\u001b[49m\n\u001b[1;32m    123\u001b[0m \u001b[43m        \u001b[49m\u001b[43mparameters\u001b[49m\u001b[43m,\u001b[49m\u001b[43m \u001b[49m\u001b[43mreftypes\u001b[49m\u001b[43m,\u001b[49m\u001b[43m \u001b[49m\u001b[43mcontext\u001b[49m\u001b[43m,\u001b[49m\u001b[43m \u001b[49m\u001b[43mignore_cache\u001b[49m\u001b[43m,\u001b[49m\u001b[43m \u001b[49m\u001b[43mobservatory\u001b[49m\u001b[43m,\u001b[49m\u001b[43m \u001b[49m\u001b[43mfast\u001b[49m\u001b[43m)\u001b[49m\n\u001b[1;32m    125\u001b[0m     \u001b[38;5;66;03m# Attempt to cache the recommended references,  which unlike dump_mappings\u001b[39;00m\n\u001b[1;32m    126\u001b[0m     \u001b[38;5;66;03m# should work without network access if files are already cached.\u001b[39;00m\n\u001b[1;32m    127\u001b[0m     best_refs_paths \u001b[38;5;241m=\u001b[39m api\u001b[38;5;241m.\u001b[39mcache_references(\n\u001b[1;32m    128\u001b[0m         final_context, bestrefs, ignore_cache\u001b[38;5;241m=\u001b[39mignore_cache)\n",
      "File \u001b[0;32m~/miniconda3/envs/jwst_validation_notebooks/lib/python3.9/site-packages/crds/core/heavy_client.py:209\u001b[0m, in \u001b[0;36m_initial_recommendations\u001b[0;34m(name, parameters, reftypes, context, ignore_cache, observatory, fast)\u001b[0m\n\u001b[1;32m    207\u001b[0m \u001b[38;5;28;01mif\u001b[39;00m mode \u001b[38;5;241m==\u001b[39m \u001b[38;5;124m\"\u001b[39m\u001b[38;5;124mlocal\u001b[39m\u001b[38;5;124m\"\u001b[39m:\n\u001b[1;32m    208\u001b[0m     log\u001b[38;5;241m.\u001b[39mverbose(\u001b[38;5;124m\"\u001b[39m\u001b[38;5;124mComputing best references locally.\u001b[39m\u001b[38;5;124m\"\u001b[39m)\n\u001b[0;32m--> 209\u001b[0m     bestrefs \u001b[38;5;241m=\u001b[39m \u001b[43mlocal_bestrefs\u001b[49m\u001b[43m(\u001b[49m\n\u001b[1;32m    210\u001b[0m \u001b[43m        \u001b[49m\u001b[43mparameters\u001b[49m\u001b[43m,\u001b[49m\u001b[43m \u001b[49m\u001b[43mreftypes\u001b[49m\u001b[38;5;241;43m=\u001b[39;49m\u001b[43mreftypes\u001b[49m\u001b[43m,\u001b[49m\u001b[43m \u001b[49m\u001b[43mcontext\u001b[49m\u001b[38;5;241;43m=\u001b[39;49m\u001b[43mfinal_context\u001b[49m\u001b[43m,\u001b[49m\u001b[43m \u001b[49m\u001b[43mignore_cache\u001b[49m\u001b[38;5;241;43m=\u001b[39;49m\u001b[43mignore_cache\u001b[49m\u001b[43m)\u001b[49m\n\u001b[1;32m    211\u001b[0m \u001b[38;5;28;01melse\u001b[39;00m:\n\u001b[1;32m    212\u001b[0m     log\u001b[38;5;241m.\u001b[39mverbose(\u001b[38;5;124m\"\u001b[39m\u001b[38;5;124mComputing best references remotely.\u001b[39m\u001b[38;5;124m\"\u001b[39m)\n",
      "File \u001b[0;32m~/miniconda3/envs/jwst_validation_notebooks/lib/python3.9/site-packages/crds/core/heavy_client.py:354\u001b[0m, in \u001b[0;36mlocal_bestrefs\u001b[0;34m(parameters, reftypes, context, ignore_cache)\u001b[0m\n\u001b[1;32m    352\u001b[0m \u001b[38;5;28;01mexcept\u001b[39;00m CrdsError \u001b[38;5;28;01mas\u001b[39;00m exc:\n\u001b[1;32m    353\u001b[0m     traceback\u001b[38;5;241m.\u001b[39mprint_exc()\n\u001b[0;32m--> 354\u001b[0m     \u001b[38;5;28;01mraise\u001b[39;00m CrdsDownloadError(\n\u001b[1;32m    355\u001b[0m         \u001b[38;5;124m\"\u001b[39m\u001b[38;5;124mFailed caching mapping files:\u001b[39m\u001b[38;5;124m\"\u001b[39m, \u001b[38;5;28mstr\u001b[39m(exc)) \u001b[38;5;28;01mfrom\u001b[39;00m \u001b[38;5;21;01mexc\u001b[39;00m\n\u001b[1;32m    356\u001b[0m \u001b[38;5;28;01mreturn\u001b[39;00m hv_best_references(context, parameters, reftypes)\n",
      "\u001b[0;31mCrdsDownloadError\u001b[0m: Failed caching mapping files: Error fetching data for 'jwst_nirspec_superbias_0051.rmap' at CRDS server 'https://jwst-crds.stsci.edu' with mode 'http' : [Errno 28] No space left on device: '/tmp/crds_cache/mappings/jwst/jwst_nirspec_superbias_0051.rmap'"
     ]
    }
   ],
   "source": [
    "# Run Calwebb_image2 on output files from detector1\n",
    "ratefiles = glob('*rate.fits')    \n",
    "    \n",
    "print('There are ', len(ratefiles), ' images.')\n",
    "    \n",
    "callist = []\n",
    "\n",
    "# cycle through files\n",
    "for im in ratefiles:\n",
    "    pipe2 = Image2Pipeline()\n",
    "    \n",
    "    rampfile = ImageModel(im)\n",
    "    filename = rampfile.meta.filename\n",
    "    # Set pipeline parameters\n",
    "\n",
    "    pipe2.save_results = True\n",
    "    pipe2.output_file = filename +'_cal.fits'\n",
    "    pipe2.resample.save_results = True\n",
    "    pipe2.suffix = None\n",
    "\n",
    "    calfile = pipe2.run(rampfile)\n",
    "\n",
    "    callist.append(calfile)\n",
    "\n",
    "print(callist)"
   ]
  },
  {
   "cell_type": "markdown",
   "metadata": {},
   "source": [
    "### Run output of calwebb_image2 through calwebb_image3"
   ]
  },
  {
   "cell_type": "markdown",
   "metadata": {},
   "source": [
    "### Create an association file to combine the input calibrated files"
   ]
  },
  {
   "cell_type": "code",
   "execution_count": null,
   "metadata": {},
   "outputs": [],
   "source": [
    "# use asn_from_list to create association table\n",
    "\n",
    "calfiles = glob('*_cal.fits')\n",
    "asn = asn_from_list.asn_from_list(calfiles, rule=DMS_Level3_Base, product_name='starfield_combined.fits')\n",
    "\n",
    "# use this if you need to add non'science' exposure types\n",
    "#asn['products'][0]['members'][1]['exptype'] = 'background'\n",
    "#asn['products'][0]['members'][2]['exptype'] = 'sourcecat'\n",
    "\n",
    "# dump association table to a .json file for use in image3\n",
    "with open('starfield_asnfile.json', 'w') as fp:\n",
    "    fp.write(asn.dump()[1])\n",
    "\n",
    "print(asn)    \n"
   ]
  },
  {
   "cell_type": "markdown",
   "metadata": {},
   "source": [
    "### Run Calwebb_Image3 pipeline\n",
    "\n",
    "For MIRI, the FWHM values are dependent on filter and should be set using the table below:\n",
    "\n",
    "|Filter | FWHM  |\n",
    "|-------| -------|\n",
    "|F560W      |     1.636\t\t|\t\n",
    "|F770W      |     2.187\t\t|\n",
    "|F1000W     |     2.888\t\t|\n",
    "|F1130W     |     3.318\t\t|\n",
    "|F1280W     |     3.713\t\t|\n",
    "|F1500W     |     4.354\t\t|\n",
    "|F1800W     |     5.224\t\t|\n",
    "|F2100W     |     5.989\t\t|\n",
    "|F2550W     |     7.312\t\t|\n",
    "|F2550WR    |     7.312\t    | \n",
    "\n",
    "For the fit geometry keyword, the following options are available:\n",
    "fitgeometry: A str value indicating the type of affine transformation to be considered when fitting catalogs. Allowed values:\n",
    "\n",
    "  *  'shift': x/y shifts only\n",
    "\n",
    "  *  'rscale': rotation and scale\n",
    "\n",
    "  *  'rshift': rotation and shifts\n",
    "\n",
    "  *  'general': shift, rotation, and scale (Default=”general”)\n"
   ]
  },
  {
   "cell_type": "code",
   "execution_count": null,
   "metadata": {},
   "outputs": [],
   "source": [
    "# Run Calwebb_image3 on the association table\n",
    "    \n",
    "# set any specific parameters\n",
    "# tweakreg parameters to allow data to run\n",
    "fwhm = 2.187  # Gaussian kernel FWHM of objects expected, default=2.5\n",
    "minobj = 5   # minimum number of objects needed to match positions for a good fit, default=15\n",
    "snr = 8      # signal to noise threshold, default=5\n",
    "sigma = 5    # clipping limit, in sigma units, used when performing fit, default=3\n",
    "fit_geom = 'shift' # ftype of affine transformation to be considered when fitting catalogs, default='general'\n",
    "use2dhist = False  # boolean indicating whether to use 2D histogram to find initial offset, default=True\n",
    "   \n",
    "pipe3=Image3Pipeline()    \n",
    "pipe3.tweakreg.kernel_fwhm = fwhm\n",
    "pipe3.tweakreg.snr_threshold = snr\n",
    "pipe3.tweakreg.minobj = minobj\n",
    "pipe3.tweakreg.sigma = sigma\n",
    "pipe3.tweakreg.fitgeometry = fit_geom\n",
    "pipe3.tweakreg.use2dhist = use2dhist\n",
    "pipe3.source_catalog.save_results = True\n",
    "pipe3.source_catalog.snr_threshold = snr\n",
    "pipe3.source_catalog.kernel_fwhm = fwhm\n",
    "pipe3.save_results = True\n",
    "\n",
    "# run Image3\n",
    "\n",
    "image = pipe3.run('starfield_asnfile.json')\n",
    "print('Image 3 pipeline finished.')"
   ]
  },
  {
   "cell_type": "markdown",
   "metadata": {},
   "source": [
    "<a id=\"output_ID\"></a>\n",
    "## Results\n",
    "Read in the output of the pipeline and check your results.\n",
    "\n",
    "### Read in output table of source_catalog step and print ecsv table"
   ]
  },
  {
   "cell_type": "code",
   "execution_count": null,
   "metadata": {},
   "outputs": [],
   "source": [
    "photfile = 'starfield_combined_cat.ecsv'\n",
    "input_file = 'starfield_combined_i2d.fits'"
   ]
  },
  {
   "cell_type": "code",
   "execution_count": null,
   "metadata": {},
   "outputs": [],
   "source": [
    "# Look at subset of table with full columns\n",
    "# If you have negative fluxes or repeated values of xcentroid or ycentroid, you may be finding spurious sources at image edges\n",
    "\n",
    "data = table.Table.read(photfile, format='ascii', comment='#')\n",
    "\n",
    "smalltable = data['label', 'xcentroid', 'ycentroid','aper30_flux', 'aper50_flux', 'aper70_flux', 'CI_50_30', 'CI_70_50','aper_total_flux']\n",
    "smalltable.pprint_all()\n",
    "#print(smalltable)"
   ]
  },
  {
   "cell_type": "code",
   "execution_count": null,
   "metadata": {},
   "outputs": [],
   "source": [
    "# Look at catalog table that shows all columns, but subset of rows\n",
    "# Pay attention to rows with a large number of nans, as this may indicate a spurious source\n",
    "\n",
    "catalog = Table.read(\"starfield_combined_cat.ecsv\")\n",
    "catalog"
   ]
  },
  {
   "cell_type": "markdown",
   "metadata": {},
   "source": [
    "### Display image and overplot detector sources from ecsv table "
   ]
  },
  {
   "cell_type": "code",
   "execution_count": null,
   "metadata": {},
   "outputs": [],
   "source": [
    "# Read in i2d combined Image\n",
    "im_i2d = ImageModel(input_file)    "
   ]
  },
  {
   "cell_type": "code",
   "execution_count": null,
   "metadata": {},
   "outputs": [],
   "source": [
    "# read in ecsv photom file\n",
    "from astropy.visualization import LogStretch, PercentileInterval, ManualInterval\n",
    "from astropy import table\n",
    "\n",
    "viz2 = LogStretch() + ManualInterval(0,10)\n",
    "\n",
    "plt.figure(figsize=(20,20))\n",
    "#plt.imshow(viz2(im_i2d.data), origin='lower')\n",
    "plt.imshow(im_i2d.data, origin='lower', cmap='rainbow', vmin=0, vmax=5)\n",
    "plt.colorbar()\n",
    "plt.scatter(data['xcentroid'], data['ycentroid'],lw=1, s=10,color='red')"
   ]
  },
  {
   "cell_type": "markdown",
   "metadata": {},
   "source": [
    "### In the image above, check that the stars found by source catalog (red) overlap with stars in the image"
   ]
  },
  {
   "cell_type": "markdown",
   "metadata": {},
   "source": [
    "### Look at the fluxes of the sources found"
   ]
  },
  {
   "cell_type": "code",
   "execution_count": null,
   "metadata": {},
   "outputs": [],
   "source": [
    "#create_scatterplot(catalog['label'], catalog['aper_total_flux'],title='Total Flux in '+str(catalog['aper_total_flux'].unit))\n",
    "\n",
    "fig = plt.figure(figsize=(10, 10))\n",
    "ax = plt.subplot()\n",
    "\n",
    "ax.scatter(catalog['label'], catalog['aper_total_flux'])\n",
    "plt.yscale('log')\n",
    "plt.title('Total Flux in '+ str(catalog['aper_total_flux'].unit))\n",
    "plt.xlabel('label')\n",
    "plt.ylabel('aper_total_flux')"
   ]
  },
  {
   "cell_type": "markdown",
   "metadata": {},
   "source": [
    "### Look at AB mag of sources found"
   ]
  },
  {
   "cell_type": "code",
   "execution_count": null,
   "metadata": {},
   "outputs": [],
   "source": [
    "create_scatterplot(catalog['label'], catalog['aper_total_abmag'],title='Total AB mag')"
   ]
  },
  {
   "cell_type": "markdown",
   "metadata": {},
   "source": [
    "### Look at the errors on the AB magnitudes"
   ]
  },
  {
   "cell_type": "code",
   "execution_count": null,
   "metadata": {},
   "outputs": [],
   "source": [
    "create_scatterplot(catalog['aper_total_abmag'], catalog['aper_total_abmag_err'],title='Total AB mag vs error')"
   ]
  },
  {
   "cell_type": "markdown",
   "metadata": {},
   "source": [
    "### Manually find matches\n",
    "Since this is a simulated data set, we can compare the output catalog information from the pipeline with the input catalog information used to create the simulation. Grab the input catalog x,y values and the output catalog x and y values."
   ]
  },
  {
   "cell_type": "code",
   "execution_count": null,
   "metadata": {},
   "outputs": [],
   "source": [
    "# Read in catalogs used for simulated data\n",
    "sim_star_cat = Table.read('input_sim_stars.cat', format='ascii')\n",
    "sim_gal_cat = Table.read('input_sim_galaxies.cat', format='ascii')"
   ]
  },
  {
   "cell_type": "code",
   "execution_count": null,
   "metadata": {},
   "outputs": [],
   "source": [
    "sim_star_cat\n"
   ]
  },
  {
   "cell_type": "code",
   "execution_count": null,
   "metadata": {},
   "outputs": [],
   "source": [
    "# join the star and galaxy catalogs used to make the simulations\n",
    "combined = table.vstack([sim_star_cat, sim_gal_cat])\n",
    "combined\n"
   ]
  },
  {
   "cell_type": "code",
   "execution_count": null,
   "metadata": {},
   "outputs": [],
   "source": [
    "sim_ra = combined['x']/3600.\n",
    "sim_dec = combined['y']/3600."
   ]
  },
  {
   "cell_type": "markdown",
   "metadata": {},
   "source": [
    "### Use MIRI software to put x, y coordinates from input catalog into RA, Dec coordinates"
   ]
  },
  {
   "cell_type": "code",
   "execution_count": null,
   "metadata": {},
   "outputs": [],
   "source": [
    "# Put star positions into RA and Dec\n",
    "\n",
    "# import coordinate conversion tools\n",
    "#import miricoord.tel.tel_tools as teltools\n",
    "#import miricoord.imager.mirim_pipetools as mpt\n",
    "#import miricoord.imager.mirim_tools as mt\n",
    "#import pysiaf\n",
    "\n",
    "#filt = 'F560W'\n",
    "# use pipeline to get v2ref and v3ref coordinates\n",
    "#siaf = pysiaf.Siaf('MIRI')\n",
    "#xref,yref=siaf['MIRIM_FULL'].XDetRef,siaf['MIRIM_FULL'].YDetRef\n",
    "#xref,yref=xref-1,yref-1\n",
    "#v2ref,v3ref=mt.xytov2v3(xref,yref,filt)\n",
    "\n",
    "# set reference for RA and Dec\n",
    "#raref = 0.0\n",
    "#decref = 0.0\n",
    "#rollref = 0.0\n",
    "\n",
    "#sim_ra = np.zeros(len(combined))\n",
    "#sim_dec = np.zeros(len(combined))\n",
    "\n",
    "# cycle through list of coordinates input into scene and get RA/Dec values out, printing to file\n",
    "#for i in range(len(combined)):\n",
    "    #print(combined['x'][i])\n",
    "#    v2 = v2ref + combined['x'][i]\n",
    "#    v3 = v3ref + combined['y'][i]\n",
    "#    ra,dec,newroll=teltools.jwst_v2v3toradec(v2,v3,v2ref=v2ref,v3ref=v3ref,raref=raref,decref=decref,rollref=rollref)\n",
    "    \n",
    "#    sim_ra[i] = ra\n",
    "#    sim_dec[i] = dec\n",
    "    \n",
    "#print(np.shape(sim_ra))\n",
    "#print(sim_ra, sim_dec)"
   ]
  },
  {
   "cell_type": "markdown",
   "metadata": {},
   "source": [
    "### Compare RA, Dec coordinates between simulator catalog and output catalog to find matches"
   ]
  },
  {
   "cell_type": "code",
   "execution_count": null,
   "metadata": {},
   "outputs": [],
   "source": [
    "cat_ra = catalog['sky_centroid'].ra.deg\n",
    "for i in range(len(cat_ra)):\n",
    "    if (cat_ra[i]>180.):\n",
    "        cat_ra[i] -= 360.\n",
    "cat_dec = catalog['sky_centroid'].dec.deg"
   ]
  },
  {
   "cell_type": "code",
   "execution_count": null,
   "metadata": {},
   "outputs": [],
   "source": [
    "# set the tolerance for differences and initialize counters\n",
    "\n",
    "tol = 1.e-5    # Set tolerance around 30 mas (units here are in degrees; 36 mas ~ 1e-5 deg)\n",
    "found_count=0\n",
    "multiples_count=0\n",
    "missed_count=0"
   ]
  },
  {
   "cell_type": "code",
   "execution_count": null,
   "metadata": {},
   "outputs": [],
   "source": [
    "# Set up array for matches\n",
    "detected = np.chararray(len(sim_ra))\n",
    "#print(np.shape(detected))\n",
    "\n",
    "for ra,dec,idx in zip(sim_ra, sim_dec,range(len(sim_ra))):\n",
    "\n",
    "    match = np.where((np.abs(ra-cat_ra) < tol) & (np.abs(dec-cat_dec) < tol))\n",
    "    #print('match', match)\n",
    "    \n",
    "    if np.size(match) == 1: \n",
    "        found_count +=1 \n",
    "        detected[idx] = 'Y'\n",
    "\n",
    "    if np.size(match) > 1:  \n",
    "        multiples_count +=1       \n",
    "        \n",
    "    if np.size(match) < 1:\n",
    "        missed_count +=1\n",
    "\n",
    "#print(np.shape(detected))"
   ]
  },
  {
   "cell_type": "code",
   "execution_count": null,
   "metadata": {},
   "outputs": [],
   "source": [
    "total_percent_found = (found_count/len(sim_ra))*100\n",
    "\n",
    "print('\\n')\n",
    "print('SNR threshold used for pipeline: ',pipe3.source_catalog.snr_threshold)\n",
    "print('Total matches found:',found_count)\n",
    "print('Total missed:',missed_count)\n",
    "print('Number of multiples: ',multiples_count)\n",
    "print('Total number of input (simulated) sources:',len(combined))\n",
    "print('Total number in output catalog:',len(catalog))\n",
    "print('Total percent found:',total_percent_found)\n",
    "print('\\n')"
   ]
  },
  {
   "cell_type": "markdown",
   "metadata": {},
   "source": [
    "### Use photutils to find catalog matches and compare which sources were found and matched.\n",
    "\n",
    "Photutils includes a package to match sources between catalogs by providing a max separation value. Set that value and compare the two catalogs.\n"
   ]
  },
  {
   "cell_type": "code",
   "execution_count": null,
   "metadata": {},
   "outputs": [],
   "source": [
    "catalog_in = SkyCoord(ra=sim_ra*u.degree, dec=sim_dec*u.degree) # full simulated catalog, stars+galaxies\n",
    "catalog_out = SkyCoord(ra=cat_ra*u.degree, dec=cat_dec*u.degree)"
   ]
  },
  {
   "cell_type": "code",
   "execution_count": null,
   "metadata": {},
   "outputs": [],
   "source": [
    "max_sep = 0.04 * u.arcsec # Set match at around 30 mas"
   ]
  },
  {
   "cell_type": "code",
   "execution_count": null,
   "metadata": {},
   "outputs": [],
   "source": [
    "# match full tables\n",
    "idx, d2d, d3d = match_coordinates_sky(catalog_in, catalog_out)\n",
    "sep_constraint = d2d < max_sep\n",
    "combined_matched = combined[sep_constraint] # simulated sources matched\n",
    "catalog_matched = catalog[idx[sep_constraint]] # sources found matched\n",
    "\n",
    "print(catalog_matched.colnames)\n",
    "print()\n",
    "print(catalog_matched)"
   ]
  },
  {
   "cell_type": "code",
   "execution_count": null,
   "metadata": {},
   "outputs": [],
   "source": [
    "#match RA and Dec\n",
    "idx, d2d, d3d = match_coordinates_sky(catalog_in, catalog_out)\n",
    "sep_constraint = d2d < max_sep\n",
    "catalog_in_matches = catalog_in[sep_constraint]\n",
    "catalog_out_matches = catalog_out[idx[sep_constraint]]\n",
    "print(catalog_out_matches)"
   ]
  },
  {
   "cell_type": "markdown",
   "metadata": {},
   "source": [
    "Now, catalog_in_matches and catalog_out_matches are the matched sources in catalog_in and catalog_out, respectively, which are separated less than our max_sep value."
   ]
  },
  {
   "cell_type": "code",
   "execution_count": null,
   "metadata": {},
   "outputs": [],
   "source": [
    "print('Number of matched sources using max separation of '+str(max_sep)+': ',len(catalog_matched))"
   ]
  },
  {
   "cell_type": "markdown",
   "metadata": {},
   "source": [
    "### Plot RA and Dec positions of both catalogs\n",
    "The simulated positions are in red and the sources found with source catalog are marked in blue. Matched sources from both are marked in green."
   ]
  },
  {
   "cell_type": "code",
   "execution_count": null,
   "metadata": {},
   "outputs": [],
   "source": [
    "#rrr = catalog_in_matches.ra.deg\n",
    "#ddd = catalog_in_matches.dec.deg\n",
    "\n",
    "rrr = catalog_matched['sky_centroid'].ra.deg\n",
    "ddd = catalog_matched['sky_centroid'].dec.deg\n",
    "\n",
    "# make sure ra is in proper range for display\n",
    "plt.figure(figsize=(20,20))\n",
    "for i in range(len(rrr)):\n",
    "    if (rrr[i]>180.):\n",
    "        rrr[i] -= 360.\n",
    "        \n",
    "plt.scatter(rrr, ddd, lw=1, s=108,color='green')\n",
    "plt.scatter(sim_ra, sim_dec,lw=1, s=18,color='red')\n",
    "plt.scatter(cat_ra, cat_dec,lw=1, s=18,color='blue')"
   ]
  },
  {
   "cell_type": "markdown",
   "metadata": {},
   "source": [
    "### Convert matched RA/Dec coordinates back to x,y positions and plot matched stars on image"
   ]
  },
  {
   "cell_type": "code",
   "execution_count": null,
   "metadata": {},
   "outputs": [],
   "source": [
    "# Convert matched RA/Dec values back to x, y to plot on image\n",
    "\n",
    "#print(catalog_out_matches)\n",
    "\n",
    "# Read in wcs values from file header (in extension 1)\n",
    "#hdu = fits.open(input_file)[1]  \n",
    "#wcs = WCS(hdu.header)  \n",
    "\n",
    "# convert positions from RA/Dec back to x,y\n",
    "\n",
    "#x_matched, y_matched = wcs.world_to_pixel(catalog_out_matches)\n",
    "\n",
    "#print(x_matched)"
   ]
  },
  {
   "cell_type": "code",
   "execution_count": null,
   "metadata": {},
   "outputs": [],
   "source": [
    "# Plot all matched sources in red\n",
    "\n",
    "viz2 = LogStretch() + ManualInterval(0,10)\n",
    "\n",
    "plt.figure(figsize=(20,20))\n",
    "#plt.imshow(viz2(im_i2d.data), origin='lower')\n",
    "plt.imshow(im_i2d.data, origin='lower', cmap='rainbow', vmin=0, vmax=5)\n",
    "plt.colorbar()\n",
    "#plt.scatter(x_matched, y_matched,lw=1, s=10,color='red')\n",
    "plt.scatter(catalog_matched['xcentroid'], catalog_matched['ycentroid'], lw=1, s=10, color='red')      "
   ]
  },
  {
   "cell_type": "markdown",
   "metadata": {},
   "source": [
    "### Compare to full catalog and see where differences are\n",
    "The full source_catalog output is shown with black dots and the matched sources are shown with smaller white dots over the black dots. This shows the sources that were found in the catalog (source_catalog step) but not listed as a match between the input and calculated catalogs."
   ]
  },
  {
   "cell_type": "code",
   "execution_count": null,
   "metadata": {},
   "outputs": [],
   "source": [
    "viz2 = LogStretch() + ManualInterval(0,10)\n",
    "\n",
    "plt.figure(figsize=(20,20))\n",
    "#plt.imshow(viz2(im_i2d.data), origin='lower')\n",
    "plt.imshow(im_i2d.data, origin='lower', cmap='rainbow', vmin=0, vmax=5)\n",
    "plt.colorbar()\n",
    "plt.scatter(data['xcentroid'], data['ycentroid'],lw=1, s=10,color='black')\n",
    "#plt.scatter(x_matched, y_matched,lw=1, s=5,color='white')\n",
    "plt.scatter(catalog_matched['xcentroid'], catalog_matched['ycentroid'], lw=1, s=5, color='white')"
   ]
  },
  {
   "cell_type": "markdown",
   "metadata": {},
   "source": [
    "### Look at positions of sources in the simulated images from the catalogs used to create the images\n",
    "\n",
    "Are there more stars/galaxies in the simulation input catalogs than actually fit on the combined image? That would explain the sources beyond image edges."
   ]
  },
  {
   "cell_type": "code",
   "execution_count": null,
   "metadata": {},
   "outputs": [],
   "source": [
    "print(catalog_in)"
   ]
  },
  {
   "cell_type": "code",
   "execution_count": null,
   "metadata": {},
   "outputs": [],
   "source": [
    "# Read in wcs values from file header (in extension 1)\n",
    "hdu = fits.open(input_file)[1]  \n",
    "wcs = WCS(hdu.header)  \n",
    "\n",
    "# convert positions from RA/Dec back to x,y\n",
    "\n",
    "x_sim, y_sim = wcs.world_to_pixel(catalog_in)\n",
    "\n",
    "# Many sources go beyond image edges. Only display sources that were actually in FOV of combined image.\n",
    "minval = 0\n",
    "maxval = 1140\n",
    "\n",
    "ind = np.where((x_sim > minval) & (x_sim < 1110)& (y_sim > minval) & (y_sim < maxval))\n"
   ]
  },
  {
   "cell_type": "code",
   "execution_count": null,
   "metadata": {},
   "outputs": [],
   "source": [
    "viz2 = LogStretch() + ManualInterval(0,10)\n",
    "\n",
    "plt.figure(figsize=(20,20))\n",
    "#plt.imshow(viz2(im_i2d.data), origin='lower')\n",
    "plt.imshow(im_i2d.data, origin='lower', cmap='rainbow', vmin=0, vmax=5)\n",
    "plt.colorbar()\n",
    "plt.scatter(x_sim[ind], y_sim[ind],lw=1, s=5,color='white')"
   ]
  },
  {
   "cell_type": "markdown",
   "metadata": {},
   "source": [
    "## Compare fluxes between input sources and output catalog\n",
    "\n",
    "Input catalog 'combined' has Ks and J columns for stars and flux for galaxies.\n",
    "Output source catalog 'catalog' has aper_total_flux, 'isophotal_flux', 'aper_total_abmag', 'aper_total_vegamag', 'isophotal_abmag' and isophotal_vegamag.\n",
    "\n",
    "The first plot compares the magnitudes for the input simulated catalog (in blue) and the sources found with source catalog in green."
   ]
  },
  {
   "cell_type": "markdown",
   "metadata": {},
   "source": [
    "### Compare the star magnitudes and magnitude differences to the x position of the stars.\n"
   ]
  },
  {
   "cell_type": "code",
   "execution_count": null,
   "metadata": {},
   "outputs": [],
   "source": [
    "flux, wref = mag2flux(combined_matched['Ks'], band=\"Ks\", system=\"2MASS\")\n",
    "fnew = extrapolate_flux(flux, wref, 7.7, combined_matched['Teff'])\n",
    "F770W_ABmag = -2.5*np.log10((fnew.to(u.Jy)).value) + 8.9"
   ]
  },
  {
   "cell_type": "markdown",
   "metadata": {},
   "source": [
    "### Plot AB mag vs x position\n",
    "Simulated stars in blue, sources found in green."
   ]
  },
  {
   "cell_type": "code",
   "execution_count": null,
   "metadata": {},
   "outputs": [],
   "source": [
    "fig = plt.figure(figsize=(10, 10))\n",
    "ax = plt.subplot()\n",
    "\n",
    "ax.scatter(catalog_matched['xcentroid'], F770W_ABmag, color='blue', label='Simulated stars')\n",
    "ax.scatter(catalog_matched['xcentroid'], catalog_matched['aper_total_abmag'], color='green', label='Sources found')\n",
    "ax.legend()\n",
    "\n",
    "plt.xlabel('X position in pixels')\n",
    "plt.ylabel('AB mag')"
   ]
  },
  {
   "cell_type": "markdown",
   "metadata": {},
   "source": [
    "### Plot difference in magnitude against x and y position.\n",
    "Found catalog minus matched simulated AB mag vs. x position and vs. y position, with the median magnitude difference plotted as a horizontal line in red."
   ]
  },
  {
   "cell_type": "code",
   "execution_count": null,
   "metadata": {},
   "outputs": [],
   "source": [
    "fig = plt.figure(figsize=(10, 10))\n",
    "ax = plt.subplot()\n",
    "\n",
    "ax.set_ylim(-1,1)\n",
    "ax.scatter(catalog_matched['xcentroid'], F770W_ABmag-catalog_matched['aper_total_abmag'], color='blue')\n",
    "\n",
    "#ax.legend()\n",
    "plt.title('ABmag difference (simulated - found) vs. x position')\n",
    "plt.xlabel('X position in pixels')\n",
    "plt.ylabel('Delta AB mag')\n",
    "\n",
    "ok = np.logical_and(F770W_ABmag>0, F770W_ABmag<100)\n",
    "\n",
    "m = F770W_ABmag[ok]-catalog_matched['aper_total_abmag'][ok]\n",
    "np.median(m)\n",
    "plt.hlines(np.median(m), min(catalog_matched['xcentroid']), max(catalog_matched['xcentroid']), color='red')"
   ]
  },
  {
   "cell_type": "code",
   "execution_count": null,
   "metadata": {},
   "outputs": [],
   "source": [
    "fig = plt.figure(figsize=(10, 10))\n",
    "ax = plt.subplot()\n",
    "\n",
    "ax.set_ylim(-1,1)\n",
    "ax.scatter(catalog_matched['ycentroid'], F770W_ABmag-catalog_matched['aper_total_abmag'], color='blue')\n",
    "#ax.legend()\n",
    "\n",
    "plt.title('ABmag difference (simulated - found) vs. y position')\n",
    "plt.xlabel('Y position in pixels')\n",
    "plt.ylabel('Delta AB mag')\n",
    "\n",
    "ok = np.logical_and(F770W_ABmag>0, F770W_ABmag<100)\n",
    "\n",
    "m = F770W_ABmag[ok]-catalog_matched['aper_total_abmag'][ok]\n",
    "np.median(m)\n",
    "plt.hlines(np.median(m), min(catalog_matched['ycentroid']), max(catalog_matched['ycentroid']), color='red')"
   ]
  },
  {
   "cell_type": "markdown",
   "metadata": {},
   "source": [
    "### Plot AB magnitude difference against AB mag to see if there is a pattern in the differences by mag.\n",
    "\n",
    "Median difference marked by line in red."
   ]
  },
  {
   "cell_type": "code",
   "execution_count": null,
   "metadata": {},
   "outputs": [],
   "source": [
    "fig = plt.figure(figsize=(10, 10))\n",
    "ax = plt.subplot()\n",
    "\n",
    "ax.set_ylim(-1,1)\n",
    "ax.scatter(F770W_ABmag, F770W_ABmag-catalog_matched['aper_total_abmag'], color='blue')\n",
    "#ax.legend()\n",
    "\n",
    "plt.title('Difference in AB mag (simulated-found) vs. ABmag (simulated)')\n",
    "plt.xlabel('AB mag')\n",
    "plt.ylabel('Delta AB mag')\n",
    "\n",
    "ok = np.logical_and(F770W_ABmag>0, F770W_ABmag<100)\n",
    "\n",
    "m = F770W_ABmag[ok]-catalog_matched['aper_total_abmag'][ok]\n",
    "np.median(m)\n",
    "plt.hlines(np.median(m), 16, 24.5, color='red')"
   ]
  },
  {
   "cell_type": "markdown",
   "metadata": {},
   "source": [
    "#### Passing criteria\n",
    "\n",
    "Look at the matched image to see what sources were matched between the simulated and found catalogs and see if there is a pattern to which 'found' sources were not matched to the simulated catalog. Are they mostly galaxies or were the found sources in areas of confusion between two stars or sources where the source finding algorithm might not have pinpointed the actual centroid of the source. If the majority of the sources matched seem to be the stars that are clearly marked and properly found, that part of the test passes.\n",
    "\n",
    "If the plots showing magnitudes of the matched sources show that they're close (exact criteria for 'close' TBD), then that test passes.\n",
    "\n",
    "This test is mostly visual inspection of the images and plots. As long as nothing is obviously wrong (no columns in the table marked as all NaNs, sources found seem to be real sources, and a good number of them match the simulated sources input into the image), then this test passes."
   ]
  },
  {
   "cell_type": "markdown",
   "metadata": {},
   "source": [
    "#### About this Notebook\n",
    "\n",
    "Authors: M. Cracraft, M. Libralato and T. Temim, MIRI Branch\n",
    "\n",
    "Updated On: 08/18/2021\n"
   ]
  },
  {
   "cell_type": "code",
   "execution_count": null,
   "metadata": {},
   "outputs": [],
   "source": []
  }
 ],
 "metadata": {
  "kernelspec": {
   "display_name": "Python 3 (ipykernel)",
   "language": "python",
   "name": "python3"
  },
  "language_info": {
   "codemirror_mode": {
    "name": "ipython",
    "version": 3
   },
   "file_extension": ".py",
   "mimetype": "text/x-python",
   "name": "python",
   "nbconvert_exporter": "python",
   "pygments_lexer": "ipython3",
   "version": "3.9.13"
  }
 },
 "nbformat": 4,
 "nbformat_minor": 4
}
