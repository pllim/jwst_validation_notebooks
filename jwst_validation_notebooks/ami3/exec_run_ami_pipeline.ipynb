{
 "cells": [
  {
   "cell_type": "markdown",
   "metadata": {},
   "source": [
    "<a id=\"title_ID\"></a>\n",
    "# JWST Pipeline Validation Notebook:  AMI3, AMI3 Pipeline\n",
    "\n",
    "<span style=\"color:red\"> **Instruments Affected**</span>: NIRISS\n",
    "\n",
    "### Table of Contents\n",
    "\n",
    "<div style=\"text-align: left\"> \n",
    "    \n",
    "<br> [Introduction](#intro)\n",
    "<br> [JWST CalWG Algorithm](#algorithm)\n",
    "<br> [Defining Terms](#terms)\n",
    "<br> [Test Description](#description)\n",
    "<br> [Data Description](#data_descr)\n",
    "<br> [Set up Temporary Directory](#tempdir)\n",
    "<br> [Imports](#imports)\n",
    "<br> [Loading the Data](#data_load)\n",
    "<br> [Run the Pipeline](#pipeline)\n",
    "<br> [Test Results](#testing)\n",
    "<br> [About This Notebook](#about)  \n",
    "\n",
    "</div>"
   ]
  },
  {
   "cell_type": "markdown",
   "metadata": {},
   "source": [
    "<a id=\"intro\"></a>\n",
    "# Introduction\n",
    "\n",
    "The notebook verifies that pipeline steps from `calwebb_detector1` through `calwebb_image2` and `calwebb_ami3` run without crashing. `calwebb_ami3` is run on various associations of target and calibrator pairs.\n",
    "\n",
    "For more information on the `calwebb_ami3` pipeline stage visit the links below. \n",
    "\n",
    "> Stage description: https://jwst-pipeline.readthedocs.io/en/latest/jwst/pipeline/calwebb_ami3.html\n",
    ">\n",
    "> Pipeline code: https://github.com/spacetelescope/jwst/tree/master/jwst/ami\n",
    "\n",
    "[Top of Page](#title_ID)"
   ]
  },
  {
   "cell_type": "markdown",
   "metadata": {},
   "source": [
    "<a id=\"algorithm\"></a>\n",
    "# JWST CalWG Algorithm\n",
    "\n",
    "`calwebb_ami3` is based on the `implaneia` algorithm:\n",
    "> https://github.com/anand0xff/ImPlaneIA/tree/delivery\n",
    "\n",
    "[Top of Page](#title_ID)"
   ]
  },
  {
   "cell_type": "markdown",
   "metadata": {},
   "source": [
    "<a id=\"terms\"></a>\n",
    "# Defining Terms\n",
    "\n",
    "Calibrator: reference star to measure PSF to calibrate out instrumental contributions to the interferometric observables \n",
    "\n",
    "PSF: point spread function\n",
    "\n",
    "Target: source of interest for science program \n",
    "\n",
    "\n",
    "[Top of Page](#title_ID)"
   ]
  },
  {
   "cell_type": "markdown",
   "metadata": {},
   "source": [
    "<a id=\"description\"></a>\n",
    "# Test Description\n",
    "\n",
    "This test checks that simulated data runs through the `calwebb_detector1`, `calwebb_image2`, and `calwebb_ami3` steps of the pipeline without crashing. Association files are created for the target/calibrator pair at different dither positions. The notebook verifies that the `calwebb_ami3` runs on these association files.\n",
    "\n",
    "[Top of Page](#title_ID)"
   ]
  },
  {
   "cell_type": "markdown",
   "metadata": {},
   "source": [
    "<a id=\"data_descr\"></a>\n",
    "# Data Description\n",
    "\n",
    "The data for this test are simulated AMI datasets that do not have bad pixels. The simulated source data is AB Dor, which is simulated with a 4-point dither pattern:\n",
    "\n",
    "| Source         | Filename| Dither Position |\n",
    "|:----------------|:---------|:-----------------|\n",
    "|AB Dor (Target) |jw01093001001_01101_00005_nis_uncal.fits| 1|\n",
    "| |jw01093001001_01101_00006_nis_uncal.fits| 2 |\n",
    "| |jw01093001001_01101_00007_nis_uncal.fits| 3 |\n",
    "| |jw01093001001_01101_00005_nis_uncal.fits| 4 |\n",
    "\n",
    "HD 37093 is the PSF reference star, which is also simulated with a 4-point dither pattern.\n",
    "\n",
    "| Source         | Filename| Dither Position |\n",
    "|:----------------|:---------|:-----------------|\n",
    "|HD 37093 (Calibrator)| jw01093002001_01101_00005_nis_uncal.fits | 1 |\n",
    "| |jw01093002001_01101_00006_nis_uncal.fits | 2 |\n",
    "| |jw01093002001_01101_00007_nis_uncal.fits | 3 |\n",
    "| |jw01093002001_01101_00005_nis_uncal.fits | 4 |\n",
    "\n",
    "Configuration files are also needed for the various `calwebb_ami3` steps:\n",
    "- ami_analyze.cfg\n",
    "- ami_normalize.cfg\n",
    "- ami_average.cfg\n",
    "- calwebb_ami3.cfig\n",
    "\n",
    "Specific reference files are needed for the analysis, which also do not have bad pixels, and are loaded with this notebook.\n",
    "\n",
    "[Top of Page](#title_ID)"
   ]
  },
  {
   "cell_type": "markdown",
   "metadata": {},
   "source": [
    "<a id=\"tempdir\"></a>\n",
    "# Set up Temporary Directory\n",
    "\n",
    "\n",
    "[Top of Page](#title_ID)"
   ]
  },
  {
   "cell_type": "code",
   "execution_count": 1,
   "metadata": {
    "execution": {
     "iopub.execute_input": "2022-09-20T16:23:39.134625Z",
     "iopub.status.busy": "2022-09-20T16:23:39.133935Z",
     "iopub.status.idle": "2022-09-20T16:23:39.141669Z",
     "shell.execute_reply": "2022-09-20T16:23:39.141125Z"
    }
   },
   "outputs": [
    {
     "name": "stdout",
     "output_type": "stream",
     "text": [
      "Running in /internal/data1/jenkins/workspace/Notebooks/jwst_validation_notebooks_spacetelescope/tmp/tmpwg0e7c63\n"
     ]
    }
   ],
   "source": [
    "use_tempdir = True\n",
    "\n",
    "# Create a temporary directory to hold notebook output, and change the working directory to that directory.\n",
    "from tempfile import TemporaryDirectory\n",
    "import os\n",
    "import shutil\n",
    "\n",
    "if use_tempdir:\n",
    "    data_dir = TemporaryDirectory()\n",
    "\n",
    "    # Save original directory\n",
    "    orig_dir = os.getcwd()\n",
    "\n",
    "    # Move to new directory\n",
    "    odir = data_dir.name\n",
    "    os.chdir(data_dir.name)\n",
    "\n",
    "# For info, print out where the script is running\n",
    "print(\"Running in {}\".format(os.getcwd()))"
   ]
  },
  {
   "cell_type": "code",
   "execution_count": 2,
   "metadata": {
    "execution": {
     "iopub.execute_input": "2022-09-20T16:23:39.144286Z",
     "iopub.status.busy": "2022-09-20T16:23:39.143814Z",
     "iopub.status.idle": "2022-09-20T16:23:39.148030Z",
     "shell.execute_reply": "2022-09-20T16:23:39.147436Z"
    }
   },
   "outputs": [
    {
     "name": "stdout",
     "output_type": "stream",
     "text": [
      "CRDS cache location: /tmp/crds_cache\n"
     ]
    }
   ],
   "source": [
    "import os\n",
    "if 'CRDS_CACHE_TYPE' in os.environ:\n",
    "    if os.environ['CRDS_CACHE_TYPE'] == 'local':\n",
    "        os.environ['CRDS_PATH'] = os.path.join(os.environ['HOME'], 'crds', 'cache')\n",
    "    elif os.path.isdir(os.environ['CRDS_CACHE_TYPE']):\n",
    "        os.environ['CRDS_PATH'] = os.environ['CRDS_CACHE_TYPE']\n",
    "print('CRDS cache location: {}'.format(os.environ['CRDS_PATH']))"
   ]
  },
  {
   "cell_type": "markdown",
   "metadata": {},
   "source": [
    "<a id=\"imports\"></a>\n",
    "# Imports\n",
    "List the package imports and why they are relevant to this notebook.\n",
    "\n",
    "* astropy.io for opening fits files\n",
    "* numpy for working with arrays\n",
    "* IPython.display for printing markdown output\n",
    "* jwst.datamodels for building model for JWST Pipeline\n",
    "* jwst.pipeline.collect_pipeline_cfgs for gathering configuration files\n",
    "* jwst.pipeline for initiating various pipeline stages\n",
    "* jwst.ami to call the AMI Analyze step\n",
    "* jwst.associations for using association files\n",
    "* from ci_watson.artifactory_helpers import get_bigdata for reading data from Artifactory\n",
    "\n",
    "\n",
    "[Top of Page](#title_ID)"
   ]
  },
  {
   "cell_type": "code",
   "execution_count": 3,
   "metadata": {
    "execution": {
     "iopub.execute_input": "2022-09-20T16:23:39.150582Z",
     "iopub.status.busy": "2022-09-20T16:23:39.150128Z",
     "iopub.status.idle": "2022-09-20T16:23:40.449328Z",
     "shell.execute_reply": "2022-09-20T16:23:40.448680Z"
    }
   },
   "outputs": [],
   "source": [
    "from astropy.io import fits\n",
    "import numpy as np\n",
    "from IPython.display import Markdown\n",
    "from jwst.datamodels import ImageModel\n",
    "import jwst.datamodels as datamodels\n",
    "\n",
    "from jwst.pipeline.collect_pipeline_cfgs import collect_pipeline_cfgs\n",
    "from jwst.pipeline import Detector1Pipeline, Image2Pipeline, Image3Pipeline, Ami3Pipeline \n",
    "from jwst.ami import AmiAnalyzeStep  \n",
    "from jwst.associations import asn_from_list\n",
    "from jwst.associations.lib.rules_level3_base import DMS_Level3_Base\n",
    "\n",
    "from ci_watson.artifactory_helpers import get_bigdata"
   ]
  },
  {
   "cell_type": "markdown",
   "metadata": {},
   "source": [
    "<a id=\"data_load\"></a>\n",
    "# Loading the Data\n",
    "[Top of Page](#title_ID)"
   ]
  },
  {
   "cell_type": "code",
   "execution_count": 4,
   "metadata": {
    "execution": {
     "iopub.execute_input": "2022-09-20T16:23:40.453994Z",
     "iopub.status.busy": "2022-09-20T16:23:40.453439Z",
     "iopub.status.idle": "2022-09-20T16:23:41.822399Z",
     "shell.execute_reply": "2022-09-20T16:23:41.821717Z"
    }
   },
   "outputs": [],
   "source": [
    "# Data files that will be imported by Artifactory:\n",
    "datafiles = np.array(['jw01093001001_01101_00005_nis_uncal.fits',\n",
    "                      'jw01093001001_01101_00006_nis_uncal.fits',\n",
    "                      'jw01093001001_01101_00007_nis_uncal.fits',\n",
    "                      'jw01093001001_01101_00008_nis_uncal.fits',\n",
    "                      'jw01093002001_01101_00005_nis_uncal.fits',\n",
    "                      'jw01093002001_01101_00006_nis_uncal.fits',\n",
    "                      'jw01093002001_01101_00007_nis_uncal.fits',\n",
    "                      'jw01093002001_01101_00008_nis_uncal.fits'])\n",
    "\n",
    "# Read in reference files needed for this analysis (these don't have bad pixels, like simulations)\n",
    "superbiasfile = get_bigdata('jwst_validation_notebooks',\n",
    "                            'validation_data',\n",
    "                            'ami_analyze',\n",
    "                            'jwst_niriss_superbias_sim.fits')\n",
    "darkfile = get_bigdata('jwst_validation_notebooks',\n",
    "                       'validation_data',\n",
    "                       'ami_analyze',\n",
    "                       'jwst_niriss_dark_sub80_sim.fits')\n",
    "flatfile = get_bigdata('jwst_validation_notebooks',\n",
    "                       'validation_data',\n",
    "                       'ami_analyze', \n",
    "                       'jwst_niriss_flat_general.fits')\n",
    "\n",
    "# Read in configuration files\n",
    "ami_analyze_cfg = get_bigdata('jwst_validation_notebooks',\n",
    "                              'validation_data',\n",
    "                              'ami_analyze',\n",
    "                              'ami_analyze.cfg')\n",
    "ami_normalize_cfg = get_bigdata('jwst_validation_notebooks',\n",
    "                                'validation_data',\n",
    "                                'ami_analyze',\n",
    "                                'ami_normalize.cfg')\n",
    "ami_average_cfg = get_bigdata('jwst_validation_notebooks',\n",
    "                              'validation_data',\n",
    "                              'ami_analyze',\n",
    "                              'ami_average.cfg')\n",
    "calwebb_ami3_cfg = get_bigdata('jwst_validation_notebooks',\n",
    "                                'validation_data',\n",
    "                                'ami_analyze',\n",
    "                                'calwebb_ami3.cfg')"
   ]
  },
  {
   "cell_type": "markdown",
   "metadata": {},
   "source": [
    "<a id=\"pipeline\"></a>\n",
    "# Run the Pipeline\n",
    "\n",
    "Since this notebook tests whether the pipeline runs on all the datasets, we will run each stage of the pipeline in separate cells. That way, if a step fails, it will be easier to track down at what stage and step this error occurred.\n",
    "\n",
    "[Top of Page](#title_ID)"
   ]
  },
  {
   "cell_type": "markdown",
   "metadata": {},
   "source": [
    "## Run Detector1 stage of the pipeline to calibrate \\*\\_uncal.fits file"
   ]
  },
  {
   "cell_type": "code",
   "execution_count": 5,
   "metadata": {
    "execution": {
     "iopub.execute_input": "2022-09-20T16:23:41.826907Z",
     "iopub.status.busy": "2022-09-20T16:23:41.826433Z",
     "iopub.status.idle": "2022-09-20T16:23:45.616259Z",
     "shell.execute_reply": "2022-09-20T16:23:45.614390Z"
    },
    "scrolled": true
   },
   "outputs": [
    {
     "name": "stderr",
     "output_type": "stream",
     "text": [
      "2022-09-20 12:23:43,333 - stpipe.Detector1Pipeline - INFO - Detector1Pipeline instance created.\n"
     ]
    },
    {
     "name": "stderr",
     "output_type": "stream",
     "text": [
      "2022-09-20 12:23:43,336 - stpipe.Detector1Pipeline.group_scale - INFO - GroupScaleStep instance created.\n"
     ]
    },
    {
     "name": "stderr",
     "output_type": "stream",
     "text": [
      "2022-09-20 12:23:43,337 - stpipe.Detector1Pipeline.dq_init - INFO - DQInitStep instance created.\n"
     ]
    },
    {
     "name": "stderr",
     "output_type": "stream",
     "text": [
      "2022-09-20 12:23:43,338 - stpipe.Detector1Pipeline.saturation - INFO - SaturationStep instance created.\n"
     ]
    },
    {
     "name": "stderr",
     "output_type": "stream",
     "text": [
      "2022-09-20 12:23:43,340 - stpipe.Detector1Pipeline.ipc - INFO - IPCStep instance created.\n"
     ]
    },
    {
     "name": "stderr",
     "output_type": "stream",
     "text": [
      "2022-09-20 12:23:43,341 - stpipe.Detector1Pipeline.superbias - INFO - SuperBiasStep instance created.\n"
     ]
    },
    {
     "name": "stderr",
     "output_type": "stream",
     "text": [
      "2022-09-20 12:23:43,342 - stpipe.Detector1Pipeline.refpix - INFO - RefPixStep instance created.\n"
     ]
    },
    {
     "name": "stderr",
     "output_type": "stream",
     "text": [
      "2022-09-20 12:23:43,343 - stpipe.Detector1Pipeline.rscd - INFO - RscdStep instance created.\n"
     ]
    },
    {
     "name": "stderr",
     "output_type": "stream",
     "text": [
      "2022-09-20 12:23:43,344 - stpipe.Detector1Pipeline.firstframe - INFO - FirstFrameStep instance created.\n"
     ]
    },
    {
     "name": "stderr",
     "output_type": "stream",
     "text": [
      "2022-09-20 12:23:43,345 - stpipe.Detector1Pipeline.lastframe - INFO - LastFrameStep instance created.\n"
     ]
    },
    {
     "name": "stderr",
     "output_type": "stream",
     "text": [
      "2022-09-20 12:23:43,346 - stpipe.Detector1Pipeline.linearity - INFO - LinearityStep instance created.\n"
     ]
    },
    {
     "name": "stderr",
     "output_type": "stream",
     "text": [
      "2022-09-20 12:23:43,347 - stpipe.Detector1Pipeline.dark_current - INFO - DarkCurrentStep instance created.\n"
     ]
    },
    {
     "name": "stderr",
     "output_type": "stream",
     "text": [
      "2022-09-20 12:23:43,348 - stpipe.Detector1Pipeline.reset - INFO - ResetStep instance created.\n"
     ]
    },
    {
     "name": "stderr",
     "output_type": "stream",
     "text": [
      "2022-09-20 12:23:43,350 - stpipe.Detector1Pipeline.persistence - INFO - PersistenceStep instance created.\n"
     ]
    },
    {
     "name": "stderr",
     "output_type": "stream",
     "text": [
      "2022-09-20 12:23:43,351 - stpipe.Detector1Pipeline.jump - INFO - JumpStep instance created.\n"
     ]
    },
    {
     "name": "stderr",
     "output_type": "stream",
     "text": [
      "2022-09-20 12:23:43,352 - stpipe.Detector1Pipeline.ramp_fit - INFO - RampFitStep instance created.\n"
     ]
    },
    {
     "name": "stderr",
     "output_type": "stream",
     "text": [
      "2022-09-20 12:23:43,353 - stpipe.Detector1Pipeline.gain_scale - INFO - GainScaleStep instance created.\n"
     ]
    },
    {
     "name": "stderr",
     "output_type": "stream",
     "text": [
      "2022-09-20 12:23:43,543 - stpipe.Detector1Pipeline - INFO - Step Detector1Pipeline running with args ('/internal/data1/jenkins/workspace/Notebooks/jwst_validation_notebooks_spacetelescope/tmp/tmpwg0e7c63/jw01093001001_01101_00005_nis_uncal.fits',).\n"
     ]
    },
    {
     "name": "stderr",
     "output_type": "stream",
     "text": [
      "2022-09-20 12:23:43,554 - stpipe.Detector1Pipeline - INFO - Step Detector1Pipeline parameters are: {'pre_hooks': [], 'post_hooks': [], 'output_file': None, 'output_dir': '/internal/data1/jenkins/workspace/Notebooks/jwst_validation_notebooks_spacetelescope/tmp/tmpwg0e7c63', 'output_ext': '.fits', 'output_use_model': False, 'output_use_index': True, 'save_results': True, 'skip': False, 'suffix': None, 'search_output_file': True, 'input_dir': '', 'save_calibrated_ramp': False, 'steps': {'group_scale': {'pre_hooks': [], 'post_hooks': [], 'output_file': None, 'output_dir': None, 'output_ext': '.fits', 'output_use_model': False, 'output_use_index': True, 'save_results': False, 'skip': False, 'suffix': None, 'search_output_file': True, 'input_dir': ''}, 'dq_init': {'pre_hooks': [], 'post_hooks': [], 'output_file': None, 'output_dir': None, 'output_ext': '.fits', 'output_use_model': False, 'output_use_index': True, 'save_results': False, 'skip': False, 'suffix': None, 'search_output_file': True, 'input_dir': ''}, 'saturation': {'pre_hooks': [], 'post_hooks': [], 'output_file': None, 'output_dir': None, 'output_ext': '.fits', 'output_use_model': False, 'output_use_index': True, 'save_results': False, 'skip': False, 'suffix': None, 'search_output_file': True, 'input_dir': '', 'n_pix_grow_sat': 1}, 'ipc': {'pre_hooks': [], 'post_hooks': [], 'output_file': None, 'output_dir': None, 'output_ext': '.fits', 'output_use_model': False, 'output_use_index': True, 'save_results': False, 'skip': True, 'suffix': None, 'search_output_file': True, 'input_dir': ''}, 'superbias': {'pre_hooks': [], 'post_hooks': [], 'output_file': None, 'output_dir': None, 'output_ext': '.fits', 'output_use_model': False, 'output_use_index': True, 'save_results': False, 'skip': False, 'suffix': None, 'search_output_file': True, 'input_dir': ''}, 'refpix': {'pre_hooks': [], 'post_hooks': [], 'output_file': None, 'output_dir': None, 'output_ext': '.fits', 'output_use_model': False, 'output_use_index': True, 'save_results': False, 'skip': False, 'suffix': None, 'search_output_file': True, 'input_dir': '', 'odd_even_columns': True, 'use_side_ref_pixels': True, 'side_smoothing_length': 11, 'side_gain': 1.0, 'odd_even_rows': True}, 'rscd': {'pre_hooks': [], 'post_hooks': [], 'output_file': None, 'output_dir': None, 'output_ext': '.fits', 'output_use_model': False, 'output_use_index': True, 'save_results': False, 'skip': False, 'suffix': None, 'search_output_file': True, 'input_dir': '', 'type': 'baseline'}, 'firstframe': {'pre_hooks': [], 'post_hooks': [], 'output_file': None, 'output_dir': None, 'output_ext': '.fits', 'output_use_model': False, 'output_use_index': True, 'save_results': False, 'skip': False, 'suffix': None, 'search_output_file': True, 'input_dir': ''}, 'lastframe': {'pre_hooks': [], 'post_hooks': [], 'output_file': None, 'output_dir': None, 'output_ext': '.fits', 'output_use_model': False, 'output_use_index': True, 'save_results': False, 'skip': False, 'suffix': None, 'search_output_file': True, 'input_dir': ''}, 'linearity': {'pre_hooks': [], 'post_hooks': [], 'output_file': None, 'output_dir': None, 'output_ext': '.fits', 'output_use_model': False, 'output_use_index': True, 'save_results': False, 'skip': False, 'suffix': None, 'search_output_file': True, 'input_dir': ''}, 'dark_current': {'pre_hooks': [], 'post_hooks': [], 'output_file': None, 'output_dir': None, 'output_ext': '.fits', 'output_use_model': False, 'output_use_index': True, 'save_results': False, 'skip': False, 'suffix': None, 'search_output_file': True, 'input_dir': '', 'dark_output': None}, 'reset': {'pre_hooks': [], 'post_hooks': [], 'output_file': None, 'output_dir': None, 'output_ext': '.fits', 'output_use_model': False, 'output_use_index': True, 'save_results': False, 'skip': False, 'suffix': None, 'search_output_file': True, 'input_dir': ''}, 'persistence': {'pre_hooks': [], 'post_hooks': [], 'output_file': None, 'output_dir': None, 'output_ext': '.fits', 'output_use_model': False, 'output_use_index': True, 'save_results': False, 'skip': False, 'suffix': None, 'search_output_file': True, 'input_dir': '', 'input_trapsfilled': '', 'flag_pers_cutoff': 40.0, 'save_persistence': False, 'save_trapsfilled': True}, 'jump': {'pre_hooks': [], 'post_hooks': [], 'output_file': None, 'output_dir': None, 'output_ext': '.fits', 'output_use_model': False, 'output_use_index': True, 'save_results': False, 'skip': False, 'suffix': None, 'search_output_file': True, 'input_dir': '', 'rejection_threshold': 4.0, 'three_group_rejection_threshold': 6.0, 'four_group_rejection_threshold': 5.0, 'maximum_cores': 'none', 'flag_4_neighbors': True, 'max_jump_to_flag_neighbors': 1000.0, 'min_jump_to_flag_neighbors': 10.0, 'after_jump_flag_dn1': 0.0, 'after_jump_flag_time1': 0.0, 'after_jump_flag_dn2': 0.0, 'after_jump_flag_time2': 0.0}, 'ramp_fit': {'pre_hooks': [], 'post_hooks': [], 'output_file': None, 'output_dir': None, 'output_ext': '.fits', 'output_use_model': False, 'output_use_index': True, 'save_results': False, 'skip': False, 'suffix': None, 'search_output_file': True, 'input_dir': '', 'int_name': '', 'save_opt': False, 'opt_name': '', 'suppress_one_group': True, 'maximum_cores': 'none'}, 'gain_scale': {'pre_hooks': [], 'post_hooks': [], 'output_file': None, 'output_dir': None, 'output_ext': '.fits', 'output_use_model': False, 'output_use_index': True, 'save_results': False, 'skip': False, 'suffix': None, 'search_output_file': True, 'input_dir': ''}}}\n"
     ]
    },
    {
     "name": "stderr",
     "output_type": "stream",
     "text": [
      "2022-09-20 12:23:43,643 - stpipe.Detector1Pipeline - INFO - Prefetching reference files for dataset: 'jw01093001001_01101_00005_nis_uncal.fits' reftypes = ['gain', 'linearity', 'mask', 'persat', 'readnoise', 'refpix', 'reset', 'rscd', 'saturation', 'trapdensity', 'trappars']\n"
     ]
    },
    {
     "name": "stderr",
     "output_type": "stream",
     "text": [
      "2022-09-20 12:23:43,715 - CRDS - INFO -  Fetching  /tmp/crds_cache/mappings/jwst/jwst_nirspec_superbias_0051.rmap   26.4 K bytes  (1 / 13 files) (0 / 124.3 K bytes)\n"
     ]
    },
    {
     "name": "stderr",
     "output_type": "stream",
     "text": [
      "Traceback (most recent call last):\n",
      "  File \"/internal/data1/jenkins/workspace/Notebooks/jwst_validation_notebooks_spacetelescope/miniconda3/envs/jwst_validation_notebooks/lib/python3.9/site-packages/crds/core/heavy_client.py\", line 347, in local_bestrefs\n",
      "    return hv_best_references(context, parameters, reftypes)\n",
      "  File \"/internal/data1/jenkins/workspace/Notebooks/jwst_validation_notebooks_spacetelescope/miniconda3/envs/jwst_validation_notebooks/lib/python3.9/site-packages/crds/core/heavy_client.py\", line 367, in hv_best_references\n",
      "    ctx = get_symbolic_mapping(context_file, cached=True)\n",
      "  File \"/internal/data1/jenkins/workspace/Notebooks/jwst_validation_notebooks_spacetelescope/miniconda3/envs/jwst_validation_notebooks/lib/python3.9/site-packages/crds/core/heavy_client.py\", line 670, in get_symbolic_mapping\n",
      "    return get_pickled_mapping(   # reviewed\n",
      "  File \"/internal/data1/jenkins/workspace/Notebooks/jwst_validation_notebooks_spacetelescope/miniconda3/envs/jwst_validation_notebooks/lib/python3.9/site-packages/crds/core/utils.py\", line 306, in __call__\n",
      "    key, result = self._readonly(*args, **keys)\n",
      "  File \"/internal/data1/jenkins/workspace/Notebooks/jwst_validation_notebooks_spacetelescope/miniconda3/envs/jwst_validation_notebooks/lib/python3.9/site-packages/crds/core/utils.py\", line 293, in _readonly\n",
      "    return key, self.uncached(*args, **keys)\n",
      "  File \"/internal/data1/jenkins/workspace/Notebooks/jwst_validation_notebooks_spacetelescope/miniconda3/envs/jwst_validation_notebooks/lib/python3.9/site-packages/crds/core/heavy_client.py\", line 695, in get_pickled_mapping\n",
      "    loaded = rmap.asmapping(mapping, cached=cached, **keys)\n",
      "  File \"/internal/data1/jenkins/workspace/Notebooks/jwst_validation_notebooks_spacetelescope/miniconda3/envs/jwst_validation_notebooks/lib/python3.9/site-packages/crds/core/rmap.py\", line 1665, in asmapping\n",
      "    return get_cached_mapping(filename_or_mapping, **keys)\n",
      "  File \"/internal/data1/jenkins/workspace/Notebooks/jwst_validation_notebooks_spacetelescope/miniconda3/envs/jwst_validation_notebooks/lib/python3.9/site-packages/crds/core/rmap.py\", line 1592, in get_cached_mapping\n",
      "    return _load_mapping(mapping, **keys)\n",
      "  File \"/internal/data1/jenkins/workspace/Notebooks/jwst_validation_notebooks_spacetelescope/miniconda3/envs/jwst_validation_notebooks/lib/python3.9/site-packages/crds/core/utils.py\", line 306, in __call__\n",
      "    key, result = self._readonly(*args, **keys)\n",
      "  File \"/internal/data1/jenkins/workspace/Notebooks/jwst_validation_notebooks_spacetelescope/miniconda3/envs/jwst_validation_notebooks/lib/python3.9/site-packages/crds/core/utils.py\", line 293, in _readonly\n",
      "    return key, self.uncached(*args, **keys)\n",
      "  File \"/internal/data1/jenkins/workspace/Notebooks/jwst_validation_notebooks_spacetelescope/miniconda3/envs/jwst_validation_notebooks/lib/python3.9/site-packages/crds/core/rmap.py\", line 1643, in _load_mapping\n",
      "    return cls.from_file(mapping, **keys)\n",
      "  File \"/internal/data1/jenkins/workspace/Notebooks/jwst_validation_notebooks_spacetelescope/miniconda3/envs/jwst_validation_notebooks/lib/python3.9/site-packages/crds/core/rmap.py\", line 266, in from_file\n",
      "    text = utils.get_uri_content(filename)\n",
      "  File \"/internal/data1/jenkins/workspace/Notebooks/jwst_validation_notebooks_spacetelescope/miniconda3/envs/jwst_validation_notebooks/lib/python3.9/site-packages/crds/core/utils.py\", line 737, in get_uri_content\n",
      "    with open(uri, mode) as file:\n",
      "FileNotFoundError: [Errno 2] No such file or directory: '/tmp/crds_cache/mappings/jwst/jwst_0982.pmap'\n",
      "\n",
      "During handling of the above exception, another exception occurred:\n",
      "\n",
      "Traceback (most recent call last):\n",
      "  File \"/internal/data1/jenkins/workspace/Notebooks/jwst_validation_notebooks_spacetelescope/miniconda3/envs/jwst_validation_notebooks/lib/python3.9/site-packages/crds/client/api.py\", line 653, in download\n",
      "    return proxy.apply_with_retries(self.download_core, name, localpath)\n",
      "  File \"/internal/data1/jenkins/workspace/Notebooks/jwst_validation_notebooks_spacetelescope/miniconda3/envs/jwst_validation_notebooks/lib/python3.9/site-packages/crds/client/proxy.py\", line 50, in apply_with_retries\n",
      "    raise exc2\n",
      "  File \"/internal/data1/jenkins/workspace/Notebooks/jwst_validation_notebooks_spacetelescope/miniconda3/envs/jwst_validation_notebooks/lib/python3.9/site-packages/crds/client/proxy.py\", line 44, in apply_with_retries\n",
      "    return func(*pars, **keys)\n",
      "  File \"/internal/data1/jenkins/workspace/Notebooks/jwst_validation_notebooks_spacetelescope/miniconda3/envs/jwst_validation_notebooks/lib/python3.9/site-packages/crds/client/api.py\", line 679, in download_core\n",
      "    self.generator_download(generator, localpath)\n",
      "  File \"/internal/data1/jenkins/workspace/Notebooks/jwst_validation_notebooks_spacetelescope/miniconda3/envs/jwst_validation_notebooks/lib/python3.9/site-packages/crds/client/api.py\", line 684, in generator_download\n",
      "    with open(localpath, \"wb+\") as outfile:\n",
      "OSError: [Errno 28] No space left on device: '/tmp/crds_cache/mappings/jwst/jwst_nirspec_superbias_0051.rmap'\n",
      "\n",
      "The above exception was the direct cause of the following exception:\n",
      "\n",
      "Traceback (most recent call last):\n",
      "  File \"/internal/data1/jenkins/workspace/Notebooks/jwst_validation_notebooks_spacetelescope/miniconda3/envs/jwst_validation_notebooks/lib/python3.9/site-packages/crds/core/heavy_client.py\", line 351, in local_bestrefs\n",
      "    api.dump_mappings(context, ignore_cache=ignore_cache)\n",
      "  File \"/internal/data1/jenkins/workspace/Notebooks/jwst_validation_notebooks_spacetelescope/miniconda3/envs/jwst_validation_notebooks/lib/python3.9/site-packages/crds/client/api.py\", line 778, in dump_mappings\n",
      "    return dump_mappings3(*args, **keys)[0]\n",
      "  File \"/internal/data1/jenkins/workspace/Notebooks/jwst_validation_notebooks_spacetelescope/miniconda3/envs/jwst_validation_notebooks/lib/python3.9/site-packages/crds/client/api.py\", line 771, in dump_mappings3\n",
      "    return FileCacher(pipeline_context, ignore_cache, raise_exceptions).get_local_files(mappings)\n",
      "  File \"/internal/data1/jenkins/workspace/Notebooks/jwst_validation_notebooks_spacetelescope/miniconda3/envs/jwst_validation_notebooks/lib/python3.9/site-packages/crds/client/api.py\", line 594, in get_local_files\n",
      "    n_bytes = self.download_files(downloads, localpaths)\n",
      "  File \"/internal/data1/jenkins/workspace/Notebooks/jwst_validation_notebooks_spacetelescope/miniconda3/envs/jwst_validation_notebooks/lib/python3.9/site-packages/crds/client/api.py\", line 634, in download_files\n",
      "    self.download(name, path)\n",
      "  File \"/internal/data1/jenkins/workspace/Notebooks/jwst_validation_notebooks_spacetelescope/miniconda3/envs/jwst_validation_notebooks/lib/python3.9/site-packages/crds/client/api.py\", line 656, in download\n",
      "    raise CrdsDownloadError(\n",
      "crds.core.exceptions.CrdsDownloadError: Error fetching data for 'jwst_nirspec_superbias_0051.rmap' at CRDS server 'https://jwst-crds.stsci.edu' with mode 'http' : [Errno 28] No space left on device: '/tmp/crds_cache/mappings/jwst/jwst_nirspec_superbias_0051.rmap'\n"
     ]
    },
    {
     "ename": "CrdsDownloadError",
     "evalue": "Failed caching mapping files: Error fetching data for 'jwst_nirspec_superbias_0051.rmap' at CRDS server 'https://jwst-crds.stsci.edu' with mode 'http' : [Errno 28] No space left on device: '/tmp/crds_cache/mappings/jwst/jwst_nirspec_superbias_0051.rmap'",
     "output_type": "error",
     "traceback": [
      "\u001b[0;31m---------------------------------------------------------------------------\u001b[0m",
      "\u001b[0;31mFileNotFoundError\u001b[0m                         Traceback (most recent call last)",
      "File \u001b[0;32m~/miniconda3/envs/jwst_validation_notebooks/lib/python3.9/site-packages/crds/core/heavy_client.py:347\u001b[0m, in \u001b[0;36mlocal_bestrefs\u001b[0;34m(parameters, reftypes, context, ignore_cache)\u001b[0m\n\u001b[1;32m    346\u001b[0m     \u001b[38;5;66;03m# Finally do the best refs computation using pmap methods from local code.\u001b[39;00m\n\u001b[0;32m--> 347\u001b[0m     \u001b[38;5;28;01mreturn\u001b[39;00m \u001b[43mhv_best_references\u001b[49m\u001b[43m(\u001b[49m\u001b[43mcontext\u001b[49m\u001b[43m,\u001b[49m\u001b[43m \u001b[49m\u001b[43mparameters\u001b[49m\u001b[43m,\u001b[49m\u001b[43m \u001b[49m\u001b[43mreftypes\u001b[49m\u001b[43m)\u001b[49m\n\u001b[1;32m    348\u001b[0m \u001b[38;5;28;01mexcept\u001b[39;00m \u001b[38;5;167;01mIOError\u001b[39;00m \u001b[38;5;28;01mas\u001b[39;00m exc:\n",
      "File \u001b[0;32m~/miniconda3/envs/jwst_validation_notebooks/lib/python3.9/site-packages/crds/core/heavy_client.py:367\u001b[0m, in \u001b[0;36mhv_best_references\u001b[0;34m(context_file, header, include, condition)\u001b[0m\n\u001b[1;32m    361\u001b[0m \u001b[38;5;124;03m\"\"\"Compute the best references for `header` for the given CRDS\u001b[39;00m\n\u001b[1;32m    362\u001b[0m \u001b[38;5;124;03m`context_file`.   This is a local computation using local rmaps and\u001b[39;00m\n\u001b[1;32m    363\u001b[0m \u001b[38;5;124;03mCPU resources.   If `include` is None,  return results for all\u001b[39;00m\n\u001b[1;32m    364\u001b[0m \u001b[38;5;124;03mfilekinds appropriate to `header`,  otherwise return only those\u001b[39;00m\n\u001b[1;32m    365\u001b[0m \u001b[38;5;124;03mfilekinds listed in `include`.\u001b[39;00m\n\u001b[1;32m    366\u001b[0m \u001b[38;5;124;03m\"\"\"\u001b[39;00m\n\u001b[0;32m--> 367\u001b[0m ctx \u001b[38;5;241m=\u001b[39m \u001b[43mget_symbolic_mapping\u001b[49m\u001b[43m(\u001b[49m\u001b[43mcontext_file\u001b[49m\u001b[43m,\u001b[49m\u001b[43m \u001b[49m\u001b[43mcached\u001b[49m\u001b[38;5;241;43m=\u001b[39;49m\u001b[38;5;28;43;01mTrue\u001b[39;49;00m\u001b[43m)\u001b[49m\n\u001b[1;32m    368\u001b[0m conditioned \u001b[38;5;241m=\u001b[39m utils\u001b[38;5;241m.\u001b[39mcondition_header(header) \u001b[38;5;28;01mif\u001b[39;00m condition \u001b[38;5;28;01melse\u001b[39;00m header\n",
      "File \u001b[0;32m~/miniconda3/envs/jwst_validation_notebooks/lib/python3.9/site-packages/crds/core/heavy_client.py:670\u001b[0m, in \u001b[0;36mget_symbolic_mapping\u001b[0;34m(mapping, observatory, cached, use_pickles, save_pickles, **keys)\u001b[0m\n\u001b[1;32m    669\u001b[0m abs_mapping \u001b[38;5;241m=\u001b[39m translate_date_based_context(mapping, observatory)\n\u001b[0;32m--> 670\u001b[0m \u001b[38;5;28;01mreturn\u001b[39;00m \u001b[43mget_pickled_mapping\u001b[49m\u001b[43m(\u001b[49m\u001b[43m   \u001b[49m\u001b[38;5;66;43;03m# reviewed\u001b[39;49;00m\n\u001b[1;32m    671\u001b[0m \u001b[43m    \u001b[49m\u001b[43mabs_mapping\u001b[49m\u001b[43m,\u001b[49m\u001b[43m \u001b[49m\u001b[43mcached\u001b[49m\u001b[38;5;241;43m=\u001b[39;49m\u001b[43mcached\u001b[49m\u001b[43m,\u001b[49m\u001b[43m \u001b[49m\u001b[43muse_pickles\u001b[49m\u001b[38;5;241;43m=\u001b[39;49m\u001b[43muse_pickles\u001b[49m\u001b[43m,\u001b[49m\u001b[43m \u001b[49m\u001b[43msave_pickles\u001b[49m\u001b[38;5;241;43m=\u001b[39;49m\u001b[43msave_pickles\u001b[49m\u001b[43m,\u001b[49m\u001b[43m \u001b[49m\u001b[38;5;241;43m*\u001b[39;49m\u001b[38;5;241;43m*\u001b[39;49m\u001b[43mkeys\u001b[49m\u001b[43m)\u001b[49m\n",
      "File \u001b[0;32m~/miniconda3/envs/jwst_validation_notebooks/lib/python3.9/site-packages/crds/core/utils.py:306\u001b[0m, in \u001b[0;36mCachedFunction.__call__\u001b[0;34m(self, *args, **keys)\u001b[0m\n\u001b[1;32m    303\u001b[0m \u001b[38;5;124;03m\"\"\"Compute or fetch func(*args, **keys).  Add the result to the cache.\u001b[39;00m\n\u001b[1;32m    304\u001b[0m \u001b[38;5;124;03mreturn func(*args, **keys)\u001b[39;00m\n\u001b[1;32m    305\u001b[0m \u001b[38;5;124;03m\"\"\"\u001b[39;00m\n\u001b[0;32m--> 306\u001b[0m key, result \u001b[38;5;241m=\u001b[39m \u001b[38;5;28;43mself\u001b[39;49m\u001b[38;5;241;43m.\u001b[39;49m\u001b[43m_readonly\u001b[49m\u001b[43m(\u001b[49m\u001b[38;5;241;43m*\u001b[39;49m\u001b[43margs\u001b[49m\u001b[43m,\u001b[49m\u001b[43m \u001b[49m\u001b[38;5;241;43m*\u001b[39;49m\u001b[38;5;241;43m*\u001b[39;49m\u001b[43mkeys\u001b[49m\u001b[43m)\u001b[49m\n\u001b[1;32m    307\u001b[0m \u001b[38;5;28mself\u001b[39m\u001b[38;5;241m.\u001b[39mcache[key] \u001b[38;5;241m=\u001b[39m result\n",
      "File \u001b[0;32m~/miniconda3/envs/jwst_validation_notebooks/lib/python3.9/site-packages/crds/core/utils.py:293\u001b[0m, in \u001b[0;36mCachedFunction._readonly\u001b[0;34m(self, *args, **keys)\u001b[0m\n\u001b[1;32m    292\u001b[0m log\u001b[38;5;241m.\u001b[39mverbose(\u001b[38;5;124m\"\u001b[39m\u001b[38;5;124mUncached call\u001b[39m\u001b[38;5;124m\"\u001b[39m, \u001b[38;5;28mself\u001b[39m\u001b[38;5;241m.\u001b[39muncached\u001b[38;5;241m.\u001b[39m\u001b[38;5;18m__name__\u001b[39m, \u001b[38;5;28mrepr\u001b[39m(key), verbosity\u001b[38;5;241m=\u001b[39m\u001b[38;5;241m80\u001b[39m)\n\u001b[0;32m--> 293\u001b[0m \u001b[38;5;28;01mreturn\u001b[39;00m key, \u001b[38;5;28;43mself\u001b[39;49m\u001b[38;5;241;43m.\u001b[39;49m\u001b[43muncached\u001b[49m\u001b[43m(\u001b[49m\u001b[38;5;241;43m*\u001b[39;49m\u001b[43margs\u001b[49m\u001b[43m,\u001b[49m\u001b[43m \u001b[49m\u001b[38;5;241;43m*\u001b[39;49m\u001b[38;5;241;43m*\u001b[39;49m\u001b[43mkeys\u001b[49m\u001b[43m)\u001b[49m\n",
      "File \u001b[0;32m~/miniconda3/envs/jwst_validation_notebooks/lib/python3.9/site-packages/crds/core/heavy_client.py:695\u001b[0m, in \u001b[0;36mget_pickled_mapping\u001b[0;34m(mapping, cached, use_pickles, save_pickles, **keys)\u001b[0m\n\u001b[1;32m    694\u001b[0m \u001b[38;5;28;01melse\u001b[39;00m:\n\u001b[0;32m--> 695\u001b[0m     loaded \u001b[38;5;241m=\u001b[39m \u001b[43mrmap\u001b[49m\u001b[38;5;241;43m.\u001b[39;49m\u001b[43masmapping\u001b[49m\u001b[43m(\u001b[49m\u001b[43mmapping\u001b[49m\u001b[43m,\u001b[49m\u001b[43m \u001b[49m\u001b[43mcached\u001b[49m\u001b[38;5;241;43m=\u001b[39;49m\u001b[43mcached\u001b[49m\u001b[43m,\u001b[49m\u001b[43m \u001b[49m\u001b[38;5;241;43m*\u001b[39;49m\u001b[38;5;241;43m*\u001b[39;49m\u001b[43mkeys\u001b[49m\u001b[43m)\u001b[49m\n\u001b[1;32m    696\u001b[0m \u001b[38;5;28;01mreturn\u001b[39;00m loaded\n",
      "File \u001b[0;32m~/miniconda3/envs/jwst_validation_notebooks/lib/python3.9/site-packages/crds/core/rmap.py:1665\u001b[0m, in \u001b[0;36masmapping\u001b[0;34m(filename_or_mapping, cached, **keys)\u001b[0m\n\u001b[1;32m   1664\u001b[0m \u001b[38;5;28;01melif\u001b[39;00m cached \u001b[38;5;129;01min\u001b[39;00m [\u001b[38;5;28;01mTrue\u001b[39;00m, \u001b[38;5;124m\"\u001b[39m\u001b[38;5;124mcached\u001b[39m\u001b[38;5;124m\"\u001b[39m]:\n\u001b[0;32m-> 1665\u001b[0m     \u001b[38;5;28;01mreturn\u001b[39;00m \u001b[43mget_cached_mapping\u001b[49m\u001b[43m(\u001b[49m\u001b[43mfilename_or_mapping\u001b[49m\u001b[43m,\u001b[49m\u001b[43m \u001b[49m\u001b[38;5;241;43m*\u001b[39;49m\u001b[38;5;241;43m*\u001b[39;49m\u001b[43mkeys\u001b[49m\u001b[43m)\u001b[49m\n\u001b[1;32m   1666\u001b[0m \u001b[38;5;28;01melif\u001b[39;00m cached \u001b[38;5;241m==\u001b[39m \u001b[38;5;124m\"\u001b[39m\u001b[38;5;124mreadonly\u001b[39m\u001b[38;5;124m\"\u001b[39m:\n",
      "File \u001b[0;32m~/miniconda3/envs/jwst_validation_notebooks/lib/python3.9/site-packages/crds/core/rmap.py:1592\u001b[0m, in \u001b[0;36mget_cached_mapping\u001b[0;34m(mapping, **keys)\u001b[0m\n\u001b[1;32m   1591\u001b[0m keys[\u001b[38;5;124m\"\u001b[39m\u001b[38;5;124mloader\u001b[39m\u001b[38;5;124m\"\u001b[39m] \u001b[38;5;241m=\u001b[39m get_cached_mapping\n\u001b[0;32m-> 1592\u001b[0m \u001b[38;5;28;01mreturn\u001b[39;00m \u001b[43m_load_mapping\u001b[49m\u001b[43m(\u001b[49m\u001b[43mmapping\u001b[49m\u001b[43m,\u001b[49m\u001b[43m \u001b[49m\u001b[38;5;241;43m*\u001b[39;49m\u001b[38;5;241;43m*\u001b[39;49m\u001b[43mkeys\u001b[49m\u001b[43m)\u001b[49m\n",
      "File \u001b[0;32m~/miniconda3/envs/jwst_validation_notebooks/lib/python3.9/site-packages/crds/core/utils.py:306\u001b[0m, in \u001b[0;36mCachedFunction.__call__\u001b[0;34m(self, *args, **keys)\u001b[0m\n\u001b[1;32m    303\u001b[0m \u001b[38;5;124;03m\"\"\"Compute or fetch func(*args, **keys).  Add the result to the cache.\u001b[39;00m\n\u001b[1;32m    304\u001b[0m \u001b[38;5;124;03mreturn func(*args, **keys)\u001b[39;00m\n\u001b[1;32m    305\u001b[0m \u001b[38;5;124;03m\"\"\"\u001b[39;00m\n\u001b[0;32m--> 306\u001b[0m key, result \u001b[38;5;241m=\u001b[39m \u001b[38;5;28;43mself\u001b[39;49m\u001b[38;5;241;43m.\u001b[39;49m\u001b[43m_readonly\u001b[49m\u001b[43m(\u001b[49m\u001b[38;5;241;43m*\u001b[39;49m\u001b[43margs\u001b[49m\u001b[43m,\u001b[49m\u001b[43m \u001b[49m\u001b[38;5;241;43m*\u001b[39;49m\u001b[38;5;241;43m*\u001b[39;49m\u001b[43mkeys\u001b[49m\u001b[43m)\u001b[49m\n\u001b[1;32m    307\u001b[0m \u001b[38;5;28mself\u001b[39m\u001b[38;5;241m.\u001b[39mcache[key] \u001b[38;5;241m=\u001b[39m result\n",
      "File \u001b[0;32m~/miniconda3/envs/jwst_validation_notebooks/lib/python3.9/site-packages/crds/core/utils.py:293\u001b[0m, in \u001b[0;36mCachedFunction._readonly\u001b[0;34m(self, *args, **keys)\u001b[0m\n\u001b[1;32m    292\u001b[0m log\u001b[38;5;241m.\u001b[39mverbose(\u001b[38;5;124m\"\u001b[39m\u001b[38;5;124mUncached call\u001b[39m\u001b[38;5;124m\"\u001b[39m, \u001b[38;5;28mself\u001b[39m\u001b[38;5;241m.\u001b[39muncached\u001b[38;5;241m.\u001b[39m\u001b[38;5;18m__name__\u001b[39m, \u001b[38;5;28mrepr\u001b[39m(key), verbosity\u001b[38;5;241m=\u001b[39m\u001b[38;5;241m80\u001b[39m)\n\u001b[0;32m--> 293\u001b[0m \u001b[38;5;28;01mreturn\u001b[39;00m key, \u001b[38;5;28;43mself\u001b[39;49m\u001b[38;5;241;43m.\u001b[39;49m\u001b[43muncached\u001b[49m\u001b[43m(\u001b[49m\u001b[38;5;241;43m*\u001b[39;49m\u001b[43margs\u001b[49m\u001b[43m,\u001b[49m\u001b[43m \u001b[49m\u001b[38;5;241;43m*\u001b[39;49m\u001b[38;5;241;43m*\u001b[39;49m\u001b[43mkeys\u001b[49m\u001b[43m)\u001b[49m\n",
      "File \u001b[0;32m~/miniconda3/envs/jwst_validation_notebooks/lib/python3.9/site-packages/crds/core/rmap.py:1643\u001b[0m, in \u001b[0;36m_load_mapping\u001b[0;34m(mapping, **keys)\u001b[0m\n\u001b[1;32m   1642\u001b[0m \u001b[38;5;28;01melse\u001b[39;00m:\n\u001b[0;32m-> 1643\u001b[0m     \u001b[38;5;28;01mreturn\u001b[39;00m \u001b[38;5;28;43mcls\u001b[39;49m\u001b[38;5;241;43m.\u001b[39;49m\u001b[43mfrom_file\u001b[49m\u001b[43m(\u001b[49m\u001b[43mmapping\u001b[49m\u001b[43m,\u001b[49m\u001b[43m \u001b[49m\u001b[38;5;241;43m*\u001b[39;49m\u001b[38;5;241;43m*\u001b[39;49m\u001b[43mkeys\u001b[49m\u001b[43m)\u001b[49m\n",
      "File \u001b[0;32m~/miniconda3/envs/jwst_validation_notebooks/lib/python3.9/site-packages/crds/core/rmap.py:266\u001b[0m, in \u001b[0;36mMapping.from_file\u001b[0;34m(cls, basename, *args, **keys)\u001b[0m\n\u001b[1;32m    265\u001b[0m     filename \u001b[38;5;241m=\u001b[39m config\u001b[38;5;241m.\u001b[39mlocate_mapping(basename)\n\u001b[0;32m--> 266\u001b[0m text \u001b[38;5;241m=\u001b[39m \u001b[43mutils\u001b[49m\u001b[38;5;241;43m.\u001b[39;49m\u001b[43mget_uri_content\u001b[49m\u001b[43m(\u001b[49m\u001b[43mfilename\u001b[49m\u001b[43m)\u001b[49m\n\u001b[1;32m    267\u001b[0m \u001b[38;5;28;01mreturn\u001b[39;00m \u001b[38;5;28mcls\u001b[39m\u001b[38;5;241m.\u001b[39mfrom_string(text, basename, \u001b[38;5;241m*\u001b[39margs, \u001b[38;5;241m*\u001b[39m\u001b[38;5;241m*\u001b[39mkeys)\n",
      "File \u001b[0;32m~/miniconda3/envs/jwst_validation_notebooks/lib/python3.9/site-packages/crds/core/utils.py:737\u001b[0m, in \u001b[0;36mget_uri_content\u001b[0;34m(uri, mode)\u001b[0m\n\u001b[1;32m    736\u001b[0m mode \u001b[38;5;241m=\u001b[39m \u001b[38;5;124m\"\u001b[39m\u001b[38;5;124mr\u001b[39m\u001b[38;5;124m\"\u001b[39m \u001b[38;5;28;01mif\u001b[39;00m (mode\u001b[38;5;241m==\u001b[39m\u001b[38;5;124m\"\u001b[39m\u001b[38;5;124mtext\u001b[39m\u001b[38;5;124m\"\u001b[39m) \u001b[38;5;28;01melse\u001b[39;00m \u001b[38;5;124m\"\u001b[39m\u001b[38;5;124mrb\u001b[39m\u001b[38;5;124m\"\u001b[39m\n\u001b[0;32m--> 737\u001b[0m \u001b[38;5;28;01mwith\u001b[39;00m \u001b[38;5;28;43mopen\u001b[39;49m\u001b[43m(\u001b[49m\u001b[43muri\u001b[49m\u001b[43m,\u001b[49m\u001b[43m \u001b[49m\u001b[43mmode\u001b[49m\u001b[43m)\u001b[49m \u001b[38;5;28;01mas\u001b[39;00m file:\n\u001b[1;32m    738\u001b[0m     \u001b[38;5;28;01mreturn\u001b[39;00m file\u001b[38;5;241m.\u001b[39mread()\n",
      "\u001b[0;31mFileNotFoundError\u001b[0m: [Errno 2] No such file or directory: '/tmp/crds_cache/mappings/jwst/jwst_0982.pmap'",
      "\nDuring handling of the above exception, another exception occurred:\n",
      "\u001b[0;31mOSError\u001b[0m                                   Traceback (most recent call last)",
      "File \u001b[0;32m~/miniconda3/envs/jwst_validation_notebooks/lib/python3.9/site-packages/crds/client/api.py:653\u001b[0m, in \u001b[0;36mFileCacher.download\u001b[0;34m(self, name, localpath)\u001b[0m\n\u001b[1;32m    652\u001b[0m     utils\u001b[38;5;241m.\u001b[39mensure_dir_exists(localpath)\n\u001b[0;32m--> 653\u001b[0m     \u001b[38;5;28;01mreturn\u001b[39;00m \u001b[43mproxy\u001b[49m\u001b[38;5;241;43m.\u001b[39;49m\u001b[43mapply_with_retries\u001b[49m\u001b[43m(\u001b[49m\u001b[38;5;28;43mself\u001b[39;49m\u001b[38;5;241;43m.\u001b[39;49m\u001b[43mdownload_core\u001b[49m\u001b[43m,\u001b[49m\u001b[43m \u001b[49m\u001b[43mname\u001b[49m\u001b[43m,\u001b[49m\u001b[43m \u001b[49m\u001b[43mlocalpath\u001b[49m\u001b[43m)\u001b[49m\n\u001b[1;32m    654\u001b[0m \u001b[38;5;28;01mexcept\u001b[39;00m \u001b[38;5;167;01mException\u001b[39;00m \u001b[38;5;28;01mas\u001b[39;00m exc:\n",
      "File \u001b[0;32m~/miniconda3/envs/jwst_validation_notebooks/lib/python3.9/site-packages/crds/client/proxy.py:50\u001b[0m, in \u001b[0;36mapply_with_retries\u001b[0;34m(func, *pars, **keys)\u001b[0m\n\u001b[1;32m     49\u001b[0m         exc2 \u001b[38;5;241m=\u001b[39m exc\n\u001b[0;32m---> 50\u001b[0m \u001b[38;5;28;01mraise\u001b[39;00m exc2\n",
      "File \u001b[0;32m~/miniconda3/envs/jwst_validation_notebooks/lib/python3.9/site-packages/crds/client/proxy.py:44\u001b[0m, in \u001b[0;36mapply_with_retries\u001b[0;34m(func, *pars, **keys)\u001b[0m\n\u001b[1;32m     43\u001b[0m \u001b[38;5;28;01mtry\u001b[39;00m:\n\u001b[0;32m---> 44\u001b[0m     \u001b[38;5;28;01mreturn\u001b[39;00m \u001b[43mfunc\u001b[49m\u001b[43m(\u001b[49m\u001b[38;5;241;43m*\u001b[39;49m\u001b[43mpars\u001b[49m\u001b[43m,\u001b[49m\u001b[43m \u001b[49m\u001b[38;5;241;43m*\u001b[39;49m\u001b[38;5;241;43m*\u001b[39;49m\u001b[43mkeys\u001b[49m\u001b[43m)\u001b[49m\n\u001b[1;32m     45\u001b[0m \u001b[38;5;28;01mexcept\u001b[39;00m \u001b[38;5;167;01mException\u001b[39;00m \u001b[38;5;28;01mas\u001b[39;00m exc:\n",
      "File \u001b[0;32m~/miniconda3/envs/jwst_validation_notebooks/lib/python3.9/site-packages/crds/client/api.py:679\u001b[0m, in \u001b[0;36mFileCacher.download_core\u001b[0;34m(self, name, localpath)\u001b[0m\n\u001b[1;32m    678\u001b[0m     generator \u001b[38;5;241m=\u001b[39m \u001b[38;5;28mself\u001b[39m\u001b[38;5;241m.\u001b[39mget_data_http(name)\n\u001b[0;32m--> 679\u001b[0m     \u001b[38;5;28;43mself\u001b[39;49m\u001b[38;5;241;43m.\u001b[39;49m\u001b[43mgenerator_download\u001b[49m\u001b[43m(\u001b[49m\u001b[43mgenerator\u001b[49m\u001b[43m,\u001b[49m\u001b[43m \u001b[49m\u001b[43mlocalpath\u001b[49m\u001b[43m)\u001b[49m\n\u001b[1;32m    680\u001b[0m \u001b[38;5;28mself\u001b[39m\u001b[38;5;241m.\u001b[39mverify_file(name, localpath)\n",
      "File \u001b[0;32m~/miniconda3/envs/jwst_validation_notebooks/lib/python3.9/site-packages/crds/client/api.py:684\u001b[0m, in \u001b[0;36mFileCacher.generator_download\u001b[0;34m(self, generator, localpath)\u001b[0m\n\u001b[1;32m    683\u001b[0m \u001b[38;5;124;03m\"\"\"Read all bytes from `generator` until file is downloaded to `localpath.`\"\"\"\u001b[39;00m\n\u001b[0;32m--> 684\u001b[0m \u001b[38;5;28;01mwith\u001b[39;00m \u001b[38;5;28;43mopen\u001b[39;49m\u001b[43m(\u001b[49m\u001b[43mlocalpath\u001b[49m\u001b[43m,\u001b[49m\u001b[43m \u001b[49m\u001b[38;5;124;43m\"\u001b[39;49m\u001b[38;5;124;43mwb+\u001b[39;49m\u001b[38;5;124;43m\"\u001b[39;49m\u001b[43m)\u001b[49m \u001b[38;5;28;01mas\u001b[39;00m outfile:\n\u001b[1;32m    685\u001b[0m     \u001b[38;5;28;01mfor\u001b[39;00m data \u001b[38;5;129;01min\u001b[39;00m generator:\n",
      "\u001b[0;31mOSError\u001b[0m: [Errno 28] No space left on device: '/tmp/crds_cache/mappings/jwst/jwst_nirspec_superbias_0051.rmap'",
      "\nThe above exception was the direct cause of the following exception:\n",
      "\u001b[0;31mCrdsDownloadError\u001b[0m                         Traceback (most recent call last)",
      "File \u001b[0;32m~/miniconda3/envs/jwst_validation_notebooks/lib/python3.9/site-packages/crds/core/heavy_client.py:351\u001b[0m, in \u001b[0;36mlocal_bestrefs\u001b[0;34m(parameters, reftypes, context, ignore_cache)\u001b[0m\n\u001b[1;32m    350\u001b[0m \u001b[38;5;28;01mtry\u001b[39;00m:\n\u001b[0;32m--> 351\u001b[0m     \u001b[43mapi\u001b[49m\u001b[38;5;241;43m.\u001b[39;49m\u001b[43mdump_mappings\u001b[49m\u001b[43m(\u001b[49m\u001b[43mcontext\u001b[49m\u001b[43m,\u001b[49m\u001b[43m \u001b[49m\u001b[43mignore_cache\u001b[49m\u001b[38;5;241;43m=\u001b[39;49m\u001b[43mignore_cache\u001b[49m\u001b[43m)\u001b[49m\n\u001b[1;32m    352\u001b[0m \u001b[38;5;28;01mexcept\u001b[39;00m CrdsError \u001b[38;5;28;01mas\u001b[39;00m exc:\n",
      "File \u001b[0;32m~/miniconda3/envs/jwst_validation_notebooks/lib/python3.9/site-packages/crds/client/api.py:778\u001b[0m, in \u001b[0;36mdump_mappings\u001b[0;34m(*args, **keys)\u001b[0m\n\u001b[1;32m    774\u001b[0m \u001b[38;5;124;03m\"\"\"See dump_mappings3.\u001b[39;00m\n\u001b[1;32m    775\u001b[0m \n\u001b[1;32m    776\u001b[0m \u001b[38;5;124;03mReturns { mapping_basename :   mapping_local_filepath ... }\u001b[39;00m\n\u001b[1;32m    777\u001b[0m \u001b[38;5;124;03m\"\"\"\u001b[39;00m\n\u001b[0;32m--> 778\u001b[0m \u001b[38;5;28;01mreturn\u001b[39;00m \u001b[43mdump_mappings3\u001b[49m\u001b[43m(\u001b[49m\u001b[38;5;241;43m*\u001b[39;49m\u001b[43margs\u001b[49m\u001b[43m,\u001b[49m\u001b[43m \u001b[49m\u001b[38;5;241;43m*\u001b[39;49m\u001b[38;5;241;43m*\u001b[39;49m\u001b[43mkeys\u001b[49m\u001b[43m)\u001b[49m[\u001b[38;5;241m0\u001b[39m]\n",
      "File \u001b[0;32m~/miniconda3/envs/jwst_validation_notebooks/lib/python3.9/site-packages/crds/client/api.py:771\u001b[0m, in \u001b[0;36mdump_mappings3\u001b[0;34m(pipeline_context, ignore_cache, mappings, raise_exceptions)\u001b[0m\n\u001b[1;32m    770\u001b[0m mappings \u001b[38;5;241m=\u001b[39m \u001b[38;5;28mlist\u001b[39m(\u001b[38;5;28mreversed\u001b[39m(\u001b[38;5;28msorted\u001b[39m(\u001b[38;5;28mset\u001b[39m(mappings))))\n\u001b[0;32m--> 771\u001b[0m \u001b[38;5;28;01mreturn\u001b[39;00m \u001b[43mFileCacher\u001b[49m\u001b[43m(\u001b[49m\u001b[43mpipeline_context\u001b[49m\u001b[43m,\u001b[49m\u001b[43m \u001b[49m\u001b[43mignore_cache\u001b[49m\u001b[43m,\u001b[49m\u001b[43m \u001b[49m\u001b[43mraise_exceptions\u001b[49m\u001b[43m)\u001b[49m\u001b[38;5;241;43m.\u001b[39;49m\u001b[43mget_local_files\u001b[49m\u001b[43m(\u001b[49m\u001b[43mmappings\u001b[49m\u001b[43m)\u001b[49m\n",
      "File \u001b[0;32m~/miniconda3/envs/jwst_validation_notebooks/lib/python3.9/site-packages/crds/client/api.py:594\u001b[0m, in \u001b[0;36mFileCacher.get_local_files\u001b[0;34m(self, names)\u001b[0m\n\u001b[1;32m    593\u001b[0m \u001b[38;5;28;01mif\u001b[39;00m downloads:\n\u001b[0;32m--> 594\u001b[0m     n_bytes \u001b[38;5;241m=\u001b[39m \u001b[38;5;28;43mself\u001b[39;49m\u001b[38;5;241;43m.\u001b[39;49m\u001b[43mdownload_files\u001b[49m\u001b[43m(\u001b[49m\u001b[43mdownloads\u001b[49m\u001b[43m,\u001b[49m\u001b[43m \u001b[49m\u001b[43mlocalpaths\u001b[49m\u001b[43m)\u001b[49m\n\u001b[1;32m    595\u001b[0m \u001b[38;5;28;01melse\u001b[39;00m:\n",
      "File \u001b[0;32m~/miniconda3/envs/jwst_validation_notebooks/lib/python3.9/site-packages/crds/client/api.py:634\u001b[0m, in \u001b[0;36mFileCacher.download_files\u001b[0;34m(self, downloads, localpaths)\u001b[0m\n\u001b[1;32m    633\u001b[0m log\u001b[38;5;241m.\u001b[39minfo(file_progress(\u001b[38;5;124m\"\u001b[39m\u001b[38;5;124mFetching\u001b[39m\u001b[38;5;124m\"\u001b[39m, name, path, \u001b[38;5;28mbytes\u001b[39m, bytes_so_far, total_bytes, nth_file, total_files))\n\u001b[0;32m--> 634\u001b[0m \u001b[38;5;28;43mself\u001b[39;49m\u001b[38;5;241;43m.\u001b[39;49m\u001b[43mdownload\u001b[49m\u001b[43m(\u001b[49m\u001b[43mname\u001b[49m\u001b[43m,\u001b[49m\u001b[43m \u001b[49m\u001b[43mpath\u001b[49m\u001b[43m)\u001b[49m\n\u001b[1;32m    635\u001b[0m bytes_so_far \u001b[38;5;241m+\u001b[39m\u001b[38;5;241m=\u001b[39m os\u001b[38;5;241m.\u001b[39mstat(path)\u001b[38;5;241m.\u001b[39mst_size\n",
      "File \u001b[0;32m~/miniconda3/envs/jwst_validation_notebooks/lib/python3.9/site-packages/crds/client/api.py:656\u001b[0m, in \u001b[0;36mFileCacher.download\u001b[0;34m(self, name, localpath)\u001b[0m\n\u001b[1;32m    655\u001b[0m     \u001b[38;5;28mself\u001b[39m\u001b[38;5;241m.\u001b[39mremove_file(localpath)\n\u001b[0;32m--> 656\u001b[0m     \u001b[38;5;28;01mraise\u001b[39;00m CrdsDownloadError(\n\u001b[1;32m    657\u001b[0m         \u001b[38;5;124m\"\u001b[39m\u001b[38;5;124mError fetching data for\u001b[39m\u001b[38;5;124m\"\u001b[39m, srepr(name),\n\u001b[1;32m    658\u001b[0m         \u001b[38;5;124m\"\u001b[39m\u001b[38;5;124mat CRDS server\u001b[39m\u001b[38;5;124m\"\u001b[39m, srepr(get_crds_server()),\n\u001b[1;32m    659\u001b[0m         \u001b[38;5;124m\"\u001b[39m\u001b[38;5;124mwith mode\u001b[39m\u001b[38;5;124m\"\u001b[39m, srepr(config\u001b[38;5;241m.\u001b[39mget_download_mode()),\n\u001b[1;32m    660\u001b[0m         \u001b[38;5;124m\"\u001b[39m\u001b[38;5;124m:\u001b[39m\u001b[38;5;124m\"\u001b[39m, \u001b[38;5;28mstr\u001b[39m(exc)) \u001b[38;5;28;01mfrom\u001b[39;00m \u001b[38;5;21;01mexc\u001b[39;00m\n\u001b[1;32m    661\u001b[0m \u001b[38;5;28;01mexcept\u001b[39;00m:  \u001b[38;5;66;03m#  mainly for control-c,  catch it and throw it.\u001b[39;00m\n",
      "\u001b[0;31mCrdsDownloadError\u001b[0m: Error fetching data for 'jwst_nirspec_superbias_0051.rmap' at CRDS server 'https://jwst-crds.stsci.edu' with mode 'http' : [Errno 28] No space left on device: '/tmp/crds_cache/mappings/jwst/jwst_nirspec_superbias_0051.rmap'",
      "\nThe above exception was the direct cause of the following exception:\n",
      "\u001b[0;31mCrdsDownloadError\u001b[0m                         Traceback (most recent call last)",
      "Cell \u001b[0;32mIn [5], line 22\u001b[0m\n\u001b[1;32m     20\u001b[0m result1\u001b[38;5;241m.\u001b[39msave_results \u001b[38;5;241m=\u001b[39m \u001b[38;5;28;01mTrue\u001b[39;00m\n\u001b[1;32m     21\u001b[0m result1\u001b[38;5;241m.\u001b[39moutput_dir \u001b[38;5;241m=\u001b[39m odir\n\u001b[0;32m---> 22\u001b[0m \u001b[43mresult1\u001b[49m\u001b[38;5;241;43m.\u001b[39;49m\u001b[43mrun\u001b[49m\u001b[43m(\u001b[49m\u001b[43mdf\u001b[49m\u001b[43m)\u001b[49m\n",
      "File \u001b[0;32m~/miniconda3/envs/jwst_validation_notebooks/lib/python3.9/site-packages/stpipe/step.py:481\u001b[0m, in \u001b[0;36mStep.run\u001b[0;34m(self, *args)\u001b[0m\n\u001b[1;32m    479\u001b[0m \u001b[38;5;28;01melse\u001b[39;00m:\n\u001b[1;32m    480\u001b[0m     \u001b[38;5;28;01mif\u001b[39;00m \u001b[38;5;28mself\u001b[39m\u001b[38;5;241m.\u001b[39mprefetch_references:\n\u001b[0;32m--> 481\u001b[0m         \u001b[38;5;28;43mself\u001b[39;49m\u001b[38;5;241;43m.\u001b[39;49m\u001b[43mprefetch\u001b[49m\u001b[43m(\u001b[49m\u001b[38;5;241;43m*\u001b[39;49m\u001b[43margs\u001b[49m\u001b[43m)\u001b[49m\n\u001b[1;32m    482\u001b[0m     \u001b[38;5;28;01mtry\u001b[39;00m:\n\u001b[1;32m    483\u001b[0m         step_result \u001b[38;5;241m=\u001b[39m \u001b[38;5;28mself\u001b[39m\u001b[38;5;241m.\u001b[39mprocess(\u001b[38;5;241m*\u001b[39margs)\n",
      "File \u001b[0;32m~/miniconda3/envs/jwst_validation_notebooks/lib/python3.9/site-packages/stpipe/step.py:598\u001b[0m, in \u001b[0;36mStep.prefetch\u001b[0;34m(self, *args)\u001b[0m\n\u001b[1;32m    596\u001b[0m \u001b[38;5;66;03m# prefetch truly occurs at the Pipeline (or subclass) level.\u001b[39;00m\n\u001b[1;32m    597\u001b[0m \u001b[38;5;28;01mif\u001b[39;00m \u001b[38;5;28mlen\u001b[39m(args) \u001b[38;5;129;01mand\u001b[39;00m \u001b[38;5;28mlen\u001b[39m(\u001b[38;5;28mself\u001b[39m\u001b[38;5;241m.\u001b[39mreference_file_types) \u001b[38;5;129;01mand\u001b[39;00m \u001b[38;5;129;01mnot\u001b[39;00m \u001b[38;5;28mself\u001b[39m\u001b[38;5;241m.\u001b[39mskip:\n\u001b[0;32m--> 598\u001b[0m     \u001b[38;5;28;43mself\u001b[39;49m\u001b[38;5;241;43m.\u001b[39;49m\u001b[43m_precache_references\u001b[49m\u001b[43m(\u001b[49m\u001b[43margs\u001b[49m\u001b[43m[\u001b[49m\u001b[38;5;241;43m0\u001b[39;49m\u001b[43m]\u001b[49m\u001b[43m)\u001b[49m\n",
      "File \u001b[0;32m~/miniconda3/envs/jwst_validation_notebooks/lib/python3.9/site-packages/stpipe/pipeline.py:313\u001b[0m, in \u001b[0;36mPipeline._precache_references\u001b[0;34m(self, input_file)\u001b[0m\n\u001b[1;32m    310\u001b[0m \u001b[38;5;28;01mtry\u001b[39;00m:\n\u001b[1;32m    311\u001b[0m     \u001b[38;5;28;01mwith\u001b[39;00m \u001b[38;5;28mself\u001b[39m\u001b[38;5;241m.\u001b[39mopen_model(input_file, asn_n_members\u001b[38;5;241m=\u001b[39m\u001b[38;5;241m1\u001b[39m,\n\u001b[1;32m    312\u001b[0m                         asn_exptypes\u001b[38;5;241m=\u001b[39m[\u001b[38;5;124m\"\u001b[39m\u001b[38;5;124mscience\u001b[39m\u001b[38;5;124m\"\u001b[39m]) \u001b[38;5;28;01mas\u001b[39;00m model:\n\u001b[0;32m--> 313\u001b[0m         \u001b[38;5;28;43mself\u001b[39;49m\u001b[38;5;241;43m.\u001b[39;49m\u001b[43m_precache_references_opened\u001b[49m\u001b[43m(\u001b[49m\u001b[43mmodel\u001b[49m\u001b[43m)\u001b[49m\n\u001b[1;32m    314\u001b[0m \u001b[38;5;28;01mexcept\u001b[39;00m (\u001b[38;5;167;01mValueError\u001b[39;00m, \u001b[38;5;167;01mTypeError\u001b[39;00m, \u001b[38;5;167;01mIOError\u001b[39;00m):\n\u001b[1;32m    315\u001b[0m     \u001b[38;5;28mself\u001b[39m\u001b[38;5;241m.\u001b[39mlog\u001b[38;5;241m.\u001b[39minfo(\n\u001b[1;32m    316\u001b[0m         \u001b[38;5;124m'\u001b[39m\u001b[38;5;124mFirst argument \u001b[39m\u001b[38;5;132;01m{0}\u001b[39;00m\u001b[38;5;124m does not appear to be a \u001b[39m\u001b[38;5;124m'\u001b[39m\n\u001b[1;32m    317\u001b[0m         \u001b[38;5;124m'\u001b[39m\u001b[38;5;124mmodel\u001b[39m\u001b[38;5;124m'\u001b[39m\u001b[38;5;241m.\u001b[39mformat(input_file))\n",
      "File \u001b[0;32m~/miniconda3/envs/jwst_validation_notebooks/lib/python3.9/site-packages/stpipe/pipeline.py:336\u001b[0m, in \u001b[0;36mPipeline._precache_references_opened\u001b[0;34m(self, model_or_container)\u001b[0m\n\u001b[1;32m    333\u001b[0m         \u001b[38;5;28mself\u001b[39m\u001b[38;5;241m.\u001b[39m_precache_references_opened(contained_model)\n\u001b[1;32m    334\u001b[0m \u001b[38;5;28;01melse\u001b[39;00m:\n\u001b[1;32m    335\u001b[0m     \u001b[38;5;66;03m# precache a single model object\u001b[39;00m\n\u001b[0;32m--> 336\u001b[0m     \u001b[38;5;28;43mself\u001b[39;49m\u001b[38;5;241;43m.\u001b[39;49m\u001b[43m_precache_references_impl\u001b[49m\u001b[43m(\u001b[49m\u001b[43mmodel_or_container\u001b[49m\u001b[43m)\u001b[49m\n",
      "File \u001b[0;32m~/miniconda3/envs/jwst_validation_notebooks/lib/python3.9/site-packages/stpipe/pipeline.py:360\u001b[0m, in \u001b[0;36mPipeline._precache_references_impl\u001b[0;34m(self, model)\u001b[0m\n\u001b[1;32m    356\u001b[0m fetch_types \u001b[38;5;241m=\u001b[39m \u001b[38;5;28msorted\u001b[39m(\u001b[38;5;28mset\u001b[39m(\u001b[38;5;28mself\u001b[39m\u001b[38;5;241m.\u001b[39mreference_file_types) \u001b[38;5;241m-\u001b[39m \u001b[38;5;28mset\u001b[39m(ovr_refs\u001b[38;5;241m.\u001b[39mkeys()))\n\u001b[1;32m    358\u001b[0m \u001b[38;5;28mself\u001b[39m\u001b[38;5;241m.\u001b[39mlog\u001b[38;5;241m.\u001b[39minfo(\u001b[38;5;124m\"\u001b[39m\u001b[38;5;124mPrefetching reference files for dataset: \u001b[39m\u001b[38;5;124m\"\u001b[39m \u001b[38;5;241m+\u001b[39m \u001b[38;5;28mrepr\u001b[39m(model\u001b[38;5;241m.\u001b[39mmeta\u001b[38;5;241m.\u001b[39mfilename) \u001b[38;5;241m+\u001b[39m\n\u001b[1;32m    359\u001b[0m               \u001b[38;5;124m\"\u001b[39m\u001b[38;5;124m reftypes = \u001b[39m\u001b[38;5;124m\"\u001b[39m \u001b[38;5;241m+\u001b[39m \u001b[38;5;28mrepr\u001b[39m(fetch_types))\n\u001b[0;32m--> 360\u001b[0m crds_refs \u001b[38;5;241m=\u001b[39m \u001b[43mcrds_client\u001b[49m\u001b[38;5;241;43m.\u001b[39;49m\u001b[43mget_multiple_reference_paths\u001b[49m\u001b[43m(\u001b[49m\u001b[43mmodel\u001b[49m\u001b[38;5;241;43m.\u001b[39;49m\u001b[43mget_crds_parameters\u001b[49m\u001b[43m(\u001b[49m\u001b[43m)\u001b[49m\u001b[43m,\u001b[49m\u001b[43m \u001b[49m\u001b[43mfetch_types\u001b[49m\u001b[43m,\u001b[49m\u001b[43m \u001b[49m\u001b[43mmodel\u001b[49m\u001b[38;5;241;43m.\u001b[39;49m\u001b[43mcrds_observatory\u001b[49m\u001b[43m)\u001b[49m\n\u001b[1;32m    362\u001b[0m ref_path_map \u001b[38;5;241m=\u001b[39m \u001b[38;5;28mdict\u001b[39m(\u001b[38;5;28mlist\u001b[39m(crds_refs\u001b[38;5;241m.\u001b[39mitems()) \u001b[38;5;241m+\u001b[39m \u001b[38;5;28mlist\u001b[39m(ovr_refs\u001b[38;5;241m.\u001b[39mitems()))\n\u001b[1;32m    364\u001b[0m \u001b[38;5;28;01mfor\u001b[39;00m (reftype, refpath) \u001b[38;5;129;01min\u001b[39;00m \u001b[38;5;28msorted\u001b[39m(ref_path_map\u001b[38;5;241m.\u001b[39mitems()):\n",
      "File \u001b[0;32m~/miniconda3/envs/jwst_validation_notebooks/lib/python3.9/site-packages/stpipe/crds_client.py:55\u001b[0m, in \u001b[0;36mget_multiple_reference_paths\u001b[0;34m(parameters, reference_file_types, observatory)\u001b[0m\n\u001b[1;32m     52\u001b[0m     \u001b[38;5;28;01mraise\u001b[39;00m \u001b[38;5;167;01mTypeError\u001b[39;00m(\u001b[38;5;124m\"\u001b[39m\u001b[38;5;124mFirst argument must be a dict of parameters\u001b[39m\u001b[38;5;124m\"\u001b[39m)\n\u001b[1;32m     54\u001b[0m log\u001b[38;5;241m.\u001b[39mset_log_time(\u001b[38;5;28;01mTrue\u001b[39;00m)\n\u001b[0;32m---> 55\u001b[0m refpaths \u001b[38;5;241m=\u001b[39m \u001b[43m_get_refpaths\u001b[49m\u001b[43m(\u001b[49m\u001b[43mparameters\u001b[49m\u001b[43m,\u001b[49m\u001b[43m \u001b[49m\u001b[38;5;28;43mtuple\u001b[39;49m\u001b[43m(\u001b[49m\u001b[43mreference_file_types\u001b[49m\u001b[43m)\u001b[49m\u001b[43m,\u001b[49m\u001b[43m \u001b[49m\u001b[43mobservatory\u001b[49m\u001b[43m)\u001b[49m\n\u001b[1;32m     56\u001b[0m \u001b[38;5;28;01mreturn\u001b[39;00m refpaths\n",
      "File \u001b[0;32m~/miniconda3/envs/jwst_validation_notebooks/lib/python3.9/site-packages/stpipe/crds_client.py:68\u001b[0m, in \u001b[0;36m_get_refpaths\u001b[0;34m(data_dict, reference_file_types, observatory)\u001b[0m\n\u001b[1;32m     66\u001b[0m     \u001b[38;5;28;01mreturn\u001b[39;00m {}\n\u001b[1;32m     67\u001b[0m \u001b[38;5;28;01mwith\u001b[39;00m crds_cache_locking\u001b[38;5;241m.\u001b[39mget_cache_lock():\n\u001b[0;32m---> 68\u001b[0m     bestrefs \u001b[38;5;241m=\u001b[39m \u001b[43mcrds\u001b[49m\u001b[38;5;241;43m.\u001b[39;49m\u001b[43mgetreferences\u001b[49m\u001b[43m(\u001b[49m\n\u001b[1;32m     69\u001b[0m \u001b[43m        \u001b[49m\u001b[43mdata_dict\u001b[49m\u001b[43m,\u001b[49m\u001b[43m \u001b[49m\u001b[43mreftypes\u001b[49m\u001b[38;5;241;43m=\u001b[39;49m\u001b[43mreference_file_types\u001b[49m\u001b[43m,\u001b[49m\u001b[43m \u001b[49m\u001b[43mobservatory\u001b[49m\u001b[38;5;241;43m=\u001b[39;49m\u001b[43mobservatory\u001b[49m\u001b[43m)\u001b[49m\n\u001b[1;32m     70\u001b[0m refpaths \u001b[38;5;241m=\u001b[39m {filetype: filepath \u001b[38;5;28;01mif\u001b[39;00m \u001b[38;5;124m\"\u001b[39m\u001b[38;5;124mN/A\u001b[39m\u001b[38;5;124m\"\u001b[39m \u001b[38;5;129;01mnot\u001b[39;00m \u001b[38;5;129;01min\u001b[39;00m filepath\u001b[38;5;241m.\u001b[39mupper() \u001b[38;5;28;01melse\u001b[39;00m \u001b[38;5;124m\"\u001b[39m\u001b[38;5;124mN/A\u001b[39m\u001b[38;5;124m\"\u001b[39m\n\u001b[1;32m     71\u001b[0m             \u001b[38;5;28;01mfor\u001b[39;00m (filetype, filepath) \u001b[38;5;129;01min\u001b[39;00m bestrefs\u001b[38;5;241m.\u001b[39mitems()}\n\u001b[1;32m     72\u001b[0m \u001b[38;5;28;01mreturn\u001b[39;00m refpaths\n",
      "File \u001b[0;32m~/miniconda3/envs/jwst_validation_notebooks/lib/python3.9/site-packages/crds/core/heavy_client.py:122\u001b[0m, in \u001b[0;36mgetreferences\u001b[0;34m(parameters, reftypes, context, ignore_cache, observatory, fast)\u001b[0m\n\u001b[1;32m     81\u001b[0m \u001b[38;5;28;01mdef\u001b[39;00m \u001b[38;5;21mgetreferences\u001b[39m(parameters, reftypes\u001b[38;5;241m=\u001b[39m\u001b[38;5;28;01mNone\u001b[39;00m, context\u001b[38;5;241m=\u001b[39m\u001b[38;5;28;01mNone\u001b[39;00m, ignore_cache\u001b[38;5;241m=\u001b[39m\u001b[38;5;28;01mFalse\u001b[39;00m,\n\u001b[1;32m     82\u001b[0m                   observatory\u001b[38;5;241m=\u001b[39m\u001b[38;5;124m\"\u001b[39m\u001b[38;5;124mjwst\u001b[39m\u001b[38;5;124m\"\u001b[39m, fast\u001b[38;5;241m=\u001b[39m\u001b[38;5;28;01mFalse\u001b[39;00m):\n\u001b[1;32m     83\u001b[0m     \u001b[38;5;124;03m\"\"\"\u001b[39;00m\n\u001b[1;32m     84\u001b[0m \u001b[38;5;124;03m    This is the top-level get reference call for all of CRDS.  Based on\u001b[39;00m\n\u001b[1;32m     85\u001b[0m \u001b[38;5;124;03m    `parameters`, getreferences() will download/cache the corresponding best\u001b[39;00m\n\u001b[0;32m   (...)\u001b[0m\n\u001b[1;32m    120\u001b[0m \u001b[38;5;124;03m      cached reference file.\u001b[39;00m\n\u001b[1;32m    121\u001b[0m \u001b[38;5;124;03m    \"\"\"\u001b[39;00m\n\u001b[0;32m--> 122\u001b[0m     final_context, bestrefs \u001b[38;5;241m=\u001b[39m \u001b[43m_initial_recommendations\u001b[49m\u001b[43m(\u001b[49m\u001b[38;5;124;43m\"\u001b[39;49m\u001b[38;5;124;43mgetreferences\u001b[39;49m\u001b[38;5;124;43m\"\u001b[39;49m\u001b[43m,\u001b[49m\n\u001b[1;32m    123\u001b[0m \u001b[43m        \u001b[49m\u001b[43mparameters\u001b[49m\u001b[43m,\u001b[49m\u001b[43m \u001b[49m\u001b[43mreftypes\u001b[49m\u001b[43m,\u001b[49m\u001b[43m \u001b[49m\u001b[43mcontext\u001b[49m\u001b[43m,\u001b[49m\u001b[43m \u001b[49m\u001b[43mignore_cache\u001b[49m\u001b[43m,\u001b[49m\u001b[43m \u001b[49m\u001b[43mobservatory\u001b[49m\u001b[43m,\u001b[49m\u001b[43m \u001b[49m\u001b[43mfast\u001b[49m\u001b[43m)\u001b[49m\n\u001b[1;32m    125\u001b[0m     \u001b[38;5;66;03m# Attempt to cache the recommended references,  which unlike dump_mappings\u001b[39;00m\n\u001b[1;32m    126\u001b[0m     \u001b[38;5;66;03m# should work without network access if files are already cached.\u001b[39;00m\n\u001b[1;32m    127\u001b[0m     best_refs_paths \u001b[38;5;241m=\u001b[39m api\u001b[38;5;241m.\u001b[39mcache_references(\n\u001b[1;32m    128\u001b[0m         final_context, bestrefs, ignore_cache\u001b[38;5;241m=\u001b[39mignore_cache)\n",
      "File \u001b[0;32m~/miniconda3/envs/jwst_validation_notebooks/lib/python3.9/site-packages/crds/core/heavy_client.py:209\u001b[0m, in \u001b[0;36m_initial_recommendations\u001b[0;34m(name, parameters, reftypes, context, ignore_cache, observatory, fast)\u001b[0m\n\u001b[1;32m    207\u001b[0m \u001b[38;5;28;01mif\u001b[39;00m mode \u001b[38;5;241m==\u001b[39m \u001b[38;5;124m\"\u001b[39m\u001b[38;5;124mlocal\u001b[39m\u001b[38;5;124m\"\u001b[39m:\n\u001b[1;32m    208\u001b[0m     log\u001b[38;5;241m.\u001b[39mverbose(\u001b[38;5;124m\"\u001b[39m\u001b[38;5;124mComputing best references locally.\u001b[39m\u001b[38;5;124m\"\u001b[39m)\n\u001b[0;32m--> 209\u001b[0m     bestrefs \u001b[38;5;241m=\u001b[39m \u001b[43mlocal_bestrefs\u001b[49m\u001b[43m(\u001b[49m\n\u001b[1;32m    210\u001b[0m \u001b[43m        \u001b[49m\u001b[43mparameters\u001b[49m\u001b[43m,\u001b[49m\u001b[43m \u001b[49m\u001b[43mreftypes\u001b[49m\u001b[38;5;241;43m=\u001b[39;49m\u001b[43mreftypes\u001b[49m\u001b[43m,\u001b[49m\u001b[43m \u001b[49m\u001b[43mcontext\u001b[49m\u001b[38;5;241;43m=\u001b[39;49m\u001b[43mfinal_context\u001b[49m\u001b[43m,\u001b[49m\u001b[43m \u001b[49m\u001b[43mignore_cache\u001b[49m\u001b[38;5;241;43m=\u001b[39;49m\u001b[43mignore_cache\u001b[49m\u001b[43m)\u001b[49m\n\u001b[1;32m    211\u001b[0m \u001b[38;5;28;01melse\u001b[39;00m:\n\u001b[1;32m    212\u001b[0m     log\u001b[38;5;241m.\u001b[39mverbose(\u001b[38;5;124m\"\u001b[39m\u001b[38;5;124mComputing best references remotely.\u001b[39m\u001b[38;5;124m\"\u001b[39m)\n",
      "File \u001b[0;32m~/miniconda3/envs/jwst_validation_notebooks/lib/python3.9/site-packages/crds/core/heavy_client.py:354\u001b[0m, in \u001b[0;36mlocal_bestrefs\u001b[0;34m(parameters, reftypes, context, ignore_cache)\u001b[0m\n\u001b[1;32m    352\u001b[0m \u001b[38;5;28;01mexcept\u001b[39;00m CrdsError \u001b[38;5;28;01mas\u001b[39;00m exc:\n\u001b[1;32m    353\u001b[0m     traceback\u001b[38;5;241m.\u001b[39mprint_exc()\n\u001b[0;32m--> 354\u001b[0m     \u001b[38;5;28;01mraise\u001b[39;00m CrdsDownloadError(\n\u001b[1;32m    355\u001b[0m         \u001b[38;5;124m\"\u001b[39m\u001b[38;5;124mFailed caching mapping files:\u001b[39m\u001b[38;5;124m\"\u001b[39m, \u001b[38;5;28mstr\u001b[39m(exc)) \u001b[38;5;28;01mfrom\u001b[39;00m \u001b[38;5;21;01mexc\u001b[39;00m\n\u001b[1;32m    356\u001b[0m \u001b[38;5;28;01mreturn\u001b[39;00m hv_best_references(context, parameters, reftypes)\n",
      "\u001b[0;31mCrdsDownloadError\u001b[0m: Failed caching mapping files: Error fetching data for 'jwst_nirspec_superbias_0051.rmap' at CRDS server 'https://jwst-crds.stsci.edu' with mode 'http' : [Errno 28] No space left on device: '/tmp/crds_cache/mappings/jwst/jwst_nirspec_superbias_0051.rmap'"
     ]
    }
   ],
   "source": [
    "for file in datafiles:\n",
    "\n",
    "    df = get_bigdata('jwst_validation_notebooks',\n",
    "                     'validation_data',\n",
    "                     'ami_analyze',\n",
    "                     file)\n",
    "    \n",
    "    # Modify a keyword in each data file: only necessary for now\n",
    "    # Next three lines are temporary to accommodate recent changes to Mirage and pipeline\n",
    "    # and for Mirage to work with the pipeline.\n",
    "    with datamodels.open(df) as model:\n",
    "        model.meta.dither.dither_points = int(model.meta.dither.dither_points)\n",
    "        model.save(df)\n",
    "\n",
    "    # Run Detector1 stage of pipeline, specifying superbias and dark reference files\n",
    "    result1 = Detector1Pipeline()\n",
    "    result1.superbias.override_superbias = superbiasfile\n",
    "    result1.dark_current.override_dark = darkfile\n",
    "    result1.ipc.skip = True\n",
    "    result1.save_results = True\n",
    "    result1.output_dir = odir\n",
    "    result1.run(df)"
   ]
  },
  {
   "cell_type": "markdown",
   "metadata": {},
   "source": [
    "## Run Image2 stage of the pipeline to calibrate \\*\\_rate.fits file"
   ]
  },
  {
   "cell_type": "code",
   "execution_count": null,
   "metadata": {},
   "outputs": [],
   "source": [
    "for df in datafiles:\n",
    "\n",
    "    # Run Image2 stage of the pipeline on the file created above to create rate file,\n",
    "    # specifying flat field file\n",
    "    df_rate = os.path.join(odir, os.path.basename(df.replace('uncal','rate')))\n",
    "    result2 = Image2Pipeline()        \n",
    "    result2.flat_field.override_flat = flatfile\n",
    "    result2.photom.skip = True\n",
    "    result2.resample.skip = True\n",
    "    result2.save_results = True\n",
    "    result2.output_dir = odir\n",
    "    result2.run(df_rate)"
   ]
  },
  {
   "cell_type": "markdown",
   "metadata": {},
   "source": [
    "## Run Image2 stage of the pipeline to calibrate \\*\\_rateints.fits file"
   ]
  },
  {
   "cell_type": "code",
   "execution_count": null,
   "metadata": {},
   "outputs": [],
   "source": [
    "for df in datafiles:\n",
    "\n",
    "    # Run Image stage of the pipeline to create rateints file, specifying flat field file\n",
    "    df_rateints = os.path.join(odir,os.path.basename(df.replace('uncal','rateints')))\n",
    "    result3 = Image2Pipeline()\n",
    "    result3.flat_field.override_flat = flatfile\n",
    "    result3.photom.skip = True\n",
    "    result3.resample.skip = True\n",
    "    result3.save_results = True\n",
    "    result3.output_dir = odir\n",
    "    result3.run(df_rateints)    "
   ]
  },
  {
   "cell_type": "markdown",
   "metadata": {},
   "source": [
    "## Run AmiAnalyze step on the \\*\\_cal.fits files created above"
   ]
  },
  {
   "cell_type": "code",
   "execution_count": null,
   "metadata": {},
   "outputs": [],
   "source": [
    "for df in datafiles:\n",
    "\n",
    "    # Set up name of calibrated file\n",
    "    df_cal = os.path.join(odir,os.path.basename(df.replace('uncal','cal')))\n",
    "    \n",
    "    # Run AMI Analyze Step of the pipeline\n",
    "    result5 = AmiAnalyzeStep.call(df_cal, config_file = ami_analyze_cfg,\n",
    "                                  output_dir = odir, save_results = True)"
   ]
  },
  {
   "cell_type": "markdown",
   "metadata": {},
   "source": [
    "## Run AmiAnalyze on various target/calibrator pairs\n",
    "\n",
    "Create association files to test calibration of target at different dither positions. Run AmiAnalyze on these association files. \n",
    "\n",
    "Note: the `program` and `targ_name` fields in the association files are the same for all pairs, so I have them set as default values in the `create_asn` routine."
   ]
  },
  {
   "cell_type": "markdown",
   "metadata": {},
   "source": [
    "Routine for creating association files (in \\*.json format)"
   ]
  },
  {
   "cell_type": "code",
   "execution_count": null,
   "metadata": {},
   "outputs": [],
   "source": [
    "def create_asn(outdir, targ1, psf1, prod_name, out_file, asn_id, \n",
    "               program=\"1093_2_targets_f480m_2022.25coords_pipetesting\", \n",
    "               targ_name='t001',\n",
    "               targ2=None, psf2=None):\n",
    "    \n",
    "    # Create association file:\n",
    "    asn = asn_from_list.asn_from_list([os.path.join(outdir,targ1)],\n",
    "                                       product_name = prod_name,\n",
    "                                       output_file = os.path.join(outdir,out_file),\n",
    "                                       output_dir = outdir,rule = DMS_Level3_Base)\n",
    "    \n",
    "    asn['products'][0]['members'].append({'expname': os.path.join(odir,psf1),\n",
    "                                          'exptype': 'psf'})\n",
    "    \n",
    "    # check whether 2nd set of target/calibrator pairs was inputted\n",
    "    if targ2 is not None:   \n",
    "        asn['products'][0]['members'].append({'expname':os.path.join(odir,targ2), \n",
    "                                              'exptype': 'science'})\n",
    "        asn['products'][0]['members'].append({'expname':os.path.join(odir,psf2), \n",
    "                                              'exptype': 'psf'})\n",
    "\n",
    "\n",
    "\n",
    "    asn['asn_type'] = 'ami3'\n",
    "    asn['asn_id'] = asn_id\n",
    "    asn['program'] = program\n",
    "    asn['target'] = targ_name\n",
    "    \n",
    "    with open(os.path.join(outdir,out_file), 'w') as fp:\n",
    "        fp.write(asn.dump()[1])\n",
    "        fp.close()"
   ]
  },
  {
   "cell_type": "markdown",
   "metadata": {},
   "source": [
    "### Create association files and run AmiAnalyze on these pairs"
   ]
  },
  {
   "cell_type": "markdown",
   "metadata": {},
   "source": [
    "Association file 1 to calibrate average of targets at dithers 2 and 3 with the average of calibrators at dithers 2 and 3. "
   ]
  },
  {
   "cell_type": "code",
   "execution_count": null,
   "metadata": {},
   "outputs": [],
   "source": [
    "asn1_file = \"ami_asn001_targets23_cals23.json\"\n",
    "\n",
    "targ1 = \"jw01093001001_01101_00006_nis_cal.fits\"\n",
    "psf1 = \"jw01093002001_01101_00006_nis_cal.fits\"\n",
    "prod_name = \"jw01093001001_01101\"\n",
    "asn_id = '001'\n",
    "\n",
    "# Add second target/calibrator pair at this dither step\n",
    "targ2 = \"jw01093001001_01101_00007_nis_cal.fits\"\n",
    "psf2 = \"jw01093002001_01101_00007_nis_cal.fits\"\n",
    "\n",
    "create_asn(odir, targ1, psf1, prod_name, asn1_file, asn_id, targ2=targ2, psf2=psf2)\n",
    "\n",
    "# Run AmiAnalyze\n",
    "Ami3Pipeline.call(asn1_file,config_file = calwebb_ami3_cfg,output_dir = odir)    "
   ]
  },
  {
   "cell_type": "markdown",
   "metadata": {},
   "source": [
    "Association file 2 to calibrate target at POS1 with calibrator at POS1"
   ]
  },
  {
   "cell_type": "code",
   "execution_count": null,
   "metadata": {},
   "outputs": [],
   "source": [
    "# Create association file:\n",
    "asn2_file = \"ami_asn002_calibrate_targ1_cal1.json\"\n",
    "\n",
    "targ1 = \"jw01093001001_01101_00005_nis_cal.fits\"\n",
    "psf1 = 'jw01093002001_01101_00005_nis_cal.fits'\n",
    "prod_name = \"jw01093001001_01101_00005cal00005\"\n",
    "asn_id = '002'\n",
    "\n",
    "create_asn(odir, targ1, psf1,prod_name, asn2_file, asn_id)\n",
    "\n",
    "# Run AmiAnalyze\n",
    "Ami3Pipeline.call(asn2_file,config_file = calwebb_ami3_cfg,output_dir = odir)    "
   ]
  },
  {
   "cell_type": "markdown",
   "metadata": {},
   "source": [
    "Association file 3 to calibrate target at POS2 with calibrator at POS2"
   ]
  },
  {
   "cell_type": "code",
   "execution_count": null,
   "metadata": {},
   "outputs": [],
   "source": [
    "# Create association file:\n",
    "asn3_file = \"ami_asn003_calibrate_targ2_cal2.json\"\n",
    "\n",
    "targ1 = \"jw01093001001_01101_00006_nis_cal.fits\"\n",
    "psf1 = \"jw01093002001_01101_00006_nis_cal.fits\"\n",
    "prod_name = \"jw01093001001_01101_00006cal00006\"\n",
    "asn_id = '003'\n",
    "\n",
    "create_asn(odir, targ1, psf1, prod_name, asn3_file, asn_id)\n",
    "\n",
    "# Run AmiAnalyze\n",
    "Ami3Pipeline.call(asn3_file,config_file = calwebb_ami3_cfg,output_dir = odir)    "
   ]
  },
  {
   "cell_type": "markdown",
   "metadata": {},
   "source": [
    "Association file 4 to calibrate target at POS3 with calibrator at POS3"
   ]
  },
  {
   "cell_type": "code",
   "execution_count": null,
   "metadata": {},
   "outputs": [],
   "source": [
    "# Create association file:\n",
    "asn4_file = \"ami_asn004_calibrate_targ3_cal3.json\"\n",
    "\n",
    "targ1 = \"jw01093001001_01101_00007_nis_cal.fits\"\n",
    "psf1 = \"jw01093002001_01101_00007_nis_cal.fits\"\n",
    "prod_name = \"jw01093001001_01101_00007cal00007\"\n",
    "asn_id = '004'\n",
    "\n",
    "create_asn(odir, targ1, psf1, prod_name, asn4_file, asn_id)\n",
    "\n",
    "# Run AmiAnalyze\n",
    "Ami3Pipeline.call(asn3_file,config_file = calwebb_ami3_cfg,output_dir = odir)    "
   ]
  },
  {
   "cell_type": "markdown",
   "metadata": {},
   "source": [
    "Association file 5 to calibrate target at POS4 with calibrator at POS4"
   ]
  },
  {
   "cell_type": "code",
   "execution_count": null,
   "metadata": {},
   "outputs": [],
   "source": [
    "# Create association file:\n",
    "asn5_file = \"ami_asn005_calibrate_targ4_cal4.json\"\n",
    "\n",
    "targ1 = \"jw01093001001_01101_00008_nis_cal.fits\"\n",
    "psf1 = \"jw01093002001_01101_00008_nis_cal.fits\"\n",
    "prod_name = \"jw01093001001_01101_00008cal00008\"\n",
    "asn_id = '005'\n",
    "\n",
    "create_asn(odir, targ1, psf1, prod_name, asn5_file, asn_id)\n",
    "\n",
    "# Run AmiAnalyze\n",
    "Ami3Pipeline.call(asn3_file,config_file = calwebb_ami3_cfg,output_dir = odir)    "
   ]
  },
  {
   "cell_type": "markdown",
   "metadata": {},
   "source": [
    "Association file 6 to calibrate calibrator at POS2 with calibrator at POS3"
   ]
  },
  {
   "cell_type": "code",
   "execution_count": null,
   "metadata": {},
   "outputs": [],
   "source": [
    "# Create association file:\n",
    "asn6_file = \"ami_asn006_calibrate_cal2_cal3.json\"\n",
    "\n",
    "targ1 = \"jw01093002001_01101_00006_nis_cal.fits\"\n",
    "psf1 = \"jw01093002001_01101_00007_nis_cal.fits\"\n",
    "prod_name = \"jw01093002001_01101_00006cal00007\"\n",
    "asn_id = '006'\n",
    "\n",
    "create_asn(odir, targ1, psf1, prod_name, asn6_file, asn_id, targ_name='t002')\n",
    "\n",
    "# Run AmiAnalyze\n",
    "Ami3Pipeline.call(asn3_file,config_file = calwebb_ami3_cfg,output_dir = odir)    "
   ]
  },
  {
   "cell_type": "markdown",
   "metadata": {},
   "source": [
    "Association file 7 to calibrate calibrator at POS3 with calibrator at POS2"
   ]
  },
  {
   "cell_type": "code",
   "execution_count": null,
   "metadata": {},
   "outputs": [],
   "source": [
    "# Create association file:\n",
    "asn7_file = \"ami_asn007_calibrate_cal3_cal2.json\"\n",
    "\n",
    "targ1 = \"jw01093002001_01101_00007_nis_cal.fits\"\n",
    "psf1 = \"jw01093002001_01101_00006_nis_cal.fits\"\n",
    "prod_name = \"jw01093002001_01101_00007cal00006\"\n",
    "asn_id = '007'\n",
    "\n",
    "create_asn(odir, targ1, psf1, prod_name, asn7_file, asn_id, targ_name='t002')\n",
    "\n",
    "# Run AmiAnalyze\n",
    "Ami3Pipeline.call(asn3_file,config_file = calwebb_ami3_cfg,output_dir = odir)    "
   ]
  },
  {
   "cell_type": "markdown",
   "metadata": {},
   "source": [
    "<a id=\"testing\"></a>\n",
    "# Test Results\n",
    "\n",
    "Did the above cells run without errors? If so, **huzzah** the test passed! \n",
    "\n",
    "If not, track down why the pipeline failed to run on these datasets.\n",
    "\n",
    "[Top of Page](#title_ID)"
   ]
  },
  {
   "cell_type": "markdown",
   "metadata": {},
   "source": [
    "<a id=\"about_ID\"></a>\n",
    "## About this Notebook\n",
    "**Authors:** Deepashri Thatte, Senior Staff Scientist, NIRISS\n",
    "<br>Stephanie LaMassa, Scientist, NIRISS\n",
    "<br>**Updated On:** 08/04/2021"
   ]
  },
  {
   "cell_type": "markdown",
   "metadata": {},
   "source": [
    "[Top of Page](#title_ID)\n",
    "<img style=\"float: right;\" src=\"./stsci_pri_combo_mark_horizonal_white_bkgd.png\" alt=\"stsci_pri_combo_mark_horizonal_white_bkgd\" width=\"200px\"/> "
   ]
  }
 ],
 "metadata": {
  "kernelspec": {
   "display_name": "Python 3 (ipykernel)",
   "language": "python",
   "name": "python3"
  },
  "language_info": {
   "codemirror_mode": {
    "name": "ipython",
    "version": 3
   },
   "file_extension": ".py",
   "mimetype": "text/x-python",
   "name": "python",
   "nbconvert_exporter": "python",
   "pygments_lexer": "ipython3",
   "version": "3.9.13"
  }
 },
 "nbformat": 4,
 "nbformat_minor": 1
}
