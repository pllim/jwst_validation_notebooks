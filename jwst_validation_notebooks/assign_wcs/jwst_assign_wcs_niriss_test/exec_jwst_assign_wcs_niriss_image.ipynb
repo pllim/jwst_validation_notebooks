{
 "cells": [
  {
   "cell_type": "markdown",
   "metadata": {},
   "source": [
    "<a id=\"title_ID\"></a>\n",
    "# JWST Pipeline Validation Notebook: NIRISS, image2, assign_wcs\n",
    "\n",
    "<span style=\"color:red\"> **Instruments Affected**</span>: NIRISS\n",
    "\n",
    "### Table of Contents\n",
    "<div style=\"text-align: left\"> \n",
    "    \n",
    "<br> [Introduction](#intro)\n",
    "<br> [JWST CalWG Algorithm](#algorithm)\n",
    "<br> [Defining Terms](#terms)\n",
    "<br> [Test Description](#description)\n",
    "<br> [Data Description](#data_descr)\n",
    "<br> [Imports](#imports)\n",
    "<br> [Loading the Data](#data_load)\n",
    "<br> [Run the Pipeline](#pipeline)\n",
    "<br> [Perform Tests](#testing) \n",
    "<br> [About This Notebook](#about)\n",
    "<br>    \n",
    "\n",
    "</div>"
   ]
  },
  {
   "cell_type": "markdown",
   "metadata": {},
   "source": [
    "<a id=\"intro\"></a>\n",
    "# Introduction\n",
    "\n",
    "This is the validation notebook for the assign_wcs step in the image2 stage of the pipeline. The validation step does two checks: \n",
    "1. Round trip conversion between coordinate systems to test whether the output matches the input; \n",
    "2. Conversion from sky coordinates to detector coordinates for a catalog of sources to assess whether the originally inputted detector coordinates are recovered.\n",
    "\n",
    "For more information on the pipeline step visit the links below. \n",
    "\n",
    "> Step description: https://jwst-pipeline.readthedocs.io/en/latest/jwst/assign_wcs/index.html \n",
    "\n",
    "> Pipeline code: https://github.com/spacetelescope/jwst/tree/master/jwst/assign_wcs\n",
    "\n",
    "[Top of Page](#title_ID)"
   ]
  },
  {
   "cell_type": "markdown",
   "metadata": {},
   "source": [
    "<a id=\"algorithm\"></a>\n",
    "# JWST CalWG Algorithm\n",
    "\n",
    "A description of the assign_wcs algorithm from the JWST CalWG: https://outerspace.stsci.edu/display/JWSTCC/Vanilla+Imaging+GWCS+Information\n",
    "\n",
    "[Top of Page](#title_ID)"
   ]
  },
  {
   "cell_type": "markdown",
   "metadata": {},
   "source": [
    "<a id=\"terms\"></a>\n",
    "# Defining Terms\n",
    "\n",
    "GWCS: Generalized World Coordinate System\n",
    "\n",
    "V1, V2, V3: Defines Observatory Coordinate System (see Figure 1 on [JWST Position Angles, Ranges, and Offsets JDox article](https://jwst-docs.stsci.edu/jwst-observatory-functionality/jwst-position-angles-ranges-and-offsets))\n",
    "\n",
    "[Top of Page](#title_ID)"
   ]
  },
  {
   "cell_type": "markdown",
   "metadata": {},
   "source": [
    "<a id=\"description\"></a>\n",
    "# Test Description\n",
    "- Calibrate data through Detector1 stage of the pipeline.\n",
    "- **Round trip conversion test** - check the level of agreement between the input and output values of the following coordinate systems:\n",
    "    - World --> Detector --> World\n",
    "    - Detector --> World --> Detector\n",
    "    - World --> V2 V3 --> World\n",
    "    - Detector --> V2 V3 --> Detector\n",
    "- **Round trip conversion test** is done for two sets of input coordinates:\n",
    "    - Reference pixels at which the transform is anchored:\n",
    "        - crpix1, crpix2 (detector units)\n",
    "        - crval1, crval2 (world coordinate system units)\n",
    "    - Coordinates at the edge of the input subarray:\n",
    "        - xpix=10, ypix=10\n",
    "    - The tolerance for pass/fail (fractional difference between input and output values) is stricter for transforms at the reference pixels compared with the edge of the subarray. For the reference pixel test, the tolerance is stricter for full frame readout compared with subarrays. The tolerances can be updated in the code. Currently, they are set to the following:\n",
    "        - tolerance reference pixel, full frame: 1e-4\n",
    "        - tolerance reference pixel, subarray: 1e-3\n",
    "        - tolerance edge of subarray: 1e-2\n",
    "- **Input source catalog test** - use an input list of sources arranged along a grid that have known input detector coordinates from a Mirage simulation. The simulation produces a catalog of sources with world coordinate system units (i.e., RA and Dec). The test converts these coordinates to detector units and produces the following:\n",
    "    - Calculations $\\Delta$x and $\\Delta$y (difference between input and output pixels) for each source and RMS$_{\\Delta x}$ and RMS $_{\\Delta y}$;\n",
    "    - Histograms of $\\Delta$x and $\\Delta$y for inspection;\n",
    "    - Plots of $\\Delta$x as function of x position and $\\Delta$y as function of y position for inspection;\n",
    "    - The pass/fail test: is RMS$_{\\Delta x}$ and RMS$_{\\Delta y}$ within the tolerance? The tolerance can be updated in the code. Currently, it is set to 1e-2 pixels.\n",
    "\n",
    "\n",
    "[Top of Page](#title_ID)"
   ]
  },
  {
   "cell_type": "markdown",
   "metadata": {},
   "source": [
    "<a id=\"data_descr\"></a>\n",
    "# Data Description\n",
    "All data were generated with [MIRaGe](https://github.com/spacetelescope/mirage) version 1.3.3 on date May 25, 2021\n",
    "\n",
    "**Round trip conversion test**: 10 blank field simulations (spanning a range of RAs and Decs) with all available subarray options:\n",
    "- CLEAR/F200W SUB128\n",
    "- CLEAR/F200W SUB256\n",
    "- CLEAR/F200W SUB64\n",
    "- CLEAR/F200W SUB80\n",
    "- CLEAR/F200W WFSS128C\n",
    "- CLEAR/F200W WFSS128R \n",
    "- CLEAR/F200W WFSS64C\n",
    "- CLEAR/F200W WFSS64R\n",
    "- F480M/NRM FULL\n",
    "- F480/NRM SUB80\n",
    "\n",
    "This test also includes the simulation in the below **Input source catalog test**.\n",
    "\n",
    "**Input source catalog test**: Simulation of a grid of 50 sources with Clear/F200W combination, full frame readout. MIRaGe catalog (`*_pointsources.list`) is also needed.\n",
    "\n",
    "Data are stored in temporary directory which is created below.    \n",
    "\n",
    "[Top of Page](#title_ID)"
   ]
  },
  {
   "cell_type": "code",
   "execution_count": 1,
   "metadata": {
    "execution": {
     "iopub.execute_input": "2022-09-19T19:30:29.534454Z",
     "iopub.status.busy": "2022-09-19T19:30:29.533864Z",
     "iopub.status.idle": "2022-09-19T19:30:29.541624Z",
     "shell.execute_reply": "2022-09-19T19:30:29.540996Z"
    }
   },
   "outputs": [
    {
     "name": "stdout",
     "output_type": "stream",
     "text": [
      "Running in /internal/data1/jenkins/workspace/Notebooks/jwst_validation_notebooks_spacetelescope/tmp/tmpc104iosx\n"
     ]
    }
   ],
   "source": [
    "use_tempdir = True\n",
    "\n",
    "# Create a temporary directory to hold notebook output, and change the working directory to that directory.\n",
    "from tempfile import TemporaryDirectory\n",
    "import os\n",
    "import shutil\n",
    "\n",
    "if use_tempdir:\n",
    "    data_dir = TemporaryDirectory()\n",
    "\n",
    "    # Save original directory\n",
    "    orig_dir = os.getcwd()\n",
    "\n",
    "    # Move to new directory\n",
    "    outdir = data_dir.name\n",
    "    os.chdir(data_dir.name)\n",
    "\n",
    "# For info, print out where the script is running\n",
    "print(\"Running in {}\".format(os.getcwd()))"
   ]
  },
  {
   "cell_type": "code",
   "execution_count": 2,
   "metadata": {
    "execution": {
     "iopub.execute_input": "2022-09-19T19:30:29.544885Z",
     "iopub.status.busy": "2022-09-19T19:30:29.544376Z",
     "iopub.status.idle": "2022-09-19T19:30:29.548520Z",
     "shell.execute_reply": "2022-09-19T19:30:29.547945Z"
    }
   },
   "outputs": [
    {
     "name": "stdout",
     "output_type": "stream",
     "text": [
      "CRDS cache location: /tmp/crds_cache\n"
     ]
    }
   ],
   "source": [
    "import os\n",
    "if 'CRDS_CACHE_TYPE' in os.environ:\n",
    "    if os.environ['CRDS_CACHE_TYPE'] == 'local':\n",
    "        os.environ['CRDS_PATH'] = os.path.join(os.environ['HOME'], 'crds', 'cache')\n",
    "    elif os.path.isdir(os.environ['CRDS_CACHE_TYPE']):\n",
    "        os.environ['CRDS_PATH'] = os.environ['CRDS_CACHE_TYPE']\n",
    "print('CRDS cache location: {}'.format(os.environ['CRDS_PATH']))"
   ]
  },
  {
   "cell_type": "markdown",
   "metadata": {},
   "source": [
    "<a id=\"imports\"></a>\n",
    "# Imports\n",
    "\n",
    "* astropy.io for opening fits and ascii files\n",
    "* glob for retrieving fits files\n",
    "* numpy for mathematical computation\n",
    "* ci_watson.artifactory_helpers to read in simulations from artifactory\n",
    "* jwst pipeline steps to process data through stage 1 of the pipeline, use image data model, and access convenience functions in from AssignWcsStep\n",
    "* matplotlib.pyplot.plt to generate plots\n",
    "\n",
    "[Top of Page](#title_ID)"
   ]
  },
  {
   "cell_type": "code",
   "execution_count": 3,
   "metadata": {
    "execution": {
     "iopub.execute_input": "2022-09-19T19:30:29.551759Z",
     "iopub.status.busy": "2022-09-19T19:30:29.551289Z",
     "iopub.status.idle": "2022-09-19T19:30:31.487656Z",
     "shell.execute_reply": "2022-09-19T19:30:31.486785Z"
    }
   },
   "outputs": [],
   "source": [
    "from astropy.io import fits,ascii\n",
    "import glob\n",
    "import numpy as np\n",
    "from ci_watson.artifactory_helpers import get_bigdata\n",
    "from jwst.pipeline import calwebb_detector1\n",
    "from jwst.assign_wcs import AssignWcsStep\n",
    "from jwst.datamodels import image\n",
    "import matplotlib.pyplot as plt"
   ]
  },
  {
   "cell_type": "markdown",
   "metadata": {},
   "source": [
    "<a id=\"data_load\"></a>\n",
    "# Loading the Data\n",
    "\n",
    "Data are stored on Artifactory. The list of simulated datasets and the Mirage catalog list are provided below. The simulated datasets are ready in when running the pipeline to process the data.\n",
    "\n",
    "[Top of Page](#title_ID)"
   ]
  },
  {
   "cell_type": "code",
   "execution_count": 4,
   "metadata": {
    "execution": {
     "iopub.execute_input": "2022-09-19T19:30:31.491950Z",
     "iopub.status.busy": "2022-09-19T19:30:31.491173Z",
     "iopub.status.idle": "2022-09-19T19:30:31.585579Z",
     "shell.execute_reply": "2022-09-19T19:30:31.584886Z"
    }
   },
   "outputs": [],
   "source": [
    "# Create list of simulated data files:\n",
    "sim_files = np.array(['jw00042001001_01101_00001_nis_uncal.fits',\n",
    "                      'jw00042002001_01101_00001_nis_uncal.fits',\n",
    "                      'jw00042003001_01101_00001_nis_uncal.fits',\n",
    "                      'jw00042004001_01101_00001_nis_uncal.fits',\n",
    "                      'jw00042005001_01101_00001_nis_uncal.fits',\n",
    "                      'jw00042006001_01101_00001_nis_uncal.fits',\n",
    "                      'jw00042007001_01101_00001_nis_uncal.fits',\n",
    "                      'jw00042008001_01101_00001_nis_uncal.fits',\n",
    "                      'jw00042009001_01101_00001_nis_uncal.fits',\n",
    "                      'jw00042010001_01101_00001_nis_uncal.fits',\n",
    "                      'jw00042011001_01101_00001_nis_uncal.fits'])\n",
    "\n",
    "# read MIRaGe's point source list from Artifactory\n",
    "ptsrc_list_f = get_bigdata('jwst_validation_notebooks',\n",
    "                           'validation_data',\n",
    "                           'assign_wcs',\n",
    "                           'assign_wcs_niriss_test',\n",
    "                           'jw00042001001_01101_00001_nis_uncal_pointsources.list')"
   ]
  },
  {
   "cell_type": "markdown",
   "metadata": {},
   "source": [
    "<a id=\"pipeline\"></a>\n",
    "# Run Detector 1 Stage of the Pipeline \n",
    "\n",
    "Run simulations through calwebb_detector1 to produce rate images to test assign_wcs step  \n",
    "\n",
    "[Top of Page](#title_ID)"
   ]
  },
  {
   "cell_type": "code",
   "execution_count": 5,
   "metadata": {
    "execution": {
     "iopub.execute_input": "2022-09-19T19:30:31.588896Z",
     "iopub.status.busy": "2022-09-19T19:30:31.588384Z",
     "iopub.status.idle": "2022-09-19T19:30:49.743684Z",
     "shell.execute_reply": "2022-09-19T19:30:49.742749Z"
    }
   },
   "outputs": [
    {
     "name": "stderr",
     "output_type": "stream",
     "text": [
      "2022-09-19 15:30:31,600 - stpipe.Detector1Pipeline - INFO - Detector1Pipeline instance created.\n"
     ]
    },
    {
     "name": "stderr",
     "output_type": "stream",
     "text": [
      "2022-09-19 15:30:31,601 - stpipe.Detector1Pipeline.group_scale - INFO - GroupScaleStep instance created.\n"
     ]
    },
    {
     "name": "stderr",
     "output_type": "stream",
     "text": [
      "2022-09-19 15:30:31,602 - stpipe.Detector1Pipeline.dq_init - INFO - DQInitStep instance created.\n"
     ]
    },
    {
     "name": "stderr",
     "output_type": "stream",
     "text": [
      "2022-09-19 15:30:31,603 - stpipe.Detector1Pipeline.saturation - INFO - SaturationStep instance created.\n"
     ]
    },
    {
     "name": "stderr",
     "output_type": "stream",
     "text": [
      "2022-09-19 15:30:31,604 - stpipe.Detector1Pipeline.ipc - INFO - IPCStep instance created.\n"
     ]
    },
    {
     "name": "stderr",
     "output_type": "stream",
     "text": [
      "2022-09-19 15:30:31,605 - stpipe.Detector1Pipeline.superbias - INFO - SuperBiasStep instance created.\n"
     ]
    },
    {
     "name": "stderr",
     "output_type": "stream",
     "text": [
      "2022-09-19 15:30:31,607 - stpipe.Detector1Pipeline.refpix - INFO - RefPixStep instance created.\n"
     ]
    },
    {
     "name": "stderr",
     "output_type": "stream",
     "text": [
      "2022-09-19 15:30:31,607 - stpipe.Detector1Pipeline.rscd - INFO - RscdStep instance created.\n"
     ]
    },
    {
     "name": "stderr",
     "output_type": "stream",
     "text": [
      "2022-09-19 15:30:31,609 - stpipe.Detector1Pipeline.firstframe - INFO - FirstFrameStep instance created.\n"
     ]
    },
    {
     "name": "stderr",
     "output_type": "stream",
     "text": [
      "2022-09-19 15:30:31,610 - stpipe.Detector1Pipeline.lastframe - INFO - LastFrameStep instance created.\n"
     ]
    },
    {
     "name": "stderr",
     "output_type": "stream",
     "text": [
      "2022-09-19 15:30:31,611 - stpipe.Detector1Pipeline.linearity - INFO - LinearityStep instance created.\n"
     ]
    },
    {
     "name": "stderr",
     "output_type": "stream",
     "text": [
      "2022-09-19 15:30:31,612 - stpipe.Detector1Pipeline.dark_current - INFO - DarkCurrentStep instance created.\n"
     ]
    },
    {
     "name": "stderr",
     "output_type": "stream",
     "text": [
      "2022-09-19 15:30:31,613 - stpipe.Detector1Pipeline.reset - INFO - ResetStep instance created.\n"
     ]
    },
    {
     "name": "stderr",
     "output_type": "stream",
     "text": [
      "2022-09-19 15:30:31,614 - stpipe.Detector1Pipeline.persistence - INFO - PersistenceStep instance created.\n"
     ]
    },
    {
     "name": "stderr",
     "output_type": "stream",
     "text": [
      "2022-09-19 15:30:31,615 - stpipe.Detector1Pipeline.jump - INFO - JumpStep instance created.\n"
     ]
    },
    {
     "name": "stderr",
     "output_type": "stream",
     "text": [
      "2022-09-19 15:30:31,616 - stpipe.Detector1Pipeline.ramp_fit - INFO - RampFitStep instance created.\n"
     ]
    },
    {
     "name": "stderr",
     "output_type": "stream",
     "text": [
      "2022-09-19 15:30:31,617 - stpipe.Detector1Pipeline.gain_scale - INFO - GainScaleStep instance created.\n"
     ]
    },
    {
     "name": "stderr",
     "output_type": "stream",
     "text": [
      "2022-09-19 15:30:32,436 - stpipe.Detector1Pipeline - INFO - Step Detector1Pipeline running with args ('/internal/data1/jenkins/workspace/Notebooks/jwst_validation_notebooks_spacetelescope/tmp/tmpc104iosx/jw00042001001_01101_00001_nis_uncal.fits',).\n"
     ]
    },
    {
     "name": "stderr",
     "output_type": "stream",
     "text": [
      "2022-09-19 15:30:32,447 - stpipe.Detector1Pipeline - INFO - Step Detector1Pipeline parameters are: {'pre_hooks': [], 'post_hooks': [], 'output_file': '/internal/data1/jenkins/workspace/Notebooks/jwst_validation_notebooks_spacetelescope/tmp/tmpc104iosx/jw00042001001_01101_00001_nis_rate.fits', 'output_dir': '/internal/data1/jenkins/workspace/Notebooks/jwst_validation_notebooks_spacetelescope/tmp/tmpc104iosx', 'output_ext': '.fits', 'output_use_model': False, 'output_use_index': True, 'save_results': True, 'skip': False, 'suffix': None, 'search_output_file': True, 'input_dir': '', 'save_calibrated_ramp': False, 'steps': {'group_scale': {'pre_hooks': [], 'post_hooks': [], 'output_file': None, 'output_dir': None, 'output_ext': '.fits', 'output_use_model': False, 'output_use_index': True, 'save_results': False, 'skip': False, 'suffix': None, 'search_output_file': True, 'input_dir': ''}, 'dq_init': {'pre_hooks': [], 'post_hooks': [], 'output_file': None, 'output_dir': None, 'output_ext': '.fits', 'output_use_model': False, 'output_use_index': True, 'save_results': False, 'skip': False, 'suffix': None, 'search_output_file': True, 'input_dir': ''}, 'saturation': {'pre_hooks': [], 'post_hooks': [], 'output_file': None, 'output_dir': None, 'output_ext': '.fits', 'output_use_model': False, 'output_use_index': True, 'save_results': False, 'skip': False, 'suffix': None, 'search_output_file': True, 'input_dir': '', 'n_pix_grow_sat': 1}, 'ipc': {'pre_hooks': [], 'post_hooks': [], 'output_file': None, 'output_dir': None, 'output_ext': '.fits', 'output_use_model': False, 'output_use_index': True, 'save_results': False, 'skip': False, 'suffix': None, 'search_output_file': True, 'input_dir': ''}, 'superbias': {'pre_hooks': [], 'post_hooks': [], 'output_file': None, 'output_dir': None, 'output_ext': '.fits', 'output_use_model': False, 'output_use_index': True, 'save_results': False, 'skip': False, 'suffix': None, 'search_output_file': True, 'input_dir': ''}, 'refpix': {'pre_hooks': [], 'post_hooks': [], 'output_file': None, 'output_dir': None, 'output_ext': '.fits', 'output_use_model': False, 'output_use_index': True, 'save_results': False, 'skip': False, 'suffix': None, 'search_output_file': True, 'input_dir': '', 'odd_even_columns': True, 'use_side_ref_pixels': True, 'side_smoothing_length': 11, 'side_gain': 1.0, 'odd_even_rows': True}, 'rscd': {'pre_hooks': [], 'post_hooks': [], 'output_file': None, 'output_dir': None, 'output_ext': '.fits', 'output_use_model': False, 'output_use_index': True, 'save_results': False, 'skip': False, 'suffix': None, 'search_output_file': True, 'input_dir': '', 'type': 'baseline'}, 'firstframe': {'pre_hooks': [], 'post_hooks': [], 'output_file': None, 'output_dir': None, 'output_ext': '.fits', 'output_use_model': False, 'output_use_index': True, 'save_results': False, 'skip': False, 'suffix': None, 'search_output_file': True, 'input_dir': ''}, 'lastframe': {'pre_hooks': [], 'post_hooks': [], 'output_file': None, 'output_dir': None, 'output_ext': '.fits', 'output_use_model': False, 'output_use_index': True, 'save_results': False, 'skip': False, 'suffix': None, 'search_output_file': True, 'input_dir': ''}, 'linearity': {'pre_hooks': [], 'post_hooks': [], 'output_file': None, 'output_dir': None, 'output_ext': '.fits', 'output_use_model': False, 'output_use_index': True, 'save_results': False, 'skip': False, 'suffix': None, 'search_output_file': True, 'input_dir': ''}, 'dark_current': {'pre_hooks': [], 'post_hooks': [], 'output_file': None, 'output_dir': None, 'output_ext': '.fits', 'output_use_model': False, 'output_use_index': True, 'save_results': False, 'skip': False, 'suffix': None, 'search_output_file': True, 'input_dir': '', 'dark_output': None}, 'reset': {'pre_hooks': [], 'post_hooks': [], 'output_file': None, 'output_dir': None, 'output_ext': '.fits', 'output_use_model': False, 'output_use_index': True, 'save_results': False, 'skip': False, 'suffix': None, 'search_output_file': True, 'input_dir': ''}, 'persistence': {'pre_hooks': [], 'post_hooks': [], 'output_file': None, 'output_dir': None, 'output_ext': '.fits', 'output_use_model': False, 'output_use_index': True, 'save_results': False, 'skip': False, 'suffix': None, 'search_output_file': True, 'input_dir': '', 'input_trapsfilled': '', 'flag_pers_cutoff': 40.0, 'save_persistence': False, 'save_trapsfilled': True}, 'jump': {'pre_hooks': [], 'post_hooks': [], 'output_file': None, 'output_dir': None, 'output_ext': '.fits', 'output_use_model': False, 'output_use_index': True, 'save_results': False, 'skip': False, 'suffix': None, 'search_output_file': True, 'input_dir': '', 'rejection_threshold': 4.0, 'three_group_rejection_threshold': 6.0, 'four_group_rejection_threshold': 5.0, 'maximum_cores': 'none', 'flag_4_neighbors': True, 'max_jump_to_flag_neighbors': 1000.0, 'min_jump_to_flag_neighbors': 10.0, 'after_jump_flag_dn1': 0.0, 'after_jump_flag_time1': 0.0, 'after_jump_flag_dn2': 0.0, 'after_jump_flag_time2': 0.0}, 'ramp_fit': {'pre_hooks': [], 'post_hooks': [], 'output_file': None, 'output_dir': None, 'output_ext': '.fits', 'output_use_model': False, 'output_use_index': True, 'save_results': False, 'skip': False, 'suffix': None, 'search_output_file': True, 'input_dir': '', 'int_name': '', 'save_opt': False, 'opt_name': '', 'suppress_one_group': True, 'maximum_cores': 'none'}, 'gain_scale': {'pre_hooks': [], 'post_hooks': [], 'output_file': None, 'output_dir': None, 'output_ext': '.fits', 'output_use_model': False, 'output_use_index': True, 'save_results': False, 'skip': False, 'suffix': None, 'search_output_file': True, 'input_dir': ''}}}\n"
     ]
    },
    {
     "name": "stderr",
     "output_type": "stream",
     "text": [
      "2022-09-19 15:30:33,661 - stpipe.Detector1Pipeline - INFO - Prefetching reference files for dataset: 'jw00042001001_01101_00001_nis_uncal.fits' reftypes = ['dark', 'gain', 'ipc', 'linearity', 'mask', 'persat', 'readnoise', 'refpix', 'reset', 'rscd', 'saturation', 'superbias', 'trapdensity', 'trappars']\n"
     ]
    },
    {
     "name": "stderr",
     "output_type": "stream",
     "text": [
      "2022-09-19 15:30:33,877 - CRDS - INFO -  Fetching  /tmp/crds_cache/references/jwst/niriss/jwst_niriss_dark_0148.fits  847.3 M bytes  (1 / 5 files) (0 / 1.1 G bytes)\n"
     ]
    },
    {
     "name": "stderr",
     "output_type": "stream",
     "text": [
      "2022-09-19 15:30:38,024 - CRDS - ERROR -  Failure downloading file 'jwst_niriss_dark_0148.fits' : Error fetching data for 'jwst_niriss_dark_0148.fits' at CRDS server 'https://jwst-crds.stsci.edu' with mode 'http' : [Errno 28] No space left on device\n"
     ]
    },
    {
     "name": "stderr",
     "output_type": "stream",
     "text": [
      "2022-09-19 15:30:38,025 - CRDS - INFO -  Fetching  /tmp/crds_cache/references/jwst/niriss/jwst_niriss_ipc_0008.fits  151.0 M bytes  (2 / 5 files) (0 / 1.1 G bytes)\n"
     ]
    },
    {
     "name": "stderr",
     "output_type": "stream",
     "text": [
      "2022-09-19 15:30:41,700 - CRDS - INFO -  Fetching  /tmp/crds_cache/references/jwst/niriss/jwst_niriss_mask_0014.fits   16.8 M bytes  (3 / 5 files) (151.0 M / 1.1 G bytes)\n"
     ]
    },
    {
     "name": "stderr",
     "output_type": "stream",
     "text": [
      "2022-09-19 15:30:42,776 - CRDS - INFO -  Fetching  /tmp/crds_cache/references/jwst/niriss/jwst_niriss_readnoise_0001.fits   33.6 M bytes  (4 / 5 files) (167.8 M / 1.1 G bytes)\n"
     ]
    },
    {
     "name": "stderr",
     "output_type": "stream",
     "text": [
      "2022-09-19 15:30:43,941 - CRDS - ERROR -  Failure downloading file 'jwst_niriss_readnoise_0001.fits' : Error fetching data for 'jwst_niriss_readnoise_0001.fits' at CRDS server 'https://jwst-crds.stsci.edu' with mode 'http' : [Errno 28] No space left on device\n"
     ]
    },
    {
     "name": "stderr",
     "output_type": "stream",
     "text": [
      "2022-09-19 15:30:43,942 - CRDS - INFO -  Fetching  /tmp/crds_cache/references/jwst/niriss/jwst_niriss_superbias_0151.fits   50.4 M bytes  (5 / 5 files) (167.8 M / 1.1 G bytes)\n"
     ]
    },
    {
     "name": "stderr",
     "output_type": "stream",
     "text": [
      "2022-09-19 15:30:45,309 - CRDS - ERROR -  Failure downloading file 'jwst_niriss_superbias_0151.fits' : Error fetching data for 'jwst_niriss_superbias_0151.fits' at CRDS server 'https://jwst-crds.stsci.edu' with mode 'http' : [Errno 28] No space left on device\n"
     ]
    },
    {
     "name": "stderr",
     "output_type": "stream",
     "text": [
      "2022-09-19 15:30:45,310 - stpipe.Detector1Pipeline - INFO - Prefetch for DARK reference file is '/tmp/crds_cache/references/jwst/niriss/jwst_niriss_dark_0148.fits'.\n"
     ]
    },
    {
     "name": "stderr",
     "output_type": "stream",
     "text": [
      "2022-09-19 15:30:45,311 - stpipe.Detector1Pipeline - INFO - First argument /internal/data1/jenkins/workspace/Notebooks/jwst_validation_notebooks_spacetelescope/tmp/tmpc104iosx/jw00042001001_01101_00001_nis_uncal.fits does not appear to be a model\n"
     ]
    },
    {
     "name": "stderr",
     "output_type": "stream",
     "text": [
      "2022-09-19 15:30:45,312 - stpipe.Detector1Pipeline - INFO - Starting calwebb_detector1 ...\n"
     ]
    },
    {
     "name": "stderr",
     "output_type": "stream",
     "text": [
      "2022-09-19 15:30:45,710 - stpipe.Detector1Pipeline.group_scale - INFO - Step group_scale running with args (<RampModel(1, 5, 2048, 2048) from jw00042001001_01101_00001_nis_uncal.fits>,).\n"
     ]
    },
    {
     "name": "stderr",
     "output_type": "stream",
     "text": [
      "2022-09-19 15:30:45,712 - stpipe.Detector1Pipeline.group_scale - INFO - Step group_scale parameters are: {'pre_hooks': [], 'post_hooks': [], 'output_file': None, 'output_dir': None, 'output_ext': '.fits', 'output_use_model': False, 'output_use_index': True, 'save_results': False, 'skip': False, 'suffix': None, 'search_output_file': True, 'input_dir': '/internal/data1/jenkins/workspace/Notebooks/jwst_validation_notebooks_spacetelescope/tmp/tmpc104iosx'}\n"
     ]
    },
    {
     "name": "stderr",
     "output_type": "stream",
     "text": [
      "2022-09-19 15:30:45,842 - stpipe.Detector1Pipeline.group_scale - INFO - NFRAMES=4 is a power of 2; correction not needed\n"
     ]
    },
    {
     "name": "stderr",
     "output_type": "stream",
     "text": [
      "2022-09-19 15:30:45,843 - stpipe.Detector1Pipeline.group_scale - INFO - Step will be skipped\n"
     ]
    },
    {
     "name": "stderr",
     "output_type": "stream",
     "text": [
      "2022-09-19 15:30:45,846 - stpipe.Detector1Pipeline.group_scale - INFO - Step group_scale done\n"
     ]
    },
    {
     "name": "stderr",
     "output_type": "stream",
     "text": [
      "2022-09-19 15:30:45,955 - stpipe.Detector1Pipeline.dq_init - INFO - Step dq_init running with args (<RampModel(1, 5, 2048, 2048) from jw00042001001_01101_00001_nis_uncal.fits>,).\n"
     ]
    },
    {
     "name": "stderr",
     "output_type": "stream",
     "text": [
      "2022-09-19 15:30:45,957 - stpipe.Detector1Pipeline.dq_init - INFO - Step dq_init parameters are: {'pre_hooks': [], 'post_hooks': [], 'output_file': None, 'output_dir': None, 'output_ext': '.fits', 'output_use_model': False, 'output_use_index': True, 'save_results': False, 'skip': False, 'suffix': None, 'search_output_file': True, 'input_dir': '/internal/data1/jenkins/workspace/Notebooks/jwst_validation_notebooks_spacetelescope/tmp/tmpc104iosx'}\n"
     ]
    },
    {
     "name": "stderr",
     "output_type": "stream",
     "text": [
      "2022-09-19 15:30:45,978 - stpipe.Detector1Pipeline.dq_init - INFO - Using MASK reference file /tmp/crds_cache/references/jwst/niriss/jwst_niriss_mask_0014.fits\n"
     ]
    },
    {
     "name": "stderr",
     "output_type": "stream",
     "text": [
      "2022-09-19 15:30:46,429 - stpipe.Detector1Pipeline.dq_init - INFO - Step dq_init done\n"
     ]
    },
    {
     "name": "stderr",
     "output_type": "stream",
     "text": [
      "2022-09-19 15:30:46,540 - stpipe.Detector1Pipeline.saturation - INFO - Step saturation running with args (<RampModel(1, 5, 2048, 2048) from jw00042001001_01101_00001_nis_uncal.fits>,).\n"
     ]
    },
    {
     "name": "stderr",
     "output_type": "stream",
     "text": [
      "2022-09-19 15:30:46,542 - stpipe.Detector1Pipeline.saturation - INFO - Step saturation parameters are: {'pre_hooks': [], 'post_hooks': [], 'output_file': None, 'output_dir': None, 'output_ext': '.fits', 'output_use_model': False, 'output_use_index': True, 'save_results': False, 'skip': False, 'suffix': None, 'search_output_file': True, 'input_dir': '/internal/data1/jenkins/workspace/Notebooks/jwst_validation_notebooks_spacetelescope/tmp/tmpc104iosx', 'n_pix_grow_sat': 1}\n"
     ]
    },
    {
     "name": "stderr",
     "output_type": "stream",
     "text": [
      "2022-09-19 15:30:46,563 - stpipe.Detector1Pipeline.saturation - INFO - Using SATURATION reference file /tmp/crds_cache/references/jwst/niriss/jwst_niriss_saturation_0014.fits\n"
     ]
    },
    {
     "name": "stderr",
     "output_type": "stream",
     "text": [
      "2022-09-19 15:30:46,648 - stpipe.Detector1Pipeline.saturation - WARNING - Keyword CDP_REP_LIMITS does not correspond to an existing DQ mnemonic, so will be ignored\n"
     ]
    },
    {
     "name": "stderr",
     "output_type": "stream",
     "text": [
      "2022-09-19 15:30:47,618 - stpipe.Detector1Pipeline.saturation - INFO - Detected 2106 saturated pixels\n"
     ]
    },
    {
     "name": "stderr",
     "output_type": "stream",
     "text": [
      "2022-09-19 15:30:47,644 - stpipe.Detector1Pipeline.saturation - INFO - Detected 0 A/D floor pixels\n"
     ]
    },
    {
     "name": "stderr",
     "output_type": "stream",
     "text": [
      "2022-09-19 15:30:47,661 - stpipe.Detector1Pipeline.saturation - INFO - Step saturation done\n"
     ]
    },
    {
     "name": "stderr",
     "output_type": "stream",
     "text": [
      "2022-09-19 15:30:47,788 - stpipe.Detector1Pipeline.ipc - INFO - Step ipc running with args (<RampModel(1, 5, 2048, 2048) from jw00042001001_01101_00001_nis_uncal.fits>,).\n"
     ]
    },
    {
     "name": "stderr",
     "output_type": "stream",
     "text": [
      "2022-09-19 15:30:47,790 - stpipe.Detector1Pipeline.ipc - INFO - Step ipc parameters are: {'pre_hooks': [], 'post_hooks': [], 'output_file': None, 'output_dir': None, 'output_ext': '.fits', 'output_use_model': False, 'output_use_index': True, 'save_results': False, 'skip': False, 'suffix': None, 'search_output_file': True, 'input_dir': '/internal/data1/jenkins/workspace/Notebooks/jwst_validation_notebooks_spacetelescope/tmp/tmpc104iosx'}\n"
     ]
    },
    {
     "name": "stderr",
     "output_type": "stream",
     "text": [
      "2022-09-19 15:30:47,811 - stpipe.Detector1Pipeline.ipc - INFO - Using IPC reference file /tmp/crds_cache/references/jwst/niriss/jwst_niriss_ipc_0008.fits\n"
     ]
    },
    {
     "name": "stderr",
     "output_type": "stream",
     "text": [
      "2022-09-19 15:30:48,894 - stpipe.Detector1Pipeline.ipc - INFO - Step ipc done\n"
     ]
    },
    {
     "name": "stderr",
     "output_type": "stream",
     "text": [
      "2022-09-19 15:30:49,002 - stpipe.Detector1Pipeline.superbias - INFO - Step superbias running with args (<RampModel(1, 5, 2048, 2048) from jw00042001001_01101_00001_nis_uncal.fits>,).\n"
     ]
    },
    {
     "name": "stderr",
     "output_type": "stream",
     "text": [
      "2022-09-19 15:30:49,004 - stpipe.Detector1Pipeline.superbias - INFO - Step superbias parameters are: {'pre_hooks': [], 'post_hooks': [], 'output_file': None, 'output_dir': None, 'output_ext': '.fits', 'output_use_model': False, 'output_use_index': True, 'save_results': False, 'skip': False, 'suffix': None, 'search_output_file': True, 'input_dir': '/internal/data1/jenkins/workspace/Notebooks/jwst_validation_notebooks_spacetelescope/tmp/tmpc104iosx'}\n"
     ]
    },
    {
     "name": "stderr",
     "output_type": "stream",
     "text": [
      "2022-09-19 15:30:49,025 - CRDS - INFO -  Fetching  /tmp/crds_cache/references/jwst/niriss/jwst_niriss_superbias_0151.fits   50.4 M bytes  (1 / 1 files) (0 / 50.4 M bytes)\n"
     ]
    },
    {
     "name": "stderr",
     "output_type": "stream",
     "text": [
      "2022-09-19 15:30:49,200 - CRDS - ERROR -  Failure downloading file 'jwst_niriss_superbias_0151.fits' : Error fetching data for 'jwst_niriss_superbias_0151.fits' at CRDS server 'https://jwst-crds.stsci.edu' with mode 'http' : [Errno 28] No space left on device\n"
     ]
    },
    {
     "ename": "FileNotFoundError",
     "evalue": "[Errno 2] No such file or directory: '/tmp/crds_cache/references/jwst/niriss/jwst_niriss_superbias_0151.fits'",
     "output_type": "error",
     "traceback": [
      "\u001b[0;31m---------------------------------------------------------------------------\u001b[0m",
      "\u001b[0;31mFileNotFoundError\u001b[0m                         Traceback (most recent call last)",
      "Cell \u001b[0;32mIn [5], line 23\u001b[0m\n\u001b[1;32m     15\u001b[0m uncal_file \u001b[38;5;241m=\u001b[39m get_bigdata(\u001b[38;5;124m'\u001b[39m\u001b[38;5;124mjwst_validation_notebooks\u001b[39m\u001b[38;5;124m'\u001b[39m,\n\u001b[1;32m     16\u001b[0m                          \u001b[38;5;124m'\u001b[39m\u001b[38;5;124mvalidation_data\u001b[39m\u001b[38;5;124m'\u001b[39m,\n\u001b[1;32m     17\u001b[0m                          \u001b[38;5;124m'\u001b[39m\u001b[38;5;124massign_wcs\u001b[39m\u001b[38;5;124m'\u001b[39m,\n\u001b[1;32m     18\u001b[0m                          \u001b[38;5;124m'\u001b[39m\u001b[38;5;124massign_wcs_niriss_test\u001b[39m\u001b[38;5;124m'\u001b[39m,\n\u001b[1;32m     19\u001b[0m                          sfile)\n\u001b[1;32m     21\u001b[0m \u001b[38;5;66;03m# Run pipeline\u001b[39;00m\n\u001b[0;32m---> 23\u001b[0m \u001b[43mdet1\u001b[49m\u001b[38;5;241;43m.\u001b[39;49m\u001b[43mrun\u001b[49m\u001b[43m(\u001b[49m\u001b[43muncal_file\u001b[49m\u001b[43m)\u001b[49m\n",
      "File \u001b[0;32m~/miniconda3/envs/jwst_validation_notebooks/lib/python3.9/site-packages/stpipe/step.py:483\u001b[0m, in \u001b[0;36mStep.run\u001b[0;34m(self, *args)\u001b[0m\n\u001b[1;32m    481\u001b[0m     \u001b[38;5;28mself\u001b[39m\u001b[38;5;241m.\u001b[39mprefetch(\u001b[38;5;241m*\u001b[39margs)\n\u001b[1;32m    482\u001b[0m \u001b[38;5;28;01mtry\u001b[39;00m:\n\u001b[0;32m--> 483\u001b[0m     step_result \u001b[38;5;241m=\u001b[39m \u001b[38;5;28;43mself\u001b[39;49m\u001b[38;5;241;43m.\u001b[39;49m\u001b[43mprocess\u001b[49m\u001b[43m(\u001b[49m\u001b[38;5;241;43m*\u001b[39;49m\u001b[43margs\u001b[49m\u001b[43m)\u001b[49m\n\u001b[1;32m    484\u001b[0m \u001b[38;5;28;01mexcept\u001b[39;00m \u001b[38;5;167;01mTypeError\u001b[39;00m \u001b[38;5;28;01mas\u001b[39;00m e:\n\u001b[1;32m    485\u001b[0m     \u001b[38;5;28;01mif\u001b[39;00m \u001b[38;5;124m\"\u001b[39m\u001b[38;5;124mprocess() takes exactly\u001b[39m\u001b[38;5;124m\"\u001b[39m \u001b[38;5;129;01min\u001b[39;00m \u001b[38;5;28mstr\u001b[39m(e):\n",
      "File \u001b[0;32m~/miniconda3/envs/jwst_validation_notebooks/lib/python3.9/site-packages/jwst/pipeline/calwebb_detector1.py:108\u001b[0m, in \u001b[0;36mDetector1Pipeline.process\u001b[0;34m(self, input)\u001b[0m\n\u001b[1;32m    106\u001b[0m \u001b[38;5;28minput\u001b[39m \u001b[38;5;241m=\u001b[39m \u001b[38;5;28mself\u001b[39m\u001b[38;5;241m.\u001b[39msaturation(\u001b[38;5;28minput\u001b[39m)\n\u001b[1;32m    107\u001b[0m \u001b[38;5;28minput\u001b[39m \u001b[38;5;241m=\u001b[39m \u001b[38;5;28mself\u001b[39m\u001b[38;5;241m.\u001b[39mipc(\u001b[38;5;28minput\u001b[39m)\n\u001b[0;32m--> 108\u001b[0m \u001b[38;5;28minput\u001b[39m \u001b[38;5;241m=\u001b[39m \u001b[38;5;28;43mself\u001b[39;49m\u001b[38;5;241;43m.\u001b[39;49m\u001b[43msuperbias\u001b[49m\u001b[43m(\u001b[49m\u001b[38;5;28;43minput\u001b[39;49m\u001b[43m)\u001b[49m\n\u001b[1;32m    109\u001b[0m \u001b[38;5;28minput\u001b[39m \u001b[38;5;241m=\u001b[39m \u001b[38;5;28mself\u001b[39m\u001b[38;5;241m.\u001b[39mrefpix(\u001b[38;5;28minput\u001b[39m)\n\u001b[1;32m    110\u001b[0m \u001b[38;5;28minput\u001b[39m \u001b[38;5;241m=\u001b[39m \u001b[38;5;28mself\u001b[39m\u001b[38;5;241m.\u001b[39mlinearity(\u001b[38;5;28minput\u001b[39m)\n",
      "File \u001b[0;32m~/miniconda3/envs/jwst_validation_notebooks/lib/python3.9/site-packages/stpipe/step.py:483\u001b[0m, in \u001b[0;36mStep.run\u001b[0;34m(self, *args)\u001b[0m\n\u001b[1;32m    481\u001b[0m     \u001b[38;5;28mself\u001b[39m\u001b[38;5;241m.\u001b[39mprefetch(\u001b[38;5;241m*\u001b[39margs)\n\u001b[1;32m    482\u001b[0m \u001b[38;5;28;01mtry\u001b[39;00m:\n\u001b[0;32m--> 483\u001b[0m     step_result \u001b[38;5;241m=\u001b[39m \u001b[38;5;28;43mself\u001b[39;49m\u001b[38;5;241;43m.\u001b[39;49m\u001b[43mprocess\u001b[49m\u001b[43m(\u001b[49m\u001b[38;5;241;43m*\u001b[39;49m\u001b[43margs\u001b[49m\u001b[43m)\u001b[49m\n\u001b[1;32m    484\u001b[0m \u001b[38;5;28;01mexcept\u001b[39;00m \u001b[38;5;167;01mTypeError\u001b[39;00m \u001b[38;5;28;01mas\u001b[39;00m e:\n\u001b[1;32m    485\u001b[0m     \u001b[38;5;28;01mif\u001b[39;00m \u001b[38;5;124m\"\u001b[39m\u001b[38;5;124mprocess() takes exactly\u001b[39m\u001b[38;5;124m\"\u001b[39m \u001b[38;5;129;01min\u001b[39;00m \u001b[38;5;28mstr\u001b[39m(e):\n",
      "File \u001b[0;32m~/miniconda3/envs/jwst_validation_notebooks/lib/python3.9/site-packages/jwst/superbias/superbias_step.py:28\u001b[0m, in \u001b[0;36mSuperBiasStep.process\u001b[0;34m(self, input)\u001b[0m\n\u001b[1;32m     22\u001b[0m \u001b[38;5;28;01mdef\u001b[39;00m \u001b[38;5;21mprocess\u001b[39m(\u001b[38;5;28mself\u001b[39m, \u001b[38;5;28minput\u001b[39m):\n\u001b[1;32m     23\u001b[0m \n\u001b[1;32m     24\u001b[0m     \u001b[38;5;66;03m# Open the input data model\u001b[39;00m\n\u001b[1;32m     25\u001b[0m     \u001b[38;5;28;01mwith\u001b[39;00m datamodels\u001b[38;5;241m.\u001b[39mRampModel(\u001b[38;5;28minput\u001b[39m) \u001b[38;5;28;01mas\u001b[39;00m input_model:\n\u001b[1;32m     26\u001b[0m \n\u001b[1;32m     27\u001b[0m         \u001b[38;5;66;03m# Get the name of the superbias reference file to use\u001b[39;00m\n\u001b[0;32m---> 28\u001b[0m         \u001b[38;5;28mself\u001b[39m\u001b[38;5;241m.\u001b[39mbias_name \u001b[38;5;241m=\u001b[39m \u001b[38;5;28;43mself\u001b[39;49m\u001b[38;5;241;43m.\u001b[39;49m\u001b[43mget_reference_file\u001b[49m\u001b[43m(\u001b[49m\u001b[43minput_model\u001b[49m\u001b[43m,\u001b[49m\u001b[43m \u001b[49m\u001b[38;5;124;43m'\u001b[39;49m\u001b[38;5;124;43msuperbias\u001b[39;49m\u001b[38;5;124;43m'\u001b[39;49m\u001b[43m)\u001b[49m\n\u001b[1;32m     29\u001b[0m         \u001b[38;5;28mself\u001b[39m\u001b[38;5;241m.\u001b[39mlog\u001b[38;5;241m.\u001b[39minfo(\u001b[38;5;124m'\u001b[39m\u001b[38;5;124mUsing SUPERBIAS reference file \u001b[39m\u001b[38;5;132;01m%s\u001b[39;00m\u001b[38;5;124m'\u001b[39m, \u001b[38;5;28mself\u001b[39m\u001b[38;5;241m.\u001b[39mbias_name)\n\u001b[1;32m     31\u001b[0m         \u001b[38;5;66;03m# Check for a valid reference file\u001b[39;00m\n",
      "File \u001b[0;32m~/miniconda3/envs/jwst_validation_notebooks/lib/python3.9/site-packages/stpipe/step.py:800\u001b[0m, in \u001b[0;36mStep.get_reference_file\u001b[0;34m(self, input_file, reference_file_type)\u001b[0m\n\u001b[1;32m    797\u001b[0m         hdr_name \u001b[38;5;241m=\u001b[39m \u001b[38;5;124m\"\u001b[39m\u001b[38;5;124mN/A\u001b[39m\u001b[38;5;124m\"\u001b[39m\n\u001b[1;32m    798\u001b[0m     \u001b[38;5;28mself\u001b[39m\u001b[38;5;241m.\u001b[39m_reference_files_used\u001b[38;5;241m.\u001b[39mappend(\n\u001b[1;32m    799\u001b[0m         (reference_file_type, hdr_name))\n\u001b[0;32m--> 800\u001b[0m \u001b[38;5;28;01mreturn\u001b[39;00m \u001b[43mcrds_client\u001b[49m\u001b[38;5;241;43m.\u001b[39;49m\u001b[43mcheck_reference_open\u001b[49m\u001b[43m(\u001b[49m\u001b[43mreference_name\u001b[49m\u001b[43m)\u001b[49m\n",
      "File \u001b[0;32m~/miniconda3/envs/jwst_validation_notebooks/lib/python3.9/site-packages/stpipe/crds_client.py:85\u001b[0m, in \u001b[0;36mcheck_reference_open\u001b[0;34m(refpath)\u001b[0m\n\u001b[1;32m     83\u001b[0m             \u001b[38;5;28;01mraise\u001b[39;00m \u001b[38;5;167;01mRuntimeError\u001b[39;00m(\u001b[38;5;124m\"\u001b[39m\u001b[38;5;124mS3 object does not exist: \u001b[39m\u001b[38;5;124m\"\u001b[39m \u001b[38;5;241m+\u001b[39m refpath)\n\u001b[1;32m     84\u001b[0m     \u001b[38;5;28;01melse\u001b[39;00m:\n\u001b[0;32m---> 85\u001b[0m         \u001b[38;5;28;01mwith\u001b[39;00m \u001b[38;5;28;43mopen\u001b[39;49m\u001b[43m(\u001b[49m\u001b[43mrefpath\u001b[49m\u001b[43m,\u001b[49m\u001b[43m \u001b[49m\u001b[38;5;124;43m\"\u001b[39;49m\u001b[38;5;124;43mrb\u001b[39;49m\u001b[38;5;124;43m\"\u001b[39;49m\u001b[43m)\u001b[49m:\n\u001b[1;32m     86\u001b[0m             \u001b[38;5;28;01mpass\u001b[39;00m\n\u001b[1;32m     87\u001b[0m \u001b[38;5;28;01mreturn\u001b[39;00m refpath\n",
      "\u001b[0;31mFileNotFoundError\u001b[0m: [Errno 2] No such file or directory: '/tmp/crds_cache/references/jwst/niriss/jwst_niriss_superbias_0151.fits'"
     ]
    }
   ],
   "source": [
    "# Initialize Detector 1 stage\n",
    "det1 = calwebb_detector1.Detector1Pipeline()\n",
    "det1.save_results = True\n",
    "det1.output_dir = outdir\n",
    "\n",
    "# Run pipeline on simulations to produce *_rate.fits files\n",
    "\n",
    "for sfile in sim_files:\n",
    "    \n",
    "    # strip out prefix of file name to use for output file\n",
    "    prefix = (sfile.split('uncal')[0])#.split('/')[-1]\n",
    "    det1.output_file = prefix+'rate.fits'\n",
    "\n",
    "    # Read in the data files from Artifactory\n",
    "    uncal_file = get_bigdata('jwst_validation_notebooks',\n",
    "                             'validation_data',\n",
    "                             'assign_wcs',\n",
    "                             'assign_wcs_niriss_test',\n",
    "                             sfile)\n",
    "\n",
    "    # Run pipeline\n",
    "\n",
    "    det1.run(uncal_file)"
   ]
  },
  {
   "cell_type": "markdown",
   "metadata": {},
   "source": [
    "<a id=\"testing\"></a>\n",
    "# Perform Tests\n",
    "[Top of Page](#title_ID)"
   ]
  },
  {
   "cell_type": "markdown",
   "metadata": {},
   "source": [
    "## Round Trip Conversion Test"
   ]
  },
  {
   "cell_type": "markdown",
   "metadata": {},
   "source": [
    "### Define routines to do the checking"
   ]
  },
  {
   "cell_type": "markdown",
   "metadata": {},
   "source": [
    "Routine to check whether test passed or failed (is fractional difference between output and input within pre-defined tolerance?)"
   ]
  },
  {
   "cell_type": "code",
   "execution_count": null,
   "metadata": {},
   "outputs": [],
   "source": [
    "def ck_pass_fail(in_frac_x,in_frac_y,tol):\n",
    "    \n",
    "    if (in_frac_x < tol) & (in_frac_y < tol):\n",
    "        pass_or_fail = 'PASS'\n",
    "    else:\n",
    "        pass_or_fail = 'FAIL'\n",
    "        \n",
    "    return(pass_or_fail)"
   ]
  },
  {
   "cell_type": "markdown",
   "metadata": {},
   "source": [
    "Routine to populate dictionary to store results"
   ]
  },
  {
   "cell_type": "code",
   "execution_count": null,
   "metadata": {},
   "outputs": [],
   "source": [
    "def populate_dict(input_dict,obs_info,targ_ra_dec,frac_ra_x,frac_dec_y,conv,pass_or_fail):\n",
    "    \n",
    "    input_dict['obs_info'].append(obs_info)\n",
    "    input_dict['RA_Dec'].append(targ_ra_dec)\n",
    "    input_dict['frac_ra_x'].append(frac_ra_x)\n",
    "    input_dict['frac_dec_y'].append(frac_dec_y)\n",
    "    input_dict['conversion'].append(conv)\n",
    "    input_dict['pass_fail'].append(pass_or_fail)\n",
    "    \n",
    "    return(input_dict)"
   ]
  },
  {
   "cell_type": "markdown",
   "metadata": {},
   "source": [
    "Routine to transform from World --> Detector --> World coordinates"
   ]
  },
  {
   "cell_type": "code",
   "execution_count": null,
   "metadata": {},
   "outputs": [],
   "source": [
    "def world_det_world(in_ra,in_dec,input_dict,obs_info,targ_ra_dec,conv,tol):\n",
    "    \n",
    "    # Convert from RA, Dec to detector coordinates\n",
    "    det = world_to_detector(in_ra,in_dec)\n",
    "\n",
    "    # Convert back to RA, Dec\n",
    "    world = detector_to_world(det[0], det[1])\n",
    "    \n",
    "    # Calculate fractional difference between input and output World coordinates\n",
    "    frac_ra = np.abs((RA-world[0])/RA)\n",
    "    frac_dec = np.abs((Dec-world[1])/Dec)\n",
    "    \n",
    "    # Check whether difference is within tolerance\n",
    "    pass_or_fail = ck_pass_fail(frac_ra,frac_dec,tol)\n",
    "    \n",
    "    # Store results in dictionary\n",
    "    out_dict = populate_dict(input_dict,obs_info,targ_ra_dec,frac_ra,frac_dec,conv,pass_or_fail)\n",
    "    \n",
    "    # Return dictionary\n",
    "    return(out_dict)"
   ]
  },
  {
   "cell_type": "markdown",
   "metadata": {},
   "source": [
    "Routine to transform from Detector --> World --> Detector coordinates"
   ]
  },
  {
   "cell_type": "code",
   "execution_count": null,
   "metadata": {},
   "outputs": [],
   "source": [
    "def det_world_det(in_xpix,in_ypix,input_dict,obs_info,targ_ra_dec,conv,tol):\n",
    "    \n",
    "    # Convert from detector coordinates to RA, Dec\n",
    "    world = detector_to_world(in_xpix, in_ypix)\n",
    "\n",
    "    # Convert from RA, Dec back to detector\n",
    "    det = world_to_detector(world[0], world[1])\n",
    "    \n",
    "    # Calculate fractional difference between input and output detector coordinates\n",
    "    frac_x = np.abs((in_xpix-det[0])/in_xpix)\n",
    "    frac_y = np.abs((in_ypix-det[1])/in_ypix)\n",
    "    \n",
    "    # Check whether difference is within tolerance\n",
    "    pass_or_fail = ck_pass_fail(frac_x,frac_y,tol)\n",
    "    \n",
    "    # Store results in dictionary\n",
    "    out_dict = populate_dict(input_dict,obs_info,targ_ra_dec,frac_x,frac_y,conv,pass_or_fail)\n",
    "    \n",
    "    return(out_dict)"
   ]
  },
  {
   "cell_type": "markdown",
   "metadata": {},
   "source": [
    "Routine to transform from World --> V2 V3 --> World coordinates"
   ]
  },
  {
   "cell_type": "code",
   "execution_count": null,
   "metadata": {},
   "outputs": [],
   "source": [
    "def world_v2v3_world(in_ra,in_dec,input_dict,obs_info,targ_ra_dec,conv,tol):\n",
    "    \n",
    "    # Convert from World coordinates to V2 V3\n",
    "    v2v3 = world_to_v2v3(RA, Dec)\n",
    "\n",
    "    # Convert from V2, V3 back to world\n",
    "    world = v2v3_to_world(v2v3[0], v2v3[1])\n",
    "    \n",
    "    # Calculate fractional difference between input and output World coordinates\n",
    "    frac_ra = np.abs((in_ra-world[0])/in_ra)\n",
    "    frac_dec = np.abs((in_dec-world[1])/in_dec)\n",
    "    \n",
    "    # Check whether difference is within tolerance\n",
    "    pass_or_fail = ck_pass_fail(frac_ra,frac_dec,tol)\n",
    "    \n",
    "    # Store results in dictionary\n",
    "    out_dict = populate_dict(input_dict,obs_info,targ_ra_dec,frac_ra,frac_dec,conv,pass_or_fail)\n",
    "    \n",
    "    return(out_dict)"
   ]
  },
  {
   "cell_type": "markdown",
   "metadata": {},
   "source": [
    "Routine to transform from Detector --> V2 V3 --> Detector"
   ]
  },
  {
   "cell_type": "code",
   "execution_count": null,
   "metadata": {},
   "outputs": [],
   "source": [
    "def det_v2v3_det(in_xpix,in_ypix,input_dict,obs_info,targ_ra_dec,conv,tol):\n",
    "    \n",
    "    # Convert from detector coordinates to V2 V3\n",
    "    v2v3 = detector_to_v2v3(in_xpix, in_ypix)\n",
    "\n",
    "    # Convert from V2, V3 to detector\n",
    "    det = v2v3_to_detector(v2v3[0], v2v3[1])\n",
    "    \n",
    "    # Calculate fractional difference between input and output detector coordinates\n",
    "    frac_x = np.abs((in_xpix-det[0])/in_xpix)\n",
    "    frac_y = np.abs((in_ypix-det[1])/in_ypix)\n",
    "    \n",
    "    # Check whether difference is within tolerance\n",
    "    pass_or_fail = ck_pass_fail(frac_x,frac_y,tol)\n",
    "    \n",
    "    # Store results in dictionary\n",
    "    out_dict = populate_dict(input_dict,obs_info,targ_ra_dec,frac_x,frac_y,conv,pass_or_fail)\n",
    "    \n",
    "    return(out_dict)"
   ]
  },
  {
   "cell_type": "markdown",
   "metadata": {},
   "source": [
    "Routine that checks following conversions for input world and detector coordinates:\n",
    "* World --> Detector --> World\n",
    "* Detector --> World --> Detector\n",
    "* World --> V2 V3 --> World\n",
    "* Detector --> V2 V3 --> Detector\n",
    "\n",
    "This routine calls the routines defined above and stores results in dictionary."
   ]
  },
  {
   "cell_type": "code",
   "execution_count": null,
   "metadata": {},
   "outputs": [],
   "source": [
    "def do_all_the_transforms(RA,Dec,xpix,ypix,info_dict,obs_info,targ_ra_dec,pos,tol):\n",
    "    \n",
    "    # Check World --> Detector --> World\n",
    "    info_dict = world_det_world(RA,Dec,info_dict,obs_info,targ_ra_dec,\n",
    "                                pos+': world --> detector --> world',tol)\n",
    "\n",
    "    # Check Detector --> World --> Detector\n",
    "    info_dict = det_world_det(xpix,ypix,info_dict,obs_info,targ_ra_dec,\n",
    "                             pos+': detector --> world --> detector',tol)\n",
    "\n",
    "    # Check World --> V2 V3 --> Detector\n",
    "    info_dict = world_v2v3_world(RA,Dec,info_dict,obs_info,targ_ra_dec,\n",
    "                                pos+': world --> V2 V3 --> world',tol)\n",
    "\n",
    "    # Check Detector --> V2 V3 --> Detector\n",
    "    info_dict = det_v2v3_det(xpix,ypix,info_dict,obs_info,targ_ra_dec,\n",
    "                             pos+': detector --> V2 V3 --> detector',tol)\n",
    "    \n",
    "    return(info_dict)"
   ]
  },
  {
   "cell_type": "markdown",
   "metadata": {},
   "source": [
    "### Check round trip conversions"
   ]
  },
  {
   "cell_type": "code",
   "execution_count": null,
   "metadata": {},
   "outputs": [],
   "source": [
    "# set tolerance for agreement\n",
    "# use different tolerance for edge of subarray (less accurate)\n",
    "# and reference pixels (more accurate)\n",
    "# For the reference pixels, have a stricter tolerance for full frame readout\n",
    "# which should be more accurate than subarrays\n",
    "tol_ref_full = 1e-4\n",
    "tol_ref_subarray = 1e-3\n",
    "tol_edge = 1e-2\n",
    "\n",
    "# Initiate AssignWcsStep instance\n",
    "awcs = AssignWcsStep()\n",
    "\n",
    "# Select _*rate.fits files\n",
    "rate_files = glob.glob(os.path.join(outdir,'*rate.fits'))"
   ]
  },
  {
   "cell_type": "markdown",
   "metadata": {},
   "source": [
    "Cycle through simulations to perform conversions and assess agreement between input and output coordinates"
   ]
  },
  {
   "cell_type": "code",
   "execution_count": null,
   "metadata": {},
   "outputs": [],
   "source": [
    "# Set up dictionary to store results\n",
    "info_dict = {'obs_info':[],\n",
    "             'RA_Dec':[],\n",
    "             'frac_ra_x':[],\n",
    "             'frac_dec_y':[],\n",
    "             'conversion':[],\n",
    "             'pass_fail':[]}\n",
    "\n",
    "# Cycle through observations\n",
    "for r_file in (rate_files):\n",
    "\n",
    "    # Open image as datamodel\n",
    "    im = image.ImageModel(r_file)\n",
    "\n",
    "    # Create observing info string\n",
    "    exp = im.meta.exposure.type\n",
    "    filter = im.meta.instrument.filter\n",
    "    pupil = im.meta.instrument.pupil\n",
    "    subarray = im.meta.subarray.name\n",
    "    targ_ra = im.meta.target.ra\n",
    "    targ_dec = im.meta.target.dec\n",
    "\n",
    "    obs_info = exp+' '+filter+' '+pupil+' subarray:'+subarray\n",
    "    targ_ra_dec = 'RA: {}, Dec: {}'.format(targ_ra,targ_dec)\n",
    "\n",
    "    # Call Assign WCS Step\n",
    "    gwcs = awcs(im)\n",
    "\n",
    "    # Set up transforms we'll use:\n",
    "    world_to_detector = gwcs.meta.wcs.get_transform('world', 'detector')\n",
    "    detector_to_world = gwcs.meta.wcs.get_transform('detector', 'world')\n",
    "\n",
    "    world_to_v2v3 = gwcs.meta.wcs.get_transform('world', 'v2v3')\n",
    "    v2v3_to_world = gwcs.meta.wcs.get_transform('v2v3', 'world')\n",
    "\n",
    "    detector_to_v2v3 = gwcs.meta.wcs.get_transform('detector','v2v3')\n",
    "    v2v3_to_detector = gwcs.meta.wcs.get_transform('v2v3','detector')\n",
    "\n",
    "    # Transform at pixel values close to the edge of the subarray\n",
    "    xpix = 9\n",
    "    ypix = 9\n",
    "\n",
    "    RA,Dec = gwcs.meta.wcs(xpix, ypix)\n",
    "\n",
    "    # Do the transforms at edge of defined subarray\n",
    "    info_dict = do_all_the_transforms(RA,Dec,xpix,ypix,info_dict,obs_info,targ_ra_dec,'subarray edge',tol_edge)\n",
    "\n",
    "    # Transform at reference pixels\n",
    "    xpix = gwcs.meta.wcsinfo.crpix1\n",
    "    ypix = gwcs.meta.wcsinfo.crpix2\n",
    "\n",
    "    RA = gwcs.meta.wcsinfo.crval1\n",
    "    Dec = gwcs.meta.wcsinfo.crval2\n",
    "\n",
    "    # Do the transforms at reference pixels\n",
    "    # Check whether full frame readout or subarray\n",
    "    if (subarray == 'FULL'):\n",
    "        tol_ref = tol_ref_full\n",
    "    else: \n",
    "        tol_ref = tol_ref_subarray\n",
    "    info_dict = do_all_the_transforms(RA,Dec,xpix,ypix,info_dict,obs_info,targ_ra_dec,'reference pixels',tol_ref)"
   ]
  },
  {
   "cell_type": "markdown",
   "metadata": {},
   "source": [
    "### Pass/Fail test report"
   ]
  },
  {
   "cell_type": "code",
   "execution_count": null,
   "metadata": {},
   "outputs": [],
   "source": [
    "# Check whether any observations failed\n",
    "fail_ind, = np.where(np.array(info_dict['pass_fail']) == 'FAIL')\n",
    "\n",
    "# if any of the tests failed, print out which observations failed, and by how much\n",
    "if len(fail_ind > 0):\n",
    "    print('TEST FAILED for following observations:')\n",
    "    for i in fail_ind:\n",
    "        print(info_dict['obs_info'][i])\n",
    "        print(info_dict['RA_Dec'][i])\n",
    "        print('Failed test at {}'.format(info_dict['conversion'][i]))\n",
    "        print('Fractional difference between input & output RA/xpix = {}'.format(info_dict['frac_ra_x'][i]))\n",
    "        print('Fractional difference between input & output Dec/ypix = {}'.format(info_dict['frac_dec_y'][i]))\n",
    "        print()\n",
    "else:\n",
    "    print('ALL TESTS PASSED - HUZZAH!')\n",
    "    print('\\nFractional differences between input & output coordinates were all '\\\n",
    "          'within pre-defined tolerances of:')\n",
    "    print('{} (reference pixels, full frame), {} (reference pixels, subarray) or {} (edge of subarray)'.\n",
    "          format(tol_ref_full, tol_ref_subarray, tol_edge))    "
   ]
  },
  {
   "cell_type": "markdown",
   "metadata": {},
   "source": [
    "#### Run cell below if interested in seeing the fractional differences between input and output coordinates for all observations"
   ]
  },
  {
   "cell_type": "code",
   "execution_count": null,
   "metadata": {},
   "outputs": [],
   "source": [
    "for i in range(len(info_dict['obs_info'])):\n",
    "    print(info_dict['obs_info'][i])\n",
    "    print(info_dict['RA_Dec'][i])\n",
    "    print('Test at {}: {}'.format(info_dict['conversion'][i],info_dict['pass_fail'][i]))\n",
    "    print('Fractional difference between input & output RA/xpix = {}'.format(info_dict['frac_ra_x'][i]))\n",
    "    print('Fractional difference between input & output Dec/ypix = {}'.format(info_dict['frac_dec_y'][i]))\n",
    "    print()"
   ]
  },
  {
   "cell_type": "markdown",
   "metadata": {},
   "source": [
    "## Input Source Catalog Test\n",
    "[Top of Page](#title_ID)"
   ]
  },
  {
   "cell_type": "markdown",
   "metadata": {},
   "source": [
    "### Routine for plotting image to visualize sources on detector"
   ]
  },
  {
   "cell_type": "code",
   "execution_count": null,
   "metadata": {},
   "outputs": [],
   "source": [
    "def show_image(image, min=0, max=1.5, plt_srcs=False, **kwargs):\n",
    "    \n",
    "    plt.figure(figsize=(12,12))\n",
    "    plt.imshow(image, clim=(min, max))\n",
    "    \n",
    "    if (plt_srcs):\n",
    "        \n",
    "        x_pix = kwargs['x_pix']\n",
    "        y_pix = kwargs['y_pix']\n",
    "\n",
    "        box_size = 20\n",
    "                    \n",
    "        # plot box around each source\n",
    "        for i in range(len(x_pix)):\n",
    "            plt.plot([x_pix[i] - box_size, x_pix[i] + box_size],\n",
    "                     [y_pix[i] + box_size, y_pix[i] + box_size], \n",
    "                     color='white', lw=3)   \n",
    "            plt.plot([x_pix[i] - box_size, x_pix[i] + box_size],\n",
    "                     [y_pix[i] - box_size, y_pix[i] - box_size], \n",
    "                     color='white', lw=3)\n",
    "            plt.plot([x_pix[i] - box_size, x_pix[i] - box_size],\n",
    "                     [y_pix[i] - box_size, y_pix[i] + box_size], \n",
    "                     color='white', lw=3)\n",
    "            plt.plot([x_pix[i] + box_size, x_pix[i] + box_size],\n",
    "                     [y_pix[i] - box_size, y_pix[i] + box_size], \n",
    "                     color='white', lw=3)\n",
    "            \n",
    "    plt.show()"
   ]
  },
  {
   "cell_type": "markdown",
   "metadata": {},
   "source": [
    "### Check difference between output and input pixel coordinates\n",
    "Read in simulated image and input source catalog from MIRaGe"
   ]
  },
  {
   "cell_type": "code",
   "execution_count": null,
   "metadata": {},
   "outputs": [],
   "source": [
    "# set up tolerance\n",
    "tol_pix_diff = 1e-2\n",
    "\n",
    "# Read in image with point sources that was processed through the DETECTOR1 stage of the pipeline\n",
    "rate_img = os.path.join(outdir,'jw00042001001_01101_00001_nis_rate.fits')\n",
    "\n",
    "# Save image as data model\n",
    "image_dm = image.ImageModel(rate_img)\n",
    "\n",
    "# Initialize AssignWcsStep\n",
    "awcs = AssignWcsStep()\n",
    "gwcs = awcs(image_dm)\n",
    "\n",
    "# Read in Mirage catalog of input source list\n",
    "ptsrc_list = ascii.read(ptsrc_list_f, header_start=2)\n",
    "\n",
    "# See column names of input source catalog\n",
    "print(ptsrc_list.colnames)"
   ]
  },
  {
   "cell_type": "markdown",
   "metadata": {},
   "source": [
    "Show calibrated image and where sources fell"
   ]
  },
  {
   "cell_type": "code",
   "execution_count": null,
   "metadata": {},
   "outputs": [],
   "source": [
    "# Display image\n",
    "\n",
    "show_image(image_dm.data,plt_srcs=True, x_pix=ptsrc_list['pixel_x'], y_pix=ptsrc_list['pixel_y'])"
   ]
  },
  {
   "cell_type": "markdown",
   "metadata": {},
   "source": [
    "Convert from World to detector coordinates and compare with input detector coordinates"
   ]
  },
  {
   "cell_type": "code",
   "execution_count": null,
   "metadata": {},
   "outputs": [],
   "source": [
    "world_to_detector = gwcs.meta.wcs.get_transform('world', 'detector')\n",
    "\n",
    "det = world_to_detector(ptsrc_list['RA_degrees'], ptsrc_list['DEC_degrees'])\n",
    "\n",
    "del_x = det[0] - ptsrc_list['pixel_x']\n",
    "del_y = det[1] - ptsrc_list['pixel_y']\n",
    "\n",
    "del_x_rms = np.sqrt(np.mean(del_x**2))\n",
    "del_y_rms = np.sqrt(np.mean(del_y**2))\n",
    "\n",
    "print('RMS of delta-x is {0:.4f} and RMS of delta-Dy is {1:.4f}'.format(\n",
    "del_x_rms, del_y_rms))"
   ]
  },
  {
   "cell_type": "markdown",
   "metadata": {},
   "source": [
    "Plot distribution of $\\Delta$x and $\\Delta$y"
   ]
  },
  {
   "cell_type": "code",
   "execution_count": null,
   "metadata": {},
   "outputs": [],
   "source": [
    "# Set up plot\n",
    "fig,(ax1, ax2) = plt.subplots(1,2)\n",
    "\n",
    "# Plot delta-x histogram\n",
    "x_hist = ax1.hist(del_x)\n",
    "# Label plot\n",
    "ax1.set_xlabel(r'$\\Delta$x',fontsize=12)\n",
    "ax1.set_ylabel('N',fontsize=12)\n",
    "# Set plot limits\n",
    "ax1_yup = np.max(x_hist[0]) + 1\n",
    "ax1.set_ylim(0, ax1_yup)\n",
    "# plot line at zero\n",
    "ax1.plot([0,0],[0,ax1_yup], '--', lw=2, c='black')\n",
    "ax1.tick_params(labelsize=12)\n",
    "\n",
    "# Plot delta-Dec histogram\n",
    "y_hist = ax2.hist(del_y)\n",
    "# Label plot\n",
    "ax2.set_xlabel(r'$\\Delta$y',fontsize=12)\n",
    "ax2.set_ylabel('N',fontsize=12)\n",
    "# Set plot limits\n",
    "ax2_yup = np.max(y_hist[0]) + 1\n",
    "ax2.set_ylim(0, ax2_yup)\n",
    "# plot line at zero\n",
    "ax2.plot([0,0],[0,ax2_yup], '--', lw=2, c='black')\n",
    "ax2.tick_params(labelsize=12)\n",
    "\n",
    "plt.tight_layout()\n",
    "plt.show()"
   ]
  },
  {
   "cell_type": "markdown",
   "metadata": {},
   "source": [
    "Plot $\\Delta$x and $\\Delta$y as function of inputted x and y. Symbol & color-code based on detector position."
   ]
  },
  {
   "cell_type": "code",
   "execution_count": null,
   "metadata": {},
   "outputs": [],
   "source": [
    "# Set up plot\n",
    "fig,(ax1, ax2) = plt.subplots(1,2)\n",
    "\n",
    "# Plot delta-x as function of input x\n",
    "ax1.scatter(ptsrc_list['pixel_x'], del_x, marker='o', color='darkorchid')\n",
    "\n",
    "# Label plot\n",
    "ax1.set_ylabel(r'$\\Delta$x',fontsize=12)\n",
    "ax1.set_xlabel('Input x',fontsize=12)\n",
    "# Set bounds on plot\n",
    "xlo = np.min(ptsrc_list['pixel_x']) - 100\n",
    "xhi = np.max(ptsrc_list['pixel_x']) + 100\n",
    "ax1.set_xlim(xlo, xhi)\n",
    "ax1.set_ylim(np.min(del_x) - 0.005,\n",
    "             np.max(del_x) + 0.005)\n",
    "\n",
    "# Plot horizontal line at 0\n",
    "ax1.plot([xlo, xhi],[0,0], '--', lw=2, color='black')\n",
    "ax1.tick_params(labelsize=12)\n",
    "\n",
    "\n",
    "# Plot delta-y as function of input y\n",
    "ax2.scatter(ptsrc_list['pixel_y'], del_y, marker='o', color='darkorchid')\n",
    "\n",
    "# Label plot\n",
    "ax2.set_ylabel(r'$\\Delta$y',fontsize=12)\n",
    "ax2.set_xlabel('Input y',fontsize=12)\n",
    "# Set bounds on plot\n",
    "xlo = np.min(ptsrc_list['pixel_y'])-100\n",
    "xhi = np.max(ptsrc_list['pixel_y'])+200\n",
    "ax2.set_xlim(xlo, xhi)\n",
    "ax2.set_ylim(np.min(del_y)-0.005,np.max(del_y)+0.005)\n",
    "# Plot horizontal line at 0\n",
    "ax2.plot([xlo, xhi],[0,0], '--', lw=2, color='black')\n",
    "ax2.tick_params(labelsize=12)\n",
    "\n",
    "plt.tight_layout()\n",
    "plt.show()"
   ]
  },
  {
   "cell_type": "markdown",
   "metadata": {},
   "source": [
    "### Pass/Fail test report"
   ]
  },
  {
   "cell_type": "code",
   "execution_count": null,
   "metadata": {},
   "outputs": [],
   "source": [
    "if ( ((del_x_rms) < tol_pix_diff) &\n",
    "     ((del_y_rms) < tol_pix_diff)):\n",
    "    print('Test passed! HUZZAH!')\n",
    "else:\n",
    "    print('TEST FAILED') \n",
    "\n",
    "print()\n",
    "print('Tolerance for RMS of delta-x and delta-y is {}\\n'.format(tol_pix_diff))\n",
    "print('RMS of Del-x is: {0:0.4f},\\nmaximum del-x: {1:0.4f}, \\nminimum del-x: {2:0.6f}'.format(\n",
    "    del_x_rms, np.max(abs(del_x)), np.min(abs(del_x))))\n",
    "print('\\nRMS of Del-y is: {0:0.4f}, \\nmaximum of del-y of {1:0.4f}, \\nminium del-y: {2:0.6f}'.format(\n",
    "    del_y_rms, np.max(abs(del_y)), np.min(abs(del_y))))"
   ]
  },
  {
   "cell_type": "markdown",
   "metadata": {},
   "source": [
    "<a id=\"about_ID\"></a>\n",
    "## About this Notebook\n",
    "**Author:** S. LaMassa, NIRISS\n",
    "<br>**Updated On:** 05/26/2021"
   ]
  },
  {
   "cell_type": "markdown",
   "metadata": {},
   "source": [
    "[Top of Page](#title_ID)\n",
    "<img style=\"float: right;\" src=\"./stsci_pri_combo_mark_horizonal_white_bkgd.png\" alt=\"stsci_pri_combo_mark_horizonal_white_bkgd\" width=\"200px\"/> "
   ]
  }
 ],
 "metadata": {
  "kernelspec": {
   "display_name": "Python 3",
   "language": "python",
   "name": "python3"
  },
  "language_info": {
   "codemirror_mode": {
    "name": "ipython",
    "version": 3
   },
   "file_extension": ".py",
   "mimetype": "text/x-python",
   "name": "python",
   "nbconvert_exporter": "python",
   "pygments_lexer": "ipython3",
   "version": "3.9.13"
  }
 },
 "nbformat": 4,
 "nbformat_minor": 1
}
