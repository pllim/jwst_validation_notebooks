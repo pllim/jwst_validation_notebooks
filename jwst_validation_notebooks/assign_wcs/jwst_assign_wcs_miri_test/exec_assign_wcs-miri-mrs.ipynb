{
 "cells": [
  {
   "cell_type": "markdown",
   "metadata": {},
   "source": [
    "<a id=\"title_ID\"></a>\n",
    "# JWST Pipeline Validation Testing Notebook: MIRI MRS Spec2: Assign_wcs()\n",
    "<span style=\"color:red\"> **Instruments Affected**</span>: FGS, MIRI, NIRCam, NIRISS, NIRSpec "
   ]
  },
  {
   "cell_type": "markdown",
   "metadata": {
    "toc": true
   },
   "source": [
    "<h1>Table of Contents<span class=\"tocSkip\"></span></h1>\n",
    "<div class=\"toc\"><ul class=\"toc-item\"><li><span><a href=\"#JWST-Pipeline-Validation-Testing-Notebook:-MIRI-MRS\" data-toc-modified-id=\"JWST-Pipeline-Validation-Testing-Notebook:-MIRI-MRS-1\"><span class=\"toc-item-num\">1&nbsp;&nbsp;</span>JWST Pipeline Validation Testing Notebook: MIRI MRS</a></span><ul class=\"toc-item\"><li><span><a href=\"#Spec2:-Assign_wcs()\" data-toc-modified-id=\"Spec2:-Assign_wcs()-1.1\"><span class=\"toc-item-num\">1.1&nbsp;&nbsp;</span>Spec2: Assign_wcs()</a></span><ul class=\"toc-item\"><li><span><a href=\"#Table-of-Contents\" data-toc-modified-id=\"Table-of-Contents-1.1.1\"><span class=\"toc-item-num\">1.1.1&nbsp;&nbsp;</span>Table of Contents</a></span></li></ul></li></ul></li><li><span><a href=\"#Imports\" data-toc-modified-id=\"Imports-2\"><span class=\"toc-item-num\">2&nbsp;&nbsp;</span>Imports</a></span></li><li><span><a href=\"#Introduction\" data-toc-modified-id=\"Introduction-3\"><span class=\"toc-item-num\">3&nbsp;&nbsp;</span>Introduction</a></span><ul class=\"toc-item\"><li><ul class=\"toc-item\"><li><span><a href=\"#Calibration-WG-Requested-Algorithm:\" data-toc-modified-id=\"Calibration-WG-Requested-Algorithm:-3.0.1\"><span class=\"toc-item-num\">3.0.1&nbsp;&nbsp;</span>Calibration WG Requested Algorithm:</a></span></li></ul></li></ul></li><li><span><a href=\"#Loading-Data\" data-toc-modified-id=\"Loading-Data-4\"><span class=\"toc-item-num\">4&nbsp;&nbsp;</span>Loading Data</a></span></li><li><span><a href=\"#Run-JWST-Pipeline---AssignWCS\" data-toc-modified-id=\"Run-JWST-Pipeline---AssignWCS-5\"><span class=\"toc-item-num\">5&nbsp;&nbsp;</span>Run JWST Pipeline - AssignWCS</a></span><ul class=\"toc-item\"><li><span><a href=\"#Output-checks-and-tests\" data-toc-modified-id=\"Output-checks-and-tests-5.1\"><span class=\"toc-item-num\">5.1&nbsp;&nbsp;</span>Output checks and tests</a></span></li><li><span><a href=\"#About-this-Notebook\" data-toc-modified-id=\"About-this-Notebook-5.2\"><span class=\"toc-item-num\">5.2&nbsp;&nbsp;</span>About this Notebook</a></span></li></ul></li></ul></div>"
   ]
  },
  {
   "cell_type": "markdown",
   "metadata": {},
   "source": [
    "<a id=\"imports_ID\"></a>\n",
    "# Imports\n",
    "List the library imports and why they are relevant to this notebook.\n",
    "\n",
    "* os, glob for general  OS operations\n",
    "* numpy\n",
    "* astropy.io for opening fits files\n",
    "* astropy.utils for remote data retrieval\n",
    "* IPython.display for printing markdown output\n",
    "* jwst.datamodels for building model for JWST Pipeline\n",
    "* jwst.module.PipelineStep is the pipeline step being tested\n",
    "* miricoord for coordinate conversion tools\n",
    "\n",
    "[Top of Page](#title_ID)"
   ]
  },
  {
   "cell_type": "code",
   "execution_count": 1,
   "metadata": {
    "execution": {
     "iopub.execute_input": "2022-10-03T22:59:38.022971Z",
     "iopub.status.busy": "2022-10-03T22:59:38.022234Z",
     "iopub.status.idle": "2022-10-03T22:59:38.029450Z",
     "shell.execute_reply": "2022-10-03T22:59:38.028955Z"
    }
   },
   "outputs": [
    {
     "name": "stdout",
     "output_type": "stream",
     "text": [
      "CRDS cache location: /grp/crds/cache\n"
     ]
    }
   ],
   "source": [
    "import os\n",
    "if 'CRDS_CACHE_TYPE' in os.environ:\n",
    "    if os.environ['CRDS_CACHE_TYPE'] == 'local':\n",
    "        os.environ['CRDS_PATH'] = os.path.join(os.environ['HOME'], 'crds', 'cache')\n",
    "    elif os.path.isdir(os.environ['CRDS_CACHE_TYPE']):\n",
    "        os.environ['CRDS_PATH'] = os.environ['CRDS_CACHE_TYPE']\n",
    "print('CRDS cache location: {}'.format(os.environ['CRDS_PATH']))"
   ]
  },
  {
   "cell_type": "code",
   "execution_count": 2,
   "metadata": {
    "ExecuteTime": {
     "end_time": "2021-04-14T18:17:47.079448Z",
     "start_time": "2021-04-14T18:17:45.497701Z"
    },
    "execution": {
     "iopub.execute_input": "2022-10-03T22:59:38.031944Z",
     "iopub.status.busy": "2022-10-03T22:59:38.031610Z",
     "iopub.status.idle": "2022-10-03T22:59:39.316098Z",
     "shell.execute_reply": "2022-10-03T22:59:39.315524Z"
    },
    "nbpresent": {
     "id": "45177853-942e-4949-9e30-f544d70ef5f4"
    }
   },
   "outputs": [],
   "source": [
    "import glob\n",
    "import numpy as np\n",
    "from numpy.testing import assert_allclose\n",
    "import os\n",
    "\n",
    "import astropy.io.fits as fits\n",
    "import astropy.io.ascii as ascii\n",
    "from ci_watson.artifactory_helpers import get_bigdata\n",
    "from IPython.display import Markdown\n",
    "\n",
    "from jwst.assign_wcs import AssignWcsStep\n",
    "import miricoord.mrs.toolversions.mrs_pipetools_cdp8b as tv\n",
    "from miricoord.mrs import mrs_tools as mrst\n",
    "\n",
    "%matplotlib inline"
   ]
  },
  {
   "cell_type": "code",
   "execution_count": 3,
   "metadata": {
    "execution": {
     "iopub.execute_input": "2022-10-03T22:59:39.319967Z",
     "iopub.status.busy": "2022-10-03T22:59:39.319650Z",
     "iopub.status.idle": "2022-10-03T22:59:39.324045Z",
     "shell.execute_reply": "2022-10-03T22:59:39.323599Z"
    }
   },
   "outputs": [
    {
     "name": "stdout",
     "output_type": "stream",
     "text": [
      "Running in /internal/data1/jenkins/workspace/Notebooks/jwst_validation_notebooks_spacetelescope/tmp/tmpctq7go3k\n"
     ]
    }
   ],
   "source": [
    "use_tempdir = True\n",
    "\n",
    "# Create a temporary directory to hold notebook output, and change the working directory to that directory.\n",
    "from tempfile import TemporaryDirectory\n",
    "import os\n",
    "import shutil\n",
    "\n",
    "if use_tempdir:\n",
    "    data_dir = TemporaryDirectory()\n",
    "\n",
    "    # If you have files that are in the notebook's directory, but that the notebook will need to use while\n",
    "    # running, copy them into the temporary directory here.\n",
    "    #\n",
    "    # files = ['name_of_file']\n",
    "    # for file_name in files:\n",
    "    #     shutil.copy(file_name, os.path.join(data_dir.name, file_name))\n",
    "\n",
    "    # Save original directory\n",
    "    orig_dir = os.getcwd()\n",
    "\n",
    "    # Move to new directory\n",
    "    os.chdir(data_dir.name)\n",
    "\n",
    "# For info, print out where the script is running\n",
    "print(\"Running in {}\".format(os.getcwd()))\n"
   ]
  },
  {
   "cell_type": "markdown",
   "metadata": {},
   "source": [
    "<a id=\"intro_ID\"></a>\n",
    "# Introduction\n",
    "\n",
    "\n",
    "In this notebook we will test the assign_wcs step of Spec2Pipeline() for **MRS** observations.\n",
    "\n",
    "Step description: https://jwst-pipeline.readthedocs.io/en/latest/jwst/assign_wcs/index.html#assign-wcs-step\n",
    "\n",
    "Pipeline code: https://github.com/spacetelescope/jwst/tree/master/jwst/assign_wcs\n",
    "\n",
    "\n",
    "### Calibration WG Requested Algorithm: \n",
    "\n",
    "https://outerspace.stsci.edu/display/JWSTCC/Vanilla+Spectral+GWCS+Information\n",
    "\n",
    "\n",
    "\n",
    "[Top of Page](#title_ID)"
   ]
  },
  {
   "cell_type": "markdown",
   "metadata": {},
   "source": [
    "<a id=\"data_ID\"></a>\n",
    "# Loading Data\n",
    "\n",
    "We are using simulated MRS observations, generated with MIRISim v2.3.0 (as of Dec 2020). ***(Needs updating)*** \n",
    "\n",
    "[Top of Page](#title_ID)"
   ]
  },
  {
   "cell_type": "code",
   "execution_count": 4,
   "metadata": {
    "ExecuteTime": {
     "end_time": "2021-04-14T18:21:03.117294Z",
     "start_time": "2021-04-14T18:17:47.081901Z"
    },
    "execution": {
     "iopub.execute_input": "2022-10-03T22:59:39.327354Z",
     "iopub.status.busy": "2022-10-03T22:59:39.326708Z",
     "iopub.status.idle": "2022-10-03T22:59:42.592508Z",
     "shell.execute_reply": "2022-10-03T22:59:42.591850Z"
    }
   },
   "outputs": [],
   "source": [
    "mock12A = get_bigdata('jwst_validation_notebooks',\n",
    "                 'validation_data',\n",
    "                 'assign_wcs',\n",
    "                 'assign_wcs_miri_test',\n",
    "                 'mock12A-0.fits')\n",
    "\n",
    "mock12B = get_bigdata('jwst_validation_notebooks',\n",
    "                 'validation_data',\n",
    "                 'assign_wcs',\n",
    "                 'assign_wcs_miri_test',\n",
    "                 'mock12B-0.fits')\n",
    "\n",
    "mock12C = get_bigdata('jwst_validation_notebooks',\n",
    "                 'validation_data',\n",
    "                 'assign_wcs',\n",
    "                 'assign_wcs_miri_test',\n",
    "                 'mock12C-0.fits')\n",
    "\n",
    "mock34A = get_bigdata('jwst_validation_notebooks',\n",
    "                 'validation_data',\n",
    "                 'assign_wcs',\n",
    "                 'assign_wcs_miri_test',\n",
    "                 'mock34A-0.fits')\n",
    "\n",
    "mock34B = get_bigdata('jwst_validation_notebooks',\n",
    "                 'validation_data',\n",
    "                 'assign_wcs',\n",
    "                 'assign_wcs_miri_test',\n",
    "                 'mock34B-0.fits')\n",
    "\n",
    "mock34C = get_bigdata('jwst_validation_notebooks',\n",
    "                 'validation_data',\n",
    "                 'assign_wcs',\n",
    "                 'assign_wcs_miri_test',\n",
    "                 'mock34C-0.fits')\n",
    "\n",
    "files = [mock12A, mock12B, mock12C, mock34A, mock34B, mock34C]"
   ]
  },
  {
   "cell_type": "markdown",
   "metadata": {},
   "source": [
    "Collect configuration files locally if they aren't yet there."
   ]
  },
  {
   "cell_type": "code",
   "execution_count": 5,
   "metadata": {
    "ExecuteTime": {
     "end_time": "2021-04-14T18:21:03.122100Z",
     "start_time": "2021-04-14T18:21:03.119940Z"
    },
    "execution": {
     "iopub.execute_input": "2022-10-03T22:59:42.596819Z",
     "iopub.status.busy": "2022-10-03T22:59:42.596589Z",
     "iopub.status.idle": "2022-10-03T22:59:42.599799Z",
     "shell.execute_reply": "2022-10-03T22:59:42.599350Z"
    }
   },
   "outputs": [],
   "source": [
    "# if not os.path.exists('../cfg_files/'):\n",
    "#     os.mkdir('../cfg_files/')\n",
    "#     cfgs = collect_pipeline_cfgs.collect_pipeline_cfgs(dst='../cfg_files/')"
   ]
  },
  {
   "cell_type": "markdown",
   "metadata": {},
   "source": [
    "<a id=\"pipeline_ID\"></a>\n",
    "# Run JWST Pipeline - AssignWCS\n",
    "\n",
    "For this test we do not need to run the data through the Detector1() pipeline (in fact, this data will fail in Detector1). We begin by running the data through AssignWCS in spec2 using the 'assign_wcs.cfg' file. The AssignWcs step should not change anything in the science data or error extension. It attaches the WCS information to the data, so that a location in detector pixels can be reconstructed to an RA, dec, wavelength in spatial and spectral space.\n",
    "\n",
    "[Top of Page](#title_ID)"
   ]
  },
  {
   "cell_type": "code",
   "execution_count": 6,
   "metadata": {
    "ExecuteTime": {
     "end_time": "2021-04-14T18:30:08.533227Z",
     "start_time": "2021-04-14T18:23:30.917854Z"
    },
    "execution": {
     "iopub.execute_input": "2022-10-03T22:59:42.602630Z",
     "iopub.status.busy": "2022-10-03T22:59:42.602417Z",
     "iopub.status.idle": "2022-10-03T23:00:46.644731Z",
     "shell.execute_reply": "2022-10-03T23:00:46.644089Z"
    }
   },
   "outputs": [
    {
     "name": "stderr",
     "output_type": "stream",
     "text": [
      "2022-10-03 18:59:44,956 - stpipe.AssignWcsStep - INFO - AssignWcsStep instance created.\n"
     ]
    },
    {
     "name": "stderr",
     "output_type": "stream",
     "text": [
      "2022-10-03 18:59:45,061 - stpipe.AssignWcsStep - INFO - Step AssignWcsStep running with args ('/internal/data1/jenkins/workspace/Notebooks/jwst_validation_notebooks_spacetelescope/tmp/tmpctq7go3k/mock12A-0.fits',).\n"
     ]
    },
    {
     "name": "stderr",
     "output_type": "stream",
     "text": [
      "2022-10-03 18:59:45,062 - stpipe.AssignWcsStep - INFO - Step AssignWcsStep parameters are: {'pre_hooks': [], 'post_hooks': [], 'output_file': None, 'output_dir': None, 'output_ext': '.fits', 'output_use_model': False, 'output_use_index': True, 'save_results': True, 'skip': False, 'suffix': None, 'search_output_file': True, 'input_dir': '', 'sip_approx': True, 'sip_max_pix_error': 0.25, 'sip_degree': None, 'sip_max_inv_pix_error': 0.25, 'sip_inv_degree': None, 'sip_npoints': 32, 'slit_y_low': -0.55, 'slit_y_high': 0.55}\n"
     ]
    },
    {
     "name": "stderr",
     "output_type": "stream",
     "text": [
      "2022-10-03 18:59:50,250 - stpipe.AssignWcsStep - INFO - Created a MIRI mir_mrs pipeline with references {'distortion': '/grp/crds/cache/references/jwst/jwst_miri_distortion_0031.asdf', 'filteroffset': None, 'specwcs': '/grp/crds/cache/references/jwst/jwst_miri_specwcs_0024.asdf', 'regions': '/grp/crds/cache/references/jwst/jwst_miri_regions_0027.asdf', 'wavelengthrange': '/grp/crds/cache/references/jwst/jwst_miri_wavelengthrange_0005.asdf', 'camera': None, 'collimator': None, 'disperser': None, 'fore': None, 'fpa': None, 'msa': None, 'ote': None, 'ifupost': None, 'ifufore': None, 'ifuslicer': None}\n"
     ]
    },
    {
     "name": "stderr",
     "output_type": "stream",
     "text": [
      "2022-10-03 18:59:52,683 - stpipe.AssignWcsStep - INFO - Update S_REGION to POLYGON ICRS  44.999131306 -0.000874755 45.000333171 -0.000874755 45.000333171 0.000376675 44.999131306 0.000376675\n"
     ]
    },
    {
     "name": "stderr",
     "output_type": "stream",
     "text": [
      "2022-10-03 18:59:52,686 - stpipe.AssignWcsStep - INFO - COMPLETED assign_wcs\n"
     ]
    },
    {
     "name": "stderr",
     "output_type": "stream",
     "text": [
      "2022-10-03 18:59:52,702 - stpipe.AssignWcsStep - INFO - Results used CRDS context: jwst_0988.pmap\n"
     ]
    },
    {
     "name": "stderr",
     "output_type": "stream",
     "text": [
      "2022-10-03 18:59:53,650 - stpipe.AssignWcsStep - INFO - Saved model in mock12A-0_assignwcsstep.fits\n"
     ]
    },
    {
     "name": "stderr",
     "output_type": "stream",
     "text": [
      "2022-10-03 18:59:53,651 - stpipe.AssignWcsStep - INFO - Step AssignWcsStep done\n"
     ]
    },
    {
     "name": "stderr",
     "output_type": "stream",
     "text": [
      "2022-10-03 18:59:54,965 - stpipe.AssignWcsStep - INFO - AssignWcsStep instance created.\n"
     ]
    },
    {
     "name": "stderr",
     "output_type": "stream",
     "text": [
      "2022-10-03 18:59:55,151 - stpipe.AssignWcsStep - INFO - Step AssignWcsStep running with args ('/internal/data1/jenkins/workspace/Notebooks/jwst_validation_notebooks_spacetelescope/tmp/tmpctq7go3k/mock12B-0.fits',).\n"
     ]
    },
    {
     "name": "stderr",
     "output_type": "stream",
     "text": [
      "2022-10-03 18:59:55,153 - stpipe.AssignWcsStep - INFO - Step AssignWcsStep parameters are: {'pre_hooks': [], 'post_hooks': [], 'output_file': None, 'output_dir': None, 'output_ext': '.fits', 'output_use_model': False, 'output_use_index': True, 'save_results': True, 'skip': False, 'suffix': None, 'search_output_file': True, 'input_dir': '', 'sip_approx': True, 'sip_max_pix_error': 0.25, 'sip_degree': None, 'sip_max_inv_pix_error': 0.25, 'sip_inv_degree': None, 'sip_npoints': 32, 'slit_y_low': -0.55, 'slit_y_high': 0.55}\n"
     ]
    },
    {
     "name": "stderr",
     "output_type": "stream",
     "text": [
      "2022-10-03 19:00:00,222 - stpipe.AssignWcsStep - INFO - Created a MIRI mir_mrs pipeline with references {'distortion': '/grp/crds/cache/references/jwst/jwst_miri_distortion_0030.asdf', 'filteroffset': None, 'specwcs': '/grp/crds/cache/references/jwst/jwst_miri_specwcs_0021.asdf', 'regions': '/grp/crds/cache/references/jwst/jwst_miri_regions_0026.asdf', 'wavelengthrange': '/grp/crds/cache/references/jwst/jwst_miri_wavelengthrange_0005.asdf', 'camera': None, 'collimator': None, 'disperser': None, 'fore': None, 'fpa': None, 'msa': None, 'ote': None, 'ifupost': None, 'ifufore': None, 'ifuslicer': None}\n"
     ]
    },
    {
     "name": "stderr",
     "output_type": "stream",
     "text": [
      "2022-10-03 19:00:02,508 - stpipe.AssignWcsStep - INFO - Update S_REGION to POLYGON ICRS  44.999101544 -0.000949495 45.000304844 -0.000949495 45.000304844 0.000303129 44.999101544 0.000303129\n"
     ]
    },
    {
     "name": "stderr",
     "output_type": "stream",
     "text": [
      "2022-10-03 19:00:02,509 - stpipe.AssignWcsStep - INFO - COMPLETED assign_wcs\n"
     ]
    },
    {
     "name": "stderr",
     "output_type": "stream",
     "text": [
      "2022-10-03 19:00:02,524 - stpipe.AssignWcsStep - INFO - Results used CRDS context: jwst_0988.pmap\n"
     ]
    },
    {
     "name": "stderr",
     "output_type": "stream",
     "text": [
      "2022-10-03 19:00:03,474 - stpipe.AssignWcsStep - INFO - Saved model in mock12B-0_assignwcsstep.fits\n"
     ]
    },
    {
     "name": "stderr",
     "output_type": "stream",
     "text": [
      "2022-10-03 19:00:03,474 - stpipe.AssignWcsStep - INFO - Step AssignWcsStep done\n"
     ]
    },
    {
     "name": "stderr",
     "output_type": "stream",
     "text": [
      "2022-10-03 19:00:04,665 - stpipe.AssignWcsStep - INFO - AssignWcsStep instance created.\n"
     ]
    },
    {
     "name": "stderr",
     "output_type": "stream",
     "text": [
      "2022-10-03 19:00:04,914 - stpipe.AssignWcsStep - INFO - Step AssignWcsStep running with args ('/internal/data1/jenkins/workspace/Notebooks/jwst_validation_notebooks_spacetelescope/tmp/tmpctq7go3k/mock12C-0.fits',).\n"
     ]
    },
    {
     "name": "stderr",
     "output_type": "stream",
     "text": [
      "2022-10-03 19:00:04,916 - stpipe.AssignWcsStep - INFO - Step AssignWcsStep parameters are: {'pre_hooks': [], 'post_hooks': [], 'output_file': None, 'output_dir': None, 'output_ext': '.fits', 'output_use_model': False, 'output_use_index': True, 'save_results': True, 'skip': False, 'suffix': None, 'search_output_file': True, 'input_dir': '', 'sip_approx': True, 'sip_max_pix_error': 0.25, 'sip_degree': None, 'sip_max_inv_pix_error': 0.25, 'sip_inv_degree': None, 'sip_npoints': 32, 'slit_y_low': -0.55, 'slit_y_high': 0.55}\n"
     ]
    },
    {
     "name": "stderr",
     "output_type": "stream",
     "text": [
      "2022-10-03 19:00:10,578 - stpipe.AssignWcsStep - INFO - Created a MIRI mir_mrs pipeline with references {'distortion': '/grp/crds/cache/references/jwst/jwst_miri_distortion_0029.asdf', 'filteroffset': None, 'specwcs': '/grp/crds/cache/references/jwst/jwst_miri_specwcs_0022.asdf', 'regions': '/grp/crds/cache/references/jwst/jwst_miri_regions_0028.asdf', 'wavelengthrange': '/grp/crds/cache/references/jwst/jwst_miri_wavelengthrange_0005.asdf', 'camera': None, 'collimator': None, 'disperser': None, 'fore': None, 'fpa': None, 'msa': None, 'ote': None, 'ifupost': None, 'ifufore': None, 'ifuslicer': None}\n"
     ]
    },
    {
     "name": "stderr",
     "output_type": "stream",
     "text": [
      "2022-10-03 19:00:13,028 - stpipe.AssignWcsStep - INFO - Update S_REGION to POLYGON ICRS  44.999164360 -0.000924033 45.000355488 -0.000924033 45.000355488 0.000384691 44.999164360 0.000384691\n"
     ]
    },
    {
     "name": "stderr",
     "output_type": "stream",
     "text": [
      "2022-10-03 19:00:13,030 - stpipe.AssignWcsStep - INFO - COMPLETED assign_wcs\n"
     ]
    },
    {
     "name": "stderr",
     "output_type": "stream",
     "text": [
      "2022-10-03 19:00:13,047 - stpipe.AssignWcsStep - INFO - Results used CRDS context: jwst_0988.pmap\n"
     ]
    },
    {
     "name": "stderr",
     "output_type": "stream",
     "text": [
      "2022-10-03 19:00:14,118 - stpipe.AssignWcsStep - INFO - Saved model in mock12C-0_assignwcsstep.fits\n"
     ]
    },
    {
     "name": "stderr",
     "output_type": "stream",
     "text": [
      "2022-10-03 19:00:14,119 - stpipe.AssignWcsStep - INFO - Step AssignWcsStep done\n"
     ]
    },
    {
     "name": "stderr",
     "output_type": "stream",
     "text": [
      "2022-10-03 19:00:15,737 - stpipe.AssignWcsStep - INFO - AssignWcsStep instance created.\n"
     ]
    },
    {
     "name": "stderr",
     "output_type": "stream",
     "text": [
      "2022-10-03 19:00:16,436 - stpipe.AssignWcsStep - INFO - Step AssignWcsStep running with args ('/internal/data1/jenkins/workspace/Notebooks/jwst_validation_notebooks_spacetelescope/tmp/tmpctq7go3k/mock34A-0.fits',).\n"
     ]
    },
    {
     "name": "stderr",
     "output_type": "stream",
     "text": [
      "2022-10-03 19:00:16,438 - stpipe.AssignWcsStep - INFO - Step AssignWcsStep parameters are: {'pre_hooks': [], 'post_hooks': [], 'output_file': None, 'output_dir': None, 'output_ext': '.fits', 'output_use_model': False, 'output_use_index': True, 'save_results': True, 'skip': False, 'suffix': None, 'search_output_file': True, 'input_dir': '', 'sip_approx': True, 'sip_max_pix_error': 0.25, 'sip_degree': None, 'sip_max_inv_pix_error': 0.25, 'sip_inv_degree': None, 'sip_npoints': 32, 'slit_y_low': -0.55, 'slit_y_high': 0.55}\n"
     ]
    },
    {
     "name": "stderr",
     "output_type": "stream",
     "text": [
      "2022-10-03 19:00:21,718 - stpipe.AssignWcsStep - INFO - Created a MIRI mir_mrs pipeline with references {'distortion': '/grp/crds/cache/references/jwst/jwst_miri_distortion_0034.asdf', 'filteroffset': None, 'specwcs': '/grp/crds/cache/references/jwst/jwst_miri_specwcs_0020.asdf', 'regions': '/grp/crds/cache/references/jwst/jwst_miri_regions_0029.asdf', 'wavelengthrange': '/grp/crds/cache/references/jwst/jwst_miri_wavelengthrange_0005.asdf', 'camera': None, 'collimator': None, 'disperser': None, 'fore': None, 'fpa': None, 'msa': None, 'ote': None, 'ifupost': None, 'ifufore': None, 'ifuslicer': None}\n"
     ]
    },
    {
     "name": "stderr",
     "output_type": "stream",
     "text": [
      "2022-10-03 19:00:23,742 - stpipe.AssignWcsStep - INFO - Update S_REGION to POLYGON ICRS  44.998662127 -0.001359338 45.000884626 -0.001359338 45.000884626 0.000685800 44.998662127 0.000685800\n"
     ]
    },
    {
     "name": "stderr",
     "output_type": "stream",
     "text": [
      "2022-10-03 19:00:23,744 - stpipe.AssignWcsStep - INFO - COMPLETED assign_wcs\n"
     ]
    },
    {
     "name": "stderr",
     "output_type": "stream",
     "text": [
      "2022-10-03 19:00:23,760 - stpipe.AssignWcsStep - INFO - Results used CRDS context: jwst_0988.pmap\n"
     ]
    },
    {
     "name": "stderr",
     "output_type": "stream",
     "text": [
      "2022-10-03 19:00:25,590 - stpipe.AssignWcsStep - INFO - Saved model in mock34A-0_assignwcsstep.fits\n"
     ]
    },
    {
     "name": "stderr",
     "output_type": "stream",
     "text": [
      "2022-10-03 19:00:25,591 - stpipe.AssignWcsStep - INFO - Step AssignWcsStep done\n"
     ]
    },
    {
     "name": "stderr",
     "output_type": "stream",
     "text": [
      "2022-10-03 19:00:26,444 - stpipe.AssignWcsStep - INFO - AssignWcsStep instance created.\n"
     ]
    },
    {
     "name": "stderr",
     "output_type": "stream",
     "text": [
      "2022-10-03 19:00:27,267 - stpipe.AssignWcsStep - INFO - Step AssignWcsStep running with args ('/internal/data1/jenkins/workspace/Notebooks/jwst_validation_notebooks_spacetelescope/tmp/tmpctq7go3k/mock34B-0.fits',).\n"
     ]
    },
    {
     "name": "stderr",
     "output_type": "stream",
     "text": [
      "2022-10-03 19:00:27,269 - stpipe.AssignWcsStep - INFO - Step AssignWcsStep parameters are: {'pre_hooks': [], 'post_hooks': [], 'output_file': None, 'output_dir': None, 'output_ext': '.fits', 'output_use_model': False, 'output_use_index': True, 'save_results': True, 'skip': False, 'suffix': None, 'search_output_file': True, 'input_dir': '', 'sip_approx': True, 'sip_max_pix_error': 0.25, 'sip_degree': None, 'sip_max_inv_pix_error': 0.25, 'sip_inv_degree': None, 'sip_npoints': 32, 'slit_y_low': -0.55, 'slit_y_high': 0.55}\n"
     ]
    },
    {
     "name": "stderr",
     "output_type": "stream",
     "text": [
      "2022-10-03 19:00:32,055 - stpipe.AssignWcsStep - INFO - Created a MIRI mir_mrs pipeline with references {'distortion': '/grp/crds/cache/references/jwst/jwst_miri_distortion_0033.asdf', 'filteroffset': None, 'specwcs': '/grp/crds/cache/references/jwst/jwst_miri_specwcs_0023.asdf', 'regions': '/grp/crds/cache/references/jwst/jwst_miri_regions_0030.asdf', 'wavelengthrange': '/grp/crds/cache/references/jwst/jwst_miri_wavelengthrange_0005.asdf', 'camera': None, 'collimator': None, 'disperser': None, 'fore': None, 'fpa': None, 'msa': None, 'ote': None, 'ifupost': None, 'ifufore': None, 'ifuslicer': None}\n"
     ]
    },
    {
     "name": "stderr",
     "output_type": "stream",
     "text": [
      "2022-10-03 19:00:34,261 - stpipe.AssignWcsStep - INFO - Update S_REGION to POLYGON ICRS  44.998722179 -0.001346279 45.000872017 -0.001346279 45.000872017 0.000701693 44.998722179 0.000701693\n"
     ]
    },
    {
     "name": "stderr",
     "output_type": "stream",
     "text": [
      "2022-10-03 19:00:34,264 - stpipe.AssignWcsStep - INFO - COMPLETED assign_wcs\n"
     ]
    },
    {
     "name": "stderr",
     "output_type": "stream",
     "text": [
      "2022-10-03 19:00:34,280 - stpipe.AssignWcsStep - INFO - Results used CRDS context: jwst_0988.pmap\n"
     ]
    },
    {
     "name": "stderr",
     "output_type": "stream",
     "text": [
      "2022-10-03 19:00:35,186 - stpipe.AssignWcsStep - INFO - Saved model in mock34B-0_assignwcsstep.fits\n"
     ]
    },
    {
     "name": "stderr",
     "output_type": "stream",
     "text": [
      "2022-10-03 19:00:35,187 - stpipe.AssignWcsStep - INFO - Step AssignWcsStep done\n"
     ]
    },
    {
     "name": "stderr",
     "output_type": "stream",
     "text": [
      "2022-10-03 19:00:37,281 - stpipe.AssignWcsStep - INFO - AssignWcsStep instance created.\n"
     ]
    },
    {
     "name": "stderr",
     "output_type": "stream",
     "text": [
      "2022-10-03 19:00:38,288 - stpipe.AssignWcsStep - INFO - Step AssignWcsStep running with args ('/internal/data1/jenkins/workspace/Notebooks/jwst_validation_notebooks_spacetelescope/tmp/tmpctq7go3k/mock34C-0.fits',).\n"
     ]
    },
    {
     "name": "stderr",
     "output_type": "stream",
     "text": [
      "2022-10-03 19:00:38,291 - stpipe.AssignWcsStep - INFO - Step AssignWcsStep parameters are: {'pre_hooks': [], 'post_hooks': [], 'output_file': None, 'output_dir': None, 'output_ext': '.fits', 'output_use_model': False, 'output_use_index': True, 'save_results': True, 'skip': False, 'suffix': None, 'search_output_file': True, 'input_dir': '', 'sip_approx': True, 'sip_max_pix_error': 0.25, 'sip_degree': None, 'sip_max_inv_pix_error': 0.25, 'sip_inv_degree': None, 'sip_npoints': 32, 'slit_y_low': -0.55, 'slit_y_high': 0.55}\n"
     ]
    },
    {
     "name": "stderr",
     "output_type": "stream",
     "text": [
      "2022-10-03 19:00:43,663 - stpipe.AssignWcsStep - INFO - Created a MIRI mir_mrs pipeline with references {'distortion': '/grp/crds/cache/references/jwst/jwst_miri_distortion_0032.asdf', 'filteroffset': None, 'specwcs': '/grp/crds/cache/references/jwst/jwst_miri_specwcs_0019.asdf', 'regions': '/grp/crds/cache/references/jwst/jwst_miri_regions_0025.asdf', 'wavelengthrange': '/grp/crds/cache/references/jwst/jwst_miri_wavelengthrange_0005.asdf', 'camera': None, 'collimator': None, 'disperser': None, 'fore': None, 'fpa': None, 'msa': None, 'ote': None, 'ifupost': None, 'ifufore': None, 'ifuslicer': None}\n"
     ]
    },
    {
     "name": "stderr",
     "output_type": "stream",
     "text": [
      "2022-10-03 19:00:45,757 - stpipe.AssignWcsStep - INFO - Update S_REGION to POLYGON ICRS  44.998721627 -0.001305713 45.000866457 -0.001305713 45.000866457 0.000719789 44.998721627 0.000719789\n"
     ]
    },
    {
     "name": "stderr",
     "output_type": "stream",
     "text": [
      "2022-10-03 19:00:45,760 - stpipe.AssignWcsStep - INFO - COMPLETED assign_wcs\n"
     ]
    },
    {
     "name": "stderr",
     "output_type": "stream",
     "text": [
      "2022-10-03 19:00:45,775 - stpipe.AssignWcsStep - INFO - Results used CRDS context: jwst_0988.pmap\n"
     ]
    },
    {
     "name": "stderr",
     "output_type": "stream",
     "text": [
      "2022-10-03 19:00:46,640 - stpipe.AssignWcsStep - INFO - Saved model in mock34C-0_assignwcsstep.fits\n"
     ]
    },
    {
     "name": "stderr",
     "output_type": "stream",
     "text": [
      "2022-10-03 19:00:46,641 - stpipe.AssignWcsStep - INFO - Step AssignWcsStep done\n"
     ]
    }
   ],
   "source": [
    "awcs_out = []\n",
    "\n",
    "for dd in files: #det1_out:\n",
    "    awcs = AssignWcsStep.call(dd, save_results=True)\n",
    "    awcs_out.append(awcs)"
   ]
  },
  {
   "cell_type": "markdown",
   "metadata": {},
   "source": [
    "<a id=\"residual_ID\"></a>\n",
    "## Output checks and tests\n",
    "\n",
    "We can use the output model to run the following checks:\n",
    "\n",
    "* the SCI extension is unchanged from the step input (accept default tolerances for the np.allclose() function)\n",
    "* we use the wcs information assigned in the step to check the RA, dec, wavelength assignment at some reference locations. \n",
    "\n",
    "\n",
    "[Top of Page](#title_ID)"
   ]
  },
  {
   "cell_type": "code",
   "execution_count": 7,
   "metadata": {
    "ExecuteTime": {
     "end_time": "2021-04-14T18:21:12.694419Z",
     "start_time": "2021-04-14T18:17:45.334Z"
    },
    "execution": {
     "iopub.execute_input": "2022-10-03T23:00:46.648139Z",
     "iopub.status.busy": "2022-10-03T23:00:46.647647Z",
     "iopub.status.idle": "2022-10-03T23:00:46.814945Z",
     "shell.execute_reply": "2022-10-03T23:00:46.814132Z"
    }
   },
   "outputs": [],
   "source": [
    "# Do a numeric check between input and output\n",
    "for (aa, dd) in zip(awcs_out, files):\n",
    "    data = fits.getdata(dd)\n",
    "    filename = os.path.split(dd)[-1]\n",
    "    assert np.allclose(aa.data, data, equal_nan=True), \"Step input and output don't match for {}\".format(filename)"
   ]
  },
  {
   "cell_type": "markdown",
   "metadata": {},
   "source": [
    "Load the set of test coordinates from ``miricoord``. Then calculate the wavelength of these coordinates from the assign_wcs output models, and verify that they are close. If all the ``assert`` tests pass, this test is successful and complete."
   ]
  },
  {
   "cell_type": "code",
   "execution_count": 8,
   "metadata": {
    "ExecuteTime": {
     "end_time": "2021-04-14T18:21:12.695941Z",
     "start_time": "2021-04-14T18:17:45.336Z"
    },
    "code_folding": [
     0
    ],
    "execution": {
     "iopub.execute_input": "2022-10-03T23:00:46.819177Z",
     "iopub.status.busy": "2022-10-03T23:00:46.818651Z",
     "iopub.status.idle": "2022-10-03T23:00:46.827619Z",
     "shell.execute_reply": "2022-10-03T23:00:46.827072Z"
    }
   },
   "outputs": [],
   "source": [
    "def verify_coords(imgnum, ch, ref_data):\n",
    "    \"\"\"Uses predefined test cooridnates to check WCS output.\"\"\"\n",
    "    \n",
    "    xt = ref_data[ch]['x']\n",
    "    yt = ref_data[ch]['y']\n",
    "    v2t = ref_data[ch]['v2']\n",
    "    v3t = ref_data[ch]['v3']\n",
    "    lamt = ref_data[ch]['lam']\n",
    "    \n",
    "    lamtest1 = np.zeros(2)\n",
    "    lamtest2 = np.zeros(2)\n",
    "    atest1 = np.zeros(2)\n",
    "    btest1 = np.zeros(2)\n",
    "    v2test1 = np.zeros(2)\n",
    "    v3test1 = np.zeros(2)\n",
    "    lt1 = np.zeros(2)\n",
    "    \n",
    "    print('**** TEST SET {}****'.format(ch))\n",
    "    print(' x       y     lam_truth  lamtest1   v2truth   v3truth  v2test   v3test')\n",
    "    for i in range (2):\n",
    "        values = mrst.xytoabl(xt[i], yt[i], ch)\n",
    "        atest1[i], btest1[i], lt1[i] = values['alpha'], values['beta'], values['lam']\n",
    "        v2test1[i], v3test1[i] = mrst.abtov2v3(atest1[i], btest1[i], ch)\n",
    "        ra, dec, lamtest1[i] = awcs_out[imgnum].meta.wcs(xt[i], yt[i])\n",
    "        print('{0}  {1}   {2:.5f}    {3:.5f}    {4:.5f}   {5:.5f}   {6:.5f}   {7:.5f}'.format(\n",
    "            xt[i], yt[i], lamt[i], lamtest1[i], v2t[i], v3t[i], v2test1[i], v3test1[i]))\n",
    "\n",
    "        assert_allclose(lamt[i], lamtest1[i], atol=0.05)\n",
    "        assert_allclose(v2t[i], v2test1[i], atol=0.05)\n",
    "        assert_allclose(v3t[i], v3test1[i], atol=0.05)\n",
    "        \n",
    "    print('\\n')"
   ]
  },
  {
   "cell_type": "code",
   "execution_count": 9,
   "metadata": {
    "ExecuteTime": {
     "end_time": "2021-04-14T18:21:12.697283Z",
     "start_time": "2021-04-14T18:17:45.337Z"
    },
    "execution": {
     "iopub.execute_input": "2022-10-03T23:00:46.831093Z",
     "iopub.status.busy": "2022-10-03T23:00:46.830307Z",
     "iopub.status.idle": "2022-10-03T23:00:47.500193Z",
     "shell.execute_reply": "2022-10-03T23:00:47.499272Z"
    }
   },
   "outputs": [
    {
     "name": "stdout",
     "output_type": "stream",
     "text": [
      "**** TEST SET 1A****\n",
      " x       y     lam_truth  lamtest1   v2truth   v3truth  v2test   v3test\n",
      "76.0  512.0   5.34855    5.34855    -503.57285   -318.57499   -503.29746   -318.83188\n"
     ]
    },
    {
     "ename": "AssertionError",
     "evalue": "\nNot equal to tolerance rtol=1e-07, atol=0.05\n\nMismatched elements: 1 / 1 (100%)\nMax absolute difference: 0.27539018\nMax relative difference: 0.00054717\n x: array(-503.572852)\n y: array(-503.297462)",
     "output_type": "error",
     "traceback": [
      "\u001b[0;31m---------------------------------------------------------------------------\u001b[0m",
      "\u001b[0;31mAssertionError\u001b[0m                            Traceback (most recent call last)",
      "Cell \u001b[0;32mIn [9], line 31\u001b[0m\n\u001b[1;32m     28\u001b[0m \u001b[38;5;28;01melif\u001b[39;00m i \u001b[38;5;241m>\u001b[39m\u001b[38;5;241m=\u001b[39m \u001b[38;5;241m6\u001b[39m \u001b[38;5;129;01mand\u001b[39;00m \u001b[38;5;124m'\u001b[39m\u001b[38;5;124mC\u001b[39m\u001b[38;5;124m'\u001b[39m \u001b[38;5;129;01min\u001b[39;00m ch:\n\u001b[1;32m     29\u001b[0m     imgnum \u001b[38;5;241m=\u001b[39m \u001b[38;5;241m5\u001b[39m\n\u001b[0;32m---> 31\u001b[0m verify_coords(imgnum, ch, mrd)\n",
      "Cell \u001b[0;32mIn [8], line 29\u001b[0m, in \u001b[0;36mverify_coords\u001b[0;34m(imgnum, ch, ref_data)\u001b[0m\n\u001b[1;32m     25\u001b[0m     \u001b[38;5;28mprint\u001b[39m(\u001b[38;5;124m'\u001b[39m\u001b[38;5;132;01m{0}\u001b[39;00m\u001b[38;5;124m  \u001b[39m\u001b[38;5;132;01m{1}\u001b[39;00m\u001b[38;5;124m   \u001b[39m\u001b[38;5;132;01m{2:.5f}\u001b[39;00m\u001b[38;5;124m    \u001b[39m\u001b[38;5;132;01m{3:.5f}\u001b[39;00m\u001b[38;5;124m    \u001b[39m\u001b[38;5;132;01m{4:.5f}\u001b[39;00m\u001b[38;5;124m   \u001b[39m\u001b[38;5;132;01m{5:.5f}\u001b[39;00m\u001b[38;5;124m   \u001b[39m\u001b[38;5;132;01m{6:.5f}\u001b[39;00m\u001b[38;5;124m   \u001b[39m\u001b[38;5;132;01m{7:.5f}\u001b[39;00m\u001b[38;5;124m'\u001b[39m\u001b[38;5;241m.\u001b[39mformat(\n\u001b[1;32m     26\u001b[0m         xt[i], yt[i], lamt[i], lamtest1[i], v2t[i], v3t[i], v2test1[i], v3test1[i]))\n\u001b[1;32m     28\u001b[0m     assert_allclose(lamt[i], lamtest1[i], atol\u001b[38;5;241m=\u001b[39m\u001b[38;5;241m0.05\u001b[39m)\n\u001b[0;32m---> 29\u001b[0m     \u001b[43massert_allclose\u001b[49m\u001b[43m(\u001b[49m\u001b[43mv2t\u001b[49m\u001b[43m[\u001b[49m\u001b[43mi\u001b[49m\u001b[43m]\u001b[49m\u001b[43m,\u001b[49m\u001b[43m \u001b[49m\u001b[43mv2test1\u001b[49m\u001b[43m[\u001b[49m\u001b[43mi\u001b[49m\u001b[43m]\u001b[49m\u001b[43m,\u001b[49m\u001b[43m \u001b[49m\u001b[43matol\u001b[49m\u001b[38;5;241;43m=\u001b[39;49m\u001b[38;5;241;43m0.05\u001b[39;49m\u001b[43m)\u001b[49m\n\u001b[1;32m     30\u001b[0m     assert_allclose(v3t[i], v3test1[i], atol\u001b[38;5;241m=\u001b[39m\u001b[38;5;241m0.05\u001b[39m)\n\u001b[1;32m     32\u001b[0m \u001b[38;5;28mprint\u001b[39m(\u001b[38;5;124m'\u001b[39m\u001b[38;5;130;01m\\n\u001b[39;00m\u001b[38;5;124m'\u001b[39m)\n",
      "    \u001b[0;31m[... skipping hidden 1 frame]\u001b[0m\n",
      "File \u001b[0;32m~/miniconda3/envs/jwst_validation_notebooks/lib/python3.9/site-packages/numpy/testing/_private/utils.py:844\u001b[0m, in \u001b[0;36massert_array_compare\u001b[0;34m(comparison, x, y, err_msg, verbose, header, precision, equal_nan, equal_inf)\u001b[0m\n\u001b[1;32m    840\u001b[0m         err_msg \u001b[38;5;241m+\u001b[39m\u001b[38;5;241m=\u001b[39m \u001b[38;5;124m'\u001b[39m\u001b[38;5;130;01m\\n\u001b[39;00m\u001b[38;5;124m'\u001b[39m \u001b[38;5;241m+\u001b[39m \u001b[38;5;124m'\u001b[39m\u001b[38;5;130;01m\\n\u001b[39;00m\u001b[38;5;124m'\u001b[39m\u001b[38;5;241m.\u001b[39mjoin(remarks)\n\u001b[1;32m    841\u001b[0m         msg \u001b[38;5;241m=\u001b[39m build_err_msg([ox, oy], err_msg,\n\u001b[1;32m    842\u001b[0m                             verbose\u001b[38;5;241m=\u001b[39mverbose, header\u001b[38;5;241m=\u001b[39mheader,\n\u001b[1;32m    843\u001b[0m                             names\u001b[38;5;241m=\u001b[39m(\u001b[38;5;124m'\u001b[39m\u001b[38;5;124mx\u001b[39m\u001b[38;5;124m'\u001b[39m, \u001b[38;5;124m'\u001b[39m\u001b[38;5;124my\u001b[39m\u001b[38;5;124m'\u001b[39m), precision\u001b[38;5;241m=\u001b[39mprecision)\n\u001b[0;32m--> 844\u001b[0m         \u001b[38;5;28;01mraise\u001b[39;00m \u001b[38;5;167;01mAssertionError\u001b[39;00m(msg)\n\u001b[1;32m    845\u001b[0m \u001b[38;5;28;01mexcept\u001b[39;00m \u001b[38;5;167;01mValueError\u001b[39;00m:\n\u001b[1;32m    846\u001b[0m     \u001b[38;5;28;01mimport\u001b[39;00m \u001b[38;5;21;01mtraceback\u001b[39;00m\n",
      "\u001b[0;31mAssertionError\u001b[0m: \nNot equal to tolerance rtol=1e-07, atol=0.05\n\nMismatched elements: 1 / 1 (100%)\nMax absolute difference: 0.27539018\nMax relative difference: 0.00054717\n x: array(-503.572852)\n y: array(-503.297462)"
     ]
    }
   ],
   "source": [
    "mrd = tv.mrs_ref_data\n",
    "chan = {'0':'1A',\n",
    "        '1':'1B',\n",
    "        '2':'1C',\n",
    "        '3':'2A',\n",
    "        '4':'2B',\n",
    "        '5':'2C',\n",
    "        '6':'3A',\n",
    "        '7':'3B',\n",
    "        '8':'3C',\n",
    "        '9':'4A',\n",
    "        '10':'4B',\n",
    "        '11':'4C'}\n",
    "\n",
    "for i in range(12):\n",
    "    ch = chan[str(i)]\n",
    "    \n",
    "    if i < 6 and 'A' in ch:\n",
    "        imgnum = 0\n",
    "    elif i < 6 and 'B' in ch:\n",
    "        imgnum = 1\n",
    "    elif i < 6 and 'C' in ch:\n",
    "        imgnum = 2\n",
    "    elif i >= 6 and 'A' in ch:\n",
    "        imgnum = 3\n",
    "    elif i >= 6 and 'B' in ch:\n",
    "        imgnum = 4\n",
    "    elif i >= 6 and 'C' in ch:\n",
    "        imgnum = 5\n",
    "        \n",
    "    verify_coords(imgnum, ch, mrd)"
   ]
  },
  {
   "cell_type": "markdown",
   "metadata": {},
   "source": [
    "<a id=\"about_ID\"></a>\n",
    "## About this Notebook\n",
    "**Author:** Mike Engesser, Science Support Analyst, MIRI branch \n",
    "<br>(Adapted from Sarah Kendrew's AssignWCS LRS-SLIT notebook.)\n",
    "<br>**Updated On:** 4/01/2021"
   ]
  },
  {
   "cell_type": "markdown",
   "metadata": {},
   "source": [
    "[Top of Page](#title_ID)\n",
    "<img style=\"float: right;\" src=\"./stsci_pri_combo_mark_horizonal_white_bkgd.png\" alt=\"stsci_pri_combo_mark_horizonal_white_bkgd\" width=\"200px\"/> "
   ]
  },
  {
   "cell_type": "code",
   "execution_count": null,
   "metadata": {},
   "outputs": [],
   "source": []
  },
  {
   "cell_type": "code",
   "execution_count": null,
   "metadata": {},
   "outputs": [],
   "source": []
  }
 ],
 "metadata": {
  "kernelspec": {
   "display_name": "Python 3",
   "language": "python",
   "name": "python3"
  },
  "language_info": {
   "codemirror_mode": {
    "name": "ipython",
    "version": 3
   },
   "file_extension": ".py",
   "mimetype": "text/x-python",
   "name": "python",
   "nbconvert_exporter": "python",
   "pygments_lexer": "ipython3",
   "version": "3.9.13"
  },
  "toc": {
   "base_numbering": 1,
   "nav_menu": {},
   "number_sections": true,
   "sideBar": true,
   "skip_h1_title": false,
   "title_cell": "Table of Contents",
   "title_sidebar": "Contents",
   "toc_cell": true,
   "toc_position": {},
   "toc_section_display": true,
   "toc_window_display": true
  },
  "varInspector": {
   "cols": {
    "lenName": 16,
    "lenType": 16,
    "lenVar": 40
   },
   "kernels_config": {
    "python": {
     "delete_cmd_postfix": "",
     "delete_cmd_prefix": "del ",
     "library": "var_list.py",
     "varRefreshCmd": "print(var_dic_list())"
    },
    "r": {
     "delete_cmd_postfix": ") ",
     "delete_cmd_prefix": "rm(",
     "library": "var_list.r",
     "varRefreshCmd": "cat(var_dic_list()) "
    }
   },
   "types_to_exclude": [
    "module",
    "function",
    "builtin_function_or_method",
    "instance",
    "_Feature"
   ],
   "window_display": false
  }
 },
 "nbformat": 4,
 "nbformat_minor": 1
}
