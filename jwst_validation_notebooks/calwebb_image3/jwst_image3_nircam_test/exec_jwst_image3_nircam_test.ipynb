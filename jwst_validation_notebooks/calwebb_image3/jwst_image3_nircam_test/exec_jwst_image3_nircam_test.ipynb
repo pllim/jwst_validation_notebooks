{
 "cells": [
  {
   "cell_type": "markdown",
   "metadata": {},
   "source": [
    "<a id=\"title_ID\"></a>\n",
    "# JWST Pipeline Validation Notebook: calwebb_image3, NIRCam imaging\n",
    "\n",
    "<span style=\"color:red\"> **Instruments Affected**</span>: e.g., NIRCam \n",
    "\n",
    "### Table of Contents\n",
    "\n",
    "<div style=\"text-align: left\"> \n",
    "    \n",
    "<br> [Introduction\\*](#intro)\n",
    "<br> [JWST CalWG Algorithm\\*](#algorithm)\n",
    "<br> [Defining Terms](#terms)\n",
    "<br> [Test Description\\*](#description)\n",
    "<br> [Data Description\\*](#data_descr)\n",
    "<br> [Imports\\*](#imports)\n",
    "<br> [Convenience Functions](#convenience_functions)\n",
    "<br> [Loading the Data\\*](#data_load)\n",
    "<br> [calwebb_image3 - Ensemble calibrations](#image3) \n",
    "<br> [Run the entire pipeline](#image3_at_once)\n",
    "<br> [Run the individual pipeline steps](#image3_step_by_step)\n",
    "   <br> [The `WCS Refinement` step](#tweakreg)\n",
    "   <br> [The `Sky Matching` step](#skymatch)\n",
    "   <br> [The `Outlier Detection` step](#outlier_detection)\n",
    "   <br> [The `Resample` step](#resample)\n",
    "   <br> [The `Source Catalog` step](#source_catalog)\n",
    "<br> [About This Notebook\\*](#about)\n",
    "<br>    \n",
    "\n",
    "</div>"
   ]
  },
  {
   "cell_type": "markdown",
   "metadata": {},
   "source": [
    "<a id='intro'></a>\n",
    "# Introduction\n",
    "\n",
    "This notebook covers part 3 of the imaging mode data calibration module. In this notebook we'll check Stage 3 of the JWST calibration pipeline for imaging data, also known as *calwebb\\_image3*. \n",
    "\n",
    "The [Stage 3 pipeline](https://jwst-pipeline.readthedocs.io/en/stable/jwst/pipeline/calwebb_image3.html) takes one or more calibrated slope images (`*_cal.fits` files) and combines them into a final mosaic image. It then creates a source catalog from this mosaic. Several steps are performed in order to prepare the data for the mosaic creation. These steps largely mirror what is done by [DrizzlePac](https://www.stsci.edu/scientific-community/software/drizzlepac.html) software when working with HST data. \n",
    "\n",
    "First, using common sources found across the input images, the WCS of each image is refined. Background levels are then matched across the inputs. Spurious sources (e.g. cosmic rays that were not flagged in the `jump` step during Stage 1 processing) are removed by comparing each individual input image to a median image. The indivudal images are combined into a single mosaic image. A source catalog is created based on the mosaic image. And finally, the individual exposures are updated using the information from the preceding steps. New versions of the individual calibrated slope images (`*_cal.fits` files) are produced that contain matched backgrounds, flagged spurious sources, and improved WCS objects. Also, updated [resampled](https://jwst-pipeline.readthedocs.io/en/stable/jwst/resample/main.html) images (`_i2d.fits` files) are created which all contain the final undistorted sky projection that is present in the mosaic image.\n",
    "\n",
    "There are three final outputs. The first is updated copies of the input files. These updated files contain a consistent WCS, such that they overlap correctly. The second output is a final mosaic image created by drizzling the input images onto a distortion-free grid. And the final output is a source catalog wth basic photometry, created from the final mosaic image.\n",
    "\n",
    "To check how the steps of the pipeline change the input data, we will use several NIRCam simulated data files and run them through the pipeline, examining the results at several places along the way.\n",
    "\n",
    "All JWST imaging mode data, regardless of instrument, are processed through the *calwebb\\_image3* pipeline. The steps and the order in which they are performed is the same for all data.\n",
    "\n",
    "Pipeline description: https://jwst-pipeline.readthedocs.io/en/latest/jwst/pipeline/calwebb_image3.html\n",
    "\n",
    "Pipeline code: https://github.com/spacetelescope/jwst/tree/master/jwst\n",
    "\n",
    "[Top of Page](#title_ID)"
   ]
  },
  {
   "cell_type": "markdown",
   "metadata": {},
   "source": [
    "<a id=\"algorithm\"></a>\n",
    "# JWST CalWG Algorithm\n",
    "\n",
    "Multiple exposures from the direct imaging modes are combined into a combined image (e.g., mosaic).\n",
    "The current status of the algorithms for this pipeline stage is summarized in the link below. Links are provided to individual pages where the details of the algorithms are given along with notes on why those algorithms were picked.\n",
    "\n",
    "The algorithms for each step in each pipeline stage are split into baseline\" and \"enhanced\" versions (formerly known as \"vanilla\" and \"optimal\", respectively).  See Baseline and Enhanced Algorithms for more details.\n",
    "Input/Outputs of this stage refer to the main data products for the pipeline process. The full list of archive products for this (and all stages of the pipeline) is tabulated in Archive Products.\n",
    "\n",
    "[JWST CalWG algorithms for calwebb_image3](https://outerspace.stsci.edu/display/JWSTCC/CALWEBB_IMAGE3)\n",
    "\n",
    "[Top of Page](#title_ID)"
   ]
  },
  {
   "cell_type": "markdown",
   "metadata": {},
   "source": [
    "<a id=\"terms\"></a>\n",
    "# Defining Terms\n",
    "\n",
    "\n",
    "**JWST**: James Webb Space Telescope\n",
    "\n",
    "**NIR**: Near Infrared\n",
    "\n",
    "\n",
    "[Top of Page](#title_ID)"
   ]
  },
  {
   "cell_type": "markdown",
   "metadata": {},
   "source": [
    "<a id=\"description\"></a>\n",
    "# Test Description\n",
    "\n",
    "This test is performed by running simulated data through the full pipeline and performing a visual inspection of the outputs. Next, the notebook does quick checks after each step in the calwebb_image3 pipeline, based on the algorithms defined. \n",
    "\n",
    "\n",
    "[Top of Page](#title_ID)"
   ]
  },
  {
   "cell_type": "markdown",
   "metadata": {},
   "source": [
    "<a id=\"data_descr\"></a>\n",
    "# Data Description\n",
    "\n",
    "For this module, we will use an association of calibrated NIRCam simulated imaging exposures generated with Mirage.\n",
    "\n",
    "\n",
    "[Top of Page](#title_ID)"
   ]
  },
  {
   "cell_type": "markdown",
   "metadata": {},
   "source": [
    "<a id=\"tempdir\"></a>\n",
    "# Set up Temporary Directory\n",
    "The following cell sets up a temporary directory (using python's `tempfile.TemporaryDirectory()`), and changes the script's active directory into that directory (using python's `os.chdir()`). This is so that, when the notebook is run through, it will download files to (and create output files in) the temporary directory rather than in the notebook's directory. This makes cleanup significantly easier (since all output files are deleted when the notebook is shut down), and also means that different notebooks in the same directory won't interfere with each other when run by the automated webpage generation process.\n",
    "\n",
    "If you want the notebook to generate output in the notebook's directory, simply don't run this cell.\n",
    "\n",
    "If you have a file (or files) that are kept in the notebook's directory, and that the notebook needs to use while running, you can copy that file into the directory (the code to do so is present below, but commented out).\n",
    "\n",
    "[Top of Page](#title_ID)"
   ]
  },
  {
   "cell_type": "code",
   "execution_count": 1,
   "metadata": {
    "execution": {
     "iopub.execute_input": "2022-07-06T14:02:20.189977Z",
     "iopub.status.busy": "2022-07-06T14:02:20.189482Z",
     "iopub.status.idle": "2022-07-06T14:02:20.204854Z",
     "shell.execute_reply": "2022-07-06T14:02:20.203858Z"
    }
   },
   "outputs": [
    {
     "name": "stdout",
     "output_type": "stream",
     "text": [
      "Running in /internal/data1/jenkins/workspace/Notebooks/jwst_validation_notebooks_spacetelescope/tmp/tmp1rqht31g\n"
     ]
    }
   ],
   "source": [
    "#****\n",
    "#\n",
    "# Set this variable to False to not use the temporary directory\n",
    "#\n",
    "#****\n",
    "use_tempdir = True\n",
    "\n",
    "# Create a temporary directory to hold notebook output, and change the working directory to that directory.\n",
    "from tempfile import TemporaryDirectory\n",
    "import os\n",
    "import shutil\n",
    "\n",
    "if use_tempdir:\n",
    "    data_dir = TemporaryDirectory()\n",
    "\n",
    "    # If you have files that are in the notebook's directory, but that the notebook will need to use while\n",
    "    # running, copy them into the temporary directory here.\n",
    "    #\n",
    "    # files = ['name_of_file']\n",
    "    # for file_name in files:\n",
    "    #     shutil.copy(file_name, os.path.join(data_dir.name, file_name))\n",
    "\n",
    "    # Save original directory\n",
    "    orig_dir = os.getcwd()\n",
    "\n",
    "    # Move to new directory\n",
    "    os.chdir(data_dir.name)\n",
    "\n",
    "# For info, print out where the script is running\n",
    "print(\"Running in {}\".format(os.getcwd()))"
   ]
  },
  {
   "cell_type": "code",
   "execution_count": 2,
   "metadata": {
    "execution": {
     "iopub.execute_input": "2022-07-06T14:02:20.208320Z",
     "iopub.status.busy": "2022-07-06T14:02:20.208133Z",
     "iopub.status.idle": "2022-07-06T14:02:20.213737Z",
     "shell.execute_reply": "2022-07-06T14:02:20.212759Z"
    }
   },
   "outputs": [
    {
     "name": "stdout",
     "output_type": "stream",
     "text": [
      "CRDS cache location: /grp/crds/cache\n"
     ]
    }
   ],
   "source": [
    "import os\n",
    "if 'CRDS_CACHE_TYPE' in os.environ:\n",
    "    if os.environ['CRDS_CACHE_TYPE'] == 'local':\n",
    "        os.environ['CRDS_PATH'] = os.path.join(os.environ['HOME'], 'crds', 'cache')\n",
    "    elif os.path.isdir(os.environ['CRDS_CACHE_TYPE']):\n",
    "        os.environ['CRDS_PATH'] = os.environ['CRDS_CACHE_TYPE']\n",
    "print('CRDS cache location: {}'.format(os.environ['CRDS_PATH']))"
   ]
  },
  {
   "cell_type": "markdown",
   "metadata": {},
   "source": [
    "<a id='Imports_ID'></a>\n",
    "# Imports"
   ]
  },
  {
   "cell_type": "markdown",
   "metadata": {},
   "source": [
    "Import packages necessary for this notebook"
   ]
  },
  {
   "cell_type": "code",
   "execution_count": 3,
   "metadata": {
    "execution": {
     "iopub.execute_input": "2022-07-06T14:02:20.216596Z",
     "iopub.status.busy": "2022-07-06T14:02:20.216413Z",
     "iopub.status.idle": "2022-07-06T14:02:21.276383Z",
     "shell.execute_reply": "2022-07-06T14:02:21.275570Z"
    }
   },
   "outputs": [],
   "source": [
    "# Module with functions to get information about objects:\n",
    "from glob import glob\n",
    "import os\n",
    "import shutil\n",
    "\n",
    "# Numpy library:\n",
    "import numpy as np\n",
    "\n",
    "# To read association file\n",
    "import json\n",
    "\n",
    "# To download data\n",
    "import requests\n",
    "\n",
    "# To examine parameter reference files\n",
    "import asdf\n",
    "\n",
    "# Astropy tools:\n",
    "from astropy.io import ascii, fits\n",
    "from astropy.utils.data import download_file\n",
    "from astropy.visualization import ImageNormalize, ManualInterval, LogStretch, LinearStretch"
   ]
  },
  {
   "cell_type": "markdown",
   "metadata": {},
   "source": [
    "Set up matplotlib for plotting"
   ]
  },
  {
   "cell_type": "code",
   "execution_count": 4,
   "metadata": {
    "execution": {
     "iopub.execute_input": "2022-07-06T14:02:21.282566Z",
     "iopub.status.busy": "2022-07-06T14:02:21.282197Z",
     "iopub.status.idle": "2022-07-06T14:02:21.301508Z",
     "shell.execute_reply": "2022-07-06T14:02:21.300852Z"
    }
   },
   "outputs": [],
   "source": [
    "import matplotlib.pyplot as plt\n",
    "import matplotlib as mpl\n",
    "\n",
    "# Use this version for non-interactive plots (easier scrolling of the notebook)\n",
    "%matplotlib inline\n",
    "\n",
    "# Use this version (outside of Jupyter Lab) if you want interactive plots\n",
    "# %matplotlib notebook\n",
    "\n",
    "# These gymnastics are needed to make the sizes of the figures\n",
    "# be the same in both the inline and notebook versions\n",
    "%config InlineBackend.print_figure_kwargs = {'bbox_inches': None}\n",
    "\n",
    "mpl.rcParams['savefig.dpi'] = 80\n",
    "mpl.rcParams['figure.dpi'] = 80"
   ]
  },
  {
   "cell_type": "markdown",
   "metadata": {},
   "source": [
    "Import JWST pipeline-related modules"
   ]
  },
  {
   "cell_type": "code",
   "execution_count": 5,
   "metadata": {
    "execution": {
     "iopub.execute_input": "2022-07-06T14:02:21.307051Z",
     "iopub.status.busy": "2022-07-06T14:02:21.306857Z",
     "iopub.status.idle": "2022-07-06T14:02:22.018867Z",
     "shell.execute_reply": "2022-07-06T14:02:22.017514Z"
    }
   },
   "outputs": [],
   "source": [
    "# The entire calwebb_image3 pipeline\n",
    "from jwst.pipeline import calwebb_image3\n",
    "\n",
    "# Individual steps that make up calwebb_image3\n",
    "from jwst.tweakreg import TweakRegStep\n",
    "from jwst.skymatch import SkyMatchStep\n",
    "from jwst.outlier_detection import OutlierDetectionStep\n",
    "from jwst.resample import ResampleStep\n",
    "from jwst.source_catalog import SourceCatalogStep\n",
    "from jwst import datamodels\n",
    "from jwst.associations import asn_from_list\n",
    "from jwst.associations.lib.rules_level3_base import DMS_Level3_Base"
   ]
  },
  {
   "cell_type": "markdown",
   "metadata": {},
   "source": [
    "Check which version of the pipeline we are running:"
   ]
  },
  {
   "cell_type": "code",
   "execution_count": 6,
   "metadata": {
    "execution": {
     "iopub.execute_input": "2022-07-06T14:02:22.025802Z",
     "iopub.status.busy": "2022-07-06T14:02:22.025479Z",
     "iopub.status.idle": "2022-07-06T14:02:22.031619Z",
     "shell.execute_reply": "2022-07-06T14:02:22.030622Z"
    }
   },
   "outputs": [
    {
     "name": "stdout",
     "output_type": "stream",
     "text": [
      "1.5.3\n"
     ]
    }
   ],
   "source": [
    "import jwst\n",
    "print(jwst.__version__)"
   ]
  },
  {
   "cell_type": "markdown",
   "metadata": {},
   "source": [
    "<a id='convenience_functions'></a>\n",
    "# Define convenience functions and parameters"
   ]
  },
  {
   "cell_type": "markdown",
   "metadata": {},
   "source": [
    "Here we define some functions that we will use repeatedly throughout the notebook."
   ]
  },
  {
   "cell_type": "code",
   "execution_count": 7,
   "metadata": {
    "execution": {
     "iopub.execute_input": "2022-07-06T14:02:22.036576Z",
     "iopub.status.busy": "2022-07-06T14:02:22.036320Z",
     "iopub.status.idle": "2022-07-06T14:02:22.039982Z",
     "shell.execute_reply": "2022-07-06T14:02:22.039327Z"
    }
   },
   "outputs": [],
   "source": [
    "# Files created in this notebook will be saved\n",
    "# in a subdirectory of the base directory called `Stage3`\n",
    "output_dir = './'"
   ]
  },
  {
   "cell_type": "code",
   "execution_count": 8,
   "metadata": {
    "execution": {
     "iopub.execute_input": "2022-07-06T14:02:22.042627Z",
     "iopub.status.busy": "2022-07-06T14:02:22.042281Z",
     "iopub.status.idle": "2022-07-06T14:02:22.048528Z",
     "shell.execute_reply": "2022-07-06T14:02:22.047427Z"
    }
   },
   "outputs": [],
   "source": [
    "def find_bad_pix_types(dq_value):\n",
    "    \"\"\"Given an integer representation of a series of bad pixel flags,\n",
    "    identify which types of bad pixels the flags indicate.\n",
    "    \n",
    "    Parameters\n",
    "    ----------\n",
    "    dq_value : uint16\n",
    "        Value associated with a set of bad pixel flags\n",
    "        \n",
    "    Returns\n",
    "    -------\n",
    "    bad_nums : list\n",
    "        List of integers representing the bad pixel types\n",
    "        \n",
    "    bad_types : list\n",
    "        List of bad pixel type names corresponding to bad_nums\n",
    "    \"\"\"\n",
    "    # Change integer into a byte array\n",
    "    bitarr = np.binary_repr(dq_value)\n",
    "    \n",
    "    # Find the bad pixel type associated with each bit where\n",
    "    # the flag is set\n",
    "    bad_nums = []\n",
    "    bad_types = []\n",
    "    for i, elem in enumerate(bitarr[::-1]):\n",
    "        if elem == str(1):\n",
    "            badval = 2**i\n",
    "            bad_nums.append(badval)\n",
    "            key = next(key for key, value in datamodels.dqflags.pixel.items() if value == badval)\n",
    "            bad_types.append(key)\n",
    "    return bad_nums, bad_types"
   ]
  },
  {
   "cell_type": "code",
   "execution_count": 9,
   "metadata": {
    "execution": {
     "iopub.execute_input": "2022-07-06T14:02:22.052312Z",
     "iopub.status.busy": "2022-07-06T14:02:22.051428Z",
     "iopub.status.idle": "2022-07-06T14:02:22.063096Z",
     "shell.execute_reply": "2022-07-06T14:02:22.062477Z"
    }
   },
   "outputs": [],
   "source": [
    "def overlay_catalog(data_2d, catalog, flux_limit=0, vmin=0, vmax=10,\n",
    "                    title=None, units='MJy/str'):\n",
    "    \"\"\"Function to generate a 2D image of the data, \n",
    "    with sources overlaid.\n",
    "    \n",
    "    data_2d : numpy.ndarray\n",
    "        2D image to be displayed\n",
    "        \n",
    "    catalog : astropy.table.Table\n",
    "        Table of sources\n",
    "    \n",
    "    flux_limit : float\n",
    "        Minimum signal threshold to overplot sources from catalog.\n",
    "        Sources below this limit will not be shown on the image.\n",
    "        \n",
    "    vmin : float\n",
    "        Minimum signal value to use for scaling\n",
    "        \n",
    "    vmax : float\n",
    "        Maximum signal value to use for scaling\n",
    "        \n",
    "    title : str\n",
    "        String to use for the plot title\n",
    "                \n",
    "    units : str\n",
    "        Units of the data. Used for the annotation in the\n",
    "        color bar\n",
    "    \"\"\"\n",
    "    norm = ImageNormalize(data_2d, interval=ManualInterval(vmin=vmin, vmax=vmax),\n",
    "                              stretch=LogStretch())\n",
    "    fig = plt.figure(figsize=(8, 8))\n",
    "    ax = fig.add_subplot(1, 1, 1)\n",
    "    im = ax.imshow(data_2d, origin='lower', norm=norm)\n",
    "    \n",
    "    for row in catalog:\n",
    "        if row['aper_total_flux'].value > flux_limit:\n",
    "            plt.plot(row['xcentroid'], row['ycentroid'], marker='o',\n",
    "                     markersize='3', color='red')\n",
    "\n",
    "    plt.xlabel('Pixel column')\n",
    "    plt.ylabel('Pixel row')\n",
    "    \n",
    "    fig.colorbar(im, label=units)\n",
    "    fig.tight_layout()\n",
    "    plt.subplots_adjust(left=0.15)\n",
    "    \n",
    "    if title:\n",
    "        plt.title(title)"
   ]
  },
  {
   "cell_type": "code",
   "execution_count": 10,
   "metadata": {
    "execution": {
     "iopub.execute_input": "2022-07-06T14:02:22.066121Z",
     "iopub.status.busy": "2022-07-06T14:02:22.065761Z",
     "iopub.status.idle": "2022-07-06T14:02:22.071843Z",
     "shell.execute_reply": "2022-07-06T14:02:22.071195Z"
    }
   },
   "outputs": [],
   "source": [
    "def show_image(data_2d, vmin, vmax, xpixel=None, ypixel=None, title=None,\n",
    "               scale='log', units='MJy/str'):\n",
    "    \"\"\"Function to generate a 2D, log-scaled image of the data, \n",
    "    with an option to highlight a specific pixel.\n",
    "    \n",
    "    data_2d : numpy.ndarray\n",
    "        2D image to be displayed\n",
    "        \n",
    "    vmin : float\n",
    "        Minimum signal value to use for scaling\n",
    "        \n",
    "    vmax : float\n",
    "        Maximum signal value to use for scaling\n",
    "        \n",
    "    xpixel : int\n",
    "        X-coordinate of pixel to highlight\n",
    "        \n",
    "    ypixel : int\n",
    "        Y-coordinate of pixel to highlight\n",
    "        \n",
    "    title : str\n",
    "        String to use for the plot title\n",
    "        \n",
    "    scale : str\n",
    "        Specify scaling of the image. Can be 'log' or 'linear'\n",
    "        \n",
    "    units : str\n",
    "        Units of the data. Used for the annotation in the\n",
    "        color bar\n",
    "    \"\"\"\n",
    "    if scale == 'log':\n",
    "        norm = ImageNormalize(data_2d, interval=ManualInterval(vmin=vmin, vmax=vmax),\n",
    "                              stretch=LogStretch())\n",
    "    elif scale == 'linear':\n",
    "        norm = ImageNormalize(data_2d, interval=ManualInterval(vmin=vmin, vmax=vmax),\n",
    "                              stretch=LinearStretch())\n",
    "    fig = plt.figure(figsize=(8, 8))\n",
    "    ax = fig.add_subplot(1, 1, 1)\n",
    "    im = ax.imshow(data_2d, origin='lower', norm=norm)\n",
    "    \n",
    "    if xpixel and ypixel:\n",
    "        plt.plot(xpixel, ypixel, marker='o', color='red', label='Selected Pixel')\n",
    "\n",
    "    fig.colorbar(im, label=units)\n",
    "    plt.xlabel('Pixel column')\n",
    "    plt.ylabel('Pixel row')\n",
    "    if title:\n",
    "        plt.title(title)"
   ]
  },
  {
   "cell_type": "markdown",
   "metadata": {},
   "source": [
    "[Top of Page](#title_ID)"
   ]
  },
  {
   "cell_type": "markdown",
   "metadata": {},
   "source": [
    "<a id=\"data_load\"></a>\n",
    "# Loading the Data"
   ]
  },
  {
   "cell_type": "markdown",
   "metadata": {},
   "source": [
    "For this module, we will use calbrated rate files from a NIRCam simulated imaging exposure that is stored in Box. Let's download these files, as well as an association file and some parameter reference files."
   ]
  },
  {
   "cell_type": "code",
   "execution_count": 11,
   "metadata": {
    "execution": {
     "iopub.execute_input": "2022-07-06T14:02:22.076726Z",
     "iopub.status.busy": "2022-07-06T14:02:22.075775Z",
     "iopub.status.idle": "2022-07-06T14:02:22.086359Z",
     "shell.execute_reply": "2022-07-06T14:02:22.085435Z"
    }
   },
   "outputs": [],
   "source": [
    "from astropy.utils.data import download_file\n",
    "from pathlib import Path\n",
    "from shutil import move\n",
    "from os.path import splitext\n",
    "\n",
    "def get_box_files(file_list):\n",
    "    for box_url,file_name in file_list:\n",
    "        if 'https' not in box_url:\n",
    "            box_url = 'https://stsci.box.com/shared/static/' + box_url\n",
    "        downloaded_file = download_file(box_url, timeout=600)\n",
    "        if Path(file_name).suffix == '':\n",
    "            ext = splitext(box_url)[1]\n",
    "            file_name += ext\n",
    "        move(downloaded_file, file_name)\n",
    "        \n",
    "file_urls = ['https://stsci.box.com/shared/static/p2wlvndw25dk7xwk1tasqevmhkg6p55e.fits',\n",
    "             'https://stsci.box.com/shared/static/cmhc7kkf5z6373d2vwg7916lrhe5ia7u.fits',\n",
    "             'https://stsci.box.com/shared/static/sb18cpfqjbw1i09gvw0cpqkj6ymdn899.fits',\n",
    "             'https://stsci.box.com/shared/static/7d00b9isvss7njhcwmd8uiq8c7s4d845.json',\n",
    "             'https://stsci.box.com/shared/static/ja0gkd8c0x8p8konhr84wkuhwnpkqf4s.asdf',\n",
    "             'https://stsci.box.com/shared/static/yahdw55fotwrh7i6hhcxksj97qkf7j4r.asdf',\n",
    "              ]\n",
    "\n",
    "file_names = ['jw98765001001_01101_00001_nrcb5_cal.fits',\n",
    "              'jw98765001001_01101_00002_nrcb5_cal.fits',\n",
    "              'jw98765001001_01101_00003_nrcb5_cal.fits',\n",
    "              'level3_lw_asn.json',\n",
    "              'jwst_nircam_pars-tweakregstep_0006.asdf',\n",
    "              'nircam_pars-sourcecatalogstep_f444w_clear.asdf'\n",
    "              ]  \n",
    "\n",
    "box_download_list = [(url,name) for url,name in zip(file_urls,file_names)]"
   ]
  },
  {
   "cell_type": "code",
   "execution_count": 12,
   "metadata": {
    "execution": {
     "iopub.execute_input": "2022-07-06T14:02:22.089604Z",
     "iopub.status.busy": "2022-07-06T14:02:22.089157Z",
     "iopub.status.idle": "2022-07-06T14:06:14.803313Z",
     "shell.execute_reply": "2022-07-06T14:06:14.801404Z"
    }
   },
   "outputs": [],
   "source": [
    "get_box_files(box_download_list)"
   ]
  },
  {
   "cell_type": "code",
   "execution_count": 13,
   "metadata": {
    "execution": {
     "iopub.execute_input": "2022-07-06T14:06:14.810993Z",
     "iopub.status.busy": "2022-07-06T14:06:14.810606Z",
     "iopub.status.idle": "2022-07-06T14:06:14.819787Z",
     "shell.execute_reply": "2022-07-06T14:06:14.818637Z"
    }
   },
   "outputs": [],
   "source": [
    "asn_file = os.path.join(output_dir, 'level3_lw_asn.json')"
   ]
  },
  {
   "cell_type": "code",
   "execution_count": 14,
   "metadata": {
    "execution": {
     "iopub.execute_input": "2022-07-06T14:06:14.825603Z",
     "iopub.status.busy": "2022-07-06T14:06:14.824841Z",
     "iopub.status.idle": "2022-07-06T14:06:14.829984Z",
     "shell.execute_reply": "2022-07-06T14:06:14.829296Z"
    }
   },
   "outputs": [],
   "source": [
    "# Open the association file and load into a json object\n",
    "with open(asn_file) as f_obj:\n",
    "    asn_data = json.load(f_obj)"
   ]
  },
  {
   "cell_type": "code",
   "execution_count": 15,
   "metadata": {
    "execution": {
     "iopub.execute_input": "2022-07-06T14:06:14.833850Z",
     "iopub.status.busy": "2022-07-06T14:06:14.833180Z",
     "iopub.status.idle": "2022-07-06T14:06:14.850026Z",
     "shell.execute_reply": "2022-07-06T14:06:14.849380Z"
    }
   },
   "outputs": [
    {
     "data": {
      "text/plain": [
       "{'asn_type': 'None',\n",
       " 'asn_rule': 'DMS_Level3_Base',\n",
       " 'version_id': None,\n",
       " 'code_version': '0.17.1',\n",
       " 'degraded_status': 'No known degraded exposures in association.',\n",
       " 'program': 'noprogram',\n",
       " 'constraints': 'No constraints',\n",
       " 'asn_id': 'a3001',\n",
       " 'target': 'none',\n",
       " 'asn_pool': 'none',\n",
       " 'products': [{'name': 'l3_lw_results',\n",
       "   'members': [{'expname': 'jw98765001001_01101_00001_nrcb5_cal.fits',\n",
       "     'exptype': 'science'},\n",
       "    {'expname': 'jw98765001001_01101_00002_nrcb5_cal.fits',\n",
       "     'exptype': 'science'},\n",
       "    {'expname': 'jw98765001001_01101_00003_nrcb5_cal.fits',\n",
       "     'exptype': 'science'}]}]}"
      ]
     },
     "execution_count": 15,
     "metadata": {},
     "output_type": "execute_result"
    }
   ],
   "source": [
    "asn_data"
   ]
  },
  {
   "cell_type": "markdown",
   "metadata": {},
   "source": [
    "Here we see that the association file begins with a few lines of data that give high-level information about the association. The most important entry here is the `asn_rule` field. Association files have different formats for the different stages of the pipeline. You should be sure that the `asn_rule` matches the pipeline that you will be running. In this case we'll be running the Stage 3 pipeline, and we see that the `asn_rule` mentions \"Level3\", which is what we want.\n",
    "\n",
    "Beneath these lines, we see the `products` field. This field contains a list of dictionaries that specify the files that belong to this association, and the types of those files. When the Stage 3 pipeline is run on this association file, all files listed here will be run through the calibration steps."
   ]
  },
  {
   "cell_type": "code",
   "execution_count": 16,
   "metadata": {
    "execution": {
     "iopub.execute_input": "2022-07-06T14:06:14.855186Z",
     "iopub.status.busy": "2022-07-06T14:06:14.854809Z",
     "iopub.status.idle": "2022-07-06T14:06:14.858185Z",
     "shell.execute_reply": "2022-07-06T14:06:14.857610Z"
    }
   },
   "outputs": [],
   "source": [
    "tweak_files = ['level3_lw_asn_0_tweakregstep.fits',\n",
    "               'level3_lw_asn_1_tweakregstep.fits',\n",
    "               'level3_lw_asn_2_tweakregstep.fits']\n",
    "tweak_product = 'manual_asn_file'"
   ]
  },
  {
   "cell_type": "code",
   "execution_count": 17,
   "metadata": {
    "execution": {
     "iopub.execute_input": "2022-07-06T14:06:14.861260Z",
     "iopub.status.busy": "2022-07-06T14:06:14.860903Z",
     "iopub.status.idle": "2022-07-06T14:06:14.864236Z",
     "shell.execute_reply": "2022-07-06T14:06:14.863757Z"
    }
   },
   "outputs": [],
   "source": [
    "tweakreg_asn = asn_from_list.asn_from_list(tweak_files, rule=DMS_Level3_Base, product_name=tweak_product)"
   ]
  },
  {
   "cell_type": "markdown",
   "metadata": {},
   "source": [
    "Here is our new association, containing the three files created by the `tweakreg` step."
   ]
  },
  {
   "cell_type": "code",
   "execution_count": 18,
   "metadata": {
    "execution": {
     "iopub.execute_input": "2022-07-06T14:06:14.867101Z",
     "iopub.status.busy": "2022-07-06T14:06:14.866829Z",
     "iopub.status.idle": "2022-07-06T14:06:14.871810Z",
     "shell.execute_reply": "2022-07-06T14:06:14.871248Z"
    }
   },
   "outputs": [
    {
     "data": {
      "text/plain": [
       "{\n",
       "    \"asn_type\": \"None\",\n",
       "    \"asn_rule\": \"DMS_Level3_Base\",\n",
       "    \"version_id\": null,\n",
       "    \"code_version\": \"1.5.3\",\n",
       "    \"degraded_status\": \"No known degraded exposures in association.\",\n",
       "    \"program\": \"noprogram\",\n",
       "    \"constraints\": \"No constraints\",\n",
       "    \"asn_id\": \"a3001\",\n",
       "    \"target\": \"none\",\n",
       "    \"asn_pool\": \"none\",\n",
       "    \"products\": [\n",
       "        {\n",
       "            \"name\": \"manual_asn_file\",\n",
       "            \"members\": [\n",
       "                {\n",
       "                    \"expname\": \"level3_lw_asn_0_tweakregstep.fits\",\n",
       "                    \"exptype\": \"science\"\n",
       "                },\n",
       "                {\n",
       "                    \"expname\": \"level3_lw_asn_1_tweakregstep.fits\",\n",
       "                    \"exptype\": \"science\"\n",
       "                },\n",
       "                {\n",
       "                    \"expname\": \"level3_lw_asn_2_tweakregstep.fits\",\n",
       "                    \"exptype\": \"science\"\n",
       "                }\n",
       "            ]\n",
       "        }\n",
       "    ]\n",
       "}"
      ]
     },
     "execution_count": 18,
     "metadata": {},
     "output_type": "execute_result"
    }
   ],
   "source": [
    "tweakreg_asn"
   ]
  },
  {
   "cell_type": "markdown",
   "metadata": {},
   "source": [
    "Now save the new association to a json file."
   ]
  },
  {
   "cell_type": "code",
   "execution_count": 19,
   "metadata": {
    "execution": {
     "iopub.execute_input": "2022-07-06T14:06:14.874224Z",
     "iopub.status.busy": "2022-07-06T14:06:14.873958Z",
     "iopub.status.idle": "2022-07-06T14:06:14.880656Z",
     "shell.execute_reply": "2022-07-06T14:06:14.880239Z"
    }
   },
   "outputs": [],
   "source": [
    "output_test = 'manual_tweakreg_asn.json'\n",
    "with open(output_test, 'w') as outfile:\n",
    "    name, serialized = tweakreg_asn.dump(format='json')\n",
    "    outfile.write(serialized)"
   ]
  },
  {
   "cell_type": "markdown",
   "metadata": {},
   "source": [
    "[Top of Page](#title_ID)"
   ]
  },
  {
   "cell_type": "markdown",
   "metadata": {},
   "source": [
    "---\n",
    "<a id='image3'></a>\n",
    "# The calwebb_image3 pipeline: Ensemble processing"
   ]
  },
  {
   "cell_type": "markdown",
   "metadata": {},
   "source": [
    "In the sections below, we will run the Stage 3 pipeline using an association file containing several NIRCam exposures. We will first call the entire *calwebb_image3* pipeline itself. The pipeline is a wrapper which will string together all of the appropriate steps in the proper order.\n",
    "\n",
    "After running the entire pipeline, we will go back to the original calibrated slope images and manually run them through each of the steps that comprise the Stage 3 pipeline. For each step we will check in more detail what is going on and examine how the exposure files have changed.\n",
    "\n",
    "See [Figure 1](https://jwst-docs.stsci.edu/jwst-data-reduction-pipeline/algorithm-documentation/stages-of-processing/calwebb_image3) on the calwebb_image3 algorithm page for a map of the steps are performed on the input data."
   ]
  },
  {
   "cell_type": "markdown",
   "metadata": {},
   "source": [
    "<a id='image3_at_once'></a>\n",
    "# Run the entire `calwebb_image3` pipeline\n",
    "\n",
    "In this section we show how to run the entire calwebb_image3 pipeline with a single call. \n",
    "\n",
    "We set parameter values for some of the individual steps, save some outputs, etc, and then call the pipeline."
   ]
  },
  {
   "cell_type": "code",
   "execution_count": 20,
   "metadata": {
    "execution": {
     "iopub.execute_input": "2022-07-06T14:06:14.883117Z",
     "iopub.status.busy": "2022-07-06T14:06:14.882932Z",
     "iopub.status.idle": "2022-07-06T14:08:21.490243Z",
     "shell.execute_reply": "2022-07-06T14:08:21.488868Z"
    },
    "scrolled": false
   },
   "outputs": [
    {
     "name": "stderr",
     "output_type": "stream",
     "text": [
      "2022-07-06 10:06:14,893 - stpipe.Image3Pipeline - INFO - Image3Pipeline instance created.\n"
     ]
    },
    {
     "name": "stderr",
     "output_type": "stream",
     "text": [
      "2022-07-06 10:06:14,894 - stpipe.Image3Pipeline.assign_mtwcs - INFO - AssignMTWcsStep instance created.\n"
     ]
    },
    {
     "name": "stderr",
     "output_type": "stream",
     "text": [
      "2022-07-06 10:06:14,898 - stpipe.Image3Pipeline.tweakreg - INFO - TweakRegStep instance created.\n"
     ]
    },
    {
     "name": "stderr",
     "output_type": "stream",
     "text": [
      "2022-07-06 10:06:14,899 - stpipe.Image3Pipeline.skymatch - INFO - SkyMatchStep instance created.\n"
     ]
    },
    {
     "name": "stderr",
     "output_type": "stream",
     "text": [
      "2022-07-06 10:06:14,901 - stpipe.Image3Pipeline.outlier_detection - INFO - OutlierDetectionStep instance created.\n"
     ]
    },
    {
     "name": "stderr",
     "output_type": "stream",
     "text": [
      "2022-07-06 10:06:14,902 - stpipe.Image3Pipeline.resample - INFO - ResampleStep instance created.\n"
     ]
    },
    {
     "name": "stderr",
     "output_type": "stream",
     "text": [
      "2022-07-06 10:06:15,060 - stpipe.Image3Pipeline.source_catalog - INFO - SourceCatalogStep instance created.\n"
     ]
    },
    {
     "name": "stderr",
     "output_type": "stream",
     "text": [
      "2022-07-06 10:06:15,164 - stpipe.Image3Pipeline - INFO - Step Image3Pipeline running with args ('./level3_lw_asn.json',).\n"
     ]
    },
    {
     "name": "stderr",
     "output_type": "stream",
     "text": [
      "2022-07-06 10:06:15,170 - stpipe.Image3Pipeline - INFO - Step Image3Pipeline parameters are: {'pre_hooks': [], 'post_hooks': [], 'output_file': None, 'output_dir': './', 'output_ext': '.fits', 'output_use_model': False, 'output_use_index': True, 'save_results': True, 'skip': False, 'suffix': None, 'search_output_file': True, 'input_dir': '', 'steps': {'assign_mtwcs': {'pre_hooks': [], 'post_hooks': [], 'output_file': None, 'output_dir': None, 'output_ext': '.fits', 'output_use_model': True, 'output_use_index': True, 'save_results': False, 'skip': False, 'suffix': 'assign_mtwcs', 'search_output_file': True, 'input_dir': ''}, 'tweakreg': {'pre_hooks': [], 'post_hooks': [], 'output_file': None, 'output_dir': None, 'output_ext': '.fits', 'output_use_model': True, 'output_use_index': True, 'save_results': True, 'skip': False, 'suffix': None, 'search_output_file': True, 'input_dir': '', 'save_catalogs': False, 'catalog_format': 'ecsv', 'kernel_fwhm': 2.302, 'snr_threshold': 10.0, 'brightest': 20, 'peakmax': None, 'enforce_user_order': False, 'expand_refcat': False, 'minobj': 15, 'searchrad': 2.0, 'use2dhist': True, 'separation': 1.0, 'tolerance': 0.7, 'xoffset': 0.0, 'yoffset': 0.0, 'fitgeometry': 'rshift', 'nclip': 3, 'sigma': 3.0, 'align_to_gaia': True, 'gaia_catalog': 'GAIADR2', 'min_gaia': 5, 'save_gaia_catalog': True}, 'skymatch': {'pre_hooks': [], 'post_hooks': [], 'output_file': None, 'output_dir': None, 'output_ext': '.fits', 'output_use_model': False, 'output_use_index': True, 'save_results': True, 'skip': False, 'suffix': None, 'search_output_file': True, 'input_dir': '', 'skymethod': 'match', 'match_down': True, 'subtract': False, 'stepsize': None, 'skystat': 'mode', 'dqbits': '~DO_NOT_USE+NON_SCIENCE', 'lower': None, 'upper': None, 'nclip': 5, 'lsigma': 4.0, 'usigma': 4.0, 'binwidth': 0.1}, 'outlier_detection': {'pre_hooks': [], 'post_hooks': [], 'output_file': None, 'output_dir': None, 'output_ext': '.fits', 'output_use_model': False, 'output_use_index': True, 'save_results': True, 'skip': False, 'suffix': None, 'search_output_file': False, 'input_dir': '', 'weight_type': 'ivm', 'pixfrac': 1.0, 'kernel': 'square', 'fillval': 'INDEF', 'nlow': 0, 'nhigh': 0, 'maskpt': 0.7, 'grow': 1, 'snr': '5.0 4.0', 'scale': '1.2 0.7', 'backg': 0.0, 'save_intermediate_results': False, 'resample_data': True, 'good_bits': '~DO_NOT_USE', 'scale_detection': False, 'allowed_memory': None}, 'resample': {'pre_hooks': [], 'post_hooks': [], 'output_file': None, 'output_dir': None, 'output_ext': '.fits', 'output_use_model': False, 'output_use_index': True, 'save_results': True, 'skip': False, 'suffix': None, 'search_output_file': True, 'input_dir': '', 'pixfrac': 1.0, 'kernel': 'square', 'fillval': 'INDEF', 'weight_type': 'ivm', 'output_shape': None, 'crpix': None, 'crval': None, 'rotation': None, 'pixel_scale_ratio': 1.0, 'pixel_scale': None, 'single': False, 'blendheaders': True, 'allowed_memory': None}, 'source_catalog': {'pre_hooks': [], 'post_hooks': [], 'output_file': None, 'output_dir': None, 'output_ext': '.fits', 'output_use_model': False, 'output_use_index': True, 'save_results': True, 'skip': False, 'suffix': 'cat', 'search_output_file': True, 'input_dir': '', 'bkg_boxsize': 100, 'kernel_fwhm': 2.302, 'snr_threshold': 10.0, 'npixels': 5, 'deblend': False, 'aperture_ee1': 30, 'aperture_ee2': 50, 'aperture_ee3': 70, 'ci1_star_threshold': 2.0, 'ci2_star_threshold': 1.8}}}\n"
     ]
    },
    {
     "name": "stderr",
     "output_type": "stream",
     "text": [
      "2022-07-06 10:06:16,122 - stpipe.Image3Pipeline - INFO - Prefetching reference files for dataset: 'jw98765001001_01101_00001_nrcb5_cal.fits' reftypes = ['abvegaoffset', 'apcorr', 'drizpars']\n"
     ]
    },
    {
     "name": "stderr",
     "output_type": "stream",
     "text": [
      "2022-07-06 10:06:16,609 - stpipe.Image3Pipeline - INFO - Prefetch for ABVEGAOFFSET reference file is '/grp/crds/cache/references/jwst/jwst_nircam_abvegaoffset_0001.asdf'.\n"
     ]
    },
    {
     "name": "stderr",
     "output_type": "stream",
     "text": [
      "2022-07-06 10:06:16,612 - stpipe.Image3Pipeline - INFO - Prefetch for APCORR reference file is '/grp/crds/cache/references/jwst/jwst_nircam_apcorr_0004.fits'.\n"
     ]
    },
    {
     "name": "stderr",
     "output_type": "stream",
     "text": [
      "2022-07-06 10:06:16,615 - stpipe.Image3Pipeline - INFO - Prefetch for DRIZPARS reference file is '/grp/crds/cache/references/jwst/jwst_nircam_drizpars_0001.fits'.\n"
     ]
    },
    {
     "name": "stderr",
     "output_type": "stream",
     "text": [
      "2022-07-06 10:06:16,617 - stpipe.Image3Pipeline - INFO - Starting calwebb_image3 ...\n"
     ]
    },
    {
     "name": "stderr",
     "output_type": "stream",
     "text": [
      "2022-07-06 10:06:17,059 - stpipe.Image3Pipeline.tweakreg - INFO - Step tweakreg running with args (<ModelContainer>,).\n"
     ]
    },
    {
     "name": "stderr",
     "output_type": "stream",
     "text": [
      "2022-07-06 10:06:17,062 - stpipe.Image3Pipeline.tweakreg - INFO - Step tweakreg parameters are: {'pre_hooks': [], 'post_hooks': [], 'output_file': None, 'output_dir': None, 'output_ext': '.fits', 'output_use_model': True, 'output_use_index': True, 'save_results': True, 'skip': False, 'suffix': None, 'search_output_file': True, 'input_dir': '.', 'save_catalogs': False, 'catalog_format': 'ecsv', 'kernel_fwhm': 2.302, 'snr_threshold': 10.0, 'brightest': 20, 'peakmax': None, 'enforce_user_order': False, 'expand_refcat': False, 'minobj': 15, 'searchrad': 2.0, 'use2dhist': True, 'separation': 1.0, 'tolerance': 0.7, 'xoffset': 0.0, 'yoffset': 0.0, 'fitgeometry': 'rshift', 'nclip': 3, 'sigma': 3.0, 'align_to_gaia': True, 'gaia_catalog': 'GAIADR2', 'min_gaia': 5, 'save_gaia_catalog': True}\n"
     ]
    },
    {
     "name": "stderr",
     "output_type": "stream",
     "text": [
      "2022-07-06 10:06:18,981 - stpipe.Image3Pipeline.tweakreg - INFO - Detected 20 sources in jw98765001001_01101_00001_nrcb5_cal.fits.\n"
     ]
    },
    {
     "name": "stderr",
     "output_type": "stream",
     "text": [
      "2022-07-06 10:06:21,002 - stpipe.Image3Pipeline.tweakreg - INFO - Detected 20 sources in jw98765001001_01101_00002_nrcb5_cal.fits.\n"
     ]
    },
    {
     "name": "stderr",
     "output_type": "stream",
     "text": [
      "2022-07-06 10:06:22,929 - stpipe.Image3Pipeline.tweakreg - INFO - Detected 20 sources in jw98765001001_01101_00003_nrcb5_cal.fits.\n"
     ]
    },
    {
     "name": "stderr",
     "output_type": "stream",
     "text": [
      "2022-07-06 10:06:22,986 - stpipe.Image3Pipeline.tweakreg - INFO - \n"
     ]
    },
    {
     "name": "stderr",
     "output_type": "stream",
     "text": [
      "2022-07-06 10:06:22,987 - stpipe.Image3Pipeline.tweakreg - INFO - Number of image groups to be aligned: 3.\n"
     ]
    },
    {
     "name": "stderr",
     "output_type": "stream",
     "text": [
      "2022-07-06 10:06:22,988 - stpipe.Image3Pipeline.tweakreg - INFO - Image groups:\n"
     ]
    },
    {
     "name": "stderr",
     "output_type": "stream",
     "text": [
      "2022-07-06 10:06:23,012 - stpipe.Image3Pipeline.tweakreg - INFO - * Images in GROUP 'jw98765001001_01101_00001_nrcb5_cal':\n"
     ]
    },
    {
     "name": "stderr",
     "output_type": "stream",
     "text": [
      "2022-07-06 10:06:23,013 - stpipe.Image3Pipeline.tweakreg - INFO -      jw98765001001_01101_00001_nrcb5_cal\n"
     ]
    },
    {
     "name": "stderr",
     "output_type": "stream",
     "text": [
      "2022-07-06 10:06:23,033 - stpipe.Image3Pipeline.tweakreg - INFO - * Images in GROUP 'jw98765001001_01101_00002_nrcb5_cal':\n"
     ]
    },
    {
     "name": "stderr",
     "output_type": "stream",
     "text": [
      "2022-07-06 10:06:23,034 - stpipe.Image3Pipeline.tweakreg - INFO -      jw98765001001_01101_00002_nrcb5_cal\n"
     ]
    },
    {
     "name": "stderr",
     "output_type": "stream",
     "text": [
      "2022-07-06 10:06:23,055 - stpipe.Image3Pipeline.tweakreg - INFO - * Images in GROUP 'jw98765001001_01101_00003_nrcb5_cal':\n"
     ]
    },
    {
     "name": "stderr",
     "output_type": "stream",
     "text": [
      "2022-07-06 10:06:23,056 - stpipe.Image3Pipeline.tweakreg - INFO -      jw98765001001_01101_00003_nrcb5_cal\n"
     ]
    },
    {
     "name": "stderr",
     "output_type": "stream",
     "text": [
      "2022-07-06 10:06:23,056 - stpipe.Image3Pipeline.tweakreg - INFO - \n"
     ]
    },
    {
     "name": "stderr",
     "output_type": "stream",
     "text": [
      "2022-07-06 10:06:23,057 - stpipe.Image3Pipeline.tweakreg - INFO -  \n"
     ]
    },
    {
     "name": "stderr",
     "output_type": "stream",
     "text": [
      "2022-07-06 10:06:23,058 - stpipe.Image3Pipeline.tweakreg - INFO - ***** tweakwcs.imalign.align_wcs() started on 2022-07-06 10:06:23.057424\n"
     ]
    },
    {
     "name": "stderr",
     "output_type": "stream",
     "text": [
      "2022-07-06 10:06:23,058 - stpipe.Image3Pipeline.tweakreg - INFO -       Version 0.7.4\n"
     ]
    },
    {
     "name": "stderr",
     "output_type": "stream",
     "text": [
      "2022-07-06 10:06:23,059 - stpipe.Image3Pipeline.tweakreg - INFO -  \n"
     ]
    },
    {
     "name": "stderr",
     "output_type": "stream",
     "text": [
      "2022-07-06 10:06:23,211 - stpipe.Image3Pipeline.tweakreg - INFO - Selected image 'GROUP ID: jw98765001001_01101_00001_nrcb5_cal' as reference image\n"
     ]
    },
    {
     "name": "stderr",
     "output_type": "stream",
     "text": [
      "2022-07-06 10:06:23,216 - stpipe.Image3Pipeline.tweakreg - INFO - Aligning image catalog 'GROUP ID: jw98765001001_01101_00002_nrcb5_cal' to the reference catalog.\n"
     ]
    },
    {
     "name": "stderr",
     "output_type": "stream",
     "text": [
      "2022-07-06 10:06:23,359 - stpipe.Image3Pipeline.tweakreg - INFO - Matching sources from 'jw98765001001_01101_00002_nrcb5_cal' catalog with sources from the reference 'jw98765001001_01101_00001_nrcb5_cal' catalog.\n"
     ]
    },
    {
     "name": "stderr",
     "output_type": "stream",
     "text": [
      "2022-07-06 10:06:23,361 - stpipe.Image3Pipeline.tweakreg - INFO - Computing initial guess for X and Y shifts...\n"
     ]
    },
    {
     "name": "stderr",
     "output_type": "stream",
     "text": [
      "2022-07-06 10:06:23,362 - stpipe.Image3Pipeline.tweakreg - INFO - Found initial X and Y shifts of 0, 0 with significance of 19 and 21 matches.\n"
     ]
    },
    {
     "name": "stderr",
     "output_type": "stream",
     "text": [
      "2022-07-06 10:06:23,364 - stpipe.Image3Pipeline.tweakreg - INFO - Found 18 matches for 'GROUP ID: jw98765001001_01101_00002_nrcb5_cal'...\n"
     ]
    },
    {
     "name": "stderr",
     "output_type": "stream",
     "text": [
      "2022-07-06 10:06:23,365 - stpipe.Image3Pipeline.tweakreg - INFO - Performing 'rshift' fit\n"
     ]
    },
    {
     "name": "stderr",
     "output_type": "stream",
     "text": [
      "2022-07-06 10:06:23,367 - stpipe.Image3Pipeline.tweakreg - INFO - Computed 'rshift' fit for GROUP ID: jw98765001001_01101_00002_nrcb5_cal:\n"
     ]
    },
    {
     "name": "stderr",
     "output_type": "stream",
     "text": [
      "2022-07-06 10:06:23,368 - stpipe.Image3Pipeline.tweakreg - INFO - XSH: 0.00181396  YSH: -0.00157803    ROT: -0.00197737    SCALE: 1\n"
     ]
    },
    {
     "name": "stderr",
     "output_type": "stream",
     "text": [
      "2022-07-06 10:06:23,368 - stpipe.Image3Pipeline.tweakreg - INFO - \n"
     ]
    },
    {
     "name": "stderr",
     "output_type": "stream",
     "text": [
      "2022-07-06 10:06:23,369 - stpipe.Image3Pipeline.tweakreg - INFO - FIT RMSE: 0.00572492   FIT MAE: 0.004623\n"
     ]
    },
    {
     "name": "stderr",
     "output_type": "stream",
     "text": [
      "2022-07-06 10:06:23,369 - stpipe.Image3Pipeline.tweakreg - INFO - Final solution based on 18 objects.\n"
     ]
    },
    {
     "name": "stderr",
     "output_type": "stream",
     "text": [
      "2022-07-06 10:06:23,416 - stpipe.Image3Pipeline.tweakreg - INFO - Added 2 unmatched sources from 'GROUP ID: jw98765001001_01101_00002_nrcb5_cal' to the reference catalog.\n"
     ]
    },
    {
     "name": "stderr",
     "output_type": "stream",
     "text": [
      "2022-07-06 10:06:23,445 - stpipe.Image3Pipeline.tweakreg - INFO - Aligning image catalog 'GROUP ID: jw98765001001_01101_00003_nrcb5_cal' to the reference catalog.\n"
     ]
    },
    {
     "name": "stderr",
     "output_type": "stream",
     "text": [
      "2022-07-06 10:06:23,595 - stpipe.Image3Pipeline.tweakreg - INFO - Matching sources from 'jw98765001001_01101_00003_nrcb5_cal' catalog with sources from the reference 'jw98765001001_01101_00002_nrcb5_cal' catalog.\n"
     ]
    },
    {
     "name": "stderr",
     "output_type": "stream",
     "text": [
      "2022-07-06 10:06:23,596 - stpipe.Image3Pipeline.tweakreg - INFO - Computing initial guess for X and Y shifts...\n"
     ]
    },
    {
     "name": "stderr",
     "output_type": "stream",
     "text": [
      "2022-07-06 10:06:23,597 - stpipe.Image3Pipeline.tweakreg - INFO - Found initial X and Y shifts of 0, -0.04348 with significance of 16.33 and 23 matches.\n"
     ]
    },
    {
     "name": "stderr",
     "output_type": "stream",
     "text": [
      "2022-07-06 10:06:23,599 - stpipe.Image3Pipeline.tweakreg - INFO - Found 18 matches for 'GROUP ID: jw98765001001_01101_00003_nrcb5_cal'...\n"
     ]
    },
    {
     "name": "stderr",
     "output_type": "stream",
     "text": [
      "2022-07-06 10:06:23,599 - stpipe.Image3Pipeline.tweakreg - INFO - Performing 'rshift' fit\n"
     ]
    },
    {
     "name": "stderr",
     "output_type": "stream",
     "text": [
      "2022-07-06 10:06:23,601 - stpipe.Image3Pipeline.tweakreg - INFO - Computed 'rshift' fit for GROUP ID: jw98765001001_01101_00003_nrcb5_cal:\n"
     ]
    },
    {
     "name": "stderr",
     "output_type": "stream",
     "text": [
      "2022-07-06 10:06:23,602 - stpipe.Image3Pipeline.tweakreg - INFO - XSH: -0.000128936  YSH: -0.00080446    ROT: -0.0016684    SCALE: 1\n"
     ]
    },
    {
     "name": "stderr",
     "output_type": "stream",
     "text": [
      "2022-07-06 10:06:23,603 - stpipe.Image3Pipeline.tweakreg - INFO - \n"
     ]
    },
    {
     "name": "stderr",
     "output_type": "stream",
     "text": [
      "2022-07-06 10:06:23,603 - stpipe.Image3Pipeline.tweakreg - INFO - FIT RMSE: 0.00507312   FIT MAE: 0.00418885\n"
     ]
    },
    {
     "name": "stderr",
     "output_type": "stream",
     "text": [
      "2022-07-06 10:06:23,604 - stpipe.Image3Pipeline.tweakreg - INFO - Final solution based on 18 objects.\n"
     ]
    },
    {
     "name": "stderr",
     "output_type": "stream",
     "text": [
      "2022-07-06 10:06:23,650 - stpipe.Image3Pipeline.tweakreg - INFO - Added 2 unmatched sources from 'GROUP ID: jw98765001001_01101_00003_nrcb5_cal' to the reference catalog.\n"
     ]
    },
    {
     "name": "stderr",
     "output_type": "stream",
     "text": [
      "2022-07-06 10:06:23,651 - stpipe.Image3Pipeline.tweakreg - INFO -  \n"
     ]
    },
    {
     "name": "stderr",
     "output_type": "stream",
     "text": [
      "2022-07-06 10:06:23,652 - stpipe.Image3Pipeline.tweakreg - INFO - ***** tweakwcs.imalign.align_wcs() ended on 2022-07-06 10:06:23.651261\n"
     ]
    },
    {
     "name": "stderr",
     "output_type": "stream",
     "text": [
      "2022-07-06 10:06:23,652 - stpipe.Image3Pipeline.tweakreg - INFO - ***** tweakwcs.imalign.align_wcs() TOTAL RUN TIME: 0:00:00.593837\n"
     ]
    },
    {
     "name": "stderr",
     "output_type": "stream",
     "text": [
      "2022-07-06 10:06:23,653 - stpipe.Image3Pipeline.tweakreg - INFO -  \n"
     ]
    },
    {
     "name": "stderr",
     "output_type": "stream",
     "text": [
      "2022-07-06 10:06:23,816 - stpipe.Image3Pipeline.tweakreg - WARNING - Not enough GAIA sources for a fit: 3\n"
     ]
    },
    {
     "name": "stderr",
     "output_type": "stream",
     "text": [
      "2022-07-06 10:06:23,818 - stpipe.Image3Pipeline.tweakreg - WARNING - Skipping alignment to GAIADR2 astrometric catalog!\n"
     ]
    },
    {
     "name": "stderr",
     "output_type": "stream",
     "text": [
      "2022-07-06 10:06:23,819 - stpipe.Image3Pipeline.tweakreg - WARNING - \n"
     ]
    },
    {
     "name": "stderr",
     "output_type": "stream",
     "text": [
      "2022-07-06 10:06:24,613 - stpipe.Image3Pipeline.tweakreg - INFO - Saved model in ./jw98765001001_01101_00001_nrcb5_tweakreg.fits\n"
     ]
    },
    {
     "name": "stderr",
     "output_type": "stream",
     "text": [
      "2022-07-06 10:06:25,287 - stpipe.Image3Pipeline.tweakreg - INFO - Saved model in ./jw98765001001_01101_00002_nrcb5_tweakreg.fits\n"
     ]
    },
    {
     "name": "stderr",
     "output_type": "stream",
     "text": [
      "2022-07-06 10:06:25,942 - stpipe.Image3Pipeline.tweakreg - INFO - Saved model in ./jw98765001001_01101_00003_nrcb5_tweakreg.fits\n"
     ]
    },
    {
     "name": "stderr",
     "output_type": "stream",
     "text": [
      "2022-07-06 10:06:25,943 - stpipe.Image3Pipeline.tweakreg - INFO - Step tweakreg done\n"
     ]
    },
    {
     "name": "stderr",
     "output_type": "stream",
     "text": [
      "2022-07-06 10:06:26,216 - stpipe.Image3Pipeline.skymatch - INFO - Step skymatch running with args (<ModelContainer>,).\n"
     ]
    },
    {
     "name": "stderr",
     "output_type": "stream",
     "text": [
      "2022-07-06 10:06:26,218 - stpipe.Image3Pipeline.skymatch - INFO - Step skymatch parameters are: {'pre_hooks': [], 'post_hooks': [], 'output_file': None, 'output_dir': None, 'output_ext': '.fits', 'output_use_model': False, 'output_use_index': True, 'save_results': True, 'skip': False, 'suffix': None, 'search_output_file': True, 'input_dir': '.', 'skymethod': 'match', 'match_down': True, 'subtract': False, 'stepsize': None, 'skystat': 'mode', 'dqbits': '~DO_NOT_USE+NON_SCIENCE', 'lower': None, 'upper': None, 'nclip': 5, 'lsigma': 4.0, 'usigma': 4.0, 'binwidth': 0.1}\n"
     ]
    },
    {
     "name": "stderr",
     "output_type": "stream",
     "text": [
      "2022-07-06 10:06:26,375 - stpipe.Image3Pipeline.skymatch - INFO -  \n"
     ]
    },
    {
     "name": "stderr",
     "output_type": "stream",
     "text": [
      "2022-07-06 10:06:26,376 - stpipe.Image3Pipeline.skymatch - INFO - ***** jwst.skymatch.skymatch.match() started on 2022-07-06 10:06:26.375006\n"
     ]
    },
    {
     "name": "stderr",
     "output_type": "stream",
     "text": [
      "2022-07-06 10:06:26,377 - stpipe.Image3Pipeline.skymatch - INFO -  \n"
     ]
    },
    {
     "name": "stderr",
     "output_type": "stream",
     "text": [
      "2022-07-06 10:06:26,378 - stpipe.Image3Pipeline.skymatch - INFO - Sky computation method: 'match'\n"
     ]
    },
    {
     "name": "stderr",
     "output_type": "stream",
     "text": [
      "2022-07-06 10:06:26,379 - stpipe.Image3Pipeline.skymatch - INFO - Sky matching direction: DOWN\n"
     ]
    },
    {
     "name": "stderr",
     "output_type": "stream",
     "text": [
      "2022-07-06 10:06:26,380 - stpipe.Image3Pipeline.skymatch - INFO - Sky subtraction from image data: OFF\n"
     ]
    },
    {
     "name": "stderr",
     "output_type": "stream",
     "text": [
      "2022-07-06 10:06:26,381 - stpipe.Image3Pipeline.skymatch - INFO -  \n"
     ]
    },
    {
     "name": "stderr",
     "output_type": "stream",
     "text": [
      "2022-07-06 10:06:26,382 - stpipe.Image3Pipeline.skymatch - INFO - ----  Computing differences in sky values in overlapping regions.\n"
     ]
    },
    {
     "name": "stderr",
     "output_type": "stream",
     "text": [
      "2022-07-06 10:06:29,614 - stpipe.Image3Pipeline.skymatch - INFO -    *  Image ID=jw98765001001_01101_00001_nrcb5_tweakreg.fits. Sky background: 0.00725123\n"
     ]
    },
    {
     "name": "stderr",
     "output_type": "stream",
     "text": [
      "2022-07-06 10:06:29,615 - stpipe.Image3Pipeline.skymatch - INFO -    *  Image ID=jw98765001001_01101_00002_nrcb5_tweakreg.fits. Sky background: 0\n"
     ]
    },
    {
     "name": "stderr",
     "output_type": "stream",
     "text": [
      "2022-07-06 10:06:29,616 - stpipe.Image3Pipeline.skymatch - INFO -    *  Image ID=jw98765001001_01101_00003_nrcb5_tweakreg.fits. Sky background: 0.000627835\n"
     ]
    },
    {
     "name": "stderr",
     "output_type": "stream",
     "text": [
      "2022-07-06 10:06:29,617 - stpipe.Image3Pipeline.skymatch - INFO -  \n"
     ]
    },
    {
     "name": "stderr",
     "output_type": "stream",
     "text": [
      "2022-07-06 10:06:29,618 - stpipe.Image3Pipeline.skymatch - INFO - ***** jwst.skymatch.skymatch.match() ended on 2022-07-06 10:06:29.617619\n"
     ]
    },
    {
     "name": "stderr",
     "output_type": "stream",
     "text": [
      "2022-07-06 10:06:29,619 - stpipe.Image3Pipeline.skymatch - INFO - ***** jwst.skymatch.skymatch.match() TOTAL RUN TIME: 0:00:03.242613\n"
     ]
    },
    {
     "name": "stderr",
     "output_type": "stream",
     "text": [
      "2022-07-06 10:06:29,620 - stpipe.Image3Pipeline.skymatch - INFO -  \n"
     ]
    },
    {
     "name": "stderr",
     "output_type": "stream",
     "text": [
      "2022-07-06 10:06:30,287 - stpipe.Image3Pipeline.skymatch - INFO - Saved model in ./l3_lw_results_0_skymatch.fits\n"
     ]
    },
    {
     "name": "stderr",
     "output_type": "stream",
     "text": [
      "2022-07-06 10:06:30,967 - stpipe.Image3Pipeline.skymatch - INFO - Saved model in ./l3_lw_results_1_skymatch.fits\n"
     ]
    },
    {
     "name": "stderr",
     "output_type": "stream",
     "text": [
      "2022-07-06 10:06:31,629 - stpipe.Image3Pipeline.skymatch - INFO - Saved model in ./l3_lw_results_2_skymatch.fits\n"
     ]
    },
    {
     "name": "stderr",
     "output_type": "stream",
     "text": [
      "2022-07-06 10:06:31,630 - stpipe.Image3Pipeline.skymatch - INFO - Step skymatch done\n"
     ]
    },
    {
     "name": "stderr",
     "output_type": "stream",
     "text": [
      "2022-07-06 10:06:31,884 - stpipe.Image3Pipeline.outlier_detection - INFO - Step outlier_detection running with args (<ModelContainer>,).\n"
     ]
    },
    {
     "name": "stderr",
     "output_type": "stream",
     "text": [
      "2022-07-06 10:06:31,886 - stpipe.Image3Pipeline.outlier_detection - INFO - Step outlier_detection parameters are: {'pre_hooks': [], 'post_hooks': [], 'output_file': None, 'output_dir': None, 'output_ext': '.fits', 'output_use_model': False, 'output_use_index': True, 'save_results': True, 'skip': False, 'suffix': 'crf', 'search_output_file': False, 'input_dir': '.', 'weight_type': 'ivm', 'pixfrac': 1.0, 'kernel': 'square', 'fillval': 'INDEF', 'nlow': 0, 'nhigh': 0, 'maskpt': 0.7, 'grow': 1, 'snr': '5.0 4.0', 'scale': '1.2 0.7', 'backg': 0.0, 'save_intermediate_results': False, 'resample_data': True, 'good_bits': '~DO_NOT_USE', 'scale_detection': False, 'allowed_memory': None}\n"
     ]
    },
    {
     "name": "stderr",
     "output_type": "stream",
     "text": [
      "2022-07-06 10:06:31,896 - stpipe.Image3Pipeline.outlier_detection - INFO - Performing outlier detection on 3 inputs\n"
     ]
    },
    {
     "name": "stderr",
     "output_type": "stream",
     "text": [
      "2022-07-06 10:06:35,643 - stpipe.Image3Pipeline.outlier_detection - INFO - Drizzling (2048, 2048) --> (2166, 2170)\n"
     ]
    },
    {
     "name": "stderr",
     "output_type": "stream",
     "text": [
      "2022-07-06 10:06:41,836 - stpipe.Image3Pipeline.outlier_detection - INFO - Drizzling (2048, 2048) --> (2166, 2170)\n"
     ]
    },
    {
     "name": "stderr",
     "output_type": "stream",
     "text": [
      "2022-07-06 10:06:47,976 - stpipe.Image3Pipeline.outlier_detection - INFO - Drizzling (2048, 2048) --> (2166, 2170)\n"
     ]
    },
    {
     "name": "stderr",
     "output_type": "stream",
     "text": [
      "2022-07-06 10:06:51,530 - stpipe.Image3Pipeline.outlier_detection - INFO - Generating median from 3 images\n"
     ]
    },
    {
     "name": "stderr",
     "output_type": "stream",
     "text": [
      "2022-07-06 10:06:52,573 - stpipe.Image3Pipeline.outlier_detection - INFO - Blotting median...\n"
     ]
    },
    {
     "name": "stderr",
     "output_type": "stream",
     "text": [
      "2022-07-06 10:06:56,006 - stpipe.Image3Pipeline.outlier_detection - INFO - Blotting (2048, 2048) <-- (2166, 2170)\n"
     ]
    },
    {
     "name": "stderr",
     "output_type": "stream",
     "text": [
      "2022-07-06 10:07:00,420 - stpipe.Image3Pipeline.outlier_detection - INFO - Blotting (2048, 2048) <-- (2166, 2170)\n"
     ]
    },
    {
     "name": "stderr",
     "output_type": "stream",
     "text": [
      "2022-07-06 10:07:04,837 - stpipe.Image3Pipeline.outlier_detection - INFO - Blotting (2048, 2048) <-- (2166, 2170)\n"
     ]
    },
    {
     "name": "stderr",
     "output_type": "stream",
     "text": [
      "2022-07-06 10:07:04,920 - stpipe.Image3Pipeline.outlier_detection - INFO - Flagging outliers\n"
     ]
    },
    {
     "name": "stderr",
     "output_type": "stream",
     "text": [
      "2022-07-06 10:07:05,370 - stpipe.Image3Pipeline.outlier_detection - INFO - New pixels flagged as outliers: 2146 (0.05%)\n"
     ]
    },
    {
     "name": "stderr",
     "output_type": "stream",
     "text": [
      "2022-07-06 10:07:05,801 - stpipe.Image3Pipeline.outlier_detection - INFO - New pixels flagged as outliers: 2191 (0.05%)\n"
     ]
    },
    {
     "name": "stderr",
     "output_type": "stream",
     "text": [
      "2022-07-06 10:07:06,210 - stpipe.Image3Pipeline.outlier_detection - INFO - New pixels flagged as outliers: 2212 (0.05%)\n"
     ]
    },
    {
     "name": "stderr",
     "output_type": "stream",
     "text": [
      "2022-07-06 10:07:06,775 - stpipe.Image3Pipeline.outlier_detection - INFO - Saved model in ./l3_lw_results_0_a3001_crf.fits\n"
     ]
    },
    {
     "name": "stderr",
     "output_type": "stream",
     "text": [
      "2022-07-06 10:07:07,333 - stpipe.Image3Pipeline.outlier_detection - INFO - Saved model in ./l3_lw_results_1_a3001_crf.fits\n"
     ]
    },
    {
     "name": "stderr",
     "output_type": "stream",
     "text": [
      "2022-07-06 10:07:07,888 - stpipe.Image3Pipeline.outlier_detection - INFO - Saved model in ./l3_lw_results_2_a3001_crf.fits\n"
     ]
    },
    {
     "name": "stderr",
     "output_type": "stream",
     "text": [
      "2022-07-06 10:07:07,889 - stpipe.Image3Pipeline.outlier_detection - INFO - Step outlier_detection done\n"
     ]
    },
    {
     "name": "stderr",
     "output_type": "stream",
     "text": [
      "2022-07-06 10:07:08,121 - stpipe.Image3Pipeline.resample - INFO - Step resample running with args (<ModelContainer>,).\n"
     ]
    },
    {
     "name": "stderr",
     "output_type": "stream",
     "text": [
      "2022-07-06 10:07:08,123 - stpipe.Image3Pipeline.resample - INFO - Step resample parameters are: {'pre_hooks': [], 'post_hooks': [], 'output_file': None, 'output_dir': None, 'output_ext': '.fits', 'output_use_model': False, 'output_use_index': True, 'save_results': True, 'skip': False, 'suffix': 'i2d', 'search_output_file': True, 'input_dir': '.', 'pixfrac': 1.0, 'kernel': 'square', 'fillval': 'INDEF', 'weight_type': 'ivm', 'output_shape': None, 'crpix': None, 'crval': None, 'rotation': None, 'pixel_scale_ratio': 1.0, 'pixel_scale': None, 'single': False, 'blendheaders': True, 'allowed_memory': None}\n"
     ]
    },
    {
     "name": "stderr",
     "output_type": "stream",
     "text": [
      "2022-07-06 10:07:08,142 - stpipe.Image3Pipeline.resample - INFO - Drizpars reference file: /grp/crds/cache/references/jwst/jwst_nircam_drizpars_0001.fits\n"
     ]
    },
    {
     "name": "stderr",
     "output_type": "stream",
     "text": [
      "2022-07-06 10:07:08,299 - stpipe.Image3Pipeline.resample - INFO - Blending metadata for l3_lw_results\n"
     ]
    },
    {
     "name": "stderr",
     "output_type": "stream",
     "text": [
      "2022-07-06 10:07:09,029 - stpipe.Image3Pipeline.resample - INFO - Resampling science data\n"
     ]
    },
    {
     "name": "stderr",
     "output_type": "stream",
     "text": [
      "2022-07-06 10:07:12,086 - stpipe.Image3Pipeline.resample - INFO - Drizzling (2048, 2048) --> (2166, 2170)\n"
     ]
    },
    {
     "name": "stderr",
     "output_type": "stream",
     "text": [
      "2022-07-06 10:07:17,682 - stpipe.Image3Pipeline.resample - INFO - Drizzling (2048, 2048) --> (2166, 2170)\n"
     ]
    },
    {
     "name": "stderr",
     "output_type": "stream",
     "text": [
      "2022-07-06 10:07:23,251 - stpipe.Image3Pipeline.resample - INFO - Drizzling (2048, 2048) --> (2166, 2170)\n"
     ]
    },
    {
     "name": "stderr",
     "output_type": "stream",
     "text": [
      "2022-07-06 10:07:25,150 - stpipe.Image3Pipeline.resample - INFO - Resampling var_rnoise\n"
     ]
    },
    {
     "name": "stderr",
     "output_type": "stream",
     "text": [
      "2022-07-06 10:07:28,664 - stpipe.Image3Pipeline.resample - INFO - Drizzling (2048, 2048) --> (2166, 2170)\n"
     ]
    },
    {
     "name": "stderr",
     "output_type": "stream",
     "text": [
      "2022-07-06 10:07:34,970 - stpipe.Image3Pipeline.resample - INFO - Drizzling (2048, 2048) --> (2166, 2170)\n"
     ]
    },
    {
     "name": "stderr",
     "output_type": "stream",
     "text": [
      "2022-07-06 10:07:40,962 - stpipe.Image3Pipeline.resample - INFO - Drizzling (2048, 2048) --> (2166, 2170)\n"
     ]
    },
    {
     "name": "stderr",
     "output_type": "stream",
     "text": [
      "2022-07-06 10:07:42,893 - stpipe.Image3Pipeline.resample - INFO - Resampling var_poisson\n"
     ]
    },
    {
     "name": "stderr",
     "output_type": "stream",
     "text": [
      "2022-07-06 10:07:46,305 - stpipe.Image3Pipeline.resample - INFO - Drizzling (2048, 2048) --> (2166, 2170)\n"
     ]
    },
    {
     "name": "stderr",
     "output_type": "stream",
     "text": [
      "2022-07-06 10:07:52,396 - stpipe.Image3Pipeline.resample - INFO - Drizzling (2048, 2048) --> (2166, 2170)\n"
     ]
    },
    {
     "name": "stderr",
     "output_type": "stream",
     "text": [
      "2022-07-06 10:07:58,368 - stpipe.Image3Pipeline.resample - INFO - Drizzling (2048, 2048) --> (2166, 2170)\n"
     ]
    },
    {
     "name": "stderr",
     "output_type": "stream",
     "text": [
      "2022-07-06 10:08:00,283 - stpipe.Image3Pipeline.resample - INFO - Resampling var_flat\n"
     ]
    },
    {
     "name": "stderr",
     "output_type": "stream",
     "text": [
      "2022-07-06 10:08:03,482 - stpipe.Image3Pipeline.resample - INFO - Drizzling (2048, 2048) --> (2166, 2170)\n"
     ]
    },
    {
     "name": "stderr",
     "output_type": "stream",
     "text": [
      "2022-07-06 10:08:09,537 - stpipe.Image3Pipeline.resample - INFO - Drizzling (2048, 2048) --> (2166, 2170)\n"
     ]
    },
    {
     "name": "stderr",
     "output_type": "stream",
     "text": [
      "2022-07-06 10:08:15,555 - stpipe.Image3Pipeline.resample - INFO - Drizzling (2048, 2048) --> (2166, 2170)\n"
     ]
    },
    {
     "name": "stderr",
     "output_type": "stream",
     "text": [
      "2022-07-06 10:08:17,520 - stpipe.Image3Pipeline.resample - INFO - Update S_REGION to POLYGON ICRS  12.017269956 11.982251006 12.017274534 12.020171761 11.978432103 12.020173570 11.978432990 11.982252815\n"
     ]
    },
    {
     "name": "stderr",
     "output_type": "stream",
     "text": [
      "2022-07-06 10:08:18,089 - stpipe.Image3Pipeline.resample - INFO - Saved model in ./l3_lw_results_i2d.fits\n"
     ]
    },
    {
     "name": "stderr",
     "output_type": "stream",
     "text": [
      "2022-07-06 10:08:18,090 - stpipe.Image3Pipeline.resample - INFO - Step resample done\n"
     ]
    },
    {
     "name": "stderr",
     "output_type": "stream",
     "text": [
      "2022-07-06 10:08:18,390 - stpipe.Image3Pipeline.source_catalog - INFO - Step source_catalog running with args (<ImageModel(2166, 2170) from l3_lw_results_i2d.fits>,).\n"
     ]
    },
    {
     "name": "stderr",
     "output_type": "stream",
     "text": [
      "2022-07-06 10:08:18,392 - stpipe.Image3Pipeline.source_catalog - INFO - Step source_catalog parameters are: {'pre_hooks': [], 'post_hooks': [], 'output_file': None, 'output_dir': None, 'output_ext': '.fits', 'output_use_model': False, 'output_use_index': True, 'save_results': True, 'skip': False, 'suffix': 'cat', 'search_output_file': True, 'input_dir': '.', 'bkg_boxsize': 100, 'kernel_fwhm': 2.302, 'snr_threshold': 10.0, 'npixels': 5, 'deblend': False, 'aperture_ee1': 30, 'aperture_ee2': 50, 'aperture_ee3': 70, 'ci1_star_threshold': 2.0, 'ci2_star_threshold': 1.8}\n"
     ]
    },
    {
     "name": "stderr",
     "output_type": "stream",
     "text": [
      "2022-07-06 10:08:18,420 - stpipe.Image3Pipeline.source_catalog - INFO - Using APCORR reference file: /grp/crds/cache/references/jwst/jwst_nircam_apcorr_0004.fits\n"
     ]
    },
    {
     "name": "stderr",
     "output_type": "stream",
     "text": [
      "2022-07-06 10:08:18,434 - stpipe.Image3Pipeline.source_catalog - INFO - Using ABVEGAOFFSET reference file: /grp/crds/cache/references/jwst/jwst_nircam_abvegaoffset_0001.asdf\n"
     ]
    },
    {
     "name": "stderr",
     "output_type": "stream",
     "text": [
      "2022-07-06 10:08:18,435 - stpipe.Image3Pipeline.source_catalog - INFO - Instrument: NIRCAM\n"
     ]
    },
    {
     "name": "stderr",
     "output_type": "stream",
     "text": [
      "2022-07-06 10:08:18,436 - stpipe.Image3Pipeline.source_catalog - INFO - Detector: NRCBLONG\n"
     ]
    },
    {
     "name": "stderr",
     "output_type": "stream",
     "text": [
      "2022-07-06 10:08:18,436 - stpipe.Image3Pipeline.source_catalog - INFO - Filter: F444W\n"
     ]
    },
    {
     "name": "stderr",
     "output_type": "stream",
     "text": [
      "2022-07-06 10:08:18,437 - stpipe.Image3Pipeline.source_catalog - INFO - Pupil: CLEAR\n"
     ]
    },
    {
     "name": "stderr",
     "output_type": "stream",
     "text": [
      "2022-07-06 10:08:18,437 - stpipe.Image3Pipeline.source_catalog - INFO - Subarray: FULL\n"
     ]
    },
    {
     "name": "stderr",
     "output_type": "stream",
     "text": [
      "2022-07-06 10:08:18,525 - stpipe.Image3Pipeline.source_catalog - INFO - AB to Vega magnitude offset 3.24181\n"
     ]
    },
    {
     "name": "stderr",
     "output_type": "stream",
     "text": [
      "2022-07-06 10:08:20,892 - stpipe.Image3Pipeline.source_catalog - INFO - Detected 342 sources\n"
     ]
    },
    {
     "name": "stderr",
     "output_type": "stream",
     "text": [
      "2022-07-06 10:08:21,331 - stpipe.Image3Pipeline.source_catalog - INFO - Wrote source catalog: ./l3_lw_results_cat.ecsv\n"
     ]
    },
    {
     "name": "stderr",
     "output_type": "stream",
     "text": [
      "2022-07-06 10:08:21,480 - stpipe.Image3Pipeline.source_catalog - INFO - Saved model in ./l3_lw_results_segm.fits\n"
     ]
    },
    {
     "name": "stderr",
     "output_type": "stream",
     "text": [
      "2022-07-06 10:08:21,482 - stpipe.Image3Pipeline.source_catalog - INFO - Wrote segmentation map: l3_lw_results_segm.fits\n"
     ]
    },
    {
     "name": "stderr",
     "output_type": "stream",
     "text": [
      "2022-07-06 10:08:21,483 - stpipe.Image3Pipeline.source_catalog - INFO - Step source_catalog done\n"
     ]
    },
    {
     "name": "stderr",
     "output_type": "stream",
     "text": [
      "2022-07-06 10:08:21,485 - stpipe.Image3Pipeline - INFO - Step Image3Pipeline done\n"
     ]
    }
   ],
   "source": [
    "# Create an instance of the pipeline class\n",
    "image3 = calwebb_image3.Image3Pipeline()\n",
    "\n",
    "# Set some parameters that pertain to the\n",
    "# entire pipeline\n",
    "image3.output_dir = output_dir\n",
    "image3.save_results = True\n",
    "image3.tweakreg.save_results = True\n",
    "image3.skymatch.save_results = True\n",
    "image3.outlier_detection.save_results = True\n",
    "image3.resample.save_results = True\n",
    "image3.source_catalog.save_results = True\n",
    "\n",
    "# Set some parameters that pertain to some of\n",
    "# the individual steps\n",
    "image3.tweakreg.snr_threshold = 10.0  # 5.0 is the default\n",
    "image3.tweakreg.kernel_fwhm = 2.302  # 2.5 is the default\n",
    "image3.tweakreg.brightest = 20  # 100 is the default\n",
    "image3.tweakreg.align_to_gaia = True\n",
    "image3.tweakreg.save_gaia_catalog = True\n",
    "image3.source_catalog.kernel_fwhm = 2.302  # pixels\n",
    "image3.source_catalog.snr_threshold = 10.\n",
    "\n",
    "# Call the run() method\n",
    "image3.run(asn_file)"
   ]
  },
  {
   "cell_type": "markdown",
   "metadata": {},
   "source": [
    "### Examine the outputs"
   ]
  },
  {
   "cell_type": "markdown",
   "metadata": {},
   "source": [
    "Get the input filenames from the association file"
   ]
  },
  {
   "cell_type": "code",
   "execution_count": 21,
   "metadata": {
    "execution": {
     "iopub.execute_input": "2022-07-06T14:08:21.496511Z",
     "iopub.status.busy": "2022-07-06T14:08:21.495680Z",
     "iopub.status.idle": "2022-07-06T14:08:21.502786Z",
     "shell.execute_reply": "2022-07-06T14:08:21.501872Z"
    }
   },
   "outputs": [],
   "source": [
    "input_files = [item['expname'] for item in asn_data['products'][0]['members']]       "
   ]
  },
  {
   "cell_type": "code",
   "execution_count": 22,
   "metadata": {
    "execution": {
     "iopub.execute_input": "2022-07-06T14:08:21.506538Z",
     "iopub.status.busy": "2022-07-06T14:08:21.506206Z",
     "iopub.status.idle": "2022-07-06T14:08:21.512407Z",
     "shell.execute_reply": "2022-07-06T14:08:21.511632Z"
    }
   },
   "outputs": [
    {
     "data": {
      "text/plain": [
       "['jw98765001001_01101_00001_nrcb5_cal.fits',\n",
       " 'jw98765001001_01101_00002_nrcb5_cal.fits',\n",
       " 'jw98765001001_01101_00003_nrcb5_cal.fits']"
      ]
     },
     "execution_count": 22,
     "metadata": {},
     "output_type": "execute_result"
    }
   ],
   "source": [
    "input_files"
   ]
  },
  {
   "cell_type": "markdown",
   "metadata": {},
   "source": [
    "Define the names of the other output files."
   ]
  },
  {
   "cell_type": "code",
   "execution_count": 23,
   "metadata": {
    "execution": {
     "iopub.execute_input": "2022-07-06T14:08:21.515702Z",
     "iopub.status.busy": "2022-07-06T14:08:21.515039Z",
     "iopub.status.idle": "2022-07-06T14:08:21.519735Z",
     "shell.execute_reply": "2022-07-06T14:08:21.518979Z"
    }
   },
   "outputs": [],
   "source": [
    "mosaic_file = os.path.join(output_dir, 'l3_lw_results_i2d.fits')\n",
    "source_cat_file = os.path.join(output_dir, 'l3_lw_results_cat.ecsv')\n",
    "segmentation_map_file = os.path.join(output_dir, 'l3_lw_results_segm.fits')\n",
    "cr_flagged_files = [item.replace('cal.fits', 'crf.fits') for item in input_files]"
   ]
  },
  {
   "cell_type": "markdown",
   "metadata": {},
   "source": [
    "Read in the final mosaic image and display"
   ]
  },
  {
   "cell_type": "code",
   "execution_count": 24,
   "metadata": {
    "execution": {
     "iopub.execute_input": "2022-07-06T14:08:21.522868Z",
     "iopub.status.busy": "2022-07-06T14:08:21.522503Z",
     "iopub.status.idle": "2022-07-06T14:08:21.833842Z",
     "shell.execute_reply": "2022-07-06T14:08:21.833131Z"
    }
   },
   "outputs": [
    {
     "name": "stdout",
     "output_type": "stream",
     "text": [
      "\u001b[1mroot\u001b[0m (AsdfObject)\n",
      "\u001b[2m├─\u001b[0m\u001b[1masdf_library\u001b[0m (Software)\n",
      "\u001b[2m│ ├─\u001b[0m\u001b[1mauthor\u001b[0m (str): The ASDF Developers\n",
      "\u001b[2m│ ├─\u001b[0m\u001b[1mhomepage\u001b[0m (str): http://github.com/asdf-format/asdf\n",
      "\u001b[2m│ ├─\u001b[0m\u001b[1mname\u001b[0m (str): asdf\n",
      "\u001b[2m│ └─\u001b[0m\u001b[1mversion\u001b[0m (str): 2.12.0\n",
      "\u001b[2m├─\u001b[0m\u001b[1mhistory\u001b[0m (dict)\n",
      "\u001b[2m│ └─\u001b[0m\u001b[1mextensions\u001b[0m (list)\u001b[3m ...\u001b[0m\n",
      "\u001b[2m├─\u001b[0m\u001b[1m_fits_hash\u001b[0m (str): abf0a5e1342f7def46c098b8ac205918a4335bb1b84f51b97ddd0a7f8e7910b5\n",
      "\u001b[2m├─\u001b[0m\u001b[1mcon\u001b[0m (ndarray): shape=(2166, 2170), dtype=int32\n",
      "\u001b[2m├─\u001b[0m\u001b[1mdata\u001b[0m (ndarray): shape=(2166, 2170), dtype=float32\n",
      "\u001b[2m├─\u001b[0m\u001b[1merr\u001b[0m (ndarray): shape=(2166, 2170), dtype=float32\n",
      "\u001b[2m├─\u001b[0m\u001b[1mhdrtab\u001b[0m (NDArrayType): shape=(3,), dtype=record29872\n",
      "\u001b[2m├─\u001b[0m\u001b[1mmeta\u001b[0m (dict)\n",
      "\u001b[2m│ ├─\u001b[0m\u001b[1maperture\u001b[0m (dict)\u001b[3m ...\u001b[0m\n",
      "\u001b[2m│ ├─\u001b[0m\u001b[1masn\u001b[0m (dict)\u001b[3m ...\u001b[0m\n",
      "\u001b[2m│ ├─\u001b[0m\u001b[1mbackground\u001b[0m (dict)\u001b[3m ...\u001b[0m\n",
      "\u001b[2m│ ├─\u001b[0m\u001b[1mbunit_data\u001b[0m (str): MJy/sr\n",
      "\u001b[2m│ └─\u001b[0m\u001b[2m\u001b[3m28 not shown\u001b[0m\u001b[0m\n",
      "\u001b[2m├─\u001b[0m\u001b[1mvar_flat\u001b[0m (ndarray): shape=(2166, 2170), dtype=float32\n",
      "\u001b[2m├─\u001b[0m\u001b[1mvar_poisson\u001b[0m (ndarray): shape=(2166, 2170), dtype=float32\n",
      "\u001b[2m├─\u001b[0m\u001b[1mvar_rnoise\u001b[0m (ndarray): shape=(2166, 2170), dtype=float32\n",
      "\u001b[2m└─\u001b[0m\u001b[1mwht\u001b[0m (ndarray): shape=(2166, 2170), dtype=float32\n",
      "\u001b[2m\u001b[3mSome nodes not shown.\u001b[0m\u001b[0m\n",
      "None\n"
     ]
    }
   ],
   "source": [
    "#with datamodels.open(mosaic_file) as mosaic:\n",
    "mosaic = datamodels.open(mosaic_file)\n",
    "print(mosaic.info())"
   ]
  },
  {
   "cell_type": "code",
   "execution_count": 25,
   "metadata": {
    "execution": {
     "iopub.execute_input": "2022-07-06T14:08:21.837680Z",
     "iopub.status.busy": "2022-07-06T14:08:21.837459Z",
     "iopub.status.idle": "2022-07-06T14:08:22.140258Z",
     "shell.execute_reply": "2022-07-06T14:08:22.139029Z"
    }
   },
   "outputs": [
    {
     "data": {
      "image/png": "[encoded data removed]",
      "text/plain": [
       "<Figure size 640x640 with 2 Axes>"
      ]
     },
     "metadata": {
      "needs_background": "light"
     },
     "output_type": "display_data"
    }
   ],
   "source": [
    "show_image(mosaic.data, vmin=0, vmax=5)"
   ]
  },
  {
   "cell_type": "markdown",
   "metadata": {},
   "source": [
    "Let's look at the segmentation map that was created by the `source_catalog` step. This shows which pixels are associated with the identified sources."
   ]
  },
  {
   "cell_type": "code",
   "execution_count": 26,
   "metadata": {
    "execution": {
     "iopub.execute_input": "2022-07-06T14:08:22.147351Z",
     "iopub.status.busy": "2022-07-06T14:08:22.147088Z",
     "iopub.status.idle": "2022-07-06T14:08:22.171371Z",
     "shell.execute_reply": "2022-07-06T14:08:22.170292Z"
    }
   },
   "outputs": [],
   "source": [
    "seg_map = fits.getdata(segmentation_map_file)"
   ]
  },
  {
   "cell_type": "code",
   "execution_count": 27,
   "metadata": {
    "execution": {
     "iopub.execute_input": "2022-07-06T14:08:22.176313Z",
     "iopub.status.busy": "2022-07-06T14:08:22.176088Z",
     "iopub.status.idle": "2022-07-06T14:08:22.429401Z",
     "shell.execute_reply": "2022-07-06T14:08:22.428398Z"
    },
    "scrolled": false
   },
   "outputs": [
    {
     "data": {
      "image/png": "[encoded data removed]",
      "text/plain": [
       "<Figure size 640x640 with 2 Axes>"
      ]
     },
     "metadata": {
      "needs_background": "light"
     },
     "output_type": "display_data"
    }
   ],
   "source": [
    "show_image(seg_map, vmin=0, vmax=5, scale='linear')"
   ]
  },
  {
   "cell_type": "markdown",
   "metadata": {},
   "source": [
    "And now examine the actual source catalog. For each source, the catalog lists the location, along with flux and AB/Vega magnitude values in three different apertures, as well as calculated values for an infinite aperture. Within the documentation, you can see the [full list of column definitions](https://jwst-pipeline.readthedocs.io/en/stable/jwst/source_catalog/main.html#source-catalog-table)."
   ]
  },
  {
   "cell_type": "code",
   "execution_count": 28,
   "metadata": {
    "execution": {
     "iopub.execute_input": "2022-07-06T14:08:22.434932Z",
     "iopub.status.busy": "2022-07-06T14:08:22.434695Z",
     "iopub.status.idle": "2022-07-06T14:08:22.512560Z",
     "shell.execute_reply": "2022-07-06T14:08:22.511661Z"
    }
   },
   "outputs": [],
   "source": [
    "source_cat = ascii.read(source_cat_file)"
   ]
  },
  {
   "cell_type": "code",
   "execution_count": 29,
   "metadata": {
    "execution": {
     "iopub.execute_input": "2022-07-06T14:08:22.517305Z",
     "iopub.status.busy": "2022-07-06T14:08:22.516876Z",
     "iopub.status.idle": "2022-07-06T14:08:22.592535Z",
     "shell.execute_reply": "2022-07-06T14:08:22.591509Z"
    }
   },
   "outputs": [
    {
     "data": {
      "text/html": [
       "<div><i>QTable length=342</i>\n",
       "<table id=\"table140114423565472\" class=\"table-striped table-bordered table-condensed\">\n",
       "<thead><tr><th>label</th><th>xcentroid</th><th>ycentroid</th><th>sky_centroid</th><th>aper_bkg_flux</th><th>aper_bkg_flux_err</th><th>aper30_flux</th><th>aper30_flux_err</th><th>aper50_flux</th><th>aper50_flux_err</th><th>aper70_flux</th><th>aper70_flux_err</th><th>aper_total_flux</th><th>aper_total_flux_err</th><th>aper30_abmag</th><th>aper30_abmag_err</th><th>aper50_abmag</th><th>aper50_abmag_err</th><th>aper70_abmag</th><th>aper70_abmag_err</th><th>aper_total_abmag</th><th>aper_total_abmag_err</th><th>aper30_vegamag</th><th>aper30_vegamag_err</th><th>aper50_vegamag</th><th>aper50_vegamag_err</th><th>aper70_vegamag</th><th>aper70_vegamag_err</th><th>aper_total_vegamag</th><th>aper_total_vegamag_err</th><th>CI_50_30</th><th>CI_70_50</th><th>CI_70_30</th><th>is_extended</th><th>sharpness</th><th>roundness</th><th>nn_label</th><th>nn_dist</th><th>isophotal_flux</th><th>isophotal_flux_err</th><th>isophotal_abmag</th><th>isophotal_abmag_err</th><th>isophotal_vegamag</th><th>isophotal_vegamag_err</th><th>isophotal_area</th><th>semimajor_sigma</th><th>semiminor_sigma</th><th>ellipticity</th><th>orientation</th><th>sky_orientation</th><th>sky_bbox_ll</th><th>sky_bbox_ul</th><th>sky_bbox_lr</th><th>sky_bbox_ur</th></tr></thead>\n",
       "<thead><tr><th></th><th></th><th></th><th>deg,deg</th><th>Jy</th><th>Jy</th><th>Jy</th><th>Jy</th><th>Jy</th><th>Jy</th><th>Jy</th><th>Jy</th><th>Jy</th><th>Jy</th><th></th><th></th><th></th><th></th><th></th><th></th><th></th><th></th><th></th><th></th><th></th><th></th><th></th><th></th><th></th><th></th><th></th><th></th><th></th><th></th><th></th><th></th><th></th><th>pix</th><th>Jy</th><th>Jy</th><th></th><th></th><th></th><th></th><th>pix2</th><th>pix</th><th>pix</th><th></th><th>deg</th><th>deg</th><th>deg,deg</th><th>deg,deg</th><th>deg,deg</th><th>deg,deg</th></tr></thead>\n",
       "<thead><tr><th>int64</th><th>float64</th><th>float64</th><th>SkyCoord</th><th>float64</th><th>float64</th><th>float64</th><th>float64</th><th>float64</th><th>float64</th><th>float64</th><th>float64</th><th>float64</th><th>float64</th><th>float64</th><th>float64</th><th>float64</th><th>float64</th><th>float64</th><th>float64</th><th>float64</th><th>float64</th><th>float64</th><th>float64</th><th>float64</th><th>float64</th><th>float64</th><th>float64</th><th>float64</th><th>float64</th><th>float64</th><th>float64</th><th>float64</th><th>bool</th><th>float64</th><th>float32</th><th>int64</th><th>float64</th><th>float64</th><th>float32</th><th>float64</th><th>float64</th><th>float64</th><th>float64</th><th>float64</th><th>float64</th><th>float64</th><th>float64</th><th>float64</th><th>float64</th><th>SkyCoord</th><th>SkyCoord</th><th>SkyCoord</th><th>SkyCoord</th></tr></thead>\n",
       "<tr><td>1</td><td>643.0255</td><td>6.8864</td><td>12.005761597652096,11.982372661680525</td><td>0.000000e+00</td><td>1.706545e-10</td><td>1.992662e-07</td><td>4.463316e-02</td><td>3.627760e-07</td><td>6.469240e-02</td><td>5.882823e-07</td><td>1.190816e-01</td><td>8.670693e-07</td><td>1.755144e-01</td><td>25.651416</td><td>13.375565</td><td>25.000904</td><td>13.128043</td><td>24.476036</td><td>13.265652</td><td>24.054865</td><td>13.265652</td><td>22.409606</td><td>13.375565</td><td>21.759094</td><td>13.128043</td><td>21.234225</td><td>13.265652</td><td>20.813055</td><td>13.265652</td><td>1.8206</td><td>1.6216</td><td>2.9522</td><td>False</td><td>0.582825</td><td>0.163855</td><td>3</td><td>22.579017</td><td>5.621737e-07</td><td>1.007379e-01</td><td>24.525324</td><td>13.133312</td><td>21.283514</td><td>13.133312</td><td>22.0</td><td>1.197051</td><td>1.083836</td><td>0.094578</td><td>87.530771</td><td>177.533540</td><td>12.0058067919441,11.982313371367612</td><td>12.005806801526157,11.982435922282807</td><td>12.005699408600979,11.982313379376832</td><td>12.005699418134204,11.98243593029208</td></tr>\n",
       "<tr><td>2</td><td>1992.0895</td><td>32.1695</td><td>11.981617086713829,11.98281606806117</td><td>3.926230e-08</td><td>4.628056e-09</td><td>4.958549e-07</td><td>6.890828e-02</td><td>1.188999e-06</td><td>1.062749e-01</td><td>7.051059e-06</td><td>2.620153e-01</td><td>1.039256e-05</td><td>3.861844e-01</td><td>24.661613</td><td>12.857300</td><td>23.712047</td><td>12.378136</td><td>21.779364</td><td>11.425210</td><td>21.358194</td><td>11.425210</td><td>21.419803</td><td>12.857300</td><td>20.470237</td><td>12.378136</td><td>18.537554</td><td>11.425210</td><td>18.116384</td><td>11.425210</td><td>2.3979</td><td>5.9303</td><td>14.2200</td><td>True</td><td>0.474445</td><td>0.342352</td><td>16</td><td>120.235709</td><td>2.728872e-05</td><td>5.204461e-01</td><td>20.310042</td><td>10.701038</td><td>17.068232</td><td>10.701038</td><td>391.0</td><td>5.664955</td><td>2.508591</td><td>0.557174</td><td>88.311991</td><td>178.314760</td><td>11.981770817951407,11.98252423206525</td><td>11.981770811990497,11.983066957534795</td><td>11.981430770452166,11.982524228316548</td><td>11.981430763806562,11.98306695378518</td></tr>\n",
       "<tr><td>3</td><td>641.3162</td><td>29.4006</td><td>12.005792220467193,11.982766822063992</td><td>4.141259e-09</td><td>6.451671e-10</td><td>7.967715e-08</td><td>3.446659e-02</td><td>1.591507e-07</td><td>4.994670e-02</td><td>5.417385e-07</td><td>1.081500e-01</td><td>7.984683e-07</td><td>1.594023e-01</td><td>26.646666</td><td>14.090164</td><td>25.895479</td><td>13.741749</td><td>24.565526</td><td>13.250598</td><td>24.144356</td><td>13.250598</td><td>23.404855</td><td>14.090164</td><td>22.653669</td><td>13.741749</td><td>21.323716</td><td>13.250598</td><td>20.902546</td><td>13.250598</td><td>1.9974</td><td>3.4039</td><td>6.7992</td><td>False</td><td>0.492777</td><td>0.482057</td><td>1</td><td>22.579017</td><td>1.115645e-06</td><td>1.435246e-01</td><td>23.781185</td><td>12.773509</td><td>20.539374</td><td>12.773509</td><td>65.0</td><td>3.242335</td><td>1.334417</td><td>0.588439</td><td>-85.339023</td><td>4.663746</td><td>12.005842612444425,11.98264600688755</td><td>12.005842633012332,11.982908615992736</td><td>12.005717331722854,11.982646016243692</td><td>12.005717352168721,11.982908625348918</td></tr>\n",
       "<tr><td>4</td><td>1264.0583</td><td>33.1830</td><td>11.994646849123336,11.982833652910818</td><td>5.429091e-10</td><td>1.706303e-10</td><td>2.507749e-07</td><td>4.685653e-02</td><td>4.481569e-07</td><td>6.486333e-02</td><td>7.067930e-07</td><td>1.107354e-01</td><td>1.041742e-06</td><td>1.632129e-01</td><td>25.401790</td><td>13.178721</td><td>24.771425</td><td>12.901430</td><td>24.276769</td><td>12.987492</td><td>23.855599</td><td>12.987492</td><td>22.159980</td><td>13.178721</td><td>21.529615</td><td>12.901430</td><td>21.034959</td><td>12.987492</td><td>20.613789</td><td>12.987492</td><td>1.7871</td><td>1.5771</td><td>2.8184</td><td>False</td><td>0.625299</td><td>0.105966</td><td>6</td><td>27.598529</td><td>7.025991e-07</td><td>9.681875e-02</td><td>24.283231</td><td>12.848138</td><td>21.041421</td><td>12.848138</td><td>23.0</td><td>1.192208</td><td>1.097619</td><td>0.079339</td><td>73.928222</td><td>163.930991</td><td>11.99469263322873,11.982786679911403</td><td>11.99469263775769,11.982909230828401</td><td>11.994585249695314,11.982786683690263</td><td>11.994585254175451,11.982909234607252</td></tr>\n",
       "<tr><td>5</td><td>425.5023</td><td>43.0880</td><td>12.009654717780395,11.98300613510907</td><td>1.542012e-09</td><td>2.935529e-10</td><td>1.068504e-07</td><td>3.664519e-02</td><td>1.866867e-07</td><td>5.129863e-02</td><td>3.391258e-07</td><td>9.968318e-02</td><td>4.998375e-07</td><td>1.469230e-01</td><td>26.328060</td><td>13.838106</td><td>25.722216</td><td>13.597485</td><td>25.074098</td><td>13.670656</td><td>24.652928</td><td>13.670656</td><td>23.086250</td><td>13.838106</td><td>22.480406</td><td>13.597485</td><td>21.832288</td><td>13.670656</td><td>21.411118</td><td>13.670656</td><td>1.7472</td><td>1.8166</td><td>3.1738</td><td>False</td><td>0.540356</td><td>-0.254174</td><td>11</td><td>47.479233</td><td>3.150814e-07</td><td>7.313805e-02</td><td>25.153943</td><td>13.414306</td><td>21.912133</td><td>13.414306</td><td>16.0</td><td>1.100413</td><td>0.947791</td><td>0.138694</td><td>-89.778197</td><td>0.224573</td><td>12.009690549456366,11.98296082334762</td><td>12.00969055918308,11.98306586698872</td><td>12.009601063124201,11.982960831256905</td><td>12.00960107281606,11.983065874898005</td></tr>\n",
       "<tr><td>6</td><td>1286.6027</td><td>49.1024</td><td>11.994243375619059,11.98311237245776</td><td>4.280709e-09</td><td>3.510373e-10</td><td>1.975876e-07</td><td>4.365582e-02</td><td>3.753329e-07</td><td>6.191545e-02</td><td>9.561142e-07</td><td>1.201629e-01</td><td>1.409217e-06</td><td>1.771081e-01</td><td>25.660601</td><td>13.360711</td><td>24.963958</td><td>13.043463</td><td>23.948726</td><td>12.748161</td><td>23.527556</td><td>12.748161</td><td>22.418791</td><td>13.360711</td><td>21.722148</td><td>13.043463</td><td>20.706915</td><td>12.748161</td><td>20.285745</td><td>12.748161</td><td>1.8996</td><td>2.5474</td><td>4.8389</td><td>False</td><td>0.519985</td><td>-0.321328</td><td>4</td><td>27.598529</td><td>1.416258e-06</td><td>1.472528e-01</td><td>23.522144</td><td>12.542313</td><td>20.280334</td><td>12.542313</td><td>60.0</td><td>2.114374</td><td>1.612762</td><td>0.237239</td><td>-58.666802</td><td>31.335967</td><td>11.994316799578037,11.98303179479273</td><td>11.994316805803878,11.983206867531768</td><td>11.994155724131565,11.983031800231062</td><td>11.994155730252785,11.983206872970085</td></tr>\n",
       "<tr><td>7</td><td>1780.0098</td><td>49.4971</td><td>11.98541273268937,11.98311944264747</td><td>3.302111e-10</td><td>1.433478e-10</td><td>5.926796e-08</td><td>3.238952e-02</td><td>1.010480e-07</td><td>4.575262e-02</td><td>1.479354e-07</td><td>9.358197e-02</td><td>2.180420e-07</td><td>1.379305e-01</td><td>26.967950</td><td>14.343963</td><td>26.388680</td><td>14.139723</td><td>25.974819</td><td>14.502802</td><td>25.553649</td><td>14.502802</td><td>23.726140</td><td>14.343963</td><td>23.146870</td><td>14.139723</td><td>22.733009</td><td>14.502802</td><td>22.311839</td><td>14.502802</td><td>1.7049</td><td>1.4640</td><td>2.4960</td><td>False</td><td>0.600777</td><td>0.100936</td><td>15</td><td>106.035483</td><td>1.030702e-07</td><td>4.412342e-02</td><td>26.367167</td><td>14.078843</td><td>23.125357</td><td>14.078843</td><td>6.0</td><td>0.778588</td><td>0.499986</td><td>0.357830</td><td>0.224855</td><td>90.227624</td><td>11.985439753079776,11.983101986468878</td><td>11.985439753217815,11.98315450828952</td><td>11.985368163976819,11.98310198664461</td><td>11.9853681641009,11.983154508465221</td></tr>\n",
       "<tr><td>8</td><td>1597.1630</td><td>58.3217</td><td>11.98868519340696,11.98327391147348</td><td>3.255539e-09</td><td>4.271665e-10</td><td>1.565070e-06</td><td>1.093412e-01</td><td>2.744923e-06</td><td>1.445118e-01</td><td>4.634134e-06</td><td>1.998385e-01</td><td>6.830249e-06</td><td>2.945420e-01</td><td>23.413665</td><td>12.110641</td><td>22.803675</td><td>11.803454</td><td>22.235079</td><td>11.586802</td><td>21.813909</td><td>11.586802</td><td>20.171855</td><td>12.110641</td><td>19.561864</td><td>11.803454</td><td>18.993269</td><td>11.586802</td><td>18.572099</td><td>11.586802</td><td>1.7539</td><td>1.6883</td><td>2.9610</td><td>False</td><td>0.606690</td><td>0.162780</td><td>18</td><td>96.648779</td><td>5.533702e-06</td><td>2.343532e-01</td><td>22.042461</td><td>11.567164</td><td>18.800651</td><td>11.567164</td><td>82.0</td><td>1.680309</td><td>1.678245</td><td>0.001228</td><td>-34.996834</td><td>55.005935</td><td>11.988768647716832,11.983189494604174</td><td>11.988768650601322,11.983382074615534</td><td>11.988571777615634,11.983189497366688</td><td>11.988571780359472,11.983382077377948</td></tr>\n",
       "<tr><td>9</td><td>600.9019</td><td>66.4202</td><td>12.006515577178364,11.983414877979234</td><td>5.970157e-09</td><td>2.799273e-10</td><td>1.314625e-07</td><td>3.966770e-02</td><td>2.509744e-07</td><td>5.672324e-02</td><td>6.828956e-07</td><td>1.148658e-01</td><td>1.006520e-06</td><td>1.693007e-01</td><td>26.102995</td><td>13.699091</td><td>25.400926</td><td>13.385334</td><td>24.314114</td><td>13.064598</td><td>23.892944</td><td>13.064598</td><td>22.861185</td><td>13.699091</td><td>22.159116</td><td>13.385334</td><td>21.072304</td><td>13.064598</td><td>20.651134</td><td>13.064598</td><td>1.9091</td><td>2.7210</td><td>5.1946</td><td>False</td><td>0.550346</td><td>-0.120217</td><td>3</td><td>54.806547</td><td>1.208125e-06</td><td>1.444471e-01</td><td>23.694720</td><td>12.694001</td><td>20.452910</td><td>12.694001</td><td>62.0</td><td>2.112425</td><td>1.788036</td><td>0.153563</td><td>19.417737</td><td>109.420506</td><td>12.006594353572826,11.98334624052995</td><td>12.006594366353031,11.983503805993864</td><td>12.006415380649162,11.983346254356004</td><td>12.006415393324746,11.983503819820008</td></tr>\n",
       "<tr><td>...</td><td>...</td><td>...</td><td>...</td><td>...</td><td>...</td><td>...</td><td>...</td><td>...</td><td>...</td><td>...</td><td>...</td><td>...</td><td>...</td><td>...</td><td>...</td><td>...</td><td>...</td><td>...</td><td>...</td><td>...</td><td>...</td><td>...</td><td>...</td><td>...</td><td>...</td><td>...</td><td>...</td><td>...</td><td>...</td><td>...</td><td>...</td><td>...</td><td>...</td><td>...</td><td>...</td><td>...</td><td>...</td><td>...</td><td>...</td><td>...</td><td>...</td><td>...</td><td>...</td><td>...</td><td>...</td><td>...</td><td>...</td><td>...</td><td>...</td><td>...</td><td>...</td><td>...</td><td>...</td></tr>\n",
       "<tr><td>333</td><td>1736.7451</td><td>2088.5903</td><td>11.986187245845814,12.018818405671984</td><td>2.273170e-09</td><td>3.140043e-10</td><td>3.729276e-07</td><td>8.032917e-02</td><td>6.519420e-07</td><td>1.090823e-01</td><td>1.164127e-06</td><td>1.814168e-01</td><td>1.715806e-06</td><td>2.673902e-01</td><td>24.970939</td><td>13.333127</td><td>24.364478</td><td>13.058870</td><td>23.734999</td><td>12.981700</td><td>23.313829</td><td>12.981700</td><td>21.729129</td><td>13.333127</td><td>21.122668</td><td>13.058870</td><td>20.493189</td><td>12.981700</td><td>20.072019</td><td>12.981700</td><td>1.7482</td><td>1.7856</td><td>3.1216</td><td>False</td><td>0.562189</td><td>0.321459</td><td>339</td><td>88.062973</td><td>1.277275e-06</td><td>1.861119e-01</td><td>23.634289</td><td>12.908732</td><td>20.392479</td><td>12.908732</td><td>38.0</td><td>1.533729</td><td>1.280282</td><td>0.165249</td><td>-59.583803</td><td>30.418966</td><td>11.98624533070176,12.018746794664454</td><td>11.9862453315869,12.01890436012745</td><td>11.986102133558662,12.018746795388886</td><td>11.986102134360085,12.018904360851804</td></tr>\n",
       "<tr><td>334</td><td>1155.6741</td><td>2101.8037</td><td>11.996588220990827,12.019049489479809</td><td>6.332366e-09</td><td>7.159782e-10</td><td>2.406354e-06</td><td>1.999408e-01</td><td>4.280587e-06</td><td>2.657339e-01</td><td>7.606912e-06</td><td>3.657145e-01</td><td>1.121183e-05</td><td>5.390266e-01</td><td>22.946601</td><td>12.298868</td><td>22.321242</td><td>11.982376</td><td>21.696979</td><td>11.704857</td><td>21.275809</td><td>11.704857</td><td>19.704791</td><td>12.298868</td><td>19.079432</td><td>11.982376</td><td>18.455169</td><td>11.704857</td><td>18.033999</td><td>11.704857</td><td>1.7789</td><td>1.7771</td><td>3.1612</td><td>False</td><td>0.560209</td><td>0.133237</td><td>325</td><td>95.598635</td><td>9.383696e-06</td><td>4.325790e-01</td><td>21.469065</td><td>11.659252</td><td>18.227255</td><td>11.659252</td><td>103.0</td><td>1.933886</td><td>1.698870</td><td>0.121525</td><td>5.975802</td><td>95.978571</td><td>11.996698731739665,12.018956632193238</td><td>11.996698741068425,12.019166719480713</td><td>11.996448136534216,12.018956642724808</td><td>11.996448145667634,12.019166730012273</td></tr>\n",
       "<tr><td>335</td><td>425.6376</td><td>2111.9136</td><td>12.009655644789976,12.019225633702346</td><td>1.829915e-09</td><td>2.459441e-10</td><td>3.325384e-07</td><td>7.532823e-02</td><td>5.758668e-07</td><td>1.026315e-01</td><td>9.370148e-07</td><td>1.714273e-01</td><td>1.381066e-06</td><td>2.526667e-01</td><td>25.095395</td><td>13.387795</td><td>24.499195</td><td>13.127403</td><td>23.970634</td><td>13.155840</td><td>23.549464</td><td>13.155840</td><td>21.853585</td><td>13.387795</td><td>21.257385</td><td>13.127403</td><td>20.728824</td><td>13.155840</td><td>20.307654</td><td>13.155840</td><td>1.7317</td><td>1.6271</td><td>2.8178</td><td>False</td><td>0.589649</td><td>-0.038501</td><td>337</td><td>45.509565</td><td>9.611057e-07</td><td>1.543829e-01</td><td>23.943072</td><td>13.014577</td><td>20.701262</td><td>13.014577</td><td>25.0</td><td>1.232639</td><td>1.145480</td><td>0.070709</td><td>10.416162</td><td>100.418931</td><td>12.00971180367802,12.01918337308567</td><td>12.009711813414345,12.019288416726836</td><td>12.009586505975125,12.019183384175488</td><td>12.009586515662598,12.01928842781667</td></tr>\n",
       "<tr><td>336</td><td>1251.0185</td><td>2129.9847</td><td>11.994881607799023,12.019542929200899</td><td>2.968580e-10</td><td>2.692989e-10</td><td>1.209564e-07</td><td>7.931942e-02</td><td>1.296096e-07</td><td>1.000728e-01</td><td>1.362635e-07</td><td>1.587566e-01</td><td>2.008387e-07</td><td>2.339914e-01</td><td>26.193428</td><td>14.541879</td><td>26.118407</td><td>14.719199</td><td>26.064052</td><td>15.165882</td><td>25.642881</td><td>15.165882</td><td>22.951618</td><td>14.541879</td><td>22.876597</td><td>14.719199</td><td>22.822241</td><td>15.165882</td><td>22.401071</td><td>15.165882</td><td>1.0715</td><td>1.0513</td><td>1.1266</td><td>False</td><td>1.316913</td><td>0.000498</td><td>325</td><td>77.145172</td><td>1.301728e-07</td><td>9.445008e-02</td><td>26.113699</td><td>14.651706</td><td>22.871889</td><td>14.651706</td><td>5.0</td><td>0.598901</td><td>0.593505</td><td>0.009011</td><td>2.521857</td><td>92.524626</td><td>11.994908787143569,12.019516935286553</td><td>11.994908789788063,12.019586964381931</td><td>11.99483718836474,12.019516937862752</td><td>11.99483719099063,12.01958696695813</td></tr>\n",
       "<tr><td>337</td><td>465.5720</td><td>2133.7394</td><td>12.00894086669098,12.019607806422261</td><td>5.609777e-10</td><td>1.876156e-10</td><td>7.625194e-08</td><td>4.847140e-02</td><td>1.346133e-07</td><td>6.883140e-02</td><td>2.476960e-07</td><td>1.407552e-01</td><td>3.650791e-07</td><td>2.074591e-01</td><td>26.694373</td><td>14.508088</td><td>26.077280</td><td>14.271749</td><td>25.415203</td><td>14.386366</td><td>24.994032</td><td>14.386366</td><td>23.452563</td><td>14.508088</td><td>22.835470</td><td>14.271749</td><td>22.173392</td><td>14.386366</td><td>21.752222</td><td>14.386366</td><td>1.7654</td><td>1.8401</td><td>3.2484</td><td>False</td><td>0.528299</td><td>0.415146</td><td>342</td><td>31.863350</td><td>1.179590e-07</td><td>6.103174e-02</td><td>26.220672</td><td>14.284563</td><td>22.978862</td><td>14.284563</td><td>5.0</td><td>0.725695</td><td>0.460524</td><td>0.365403</td><td>71.181403</td><td>161.184172</td><td>12.008960053658242,12.019586106078842</td><td>12.008960059953791,12.019656135172827</td><td>12.008906354562193,12.019586110694998</td><td>12.0089063608438,12.019656139789012</td></tr>\n",
       "<tr><td>338</td><td>1039.8202</td><td>2138.8247</td><td>11.99866200090652,12.019697531904596</td><td>-3.508994e-10</td><td>2.123893e-10</td><td>6.978101e-08</td><td>4.683435e-02</td><td>1.236119e-07</td><td>6.708154e-02</td><td>2.084023e-07</td><td>1.385666e-01</td><td>3.071641e-07</td><td>2.042333e-01</td><td>26.790657</td><td>14.567070</td><td>26.169849</td><td>14.336358</td><td>25.602744</td><td>14.556892</td><td>25.181574</td><td>14.556892</td><td>23.548847</td><td>14.567070</td><td>22.928039</td><td>14.336358</td><td>22.360934</td><td>14.556892</td><td>21.939764</td><td>14.556892</td><td>1.7714</td><td>1.6859</td><td>2.9865</td><td>False</td><td>0.649016</td><td>0.374711</td><td>334</td><td>121.625204</td><td>1.190738e-07</td><td>6.452083e-02</td><td>26.210459</td><td>14.334711</td><td>22.968649</td><td>14.334711</td><td>6.0</td><td>0.747618</td><td>0.567190</td><td>0.241337</td><td>46.875227</td><td>136.877997</td><td>11.998685630891028,12.019674339021623</td><td>11.998685634516892,12.019744368116925</td><td>11.998614032070218,12.019674342559131</td><td>11.99861403567748,12.019744371654435</td></tr>\n",
       "<tr><td>339</td><td>1667.5724</td><td>2143.0902</td><td>11.987425421444675,12.0197725401052</td><td>4.072355e-10</td><td>2.087182e-10</td><td>1.612735e-07</td><td>5.974656e-02</td><td>2.814535e-07</td><td>8.230087e-02</td><td>4.560135e-07</td><td>1.509720e-01</td><td>6.721183e-07</td><td>2.225176e-01</td><td>25.881092</td><td>13.921878</td><td>25.276483</td><td>13.664998</td><td>24.752556</td><td>13.799800</td><td>24.331386</td><td>13.799800</td><td>22.639282</td><td>13.921878</td><td>22.034673</td><td>13.664998</td><td>21.510746</td><td>13.799800</td><td>21.089576</td><td>13.799800</td><td>1.7452</td><td>1.6202</td><td>2.8276</td><td>False</td><td>0.579470</td><td>-0.081860</td><td>333</td><td>88.062973</td><td>4.253030e-07</td><td>1.133725e-01</td><td>24.828254</td><td>13.564527</td><td>21.586444</td><td>13.564527</td><td>16.0</td><td>1.064161</td><td>0.941674</td><td>0.115102</td><td>-89.169951</td><td>0.832819</td><td>11.98746251635889,12.019727192888658</td><td>11.987462517423394,12.019832236529963</td><td>11.987373017818161,12.019727193736923</td><td>11.987373018847782,12.019832237378198</td></tr>\n",
       "<tr><td>340</td><td>341.4819</td><td>2151.0742</td><td>12.01116207162929,12.019911092388108</td><td>3.200644e-09</td><td>2.815582e-10</td><td>1.411784e-07</td><td>5.725776e-02</td><td>2.672152e-07</td><td>8.166281e-02</td><td>6.753446e-07</td><td>1.618361e-01</td><td>9.953903e-07</td><td>2.385303e-01</td><td>26.025580</td><td>14.020168</td><td>25.332847</td><td>13.712911</td><td>24.326186</td><td>13.448880</td><td>23.905016</td><td>13.448880</td><td>22.783770</td><td>14.020168</td><td>22.091037</td><td>13.712911</td><td>21.084376</td><td>13.448880</td><td>20.663206</td><td>13.448880</td><td>1.8927</td><td>2.5273</td><td>4.7836</td><td>False</td><td>0.545108</td><td>-0.166549</td><td>331</td><td>70.498419</td><td>7.545145e-07</td><td>1.542746e-01</td><td>24.205831</td><td>13.276572</td><td>20.964021</td><td>13.276572</td><td>31.0</td><td>1.522250</td><td>1.312430</td><td>0.137835</td><td>-79.096618</td><td>10.906151</td><td>12.011215441478473,12.019848512043074</td><td>12.011215455241674,12.019988570229373</td><td>12.01109014346776,12.01984852380292</td><td>12.011090157165844,12.01998858198929</td></tr>\n",
       "<tr><td>341</td><td>1431.2778</td><td>2150.9796</td><td>11.991655030065928,12.01991059007976</td><td>0.000000e+00</td><td>2.286240e-10</td><td>1.849218e-07</td><td>6.083549e-02</td><td>3.314219e-07</td><td>8.404839e-02</td><td>4.946633e-07</td><td>nan</td><td>7.290842e-07</td><td>nan</td><td>25.732530</td><td>13.792926</td><td>25.099047</td><td>13.510375</td><td>24.664226</td><td>nan</td><td>24.243056</td><td>nan</td><td>22.490720</td><td>13.792926</td><td>21.857237</td><td>13.510375</td><td>21.422416</td><td>nan</td><td>21.001246</td><td>nan</td><td>1.7922</td><td>1.4925</td><td>2.6750</td><td>False</td><td>0.562535</td><td>-0.245988</td><td>319</td><td>157.672596</td><td>4.698836e-07</td><td>1.140398e-01</td><td>24.720024</td><td>13.462669</td><td>21.478214</td><td>13.462669</td><td>16.0</td><td>1.105064</td><td>0.911042</td><td>0.175575</td><td>-13.509843</td><td>76.492926</td><td>11.991704750861846,12.019867178207287</td><td>11.991704753126795,12.019954714575825</td><td>11.991597352554955,12.019867180841423</td><td>11.991597354785025,12.019954717209936</td></tr>\n",
       "<tr><td>342</td><td>489.0028</td><td>2155.3327</td><td>12.008521495819947,12.019985882075318</td><td>0.000000e+00</td><td>1.794631e-10</td><td>1.096100e-07</td><td>5.215254e-02</td><td>2.157372e-07</td><td>7.499211e-02</td><td>5.609621e-07</td><td>nan</td><td>8.268020e-07</td><td>nan</td><td>26.300375</td><td>14.193565</td><td>25.565187</td><td>13.852730</td><td>24.527666</td><td>nan</td><td>24.106496</td><td>nan</td><td>23.058564</td><td>14.193565</td><td>22.323377</td><td>13.852730</td><td>21.285856</td><td>nan</td><td>20.864686</td><td>nan</td><td>1.9682</td><td>2.6002</td><td>5.1178</td><td>False</td><td>0.628742</td><td>0.244485</td><td>337</td><td>31.863350</td><td>5.044442e-07</td><td>1.286711e-01</td><td>24.642967</td><td>13.516674</td><td>21.401157</td><td>13.516674</td><td>23.0</td><td>1.275297</td><td>1.221360</td><td>0.042294</td><td>-79.462102</td><td>10.540667</td><td>12.008566291253002,12.019936285162565</td><td>12.008566300542878,12.020041328803261</td><td>12.008458892921094,12.019936294234459</td><td>12.0084589021691,12.020041337875172</td></tr>\n",
       "</table></div>"
      ],
      "text/plain": [
       "<QTable length=342>\n",
       "label xcentroid ...              sky_bbox_ur             \n",
       "                ...                deg,deg               \n",
       "int64  float64  ...                SkyCoord              \n",
       "----- --------- ... -------------------------------------\n",
       "    1  643.0255 ...  12.005699418134204,11.98243593029208\n",
       "    2 1992.0895 ...  11.981430763806562,11.98306695378518\n",
       "    3  641.3162 ... 12.005717352168721,11.982908625348918\n",
       "    4 1264.0583 ... 11.994585254175451,11.982909234607252\n",
       "    5  425.5023 ...  12.00960107281606,11.983065874898005\n",
       "    6 1286.6027 ... 11.994155730252785,11.983206872970085\n",
       "    7 1780.0098 ...   11.9853681641009,11.983154508465221\n",
       "    8 1597.1630 ... 11.988571780359472,11.983382077377948\n",
       "    9  600.9019 ... 12.006415393324746,11.983503819820008\n",
       "  ...       ... ...                                   ...\n",
       "  333 1736.7451 ... 11.986102134360085,12.018904360851804\n",
       "  334 1155.6741 ... 11.996448145667634,12.019166730012273\n",
       "  335  425.6376 ...  12.009586515662598,12.01928842781667\n",
       "  336 1251.0185 ...   11.99483719099063,12.01958696695813\n",
       "  337  465.5720 ...   12.0089063608438,12.019656139789012\n",
       "  338 1039.8202 ...  11.99861403567748,12.019744371654435\n",
       "  339 1667.5724 ... 11.987373018847782,12.019832237378198\n",
       "  340  341.4819 ...  12.011090157165844,12.01998858198929\n",
       "  341 1431.2778 ... 11.991597354785025,12.019954717209936\n",
       "  342  489.0028 ...   12.0084589021691,12.020041337875172"
      ]
     },
     "execution_count": 29,
     "metadata": {},
     "output_type": "execute_result"
    }
   ],
   "source": [
    "source_cat"
   ]
  },
  {
   "cell_type": "markdown",
   "metadata": {},
   "source": [
    "Finally, let's overlay the source catalog on top of the mosaic image. In order to cut down on the number of spurious detections, we only show sources above a minimum flux limit. Another way to cut down on the number of spurious detections would be to change some of the `source_catalog` parameter values when calling the pipeline above."
   ]
  },
  {
   "cell_type": "code",
   "execution_count": 30,
   "metadata": {
    "execution": {
     "iopub.execute_input": "2022-07-06T14:08:22.598518Z",
     "iopub.status.busy": "2022-07-06T14:08:22.598068Z",
     "iopub.status.idle": "2022-07-06T14:08:23.059233Z",
     "shell.execute_reply": "2022-07-06T14:08:23.058189Z"
    }
   },
   "outputs": [
    {
     "data": {
      "image/png": "[encoded data removed]",
      "text/plain": [
       "<Figure size 640x640 with 2 Axes>"
      ]
     },
     "metadata": {
      "needs_background": "light"
     },
     "output_type": "display_data"
    }
   ],
   "source": [
    "overlay_catalog(mosaic.data, source_cat, flux_limit=5e-7, vmin=0, vmax=10,\n",
    "                title='Final mosaic with source catalog')"
   ]
  },
  {
   "cell_type": "markdown",
   "metadata": {},
   "source": [
    "[Top of Page](#title_ID)"
   ]
  },
  {
   "cell_type": "markdown",
   "metadata": {},
   "source": [
    "<a id='image3_step_by_step'></a>\n",
    "# Run the individual pipeline steps"
   ]
  },
  {
   "cell_type": "markdown",
   "metadata": {},
   "source": [
    "In the sections below we run the steps contained within calwebb_image3 one at a time, in order to check the outputs for each step."
   ]
  },
  {
   "cell_type": "markdown",
   "metadata": {},
   "source": [
    "<a id='tweakreg'></a>\n",
    "### The `WCS refinement` step\n",
    "\n",
    "#### Summary\n",
    "\n",
    "This step, called the `tweakreg` step, mimics the behavior of the tweakreg step of Astrodrizzle. Given a series of images, it identifies point sources that are common to two or more images, and uses those sources' locations to correct the WCS of the input images. The tweaks are such that when the images are later combined into a final mosiac image, the WCS of the input images will align on the sky. \n",
    "\n",
    "#### Documentation\n",
    "\n",
    "[Full description](https://jwst-pipeline.readthedocs.io/en/stable/jwst/tweakreg/README.html) of the step.\n",
    "\n",
    "#### Arguments\n",
    "\n",
    "There are many [optional input arguments](https://jwst-pipeline.readthedocs.io/en/stable/jwst/tweakreg/README.html#step-arguments).\n",
    "\n",
    "#### Reference files used\n",
    "\n",
    "This step does not use any reference files.\n",
    "\n",
    "#### Parameter reference files\n",
    "\n",
    "There are filter-dependent parameter reference files in CRDS for this step. "
   ]
  },
  {
   "cell_type": "markdown",
   "metadata": {},
   "source": [
    "#### Run the step"
   ]
  },
  {
   "cell_type": "markdown",
   "metadata": {},
   "source": [
    "Since we ran the step above and saved the outputs, we'll skip this part and just load the outputs. "
   ]
  },
  {
   "cell_type": "markdown",
   "metadata": {},
   "source": [
    "Let's look at what parameters are available to be set."
   ]
  },
  {
   "cell_type": "code",
   "execution_count": 31,
   "metadata": {
    "execution": {
     "iopub.execute_input": "2022-07-06T14:08:23.070295Z",
     "iopub.status.busy": "2022-07-06T14:08:23.069973Z",
     "iopub.status.idle": "2022-07-06T14:08:23.076462Z",
     "shell.execute_reply": "2022-07-06T14:08:23.075296Z"
    }
   },
   "outputs": [
    {
     "name": "stdout",
     "output_type": "stream",
     "text": [
      "\n",
      "        save_catalogs = boolean(default=False) # Write out catalogs?\n",
      "        catalog_format = string(default='ecsv') # Catalog output file format\n",
      "        kernel_fwhm = float(default=2.5) # Gaussian kernel FWHM in pixels\n",
      "        snr_threshold = float(default=10.0) # SNR threshold above the bkg\n",
      "        brightest = integer(default=200) # Keep top ``brightest`` objects\n",
      "        peakmax = float(default=None) # Filter out objects with pixel values >= ``peakmax``\n",
      "        enforce_user_order = boolean(default=False) # Align images in user specified order?\n",
      "        expand_refcat = boolean(default=False) # Expand reference catalog with new sources?\n",
      "        minobj = integer(default=15) # Minimum number of objects acceptable for matching\n",
      "        searchrad = float(default=2.0) # The search radius in arcsec for a match\n",
      "        use2dhist = boolean(default=True) # Use 2d histogram to find initial offset?\n",
      "        separation = float(default=1.0) # Minimum object separation in arcsec\n",
      "        tolerance = float(default=0.7) # Matching tolerance for xyxymatch in arcsec\n",
      "        xoffset = float(default=0.0), # Initial guess for X offset in arcsec\n",
      "        yoffset = float(default=0.0) # Initial guess for Y offset in arcsec\n",
      "        fitgeometry = option('shift', 'rshift', 'rscale', 'general', default='rshift') # Fitting geometry\n",
      "        nclip = integer(min=0, default=3) # Number of clipping iterations in fit\n",
      "        sigma = float(min=0.0, default=3.0) # Clipping limit in sigma units\n",
      "        align_to_gaia = boolean(default=False)  # Align to GAIA catalog\n",
      "        gaia_catalog = option('GAIADR2', 'GAIADR1', default='GAIADR2')\n",
      "        min_gaia = integer(min=0, default=5) # Min number of GAIA sources needed\n",
      "        save_gaia_catalog = boolean(default=False)  # Write out GAIA catalog as a separate product\n",
      "        output_use_model = boolean(default=True)  # When saving use `DataModel.meta.filename`\n",
      "    \n"
     ]
    }
   ],
   "source": [
    "print(TweakRegStep.spec)"
   ]
  },
  {
   "cell_type": "code",
   "execution_count": 32,
   "metadata": {
    "execution": {
     "iopub.execute_input": "2022-07-06T14:08:23.079682Z",
     "iopub.status.busy": "2022-07-06T14:08:23.079246Z",
     "iopub.status.idle": "2022-07-06T14:08:23.083900Z",
     "shell.execute_reply": "2022-07-06T14:08:23.082855Z"
    },
    "scrolled": true
   },
   "outputs": [],
   "source": [
    "# # Create instance, set parameters, and run\n",
    "# tweakreg = TweakRegStep()\n",
    "# tweakreg.kernel_fwhm = 2.302   # Gaussian FWHM in pixels\n",
    "# tweakreg.snr_threshold = 10.0  # SNR threshold above background\n",
    "# tweakreg.brightest = 100       # Number of brightest objects to keep\n",
    "# tweakreg.save_results = True\n",
    "# tweak = tweakreg.run(asn_file)"
   ]
  },
  {
   "cell_type": "markdown",
   "metadata": {},
   "source": [
    "The step saves the results in new fits files with updated WCS information. Let's look at the difference in the WCS before and after the step by loading the WCS objects, and calculating the RA, Dec at one pixel."
   ]
  },
  {
   "cell_type": "code",
   "execution_count": 33,
   "metadata": {
    "execution": {
     "iopub.execute_input": "2022-07-06T14:08:23.086953Z",
     "iopub.status.busy": "2022-07-06T14:08:23.086540Z",
     "iopub.status.idle": "2022-07-06T14:08:23.091195Z",
     "shell.execute_reply": "2022-07-06T14:08:23.090207Z"
    }
   },
   "outputs": [],
   "source": [
    "cal_file = 'jw98765001001_01101_00003_nrcb5_cal.fits'\n",
    "tweak_file = 'jw98765001001_01101_00003_nrcb5_tweakreg.fits'"
   ]
  },
  {
   "cell_type": "code",
   "execution_count": 34,
   "metadata": {
    "execution": {
     "iopub.execute_input": "2022-07-06T14:08:23.093994Z",
     "iopub.status.busy": "2022-07-06T14:08:23.093777Z",
     "iopub.status.idle": "2022-07-06T14:08:23.677403Z",
     "shell.execute_reply": "2022-07-06T14:08:23.676303Z"
    }
   },
   "outputs": [
    {
     "name": "stdout",
     "output_type": "stream",
     "text": [
      "<class 'jwst.datamodels.image.ImageModel'>\n"
     ]
    },
    {
     "name": "stdout",
     "output_type": "stream",
     "text": [
      "<class 'jwst.datamodels.image.ImageModel'>\n"
     ]
    }
   ],
   "source": [
    "# Open the files using datamodels\n",
    "#with datamodels.open(cal_file) as cal_data:\n",
    "cal_data = datamodels.open(cal_file)\n",
    "print(type(cal_data))\n",
    "#with datamodels.open(tweak_file) as tweak_data:\n",
    "tweak_data = datamodels.open(tweak_file)\n",
    "print(type(tweak_data))"
   ]
  },
  {
   "cell_type": "code",
   "execution_count": 35,
   "metadata": {
    "execution": {
     "iopub.execute_input": "2022-07-06T14:08:23.682473Z",
     "iopub.status.busy": "2022-07-06T14:08:23.682207Z",
     "iopub.status.idle": "2022-07-06T14:08:23.690847Z",
     "shell.execute_reply": "2022-07-06T14:08:23.689843Z"
    }
   },
   "outputs": [],
   "source": [
    "cal_detector_to_world = cal_data.meta.wcs.get_transform('detector', 'world')\n",
    "run_detector_to_world = tweak_data.meta.wcs.get_transform('detector', 'world')"
   ]
  },
  {
   "cell_type": "markdown",
   "metadata": {},
   "source": [
    "Let's look at RA, Dec in the center of the detector."
   ]
  },
  {
   "cell_type": "code",
   "execution_count": 36,
   "metadata": {
    "execution": {
     "iopub.execute_input": "2022-07-06T14:08:23.694859Z",
     "iopub.status.busy": "2022-07-06T14:08:23.694650Z",
     "iopub.status.idle": "2022-07-06T14:08:23.699064Z",
     "shell.execute_reply": "2022-07-06T14:08:23.698066Z"
    }
   },
   "outputs": [],
   "source": [
    "x, y = (1024, 1024)"
   ]
  },
  {
   "cell_type": "code",
   "execution_count": 37,
   "metadata": {
    "execution": {
     "iopub.execute_input": "2022-07-06T14:08:23.702379Z",
     "iopub.status.busy": "2022-07-06T14:08:23.701694Z",
     "iopub.status.idle": "2022-07-06T14:08:23.711654Z",
     "shell.execute_reply": "2022-07-06T14:08:23.710623Z"
    }
   },
   "outputs": [
    {
     "name": "stdout",
     "output_type": "stream",
     "text": [
      "(11.998691099172577, 12.000415018412108)\n",
      "(11.998691062295185, 12.000414794696594)\n"
     ]
    }
   ],
   "source": [
    "print(cal_detector_to_world(x, y))\n",
    "print(run_detector_to_world(x, y))"
   ]
  },
  {
   "cell_type": "code",
   "execution_count": 38,
   "metadata": {
    "execution": {
     "iopub.execute_input": "2022-07-06T14:08:23.715011Z",
     "iopub.status.busy": "2022-07-06T14:08:23.714626Z",
     "iopub.status.idle": "2022-07-06T14:08:23.729692Z",
     "shell.execute_reply": "2022-07-06T14:08:23.728624Z"
    }
   },
   "outputs": [
    {
     "name": "stdout",
     "output_type": "stream",
     "text": [
      "Shift in RA, Dec is (-0.0001, -0.0008) arcsec\n",
      "This is (-0.002, -0.013) pixels.\n"
     ]
    }
   ],
   "source": [
    "# What is the shift in the WCS before/after this step?\n",
    "delta_ra = run_detector_to_world(x, y)[0] - cal_detector_to_world(x, y)[0]\n",
    "delta_dec = run_detector_to_world(x, y)[1] - cal_detector_to_world(x, y)[1]\n",
    "print('Shift in RA, Dec is ({:.4f}, {:.4f}) arcsec'.format(delta_ra * 3600., delta_dec * 3600.))\n",
    "print('This is ({:.3f}, {:.3f}) pixels.'.format(delta_ra * 3600. / .062, delta_dec * 3600. / 0.062))"
   ]
  },
  {
   "cell_type": "markdown",
   "metadata": {},
   "source": [
    "This extremely small shift is expected, since the simulated data used in this exercise has no jitter or offsets added to it.\n",
    "\n",
    "Just for fun, let's look at the contents of the WCS object in one of the files saved by the tweakreg step."
   ]
  },
  {
   "cell_type": "code",
   "execution_count": 39,
   "metadata": {
    "execution": {
     "iopub.execute_input": "2022-07-06T14:08:23.733549Z",
     "iopub.status.busy": "2022-07-06T14:08:23.733327Z",
     "iopub.status.idle": "2022-07-06T14:08:23.752422Z",
     "shell.execute_reply": "2022-07-06T14:08:23.751436Z"
    }
   },
   "outputs": [
    {
     "data": {
      "text/plain": [
       "<WCS(output_frame=world, input_frame=detector, forward_transform=Model: CompoundModel\n",
       "Inputs: ('x0', 'x1')\n",
       "Outputs: ('lon', 'lat')\n",
       "Model set size: 1\n",
       "Expression: [0] & [1] | [2] & [3] | [4] | [5] & [6] | [7] | [8] & [9] | [10] & [11] | [12] | [13] & [14] | [15] | [16] | [17] / [18] | [19] | [20] | [21] | [22] & [23] | [24] | [25] | [26] & [27] | [28] & [29] | [30] | [31] | [32]\n",
       "Components: \n",
       "    [0]: <Shift(offset=1.)>\n",
       "\n",
       "    [1]: <Shift(offset=1.)>\n",
       "\n",
       "    [2]: <Shift(offset=-1024.5)>\n",
       "\n",
       "    [3]: <Shift(offset=-1024.5)>\n",
       "\n",
       "    [4]: <Mapping((0, 1, 0, 1))>\n",
       "\n",
       "    [5]: <Polynomial2D(5, c0_0=-0., c1_0=0.06287861, c2_0=-0.00000011, c3_0=0., c4_0=-0., c5_0=0., c0_1=0., c0_2=0.0000001, c0_3=0., c0_4=0., c0_5=-0., c1_1=-0.00000072, c1_2=0., c1_3=-0., c1_4=0., c2_1=0., c2_2=0., c2_3=-0., c3_1=-0., c3_2=0., c4_1=-0.)>\n",
       "\n",
       "    [6]: <Polynomial2D(5, c0_0=0., c1_0=0.00008446, c2_0=0.00000031, c3_0=0., c4_0=0., c5_0=-0., c0_1=0.06317477, c0_2=-0.00000042, c0_3=0., c0_4=-0., c0_5=0., c1_1=-0.00000023, c1_2=0., c1_3=-0., c1_4=-0., c2_1=0., c2_2=0., c2_3=0., c3_1=-0., c3_2=-0., c4_1=0.)>\n",
       "\n",
       "    [7]: <Mapping((0, 1, 0, 1))>\n",
       "\n",
       "    [8]: <Polynomial2D(1, c0_0=0., c1_0=-0.99999999, c0_1=0.00014063)>\n",
       "\n",
       "    [9]: <Polynomial2D(1, c0_0=0., c1_0=0.00014063, c0_1=0.99999999)>\n",
       "\n",
       "    [10]: <Shift(offset=-89.596514)>\n",
       "\n",
       "    [11]: <Shift(offset=-491.474153)>\n",
       "\n",
       "    [12]: <Identity(2)>\n",
       "\n",
       "    [13]: <Scale(factor=0.00027778, name='arcsec_to_deg_1D')>\n",
       "\n",
       "    [14]: <Scale(factor=0.00027778, name='arcsec_to_deg_1D')>\n",
       "\n",
       "    [15]: <SphericalToCartesian(name='s2c')>\n",
       "\n",
       "    [16]: <RotationSequence3D(angles=[ -0.02488792,   0.1365206 , 359.99471239], name='det_to_optic_axis')>\n",
       "\n",
       "    [17]: <Mapping((0, 1, 2), name='xyz')>\n",
       "\n",
       "    [18]: <Mapping((0, 0, 0), name='xxx')>\n",
       "\n",
       "    [19]: <Mapping((1, 2), name='xtyt')>\n",
       "\n",
       "    [20]: <AffineTransformation2D(matrix=[[ 1.        , -0.00002912], [ 0.00002912,  1.        ]], translation=[-0., -0.], name='tp_affine')>\n",
       "\n",
       "    [21]: <Mapping((0, 0, 1), name='xtyt2xyz')>\n",
       "\n",
       "    [22]: <Const1D(amplitude=1., name='one')>\n",
       "\n",
       "    [23]: <Identity(2, name='I(2D)')>\n",
       "\n",
       "    [24]: <RotationSequence3D(angles=[-359.99471239,   -0.1365206 ,    0.02488792], name='optic_axis_to_det')>\n",
       "\n",
       "    [25]: <CartesianToSpherical(name='c2s')>\n",
       "\n",
       "    [26]: <Scale(factor=3600., name='deg_to_arcsec_1D')>\n",
       "\n",
       "    [27]: <Scale(factor=3600., name='deg_to_arcsec_1D')>\n",
       "\n",
       "    [28]: <Scale(factor=0.00027778)>\n",
       "\n",
       "    [29]: <Scale(factor=0.00027778)>\n",
       "\n",
       "    [30]: <SphericalToCartesian()>\n",
       "\n",
       "    [31]: <RotationSequence3D(angles=[ -0.02488792,   0.1365206 , 359.99471239,  12.00040623, -11.99870003])>\n",
       "\n",
       "    [32]: <CartesianToSpherical()>\n",
       "Parameters:\n",
       "    offset_0 offset_1 ...                  angles_31                 \n",
       "    -------- -------- ... -------------------------------------------\n",
       "         1.0      1.0 ... -0.024887920555555554 .. -11.99870002691755)>"
      ]
     },
     "execution_count": 39,
     "metadata": {},
     "output_type": "execute_result"
    }
   ],
   "source": [
    "tweak_data.meta.wcs"
   ]
  },
  {
   "cell_type": "markdown",
   "metadata": {},
   "source": [
    "[Top of Page](#title_ID)"
   ]
  },
  {
   "cell_type": "markdown",
   "metadata": {},
   "source": [
    "<a id='skymatch'></a>\n",
    "## The `Sky matching` step\n",
    "\n",
    "#### Summary\n",
    "\n",
    "This step calculates sky values in overlapping regions of the input images. Sky values can be computed for each image separately or in a way that matches the sky levels amongst the collection of images so as to minimize their differences.\n",
    "\n",
    "#### Documentation\n",
    "\n",
    "[Full description](https://jwst-pipeline.readthedocs.io/en/stable/jwst/skymatch/README.html) of the step. Note that there are several possible methods for calculating the sky values. \n",
    "\n",
    "#### Arguments\n",
    "\n",
    "There are [several optional arguments](https://jwst-pipeline.readthedocs.io/en/stable/jwst/skymatch/README.html#step-arguments) for this step.\n",
    "\n",
    "#### Reference files used\n",
    "\n",
    "This step does not use any reference files.\n",
    "\n",
    "#### Parameter reference files\n",
    "There are currently no parameter reference files for this step"
   ]
  },
  {
   "cell_type": "markdown",
   "metadata": {},
   "source": [
    "#### Run the step"
   ]
  },
  {
   "cell_type": "markdown",
   "metadata": {},
   "source": [
    "Since we ran the step above and saved the outputs, we'll skip this part and just load the outputs. "
   ]
  },
  {
   "cell_type": "markdown",
   "metadata": {},
   "source": [
    "        The easiest way to call this step is to supply the output object from the tweakreg call above. The other option would be to supply an association file. However, since the tweakreg step saved modified files, we would have to create a new association file that contains these new files, and then supply that association file in the call to skymatch. This pattern is the same for all of the steps in calwebb_image3, since all steps now expect association files for inputs, rather than individual files. \n",
    "\n",
    "        To create a new association file, follow the steps outlined in the [Creating your own association files](#diy_association) section above. Keep in mind that you could also simply make a copy of an existing association file and update the member filenames."
   ]
  },
  {
   "cell_type": "markdown",
   "metadata": {},
   "source": [
    "Let's also see what parameters are available to be set."
   ]
  },
  {
   "cell_type": "code",
   "execution_count": 40,
   "metadata": {
    "execution": {
     "iopub.execute_input": "2022-07-06T14:08:23.758535Z",
     "iopub.status.busy": "2022-07-06T14:08:23.758291Z",
     "iopub.status.idle": "2022-07-06T14:08:23.763989Z",
     "shell.execute_reply": "2022-07-06T14:08:23.762914Z"
    }
   },
   "outputs": [
    {
     "name": "stdout",
     "output_type": "stream",
     "text": [
      "\n",
      "        # General sky matching parameters:\n",
      "        skymethod = option('local', 'global', 'match', 'global+match', default='match') # sky computation method\n",
      "        match_down = boolean(default=True) # adjust sky to lowest measured value?\n",
      "        subtract = boolean(default=False) # subtract computed sky from image data?\n",
      "\n",
      "        # Image's bounding polygon parameters:\n",
      "        stepsize = integer(default=None) # Max vertex separation\n",
      "\n",
      "        # Sky statistics parameters:\n",
      "        skystat = option('median', 'midpt', 'mean', 'mode', default='mode') # sky statistics\n",
      "        dqbits = string(default='~DO_NOT_USE+NON_SCIENCE') # \"good\" DQ bits\n",
      "        lower = float(default=None) # Lower limit of \"good\" pixel values\n",
      "        upper = float(default=None) # Upper limit of \"good\" pixel values\n",
      "        nclip = integer(min=0, default=5) # number of sky clipping iterations\n",
      "        lsigma = float(min=0.0, default=4.0) # Lower clipping limit, in sigma\n",
      "        usigma = float(min=0.0, default=4.0) # Upper clipping limit, in sigma\n",
      "        binwidth = float(min=0.0, default=0.1) # Bin width for 'mode' and 'midpt' `skystat`, in sigma\n",
      "    \n"
     ]
    }
   ],
   "source": [
    "print(SkyMatchStep.spec)"
   ]
  },
  {
   "cell_type": "code",
   "execution_count": 41,
   "metadata": {
    "execution": {
     "iopub.execute_input": "2022-07-06T14:08:23.767129Z",
     "iopub.status.busy": "2022-07-06T14:08:23.766890Z",
     "iopub.status.idle": "2022-07-06T14:08:23.771280Z",
     "shell.execute_reply": "2022-07-06T14:08:23.770282Z"
    },
    "scrolled": true
   },
   "outputs": [],
   "source": [
    "# skymatch = SkyMatchStep()\n",
    "# skymatch.skymethod = 'global+match' # this is the default. Set here as an example\n",
    "# skymatch.save_results = True\n",
    "# sky = skymatch.run(tweak)"
   ]
  },
  {
   "cell_type": "markdown",
   "metadata": {},
   "source": [
    "If you request to save the output from this step, two new header keywords are added to the primary header of the outputs. In each file, the `BKGLEVEL` keyword lists the computed background level, and the `BKGSUB` keyword says whether or not the background has been subtracted from the data.\n",
    "\n",
    "In this case, we kept the default behavior of not subtracting the background from the data, as shown below."
   ]
  },
  {
   "cell_type": "code",
   "execution_count": 42,
   "metadata": {
    "execution": {
     "iopub.execute_input": "2022-07-06T14:08:23.774214Z",
     "iopub.status.busy": "2022-07-06T14:08:23.773990Z",
     "iopub.status.idle": "2022-07-06T14:08:23.778271Z",
     "shell.execute_reply": "2022-07-06T14:08:23.777367Z"
    }
   },
   "outputs": [],
   "source": [
    "# sky_file = 'step_SkyMatchStep_2_skymatchstep.fits'\n",
    "sky_file = 'l3_lw_results_2_skymatch.fits'"
   ]
  },
  {
   "cell_type": "code",
   "execution_count": 43,
   "metadata": {
    "execution": {
     "iopub.execute_input": "2022-07-06T14:08:23.781019Z",
     "iopub.status.busy": "2022-07-06T14:08:23.780685Z",
     "iopub.status.idle": "2022-07-06T14:08:23.788597Z",
     "shell.execute_reply": "2022-07-06T14:08:23.787661Z"
    }
   },
   "outputs": [
    {
     "name": "stdout",
     "output_type": "stream",
     "text": [
      "Computed background level: 0.000627834572890028\n",
      "Background subtracted: False\n"
     ]
    }
   ],
   "source": [
    "sky_header = fits.getheader(sky_file, 0)\n",
    "print('Computed background level: {}'.format(sky_header['BKGLEVEL']))\n",
    "print('Background subtracted: {}'.format(sky_header['BKGSUB']))"
   ]
  },
  {
   "cell_type": "markdown",
   "metadata": {},
   "source": [
    "Here we see that the calculated background value is not subtracted from the input data:"
   ]
  },
  {
   "cell_type": "code",
   "execution_count": 44,
   "metadata": {
    "execution": {
     "iopub.execute_input": "2022-07-06T14:08:23.791835Z",
     "iopub.status.busy": "2022-07-06T14:08:23.791618Z",
     "iopub.status.idle": "2022-07-06T14:08:24.085176Z",
     "shell.execute_reply": "2022-07-06T14:08:24.083940Z"
    }
   },
   "outputs": [
    {
     "name": "stdout",
     "output_type": "stream",
     "text": [
      "\u001b[1mroot\u001b[0m (AsdfObject)\n",
      "\u001b[2m├─\u001b[0m\u001b[1masdf_library\u001b[0m (Software)\n",
      "\u001b[2m│ ├─\u001b[0m\u001b[1mauthor\u001b[0m (str): The ASDF Developers\n",
      "\u001b[2m│ ├─\u001b[0m\u001b[1mhomepage\u001b[0m (str): http://github.com/asdf-format/asdf\n",
      "\u001b[2m│ ├─\u001b[0m\u001b[1mname\u001b[0m (str): asdf\n",
      "\u001b[2m│ └─\u001b[0m\u001b[1mversion\u001b[0m (str): 2.12.0\n",
      "\u001b[2m├─\u001b[0m\u001b[1mhistory\u001b[0m (dict)\n",
      "\u001b[2m│ └─\u001b[0m\u001b[1mextensions\u001b[0m (list)\u001b[3m ...\u001b[0m\n",
      "\u001b[2m├─\u001b[0m\u001b[1m_fits_hash\u001b[0m (str): 064b3828a6f09529924bc63aa34cbe5816facfba7ff8115131cdad6f3b34d7e2\n",
      "\u001b[2m├─\u001b[0m\u001b[1marea\u001b[0m (NDArrayType): shape=(2048, 2048), dtype=float32\n",
      "\u001b[2m├─\u001b[0m\u001b[1mdata\u001b[0m (NDArrayType): shape=(2048, 2048), dtype=float32\n",
      "\u001b[2m├─\u001b[0m\u001b[1mdq\u001b[0m (NDArrayType): shape=(2048, 2048), dtype=uint32\n",
      "\u001b[2m├─\u001b[0m\u001b[1merr\u001b[0m (NDArrayType): shape=(2048, 2048), dtype=float32\n",
      "\u001b[2m├─\u001b[0m\u001b[1mmeta\u001b[0m (dict)\n",
      "\u001b[2m│ ├─\u001b[0m\u001b[1maperture\u001b[0m (dict)\u001b[3m ...\u001b[0m\n",
      "\u001b[2m│ ├─\u001b[0m\u001b[1masn\u001b[0m (dict)\u001b[3m ...\u001b[0m\n",
      "\u001b[2m│ ├─\u001b[0m\u001b[1mbackground\u001b[0m (dict)\u001b[3m ...\u001b[0m\n",
      "\u001b[2m│ ├─\u001b[0m\u001b[1mbunit_data\u001b[0m (str): MJy/sr\n",
      "\u001b[2m│ ├─\u001b[0m\u001b[1mbunit_err\u001b[0m (str): MJy/sr\n",
      "\u001b[2m│ └─\u001b[0m\u001b[2m\u001b[3m25 not shown\u001b[0m\u001b[0m\n",
      "\u001b[2m├─\u001b[0m\u001b[1mvar_flat\u001b[0m (NDArrayType): shape=(2048, 2048), dtype=float32\n",
      "\u001b[2m├─\u001b[0m\u001b[1mvar_poisson\u001b[0m (NDArrayType): shape=(2048, 2048), dtype=float32\n",
      "\u001b[2m└─\u001b[0m\u001b[1mvar_rnoise\u001b[0m (NDArrayType): shape=(2048, 2048), dtype=float32\n",
      "\u001b[2m\u001b[3mSome nodes not shown.\u001b[0m\u001b[0m\n",
      "None\n"
     ]
    }
   ],
   "source": [
    "#with datamodels.open(sky_file) as sky_data:\n",
    "sky_data = datamodels.open(sky_file)\n",
    "print(sky_data.info())"
   ]
  },
  {
   "cell_type": "code",
   "execution_count": 45,
   "metadata": {
    "execution": {
     "iopub.execute_input": "2022-07-06T14:08:24.090646Z",
     "iopub.status.busy": "2022-07-06T14:08:24.090407Z",
     "iopub.status.idle": "2022-07-06T14:08:24.130630Z",
     "shell.execute_reply": "2022-07-06T14:08:24.128903Z"
    }
   },
   "outputs": [
    {
     "data": {
      "text/plain": [
       "(0.0, 0.0)"
      ]
     },
     "execution_count": 45,
     "metadata": {},
     "output_type": "execute_result"
    }
   ],
   "source": [
    "np.min(sky_data.data - cal_data.data), np.max(sky_data.data - cal_data.data)"
   ]
  },
  {
   "cell_type": "code",
   "execution_count": 46,
   "metadata": {
    "execution": {
     "iopub.execute_input": "2022-07-06T14:08:24.137340Z",
     "iopub.status.busy": "2022-07-06T14:08:24.136054Z",
     "iopub.status.idle": "2022-07-06T14:08:24.142887Z",
     "shell.execute_reply": "2022-07-06T14:08:24.141593Z"
    }
   },
   "outputs": [],
   "source": [
    "sky_data.close()"
   ]
  },
  {
   "cell_type": "markdown",
   "metadata": {},
   "source": [
    "[Top of Page](#title_ID)"
   ]
  },
  {
   "cell_type": "markdown",
   "metadata": {},
   "source": [
    "<a id='outlier_detection'></a>\n",
    "## The `Outlier Detection` step\n",
    "\n",
    "#### Summary\n",
    "\n",
    "This step uses the collection of input files to identify and flag any cosmic rays or other transient image artifacts that were not flagged by the jump step in calwebb_detector1. While the jump step looked for large pixel-based deviations in the signal from group-to-group within an integration, the outlier detection step looks for large sky-based exposure-to-exposure devations in the signal. If a given location on the sky shows no signal above the noise in 4 out of 5 exposures, but a bright source in the remaining exposure, the outlier detction step will flag in the DQ map the pixels containing the source in the fifth exposure. These pixels will be ignored when the exposures are later combined into a final mosaic image.\n",
    "\n",
    "#### Documentation\n",
    "\n",
    "[Full description](https://jwst-pipeline.readthedocs.io/en/stable/jwst/outlier_detection/main.html) of the step.\n",
    "\n",
    "#### Arguments\n",
    "\n",
    "There are [numerous optional arguments](https://jwst-pipeline.readthedocs.io/en/stable/jwst/outlier_detection/arguments.html) for this step, including several that apply to the resample step, which this step makes use of.\n",
    "\n",
    "\n",
    "#### Reference files used\n",
    "\n",
    "This step does not use any reference files."
   ]
  },
  {
   "cell_type": "markdown",
   "metadata": {},
   "source": [
    "#### Run the step"
   ]
  },
  {
   "cell_type": "markdown",
   "metadata": {},
   "source": [
    "Since we ran the step above and saved the outputs, we'll skip this part and just load the outputs. "
   ]
  },
  {
   "cell_type": "markdown",
   "metadata": {},
   "source": [
    "List the available parameters:"
   ]
  },
  {
   "cell_type": "code",
   "execution_count": 47,
   "metadata": {
    "execution": {
     "iopub.execute_input": "2022-07-06T14:08:24.148368Z",
     "iopub.status.busy": "2022-07-06T14:08:24.147452Z",
     "iopub.status.idle": "2022-07-06T14:08:24.153672Z",
     "shell.execute_reply": "2022-07-06T14:08:24.152524Z"
    }
   },
   "outputs": [
    {
     "name": "stdout",
     "output_type": "stream",
     "text": [
      "\n",
      "        weight_type = option('ivm','exptime',default='ivm')\n",
      "        pixfrac = float(default=1.0)\n",
      "        kernel = string(default='square') # drizzle kernel\n",
      "        fillval = string(default='INDEF')\n",
      "        nlow = integer(default=0)\n",
      "        nhigh = integer(default=0)\n",
      "        maskpt = float(default=0.7)\n",
      "        grow = integer(default=1)\n",
      "        snr = string(default='5.0 4.0')\n",
      "        scale = string(default='1.2 0.7')\n",
      "        backg = float(default=0.0)\n",
      "        save_intermediate_results = boolean(default=False)\n",
      "        resample_data = boolean(default=True)\n",
      "        good_bits = string(default=\"~DO_NOT_USE\")  # DQ flags to allow\n",
      "        scale_detection = boolean(default=False)\n",
      "        search_output_file = boolean(default=False)\n",
      "        allowed_memory = float(default=None)  # Fraction of memory to use for the combined image.\n",
      "    \n"
     ]
    }
   ],
   "source": [
    "print(OutlierDetectionStep.spec)"
   ]
  },
  {
   "cell_type": "code",
   "execution_count": 48,
   "metadata": {
    "execution": {
     "iopub.execute_input": "2022-07-06T14:08:24.157840Z",
     "iopub.status.busy": "2022-07-06T14:08:24.156864Z",
     "iopub.status.idle": "2022-07-06T14:08:24.161450Z",
     "shell.execute_reply": "2022-07-06T14:08:24.160447Z"
    },
    "scrolled": true
   },
   "outputs": [],
   "source": [
    "# # Run the step\n",
    "# outlier_detection = OutlierDetectionStep()\n",
    "# outlier_detection.save_results = True\n",
    "# outlier = outlier_detection.run(sky)"
   ]
  },
  {
   "cell_type": "code",
   "execution_count": 49,
   "metadata": {
    "execution": {
     "iopub.execute_input": "2022-07-06T14:08:24.164243Z",
     "iopub.status.busy": "2022-07-06T14:08:24.163833Z",
     "iopub.status.idle": "2022-07-06T14:08:24.168465Z",
     "shell.execute_reply": "2022-07-06T14:08:24.167460Z"
    }
   },
   "outputs": [],
   "source": [
    "# outlier_file = 'step_SkyMatchStep_2_a3001_outlierdetectionstep.fits'\n",
    "outlier_file = 'l3_lw_results_2_a3001_crf.fits'"
   ]
  },
  {
   "cell_type": "code",
   "execution_count": 50,
   "metadata": {
    "execution": {
     "iopub.execute_input": "2022-07-06T14:08:24.171124Z",
     "iopub.status.busy": "2022-07-06T14:08:24.170924Z",
     "iopub.status.idle": "2022-07-06T14:08:24.464072Z",
     "shell.execute_reply": "2022-07-06T14:08:24.462875Z"
    }
   },
   "outputs": [
    {
     "name": "stdout",
     "output_type": "stream",
     "text": [
      "\u001b[1mroot\u001b[0m (AsdfObject)\n",
      "\u001b[2m├─\u001b[0m\u001b[1masdf_library\u001b[0m (Software)\n",
      "\u001b[2m│ ├─\u001b[0m\u001b[1mauthor\u001b[0m (str): The ASDF Developers\n",
      "\u001b[2m│ ├─\u001b[0m\u001b[1mhomepage\u001b[0m (str): http://github.com/asdf-format/asdf\n",
      "\u001b[2m│ ├─\u001b[0m\u001b[1mname\u001b[0m (str): asdf\n",
      "\u001b[2m│ └─\u001b[0m\u001b[1mversion\u001b[0m (str): 2.12.0\n",
      "\u001b[2m├─\u001b[0m\u001b[1mhistory\u001b[0m (dict)\n",
      "\u001b[2m│ └─\u001b[0m\u001b[1mextensions\u001b[0m (list)\u001b[3m ...\u001b[0m\n",
      "\u001b[2m├─\u001b[0m\u001b[1m_fits_hash\u001b[0m (str): 65abaa9c7cb7c9fdd400726002377b843adecb0bc46b765e89c65add9e5304da\n",
      "\u001b[2m├─\u001b[0m\u001b[1marea\u001b[0m (NDArrayType): shape=(2048, 2048), dtype=float32\n",
      "\u001b[2m├─\u001b[0m\u001b[1mdata\u001b[0m (NDArrayType): shape=(2048, 2048), dtype=float32\n",
      "\u001b[2m├─\u001b[0m\u001b[1mdq\u001b[0m (NDArrayType): shape=(2048, 2048), dtype=uint32\n",
      "\u001b[2m├─\u001b[0m\u001b[1merr\u001b[0m (NDArrayType): shape=(2048, 2048), dtype=float32\n",
      "\u001b[2m├─\u001b[0m\u001b[1mmeta\u001b[0m (dict)\n",
      "\u001b[2m│ ├─\u001b[0m\u001b[1maperture\u001b[0m (dict)\u001b[3m ...\u001b[0m\n",
      "\u001b[2m│ ├─\u001b[0m\u001b[1masn\u001b[0m (dict)\u001b[3m ...\u001b[0m\n",
      "\u001b[2m│ ├─\u001b[0m\u001b[1mbackground\u001b[0m (dict)\u001b[3m ...\u001b[0m\n",
      "\u001b[2m│ ├─\u001b[0m\u001b[1mbunit_data\u001b[0m (str): MJy/sr\n",
      "\u001b[2m│ ├─\u001b[0m\u001b[1mbunit_err\u001b[0m (str): MJy/sr\n",
      "\u001b[2m│ └─\u001b[0m\u001b[2m\u001b[3m25 not shown\u001b[0m\u001b[0m\n",
      "\u001b[2m├─\u001b[0m\u001b[1mvar_flat\u001b[0m (NDArrayType): shape=(2048, 2048), dtype=float32\n",
      "\u001b[2m├─\u001b[0m\u001b[1mvar_poisson\u001b[0m (NDArrayType): shape=(2048, 2048), dtype=float32\n",
      "\u001b[2m└─\u001b[0m\u001b[1mvar_rnoise\u001b[0m (NDArrayType): shape=(2048, 2048), dtype=float32\n",
      "\u001b[2m\u001b[3mSome nodes not shown.\u001b[0m\u001b[0m\n",
      "None\n"
     ]
    }
   ],
   "source": [
    "# Open using datamodels\n",
    "#with datamodels.open(outlier_file) as outlier_data:\n",
    "outlier_data = datamodels.open(outlier_file)\n",
    "print(outlier_data.info())"
   ]
  },
  {
   "cell_type": "code",
   "execution_count": 51,
   "metadata": {
    "execution": {
     "iopub.execute_input": "2022-07-06T14:08:24.468766Z",
     "iopub.status.busy": "2022-07-06T14:08:24.468523Z",
     "iopub.status.idle": "2022-07-06T14:08:24.503643Z",
     "shell.execute_reply": "2022-07-06T14:08:24.502435Z"
    }
   },
   "outputs": [],
   "source": [
    "# Get a list of pixels where DQ flags were changed\n",
    "new_flags = np.where(cal_data.dq != outlier_data.dq)"
   ]
  },
  {
   "cell_type": "code",
   "execution_count": 52,
   "metadata": {
    "execution": {
     "iopub.execute_input": "2022-07-06T14:08:24.509066Z",
     "iopub.status.busy": "2022-07-06T14:08:24.508813Z",
     "iopub.status.idle": "2022-07-06T14:08:24.514605Z",
     "shell.execute_reply": "2022-07-06T14:08:24.513539Z"
    }
   },
   "outputs": [
    {
     "name": "stdout",
     "output_type": "stream",
     "text": [
      "Found 24526 pixels with updated DQ flag values.\n"
     ]
    }
   ],
   "source": [
    "print(\"Found {} pixels with updated DQ flag values.\".format(len(new_flags[0])))"
   ]
  },
  {
   "cell_type": "markdown",
   "metadata": {},
   "source": [
    "Let's have a look at the DQ value for one of these pixels before and after the outlier detection step has run, in order to see what has changed."
   ]
  },
  {
   "cell_type": "code",
   "execution_count": 53,
   "metadata": {
    "execution": {
     "iopub.execute_input": "2022-07-06T14:08:24.518073Z",
     "iopub.status.busy": "2022-07-06T14:08:24.517698Z",
     "iopub.status.idle": "2022-07-06T14:08:24.523798Z",
     "shell.execute_reply": "2022-07-06T14:08:24.522740Z"
    }
   },
   "outputs": [
    {
     "name": "stdout",
     "output_type": "stream",
     "text": [
      "Pixel x, y = (2046, 1504)\n",
      "Before: 2148007939\n",
      "After: 2148007955\n"
     ]
    }
   ],
   "source": [
    "index = 12515\n",
    "y = new_flags[0][index]\n",
    "x = new_flags[1][index]\n",
    "print('Pixel x, y = ({}, {})'.format(x, y))\n",
    "print('Before: {}'.format(cal_data.dq[y, x]))\n",
    "print('After: {}'.format(outlier_data.dq[y, x]))"
   ]
  },
  {
   "cell_type": "markdown",
   "metadata": {},
   "source": [
    "Below we see that the 'OUTLIER' and the 'DO_NOT_USE' flags are new. "
   ]
  },
  {
   "cell_type": "code",
   "execution_count": 54,
   "metadata": {
    "execution": {
     "iopub.execute_input": "2022-07-06T14:08:24.526300Z",
     "iopub.status.busy": "2022-07-06T14:08:24.526104Z",
     "iopub.status.idle": "2022-07-06T14:08:24.532340Z",
     "shell.execute_reply": "2022-07-06T14:08:24.531443Z"
    }
   },
   "outputs": [
    {
     "data": {
      "text/plain": [
       "([1, 2, 524288, 2147483648],\n",
       " ['DO_NOT_USE', 'SATURATED', 'NO_GAIN_VALUE', 'REFERENCE_PIXEL'])"
      ]
     },
     "execution_count": 54,
     "metadata": {},
     "output_type": "execute_result"
    }
   ],
   "source": [
    "find_bad_pix_types(cal_data.dq[y, x])"
   ]
  },
  {
   "cell_type": "code",
   "execution_count": 55,
   "metadata": {
    "execution": {
     "iopub.execute_input": "2022-07-06T14:08:24.534763Z",
     "iopub.status.busy": "2022-07-06T14:08:24.534569Z",
     "iopub.status.idle": "2022-07-06T14:08:24.540104Z",
     "shell.execute_reply": "2022-07-06T14:08:24.539242Z"
    }
   },
   "outputs": [
    {
     "data": {
      "text/plain": [
       "([1, 2, 16, 524288, 2147483648],\n",
       " ['DO_NOT_USE', 'SATURATED', 'OUTLIER', 'NO_GAIN_VALUE', 'REFERENCE_PIXEL'])"
      ]
     },
     "execution_count": 55,
     "metadata": {},
     "output_type": "execute_result"
    }
   ],
   "source": [
    "find_bad_pix_types(outlier_data.dq[y, x])"
   ]
  },
  {
   "cell_type": "markdown",
   "metadata": {},
   "source": [
    "The image data itself remains unchanged."
   ]
  },
  {
   "cell_type": "code",
   "execution_count": 56,
   "metadata": {
    "execution": {
     "iopub.execute_input": "2022-07-06T14:08:24.542651Z",
     "iopub.status.busy": "2022-07-06T14:08:24.542296Z",
     "iopub.status.idle": "2022-07-06T14:08:24.546784Z",
     "shell.execute_reply": "2022-07-06T14:08:24.545955Z"
    }
   },
   "outputs": [
    {
     "name": "stdout",
     "output_type": "stream",
     "text": [
      "0.0 0.0\n"
     ]
    }
   ],
   "source": [
    "print(cal_data.data[y, x], outlier_data.data[y, x])"
   ]
  },
  {
   "cell_type": "markdown",
   "metadata": {},
   "source": [
    "When the Resample step is run next in order to create the final mosaic image, all pixels flagged as DO_NOT_USE will be ignored."
   ]
  },
  {
   "cell_type": "markdown",
   "metadata": {},
   "source": [
    "[Top of Page](#title_ID)"
   ]
  },
  {
   "cell_type": "markdown",
   "metadata": {},
   "source": [
    "<a id='resample'> </a>\n",
    "## The `Resample` step\n",
    "\n",
    "#### Summary\n",
    "\n",
    "We initially saw this step in calwebb_image2, where it was used to resample individual images onto a distortion-free pixel grid. This time, the Resample step works on the set of input images, which now all have a consistent WCS, thanks to the tweakreg step. The input images are combined into a final mosaic as they are resampled onto a distortion-free grid. The output of this step is the final image output of the Stage 3 pipeline. \n",
    "\n",
    "#### Documentation\n",
    "\n",
    "[Full description](https://jwst-pipeline.readthedocs.io/en/stable/jwst/resample/main.html) of the step.\n",
    "\n",
    "#### Arguments\n",
    "\n",
    "There is a list of [optional Astrodrizzle-style](https://jwst-pipeline.readthedocs.io/en/stable/jwst/resample/arguments.html) input parameters that can be used to customize the resampling process.\n",
    "\n",
    "#### Reference files used\n",
    "\n",
    "This step uses the [`DRIZPARS`](https://jwst-pipeline.readthedocs.io/en/stable/jwst/resample/reference_files.html) reference file. This file contains Astrodrizzle-style keywords that can be used to control the details of the resampling."
   ]
  },
  {
   "cell_type": "markdown",
   "metadata": {},
   "source": [
    "#### Run the step"
   ]
  },
  {
   "cell_type": "markdown",
   "metadata": {},
   "source": [
    "Since we ran the step above and saved the outputs, we'll skip this part and just load the outputs. "
   ]
  },
  {
   "cell_type": "markdown",
   "metadata": {},
   "source": [
    "List the available parameters and their default values:"
   ]
  },
  {
   "cell_type": "code",
   "execution_count": 57,
   "metadata": {
    "execution": {
     "iopub.execute_input": "2022-07-06T14:08:24.549766Z",
     "iopub.status.busy": "2022-07-06T14:08:24.549419Z",
     "iopub.status.idle": "2022-07-06T14:08:24.553986Z",
     "shell.execute_reply": "2022-07-06T14:08:24.553111Z"
    }
   },
   "outputs": [
    {
     "name": "stdout",
     "output_type": "stream",
     "text": [
      "\n",
      "        pixfrac = float(default=1.0)\n",
      "        kernel = string(default='square')\n",
      "        fillval = string(default='INDEF')\n",
      "        weight_type = option('ivm', 'exptime', default='ivm')\n",
      "        output_shape = int_list(min=2, max=2, default=None)  # [x, y] order\n",
      "        crpix = float_list(min=2, max=2, default=None)\n",
      "        crval = float_list(min=2, max=2, default=None)\n",
      "        rotation = float(default=None)\n",
      "        pixel_scale_ratio = float(default=1.0) # Ratio of input to output pixel scale\n",
      "        pixel_scale = float(default=None) # Absolute pixel scale in arcsec\n",
      "        single = boolean(default=False)\n",
      "        blendheaders = boolean(default=True)\n",
      "        allowed_memory = float(default=None)  # Fraction of memory to use for the combined image.\n",
      "    \n"
     ]
    }
   ],
   "source": [
    "print(ResampleStep.spec)"
   ]
  },
  {
   "cell_type": "code",
   "execution_count": 58,
   "metadata": {
    "execution": {
     "iopub.execute_input": "2022-07-06T14:08:24.556362Z",
     "iopub.status.busy": "2022-07-06T14:08:24.556010Z",
     "iopub.status.idle": "2022-07-06T14:08:24.559627Z",
     "shell.execute_reply": "2022-07-06T14:08:24.558775Z"
    },
    "scrolled": true
   },
   "outputs": [],
   "source": [
    "# # Run the step\n",
    "# resample = ResampleStep()\n",
    "# resample.save_results = True\n",
    "# resamp = resample.run(outlier)"
   ]
  },
  {
   "cell_type": "code",
   "execution_count": 59,
   "metadata": {
    "execution": {
     "iopub.execute_input": "2022-07-06T14:08:24.562324Z",
     "iopub.status.busy": "2022-07-06T14:08:24.561649Z",
     "iopub.status.idle": "2022-07-06T14:08:24.898358Z",
     "shell.execute_reply": "2022-07-06T14:08:24.897167Z"
    }
   },
   "outputs": [
    {
     "name": "stdout",
     "output_type": "stream",
     "text": [
      "\u001b[1mroot\u001b[0m (AsdfObject)\n",
      "\u001b[2m├─\u001b[0m\u001b[1masdf_library\u001b[0m (Software)\n",
      "\u001b[2m│ ├─\u001b[0m\u001b[1mauthor\u001b[0m (str): The ASDF Developers\n",
      "\u001b[2m│ ├─\u001b[0m\u001b[1mhomepage\u001b[0m (str): http://github.com/asdf-format/asdf\n",
      "\u001b[2m│ ├─\u001b[0m\u001b[1mname\u001b[0m (str): asdf\n",
      "\u001b[2m│ └─\u001b[0m\u001b[1mversion\u001b[0m (str): 2.12.0\n",
      "\u001b[2m├─\u001b[0m\u001b[1mhistory\u001b[0m (dict)\n",
      "\u001b[2m│ └─\u001b[0m\u001b[1mextensions\u001b[0m (list)\u001b[3m ...\u001b[0m\n",
      "\u001b[2m├─\u001b[0m\u001b[1m_fits_hash\u001b[0m (str): abf0a5e1342f7def46c098b8ac205918a4335bb1b84f51b97ddd0a7f8e7910b5\n",
      "\u001b[2m├─\u001b[0m\u001b[1mcon\u001b[0m (ndarray): shape=(2166, 2170), dtype=int32\n",
      "\u001b[2m├─\u001b[0m\u001b[1mdata\u001b[0m (ndarray): shape=(2166, 2170), dtype=float32\n",
      "\u001b[2m├─\u001b[0m\u001b[1merr\u001b[0m (ndarray): shape=(2166, 2170), dtype=float32\n",
      "\u001b[2m├─\u001b[0m\u001b[1mhdrtab\u001b[0m (NDArrayType): shape=(3,), dtype=record29872\n",
      "\u001b[2m├─\u001b[0m\u001b[1mmeta\u001b[0m (dict)\n",
      "\u001b[2m│ ├─\u001b[0m\u001b[1maperture\u001b[0m (dict)\u001b[3m ...\u001b[0m\n",
      "\u001b[2m│ ├─\u001b[0m\u001b[1masn\u001b[0m (dict)\u001b[3m ...\u001b[0m\n",
      "\u001b[2m│ ├─\u001b[0m\u001b[1mbackground\u001b[0m (dict)\u001b[3m ...\u001b[0m\n",
      "\u001b[2m│ ├─\u001b[0m\u001b[1mbunit_data\u001b[0m (str): MJy/sr\n",
      "\u001b[2m│ └─\u001b[0m\u001b[2m\u001b[3m28 not shown\u001b[0m\u001b[0m\n",
      "\u001b[2m├─\u001b[0m\u001b[1mvar_flat\u001b[0m (ndarray): shape=(2166, 2170), dtype=float32\n",
      "\u001b[2m├─\u001b[0m\u001b[1mvar_poisson\u001b[0m (ndarray): shape=(2166, 2170), dtype=float32\n",
      "\u001b[2m├─\u001b[0m\u001b[1mvar_rnoise\u001b[0m (ndarray): shape=(2166, 2170), dtype=float32\n",
      "\u001b[2m└─\u001b[0m\u001b[1mwht\u001b[0m (ndarray): shape=(2166, 2170), dtype=float32\n",
      "\u001b[2m\u001b[3mSome nodes not shown.\u001b[0m\u001b[0m\n",
      "None\n"
     ]
    }
   ],
   "source": [
    "# resamp_file = 'step_ResampleStep_resamplestep.fits'\n",
    "resamp_file = 'l3_lw_results_i2d.fits'\n",
    "\n",
    "#with datamodels.open(resamp_file) as resamp:\n",
    "resamp = datamodels.open(resamp_file)\n",
    "print(resamp.info())"
   ]
  },
  {
   "cell_type": "code",
   "execution_count": 60,
   "metadata": {
    "execution": {
     "iopub.execute_input": "2022-07-06T14:08:24.903080Z",
     "iopub.status.busy": "2022-07-06T14:08:24.902827Z",
     "iopub.status.idle": "2022-07-06T14:08:25.186527Z",
     "shell.execute_reply": "2022-07-06T14:08:25.185423Z"
    },
    "scrolled": false
   },
   "outputs": [
    {
     "data": {
      "image/png": "[encoded data removed]",
      "text/plain": [
       "<Figure size 640x640 with 2 Axes>"
      ]
     },
     "metadata": {
      "needs_background": "light"
     },
     "output_type": "display_data"
    }
   ],
   "source": [
    "show_image(resamp.data, 0, 10)"
   ]
  },
  {
   "cell_type": "code",
   "execution_count": 61,
   "metadata": {
    "execution": {
     "iopub.execute_input": "2022-07-06T14:08:25.193803Z",
     "iopub.status.busy": "2022-07-06T14:08:25.192980Z",
     "iopub.status.idle": "2022-07-06T14:08:25.199466Z",
     "shell.execute_reply": "2022-07-06T14:08:25.198462Z"
    }
   },
   "outputs": [
    {
     "data": {
      "text/plain": [
       "(2166, 2170)"
      ]
     },
     "execution_count": 61,
     "metadata": {},
     "output_type": "execute_result"
    }
   ],
   "source": [
    "resamp.data.shape"
   ]
  },
  {
   "cell_type": "markdown",
   "metadata": {},
   "source": [
    "[Top of Page](#title_ID)"
   ]
  },
  {
   "cell_type": "markdown",
   "metadata": {},
   "source": [
    "<a id='source_catalog'> </a>\n",
    "## The `Source Catalog` step\n",
    "\n",
    "#### Summary\n",
    "\n",
    "This step creates a catalog of source photometry and morphology information. Sources are identified using [Photutils' image segmentation](https://photutils.readthedocs.io/en/latest/segmentation.html) method. The output is an ASCII file containing a table of source locations and aperture photometry results.\n",
    "\n",
    "#### Documentation\n",
    "\n",
    "[Full description](https://jwst-pipeline.readthedocs.io/en/stable/jwst/source_catalog/main.html) of the step.\n",
    "\n",
    "#### Arguments\n",
    "\n",
    "There is a list of [optional input parameters](https://jwst-pipeline.readthedocs.io/en/stable/jwst/source_catalog/arguments.html) that can be used to customize the resampling process.\n",
    "\n",
    "#### Reference files used\n",
    "\n",
    "This step uses the [`APCORR` and `ABVEGAOFFSET`](https://jwst-pipeline.readthedocs.io/en/stable/jwst/source_catalog/reference_files.html) reference files. The `APCORR` reference file contains the factors necessary to correct aperture photometry results to the equivalent of an infinite aperure. The `ABVEGAOFFSET` reference file contains data necessary for converting from AB to Vega magnitudes."
   ]
  },
  {
   "cell_type": "markdown",
   "metadata": {},
   "source": [
    "<a id='srccat_run'></a>\n",
    "#### Run the step with the run() method"
   ]
  },
  {
   "cell_type": "markdown",
   "metadata": {},
   "source": [
    "Since we ran the step above and saved the outputs, we'll skip this part and just load the outputs. "
   ]
  },
  {
   "cell_type": "markdown",
   "metadata": {},
   "source": [
    "List the available parameters and their default values:"
   ]
  },
  {
   "cell_type": "code",
   "execution_count": 62,
   "metadata": {
    "execution": {
     "iopub.execute_input": "2022-07-06T14:08:25.203900Z",
     "iopub.status.busy": "2022-07-06T14:08:25.203157Z",
     "iopub.status.idle": "2022-07-06T14:08:25.208927Z",
     "shell.execute_reply": "2022-07-06T14:08:25.207956Z"
    }
   },
   "outputs": [
    {
     "name": "stdout",
     "output_type": "stream",
     "text": [
      "\n",
      "        bkg_boxsize = integer(default=100)    # background mesh box size in pixels\n",
      "        kernel_fwhm = float(default=2.0)      # Gaussian kernel FWHM in pixels\n",
      "        snr_threshold = float(default=3.0)    # SNR threshold above the bkg\n",
      "        npixels = integer(default=5)          # min number of pixels in source\n",
      "        deblend = boolean(default=False)      # deblend sources?\n",
      "        aperture_ee1 = integer(default=30)    # aperture encircled energy 1\n",
      "        aperture_ee2 = integer(default=50)    # aperture encircled energy 2\n",
      "        aperture_ee3 = integer(default=70)    # aperture encircled energy 3\n",
      "        ci1_star_threshold = float(default=2.0)  # CI 1 star threshold\n",
      "        ci2_star_threshold = float(default=1.8)  # CI 2 star threshold\n",
      "        suffix = string(default='cat')        # Default suffix for output files\n",
      "    \n"
     ]
    }
   ],
   "source": [
    "print(SourceCatalogStep.spec)"
   ]
  },
  {
   "cell_type": "code",
   "execution_count": 63,
   "metadata": {
    "execution": {
     "iopub.execute_input": "2022-07-06T14:08:25.212382Z",
     "iopub.status.busy": "2022-07-06T14:08:25.211825Z",
     "iopub.status.idle": "2022-07-06T14:08:28.823992Z",
     "shell.execute_reply": "2022-07-06T14:08:28.823255Z"
    },
    "scrolled": true
   },
   "outputs": [
    {
     "name": "stderr",
     "output_type": "stream",
     "text": [
      "2022-07-06 10:08:25,214 - stpipe.SourceCatalogStep - INFO - SourceCatalogStep instance created.\n"
     ]
    },
    {
     "name": "stderr",
     "output_type": "stream",
     "text": [
      "2022-07-06 10:08:25,489 - stpipe.SourceCatalogStep - INFO - Step SourceCatalogStep running with args ('l3_lw_results_i2d.fits',).\n"
     ]
    },
    {
     "name": "stderr",
     "output_type": "stream",
     "text": [
      "2022-07-06 10:08:25,492 - stpipe.SourceCatalogStep - INFO - Step SourceCatalogStep parameters are: {'pre_hooks': [], 'post_hooks': [], 'output_file': None, 'output_dir': None, 'output_ext': '.fits', 'output_use_model': False, 'output_use_index': True, 'save_results': True, 'skip': False, 'suffix': 'cat', 'search_output_file': True, 'input_dir': '', 'bkg_boxsize': 100, 'kernel_fwhm': 2.302, 'snr_threshold': 10.0, 'npixels': 5, 'deblend': False, 'aperture_ee1': 30, 'aperture_ee2': 50, 'aperture_ee3': 70, 'ci1_star_threshold': 2.0, 'ci2_star_threshold': 1.8}\n"
     ]
    },
    {
     "name": "stderr",
     "output_type": "stream",
     "text": [
      "2022-07-06 10:08:25,746 - stpipe.SourceCatalogStep - INFO - Using APCORR reference file: /grp/crds/cache/references/jwst/jwst_nircam_apcorr_0004.fits\n"
     ]
    },
    {
     "name": "stderr",
     "output_type": "stream",
     "text": [
      "2022-07-06 10:08:25,757 - stpipe.SourceCatalogStep - INFO - Using ABVEGAOFFSET reference file: /grp/crds/cache/references/jwst/jwst_nircam_abvegaoffset_0001.asdf\n"
     ]
    },
    {
     "name": "stderr",
     "output_type": "stream",
     "text": [
      "2022-07-06 10:08:25,759 - stpipe.SourceCatalogStep - INFO - Instrument: NIRCAM\n"
     ]
    },
    {
     "name": "stderr",
     "output_type": "stream",
     "text": [
      "2022-07-06 10:08:25,759 - stpipe.SourceCatalogStep - INFO - Detector: NRCBLONG\n"
     ]
    },
    {
     "name": "stderr",
     "output_type": "stream",
     "text": [
      "2022-07-06 10:08:25,760 - stpipe.SourceCatalogStep - INFO - Filter: F444W\n"
     ]
    },
    {
     "name": "stderr",
     "output_type": "stream",
     "text": [
      "2022-07-06 10:08:25,761 - stpipe.SourceCatalogStep - INFO - Pupil: CLEAR\n"
     ]
    },
    {
     "name": "stderr",
     "output_type": "stream",
     "text": [
      "2022-07-06 10:08:25,761 - stpipe.SourceCatalogStep - INFO - Subarray: FULL\n"
     ]
    },
    {
     "name": "stderr",
     "output_type": "stream",
     "text": [
      "2022-07-06 10:08:25,818 - stpipe.SourceCatalogStep - INFO - AB to Vega magnitude offset 3.24181\n"
     ]
    },
    {
     "name": "stderr",
     "output_type": "stream",
     "text": [
      "2022-07-06 10:08:28,216 - stpipe.SourceCatalogStep - INFO - Detected 342 sources\n"
     ]
    },
    {
     "name": "stderr",
     "output_type": "stream",
     "text": [
      "2022-07-06 10:08:28,666 - stpipe.SourceCatalogStep - INFO - Wrote source catalog: l3_lw_results_cat.ecsv\n"
     ]
    },
    {
     "name": "stderr",
     "output_type": "stream",
     "text": [
      "2022-07-06 10:08:28,815 - stpipe.SourceCatalogStep - INFO - Saved model in l3_lw_results_segm.fits\n"
     ]
    },
    {
     "name": "stderr",
     "output_type": "stream",
     "text": [
      "2022-07-06 10:08:28,818 - stpipe.SourceCatalogStep - INFO - Wrote segmentation map: l3_lw_results_segm.fits\n"
     ]
    },
    {
     "name": "stderr",
     "output_type": "stream",
     "text": [
      "2022-07-06 10:08:28,820 - stpipe.SourceCatalogStep - INFO - Step SourceCatalogStep done\n"
     ]
    }
   ],
   "source": [
    "# Run the step after setting some parameters\n",
    "srccat = SourceCatalogStep()\n",
    "srccat.save_results = True\n",
    "srccat.kernel_fwhm = 2.302  # pixels\n",
    "srccat.snr_threshold = 10.\n",
    "\n",
    "source_cat = srccat.run(resamp_file)"
   ]
  },
  {
   "cell_type": "markdown",
   "metadata": {},
   "source": [
    "#### Examine the results"
   ]
  },
  {
   "cell_type": "code",
   "execution_count": 64,
   "metadata": {
    "execution": {
     "iopub.execute_input": "2022-07-06T14:08:28.829579Z",
     "iopub.status.busy": "2022-07-06T14:08:28.829355Z",
     "iopub.status.idle": "2022-07-06T14:08:28.899549Z",
     "shell.execute_reply": "2022-07-06T14:08:28.898886Z"
    }
   },
   "outputs": [
    {
     "data": {
      "text/html": [
       "<div><i>QTable length=342</i>\n",
       "<table id=\"table140114397815584\" class=\"table-striped table-bordered table-condensed\">\n",
       "<thead><tr><th>label</th><th>xcentroid</th><th>ycentroid</th><th>sky_centroid</th><th>aper_bkg_flux</th><th>aper_bkg_flux_err</th><th>aper30_flux</th><th>aper30_flux_err</th><th>aper50_flux</th><th>aper50_flux_err</th><th>aper70_flux</th><th>aper70_flux_err</th><th>aper_total_flux</th><th>aper_total_flux_err</th><th>aper30_abmag</th><th>aper30_abmag_err</th><th>aper50_abmag</th><th>aper50_abmag_err</th><th>aper70_abmag</th><th>aper70_abmag_err</th><th>aper_total_abmag</th><th>aper_total_abmag_err</th><th>aper30_vegamag</th><th>aper30_vegamag_err</th><th>aper50_vegamag</th><th>aper50_vegamag_err</th><th>aper70_vegamag</th><th>aper70_vegamag_err</th><th>aper_total_vegamag</th><th>aper_total_vegamag_err</th><th>CI_50_30</th><th>CI_70_50</th><th>CI_70_30</th><th>is_extended</th><th>sharpness</th><th>roundness</th><th>nn_label</th><th>nn_dist</th><th>isophotal_flux</th><th>isophotal_flux_err</th><th>isophotal_abmag</th><th>isophotal_abmag_err</th><th>isophotal_vegamag</th><th>isophotal_vegamag_err</th><th>isophotal_area</th><th>semimajor_sigma</th><th>semiminor_sigma</th><th>ellipticity</th><th>orientation</th><th>sky_orientation</th><th>sky_bbox_ll</th><th>sky_bbox_ul</th><th>sky_bbox_lr</th><th>sky_bbox_ur</th></tr></thead>\n",
       "<thead><tr><th></th><th></th><th></th><th>deg,deg</th><th>Jy</th><th>Jy</th><th>Jy</th><th>Jy</th><th>Jy</th><th>Jy</th><th>Jy</th><th>Jy</th><th>Jy</th><th>Jy</th><th></th><th></th><th></th><th></th><th></th><th></th><th></th><th></th><th></th><th></th><th></th><th></th><th></th><th></th><th></th><th></th><th></th><th></th><th></th><th></th><th></th><th></th><th></th><th>pix</th><th>Jy</th><th>Jy</th><th></th><th></th><th></th><th></th><th>pix2</th><th>pix</th><th>pix</th><th></th><th>deg</th><th>deg</th><th>deg,deg</th><th>deg,deg</th><th>deg,deg</th><th>deg,deg</th></tr></thead>\n",
       "<thead><tr><th>int64</th><th>float64</th><th>float64</th><th>SkyCoord</th><th>float64</th><th>float64</th><th>float64</th><th>float64</th><th>float64</th><th>float64</th><th>float64</th><th>float64</th><th>float64</th><th>float64</th><th>float64</th><th>float64</th><th>float64</th><th>float64</th><th>float64</th><th>float64</th><th>float64</th><th>float64</th><th>float64</th><th>float64</th><th>float64</th><th>float64</th><th>float64</th><th>float64</th><th>float64</th><th>float64</th><th>float64</th><th>float64</th><th>float64</th><th>bool</th><th>float64</th><th>float32</th><th>int64</th><th>float64</th><th>float64</th><th>float32</th><th>float64</th><th>float64</th><th>float64</th><th>float64</th><th>float64</th><th>float64</th><th>float64</th><th>float64</th><th>float64</th><th>float64</th><th>SkyCoord</th><th>SkyCoord</th><th>SkyCoord</th><th>SkyCoord</th></tr></thead>\n",
       "<tr><td>1</td><td>643.0255</td><td>6.8864</td><td>12.005761597652096,11.982372661680525</td><td>0.000000e+00</td><td>1.706545e-10</td><td>1.992662e-07</td><td>4.463316e-02</td><td>3.627760e-07</td><td>6.469240e-02</td><td>5.882823e-07</td><td>1.190816e-01</td><td>8.670693e-07</td><td>1.755144e-01</td><td>25.651416</td><td>13.375565</td><td>25.000904</td><td>13.128043</td><td>24.476036</td><td>13.265652</td><td>24.054865</td><td>13.265652</td><td>22.409606</td><td>13.375565</td><td>21.759094</td><td>13.128043</td><td>21.234225</td><td>13.265652</td><td>20.813055</td><td>13.265652</td><td>1.8206</td><td>1.6216</td><td>2.9522</td><td>False</td><td>0.582825</td><td>0.163855</td><td>3</td><td>22.579017</td><td>5.621737e-07</td><td>1.007379e-01</td><td>24.525324</td><td>13.133312</td><td>21.283514</td><td>13.133312</td><td>22.0</td><td>1.197051</td><td>1.083836</td><td>0.094578</td><td>87.530771</td><td>177.533540</td><td>12.0058067919441,11.982313371367612</td><td>12.005806801526157,11.982435922282807</td><td>12.005699408600979,11.982313379376832</td><td>12.005699418134204,11.98243593029208</td></tr>\n",
       "<tr><td>2</td><td>1992.0895</td><td>32.1695</td><td>11.981617086713829,11.98281606806117</td><td>3.926230e-08</td><td>4.628056e-09</td><td>4.958549e-07</td><td>6.890828e-02</td><td>1.188999e-06</td><td>1.062749e-01</td><td>7.051059e-06</td><td>2.620153e-01</td><td>1.039256e-05</td><td>3.861844e-01</td><td>24.661613</td><td>12.857300</td><td>23.712047</td><td>12.378136</td><td>21.779364</td><td>11.425210</td><td>21.358194</td><td>11.425210</td><td>21.419803</td><td>12.857300</td><td>20.470237</td><td>12.378136</td><td>18.537554</td><td>11.425210</td><td>18.116384</td><td>11.425210</td><td>2.3979</td><td>5.9303</td><td>14.2200</td><td>True</td><td>0.474445</td><td>0.342352</td><td>16</td><td>120.235709</td><td>2.728872e-05</td><td>5.204461e-01</td><td>20.310042</td><td>10.701038</td><td>17.068232</td><td>10.701038</td><td>391.0</td><td>5.664955</td><td>2.508591</td><td>0.557174</td><td>88.311991</td><td>178.314760</td><td>11.981770817951407,11.98252423206525</td><td>11.981770811990497,11.983066957534795</td><td>11.981430770452166,11.982524228316548</td><td>11.981430763806562,11.98306695378518</td></tr>\n",
       "<tr><td>3</td><td>641.3162</td><td>29.4006</td><td>12.005792220467193,11.982766822063992</td><td>4.141259e-09</td><td>6.451671e-10</td><td>7.967715e-08</td><td>3.446659e-02</td><td>1.591507e-07</td><td>4.994670e-02</td><td>5.417385e-07</td><td>1.081500e-01</td><td>7.984683e-07</td><td>1.594023e-01</td><td>26.646666</td><td>14.090164</td><td>25.895479</td><td>13.741749</td><td>24.565526</td><td>13.250598</td><td>24.144356</td><td>13.250598</td><td>23.404855</td><td>14.090164</td><td>22.653669</td><td>13.741749</td><td>21.323716</td><td>13.250598</td><td>20.902546</td><td>13.250598</td><td>1.9974</td><td>3.4039</td><td>6.7992</td><td>False</td><td>0.492777</td><td>0.482057</td><td>1</td><td>22.579017</td><td>1.115645e-06</td><td>1.435246e-01</td><td>23.781185</td><td>12.773509</td><td>20.539374</td><td>12.773509</td><td>65.0</td><td>3.242335</td><td>1.334417</td><td>0.588439</td><td>-85.339023</td><td>4.663746</td><td>12.005842612444425,11.98264600688755</td><td>12.005842633012332,11.982908615992736</td><td>12.005717331722854,11.982646016243692</td><td>12.005717352168721,11.982908625348918</td></tr>\n",
       "<tr><td>4</td><td>1264.0583</td><td>33.1830</td><td>11.994646849123336,11.982833652910818</td><td>5.429091e-10</td><td>1.706303e-10</td><td>2.507749e-07</td><td>4.685653e-02</td><td>4.481569e-07</td><td>6.486333e-02</td><td>7.067930e-07</td><td>1.107354e-01</td><td>1.041742e-06</td><td>1.632129e-01</td><td>25.401790</td><td>13.178721</td><td>24.771425</td><td>12.901430</td><td>24.276769</td><td>12.987492</td><td>23.855599</td><td>12.987492</td><td>22.159980</td><td>13.178721</td><td>21.529615</td><td>12.901430</td><td>21.034959</td><td>12.987492</td><td>20.613789</td><td>12.987492</td><td>1.7871</td><td>1.5771</td><td>2.8184</td><td>False</td><td>0.625299</td><td>0.105966</td><td>6</td><td>27.598529</td><td>7.025991e-07</td><td>9.681875e-02</td><td>24.283231</td><td>12.848138</td><td>21.041421</td><td>12.848138</td><td>23.0</td><td>1.192208</td><td>1.097619</td><td>0.079339</td><td>73.928222</td><td>163.930991</td><td>11.99469263322873,11.982786679911403</td><td>11.99469263775769,11.982909230828401</td><td>11.994585249695314,11.982786683690263</td><td>11.994585254175451,11.982909234607252</td></tr>\n",
       "<tr><td>5</td><td>425.5023</td><td>43.0880</td><td>12.009654717780395,11.98300613510907</td><td>1.542012e-09</td><td>2.935529e-10</td><td>1.068504e-07</td><td>3.664519e-02</td><td>1.866867e-07</td><td>5.129863e-02</td><td>3.391258e-07</td><td>9.968318e-02</td><td>4.998375e-07</td><td>1.469230e-01</td><td>26.328060</td><td>13.838106</td><td>25.722216</td><td>13.597485</td><td>25.074098</td><td>13.670656</td><td>24.652928</td><td>13.670656</td><td>23.086250</td><td>13.838106</td><td>22.480406</td><td>13.597485</td><td>21.832288</td><td>13.670656</td><td>21.411118</td><td>13.670656</td><td>1.7472</td><td>1.8166</td><td>3.1738</td><td>False</td><td>0.540356</td><td>-0.254174</td><td>11</td><td>47.479233</td><td>3.150814e-07</td><td>7.313805e-02</td><td>25.153943</td><td>13.414306</td><td>21.912133</td><td>13.414306</td><td>16.0</td><td>1.100413</td><td>0.947791</td><td>0.138694</td><td>-89.778197</td><td>0.224573</td><td>12.009690549456366,11.98296082334762</td><td>12.00969055918308,11.98306586698872</td><td>12.009601063124201,11.982960831256905</td><td>12.00960107281606,11.983065874898005</td></tr>\n",
       "<tr><td>6</td><td>1286.6027</td><td>49.1024</td><td>11.994243375619059,11.98311237245776</td><td>4.280709e-09</td><td>3.510373e-10</td><td>1.975876e-07</td><td>4.365582e-02</td><td>3.753329e-07</td><td>6.191545e-02</td><td>9.561142e-07</td><td>1.201629e-01</td><td>1.409217e-06</td><td>1.771081e-01</td><td>25.660601</td><td>13.360711</td><td>24.963958</td><td>13.043463</td><td>23.948726</td><td>12.748161</td><td>23.527556</td><td>12.748161</td><td>22.418791</td><td>13.360711</td><td>21.722148</td><td>13.043463</td><td>20.706915</td><td>12.748161</td><td>20.285745</td><td>12.748161</td><td>1.8996</td><td>2.5474</td><td>4.8389</td><td>False</td><td>0.519985</td><td>-0.321328</td><td>4</td><td>27.598529</td><td>1.416258e-06</td><td>1.472528e-01</td><td>23.522144</td><td>12.542313</td><td>20.280334</td><td>12.542313</td><td>60.0</td><td>2.114374</td><td>1.612762</td><td>0.237239</td><td>-58.666802</td><td>31.335967</td><td>11.994316799578037,11.98303179479273</td><td>11.994316805803878,11.983206867531768</td><td>11.994155724131565,11.983031800231062</td><td>11.994155730252785,11.983206872970085</td></tr>\n",
       "<tr><td>7</td><td>1780.0098</td><td>49.4971</td><td>11.98541273268937,11.98311944264747</td><td>3.302111e-10</td><td>1.433478e-10</td><td>5.926796e-08</td><td>3.238952e-02</td><td>1.010480e-07</td><td>4.575262e-02</td><td>1.479354e-07</td><td>9.358197e-02</td><td>2.180420e-07</td><td>1.379305e-01</td><td>26.967950</td><td>14.343963</td><td>26.388680</td><td>14.139723</td><td>25.974819</td><td>14.502802</td><td>25.553649</td><td>14.502802</td><td>23.726140</td><td>14.343963</td><td>23.146870</td><td>14.139723</td><td>22.733009</td><td>14.502802</td><td>22.311839</td><td>14.502802</td><td>1.7049</td><td>1.4640</td><td>2.4960</td><td>False</td><td>0.600777</td><td>0.100936</td><td>15</td><td>106.035483</td><td>1.030702e-07</td><td>4.412342e-02</td><td>26.367167</td><td>14.078843</td><td>23.125357</td><td>14.078843</td><td>6.0</td><td>0.778588</td><td>0.499986</td><td>0.357830</td><td>0.224855</td><td>90.227624</td><td>11.985439753079776,11.983101986468878</td><td>11.985439753217815,11.98315450828952</td><td>11.985368163976819,11.98310198664461</td><td>11.9853681641009,11.983154508465221</td></tr>\n",
       "<tr><td>8</td><td>1597.1630</td><td>58.3217</td><td>11.98868519340696,11.98327391147348</td><td>3.255539e-09</td><td>4.271665e-10</td><td>1.565070e-06</td><td>1.093412e-01</td><td>2.744923e-06</td><td>1.445118e-01</td><td>4.634134e-06</td><td>1.998385e-01</td><td>6.830249e-06</td><td>2.945420e-01</td><td>23.413665</td><td>12.110641</td><td>22.803675</td><td>11.803454</td><td>22.235079</td><td>11.586802</td><td>21.813909</td><td>11.586802</td><td>20.171855</td><td>12.110641</td><td>19.561864</td><td>11.803454</td><td>18.993269</td><td>11.586802</td><td>18.572099</td><td>11.586802</td><td>1.7539</td><td>1.6883</td><td>2.9610</td><td>False</td><td>0.606690</td><td>0.162780</td><td>18</td><td>96.648779</td><td>5.533702e-06</td><td>2.343532e-01</td><td>22.042461</td><td>11.567164</td><td>18.800651</td><td>11.567164</td><td>82.0</td><td>1.680309</td><td>1.678245</td><td>0.001228</td><td>-34.996834</td><td>55.005935</td><td>11.988768647716832,11.983189494604174</td><td>11.988768650601322,11.983382074615534</td><td>11.988571777615634,11.983189497366688</td><td>11.988571780359472,11.983382077377948</td></tr>\n",
       "<tr><td>9</td><td>600.9019</td><td>66.4202</td><td>12.006515577178364,11.983414877979234</td><td>5.970157e-09</td><td>2.799273e-10</td><td>1.314625e-07</td><td>3.966770e-02</td><td>2.509744e-07</td><td>5.672324e-02</td><td>6.828956e-07</td><td>1.148658e-01</td><td>1.006520e-06</td><td>1.693007e-01</td><td>26.102995</td><td>13.699091</td><td>25.400926</td><td>13.385334</td><td>24.314114</td><td>13.064598</td><td>23.892944</td><td>13.064598</td><td>22.861185</td><td>13.699091</td><td>22.159116</td><td>13.385334</td><td>21.072304</td><td>13.064598</td><td>20.651134</td><td>13.064598</td><td>1.9091</td><td>2.7210</td><td>5.1946</td><td>False</td><td>0.550346</td><td>-0.120217</td><td>3</td><td>54.806547</td><td>1.208125e-06</td><td>1.444471e-01</td><td>23.694720</td><td>12.694001</td><td>20.452910</td><td>12.694001</td><td>62.0</td><td>2.112425</td><td>1.788036</td><td>0.153563</td><td>19.417737</td><td>109.420506</td><td>12.006594353572826,11.98334624052995</td><td>12.006594366353031,11.983503805993864</td><td>12.006415380649162,11.983346254356004</td><td>12.006415393324746,11.983503819820008</td></tr>\n",
       "<tr><td>...</td><td>...</td><td>...</td><td>...</td><td>...</td><td>...</td><td>...</td><td>...</td><td>...</td><td>...</td><td>...</td><td>...</td><td>...</td><td>...</td><td>...</td><td>...</td><td>...</td><td>...</td><td>...</td><td>...</td><td>...</td><td>...</td><td>...</td><td>...</td><td>...</td><td>...</td><td>...</td><td>...</td><td>...</td><td>...</td><td>...</td><td>...</td><td>...</td><td>...</td><td>...</td><td>...</td><td>...</td><td>...</td><td>...</td><td>...</td><td>...</td><td>...</td><td>...</td><td>...</td><td>...</td><td>...</td><td>...</td><td>...</td><td>...</td><td>...</td><td>...</td><td>...</td><td>...</td><td>...</td></tr>\n",
       "<tr><td>333</td><td>1736.7451</td><td>2088.5903</td><td>11.986187245845814,12.018818405671984</td><td>2.273170e-09</td><td>3.140043e-10</td><td>3.729276e-07</td><td>8.032917e-02</td><td>6.519420e-07</td><td>1.090823e-01</td><td>1.164127e-06</td><td>1.814168e-01</td><td>1.715806e-06</td><td>2.673902e-01</td><td>24.970939</td><td>13.333127</td><td>24.364478</td><td>13.058870</td><td>23.734999</td><td>12.981700</td><td>23.313829</td><td>12.981700</td><td>21.729129</td><td>13.333127</td><td>21.122668</td><td>13.058870</td><td>20.493189</td><td>12.981700</td><td>20.072019</td><td>12.981700</td><td>1.7482</td><td>1.7856</td><td>3.1216</td><td>False</td><td>0.562189</td><td>0.321459</td><td>339</td><td>88.062973</td><td>1.277275e-06</td><td>1.861119e-01</td><td>23.634289</td><td>12.908732</td><td>20.392479</td><td>12.908732</td><td>38.0</td><td>1.533729</td><td>1.280282</td><td>0.165249</td><td>-59.583803</td><td>30.418966</td><td>11.98624533070176,12.018746794664454</td><td>11.9862453315869,12.01890436012745</td><td>11.986102133558662,12.018746795388886</td><td>11.986102134360085,12.018904360851804</td></tr>\n",
       "<tr><td>334</td><td>1155.6741</td><td>2101.8037</td><td>11.996588220990827,12.019049489479809</td><td>6.332366e-09</td><td>7.159782e-10</td><td>2.406354e-06</td><td>1.999408e-01</td><td>4.280587e-06</td><td>2.657339e-01</td><td>7.606912e-06</td><td>3.657145e-01</td><td>1.121183e-05</td><td>5.390266e-01</td><td>22.946601</td><td>12.298868</td><td>22.321242</td><td>11.982376</td><td>21.696979</td><td>11.704857</td><td>21.275809</td><td>11.704857</td><td>19.704791</td><td>12.298868</td><td>19.079432</td><td>11.982376</td><td>18.455169</td><td>11.704857</td><td>18.033999</td><td>11.704857</td><td>1.7789</td><td>1.7771</td><td>3.1612</td><td>False</td><td>0.560209</td><td>0.133237</td><td>325</td><td>95.598635</td><td>9.383696e-06</td><td>4.325790e-01</td><td>21.469065</td><td>11.659252</td><td>18.227255</td><td>11.659252</td><td>103.0</td><td>1.933886</td><td>1.698870</td><td>0.121525</td><td>5.975802</td><td>95.978571</td><td>11.996698731739665,12.018956632193238</td><td>11.996698741068425,12.019166719480713</td><td>11.996448136534216,12.018956642724808</td><td>11.996448145667634,12.019166730012273</td></tr>\n",
       "<tr><td>335</td><td>425.6376</td><td>2111.9136</td><td>12.009655644789976,12.019225633702346</td><td>1.829915e-09</td><td>2.459441e-10</td><td>3.325384e-07</td><td>7.532823e-02</td><td>5.758668e-07</td><td>1.026315e-01</td><td>9.370148e-07</td><td>1.714273e-01</td><td>1.381066e-06</td><td>2.526667e-01</td><td>25.095395</td><td>13.387795</td><td>24.499195</td><td>13.127403</td><td>23.970634</td><td>13.155840</td><td>23.549464</td><td>13.155840</td><td>21.853585</td><td>13.387795</td><td>21.257385</td><td>13.127403</td><td>20.728824</td><td>13.155840</td><td>20.307654</td><td>13.155840</td><td>1.7317</td><td>1.6271</td><td>2.8178</td><td>False</td><td>0.589649</td><td>-0.038501</td><td>337</td><td>45.509565</td><td>9.611057e-07</td><td>1.543829e-01</td><td>23.943072</td><td>13.014577</td><td>20.701262</td><td>13.014577</td><td>25.0</td><td>1.232639</td><td>1.145480</td><td>0.070709</td><td>10.416162</td><td>100.418931</td><td>12.00971180367802,12.01918337308567</td><td>12.009711813414345,12.019288416726836</td><td>12.009586505975125,12.019183384175488</td><td>12.009586515662598,12.01928842781667</td></tr>\n",
       "<tr><td>336</td><td>1251.0185</td><td>2129.9847</td><td>11.994881607799023,12.019542929200899</td><td>2.968580e-10</td><td>2.692989e-10</td><td>1.209564e-07</td><td>7.931942e-02</td><td>1.296096e-07</td><td>1.000728e-01</td><td>1.362635e-07</td><td>1.587566e-01</td><td>2.008387e-07</td><td>2.339914e-01</td><td>26.193428</td><td>14.541879</td><td>26.118407</td><td>14.719199</td><td>26.064052</td><td>15.165882</td><td>25.642881</td><td>15.165882</td><td>22.951618</td><td>14.541879</td><td>22.876597</td><td>14.719199</td><td>22.822241</td><td>15.165882</td><td>22.401071</td><td>15.165882</td><td>1.0715</td><td>1.0513</td><td>1.1266</td><td>False</td><td>1.316913</td><td>0.000498</td><td>325</td><td>77.145172</td><td>1.301728e-07</td><td>9.445008e-02</td><td>26.113699</td><td>14.651706</td><td>22.871889</td><td>14.651706</td><td>5.0</td><td>0.598901</td><td>0.593505</td><td>0.009011</td><td>2.521857</td><td>92.524626</td><td>11.994908787143569,12.019516935286553</td><td>11.994908789788063,12.019586964381931</td><td>11.99483718836474,12.019516937862752</td><td>11.99483719099063,12.01958696695813</td></tr>\n",
       "<tr><td>337</td><td>465.5720</td><td>2133.7394</td><td>12.00894086669098,12.019607806422261</td><td>5.609777e-10</td><td>1.876156e-10</td><td>7.625194e-08</td><td>4.847140e-02</td><td>1.346133e-07</td><td>6.883140e-02</td><td>2.476960e-07</td><td>1.407552e-01</td><td>3.650791e-07</td><td>2.074591e-01</td><td>26.694373</td><td>14.508088</td><td>26.077280</td><td>14.271749</td><td>25.415203</td><td>14.386366</td><td>24.994032</td><td>14.386366</td><td>23.452563</td><td>14.508088</td><td>22.835470</td><td>14.271749</td><td>22.173392</td><td>14.386366</td><td>21.752222</td><td>14.386366</td><td>1.7654</td><td>1.8401</td><td>3.2484</td><td>False</td><td>0.528299</td><td>0.415146</td><td>342</td><td>31.863350</td><td>1.179590e-07</td><td>6.103174e-02</td><td>26.220672</td><td>14.284563</td><td>22.978862</td><td>14.284563</td><td>5.0</td><td>0.725695</td><td>0.460524</td><td>0.365403</td><td>71.181403</td><td>161.184172</td><td>12.008960053658242,12.019586106078842</td><td>12.008960059953791,12.019656135172827</td><td>12.008906354562193,12.019586110694998</td><td>12.0089063608438,12.019656139789012</td></tr>\n",
       "<tr><td>338</td><td>1039.8202</td><td>2138.8247</td><td>11.99866200090652,12.019697531904596</td><td>-3.508994e-10</td><td>2.123893e-10</td><td>6.978101e-08</td><td>4.683435e-02</td><td>1.236119e-07</td><td>6.708154e-02</td><td>2.084023e-07</td><td>1.385666e-01</td><td>3.071641e-07</td><td>2.042333e-01</td><td>26.790657</td><td>14.567070</td><td>26.169849</td><td>14.336358</td><td>25.602744</td><td>14.556892</td><td>25.181574</td><td>14.556892</td><td>23.548847</td><td>14.567070</td><td>22.928039</td><td>14.336358</td><td>22.360934</td><td>14.556892</td><td>21.939764</td><td>14.556892</td><td>1.7714</td><td>1.6859</td><td>2.9865</td><td>False</td><td>0.649016</td><td>0.374711</td><td>334</td><td>121.625204</td><td>1.190738e-07</td><td>6.452083e-02</td><td>26.210459</td><td>14.334711</td><td>22.968649</td><td>14.334711</td><td>6.0</td><td>0.747618</td><td>0.567190</td><td>0.241337</td><td>46.875227</td><td>136.877997</td><td>11.998685630891028,12.019674339021623</td><td>11.998685634516892,12.019744368116925</td><td>11.998614032070218,12.019674342559131</td><td>11.99861403567748,12.019744371654435</td></tr>\n",
       "<tr><td>339</td><td>1667.5724</td><td>2143.0902</td><td>11.987425421444675,12.0197725401052</td><td>4.072355e-10</td><td>2.087182e-10</td><td>1.612735e-07</td><td>5.974656e-02</td><td>2.814535e-07</td><td>8.230087e-02</td><td>4.560135e-07</td><td>1.509720e-01</td><td>6.721183e-07</td><td>2.225176e-01</td><td>25.881092</td><td>13.921878</td><td>25.276483</td><td>13.664998</td><td>24.752556</td><td>13.799800</td><td>24.331386</td><td>13.799800</td><td>22.639282</td><td>13.921878</td><td>22.034673</td><td>13.664998</td><td>21.510746</td><td>13.799800</td><td>21.089576</td><td>13.799800</td><td>1.7452</td><td>1.6202</td><td>2.8276</td><td>False</td><td>0.579470</td><td>-0.081860</td><td>333</td><td>88.062973</td><td>4.253030e-07</td><td>1.133725e-01</td><td>24.828254</td><td>13.564527</td><td>21.586444</td><td>13.564527</td><td>16.0</td><td>1.064161</td><td>0.941674</td><td>0.115102</td><td>-89.169951</td><td>0.832819</td><td>11.98746251635889,12.019727192888658</td><td>11.987462517423394,12.019832236529963</td><td>11.987373017818161,12.019727193736923</td><td>11.987373018847782,12.019832237378198</td></tr>\n",
       "<tr><td>340</td><td>341.4819</td><td>2151.0742</td><td>12.01116207162929,12.019911092388108</td><td>3.200644e-09</td><td>2.815582e-10</td><td>1.411784e-07</td><td>5.725776e-02</td><td>2.672152e-07</td><td>8.166281e-02</td><td>6.753446e-07</td><td>1.618361e-01</td><td>9.953903e-07</td><td>2.385303e-01</td><td>26.025580</td><td>14.020168</td><td>25.332847</td><td>13.712911</td><td>24.326186</td><td>13.448880</td><td>23.905016</td><td>13.448880</td><td>22.783770</td><td>14.020168</td><td>22.091037</td><td>13.712911</td><td>21.084376</td><td>13.448880</td><td>20.663206</td><td>13.448880</td><td>1.8927</td><td>2.5273</td><td>4.7836</td><td>False</td><td>0.545108</td><td>-0.166549</td><td>331</td><td>70.498419</td><td>7.545145e-07</td><td>1.542746e-01</td><td>24.205831</td><td>13.276572</td><td>20.964021</td><td>13.276572</td><td>31.0</td><td>1.522250</td><td>1.312430</td><td>0.137835</td><td>-79.096618</td><td>10.906151</td><td>12.011215441478473,12.019848512043074</td><td>12.011215455241674,12.019988570229373</td><td>12.01109014346776,12.01984852380292</td><td>12.011090157165844,12.01998858198929</td></tr>\n",
       "<tr><td>341</td><td>1431.2778</td><td>2150.9796</td><td>11.991655030065928,12.01991059007976</td><td>0.000000e+00</td><td>2.286240e-10</td><td>1.849218e-07</td><td>6.083549e-02</td><td>3.314219e-07</td><td>8.404839e-02</td><td>4.946633e-07</td><td>nan</td><td>7.290842e-07</td><td>nan</td><td>25.732530</td><td>13.792926</td><td>25.099047</td><td>13.510375</td><td>24.664226</td><td>nan</td><td>24.243056</td><td>nan</td><td>22.490720</td><td>13.792926</td><td>21.857237</td><td>13.510375</td><td>21.422416</td><td>nan</td><td>21.001246</td><td>nan</td><td>1.7922</td><td>1.4925</td><td>2.6750</td><td>False</td><td>0.562535</td><td>-0.245988</td><td>319</td><td>157.672596</td><td>4.698836e-07</td><td>1.140398e-01</td><td>24.720024</td><td>13.462669</td><td>21.478214</td><td>13.462669</td><td>16.0</td><td>1.105064</td><td>0.911042</td><td>0.175575</td><td>-13.509843</td><td>76.492926</td><td>11.991704750861846,12.019867178207287</td><td>11.991704753126795,12.019954714575825</td><td>11.991597352554955,12.019867180841423</td><td>11.991597354785025,12.019954717209936</td></tr>\n",
       "<tr><td>342</td><td>489.0028</td><td>2155.3327</td><td>12.008521495819947,12.019985882075318</td><td>0.000000e+00</td><td>1.794631e-10</td><td>1.096100e-07</td><td>5.215254e-02</td><td>2.157372e-07</td><td>7.499211e-02</td><td>5.609621e-07</td><td>nan</td><td>8.268020e-07</td><td>nan</td><td>26.300375</td><td>14.193565</td><td>25.565187</td><td>13.852730</td><td>24.527666</td><td>nan</td><td>24.106496</td><td>nan</td><td>23.058564</td><td>14.193565</td><td>22.323377</td><td>13.852730</td><td>21.285856</td><td>nan</td><td>20.864686</td><td>nan</td><td>1.9682</td><td>2.6002</td><td>5.1178</td><td>False</td><td>0.628742</td><td>0.244485</td><td>337</td><td>31.863350</td><td>5.044442e-07</td><td>1.286711e-01</td><td>24.642967</td><td>13.516674</td><td>21.401157</td><td>13.516674</td><td>23.0</td><td>1.275297</td><td>1.221360</td><td>0.042294</td><td>-79.462102</td><td>10.540667</td><td>12.008566291253002,12.019936285162565</td><td>12.008566300542878,12.020041328803261</td><td>12.008458892921094,12.019936294234459</td><td>12.0084589021691,12.020041337875172</td></tr>\n",
       "</table></div>"
      ],
      "text/plain": [
       "<QTable length=342>\n",
       "label xcentroid ...              sky_bbox_ur             \n",
       "                ...                deg,deg               \n",
       "int64  float64  ...                SkyCoord              \n",
       "----- --------- ... -------------------------------------\n",
       "    1  643.0255 ...  12.005699418134204,11.98243593029208\n",
       "    2 1992.0895 ...  11.981430763806562,11.98306695378518\n",
       "    3  641.3162 ... 12.005717352168721,11.982908625348918\n",
       "    4 1264.0583 ... 11.994585254175451,11.982909234607252\n",
       "    5  425.5023 ...  12.00960107281606,11.983065874898005\n",
       "    6 1286.6027 ... 11.994155730252785,11.983206872970085\n",
       "    7 1780.0098 ...   11.9853681641009,11.983154508465221\n",
       "    8 1597.1630 ... 11.988571780359472,11.983382077377948\n",
       "    9  600.9019 ... 12.006415393324746,11.983503819820008\n",
       "  ...       ... ...                                   ...\n",
       "  333 1736.7451 ... 11.986102134360085,12.018904360851804\n",
       "  334 1155.6741 ... 11.996448145667634,12.019166730012273\n",
       "  335  425.6376 ...  12.009586515662598,12.01928842781667\n",
       "  336 1251.0185 ...   11.99483719099063,12.01958696695813\n",
       "  337  465.5720 ...   12.0089063608438,12.019656139789012\n",
       "  338 1039.8202 ...  11.99861403567748,12.019744371654435\n",
       "  339 1667.5724 ... 11.987373018847782,12.019832237378198\n",
       "  340  341.4819 ...  12.011090157165844,12.01998858198929\n",
       "  341 1431.2778 ... 11.991597354785025,12.019954717209936\n",
       "  342  489.0028 ...   12.0084589021691,12.020041337875172"
      ]
     },
     "execution_count": 64,
     "metadata": {},
     "output_type": "execute_result"
    }
   ],
   "source": [
    "source_cat"
   ]
  },
  {
   "cell_type": "code",
   "execution_count": 65,
   "metadata": {
    "execution": {
     "iopub.execute_input": "2022-07-06T14:08:28.906894Z",
     "iopub.status.busy": "2022-07-06T14:08:28.906668Z",
     "iopub.status.idle": "2022-07-06T14:08:29.436873Z",
     "shell.execute_reply": "2022-07-06T14:08:29.436129Z"
    },
    "scrolled": false
   },
   "outputs": [
    {
     "data": {
      "image/png": "[encoded data removed]",
      "text/plain": [
       "<Figure size 640x640 with 2 Axes>"
      ]
     },
     "metadata": {
      "needs_background": "light"
     },
     "output_type": "display_data"
    }
   ],
   "source": [
    "overlay_catalog(resamp.data, source_cat, flux_limit=0, vmin=0, vmax=10,\n",
    "                title='Final mosaic with source catalog')"
   ]
  },
  {
   "cell_type": "markdown",
   "metadata": {},
   "source": [
    "[Top of Page](#title_ID)"
   ]
  },
  {
   "cell_type": "markdown",
   "metadata": {},
   "source": [
    "<a id=\"about_ID\"></a>\n",
    "## About this Notebook\n",
    "**Original Author:** Bryan Hilbert, updated by Alicia Canipe, NIRCam\n",
    "<br>**Updated On:** 07/28/2021"
   ]
  },
  {
   "cell_type": "markdown",
   "metadata": {},
   "source": [
    "[Top of Notebook](#title_ID)"
   ]
  }
 ],
 "metadata": {
  "kernelspec": {
   "display_name": "Python 3 (ipykernel)",
   "language": "python",
   "name": "python3"
  },
  "language_info": {
   "codemirror_mode": {
    "name": "ipython",
    "version": 3
   },
   "file_extension": ".py",
   "mimetype": "text/x-python",
   "name": "python",
   "nbconvert_exporter": "python",
   "pygments_lexer": "ipython3",
   "version": "3.10.5"
  }
 },
 "nbformat": 4,
 "nbformat_minor": 4
}
