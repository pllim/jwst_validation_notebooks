{
 "cells": [
  {
   "cell_type": "markdown",
   "metadata": {},
   "source": [
    "<a id=\"title_ID\"></a>\n",
    "# JWST Pipeline Validation Notebook: photom with MIRI Imager\n",
    "\n",
    "<span style=\"color:red\"> **Instruments Affected**</span>: MIRI, NIRCam, NIRISS, NIRSpec "
   ]
  },
  {
   "cell_type": "markdown",
   "metadata": {},
   "source": [
    "## Introduction\n",
    "\n",
    "This test is designed to test the photom step in the calwebb_image2 pipeline. This notebook processes an image through the photom step of calwebb_image2 (calwebb_detector1 is optional) and examines the output image of the photom step. \n",
    "\n",
    "The documentation of the step describes it as follows:\n",
    "\n",
    "The photom step applies flux (photometric) calibrations to a data product to convert the data from units of countrate to surface brightness. The calibration information is read from a photometric reference file. For imaging modes the PHOTOM reference file contains a table of exposure parameters that define various instrument configurations and the flux conversion data for each of those configurations. The table contains one row for each allowed combination of exposure parameters, such as detector and filter. The photom step searches the table for the row that matches the parameters of the science exposure and then loads the calibration information from that row of the table. The correction values are multiplied into the SCI and ERR arrays, and the square of the correction values are multiplied into the variance arrays.\n",
    "\n",
    "The scalar conversion constant is copied to the header keyword PHOTMJSR, which gives the conversion from DN/s to megaJy/steradian that was applied to the data. The step also computes the equivalent conversion factor to units of microJy/square-arcsecond (or microjanskys) and stores it in the header keyword PHOTUJA2.\n",
    "\n",
    "### Documentation\n",
    "\n",
    "The pipeline documentation can be found here: https://jwst-pipeline.readthedocs.io/en/latest/\n",
    "\n",
    "The pipeline code is available on GitHub: https://github.com/spacetelescope/jwst\n",
    "\n",
    "\n",
    "## Test description\n",
    "\n",
    "\n",
    "The steps of the test in this notebook are as follow:\n",
    "\n",
    "1) Read in data.\n",
    "\n",
    "2) Run input data through calwebb_detector1. (if not reading in a rate or rateints file)\n",
    "\n",
    "3) Run output of calwebb_detector1 through the photom step in calwebb_image2.\n",
    "\n",
    "4) Get photom reference file. \n",
    "\n",
    "5) Compare the flat field reference file with the rate/cal image ratio and check that the correct conversion factor was applied.\n",
    "\n",
    "6) Check that the pixel area information has been attached and that PIXAR_SR, PIXAR_A2, and BUNIT keywords have been populated in the cal image.\n",
    "\n",
    "\n",
    "\n",
    "Author: T. Temim"
   ]
  },
  {
   "cell_type": "code",
   "execution_count": 1,
   "metadata": {
    "execution": {
     "iopub.execute_input": "2022-10-06T07:22:03.610763Z",
     "iopub.status.busy": "2022-10-06T07:22:03.610119Z",
     "iopub.status.idle": "2022-10-06T07:22:03.616546Z",
     "shell.execute_reply": "2022-10-06T07:22:03.615995Z"
    }
   },
   "outputs": [],
   "source": [
    "# Create a temporary directory to hold notebook output, and change the working directory to that directory.\n",
    "from tempfile import TemporaryDirectory\n",
    "import os\n",
    "data_dir = TemporaryDirectory()\n",
    "os.chdir(data_dir.name)"
   ]
  },
  {
   "cell_type": "code",
   "execution_count": 2,
   "metadata": {
    "execution": {
     "iopub.execute_input": "2022-10-06T07:22:03.618893Z",
     "iopub.status.busy": "2022-10-06T07:22:03.618550Z",
     "iopub.status.idle": "2022-10-06T07:22:03.622595Z",
     "shell.execute_reply": "2022-10-06T07:22:03.622134Z"
    }
   },
   "outputs": [
    {
     "name": "stdout",
     "output_type": "stream",
     "text": [
      "CRDS cache location: /grp/crds/cache\n"
     ]
    }
   ],
   "source": [
    "import os\n",
    "if 'CRDS_CACHE_TYPE' in os.environ:\n",
    "    if os.environ['CRDS_CACHE_TYPE'] == 'local':\n",
    "        os.environ['CRDS_PATH'] = os.path.join(os.environ['HOME'], 'crds', 'cache')\n",
    "    elif os.path.isdir(os.environ['CRDS_CACHE_TYPE']):\n",
    "        os.environ['CRDS_PATH'] = os.environ['CRDS_CACHE_TYPE']\n",
    "print('CRDS cache location: {}'.format(os.environ['CRDS_PATH']))"
   ]
  },
  {
   "cell_type": "markdown",
   "metadata": {},
   "source": [
    "### Set up import statements"
   ]
  },
  {
   "cell_type": "code",
   "execution_count": 3,
   "metadata": {
    "execution": {
     "iopub.execute_input": "2022-10-06T07:22:03.624863Z",
     "iopub.status.busy": "2022-10-06T07:22:03.624466Z",
     "iopub.status.idle": "2022-10-06T07:22:05.336248Z",
     "shell.execute_reply": "2022-10-06T07:22:05.335330Z"
    }
   },
   "outputs": [],
   "source": [
    "import jwst\n",
    "from jwst.pipeline import Detector1Pipeline, Image2Pipeline\n",
    "from jwst.photom import PhotomStep\n",
    "from jwst.datamodels import RampModel, ImageModel, MirImgPhotomModel, dqflags\n",
    "\n",
    "from astropy.io import fits\n",
    "from astropy.utils.data import get_pkg_data_filename\n",
    "from astropy import table\n",
    "\n",
    "import matplotlib\n",
    "import matplotlib.pyplot as plt\n",
    "import numpy as np\n",
    "\n",
    "from ci_watson.artifactory_helpers import get_bigdata\n",
    "import crds\n"
   ]
  },
  {
   "cell_type": "markdown",
   "metadata": {},
   "source": [
    "### Print pipeline version number"
   ]
  },
  {
   "cell_type": "code",
   "execution_count": 4,
   "metadata": {
    "execution": {
     "iopub.execute_input": "2022-10-06T07:22:05.340598Z",
     "iopub.status.busy": "2022-10-06T07:22:05.339750Z",
     "iopub.status.idle": "2022-10-06T07:22:05.348558Z",
     "shell.execute_reply": "2022-10-06T07:22:05.348070Z"
    }
   },
   "outputs": [
    {
     "data": {
      "text/plain": [
       "'1.7.2'"
      ]
     },
     "execution_count": 4,
     "metadata": {},
     "output_type": "execute_result"
    }
   ],
   "source": [
    "jwst.__version__ "
   ]
  },
  {
   "cell_type": "markdown",
   "metadata": {},
   "source": [
    "### Read in data from artifactory"
   ]
  },
  {
   "cell_type": "code",
   "execution_count": 5,
   "metadata": {
    "execution": {
     "iopub.execute_input": "2022-10-06T07:22:05.351150Z",
     "iopub.status.busy": "2022-10-06T07:22:05.350729Z",
     "iopub.status.idle": "2022-10-06T07:22:05.759381Z",
     "shell.execute_reply": "2022-10-06T07:22:05.758471Z"
    }
   },
   "outputs": [],
   "source": [
    "input_file = get_bigdata('jwst_validation_notebooks',\n",
    "                     'validation_data',\n",
    "                     'flat_field',\n",
    "                     'flat_field_miri_test', \n",
    "                     'car007_seq1_MIRIMAGE_F770Wexp1_b771_rate.fits')"
   ]
  },
  {
   "cell_type": "markdown",
   "metadata": {},
   "source": [
    "### Read in input image as JWST data model"
   ]
  },
  {
   "cell_type": "code",
   "execution_count": 6,
   "metadata": {
    "execution": {
     "iopub.execute_input": "2022-10-06T07:22:05.763287Z",
     "iopub.status.busy": "2022-10-06T07:22:05.762591Z",
     "iopub.status.idle": "2022-10-06T07:22:06.818615Z",
     "shell.execute_reply": "2022-10-06T07:22:06.817727Z"
    }
   },
   "outputs": [],
   "source": [
    "from jwst import datamodels\n",
    "\n",
    "im = ImageModel(input_file)"
   ]
  },
  {
   "cell_type": "markdown",
   "metadata": {},
   "source": [
    "### Run input data through calwebb_detector1"
   ]
  },
  {
   "cell_type": "code",
   "execution_count": 7,
   "metadata": {
    "execution": {
     "iopub.execute_input": "2022-10-06T07:22:06.822426Z",
     "iopub.status.busy": "2022-10-06T07:22:06.821741Z",
     "iopub.status.idle": "2022-10-06T07:22:06.824833Z",
     "shell.execute_reply": "2022-10-06T07:22:06.824258Z"
    }
   },
   "outputs": [],
   "source": [
    "# The data read in is an image file already processed through Detector1. This step should only be run \n",
    "#if we're starting with a ramp file.\n",
    "\n",
    "#det1 = Detector1Pipeline()\n",
    "#det1.save_results = True\n",
    "#det1.run(im)"
   ]
  },
  {
   "cell_type": "markdown",
   "metadata": {},
   "source": [
    "### Run output of calwebb_detector1 through calwebb_image2 (or just the Photom step)"
   ]
  },
  {
   "cell_type": "code",
   "execution_count": 8,
   "metadata": {
    "execution": {
     "iopub.execute_input": "2022-10-06T07:22:06.827306Z",
     "iopub.status.busy": "2022-10-06T07:22:06.826887Z",
     "iopub.status.idle": "2022-10-06T07:22:06.829622Z",
     "shell.execute_reply": "2022-10-06T07:22:06.829071Z"
    }
   },
   "outputs": [],
   "source": [
    "#input_file = input_file.replace('rateint.fits', 'rate.fits)"
   ]
  },
  {
   "cell_type": "code",
   "execution_count": 9,
   "metadata": {
    "execution": {
     "iopub.execute_input": "2022-10-06T07:22:06.831996Z",
     "iopub.status.busy": "2022-10-06T07:22:06.831454Z",
     "iopub.status.idle": "2022-10-06T07:22:07.496620Z",
     "shell.execute_reply": "2022-10-06T07:22:07.496101Z"
    }
   },
   "outputs": [
    {
     "name": "stderr",
     "output_type": "stream",
     "text": [
      "2022-10-06 03:22:06,837 - stpipe.PhotomStep - INFO - PhotomStep instance created.\n"
     ]
    },
    {
     "name": "stderr",
     "output_type": "stream",
     "text": [
      "2022-10-06 03:22:06,959 - stpipe.PhotomStep - INFO - Step PhotomStep running with args (<ImageModel(1024, 1032) from car007_seq1_MIRIMAGE_F770Wexp1_b771_rate.fits>,).\n"
     ]
    },
    {
     "name": "stderr",
     "output_type": "stream",
     "text": [
      "2022-10-06 03:22:06,960 - stpipe.PhotomStep - INFO - Step PhotomStep parameters are: {'pre_hooks': [], 'post_hooks': [], 'output_file': None, 'output_dir': None, 'output_ext': '.fits', 'output_use_model': False, 'output_use_index': True, 'save_results': True, 'skip': False, 'suffix': None, 'search_output_file': True, 'input_dir': '', 'inverse': False, 'source_type': None}\n"
     ]
    },
    {
     "name": "stderr",
     "output_type": "stream",
     "text": [
      "2022-10-06 03:22:07,244 - stpipe.PhotomStep - INFO - Using photom reference file: /grp/crds/cache/references/jwst/jwst_miri_photom_0073.fits\n"
     ]
    },
    {
     "name": "stderr",
     "output_type": "stream",
     "text": [
      "2022-10-06 03:22:07,245 - stpipe.PhotomStep - INFO - Using area reference file: /grp/crds/cache/references/jwst/jwst_miri_area_0004.fits\n"
     ]
    },
    {
     "name": "stderr",
     "output_type": "stream",
     "text": [
      "2022-10-06 03:22:07,295 - stpipe.PhotomStep - INFO - Using instrument: MIRI\n"
     ]
    },
    {
     "name": "stderr",
     "output_type": "stream",
     "text": [
      "2022-10-06 03:22:07,296 - stpipe.PhotomStep - INFO -  detector: MIRIMAGE\n"
     ]
    },
    {
     "name": "stderr",
     "output_type": "stream",
     "text": [
      "2022-10-06 03:22:07,297 - stpipe.PhotomStep - INFO -  exp_type: MIR_IMAGE\n"
     ]
    },
    {
     "name": "stderr",
     "output_type": "stream",
     "text": [
      "2022-10-06 03:22:07,297 - stpipe.PhotomStep - INFO -  filter: F770W\n"
     ]
    },
    {
     "name": "stderr",
     "output_type": "stream",
     "text": [
      "2022-10-06 03:22:07,389 - stpipe.PhotomStep - INFO - Pixel area map copied to output.\n"
     ]
    },
    {
     "name": "stderr",
     "output_type": "stream",
     "text": [
      "2022-10-06 03:22:07,391 - stpipe.PhotomStep - INFO -  subarray: FULL\n"
     ]
    },
    {
     "name": "stderr",
     "output_type": "stream",
     "text": [
      "2022-10-06 03:22:07,392 - stpipe.PhotomStep - WARNING - Expected to find one matching row in table, found 0.\n"
     ]
    },
    {
     "name": "stderr",
     "output_type": "stream",
     "text": [
      "2022-10-06 03:22:07,392 - stpipe.PhotomStep - INFO - PHOTMJSR value: 0.592788\n"
     ]
    },
    {
     "name": "stderr",
     "output_type": "stream",
     "text": [
      "2022-10-06 03:22:07,412 - stpipe.PhotomStep - INFO - Results used CRDS context: jwst_0988.pmap\n"
     ]
    },
    {
     "name": "stderr",
     "output_type": "stream",
     "text": [
      "2022-10-06 03:22:07,492 - stpipe.PhotomStep - INFO - Saved model in car007_seq1_MIRIMAGE_F770Wexp1_b771_photomstep.fits\n"
     ]
    },
    {
     "name": "stderr",
     "output_type": "stream",
     "text": [
      "2022-10-06 03:22:07,493 - stpipe.PhotomStep - INFO - Step PhotomStep done\n"
     ]
    },
    {
     "data": {
      "text/plain": [
       "<ImageModel(1024, 1032) from car007_seq1_MIRIMAGE_F770Wexp1_b771_photomstep.fits>"
      ]
     },
     "execution_count": 9,
     "metadata": {},
     "output_type": "execute_result"
    }
   ],
   "source": [
    "im2 = PhotomStep()\n",
    "im2.save_results = True\n",
    "im2.run(im)"
   ]
  },
  {
   "cell_type": "code",
   "execution_count": 10,
   "metadata": {
    "execution": {
     "iopub.execute_input": "2022-10-06T07:22:07.499356Z",
     "iopub.status.busy": "2022-10-06T07:22:07.498967Z",
     "iopub.status.idle": "2022-10-06T07:22:07.501598Z",
     "shell.execute_reply": "2022-10-06T07:22:07.501116Z"
    }
   },
   "outputs": [],
   "source": [
    "#im2 = Image2Pipeline()\n",
    "#im2.background.skip = True\n",
    "#im2.assign_wcs.skip = True\n",
    "#im2.flat_field.skip = True\n",
    "#im2.photom.skip=False\n",
    "#im2.resample.skip = True\n",
    "#im2.save_results = True\n",
    "#im2.run(im)"
   ]
  },
  {
   "cell_type": "code",
   "execution_count": 11,
   "metadata": {
    "execution": {
     "iopub.execute_input": "2022-10-06T07:22:07.503895Z",
     "iopub.status.busy": "2022-10-06T07:22:07.503484Z",
     "iopub.status.idle": "2022-10-06T07:22:07.506105Z",
     "shell.execute_reply": "2022-10-06T07:22:07.505637Z"
    }
   },
   "outputs": [],
   "source": [
    "#input_file = input_file.replace('rate.fits', 'cal.fits')\n",
    "input_file = input_file.replace('rate.fits', 'photomstep.fits')"
   ]
  },
  {
   "cell_type": "code",
   "execution_count": 12,
   "metadata": {
    "execution": {
     "iopub.execute_input": "2022-10-06T07:22:07.508223Z",
     "iopub.status.busy": "2022-10-06T07:22:07.507895Z",
     "iopub.status.idle": "2022-10-06T07:22:07.546831Z",
     "shell.execute_reply": "2022-10-06T07:22:07.546240Z"
    }
   },
   "outputs": [],
   "source": [
    "# read in the calibrated file\n",
    "im_cal = ImageModel(input_file)"
   ]
  },
  {
   "cell_type": "markdown",
   "metadata": {},
   "source": [
    "### Calculate the cal/rate image ratio\n",
    "\n",
    "The ratio of the photom processed file divided by the rate file should equal the conversion factor read from the reference file (comparison below). Look at the ratio file."
   ]
  },
  {
   "cell_type": "code",
   "execution_count": 13,
   "metadata": {
    "execution": {
     "iopub.execute_input": "2022-10-06T07:22:07.550383Z",
     "iopub.status.busy": "2022-10-06T07:22:07.549674Z",
     "iopub.status.idle": "2022-10-06T07:22:07.557992Z",
     "shell.execute_reply": "2022-10-06T07:22:07.557526Z"
    }
   },
   "outputs": [
    {
     "name": "stdout",
     "output_type": "stream",
     "text": [
      "min value of ratio image:  0.5927879\n",
      "max value of ratio image:  0.59278804\n"
     ]
    }
   ],
   "source": [
    "ratio_im = im_cal.data/im.data\n",
    "\n",
    "print('min value of ratio image: ', np.nanmin(ratio_im))\n",
    "print('max value of ratio image: ', np.nanmax(ratio_im))"
   ]
  },
  {
   "cell_type": "code",
   "execution_count": 14,
   "metadata": {
    "execution": {
     "iopub.execute_input": "2022-10-06T07:22:07.560705Z",
     "iopub.status.busy": "2022-10-06T07:22:07.560099Z",
     "iopub.status.idle": "2022-10-06T07:22:07.564098Z",
     "shell.execute_reply": "2022-10-06T07:22:07.563243Z"
    }
   },
   "outputs": [
    {
     "name": "stdout",
     "output_type": "stream",
     "text": [
      "[[0.592788   0.592788   0.592788   ... 0.592788   0.592788   0.592788  ]\n",
      " [0.592788   0.592788   0.592788   ... 0.592788   0.592788   0.592788  ]\n",
      " [0.592788   0.59278804 0.592788   ... 0.592788   0.592788   0.592788  ]\n",
      " ...\n",
      " [0.592788   0.592788   0.592788   ... 0.592788   0.592788   0.5927879 ]\n",
      " [0.592788   0.592788   0.592788   ... 0.592788   0.592788   0.592788  ]\n",
      " [0.592788   0.592788   0.592788   ... 0.592788   0.592788   0.59278804]]\n"
     ]
    }
   ],
   "source": [
    "print(ratio_im)"
   ]
  },
  {
   "cell_type": "code",
   "execution_count": 15,
   "metadata": {
    "execution": {
     "iopub.execute_input": "2022-10-06T07:22:07.566769Z",
     "iopub.status.busy": "2022-10-06T07:22:07.566390Z",
     "iopub.status.idle": "2022-10-06T07:22:08.043389Z",
     "shell.execute_reply": "2022-10-06T07:22:08.042608Z"
    }
   },
   "outputs": [
    {
     "data": {
      "image/png": "[encoded data removed]",
      "text/plain": [
       "<Figure size 2000x2000 with 2 Axes>"
      ]
     },
     "metadata": {},
     "output_type": "display_data"
    }
   ],
   "source": [
    "# Look at the ratio image\n",
    "plt.figure(figsize=(20,20))\n",
    "\n",
    "# mask out DO_NOT_USE values of 1\n",
    "masked_ratio = np.ma.masked_where((im_cal.dq & dqflags.pixel['DO_NOT_USE'] > 0), ratio_im)\n",
    "\n",
    "cmap = matplotlib.cm.get_cmap(\"Greys\").copy()  # Can be any colormap that you want after the cm\n",
    "cmap.set_bad(color='white') # color to mark all DO_NOT_USE pixels\n",
    "\n",
    "plt.imshow(masked_ratio, cmap=cmap, origin='lower', vmin=0.55,vmax=0.65)\n",
    "plt.colorbar()\n",
    "plt.show()"
   ]
  },
  {
   "cell_type": "markdown",
   "metadata": {},
   "source": [
    "### Get photom reference file\n",
    "\n",
    "Look at the photom reference file being used and some parameters from the header."
   ]
  },
  {
   "cell_type": "code",
   "execution_count": 16,
   "metadata": {
    "execution": {
     "iopub.execute_input": "2022-10-06T07:22:08.046568Z",
     "iopub.status.busy": "2022-10-06T07:22:08.046190Z",
     "iopub.status.idle": "2022-10-06T07:22:08.074572Z",
     "shell.execute_reply": "2022-10-06T07:22:08.073850Z"
    }
   },
   "outputs": [
    {
     "name": "stdout",
     "output_type": "stream",
     "text": [
      "Photom reference file crds://jwst_miri_photom_0073.fits\n"
     ]
    }
   ],
   "source": [
    "photomreffile = im_cal.meta.ref_file.photom.name\n",
    "print('Photom reference file', photomreffile)\n",
    "# find location of file\n",
    "basename = crds.core.config.pop_crds_uri(photomreffile)\n",
    "path = crds.locate_file(basename, \"jwst\")\n",
    "# open reference file\n",
    "\n",
    "photom_file = MirImgPhotomModel(path)"
   ]
  },
  {
   "cell_type": "code",
   "execution_count": 17,
   "metadata": {
    "execution": {
     "iopub.execute_input": "2022-10-06T07:22:08.077351Z",
     "iopub.status.busy": "2022-10-06T07:22:08.076907Z",
     "iopub.status.idle": "2022-10-06T07:22:08.083449Z",
     "shell.execute_reply": "2022-10-06T07:22:08.082994Z"
    }
   },
   "outputs": [
    {
     "data": {
      "text/plain": [
       "FITS_rec([('F560W', 'GENERIC', 1.12701 , 0.111122 ),\n",
       "          ('F770W', 'GENERIC', 0.592788, 0.041936 ),\n",
       "          ('F1000W', 'GENERIC', 0.849523, 0.0507364),\n",
       "          ('F1130W', 'GENERIC', 2.54947 , 0.184871 ),\n",
       "          ('F1280W', 'GENERIC', 0.996933, 0.0706994),\n",
       "          ('F1500W', 'GENERIC', 0.882691, 0.0424939),\n",
       "          ('F1800W', 'GENERIC', 1.24199 , 0.0965052),\n",
       "          ('F2100W', 'GENERIC', 0.967241, 0.0627728),\n",
       "          ('F2550W', 'GENERIC', 1.98242 , 0.170253 ),\n",
       "          ('F2550WR', 'GENERIC', 2.05569 , 0.101309 ),\n",
       "          ('F1065C', 'GENERIC', 5.91792 , 0.436445 ),\n",
       "          ('F1140C', 'GENERIC', 6.19264 , 0.469597 ),\n",
       "          ('F1550C', 'GENERIC', 7.80314 , 0.561941 ),\n",
       "          ('F2300C', 'GENERIC', 1.65474 , 0.0993   )],\n",
       "         dtype=(numpy.record, [('filter', 'S12'), ('subarray', 'S15'), ('photmjsr', '>f4'), ('uncertainty', '>f4')]))"
      ]
     },
     "execution_count": 17,
     "metadata": {},
     "output_type": "execute_result"
    }
   ],
   "source": [
    "# Print the contents of the phot table\n",
    "\n",
    "photom_file.phot_table\n"
   ]
  },
  {
   "cell_type": "markdown",
   "metadata": {},
   "source": [
    "Look at the value of the pixel area in steradians from the reference file"
   ]
  },
  {
   "cell_type": "code",
   "execution_count": 18,
   "metadata": {
    "execution": {
     "iopub.execute_input": "2022-10-06T07:22:08.085856Z",
     "iopub.status.busy": "2022-10-06T07:22:08.085518Z",
     "iopub.status.idle": "2022-10-06T07:22:08.089725Z",
     "shell.execute_reply": "2022-10-06T07:22:08.089170Z"
    }
   },
   "outputs": [
    {
     "data": {
      "text/plain": [
       "2.84403609523084e-13"
      ]
     },
     "execution_count": 18,
     "metadata": {},
     "output_type": "execute_result"
    }
   ],
   "source": [
    "photom_file.meta.photometry.pixelarea_steradians"
   ]
  },
  {
   "cell_type": "markdown",
   "metadata": {},
   "source": [
    "Look at the value of the pixel area in arcseconds squared from the reference file"
   ]
  },
  {
   "cell_type": "code",
   "execution_count": 19,
   "metadata": {
    "execution": {
     "iopub.execute_input": "2022-10-06T07:22:08.092086Z",
     "iopub.status.busy": "2022-10-06T07:22:08.091810Z",
     "iopub.status.idle": "2022-10-06T07:22:08.095682Z",
     "shell.execute_reply": "2022-10-06T07:22:08.095142Z"
    }
   },
   "outputs": [
    {
     "data": {
      "text/plain": [
       "0.0121"
      ]
     },
     "execution_count": 19,
     "metadata": {},
     "output_type": "execute_result"
    }
   ],
   "source": [
    "photom_file.meta.photometry.pixelarea_arcsecsq"
   ]
  },
  {
   "cell_type": "markdown",
   "metadata": {},
   "source": [
    "### Print photom calibration conversion factor for image\n",
    "\n",
    "Look up the filter from the file header and the conversion factor from the table for that filter. Compare the value to that in the table printed above to be sure they match."
   ]
  },
  {
   "cell_type": "code",
   "execution_count": 20,
   "metadata": {
    "execution": {
     "iopub.execute_input": "2022-10-06T07:22:08.098359Z",
     "iopub.status.busy": "2022-10-06T07:22:08.097904Z",
     "iopub.status.idle": "2022-10-06T07:22:08.102188Z",
     "shell.execute_reply": "2022-10-06T07:22:08.101497Z"
    }
   },
   "outputs": [
    {
     "name": "stdout",
     "output_type": "stream",
     "text": [
      "The filter for this data is: F770W\n",
      "0.592788\n"
     ]
    }
   ],
   "source": [
    "print('The filter for this data is:', im_cal.meta.instrument.filter)\n",
    "\n",
    "conv_factor = photom_file.phot_table['photmjsr'][np.where(photom_file.phot_table['filter'] == im_cal.meta.instrument.filter)][0]\n",
    "print(conv_factor)\n",
    "\n",
    "#print(photom_file.phot_table['photmjsr'][np.where(photom_file.phot_table['filter'] == im_cal.meta.instrument.filter)][0])"
   ]
  },
  {
   "cell_type": "markdown",
   "metadata": {},
   "source": [
    "### Check that same value has been applied to cal image (three values should be the same)\n",
    "\n",
    "The ratio image calculated previously should equal the value of the conversion factor from the table."
   ]
  },
  {
   "cell_type": "code",
   "execution_count": 21,
   "metadata": {
    "execution": {
     "iopub.execute_input": "2022-10-06T07:22:08.105012Z",
     "iopub.status.busy": "2022-10-06T07:22:08.104718Z",
     "iopub.status.idle": "2022-10-06T07:22:08.113220Z",
     "shell.execute_reply": "2022-10-06T07:22:08.112528Z"
    }
   },
   "outputs": [
    {
     "name": "stdout",
     "output_type": "stream",
     "text": [
      "image min image max ref file\n",
      "0.5927879 0.59278804 0.592788\n"
     ]
    }
   ],
   "source": [
    "print('image min','image max','ref file')\n",
    "print(np.nanmin(ratio_im),np.nanmax(ratio_im),conv_factor)\n",
    "\n",
    "try: \n",
    "    np.testing.assert_allclose(np.nanmin(ratio_im), conv_factor, rtol = 0.01)\n",
    "except AssertionError: \n",
    "    print(\"AssertionError: The minimum value is not within 1% of the conversion factor\")\n",
    "\n",
    "try: \n",
    "    np.testing.assert_allclose(np.nanmax(ratio_im), conv_factor, rtol = 0.01)\n",
    "except AssertionError: \n",
    "    print(\"AssertionError: The maximum value is not within 1% of the conversion factor\")    "
   ]
  },
  {
   "cell_type": "markdown",
   "metadata": {},
   "source": [
    "### Check that pixel area information has been attached\n",
    "\n",
    "Check the extensions of the rate (input) and photom processed file to see if an AREA extension has been added."
   ]
  },
  {
   "cell_type": "code",
   "execution_count": 22,
   "metadata": {
    "execution": {
     "iopub.execute_input": "2022-10-06T07:22:08.115851Z",
     "iopub.status.busy": "2022-10-06T07:22:08.115492Z",
     "iopub.status.idle": "2022-10-06T07:22:08.124856Z",
     "shell.execute_reply": "2022-10-06T07:22:08.124202Z"
    }
   },
   "outputs": [
    {
     "name": "stdout",
     "output_type": "stream",
     "text": [
      "Filename: car007_seq1_MIRIMAGE_F770Wexp1_b771_rate.fits\n",
      "No.    Name      Ver    Type      Cards   Dimensions   Format\n",
      "  0  PRIMARY       1 PrimaryHDU     128   ()      \n",
      "  1  SCI           1 ImageHDU        45   (1032, 1024)   float32   \n",
      "  2  ERR           1 ImageHDU        10   (1032, 1024)   float32   \n",
      "  3  DQ            1 ImageHDU        11   (1032, 1024)   int32 (rescales to uint32)   \n",
      "  4  VAR_POISSON    1 ImageHDU         9   (1032, 1024)   float32   \n",
      "  5  VAR_RNOISE    1 ImageHDU         9   (1032, 1024)   float32   \n",
      "  6  ASDF          1 BinTableHDU     11   1R x 1C   [3590B]   \n"
     ]
    }
   ],
   "source": [
    "# Look at extensions of the rate file \n",
    "uncal_filename = str(im.meta.filename)\n",
    "hdu = fits.open(uncal_filename)\n",
    "hdu.info()\n",
    "hdu.close()"
   ]
  },
  {
   "cell_type": "code",
   "execution_count": 23,
   "metadata": {
    "execution": {
     "iopub.execute_input": "2022-10-06T07:22:08.127243Z",
     "iopub.status.busy": "2022-10-06T07:22:08.126948Z",
     "iopub.status.idle": "2022-10-06T07:22:08.137072Z",
     "shell.execute_reply": "2022-10-06T07:22:08.136435Z"
    }
   },
   "outputs": [
    {
     "name": "stdout",
     "output_type": "stream",
     "text": [
      "Filename: car007_seq1_MIRIMAGE_F770Wexp1_b771_photomstep.fits\n",
      "No.    Name      Ver    Type      Cards   Dimensions   Format\n",
      "  0  PRIMARY       1 PrimaryHDU     136   ()      \n",
      "  1  SCI           1 ImageHDU        52   (1032, 1024)   float32   \n",
      "  2  ERR           1 ImageHDU        10   (1032, 1024)   float32   \n",
      "  3  DQ            1 ImageHDU        11   (1032, 1024)   int32 (rescales to uint32)   \n",
      "  4  AREA          1 ImageHDU         9   (1032, 1024)   float32   \n",
      "  5  VAR_POISSON    1 ImageHDU         9   (1032, 1024)   float32   \n",
      "  6  VAR_RNOISE    1 ImageHDU         9   (1032, 1024)   float32   \n",
      "  7  VAR_FLAT      1 ImageHDU         9   (1032, 1024)   float32   \n",
      "  8  ASDF          1 BinTableHDU     11   1R x 1C   [4114B]   \n"
     ]
    }
   ],
   "source": [
    "# Look at extensions of the rate file \n",
    "cal_filename = str(im_cal.meta.filename)\n",
    "hdu = fits.open(cal_filename)\n",
    "hdu.info()\n",
    "hdu.close()\n",
    "\n",
    "try:\n",
    "    assert(im_cal.area.shape == im_cal.data.shape)\n",
    "except AssertionError:\n",
    "    print('AssertionError: AREA array is not the same shape as the data array')"
   ]
  },
  {
   "cell_type": "markdown",
   "metadata": {},
   "source": [
    "#### Look at the pixel area extension that was attached"
   ]
  },
  {
   "cell_type": "code",
   "execution_count": 24,
   "metadata": {
    "execution": {
     "iopub.execute_input": "2022-10-06T07:22:08.139687Z",
     "iopub.status.busy": "2022-10-06T07:22:08.139224Z",
     "iopub.status.idle": "2022-10-06T07:22:08.155414Z",
     "shell.execute_reply": "2022-10-06T07:22:08.154694Z"
    }
   },
   "outputs": [
    {
     "name": "stdout",
     "output_type": "stream",
     "text": [
      "pix_area_min pix_area_max pix_area_mean\n",
      "0.97582465 1.0159259 1.0058197\n"
     ]
    }
   ],
   "source": [
    "# Look at stats of pixel area image \n",
    "\n",
    "print('pix_area_min', 'pix_area_max','pix_area_mean')\n",
    "print(np.nanmin(im_cal.area),np.nanmax(im_cal.area),np.nanmean(im_cal.area))"
   ]
  },
  {
   "cell_type": "code",
   "execution_count": 25,
   "metadata": {
    "execution": {
     "iopub.execute_input": "2022-10-06T07:22:08.158051Z",
     "iopub.status.busy": "2022-10-06T07:22:08.157672Z",
     "iopub.status.idle": "2022-10-06T07:22:08.619133Z",
     "shell.execute_reply": "2022-10-06T07:22:08.618364Z"
    }
   },
   "outputs": [
    {
     "data": {
      "image/png": "[encoded data removed]",
      "text/plain": [
       "<Figure size 2000x2000 with 2 Axes>"
      ]
     },
     "metadata": {},
     "output_type": "display_data"
    }
   ],
   "source": [
    "# Look at the area map image\n",
    "plt.figure(figsize=(20,20))\n",
    "\n",
    "# mask out DO_NOT_USE values of 1\n",
    "masked_area = np.ma.masked_where((im_cal.dq & dqflags.pixel['DO_NOT_USE'] > 0), im_cal.area)\n",
    "\n",
    "cmap = matplotlib.cm.get_cmap('rainbow').copy()  # Can be any colormap that you want after the cm\n",
    "cmap.set_bad(color='white') # color to mark all DO_NOT_USE pixels\n",
    "\n",
    "plt.imshow(masked_area, cmap=cmap, origin='lower', vmin=0.9,vmax=1.2)\n",
    "plt.colorbar()\n",
    "plt.show()"
   ]
  },
  {
   "cell_type": "markdown",
   "metadata": {},
   "source": [
    "### Check that PIXAR_SR and PIXAR_A2 keywords have been populated\n",
    "\n",
    "The header values PIXAR_SR and PIXAR_A2 values in the header of your output file should be populated and match the values from the photom reference file header.\n"
   ]
  },
  {
   "cell_type": "code",
   "execution_count": 26,
   "metadata": {
    "execution": {
     "iopub.execute_input": "2022-10-06T07:22:08.622053Z",
     "iopub.status.busy": "2022-10-06T07:22:08.621610Z",
     "iopub.status.idle": "2022-10-06T07:22:08.626972Z",
     "shell.execute_reply": "2022-10-06T07:22:08.626384Z"
    }
   },
   "outputs": [
    {
     "data": {
      "text/plain": [
       "['meta.photometry.pixelarea_steradians']"
      ]
     },
     "execution_count": 26,
     "metadata": {},
     "output_type": "execute_result"
    }
   ],
   "source": [
    "im_cal.find_fits_keyword('PIXAR_SR')"
   ]
  },
  {
   "cell_type": "code",
   "execution_count": 27,
   "metadata": {
    "execution": {
     "iopub.execute_input": "2022-10-06T07:22:08.629121Z",
     "iopub.status.busy": "2022-10-06T07:22:08.628815Z",
     "iopub.status.idle": "2022-10-06T07:22:08.633572Z",
     "shell.execute_reply": "2022-10-06T07:22:08.633032Z"
    }
   },
   "outputs": [
    {
     "data": {
      "text/plain": [
       "['meta.photometry.pixelarea_arcsecsq']"
      ]
     },
     "execution_count": 27,
     "metadata": {},
     "output_type": "execute_result"
    }
   ],
   "source": [
    "im_cal.find_fits_keyword('PIXAR_A2')"
   ]
  },
  {
   "cell_type": "markdown",
   "metadata": {},
   "source": [
    "#### Check that the header value from the output file matches the one from the reference file (PIXAR_SR)"
   ]
  },
  {
   "cell_type": "code",
   "execution_count": 28,
   "metadata": {
    "execution": {
     "iopub.execute_input": "2022-10-06T07:22:08.635830Z",
     "iopub.status.busy": "2022-10-06T07:22:08.635464Z",
     "iopub.status.idle": "2022-10-06T07:22:08.639185Z",
     "shell.execute_reply": "2022-10-06T07:22:08.638539Z"
    }
   },
   "outputs": [
    {
     "name": "stdout",
     "output_type": "stream",
     "text": [
      "2.84403609523084e-13 2.84403609523084e-13\n"
     ]
    }
   ],
   "source": [
    "print(photom_file.meta.photometry.pixelarea_steradians,im_cal.meta.photometry.pixelarea_steradians)\n",
    "\n",
    "try:\n",
    "    assert photom_file.meta.photometry.pixelarea_steradians == im_cal.meta.photometry.pixelarea_steradians\n",
    "except AssertionError:\n",
    "    print('AssertionError: the header value PIXAR_SR in the output file header does not match the reference file.')"
   ]
  },
  {
   "cell_type": "markdown",
   "metadata": {},
   "source": [
    "#### Check that the header value from the output file matches the one from the reference file (PIXAR_A2)"
   ]
  },
  {
   "cell_type": "code",
   "execution_count": 29,
   "metadata": {
    "execution": {
     "iopub.execute_input": "2022-10-06T07:22:08.641497Z",
     "iopub.status.busy": "2022-10-06T07:22:08.641132Z",
     "iopub.status.idle": "2022-10-06T07:22:08.644674Z",
     "shell.execute_reply": "2022-10-06T07:22:08.644069Z"
    }
   },
   "outputs": [
    {
     "name": "stdout",
     "output_type": "stream",
     "text": [
      "0.0121 0.0121\n"
     ]
    }
   ],
   "source": [
    "print(photom_file.meta.photometry.pixelarea_arcsecsq, im_cal.meta.photometry.pixelarea_arcsecsq)\n",
    "\n",
    "try:\n",
    "    assert photom_file.meta.photometry.pixelarea_arcsecsq == im_cal.meta.photometry.pixelarea_arcsecsq\n",
    "except AssertionError:\n",
    "    print('AssertionError: the header value PIXAR_A2 in the output file header does not match the reference file.')"
   ]
  },
  {
   "cell_type": "markdown",
   "metadata": {},
   "source": [
    "### Verify that pixel area in steradians is consistent with the pixel area in arcseconds squared\n",
    "\n",
    "1 steradian = 206265^2 arcsec^2, so the area in arcseconds squared * the unit conversion should equal the area in steradians."
   ]
  },
  {
   "cell_type": "code",
   "execution_count": 30,
   "metadata": {
    "execution": {
     "iopub.execute_input": "2022-10-06T07:22:08.646909Z",
     "iopub.status.busy": "2022-10-06T07:22:08.646536Z",
     "iopub.status.idle": "2022-10-06T07:22:08.650588Z",
     "shell.execute_reply": "2022-10-06T07:22:08.649963Z"
    }
   },
   "outputs": [
    {
     "name": "stdout",
     "output_type": "stream",
     "text": [
      "2.844030752201317e-13 2.84403609523084e-13\n"
     ]
    }
   ],
   "source": [
    "print(im_cal.meta.photometry.pixelarea_arcsecsq/(206265.0**2),im_cal.meta.photometry.pixelarea_steradians)\n",
    "\n",
    "converted_steradians = im_cal.meta.photometry.pixelarea_arcsecsq/(206265.0**2)\n",
    "\n",
    "\n",
    "try:\n",
    "     np.testing.assert_allclose(im_cal.meta.photometry.pixelarea_steradians, converted_steradians, rtol = 0.01)\n",
    "except AssertionError:\n",
    "    print('AssertionError: the two area units do not match.')"
   ]
  },
  {
   "cell_type": "markdown",
   "metadata": {},
   "source": [
    "### Check that bunit information has been added to image ('MJy/sr')\n",
    "\n",
    "Check that the units of the file have been updated to the correct ones, and that the numbers in the output file have changed to reflect the new units"
   ]
  },
  {
   "cell_type": "code",
   "execution_count": 31,
   "metadata": {
    "execution": {
     "iopub.execute_input": "2022-10-06T07:22:08.652795Z",
     "iopub.status.busy": "2022-10-06T07:22:08.652479Z",
     "iopub.status.idle": "2022-10-06T07:22:08.655776Z",
     "shell.execute_reply": "2022-10-06T07:22:08.655173Z"
    }
   },
   "outputs": [
    {
     "name": "stdout",
     "output_type": "stream",
     "text": [
      "The units of the rate file are:  DN/s\n",
      "The units of the photom processed file are:  MJy/sr\n"
     ]
    }
   ],
   "source": [
    "print('The units of the rate file are: ', im.meta.bunit_data)\n",
    "print('The units of the photom processed file are: ', im_cal.meta.bunit_data)"
   ]
  },
  {
   "cell_type": "code",
   "execution_count": 32,
   "metadata": {
    "execution": {
     "iopub.execute_input": "2022-10-06T07:22:08.657951Z",
     "iopub.status.busy": "2022-10-06T07:22:08.657585Z",
     "iopub.status.idle": "2022-10-06T07:22:08.661954Z",
     "shell.execute_reply": "2022-10-06T07:22:08.661360Z"
    }
   },
   "outputs": [
    {
     "name": "stdout",
     "output_type": "stream",
     "text": [
      "The value of the specified pixel in the rate file is:  6.3175173\n",
      "The value of the specified pixel in the photom processed file is:  3.7449484\n",
      "The ratio between these values is:  0.592788\n",
      "The conversion factor from the table is:  0.592788\n"
     ]
    }
   ],
   "source": [
    "xval = 600\n",
    "yval = 600\n",
    "\n",
    "print('The value of the specified pixel in the rate file is: ', im.data[yval, xval])\n",
    "print('The value of the specified pixel in the photom processed file is: ', im_cal.data[yval, xval])\n",
    "\n",
    "print('The ratio between these values is: ', im_cal.data[yval, xval] / im.data[yval, xval])\n",
    "print('The conversion factor from the table is: ', conv_factor)\n",
    "\n",
    "try:\n",
    "     np.testing.assert_allclose(im_cal.data[yval, xval] / im.data[yval, xval], conv_factor, rtol = 0.01)\n",
    "except AssertionError:\n",
    "    print('AssertionError: the science ratio does not match the conversion factor.')"
   ]
  },
  {
   "cell_type": "markdown",
   "metadata": {},
   "source": [
    "### Check that the values of the ERR arrays also changed by the expected conversion factor"
   ]
  },
  {
   "cell_type": "code",
   "execution_count": 33,
   "metadata": {
    "execution": {
     "iopub.execute_input": "2022-10-06T07:22:08.664611Z",
     "iopub.status.busy": "2022-10-06T07:22:08.664127Z",
     "iopub.status.idle": "2022-10-06T07:22:08.671003Z",
     "shell.execute_reply": "2022-10-06T07:22:08.670421Z"
    }
   },
   "outputs": [
    {
     "name": "stdout",
     "output_type": "stream",
     "text": [
      "The value of the specified pixel in the rate file is:  0.22237296\n",
      "The value of the specified pixel in the photom processed file is:  0.13182002\n",
      "The ratio between these values is:  0.592788\n",
      "The conversion factor from the table is:  0.592788\n"
     ]
    }
   ],
   "source": [
    "xval = 600\n",
    "yval = 600\n",
    "\n",
    "print('The value of the specified pixel in the rate file is: ', im.err[yval, xval])\n",
    "print('The value of the specified pixel in the photom processed file is: ', im_cal.err[yval, xval])\n",
    "\n",
    "print('The ratio between these values is: ', im_cal.err[yval, xval] / im.err[yval, xval])\n",
    "print('The conversion factor from the table is: ', conv_factor)\n",
    "\n",
    "try:\n",
    "     np.testing.assert_allclose(im_cal.err[yval, xval] / im.err[yval, xval], conv_factor, rtol = 0.01)\n",
    "except AssertionError:\n",
    "    print('AssertionError: the error ratio does not match the conversion factor.')"
   ]
  },
  {
   "cell_type": "markdown",
   "metadata": {},
   "source": [
    "## Success criteria\n",
    "\n",
    "If there are no reported AssertionError messages and the images displayed look reasonable, this test passes."
   ]
  },
  {
   "cell_type": "markdown",
   "metadata": {},
   "source": [
    "\n",
    "## About this Notebook\n",
    "**Author:** T. Temim and M. Cracraft, INS/MIRI\n",
    "<br>**Updated On:** 05/13/2021 "
   ]
  },
  {
   "cell_type": "markdown",
   "metadata": {},
   "source": []
  }
 ],
 "metadata": {
  "kernelspec": {
   "display_name": "Python 3",
   "language": "python",
   "name": "python3"
  },
  "language_info": {
   "codemirror_mode": {
    "name": "ipython",
    "version": 3
   },
   "file_extension": ".py",
   "mimetype": "text/x-python",
   "name": "python",
   "nbconvert_exporter": "python",
   "pygments_lexer": "ipython3",
   "version": "3.9.13"
  }
 },
 "nbformat": 4,
 "nbformat_minor": 4
}
