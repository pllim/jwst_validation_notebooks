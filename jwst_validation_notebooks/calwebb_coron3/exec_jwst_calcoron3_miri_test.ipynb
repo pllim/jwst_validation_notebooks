{
 "cells": [
  {
   "cell_type": "markdown",
   "metadata": {},
   "source": [
    "<a id=\"title_ID\"></a>\n",
    "# JWST Pipeline Validation Notebook: Calwebb_coron3 for MIRI coronagraphic imaging\n",
    "<span style=\"color:red\"> **Instruments Affected**</span>: MIRI, NIRCam\n",
    "\n",
    "### Table of Contents\n",
    "\n",
    "<div style=\"text-align: left\"> \n",
    "    \n",
    "<br> [Introduction](#intro)\n",
    "<br> [JWST CalWG Algorithm](#algorithm)\n",
    "<br> [Defining Terms](#terms)\n",
    "<br> [Test Description](#test_descr)\n",
    "<br> [Data Description](#data_descr)\n",
    "<br> [Imports](#imports)\n",
    "<br> [Load Input Data](#data_load)\n",
    "<br> [Run the Pipeline](#run_pipeline)\n",
    "<br> [Examine Outputs](#testing) \n",
    "<br> [About This Notebook](#about)\n",
    "<br>    \n",
    "\n",
    "</div>"
   ]
  },
  {
   "cell_type": "markdown",
   "metadata": {},
   "source": [
    "<a id=\"intro\"></a>\n",
    "# Introduction\n",
    "\n",
    "This is the validation notebook for stage 3 coronagraphic processing of MIRI 4QPM exposures. The stage 3 coronagraphic pipeline ([`calwebb_coron3`](https://jwst-pipeline.readthedocs.io/en/latest/jwst/pipeline/calwebb_coron3.html#calwebb-coron3)) is to be applied to associations of calibrated NIRCam and MIRI coronagraphic exposures, and is used to produce PSF-subtracted, resampled, combined images of the source object. For more information on `calwebb_coron3`, please visit the links below.\n",
    "\n",
    "> Module description: https://jwst-pipeline.readthedocs.io/en/latest/jwst/pipeline/calwebb_coron3.html#calwebb-coron3\n",
    "\n",
    "> Pipeline code: https://github.com/spacetelescope/jwst/blob/master/jwst/coron/\n",
    "\n",
    "\n",
    "[Top of Page](#title_ID)"
   ]
  },
  {
   "cell_type": "markdown",
   "metadata": {},
   "source": [
    "<a id=\"algorithm\"></a>\n",
    "# JWST CalWG Algorithm\n",
    "\n",
    "\n",
    "The algorithms for `CALWEBB_CORON3` are as follows:\n",
    "\n",
    "- **Assemble Reference PSFs**: <br>\n",
    "All the available reference PSFs are assembled into the appropriate association.\n",
    "\n",
    "\n",
    "- **Outlier detection**: <br> \n",
    "An iterative sigma clipping algorithm is used in pixel coordinates on the image stack. The presence of an outlier results in a pixel flag being set.\n",
    "\n",
    "\n",
    "- **Align reference PSFs**: <br>\n",
    "The reference PSFs are aligned with the target observation using the Fourier LSQ algorithm to measure the shifts and the Fourier Shift algorithm to apply the shifts to each reference PSF integration.\n",
    "\n",
    "\n",
    "- **Reference PSF subtraction**: <br>\n",
    "The reference PSF that is subtracted from each target integration is created using the list of reference PSFs and the KLIP algorithm. \n",
    "\n",
    "\n",
    "- **Image Combination**: <br>\n",
    "The target images (including those at different rotations) are combined into a single combined image using the AstroDrizzle code (with the output pixel size set to the input pixel size).\n",
    "\n",
    "\n",
    "- **Updated Exposure Level Products**: <br>\n",
    "The exposure level products are re-created to provide the highest quality products that include the results of the ensemble processing (updated WCS, matching backgrounds, and 2nd pass outlier detection). \n",
    "\n",
    "<BR>\n",
    "\n",
    "The current status of these algorithms are summarized in the link below:\n",
    "\n",
    "> https://outerspace.stsci.edu/display/JWSTCC/CALWEBB_CORON3\n",
    "\n",
    "\n",
    "[Top of Page](#title_ID)"
   ]
  },
  {
   "cell_type": "markdown",
   "metadata": {},
   "source": [
    "<a id=\"terms\"></a>\n",
    "# Defining Terms\n",
    "\n",
    "- **JWST**: James Webb Space Telescope ([see documentation](https://jwst-docs.stsci.edu/))\n",
    "- **MIRI**: Mid-Infrared Instrument ([see documentation](https://jwst-docs.stsci.edu/mid-infrared-instrument))\n",
    "- **NIRCam**: Near-Infrared Instrument ([see documentation](https://jwst-docs.stsci.edu/near-infrared-camera))\n",
    "- **4QPM**: 4 Quadrant Phase Mask ([see documentation](https://jwst-docs.stsci.edu/mid-infrared-instrument/miri-instrumentation/miri-coronagraphs#MIRICoronagraphs-4qpm))\n",
    "- **Lyot**: coronagraph design incorporating a classical Lyot spot ([see documentation](https://jwst-docs.stsci.edu/mid-infrared-instrument/miri-instrumentation/miri-coronagraphs#MIRICoronagraphs-lyotcoron))\n",
    "- **PanCAKE**: an in-house tool at STScI used to simulate coronagraphic PSFs \n",
    "([see documentation](https://github.com/spacetelescope/pandeia-coronagraphy))\n",
    "- **SGD**: Small Grid Dither \n",
    "([see documentation](https://jwst-docs.stsci.edu/methods-and-roadmaps/jwst-high-contrast-imaging/hci-proposal-planning/hci-small-grid-dithers))\n",
    "    \n",
    "    \n",
    "\n",
    "    \n",
    " [Top of Page](#title_ID)"
   ]
  },
  {
   "cell_type": "markdown",
   "metadata": {},
   "source": [
    "<a id=\"test_descr\"></a>\n",
    "# Test Description\n",
    "\n",
    "This notebook tests the the following steps applied by `calwebb_coron3` for pipeline version == **'0.17.1'**.\n",
    "\n",
    " - [**stack_refs**](#stack_refs)\n",
    " - [**align_refs**](#align-refs)\n",
    " - [**klip**](#klip)\n",
    "\n",
    "These tests are performed using simulated MIRI 4QPM coronagraphic data (see [Data Description](#data_descr)).\n",
    "\n",
    "This notebook does not test the following steps applied by the `calwebb_coron3` pipeline:\n",
    "\n",
    " - **outlier_detection**\n",
    " - **resample**\n",
    " \n",
    "See [Required Future Testing](#future_tests) for details.\n",
    "\n",
    "\n",
    "[Top of Page](#title_ID)"
   ]
  },
  {
   "cell_type": "markdown",
   "metadata": {},
   "source": [
    "<a id=\"data_descr\"></a>\n",
    "# Data Description\n",
    "\n",
    "### Input Data:\n",
    "\n",
    "The set of data used in these tests were generated using `PanCAKE` and edited to enable processing through the `calwebb_coron3` pipeline. The simulated data was generated for the MIRI 1065C 4QPM coronagraph and consists of one science exposure and nine reference PSF exposures based on the following observation scenario: (1) a science observation of a target star with two faint companions, followed by (2) the execution of a 9-point small grid dither (SGD) pattern on a PSF calibrator of similar magnitude, to obtain a set of 9 slightly offset reference PSF observations.\n",
    "\n",
    "\n",
    "The data has the following naming format:\n",
    "- Science exposure: \n",
    "\n",
    "      'new_targ_0.fits' \n",
    "\n",
    "- Reference PSF exposures:\n",
    "\n",
    "      'new_ref_0.fits', 'new_ref_1.fits', 'new_ref_2.fits', 'new_ref_3.fits', 'new_ref_4.fits', 'new_ref_5.fits', 'new_ref_6.fits', 'new_ref_7.fits', 'new_ref_8.fits'\n",
    "      \n",
    "\n",
    "\n",
    "### Refence Files:\n",
    "\n",
    "The `align_refs` step requires a PSFMASK reference file containing a 2D mask that’s used as a weight function when computing shifts between images. \n",
    "\n",
    "> File description: https://jwst-pipeline.readthedocs.io/en/latest/jwst/align_refs/description.html#psfmask-reffile\n",
    "\n",
    "Currently the PSFMASK reference files ingested into CRDS are incorrect (wrong shape and incorrectly centered around coronagraphic obstructions), therefore an updated file is used for these tests:\n",
    "\n",
    "       'psfmask_MIRI_4QPM_1065.fits'\n",
    " \n",
    "\n",
    "### Association File:\n",
    "\n",
    "Currently the individual stage 3 coronagraphic processing steps can only be run in a convenient way by running the `calwebb_coron3` pipeline on an association (ASN) file that lists the various science target and reference PSF exposures to be processed. \n",
    "\n",
    "> Level 3 Associations documentation: https://jwst-pipeline.readthedocs.io/en/latest/jwst/associations/level3_asn_rules.html\n",
    "\n",
    "We use the following ASN file for the purpose of these tests:\n",
    "\n",
    "       'test.yml'\n",
    "\n",
    "\n",
    "\n",
    "\n",
    "[Top of Page](#title_ID)"
   ]
  },
  {
   "cell_type": "markdown",
   "metadata": {},
   "source": [
    "<a id=\"imports_ID\"></a>\n",
    "# Imports\n",
    "\n",
    "* `astropy.io` for opening fits files\n",
    "* `jwst` is the JWST Calibration Pipeline\n",
    "* `jwst.Coron3Pipeline` is the pipeline being tested\n",
    "* `matplotlib.pyplot.plt` to generate plots\n",
    "* `numpy` for array calculations and manipulation\n",
    "* `download_file` for downloading and accessing files\n",
    "* `ipywidgets`, `IPython.display.display,clear_output` to display images.\n",
    "* `ci_watson.arartifactory_helpers.get_bigdata` to download data\n",
    "\n",
    "[Top of Page](#title_ID)"
   ]
  },
  {
   "cell_type": "code",
   "execution_count": 1,
   "metadata": {
    "ExecuteTime": {
     "end_time": "2020-09-08T17:28:12.408482Z",
     "start_time": "2020-09-08T17:28:12.394611Z"
    },
    "execution": {
     "iopub.execute_input": "2021-10-01T22:01:46.467054Z",
     "iopub.status.busy": "2021-10-01T22:01:46.466000Z",
     "iopub.status.idle": "2021-10-01T22:01:48.045930Z",
     "shell.execute_reply": "2021-10-01T22:01:48.044728Z"
    }
   },
   "outputs": [],
   "source": [
    "import jwst\n",
    "from jwst.pipeline import Coron3Pipeline\n",
    "from astropy.io import fits\n",
    "from ci_watson.artifactory_helpers import get_bigdata\n",
    "import matplotlib.pyplot as plt\n",
    "%matplotlib inline\n",
    "from astropy.utils.data import download_file\n",
    "%config InlineBackend.close_figures=False # To prevent automatic figure display when execution of the cell ends\n",
    "import numpy as np\n",
    "import ipywidgets as widgets\n",
    "from IPython.display import display,clear_output\n",
    "import os"
   ]
  },
  {
   "cell_type": "code",
   "execution_count": 2,
   "metadata": {
    "ExecuteTime": {
     "end_time": "2020-09-08T17:28:13.123744Z",
     "start_time": "2020-09-08T17:28:13.119915Z"
    },
    "execution": {
     "iopub.execute_input": "2021-10-01T22:01:48.054123Z",
     "iopub.status.busy": "2021-10-01T22:01:48.053131Z",
     "iopub.status.idle": "2021-10-01T22:01:48.057207Z",
     "shell.execute_reply": "2021-10-01T22:01:48.057941Z"
    }
   },
   "outputs": [
    {
     "data": {
      "text/plain": [
       "'1.3.1'"
      ]
     },
     "execution_count": 2,
     "metadata": {},
     "output_type": "execute_result"
    }
   ],
   "source": [
    "jwst.__version__\n",
    "# should out '0.17.1'"
   ]
  },
  {
   "cell_type": "markdown",
   "metadata": {},
   "source": [
    "<a id=\"data_load\"></a>\n",
    "# Load Input Data"
   ]
  },
  {
   "cell_type": "code",
   "execution_count": 3,
   "metadata": {
    "execution": {
     "iopub.execute_input": "2021-10-01T22:01:48.062975Z",
     "iopub.status.busy": "2021-10-01T22:01:48.062211Z",
     "iopub.status.idle": "2021-10-01T22:01:48.082930Z",
     "shell.execute_reply": "2021-10-01T22:01:48.082055Z"
    }
   },
   "outputs": [],
   "source": [
    "# Create a temporary directory to hold notebook output, and change the working directory to that directory.\n",
    "from tempfile import TemporaryDirectory\n",
    "import shutil\n",
    "data_dir = TemporaryDirectory()\n",
    "shutil.copy(\"jwst_calcoron3_miri_test.yml\", os.path.join(data_dir.name, \"jwst_calcoron3_miri_test.yml\"))\n",
    "os.chdir(data_dir.name)"
   ]
  },
  {
   "cell_type": "code",
   "execution_count": 4,
   "metadata": {
    "execution": {
     "iopub.execute_input": "2021-10-01T22:01:48.091971Z",
     "iopub.status.busy": "2021-10-01T22:01:48.088302Z",
     "iopub.status.idle": "2021-10-01T22:01:48.270206Z",
     "shell.execute_reply": "2021-10-01T22:01:48.269679Z"
    }
   },
   "outputs": [],
   "source": [
    "# new PSFMASK file\n",
    "\n",
    "psf_mask_dir = get_bigdata('jwst_validation_notebooks',\n",
    "                     'validation_data',\n",
    "                     'calwebb_coron3',\n",
    "                     'coron3_miri_test', \n",
    "                     'jwst_miri_psfmask_0001_new.fits')\n"
   ]
  },
  {
   "cell_type": "code",
   "execution_count": 5,
   "metadata": {
    "execution": {
     "iopub.execute_input": "2021-10-01T22:01:48.282170Z",
     "iopub.status.busy": "2021-10-01T22:01:48.276865Z",
     "iopub.status.idle": "2021-10-01T22:01:48.514646Z",
     "shell.execute_reply": "2021-10-01T22:01:48.513572Z"
    }
   },
   "outputs": [],
   "source": [
    "# download science image\n",
    "\n",
    "target_psf_fn = get_bigdata('jwst_validation_notebooks',\n",
    "                     'validation_data',\n",
    "                     'calwebb_coron3',\n",
    "                     'coron3_miri_test', \n",
    "                     'new_targ.fits')\n"
   ]
  },
  {
   "cell_type": "code",
   "execution_count": 6,
   "metadata": {
    "execution": {
     "iopub.execute_input": "2021-10-01T22:01:48.524436Z",
     "iopub.status.busy": "2021-10-01T22:01:48.523258Z",
     "iopub.status.idle": "2021-10-01T22:01:51.620508Z",
     "shell.execute_reply": "2021-10-01T22:01:51.619896Z"
    }
   },
   "outputs": [],
   "source": [
    "# download PSF reference images\n",
    "    \n",
    "new_ref_0 = get_bigdata('jwst_validation_notebooks',\n",
    "                     'validation_data',\n",
    "                     'calwebb_coron3',\n",
    "                     'coron3_miri_test', \n",
    "                     'new_ref_0.fits')\n",
    "\n",
    "new_ref_1 = get_bigdata('jwst_validation_notebooks',\n",
    "                     'validation_data',\n",
    "                     'calwebb_coron3',\n",
    "                     'coron3_miri_test', \n",
    "                     'new_ref_1.fits')\n",
    "\n",
    "new_ref_2 = get_bigdata('jwst_validation_notebooks',\n",
    "                     'validation_data',\n",
    "                     'calwebb_coron3',\n",
    "                     'coron3_miri_test', \n",
    "                     'new_ref_2.fits')\n",
    "\n",
    "new_ref_3 = get_bigdata('jwst_validation_notebooks',\n",
    "                     'validation_data',\n",
    "                     'calwebb_coron3',\n",
    "                     'coron3_miri_test', \n",
    "                     'new_ref_3.fits')\n",
    "\n",
    "new_ref_4 = get_bigdata('jwst_validation_notebooks',\n",
    "                     'validation_data',\n",
    "                     'calwebb_coron3',\n",
    "                     'coron3_miri_test', \n",
    "                     'new_ref_4.fits')\n",
    "\n",
    "new_ref_5 = get_bigdata('jwst_validation_notebooks',\n",
    "                     'validation_data',\n",
    "                     'calwebb_coron3',\n",
    "                     'coron3_miri_test', \n",
    "                     'new_ref_5.fits')\n",
    "\n",
    "new_ref_6 = get_bigdata('jwst_validation_notebooks',\n",
    "                     'validation_data',\n",
    "                     'calwebb_coron3',\n",
    "                     'coron3_miri_test', \n",
    "                     'new_ref_6.fits')\n",
    "\n",
    "new_ref_7 = get_bigdata('jwst_validation_notebooks',\n",
    "                     'validation_data',\n",
    "                     'calwebb_coron3',\n",
    "                     'coron3_miri_test', \n",
    "                     'new_ref_7.fits')\n",
    "             \n",
    "new_ref_8 = get_bigdata('jwst_validation_notebooks',\n",
    "                     'validation_data',\n",
    "                     'calwebb_coron3',\n",
    "                     'coron3_miri_test', \n",
    "                     'new_ref_8.fits')"
   ]
  },
  {
   "cell_type": "code",
   "execution_count": 7,
   "metadata": {
    "execution": {
     "iopub.execute_input": "2021-10-01T22:01:51.634302Z",
     "iopub.status.busy": "2021-10-01T22:01:51.631648Z",
     "iopub.status.idle": "2021-10-01T22:01:51.677944Z",
     "shell.execute_reply": "2021-10-01T22:01:51.677105Z"
    }
   },
   "outputs": [],
   "source": [
    "# Create array containing the input reference images\n",
    "input_ref_images = [fits.getdata(new_ref_8)[0], fits.getdata(new_ref_7)[0], fits.getdata(new_ref_6)[0], \n",
    "                    fits.getdata(new_ref_5)[0],fits.getdata(new_ref_4)[0], fits.getdata(new_ref_3)[0], \n",
    "                    fits.getdata(new_ref_2)[0], fits.getdata(new_ref_1)[0], fits.getdata(new_ref_0)[0]]"
   ]
  },
  {
   "cell_type": "markdown",
   "metadata": {},
   "source": [
    "[Top of Page](#title_ID)\n",
    "<a id=\"run_pipeline\"></a>\n",
    "\n",
    "\n",
    "------------\n",
    "\n",
    "# Run the Pipeline"
   ]
  },
  {
   "cell_type": "code",
   "execution_count": 8,
   "metadata": {
    "ExecuteTime": {
     "end_time": "2020-09-08T17:28:04.191621Z",
     "start_time": "2020-09-08T17:28:04.160783Z"
    },
    "execution": {
     "iopub.execute_input": "2021-10-01T22:01:51.689709Z",
     "iopub.status.busy": "2021-10-01T22:01:51.686286Z",
     "iopub.status.idle": "2021-10-01T22:01:59.242298Z",
     "shell.execute_reply": "2021-10-01T22:01:59.241774Z"
    }
   },
   "outputs": [
    {
     "name": "stderr",
     "output_type": "stream",
     "text": [
      "2021-10-01 18:01:51,687 - stpipe.Coron3Pipeline - INFO - Coron3Pipeline instance created.\n"
     ]
    },
    {
     "name": "stderr",
     "output_type": "stream",
     "text": [
      "2021-10-01 18:01:51,690 - stpipe.Coron3Pipeline.stack_refs - INFO - StackRefsStep instance created.\n"
     ]
    },
    {
     "name": "stderr",
     "output_type": "stream",
     "text": [
      "2021-10-01 18:01:51,691 - stpipe.Coron3Pipeline.align_refs - INFO - AlignRefsStep instance created.\n"
     ]
    },
    {
     "name": "stderr",
     "output_type": "stream",
     "text": [
      "2021-10-01 18:01:51,693 - stpipe.Coron3Pipeline.klip - INFO - KlipStep instance created.\n"
     ]
    },
    {
     "name": "stderr",
     "output_type": "stream",
     "text": [
      "2021-10-01 18:01:51,694 - stpipe.Coron3Pipeline.outlier_detection - INFO - OutlierDetectionStep instance created.\n"
     ]
    },
    {
     "name": "stderr",
     "output_type": "stream",
     "text": [
      "2021-10-01 18:01:51,696 - stpipe.Coron3Pipeline.resample - INFO - ResampleStep instance created.\n"
     ]
    },
    {
     "name": "stderr",
     "output_type": "stream",
     "text": [
      "2021-10-01 18:01:51,803 - stpipe.Coron3Pipeline - INFO - Step Coron3Pipeline running with args ('jwst_calcoron3_miri_test.yml',).\n"
     ]
    },
    {
     "name": "stderr",
     "output_type": "stream",
     "text": [
      "2021-10-01 18:01:51,808 - stpipe.Coron3Pipeline - INFO - Step Coron3Pipeline parameters are: {'pre_hooks': [], 'post_hooks': [], 'output_file': None, 'output_dir': '/data1/jenkins/workspace/Notebooks/jwst_validation_notebooks_spacetelescope/tmp/tmppewwjd3a', 'output_ext': '.fits', 'output_use_model': False, 'output_use_index': True, 'save_results': True, 'skip': False, 'suffix': 'i2d', 'search_output_file': True, 'input_dir': '', 'steps': {'stack_refs': {'pre_hooks': [], 'post_hooks': [], 'output_file': None, 'output_dir': None, 'output_ext': '.fits', 'output_use_model': False, 'output_use_index': True, 'save_results': False, 'skip': False, 'suffix': None, 'search_output_file': True, 'input_dir': ''}, 'align_refs': {'pre_hooks': [], 'post_hooks': [], 'output_file': None, 'output_dir': None, 'output_ext': '.fits', 'output_use_model': False, 'output_use_index': True, 'save_results': False, 'skip': False, 'suffix': None, 'search_output_file': True, 'input_dir': '', 'median_box_length': 3, 'bad_bits': 'DO_NOT_USE'}, 'klip': {'pre_hooks': [], 'post_hooks': [], 'output_file': None, 'output_dir': None, 'output_ext': '.fits', 'output_use_model': False, 'output_use_index': True, 'save_results': False, 'skip': False, 'suffix': None, 'search_output_file': True, 'input_dir': '', 'truncate': 50}, 'outlier_detection': {'pre_hooks': [], 'post_hooks': [], 'output_file': None, 'output_dir': None, 'output_ext': '.fits', 'output_use_model': False, 'output_use_index': True, 'save_results': False, 'skip': False, 'suffix': None, 'search_output_file': False, 'input_dir': '', 'weight_type': 'ivm', 'pixfrac': 1.0, 'kernel': 'square', 'fillval': 'INDEF', 'nlow': 0, 'nhigh': 0, 'maskpt': 0.7, 'grow': 1, 'snr': '5.0 4.0', 'scale': '1.2 0.7', 'backg': 0.0, 'save_intermediate_results': False, 'resample_data': True, 'good_bits': '~DO_NOT_USE', 'scale_detection': False, 'allowed_memory': None}, 'resample': {'pre_hooks': [], 'post_hooks': [], 'output_file': None, 'output_dir': None, 'output_ext': '.fits', 'output_use_model': False, 'output_use_index': True, 'save_results': False, 'skip': True, 'suffix': None, 'search_output_file': True, 'input_dir': '', 'pixfrac': 1.0, 'kernel': 'square', 'fillval': 'INDEF', 'weight_type': 'ivm', 'pixel_scale_ratio': 1.0, 'single': False, 'blendheaders': True, 'allowed_memory': None}}}\n"
     ]
    },
    {
     "name": "stderr",
     "output_type": "stream",
     "text": [
      "2021-10-01 18:01:51,809 - stpipe.Coron3Pipeline - INFO - Starting calwebb_coron3 ...\n"
     ]
    },
    {
     "name": "stderr",
     "output_type": "stream",
     "text": [
      "202110011801:DEBUG:jwst.associations.association_io.load:Error unserializing: \"Expecting property name enclosed in double quotes: line 12 column 11 (char 316)\"\n"
     ]
    },
    {
     "name": "stderr",
     "output_type": "stream",
     "text": [
      "2021-10-01 18:01:52,294 - stpipe.Coron3Pipeline - INFO - Prefetching reference files for dataset: 'new_ref_8.fits' reftypes = []\n"
     ]
    },
    {
     "name": "stderr",
     "output_type": "stream",
     "text": [
      "2021-10-01 18:01:52,296 - stpipe.Coron3Pipeline - INFO - Override for PSFMASK reference file is '/data1/jenkins/workspace/Notebooks/jwst_validation_notebooks_spacetelescope/tmp/tmppewwjd3a/jwst_miri_psfmask_0001_new.fits'.\n"
     ]
    },
    {
     "name": "stderr",
     "output_type": "stream",
     "text": [
      "2021-10-01 18:01:52,584 - stpipe.Coron3Pipeline - INFO - Prefetching reference files for dataset: 'new_ref_7.fits' reftypes = []\n"
     ]
    },
    {
     "name": "stderr",
     "output_type": "stream",
     "text": [
      "2021-10-01 18:01:52,586 - stpipe.Coron3Pipeline - INFO - Override for PSFMASK reference file is '/data1/jenkins/workspace/Notebooks/jwst_validation_notebooks_spacetelescope/tmp/tmppewwjd3a/jwst_miri_psfmask_0001_new.fits'.\n"
     ]
    },
    {
     "name": "stderr",
     "output_type": "stream",
     "text": [
      "2021-10-01 18:01:52,747 - stpipe.Coron3Pipeline - INFO - Prefetching reference files for dataset: 'new_ref_6.fits' reftypes = []\n"
     ]
    },
    {
     "name": "stderr",
     "output_type": "stream",
     "text": [
      "2021-10-01 18:01:52,748 - stpipe.Coron3Pipeline - INFO - Override for PSFMASK reference file is '/data1/jenkins/workspace/Notebooks/jwst_validation_notebooks_spacetelescope/tmp/tmppewwjd3a/jwst_miri_psfmask_0001_new.fits'.\n"
     ]
    },
    {
     "name": "stderr",
     "output_type": "stream",
     "text": [
      "2021-10-01 18:01:52,909 - stpipe.Coron3Pipeline - INFO - Prefetching reference files for dataset: 'new_ref_5.fits' reftypes = []\n"
     ]
    },
    {
     "name": "stderr",
     "output_type": "stream",
     "text": [
      "2021-10-01 18:01:52,911 - stpipe.Coron3Pipeline - INFO - Override for PSFMASK reference file is '/data1/jenkins/workspace/Notebooks/jwst_validation_notebooks_spacetelescope/tmp/tmppewwjd3a/jwst_miri_psfmask_0001_new.fits'.\n"
     ]
    },
    {
     "name": "stderr",
     "output_type": "stream",
     "text": [
      "2021-10-01 18:01:53,084 - stpipe.Coron3Pipeline - INFO - Prefetching reference files for dataset: 'new_ref_4.fits' reftypes = []\n"
     ]
    },
    {
     "name": "stderr",
     "output_type": "stream",
     "text": [
      "2021-10-01 18:01:53,085 - stpipe.Coron3Pipeline - INFO - Override for PSFMASK reference file is '/data1/jenkins/workspace/Notebooks/jwst_validation_notebooks_spacetelescope/tmp/tmppewwjd3a/jwst_miri_psfmask_0001_new.fits'.\n"
     ]
    },
    {
     "name": "stderr",
     "output_type": "stream",
     "text": [
      "2021-10-01 18:01:53,245 - stpipe.Coron3Pipeline - INFO - Prefetching reference files for dataset: 'new_ref_3.fits' reftypes = []\n"
     ]
    },
    {
     "name": "stderr",
     "output_type": "stream",
     "text": [
      "2021-10-01 18:01:53,247 - stpipe.Coron3Pipeline - INFO - Override for PSFMASK reference file is '/data1/jenkins/workspace/Notebooks/jwst_validation_notebooks_spacetelescope/tmp/tmppewwjd3a/jwst_miri_psfmask_0001_new.fits'.\n"
     ]
    },
    {
     "name": "stderr",
     "output_type": "stream",
     "text": [
      "2021-10-01 18:01:53,407 - stpipe.Coron3Pipeline - INFO - Prefetching reference files for dataset: 'new_ref_2.fits' reftypes = []\n"
     ]
    },
    {
     "name": "stderr",
     "output_type": "stream",
     "text": [
      "2021-10-01 18:01:53,409 - stpipe.Coron3Pipeline - INFO - Override for PSFMASK reference file is '/data1/jenkins/workspace/Notebooks/jwst_validation_notebooks_spacetelescope/tmp/tmppewwjd3a/jwst_miri_psfmask_0001_new.fits'.\n"
     ]
    },
    {
     "name": "stderr",
     "output_type": "stream",
     "text": [
      "2021-10-01 18:01:53,571 - stpipe.Coron3Pipeline - INFO - Prefetching reference files for dataset: 'new_ref_1.fits' reftypes = []\n"
     ]
    },
    {
     "name": "stderr",
     "output_type": "stream",
     "text": [
      "2021-10-01 18:01:53,572 - stpipe.Coron3Pipeline - INFO - Override for PSFMASK reference file is '/data1/jenkins/workspace/Notebooks/jwst_validation_notebooks_spacetelescope/tmp/tmppewwjd3a/jwst_miri_psfmask_0001_new.fits'.\n"
     ]
    },
    {
     "name": "stderr",
     "output_type": "stream",
     "text": [
      "2021-10-01 18:01:53,734 - stpipe.Coron3Pipeline - INFO - Prefetching reference files for dataset: 'new_ref_0.fits' reftypes = []\n"
     ]
    },
    {
     "name": "stderr",
     "output_type": "stream",
     "text": [
      "2021-10-01 18:01:53,735 - stpipe.Coron3Pipeline - INFO - Override for PSFMASK reference file is '/data1/jenkins/workspace/Notebooks/jwst_validation_notebooks_spacetelescope/tmp/tmppewwjd3a/jwst_miri_psfmask_0001_new.fits'.\n"
     ]
    },
    {
     "name": "stderr",
     "output_type": "stream",
     "text": [
      "2021-10-01 18:01:54,036 - stpipe.Coron3Pipeline - INFO - Prefetching reference files for dataset: 'new_targ.fits' reftypes = []\n"
     ]
    },
    {
     "name": "stderr",
     "output_type": "stream",
     "text": [
      "2021-10-01 18:01:54,038 - stpipe.Coron3Pipeline - INFO - Override for PSFMASK reference file is '/data1/jenkins/workspace/Notebooks/jwst_validation_notebooks_spacetelescope/tmp/tmppewwjd3a/jwst_miri_psfmask_0001_new.fits'.\n"
     ]
    },
    {
     "name": "stderr",
     "output_type": "stream",
     "text": [
      "2021-10-01 18:01:55,602 - stpipe.Coron3Pipeline.outlier_detection - INFO - Step outlier_detection running with args (<CubeModel(1, 224, 288) from new_ref_8.fits>,).\n"
     ]
    },
    {
     "name": "stderr",
     "output_type": "stream",
     "text": [
      "2021-10-01 18:01:55,604 - stpipe.Coron3Pipeline.outlier_detection - INFO - Step outlier_detection parameters are: {'pre_hooks': [], 'post_hooks': [], 'output_file': None, 'output_dir': None, 'output_ext': '.fits', 'output_use_model': False, 'output_use_index': True, 'save_results': True, 'skip': False, 'suffix': 'c1001_crfints', 'search_output_file': False, 'input_dir': '', 'weight_type': 'ivm', 'pixfrac': 1.0, 'kernel': 'square', 'fillval': 'INDEF', 'nlow': 0, 'nhigh': 0, 'maskpt': 0.7, 'grow': 1, 'snr': '5.0 4.0', 'scale': '1.2 0.7', 'backg': 0.0, 'save_intermediate_results': False, 'resample_data': True, 'good_bits': '~DO_NOT_USE', 'scale_detection': False, 'allowed_memory': None}\n"
     ]
    },
    {
     "name": "stderr",
     "output_type": "stream",
     "text": [
      "2021-10-01 18:01:55,613 - stpipe.Coron3Pipeline.outlier_detection - WARNING - Input only contains 1 integration\n"
     ]
    },
    {
     "name": "stderr",
     "output_type": "stream",
     "text": [
      "2021-10-01 18:01:55,613 - stpipe.Coron3Pipeline.outlier_detection - WARNING - Outlier detection step will be skipped\n"
     ]
    },
    {
     "name": "stderr",
     "output_type": "stream",
     "text": [
      "2021-10-01 18:01:55,615 - stpipe.Coron3Pipeline.outlier_detection - INFO - Step outlier_detection done\n"
     ]
    },
    {
     "name": "stderr",
     "output_type": "stream",
     "text": [
      "2021-10-01 18:01:55,708 - stpipe.Coron3Pipeline.outlier_detection - INFO - Step outlier_detection running with args (<CubeModel(1, 224, 288) from new_ref_7.fits>,).\n"
     ]
    },
    {
     "name": "stderr",
     "output_type": "stream",
     "text": [
      "2021-10-01 18:01:55,710 - stpipe.Coron3Pipeline.outlier_detection - INFO - Step outlier_detection parameters are: {'pre_hooks': [], 'post_hooks': [], 'output_file': None, 'output_dir': None, 'output_ext': '.fits', 'output_use_model': False, 'output_use_index': True, 'save_results': True, 'skip': False, 'suffix': 'c1001_crfints', 'search_output_file': False, 'input_dir': '', 'weight_type': 'ivm', 'pixfrac': 1.0, 'kernel': 'square', 'fillval': 'INDEF', 'nlow': 0, 'nhigh': 0, 'maskpt': 0.7, 'grow': 1, 'snr': '5.0 4.0', 'scale': '1.2 0.7', 'backg': 0.0, 'save_intermediate_results': False, 'resample_data': True, 'good_bits': '~DO_NOT_USE', 'scale_detection': False, 'allowed_memory': None}\n"
     ]
    },
    {
     "name": "stderr",
     "output_type": "stream",
     "text": [
      "2021-10-01 18:01:55,719 - stpipe.Coron3Pipeline.outlier_detection - WARNING - Input only contains 1 integration\n"
     ]
    },
    {
     "name": "stderr",
     "output_type": "stream",
     "text": [
      "2021-10-01 18:01:55,720 - stpipe.Coron3Pipeline.outlier_detection - WARNING - Outlier detection step will be skipped\n"
     ]
    },
    {
     "name": "stderr",
     "output_type": "stream",
     "text": [
      "2021-10-01 18:01:55,721 - stpipe.Coron3Pipeline.outlier_detection - INFO - Step outlier_detection done\n"
     ]
    },
    {
     "name": "stderr",
     "output_type": "stream",
     "text": [
      "2021-10-01 18:01:55,819 - stpipe.Coron3Pipeline.outlier_detection - INFO - Step outlier_detection running with args (<CubeModel(1, 224, 288) from new_ref_6.fits>,).\n"
     ]
    },
    {
     "name": "stderr",
     "output_type": "stream",
     "text": [
      "2021-10-01 18:01:55,821 - stpipe.Coron3Pipeline.outlier_detection - INFO - Step outlier_detection parameters are: {'pre_hooks': [], 'post_hooks': [], 'output_file': None, 'output_dir': None, 'output_ext': '.fits', 'output_use_model': False, 'output_use_index': True, 'save_results': True, 'skip': False, 'suffix': 'c1001_crfints', 'search_output_file': False, 'input_dir': '', 'weight_type': 'ivm', 'pixfrac': 1.0, 'kernel': 'square', 'fillval': 'INDEF', 'nlow': 0, 'nhigh': 0, 'maskpt': 0.7, 'grow': 1, 'snr': '5.0 4.0', 'scale': '1.2 0.7', 'backg': 0.0, 'save_intermediate_results': False, 'resample_data': True, 'good_bits': '~DO_NOT_USE', 'scale_detection': False, 'allowed_memory': None}\n"
     ]
    },
    {
     "name": "stderr",
     "output_type": "stream",
     "text": [
      "2021-10-01 18:01:55,830 - stpipe.Coron3Pipeline.outlier_detection - WARNING - Input only contains 1 integration\n"
     ]
    },
    {
     "name": "stderr",
     "output_type": "stream",
     "text": [
      "2021-10-01 18:01:55,830 - stpipe.Coron3Pipeline.outlier_detection - WARNING - Outlier detection step will be skipped\n"
     ]
    },
    {
     "name": "stderr",
     "output_type": "stream",
     "text": [
      "2021-10-01 18:01:55,832 - stpipe.Coron3Pipeline.outlier_detection - INFO - Step outlier_detection done\n"
     ]
    },
    {
     "name": "stderr",
     "output_type": "stream",
     "text": [
      "2021-10-01 18:01:55,932 - stpipe.Coron3Pipeline.outlier_detection - INFO - Step outlier_detection running with args (<CubeModel(1, 224, 288) from new_ref_5.fits>,).\n"
     ]
    },
    {
     "name": "stderr",
     "output_type": "stream",
     "text": [
      "2021-10-01 18:01:55,934 - stpipe.Coron3Pipeline.outlier_detection - INFO - Step outlier_detection parameters are: {'pre_hooks': [], 'post_hooks': [], 'output_file': None, 'output_dir': None, 'output_ext': '.fits', 'output_use_model': False, 'output_use_index': True, 'save_results': True, 'skip': False, 'suffix': 'c1001_crfints', 'search_output_file': False, 'input_dir': '', 'weight_type': 'ivm', 'pixfrac': 1.0, 'kernel': 'square', 'fillval': 'INDEF', 'nlow': 0, 'nhigh': 0, 'maskpt': 0.7, 'grow': 1, 'snr': '5.0 4.0', 'scale': '1.2 0.7', 'backg': 0.0, 'save_intermediate_results': False, 'resample_data': True, 'good_bits': '~DO_NOT_USE', 'scale_detection': False, 'allowed_memory': None}\n"
     ]
    },
    {
     "name": "stderr",
     "output_type": "stream",
     "text": [
      "2021-10-01 18:01:55,943 - stpipe.Coron3Pipeline.outlier_detection - WARNING - Input only contains 1 integration\n"
     ]
    },
    {
     "name": "stderr",
     "output_type": "stream",
     "text": [
      "2021-10-01 18:01:55,944 - stpipe.Coron3Pipeline.outlier_detection - WARNING - Outlier detection step will be skipped\n"
     ]
    },
    {
     "name": "stderr",
     "output_type": "stream",
     "text": [
      "2021-10-01 18:01:55,945 - stpipe.Coron3Pipeline.outlier_detection - INFO - Step outlier_detection done\n"
     ]
    },
    {
     "name": "stderr",
     "output_type": "stream",
     "text": [
      "2021-10-01 18:01:56,098 - stpipe.Coron3Pipeline.outlier_detection - INFO - Step outlier_detection running with args (<CubeModel(1, 224, 288) from new_ref_4.fits>,).\n"
     ]
    },
    {
     "name": "stderr",
     "output_type": "stream",
     "text": [
      "2021-10-01 18:01:56,101 - stpipe.Coron3Pipeline.outlier_detection - INFO - Step outlier_detection parameters are: {'pre_hooks': [], 'post_hooks': [], 'output_file': None, 'output_dir': None, 'output_ext': '.fits', 'output_use_model': False, 'output_use_index': True, 'save_results': True, 'skip': False, 'suffix': 'c1001_crfints', 'search_output_file': False, 'input_dir': '', 'weight_type': 'ivm', 'pixfrac': 1.0, 'kernel': 'square', 'fillval': 'INDEF', 'nlow': 0, 'nhigh': 0, 'maskpt': 0.7, 'grow': 1, 'snr': '5.0 4.0', 'scale': '1.2 0.7', 'backg': 0.0, 'save_intermediate_results': False, 'resample_data': True, 'good_bits': '~DO_NOT_USE', 'scale_detection': False, 'allowed_memory': None}\n"
     ]
    },
    {
     "name": "stderr",
     "output_type": "stream",
     "text": [
      "2021-10-01 18:01:56,109 - stpipe.Coron3Pipeline.outlier_detection - WARNING - Input only contains 1 integration\n"
     ]
    },
    {
     "name": "stderr",
     "output_type": "stream",
     "text": [
      "2021-10-01 18:01:56,110 - stpipe.Coron3Pipeline.outlier_detection - WARNING - Outlier detection step will be skipped\n"
     ]
    },
    {
     "name": "stderr",
     "output_type": "stream",
     "text": [
      "2021-10-01 18:01:56,112 - stpipe.Coron3Pipeline.outlier_detection - INFO - Step outlier_detection done\n"
     ]
    },
    {
     "name": "stderr",
     "output_type": "stream",
     "text": [
      "2021-10-01 18:01:56,214 - stpipe.Coron3Pipeline.outlier_detection - INFO - Step outlier_detection running with args (<CubeModel(1, 224, 288) from new_ref_3.fits>,).\n"
     ]
    },
    {
     "name": "stderr",
     "output_type": "stream",
     "text": [
      "2021-10-01 18:01:56,216 - stpipe.Coron3Pipeline.outlier_detection - INFO - Step outlier_detection parameters are: {'pre_hooks': [], 'post_hooks': [], 'output_file': None, 'output_dir': None, 'output_ext': '.fits', 'output_use_model': False, 'output_use_index': True, 'save_results': True, 'skip': False, 'suffix': 'c1001_crfints', 'search_output_file': False, 'input_dir': '', 'weight_type': 'ivm', 'pixfrac': 1.0, 'kernel': 'square', 'fillval': 'INDEF', 'nlow': 0, 'nhigh': 0, 'maskpt': 0.7, 'grow': 1, 'snr': '5.0 4.0', 'scale': '1.2 0.7', 'backg': 0.0, 'save_intermediate_results': False, 'resample_data': True, 'good_bits': '~DO_NOT_USE', 'scale_detection': False, 'allowed_memory': None}\n"
     ]
    },
    {
     "name": "stderr",
     "output_type": "stream",
     "text": [
      "2021-10-01 18:01:56,224 - stpipe.Coron3Pipeline.outlier_detection - WARNING - Input only contains 1 integration\n"
     ]
    },
    {
     "name": "stderr",
     "output_type": "stream",
     "text": [
      "2021-10-01 18:01:56,225 - stpipe.Coron3Pipeline.outlier_detection - WARNING - Outlier detection step will be skipped\n"
     ]
    },
    {
     "name": "stderr",
     "output_type": "stream",
     "text": [
      "2021-10-01 18:01:56,226 - stpipe.Coron3Pipeline.outlier_detection - INFO - Step outlier_detection done\n"
     ]
    },
    {
     "name": "stderr",
     "output_type": "stream",
     "text": [
      "2021-10-01 18:01:56,323 - stpipe.Coron3Pipeline.outlier_detection - INFO - Step outlier_detection running with args (<CubeModel(1, 224, 288) from new_ref_2.fits>,).\n"
     ]
    },
    {
     "name": "stderr",
     "output_type": "stream",
     "text": [
      "2021-10-01 18:01:56,325 - stpipe.Coron3Pipeline.outlier_detection - INFO - Step outlier_detection parameters are: {'pre_hooks': [], 'post_hooks': [], 'output_file': None, 'output_dir': None, 'output_ext': '.fits', 'output_use_model': False, 'output_use_index': True, 'save_results': True, 'skip': False, 'suffix': 'c1001_crfints', 'search_output_file': False, 'input_dir': '', 'weight_type': 'ivm', 'pixfrac': 1.0, 'kernel': 'square', 'fillval': 'INDEF', 'nlow': 0, 'nhigh': 0, 'maskpt': 0.7, 'grow': 1, 'snr': '5.0 4.0', 'scale': '1.2 0.7', 'backg': 0.0, 'save_intermediate_results': False, 'resample_data': True, 'good_bits': '~DO_NOT_USE', 'scale_detection': False, 'allowed_memory': None}\n"
     ]
    },
    {
     "name": "stderr",
     "output_type": "stream",
     "text": [
      "2021-10-01 18:01:56,333 - stpipe.Coron3Pipeline.outlier_detection - WARNING - Input only contains 1 integration\n"
     ]
    },
    {
     "name": "stderr",
     "output_type": "stream",
     "text": [
      "2021-10-01 18:01:56,334 - stpipe.Coron3Pipeline.outlier_detection - WARNING - Outlier detection step will be skipped\n"
     ]
    },
    {
     "name": "stderr",
     "output_type": "stream",
     "text": [
      "2021-10-01 18:01:56,336 - stpipe.Coron3Pipeline.outlier_detection - INFO - Step outlier_detection done\n"
     ]
    },
    {
     "name": "stderr",
     "output_type": "stream",
     "text": [
      "2021-10-01 18:01:56,425 - stpipe.Coron3Pipeline.outlier_detection - INFO - Step outlier_detection running with args (<CubeModel(1, 224, 288) from new_ref_1.fits>,).\n"
     ]
    },
    {
     "name": "stderr",
     "output_type": "stream",
     "text": [
      "2021-10-01 18:01:56,427 - stpipe.Coron3Pipeline.outlier_detection - INFO - Step outlier_detection parameters are: {'pre_hooks': [], 'post_hooks': [], 'output_file': None, 'output_dir': None, 'output_ext': '.fits', 'output_use_model': False, 'output_use_index': True, 'save_results': True, 'skip': False, 'suffix': 'c1001_crfints', 'search_output_file': False, 'input_dir': '', 'weight_type': 'ivm', 'pixfrac': 1.0, 'kernel': 'square', 'fillval': 'INDEF', 'nlow': 0, 'nhigh': 0, 'maskpt': 0.7, 'grow': 1, 'snr': '5.0 4.0', 'scale': '1.2 0.7', 'backg': 0.0, 'save_intermediate_results': False, 'resample_data': True, 'good_bits': '~DO_NOT_USE', 'scale_detection': False, 'allowed_memory': None}\n"
     ]
    },
    {
     "name": "stderr",
     "output_type": "stream",
     "text": [
      "2021-10-01 18:01:56,435 - stpipe.Coron3Pipeline.outlier_detection - WARNING - Input only contains 1 integration\n"
     ]
    },
    {
     "name": "stderr",
     "output_type": "stream",
     "text": [
      "2021-10-01 18:01:56,436 - stpipe.Coron3Pipeline.outlier_detection - WARNING - Outlier detection step will be skipped\n"
     ]
    },
    {
     "name": "stderr",
     "output_type": "stream",
     "text": [
      "2021-10-01 18:01:56,437 - stpipe.Coron3Pipeline.outlier_detection - INFO - Step outlier_detection done\n"
     ]
    },
    {
     "name": "stderr",
     "output_type": "stream",
     "text": [
      "2021-10-01 18:01:56,522 - stpipe.Coron3Pipeline.outlier_detection - INFO - Step outlier_detection running with args (<CubeModel(1, 224, 288) from new_ref_0.fits>,).\n"
     ]
    },
    {
     "name": "stderr",
     "output_type": "stream",
     "text": [
      "2021-10-01 18:01:56,524 - stpipe.Coron3Pipeline.outlier_detection - INFO - Step outlier_detection parameters are: {'pre_hooks': [], 'post_hooks': [], 'output_file': None, 'output_dir': None, 'output_ext': '.fits', 'output_use_model': False, 'output_use_index': True, 'save_results': True, 'skip': False, 'suffix': 'c1001_crfints', 'search_output_file': False, 'input_dir': '', 'weight_type': 'ivm', 'pixfrac': 1.0, 'kernel': 'square', 'fillval': 'INDEF', 'nlow': 0, 'nhigh': 0, 'maskpt': 0.7, 'grow': 1, 'snr': '5.0 4.0', 'scale': '1.2 0.7', 'backg': 0.0, 'save_intermediate_results': False, 'resample_data': True, 'good_bits': '~DO_NOT_USE', 'scale_detection': False, 'allowed_memory': None}\n"
     ]
    },
    {
     "name": "stderr",
     "output_type": "stream",
     "text": [
      "2021-10-01 18:01:56,532 - stpipe.Coron3Pipeline.outlier_detection - WARNING - Input only contains 1 integration\n"
     ]
    },
    {
     "name": "stderr",
     "output_type": "stream",
     "text": [
      "2021-10-01 18:01:56,533 - stpipe.Coron3Pipeline.outlier_detection - WARNING - Outlier detection step will be skipped\n"
     ]
    },
    {
     "name": "stderr",
     "output_type": "stream",
     "text": [
      "2021-10-01 18:01:56,534 - stpipe.Coron3Pipeline.outlier_detection - INFO - Step outlier_detection done\n"
     ]
    },
    {
     "name": "stderr",
     "output_type": "stream",
     "text": [
      "2021-10-01 18:01:56,621 - stpipe.Coron3Pipeline.stack_refs - INFO - Step stack_refs running with args (<ModelContainer>,).\n"
     ]
    },
    {
     "name": "stderr",
     "output_type": "stream",
     "text": [
      "2021-10-01 18:01:56,622 - stpipe.Coron3Pipeline.stack_refs - INFO - Step stack_refs parameters are: {'pre_hooks': [], 'post_hooks': [], 'output_file': None, 'output_dir': None, 'output_ext': '.fits', 'output_use_model': False, 'output_use_index': True, 'save_results': False, 'skip': False, 'suffix': None, 'search_output_file': True, 'input_dir': ''}\n"
     ]
    },
    {
     "name": "stderr",
     "output_type": "stream",
     "text": [
      "2021-10-01 18:01:56,629 - stpipe.Coron3Pipeline.stack_refs - INFO -  Adding psf member 1 to output stack\n"
     ]
    },
    {
     "name": "stderr",
     "output_type": "stream",
     "text": [
      "2021-10-01 18:01:56,632 - stpipe.Coron3Pipeline.stack_refs - INFO -  Adding psf member 2 to output stack\n"
     ]
    },
    {
     "name": "stderr",
     "output_type": "stream",
     "text": [
      "2021-10-01 18:01:56,633 - stpipe.Coron3Pipeline.stack_refs - INFO -  Adding psf member 3 to output stack\n"
     ]
    },
    {
     "name": "stderr",
     "output_type": "stream",
     "text": [
      "2021-10-01 18:01:56,634 - stpipe.Coron3Pipeline.stack_refs - INFO -  Adding psf member 4 to output stack\n"
     ]
    },
    {
     "name": "stderr",
     "output_type": "stream",
     "text": [
      "2021-10-01 18:01:56,636 - stpipe.Coron3Pipeline.stack_refs - INFO -  Adding psf member 5 to output stack\n"
     ]
    },
    {
     "name": "stderr",
     "output_type": "stream",
     "text": [
      "2021-10-01 18:01:56,637 - stpipe.Coron3Pipeline.stack_refs - INFO -  Adding psf member 6 to output stack\n"
     ]
    },
    {
     "name": "stderr",
     "output_type": "stream",
     "text": [
      "2021-10-01 18:01:56,639 - stpipe.Coron3Pipeline.stack_refs - INFO -  Adding psf member 7 to output stack\n"
     ]
    },
    {
     "name": "stderr",
     "output_type": "stream",
     "text": [
      "2021-10-01 18:01:56,642 - stpipe.Coron3Pipeline.stack_refs - INFO -  Adding psf member 8 to output stack\n"
     ]
    },
    {
     "name": "stderr",
     "output_type": "stream",
     "text": [
      "2021-10-01 18:01:56,644 - stpipe.Coron3Pipeline.stack_refs - INFO -  Adding psf member 9 to output stack\n"
     ]
    },
    {
     "name": "stderr",
     "output_type": "stream",
     "text": [
      "2021-10-01 18:01:56,666 - stpipe.Coron3Pipeline.stack_refs - INFO - Step stack_refs done\n"
     ]
    },
    {
     "name": "stderr",
     "output_type": "stream",
     "text": [
      "2021-10-01 18:01:56,759 - stpipe.Coron3Pipeline - INFO - Saved model in /data1/jenkins/workspace/Notebooks/jwst_validation_notebooks_spacetelescope/tmp/tmppewwjd3a/jw10005-miri-mask1065_psfstack.fits\n"
     ]
    },
    {
     "name": "stderr",
     "output_type": "stream",
     "text": [
      "2021-10-01 18:01:57,021 - stpipe.Coron3Pipeline.outlier_detection - INFO - Step outlier_detection running with args (<CubeModel(1, 224, 288) from new_targ.fits>,).\n"
     ]
    },
    {
     "name": "stderr",
     "output_type": "stream",
     "text": [
      "2021-10-01 18:01:57,023 - stpipe.Coron3Pipeline.outlier_detection - INFO - Step outlier_detection parameters are: {'pre_hooks': [], 'post_hooks': [], 'output_file': None, 'output_dir': None, 'output_ext': '.fits', 'output_use_model': False, 'output_use_index': True, 'save_results': True, 'skip': False, 'suffix': 'c1001_crfints', 'search_output_file': False, 'input_dir': '', 'weight_type': 'ivm', 'pixfrac': 1.0, 'kernel': 'square', 'fillval': 'INDEF', 'nlow': 0, 'nhigh': 0, 'maskpt': 0.7, 'grow': 1, 'snr': '5.0 4.0', 'scale': '1.2 0.7', 'backg': 0.0, 'save_intermediate_results': False, 'resample_data': True, 'good_bits': '~DO_NOT_USE', 'scale_detection': False, 'allowed_memory': None}\n"
     ]
    },
    {
     "name": "stderr",
     "output_type": "stream",
     "text": [
      "2021-10-01 18:01:57,031 - stpipe.Coron3Pipeline.outlier_detection - WARNING - Input only contains 1 integration\n"
     ]
    },
    {
     "name": "stderr",
     "output_type": "stream",
     "text": [
      "2021-10-01 18:01:57,032 - stpipe.Coron3Pipeline.outlier_detection - WARNING - Outlier detection step will be skipped\n"
     ]
    },
    {
     "name": "stderr",
     "output_type": "stream",
     "text": [
      "2021-10-01 18:01:57,033 - stpipe.Coron3Pipeline.outlier_detection - INFO - Step outlier_detection done\n"
     ]
    },
    {
     "name": "stderr",
     "output_type": "stream",
     "text": [
      "2021-10-01 18:01:57,134 - stpipe.Coron3Pipeline.align_refs - INFO - Step align_refs running with args (<CubeModel(1, 224, 288) from new_targ.fits>, <CubeModel(9, 224, 288) from jw10005-miri-mask1065_psfstack.fits>).\n"
     ]
    },
    {
     "name": "stderr",
     "output_type": "stream",
     "text": [
      "2021-10-01 18:01:57,135 - stpipe.Coron3Pipeline.align_refs - INFO - Step align_refs parameters are: {'pre_hooks': [], 'post_hooks': [], 'output_file': None, 'output_dir': None, 'output_ext': '.fits', 'output_use_model': False, 'output_use_index': True, 'save_results': False, 'skip': False, 'suffix': None, 'search_output_file': True, 'input_dir': '', 'median_box_length': 3, 'bad_bits': 'DO_NOT_USE'}\n"
     ]
    },
    {
     "name": "stderr",
     "output_type": "stream",
     "text": [
      "2021-10-01 18:01:57,144 - stpipe.Coron3Pipeline.align_refs - INFO - Using PSFMASK reference file /data1/jenkins/workspace/Notebooks/jwst_validation_notebooks_spacetelescope/tmp/tmppewwjd3a/jwst_miri_psfmask_0001_new.fits\n"
     ]
    },
    {
     "name": "stderr",
     "output_type": "stream",
     "text": [
      "2021-10-01 18:01:57,193 - stpipe.Coron3Pipeline.align_refs - WARNING - /data1/jenkins/workspace/Notebooks/jwst_validation_notebooks_spacetelescope/miniconda3/envs/jwst_validation_notebooks/lib/python3.9/site-packages/numpy/core/fromnumeric.py:3440: RuntimeWarning: Mean of empty slice.\n",
      "  return _methods._mean(a, axis=axis, dtype=dtype,\n",
      "\n"
     ]
    },
    {
     "name": "stderr",
     "output_type": "stream",
     "text": [
      "2021-10-01 18:01:57,195 - stpipe.Coron3Pipeline.align_refs - WARNING - /data1/jenkins/workspace/Notebooks/jwst_validation_notebooks_spacetelescope/miniconda3/envs/jwst_validation_notebooks/lib/python3.9/site-packages/numpy/core/_methods.py:189: RuntimeWarning: invalid value encountered in true_divide\n",
      "  ret = ret.dtype.type(ret / rcount)\n",
      "\n"
     ]
    },
    {
     "name": "stderr",
     "output_type": "stream",
     "text": [
      "2021-10-01 18:01:57,195 - stpipe.Coron3Pipeline.align_refs - WARNING - Median filter returned NaN setting value to 0.\n"
     ]
    },
    {
     "name": "stderr",
     "output_type": "stream",
     "text": [
      "2021-10-01 18:01:57,199 - stpipe.Coron3Pipeline.align_refs - WARNING - Median filter returned NaN setting value to 0.\n"
     ]
    },
    {
     "name": "stderr",
     "output_type": "stream",
     "text": [
      "2021-10-01 18:01:57,199 - stpipe.Coron3Pipeline.align_refs - WARNING - Median filter returned NaN setting value to 0.\n"
     ]
    },
    {
     "name": "stderr",
     "output_type": "stream",
     "text": [
      "2021-10-01 18:01:57,200 - stpipe.Coron3Pipeline.align_refs - WARNING - Median filter returned NaN setting value to 0.\n"
     ]
    },
    {
     "name": "stderr",
     "output_type": "stream",
     "text": [
      "2021-10-01 18:01:57,201 - stpipe.Coron3Pipeline.align_refs - WARNING - Median filter returned NaN setting value to 0.\n"
     ]
    },
    {
     "name": "stderr",
     "output_type": "stream",
     "text": [
      "2021-10-01 18:01:57,201 - stpipe.Coron3Pipeline.align_refs - WARNING - Median filter returned NaN setting value to 0.\n"
     ]
    },
    {
     "name": "stderr",
     "output_type": "stream",
     "text": [
      "2021-10-01 18:01:57,202 - stpipe.Coron3Pipeline.align_refs - WARNING - Median filter returned NaN setting value to 0.\n"
     ]
    },
    {
     "name": "stderr",
     "output_type": "stream",
     "text": [
      "2021-10-01 18:01:57,203 - stpipe.Coron3Pipeline.align_refs - WARNING - Median filter returned NaN setting value to 0.\n"
     ]
    },
    {
     "name": "stderr",
     "output_type": "stream",
     "text": [
      "2021-10-01 18:01:57,203 - stpipe.Coron3Pipeline.align_refs - WARNING - Median filter returned NaN setting value to 0.\n"
     ]
    },
    {
     "name": "stderr",
     "output_type": "stream",
     "text": [
      "2021-10-01 18:01:57,204 - stpipe.Coron3Pipeline.align_refs - WARNING - Median filter returned NaN setting value to 0.\n"
     ]
    },
    {
     "name": "stderr",
     "output_type": "stream",
     "text": [
      "2021-10-01 18:01:57,215 - stpipe.Coron3Pipeline.align_refs - WARNING - Median filter returned NaN setting value to 0.\n"
     ]
    },
    {
     "name": "stderr",
     "output_type": "stream",
     "text": [
      "2021-10-01 18:01:57,218 - stpipe.Coron3Pipeline.align_refs - WARNING - Median filter returned NaN setting value to 0.\n"
     ]
    },
    {
     "name": "stderr",
     "output_type": "stream",
     "text": [
      "2021-10-01 18:01:57,218 - stpipe.Coron3Pipeline.align_refs - WARNING - Median filter returned NaN setting value to 0.\n"
     ]
    },
    {
     "name": "stderr",
     "output_type": "stream",
     "text": [
      "2021-10-01 18:01:57,218 - stpipe.Coron3Pipeline.align_refs - WARNING - Median filter returned NaN setting value to 0.\n"
     ]
    },
    {
     "name": "stderr",
     "output_type": "stream",
     "text": [
      "2021-10-01 18:01:57,219 - stpipe.Coron3Pipeline.align_refs - WARNING - Median filter returned NaN setting value to 0.\n"
     ]
    },
    {
     "name": "stderr",
     "output_type": "stream",
     "text": [
      "2021-10-01 18:01:57,220 - stpipe.Coron3Pipeline.align_refs - WARNING - Median filter returned NaN setting value to 0.\n"
     ]
    },
    {
     "name": "stderr",
     "output_type": "stream",
     "text": [
      "2021-10-01 18:01:57,220 - stpipe.Coron3Pipeline.align_refs - WARNING - Median filter returned NaN setting value to 0.\n"
     ]
    },
    {
     "name": "stderr",
     "output_type": "stream",
     "text": [
      "2021-10-01 18:01:57,221 - stpipe.Coron3Pipeline.align_refs - WARNING - Median filter returned NaN setting value to 0.\n"
     ]
    },
    {
     "name": "stderr",
     "output_type": "stream",
     "text": [
      "2021-10-01 18:01:57,221 - stpipe.Coron3Pipeline.align_refs - WARNING - Median filter returned NaN setting value to 0.\n"
     ]
    },
    {
     "name": "stderr",
     "output_type": "stream",
     "text": [
      "2021-10-01 18:01:57,222 - stpipe.Coron3Pipeline.align_refs - WARNING - Median filter returned NaN setting value to 0.\n"
     ]
    },
    {
     "name": "stderr",
     "output_type": "stream",
     "text": [
      "2021-10-01 18:01:57,231 - stpipe.Coron3Pipeline.align_refs - WARNING - Median filter returned NaN setting value to 0.\n"
     ]
    },
    {
     "name": "stderr",
     "output_type": "stream",
     "text": [
      "2021-10-01 18:01:57,234 - stpipe.Coron3Pipeline.align_refs - WARNING - Median filter returned NaN setting value to 0.\n"
     ]
    },
    {
     "name": "stderr",
     "output_type": "stream",
     "text": [
      "2021-10-01 18:01:57,234 - stpipe.Coron3Pipeline.align_refs - WARNING - Median filter returned NaN setting value to 0.\n"
     ]
    },
    {
     "name": "stderr",
     "output_type": "stream",
     "text": [
      "2021-10-01 18:01:57,235 - stpipe.Coron3Pipeline.align_refs - WARNING - Median filter returned NaN setting value to 0.\n"
     ]
    },
    {
     "name": "stderr",
     "output_type": "stream",
     "text": [
      "2021-10-01 18:01:57,235 - stpipe.Coron3Pipeline.align_refs - WARNING - Median filter returned NaN setting value to 0.\n"
     ]
    },
    {
     "name": "stderr",
     "output_type": "stream",
     "text": [
      "2021-10-01 18:01:57,236 - stpipe.Coron3Pipeline.align_refs - WARNING - Median filter returned NaN setting value to 0.\n"
     ]
    },
    {
     "name": "stderr",
     "output_type": "stream",
     "text": [
      "2021-10-01 18:01:57,236 - stpipe.Coron3Pipeline.align_refs - WARNING - Median filter returned NaN setting value to 0.\n"
     ]
    },
    {
     "name": "stderr",
     "output_type": "stream",
     "text": [
      "2021-10-01 18:01:57,237 - stpipe.Coron3Pipeline.align_refs - WARNING - Median filter returned NaN setting value to 0.\n"
     ]
    },
    {
     "name": "stderr",
     "output_type": "stream",
     "text": [
      "2021-10-01 18:01:57,237 - stpipe.Coron3Pipeline.align_refs - WARNING - Median filter returned NaN setting value to 0.\n"
     ]
    },
    {
     "name": "stderr",
     "output_type": "stream",
     "text": [
      "2021-10-01 18:01:57,238 - stpipe.Coron3Pipeline.align_refs - WARNING - Median filter returned NaN setting value to 0.\n"
     ]
    },
    {
     "name": "stderr",
     "output_type": "stream",
     "text": [
      "2021-10-01 18:01:57,246 - stpipe.Coron3Pipeline.align_refs - WARNING - Median filter returned NaN setting value to 0.\n"
     ]
    },
    {
     "name": "stderr",
     "output_type": "stream",
     "text": [
      "2021-10-01 18:01:57,249 - stpipe.Coron3Pipeline.align_refs - WARNING - Median filter returned NaN setting value to 0.\n"
     ]
    },
    {
     "name": "stderr",
     "output_type": "stream",
     "text": [
      "2021-10-01 18:01:57,249 - stpipe.Coron3Pipeline.align_refs - WARNING - Median filter returned NaN setting value to 0.\n"
     ]
    },
    {
     "name": "stderr",
     "output_type": "stream",
     "text": [
      "2021-10-01 18:01:57,250 - stpipe.Coron3Pipeline.align_refs - WARNING - Median filter returned NaN setting value to 0.\n"
     ]
    },
    {
     "name": "stderr",
     "output_type": "stream",
     "text": [
      "2021-10-01 18:01:57,250 - stpipe.Coron3Pipeline.align_refs - WARNING - Median filter returned NaN setting value to 0.\n"
     ]
    },
    {
     "name": "stderr",
     "output_type": "stream",
     "text": [
      "2021-10-01 18:01:57,251 - stpipe.Coron3Pipeline.align_refs - WARNING - Median filter returned NaN setting value to 0.\n"
     ]
    },
    {
     "name": "stderr",
     "output_type": "stream",
     "text": [
      "2021-10-01 18:01:57,251 - stpipe.Coron3Pipeline.align_refs - WARNING - Median filter returned NaN setting value to 0.\n"
     ]
    },
    {
     "name": "stderr",
     "output_type": "stream",
     "text": [
      "2021-10-01 18:01:57,252 - stpipe.Coron3Pipeline.align_refs - WARNING - Median filter returned NaN setting value to 0.\n"
     ]
    },
    {
     "name": "stderr",
     "output_type": "stream",
     "text": [
      "2021-10-01 18:01:57,252 - stpipe.Coron3Pipeline.align_refs - WARNING - Median filter returned NaN setting value to 0.\n"
     ]
    },
    {
     "name": "stderr",
     "output_type": "stream",
     "text": [
      "2021-10-01 18:01:57,253 - stpipe.Coron3Pipeline.align_refs - WARNING - Median filter returned NaN setting value to 0.\n"
     ]
    },
    {
     "name": "stderr",
     "output_type": "stream",
     "text": [
      "2021-10-01 18:01:57,260 - stpipe.Coron3Pipeline.align_refs - WARNING - Median filter returned NaN setting value to 0.\n"
     ]
    },
    {
     "name": "stderr",
     "output_type": "stream",
     "text": [
      "2021-10-01 18:01:57,263 - stpipe.Coron3Pipeline.align_refs - WARNING - Median filter returned NaN setting value to 0.\n"
     ]
    },
    {
     "name": "stderr",
     "output_type": "stream",
     "text": [
      "2021-10-01 18:01:57,263 - stpipe.Coron3Pipeline.align_refs - WARNING - Median filter returned NaN setting value to 0.\n"
     ]
    },
    {
     "name": "stderr",
     "output_type": "stream",
     "text": [
      "2021-10-01 18:01:57,264 - stpipe.Coron3Pipeline.align_refs - WARNING - Median filter returned NaN setting value to 0.\n"
     ]
    },
    {
     "name": "stderr",
     "output_type": "stream",
     "text": [
      "2021-10-01 18:01:57,265 - stpipe.Coron3Pipeline.align_refs - WARNING - Median filter returned NaN setting value to 0.\n"
     ]
    },
    {
     "name": "stderr",
     "output_type": "stream",
     "text": [
      "2021-10-01 18:01:57,265 - stpipe.Coron3Pipeline.align_refs - WARNING - Median filter returned NaN setting value to 0.\n"
     ]
    },
    {
     "name": "stderr",
     "output_type": "stream",
     "text": [
      "2021-10-01 18:01:57,265 - stpipe.Coron3Pipeline.align_refs - WARNING - Median filter returned NaN setting value to 0.\n"
     ]
    },
    {
     "name": "stderr",
     "output_type": "stream",
     "text": [
      "2021-10-01 18:01:57,266 - stpipe.Coron3Pipeline.align_refs - WARNING - Median filter returned NaN setting value to 0.\n"
     ]
    },
    {
     "name": "stderr",
     "output_type": "stream",
     "text": [
      "2021-10-01 18:01:57,267 - stpipe.Coron3Pipeline.align_refs - WARNING - Median filter returned NaN setting value to 0.\n"
     ]
    },
    {
     "name": "stderr",
     "output_type": "stream",
     "text": [
      "2021-10-01 18:01:57,268 - stpipe.Coron3Pipeline.align_refs - WARNING - Median filter returned NaN setting value to 0.\n"
     ]
    },
    {
     "name": "stderr",
     "output_type": "stream",
     "text": [
      "2021-10-01 18:01:57,275 - stpipe.Coron3Pipeline.align_refs - WARNING - Median filter returned NaN setting value to 0.\n"
     ]
    },
    {
     "name": "stderr",
     "output_type": "stream",
     "text": [
      "2021-10-01 18:01:57,278 - stpipe.Coron3Pipeline.align_refs - WARNING - Median filter returned NaN setting value to 0.\n"
     ]
    },
    {
     "name": "stderr",
     "output_type": "stream",
     "text": [
      "2021-10-01 18:01:57,279 - stpipe.Coron3Pipeline.align_refs - WARNING - Median filter returned NaN setting value to 0.\n"
     ]
    },
    {
     "name": "stderr",
     "output_type": "stream",
     "text": [
      "2021-10-01 18:01:57,279 - stpipe.Coron3Pipeline.align_refs - WARNING - Median filter returned NaN setting value to 0.\n"
     ]
    },
    {
     "name": "stderr",
     "output_type": "stream",
     "text": [
      "2021-10-01 18:01:57,280 - stpipe.Coron3Pipeline.align_refs - WARNING - Median filter returned NaN setting value to 0.\n"
     ]
    },
    {
     "name": "stderr",
     "output_type": "stream",
     "text": [
      "2021-10-01 18:01:57,281 - stpipe.Coron3Pipeline.align_refs - WARNING - Median filter returned NaN setting value to 0.\n"
     ]
    },
    {
     "name": "stderr",
     "output_type": "stream",
     "text": [
      "2021-10-01 18:01:57,281 - stpipe.Coron3Pipeline.align_refs - WARNING - Median filter returned NaN setting value to 0.\n"
     ]
    },
    {
     "name": "stderr",
     "output_type": "stream",
     "text": [
      "2021-10-01 18:01:57,282 - stpipe.Coron3Pipeline.align_refs - WARNING - Median filter returned NaN setting value to 0.\n"
     ]
    },
    {
     "name": "stderr",
     "output_type": "stream",
     "text": [
      "2021-10-01 18:01:57,282 - stpipe.Coron3Pipeline.align_refs - WARNING - Median filter returned NaN setting value to 0.\n"
     ]
    },
    {
     "name": "stderr",
     "output_type": "stream",
     "text": [
      "2021-10-01 18:01:57,283 - stpipe.Coron3Pipeline.align_refs - WARNING - Median filter returned NaN setting value to 0.\n"
     ]
    },
    {
     "name": "stderr",
     "output_type": "stream",
     "text": [
      "2021-10-01 18:01:57,292 - stpipe.Coron3Pipeline.align_refs - WARNING - Median filter returned NaN setting value to 0.\n"
     ]
    },
    {
     "name": "stderr",
     "output_type": "stream",
     "text": [
      "2021-10-01 18:01:57,294 - stpipe.Coron3Pipeline.align_refs - WARNING - Median filter returned NaN setting value to 0.\n"
     ]
    },
    {
     "name": "stderr",
     "output_type": "stream",
     "text": [
      "2021-10-01 18:01:57,294 - stpipe.Coron3Pipeline.align_refs - WARNING - Median filter returned NaN setting value to 0.\n"
     ]
    },
    {
     "name": "stderr",
     "output_type": "stream",
     "text": [
      "2021-10-01 18:01:57,295 - stpipe.Coron3Pipeline.align_refs - WARNING - Median filter returned NaN setting value to 0.\n"
     ]
    },
    {
     "name": "stderr",
     "output_type": "stream",
     "text": [
      "2021-10-01 18:01:57,295 - stpipe.Coron3Pipeline.align_refs - WARNING - Median filter returned NaN setting value to 0.\n"
     ]
    },
    {
     "name": "stderr",
     "output_type": "stream",
     "text": [
      "2021-10-01 18:01:57,296 - stpipe.Coron3Pipeline.align_refs - WARNING - Median filter returned NaN setting value to 0.\n"
     ]
    },
    {
     "name": "stderr",
     "output_type": "stream",
     "text": [
      "2021-10-01 18:01:57,296 - stpipe.Coron3Pipeline.align_refs - WARNING - Median filter returned NaN setting value to 0.\n"
     ]
    },
    {
     "name": "stderr",
     "output_type": "stream",
     "text": [
      "2021-10-01 18:01:57,297 - stpipe.Coron3Pipeline.align_refs - WARNING - Median filter returned NaN setting value to 0.\n"
     ]
    },
    {
     "name": "stderr",
     "output_type": "stream",
     "text": [
      "2021-10-01 18:01:57,298 - stpipe.Coron3Pipeline.align_refs - WARNING - Median filter returned NaN setting value to 0.\n"
     ]
    },
    {
     "name": "stderr",
     "output_type": "stream",
     "text": [
      "2021-10-01 18:01:57,298 - stpipe.Coron3Pipeline.align_refs - WARNING - Median filter returned NaN setting value to 0.\n"
     ]
    },
    {
     "name": "stderr",
     "output_type": "stream",
     "text": [
      "2021-10-01 18:01:57,305 - stpipe.Coron3Pipeline.align_refs - WARNING - Median filter returned NaN setting value to 0.\n"
     ]
    },
    {
     "name": "stderr",
     "output_type": "stream",
     "text": [
      "2021-10-01 18:01:57,308 - stpipe.Coron3Pipeline.align_refs - WARNING - Median filter returned NaN setting value to 0.\n"
     ]
    },
    {
     "name": "stderr",
     "output_type": "stream",
     "text": [
      "2021-10-01 18:01:57,308 - stpipe.Coron3Pipeline.align_refs - WARNING - Median filter returned NaN setting value to 0.\n"
     ]
    },
    {
     "name": "stderr",
     "output_type": "stream",
     "text": [
      "2021-10-01 18:01:57,309 - stpipe.Coron3Pipeline.align_refs - WARNING - Median filter returned NaN setting value to 0.\n"
     ]
    },
    {
     "name": "stderr",
     "output_type": "stream",
     "text": [
      "2021-10-01 18:01:57,309 - stpipe.Coron3Pipeline.align_refs - WARNING - Median filter returned NaN setting value to 0.\n"
     ]
    },
    {
     "name": "stderr",
     "output_type": "stream",
     "text": [
      "2021-10-01 18:01:57,310 - stpipe.Coron3Pipeline.align_refs - WARNING - Median filter returned NaN setting value to 0.\n"
     ]
    },
    {
     "name": "stderr",
     "output_type": "stream",
     "text": [
      "2021-10-01 18:01:57,311 - stpipe.Coron3Pipeline.align_refs - WARNING - Median filter returned NaN setting value to 0.\n"
     ]
    },
    {
     "name": "stderr",
     "output_type": "stream",
     "text": [
      "2021-10-01 18:01:57,311 - stpipe.Coron3Pipeline.align_refs - WARNING - Median filter returned NaN setting value to 0.\n"
     ]
    },
    {
     "name": "stderr",
     "output_type": "stream",
     "text": [
      "2021-10-01 18:01:57,312 - stpipe.Coron3Pipeline.align_refs - WARNING - Median filter returned NaN setting value to 0.\n"
     ]
    },
    {
     "name": "stderr",
     "output_type": "stream",
     "text": [
      "2021-10-01 18:01:57,312 - stpipe.Coron3Pipeline.align_refs - WARNING - Median filter returned NaN setting value to 0.\n"
     ]
    },
    {
     "name": "stderr",
     "output_type": "stream",
     "text": [
      "2021-10-01 18:01:57,320 - stpipe.Coron3Pipeline.align_refs - WARNING - Median filter returned NaN setting value to 0.\n"
     ]
    },
    {
     "name": "stderr",
     "output_type": "stream",
     "text": [
      "2021-10-01 18:01:57,323 - stpipe.Coron3Pipeline.align_refs - WARNING - Median filter returned NaN setting value to 0.\n"
     ]
    },
    {
     "name": "stderr",
     "output_type": "stream",
     "text": [
      "2021-10-01 18:01:57,324 - stpipe.Coron3Pipeline.align_refs - WARNING - Median filter returned NaN setting value to 0.\n"
     ]
    },
    {
     "name": "stderr",
     "output_type": "stream",
     "text": [
      "2021-10-01 18:01:57,324 - stpipe.Coron3Pipeline.align_refs - WARNING - Median filter returned NaN setting value to 0.\n"
     ]
    },
    {
     "name": "stderr",
     "output_type": "stream",
     "text": [
      "2021-10-01 18:01:57,325 - stpipe.Coron3Pipeline.align_refs - WARNING - Median filter returned NaN setting value to 0.\n"
     ]
    },
    {
     "name": "stderr",
     "output_type": "stream",
     "text": [
      "2021-10-01 18:01:57,325 - stpipe.Coron3Pipeline.align_refs - WARNING - Median filter returned NaN setting value to 0.\n"
     ]
    },
    {
     "name": "stderr",
     "output_type": "stream",
     "text": [
      "2021-10-01 18:01:57,326 - stpipe.Coron3Pipeline.align_refs - WARNING - Median filter returned NaN setting value to 0.\n"
     ]
    },
    {
     "name": "stderr",
     "output_type": "stream",
     "text": [
      "2021-10-01 18:01:57,326 - stpipe.Coron3Pipeline.align_refs - WARNING - Median filter returned NaN setting value to 0.\n"
     ]
    },
    {
     "name": "stderr",
     "output_type": "stream",
     "text": [
      "2021-10-01 18:01:57,327 - stpipe.Coron3Pipeline.align_refs - WARNING - Median filter returned NaN setting value to 0.\n"
     ]
    },
    {
     "name": "stderr",
     "output_type": "stream",
     "text": [
      "2021-10-01 18:01:57,327 - stpipe.Coron3Pipeline.align_refs - WARNING - Median filter returned NaN setting value to 0.\n"
     ]
    },
    {
     "name": "stderr",
     "output_type": "stream",
     "text": [
      "2021-10-01 18:01:57,336 - stpipe.Coron3Pipeline.align_refs - WARNING - Median filter returned NaN setting value to 0.\n"
     ]
    },
    {
     "name": "stderr",
     "output_type": "stream",
     "text": [
      "2021-10-01 18:01:57,339 - stpipe.Coron3Pipeline.align_refs - WARNING - Median filter returned NaN setting value to 0.\n"
     ]
    },
    {
     "name": "stderr",
     "output_type": "stream",
     "text": [
      "2021-10-01 18:01:57,340 - stpipe.Coron3Pipeline.align_refs - WARNING - Median filter returned NaN setting value to 0.\n"
     ]
    },
    {
     "name": "stderr",
     "output_type": "stream",
     "text": [
      "2021-10-01 18:01:57,340 - stpipe.Coron3Pipeline.align_refs - WARNING - Median filter returned NaN setting value to 0.\n"
     ]
    },
    {
     "name": "stderr",
     "output_type": "stream",
     "text": [
      "2021-10-01 18:01:57,341 - stpipe.Coron3Pipeline.align_refs - WARNING - Median filter returned NaN setting value to 0.\n"
     ]
    },
    {
     "name": "stderr",
     "output_type": "stream",
     "text": [
      "2021-10-01 18:01:57,341 - stpipe.Coron3Pipeline.align_refs - WARNING - Median filter returned NaN setting value to 0.\n"
     ]
    },
    {
     "name": "stderr",
     "output_type": "stream",
     "text": [
      "2021-10-01 18:01:57,342 - stpipe.Coron3Pipeline.align_refs - WARNING - Median filter returned NaN setting value to 0.\n"
     ]
    },
    {
     "name": "stderr",
     "output_type": "stream",
     "text": [
      "2021-10-01 18:01:57,342 - stpipe.Coron3Pipeline.align_refs - WARNING - Median filter returned NaN setting value to 0.\n"
     ]
    },
    {
     "name": "stderr",
     "output_type": "stream",
     "text": [
      "2021-10-01 18:01:57,343 - stpipe.Coron3Pipeline.align_refs - WARNING - Median filter returned NaN setting value to 0.\n"
     ]
    },
    {
     "name": "stderr",
     "output_type": "stream",
     "text": [
      "2021-10-01 18:01:57,343 - stpipe.Coron3Pipeline.align_refs - WARNING - Median filter returned NaN setting value to 0.\n"
     ]
    },
    {
     "name": "stderr",
     "output_type": "stream",
     "text": [
      "2021-10-01 18:01:58,553 - stpipe.Coron3Pipeline.align_refs - INFO - Step align_refs done\n"
     ]
    },
    {
     "name": "stderr",
     "output_type": "stream",
     "text": [
      "2021-10-01 18:01:58,618 - stpipe.Coron3Pipeline - INFO - Saved model in /data1/jenkins/workspace/Notebooks/jwst_validation_notebooks_spacetelescope/tmp/tmppewwjd3a/new_targ_c1001_psfalign.fits\n"
     ]
    },
    {
     "name": "stderr",
     "output_type": "stream",
     "text": [
      "2021-10-01 18:01:58,720 - stpipe.Coron3Pipeline.klip - INFO - Step klip running with args (<CubeModel(1, 224, 288) from new_targ.fits>, <QuadModel(1, 9, 224, 288) from new_targ_c1001_psfalign.fits>).\n"
     ]
    },
    {
     "name": "stderr",
     "output_type": "stream",
     "text": [
      "2021-10-01 18:01:58,721 - stpipe.Coron3Pipeline.klip - INFO - Step klip parameters are: {'pre_hooks': [], 'post_hooks': [], 'output_file': None, 'output_dir': None, 'output_ext': '.fits', 'output_use_model': False, 'output_use_index': True, 'save_results': False, 'skip': False, 'suffix': None, 'search_output_file': True, 'input_dir': '', 'truncate': 50}\n"
     ]
    },
    {
     "name": "stderr",
     "output_type": "stream",
     "text": [
      "2021-10-01 18:01:58,729 - stpipe.Coron3Pipeline.klip - INFO - KL transform truncation = 50\n"
     ]
    },
    {
     "name": "stderr",
     "output_type": "stream",
     "text": [
      "2021-10-01 18:01:58,879 - stpipe.Coron3Pipeline.klip - INFO - Step klip done\n"
     ]
    },
    {
     "name": "stderr",
     "output_type": "stream",
     "text": [
      "2021-10-01 18:01:58,988 - stpipe.Coron3Pipeline - INFO - Saved model in /data1/jenkins/workspace/Notebooks/jwst_validation_notebooks_spacetelescope/tmp/tmppewwjd3a/new_targ_c1001_psfsub.fits\n"
     ]
    },
    {
     "name": "stderr",
     "output_type": "stream",
     "text": [
      "2021-10-01 18:01:59,131 - stpipe.Coron3Pipeline.resample - INFO - Step resample running with args (<ModelContainer>,).\n"
     ]
    },
    {
     "name": "stderr",
     "output_type": "stream",
     "text": [
      "2021-10-01 18:01:59,132 - stpipe.Coron3Pipeline.resample - INFO - Step resample parameters are: {'pre_hooks': [], 'post_hooks': [], 'output_file': None, 'output_dir': None, 'output_ext': '.fits', 'output_use_model': False, 'output_use_index': True, 'save_results': False, 'skip': True, 'suffix': None, 'search_output_file': True, 'input_dir': '', 'pixfrac': 1.0, 'kernel': 'square', 'fillval': 'INDEF', 'weight_type': 'ivm', 'pixel_scale_ratio': 1.0, 'single': False, 'blendheaders': False, 'allowed_memory': None}\n"
     ]
    },
    {
     "name": "stderr",
     "output_type": "stream",
     "text": [
      "2021-10-01 18:01:59,133 - stpipe.Coron3Pipeline.resample - INFO - Step skipped.\n"
     ]
    },
    {
     "name": "stderr",
     "output_type": "stream",
     "text": [
      "2021-10-01 18:01:59,134 - stpipe.Coron3Pipeline.resample - INFO - Step resample done\n"
     ]
    },
    {
     "name": "stderr",
     "output_type": "stream",
     "text": [
      "2021-10-01 18:01:59,231 - stpipe.Coron3Pipeline - INFO - Saved model in /data1/jenkins/workspace/Notebooks/jwst_validation_notebooks_spacetelescope/tmp/tmppewwjd3a/jw10005-miri-mask1065_i2d.fits\n"
     ]
    },
    {
     "name": "stderr",
     "output_type": "stream",
     "text": [
      "2021-10-01 18:01:59,233 - stpipe.Coron3Pipeline - INFO - ...ending calwebb_coron3\n"
     ]
    },
    {
     "name": "stderr",
     "output_type": "stream",
     "text": [
      "2021-10-01 18:01:59,234 - stpipe.Coron3Pipeline - INFO - Step Coron3Pipeline done\n"
     ]
    }
   ],
   "source": [
    "asn_dir = 'jwst_calcoron3_miri_test.yml'                       # Define ASN file\n",
    "myCoron3Pipeline = Coron3Pipeline()                              \n",
    "myCoron3Pipeline.align_refs.override_psfmask = psf_mask_dir    # Override PSFMASK file\n",
    "myCoron3Pipeline.resample.skip = True                          # Skip resample step\n",
    "myCoron3Pipeline.save_results = True                             \n",
    "myCoron3Pipeline.output_dir = os.getcwd() \n",
    "myCoron3Pipeline.run(asn_dir)                                  # run pipeline"
   ]
  },
  {
   "cell_type": "markdown",
   "metadata": {},
   "source": [
    "[Top of Page](#title_ID)\n",
    "<a id=\"testing\"></a>\n",
    "--------------\n",
    "# Examine Output Data \n",
    "\n",
    "\n",
    "\n",
    "\n",
    "<a id=\"stack_refs\"></a>\n",
    "###  `stack_refs`:  Stack PSF References (*'_psfstack' product*)\n",
    "\n",
    "The role of the `stack_refs` step is to stack all of the PSF reference exposures (specified in the input ASN file) into a single `CubeModel` for use by subsequent coronagraphic steps. The size of the stack should be equal to the sum of the number of integrations in each input PSF exposure.  The image data are simply copied and reformatted and should not be modified in any way.\n",
    "\n",
    "*Output*: **3D PSF Image Stack** <br>\n",
    "*File suffix*: **'_psfstack'**\n",
    "\n",
    "> Step description: https://jwst-pipeline.readthedocs.io/en/latest/jwst/stack_refs/index.html#stack-refs-step"
   ]
  },
  {
   "cell_type": "code",
   "execution_count": 9,
   "metadata": {
    "execution": {
     "iopub.execute_input": "2021-10-01T22:01:59.249399Z",
     "iopub.status.busy": "2021-10-01T22:01:59.248777Z",
     "iopub.status.idle": "2021-10-01T22:01:59.262280Z",
     "shell.execute_reply": "2021-10-01T22:01:59.263168Z"
    }
   },
   "outputs": [
    {
     "name": "stdout",
     "output_type": "stream",
     "text": [
      "Filename: jw10005-miri-mask1065_psfstack.fits\n",
      "No.    Name      Ver    Type      Cards   Dimensions   Format\n",
      "  0  PRIMARY       1 PrimaryHDU     323   ()      \n",
      "  1  SCI           1 ImageHDU        66   (288, 224, 9)   float32   \n",
      "  2  ERR           1 ImageHDU        11   (288, 224, 9)   float32   \n",
      "  3  DQ            1 ImageHDU        12   (288, 224, 9)   int32 (rescales to uint32)   \n",
      "  4  ASDF          1 BinTableHDU     11   1R x 1C   [5174B]   \n"
     ]
    },
    {
     "name": "stdout",
     "output_type": "stream",
     "text": [
      "None\n"
     ]
    }
   ],
   "source": [
    "stacked_cube_hdu = fits.open('jw10005-miri-mask1065_psfstack.fits')\n",
    "ref_images = stacked_cube_hdu[1].data\n",
    "print(stacked_cube_hdu.info())"
   ]
  },
  {
   "cell_type": "code",
   "execution_count": 10,
   "metadata": {
    "execution": {
     "iopub.execute_input": "2021-10-01T22:01:59.268618Z",
     "iopub.status.busy": "2021-10-01T22:01:59.267598Z",
     "iopub.status.idle": "2021-10-01T22:01:59.271098Z",
     "shell.execute_reply": "2021-10-01T22:01:59.270656Z"
    }
   },
   "outputs": [
    {
     "name": "stdout",
     "output_type": "stream",
     "text": [
      "'_psfstack' data product dimensions: (9, 224, 288)\n"
     ]
    }
   ],
   "source": [
    "print(\"'_psfstack' data product dimensions: \"+str(ref_images.shape))"
   ]
  },
  {
   "cell_type": "code",
   "execution_count": 11,
   "metadata": {
    "ExecuteTime": {
     "end_time": "2020-08-31T18:35:18.791123Z",
     "start_time": "2020-08-31T18:35:18.210435Z"
    },
    "execution": {
     "iopub.execute_input": "2021-10-01T22:01:59.285658Z",
     "iopub.status.busy": "2021-10-01T22:01:59.285000Z",
     "iopub.status.idle": "2021-10-01T22:01:59.421014Z",
     "shell.execute_reply": "2021-10-01T22:01:59.419976Z"
    }
   },
   "outputs": [
    {
     "data": {
      "application/vnd.jupyter.widget-view+json": {
       "model_id": "ec0b02e68a074fe0a31f80e7dcb45178",
       "version_major": 2,
       "version_minor": 0
      },
      "text/plain": [
       "VBox(children=(Output(), Button(description='Next', style=ButtonStyle())))"
      ]
     },
     "metadata": {},
     "output_type": "display_data"
    }
   ],
   "source": [
    "out=widgets.Output()\n",
    "button=widgets.Button(description='Next')\n",
    "vbox=widgets.VBox(children=(out,button))\n",
    "display(vbox)\n",
    "index = 0\n",
    "def click(b):\n",
    "    global index\n",
    "    index = index % len(ref_images)\n",
    "    im = plt.imshow(ref_images[index], vmin = 0, vmax = 20,interpolation =\"none\") \n",
    "    index += 1 \n",
    "    with out:\n",
    "        clear_output(wait=True)\n",
    "        plt.title('Stacked PSF image #%i' % index)\n",
    "        plt.show() \n",
    "button.on_click(click)\n",
    "click(None)"
   ]
  },
  {
   "cell_type": "markdown",
   "metadata": {},
   "source": [
    "The `stack_psfs` step has sucessfully stacked the reference PSF exposures into a single 3D '*_psfstack*' product, with size equal to the sum of the number of integrations in each input PSF exposure *(9)*. To confirm that the image data has not been modified, the input PSF images are subtracted from each image in the stack below:"
   ]
  },
  {
   "cell_type": "code",
   "execution_count": 12,
   "metadata": {
    "execution": {
     "iopub.execute_input": "2021-10-01T22:01:59.436341Z",
     "iopub.status.busy": "2021-10-01T22:01:59.435395Z",
     "iopub.status.idle": "2021-10-01T22:01:59.536991Z",
     "shell.execute_reply": "2021-10-01T22:01:59.535968Z"
    }
   },
   "outputs": [
    {
     "data": {
      "application/vnd.jupyter.widget-view+json": {
       "model_id": "93e0a3addeeb4e039744e7a2707f5c9a",
       "version_major": 2,
       "version_minor": 0
      },
      "text/plain": [
       "VBox(children=(Output(), Button(description='Next', style=ButtonStyle())))"
      ]
     },
     "metadata": {},
     "output_type": "display_data"
    }
   ],
   "source": [
    "out=widgets.Output()\n",
    "button=widgets.Button(description='Next')\n",
    "vbox=widgets.VBox(children=(out,button))\n",
    "display(vbox)\n",
    "index = 0\n",
    "def click(b):\n",
    "    global index\n",
    "    index = index % len(ref_images)\n",
    "    im = plt.imshow(ref_images[index] - input_ref_images[index], vmin = 0, vmax = 20,interpolation =\"none\") \n",
    "    index += 1 \n",
    "    with out:\n",
    "        clear_output(wait=True)\n",
    "        plt.title('Stacked PSF image - input PSF image %i' % index)\n",
    "        plt.show() \n",
    "button.on_click(click)\n",
    "click(None)"
   ]
  },
  {
   "cell_type": "markdown",
   "metadata": {},
   "source": [
    "-----------\n",
    "\n",
    "<a id=\"align_refs\"></a>\n",
    "\n",
    "\n",
    "### `align_refs`:  Align PSF References (*'_psfalign' product*)\n",
    "\n",
    "The role of the `align_refs` step is to align the coronagraphic PSF images with science target images. It does so by computing the offsets between the science target and reference PSF images, and shifts the PSF images into alignment. The output of the `align_refs` step is a 4D data product, where the 3rd axis has length equal to the total number of reference PSF images in the input PSF stack and the 4th axis has length equal to the number of integrations in the input science target product. \n",
    "\n",
    "*Output*: **4D aligned PSF Images** <br>\n",
    "*File suffix*: **_psfalign**\n",
    "\n",
    "\n",
    "> Step description: https://jwst-pipeline.readthedocs.io/en/latest/jwst/align_refs/index.html#align-refs-step"
   ]
  },
  {
   "cell_type": "code",
   "execution_count": 13,
   "metadata": {
    "ExecuteTime": {
     "end_time": "2020-08-31T18:35:48.328170Z",
     "start_time": "2020-08-31T18:35:48.316312Z"
    },
    "execution": {
     "iopub.execute_input": "2021-10-01T22:01:59.546327Z",
     "iopub.status.busy": "2021-10-01T22:01:59.540805Z",
     "iopub.status.idle": "2021-10-01T22:01:59.549490Z",
     "shell.execute_reply": "2021-10-01T22:01:59.548749Z"
    }
   },
   "outputs": [
    {
     "name": "stdout",
     "output_type": "stream",
     "text": [
      "Filename: new_targ_c1001_psfalign.fits\n",
      "No.    Name      Ver    Type      Cards   Dimensions   Format\n",
      "  0  PRIMARY       1 PrimaryHDU     324   ()      \n",
      "  1  SCI           1 ImageHDU        67   (288, 224, 9, 1)   float32   \n",
      "  2  ERR           1 ImageHDU        12   (288, 224, 9, 1)   float32   \n",
      "  3  DQ            1 ImageHDU        13   (288, 224, 9, 1)   int32 (rescales to uint32)   \n",
      "  4  ASDF          1 BinTableHDU     11   1R x 1C   [5230B]   \n"
     ]
    }
   ],
   "source": [
    "aligned_cube_hdu = fits.open('new_targ_c1001_psfalign.fits')\n",
    "aligned_cube_hdu.info()"
   ]
  },
  {
   "cell_type": "code",
   "execution_count": 14,
   "metadata": {
    "ExecuteTime": {
     "end_time": "2020-08-31T18:35:48.597673Z",
     "start_time": "2020-08-31T18:35:48.586235Z"
    },
    "execution": {
     "iopub.execute_input": "2021-10-01T22:01:59.553732Z",
     "iopub.status.busy": "2021-10-01T22:01:59.553077Z",
     "iopub.status.idle": "2021-10-01T22:01:59.555988Z",
     "shell.execute_reply": "2021-10-01T22:01:59.555462Z"
    }
   },
   "outputs": [
    {
     "name": "stdout",
     "output_type": "stream",
     "text": [
      "'_psfalign' data product dimensions: (1, 9, 224, 288)\n"
     ]
    }
   ],
   "source": [
    "aligned_cube_data = (aligned_cube_hdu[1].data)\n",
    "print(\"'_psfalign' data product dimensions: \" + str(aligned_cube_data.shape))"
   ]
  },
  {
   "cell_type": "code",
   "execution_count": 15,
   "metadata": {
    "ExecuteTime": {
     "end_time": "2020-08-31T18:35:53.119967Z",
     "start_time": "2020-08-31T18:35:52.053077Z"
    },
    "execution": {
     "iopub.execute_input": "2021-10-01T22:01:59.570049Z",
     "iopub.status.busy": "2021-10-01T22:01:59.569436Z",
     "iopub.status.idle": "2021-10-01T22:01:59.680429Z",
     "shell.execute_reply": "2021-10-01T22:01:59.679392Z"
    }
   },
   "outputs": [
    {
     "data": {
      "application/vnd.jupyter.widget-view+json": {
       "model_id": "cecc47fdf062444cbb2bcfac79b52bf9",
       "version_major": 2,
       "version_minor": 0
      },
      "text/plain": [
       "VBox(children=(Output(), Button(description='Next', style=ButtonStyle())))"
      ]
     },
     "metadata": {},
     "output_type": "display_data"
    }
   ],
   "source": [
    "aligned_cube_data = aligned_cube_data[0]\n",
    "out=widgets.Output()\n",
    "button=widgets.Button(description='Next')\n",
    "vbox=widgets.VBox(children=(out,button))\n",
    "display(vbox)\n",
    "index = 0\n",
    "def click(b):\n",
    "    global index\n",
    "    index = index % len(aligned_cube_data)\n",
    "    im = plt.imshow(aligned_cube_data[index], vmin = 0, vmax = 20,interpolation =\"none\") \n",
    "    index += 1 \n",
    "    with out:\n",
    "        clear_output(wait=True)\n",
    "        plt.title('Aligned PSF image #%i' % index)\n",
    "        plt.show()\n",
    "button.on_click(click)\n",
    "click(None)"
   ]
  },
  {
   "cell_type": "markdown",
   "metadata": {},
   "source": [
    "The `align_refs` step has successfully aligned the psf images - note the stability when clicking through the images in the cube.\n",
    "\n",
    "The output is indeed a 4D '*_psfalign*' product, where the 3rd axis has length equal to the total number of reference images in the input PSF stack *(9)* and 4th axis equal to the number of integrations in the input science target image *(1)*. "
   ]
  },
  {
   "cell_type": "markdown",
   "metadata": {},
   "source": [
    "------------\n",
    "<a id=\"klip\"></a>\n",
    "### `klip`:  Reference PSF Subtraction\n",
    "\n",
    "The role of the `klip` step is to apply the Karhunen-Loeve Image Plane (KLIP) algorithm on the science target images, using an accompanying set of aligned reference PSF images (result of the `align_refs` step) in order to fit and subtract an optimal PSF from the science target image. The PSF fitting and subtraction is applied to each integration image independently. The output is a 3D stack of PSF-subtracted images of the science target, having the same dimensions as the input science target product.\n",
    "\n",
    "*Output*: **3D PSF-subtracted image** <br>\n",
    "*File suffix*: **_psfsub**\n",
    "\n",
    "> Step description: https://jwst-pipeline.readthedocs.io/en/latest/jwst/klip/index.html#klip-step\n"
   ]
  },
  {
   "cell_type": "code",
   "execution_count": 16,
   "metadata": {
    "ExecuteTime": {
     "end_time": "2020-08-31T18:36:06.307919Z",
     "start_time": "2020-08-31T18:36:06.293375Z"
    },
    "execution": {
     "iopub.execute_input": "2021-10-01T22:01:59.691787Z",
     "iopub.status.busy": "2021-10-01T22:01:59.686132Z",
     "iopub.status.idle": "2021-10-01T22:01:59.694741Z",
     "shell.execute_reply": "2021-10-01T22:01:59.693931Z"
    }
   },
   "outputs": [
    {
     "name": "stdout",
     "output_type": "stream",
     "text": [
      "Filename: new_targ_c1001_psfsub.fits\n",
      "No.    Name      Ver    Type      Cards   Dimensions   Format\n",
      "  0  PRIMARY       1 PrimaryHDU     324   ()      \n",
      "  1  SCI           1 ImageHDU        66   (288, 224, 1)   float32   \n",
      "  2  ERR           1 ImageHDU        11   (288, 224, 1)   float32   \n",
      "  3  DQ            1 ImageHDU        12   (288, 224, 1)   int32 (rescales to uint32)   \n",
      "  4  INT_TIMES     1 BinTableHDU     24   0R x 7C   [J, D, D, D, D, D, D]   \n",
      "  5  VAR_POISSON    1 ImageHDU        10   (288, 224, 1)   float32   \n",
      "  6  VAR_RNOISE    1 ImageHDU        10   (288, 224, 1)   float32   \n",
      "  7  ASDF          1 BinTableHDU     11   1R x 1C   [20752B]   \n"
     ]
    }
   ],
   "source": [
    "sub_hdu = fits.open('new_targ_c1001_psfsub.fits')\n",
    "sub_hdu.info()"
   ]
  },
  {
   "cell_type": "code",
   "execution_count": 17,
   "metadata": {
    "ExecuteTime": {
     "end_time": "2020-08-31T18:36:06.584047Z",
     "start_time": "2020-08-31T18:36:06.573619Z"
    },
    "execution": {
     "iopub.execute_input": "2021-10-01T22:01:59.698955Z",
     "iopub.status.busy": "2021-10-01T22:01:59.698155Z",
     "iopub.status.idle": "2021-10-01T22:01:59.701601Z",
     "shell.execute_reply": "2021-10-01T22:01:59.700896Z"
    }
   },
   "outputs": [
    {
     "name": "stdout",
     "output_type": "stream",
     "text": [
      "Science target image dimensions: (1, 224, 288)\n",
      "PSF subtracted image dimensions: (1, 224, 288)\n"
     ]
    }
   ],
   "source": [
    "subtracted_image = sub_hdu[1].data\n",
    "print(\"Science target image dimensions: \" + str(subtracted_image.shape))\n",
    "print(\"PSF subtracted image dimensions: \" + str(subtracted_image.shape))"
   ]
  },
  {
   "cell_type": "markdown",
   "metadata": {},
   "source": [
    "Note that the PSF subtracted image has the same dimensions as the input target image."
   ]
  },
  {
   "cell_type": "code",
   "execution_count": 18,
   "metadata": {
    "ExecuteTime": {
     "end_time": "2020-08-31T18:36:07.033930Z",
     "start_time": "2020-08-31T18:36:06.847919Z"
    },
    "execution": {
     "iopub.execute_input": "2021-10-01T22:01:59.718388Z",
     "iopub.status.busy": "2021-10-01T22:01:59.715440Z",
     "iopub.status.idle": "2021-10-01T22:01:59.825466Z",
     "shell.execute_reply": "2021-10-01T22:01:59.824565Z"
    }
   },
   "outputs": [
    {
     "data": {
      "text/plain": [
       "Text(0.5, 1.0, 'PSF subtracted image')"
      ]
     },
     "execution_count": 18,
     "metadata": {},
     "output_type": "execute_result"
    },
    {
     "data": {
      "image/png": "[encoded data removed]",
      "text/plain": [
       "<Figure size 432x288 with 1 Axes>"
      ]
     },
     "metadata": {
      "needs_background": "light"
     },
     "output_type": "display_data"
    }
   ],
   "source": [
    "plt.figure()\n",
    "plt.imshow(subtracted_image[0],vmin = 0, vmax = 10,interpolation =\"none\")\n",
    "plt.title(\"PSF subtracted image\")"
   ]
  },
  {
   "cell_type": "markdown",
   "metadata": {},
   "source": [
    "The `klip` step has successfully made a synthetic psf reference image and subtracted it from the target PSF - indeed, the two companion PSFs that were injected into the target PSF are now visable. The output stack of PSF-subtracted images has the same dimensions as the input science target product."
   ]
  },
  {
   "cell_type": "markdown",
   "metadata": {},
   "source": [
    "[Top of Page](#title_ID)\n",
    "<br>\n",
    "<a id=\"future_tests\"></a>\n",
    "--------------\n",
    "# Required Future Testing\n",
    "\n",
    "- Testing of the `outlier_detection` step in conjunction with the three steps above.\n",
    "- Testing of the `resample` step using a data set containing a reference PSF target with astrophysical contamination (i.e. a companion) and target images at two different orientations (simulating referenced differential imaging) - whereby the the `resample` step should correctly combine the two PSF-subtracted target images based on the WCS information. \n",
    "- Testing for LYOT, 1140C/FQPM and 1550C/FQPM datasets (using the updated PSFMASK Reference Files provided).\n",
    "- Testing of multiple integration images (current dataset treated as only single integration images).\n",
    "- Testing of data that has been processed through stage 1 and 2 pipeline modules.\n",
    "\n",
    "[Top of Page](#title_ID)\n",
    "\n",
    "--------------------"
   ]
  },
  {
   "cell_type": "markdown",
   "metadata": {},
   "source": [
    "<a id=\"about\"></a>\n",
    "## About this Notebook\n",
    "**Author:** Bryony F. Nickson (Staff Scientist, *MIRI Branch*) & J. Brendan Hagan.\n",
    "<br> **Updated On:** 12/26/2020\n",
    "\n",
    "[Top of Page](#title_ID)"
   ]
  }
 ],
 "metadata": {
  "kernelspec": {
   "display_name": "Python 3",
   "language": "python",
   "name": "python3"
  },
  "language_info": {
   "codemirror_mode": {
    "name": "ipython",
    "version": 3
   },
   "file_extension": ".py",
   "mimetype": "text/x-python",
   "name": "python",
   "nbconvert_exporter": "python",
   "pygments_lexer": "ipython3",
   "version": "3.9.7"
  },
  "toc": {
   "base_numbering": 1,
   "nav_menu": {},
   "number_sections": true,
   "sideBar": true,
   "skip_h1_title": false,
   "title_cell": "Table of Contents",
   "title_sidebar": "Contents",
   "toc_cell": false,
   "toc_position": {},
   "toc_section_display": true,
   "toc_window_display": false
  },
  "varInspector": {
   "cols": {
    "lenName": 16,
    "lenType": 16,
    "lenVar": 40
   },
   "kernels_config": {
    "python": {
     "delete_cmd_postfix": "",
     "delete_cmd_prefix": "del ",
     "library": "var_list.py",
     "varRefreshCmd": "print(var_dic_list())"
    },
    "r": {
     "delete_cmd_postfix": ") ",
     "delete_cmd_prefix": "rm(",
     "library": "var_list.r",
     "varRefreshCmd": "cat(var_dic_list()) "
    }
   },
   "types_to_exclude": [
    "module",
    "function",
    "builtin_function_or_method",
    "instance",
    "_Feature"
   ],
   "window_display": false
  },
  "widgets": {
   "application/vnd.jupyter.widget-state+json": {
    "state": {
     "12bdfd5ac35346c6acf8a712a3da7b3c": {
      "model_module": "@jupyter-widgets/controls",
      "model_module_version": "1.5.0",
      "model_name": "ButtonStyleModel",
      "state": {
       "_model_module": "@jupyter-widgets/controls",
       "_model_module_version": "1.5.0",
       "_model_name": "ButtonStyleModel",
       "_view_count": null,
       "_view_module": "@jupyter-widgets/base",
       "_view_module_version": "1.2.0",
       "_view_name": "StyleView",
       "button_color": null,
       "font_weight": ""
      }
     },
     "26e7261137dc4cd5a1e9edf87ed196f0": {
      "model_module": "@jupyter-widgets/base",
      "model_module_version": "1.2.0",
      "model_name": "LayoutModel",
      "state": {
       "_model_module": "@jupyter-widgets/base",
       "_model_module_version": "1.2.0",
       "_model_name": "LayoutModel",
       "_view_count": null,
       "_view_module": "@jupyter-widgets/base",
       "_view_module_version": "1.2.0",
       "_view_name": "LayoutView",
       "align_content": null,
       "align_items": null,
       "align_self": null,
       "border": null,
       "bottom": null,
       "display": null,
       "flex": null,
       "flex_flow": null,
       "grid_area": null,
       "grid_auto_columns": null,
       "grid_auto_flow": null,
       "grid_auto_rows": null,
       "grid_column": null,
       "grid_gap": null,
       "grid_row": null,
       "grid_template_areas": null,
       "grid_template_columns": null,
       "grid_template_rows": null,
       "height": null,
       "justify_content": null,
       "justify_items": null,
       "left": null,
       "margin": null,
       "max_height": null,
       "max_width": null,
       "min_height": null,
       "min_width": null,
       "object_fit": null,
       "object_position": null,
       "order": null,
       "overflow": null,
       "overflow_x": null,
       "overflow_y": null,
       "padding": null,
       "right": null,
       "top": null,
       "visibility": null,
       "width": null
      }
     },
     "2933c9ff119844c5baca8051c2191f2b": {
      "model_module": "@jupyter-widgets/base",
      "model_module_version": "1.2.0",
      "model_name": "LayoutModel",
      "state": {
       "_model_module": "@jupyter-widgets/base",
       "_model_module_version": "1.2.0",
       "_model_name": "LayoutModel",
       "_view_count": null,
       "_view_module": "@jupyter-widgets/base",
       "_view_module_version": "1.2.0",
       "_view_name": "LayoutView",
       "align_content": null,
       "align_items": null,
       "align_self": null,
       "border": null,
       "bottom": null,
       "display": null,
       "flex": null,
       "flex_flow": null,
       "grid_area": null,
       "grid_auto_columns": null,
       "grid_auto_flow": null,
       "grid_auto_rows": null,
       "grid_column": null,
       "grid_gap": null,
       "grid_row": null,
       "grid_template_areas": null,
       "grid_template_columns": null,
       "grid_template_rows": null,
       "height": null,
       "justify_content": null,
       "justify_items": null,
       "left": null,
       "margin": null,
       "max_height": null,
       "max_width": null,
       "min_height": null,
       "min_width": null,
       "object_fit": null,
       "object_position": null,
       "order": null,
       "overflow": null,
       "overflow_x": null,
       "overflow_y": null,
       "padding": null,
       "right": null,
       "top": null,
       "visibility": null,
       "width": null
      }
     },
     "54e2d231162f4cec831903119d10ed58": {
      "model_module": "@jupyter-widgets/output",
      "model_module_version": "1.0.0",
      "model_name": "OutputModel",
      "state": {
       "_dom_classes": [],
       "_model_module": "@jupyter-widgets/output",
       "_model_module_version": "1.0.0",
       "_model_name": "OutputModel",
       "_view_count": null,
       "_view_module": "@jupyter-widgets/output",
       "_view_module_version": "1.0.0",
       "_view_name": "OutputView",
       "layout": "IPY_MODEL_26e7261137dc4cd5a1e9edf87ed196f0",
       "msg_id": "",
       "outputs": [
        {
         "data": {
          "image/png": "iVBORw0KGgoAAAANSUhEUgAAAUAAAAEICAYAAAAumy2rAAAAOXRFWHRTb2Z0d2FyZQBNYXRwbG90bGliIHZlcnNpb24zLjQuMywgaHR0cHM6Ly9tYXRwbG90bGliLm9yZy/MnkTPAAAACXBIWXMAAAsTAAALEwEAmpwYAAAYYElEQVR4nO3de7RcZX3G8e9jCFEMNIlgpEkgXIIKWgONgEu0WBBJrAb6B4a2EJAKWqi4qlXwitbVKopYWgVDoQmKSOQaXaDEgNcKcovhEgIJBEkICXcCIpLw6x/vO7IznMm5zMyZmbzPZ62zzp733Xvmt2fPec6+zMyriMDMrEQv63QBZmad4gA0s2I5AM2sWA5AMyuWA9DMiuUANLNiOQBbRNJcSV9swf0cI+mXraipiRrukHRgJ2tolqSdJD0taUSnaxkueX137XQdvWSLD0BJB0j6P0lPSnpM0q8kvTn3dTxsBkPSZEmRX+hPS1op6ZRK/0xJiyU9JekRSddK2iX3nSbp+cqyT0v6eF+PExF7RcRPh2m12iIifhcRoyNiY7sfK2+HgzfTf6CkF/Jzvl7SMknHVvqPk3RX7lsr6SpJ2+a+uZL+WLfd3tfX4+T1vbf1a9g6kt4g6cf59dnxNyFv1ekC2knSdsAPgQ8B84GtgbcBz3WyrhYYExEbJL0FWCRpMbAcuAD4W+BaYDRwCFANgIsj4h+Gu1gD4MGImChJwEzgEkk3ADsA/w4cGhG3ShoHvKdu2dMj4tPDXG+7PE/6W/wmcEVnS9ny9wD3AIiIiyJiY0Q8GxHXRMQSSa8HzgHekv+rPgEg6d2Sbs17UQ9IOq16h5U9yidy/zH1DyppW0nXSTpLyeskLcx7oMskHVGZ91WSFuTH+w2w20BXLiJ+DdwBvAGYCtwXEYsiWR8Rl0bE7wb5nG2yR5P3HL8v6Tt5D+U2SXtIOlXSuvwcHFJZ9lhJS/O890o6oe6+Py5pjaQHJf1j3qPdPfeNkvRVSb/Le0LnSHrFYOvP91XbW94q3/6ppH/LRwDrJV0jafu6eY/Pda2R9LHKfW1yeiPv0a3K098GdgJ+sLm96pq8ba4AHgf2BN4M/Doibs39j0XEvIhYP4R1rj6XcyV9U9LVua5fSXqNpK9Lejzvce5dWfYUSSvyc3OnpMMrfSMknZH32u6TdFLdc/tnks7Lz9tqSV9Ug1MPEbEsIs4jvW47bksPwLuBjZLmSZouaWytIyKWAh8kvfhGR8SY3PUMcDQwBng38CFJhwFI2hm4Gvgv0n/uqcDi6gNKehWwCPhVRHwY2AZYCHwXeDUwC/impD3zIt8A/gDsCLw///QrB+tbgb2AW4FbgNdJOlPSOySNHsj9DNB7gG8DY/Nj/Zj02pkAfAH4VmXedcDfANsBxwJnSton13wo8C/AwcDuwIF1j/Ml0j+tqbl/AvDZFq7H3+WaXk06GvhYXf87gCmkPedPaDOHtTURcRTwO+A9+XV0+ubml/SyHC5jgNuAG4B3Sfq8pLdKGjXIddqcI4BPA9uTjnp+TXqdbA9cAnytMu8K0tHRnwGfB74jacfc9wFgOmm77AMcVvc4c4ENpG22N+n5+8cWrkf7RMQW/QO8nrSBVpE20gJgfO47BvhlP8t/HTgzT58KXN5gvrnA+cDtwL9W2t8H/KJu3m8BnwNGkA4JXlfp+/dGNQGTgQCeIO1BLAU+XOnfn3R48TApVOcCo3PfacAf87K1nz9v8DgrgYMryy2s9L0HeBoYkW9vm2sa0+C+rgBOztPnA/9R6ds9L7s7INI/n90q/W8h7dUOZbvXnqut8u2fAp+u9P8T8KO6eavb4XTgvMq2/WKl70BgVV/PV4NaDgReyM/5Y6R/mrMq/dOBH+T+p0nBNKLy2H+obLNHNvM4AexeWe7cSt8/A0srt98IPLGZ+1oMzMzT1wInVPoOrj23wHhSuL6i0n8kcF0/22d30g5xR/Nhiz4HCH/a0zsGQNLrgO+QQu3IvuaXtB9pT+QNpL2EUcD3c/ck0n/KRt5NegGfU2nbGdhP+RA724q0R7VDnn6g0nd/vysF20fEhvrGiLie9F8fpQs9FwOfIgU3wPwY2jnAtZXpZ0l/hBsrtyGdc3xC0nRSuO9B2kvchrSnA/DnwE2V+6qu9w553psl1dpE+ifxEpLuID23ANMj4hcDWI+HKtO/zzVX1W+HNw7gPgfqwYiY2FdHRFwNXC3pZaS90O8Dy3hxz/qrMbRzgPXbrf72n9Zf0tGkvfPJuWk0aU8R0narPjfV6Z2BkcCaynZ7Wd08XWuLD8CqiLhL0lygdl6qr6tQ3wX+m/RH9QdJX+fFF8IDwL6beYhzSYeJV0k6NCKeycv8LCLeWT9zPk+ygRSsd+XmnQa1Ug1ExI2SLiMF+bDIh2+Xkk4hXBkRz0u6ghRkAGuAaghMqkw/Qvqj3CsiVvf3WBGxV0uK3lT9dngwTz9DCuea19SX04oHj4gXSBe1rmV4t9vOpNfuQaRTQhuVLqwNZLs9QNoD7POfcrfbos8BKl18+Kikifn2JNKe3/V5lrXARElbVxbbFngsh9++pPNGNRcCB0s6QtJWShcwptY97Emk/94/yCfwfwjsIekoSSPzz5slvT7vRV0GnCZpm3xecPYQ1/UASR+Q9OraugPvrazrcKjtMT8MbMh7g4dU+ucDx0p6vaRtgM/UOvIf/7mkc4a1dZgg6V3DVj18Jm+HvUjnCi/O7YuBGZLGSXoN8JG65dYCQ3r/ndJbl2ZJGpvP6+4L/BXDu91eSQrxh3NNx7JpAM8HTs7bYwzwiVpHRKwBrgHOkLRdPse5m6S/6uuB8jq+nPRaQdLLW3zec1C26AAE1gP7ATdIeob0orod+Gjuv5Z0NeohSY/ktn8CviBpPekE/PzanUW6ojojL187l/Om6gNGOsFxPOmc45Wkc3yHkC5+PEg6DPsyKSggBebo3D4X+N8hrusTpMC7TdLTwI+Ay0nnsoZFpCuXHyY9Z4+T/nksqPRfDZwFXEd6207tj7z2tqRP1NolPQX8BHjtsBSf/Cw//iLSYec1uf3bwG9J5/qu4cVgrPkP4NNK7wyov7DSn8dJFxnuAZ4inaL5SkRcOKQ1GIKIuBM4g3SRZC3p0P9XlVnOJa33EtJFsKtIRy610yBHkwLtTtL6XEK6qNeXnUl7+rWrwM+Sdhg6QvmEpNmwU3or0u3AqE4ePkmaDNwHjOzFw7jhlvfsz4mInfuductt6XuA1mUkHa70fr+xpD3hHzh0upukV0iakU/7TCBd5Lq803W1ggPQhtsJpPcKriAdQn2os+XYAIj03sDHSYfAS2nt+zM7pm2HwPlNr/9JehvD/0TEl9ryQGZmQ9SWAMxv77gbeCfpYsCNwJH5ZKuZWVdo1/sA9wWWR/5mCknfI30AvM8A3Fqj4uW8sk2lmFnJ1vP4IxGxQ1997QrACWz6TvBVpLej/Imk40lvF+HlbMN+OqhNpZhZyX4SlzT8dFXHLoJExJyImBYR00bSsfdBmlnB2hWAq9n04zITc5uZWddoVwDeCEyRtEv+mNksKp8IMDPrBm05Bxjp24pPIn1v3Ajg/Ijoii9ANDOradu3wUTEVaTPDJqZdSV/EsTMiuUANLNiOQDNrFgOQDMrlgPQzIrlADSzYjkAzaxYDkAzK5YD0MyK5QA0s2I5AM2sWA5AMyuWA9DMiuUANLNiOQDNrFhDDkBJkyRdJ+lOSXdIOjm3nyZptaTF+WdG68o1M2udZr4QdQPw0Yi4RdK2wM2SFua+MyPiq82XZ2bWPkMOwIhYA6zJ0+slLSUNh2lm1hNacg5Q0mRgb+CG3HSSpCWSzpc0tsEyx0u6SdJNz/NcK8owMxuUpgNQ0mjgUuAjEfEUcDawGzCVtId4Rl/LeVxgM+u0pgJQ0khS+F0YEZcBRMTaiNgYES8A5wL7Nl+mmVnrNXMVWMB5wNKI+FqlfcfKbIcDtw+9PDOz9mnmKvBbgaOA2yQtzm2fBI6UNBUIYCVwQhOPYWbWNs1cBf4loD66PBawmfUEfxLEzIrlADSzYjkAzaxYDkAzK5YD0MyK5QA0s2I5AM2sWA5AMyuWA9DMiuUANLNiOQDNrFgOQDMrlgPQzIrlADSzYjkAzaxYzXwhKgCSVgLrgY3AhoiYJmkccDEwmfSlqEdExOPNPpaZWSu1ag/wHRExNSKm5dunAIsiYgqwKN82M+sq7ToEngnMy9PzgMPa9DhmZkPWigAM4BpJN0s6PreNzwOnAzwEjK9fyOMCm1mnNX0OEDggIlZLejWwUNJd1c6ICElRv1BEzAHmAGyncS/pNzNrt6b3ACNidf69DricNA7w2trwmPn3umYfx8ys1ZodGP2VkratTQOHkMYBXgDMzrPNBq5s5nHMzNqh2UPg8cDlaYx0tgK+GxE/knQjMF/SccD9wBFNPo6ZWcs1FYARcS/wpj7aHwUOaua+zczazZ8EMbNiOQDNrFgOQDMrlgPQzIrlADSzYjkAzaxYDkAzK5YD0MyK5QA0s2I5AM2sWA5AMyuWA9DMiuUANLNiOQDNrFgOQDMr1pC/D1DSa0lj/9bsCnwWGAN8AHg4t38yIq4a6uOYmbXLkAMwIpYBUwEkjQBWk8YEORY4MyK+2ooCzczapVWHwAcBKyLi/hbdn5lZ27UqAGcBF1VunyRpiaTzJY1t0WOYmbVU0wEoaWvgvcD3c9PZwG6kw+M1wBkNlvPA6GbWUa3YA5wO3BIRawEiYm1EbIyIF4BzSeMEv0REzImIaRExbSSjWlCGmdngtCIAj6Ry+FsbED07nDROsJlZ12lqWMw8GPo7gRMqzadLmgoEsLKuz8ysazQ7LvAzwKvq2o5qqiIzs2HiT4KYWbEcgGZWLAegmRXLAWhmxXIAmlmxHIBmViwHoJkVywFoZsVyAJpZsRyAZlYsB6CZFcsBaGbFcgCaWbEcgGZWLAegmRXLAWhmxRpQAObR3dZJur3SNk7SQkn35N9jc7sknSVpeR4Zbp92FW9m1oyB7gHOBQ6tazsFWBQRU4BF+TakQZKm5J/jSaPEmZl1nQEFYET8HHisrnkmMC9PzwMOq7RfEMn1wJi6gZLMzLpCM+cAx0fEmjz9EDA+T08AHqjMtyq3bcLjAptZp7XkIkhEBGkUuMEs43GBzayjmgnAtbVD2/x7XW5fDUyqzDcxt5mZdZVmAnABMDtPzwaurLQfna8G7w88WTlUNjPrGgMaF1jSRcCBwPaSVgGfA74EzJd0HHA/cESe/SpgBrAc+D1wbItrNjNriQEFYEQc2aDroD7mDeDEZooyMxsO/iSImRXLAWhmxXIAmlmxHIBmViwHoJkVywFoZsVyAJpZsRyAZlYsB6CZFcsBaGbFcgCaWbEcgGZWLAegmRXLAWhmxXIAmlmx+g3ABmMCf0XSXXnc38sljcntkyU9K2lx/jmnjbWbmTVlIHuAc3npmMALgTdExF8AdwOnVvpWRMTU/PPB1pRpZtZ6/QZgX2MCR8Q1EbEh37yeNPCRmVlPacU5wPcDV1du7yLpVkk/k/S2Rgt5XGAz67QBjQnSiKRPARuAC3PTGmCniHhU0l8CV0jaKyKeql82IuYAcwC207hBjSlsZtYKQ94DlHQM8DfA3+eBkIiI5yLi0Tx9M7AC2KMFdZqZtdyQAlDSocDHgfdGxO8r7TtIGpGndwWmAPe2olAzs1br9xC4wZjApwKjgIWSAK7PV3zfDnxB0vPAC8AHI+KxPu/YzKzD+g3ABmMCn9dg3kuBS5stysxsOPiTIGZWLAegmRXLAWhmxXIAmlmxHIBmViwHoJkVywFoZsVyAJpZsRyAZlYsB6CZFcsBaGbFcgCaWbEcgGZWLAegmRXLAWhmxRrquMCnSVpdGf93RqXvVEnLJS2T9K52FW5m1qyhjgsMcGZl/N+rACTtCcwC9srLfLP2FflmZt1mSOMCb8ZM4Ht5cKT7gOXAvk3UZ2bWNs2cAzxJ0pJ8iDw2t00AHqjMsyq3vYTHBTazThtqAJ4N7AZMJY0FfMZg7yAi5kTEtIiYNpJRQyzDzGzohhSAEbE2IjZGxAvAubx4mLsamFSZdWJuMzPrOkMdF3jHys3DgdoV4gXALEmjJO1CGhf4N82VaGbWHkMdF/hASVOBAFYCJwBExB2S5gN3AhuAEyNiY1sqNzNrkiKi0zWwncbFfjqo02WY2RboJ3HJzRExra8+fxLEzIrlADSzYjkAzaxYDkAzK5YD0MyK5QA0s2I5AM2sWA5AMyuWA9DMiuUANLNiOQDNrFgOQDMrlgPQzIrlADSzYjkAzaxYDkAzK9ZQB0a/uDIo+kpJi3P7ZEnPVvrOaWPtZmZN6fcr8UkDo/83cEGtISLeV5uWdAbwZGX+FRExtUX1mZm1Tb8BGBE/lzS5rz5JAo4A/rrFdZmZtV2z5wDfBqyNiHsqbbtIulXSzyS9rdGCHhjdzDptIIfAm3MkcFHl9hpgp4h4VNJfAldI2isinqpfMCLmAHMgDYrUZB1mZoM25D1ASVsBfwtcXGuLiOci4tE8fTOwAtij2SLNzNqhmUPgg4G7ImJVrUHSDpJG5OldSQOj39tciWZm7TGQt8FcBPwaeK2kVZKOy12z2PTwF+DtwJL8tphLgA9GxGMtrNfMrGUGchX4yAbtx/TRdilwafNlmZm1nz8JYmbFcgCaWbEcgGZWLAegmRXLAWhmxXIAmlmxHIBmViwHoJkVywFoZsVyAJpZsRyAZlYsB6CZFcsBaGbFcgCaWbEcgGZWrIF8IeokSddJulPSHZJOzu3jJC2UdE/+PTa3S9JZkpZLWiJpn3avhJnZUAxkD3AD8NGI2BPYHzhR0p7AKcCiiJgCLMq3AaaTvgp/CnA8cHbLqzYza4F+AzAi1kTELXl6PbAUmADMBObl2eYBh+XpmcAFkVwPjJG0Y6sLNzNr1qDOAeYB0vcGbgDGR8Sa3PUQMD5PTwAeqCy2KrfV35fHBTazjhpwAEoaTRrv4yP14/xGRACDGts3IuZExLSImDaSUYNZ1MysJQYUgJJGksLvwoi4LDevrR3a5t/rcvtqYFJl8Ym5zcysqwzkKrCA84ClEfG1StcCYHaeng1cWWk/Ol8N3h94snKobGbWNfodFhN4K3AUcFse7xfgk8CXgPl5nOD7gSNy31XADGA58Hvg2FYWbGbWKgMZF/iXgBp0H9TH/AGc2GRdZmZt50+CmFmxHIBmViwHoJkVywFoZsVyAJpZsRyAZlYsB6CZFcsBaGbFcgCaWbEcgGZWLAegmRXLAWhmxXIAmlmxHIBmViwHoJkVywFoZsVyAJpZsZS+wLnDRUgPA88Aj3S6liZsT2/XD72/Dr1eP/T+OnRj/TtHxA59dXRFAAJIuikipnW6jqHq9fqh99eh1+uH3l+HXqvfh8BmViwHoJkVq5sCcE6nC2hSr9cPvb8OvV4/9P469FT9XXMO0MxsuHXTHqCZ2bByAJpZsToegJIOlbRM0nJJp3S6noGStFLSbZIWS7opt42TtFDSPfn32E7XWSXpfEnrJN1eaeuzZiVn5e2yRNI+nav8T7X2Vf9pklbn7bBY0oxK36m5/mWS3tWZql8kaZKk6yTdKekOSSfn9l7aBo3WoWe2wyYiomM/wAhgBbArsDXwW2DPTtY0iNpXAtvXtZ0OnJKnTwG+3Ok66+p7O7APcHt/NQMzgKsBAfsDN3Rp/acBH+tj3j3z62kUsEt+nY3ocP07Avvk6W2Bu3OdvbQNGq1Dz2yH6k+n9wD3BZZHxL0R8Ufge8DMDtfUjJnAvDw9Dzisc6W8VET8HHisrrlRzTOBCyK5HhgjacdhKbSBBvU3MhP4XkQ8FxH3ActJr7eOiYg1EXFLnl4PLAUm0FvboNE6NNJ126Gq0wE4AXigcnsVm38yu0kA10i6WdLxuW18RKzJ0w8B4ztT2qA0qrmXts1J+RDx/Mpph66uX9JkYG/gBnp0G9StA/Tgduh0APayAyJiH2A6cKKkt1c7I+3/99R7jHqxZuBsYDdgKrAGOKOj1QyApNHApcBHIuKpal+vbIM+1qHntgN0PgBXA5Mqtyfmtq4XEavz73XA5aTd+rW1Q5T8e13nKhywRjX3xLaJiLURsTEiXgDO5cXDq66sX9JIUnBcGBGX5eae2gZ9rUOvbYeaTgfgjcAUSbtI2hqYBSzocE39kvRKSdvWpoFDgNtJtc/Os80GruxMhYPSqOYFwNH5SuT+wJOVw7SuUXdO7HDSdoBU/yxJoyTtAkwBfjPc9VVJEnAesDQivlbp6plt0Ggdemk7bKLTV2FIV7ruJl0d+lSn6xlgzbuSrmz9FrijVjfwKmARcA/wE2Bcp2utq/si0uHJ86RzMcc1qpl05fEbebvcBkzr0vq/netbQvpj27Ey/6dy/cuA6V1Q/wGkw9slwOL8M6PHtkGjdeiZ7VD98UfhzKxYnT4ENjPrGAegmRXLAWhmxXIAmlmxHIBmViwHoJkVywFoZsX6fwqXxooDwJ4IAAAAAElFTkSuQmCC\n",
          "text/plain": "<Figure size 432x288 with 1 Axes>"
         },
         "metadata": {
          "needs_background": "light"
         },
         "output_type": "display_data"
        }
       ]
      }
     },
     "56af814d52f44981991fa7e45eac3256": {
      "model_module": "@jupyter-widgets/output",
      "model_module_version": "1.0.0",
      "model_name": "OutputModel",
      "state": {
       "_dom_classes": [],
       "_model_module": "@jupyter-widgets/output",
       "_model_module_version": "1.0.0",
       "_model_name": "OutputModel",
       "_view_count": null,
       "_view_module": "@jupyter-widgets/output",
       "_view_module_version": "1.0.0",
       "_view_name": "OutputView",
       "layout": "IPY_MODEL_9eccbd78d8304234be380b2bf7b08bc8",
       "msg_id": "",
       "outputs": [
        {
         "data": {
          "image/png": "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\n",
          "text/plain": "<Figure size 432x288 with 1 Axes>"
         },
         "metadata": {
          "needs_background": "light"
         },
         "output_type": "display_data"
        }
       ]
      }
     },
     "5b2bca21b55e4739aa18b96f30aba675": {
      "model_module": "@jupyter-widgets/base",
      "model_module_version": "1.2.0",
      "model_name": "LayoutModel",
      "state": {
       "_model_module": "@jupyter-widgets/base",
       "_model_module_version": "1.2.0",
       "_model_name": "LayoutModel",
       "_view_count": null,
       "_view_module": "@jupyter-widgets/base",
       "_view_module_version": "1.2.0",
       "_view_name": "LayoutView",
       "align_content": null,
       "align_items": null,
       "align_self": null,
       "border": null,
       "bottom": null,
       "display": null,
       "flex": null,
       "flex_flow": null,
       "grid_area": null,
       "grid_auto_columns": null,
       "grid_auto_flow": null,
       "grid_auto_rows": null,
       "grid_column": null,
       "grid_gap": null,
       "grid_row": null,
       "grid_template_areas": null,
       "grid_template_columns": null,
       "grid_template_rows": null,
       "height": null,
       "justify_content": null,
       "justify_items": null,
       "left": null,
       "margin": null,
       "max_height": null,
       "max_width": null,
       "min_height": null,
       "min_width": null,
       "object_fit": null,
       "object_position": null,
       "order": null,
       "overflow": null,
       "overflow_x": null,
       "overflow_y": null,
       "padding": null,
       "right": null,
       "top": null,
       "visibility": null,
       "width": null
      }
     },
     "5dd61fe586944b98a7188635c77947db": {
      "model_module": "@jupyter-widgets/base",
      "model_module_version": "1.2.0",
      "model_name": "LayoutModel",
      "state": {
       "_model_module": "@jupyter-widgets/base",
       "_model_module_version": "1.2.0",
       "_model_name": "LayoutModel",
       "_view_count": null,
       "_view_module": "@jupyter-widgets/base",
       "_view_module_version": "1.2.0",
       "_view_name": "LayoutView",
       "align_content": null,
       "align_items": null,
       "align_self": null,
       "border": null,
       "bottom": null,
       "display": null,
       "flex": null,
       "flex_flow": null,
       "grid_area": null,
       "grid_auto_columns": null,
       "grid_auto_flow": null,
       "grid_auto_rows": null,
       "grid_column": null,
       "grid_gap": null,
       "grid_row": null,
       "grid_template_areas": null,
       "grid_template_columns": null,
       "grid_template_rows": null,
       "height": null,
       "justify_content": null,
       "justify_items": null,
       "left": null,
       "margin": null,
       "max_height": null,
       "max_width": null,
       "min_height": null,
       "min_width": null,
       "object_fit": null,
       "object_position": null,
       "order": null,
       "overflow": null,
       "overflow_x": null,
       "overflow_y": null,
       "padding": null,
       "right": null,
       "top": null,
       "visibility": null,
       "width": null
      }
     },
     "63951e1a86334a8587c145fa2b9840fe": {
      "model_module": "@jupyter-widgets/output",
      "model_module_version": "1.0.0",
      "model_name": "OutputModel",
      "state": {
       "_dom_classes": [],
       "_model_module": "@jupyter-widgets/output",
       "_model_module_version": "1.0.0",
       "_model_name": "OutputModel",
       "_view_count": null,
       "_view_module": "@jupyter-widgets/output",
       "_view_module_version": "1.0.0",
       "_view_name": "OutputView",
       "layout": "IPY_MODEL_5dd61fe586944b98a7188635c77947db",
       "msg_id": "",
       "outputs": [
        {
         "data": {
          "image/png": "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\n",
          "text/plain": "<Figure size 432x288 with 1 Axes>"
         },
         "metadata": {
          "needs_background": "light"
         },
         "output_type": "display_data"
        }
       ]
      }
     },
     "6a206adf3b9149579b95b1a06f7e41cb": {
      "model_module": "@jupyter-widgets/base",
      "model_module_version": "1.2.0",
      "model_name": "LayoutModel",
      "state": {
       "_model_module": "@jupyter-widgets/base",
       "_model_module_version": "1.2.0",
       "_model_name": "LayoutModel",
       "_view_count": null,
       "_view_module": "@jupyter-widgets/base",
       "_view_module_version": "1.2.0",
       "_view_name": "LayoutView",
       "align_content": null,
       "align_items": null,
       "align_self": null,
       "border": null,
       "bottom": null,
       "display": null,
       "flex": null,
       "flex_flow": null,
       "grid_area": null,
       "grid_auto_columns": null,
       "grid_auto_flow": null,
       "grid_auto_rows": null,
       "grid_column": null,
       "grid_gap": null,
       "grid_row": null,
       "grid_template_areas": null,
       "grid_template_columns": null,
       "grid_template_rows": null,
       "height": null,
       "justify_content": null,
       "justify_items": null,
       "left": null,
       "margin": null,
       "max_height": null,
       "max_width": null,
       "min_height": null,
       "min_width": null,
       "object_fit": null,
       "object_position": null,
       "order": null,
       "overflow": null,
       "overflow_x": null,
       "overflow_y": null,
       "padding": null,
       "right": null,
       "top": null,
       "visibility": null,
       "width": null
      }
     },
     "6b13494cf31a49f89768a454c2bcb206": {
      "model_module": "@jupyter-widgets/controls",
      "model_module_version": "1.5.0",
      "model_name": "ButtonStyleModel",
      "state": {
       "_model_module": "@jupyter-widgets/controls",
       "_model_module_version": "1.5.0",
       "_model_name": "ButtonStyleModel",
       "_view_count": null,
       "_view_module": "@jupyter-widgets/base",
       "_view_module_version": "1.2.0",
       "_view_name": "StyleView",
       "button_color": null,
       "font_weight": ""
      }
     },
     "758b957e67924fdcb8eb112b756513af": {
      "model_module": "@jupyter-widgets/controls",
      "model_module_version": "1.5.0",
      "model_name": "ButtonModel",
      "state": {
       "_dom_classes": [],
       "_model_module": "@jupyter-widgets/controls",
       "_model_module_version": "1.5.0",
       "_model_name": "ButtonModel",
       "_view_count": null,
       "_view_module": "@jupyter-widgets/controls",
       "_view_module_version": "1.5.0",
       "_view_name": "ButtonView",
       "button_style": "",
       "description": "Next",
       "disabled": false,
       "icon": "",
       "layout": "IPY_MODEL_2933c9ff119844c5baca8051c2191f2b",
       "style": "IPY_MODEL_de4202ad35b2401aba3708032b9ff0c6",
       "tooltip": ""
      }
     },
     "93e0a3addeeb4e039744e7a2707f5c9a": {
      "model_module": "@jupyter-widgets/controls",
      "model_module_version": "1.5.0",
      "model_name": "VBoxModel",
      "state": {
       "_dom_classes": [],
       "_model_module": "@jupyter-widgets/controls",
       "_model_module_version": "1.5.0",
       "_model_name": "VBoxModel",
       "_view_count": null,
       "_view_module": "@jupyter-widgets/controls",
       "_view_module_version": "1.5.0",
       "_view_name": "VBoxView",
       "box_style": "",
       "children": [
        "IPY_MODEL_54e2d231162f4cec831903119d10ed58",
        "IPY_MODEL_c090c73be2cd46a894ea14a0eeb57b15"
       ],
       "layout": "IPY_MODEL_6a206adf3b9149579b95b1a06f7e41cb"
      }
     },
     "9eccbd78d8304234be380b2bf7b08bc8": {
      "model_module": "@jupyter-widgets/base",
      "model_module_version": "1.2.0",
      "model_name": "LayoutModel",
      "state": {
       "_model_module": "@jupyter-widgets/base",
       "_model_module_version": "1.2.0",
       "_model_name": "LayoutModel",
       "_view_count": null,
       "_view_module": "@jupyter-widgets/base",
       "_view_module_version": "1.2.0",
       "_view_name": "LayoutView",
       "align_content": null,
       "align_items": null,
       "align_self": null,
       "border": null,
       "bottom": null,
       "display": null,
       "flex": null,
       "flex_flow": null,
       "grid_area": null,
       "grid_auto_columns": null,
       "grid_auto_flow": null,
       "grid_auto_rows": null,
       "grid_column": null,
       "grid_gap": null,
       "grid_row": null,
       "grid_template_areas": null,
       "grid_template_columns": null,
       "grid_template_rows": null,
       "height": null,
       "justify_content": null,
       "justify_items": null,
       "left": null,
       "margin": null,
       "max_height": null,
       "max_width": null,
       "min_height": null,
       "min_width": null,
       "object_fit": null,
       "object_position": null,
       "order": null,
       "overflow": null,
       "overflow_x": null,
       "overflow_y": null,
       "padding": null,
       "right": null,
       "top": null,
       "visibility": null,
       "width": null
      }
     },
     "c090c73be2cd46a894ea14a0eeb57b15": {
      "model_module": "@jupyter-widgets/controls",
      "model_module_version": "1.5.0",
      "model_name": "ButtonModel",
      "state": {
       "_dom_classes": [],
       "_model_module": "@jupyter-widgets/controls",
       "_model_module_version": "1.5.0",
       "_model_name": "ButtonModel",
       "_view_count": null,
       "_view_module": "@jupyter-widgets/controls",
       "_view_module_version": "1.5.0",
       "_view_name": "ButtonView",
       "button_style": "",
       "description": "Next",
       "disabled": false,
       "icon": "",
       "layout": "IPY_MODEL_e4eb6dce8cab46738671e3ed2c457fd0",
       "style": "IPY_MODEL_6b13494cf31a49f89768a454c2bcb206",
       "tooltip": ""
      }
     },
     "c14c1299031f4706a6b88d38db11ca6c": {
      "model_module": "@jupyter-widgets/controls",
      "model_module_version": "1.5.0",
      "model_name": "ButtonModel",
      "state": {
       "_dom_classes": [],
       "_model_module": "@jupyter-widgets/controls",
       "_model_module_version": "1.5.0",
       "_model_name": "ButtonModel",
       "_view_count": null,
       "_view_module": "@jupyter-widgets/controls",
       "_view_module_version": "1.5.0",
       "_view_name": "ButtonView",
       "button_style": "",
       "description": "Next",
       "disabled": false,
       "icon": "",
       "layout": "IPY_MODEL_edd94b4faf6e4726a7555ade49ba493e",
       "style": "IPY_MODEL_12bdfd5ac35346c6acf8a712a3da7b3c",
       "tooltip": ""
      }
     },
     "cecc47fdf062444cbb2bcfac79b52bf9": {
      "model_module": "@jupyter-widgets/controls",
      "model_module_version": "1.5.0",
      "model_name": "VBoxModel",
      "state": {
       "_dom_classes": [],
       "_model_module": "@jupyter-widgets/controls",
       "_model_module_version": "1.5.0",
       "_model_name": "VBoxModel",
       "_view_count": null,
       "_view_module": "@jupyter-widgets/controls",
       "_view_module_version": "1.5.0",
       "_view_name": "VBoxView",
       "box_style": "",
       "children": [
        "IPY_MODEL_63951e1a86334a8587c145fa2b9840fe",
        "IPY_MODEL_c14c1299031f4706a6b88d38db11ca6c"
       ],
       "layout": "IPY_MODEL_5b2bca21b55e4739aa18b96f30aba675"
      }
     },
     "de4202ad35b2401aba3708032b9ff0c6": {
      "model_module": "@jupyter-widgets/controls",
      "model_module_version": "1.5.0",
      "model_name": "ButtonStyleModel",
      "state": {
       "_model_module": "@jupyter-widgets/controls",
       "_model_module_version": "1.5.0",
       "_model_name": "ButtonStyleModel",
       "_view_count": null,
       "_view_module": "@jupyter-widgets/base",
       "_view_module_version": "1.2.0",
       "_view_name": "StyleView",
       "button_color": null,
       "font_weight": ""
      }
     },
     "e4eb6dce8cab46738671e3ed2c457fd0": {
      "model_module": "@jupyter-widgets/base",
      "model_module_version": "1.2.0",
      "model_name": "LayoutModel",
      "state": {
       "_model_module": "@jupyter-widgets/base",
       "_model_module_version": "1.2.0",
       "_model_name": "LayoutModel",
       "_view_count": null,
       "_view_module": "@jupyter-widgets/base",
       "_view_module_version": "1.2.0",
       "_view_name": "LayoutView",
       "align_content": null,
       "align_items": null,
       "align_self": null,
       "border": null,
       "bottom": null,
       "display": null,
       "flex": null,
       "flex_flow": null,
       "grid_area": null,
       "grid_auto_columns": null,
       "grid_auto_flow": null,
       "grid_auto_rows": null,
       "grid_column": null,
       "grid_gap": null,
       "grid_row": null,
       "grid_template_areas": null,
       "grid_template_columns": null,
       "grid_template_rows": null,
       "height": null,
       "justify_content": null,
       "justify_items": null,
       "left": null,
       "margin": null,
       "max_height": null,
       "max_width": null,
       "min_height": null,
       "min_width": null,
       "object_fit": null,
       "object_position": null,
       "order": null,
       "overflow": null,
       "overflow_x": null,
       "overflow_y": null,
       "padding": null,
       "right": null,
       "top": null,
       "visibility": null,
       "width": null
      }
     },
     "ec0b02e68a074fe0a31f80e7dcb45178": {
      "model_module": "@jupyter-widgets/controls",
      "model_module_version": "1.5.0",
      "model_name": "VBoxModel",
      "state": {
       "_dom_classes": [],
       "_model_module": "@jupyter-widgets/controls",
       "_model_module_version": "1.5.0",
       "_model_name": "VBoxModel",
       "_view_count": null,
       "_view_module": "@jupyter-widgets/controls",
       "_view_module_version": "1.5.0",
       "_view_name": "VBoxView",
       "box_style": "",
       "children": [
        "IPY_MODEL_56af814d52f44981991fa7e45eac3256",
        "IPY_MODEL_758b957e67924fdcb8eb112b756513af"
       ],
       "layout": "IPY_MODEL_ffe435cd91864cf19c534631c1afd19f"
      }
     },
     "edd94b4faf6e4726a7555ade49ba493e": {
      "model_module": "@jupyter-widgets/base",
      "model_module_version": "1.2.0",
      "model_name": "LayoutModel",
      "state": {
       "_model_module": "@jupyter-widgets/base",
       "_model_module_version": "1.2.0",
       "_model_name": "LayoutModel",
       "_view_count": null,
       "_view_module": "@jupyter-widgets/base",
       "_view_module_version": "1.2.0",
       "_view_name": "LayoutView",
       "align_content": null,
       "align_items": null,
       "align_self": null,
       "border": null,
       "bottom": null,
       "display": null,
       "flex": null,
       "flex_flow": null,
       "grid_area": null,
       "grid_auto_columns": null,
       "grid_auto_flow": null,
       "grid_auto_rows": null,
       "grid_column": null,
       "grid_gap": null,
       "grid_row": null,
       "grid_template_areas": null,
       "grid_template_columns": null,
       "grid_template_rows": null,
       "height": null,
       "justify_content": null,
       "justify_items": null,
       "left": null,
       "margin": null,
       "max_height": null,
       "max_width": null,
       "min_height": null,
       "min_width": null,
       "object_fit": null,
       "object_position": null,
       "order": null,
       "overflow": null,
       "overflow_x": null,
       "overflow_y": null,
       "padding": null,
       "right": null,
       "top": null,
       "visibility": null,
       "width": null
      }
     },
     "ffe435cd91864cf19c534631c1afd19f": {
      "model_module": "@jupyter-widgets/base",
      "model_module_version": "1.2.0",
      "model_name": "LayoutModel",
      "state": {
       "_model_module": "@jupyter-widgets/base",
       "_model_module_version": "1.2.0",
       "_model_name": "LayoutModel",
       "_view_count": null,
       "_view_module": "@jupyter-widgets/base",
       "_view_module_version": "1.2.0",
       "_view_name": "LayoutView",
       "align_content": null,
       "align_items": null,
       "align_self": null,
       "border": null,
       "bottom": null,
       "display": null,
       "flex": null,
       "flex_flow": null,
       "grid_area": null,
       "grid_auto_columns": null,
       "grid_auto_flow": null,
       "grid_auto_rows": null,
       "grid_column": null,
       "grid_gap": null,
       "grid_row": null,
       "grid_template_areas": null,
       "grid_template_columns": null,
       "grid_template_rows": null,
       "height": null,
       "justify_content": null,
       "justify_items": null,
       "left": null,
       "margin": null,
       "max_height": null,
       "max_width": null,
       "min_height": null,
       "min_width": null,
       "object_fit": null,
       "object_position": null,
       "order": null,
       "overflow": null,
       "overflow_x": null,
       "overflow_y": null,
       "padding": null,
       "right": null,
       "top": null,
       "visibility": null,
       "width": null
      }
     }
    },
    "version_major": 2,
    "version_minor": 0
   }
  }
 },
 "nbformat": 4,
 "nbformat_minor": 4
}
