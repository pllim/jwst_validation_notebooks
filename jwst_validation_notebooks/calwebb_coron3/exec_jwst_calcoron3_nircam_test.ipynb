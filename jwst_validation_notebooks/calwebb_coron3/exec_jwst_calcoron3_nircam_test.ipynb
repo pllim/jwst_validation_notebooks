{
 "cells": [
  {
   "cell_type": "markdown",
   "metadata": {},
   "source": [
    "<a id=\"title_ID\"></a>\n",
    "# JWST Pipeline Validation Notebook: calwebb_coron3 with NIRCam\n",
    "\n",
    "<span style=\"color:red\"> **Instruments Affected**</span>: MIRI, NIRCam \n",
    "\n",
    "### Table of Contents\n",
    "\n",
    "<div style=\"text-align: left\"> \n",
    "    \n",
    "<br> [Introduction\\*](#intro)\n",
    "<br> [JWST CalWG Algorithm\\*](#algorithm)\n",
    "<br> [Test Description\\*](#description)\n",
    "<br> [Data Description\\*](#data_descr)\n",
    "<br> [Imports\\*](#imports)\n",
    "<br> [Set up Temporary Directory\\*](#temp)\n",
    "<br> [Loading the Data\\*](#data_load)\n",
    "<br> [Run the Pipeline](#pipeline)\n",
    "<br> [Perform Tests or Visualization](#testing) \n",
    "<br> [About This Notebook\\*](#about)\n",
    "<br>    \n",
    "\n",
    "</div>"
   ]
  },
  {
   "cell_type": "markdown",
   "metadata": {},
   "source": [
    "<a id=\"intro\"></a>\n",
    "# Introduction\n",
    "\n",
    "This notebook validates the stage 3 coronagraphic pipeline (calwebb_coron3).\n",
    "\n",
    "Step description: https://jwst-pipeline.readthedocs.io/en/latest/jwst/pipeline/calwebb_coron3.html\n",
    "\n",
    "Pipeline code: https://github.com/spacetelescope/jwst/tree/master/jwst/coron\n",
    "\n",
    "[Top of Page](#title_ID)"
   ]
  },
  {
   "cell_type": "markdown",
   "metadata": {},
   "source": [
    "<a id=\"algorithm\"></a>\n",
    "# JWST CalWG Algorithm\n",
    "\n",
    "The coron3 pipeline consists of the following steps:\n",
    "\n",
    "1) outlier_detection: identifies bad pixels/outliers in the input images\n",
    "\n",
    "2) stack_refs: stacks the reference PSFs together into a 3D data cube\n",
    "\n",
    "3) align_refs: aligns/shifts the stack of reference PSFs to the target PSFs\n",
    "\n",
    "4) klip: uses the Karhunen-Loeve Image Plane (KLIP) algorithm to fit and subtract an optimal PSF from the target PSFs\n",
    "\n",
    "5) resample: combines the PSF-subtracted target images into a single product\n",
    "\n",
    "[Top of Page](#title_ID)"
   ]
  },
  {
   "cell_type": "markdown",
   "metadata": {},
   "source": [
    "<a id=\"description\"></a>\n",
    "# Test Description\n",
    "\n",
    "All steps of the calwebb_coron3 pipeline are run on the simulated input data.\n",
    "\n",
    "The tests will ensure basic header/data info in the output images is as expected (e.g. image dimensions, number of outliers detected), as well as inspect the quality of the PSF alignments and the PSF-subtracted images.\n",
    "\n",
    "\n",
    "[Top of Page](#title_ID)"
   ]
  },
  {
   "cell_type": "markdown",
   "metadata": {},
   "source": [
    "<a id=\"data_descr\"></a>\n",
    "# Data Description\n",
    "\n",
    "The NIRCam test data consists of 9 small-grid dithered reference PSFs (2 ints, 10 groups) as well as 1 target PSF (10 ints, 10 groups) with 2 companions. The instrument setup for these exposures is as follows:\n",
    "\n",
    "DETECTOR = NRCA2\n",
    "\n",
    "SUBARRAY = SUB640A210R\n",
    "\n",
    "FILTER = F210M\n",
    "\n",
    "PUPIL = MASKRND\n",
    "\n",
    "CORONMSK = MASKA210R\n",
    "\n",
    "READPATT = RAPID\n",
    "\n",
    "[Top of Page](#title_ID)"
   ]
  },
  {
   "cell_type": "markdown",
   "metadata": {},
   "source": [
    "<a id=\"imports\"></a>\n",
    "# Imports\n",
    "\n",
    "* astropy.io for opening fits files\n",
    "* ci_watson.artifactory_helpers to retrieve test data from artifactory\n",
    "* glob for making file lists\n",
    "* jwst.pipeline.calwebb_coron3 is the pipeline step being tested\n",
    "* matplotlib.pyplot to generate plots\n",
    "* os for file handling\n",
    "* tempfile to create a temporary processing directory\n"
   ]
  },
  {
   "cell_type": "code",
   "execution_count": 1,
   "metadata": {
    "execution": {
     "iopub.execute_input": "2022-10-04T21:11:37.071737Z",
     "iopub.status.busy": "2022-10-04T21:11:37.071498Z",
     "iopub.status.idle": "2022-10-04T21:11:38.932665Z",
     "shell.execute_reply": "2022-10-04T21:11:38.931603Z"
    }
   },
   "outputs": [],
   "source": [
    "from astropy.io import fits\n",
    "from ci_watson.artifactory_helpers import get_bigdata\n",
    "import glob\n",
    "from jwst.pipeline.calwebb_coron3 import Coron3Pipeline\n",
    "import matplotlib.pyplot as plt\n",
    "%matplotlib inline\n",
    "import os\n",
    "import numpy as np\n",
    "from tempfile import TemporaryDirectory"
   ]
  },
  {
   "cell_type": "markdown",
   "metadata": {},
   "source": [
    "[Top of Page](#title_ID)"
   ]
  },
  {
   "cell_type": "markdown",
   "metadata": {},
   "source": [
    "<a id=\"temp\"></a>\n",
    "# Set up Temporary Directory\n"
   ]
  },
  {
   "cell_type": "code",
   "execution_count": 2,
   "metadata": {
    "execution": {
     "iopub.execute_input": "2022-10-04T21:11:38.936993Z",
     "iopub.status.busy": "2022-10-04T21:11:38.936318Z",
     "iopub.status.idle": "2022-10-04T21:11:38.940800Z",
     "shell.execute_reply": "2022-10-04T21:11:38.940109Z"
    }
   },
   "outputs": [],
   "source": [
    "# Create a temporary directory to hold notebook output, and change the working directory to that directory\n",
    "\n",
    "data_dir = TemporaryDirectory()\n",
    "os.chdir(data_dir.name)"
   ]
  },
  {
   "cell_type": "code",
   "execution_count": 3,
   "metadata": {
    "execution": {
     "iopub.execute_input": "2022-10-04T21:11:38.943262Z",
     "iopub.status.busy": "2022-10-04T21:11:38.942933Z",
     "iopub.status.idle": "2022-10-04T21:11:38.947629Z",
     "shell.execute_reply": "2022-10-04T21:11:38.947032Z"
    }
   },
   "outputs": [
    {
     "name": "stdout",
     "output_type": "stream",
     "text": [
      "CRDS cache location: /grp/crds/cache\n"
     ]
    }
   ],
   "source": [
    "import os\n",
    "if 'CRDS_CACHE_TYPE' in os.environ:\n",
    "    if os.environ['CRDS_CACHE_TYPE'] == 'local':\n",
    "        os.environ['CRDS_PATH'] = os.path.join(os.environ['HOME'], 'crds', 'cache')\n",
    "    elif os.path.isdir(os.environ['CRDS_CACHE_TYPE']):\n",
    "        os.environ['CRDS_PATH'] = os.environ['CRDS_CACHE_TYPE']\n",
    "print('CRDS cache location: {}'.format(os.environ['CRDS_PATH']))"
   ]
  },
  {
   "cell_type": "markdown",
   "metadata": {},
   "source": [
    "[Top of Page](#title_ID)"
   ]
  },
  {
   "cell_type": "markdown",
   "metadata": {},
   "source": [
    "<a id=\"data_load\"></a>\n",
    "# Loading the Data"
   ]
  },
  {
   "cell_type": "code",
   "execution_count": 4,
   "metadata": {
    "execution": {
     "iopub.execute_input": "2022-10-04T21:11:38.950135Z",
     "iopub.status.busy": "2022-10-04T21:11:38.949778Z",
     "iopub.status.idle": "2022-10-04T21:11:44.641589Z",
     "shell.execute_reply": "2022-10-04T21:11:44.640669Z"
    }
   },
   "outputs": [],
   "source": [
    "# Copy the test files from Artifactory into the temporary directory\n",
    "\n",
    "files = ['lib_ss20_sgd1_calints.fits', 'lib_ss20_sgd2_calints.fits', 'lib_ss20_sgd3_calints.fits',\n",
    "         'lib_ss20_sgd4_calints.fits', 'lib_ss20_sgd5_calints.fits', 'lib_ss20_sgd6_calints.fits',\n",
    "         'lib_ss20_sgd7_calints.fits', 'lib_ss20_sgd8_calints.fits', 'lib_ss20_sgd9_calints.fits',\n",
    "         'lib_ss20_target_roll1_calints.fits', 'coro_test.asn']\n",
    "for f in files:\n",
    "    file = get_bigdata('jwst_validation_notebooks',\n",
    "                       'validation_data',\n",
    "                       'calwebb_coron3',\n",
    "                       'coron3_nircam_test', f)"
   ]
  },
  {
   "cell_type": "markdown",
   "metadata": {},
   "source": [
    "[Top of Page](#title_ID)"
   ]
  },
  {
   "cell_type": "markdown",
   "metadata": {},
   "source": [
    "<a id=\"pipeline\"></a>\n",
    "# Run the Pipeline"
   ]
  },
  {
   "cell_type": "code",
   "execution_count": 5,
   "metadata": {
    "execution": {
     "iopub.execute_input": "2022-10-04T21:11:44.646414Z",
     "iopub.status.busy": "2022-10-04T21:11:44.645363Z",
     "iopub.status.idle": "2022-10-04T21:11:45.453934Z",
     "shell.execute_reply": "2022-10-04T21:11:45.452850Z"
    }
   },
   "outputs": [
    {
     "name": "stderr",
     "output_type": "stream",
     "text": [
      "2022-10-04 17:11:44,657 - stpipe.Coron3Pipeline - INFO - Coron3Pipeline instance created.\n"
     ]
    },
    {
     "name": "stderr",
     "output_type": "stream",
     "text": [
      "2022-10-04 17:11:44,659 - stpipe.Coron3Pipeline.stack_refs - INFO - StackRefsStep instance created.\n"
     ]
    },
    {
     "name": "stderr",
     "output_type": "stream",
     "text": [
      "2022-10-04 17:11:44,660 - stpipe.Coron3Pipeline.align_refs - INFO - AlignRefsStep instance created.\n"
     ]
    },
    {
     "name": "stderr",
     "output_type": "stream",
     "text": [
      "2022-10-04 17:11:44,661 - stpipe.Coron3Pipeline.klip - INFO - KlipStep instance created.\n"
     ]
    },
    {
     "name": "stderr",
     "output_type": "stream",
     "text": [
      "2022-10-04 17:11:44,663 - stpipe.Coron3Pipeline.outlier_detection - INFO - OutlierDetectionStep instance created.\n"
     ]
    },
    {
     "name": "stderr",
     "output_type": "stream",
     "text": [
      "2022-10-04 17:11:44,665 - stpipe.Coron3Pipeline.resample - INFO - ResampleStep instance created.\n"
     ]
    },
    {
     "name": "stderr",
     "output_type": "stream",
     "text": [
      "2022-10-04 17:11:44,797 - stpipe.Coron3Pipeline - INFO - Step Coron3Pipeline running with args ('coro_test.asn',).\n"
     ]
    },
    {
     "name": "stderr",
     "output_type": "stream",
     "text": [
      "2022-10-04 17:11:44,802 - stpipe.Coron3Pipeline - INFO - Step Coron3Pipeline parameters are: {'pre_hooks': [], 'post_hooks': [], 'output_file': None, 'output_dir': None, 'output_ext': '.fits', 'output_use_model': False, 'output_use_index': True, 'save_results': True, 'skip': False, 'suffix': 'i2d', 'search_output_file': True, 'input_dir': '', 'steps': {'stack_refs': {'pre_hooks': [], 'post_hooks': [], 'output_file': None, 'output_dir': None, 'output_ext': '.fits', 'output_use_model': False, 'output_use_index': True, 'save_results': False, 'skip': False, 'suffix': None, 'search_output_file': True, 'input_dir': ''}, 'align_refs': {'pre_hooks': [], 'post_hooks': [], 'output_file': None, 'output_dir': None, 'output_ext': '.fits', 'output_use_model': False, 'output_use_index': True, 'save_results': False, 'skip': False, 'suffix': None, 'search_output_file': True, 'input_dir': '', 'median_box_length': 3, 'bad_bits': 'DO_NOT_USE'}, 'klip': {'pre_hooks': [], 'post_hooks': [], 'output_file': None, 'output_dir': None, 'output_ext': '.fits', 'output_use_model': False, 'output_use_index': True, 'save_results': False, 'skip': False, 'suffix': None, 'search_output_file': True, 'input_dir': '', 'truncate': 50}, 'outlier_detection': {'pre_hooks': [], 'post_hooks': [], 'output_file': None, 'output_dir': None, 'output_ext': '.fits', 'output_use_model': False, 'output_use_index': True, 'save_results': False, 'skip': False, 'suffix': None, 'search_output_file': False, 'input_dir': '', 'weight_type': 'ivm', 'pixfrac': 1.0, 'kernel': 'square', 'fillval': 'INDEF', 'nlow': 0, 'nhigh': 0, 'maskpt': 0.7, 'grow': 1, 'snr': '5.0 4.0', 'scale': '1.2 0.7', 'backg': 0.0, 'save_intermediate_results': False, 'resample_data': True, 'good_bits': '~DO_NOT_USE', 'scale_detection': False, 'allowed_memory': None, 'in_memory': False}, 'resample': {'pre_hooks': [], 'post_hooks': [], 'output_file': None, 'output_dir': None, 'output_ext': '.fits', 'output_use_model': False, 'output_use_index': True, 'save_results': False, 'skip': False, 'suffix': None, 'search_output_file': True, 'input_dir': '', 'pixfrac': 1.0, 'kernel': 'square', 'fillval': 'INDEF', 'weight_type': 'ivm', 'output_shape': None, 'crpix': None, 'crval': None, 'rotation': None, 'pixel_scale_ratio': 1.0, 'pixel_scale': None, 'single': False, 'blendheaders': True, 'allowed_memory': None, 'in_memory': True}}}\n"
     ]
    },
    {
     "name": "stderr",
     "output_type": "stream",
     "text": [
      "2022-10-04 17:11:44,803 - stpipe.Coron3Pipeline - INFO - Starting calwebb_coron3 ...\n"
     ]
    },
    {
     "ename": "ValueError",
     "evalue": "Unrecognized file type for: coro_test.asn",
     "output_type": "error",
     "traceback": [
      "\u001b[0;31m---------------------------------------------------------------------------\u001b[0m",
      "\u001b[0;31mValueError\u001b[0m                                Traceback (most recent call last)",
      "Cell \u001b[0;32mIn [5], line 6\u001b[0m\n\u001b[1;32m      3\u001b[0m m\u001b[38;5;241m.\u001b[39msave_results \u001b[38;5;241m=\u001b[39m \u001b[38;5;28;01mTrue\u001b[39;00m\n\u001b[1;32m      5\u001b[0m \u001b[38;5;66;03m# Run the pipeline\u001b[39;00m\n\u001b[0;32m----> 6\u001b[0m m\u001b[38;5;241m.\u001b[39mrun(\u001b[38;5;124m'\u001b[39m\u001b[38;5;124mcoro_test.asn\u001b[39m\u001b[38;5;124m'\u001b[39m)\n",
      "File \u001b[0;32m~/miniconda3/envs/jwst_validation_notebooks/lib/python3.9/site-packages/stpipe/step.py:483\u001b[0m, in \u001b[0;36mStep.run\u001b[0;34m(self, *args)\u001b[0m\n\u001b[1;32m    481\u001b[0m     \u001b[38;5;28mself\u001b[39m\u001b[38;5;241m.\u001b[39mprefetch(\u001b[38;5;241m*\u001b[39margs)\n\u001b[1;32m    482\u001b[0m \u001b[38;5;28;01mtry\u001b[39;00m:\n\u001b[0;32m--> 483\u001b[0m     step_result \u001b[38;5;241m=\u001b[39m \u001b[38;5;28;43mself\u001b[39;49m\u001b[38;5;241;43m.\u001b[39;49m\u001b[43mprocess\u001b[49m\u001b[43m(\u001b[49m\u001b[38;5;241;43m*\u001b[39;49m\u001b[43margs\u001b[49m\u001b[43m)\u001b[49m\n\u001b[1;32m    484\u001b[0m \u001b[38;5;28;01mexcept\u001b[39;00m \u001b[38;5;167;01mTypeError\u001b[39;00m \u001b[38;5;28;01mas\u001b[39;00m e:\n\u001b[1;32m    485\u001b[0m     \u001b[38;5;28;01mif\u001b[39;00m \u001b[38;5;124m\"\u001b[39m\u001b[38;5;124mprocess() takes exactly\u001b[39m\u001b[38;5;124m\"\u001b[39m \u001b[38;5;129;01min\u001b[39;00m \u001b[38;5;28mstr\u001b[39m(e):\n",
      "File \u001b[0;32m~/miniconda3/envs/jwst_validation_notebooks/lib/python3.9/site-packages/jwst/pipeline/calwebb_coron3.py:62\u001b[0m, in \u001b[0;36mCoron3Pipeline.process\u001b[0;34m(self, user_input)\u001b[0m\n\u001b[1;32m     59\u001b[0m asn_exptypes \u001b[38;5;241m=\u001b[39m [\u001b[38;5;124m'\u001b[39m\u001b[38;5;124mscience\u001b[39m\u001b[38;5;124m'\u001b[39m, \u001b[38;5;124m'\u001b[39m\u001b[38;5;124mpsf\u001b[39m\u001b[38;5;124m'\u001b[39m]\n\u001b[1;32m     61\u001b[0m \u001b[38;5;66;03m# Create a DM object using the association table\u001b[39;00m\n\u001b[0;32m---> 62\u001b[0m input_models \u001b[38;5;241m=\u001b[39m \u001b[43mdatamodels\u001b[49m\u001b[38;5;241;43m.\u001b[39;49m\u001b[43mopen\u001b[49m\u001b[43m(\u001b[49m\u001b[43muser_input\u001b[49m\u001b[43m,\u001b[49m\u001b[43m \u001b[49m\u001b[43masn_exptypes\u001b[49m\u001b[38;5;241;43m=\u001b[39;49m\u001b[43masn_exptypes\u001b[49m\u001b[43m)\u001b[49m\n\u001b[1;32m     63\u001b[0m acid \u001b[38;5;241m=\u001b[39m input_models\u001b[38;5;241m.\u001b[39mmeta\u001b[38;5;241m.\u001b[39masn_table\u001b[38;5;241m.\u001b[39masn_id\n\u001b[1;32m     65\u001b[0m \u001b[38;5;66;03m# Store the output file for future use\u001b[39;00m\n",
      "File \u001b[0;32m~/miniconda3/envs/jwst_validation_notebooks/lib/python3.9/site-packages/jwst/datamodels/util.py:123\u001b[0m, in \u001b[0;36mopen\u001b[0;34m(init, guess, memmap, **kwargs)\u001b[0m\n\u001b[1;32m    120\u001b[0m     init \u001b[38;5;241m=\u001b[39m init\u001b[38;5;241m.\u001b[39mdecode(sys\u001b[38;5;241m.\u001b[39mgetfilesystemencoding())\n\u001b[1;32m    122\u001b[0m file_name \u001b[38;5;241m=\u001b[39m basename(init)\n\u001b[0;32m--> 123\u001b[0m file_type \u001b[38;5;241m=\u001b[39m \u001b[43mfiletype\u001b[49m\u001b[38;5;241;43m.\u001b[39;49m\u001b[43mcheck\u001b[49m\u001b[43m(\u001b[49m\u001b[43minit\u001b[49m\u001b[43m)\u001b[49m\n\u001b[1;32m    125\u001b[0m \u001b[38;5;28;01mif\u001b[39;00m file_type \u001b[38;5;241m==\u001b[39m \u001b[38;5;124m\"\u001b[39m\u001b[38;5;124mfits\u001b[39m\u001b[38;5;124m\"\u001b[39m:\n\u001b[1;32m    126\u001b[0m     \u001b[38;5;28;01mif\u001b[39;00m s3_utils\u001b[38;5;241m.\u001b[39mis_s3_uri(init):\n",
      "File \u001b[0;32m~/miniconda3/envs/jwst_validation_notebooks/lib/python3.9/site-packages/stdatamodels/filetype.py:32\u001b[0m, in \u001b[0;36mcheck\u001b[0;34m(init)\u001b[0m\n\u001b[1;32m     29\u001b[0m     ext \u001b[38;5;241m=\u001b[39m ext\u001b[38;5;241m.\u001b[39mstrip(\u001b[38;5;124m'\u001b[39m\u001b[38;5;124m.\u001b[39m\u001b[38;5;124m'\u001b[39m)\n\u001b[1;32m     31\u001b[0m     \u001b[38;5;28;01mif\u001b[39;00m ext \u001b[38;5;129;01mnot\u001b[39;00m \u001b[38;5;129;01min\u001b[39;00m supported:\n\u001b[0;32m---> 32\u001b[0m         \u001b[38;5;28;01mraise\u001b[39;00m \u001b[38;5;167;01mValueError\u001b[39;00m(\u001b[38;5;124mf\u001b[39m\u001b[38;5;124m'\u001b[39m\u001b[38;5;124mUnrecognized file type for: \u001b[39m\u001b[38;5;132;01m{\u001b[39;00minit\u001b[38;5;132;01m}\u001b[39;00m\u001b[38;5;124m'\u001b[39m)\n\u001b[1;32m     34\u001b[0m \u001b[38;5;28;01mif\u001b[39;00m ext \u001b[38;5;241m==\u001b[39m \u001b[38;5;124m'\u001b[39m\u001b[38;5;124mjson\u001b[39m\u001b[38;5;124m'\u001b[39m:  \u001b[38;5;66;03m# Assume json input is an association\u001b[39;00m\n\u001b[1;32m     35\u001b[0m     \u001b[38;5;28;01mreturn\u001b[39;00m \u001b[38;5;124m'\u001b[39m\u001b[38;5;124masn\u001b[39m\u001b[38;5;124m'\u001b[39m\n",
      "\u001b[0;31mValueError\u001b[0m: Unrecognized file type for: coro_test.asn"
     ]
    }
   ],
   "source": [
    "# Initialize the coron3 pipeline\n",
    "m = Coron3Pipeline()\n",
    "m.save_results = True\n",
    "\n",
    "# Run the pipeline\n",
    "m.run('coro_test.asn')"
   ]
  },
  {
   "cell_type": "markdown",
   "metadata": {},
   "source": [
    "[Top of Page](#title_ID)"
   ]
  },
  {
   "cell_type": "markdown",
   "metadata": {},
   "source": [
    "<a id=\"testing\"></a>\n",
    "# Perform Tests"
   ]
  },
  {
   "cell_type": "code",
   "execution_count": null,
   "metadata": {},
   "outputs": [],
   "source": [
    "# Make sure the PSF stack/alignment/subtraction images have the expected data dimensions.\n",
    "# The expected dimensions for the psf stack images are:\n",
    "# NX x NY x Number of Reference PSF INTS\n",
    "# The expected dimensions for the psf alignment images are:\n",
    "# NX x NY x Number of Reference PSF INTS x Number of Target INTS\n",
    "# The expected dimensions for the psf subtraction images are:\n",
    "# NX x NY x Number of Target INTS\n",
    "\n",
    "f_stack = 'coro_test_psfstack.fits'\n",
    "f_align = 'lib_ss20_target_roll1_c1001_psfalign.fits'\n",
    "f_sub = 'lib_ss20_target_roll1_c1001_psfsub.fits'\n",
    "files = [f_stack, f_align, f_sub]\n",
    "expected_shapes = [(18, 640, 640), (10, 18, 640, 640), (10, 640, 640)]\n",
    "for f,shape in zip(files, expected_shapes):\n",
    "    for ext in ['SCI', 'ERR', 'DQ']:\n",
    "        data = fits.getdata(f, ext)\n",
    "        if data.shape != shape:\n",
    "            print('WARNING: unexpected data shape in {} {}: {}'.format(f, ext, data.shape))"
   ]
  },
  {
   "cell_type": "code",
   "execution_count": null,
   "metadata": {},
   "outputs": [],
   "source": [
    "# Make sure a reasonable number of outlier pixels are flagged in each exposure (less than 1%)\n",
    "\n",
    "files = sorted(glob.glob('*crfints.fits'))\n",
    "for f in files:\n",
    "    print(os.path.basename(f))\n",
    "    dq = fits.getdata(f, 'DQ')\n",
    "    nints, ny, nx = dq.shape\n",
    "    for integration in range(nints):\n",
    "        dq_int = dq[integration]\n",
    "        n_outlier = len(dq_int[dq_int&16!=0])\n",
    "        print('\\tOutlier pixels in Int {}: {} ({:.5f}% of image)'.format(integration+1,\n",
    "              n_outlier, n_outlier/(ny*nx)*100))"
   ]
  },
  {
   "cell_type": "code",
   "execution_count": null,
   "metadata": {},
   "outputs": [],
   "source": [
    "# Make sure the PSFs were aligned properly (i.e. residual alignment RMS should be <0.5 MJr/sr). \n",
    "# Each frame represents one PSF-aligned reference integration. There shouldn't be any severe \"ringing\" \n",
    "# effect from outlier pixels (i.e. cross pattern), as these should have been corrected in earlier steps.\n",
    "# There also shouldn't be any PSF pattern offsets visible in the images, only salt/pepper noise.\n",
    "\n",
    "fig, axes = plt.subplots(2, 9, figsize=(30,6))\n",
    "y1, y2, x1, x2 = (269, 370, 269, 370)  # a cutout region around the PSF\n",
    "\n",
    "data = fits.getdata(f_align, 'SCI')\n",
    "mean = np.mean(data[0], axis=0)\n",
    "for i, ax in enumerate(axes.flatten()):\n",
    "    diff = data[0, i] - mean\n",
    "    diff = diff[y1:y2, x1:x2]\n",
    "    r = np.sqrt(np.mean(diff**2))\n",
    "    im = ax.imshow(diff, cmap='coolwarm', vmin=-1, vmax=1, origin='lower')\n",
    "    ax.set_yticks([])\n",
    "    ax.set_xticks([])\n",
    "    ax.set_title('RMS={:.3f}'.format(r),size=15)\n",
    "\n",
    "fig.subplots_adjust(right=0.8)\n",
    "cbar_ax = fig.add_axes([0.82, 0.15, 0.02, 0.7])\n",
    "cbar = fig.colorbar(im, cax=cbar_ax)\n",
    "cbar.ax.tick_params(labelsize=20) \n",
    "cbar.ax.set_ylabel('PSF - Mean PSF [MJy/sr]', size=20)"
   ]
  },
  {
   "cell_type": "code",
   "execution_count": null,
   "metadata": {},
   "outputs": [],
   "source": [
    "# Make sure the PSF fitting/subtraction worked properly. The 2 companions should be obviously visible\n",
    "# in red in the top right/bottom left of the image, and the remainder of the image should be ~gray \n",
    "# (i.e. residual RMS should be <0.5 MJy/sr).\n",
    "\n",
    "fig, axes = plt.subplots(1,10, figsize=(32, 6))\n",
    "y1, y2, x1, x2 = (269, 370, 269, 370)  # a cutout region around the PSF\n",
    "\n",
    "data = fits.getdata(f_sub, 'SCI')\n",
    "rms = []\n",
    "for i, ax in enumerate(axes):\n",
    "    d = data[i, y1:y2, x1:x2]\n",
    "    r = np.sqrt(np.mean(d**2))\n",
    "    im = ax.imshow(d, cmap='coolwarm', vmin=-1, vmax=1, origin='lower')\n",
    "    ax.set_title('Sci Int {}'.format(i+1), size=20)\n",
    "    ax.set_yticks([])\n",
    "    ax.set_xticks([])\n",
    "    rms.append(r)\n",
    "    ax.text(70, 85, '{:.2f}'.format(r), size=15)\n",
    "axes[0].set_ylabel('Mean RMS\\n={:.2f}'.format(np.mean(rms)), size=20, rotation='horizontal', labelpad=75)\n",
    "\n",
    "fig.subplots_adjust(right=0.8)\n",
    "cbar_ax = fig.add_axes([0.82, 0.15, 0.02, 0.7])\n",
    "cbar = fig.colorbar(im, cax=cbar_ax)\n",
    "cbar.ax.tick_params(labelsize=20) \n",
    "cbar.ax.set_ylabel('Residual PSF [MJy/sr]', size=20)"
   ]
  },
  {
   "cell_type": "code",
   "execution_count": null,
   "metadata": {},
   "outputs": [],
   "source": [
    "# Make sure the final, combined PSF-subtracted image looks good as well (should just look like \n",
    "# a cleaner combination of the above, with residual RMS <0.15)\n",
    "\n",
    "plt.figure(figsize=(6, 6))\n",
    "data = fits.getdata('coro_test_i2d.fits', 'SCI')\n",
    "data = data[300:450, 300:450]\n",
    "plt.imshow(data, cmap='coolwarm', vmin=-1, vmax=1, origin='lower')\n",
    "plt.colorbar(label='Residual PSF [MJy/sr]')\n",
    "rms = np.sqrt(np.mean(data**2))\n",
    "plt.title('Residual RMS={:.3f}'.format(rms))"
   ]
  },
  {
   "cell_type": "markdown",
   "metadata": {},
   "source": [
    "[Top of Page](#title_ID)"
   ]
  },
  {
   "cell_type": "markdown",
   "metadata": {},
   "source": [
    "<a id=\"about\"></a>\n",
    "## About this Notebook\n",
    "**Author:** Ben Sunnquist, Staff Scientist, NIRCam\n",
    "<br>**Updated On:** 02/10/2021"
   ]
  },
  {
   "cell_type": "markdown",
   "metadata": {},
   "source": [
    "[Top of Page](#title_ID)\n",
    "<img style=\"float: right;\" src=\"./stsci_pri_combo_mark_horizonal_white_bkgd.png\" alt=\"stsci_pri_combo_mark_horizonal_white_bkgd\" width=\"200px\"/> "
   ]
  }
 ],
 "metadata": {
  "kernelspec": {
   "display_name": "Python 3",
   "language": "python",
   "name": "python3"
  },
  "language_info": {
   "codemirror_mode": {
    "name": "ipython",
    "version": 3
   },
   "file_extension": ".py",
   "mimetype": "text/x-python",
   "name": "python",
   "nbconvert_exporter": "python",
   "pygments_lexer": "ipython3",
   "version": "3.9.13"
  }
 },
 "nbformat": 4,
 "nbformat_minor": 1
}
