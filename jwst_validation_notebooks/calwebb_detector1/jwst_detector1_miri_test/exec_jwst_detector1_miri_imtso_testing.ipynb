{
 "cells": [
  {
   "cell_type": "markdown",
   "metadata": {},
   "source": [
    "<a id=\"title_ID\"></a>\n",
    "# JWST Pipeline Validation Testing Notebook: Calwebb_Detector1 for MIRI TSO imaging\n",
    "\n",
    "<span style=\"color:red\"> **Instruments Affected**</span>: MIRI\n",
    "\n",
    "Tested on MIRI Simulated data\n",
    "\n",
    "### Table of Contents\n",
    "<div style=\"text-align: left\"> \n",
    "\n",
    "<br>  [Introduction](#intro_ID) <br> [Imports](#imports_ID) <br>[Run JWST Pipeline](#pipeline_ID) <br> [Examine Input and Output Data](#examine_data)  <br> [About This Notebook](#about_ID) <br>\n",
    "\n",
    "\n",
    "</div>"
   ]
  },
  {
   "cell_type": "markdown",
   "metadata": {},
   "source": [
    "<a id=\"intro_ID\"></a>\n",
    "# Introduction\n",
    "\n",
    "This notebook is meant to process a data set through the Detector1 pipeline for TSO imaging data (calwebb_tso1). The steps are as follow:\n",
    "\n",
    "1) Read in an uncalibrated TSO imaging file.\n",
    "\n",
    "2) Process through calwebb_detctor1 using parameters set in calwebb_tso1.cfg.\n",
    "\n",
    "3) Test various steps and outputs from the pipeline run.\n",
    "\n",
    "These steps are set up with an example simulated MIRI dataset.\n",
    "\n",
    "The pipeline documentation can be found here: https://jwst-pipeline.readthedocs.io/en/latest/\n",
    "\n",
    "The pipeline code is available on GitHub: https://github.com/spacetelescope/jwst\n",
    "\n",
    "### Defining Terms\n",
    "\n",
    "Here is where you will define terms or acronymns that may not be known a general audience (ie a new employee to the institute or an external user). For example\n",
    "\n",
    "    JWST: James Webb Space Telescope\n",
    "    MIRI: Mid-Infrared Instrument\n",
    "    LRS: Low Resolution Spectrometer\n",
    "    TSO: Time Series Observation\n",
    "\n"
   ]
  },
  {
   "cell_type": "markdown",
   "metadata": {},
   "source": [
    "<a id=\"imports_ID\"></a>\n",
    "## Imports\n",
    "\n",
    "* jwst.datamodels for building model for JWST Pipeline\n",
    "* jwst.pipeline is the pipeline being tested\n",
    "* matplotlib.pyplot.plt to generate plot\n",
    "* numpy for array calculations and manipulation\n",
    "* pysiaf to get coordinates of MIRI apertures \n",
    "* astropy.io and download_file allow downloading and accessing files\n",
    "* ci_watson and get_bigdata allow accessing files stored in artifactory"
   ]
  },
  {
   "cell_type": "code",
   "execution_count": 1,
   "metadata": {
    "execution": {
     "iopub.execute_input": "2022-07-06T13:36:57.626679Z",
     "iopub.status.busy": "2022-07-06T13:36:57.625222Z",
     "iopub.status.idle": "2022-07-06T13:36:57.639215Z",
     "shell.execute_reply": "2022-07-06T13:36:57.638221Z"
    }
   },
   "outputs": [
    {
     "name": "stdout",
     "output_type": "stream",
     "text": [
      "CRDS cache location: /grp/crds/cache\n"
     ]
    }
   ],
   "source": [
    "import os\n",
    "if 'CRDS_CACHE_TYPE' in os.environ:\n",
    "    if os.environ['CRDS_CACHE_TYPE'] == 'local':\n",
    "        os.environ['CRDS_PATH'] = os.path.join(os.environ['HOME'], 'crds', 'cache')\n",
    "    elif os.path.isdir(os.environ['CRDS_CACHE_TYPE']):\n",
    "        os.environ['CRDS_PATH'] = os.environ['CRDS_CACHE_TYPE']\n",
    "print('CRDS cache location: {}'.format(os.environ['CRDS_PATH']))"
   ]
  },
  {
   "cell_type": "code",
   "execution_count": 2,
   "metadata": {
    "execution": {
     "iopub.execute_input": "2022-07-06T13:36:57.642671Z",
     "iopub.status.busy": "2022-07-06T13:36:57.642304Z",
     "iopub.status.idle": "2022-07-06T13:36:59.968236Z",
     "shell.execute_reply": "2022-07-06T13:36:59.966409Z"
    }
   },
   "outputs": [
    {
     "name": "stdout",
     "output_type": "stream",
     "text": [
      "**WARNING**: LOCAL JWST PRD VERSION PRDOPSSOC-051 DOESN'T MATCH THE CURRENT ONLINE VERSION PRDOPSSOC-055\n",
      "Please consider updating pysiaf, e.g. pip install --upgrade pysiaf or conda update pysiaf\n"
     ]
    }
   ],
   "source": [
    "from astropy.io import fits, ascii\n",
    "from astropy.utils.data import download_file\n",
    "from ci_watson.artifactory_helpers import get_bigdata\n",
    "from jwst.datamodels import RampModel, ImageModel, dqflags, CubeModel\n",
    "from jwst.pipeline import Detector1Pipeline\n",
    "import matplotlib.pyplot as plt\n",
    "import numpy as np\n",
    "import os\n",
    "import pysiaf"
   ]
  },
  {
   "cell_type": "markdown",
   "metadata": {},
   "source": [
    "### Read in file and update headers to have needed keywords for TSO mode\n"
   ]
  },
  {
   "cell_type": "code",
   "execution_count": 3,
   "metadata": {
    "execution": {
     "iopub.execute_input": "2022-07-06T13:36:59.973932Z",
     "iopub.status.busy": "2022-07-06T13:36:59.973260Z",
     "iopub.status.idle": "2022-07-06T13:36:59.980680Z",
     "shell.execute_reply": "2022-07-06T13:36:59.978768Z"
    }
   },
   "outputs": [],
   "source": [
    "# Create a temporary directory to hold notebook output, and change the working directory to that directory.\n",
    "from tempfile import TemporaryDirectory\n",
    "import os\n",
    "data_dir = TemporaryDirectory()\n",
    "os.chdir(data_dir.name)"
   ]
  },
  {
   "cell_type": "code",
   "execution_count": 4,
   "metadata": {
    "execution": {
     "iopub.execute_input": "2022-07-06T13:36:59.986666Z",
     "iopub.status.busy": "2022-07-06T13:36:59.986211Z",
     "iopub.status.idle": "2022-07-06T13:36:59.994142Z",
     "shell.execute_reply": "2022-07-06T13:36:59.992669Z"
    }
   },
   "outputs": [],
   "source": [
    "def checkheaders(model):\n",
    "    \n",
    "    # check that header has keyword TSOVISIT set to true (all TSO data should have this set)\n",
    "    \n",
    "    if model.meta.visit.tsovisit != True:\n",
    "        model.meta.visit.tsovisit = True\n",
    "        print('Setting TSOVISIT keyword')\n",
    "        \n",
    "    # check that CRPIX1 and CRPIX2 are set to the center of the siaf aperture for the array being used.\n",
    "    # Read in array being used\n",
    "    array = model.meta.subarray.name\n",
    "    print(array)\n",
    "    if array == 'FULL':\n",
    "        siaf = pysiaf.Siaf('MIRI') \n",
    "        full = siaf['MIRIM_FULL']\n",
    "        model.meta.wcsinfo.crpix1 = full.XSciRef\n",
    "        model.meta.wcsinfo.crpix2 = full.YSciRef\n",
    "    if array == 'SUB64':\n",
    "        # subarray siaf values are not quite right in MIRISim. Need to centroid to find x and y\n",
    "        # start with siaf values\n",
    "        siaf = pysiaf.Siaf('MIRI')\n",
    "        sub = siaf['MIRIM_SUB64']\n",
    "        x_initial = sub.XSciRef - 8 # known 8 pixel shift in subarray source position fixed in latest MIRISim\n",
    "        y_initial = sub.YSciRef\n",
    "        \n",
    "        print(x_initial, y_initial)\n",
    "        \n",
    "        # Take initial estimate and centroid to find source\n",
    "        center = centroids.centroid_sources(model.data[0,0,:,:], x_initial, y_initial, box_size=11)\n",
    "        xcentroid = center[0][0]\n",
    "        ycentroid = center[1][0]\n",
    "        \n",
    "        print(center[0][0], center[1][0])   \n",
    "        model.meta.wcsinfo.crpix1 = xcentroid\n",
    "        model.meta.wcsinfo.crpix2 = ycentroid"
   ]
  },
  {
   "cell_type": "markdown",
   "metadata": {},
   "source": [
    "<a id=\"pipeline_ID\"></a>\n",
    "## Run JWST Pipeline"
   ]
  },
  {
   "cell_type": "markdown",
   "metadata": {},
   "source": [
    "### Set up parameters for individual steps and run calwebb_detector1"
   ]
  },
  {
   "cell_type": "code",
   "execution_count": 5,
   "metadata": {
    "execution": {
     "iopub.execute_input": "2022-07-06T13:36:59.998855Z",
     "iopub.status.busy": "2022-07-06T13:36:59.998560Z",
     "iopub.status.idle": "2022-07-06T13:38:16.177379Z",
     "shell.execute_reply": "2022-07-06T13:38:16.176550Z"
    }
   },
   "outputs": [
    {
     "name": "stdout",
     "output_type": "stream",
     "text": [
      "Filename: /internal/data1/jenkins/workspace/Notebooks/jwst_validation_notebooks_spacetelescope/tmp/astropy-download-544733-_qgq7pof\n",
      "No.    Name      Ver    Type      Cards   Dimensions   Format\n",
      "  0  PRIMARY       1 PrimaryHDU     108   ()      \n",
      "  1  SCI           1 ImageHDU        47   (1032, 1024, 10, 10)   float32   \n",
      "  2  PIXELDQ       1 ImageHDU        11   (1032, 1024)   int32 (rescales to uint32)   \n",
      "  3  GROUPDQ       1 ImageHDU        11   (1032, 1024, 10, 10)   uint8   \n",
      "  4  ERR           1 ImageHDU        11   (1032, 1024, 10, 10)   float32   \n",
      "  5  REFOUT        1 ImageHDU        11   (258, 1024, 10, 10)   float32   \n",
      "  6  ASDF          1 BinTableHDU     11   1R x 1C   [5247B]   \n"
     ]
    }
   ],
   "source": [
    "# set up pipeline parameters and file names\n",
    "# Input file names\n",
    "\n",
    "# This section to download data from remote box directory and run local\n",
    "mainurl =\"https://data.science.stsci.edu/redirect/JWST/TSO/pipeline_testing_miri_ima_tso/\"\n",
    "filename = 'pipetest_miri_imtso_FULL_10g10i_F770W.fits'\n",
    "file = download_file(mainurl+filename, timeout=600)\n",
    "\n",
    "# open file into correct format and write to local disk for processing\n",
    "with fits.open(file) as hdu:\n",
    "    hdu.info()\n",
    "    hdu.writeto(filename)\n",
    "\n",
    "satfile = get_bigdata('jwst_validation_notebooks',\n",
    "                     'validation_data',\n",
    "                     'jump',\n",
    "                     'jump_miri_test', \n",
    "                     'miri_sat_55k.fits')\n",
    "\n",
    "readnoisefile = get_bigdata('jwst_validation_notebooks',\n",
    "                     'validation_data',\n",
    "                     'jump',\n",
    "                     'jump_miri_test', \n",
    "                     'jwst_mirisim_readnoise.fits')\n",
    "\n",
    "tag='_b75_tso'  # string tag to distinguish different tests in output file name\n",
    "\n",
    "# Read in data file to model    \n",
    "with RampModel(filename) as modelinput:\n",
    "    # raises exception if file is not the correct model\n",
    "    model = modelinput"
   ]
  },
  {
   "cell_type": "markdown",
   "metadata": {},
   "source": [
    "In the next step we pick 7 pixel locations, and manually add in jumps that represent cosmic ray hits. The magnitude of the hit is different for each. The hit is added in frame 5 (zero-indexed), first integration. This will be used for testing the jump detection step."
   ]
  },
  {
   "cell_type": "code",
   "execution_count": 6,
   "metadata": {
    "execution": {
     "iopub.execute_input": "2022-07-06T13:38:16.183347Z",
     "iopub.status.busy": "2022-07-06T13:38:16.183145Z",
     "iopub.status.idle": "2022-07-06T13:38:16.188803Z",
     "shell.execute_reply": "2022-07-06T13:38:16.187627Z"
    }
   },
   "outputs": [],
   "source": [
    "# Set up cosmic ray jump testing by adding in cosmic rays\n",
    "# set variables\n",
    "\n",
    "# Choose selected pixels to put cr hits of varying fluxes in\n",
    "xpos = [460, 480, 500, 520, 540, 560, 580]\n",
    "ypos = [150, 150, 150, 150, 150, 150, 150]\n",
    "crmags = [10, 25, 50, 100, 200, 500, 1000]\n",
    "\n",
    "frame = 5  # frame to add cr\n",
    "integration = 0  # integration to add crs\n",
    "    \n",
    "# loop through arrays of x, y and crmags to populate array with values\n",
    "for x, y, crmag in zip(xpos, ypos, crmags):\n",
    "    # add cr to ramps from point of 'frame' in ramp\n",
    "    model.data[integration, frame:, y, x] = model.data[integration, frame:, y, x] + crmag    "
   ]
  },
  {
   "cell_type": "markdown",
   "metadata": {},
   "source": [
    "Now we run the Detector1 pipeline. The jump detection threshold is set manually; this is important again for jump step testing. A number of reference files are overridden with versions that are compatible with MIRISim simulated data.\n",
    "\n",
    "As we are not running with the tso1 config file, we have to ensure a few steps are skipped manually:\n",
    "* ipc\n",
    "* first frame correction\n",
    "* last frame correction\n",
    "* refpix"
   ]
  },
  {
   "cell_type": "code",
   "execution_count": 7,
   "metadata": {
    "execution": {
     "iopub.execute_input": "2022-07-06T13:38:16.194461Z",
     "iopub.status.busy": "2022-07-06T13:38:16.193467Z",
     "iopub.status.idle": "2022-07-06T13:40:40.201866Z",
     "shell.execute_reply": "2022-07-06T13:40:40.201176Z"
    }
   },
   "outputs": [
    {
     "name": "stderr",
     "output_type": "stream",
     "text": [
      "2022-07-06 09:38:16,213 - stpipe.Detector1Pipeline - INFO - Detector1Pipeline instance created.\n"
     ]
    },
    {
     "name": "stderr",
     "output_type": "stream",
     "text": [
      "2022-07-06 09:38:16,215 - stpipe.Detector1Pipeline.group_scale - INFO - GroupScaleStep instance created.\n"
     ]
    },
    {
     "name": "stderr",
     "output_type": "stream",
     "text": [
      "2022-07-06 09:38:16,216 - stpipe.Detector1Pipeline.dq_init - INFO - DQInitStep instance created.\n"
     ]
    },
    {
     "name": "stderr",
     "output_type": "stream",
     "text": [
      "2022-07-06 09:38:16,218 - stpipe.Detector1Pipeline.saturation - INFO - SaturationStep instance created.\n"
     ]
    },
    {
     "name": "stderr",
     "output_type": "stream",
     "text": [
      "2022-07-06 09:38:16,219 - stpipe.Detector1Pipeline.ipc - INFO - IPCStep instance created.\n"
     ]
    },
    {
     "name": "stderr",
     "output_type": "stream",
     "text": [
      "2022-07-06 09:38:16,220 - stpipe.Detector1Pipeline.superbias - INFO - SuperBiasStep instance created.\n"
     ]
    },
    {
     "name": "stderr",
     "output_type": "stream",
     "text": [
      "2022-07-06 09:38:16,222 - stpipe.Detector1Pipeline.refpix - INFO - RefPixStep instance created.\n"
     ]
    },
    {
     "name": "stderr",
     "output_type": "stream",
     "text": [
      "2022-07-06 09:38:16,223 - stpipe.Detector1Pipeline.rscd - INFO - RscdStep instance created.\n"
     ]
    },
    {
     "name": "stderr",
     "output_type": "stream",
     "text": [
      "2022-07-06 09:38:16,224 - stpipe.Detector1Pipeline.firstframe - INFO - FirstFrameStep instance created.\n"
     ]
    },
    {
     "name": "stderr",
     "output_type": "stream",
     "text": [
      "2022-07-06 09:38:16,226 - stpipe.Detector1Pipeline.lastframe - INFO - LastFrameStep instance created.\n"
     ]
    },
    {
     "name": "stderr",
     "output_type": "stream",
     "text": [
      "2022-07-06 09:38:16,227 - stpipe.Detector1Pipeline.linearity - INFO - LinearityStep instance created.\n"
     ]
    },
    {
     "name": "stderr",
     "output_type": "stream",
     "text": [
      "2022-07-06 09:38:16,229 - stpipe.Detector1Pipeline.dark_current - INFO - DarkCurrentStep instance created.\n"
     ]
    },
    {
     "name": "stderr",
     "output_type": "stream",
     "text": [
      "2022-07-06 09:38:16,230 - stpipe.Detector1Pipeline.reset - INFO - ResetStep instance created.\n"
     ]
    },
    {
     "name": "stderr",
     "output_type": "stream",
     "text": [
      "2022-07-06 09:38:16,231 - stpipe.Detector1Pipeline.persistence - INFO - PersistenceStep instance created.\n"
     ]
    },
    {
     "name": "stderr",
     "output_type": "stream",
     "text": [
      "2022-07-06 09:38:16,232 - stpipe.Detector1Pipeline.jump - INFO - JumpStep instance created.\n"
     ]
    },
    {
     "name": "stderr",
     "output_type": "stream",
     "text": [
      "2022-07-06 09:38:16,234 - stpipe.Detector1Pipeline.ramp_fit - INFO - RampFitStep instance created.\n"
     ]
    },
    {
     "name": "stderr",
     "output_type": "stream",
     "text": [
      "2022-07-06 09:38:16,235 - stpipe.Detector1Pipeline.gain_scale - INFO - GainScaleStep instance created.\n"
     ]
    },
    {
     "name": "stdout",
     "output_type": "stream",
     "text": [
      "FULL\n",
      "CRPIX1 =  693.5\n",
      "CRPIX2 =  512.5\n",
      "pipetest_miri_imtso_FULL_10g10i_F770W_b75_tso\n"
     ]
    },
    {
     "name": "stderr",
     "output_type": "stream",
     "text": [
      "2022-07-06 09:38:16,491 - stpipe.Detector1Pipeline - INFO - Step Detector1Pipeline running with args (<RampModel(10, 10, 1024, 1032) from pipetest_miri_imtso_FULL_10g10i_F770W.fits>,).\n"
     ]
    },
    {
     "name": "stderr",
     "output_type": "stream",
     "text": [
      "2022-07-06 09:38:16,501 - stpipe.Detector1Pipeline - INFO - Step Detector1Pipeline parameters are: {'pre_hooks': [], 'post_hooks': [], 'output_file': '/internal/data1/jenkins/workspace/Notebooks/jwst_validation_notebooks_spacetelescope/tmp/tmp8dfgl36a/pipetest_miri_imtso_FULL_10g10i_F770W_b75_tso.fits', 'output_dir': None, 'output_ext': '.fits', 'output_use_model': False, 'output_use_index': True, 'save_results': False, 'skip': False, 'suffix': None, 'search_output_file': True, 'input_dir': '', 'save_calibrated_ramp': False, 'steps': {'group_scale': {'pre_hooks': [], 'post_hooks': [], 'output_file': None, 'output_dir': None, 'output_ext': '.fits', 'output_use_model': False, 'output_use_index': True, 'save_results': False, 'skip': False, 'suffix': None, 'search_output_file': True, 'input_dir': ''}, 'dq_init': {'pre_hooks': [], 'post_hooks': [], 'output_file': None, 'output_dir': None, 'output_ext': '.fits', 'output_use_model': False, 'output_use_index': True, 'save_results': False, 'skip': False, 'suffix': None, 'search_output_file': True, 'input_dir': ''}, 'saturation': {'pre_hooks': [], 'post_hooks': [], 'output_file': '/internal/data1/jenkins/workspace/Notebooks/jwst_validation_notebooks_spacetelescope/tmp/tmp8dfgl36a/pipetest_miri_imtso_FULL_10g10i_F770W_b75_tso.fits', 'output_dir': None, 'output_ext': '.fits', 'output_use_model': False, 'output_use_index': True, 'save_results': False, 'skip': False, 'suffix': None, 'search_output_file': True, 'input_dir': '', 'n_pix_grow_sat': 1}, 'ipc': {'pre_hooks': [], 'post_hooks': [], 'output_file': None, 'output_dir': None, 'output_ext': '.fits', 'output_use_model': False, 'output_use_index': True, 'save_results': False, 'skip': True, 'suffix': None, 'search_output_file': True, 'input_dir': ''}, 'superbias': {'pre_hooks': [], 'post_hooks': [], 'output_file': None, 'output_dir': None, 'output_ext': '.fits', 'output_use_model': False, 'output_use_index': True, 'save_results': False, 'skip': False, 'suffix': None, 'search_output_file': True, 'input_dir': ''}, 'refpix': {'pre_hooks': [], 'post_hooks': [], 'output_file': None, 'output_dir': None, 'output_ext': '.fits', 'output_use_model': False, 'output_use_index': True, 'save_results': False, 'skip': True, 'suffix': None, 'search_output_file': True, 'input_dir': '', 'odd_even_columns': True, 'use_side_ref_pixels': True, 'side_smoothing_length': 11, 'side_gain': 1.0, 'odd_even_rows': True}, 'rscd': {'pre_hooks': [], 'post_hooks': [], 'output_file': None, 'output_dir': None, 'output_ext': '.fits', 'output_use_model': False, 'output_use_index': True, 'save_results': False, 'skip': False, 'suffix': None, 'search_output_file': True, 'input_dir': '', 'type': 'baseline'}, 'firstframe': {'pre_hooks': [], 'post_hooks': [], 'output_file': None, 'output_dir': None, 'output_ext': '.fits', 'output_use_model': False, 'output_use_index': True, 'save_results': False, 'skip': True, 'suffix': None, 'search_output_file': True, 'input_dir': ''}, 'lastframe': {'pre_hooks': [], 'post_hooks': [], 'output_file': None, 'output_dir': None, 'output_ext': '.fits', 'output_use_model': False, 'output_use_index': True, 'save_results': False, 'skip': True, 'suffix': None, 'search_output_file': True, 'input_dir': ''}, 'linearity': {'pre_hooks': [], 'post_hooks': [], 'output_file': None, 'output_dir': None, 'output_ext': '.fits', 'output_use_model': False, 'output_use_index': True, 'save_results': False, 'skip': False, 'suffix': None, 'search_output_file': True, 'input_dir': ''}, 'dark_current': {'pre_hooks': [], 'post_hooks': [], 'output_file': None, 'output_dir': None, 'output_ext': '.fits', 'output_use_model': False, 'output_use_index': True, 'save_results': False, 'skip': False, 'suffix': None, 'search_output_file': True, 'input_dir': '', 'dark_output': None}, 'reset': {'pre_hooks': [], 'post_hooks': [], 'output_file': None, 'output_dir': None, 'output_ext': '.fits', 'output_use_model': False, 'output_use_index': True, 'save_results': False, 'skip': False, 'suffix': None, 'search_output_file': True, 'input_dir': ''}, 'persistence': {'pre_hooks': [], 'post_hooks': [], 'output_file': None, 'output_dir': None, 'output_ext': '.fits', 'output_use_model': False, 'output_use_index': True, 'save_results': False, 'skip': False, 'suffix': None, 'search_output_file': True, 'input_dir': '', 'input_trapsfilled': '', 'flag_pers_cutoff': 40.0, 'save_persistence': False, 'save_trapsfilled': True}, 'jump': {'pre_hooks': [], 'post_hooks': [], 'output_file': '/internal/data1/jenkins/workspace/Notebooks/jwst_validation_notebooks_spacetelescope/tmp/tmp8dfgl36a/pipetest_miri_imtso_FULL_10g10i_F770W_b75_tso.fits', 'output_dir': None, 'output_ext': '.fits', 'output_use_model': False, 'output_use_index': True, 'save_results': False, 'skip': False, 'suffix': None, 'search_output_file': True, 'input_dir': '', 'rejection_threshold': 8.0, 'three_group_rejection_threshold': 6.0, 'four_group_rejection_threshold': 5.0, 'maximum_cores': 'none', 'flag_4_neighbors': True, 'max_jump_to_flag_neighbors': 1000.0, 'min_jump_to_flag_neighbors': 10.0}, 'ramp_fit': {'pre_hooks': [], 'post_hooks': [], 'output_file': '/internal/data1/jenkins/workspace/Notebooks/jwst_validation_notebooks_spacetelescope/tmp/tmp8dfgl36a/pipetest_miri_imtso_FULL_10g10i_F770W_b75_tso.fits', 'output_dir': None, 'output_ext': '.fits', 'output_use_model': False, 'output_use_index': True, 'save_results': False, 'skip': False, 'suffix': None, 'search_output_file': True, 'input_dir': '', 'int_name': '', 'save_opt': False, 'opt_name': '', 'suppress_one_group': True, 'maximum_cores': 'none'}, 'gain_scale': {'pre_hooks': [], 'post_hooks': [], 'output_file': None, 'output_dir': None, 'output_ext': '.fits', 'output_use_model': False, 'output_use_index': True, 'save_results': False, 'skip': False, 'suffix': None, 'search_output_file': True, 'input_dir': ''}}}\n"
     ]
    },
    {
     "name": "stderr",
     "output_type": "stream",
     "text": [
      "2022-07-06 09:38:16,513 - stpipe.Detector1Pipeline - INFO - Prefetching reference files for dataset: 'pipetest_miri_imtso_FULL_10g10i_F770W.fits' reftypes = ['dark', 'gain', 'linearity', 'mask', 'persat', 'reset', 'rscd', 'superbias', 'trapdensity', 'trappars']\n"
     ]
    },
    {
     "name": "stderr",
     "output_type": "stream",
     "text": [
      "2022-07-06 09:38:16,809 - stpipe.Detector1Pipeline - INFO - Prefetch for DARK reference file is '/grp/crds/cache/references/jwst/jwst_miri_dark_0058.fits'.\n"
     ]
    },
    {
     "name": "stderr",
     "output_type": "stream",
     "text": [
      "2022-07-06 09:38:16,812 - stpipe.Detector1Pipeline - INFO - Prefetch for GAIN reference file is '/grp/crds/cache/references/jwst/jwst_miri_gain_0008.fits'.\n"
     ]
    },
    {
     "name": "stderr",
     "output_type": "stream",
     "text": [
      "2022-07-06 09:38:16,814 - stpipe.Detector1Pipeline - INFO - Prefetch for LINEARITY reference file is '/grp/crds/cache/references/jwst/jwst_miri_linearity_0024.fits'.\n"
     ]
    },
    {
     "name": "stderr",
     "output_type": "stream",
     "text": [
      "2022-07-06 09:38:16,816 - stpipe.Detector1Pipeline - INFO - Prefetch for MASK reference file is '/grp/crds/cache/references/jwst/jwst_miri_mask_0028.fits'.\n"
     ]
    },
    {
     "name": "stderr",
     "output_type": "stream",
     "text": [
      "2022-07-06 09:38:16,818 - stpipe.Detector1Pipeline - INFO - Prefetch for PERSAT reference file is 'N/A'.\n"
     ]
    },
    {
     "name": "stderr",
     "output_type": "stream",
     "text": [
      "2022-07-06 09:38:16,819 - stpipe.Detector1Pipeline - INFO - Override for READNOISE reference file is '/internal/data1/jenkins/workspace/Notebooks/jwst_validation_notebooks_spacetelescope/tmp/tmp8dfgl36a/jwst_mirisim_readnoise.fits'.\n"
     ]
    },
    {
     "name": "stderr",
     "output_type": "stream",
     "text": [
      "2022-07-06 09:38:16,820 - stpipe.Detector1Pipeline - INFO - Prefetch for RESET reference file is '/grp/crds/cache/references/jwst/jwst_miri_reset_0047.fits'.\n"
     ]
    },
    {
     "name": "stderr",
     "output_type": "stream",
     "text": [
      "2022-07-06 09:38:16,822 - stpipe.Detector1Pipeline - INFO - Prefetch for RSCD reference file is '/grp/crds/cache/references/jwst/jwst_miri_rscd_0014.fits'.\n"
     ]
    },
    {
     "name": "stderr",
     "output_type": "stream",
     "text": [
      "2022-07-06 09:38:16,824 - stpipe.Detector1Pipeline - INFO - Override for SATURATION reference file is '/internal/data1/jenkins/workspace/Notebooks/jwst_validation_notebooks_spacetelescope/tmp/tmp8dfgl36a/miri_sat_55k.fits'.\n"
     ]
    },
    {
     "name": "stderr",
     "output_type": "stream",
     "text": [
      "2022-07-06 09:38:16,825 - stpipe.Detector1Pipeline - INFO - Prefetch for SUPERBIAS reference file is 'N/A'.\n"
     ]
    },
    {
     "name": "stderr",
     "output_type": "stream",
     "text": [
      "2022-07-06 09:38:16,825 - stpipe.Detector1Pipeline - INFO - Prefetch for TRAPDENSITY reference file is 'N/A'.\n"
     ]
    },
    {
     "name": "stderr",
     "output_type": "stream",
     "text": [
      "2022-07-06 09:38:16,826 - stpipe.Detector1Pipeline - INFO - Prefetch for TRAPPARS reference file is 'N/A'.\n"
     ]
    },
    {
     "name": "stderr",
     "output_type": "stream",
     "text": [
      "2022-07-06 09:38:16,827 - stpipe.Detector1Pipeline - INFO - Starting calwebb_detector1 ...\n"
     ]
    },
    {
     "name": "stderr",
     "output_type": "stream",
     "text": [
      "2022-07-06 09:38:16,966 - stpipe.Detector1Pipeline.group_scale - INFO - Step group_scale running with args (<RampModel(10, 10, 1024, 1032) from pipetest_miri_imtso_FULL_10g10i_F770W.fits>,).\n"
     ]
    },
    {
     "name": "stderr",
     "output_type": "stream",
     "text": [
      "2022-07-06 09:38:16,968 - stpipe.Detector1Pipeline.group_scale - INFO - Step group_scale parameters are: {'pre_hooks': [], 'post_hooks': [], 'output_file': None, 'output_dir': None, 'output_ext': '.fits', 'output_use_model': False, 'output_use_index': True, 'save_results': False, 'skip': False, 'suffix': None, 'search_output_file': True, 'input_dir': ''}\n"
     ]
    },
    {
     "name": "stderr",
     "output_type": "stream",
     "text": [
      "2022-07-06 09:38:17,445 - stpipe.Detector1Pipeline.group_scale - INFO - NFRAMES=1 is a power of 2; correction not needed\n"
     ]
    },
    {
     "name": "stderr",
     "output_type": "stream",
     "text": [
      "2022-07-06 09:38:17,446 - stpipe.Detector1Pipeline.group_scale - INFO - Step will be skipped\n"
     ]
    },
    {
     "name": "stderr",
     "output_type": "stream",
     "text": [
      "2022-07-06 09:38:17,449 - stpipe.Detector1Pipeline.group_scale - INFO - Step group_scale done\n"
     ]
    },
    {
     "name": "stderr",
     "output_type": "stream",
     "text": [
      "2022-07-06 09:38:17,574 - stpipe.Detector1Pipeline.dq_init - INFO - Step dq_init running with args (<RampModel(10, 10, 1024, 1032) from pipetest_miri_imtso_FULL_10g10i_F770W.fits>,).\n"
     ]
    },
    {
     "name": "stderr",
     "output_type": "stream",
     "text": [
      "2022-07-06 09:38:17,576 - stpipe.Detector1Pipeline.dq_init - INFO - Step dq_init parameters are: {'pre_hooks': [], 'post_hooks': [], 'output_file': None, 'output_dir': None, 'output_ext': '.fits', 'output_use_model': False, 'output_use_index': True, 'save_results': False, 'skip': False, 'suffix': None, 'search_output_file': True, 'input_dir': ''}\n"
     ]
    },
    {
     "name": "stderr",
     "output_type": "stream",
     "text": [
      "2022-07-06 09:38:17,598 - stpipe.Detector1Pipeline.dq_init - INFO - Using MASK reference file /grp/crds/cache/references/jwst/jwst_miri_mask_0028.fits\n"
     ]
    },
    {
     "name": "stderr",
     "output_type": "stream",
     "text": [
      "2022-07-06 09:38:18,204 - stpipe.Detector1Pipeline.dq_init - INFO - Step dq_init done\n"
     ]
    },
    {
     "name": "stderr",
     "output_type": "stream",
     "text": [
      "2022-07-06 09:38:18,331 - stpipe.Detector1Pipeline.saturation - INFO - Step saturation running with args (<RampModel(10, 10, 1024, 1032) from pipetest_miri_imtso_FULL_10g10i_F770W.fits>,).\n"
     ]
    },
    {
     "name": "stderr",
     "output_type": "stream",
     "text": [
      "2022-07-06 09:38:18,332 - stpipe.Detector1Pipeline.saturation - INFO - Step saturation parameters are: {'pre_hooks': [], 'post_hooks': [], 'output_file': '/internal/data1/jenkins/workspace/Notebooks/jwst_validation_notebooks_spacetelescope/tmp/tmp8dfgl36a/pipetest_miri_imtso_FULL_10g10i_F770W_b75_tso.fits', 'output_dir': None, 'output_ext': '.fits', 'output_use_model': False, 'output_use_index': True, 'save_results': False, 'skip': False, 'suffix': None, 'search_output_file': True, 'input_dir': '', 'n_pix_grow_sat': 1}\n"
     ]
    },
    {
     "name": "stderr",
     "output_type": "stream",
     "text": [
      "2022-07-06 09:38:18,343 - stpipe.Detector1Pipeline.saturation - INFO - Using SATURATION reference file /internal/data1/jenkins/workspace/Notebooks/jwst_validation_notebooks_spacetelescope/tmp/tmp8dfgl36a/miri_sat_55k.fits\n"
     ]
    },
    {
     "name": "stderr",
     "output_type": "stream",
     "text": [
      "2022-07-06 09:38:22,698 - stpipe.Detector1Pipeline.saturation - INFO - Detected 300 saturated pixels\n"
     ]
    },
    {
     "name": "stderr",
     "output_type": "stream",
     "text": [
      "2022-07-06 09:38:22,767 - stpipe.Detector1Pipeline.saturation - INFO - Detected 0 A/D floor pixels\n"
     ]
    },
    {
     "name": "stderr",
     "output_type": "stream",
     "text": [
      "2022-07-06 09:38:23,264 - stpipe.Detector1Pipeline.saturation - INFO - Saved model in pipetest_miri_imtso_FULL_10g10i_F770W_b75_tso_saturation.fits\n"
     ]
    },
    {
     "name": "stderr",
     "output_type": "stream",
     "text": [
      "2022-07-06 09:38:23,265 - stpipe.Detector1Pipeline.saturation - INFO - Step saturation done\n"
     ]
    },
    {
     "name": "stderr",
     "output_type": "stream",
     "text": [
      "2022-07-06 09:38:23,409 - stpipe.Detector1Pipeline.ipc - INFO - Step ipc running with args (<RampModel(10, 10, 1024, 1032) from pipetest_miri_imtso_FULL_10g10i_F770W_b75_tso_saturation.fits>,).\n"
     ]
    },
    {
     "name": "stderr",
     "output_type": "stream",
     "text": [
      "2022-07-06 09:38:23,410 - stpipe.Detector1Pipeline.ipc - INFO - Step ipc parameters are: {'pre_hooks': [], 'post_hooks': [], 'output_file': None, 'output_dir': None, 'output_ext': '.fits', 'output_use_model': False, 'output_use_index': True, 'save_results': False, 'skip': True, 'suffix': None, 'search_output_file': True, 'input_dir': ''}\n"
     ]
    },
    {
     "name": "stderr",
     "output_type": "stream",
     "text": [
      "2022-07-06 09:38:23,411 - stpipe.Detector1Pipeline.ipc - INFO - Step skipped.\n"
     ]
    },
    {
     "name": "stderr",
     "output_type": "stream",
     "text": [
      "2022-07-06 09:38:23,414 - stpipe.Detector1Pipeline.ipc - INFO - Step ipc done\n"
     ]
    },
    {
     "name": "stderr",
     "output_type": "stream",
     "text": [
      "2022-07-06 09:38:23,531 - stpipe.Detector1Pipeline.firstframe - INFO - Step firstframe running with args (<RampModel(10, 10, 1024, 1032) from pipetest_miri_imtso_FULL_10g10i_F770W_b75_tso_saturation.fits>,).\n"
     ]
    },
    {
     "name": "stderr",
     "output_type": "stream",
     "text": [
      "2022-07-06 09:38:23,533 - stpipe.Detector1Pipeline.firstframe - INFO - Step firstframe parameters are: {'pre_hooks': [], 'post_hooks': [], 'output_file': None, 'output_dir': None, 'output_ext': '.fits', 'output_use_model': False, 'output_use_index': True, 'save_results': False, 'skip': True, 'suffix': None, 'search_output_file': True, 'input_dir': ''}\n"
     ]
    },
    {
     "name": "stderr",
     "output_type": "stream",
     "text": [
      "2022-07-06 09:38:23,534 - stpipe.Detector1Pipeline.firstframe - INFO - Step skipped.\n"
     ]
    },
    {
     "name": "stderr",
     "output_type": "stream",
     "text": [
      "2022-07-06 09:38:23,536 - stpipe.Detector1Pipeline.firstframe - INFO - Step firstframe done\n"
     ]
    },
    {
     "name": "stderr",
     "output_type": "stream",
     "text": [
      "2022-07-06 09:38:23,653 - stpipe.Detector1Pipeline.lastframe - INFO - Step lastframe running with args (<RampModel(10, 10, 1024, 1032) from pipetest_miri_imtso_FULL_10g10i_F770W_b75_tso_saturation.fits>,).\n"
     ]
    },
    {
     "name": "stderr",
     "output_type": "stream",
     "text": [
      "2022-07-06 09:38:23,655 - stpipe.Detector1Pipeline.lastframe - INFO - Step lastframe parameters are: {'pre_hooks': [], 'post_hooks': [], 'output_file': None, 'output_dir': None, 'output_ext': '.fits', 'output_use_model': False, 'output_use_index': True, 'save_results': False, 'skip': True, 'suffix': None, 'search_output_file': True, 'input_dir': ''}\n"
     ]
    },
    {
     "name": "stderr",
     "output_type": "stream",
     "text": [
      "2022-07-06 09:38:23,656 - stpipe.Detector1Pipeline.lastframe - INFO - Step skipped.\n"
     ]
    },
    {
     "name": "stderr",
     "output_type": "stream",
     "text": [
      "2022-07-06 09:38:23,658 - stpipe.Detector1Pipeline.lastframe - INFO - Step lastframe done\n"
     ]
    },
    {
     "name": "stderr",
     "output_type": "stream",
     "text": [
      "2022-07-06 09:38:23,775 - stpipe.Detector1Pipeline.reset - INFO - Step reset running with args (<RampModel(10, 10, 1024, 1032) from pipetest_miri_imtso_FULL_10g10i_F770W_b75_tso_saturation.fits>,).\n"
     ]
    },
    {
     "name": "stderr",
     "output_type": "stream",
     "text": [
      "2022-07-06 09:38:23,778 - stpipe.Detector1Pipeline.reset - INFO - Step reset parameters are: {'pre_hooks': [], 'post_hooks': [], 'output_file': None, 'output_dir': None, 'output_ext': '.fits', 'output_use_model': False, 'output_use_index': True, 'save_results': False, 'skip': False, 'suffix': None, 'search_output_file': True, 'input_dir': ''}\n"
     ]
    },
    {
     "name": "stderr",
     "output_type": "stream",
     "text": [
      "2022-07-06 09:38:23,803 - stpipe.Detector1Pipeline.reset - INFO - Using RESET reference file /grp/crds/cache/references/jwst/jwst_miri_reset_0047.fits\n"
     ]
    },
    {
     "name": "stderr",
     "output_type": "stream",
     "text": [
      "2022-07-06 09:38:25,265 - stpipe.Detector1Pipeline.reset - INFO - Step reset done\n"
     ]
    },
    {
     "name": "stderr",
     "output_type": "stream",
     "text": [
      "2022-07-06 09:38:25,390 - stpipe.Detector1Pipeline.linearity - INFO - Step linearity running with args (<RampModel(10, 10, 1024, 1032) from pipetest_miri_imtso_FULL_10g10i_F770W_b75_tso_saturation.fits>,).\n"
     ]
    },
    {
     "name": "stderr",
     "output_type": "stream",
     "text": [
      "2022-07-06 09:38:25,392 - stpipe.Detector1Pipeline.linearity - INFO - Step linearity parameters are: {'pre_hooks': [], 'post_hooks': [], 'output_file': None, 'output_dir': None, 'output_ext': '.fits', 'output_use_model': False, 'output_use_index': True, 'save_results': False, 'skip': False, 'suffix': None, 'search_output_file': True, 'input_dir': ''}\n"
     ]
    },
    {
     "name": "stderr",
     "output_type": "stream",
     "text": [
      "2022-07-06 09:38:25,417 - stpipe.Detector1Pipeline.linearity - INFO - Using Linearity reference file /grp/crds/cache/references/jwst/jwst_miri_linearity_0024.fits\n"
     ]
    },
    {
     "name": "stderr",
     "output_type": "stream",
     "text": [
      "2022-07-06 09:38:26,994 - stpipe.Detector1Pipeline.linearity - INFO - Step linearity done\n"
     ]
    },
    {
     "name": "stderr",
     "output_type": "stream",
     "text": [
      "2022-07-06 09:38:27,118 - stpipe.Detector1Pipeline.rscd - INFO - Step rscd running with args (<RampModel(10, 10, 1024, 1032) from pipetest_miri_imtso_FULL_10g10i_F770W_b75_tso_saturation.fits>,).\n"
     ]
    },
    {
     "name": "stderr",
     "output_type": "stream",
     "text": [
      "2022-07-06 09:38:27,119 - stpipe.Detector1Pipeline.rscd - INFO - Step rscd parameters are: {'pre_hooks': [], 'post_hooks': [], 'output_file': None, 'output_dir': None, 'output_ext': '.fits', 'output_use_model': False, 'output_use_index': True, 'save_results': False, 'skip': False, 'suffix': None, 'search_output_file': True, 'input_dir': '', 'type': 'baseline'}\n"
     ]
    },
    {
     "name": "stderr",
     "output_type": "stream",
     "text": [
      "2022-07-06 09:38:27,142 - stpipe.Detector1Pipeline.rscd - INFO - Using RSCD reference file /grp/crds/cache/references/jwst/jwst_miri_rscd_0014.fits\n"
     ]
    },
    {
     "name": "stderr",
     "output_type": "stream",
     "text": [
      "2022-07-06 09:38:27,665 - stpipe.Detector1Pipeline.rscd - INFO - Step rscd done\n"
     ]
    },
    {
     "name": "stderr",
     "output_type": "stream",
     "text": [
      "2022-07-06 09:38:27,794 - stpipe.Detector1Pipeline.dark_current - INFO - Step dark_current running with args (<RampModel(10, 10, 1024, 1032) from pipetest_miri_imtso_FULL_10g10i_F770W_b75_tso_saturation.fits>,).\n"
     ]
    },
    {
     "name": "stderr",
     "output_type": "stream",
     "text": [
      "2022-07-06 09:38:27,796 - stpipe.Detector1Pipeline.dark_current - INFO - Step dark_current parameters are: {'pre_hooks': [], 'post_hooks': [], 'output_file': None, 'output_dir': None, 'output_ext': '.fits', 'output_use_model': False, 'output_use_index': True, 'save_results': False, 'skip': False, 'suffix': None, 'search_output_file': True, 'input_dir': '', 'dark_output': None}\n"
     ]
    },
    {
     "name": "stderr",
     "output_type": "stream",
     "text": [
      "2022-07-06 09:38:27,820 - stpipe.Detector1Pipeline.dark_current - INFO - Using DARK reference file /grp/crds/cache/references/jwst/jwst_miri_dark_0058.fits\n"
     ]
    },
    {
     "name": "stderr",
     "output_type": "stream",
     "text": [
      "2022-07-06 09:38:41,739 - stpipe.Detector1Pipeline.dark_current - INFO - Science data nints=10, ngroups=10, nframes=1, groupgap=0\n"
     ]
    },
    {
     "name": "stderr",
     "output_type": "stream",
     "text": [
      "2022-07-06 09:38:41,741 - stpipe.Detector1Pipeline.dark_current - INFO - Dark data nints=2, ngroups=200, nframes=1, groupgap=0\n"
     ]
    },
    {
     "name": "stderr",
     "output_type": "stream",
     "text": [
      "2022-07-06 09:38:43,412 - stpipe.Detector1Pipeline.dark_current - INFO - Step dark_current done\n"
     ]
    },
    {
     "name": "stderr",
     "output_type": "stream",
     "text": [
      "2022-07-06 09:38:43,561 - stpipe.Detector1Pipeline.refpix - INFO - Step refpix running with args (<RampModel(10, 10, 1024, 1032) from pipetest_miri_imtso_FULL_10g10i_F770W_b75_tso_saturation.fits>,).\n"
     ]
    },
    {
     "name": "stderr",
     "output_type": "stream",
     "text": [
      "2022-07-06 09:38:43,562 - stpipe.Detector1Pipeline.refpix - INFO - Step refpix parameters are: {'pre_hooks': [], 'post_hooks': [], 'output_file': None, 'output_dir': None, 'output_ext': '.fits', 'output_use_model': False, 'output_use_index': True, 'save_results': False, 'skip': True, 'suffix': None, 'search_output_file': True, 'input_dir': '', 'odd_even_columns': True, 'use_side_ref_pixels': True, 'side_smoothing_length': 11, 'side_gain': 1.0, 'odd_even_rows': True}\n"
     ]
    },
    {
     "name": "stderr",
     "output_type": "stream",
     "text": [
      "2022-07-06 09:38:43,563 - stpipe.Detector1Pipeline.refpix - INFO - Step skipped.\n"
     ]
    },
    {
     "name": "stderr",
     "output_type": "stream",
     "text": [
      "2022-07-06 09:38:43,565 - stpipe.Detector1Pipeline.refpix - INFO - Step refpix done\n"
     ]
    },
    {
     "name": "stderr",
     "output_type": "stream",
     "text": [
      "2022-07-06 09:38:43,695 - stpipe.Detector1Pipeline.jump - INFO - Step jump running with args (<RampModel(10, 10, 1024, 1032) from pipetest_miri_imtso_FULL_10g10i_F770W_b75_tso_saturation.fits>,).\n"
     ]
    },
    {
     "name": "stderr",
     "output_type": "stream",
     "text": [
      "2022-07-06 09:38:43,697 - stpipe.Detector1Pipeline.jump - INFO - Step jump parameters are: {'pre_hooks': [], 'post_hooks': [], 'output_file': '/internal/data1/jenkins/workspace/Notebooks/jwst_validation_notebooks_spacetelescope/tmp/tmp8dfgl36a/pipetest_miri_imtso_FULL_10g10i_F770W_b75_tso.fits', 'output_dir': None, 'output_ext': '.fits', 'output_use_model': False, 'output_use_index': True, 'save_results': False, 'skip': False, 'suffix': None, 'search_output_file': True, 'input_dir': '', 'rejection_threshold': 8.0, 'three_group_rejection_threshold': 6.0, 'four_group_rejection_threshold': 5.0, 'maximum_cores': 'none', 'flag_4_neighbors': True, 'max_jump_to_flag_neighbors': 1000.0, 'min_jump_to_flag_neighbors': 10.0}\n"
     ]
    },
    {
     "name": "stderr",
     "output_type": "stream",
     "text": [
      "2022-07-06 09:38:43,709 - stpipe.Detector1Pipeline.jump - INFO - CR rejection threshold = 8 sigma\n"
     ]
    },
    {
     "name": "stderr",
     "output_type": "stream",
     "text": [
      "2022-07-06 09:38:43,724 - stpipe.Detector1Pipeline.jump - INFO - Using GAIN reference file: /grp/crds/cache/references/jwst/jwst_miri_gain_0008.fits\n"
     ]
    },
    {
     "name": "stderr",
     "output_type": "stream",
     "text": [
      "2022-07-06 09:38:43,750 - stpipe.Detector1Pipeline.jump - INFO - Using READNOISE reference file: /internal/data1/jenkins/workspace/Notebooks/jwst_validation_notebooks_spacetelescope/tmp/tmp8dfgl36a/jwst_mirisim_readnoise.fits\n"
     ]
    },
    {
     "name": "stderr",
     "output_type": "stream",
     "text": [
      "2022-07-06 09:38:44,612 - stpipe.Detector1Pipeline.jump - INFO - Executing two-point difference method\n"
     ]
    },
    {
     "name": "stderr",
     "output_type": "stream",
     "text": [
      "2022-07-06 09:38:44,839 - stpipe.Detector1Pipeline.jump - INFO - Working on integration 1:\n"
     ]
    },
    {
     "name": "stderr",
     "output_type": "stream",
     "text": [
      "2022-07-06 09:38:45,705 - stpipe.Detector1Pipeline.jump - WARNING - /internal/data1/jenkins/workspace/Notebooks/jwst_validation_notebooks_spacetelescope/miniconda3/envs/jwst_validation_notebooks/lib/python3.10/site-packages/stcal/jump/twopoint_difference.py:128: RuntimeWarning: All-NaN slice encountered\n",
      "  max_ratio = np.nanmax(ratio, axis=0)\n",
      "\n"
     ]
    },
    {
     "name": "stderr",
     "output_type": "stream",
     "text": [
      "2022-07-06 09:38:45,745 - stpipe.Detector1Pipeline.jump - INFO - From highest outlier, two-point found 10534 pixels with at least one CR from five groups.\n"
     ]
    },
    {
     "name": "stderr",
     "output_type": "stream",
     "text": [
      "2022-07-06 09:38:45,747 - stpipe.Detector1Pipeline.jump - INFO - From highest outlier, two-point found 0 pixels with at least one CR from four groups.\n"
     ]
    },
    {
     "name": "stderr",
     "output_type": "stream",
     "text": [
      "2022-07-06 09:38:45,748 - stpipe.Detector1Pipeline.jump - INFO - From highest outlier, two-point found 0 pixels with at least one CR from three groups.\n"
     ]
    },
    {
     "name": "stderr",
     "output_type": "stream",
     "text": [
      "2022-07-06 09:38:47,619 - stpipe.Detector1Pipeline.jump - INFO - Working on integration 2:\n"
     ]
    },
    {
     "name": "stderr",
     "output_type": "stream",
     "text": [
      "2022-07-06 09:38:48,596 - stpipe.Detector1Pipeline.jump - INFO - From highest outlier, two-point found 3590 pixels with at least one CR from five groups.\n"
     ]
    },
    {
     "name": "stderr",
     "output_type": "stream",
     "text": [
      "2022-07-06 09:38:48,597 - stpipe.Detector1Pipeline.jump - INFO - From highest outlier, two-point found 0 pixels with at least one CR from four groups.\n"
     ]
    },
    {
     "name": "stderr",
     "output_type": "stream",
     "text": [
      "2022-07-06 09:38:48,598 - stpipe.Detector1Pipeline.jump - INFO - From highest outlier, two-point found 0 pixels with at least one CR from three groups.\n"
     ]
    },
    {
     "name": "stderr",
     "output_type": "stream",
     "text": [
      "2022-07-06 09:38:49,276 - stpipe.Detector1Pipeline.jump - INFO - Working on integration 3:\n"
     ]
    },
    {
     "name": "stderr",
     "output_type": "stream",
     "text": [
      "2022-07-06 09:38:50,236 - stpipe.Detector1Pipeline.jump - INFO - From highest outlier, two-point found 3692 pixels with at least one CR from five groups.\n"
     ]
    },
    {
     "name": "stderr",
     "output_type": "stream",
     "text": [
      "2022-07-06 09:38:50,238 - stpipe.Detector1Pipeline.jump - INFO - From highest outlier, two-point found 0 pixels with at least one CR from four groups.\n"
     ]
    },
    {
     "name": "stderr",
     "output_type": "stream",
     "text": [
      "2022-07-06 09:38:50,239 - stpipe.Detector1Pipeline.jump - INFO - From highest outlier, two-point found 0 pixels with at least one CR from three groups.\n"
     ]
    },
    {
     "name": "stderr",
     "output_type": "stream",
     "text": [
      "2022-07-06 09:38:50,936 - stpipe.Detector1Pipeline.jump - INFO - Working on integration 4:\n"
     ]
    },
    {
     "name": "stderr",
     "output_type": "stream",
     "text": [
      "2022-07-06 09:38:51,909 - stpipe.Detector1Pipeline.jump - INFO - From highest outlier, two-point found 3696 pixels with at least one CR from five groups.\n"
     ]
    },
    {
     "name": "stderr",
     "output_type": "stream",
     "text": [
      "2022-07-06 09:38:51,911 - stpipe.Detector1Pipeline.jump - INFO - From highest outlier, two-point found 0 pixels with at least one CR from four groups.\n"
     ]
    },
    {
     "name": "stderr",
     "output_type": "stream",
     "text": [
      "2022-07-06 09:38:51,911 - stpipe.Detector1Pipeline.jump - INFO - From highest outlier, two-point found 0 pixels with at least one CR from three groups.\n"
     ]
    },
    {
     "name": "stderr",
     "output_type": "stream",
     "text": [
      "2022-07-06 09:38:52,613 - stpipe.Detector1Pipeline.jump - INFO - Working on integration 5:\n"
     ]
    },
    {
     "name": "stderr",
     "output_type": "stream",
     "text": [
      "2022-07-06 09:38:53,571 - stpipe.Detector1Pipeline.jump - INFO - From highest outlier, two-point found 3693 pixels with at least one CR from five groups.\n"
     ]
    },
    {
     "name": "stderr",
     "output_type": "stream",
     "text": [
      "2022-07-06 09:38:53,573 - stpipe.Detector1Pipeline.jump - INFO - From highest outlier, two-point found 0 pixels with at least one CR from four groups.\n"
     ]
    },
    {
     "name": "stderr",
     "output_type": "stream",
     "text": [
      "2022-07-06 09:38:53,574 - stpipe.Detector1Pipeline.jump - INFO - From highest outlier, two-point found 0 pixels with at least one CR from three groups.\n"
     ]
    },
    {
     "name": "stderr",
     "output_type": "stream",
     "text": [
      "2022-07-06 09:38:54,281 - stpipe.Detector1Pipeline.jump - INFO - Working on integration 6:\n"
     ]
    },
    {
     "name": "stderr",
     "output_type": "stream",
     "text": [
      "2022-07-06 09:38:55,259 - stpipe.Detector1Pipeline.jump - INFO - From highest outlier, two-point found 3552 pixels with at least one CR from five groups.\n"
     ]
    },
    {
     "name": "stderr",
     "output_type": "stream",
     "text": [
      "2022-07-06 09:38:55,261 - stpipe.Detector1Pipeline.jump - INFO - From highest outlier, two-point found 0 pixels with at least one CR from four groups.\n"
     ]
    },
    {
     "name": "stderr",
     "output_type": "stream",
     "text": [
      "2022-07-06 09:38:55,262 - stpipe.Detector1Pipeline.jump - INFO - From highest outlier, two-point found 0 pixels with at least one CR from three groups.\n"
     ]
    },
    {
     "name": "stderr",
     "output_type": "stream",
     "text": [
      "2022-07-06 09:38:55,948 - stpipe.Detector1Pipeline.jump - INFO - Working on integration 7:\n"
     ]
    },
    {
     "name": "stderr",
     "output_type": "stream",
     "text": [
      "2022-07-06 09:38:56,920 - stpipe.Detector1Pipeline.jump - INFO - From highest outlier, two-point found 3641 pixels with at least one CR from five groups.\n"
     ]
    },
    {
     "name": "stderr",
     "output_type": "stream",
     "text": [
      "2022-07-06 09:38:56,922 - stpipe.Detector1Pipeline.jump - INFO - From highest outlier, two-point found 0 pixels with at least one CR from four groups.\n"
     ]
    },
    {
     "name": "stderr",
     "output_type": "stream",
     "text": [
      "2022-07-06 09:38:56,923 - stpipe.Detector1Pipeline.jump - INFO - From highest outlier, two-point found 0 pixels with at least one CR from three groups.\n"
     ]
    },
    {
     "name": "stderr",
     "output_type": "stream",
     "text": [
      "2022-07-06 09:38:57,626 - stpipe.Detector1Pipeline.jump - INFO - Working on integration 8:\n"
     ]
    },
    {
     "name": "stderr",
     "output_type": "stream",
     "text": [
      "2022-07-06 09:38:58,597 - stpipe.Detector1Pipeline.jump - INFO - From highest outlier, two-point found 3687 pixels with at least one CR from five groups.\n"
     ]
    },
    {
     "name": "stderr",
     "output_type": "stream",
     "text": [
      "2022-07-06 09:38:58,598 - stpipe.Detector1Pipeline.jump - INFO - From highest outlier, two-point found 0 pixels with at least one CR from four groups.\n"
     ]
    },
    {
     "name": "stderr",
     "output_type": "stream",
     "text": [
      "2022-07-06 09:38:58,600 - stpipe.Detector1Pipeline.jump - INFO - From highest outlier, two-point found 0 pixels with at least one CR from three groups.\n"
     ]
    },
    {
     "name": "stderr",
     "output_type": "stream",
     "text": [
      "2022-07-06 09:38:59,322 - stpipe.Detector1Pipeline.jump - INFO - Working on integration 9:\n"
     ]
    },
    {
     "name": "stderr",
     "output_type": "stream",
     "text": [
      "2022-07-06 09:39:00,351 - stpipe.Detector1Pipeline.jump - INFO - From highest outlier, two-point found 3579 pixels with at least one CR from five groups.\n"
     ]
    },
    {
     "name": "stderr",
     "output_type": "stream",
     "text": [
      "2022-07-06 09:39:00,353 - stpipe.Detector1Pipeline.jump - INFO - From highest outlier, two-point found 0 pixels with at least one CR from four groups.\n"
     ]
    },
    {
     "name": "stderr",
     "output_type": "stream",
     "text": [
      "2022-07-06 09:39:00,354 - stpipe.Detector1Pipeline.jump - INFO - From highest outlier, two-point found 0 pixels with at least one CR from three groups.\n"
     ]
    },
    {
     "name": "stderr",
     "output_type": "stream",
     "text": [
      "2022-07-06 09:39:01,053 - stpipe.Detector1Pipeline.jump - INFO - Working on integration 10:\n"
     ]
    },
    {
     "name": "stderr",
     "output_type": "stream",
     "text": [
      "2022-07-06 09:39:02,070 - stpipe.Detector1Pipeline.jump - INFO - From highest outlier, two-point found 3532 pixels with at least one CR from five groups.\n"
     ]
    },
    {
     "name": "stderr",
     "output_type": "stream",
     "text": [
      "2022-07-06 09:39:02,071 - stpipe.Detector1Pipeline.jump - INFO - From highest outlier, two-point found 0 pixels with at least one CR from four groups.\n"
     ]
    },
    {
     "name": "stderr",
     "output_type": "stream",
     "text": [
      "2022-07-06 09:39:02,072 - stpipe.Detector1Pipeline.jump - INFO - From highest outlier, two-point found 0 pixels with at least one CR from three groups.\n"
     ]
    },
    {
     "name": "stderr",
     "output_type": "stream",
     "text": [
      "2022-07-06 09:39:03,071 - stpipe.Detector1Pipeline.jump - INFO - Total elapsed time = 18.4568 sec\n"
     ]
    },
    {
     "name": "stderr",
     "output_type": "stream",
     "text": [
      "2022-07-06 09:39:03,074 - stpipe.Detector1Pipeline.jump - INFO - The execution time in seconds: 19.365849\n"
     ]
    },
    {
     "name": "stderr",
     "output_type": "stream",
     "text": [
      "2022-07-06 09:39:03,611 - stpipe.Detector1Pipeline.jump - INFO - Saved model in pipetest_miri_imtso_FULL_10g10i_F770W_b75_tso_jump.fits\n"
     ]
    },
    {
     "name": "stderr",
     "output_type": "stream",
     "text": [
      "2022-07-06 09:39:03,612 - stpipe.Detector1Pipeline.jump - INFO - Step jump done\n"
     ]
    },
    {
     "name": "stderr",
     "output_type": "stream",
     "text": [
      "2022-07-06 09:39:03,753 - stpipe.Detector1Pipeline.ramp_fit - INFO - Step ramp_fit running with args (<RampModel(10, 10, 1024, 1032) from pipetest_miri_imtso_FULL_10g10i_F770W_b75_tso_jump.fits>,).\n"
     ]
    },
    {
     "name": "stderr",
     "output_type": "stream",
     "text": [
      "2022-07-06 09:39:03,756 - stpipe.Detector1Pipeline.ramp_fit - INFO - Step ramp_fit parameters are: {'pre_hooks': [], 'post_hooks': [], 'output_file': '/internal/data1/jenkins/workspace/Notebooks/jwst_validation_notebooks_spacetelescope/tmp/tmp8dfgl36a/pipetest_miri_imtso_FULL_10g10i_F770W_b75_tso.fits', 'output_dir': None, 'output_ext': '.fits', 'output_use_model': False, 'output_use_index': True, 'save_results': False, 'skip': False, 'suffix': None, 'search_output_file': True, 'input_dir': '', 'int_name': '', 'save_opt': False, 'opt_name': '', 'suppress_one_group': True, 'maximum_cores': 'none'}\n"
     ]
    },
    {
     "name": "stderr",
     "output_type": "stream",
     "text": [
      "2022-07-06 09:39:03,779 - stpipe.Detector1Pipeline.ramp_fit - INFO - Using READNOISE reference file: /internal/data1/jenkins/workspace/Notebooks/jwst_validation_notebooks_spacetelescope/tmp/tmp8dfgl36a/jwst_mirisim_readnoise.fits\n"
     ]
    },
    {
     "name": "stderr",
     "output_type": "stream",
     "text": [
      "2022-07-06 09:39:03,780 - stpipe.Detector1Pipeline.ramp_fit - INFO - Using GAIN reference file: /grp/crds/cache/references/jwst/jwst_miri_gain_0008.fits\n"
     ]
    },
    {
     "name": "stderr",
     "output_type": "stream",
     "text": [
      "2022-07-06 09:39:03,832 - stpipe.Detector1Pipeline.ramp_fit - INFO - Using algorithm = ols\n"
     ]
    },
    {
     "name": "stderr",
     "output_type": "stream",
     "text": [
      "2022-07-06 09:39:03,833 - stpipe.Detector1Pipeline.ramp_fit - INFO - Using weighting = optimal\n"
     ]
    },
    {
     "name": "stderr",
     "output_type": "stream",
     "text": [
      "2022-07-06 09:39:04,513 - stpipe.Detector1Pipeline.ramp_fit - INFO - Number of leading groups that are flagged as DO_NOT_USE: 0\n"
     ]
    },
    {
     "name": "stderr",
     "output_type": "stream",
     "text": [
      "2022-07-06 09:40:39,081 - stpipe.Detector1Pipeline.ramp_fit - INFO - Number of groups per integration: 10\n"
     ]
    },
    {
     "name": "stderr",
     "output_type": "stream",
     "text": [
      "2022-07-06 09:40:39,085 - stpipe.Detector1Pipeline.ramp_fit - INFO - Number of integrations: 10\n"
     ]
    },
    {
     "name": "stderr",
     "output_type": "stream",
     "text": [
      "2022-07-06 09:40:39,268 - stpipe.Detector1Pipeline.ramp_fit - INFO - Saved model in pipetest_miri_imtso_FULL_10g10i_F770W_b75_tso_0_ramp_fit.fits\n"
     ]
    },
    {
     "name": "stderr",
     "output_type": "stream",
     "text": [
      "2022-07-06 09:40:39,508 - stpipe.Detector1Pipeline.ramp_fit - INFO - Saved model in pipetest_miri_imtso_FULL_10g10i_F770W_b75_tso_1_ramp_fit.fits\n"
     ]
    },
    {
     "name": "stderr",
     "output_type": "stream",
     "text": [
      "2022-07-06 09:40:39,509 - stpipe.Detector1Pipeline.ramp_fit - INFO - Step ramp_fit done\n"
     ]
    },
    {
     "name": "stderr",
     "output_type": "stream",
     "text": [
      "2022-07-06 09:40:39,660 - stpipe.Detector1Pipeline.gain_scale - INFO - Step gain_scale running with args (<ImageModel(1024, 1032) from pipetest_miri_imtso_FULL_10g10i_F770W_b75_tso_0_ramp_fit.fits>,).\n"
     ]
    },
    {
     "name": "stderr",
     "output_type": "stream",
     "text": [
      "2022-07-06 09:40:39,662 - stpipe.Detector1Pipeline.gain_scale - INFO - Step gain_scale parameters are: {'pre_hooks': [], 'post_hooks': [], 'output_file': None, 'output_dir': None, 'output_ext': '.fits', 'output_use_model': False, 'output_use_index': True, 'save_results': False, 'skip': False, 'suffix': 'gain_scale', 'search_output_file': True, 'input_dir': ''}\n"
     ]
    },
    {
     "name": "stderr",
     "output_type": "stream",
     "text": [
      "2022-07-06 09:40:39,713 - stpipe.Detector1Pipeline.gain_scale - INFO - GAINFACT not found in gain reference file\n"
     ]
    },
    {
     "name": "stderr",
     "output_type": "stream",
     "text": [
      "2022-07-06 09:40:39,714 - stpipe.Detector1Pipeline.gain_scale - INFO - Step will be skipped\n"
     ]
    },
    {
     "name": "stderr",
     "output_type": "stream",
     "text": [
      "2022-07-06 09:40:39,719 - stpipe.Detector1Pipeline.gain_scale - INFO - Step gain_scale done\n"
     ]
    },
    {
     "name": "stderr",
     "output_type": "stream",
     "text": [
      "2022-07-06 09:40:39,834 - stpipe.Detector1Pipeline.gain_scale - INFO - Step gain_scale running with args (<CubeModel(10, 1024, 1032) from pipetest_miri_imtso_FULL_10g10i_F770W_b75_tso_1_ramp_fit.fits>,).\n"
     ]
    },
    {
     "name": "stderr",
     "output_type": "stream",
     "text": [
      "2022-07-06 09:40:39,836 - stpipe.Detector1Pipeline.gain_scale - INFO - Step gain_scale parameters are: {'pre_hooks': [], 'post_hooks': [], 'output_file': None, 'output_dir': None, 'output_ext': '.fits', 'output_use_model': False, 'output_use_index': True, 'save_results': False, 'skip': False, 'suffix': 'gain_scaleints', 'search_output_file': True, 'input_dir': ''}\n"
     ]
    },
    {
     "name": "stderr",
     "output_type": "stream",
     "text": [
      "2022-07-06 09:40:39,879 - stpipe.Detector1Pipeline.gain_scale - INFO - GAINFACT not found in gain reference file\n"
     ]
    },
    {
     "name": "stderr",
     "output_type": "stream",
     "text": [
      "2022-07-06 09:40:39,880 - stpipe.Detector1Pipeline.gain_scale - INFO - Step will be skipped\n"
     ]
    },
    {
     "name": "stderr",
     "output_type": "stream",
     "text": [
      "2022-07-06 09:40:39,885 - stpipe.Detector1Pipeline.gain_scale - INFO - Step gain_scale done\n"
     ]
    },
    {
     "name": "stderr",
     "output_type": "stream",
     "text": [
      "2022-07-06 09:40:40,128 - stpipe.Detector1Pipeline - INFO - Saved model in pipetest_miri_imtso_FULL_10g10i_F770W_b75_tso_rateints.fits\n"
     ]
    },
    {
     "name": "stderr",
     "output_type": "stream",
     "text": [
      "2022-07-06 09:40:40,129 - stpipe.Detector1Pipeline - INFO - ... ending calwebb_detector1\n"
     ]
    },
    {
     "name": "stderr",
     "output_type": "stream",
     "text": [
      "2022-07-06 09:40:40,131 - stpipe.Detector1Pipeline - INFO - Results used CRDS context: jwst_0913.pmap\n"
     ]
    },
    {
     "name": "stderr",
     "output_type": "stream",
     "text": [
      "2022-07-06 09:40:40,197 - stpipe.Detector1Pipeline - INFO - Saved model in pipetest_miri_imtso_FULL_10g10i_F770W_b75_tso_rate.fits\n"
     ]
    },
    {
     "name": "stderr",
     "output_type": "stream",
     "text": [
      "2022-07-06 09:40:40,198 - stpipe.Detector1Pipeline - INFO - Step Detector1Pipeline done\n"
     ]
    },
    {
     "name": "stdout",
     "output_type": "stream",
     "text": [
      "Detector 1 steps completed.\n"
     ]
    }
   ],
   "source": [
    "# Run detector1 pipeline\n",
    "\n",
    "# step parameters\n",
    "rej_thresh=8.0  # rejection threshold for jump step (higher for simulated data)\n",
    "    \n",
    "# set up pipeline parameters for input\n",
    "pipe1 = Detector1Pipeline()\n",
    "pipe1.jump.rejection_threshold = rej_thresh\n",
    "pipe1.saturation.override_saturation = satfile\n",
    "pipe1.jump.override_readnoise = readnoisefile\n",
    "pipe1.ramp_fit.override_readnoise = readnoisefile\n",
    "\n",
    "# skip steps to make it like 'tso1 config file'\n",
    "pipe1.ipc.skip = True\n",
    "pipe1.firstframe.skip = True\n",
    "pipe1.lastframe.skip = True\n",
    "    \n",
    "# Until MIRISim is updated, best to skip refpix step for simulated data\n",
    "pipe1.refpix.skip = True\n",
    "\n",
    "# check that header has needed keywords set\n",
    "        \n",
    "checkheaders(model)\n",
    "\n",
    "nints = model.meta.exposure.nints\n",
    "print('CRPIX1 = ',model.meta.wcsinfo.crpix1)\n",
    "print('CRPIX2 = ',model.meta.wcsinfo.crpix2)\n",
    "    \n",
    "# set up output file name\n",
    "base, remainder = filename.split('.')\n",
    "\n",
    "outname = base+tag\n",
    "print(outname)\n",
    "\n",
    "pipe1.saturation.output_file = outname+'.fits'\n",
    "pipe1.jump.output_file = outname+'.fits'    \n",
    "pipe1.ramp_fit.output_file = outname+'.fits'\n",
    "pipe1.output_file = outname+'.fits'\n",
    "            \n",
    "# Run pipeline on each file\n",
    "pipe1.run(model) \n",
    "\n",
    "print('Detector 1 steps completed.')"
   ]
  },
  {
   "cell_type": "code",
   "execution_count": 8,
   "metadata": {
    "execution": {
     "iopub.execute_input": "2022-07-06T13:40:40.204644Z",
     "iopub.status.busy": "2022-07-06T13:40:40.204437Z",
     "iopub.status.idle": "2022-07-06T13:40:40.209784Z",
     "shell.execute_reply": "2022-07-06T13:40:40.209038Z"
    }
   },
   "outputs": [
    {
     "name": "stdout",
     "output_type": "stream",
     "text": [
      "pipetest_miri_imtso_FULL_10g10i_F770W_b75_tso\n"
     ]
    }
   ],
   "source": [
    "print(outname)"
   ]
  },
  {
   "cell_type": "markdown",
   "metadata": {},
   "source": [
    "<a id=\"examine_data\"></a>\n",
    "## Examine input and output data"
   ]
  },
  {
   "cell_type": "markdown",
   "metadata": {},
   "source": [
    "### Take a look at the input data\n",
    "* Look at the last frame\n",
    "* plot a pixel up the ramp from the source\n",
    "* plot a pixel up the ramp from the background"
   ]
  },
  {
   "cell_type": "code",
   "execution_count": 9,
   "metadata": {
    "execution": {
     "iopub.execute_input": "2022-07-06T13:40:40.213441Z",
     "iopub.status.busy": "2022-07-06T13:40:40.213239Z",
     "iopub.status.idle": "2022-07-06T13:40:40.553131Z",
     "shell.execute_reply": "2022-07-06T13:40:40.552469Z"
    }
   },
   "outputs": [
    {
     "data": {
      "image/png": "[encoded data removed]",
      "text/plain": [
       "<Figure size 864x288 with 4 Axes>"
      ]
     },
     "metadata": {
      "needs_background": "light"
     },
     "output_type": "display_data"
    }
   ],
   "source": [
    "sci_data = model.data\n",
    "\n",
    "ngroups = model.meta.exposure.ngroups\n",
    "nints = model.meta.exposure.nints\n",
    "\n",
    "# identify a science pixel\n",
    "sci_px = [512, 692]\n",
    "\n",
    "# identify a pixel in blank sky\n",
    "bgr_px = [560, 915]\n",
    "\n",
    "fig, ax = plt.subplots(nrows=1, ncols=3, figsize=[12,4])\n",
    "\n",
    "# plot 1: frame[-1] in the first integration\n",
    "lastgrp = ax[0].imshow(sci_data[0,ngroups-1,:,:], origin='lower', interpolation='None', aspect='equal', cmap='Greys',\n",
    "                      vmin=10000, vmax=12000)\n",
    "ax[0].scatter(sci_px[1], sci_px[0], marker='x', color='r', label='sci pixel')\n",
    "ax[0].scatter(bgr_px[1], bgr_px[0], marker='+', color='y', label='bgr pixel')\n",
    "ax[0].set_title('Group {} Int 0'.format(ngroups-1))\n",
    "ax[0].set_xlabel('px')\n",
    "ax[0].set_ylabel('px')\n",
    "\n",
    "# plot 2: pixel slope, spectrum\n",
    "\n",
    "ax[1].set_title('Slopes, sci pixel (red x)')\n",
    "for i in range(nints):\n",
    "    ax[1].plot(sci_data[i, :, sci_px[0], sci_px[1]])\n",
    "ax[1].set_xlabel('integration')\n",
    "ax[1].set_ylabel('DN')\n",
    "\n",
    "# plot 3: pixel slope, background\n",
    "\n",
    "ax[2].set_title('Slopes, bgr pixel (yellow +)')\n",
    "for i in range(nints):\n",
    "    ax[2].plot(sci_data[i, :, bgr_px[0], bgr_px[1]])\n",
    "ax[2].set_xlabel('integration')\n",
    "ax[2].set_ylabel('DN')\n",
    "\n",
    "fig.colorbar(lastgrp, ax=ax[0])\n",
    "fig.tight_layout()"
   ]
  },
  {
   "cell_type": "markdown",
   "metadata": {},
   "source": [
    "## Test individual output"
   ]
  },
  {
   "cell_type": "markdown",
   "metadata": {},
   "source": [
    "### Test Saturation output\n",
    "\n",
    "The saturation step should flag any saturated pixels in the DQ extension. We check this here by stepping through each integration and looking at the pixel values in a 25 x 25 px box, and checking the maximum counts against the groupdq attribute of the saturation output model. \n",
    "\n",
    "The code below should check that pixels with counts > satvalue are flagged, and report an error if the groupdq flag is incorrect."
   ]
  },
  {
   "cell_type": "code",
   "execution_count": 10,
   "metadata": {
    "execution": {
     "iopub.execute_input": "2022-07-06T13:40:40.564430Z",
     "iopub.status.busy": "2022-07-06T13:40:40.563927Z",
     "iopub.status.idle": "2022-07-06T13:40:40.980554Z",
     "shell.execute_reply": "2022-07-06T13:40:40.979840Z"
    },
    "scrolled": true
   },
   "outputs": [
    {
     "name": "stdout",
     "output_type": "stream",
     "text": [
      "Saturation level is:  55000  counts.\n",
      "\n",
      "Max value in 25x25 box around star position:  56628.0\n",
      "Saturation detected in last frame of integration:  0\n",
      "\n",
      "Max value in 25x25 box around star position:  52538.0\n",
      "No pixels saturate in last frame of integration:  1\n",
      "\n",
      "Max value in 25x25 box around star position:  53514.0\n",
      "No pixels saturate in last frame of integration:  2\n",
      "\n",
      "Max value in 25x25 box around star position:  53382.0\n",
      "No pixels saturate in last frame of integration:  3\n",
      "\n",
      "Max value in 25x25 box around star position:  53313.0\n",
      "No pixels saturate in last frame of integration:  4\n",
      "\n",
      "Max value in 25x25 box around star position:  53363.0\n",
      "No pixels saturate in last frame of integration:  5\n",
      "\n",
      "Max value in 25x25 box around star position:  53398.0\n",
      "No pixels saturate in last frame of integration:  6\n",
      "\n",
      "Max value in 25x25 box around star position:  53399.0\n",
      "No pixels saturate in last frame of integration:  7\n",
      "\n",
      "Max value in 25x25 box around star position:  53423.0\n",
      "No pixels saturate in last frame of integration:  8\n",
      "\n",
      "Max value in 25x25 box around star position:  53428.0\n",
      "No pixels saturate in last frame of integration:  9\n"
     ]
    }
   ],
   "source": [
    "# read in file output from saturation step\n",
    "\n",
    "with RampModel(outname+'_saturation.fits') as satmodel:\n",
    "    # raises exception if file is not the correct model\n",
    "    data = satmodel.data\n",
    "    satdq = satmodel.groupdq\n",
    "\n",
    "satvalue = 55000\n",
    "print('Saturation level is: ', satvalue, ' counts.')\n",
    "\n",
    "# Test last frame of each integration for saturation and see if it was flagged.\n",
    "\n",
    "ngroups = model.meta.exposure.ngroups\n",
    "nints = model.meta.exposure.nints\n",
    "\n",
    "for integration in range(nints):\n",
    "    # check last frame for saturation in region of star\n",
    "    box = data[integration, ngroups-1 , 500:525, 680:705]\n",
    "    print()\n",
    "    print('Max value in 25x25 box around star position: ',np.nanmax(box))\n",
    "    satframe = satdq[integration, ngroups-1, 500:525, 680:705 ]\n",
    "    \n",
    "    satpix = (box >= satvalue)\n",
    "\n",
    "    # if pixels greater than value, then check that they are flagged\n",
    "    if satpix.any():\n",
    "        print('Saturation detected in last frame of integration: ', integration)\n",
    "        assert np.all(satframe[satpix] == dqflags.group['SATURATED'])\n",
    "    else:\n",
    "        print('No pixels saturate in last frame of integration: ', integration)"
   ]
  },
  {
   "cell_type": "markdown",
   "metadata": {},
   "source": [
    "### Look at plots of output\n",
    "Compare the slope image from the _rate output file to the median of the slopes of the _rateints file. They should be similar in appearance and flux levels."
   ]
  },
  {
   "cell_type": "code",
   "execution_count": 11,
   "metadata": {
    "execution": {
     "iopub.execute_input": "2022-07-06T13:40:40.984523Z",
     "iopub.status.busy": "2022-07-06T13:40:40.984134Z",
     "iopub.status.idle": "2022-07-06T13:40:41.873220Z",
     "shell.execute_reply": "2022-07-06T13:40:41.872577Z"
    }
   },
   "outputs": [
    {
     "name": "stdout",
     "output_type": "stream",
     "text": [
      "Max DN/s in the rate.fits slope image: 1810.6153564453125 DN/s\n"
     ]
    },
    {
     "name": "stdout",
     "output_type": "stream",
     "text": [
      "Max DN/s of the median of the rateints.fits slope images: 1811.336669921875 DN/s\n"
     ]
    },
    {
     "data": {
      "image/png": "[encoded data removed]",
      "text/plain": [
       "<Figure size 576x720 with 3 Axes>"
      ]
     },
     "metadata": {
      "needs_background": "light"
     },
     "output_type": "display_data"
    }
   ],
   "source": [
    "# this plot will compare the slope image from the _rate file with the median of the slope images in the rateints file\n",
    "# check criterion: they should look similar and the maximim values seen in both these images should be similar\n",
    "\n",
    "#with ImageModel(outname+'_rate.fits') as rmod:\n",
    "    # raises exception if file is not the correct model\n",
    "#    rdata = rmod.data\n",
    " \n",
    "#with CubeModel(outname+'_rateints.fits') as rimod:\n",
    "    # raises exception if file is not the correct model\n",
    "#    rimoddata = rimod.data\n",
    "\n",
    "rmod = ImageModel(outname+'_rate.fits')\n",
    "rdata = rmod.data\n",
    "rimod = CubeModel(outname+'_rateints.fits')\n",
    "rimoddata = rimod.data\n",
    "\n",
    "fig, ax = plt.subplots(nrows=1, ncols=2, figsize=[8,10])\n",
    "\n",
    "rplt = ax[0].imshow(rdata, origin='lower', aspect='equal', interpolation='None', vmin=0, vmax=10)\n",
    "ax[0].set_title('Integrated rate file slope image')\n",
    "ax[0].set_xlabel('px')\n",
    "ax[0].set_ylabel('px')\n",
    "\n",
    "riplt = ax[1].imshow(np.median(rimoddata, axis=0), origin='lower', aspect='equal', interpolation='None',\n",
    "                    vmin=0, vmax=10)\n",
    "ax[1].set_title('Median of rateints file slope images')\n",
    "ax[1].set_xlabel('px')\n",
    "ax[1].set_ylabel('px')\n",
    "\n",
    "cbar = fig.colorbar(rplt, ax=ax, orientation='horizontal')\n",
    "cbar.set_label('DN/s')\n",
    "#fig.tight_layout()\n",
    "\n",
    "print('Max DN/s in the rate.fits slope image: {} DN/s'.format(np.max(rdata)))\n",
    "print('Max DN/s of the median of the rateints.fits slope images: {} DN/s'.format(np.nanmax(np.median(rimoddata, axis=0))))"
   ]
  },
  {
   "cell_type": "markdown",
   "metadata": {},
   "source": [
    "### Test output of jump step to see if specified pixels (and their neighbors) were flagged\n",
    "\n",
    "In this step we check the output of the jump detection step. This looks at the pixels to which a CR hit was added above, and checks whether they were flagged. The threshold can be adjusted above, and the step re-run to check consistence with the input. "
   ]
  },
  {
   "cell_type": "code",
   "execution_count": 12,
   "metadata": {
    "execution": {
     "iopub.execute_input": "2022-07-06T13:40:41.880994Z",
     "iopub.status.busy": "2022-07-06T13:40:41.880781Z",
     "iopub.status.idle": "2022-07-06T13:40:42.302933Z",
     "shell.execute_reply": "2022-07-06T13:40:42.302229Z"
    }
   },
   "outputs": [
    {
     "name": "stdout",
     "output_type": "stream",
     "text": [
      "   xpos       ypos      crmag      avgcounts  pixflagged  neighborflagged \n",
      "\n",
      "     460      150         10        10084.64      False      False \n",
      "\n",
      "     480      150         25        10087.25      False      False \n",
      "\n",
      "     500      150         50        10087.82      False      False \n",
      "\n",
      "     520      150        100        10087.26       True      False \n",
      "\n",
      "     540      150        200        10087.80       True       True \n",
      "\n",
      "     560      150        500        10085.96       True       True \n",
      "\n",
      "     580      150       1000        10086.31       True       True \n",
      "\n"
     ]
    }
   ],
   "source": [
    "# load jump step output file\n",
    "with RampModel(outname+'_jump.fits') as jumpim:\n",
    "    # raises exception if file is not the correct model\n",
    "    jumpdata = jumpim.data\n",
    "    jumpdq = jumpim.groupdq\n",
    "    \n",
    "integration = 0\n",
    "frame = 5\n",
    "\n",
    "# look for cr flags in dq grpdq array in specified locations\n",
    "dqframe = jumpdq[integration, frame, :, :]\n",
    "\n",
    "# print output on which fluxes had neighbors flagged\n",
    "# output should include pixel coord, average pixel value nearby, cr value, whether neighbors were flagged\n",
    "print('   xpos       ypos      crmag      avgcounts  pixflagged  neighborflagged \\n')\n",
    "for x, y, crmag in zip(xpos, ypos, crmags):\n",
    "    # check if pixel is flagged\n",
    "    # set default flag\n",
    "    pixflagged = False\n",
    "    neighborflagged = False\n",
    "\n",
    "    # get stats on flux values near cr hit\n",
    "    avgcounts = np.mean(jumpdata[integration, frame, y - 10: y - 5, x - 10: x - 5])\n",
    "\n",
    "    if dqframe[y, x] & dqflags.pixel['JUMP_DET'] > 0:\n",
    "        pixflagged = True\n",
    "        # check neighbor pixels\n",
    "        if ((dqframe[y + 1, x] & dqflags.pixel['JUMP_DET'] > 0) and\n",
    "            (dqframe[y - 1, x] & dqflags.pixel['JUMP_DET'] > 0) and\n",
    "            (dqframe[y, x + 1] & dqflags.pixel['JUMP_DET'] > 0) and\n",
    "            (dqframe[y, x - 1] & dqflags.pixel['JUMP_DET'] > 0)):\n",
    "                neighborflagged = True\n",
    "\n",
    "    # write output\n",
    "    print('{:8.0f} {:8.0f} {:10.0f} {:15.2f} {:>10} {:>10} \\n'.format(x, y, crmag, avgcounts, str(pixflagged), \n",
    "                                                                      str(neighborflagged)))"
   ]
  },
  {
   "cell_type": "code",
   "execution_count": 13,
   "metadata": {
    "execution": {
     "iopub.execute_input": "2022-07-06T13:40:42.308529Z",
     "iopub.status.busy": "2022-07-06T13:40:42.307829Z",
     "iopub.status.idle": "2022-07-06T13:40:42.402214Z",
     "shell.execute_reply": "2022-07-06T13:40:42.401545Z"
    }
   },
   "outputs": [
    {
     "data": {
      "image/png": "[encoded data removed]",
      "text/plain": [
       "<Figure size 432x288 with 1 Axes>"
      ]
     },
     "metadata": {
      "needs_background": "light"
     },
     "output_type": "display_data"
    }
   ],
   "source": [
    "# plot data to see what is being flagged\n",
    "i=10\n",
    "nframes = model.meta.exposure.ngroups\n",
    "frames = np.arange(nframes)\n",
    "\n",
    "# set up titles for plot\n",
    "plt.xlabel('Frame number')\n",
    "plt.ylabel('DN value up the ramp')\n",
    "\n",
    "for x, y in zip(xpos, ypos):\n",
    "    # get locations of flagged pixels within the ramps\n",
    "    jumps = jumpdq[integration, :, y, x] & dqflags.pixel['JUMP_DET'] > 0\n",
    "    ramp = jumpdata[integration, :, y, x]\n",
    "\n",
    "    # plot ramps of selected pixels and flagged jumps\n",
    "    plt.plot(ramp+i*10)\n",
    "    plt.plot(frames[jumps], ramp[jumps]+i*10, color='r', marker='o')\n",
    "    i = i+10\n",
    "\n",
    "#plt.legend()\n",
    "plt.show()"
   ]
  },
  {
   "cell_type": "code",
   "execution_count": 14,
   "metadata": {
    "execution": {
     "iopub.execute_input": "2022-07-06T13:40:42.404822Z",
     "iopub.status.busy": "2022-07-06T13:40:42.404612Z",
     "iopub.status.idle": "2022-07-06T13:40:42.476198Z",
     "shell.execute_reply": "2022-07-06T13:40:42.475546Z"
    }
   },
   "outputs": [
    {
     "data": {
      "image/png": "[encoded data removed]",
      "text/plain": [
       "<Figure size 432x288 with 1 Axes>"
      ]
     },
     "metadata": {
      "needs_background": "light"
     },
     "output_type": "display_data"
    }
   ],
   "source": [
    "# show region of dq array to see if cross pixels were flagged \n",
    "data = jumpdq[integration, frame, 140:160, 440:600]\n",
    "plt.imshow(data, cmap='Greys', origin='lower', vmin=0,vmax=5)\n",
    "plt.show()"
   ]
  },
  {
   "cell_type": "markdown",
   "metadata": {},
   "source": [
    "### RSCD testing\n",
    "The RSCD step at the moment simply flags frames as 'DO_NOT_USE' in the groupdq array to avoid the frames that show the rscd effect being used for ramp fitting.\n",
    "\n",
    "For FULL frame FAST mode data, the RSCD reference file indicates that the first four frames in all integrations greater than 1 (or 0 for 0-indexing), should be flagged as 'DO_NOT_USE', which is indicated by a value 1 in the groupdq array. If the value of the flag in the frame is odd, then this frame has been correctly flagged."
   ]
  },
  {
   "cell_type": "code",
   "execution_count": 15,
   "metadata": {
    "execution": {
     "iopub.execute_input": "2022-07-06T13:40:42.481736Z",
     "iopub.status.busy": "2022-07-06T13:40:42.481503Z",
     "iopub.status.idle": "2022-07-06T13:40:42.485907Z",
     "shell.execute_reply": "2022-07-06T13:40:42.485380Z"
    }
   },
   "outputs": [
    {
     "name": "stdout",
     "output_type": "stream",
     "text": [
      "[[0 0 0 0 0 0 0 0 0 0]\n",
      " [1 1 1 1 0 0 0 0 0 0]\n",
      " [1 1 1 1 0 0 0 0 0 0]\n",
      " [1 1 1 1 0 0 0 0 0 0]\n",
      " [1 1 1 1 0 0 0 0 0 0]\n",
      " [1 1 1 1 0 0 0 0 0 0]\n",
      " [1 1 1 1 0 0 0 0 0 0]\n",
      " [1 1 1 1 0 0 0 0 0 0]\n",
      " [1 1 1 1 0 0 0 0 0 0]\n",
      " [1 1 1 1 0 0 0 0 0 0]]\n"
     ]
    }
   ],
   "source": [
    "# Use the groupdq output of the jump step to test whether the proper frames are flagged.\n",
    "# Choose any pixel in the frame (500, 500) to test, since they should all be flagged the same.\n",
    "\n",
    "print(jumpdq[:,:,500,500])"
   ]
  },
  {
   "cell_type": "markdown",
   "metadata": {},
   "source": [
    "<a id=\"about_ID\"></a>\n",
    "## About this Notebook\n",
    "**Author:** Misty Cracraft, Senior Staff Scientist, MIRI Branch\n",
    "<br>**Updated On:** 07/28/2020"
   ]
  }
 ],
 "metadata": {
  "kernelspec": {
   "display_name": "Python 3 (ipykernel)",
   "language": "python",
   "name": "python3"
  },
  "language_info": {
   "codemirror_mode": {
    "name": "ipython",
    "version": 3
   },
   "file_extension": ".py",
   "mimetype": "text/x-python",
   "name": "python",
   "nbconvert_exporter": "python",
   "pygments_lexer": "ipython3",
   "version": "3.10.5"
  }
 },
 "nbformat": 4,
 "nbformat_minor": 4
}
