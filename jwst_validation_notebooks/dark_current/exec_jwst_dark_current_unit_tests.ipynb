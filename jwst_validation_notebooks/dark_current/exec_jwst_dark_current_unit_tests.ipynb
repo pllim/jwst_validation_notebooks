{
 "cells": [
  {
   "cell_type": "markdown",
   "metadata": {},
   "source": [
    "<a id=\"title_ID\"></a>\n",
    "# JWST Pipeline Validation Notebook: calwebb_detector1, dark_current unit tests\n",
    "\n",
    "<span style=\"color:red\"> **Instruments Affected**</span>: NIRCam, NIRISS, NIRSpec, MIRI, FGS\n",
    "\n",
    "### Table of Contents\n",
    "\n",
    "<div style=\"text-align: left\"> \n",
    "    \n",
    "<br> [Introduction](#intro)\n",
    "<br> [JWST Unit Tests](#unit)\n",
    "<br> [Defining Terms](#terms)\n",
    "<br> [Test Description](#description)\n",
    "<br> [Data Description](#data_descr)\n",
    "<br> [Imports](#imports)\n",
    "<br> [Convenience Functions](#functions)\n",
    "<br> [Perform Tests](#testing) \n",
    "<br> [About This Notebook](#about)\n",
    "<br>    \n",
    "\n",
    "</div>"
   ]
  },
  {
   "cell_type": "markdown",
   "metadata": {},
   "source": [
    "<a id=\"intro\"></a>\n",
    "# Introduction\n",
    "\n",
    "This is the validation notebook that displays the unit tests for the Dark Current step in calwebb_detector1. This notebook runs and displays the unit tests that are performed as a part of the normal software continuous integration process. For more information on the pipeline visit the links below. \n",
    "\n",
    "* Pipeline description: https://jwst-pipeline.readthedocs.io/en/latest/jwst/dark_current/index.html\n",
    "\n",
    "* Pipeline code: https://github.com/spacetelescope/jwst/tree/master/jwst/\n",
    "\n",
    "[Top of Page](#title_ID)"
   ]
  },
  {
   "cell_type": "markdown",
   "metadata": {},
   "source": [
    "<a id=\"unit\"></a>\n",
    "# JWST Unit Tests\n",
    "\n",
    "JWST unit tests are located in the \"tests\" folder for each pipeline step within the [GitHub repository](https://github.com/spacetelescope/jwst/tree/master/jwst/), e.g., ```jwst/dark_current/tests```.\n",
    "\n",
    "* Unit test README: https://github.com/spacetelescope/jwst#unit-tests\n",
    "\n",
    "\n",
    "[Top of Page](#title_ID)"
   ]
  },
  {
   "cell_type": "markdown",
   "metadata": {},
   "source": [
    "<a id=\"terms\"></a>\n",
    "# Defining Terms\n",
    "\n",
    "These are terms or acronymns used in this notebook that may not be known a general audience.\n",
    "\n",
    "* JWST: James Webb Space Telescope\n",
    "\n",
    "* NIRCam: Near-Infrared Camera\n",
    "\n",
    "\n",
    "[Top of Page](#title_ID)"
   ]
  },
  {
   "cell_type": "markdown",
   "metadata": {},
   "source": [
    "<a id=\"description\"></a>\n",
    "# Test Description\n",
    "\n",
    "Unit testing is a software testing method by which individual units of source code are tested to determine whether they are working sufficiently well. Unit tests do not require a separate data file; the test creates the necessary test data and parameters as a part of the test code. \n",
    "\n",
    "\n",
    "[Top of Page](#title_ID)"
   ]
  },
  {
   "cell_type": "markdown",
   "metadata": {},
   "source": [
    "<a id=\"data_descr\"></a>\n",
    "# Data Description\n",
    "\n",
    "Data used for unit tests is created on the fly within the test itself, and is typically an array in the expected format of JWST data with added metadata needed to run through the pipeline. \n",
    "\n",
    "\n",
    "[Top of Page](#title_ID)"
   ]
  },
  {
   "cell_type": "markdown",
   "metadata": {},
   "source": [
    "<a id=\"imports\"></a>\n",
    "# Imports\n",
    "\n",
    "* tempfile for creating temporary output products\n",
    "* pytest for unit test functions\n",
    "* jwst for the JWST Pipeline\n",
    "* IPython.display for display pytest reports\n",
    "\n",
    "[Top of Page](#title_ID)"
   ]
  },
  {
   "cell_type": "code",
   "execution_count": 1,
   "metadata": {
    "execution": {
     "iopub.execute_input": "2022-07-06T19:13:27.037067Z",
     "iopub.status.busy": "2022-07-06T19:13:27.036479Z",
     "iopub.status.idle": "2022-07-06T19:13:27.054224Z",
     "shell.execute_reply": "2022-07-06T19:13:27.052967Z"
    }
   },
   "outputs": [
    {
     "name": "stdout",
     "output_type": "stream",
     "text": [
      "CRDS cache location: /grp/crds/cache\n"
     ]
    }
   ],
   "source": [
    "import os\n",
    "if 'CRDS_CACHE_TYPE' in os.environ:\n",
    "    if os.environ['CRDS_CACHE_TYPE'] == 'local':\n",
    "        os.environ['CRDS_PATH'] = os.path.join(os.environ['HOME'], 'crds', 'cache')\n",
    "    elif os.path.isdir(os.environ['CRDS_CACHE_TYPE']):\n",
    "        os.environ['CRDS_PATH'] = os.environ['CRDS_CACHE_TYPE']\n",
    "print('CRDS cache location: {}'.format(os.environ['CRDS_PATH']))"
   ]
  },
  {
   "cell_type": "code",
   "execution_count": 2,
   "metadata": {
    "execution": {
     "iopub.execute_input": "2022-07-06T19:13:27.058496Z",
     "iopub.status.busy": "2022-07-06T19:13:27.058281Z",
     "iopub.status.idle": "2022-07-06T19:13:27.131345Z",
     "shell.execute_reply": "2022-07-06T19:13:27.129898Z"
    }
   },
   "outputs": [],
   "source": [
    "import tempfile\n",
    "import pytest\n",
    "import jwst\n",
    "from IPython.display import IFrame"
   ]
  },
  {
   "cell_type": "markdown",
   "metadata": {},
   "source": [
    "<a id=\"functions\"></a>\n",
    "# Convenience Functions\n",
    "\n",
    "Here we define any convenience functions to help with running the unit tests. \n",
    "\n",
    "[Top of Page](#title_ID)"
   ]
  },
  {
   "cell_type": "code",
   "execution_count": 3,
   "metadata": {
    "execution": {
     "iopub.execute_input": "2022-07-06T19:13:27.136430Z",
     "iopub.status.busy": "2022-07-06T19:13:27.136014Z",
     "iopub.status.idle": "2022-07-06T19:13:27.141593Z",
     "shell.execute_reply": "2022-07-06T19:13:27.140277Z"
    }
   },
   "outputs": [],
   "source": [
    "def display_report(fname):\n",
    "    '''Convenience function to display pytest report.'''\n",
    "    \n",
    "    return IFrame(src=fname, width=700, height=600)"
   ]
  },
  {
   "cell_type": "markdown",
   "metadata": {},
   "source": [
    "<a id=\"testing\"></a>\n",
    "# Perform Tests\n",
    "\n",
    "Below we run the unit tests for the Dark Current step. \n",
    "\n",
    "[Top of Page](#title_ID)"
   ]
  },
  {
   "cell_type": "code",
   "execution_count": 4,
   "metadata": {
    "execution": {
     "iopub.execute_input": "2022-07-06T19:13:27.147683Z",
     "iopub.status.busy": "2022-07-06T19:13:27.146488Z",
     "iopub.status.idle": "2022-07-06T19:13:27.909356Z",
     "shell.execute_reply": "2022-07-06T19:13:27.907493Z"
    },
    "scrolled": false
   },
   "outputs": [
    {
     "name": "stdout",
     "output_type": "stream",
     "text": [
      "\u001b[1m============================= test session starts ==============================\u001b[0m\r\n",
      "platform linux -- Python 3.10.5, pytest-7.1.2, pluggy-1.0.0 -- /internal/data1/jenkins/workspace/Notebooks/jwst_validation_notebooks_spacetelescope/miniconda3/envs/jwst_validation_notebooks/bin/python\r\n",
      "cachedir: .pytest_cache\r\n",
      "metadata: {'Python': '3.10.5', 'Platform': 'Linux-3.10.0-1160.66.1.el7.x86_64-x86_64-with-glibc2.17', 'Packages': {'pytest': '7.1.2', 'py': '1.11.0', 'pluggy': '1.0.0'}, 'Plugins': {'metadata': '2.0.1', 'asdf': '2.12.0', 'html': '3.1.1', 'ci-watson': '0.6.1', 'jwst': '1.5.3'}, 'BUILD_NUMBER': '113', 'BUILD_ID': '113', 'BUILD_URL': 'https://plwishmaster.stsci.edu:8081/job/Notebooks/job/jwst_validation_notebooks_spacetelescope/113/', 'NODE_NAME': 'pljwvalnb.stsci.edu', 'JOB_NAME': 'Notebooks/jwst_validation_notebooks_spacetelescope', 'BUILD_TAG': 'jenkins-Notebooks-jwst_validation_notebooks_spacetelescope-113', 'EXECUTOR_NUMBER': '21', 'JENKINS_URL': 'https://plwishmaster.stsci.edu:8081/', 'WORKSPACE': '/internal/data1/jenkins/workspace/Notebooks/jwst_validation_notebooks_spacetelescope', 'GIT_COMMIT': '70ffb42f71ade1656f96080e6fe2147d145aff21', 'GIT_URL': 'https://github.com/spacetelescope/jwst_validation_notebooks', 'GIT_BRANCH': 'origin/master'}\r\n",
      "rootdir: /internal/data1/jenkins/workspace/Notebooks/jwst_validation_notebooks_spacetelescope/jwst_validation_notebooks/dark_current\r\n",
      "plugins: metadata-2.0.1, asdf-2.12.0, html-3.1.1, ci-watson-0.6.1, jwst-1.5.3\r\n",
      "\u001b[1mcollecting ... \u001b[0m\u001b[1m\r",
      "collected 0 items                                                              \u001b[0m\r\n",
      "\r\n",
      "- generated html file: file:///internal/data1/jenkins/workspace/Notebooks/jwst_validation_notebooks_spacetelescope/jwst_validation_notebooks/dark_current/tmpdir/unit_report.html -\r\n",
      "\u001b[33m============================ \u001b[33mno tests ran\u001b[0m\u001b[33m in 0.01s\u001b[0m\u001b[33m =============================\u001b[0m\r\n",
      "\u001b[31mERROR: file or directory not found: jwst/dark_current\r\n",
      "\u001b[0m\r\n"
     ]
    }
   ],
   "source": [
    "with tempfile.TemporaryDirectory() as tmpdir:\n",
    "    !pytest jwst/dark_current -v --ignore=jwst/associations --ignore=jwst/datamodels --ignore=jwst/stpipe --ignore=jwst/regtest --html=tmpdir/unit_report.html --self-contained-html\n",
    "    report = display_report('tmpdir/unit_report.html')"
   ]
  },
  {
   "cell_type": "code",
   "execution_count": 5,
   "metadata": {
    "execution": {
     "iopub.execute_input": "2022-07-06T19:13:27.916339Z",
     "iopub.status.busy": "2022-07-06T19:13:27.915777Z",
     "iopub.status.idle": "2022-07-06T19:13:27.933267Z",
     "shell.execute_reply": "2022-07-06T19:13:27.932277Z"
    }
   },
   "outputs": [
    {
     "data": {
      "text/html": [
       "\n",
       "        <iframe\n",
       "            width=\"700\"\n",
       "            height=\"600\"\n",
       "            src=\"tmpdir/unit_report.html\"\n",
       "            frameborder=\"0\"\n",
       "            allowfullscreen\n",
       "            \n",
       "        ></iframe>\n",
       "        "
      ],
      "text/plain": [
       "<IPython.lib.display.IFrame at 0x7f0eefb092a0>"
      ]
     },
     "execution_count": 5,
     "metadata": {},
     "output_type": "execute_result"
    }
   ],
   "source": [
    "report"
   ]
  },
  {
   "cell_type": "markdown",
   "metadata": {},
   "source": [
    "<a id=\"about\"></a>\n",
    "## About This Notebook\n",
    "**Author:** Alicia Canipe, Staff Scientist, NIRCam\n",
    "<br>**Updated On:** 01/07/2021"
   ]
  },
  {
   "cell_type": "markdown",
   "metadata": {},
   "source": [
    "[Top of Page](#title_ID)\n",
    "<img style=\"float: right;\" src=\"./stsci_pri_combo_mark_horizonal_white_bkgd.png\" alt=\"stsci_pri_combo_mark_horizonal_white_bkgd\" width=\"200px\"/> "
   ]
  }
 ],
 "metadata": {
  "kernelspec": {
   "display_name": "Python 3",
   "language": "python",
   "name": "python3"
  },
  "language_info": {
   "codemirror_mode": {
    "name": "ipython",
    "version": 3
   },
   "file_extension": ".py",
   "mimetype": "text/x-python",
   "name": "python",
   "nbconvert_exporter": "python",
   "pygments_lexer": "ipython3",
   "version": "3.10.5"
  }
 },
 "nbformat": 4,
 "nbformat_minor": 1
}
